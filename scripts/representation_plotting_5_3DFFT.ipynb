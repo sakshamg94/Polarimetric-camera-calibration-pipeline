{
 "cells": [
  {
   "cell_type": "code",
   "execution_count": 1,
   "metadata": {},
   "outputs": [],
   "source": [
    "import seaborn as sns\n",
    "import pandas as pd\n",
    "import pickle\n",
    "import numpy as np\n",
    "import os\n",
    "import matplotlib.pyplot as plt\n",
    "from mpl_toolkits.axes_grid1 import make_axes_locatable\n",
    "from tqdm import tqdm\n",
    "from mpl_toolkits import mplot3d\n",
    "import cv2\n",
    "import time\n",
    "from scipy.io import savemat"
   ]
  },
  {
   "cell_type": "code",
   "execution_count": 2,
   "metadata": {},
   "outputs": [
    {
     "name": "stdout",
     "output_type": "stream",
     "text": [
      "0.11.1\n"
     ]
    }
   ],
   "source": [
    "print(sns.__version__)"
   ]
  },
  {
   "cell_type": "markdown",
   "metadata": {},
   "source": [
    "histograms in seaborn here: https://www.machinelearningplus.com/plots/matplotlib-histogram-python-examples/"
   ]
  },
  {
   "cell_type": "code",
   "execution_count": 3,
   "metadata": {},
   "outputs": [],
   "source": [
    "save_location =  \"../FLIR_Camera\"\n",
    "pdfCombined_figs_location  = \"../FLIR_Camera/fastFlow_ShallowH_test1_centeredCame_flume_LookAngle_35Deg_PDFCOMBINED_FIGURES\""
   ]
  },
  {
   "cell_type": "code",
   "execution_count": 4,
   "metadata": {},
   "outputs": [],
   "source": [
    "BEDFORMS = ['corals', 'canopy', 'rocks', 'dunes']\n",
    "colors = {'corals':'dodgerblue','canopy':'green', 'rocks':'orange', 'dunes':'brown'}\n",
    "bed_data = {}\n",
    "bed = BEDFORMS[3]\n",
    "for BEDFORM in [bed]: #  manually change this bedform everywhere\n",
    "    data_filename = BEDFORM + \"_fastFlow_ShallowH_test1.pickle\"\n",
    "    with open(os.path.join(save_location,data_filename), 'rb') as handle:\n",
    "        all_data_dict_loaded = pickle.load(handle)\n",
    "    bed_data[BEDFORM] = all_data_dict_loaded"
   ]
  },
  {
   "cell_type": "markdown",
   "metadata": {},
   "source": [
    "## Save the 3D FFT (for x,y,t) to visualize using Slicing in Matlab"
   ]
  },
  {
   "cell_type": "code",
   "execution_count": 5,
   "metadata": {},
   "outputs": [],
   "source": [
    "for BEDFORM in [bed]:    \n",
    "    \n",
    "    s_hat_x = np.fft.fftn(bed_data[BEDFORM]['all_sx_maps'], axes = ([0,1,2]))\n",
    "    s_hat_x = np.fft.fftshift(s_hat_x)\n",
    "    s_hat_x_mag = (np.log(np.abs(s_hat_x)))**2\n",
    "\n",
    "    s_hat_y = np.fft.fftn(bed_data[BEDFORM]['all_sy_maps'], axes = ([0,1,2]))\n",
    "    s_hat_y = np.fft.fftshift(s_hat_y) # DC content at the center\n",
    "    s_hat_y_mag = (np.log(np.abs(s_hat_y)))**2\n",
    "    "
   ]
  },
  {
   "cell_type": "code",
   "execution_count": 6,
   "metadata": {},
   "outputs": [],
   "source": [
    "M,N,K = s_hat_x_mag.shape\n",
    "lim = 80 # total window aroun 0 frequency    \n",
    "s_hat_x_mag = s_hat_x_mag[M//2 - lim//2:M//2 + lim//2, N//2 - lim//2:N//2 + lim//2,:] \n",
    "s_hat_y_mag = s_hat_y_mag[M//2 - lim//2:M//2 + lim//2, N//2 - lim//2:N//2 + lim//2,:]    "
   ]
  },
  {
   "cell_type": "code",
   "execution_count": 7,
   "metadata": {},
   "outputs": [
    {
     "name": "stdout",
     "output_type": "stream",
     "text": [
      "(80, 80, 73)\n"
     ]
    }
   ],
   "source": [
    "print(s_hat_x_mag.shape)"
   ]
  },
  {
   "cell_type": "code",
   "execution_count": 8,
   "metadata": {},
   "outputs": [],
   "source": [
    "FreqCompRows = np.fft.fftfreq(s_hat_x.shape[0],d=1)\n",
    "FreqCompCols = np.fft.fftfreq(s_hat_x.shape[1],d=1)\n",
    "FreqCompVert = np.fft.fftfreq(s_hat_x.shape[2],d=1)\n",
    "FreqCompRows = np.fft.fftshift(FreqCompRows)[M//2 - lim//2:M//2 + lim//2]\n",
    "FreqCompCols = np.fft.fftshift(FreqCompCols)[N//2 - lim//2:N//2 + lim//2]\n",
    "FreqCompVert = np.fft.fftshift(FreqCompVert)\n",
    "\n",
    "R,C,V = np.meshgrid(FreqCompRows, FreqCompCols, FreqCompVert)"
   ]
  },
  {
   "cell_type": "code",
   "execution_count": 9,
   "metadata": {},
   "outputs": [
    {
     "name": "stdout",
     "output_type": "stream",
     "text": [
      "(80, 80, 73) (80,) (80,) (73,)\n"
     ]
    }
   ],
   "source": [
    "print(s_hat_x_mag.shape, FreqCompRows.shape, FreqCompCols.shape, FreqCompVert.shape)"
   ]
  },
  {
   "cell_type": "code",
   "execution_count": 10,
   "metadata": {},
   "outputs": [],
   "source": [
    "dic = {\"R\":R,\"C\":C,\"V\":V \\\n",
    "         ,\"FreqCompRows\":FreqCompRows, \"FreqCompCols\":FreqCompCols, \"FreqCompVert\":FreqCompVert\\\n",
    "        ,\"s_hat_x_mag\":s_hat_x_mag, \"s_hat_y_mag\":s_hat_y_mag\\\n",
    "        ,'BEDFORM':'dunes'}\n",
    "savemat('../FLIR_Camera/3DFFT_{}.mat'.format(bed),dic)"
   ]
  },
  {
   "cell_type": "code",
   "execution_count": null,
   "metadata": {},
   "outputs": [],
   "source": []
  }
 ],
 "metadata": {
  "kernelspec": {
   "display_name": "Python 3",
   "language": "python",
   "name": "python3"
  },
  "language_info": {
   "codemirror_mode": {
    "name": "ipython",
    "version": 3
   },
   "file_extension": ".py",
   "mimetype": "text/x-python",
   "name": "python",
   "nbconvert_exporter": "python",
   "pygments_lexer": "ipython3",
   "version": "3.7.3"
  }
 },
 "nbformat": 4,
 "nbformat_minor": 2
}
