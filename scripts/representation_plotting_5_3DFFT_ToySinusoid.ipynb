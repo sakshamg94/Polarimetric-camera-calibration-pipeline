{
 "cells": [
  {
   "cell_type": "code",
   "execution_count": 1,
   "metadata": {},
   "outputs": [],
   "source": [
    "import seaborn as sns\n",
    "import pandas as pd\n",
    "import pickle\n",
    "import numpy as np\n",
    "import os\n",
    "import matplotlib.pyplot as plt\n",
    "from mpl_toolkits.axes_grid1 import make_axes_locatable\n",
    "from tqdm import tqdm\n",
    "from mpl_toolkits import mplot3d\n",
    "import cv2\n",
    "import time\n",
    "from scipy.io import savemat"
   ]
  },
  {
   "cell_type": "code",
   "execution_count": 2,
   "metadata": {},
   "outputs": [
    {
     "name": "stdout",
     "output_type": "stream",
     "text": [
      "0.11.1\n"
     ]
    }
   ],
   "source": [
    "print(sns.__version__)"
   ]
  },
  {
   "cell_type": "markdown",
   "metadata": {},
   "source": [
    "## Plot pdf of the height field and slopes"
   ]
  },
  {
   "cell_type": "code",
   "execution_count": 3,
   "metadata": {},
   "outputs": [],
   "source": [
    "M,N,K = 200, 100, 73"
   ]
  },
  {
   "cell_type": "code",
   "execution_count": 4,
   "metadata": {},
   "outputs": [
    {
     "name": "stdout",
     "output_type": "stream",
     "text": [
      "(200, 100, 73) 200 100 73\n"
     ]
    },
    {
     "data": {
      "image/png": "[encoded data removed]",
      "text/plain": [
       "<Figure size 432x288 with 1 Axes>"
      ]
     },
     "metadata": {
      "needs_background": "light"
     },
     "output_type": "display_data"
    }
   ],
   "source": [
    "x = np.arange(M)\n",
    "y = np.arange(N)\n",
    "t = np.arange(K)\n",
    "X, Y, T = np.meshgrid(y,x, t)\n",
    "Z = np.sin(10*np.pi/M*Y + 2*T)\n",
    "Zy = np.zeros(Z.shape)\n",
    "Zx = np.cos(10*np.pi/M*Y + 2*T) * 10*np.pi/M\n",
    "plt.contourf(X[:,:,0],Y[:,:,0],Z[:,:,10])\n",
    "print(Z.shape, M, N, K)"
   ]
  },
  {
   "cell_type": "code",
   "execution_count": 5,
   "metadata": {},
   "outputs": [
    {
     "name": "stderr",
     "output_type": "stream",
     "text": [
      "C:\\ProgramData\\Anaconda3\\lib\\site-packages\\ipykernel_launcher.py:3: RuntimeWarning: divide by zero encountered in log\n",
      "  This is separate from the ipykernel package so we can avoid doing imports until\n",
      "C:\\ProgramData\\Anaconda3\\lib\\site-packages\\ipykernel_launcher.py:7: RuntimeWarning: divide by zero encountered in log\n",
      "  import sys\n"
     ]
    }
   ],
   "source": [
    "s_hat_x = np.fft.fftn(Zx, axes = ([0,1,2]))\n",
    "s_hat_x = np.fft.fftshift(s_hat_x)\n",
    "s_hat_x_mag = (np.log(np.abs(s_hat_x)))**2\n",
    "\n",
    "s_hat_y = np.fft.fftn(Zy, axes = ([0,1,2]))\n",
    "s_hat_y = np.fft.fftshift(s_hat_y) # DC content at the center\n",
    "s_hat_y_mag = (np.log(np.abs(s_hat_y)))**2"
   ]
  },
  {
   "cell_type": "code",
   "execution_count": 6,
   "metadata": {},
   "outputs": [
    {
     "name": "stdout",
     "output_type": "stream",
     "text": [
      "(200, 100, 73)\n"
     ]
    }
   ],
   "source": [
    "print(s_hat_x_mag.shape)"
   ]
  },
  {
   "cell_type": "code",
   "execution_count": 7,
   "metadata": {},
   "outputs": [],
   "source": [
    "FreqCompRows = np.fft.fftfreq(s_hat_x.shape[0],d=1)\n",
    "FreqCompCols = np.fft.fftfreq(s_hat_x.shape[1],d=1)\n",
    "FreqCompVert = np.fft.fftfreq(s_hat_x.shape[2],d=1)\n",
    "FreqCompRows = np.fft.fftshift(FreqCompRows)\n",
    "FreqCompCols = np.fft.fftshift(FreqCompCols)\n",
    "FreqCompVert = np.fft.fftshift(FreqCompVert)\n",
    "\n",
    "R,C,V = np.meshgrid(FreqCompRows, FreqCompCols, FreqCompVert)"
   ]
  },
  {
   "cell_type": "code",
   "execution_count": 8,
   "metadata": {},
   "outputs": [
    {
     "name": "stdout",
     "output_type": "stream",
     "text": [
      "(200, 100, 73) (200,) (100,) (73,)\n"
     ]
    }
   ],
   "source": [
    "print(s_hat_x_mag.shape, FreqCompRows.shape, FreqCompCols.shape, FreqCompVert.shape)"
   ]
  },
  {
   "cell_type": "code",
   "execution_count": 9,
   "metadata": {},
   "outputs": [],
   "source": [
    "dic = {\"R\":R,\"C\":C,\"V\":V \\\n",
    "         ,\"FreqCompRows\":FreqCompRows, \"FreqCompCols\":FreqCompCols, \"FreqCompVert\":FreqCompVert\\\n",
    "        ,\"s_hat_x_mag\":s_hat_x_mag, \"s_hat_y_mag\":s_hat_y_mag\\\n",
    "        ,'BEDFORM':'sine'}\n",
    "savemat('../FLIR_Camera/3DFFT_sine.mat',dic)"
   ]
  },
  {
   "cell_type": "code",
   "execution_count": null,
   "metadata": {},
   "outputs": [],
   "source": []
  }
 ],
 "metadata": {
  "kernelspec": {
   "display_name": "Python 3",
   "language": "python",
   "name": "python3"
  },
  "language_info": {
   "codemirror_mode": {
    "name": "ipython",
    "version": 3
   },
   "file_extension": ".py",
   "mimetype": "text/x-python",
   "name": "python",
   "nbconvert_exporter": "python",
   "pygments_lexer": "ipython3",
   "version": "3.7.3"
  }
 },
 "nbformat": 4,
 "nbformat_minor": 2
}
