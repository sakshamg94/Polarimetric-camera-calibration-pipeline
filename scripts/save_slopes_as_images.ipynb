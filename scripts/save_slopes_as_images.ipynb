{
 "cells": [
  {
   "cell_type": "code",
   "execution_count": 1,
   "metadata": {},
   "outputs": [],
   "source": [
    "import seaborn as sns\n",
    "import pandas as pd\n",
    "import pickle\n",
    "import numpy as np\n",
    "import os\n",
    "import matplotlib.pyplot as plt\n",
    "from mpl_toolkits.axes_grid1 import make_axes_locatable\n",
    "from tqdm import tqdm\n",
    "from mpl_toolkits import mplot3d\n",
    "from klepto.archives import dir_archive\n",
    "import cv2\n",
    "import time\n",
    "from scipy.io import savemat"
   ]
  },
  {
   "cell_type": "code",
   "execution_count": 2,
   "metadata": {},
   "outputs": [],
   "source": [
    "BEDFORMS = ['corals', 'canopy', 'rocks', 'dunes']\n",
    "flow_speeds = ['fast', 'med', 'slow']\n",
    "submergences = ['Deep', 'Intermed', 'Shallow']\n",
    "colors = {'corals':'dodgerblue','canopy':'green', 'rocks':'orange', 'dunes':'brown'}"
   ]
  },
  {
   "cell_type": "code",
   "execution_count": 3,
   "metadata": {},
   "outputs": [],
   "source": [
    "bed_idx = 0\n",
    "flow_idx = 2\n",
    "submergence_idx = 1\n",
    "TEST = 2\n",
    "BATCH_FRAMES =  75# for data acquired at 3 fp, total of 900, per subfolder 225 frames. 225/75 = 9\n",
    "img_write_counter = 0\n",
    "# SET the data variables\n",
    "FLOW_SPEED = flow_speeds[flow_idx]\n",
    "SUBMERGENCE = submergences[submergence_idx]\n",
    "BEDFORM = BEDFORMS[bed_idx]"
   ]
  },
  {
   "cell_type": "markdown",
   "metadata": {},
   "source": [
    "make folders to write the data to"
   ]
  },
  {
   "cell_type": "code",
   "execution_count": 4,
   "metadata": {},
   "outputs": [],
   "source": [
    "# for FLOW_SPEED in flow_speeds:\n",
    "#     for SUBMERGENCE in submergences:\n",
    "#         d = '../GAN_trial_1_dunes/data/flat2sign/{}_{}Flow_{}Depth_{}'.format(BEDFORM, FLOW_SPEED, SUBMERGENCE, 'sx')\n",
    "#         if not os.path.exists(d):\n",
    "#             os.mkdir(d)"
   ]
  },
  {
   "cell_type": "markdown",
   "metadata": {},
   "source": [
    "## PSD using 2D FFT"
   ]
  },
  {
   "cell_type": "code",
   "execution_count": 5,
   "metadata": {},
   "outputs": [
    {
     "name": "stdout",
     "output_type": "stream",
     "text": [
      "corals_slowFlow_IntermedH_test2_subFolder1\n",
      "time taken to load the data  =  19.11237668991089\n"
     ]
    }
   ],
   "source": [
    "bed_data ={}\n",
    "for serial, i in enumerate([1]):#,2,3,4]:#range(1,5):\n",
    "    # choose the data\n",
    "    SUBFOLDER = i\n",
    "\n",
    "    # source data folders\n",
    "    data_foldername = \"{}_{}Flow_{}H_test{}_subFolder{}\".format(BEDFORM, FLOW_SPEED, SUBMERGENCE, TEST, SUBFOLDER)\n",
    "    print(data_foldername)\n",
    "    data_location =  \"../TOSHIBA_Drive/saksham_polar_cam_FLIR\"\n",
    "    save_location =  \"../FLIR_Camera\"\n",
    "    klepto_saved_data_origin = 'klepto_bulk_data_saves' \n",
    "\n",
    "    # retrive the saved data\n",
    "    data_origin = os.path.join(data_location, klepto_saved_data_origin, data_foldername)\n",
    "    tic = time.time()\n",
    "    assert os.path.exists(data_origin) == True\n",
    "    data = dir_archive(data_origin, {}, serialized=True, cached=False)\n",
    "#     bed_data['all_slopeMag_maps'], bed_data['all_slopeAzi_maps']\\\n",
    "#                 = cv2.cartToPolar(data['all_sy_maps'], data['all_sx_maps'], angleInDegrees=True)\n",
    "#     bed_data['all_sy_maps'], bed_data['all_sx_maps'] = data['all_sy_maps'], data['all_sx_maps']\n",
    "    bed_data['all_sx_maps'] = data['all_sx_maps']  \n",
    "    del data\n",
    "    \n",
    "    toc = time.time()\n",
    "    print(\"time taken to load the data  = \", toc-tic)"
   ]
  },
  {
   "cell_type": "code",
   "execution_count": 6,
   "metadata": {},
   "outputs": [],
   "source": [
    "dst = '../GAN_trial_1_dunes/data/flat2sign/{}_{}Flow_{}Depth_{}'.format(BEDFORM, FLOW_SPEED, SUBMERGENCE, 'sx')\n",
    "assert os.path.exists(dst)"
   ]
  },
  {
   "cell_type": "code",
   "execution_count": 7,
   "metadata": {},
   "outputs": [
    {
     "name": "stdout",
     "output_type": "stream",
     "text": [
      "225\n"
     ]
    },
    {
     "name": "stderr",
     "output_type": "stream",
     "text": [
      "100%|████████████████████████████████████████████████████████████████████████████████| 225/225 [00:30<00:00,  7.44it/s]\n"
     ]
    }
   ],
   "source": [
    "dpi = 100\n",
    "NUM_FRAMES = bed_data['all_sx_maps'].shape[2]\n",
    "print(NUM_FRAMES)\n",
    "for i in tqdm(range(NUM_FRAMES)):\n",
    "    im_data  = bed_data['all_sx_maps'][:,:,i]\n",
    "\n",
    "    height, width = im_data.shape\n",
    "\n",
    "    # What size does the figure need to be in inches to fit the image?\n",
    "    figsize = width / 2/float(dpi), height / 2/float(dpi)\n",
    "\n",
    "    # Create a figure of the right size with one axes that takes up the full figure\n",
    "    fig = plt.figure(figsize=figsize)\n",
    "    ax = fig.add_axes([0, 0, 1, 1])\n",
    "\n",
    "    # Hide spines, ticks, etc.\n",
    "    plt.axis('off')\n",
    "\n",
    "    plt.imshow(im_data, cmap = plt.cm.inferno, vmin = -0.2, vmax = 0.1, interpolation='nearest')\n",
    "\n",
    "    # Ensure we're displaying with square pixels and the right extent.\n",
    "    # This is optional if you haven't called `plot` or anything else that might\n",
    "    # change the limits/aspect.  We don't need this step in this case.\n",
    "    ax.set(xlim=[-0.5, width - 0.5], ylim=[height - 0.5, -0.5], aspect=1)\n",
    "    save_filename = '{}_{}Flow_{}Depth_{}_{}.jpg'.format(BEDFORM, FLOW_SPEED, SUBMERGENCE, 'sx', \\\n",
    "                                                         str(img_write_counter).zfill(5))\n",
    "    fig.savefig(os.path.join(dst, save_filename), dpi=dpi)\n",
    "    # plt.show()\n",
    "    img_write_counter +=1\n",
    "    plt.close()"
   ]
  },
  {
   "cell_type": "code",
   "execution_count": 8,
   "metadata": {},
   "outputs": [],
   "source": [
    "# plt.imshow(bed_data['all_slopeMag_maps'][:,:,20], cmap = plt.cm.inferno, interpolation='nearest')#, vmin = -0.2, vmax = 0.1)\n",
    "# plt.colorbar()\n",
    "# plt.title('slope mag')\n",
    "# plt.axis('off')\n",
    "\n",
    "# plt.figure()\n",
    "# plt.imshow(bed_data['all_slopeAzi_maps'][:,:,20], cmap = plt.cm.inferno, interpolation='nearest')#, vmin = -0.2, vmax = 0.1)\n",
    "# plt.colorbar()\n",
    "# plt.title('slope azimuth')\n",
    "# plt.axis('off')\n",
    "\n",
    "# plt.figure()\n",
    "# plt.imshow(bed_data['all_sx_maps'][:,:,20], cmap = plt.cm.inferno, vmin = -0.2, vmax = 0.1, interpolation='nearest')\n",
    "# plt.colorbar()\n",
    "# plt.title('Sx')\n",
    "# plt.axis('off')\n",
    "\n",
    "# plt.figure()\n",
    "# plt.imshow(bed_data['all_sy_maps'][:,:,20], cmap = plt.cm.inferno, vmin = -0.2, vmax = 0.1, interpolation='nearest')\n",
    "# plt.colorbar()\n",
    "# plt.title('Sy')\n",
    "# plt.axis('off')\n"
   ]
  }
 ],
 "metadata": {
  "kernelspec": {
   "display_name": "Python 3",
   "language": "python",
   "name": "python3"
  },
  "language_info": {
   "codemirror_mode": {
    "name": "ipython",
    "version": 3
   },
   "file_extension": ".py",
   "mimetype": "text/x-python",
   "name": "python",
   "nbconvert_exporter": "python",
   "pygments_lexer": "ipython3",
   "version": "3.7.3"
  }
 },
 "nbformat": 4,
 "nbformat_minor": 2
}
