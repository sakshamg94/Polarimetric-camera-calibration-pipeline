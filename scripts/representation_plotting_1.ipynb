{
 "cells": [
  {
   "cell_type": "code",
   "execution_count": 1,
   "metadata": {},
   "outputs": [],
   "source": [
    "import seaborn as sns\n",
    "import pandas as pd\n",
    "import pickle\n",
    "import numpy as np\n",
    "import os\n",
    "import matplotlib.pyplot as plt\n",
    "from mpl_toolkits.axes_grid1 import make_axes_locatable\n",
    "from tqdm import tqdm\n",
    "from mpl_toolkits import mplot3d\n",
    "import cv2\n",
    "import time"
   ]
  },
  {
   "cell_type": "code",
   "execution_count": 2,
   "metadata": {},
   "outputs": [],
   "source": [
    "BEDFORM = 'rocks'\n",
    "save_location =  \"../FLIR_Camera\"\n",
    "data_filename = BEDFORM + \"_fastFlow_ShallowH_test1.pickle\"\n",
    "height_figs_location  = \"../FLIR_Camera/\"+BEDFORM+\"_fastFlow_ShallowH_test1_centeredCam_flume_LookAngle_35Deg_HEIGHT_FIGURES\"\n",
    "slopeMag_figs_location  = \"../FLIR_Camera/\"+BEDFORM+\"_fastFlow_ShallowH_test1_centeredCam_flume_LookAngle_35Deg_SLOPEMAG_FIGURES\"\n",
    "pdfSlope_figs_location = \"../FLIR_Camera/\"+BEDFORM+\"_fastFlow_ShallowH_test1_centeredCam_flume_LookAngle_35Deg_PDFSLOPE_FIGURES\"\n",
    "pdfHeight_figs_location = \"../FLIR_Camera/\"+BEDFORM+\"_fastFlow_ShallowH_test1_centeredCam_flume_LookAngle_35Deg_PDFHEIGHT_FIGURES\""
   ]
  },
  {
   "cell_type": "code",
   "execution_count": 3,
   "metadata": {},
   "outputs": [],
   "source": [
    "with open(os.path.join(save_location,data_filename), 'rb') as handle:\n",
    "    all_data_dict_loaded = pickle.load(handle)"
   ]
  },
  {
   "cell_type": "code",
   "execution_count": 4,
   "metadata": {},
   "outputs": [],
   "source": [
    "all_height_maps = all_data_dict_loaded['all_height_maps']\n",
    "all_sx_maps = all_data_dict_loaded['all_sx_maps']\n",
    "all_sy_maps = all_data_dict_loaded['all_sy_maps']\n",
    "all_raw_frames_0filter = all_data_dict_loaded['all_raw_frames_0filter'] "
   ]
  },
  {
   "cell_type": "markdown",
   "metadata": {},
   "source": [
    "## Plot height map"
   ]
  },
  {
   "cell_type": "code",
   "execution_count": null,
   "metadata": {},
   "outputs": [],
   "source": [
    "for i in tqdm(range(all_height_maps.shape[2])):#all_height_maps.shape[2])):   \n",
    "    s_x = all_sx_maps[:,:,i]\n",
    "    s_y = all_sy_maps[:,:,i]\n",
    "    raw_img_0filter = all_raw_frames_0filter[:,:,i]\n",
    "    Z = np.real(all_height_maps[:,:,i])\n",
    "\n",
    "    #subplot(r,c) provide the no. of rows and columns\n",
    "    fig = plt.figure(figsize =(30, 17)) \n",
    "    \n",
    "    ax0 = fig.add_subplot(2, 3, 1)\n",
    "    ax0.set_title('Raw image: 0 degree filter', fontsize = 14)\n",
    "    # Display image, `aspect='auto'` makes it fill the whole `axes` (ax2)\n",
    "    im0 = ax0.imshow(raw_img_0filter, cmap = plt.cm.gray, aspect='auto')#, vmin = 0, vmax = 255)\n",
    "    # Create divider for existing axes instance\n",
    "    divider0 = make_axes_locatable(ax0)\n",
    "    # Append axes to the right of ax3, with 20% width of ax2\n",
    "    cax0 = divider0.append_axes(\"right\", size=\"10%\", pad=0.08)\n",
    "    # Create colorbar in the appended axes\n",
    "    # Tick locations can be set with the kwarg `ticks`\n",
    "    # and the format of the ticklabels with kwarg `format`\n",
    "    cbar0 = plt.colorbar(im0, cax=cax0)\n",
    "\n",
    "    ax1 = fig.add_subplot(2, 3, 2)\n",
    "    ax1.set_title('$\\sim \\\\eta (x,y)$', fontsize = 14)\n",
    "    # Display image, `aspect='auto'` makes it fill the whole `axes` (ax2)\n",
    "    im1 = ax1.imshow(Z, aspect='auto') # vmin = -5, vmax = 5, \n",
    "    # Create divider for existing axes instance\n",
    "    divider1 = make_axes_locatable(ax1)\n",
    "    # Append axes to the right of ax3, with 20% width of ax2\n",
    "    cax1 = divider1.append_axes(\"right\", size=\"10%\", pad=0.08)\n",
    "    # Create colorbar in the appended axes\n",
    "    # Tick locations can be set with the kwarg `ticks`\n",
    "    # and the format of the ticklabels with kwarg `format`\n",
    "    cbar1 = plt.colorbar(im1, cax=cax1)\n",
    "    # Remove yticks from ax1\n",
    "    ax1.yaxis.set_visible(False)\n",
    "\n",
    "    ax2 = fig.add_subplot(2, 3, 3, projection = '3d')\n",
    "    # get 3D plot data\n",
    "    rows, cols = Z.shape\n",
    "    X,Y = np.meshgrid(np.arange(0,cols), np.arange(0,rows))\n",
    "    # Display image, `aspect='auto'` makes it fill the whole `axes` (ax2)\n",
    "    # syntax for plotting \n",
    "    p = ax2.plot_surface(Y, X, Z, cmap ='viridis', rstride = 2, cstride = 2)#, edgecolor ='green') \n",
    "    # ax.set_title('Height map')\n",
    "    ax2.set_zlabel('$\\\\eta$', fontsize = 14)\n",
    "    ax2.view_init(azim = -61, elev = 52)\n",
    "    \n",
    "    ax3 = fig.add_subplot(2, 3, 5)\n",
    "    ax3.set_title('$s_x:~ tan(\\\\theta - \\\\theta_{ref})$', fontsize = 14)\n",
    "    # Display image, `aspect='auto'` makes it fill the whole `axes` (ax2)\n",
    "    im3 = ax3.imshow(s_x, aspect='auto') # vmin = -5, vmax = 5, \n",
    "    # Create divider for existing axes instance\n",
    "    divider3 = make_axes_locatable(ax3)\n",
    "    # Append axes to the right of ax3, with 20% width of ax2\n",
    "    cax3 = divider3.append_axes(\"right\", size=\"10%\", pad=0.08)\n",
    "    # Create colorbar in the appended axes\n",
    "    # Tick locations can be set with the kwarg `ticks`\n",
    "    # and the format of the ticklabels with kwarg `format`\n",
    "    cbar3 = plt.colorbar(im3, cax=cax3)\n",
    "    # Remove yticks from ax1\n",
    "    ax3.yaxis.set_visible(True)\n",
    "\n",
    "    ax4 = fig.add_subplot(2, 3, 6)\n",
    "    ax4.set_title('$s_y: ~tan(\\\\phi - \\\\phi_{ref})$', fontsize = 14)\n",
    "    # Display image, `aspect='auto'` makes it fill the whole `axes` (ax2)\n",
    "    im4 = ax4.imshow(s_y, cmap = plt.cm.cividis,  aspect='auto') # vmin = -5, vmax = 5,\n",
    "    # Create divider for existing axes instance\n",
    "    divider4 = make_axes_locatable(ax4)\n",
    "    # Append axes to the right of ax3, with 20% width of ax2\n",
    "    cax4 = divider4.append_axes(\"right\", size=\"10%\", pad=0.08)\n",
    "    # Create colorbar in the appended axes\n",
    "    # Tick locations can be set with the kwarg `ticks`\n",
    "    # and the format of the ticklabels with kwarg `format`\n",
    "    cbar4 = plt.colorbar(im4, cax=cax4)\n",
    "    # Remove yticks from ax2\n",
    "    ax4.yaxis.set_visible(False)\n",
    "\n",
    "    plt.savefig(os.path.join(height_figs_location, 'fig_' + str(i).zfill(6) + '.png'), dpi = 80)"
   ]
  },
  {
   "cell_type": "markdown",
   "metadata": {},
   "source": [
    "## Plot pdf of the height field"
   ]
  },
  {
   "cell_type": "code",
   "execution_count": 5,
   "metadata": {
    "scrolled": true
   },
   "outputs": [
    {
     "name": "stderr",
     "output_type": "stream",
     "text": [
      "100%|██████████████████████████████████████████████████████████████████████████████████| 75/75 [01:39<00:00,  1.32s/it]\n"
     ]
    }
   ],
   "source": [
    "sns.set_style(\"white\")\n",
    "# Plot\n",
    "kwargs = dict(hist_kws={'alpha':.6}, kde_kws={'linewidth':2})\n",
    "xmin = np.min(np.real(all_height_maps))\n",
    "xmax = np.max(np.real(all_height_maps))\n",
    "\n",
    "for i in tqdm(range(all_height_maps.shape[2])):#all_height_maps.shape[2]):   \n",
    "    height_map = all_height_maps[:,:,i]\n",
    "    Z = np.real(height_map)\n",
    "    df = pd.DataFrame(Z.ravel())\n",
    "\n",
    "    #subplot(r,c) provide the no. of rows and columns\n",
    "    fig = plt.figure(figsize =(40, 15)) \n",
    "    \n",
    "    ax0 = fig.add_subplot(1, 2, 1)\n",
    "    ax0.set_title('Normalized histogram + KDF ($\\eta$)', fontsize = 34)\n",
    "    # Display image, `aspect='auto'` makes it fill the whole `axes` (ax2)\n",
    "    sns.distplot(df, ax=ax0, color=\"dodgerblue\", **kwargs)\n",
    "    ax0.set_xlabel(\"$\\eta(x,y)$\")\n",
    "    ax0.set_xlim([xmin, xmax])\n",
    "\n",
    "    ax1 = fig.add_subplot(1, 2, 2)\n",
    "    ax1.set_title('$\\sim \\\\eta (x,y)$', fontsize = 34)\n",
    "    # Display image, `aspect='auto'` makes it fill the whole `axes` (ax2)\n",
    "    im1 = ax1.imshow(Z, cmap ='viridis', aspect='auto') # vmin = -5, vmax = 5, \n",
    "    # Create divider for existing axes instance\n",
    "    divider1 = make_axes_locatable(ax1)\n",
    "    # Append axes to the right of ax3, with 20% width of ax2\n",
    "    cax1 = divider1.append_axes(\"right\", size=\"10%\", pad=0.08)\n",
    "    # Create colorbar in the appended axes\n",
    "    # Tick locations can be set with the kwarg `ticks`\n",
    "    # and the format of the ticklabels with kwarg `format`\n",
    "    cbar1 = plt.colorbar(im1, cax=cax1)\n",
    "    # Remove yticks from ax1\n",
    "\n",
    "    plt.savefig(os.path.join(pdfHeight_figs_location, 'fig_' + str(i).zfill(6) + '.png'), dpi = 40)\n",
    "    plt.close()"
   ]
  },
  {
   "cell_type": "markdown",
   "metadata": {},
   "source": [
    "## Plot pdfs of the slopes"
   ]
  },
  {
   "cell_type": "code",
   "execution_count": 6,
   "metadata": {},
   "outputs": [
    {
     "name": "stderr",
     "output_type": "stream",
     "text": [
      "100%|██████████████████████████████████████████████████████████████████████████████████| 75/75 [03:19<00:00,  2.62s/it]\n"
     ]
    }
   ],
   "source": [
    "sns.set_style(\"white\")\n",
    "# Plot\n",
    "kwargs = dict(hist_kws={'alpha':.6}, kde_kws={'linewidth':2})\n",
    "sxmin = -1#np.min(all_sx_maps)\n",
    "sxmax = 1#np.max(all_sx_maps)\n",
    "\n",
    "symin = -1#np.min(all_sy_maps)\n",
    "symax = 1#np.max(all_sy_maps)\n",
    "\n",
    "for i in tqdm(range(all_height_maps.shape[2])):#all_height_maps.shape[2]):   \n",
    "    height_map = all_height_maps[:,:,i]\n",
    "    s_x = all_sx_maps[:,:,i]\n",
    "    s_y = all_sy_maps[:,:,i]\n",
    "    \n",
    "    #subplot(r,c) provide the no. of rows and columns\n",
    "    fig = plt.figure(figsize =(20, 17)) \n",
    "    \n",
    "    df = pd.DataFrame(s_x.ravel())\n",
    "    ax0 = fig.add_subplot(2, 2, 1)\n",
    "    ax0.set_title('Normalized histogram + KDF ($s_x$)', fontsize = 24)\n",
    "    # Display image, `aspect='auto'` makes it fill the whole `axes` (ax2)\n",
    "    sns.distplot(df, ax=ax0, color=\"dodgerblue\", **kwargs)\n",
    "    ax0.set_xlabel(\"$s_x(x,y)$\")\n",
    "    ax0.set_xlim([sxmin, sxmax])\n",
    "    \n",
    "    df = pd.DataFrame(s_y.ravel())\n",
    "    ax1 = fig.add_subplot(2, 2, 2)\n",
    "    ax1.set_title('Normalized histogram + KDF ($s_y$)', fontsize = 24)\n",
    "    # Display image, `aspect='auto'` makes it fill the whole `axes` (ax2)\n",
    "    sns.distplot(df, ax=ax1, color=\"pink\", **kwargs)\n",
    "    ax1.set_xlabel(\"$s_y(x,y)$\")\n",
    "    ax1.set_xlim([symin, symax])\n",
    "    \n",
    "    ax2 = fig.add_subplot(2, 2, 3)\n",
    "    ax2.set_title('$s_x:~ tan(\\\\theta - \\\\theta_{ref})$', fontsize = 24)\n",
    "    # Display image, `aspect='auto'` makes it fill the whole `axes` (ax2)\n",
    "    im2 = ax2.imshow(s_x, cmap = plt.cm.viridis, aspect='auto')#, vmin = 0, vmax = 255)\n",
    "    # Create divider for existing axes instance\n",
    "    divider2 = make_axes_locatable(ax2)\n",
    "    # Append axes to the right of ax3, with 20% width of ax2\n",
    "    cax2 = divider2.append_axes(\"right\", size=\"10%\", pad=0.08)\n",
    "    # Create colorbar in the appended axes\n",
    "    cbar2 = plt.colorbar(im2, cax=cax2)\n",
    "\n",
    "    ax3 = fig.add_subplot(2, 2, 4)\n",
    "    ax3.set_title('$s_y:~ tan(\\\\phi - \\\\phi_{ref})$', fontsize = 24)\n",
    "    # Display image, `aspect='auto'` makes it fill the whole `axes` (ax2)\n",
    "    im3 = ax3.imshow(s_y, cmap = plt.cm.cividis, aspect='auto') # vmin = -5, vmax = 5, \n",
    "    # Create divider for existing axes instance\n",
    "    divider3 = make_axes_locatable(ax3)\n",
    "    # Append axes to the right of ax3, with 20% width of ax2\n",
    "    cax3 = divider3.append_axes(\"right\", size=\"10%\", pad=0.08)\n",
    "    # Create colorbar in the appended axes\n",
    "    cbar3 = plt.colorbar(im3, cax=cax3)    \n",
    "\n",
    "    plt.savefig(os.path.join(pdfSlope_figs_location, 'fig_' + str(i).zfill(6) + '.png'), dpi = 80)\n",
    "    plt.close()"
   ]
  },
  {
   "cell_type": "markdown",
   "metadata": {},
   "source": [
    "## Try HOG aproach : slope magnitude and angle\n",
    "since we already have s_x  which represents gradient in the flow direction and s_y that represents the gradients in the transverse directiion"
   ]
  },
  {
   "cell_type": "code",
   "execution_count": 7,
   "metadata": {},
   "outputs": [
    {
     "name": "stderr",
     "output_type": "stream",
     "text": [
      "100%|██████████████████████████████████████████████████████████████████████████████████| 75/75 [02:31<00:00,  2.01s/it]\n"
     ]
    }
   ],
   "source": [
    "for i in tqdm(range(all_height_maps.shape[2])):#all_height_maps.shape[2]):   \n",
    "    height_map = all_height_maps[:,:,i]\n",
    "    s_x = all_sx_maps[:,:,i]\n",
    "    s_y = all_sy_maps[:,:,i]\n",
    "    # calculate gradient magnitude and direction ( in degrees )\n",
    "    mag, angle = cv2.cartToPolar(s_y, s_x, angleInDegrees=True)\n",
    "\n",
    "    #subplot(r,c) provide the no. of rows and columns\n",
    "    fig = plt.figure(figsize =(25, 17)) \n",
    "    \n",
    "    ax0 = fig.add_subplot(2, 2, 1)\n",
    "    ax0.set_title('$s_x:~ tan(\\\\theta - \\\\theta_{ref})$', fontsize = 24)\n",
    "    # Display image, `aspect='auto'` makes it fill the whole `axes` (ax2)\n",
    "    im0 = ax0.imshow(s_x, cmap = plt.cm.viridis, aspect='auto')#, vmin = 0, vmax = 255)\n",
    "    # Create divider for existing axes instance\n",
    "    divider0 = make_axes_locatable(ax0)\n",
    "    # Append axes to the right of ax3, with 20% width of ax2\n",
    "    cax0 = divider0.append_axes(\"right\", size=\"10%\", pad=0.08)\n",
    "    # Create colorbar in the appended axes\n",
    "    cbar0 = plt.colorbar(im0, cax=cax0)\n",
    "\n",
    "    ax1 = fig.add_subplot(2, 2, 2)\n",
    "    ax1.set_title('$s_y:~ tan(\\\\phi - \\\\phi_{ref})$', fontsize = 24)\n",
    "    # Display image, `aspect='auto'` makes it fill the whole `axes` (ax2)\n",
    "    im1 = ax1.imshow(s_y, cmap = plt.cm.cividis, aspect='auto') # vmin = -5, vmax = 5, \n",
    "    # Create divider for existing axes instance\n",
    "    divider1 = make_axes_locatable(ax1)\n",
    "    # Append axes to the right of ax3, with 20% width of ax2\n",
    "    cax1 = divider1.append_axes(\"right\", size=\"10%\", pad=0.08)\n",
    "    # Create colorbar in the appended axes\n",
    "    cbar1 = plt.colorbar(im1, cax=cax1)\n",
    "    # Remove yticks from ax1\n",
    "    ax1.yaxis.set_visible(False)\n",
    "    \n",
    "    ax2 = fig.add_subplot(2, 2, 3)\n",
    "    ax2.set_title('$\\\\sqrt{s_x^2 + s_y^2}$', fontsize = 24)\n",
    "    # Display image, `aspect='auto'` makes it fill the whole `axes` (ax2)\n",
    "    im2 = ax2.imshow(mag, cmap = plt.cm.viridis, aspect='auto', vmin = 0, vmax = np.max(mag)/2) \n",
    "    # Create divider for existing axes instance\n",
    "    divider2 = make_axes_locatable(ax2)\n",
    "    # Append axes to the right of ax3, with 20% width of ax2\n",
    "    cax2 = divider2.append_axes(\"right\", size=\"10%\", pad=0.08)\n",
    "    cbar2 = plt.colorbar(im2, cax=cax2)\n",
    "    \n",
    "    ax3 = fig.add_subplot(2, 2, 4)\n",
    "    ax3.set_title('$arctan(\\\\frac{s_y}{s_x})$', fontsize = 24)\n",
    "    # Display image, `aspect='auto'` makes it fill the whole `axes` (ax2)\n",
    "    im3 = ax3.imshow(angle, cmap = plt.cm.viridis, aspect='auto', vmin = 0, vmax = 360) \n",
    "    # Create divider for existing axes instance\n",
    "    divider3 = make_axes_locatable(ax3)\n",
    "    # Append axes to the right of ax3, with 20% width of ax2\n",
    "    cax3 = divider3.append_axes(\"right\", size=\"10%\", pad=0.08)\n",
    "    # Create colorbar in the appended axes\n",
    "    cbar3 = plt.colorbar(im3, cax=cax3)\n",
    "    # Remove yticks from ax1\n",
    "    ax3.yaxis.set_visible(False)\n",
    "\n",
    "    plt.savefig(os.path.join(slopeMag_figs_location, 'fig_' + str(i).zfill(6) + '.png'), dpi = 80)\n",
    "    plt.close()"
   ]
  },
  {
   "cell_type": "code",
   "execution_count": null,
   "metadata": {},
   "outputs": [],
   "source": []
  }
 ],
 "metadata": {
  "kernelspec": {
   "display_name": "Python 3",
   "language": "python",
   "name": "python3"
  },
  "language_info": {
   "codemirror_mode": {
    "name": "ipython",
    "version": 3
   },
   "file_extension": ".py",
   "mimetype": "text/x-python",
   "name": "python",
   "nbconvert_exporter": "python",
   "pygments_lexer": "ipython3",
   "version": "3.7.3"
  }
 },
 "nbformat": 4,
 "nbformat_minor": 2
}
