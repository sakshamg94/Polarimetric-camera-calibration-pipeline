{
 "cells": [
  {
   "cell_type": "markdown",
   "metadata": {},
   "source": [
    "# Evaluating the Inverse of Analyzer Matrix Using Linear Regression\n",
    "Solving the problem: S = A*I . Evaluate Ainv using sklearn's Linear Regression object which uses least suqares approximation. A is what is calculated by a least squares fit. Single $\\mathbf{A}$ for each cam based on average intensity over a central image patch\n",
    "\n",
    "Input is images for all the 3 cameras taken with different angles of the source polarizer"
   ]
  },
  {
   "cell_type": "code",
   "execution_count": 1,
   "metadata": {},
   "outputs": [],
   "source": [
    "import matplotlib.pyplot as plt\n",
    "import numpy as np\n",
    "from sklearn.linear_model import LinearRegression\n",
    "import os\n",
    "from os.path import dirname, join as pjoin\n",
    "import scipy.io as sio\n",
    "from collections import defaultdict\n",
    "import os.path\n"
   ]
  },
  {
   "cell_type": "code",
   "execution_count": 2,
   "metadata": {},
   "outputs": [],
   "source": [
    "def readRawImg(cam):\n",
    "    \"\"\"\n",
    "    Function to read all the rescaled image files for cam (1, 2, or 3)\n",
    "        args: cam: int: which camera id\n",
    "        return matrix of all the images for a given camera and the image shape\n",
    "    \"\"\"\n",
    "    \n",
    "    # simple version for working with CWD to print number of files\n",
    "    numFiles = 18\n",
    "    #len([name for name in \\\n",
    "                    #os.listdir('cam_'+ str(cam) + '_Analyzer_Matrix')])\n",
    "    \n",
    "    for i in range(numFiles):\n",
    "        image_file = 'cam_'+ str(cam) + '/Img_'+ str(i+1) # matlab saves images indexed from 1 to numFiles (inclusive)\n",
    "        data_dir = pjoin('..', 'cam_'+ str(cam)+ '_Analyzer_Matrix')\n",
    "        mat_fname = pjoin(data_dir, 'Cam_'+ str(cam)+ '_Image'+ str(i+1)+'RadioGeoCorrect.mat')\n",
    "        img = sio.loadmat(mat_fname)['correct_img'] #plt.imread(image_file)\n",
    "        if i ==0: \n",
    "            allImg = np.zeros((img.shape[0], img.shape[1], numFiles))\n",
    "            fig, ax = plt.subplots()\n",
    "            a = ax.imshow(img)\n",
    "            ax.set_title('Camera {}'.format(str(cam)))\n",
    "            fig.colorbar(a)\n",
    "            plt.show()\n",
    "        allImg[:,:,i] = img\n",
    "    \n",
    "    return allImg"
   ]
  },
  {
   "cell_type": "code",
   "execution_count": 3,
   "metadata": {},
   "outputs": [],
   "source": [
    "def rescaleImg(images, factor):\n",
    "    \"\"\"\n",
    "    Function to rescale all images for values between 0-1\n",
    "        args: images: matrix of all images\n",
    "    \"\"\"\n",
    "    return images/factor"
   ]
  },
  {
   "cell_type": "code",
   "execution_count": 4,
   "metadata": {},
   "outputs": [],
   "source": [
    "def img2SrcPolarizerAngle():\n",
    "    \"\"\"\n",
    "    Function that describes and returns the source polarizer to image sequence mapping\n",
    "    Values are Hard-coded in this func\n",
    "    Angles are in degrees\n",
    "        return: ordered list with polar angles corresponding to images \n",
    "    \"\"\"\n",
    "    # there are as many angles as there are numFiles\n",
    "    lst = np.array(np.arange(0,180, 10)) # to be tweaked based on how you took lab data\n",
    "    print(\"angles are : \", lst)\n",
    "    return lst"
   ]
  },
  {
   "cell_type": "code",
   "execution_count": 5,
   "metadata": {},
   "outputs": [],
   "source": [
    "def getY(angles):\n",
    "    \"\"\"\n",
    "    Create the inputs X: Each row of returned X is the intensity measured by camera 1, camera 2, and camera 2 resp.\n",
    "        return: X\n",
    "    \"\"\"\n",
    "    y = np.zeros((len(angles),3))\n",
    "    y[:,0] = np.ones((len(angles))) \n",
    "    y[:,1] = np.cos(2*angles*np.pi/180).reshape((len(angles), )) #\n",
    "    y[:,2] = np.sin(2*angles*np.pi/180).reshape((len(angles), )) #\n",
    "    return y"
   ]
  },
  {
   "cell_type": "code",
   "execution_count": 6,
   "metadata": {},
   "outputs": [],
   "source": [
    "def getX(angles, rstart, rend, cstart, cend, imgs):\n",
    "    \"\"\"\n",
    "    Function to return the y for the regression fit. Here this is the theoretically known Stokes Vector component\n",
    "        return : y\n",
    "    \"\"\"\n",
    "    #len(angles)==numFiles\n",
    "    X = np.zeros((3,len(angles)))\n",
    "    X[0,:] = np.mean(imgs[1][rstart:rend, cstart:cend,:], axis=(0,1))\n",
    "    X[1,:] = np.mean(imgs[2][rstart:rend, cstart:cend,:], axis=(0,1))\n",
    "    X[2,:] = np.mean(imgs[3][rstart:rend, cstart:cend,:], axis=(0,1))\n",
    "    return X.T"
   ]
  },
  {
   "cell_type": "code",
   "execution_count": 7,
   "metadata": {},
   "outputs": [],
   "source": [
    "def getRegCoeffs(rstart, rend, cstrat, cend, imgs, angles):\n",
    "    \"\"\"\n",
    "    Function to evaluate the regression coefficients of Ainv for the regression S = Ainv*I \n",
    "        args: \n",
    "            prow, pcol: row and col location of pixel for which regression happens\n",
    "            imgs: dictionary of images from all 3 cameras\n",
    "            cam: which camera are you calculating the regression for\n",
    "            angles: the angles on the source polarizer sheet corresponding to which the images were taken\n",
    "        return : regression coeffs\n",
    "    \"\"\"\n",
    "    X = getX(angles, rstart, rend, cstart, cend, imgs)\n",
    "    y = getY(angles)\n",
    "    print(\"X.shape is  = \", X.shape)\n",
    "    print(\"y.shape is  = \", y.shape)\n",
    "#     print(X)\n",
    "#     print(y)\n",
    "    reg = LinearRegression(fit_intercept= False).fit(X, y)\n",
    "    print(\"Coefficient of determination R^2 : \",reg.score(X, y))\n",
    "    coeffs = reg.coef_\n",
    "    print(\"Coefficients are : \", coeffs)\n",
    "#     print(\"prediction : \",reg.predict(np.array([1, 0.5, 0.5]).reshape(-1, 1)))\n",
    "    \n",
    "    return coeffs"
   ]
  },
  {
   "cell_type": "markdown",
   "metadata": {},
   "source": [
    "## Read Images\n",
    "Note that the order of the `imgs` dictionary is always cameras from left to right (C6:1, C7:2, C2:3) but the argument for the `readRawImg` is the corresponding numeric key (argument on the right hand side) for the camera used in matlab when creating the video input object. Be sure to verify what acquisition time parameters are used in matlab. So for the code below `imgs[2]` is corresponding to stream `s2` (because its argument is `2`). Stream `s2` is saved as `Cam_2` images irrespective of the argument on RHS below\n",
    "\n",
    "```\n",
    "v1 = videoinput('gige',1, 'Mono8'); % C6    \n",
    "s1 = v1.Source;\n",
    "v2 = videoinput('gige',2, 'Mono8'); % C7\n",
    "s2 = v2.Source;\n",
    "v3 = videoinput('gige',3, 'Mono8'); % C2\n",
    "s3 = v3.Source;\n",
    "```"
   ]
  },
  {
   "cell_type": "code",
   "execution_count": 8,
   "metadata": {},
   "outputs": [
    {
     "ename": "FileNotFoundError",
     "evalue": "[Errno 2] No such file or directory: '..\\\\cam_1_Analyzer_Matrix\\\\Cam_1_Image1RadioGeoCorrect.mat'",
     "output_type": "error",
     "traceback": [
      "\u001b[1;31m---------------------------------------------------------------------------\u001b[0m",
      "\u001b[1;31mFileNotFoundError\u001b[0m                         Traceback (most recent call last)",
      "\u001b[1;32mC:\\ProgramData\\Anaconda3\\lib\\site-packages\\scipy\\io\\matlab\\mio.py\u001b[0m in \u001b[0;36m_open_file\u001b[1;34m(file_like, appendmat)\u001b[0m\n\u001b[0;32m     30\u001b[0m     \u001b[1;32mtry\u001b[0m\u001b[1;33m:\u001b[0m\u001b[1;33m\u001b[0m\u001b[1;33m\u001b[0m\u001b[0m\n\u001b[1;32m---> 31\u001b[1;33m         \u001b[1;32mreturn\u001b[0m \u001b[0mopen\u001b[0m\u001b[1;33m(\u001b[0m\u001b[0mfile_like\u001b[0m\u001b[1;33m,\u001b[0m \u001b[1;34m'rb'\u001b[0m\u001b[1;33m)\u001b[0m\u001b[1;33m,\u001b[0m \u001b[1;32mTrue\u001b[0m\u001b[1;33m\u001b[0m\u001b[1;33m\u001b[0m\u001b[0m\n\u001b[0m\u001b[0;32m     32\u001b[0m     \u001b[1;32mexcept\u001b[0m \u001b[0mIOError\u001b[0m\u001b[1;33m:\u001b[0m\u001b[1;33m\u001b[0m\u001b[1;33m\u001b[0m\u001b[0m\n",
      "\u001b[1;31mFileNotFoundError\u001b[0m: [Errno 2] No such file or directory: '..\\\\cam_1_Analyzer_Matrix\\\\Cam_1_Image1RadioGeoCorrect.mat'",
      "\nDuring handling of the above exception, another exception occurred:\n",
      "\u001b[1;31mFileNotFoundError\u001b[0m                         Traceback (most recent call last)",
      "\u001b[1;32m<ipython-input-8-e5694ba1d71c>\u001b[0m in \u001b[0;36m<module>\u001b[1;34m\u001b[0m\n\u001b[0;32m      1\u001b[0m \u001b[0mfactor\u001b[0m \u001b[1;33m=\u001b[0m \u001b[1;36m1\u001b[0m\u001b[1;33m\u001b[0m\u001b[1;33m\u001b[0m\u001b[0m\n\u001b[1;32m----> 2\u001b[1;33m \u001b[0mtemp\u001b[0m \u001b[1;33m=\u001b[0m \u001b[0mreadRawImg\u001b[0m\u001b[1;33m(\u001b[0m\u001b[1;36m1\u001b[0m\u001b[1;33m)\u001b[0m\u001b[1;33m\u001b[0m\u001b[1;33m\u001b[0m\u001b[0m\n\u001b[0m\u001b[0;32m      3\u001b[0m \u001b[0mholder1\u001b[0m \u001b[1;33m=\u001b[0m \u001b[0mnp\u001b[0m\u001b[1;33m.\u001b[0m\u001b[0mzeros\u001b[0m\u001b[1;33m(\u001b[0m\u001b[1;33m(\u001b[0m\u001b[0mtemp\u001b[0m\u001b[1;33m.\u001b[0m\u001b[0mshape\u001b[0m\u001b[1;33m[\u001b[0m\u001b[1;36m0\u001b[0m\u001b[1;33m]\u001b[0m\u001b[1;33m,\u001b[0m \u001b[0mtemp\u001b[0m\u001b[1;33m.\u001b[0m\u001b[0mshape\u001b[0m\u001b[1;33m[\u001b[0m\u001b[1;36m1\u001b[0m\u001b[1;33m]\u001b[0m\u001b[1;33m)\u001b[0m\u001b[1;33m)\u001b[0m\u001b[1;33m\u001b[0m\u001b[1;33m\u001b[0m\u001b[0m\n\u001b[0;32m      4\u001b[0m \u001b[0mprint\u001b[0m\u001b[1;33m(\u001b[0m\u001b[0mholder1\u001b[0m\u001b[1;33m.\u001b[0m\u001b[0mshape\u001b[0m\u001b[1;33m)\u001b[0m\u001b[1;33m\u001b[0m\u001b[1;33m\u001b[0m\u001b[0m\n\u001b[0;32m      5\u001b[0m \u001b[0mimgs\u001b[0m \u001b[1;33m=\u001b[0m \u001b[0mdict\u001b[0m\u001b[1;33m(\u001b[0m\u001b[1;33m[\u001b[0m\u001b[1;33m(\u001b[0m\u001b[1;36m1\u001b[0m\u001b[1;33m,\u001b[0m\u001b[0mholder1\u001b[0m\u001b[1;33m)\u001b[0m\u001b[1;33m,\u001b[0m \u001b[1;33m(\u001b[0m\u001b[1;36m2\u001b[0m\u001b[1;33m,\u001b[0m\u001b[0mholder1\u001b[0m\u001b[1;33m)\u001b[0m\u001b[1;33m,\u001b[0m \u001b[1;33m(\u001b[0m\u001b[1;36m3\u001b[0m\u001b[1;33m,\u001b[0m\u001b[0mholder1\u001b[0m\u001b[1;33m)\u001b[0m\u001b[1;33m]\u001b[0m\u001b[1;33m)\u001b[0m\u001b[1;33m\u001b[0m\u001b[1;33m\u001b[0m\u001b[0m\n",
      "\u001b[1;32m<ipython-input-2-bbebc9234dcb>\u001b[0m in \u001b[0;36mreadRawImg\u001b[1;34m(cam)\u001b[0m\n\u001b[0;32m     15\u001b[0m         \u001b[0mdata_dir\u001b[0m \u001b[1;33m=\u001b[0m \u001b[0mpjoin\u001b[0m\u001b[1;33m(\u001b[0m\u001b[1;34m'..'\u001b[0m\u001b[1;33m,\u001b[0m \u001b[1;34m'cam_'\u001b[0m\u001b[1;33m+\u001b[0m \u001b[0mstr\u001b[0m\u001b[1;33m(\u001b[0m\u001b[0mcam\u001b[0m\u001b[1;33m)\u001b[0m\u001b[1;33m+\u001b[0m \u001b[1;34m'_Analyzer_Matrix'\u001b[0m\u001b[1;33m)\u001b[0m\u001b[1;33m\u001b[0m\u001b[1;33m\u001b[0m\u001b[0m\n\u001b[0;32m     16\u001b[0m         \u001b[0mmat_fname\u001b[0m \u001b[1;33m=\u001b[0m \u001b[0mpjoin\u001b[0m\u001b[1;33m(\u001b[0m\u001b[0mdata_dir\u001b[0m\u001b[1;33m,\u001b[0m \u001b[1;34m'Cam_'\u001b[0m\u001b[1;33m+\u001b[0m \u001b[0mstr\u001b[0m\u001b[1;33m(\u001b[0m\u001b[0mcam\u001b[0m\u001b[1;33m)\u001b[0m\u001b[1;33m+\u001b[0m \u001b[1;34m'_Image'\u001b[0m\u001b[1;33m+\u001b[0m \u001b[0mstr\u001b[0m\u001b[1;33m(\u001b[0m\u001b[0mi\u001b[0m\u001b[1;33m+\u001b[0m\u001b[1;36m1\u001b[0m\u001b[1;33m)\u001b[0m\u001b[1;33m+\u001b[0m\u001b[1;34m'RadioGeoCorrect.mat'\u001b[0m\u001b[1;33m)\u001b[0m\u001b[1;33m\u001b[0m\u001b[1;33m\u001b[0m\u001b[0m\n\u001b[1;32m---> 17\u001b[1;33m         \u001b[0mimg\u001b[0m \u001b[1;33m=\u001b[0m \u001b[0msio\u001b[0m\u001b[1;33m.\u001b[0m\u001b[0mloadmat\u001b[0m\u001b[1;33m(\u001b[0m\u001b[0mmat_fname\u001b[0m\u001b[1;33m)\u001b[0m\u001b[1;33m[\u001b[0m\u001b[1;34m'correct_img'\u001b[0m\u001b[1;33m]\u001b[0m \u001b[1;31m#plt.imread(image_file)\u001b[0m\u001b[1;33m\u001b[0m\u001b[1;33m\u001b[0m\u001b[0m\n\u001b[0m\u001b[0;32m     18\u001b[0m         \u001b[1;32mif\u001b[0m \u001b[0mi\u001b[0m \u001b[1;33m==\u001b[0m\u001b[1;36m0\u001b[0m\u001b[1;33m:\u001b[0m\u001b[1;33m\u001b[0m\u001b[1;33m\u001b[0m\u001b[0m\n\u001b[0;32m     19\u001b[0m             \u001b[0mallImg\u001b[0m \u001b[1;33m=\u001b[0m \u001b[0mnp\u001b[0m\u001b[1;33m.\u001b[0m\u001b[0mzeros\u001b[0m\u001b[1;33m(\u001b[0m\u001b[1;33m(\u001b[0m\u001b[0mimg\u001b[0m\u001b[1;33m.\u001b[0m\u001b[0mshape\u001b[0m\u001b[1;33m[\u001b[0m\u001b[1;36m0\u001b[0m\u001b[1;33m]\u001b[0m\u001b[1;33m,\u001b[0m \u001b[0mimg\u001b[0m\u001b[1;33m.\u001b[0m\u001b[0mshape\u001b[0m\u001b[1;33m[\u001b[0m\u001b[1;36m1\u001b[0m\u001b[1;33m]\u001b[0m\u001b[1;33m,\u001b[0m \u001b[0mnumFiles\u001b[0m\u001b[1;33m)\u001b[0m\u001b[1;33m)\u001b[0m\u001b[1;33m\u001b[0m\u001b[1;33m\u001b[0m\u001b[0m\n",
      "\u001b[1;32mC:\\ProgramData\\Anaconda3\\lib\\site-packages\\scipy\\io\\matlab\\mio.py\u001b[0m in \u001b[0;36mloadmat\u001b[1;34m(file_name, mdict, appendmat, **kwargs)\u001b[0m\n\u001b[0;32m    205\u001b[0m     \"\"\"\n\u001b[0;32m    206\u001b[0m     \u001b[0mvariable_names\u001b[0m \u001b[1;33m=\u001b[0m \u001b[0mkwargs\u001b[0m\u001b[1;33m.\u001b[0m\u001b[0mpop\u001b[0m\u001b[1;33m(\u001b[0m\u001b[1;34m'variable_names'\u001b[0m\u001b[1;33m,\u001b[0m \u001b[1;32mNone\u001b[0m\u001b[1;33m)\u001b[0m\u001b[1;33m\u001b[0m\u001b[1;33m\u001b[0m\u001b[0m\n\u001b[1;32m--> 207\u001b[1;33m     \u001b[0mMR\u001b[0m\u001b[1;33m,\u001b[0m \u001b[0mfile_opened\u001b[0m \u001b[1;33m=\u001b[0m \u001b[0mmat_reader_factory\u001b[0m\u001b[1;33m(\u001b[0m\u001b[0mfile_name\u001b[0m\u001b[1;33m,\u001b[0m \u001b[0mappendmat\u001b[0m\u001b[1;33m,\u001b[0m \u001b[1;33m**\u001b[0m\u001b[0mkwargs\u001b[0m\u001b[1;33m)\u001b[0m\u001b[1;33m\u001b[0m\u001b[1;33m\u001b[0m\u001b[0m\n\u001b[0m\u001b[0;32m    208\u001b[0m     \u001b[0mmatfile_dict\u001b[0m \u001b[1;33m=\u001b[0m \u001b[0mMR\u001b[0m\u001b[1;33m.\u001b[0m\u001b[0mget_variables\u001b[0m\u001b[1;33m(\u001b[0m\u001b[0mvariable_names\u001b[0m\u001b[1;33m)\u001b[0m\u001b[1;33m\u001b[0m\u001b[1;33m\u001b[0m\u001b[0m\n\u001b[0;32m    209\u001b[0m     \u001b[1;32mif\u001b[0m \u001b[0mmdict\u001b[0m \u001b[1;32mis\u001b[0m \u001b[1;32mnot\u001b[0m \u001b[1;32mNone\u001b[0m\u001b[1;33m:\u001b[0m\u001b[1;33m\u001b[0m\u001b[1;33m\u001b[0m\u001b[0m\n",
      "\u001b[1;32mC:\\ProgramData\\Anaconda3\\lib\\site-packages\\scipy\\io\\matlab\\mio.py\u001b[0m in \u001b[0;36mmat_reader_factory\u001b[1;34m(file_name, appendmat, **kwargs)\u001b[0m\n\u001b[0;32m     60\u001b[0m \u001b[1;33m\u001b[0m\u001b[0m\n\u001b[0;32m     61\u001b[0m     \"\"\"\n\u001b[1;32m---> 62\u001b[1;33m     \u001b[0mbyte_stream\u001b[0m\u001b[1;33m,\u001b[0m \u001b[0mfile_opened\u001b[0m \u001b[1;33m=\u001b[0m \u001b[0m_open_file\u001b[0m\u001b[1;33m(\u001b[0m\u001b[0mfile_name\u001b[0m\u001b[1;33m,\u001b[0m \u001b[0mappendmat\u001b[0m\u001b[1;33m)\u001b[0m\u001b[1;33m\u001b[0m\u001b[1;33m\u001b[0m\u001b[0m\n\u001b[0m\u001b[0;32m     63\u001b[0m     \u001b[0mmjv\u001b[0m\u001b[1;33m,\u001b[0m \u001b[0mmnv\u001b[0m \u001b[1;33m=\u001b[0m \u001b[0mget_matfile_version\u001b[0m\u001b[1;33m(\u001b[0m\u001b[0mbyte_stream\u001b[0m\u001b[1;33m)\u001b[0m\u001b[1;33m\u001b[0m\u001b[1;33m\u001b[0m\u001b[0m\n\u001b[0;32m     64\u001b[0m     \u001b[1;32mif\u001b[0m \u001b[0mmjv\u001b[0m \u001b[1;33m==\u001b[0m \u001b[1;36m0\u001b[0m\u001b[1;33m:\u001b[0m\u001b[1;33m\u001b[0m\u001b[1;33m\u001b[0m\u001b[0m\n",
      "\u001b[1;32mC:\\ProgramData\\Anaconda3\\lib\\site-packages\\scipy\\io\\matlab\\mio.py\u001b[0m in \u001b[0;36m_open_file\u001b[1;34m(file_like, appendmat)\u001b[0m\n\u001b[0;32m     35\u001b[0m             \u001b[1;32mif\u001b[0m \u001b[0mappendmat\u001b[0m \u001b[1;32mand\u001b[0m \u001b[1;32mnot\u001b[0m \u001b[0mfile_like\u001b[0m\u001b[1;33m.\u001b[0m\u001b[0mendswith\u001b[0m\u001b[1;33m(\u001b[0m\u001b[1;34m'.mat'\u001b[0m\u001b[1;33m)\u001b[0m\u001b[1;33m:\u001b[0m\u001b[1;33m\u001b[0m\u001b[1;33m\u001b[0m\u001b[0m\n\u001b[0;32m     36\u001b[0m                 \u001b[0mfile_like\u001b[0m \u001b[1;33m+=\u001b[0m \u001b[1;34m'.mat'\u001b[0m\u001b[1;33m\u001b[0m\u001b[1;33m\u001b[0m\u001b[0m\n\u001b[1;32m---> 37\u001b[1;33m             \u001b[1;32mreturn\u001b[0m \u001b[0mopen\u001b[0m\u001b[1;33m(\u001b[0m\u001b[0mfile_like\u001b[0m\u001b[1;33m,\u001b[0m \u001b[1;34m'rb'\u001b[0m\u001b[1;33m)\u001b[0m\u001b[1;33m,\u001b[0m \u001b[1;32mTrue\u001b[0m\u001b[1;33m\u001b[0m\u001b[1;33m\u001b[0m\u001b[0m\n\u001b[0m\u001b[0;32m     38\u001b[0m         \u001b[1;32melse\u001b[0m\u001b[1;33m:\u001b[0m\u001b[1;33m\u001b[0m\u001b[1;33m\u001b[0m\u001b[0m\n\u001b[0;32m     39\u001b[0m             \u001b[1;32mraise\u001b[0m \u001b[0mIOError\u001b[0m\u001b[1;33m(\u001b[0m\u001b[1;34m'Reader needs file name or open file-like object'\u001b[0m\u001b[1;33m)\u001b[0m\u001b[1;33m\u001b[0m\u001b[1;33m\u001b[0m\u001b[0m\n",
      "\u001b[1;31mFileNotFoundError\u001b[0m: [Errno 2] No such file or directory: '..\\\\cam_1_Analyzer_Matrix\\\\Cam_1_Image1RadioGeoCorrect.mat'"
     ]
    }
   ],
   "source": [
    "factor = 1\n",
    "temp = readRawImg(1)\n",
    "holder1 = np.zeros((temp.shape[0], temp.shape[1]))\n",
    "print(holder1.shape)\n",
    "imgs = dict([(1,holder1), (2,holder1), (3,holder1)])\n",
    "imgs[1] = rescaleImg(temp, factor)\n",
    "imgs[2] = rescaleImg(readRawImg(2), factor)\n",
    "imgs[3] = rescaleImg(readRawImg(3), factor)"
   ]
  },
  {
   "cell_type": "markdown",
   "metadata": {},
   "source": [
    "## Calculate angles"
   ]
  },
  {
   "cell_type": "code",
   "execution_count": 34,
   "metadata": {},
   "outputs": [
    {
     "name": "stdout",
     "output_type": "stream",
     "text": [
      "angles are :  [  0  10  20  30  40  50  60  70  80  90 100 110 120 130 140 150 160 170]\n"
     ]
    }
   ],
   "source": [
    "angles = img2SrcPolarizerAngle()"
   ]
  },
  {
   "cell_type": "markdown",
   "metadata": {},
   "source": [
    "## Evaluate & Validate the Coefficients of regression\n",
    " (Single $\\mathbf{A}$ for each cam based on average intensity over a central image patch)\n",
    "\n",
    "**Note that the Analyzer matrix calculation is nearly constant for all pixels over the 3 images. So you can just average all pixel intensities or take a central well illuminated patch. Basically this averaging technique as implemented in this code allays the need for a pixel-wise Analyzer matrix**\n",
    "\n",
    "To verify above, I tweaked the averaging patch size and location by varying the patch's edge locations. The $r^2$ is very high in all cases (even for a single pixeled size patch"
   ]
  },
  {
   "cell_type": "code",
   "execution_count": 40,
   "metadata": {},
   "outputs": [
    {
     "name": "stdout",
     "output_type": "stream",
     "text": [
      "X.shape is  =  (18, 3)\n",
      "y.shape is  =  (18, 3)\n",
      "Coefficient of determination R^2 :  0.999314464452909\n",
      "Coefficients are :  [[ 0.00404444  0.01180985  0.00429591]\n",
      " [-0.00858028  0.01501085  0.00358411]\n",
      " [-0.00172739 -0.01749603  0.00873598]]\n"
     ]
    },
    {
     "name": "stderr",
     "output_type": "stream",
     "text": [
      "C:\\ProgramData\\Anaconda3\\lib\\site-packages\\sklearn\\base.py:420: FutureWarning: The default value of multioutput (not exposed in score method) will change from 'variance_weighted' to 'uniform_average' in 0.23 to keep consistent with 'metrics.r2_score'. To specify the default value manually and avoid the warning, please either call 'metrics.r2_score' directly or make a custom scorer with 'metrics.make_scorer' (the built-in scorer 'r2' uses multioutput='uniform_average').\n",
      "  \"multioutput='uniform_average').\", FutureWarning)\n"
     ]
    }
   ],
   "source": [
    "cstart = 200\n",
    "cend = 800#holder1.shape[0]-20#\n",
    "rstart = 670\n",
    "rend = 851#holder1.shape[0]-20#\n",
    "\n",
    "# Evaluate the Analyzer matrix\n",
    "A = getRegCoeffs(rstart, rend, cstart, cend, imgs, angles)\n",
    "Ainv = np.linalg.inv(A)\n",
    "\n",
    "# Validation\n",
    "S0_theory = np.ones(angles.shape)\n",
    "S1_theory = np.cos(2*angles*np.pi/180)\n",
    "S2_theory = np.sin(2*angles*np.pi/180)\n",
    "\n",
    "I_measured = getX(angles, rstart, rend, cstart, cend, imgs)\n",
    "S_calc = A @ I_measured.T"
   ]
  },
  {
   "cell_type": "code",
   "execution_count": 41,
   "metadata": {},
   "outputs": [
    {
     "data": {
      "image/png": "[encoded data removed]",
      "text/plain": [
       "<Figure size 864x360 with 1 Axes>"
      ]
     },
     "metadata": {
      "needs_background": "light"
     },
     "output_type": "display_data"
    }
   ],
   "source": [
    "plt.figure(figsize = (12,5))\n",
    "plt.plot(angles, S0_theory, 'r-', label = '$S_0 = 1$ (theory)')\n",
    "plt.plot(angles, S_calc[0,:], 'ro')\n",
    "plt.plot(angles, S1_theory, 'b-', label = '$S_1 = cos 2\\\\theta_{pol}$ (theory)')\n",
    "plt.plot(angles, S_calc[1,:], 'bo')\n",
    "plt.plot(angles, S2_theory, 'g-', label = '$S_2 = sin 2\\\\theta_{pol}$ (theory)')\n",
    "plt.plot(angles, S_calc[2,:], 'go')\n",
    "plt.legend()\n",
    "plt.xlabel('Source Polarizer Angle $\\\\theta_{pol}$')\n",
    "plt.title('Calculated Stokes Parameters (Single $\\mathbf{A}$ for each cam)' )#based on average intensity over a central image patch)')\n",
    "plt.show()"
   ]
  },
  {
   "cell_type": "code",
   "execution_count": 42,
   "metadata": {},
   "outputs": [],
   "source": [
    "sio.savemat('analyzerMatrix.mat', {'analyzerMatrix': A, 'analyzerMatrixInv': Ainv})"
   ]
  },
  {
   "cell_type": "code",
   "execution_count": 43,
   "metadata": {},
   "outputs": [
    {
     "data": {
      "text/plain": [
       "{'__header__': b'MATLAB 5.0 MAT-file Platform: nt, Created on: Sun Aug 30 12:04:18 2020',\n",
       " '__version__': '1.0',\n",
       " '__globals__': [],\n",
       " 'analyzerMatrix': array([[ 0.00404444,  0.01180985,  0.00429591],\n",
       "        [-0.00858028,  0.01501085,  0.00358411],\n",
       "        [-0.00172739, -0.01749603,  0.00873598]]),\n",
       " 'analyzerMatrixInv': array([[ 82.40195989, -75.80864071,  -9.4191215 ],\n",
       "        [ 29.23231318,  18.17418623, -21.83127301],\n",
       "        [ 74.8387237 ,  21.40858413,  68.88391058]])}"
      ]
     },
     "execution_count": 43,
     "metadata": {},
     "output_type": "execute_result"
    }
   ],
   "source": [
    "sio.loadmat('analyzerMatrix.mat')"
   ]
  },
  {
   "cell_type": "code",
   "execution_count": null,
   "metadata": {},
   "outputs": [],
   "source": []
  }
 ],
 "metadata": {
  "kernelspec": {
   "display_name": "Python 3",
   "language": "python",
   "name": "python3"
  },
  "language_info": {
   "codemirror_mode": {
    "name": "ipython",
    "version": 3
   },
   "file_extension": ".py",
   "mimetype": "text/x-python",
   "name": "python",
   "nbconvert_exporter": "python",
   "pygments_lexer": "ipython3",
   "version": "3.7.3"
  }
 },
 "nbformat": 4,
 "nbformat_minor": 4
}
