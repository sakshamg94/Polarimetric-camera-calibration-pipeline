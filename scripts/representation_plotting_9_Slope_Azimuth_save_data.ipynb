{
 "cells": [
  {
   "cell_type": "code",
   "execution_count": 1,
   "metadata": {},
   "outputs": [],
   "source": [
    "import seaborn as sns\n",
    "import pandas as pd\n",
    "import pickle\n",
    "import numpy as np\n",
    "import os\n",
    "import matplotlib.pyplot as plt\n",
    "from mpl_toolkits.axes_grid1 import make_axes_locatable\n",
    "from tqdm import tqdm\n",
    "from mpl_toolkits import mplot3d\n",
    "from klepto.archives import dir_archive\n",
    "import cv2\n",
    "import time\n",
    "from scipy.io import savemat"
   ]
  },
  {
   "cell_type": "code",
   "execution_count": 2,
   "metadata": {},
   "outputs": [],
   "source": [
    "BEDFORMS = ['corals', 'canopy', 'rocks', 'dunes']\n",
    "flow_speeds = ['fast', 'med', 'slow']\n",
    "submergences = ['Deep', 'Intermed', 'Shallow']\n",
    "colors = {'corals':'dodgerblue','canopy':'green', 'rocks':'orange', 'dunes':'brown'}"
   ]
  },
  {
   "cell_type": "code",
   "execution_count": 3,
   "metadata": {},
   "outputs": [
    {
     "name": "stdout",
     "output_type": "stream",
     "text": [
      "corals_fastFlow_ShallowH_test4\n"
     ]
    }
   ],
   "source": [
    "bed_idx = 0\n",
    "flow_idx = 0\n",
    "submergence_idx = 2\n",
    "TEST = 4\n",
    "BATCH_FRAMES =  75# for data acquired at 3 fp, total of 900, per subfolder 225 frames. 225/75 = 9\n",
    "\n",
    "DIST = 247\n",
    "\n",
    "# SET the data variables\n",
    "FLOW_SPEED = flow_speeds[flow_idx]\n",
    "SUBMERGENCE = submergences[submergence_idx]\n",
    "BEDFORM = BEDFORMS[bed_idx]\n",
    "print(\"{}_{}Flow_{}H_test{}\".format(BEDFORM, FLOW_SPEED, SUBMERGENCE, TEST))"
   ]
  },
  {
   "cell_type": "markdown",
   "metadata": {},
   "source": [
    "## PSD using 2D FFT"
   ]
  },
  {
   "cell_type": "code",
   "execution_count": 4,
   "metadata": {},
   "outputs": [
    {
     "name": "stdout",
     "output_type": "stream",
     "text": [
      "boils_25fps_MedianFilteredRef_25Pump_25cmH_industrialHoseJet_subFolder1\n",
      "time taken to load the data  =  83.69414687156677\n",
      "NUM_FRAMES is 225 and datatype is <class 'numpy.ndarray'>\n",
      "boils_25fps_MedianFilteredRef_25Pump_25cmH_industrialHoseJet_subFolder2\n",
      "time taken to load the data  =  82.34370708465576\n",
      "NUM_FRAMES is 225 and datatype is <class 'numpy.ndarray'>\n",
      "boils_25fps_MedianFilteredRef_25Pump_25cmH_industrialHoseJet_subFolder3\n",
      "time taken to load the data  =  86.61687779426575\n",
      "NUM_FRAMES is 225 and datatype is <class 'numpy.ndarray'>\n",
      "boils_25fps_MedianFilteredRef_25Pump_25cmH_industrialHoseJet_subFolder4\n",
      "time taken to load the data  =  84.72506594657898\n",
      "NUM_FRAMES is 225 and datatype is <class 'numpy.ndarray'>\n"
     ]
    }
   ],
   "source": [
    "for serial,i in enumerate([1,2,3,4]):#range(1,5):\n",
    "    # choose the data\n",
    "    SUBFOLDER = i\n",
    "\n",
    "    # source data folders\n",
    "#     data_foldername = \"{}_{}Flow_{}H_test{}_subFolder{}\".format(BEDFORM, FLOW_SPEED, SUBMERGENCE, TEST, SUBFOLDER)\n",
    "#     data_foldername = \"{}_{}Flow_{}H_test{}_centeredCam_{}cmDownstreamUpperROI_flume_LookAngle_35Deg_subFolder{}\".format(BEDFORM, FLOW_SPEED, SUBMERGENCE, TEST,DIST, SUBFOLDER)\n",
    "    data_foldername =\"boils_25fps_MedianFilteredRef_25Pump_25cmH_industrialHoseJet_subFolder{}\".format(SUBFOLDER)\n",
    "    print(data_foldername)\n",
    "    data_location =  '../TOSHIBA_Drive/saksham_polar_cam_FLIR'\n",
    "    save_location =  \"../FLIR_Camera\"\n",
    "    klepto_saved_data_origin = 'klepto_bulk_data_saves' \n",
    "\n",
    "    # retrive the saved data\n",
    "    data_origin = os.path.join(data_location, klepto_saved_data_origin, data_foldername)\n",
    "    bed_data ={BEDFORM:{}}\n",
    "    tic = time.time()\n",
    "    assert os.path.exists(data_origin) == True\n",
    "    data = dir_archive(data_origin, {}, serialized=True, cached=False)\n",
    "    _, bed_data[BEDFORM]['all_slopeAzi_maps']\\\n",
    "                = cv2.cartToPolar(data['all_sy_maps'], data['all_sx_maps'], angleInDegrees=True)\n",
    "    bed_data[BEDFORM]['all_sx_maps'] = data['all_sx_maps']\n",
    "    bed_data[BEDFORM]['all_sy_maps'] = data['all_sy_maps']\n",
    "    \n",
    "    del data\n",
    "    toc = time.time()\n",
    "    print(\"time taken to load the data  = \", toc-tic)\n",
    "\n",
    "    NUM_FRAMES = bed_data[BEDFORM]['all_slopeAzi_maps'].shape[-1]\n",
    "    print(\"NUM_FRAMES is {} and datatype is {}\".format(NUM_FRAMES,type(bed_data[BEDFORM]['all_slopeAzi_maps'])))\n",
    "\n",
    "    # Accumulate the mean PSD of every BATCH_SIZE frames \n",
    "    if serial==0:\n",
    "        slopeAzi_hat_mean = []\n",
    "        slopeAzi_hat_mag_mean = []\n",
    "\n",
    "    for i in range(NUM_FRAMES//BATCH_FRAMES):    \n",
    "\n",
    "        slopeAzi_hat = np.fft.fft2(bed_data[BEDFORM]['all_slopeAzi_maps'][:,:,i*BATCH_FRAMES:(i+1)*BATCH_FRAMES], axes = ([0,1]))\n",
    "        slopeAzi_hat = np.fft.fftshift(slopeAzi_hat) # DC content at the center\n",
    "        slopeAzi_hat_mag = (np.log(np.abs(slopeAzi_hat)))**2\n",
    "        \n",
    "        slopeAzi_hat_mean.append(np.mean(slopeAzi_hat, axis = (2)))\n",
    "        slopeAzi_hat_mag_mean.append(np.mean(slopeAzi_hat_mag, axis = (2)))\n",
    "    \n",
    "    del bed_data,  slopeAzi_hat, slopeAzi_hat_mag"
   ]
  },
  {
   "cell_type": "code",
   "execution_count": 5,
   "metadata": {},
   "outputs": [],
   "source": [
    "FreqCompRows = np.fft.fftfreq(slopeAzi_hat_mean[0].shape[0],d=1)\n",
    "FreqCompCols = np.fft.fftfreq(slopeAzi_hat_mean[0].shape[1],d=1)\n",
    "FreqCompRows = np.fft.fftshift(FreqCompRows)\n",
    "FreqCompCols = np.fft.fftshift(FreqCompCols)\n",
    "\n",
    "R,C = np.meshgrid(FreqCompRows, FreqCompCols)\n",
    "M,N = slopeAzi_hat_mean[0].shape[0:2]"
   ]
  },
  {
   "cell_type": "code",
   "execution_count": 6,
   "metadata": {},
   "outputs": [
    {
     "name": "stdout",
     "output_type": "stream",
     "text": [
      "number of frames to average:  12\n"
     ]
    }
   ],
   "source": [
    "mean  = slopeAzi_hat_mean[0]\n",
    "mag_mean = slopeAzi_hat_mag_mean[0]\n",
    "instances = len(slopeAzi_hat_mean)\n",
    "print(\"number of frames to average: \", instances)\n",
    "for i in range(1,instances):\n",
    "    mean += slopeAzi_hat_mean[i]\n",
    "    mag_mean += slopeAzi_hat_mag_mean[i]\n",
    "mean /= instances\n",
    "mag_mean /= instances"
   ]
  },
  {
   "cell_type": "code",
   "execution_count": 7,
   "metadata": {},
   "outputs": [
    {
     "data": {
      "text/plain": [
       "(1024, 1224)"
      ]
     },
     "execution_count": 7,
     "metadata": {},
     "output_type": "execute_result"
    }
   ],
   "source": [
    "mean.shape\n",
    "mag_mean.shape"
   ]
  },
  {
   "cell_type": "code",
   "execution_count": 8,
   "metadata": {},
   "outputs": [
    {
     "data": {
      "image/png": "[encoded data removed]",
      "text/plain": [
       "<Figure size 420x420 with 2 Axes>"
      ]
     },
     "metadata": {
      "needs_background": "light"
     },
     "output_type": "display_data"
    }
   ],
   "source": [
    "lim = 100\n",
    "\n",
    "w = 6\n",
    "h = 6\n",
    "d = 70\n",
    "ax0 = plt.figure(figsize=(w, h), dpi=d).gca()\n",
    "im0 = ax0.imshow(np.abs(mean)[M//2 - lim//2:M//2 + lim//2, N//2 - lim//2:N//2 + lim//2] , \\\n",
    "                 cmap = plt.cm.inferno_r, aspect='auto'\\\n",
    "                ,extent=(-lim// 2, lim// 2, -lim // 2, lim // 2))#, vmin = 0, vmax = 255)\n",
    "divider0 = make_axes_locatable(ax0)\n",
    "cax0 = divider0.append_axes(\"right\", size=\"10%\", pad=0.08)\n",
    "cbar0 = plt.colorbar(im0, cax=cax0)\n",
    "ax0.set_aspect('equal')"
   ]
  },
  {
   "cell_type": "code",
   "execution_count": 9,
   "metadata": {
    "scrolled": true
   },
   "outputs": [
    {
     "data": {
      "image/png": "[encoded data removed]",
      "text/plain": [
       "<Figure size 420x420 with 2 Axes>"
      ]
     },
     "metadata": {
      "needs_background": "light"
     },
     "output_type": "display_data"
    }
   ],
   "source": [
    "lim = 100\n",
    "\n",
    "w = 6\n",
    "h = 6\n",
    "d = 70\n",
    "ax0 = plt.figure(figsize=(w, h), dpi=d).gca()\n",
    "im0 = ax0.imshow(mag_mean[M//2 - lim//2:M//2 + lim//2, N//2 - lim//2:N//2 + lim//2] , \\\n",
    "                 cmap = plt.cm.inferno_r, aspect='auto'\\\n",
    "                ,extent=(-lim// 2, lim// 2, -lim // 2, lim // 2))#, vmin = 0, vmax = 255)\n",
    "divider0 = make_axes_locatable(ax0)\n",
    "cax0 = divider0.append_axes(\"right\", size=\"10%\", pad=0.08)\n",
    "cbar0 = plt.colorbar(im0, cax=cax0)\n",
    "ax0.set_aspect('equal')"
   ]
  },
  {
   "cell_type": "markdown",
   "metadata": {},
   "source": [
    "## Save the 2D FFT data to visualize using Matlab"
   ]
  },
  {
   "cell_type": "code",
   "execution_count": 10,
   "metadata": {},
   "outputs": [],
   "source": [
    "# dic = {\"R\":R,\"C\":C,\\\n",
    "#         \"FreqCompRows\":FreqCompRows, \"FreqCompCols\":FreqCompCols, \\\n",
    "#         \"slopeAzi_hat_mean\":mean,\\\n",
    "#         \"slopeMag_hat_mag_mean\": mag_mean,\\\n",
    "#         'BEDFORM':BEDFORM, 'FLOW_SPEED':FLOW_SPEED,'SUBMERGENCE':SUBMERGENCE}\n",
    "\n",
    "dic = {\"R\":R,\"C\":C,\\\n",
    "        \"FreqCompRows\":FreqCompRows, \"FreqCompCols\":FreqCompCols, \\\n",
    "        \"slopeAzi_hat_mean\":mean,\\\n",
    "        \"slopeMag_hat_mag_mean\": mag_mean}\n",
    "# filename = 'ZOOMED_mean_2DFFT_slopeAzi_{}_{}Flow_{}H_test{}.mat'.format(BEDFORM, FLOW_SPEED, SUBMERGENCE, TEST)\n",
    "filename = 'ZOOMED_mean_2DFFT_boils_25fps_25Pump_25cmH.mat'.format(BEDFORM, DIST)\n",
    "save_dest = os.path.join(save_location, klepto_saved_data_origin, filename)\n",
    "savemat(save_dest,dic)"
   ]
  },
  {
   "cell_type": "code",
   "execution_count": null,
   "metadata": {},
   "outputs": [],
   "source": []
  }
 ],
 "metadata": {
  "kernelspec": {
   "display_name": "Python 3",
   "language": "python",
   "name": "python3"
  },
  "language_info": {
   "codemirror_mode": {
    "name": "ipython",
    "version": 3
   },
   "file_extension": ".py",
   "mimetype": "text/x-python",
   "name": "python",
   "nbconvert_exporter": "python",
   "pygments_lexer": "ipython3",
   "version": "3.7.3"
  }
 },
 "nbformat": 4,
 "nbformat_minor": 2
}
