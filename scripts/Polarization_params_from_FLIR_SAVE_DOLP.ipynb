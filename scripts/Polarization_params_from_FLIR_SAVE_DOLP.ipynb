{
 "cells": [
  {
   "cell_type": "code",
   "execution_count": 1,
   "metadata": {},
   "outputs": [],
   "source": [
    "import numpy as np\n",
    "from mpl_toolkits.axes_grid1 import make_axes_locatable\n",
    "from tqdm import tqdm\n",
    "from mpl_toolkits import mplot3d\n",
    "import time\n",
    "from klepto.archives import dir_archive"
   ]
  },
  {
   "cell_type": "code",
   "execution_count": 2,
   "metadata": {},
   "outputs": [],
   "source": [
    "from rawFLIR_polarization_data_extraction import *\n",
    "from slope2height import *"
   ]
  },
  {
   "cell_type": "code",
   "execution_count": 3,
   "metadata": {},
   "outputs": [],
   "source": [
    "NUM_IMAGES=1\n",
    "BEDFORMS = ['corals', 'canopy', 'rocks', 'dunes']\n",
    "flow_speeds = ['fast', 'med', 'slow']\n",
    "submergences = ['Deep', 'Intermed', 'Shallow']\n",
    "\n",
    "# choose the data\n",
    "bed_idx = 1\n",
    "flow_idx = 0\n",
    "submergence_idx = 2\n",
    "TEST = 2\n",
    "\n",
    "# SET the data variables\n",
    "FLOW_SPEED = flow_speeds[flow_idx]\n",
    "SUBMERGENCE = submergences[submergence_idx]\n",
    "BEDFORM = BEDFORMS[bed_idx]\n",
    "\n",
    "# source data folders\n",
    "file_location = \"../FLIR_Camera/{}_{}Flow_{}H_test{}_centeredCam_flume_LookAngle_35Deg\".format(BEDFORM, FLOW_SPEED, SUBMERGENCE, TEST)\n",
    "ref_image_name = 'reference.tiff'\n",
    "save_location =  \"../FLIR_Camera\"\n",
    "dark_files_location = \"../FLIR_Camera/dark_imgs\"\n",
    "flat_files_location = \"../FLIR_Camera/flat_imgs\"\n",
    "klepto_saved_data_origin = 'klepto_bulk_data_saves' "
   ]
  },
  {
   "cell_type": "code",
   "execution_count": 4,
   "metadata": {},
   "outputs": [],
   "source": [
    "flat_field_correction_params = flat_field_params(dark_files_location, flat_files_location)"
   ]
  },
  {
   "cell_type": "code",
   "execution_count": 5,
   "metadata": {},
   "outputs": [
    {
     "name": "stdout",
     "output_type": "stream",
     "text": [
      "Processing data for material : WATER\n",
      "image_data shape is :  (2048, 2448)\n",
      "im90 shape is :  (1024, 1224)\n",
      "Stokes time:  0.0379786491394043 s\n",
      "im_stokes0 shape is :  (1024, 1224)\n",
      "DoLP time:  0.05097007751464844 s\n",
      "im_DOLP shape is :  (1024, 1224)\n"
     ]
    },
    {
     "name": "stderr",
     "output_type": "stream",
     "text": [
      "C:\\Users\\tracy\\Downloads\\saksham_polarimetric_cam\\scripts\\rawFLIR_polarization_data_extraction.py:225: RuntimeWarning: invalid value encountered in true_divide\n",
      "  alpha = 0.5*(np.tan(thI-thT)/np.tan(thI+thT))**2\n",
      "C:\\Users\\tracy\\Downloads\\saksham_polarimetric_cam\\scripts\\rawFLIR_polarization_data_extraction.py:226: RuntimeWarning: invalid value encountered in true_divide\n",
      "  eta = 0.5*(np.sin(thI-thT)/np.sin(thI+thT))**2\n",
      "C:\\ProgramData\\Anaconda3\\lib\\site-packages\\scipy\\interpolate\\interpolate.py:689: RuntimeWarning: invalid value encountered in greater\n",
      "  above_bounds = x_new > self.x[-1]\n"
     ]
    },
    {
     "name": "stdout",
     "output_type": "stream",
     "text": [
      "Time for DOLP2Theta conversion is :  24.65065598487854 seconds\n",
      "False\n",
      "AoLP time:  0.05496859550476074 s\n"
     ]
    }
   ],
   "source": [
    "im_theta1, im_phi1 = theta_phi(ref_image_name, file_location,\n",
    "                               material = 'water',\n",
    "                               flat_field_correct = 1,\n",
    "                               gaussian_smoothing_sigma = 0,\n",
    "                               num_images= NUM_IMAGES, correction_angle=0,\n",
    "                               flat_field_correction_params = flat_field_correction_params)"
   ]
  },
  {
   "cell_type": "markdown",
   "metadata": {},
   "source": [
    "# SAVE the height, slope, raw data maps"
   ]
  },
  {
   "cell_type": "code",
   "execution_count": 6,
   "metadata": {},
   "outputs": [
    {
     "name": "stdout",
     "output_type": "stream",
     "text": [
      "900\n"
     ]
    }
   ],
   "source": [
    "filenames = os.listdir(file_location)\n",
    "filenames.remove(ref_image_name) \n",
    "NUM_FRAMES = len(filenames)\n",
    "print(NUM_FRAMES)"
   ]
  },
  {
   "cell_type": "code",
   "execution_count": null,
   "metadata": {},
   "outputs": [
    {
     "name": "stderr",
     "output_type": "stream",
     "text": [
      "\r",
      "  0%|                                                                                          | 0/225 [00:00<?, ?it/s]"
     ]
    },
    {
     "name": "stdout",
     "output_type": "stream",
     "text": [
      "Processing data for material : WATER\n",
      "image_data shape is :  (2048, 2448)\n",
      "im90 shape is :  (1024, 1224)\n",
      "Stokes time:  0.04748392105102539 s\n",
      "im_stokes0 shape is :  (1024, 1224)\n",
      "DoLP time:  0.04697251319885254 s\n",
      "im_DOLP shape is :  (1024, 1224)\n",
      "Time for DOLP2Theta conversion is :  24.546147108078003 seconds\n",
      "False\n",
      "AoLP time:  0.047971487045288086 s\n"
     ]
    },
    {
     "name": "stderr",
     "output_type": "stream",
     "text": [
      "C:\\ProgramData\\Anaconda3\\lib\\site-packages\\ipykernel_launcher.py:29: ComplexWarning: Casting complex values to real discards the imaginary part\n",
      "  0%|▎                                                                               | 1/225 [00:28<1:45:05, 28.15s/it]"
     ]
    },
    {
     "name": "stdout",
     "output_type": "stream",
     "text": [
      "Processing data for material : WATER\n",
      "image_data shape is :  (2048, 2448)\n",
      "im90 shape is :  (1024, 1224)\n",
      "Stokes time:  0.05496978759765625 s\n",
      "im_stokes0 shape is :  (1024, 1224)\n",
      "DoLP time:  0.06396126747131348 s\n",
      "im_DOLP shape is :  (1024, 1224)\n",
      "Time for DOLP2Theta conversion is :  25.420754432678223 seconds\n",
      "False\n",
      "AoLP time:  0.05151653289794922 s\n"
     ]
    },
    {
     "name": "stderr",
     "output_type": "stream",
     "text": [
      "\r",
      "  1%|▋                                                                               | 2/225 [00:54<1:43:07, 27.75s/it]"
     ]
    },
    {
     "name": "stdout",
     "output_type": "stream",
     "text": [
      "Processing data for material : WATER\n",
      "image_data shape is :  (2048, 2448)\n",
      "im90 shape is :  (1024, 1224)\n",
      "Stokes time:  0.03597855567932129 s\n",
      "im_stokes0 shape is :  (1024, 1224)\n",
      "DoLP time:  0.056964874267578125 s\n",
      "im_DOLP shape is :  (1024, 1224)\n",
      "Time for DOLP2Theta conversion is :  24.819302558898926 seconds\n",
      "False\n",
      "AoLP time:  0.053967952728271484 s\n"
     ]
    },
    {
     "name": "stderr",
     "output_type": "stream",
     "text": [
      "\r",
      "  1%|█                                                                               | 3/225 [01:20<1:40:19, 27.11s/it]"
     ]
    },
    {
     "name": "stdout",
     "output_type": "stream",
     "text": [
      "Processing data for material : WATER\n",
      "image_data shape is :  (2048, 2448)\n",
      "im90 shape is :  (1024, 1224)\n",
      "Stokes time:  0.0339810848236084 s\n",
      "im_stokes0 shape is :  (1024, 1224)\n",
      "DoLP time:  0.043997764587402344 s\n",
      "im_DOLP shape is :  (1024, 1224)\n",
      "Time for DOLP2Theta conversion is :  24.357978343963623 seconds\n",
      "False\n",
      "AoLP time:  0.051970720291137695 s\n"
     ]
    },
    {
     "name": "stderr",
     "output_type": "stream",
     "text": [
      "\r",
      "  2%|█▍                                                                              | 4/225 [01:45<1:37:41, 26.52s/it]"
     ]
    },
    {
     "name": "stdout",
     "output_type": "stream",
     "text": [
      "Processing data for material : WATER\n",
      "image_data shape is :  (2048, 2448)\n",
      "im90 shape is :  (1024, 1224)\n",
      "Stokes time:  0.03497886657714844 s\n",
      "im_stokes0 shape is :  (1024, 1224)\n",
      "DoLP time:  0.04548335075378418 s\n",
      "im_DOLP shape is :  (1024, 1224)\n",
      "Time for DOLP2Theta conversion is :  25.083411693572998 seconds\n",
      "False\n",
      "AoLP time:  0.05296897888183594 s\n"
     ]
    },
    {
     "name": "stderr",
     "output_type": "stream",
     "text": [
      "\r",
      "  2%|█▊                                                                              | 5/225 [02:11<1:36:32, 26.33s/it]"
     ]
    },
    {
     "name": "stdout",
     "output_type": "stream",
     "text": [
      "Processing data for material : WATER\n",
      "image_data shape is :  (2048, 2448)\n",
      "im90 shape is :  (1024, 1224)\n",
      "Stokes time:  0.0339810848236084 s\n",
      "im_stokes0 shape is :  (1024, 1224)\n",
      "DoLP time:  0.04197430610656738 s\n",
      "im_DOLP shape is :  (1024, 1224)\n",
      "Time for DOLP2Theta conversion is :  25.214688777923584 seconds\n",
      "False\n",
      "AoLP time:  0.04597306251525879 s\n"
     ]
    },
    {
     "name": "stderr",
     "output_type": "stream",
     "text": [
      "\r",
      "  3%|██▏                                                                             | 6/225 [02:37<1:35:44, 26.23s/it]"
     ]
    },
    {
     "name": "stdout",
     "output_type": "stream",
     "text": [
      "Processing data for material : WATER\n",
      "image_data shape is :  (2048, 2448)\n",
      "im90 shape is :  (1024, 1224)\n",
      "Stokes time:  0.03497743606567383 s\n",
      "im_stokes0 shape is :  (1024, 1224)\n",
      "DoLP time:  0.046973228454589844 s\n",
      "im_DOLP shape is :  (1024, 1224)\n",
      "Time for DOLP2Theta conversion is :  24.87283730506897 seconds\n",
      "False\n",
      "AoLP time:  0.050971269607543945 s\n"
     ]
    },
    {
     "name": "stderr",
     "output_type": "stream",
     "text": [
      "\r",
      "  3%|██▍                                                                             | 7/225 [03:03<1:34:43, 26.07s/it]"
     ]
    },
    {
     "name": "stdout",
     "output_type": "stream",
     "text": [
      "Processing data for material : WATER\n",
      "image_data shape is :  (2048, 2448)\n",
      "im90 shape is :  (1024, 1224)\n",
      "Stokes time:  0.030488967895507812 s\n",
      "im_stokes0 shape is :  (1024, 1224)\n",
      "DoLP time:  0.04897117614746094 s\n",
      "im_DOLP shape is :  (1024, 1224)\n",
      "Time for DOLP2Theta conversion is :  23.205509424209595 seconds\n",
      "False\n",
      "AoLP time:  0.044974327087402344 s\n"
     ]
    },
    {
     "name": "stderr",
     "output_type": "stream",
     "text": [
      "\r",
      "  4%|██▊                                                                             | 8/225 [03:27<1:32:02, 25.45s/it]"
     ]
    },
    {
     "name": "stdout",
     "output_type": "stream",
     "text": [
      "Processing data for material : WATER\n",
      "image_data shape is :  (2048, 2448)\n",
      "im90 shape is :  (1024, 1224)\n",
      "Stokes time:  0.02798295021057129 s\n",
      "im_stokes0 shape is :  (1024, 1224)\n",
      "DoLP time:  0.039977073669433594 s\n",
      "im_DOLP shape is :  (1024, 1224)\n",
      "Time for DOLP2Theta conversion is :  24.311174392700195 seconds\n",
      "False\n",
      "AoLP time:  0.06296277046203613 s\n"
     ]
    },
    {
     "name": "stderr",
     "output_type": "stream",
     "text": [
      "\r",
      "  4%|███▏                                                                            | 9/225 [03:52<1:31:15, 25.35s/it]"
     ]
    },
    {
     "name": "stdout",
     "output_type": "stream",
     "text": [
      "Processing data for material : WATER\n",
      "image_data shape is :  (2048, 2448)\n",
      "im90 shape is :  (1024, 1224)\n",
      "Stokes time:  0.0319826602935791 s\n",
      "im_stokes0 shape is :  (1024, 1224)\n",
      "DoLP time:  0.03997611999511719 s\n",
      "im_DOLP shape is :  (1024, 1224)\n",
      "Time for DOLP2Theta conversion is :  24.961270332336426 seconds\n",
      "False\n",
      "AoLP time:  0.04397463798522949 s\n"
     ]
    },
    {
     "name": "stderr",
     "output_type": "stream",
     "text": [
      "\r",
      "  4%|███▌                                                                           | 10/225 [04:18<1:31:15, 25.47s/it]"
     ]
    },
    {
     "name": "stdout",
     "output_type": "stream",
     "text": [
      "Processing data for material : WATER\n",
      "image_data shape is :  (2048, 2448)\n",
      "im90 shape is :  (1024, 1224)\n",
      "Stokes time:  0.028983116149902344 s\n",
      "im_stokes0 shape is :  (1024, 1224)\n",
      "DoLP time:  0.0399775505065918 s\n",
      "im_DOLP shape is :  (1024, 1224)\n",
      "Time for DOLP2Theta conversion is :  23.68201994895935 seconds\n",
      "False\n",
      "AoLP time:  0.043973445892333984 s\n"
     ]
    },
    {
     "name": "stderr",
     "output_type": "stream",
     "text": [
      "\r",
      "  5%|███▊                                                                           | 11/225 [04:42<1:29:44, 25.16s/it]"
     ]
    },
    {
     "name": "stdout",
     "output_type": "stream",
     "text": [
      "Processing data for material : WATER\n",
      "image_data shape is :  (2048, 2448)\n",
      "im90 shape is :  (1024, 1224)\n",
      "Stokes time:  0.030982494354248047 s\n",
      "im_stokes0 shape is :  (1024, 1224)\n",
      "DoLP time:  0.03897547721862793 s\n",
      "im_DOLP shape is :  (1024, 1224)\n",
      "Time for DOLP2Theta conversion is :  24.494161128997803 seconds\n",
      "False\n",
      "AoLP time:  0.05596661567687988 s\n"
     ]
    },
    {
     "name": "stderr",
     "output_type": "stream",
     "text": [
      "\r",
      "  5%|████▏                                                                          | 12/225 [05:07<1:29:31, 25.22s/it]"
     ]
    },
    {
     "name": "stdout",
     "output_type": "stream",
     "text": [
      "Processing data for material : WATER\n",
      "image_data shape is :  (2048, 2448)\n",
      "im90 shape is :  (1024, 1224)\n",
      "Stokes time:  0.03098154067993164 s\n",
      "im_stokes0 shape is :  (1024, 1224)\n",
      "DoLP time:  0.04797220230102539 s\n",
      "im_DOLP shape is :  (1024, 1224)\n",
      "Time for DOLP2Theta conversion is :  24.63192391395569 seconds\n",
      "False\n",
      "AoLP time:  0.043975830078125 s\n"
     ]
    },
    {
     "name": "stderr",
     "output_type": "stream",
     "text": [
      "\r",
      "  6%|████▌                                                                          | 13/225 [05:33<1:29:22, 25.30s/it]"
     ]
    },
    {
     "name": "stdout",
     "output_type": "stream",
     "text": [
      "Processing data for material : WATER\n",
      "image_data shape is :  (2048, 2448)\n",
      "im90 shape is :  (1024, 1224)\n",
      "Stokes time:  0.031981468200683594 s\n",
      "im_stokes0 shape is :  (1024, 1224)\n",
      "DoLP time:  0.03897666931152344 s\n",
      "im_DOLP shape is :  (1024, 1224)\n",
      "Time for DOLP2Theta conversion is :  23.53849768638611 seconds\n",
      "False\n",
      "AoLP time:  0.05096864700317383 s\n"
     ]
    },
    {
     "name": "stderr",
     "output_type": "stream",
     "text": [
      "\r",
      "  6%|████▉                                                                          | 14/225 [05:57<1:27:57, 25.01s/it]"
     ]
    },
    {
     "name": "stdout",
     "output_type": "stream",
     "text": [
      "Processing data for material : WATER\n",
      "image_data shape is :  (2048, 2448)\n",
      "im90 shape is :  (1024, 1224)\n",
      "Stokes time:  0.03098154067993164 s\n",
      "im_stokes0 shape is :  (1024, 1224)\n",
      "DoLP time:  0.043974876403808594 s\n",
      "im_DOLP shape is :  (1024, 1224)\n",
      "Time for DOLP2Theta conversion is :  24.155822038650513 seconds\n",
      "False\n",
      "AoLP time:  0.050969839096069336 s\n"
     ]
    },
    {
     "name": "stderr",
     "output_type": "stream",
     "text": [
      "\r",
      "  7%|█████▎                                                                         | 15/225 [06:22<1:27:26, 24.98s/it]"
     ]
    },
    {
     "name": "stdout",
     "output_type": "stream",
     "text": [
      "Processing data for material : WATER\n",
      "image_data shape is :  (2048, 2448)\n",
      "im90 shape is :  (1024, 1224)\n",
      "Stokes time:  0.0319821834564209 s\n",
      "im_stokes0 shape is :  (1024, 1224)\n",
      "DoLP time:  0.038976192474365234 s\n",
      "im_DOLP shape is :  (1024, 1224)\n",
      "Time for DOLP2Theta conversion is :  23.6325204372406 seconds\n",
      "False\n",
      "AoLP time:  0.04497385025024414 s\n"
     ]
    },
    {
     "name": "stderr",
     "output_type": "stream",
     "text": [
      "\r",
      "  7%|█████▌                                                                         | 16/225 [06:47<1:26:25, 24.81s/it]"
     ]
    },
    {
     "name": "stdout",
     "output_type": "stream",
     "text": [
      "Processing data for material : WATER\n",
      "image_data shape is :  (2048, 2448)\n",
      "im90 shape is :  (1024, 1224)\n",
      "Stokes time:  0.027981042861938477 s\n",
      "im_stokes0 shape is :  (1024, 1224)\n",
      "DoLP time:  0.03897690773010254 s\n",
      "im_DOLP shape is :  (1024, 1224)\n",
      "Time for DOLP2Theta conversion is :  23.611536502838135 seconds\n",
      "False\n",
      "AoLP time:  0.044973134994506836 s\n"
     ]
    },
    {
     "name": "stderr",
     "output_type": "stream",
     "text": [
      "\r",
      "  8%|█████▉                                                                         | 17/225 [07:11<1:25:34, 24.68s/it]"
     ]
    },
    {
     "name": "stdout",
     "output_type": "stream",
     "text": [
      "Processing data for material : WATER\n",
      "image_data shape is :  (2048, 2448)\n",
      "im90 shape is :  (1024, 1224)\n",
      "Stokes time:  0.03098320960998535 s\n",
      "im_stokes0 shape is :  (1024, 1224)\n",
      "DoLP time:  0.03900766372680664 s\n",
      "im_DOLP shape is :  (1024, 1224)\n",
      "Time for DOLP2Theta conversion is :  23.677409648895264 seconds\n",
      "False\n",
      "AoLP time:  0.04697155952453613 s\n"
     ]
    },
    {
     "name": "stderr",
     "output_type": "stream",
     "text": [
      "\r",
      "  8%|██████▎                                                                        | 18/225 [07:35<1:24:54, 24.61s/it]"
     ]
    },
    {
     "name": "stdout",
     "output_type": "stream",
     "text": [
      "Processing data for material : WATER\n",
      "image_data shape is :  (2048, 2448)\n",
      "im90 shape is :  (1024, 1224)\n",
      "Stokes time:  0.030982255935668945 s\n",
      "im_stokes0 shape is :  (1024, 1224)\n",
      "DoLP time:  0.04197573661804199 s\n",
      "im_DOLP shape is :  (1024, 1224)\n",
      "Time for DOLP2Theta conversion is :  24.211737871170044 seconds\n",
      "False\n",
      "AoLP time:  0.044972896575927734 s\n"
     ]
    },
    {
     "name": "stderr",
     "output_type": "stream",
     "text": [
      "\r",
      "  8%|██████▋                                                                        | 19/225 [08:01<1:24:59, 24.75s/it]"
     ]
    },
    {
     "name": "stdout",
     "output_type": "stream",
     "text": [
      "Processing data for material : WATER\n",
      "image_data shape is :  (2048, 2448)\n",
      "im90 shape is :  (1024, 1224)\n",
      "Stokes time:  0.032982826232910156 s\n",
      "im_stokes0 shape is :  (1024, 1224)\n",
      "DoLP time:  0.04497408866882324 s\n",
      "im_DOLP shape is :  (1024, 1224)\n",
      "Time for DOLP2Theta conversion is :  23.561248540878296 seconds\n",
      "False\n",
      "AoLP time:  0.04697275161743164 s\n"
     ]
    },
    {
     "name": "stderr",
     "output_type": "stream",
     "text": [
      "\r",
      "  9%|███████                                                                        | 20/225 [08:25<1:24:11, 24.64s/it]"
     ]
    },
    {
     "name": "stdout",
     "output_type": "stream",
     "text": [
      "Processing data for material : WATER\n",
      "image_data shape is :  (2048, 2448)\n",
      "im90 shape is :  (1024, 1224)\n",
      "Stokes time:  0.03098320960998535 s\n",
      "im_stokes0 shape is :  (1024, 1224)\n",
      "DoLP time:  0.03997635841369629 s\n",
      "im_DOLP shape is :  (1024, 1224)\n",
      "Time for DOLP2Theta conversion is :  24.59494423866272 seconds\n",
      "False\n",
      "AoLP time:  0.04697060585021973 s\n"
     ]
    },
    {
     "name": "stderr",
     "output_type": "stream",
     "text": [
      "\r",
      "  9%|███████▎                                                                       | 21/225 [08:51<1:24:51, 24.96s/it]"
     ]
    },
    {
     "name": "stdout",
     "output_type": "stream",
     "text": [
      "Processing data for material : WATER\n",
      "image_data shape is :  (2048, 2448)\n",
      "im90 shape is :  (1024, 1224)\n",
      "Stokes time:  0.029982805252075195 s\n",
      "im_stokes0 shape is :  (1024, 1224)\n",
      "DoLP time:  0.036980628967285156 s\n",
      "im_DOLP shape is :  (1024, 1224)\n",
      "Time for DOLP2Theta conversion is :  25.169801950454712 seconds\n",
      "False\n",
      "AoLP time:  0.04697251319885254 s\n"
     ]
    },
    {
     "name": "stderr",
     "output_type": "stream",
     "text": [
      "\r",
      " 10%|███████▋                                                                       | 22/225 [09:17<1:25:29, 25.27s/it]"
     ]
    },
    {
     "name": "stdout",
     "output_type": "stream",
     "text": [
      "Processing data for material : WATER\n",
      "image_data shape is :  (2048, 2448)\n",
      "im90 shape is :  (1024, 1224)\n",
      "Stokes time:  0.028982162475585938 s\n",
      "im_stokes0 shape is :  (1024, 1224)\n",
      "DoLP time:  0.038977622985839844 s\n",
      "im_DOLP shape is :  (1024, 1224)\n",
      "Time for DOLP2Theta conversion is :  24.839050769805908 seconds\n",
      "False\n",
      "AoLP time:  0.04497218132019043 s\n"
     ]
    },
    {
     "name": "stderr",
     "output_type": "stream",
     "text": [
      "\r",
      " 10%|████████                                                                       | 23/225 [09:42<1:25:26, 25.38s/it]"
     ]
    },
    {
     "name": "stdout",
     "output_type": "stream",
     "text": [
      "Processing data for material : WATER\n",
      "image_data shape is :  (2048, 2448)\n",
      "im90 shape is :  (1024, 1224)\n",
      "Stokes time:  0.03098154067993164 s\n",
      "im_stokes0 shape is :  (1024, 1224)\n",
      "DoLP time:  0.042975664138793945 s\n",
      "im_DOLP shape is :  (1024, 1224)\n",
      "Time for DOLP2Theta conversion is :  26.000638484954834 seconds\n",
      "False\n",
      "AoLP time:  0.04797244071960449 s\n"
     ]
    },
    {
     "name": "stderr",
     "output_type": "stream",
     "text": [
      "\r",
      " 11%|████████▍                                                                      | 24/225 [10:09<1:26:25, 25.80s/it]"
     ]
    },
    {
     "name": "stdout",
     "output_type": "stream",
     "text": [
      "Processing data for material : WATER\n",
      "image_data shape is :  (2048, 2448)\n",
      "im90 shape is :  (1024, 1224)\n",
      "Stokes time:  0.03298163414001465 s\n",
      "im_stokes0 shape is :  (1024, 1224)\n",
      "DoLP time:  0.03897738456726074 s\n",
      "im_DOLP shape is :  (1024, 1224)\n",
      "Time for DOLP2Theta conversion is :  26.166266441345215 seconds\n",
      "False\n",
      "AoLP time:  0.057965755462646484 s\n"
     ]
    },
    {
     "name": "stderr",
     "output_type": "stream",
     "text": [
      "\r",
      " 11%|████████▊                                                                      | 25/225 [10:36<1:27:09, 26.15s/it]"
     ]
    },
    {
     "name": "stdout",
     "output_type": "stream",
     "text": [
      "Processing data for material : WATER\n",
      "image_data shape is :  (2048, 2448)\n",
      "im90 shape is :  (1024, 1224)\n",
      "Stokes time:  0.029981613159179688 s\n",
      "im_stokes0 shape is :  (1024, 1224)\n",
      "DoLP time:  0.03897833824157715 s\n",
      "im_DOLP shape is :  (1024, 1224)\n",
      "Time for DOLP2Theta conversion is :  25.792892932891846 seconds\n",
      "False\n",
      "AoLP time:  0.05199384689331055 s\n"
     ]
    },
    {
     "name": "stderr",
     "output_type": "stream",
     "text": [
      "\r",
      " 12%|█████████▏                                                                     | 26/225 [11:03<1:27:06, 26.26s/it]"
     ]
    },
    {
     "name": "stdout",
     "output_type": "stream",
     "text": [
      "Processing data for material : WATER\n",
      "image_data shape is :  (2048, 2448)\n",
      "im90 shape is :  (1024, 1224)\n",
      "Stokes time:  0.03497958183288574 s\n",
      "im_stokes0 shape is :  (1024, 1224)\n",
      "DoLP time:  0.0399775505065918 s\n",
      "im_DOLP shape is :  (1024, 1224)\n",
      "Time for DOLP2Theta conversion is :  26.30338144302368 seconds\n",
      "False\n",
      "AoLP time:  0.04897141456604004 s\n"
     ]
    },
    {
     "name": "stderr",
     "output_type": "stream",
     "text": [
      "\r",
      " 12%|█████████▍                                                                     | 27/225 [11:30<1:27:34, 26.54s/it]"
     ]
    },
    {
     "name": "stdout",
     "output_type": "stream",
     "text": [
      "Processing data for material : WATER\n",
      "image_data shape is :  (2048, 2448)\n",
      "im90 shape is :  (1024, 1224)\n",
      "Stokes time:  0.0279848575592041 s\n",
      "im_stokes0 shape is :  (1024, 1224)\n",
      "DoLP time:  0.040976524353027344 s\n",
      "im_DOLP shape is :  (1024, 1224)\n",
      "Time for DOLP2Theta conversion is :  23.966407775878906 seconds\n",
      "False\n",
      "AoLP time:  0.05196952819824219 s\n"
     ]
    },
    {
     "name": "stderr",
     "output_type": "stream",
     "text": [
      "\r",
      " 12%|█████████▊                                                                     | 28/225 [11:54<1:25:21, 26.00s/it]"
     ]
    },
    {
     "name": "stdout",
     "output_type": "stream",
     "text": [
      "Processing data for material : WATER\n",
      "image_data shape is :  (2048, 2448)\n",
      "im90 shape is :  (1024, 1224)\n",
      "Stokes time:  0.0299837589263916 s\n",
      "im_stokes0 shape is :  (1024, 1224)\n",
      "DoLP time:  0.04000449180603027 s\n",
      "im_DOLP shape is :  (1024, 1224)\n",
      "Time for DOLP2Theta conversion is :  23.53808045387268 seconds\n",
      "False\n",
      "AoLP time:  0.04397416114807129 s\n"
     ]
    },
    {
     "name": "stderr",
     "output_type": "stream",
     "text": [
      "\r",
      " 13%|██████████▏                                                                    | 29/225 [12:19<1:23:17, 25.50s/it]"
     ]
    },
    {
     "name": "stdout",
     "output_type": "stream",
     "text": [
      "Processing data for material : WATER\n",
      "image_data shape is :  (2048, 2448)\n",
      "im90 shape is :  (1024, 1224)\n",
      "Stokes time:  0.02998185157775879 s\n",
      "im_stokes0 shape is :  (1024, 1224)\n",
      "DoLP time:  0.04097700119018555 s\n",
      "im_DOLP shape is :  (1024, 1224)\n",
      "Time for DOLP2Theta conversion is :  23.978955507278442 seconds\n",
      "False\n",
      "AoLP time:  0.047971487045288086 s\n"
     ]
    },
    {
     "name": "stderr",
     "output_type": "stream",
     "text": [
      "\r",
      " 13%|██████████▌                                                                    | 30/225 [12:44<1:22:11, 25.29s/it]"
     ]
    },
    {
     "name": "stdout",
     "output_type": "stream",
     "text": [
      "Processing data for material : WATER\n",
      "image_data shape is :  (2048, 2448)\n",
      "im90 shape is :  (1024, 1224)\n",
      "Stokes time:  0.028985023498535156 s\n",
      "im_stokes0 shape is :  (1024, 1224)\n",
      "DoLP time:  0.03897714614868164 s\n",
      "im_DOLP shape is :  (1024, 1224)\n",
      "Time for DOLP2Theta conversion is :  24.239684104919434 seconds\n",
      "False\n",
      "AoLP time:  0.048972129821777344 s\n"
     ]
    },
    {
     "name": "stderr",
     "output_type": "stream",
     "text": [
      "\r",
      " 14%|██████████▉                                                                    | 31/225 [13:09<1:21:35, 25.23s/it]"
     ]
    },
    {
     "name": "stdout",
     "output_type": "stream",
     "text": [
      "Processing data for material : WATER\n",
      "image_data shape is :  (2048, 2448)\n",
      "im90 shape is :  (1024, 1224)\n",
      "Stokes time:  0.02999401092529297 s\n",
      "im_stokes0 shape is :  (1024, 1224)\n",
      "DoLP time:  0.03797626495361328 s\n",
      "im_DOLP shape is :  (1024, 1224)\n",
      "Time for DOLP2Theta conversion is :  24.053186655044556 seconds\n",
      "False\n",
      "AoLP time:  0.044972896575927734 s\n"
     ]
    },
    {
     "name": "stderr",
     "output_type": "stream",
     "text": [
      "\r",
      " 14%|███████████▏                                                                   | 32/225 [13:34<1:20:52, 25.14s/it]"
     ]
    },
    {
     "name": "stdout",
     "output_type": "stream",
     "text": [
      "Processing data for material : WATER\n",
      "image_data shape is :  (2048, 2448)\n",
      "im90 shape is :  (1024, 1224)\n",
      "Stokes time:  0.029982566833496094 s\n",
      "im_stokes0 shape is :  (1024, 1224)\n",
      "DoLP time:  0.04796957969665527 s\n",
      "im_DOLP shape is :  (1024, 1224)\n",
      "Time for DOLP2Theta conversion is :  25.039963960647583 seconds\n",
      "False\n",
      "AoLP time:  0.04697251319885254 s\n"
     ]
    },
    {
     "name": "stderr",
     "output_type": "stream",
     "text": [
      "\r",
      " 15%|███████████▌                                                                   | 33/225 [13:59<1:21:10, 25.37s/it]"
     ]
    },
    {
     "name": "stdout",
     "output_type": "stream",
     "text": [
      "Processing data for material : WATER\n",
      "image_data shape is :  (2048, 2448)\n",
      "im90 shape is :  (1024, 1224)\n",
      "Stokes time:  0.0319819450378418 s\n",
      "im_stokes0 shape is :  (1024, 1224)\n",
      "DoLP time:  0.049971580505371094 s\n",
      "im_DOLP shape is :  (1024, 1224)\n",
      "Time for DOLP2Theta conversion is :  24.609052419662476 seconds\n",
      "False\n",
      "AoLP time:  0.047971248626708984 s\n"
     ]
    },
    {
     "name": "stderr",
     "output_type": "stream",
     "text": [
      "\r",
      " 15%|███████████▉                                                                   | 34/225 [14:25<1:20:49, 25.39s/it]"
     ]
    },
    {
     "name": "stdout",
     "output_type": "stream",
     "text": [
      "Processing data for material : WATER\n",
      "image_data shape is :  (2048, 2448)\n",
      "im90 shape is :  (1024, 1224)\n",
      "Stokes time:  0.033980369567871094 s\n",
      "im_stokes0 shape is :  (1024, 1224)\n",
      "DoLP time:  0.04097628593444824 s\n",
      "im_DOLP shape is :  (1024, 1224)\n",
      "Time for DOLP2Theta conversion is :  24.686281204223633 seconds\n",
      "False\n",
      "AoLP time:  0.04597282409667969 s\n"
     ]
    },
    {
     "name": "stderr",
     "output_type": "stream",
     "text": [
      "\r",
      " 16%|████████████▎                                                                  | 35/225 [14:51<1:20:35, 25.45s/it]"
     ]
    },
    {
     "name": "stdout",
     "output_type": "stream",
     "text": [
      "Processing data for material : WATER\n",
      "image_data shape is :  (2048, 2448)\n",
      "im90 shape is :  (1024, 1224)\n",
      "Stokes time:  0.03597855567932129 s\n",
      "im_stokes0 shape is :  (1024, 1224)\n",
      "DoLP time:  0.04197549819946289 s\n",
      "im_DOLP shape is :  (1024, 1224)\n",
      "Time for DOLP2Theta conversion is :  24.68505573272705 seconds\n",
      "False\n",
      "AoLP time:  0.04697251319885254 s\n"
     ]
    },
    {
     "name": "stderr",
     "output_type": "stream",
     "text": [
      "\r",
      " 16%|████████████▋                                                                  | 36/225 [15:16<1:20:14, 25.47s/it]"
     ]
    },
    {
     "name": "stdout",
     "output_type": "stream",
     "text": [
      "Processing data for material : WATER\n",
      "image_data shape is :  (2048, 2448)\n",
      "im90 shape is :  (1024, 1224)\n",
      "Stokes time:  0.0279848575592041 s\n",
      "im_stokes0 shape is :  (1024, 1224)\n",
      "DoLP time:  0.040975332260131836 s\n",
      "im_DOLP shape is :  (1024, 1224)\n",
      "Time for DOLP2Theta conversion is :  24.89004635810852 seconds\n",
      "False\n",
      "AoLP time:  0.04897284507751465 s\n"
     ]
    },
    {
     "name": "stderr",
     "output_type": "stream",
     "text": [
      "\r",
      " 16%|████████████▉                                                                  | 37/225 [15:42<1:20:04, 25.56s/it]"
     ]
    },
    {
     "name": "stdout",
     "output_type": "stream",
     "text": [
      "Processing data for material : WATER\n",
      "image_data shape is :  (2048, 2448)\n",
      "im90 shape is :  (1024, 1224)\n",
      "Stokes time:  0.0319819450378418 s\n",
      "im_stokes0 shape is :  (1024, 1224)\n",
      "DoLP time:  0.037976980209350586 s\n",
      "im_DOLP shape is :  (1024, 1224)\n",
      "Time for DOLP2Theta conversion is :  25.068159580230713 seconds\n",
      "False\n",
      "AoLP time:  0.043433189392089844 s\n"
     ]
    },
    {
     "name": "stderr",
     "output_type": "stream",
     "text": [
      "\r",
      " 17%|█████████████▎                                                                 | 38/225 [16:08<1:19:54, 25.64s/it]"
     ]
    },
    {
     "name": "stdout",
     "output_type": "stream",
     "text": [
      "Processing data for material : WATER\n",
      "image_data shape is :  (2048, 2448)\n",
      "im90 shape is :  (1024, 1224)\n",
      "Stokes time:  0.027985334396362305 s\n",
      "im_stokes0 shape is :  (1024, 1224)\n",
      "DoLP time:  0.03797769546508789 s\n",
      "im_DOLP shape is :  (1024, 1224)\n",
      "Time for DOLP2Theta conversion is :  23.916093826293945 seconds\n",
      "False\n",
      "AoLP time:  0.04097557067871094 s\n"
     ]
    },
    {
     "name": "stderr",
     "output_type": "stream",
     "text": [
      "\r",
      " 17%|█████████████▋                                                                 | 39/225 [16:32<1:18:39, 25.37s/it]"
     ]
    },
    {
     "name": "stdout",
     "output_type": "stream",
     "text": [
      "Processing data for material : WATER\n",
      "image_data shape is :  (2048, 2448)\n",
      "im90 shape is :  (1024, 1224)\n",
      "Stokes time:  0.02698373794555664 s\n",
      "im_stokes0 shape is :  (1024, 1224)\n",
      "DoLP time:  0.03797769546508789 s\n",
      "im_DOLP shape is :  (1024, 1224)\n",
      "Time for DOLP2Theta conversion is :  23.635252475738525 seconds\n",
      "False\n",
      "AoLP time:  0.040976524353027344 s\n"
     ]
    },
    {
     "name": "stderr",
     "output_type": "stream",
     "text": [
      "\r",
      " 18%|██████████████                                                                 | 40/225 [16:57<1:17:20, 25.08s/it]"
     ]
    },
    {
     "name": "stdout",
     "output_type": "stream",
     "text": [
      "Processing data for material : WATER\n",
      "image_data shape is :  (2048, 2448)\n",
      "im90 shape is :  (1024, 1224)\n",
      "Stokes time:  0.026983022689819336 s\n",
      "im_stokes0 shape is :  (1024, 1224)\n",
      "DoLP time:  0.038974761962890625 s\n",
      "im_DOLP shape is :  (1024, 1224)\n",
      "Time for DOLP2Theta conversion is :  24.37588119506836 seconds\n",
      "False\n",
      "AoLP time:  0.04197549819946289 s\n"
     ]
    },
    {
     "name": "stderr",
     "output_type": "stream",
     "text": [
      "\r",
      " 18%|██████████████▍                                                                | 41/225 [17:22<1:17:09, 25.16s/it]"
     ]
    },
    {
     "name": "stdout",
     "output_type": "stream",
     "text": [
      "Processing data for material : WATER\n",
      "image_data shape is :  (2048, 2448)\n",
      "im90 shape is :  (1024, 1224)\n",
      "Stokes time:  0.02898406982421875 s\n",
      "im_stokes0 shape is :  (1024, 1224)\n",
      "DoLP time:  0.035979270935058594 s\n",
      "im_DOLP shape is :  (1024, 1224)\n",
      "Time for DOLP2Theta conversion is :  24.827215909957886 seconds\n",
      "False\n",
      "AoLP time:  0.0459747314453125 s\n"
     ]
    },
    {
     "name": "stderr",
     "output_type": "stream",
     "text": [
      "\r",
      " 19%|██████████████▋                                                                | 42/225 [17:48<1:17:12, 25.31s/it]"
     ]
    },
    {
     "name": "stdout",
     "output_type": "stream",
     "text": [
      "Processing data for material : WATER\n",
      "image_data shape is :  (2048, 2448)\n",
      "im90 shape is :  (1024, 1224)\n",
      "Stokes time:  0.02998208999633789 s\n",
      "im_stokes0 shape is :  (1024, 1224)\n",
      "DoLP time:  0.034979820251464844 s\n",
      "im_DOLP shape is :  (1024, 1224)\n",
      "Time for DOLP2Theta conversion is :  23.740421056747437 seconds\n",
      "False\n",
      "AoLP time:  0.04197573661804199 s\n"
     ]
    },
    {
     "name": "stderr",
     "output_type": "stream",
     "text": [
      "\r",
      " 19%|███████████████                                                                | 43/225 [18:12<1:16:03, 25.07s/it]"
     ]
    },
    {
     "name": "stdout",
     "output_type": "stream",
     "text": [
      "Processing data for material : WATER\n",
      "image_data shape is :  (2048, 2448)\n",
      "im90 shape is :  (1024, 1224)\n",
      "Stokes time:  0.027984142303466797 s\n",
      "im_stokes0 shape is :  (1024, 1224)\n",
      "DoLP time:  0.04097485542297363 s\n",
      "im_DOLP shape is :  (1024, 1224)\n",
      "Time for DOLP2Theta conversion is :  23.522625207901 seconds\n",
      "False\n",
      "AoLP time:  0.03897595405578613 s\n"
     ]
    },
    {
     "name": "stderr",
     "output_type": "stream",
     "text": [
      "\r",
      " 20%|███████████████▍                                                               | 44/225 [18:37<1:14:57, 24.85s/it]"
     ]
    },
    {
     "name": "stdout",
     "output_type": "stream",
     "text": [
      "Processing data for material : WATER\n",
      "image_data shape is :  (2048, 2448)\n",
      "im90 shape is :  (1024, 1224)\n",
      "Stokes time:  0.03098273277282715 s\n",
      "im_stokes0 shape is :  (1024, 1224)\n",
      "DoLP time:  0.04197502136230469 s\n",
      "im_DOLP shape is :  (1024, 1224)\n",
      "Time for DOLP2Theta conversion is :  23.40428638458252 seconds\n",
      "False\n",
      "AoLP time:  0.04597163200378418 s\n"
     ]
    },
    {
     "name": "stderr",
     "output_type": "stream",
     "text": [
      "\r",
      " 20%|███████████████▊                                                               | 45/225 [19:01<1:13:57, 24.65s/it]"
     ]
    },
    {
     "name": "stdout",
     "output_type": "stream",
     "text": [
      "Processing data for material : WATER\n",
      "image_data shape is :  (2048, 2448)\n",
      "im90 shape is :  (1024, 1224)\n",
      "Stokes time:  0.030981063842773438 s\n",
      "im_stokes0 shape is :  (1024, 1224)\n",
      "DoLP time:  0.0359807014465332 s\n",
      "im_DOLP shape is :  (1024, 1224)\n",
      "Time for DOLP2Theta conversion is :  23.92620611190796 seconds\n",
      "False\n",
      "AoLP time:  0.04097604751586914 s\n"
     ]
    },
    {
     "name": "stderr",
     "output_type": "stream",
     "text": [
      "\r",
      " 20%|████████████████▏                                                              | 46/225 [19:26<1:13:37, 24.68s/it]"
     ]
    },
    {
     "name": "stdout",
     "output_type": "stream",
     "text": [
      "Processing data for material : WATER\n",
      "image_data shape is :  (2048, 2448)\n",
      "im90 shape is :  (1024, 1224)\n",
      "Stokes time:  0.029981613159179688 s\n",
      "im_stokes0 shape is :  (1024, 1224)\n",
      "DoLP time:  0.038976192474365234 s\n",
      "im_DOLP shape is :  (1024, 1224)\n",
      "Time for DOLP2Theta conversion is :  23.84977078437805 seconds\n",
      "False\n",
      "AoLP time:  0.041979312896728516 s\n"
     ]
    },
    {
     "name": "stderr",
     "output_type": "stream",
     "text": [
      "\r",
      " 21%|████████████████▌                                                              | 47/225 [19:50<1:13:13, 24.68s/it]"
     ]
    },
    {
     "name": "stdout",
     "output_type": "stream",
     "text": [
      "Processing data for material : WATER\n",
      "image_data shape is :  (2048, 2448)\n",
      "im90 shape is :  (1024, 1224)\n",
      "Stokes time:  0.031980276107788086 s\n",
      "im_stokes0 shape is :  (1024, 1224)\n",
      "DoLP time:  0.03897714614868164 s\n",
      "im_DOLP shape is :  (1024, 1224)\n",
      "Time for DOLP2Theta conversion is :  24.043170928955078 seconds\n",
      "False\n",
      "AoLP time:  0.05396842956542969 s\n"
     ]
    },
    {
     "name": "stderr",
     "output_type": "stream",
     "text": [
      "\r",
      " 21%|████████████████▊                                                              | 48/225 [20:15<1:13:00, 24.75s/it]"
     ]
    },
    {
     "name": "stdout",
     "output_type": "stream",
     "text": [
      "Processing data for material : WATER\n",
      "image_data shape is :  (2048, 2448)\n",
      "im90 shape is :  (1024, 1224)\n",
      "Stokes time:  0.03098130226135254 s\n",
      "im_stokes0 shape is :  (1024, 1224)\n",
      "DoLP time:  0.033979177474975586 s\n",
      "im_DOLP shape is :  (1024, 1224)\n",
      "Time for DOLP2Theta conversion is :  23.928303956985474 seconds\n",
      "False\n",
      "AoLP time:  0.04497385025024414 s\n"
     ]
    },
    {
     "name": "stderr",
     "output_type": "stream",
     "text": [
      "\r",
      " 22%|█████████████████▏                                                             | 49/225 [20:40<1:12:35, 24.75s/it]"
     ]
    },
    {
     "name": "stdout",
     "output_type": "stream",
     "text": [
      "Processing data for material : WATER\n",
      "image_data shape is :  (2048, 2448)\n",
      "im90 shape is :  (1024, 1224)\n",
      "Stokes time:  0.030982255935668945 s\n",
      "im_stokes0 shape is :  (1024, 1224)\n",
      "DoLP time:  0.03497958183288574 s\n",
      "im_DOLP shape is :  (1024, 1224)\n",
      "Time for DOLP2Theta conversion is :  23.487910270690918 seconds\n",
      "False\n",
      "AoLP time:  0.058965206146240234 s\n"
     ]
    },
    {
     "name": "stderr",
     "output_type": "stream",
     "text": [
      "\r",
      " 22%|█████████████████▌                                                             | 50/225 [21:04<1:11:48, 24.62s/it]"
     ]
    },
    {
     "name": "stdout",
     "output_type": "stream",
     "text": [
      "Processing data for material : WATER\n",
      "image_data shape is :  (2048, 2448)\n",
      "im90 shape is :  (1024, 1224)\n",
      "Stokes time:  0.03198099136352539 s\n",
      "im_stokes0 shape is :  (1024, 1224)\n",
      "DoLP time:  0.03597879409790039 s\n",
      "im_DOLP shape is :  (1024, 1224)\n",
      "Time for DOLP2Theta conversion is :  23.54525375366211 seconds\n",
      "False\n",
      "AoLP time:  0.04397439956665039 s\n"
     ]
    },
    {
     "name": "stderr",
     "output_type": "stream",
     "text": [
      "\r",
      " 23%|█████████████████▉                                                             | 51/225 [21:29<1:11:07, 24.52s/it]"
     ]
    },
    {
     "name": "stdout",
     "output_type": "stream",
     "text": [
      "Processing data for material : WATER\n",
      "image_data shape is :  (2048, 2448)\n",
      "im90 shape is :  (1024, 1224)\n",
      "Stokes time:  0.0279843807220459 s\n",
      "im_stokes0 shape is :  (1024, 1224)\n",
      "DoLP time:  0.03797745704650879 s\n",
      "im_DOLP shape is :  (1024, 1224)\n",
      "Time for DOLP2Theta conversion is :  23.792940855026245 seconds\n",
      "False\n",
      "AoLP time:  0.04597330093383789 s\n"
     ]
    },
    {
     "name": "stderr",
     "output_type": "stream",
     "text": [
      "\r",
      " 23%|██████████████████▎                                                            | 52/225 [21:53<1:10:48, 24.56s/it]"
     ]
    },
    {
     "name": "stdout",
     "output_type": "stream",
     "text": [
      "Processing data for material : WATER\n",
      "image_data shape is :  (2048, 2448)\n",
      "im90 shape is :  (1024, 1224)\n",
      "Stokes time:  0.028982877731323242 s\n",
      "im_stokes0 shape is :  (1024, 1224)\n",
      "DoLP time:  0.03897905349731445 s\n",
      "im_DOLP shape is :  (1024, 1224)\n",
      "Time for DOLP2Theta conversion is :  23.898342847824097 seconds\n",
      "False\n",
      "AoLP time:  0.04397392272949219 s\n"
     ]
    },
    {
     "name": "stderr",
     "output_type": "stream",
     "text": [
      "\r",
      " 24%|██████████████████▌                                                            | 53/225 [22:18<1:10:29, 24.59s/it]"
     ]
    },
    {
     "name": "stdout",
     "output_type": "stream",
     "text": [
      "Processing data for material : WATER\n",
      "image_data shape is :  (2048, 2448)\n",
      "im90 shape is :  (1024, 1224)\n",
      "Stokes time:  0.027983903884887695 s\n",
      "im_stokes0 shape is :  (1024, 1224)\n",
      "DoLP time:  0.039977312088012695 s\n",
      "im_DOLP shape is :  (1024, 1224)\n",
      "Time for DOLP2Theta conversion is :  24.117101430892944 seconds\n",
      "False\n",
      "AoLP time:  0.041974544525146484 s\n"
     ]
    },
    {
     "name": "stderr",
     "output_type": "stream",
     "text": [
      "\r",
      " 24%|██████████████████▉                                                            | 54/225 [22:43<1:10:23, 24.70s/it]"
     ]
    },
    {
     "name": "stdout",
     "output_type": "stream",
     "text": [
      "Processing data for material : WATER\n",
      "image_data shape is :  (2048, 2448)\n",
      "im90 shape is :  (1024, 1224)\n",
      "Stokes time:  0.02898383140563965 s\n",
      "im_stokes0 shape is :  (1024, 1224)\n",
      "DoLP time:  0.037978172302246094 s\n",
      "im_DOLP shape is :  (1024, 1224)\n",
      "Time for DOLP2Theta conversion is :  23.571112155914307 seconds\n",
      "False\n",
      "AoLP time:  0.04297447204589844 s\n"
     ]
    },
    {
     "name": "stderr",
     "output_type": "stream",
     "text": [
      "\r",
      " 24%|███████████████████▎                                                           | 55/225 [23:07<1:09:38, 24.58s/it]"
     ]
    },
    {
     "name": "stdout",
     "output_type": "stream",
     "text": [
      "Processing data for material : WATER\n",
      "image_data shape is :  (2048, 2448)\n",
      "im90 shape is :  (1024, 1224)\n",
      "Stokes time:  0.027984142303466797 s\n",
      "im_stokes0 shape is :  (1024, 1224)\n",
      "DoLP time:  0.038977861404418945 s\n",
      "im_DOLP shape is :  (1024, 1224)\n",
      "Time for DOLP2Theta conversion is :  23.37371253967285 seconds\n",
      "False\n",
      "AoLP time:  0.047972917556762695 s\n"
     ]
    },
    {
     "name": "stderr",
     "output_type": "stream",
     "text": [
      "\r",
      " 25%|███████████████████▋                                                           | 56/225 [23:31<1:08:51, 24.45s/it]"
     ]
    },
    {
     "name": "stdout",
     "output_type": "stream",
     "text": [
      "Processing data for material : WATER\n",
      "image_data shape is :  (2048, 2448)\n",
      "im90 shape is :  (1024, 1224)\n",
      "Stokes time:  0.03297996520996094 s\n",
      "im_stokes0 shape is :  (1024, 1224)\n",
      "DoLP time:  0.036977529525756836 s\n",
      "im_DOLP shape is :  (1024, 1224)\n",
      "Time for DOLP2Theta conversion is :  23.976977825164795 seconds\n",
      "False\n",
      "AoLP time:  0.044971466064453125 s\n"
     ]
    },
    {
     "name": "stderr",
     "output_type": "stream",
     "text": [
      "\r",
      " 25%|████████████████████                                                           | 57/225 [23:56<1:08:41, 24.53s/it]"
     ]
    },
    {
     "name": "stdout",
     "output_type": "stream",
     "text": [
      "Processing data for material : WATER\n",
      "image_data shape is :  (2048, 2448)\n",
      "im90 shape is :  (1024, 1224)\n",
      "Stokes time:  0.02698373794555664 s\n",
      "im_stokes0 shape is :  (1024, 1224)\n",
      "DoLP time:  0.036977529525756836 s\n",
      "im_DOLP shape is :  (1024, 1224)\n",
      "Time for DOLP2Theta conversion is :  23.851364374160767 seconds\n",
      "False\n",
      "AoLP time:  0.0419769287109375 s\n"
     ]
    },
    {
     "name": "stderr",
     "output_type": "stream",
     "text": [
      "\r",
      " 26%|████████████████████▎                                                          | 58/225 [24:21<1:08:19, 24.55s/it]"
     ]
    },
    {
     "name": "stdout",
     "output_type": "stream",
     "text": [
      "Processing data for material : WATER\n",
      "image_data shape is :  (2048, 2448)\n",
      "im90 shape is :  (1024, 1224)\n",
      "Stokes time:  0.029984474182128906 s\n",
      "im_stokes0 shape is :  (1024, 1224)\n",
      "DoLP time:  0.03797650337219238 s\n",
      "im_DOLP shape is :  (1024, 1224)\n",
      "Time for DOLP2Theta conversion is :  23.89655089378357 seconds\n",
      "False\n",
      "AoLP time:  0.03897595405578613 s\n"
     ]
    },
    {
     "name": "stderr",
     "output_type": "stream",
     "text": [
      "\r",
      " 26%|████████████████████▋                                                          | 59/225 [24:45<1:07:59, 24.57s/it]"
     ]
    },
    {
     "name": "stdout",
     "output_type": "stream",
     "text": [
      "Processing data for material : WATER\n",
      "image_data shape is :  (2048, 2448)\n",
      "im90 shape is :  (1024, 1224)\n",
      "Stokes time:  0.03198361396789551 s\n",
      "im_stokes0 shape is :  (1024, 1224)\n",
      "DoLP time:  0.03997445106506348 s\n",
      "im_DOLP shape is :  (1024, 1224)\n",
      "Time for DOLP2Theta conversion is :  23.814690828323364 seconds\n",
      "False\n",
      "AoLP time:  0.04097461700439453 s\n"
     ]
    },
    {
     "name": "stderr",
     "output_type": "stream",
     "text": [
      "\r",
      " 27%|█████████████████████                                                          | 60/225 [25:10<1:07:33, 24.57s/it]"
     ]
    },
    {
     "name": "stdout",
     "output_type": "stream",
     "text": [
      "Processing data for material : WATER\n",
      "image_data shape is :  (2048, 2448)\n",
      "im90 shape is :  (1024, 1224)\n",
      "Stokes time:  0.028983116149902344 s\n",
      "im_stokes0 shape is :  (1024, 1224)\n",
      "DoLP time:  0.03797793388366699 s\n",
      "im_DOLP shape is :  (1024, 1224)\n",
      "Time for DOLP2Theta conversion is :  23.553077936172485 seconds\n",
      "False\n",
      "AoLP time:  0.04097414016723633 s\n"
     ]
    },
    {
     "name": "stderr",
     "output_type": "stream",
     "text": [
      "\r",
      " 27%|█████████████████████▍                                                         | 61/225 [25:34<1:06:54, 24.48s/it]"
     ]
    },
    {
     "name": "stdout",
     "output_type": "stream",
     "text": [
      "Processing data for material : WATER\n",
      "image_data shape is :  (2048, 2448)\n",
      "im90 shape is :  (1024, 1224)\n",
      "Stokes time:  0.03198122978210449 s\n",
      "im_stokes0 shape is :  (1024, 1224)\n",
      "DoLP time:  0.03597831726074219 s\n",
      "im_DOLP shape is :  (1024, 1224)\n",
      "Time for DOLP2Theta conversion is :  23.963180780410767 seconds\n",
      "False\n",
      "AoLP time:  0.041974544525146484 s\n"
     ]
    },
    {
     "name": "stderr",
     "output_type": "stream",
     "text": [
      "\r",
      " 28%|█████████████████████▊                                                         | 62/225 [25:59<1:06:41, 24.55s/it]"
     ]
    },
    {
     "name": "stdout",
     "output_type": "stream",
     "text": [
      "Processing data for material : WATER\n",
      "image_data shape is :  (2048, 2448)\n",
      "im90 shape is :  (1024, 1224)\n",
      "Stokes time:  0.027984619140625 s\n",
      "im_stokes0 shape is :  (1024, 1224)\n",
      "DoLP time:  0.03997635841369629 s\n",
      "im_DOLP shape is :  (1024, 1224)\n",
      "Time for DOLP2Theta conversion is :  25.680794954299927 seconds\n",
      "False\n",
      "AoLP time:  0.05396914482116699 s\n"
     ]
    },
    {
     "name": "stderr",
     "output_type": "stream",
     "text": [
      "\r",
      " 28%|██████████████████████                                                         | 63/225 [26:26<1:08:10, 25.25s/it]"
     ]
    },
    {
     "name": "stdout",
     "output_type": "stream",
     "text": [
      "Processing data for material : WATER\n",
      "image_data shape is :  (2048, 2448)\n",
      "im90 shape is :  (1024, 1224)\n",
      "Stokes time:  0.02898430824279785 s\n",
      "im_stokes0 shape is :  (1024, 1224)\n",
      "DoLP time:  0.037976980209350586 s\n",
      "im_DOLP shape is :  (1024, 1224)\n",
      "Time for DOLP2Theta conversion is :  25.006945371627808 seconds\n",
      "False\n",
      "AoLP time:  0.044974327087402344 s\n"
     ]
    },
    {
     "name": "stderr",
     "output_type": "stream",
     "text": [
      "\r",
      " 28%|██████████████████████▍                                                        | 64/225 [26:51<1:08:11, 25.41s/it]"
     ]
    },
    {
     "name": "stdout",
     "output_type": "stream",
     "text": [
      "Processing data for material : WATER\n",
      "image_data shape is :  (2048, 2448)\n",
      "im90 shape is :  (1024, 1224)\n",
      "Stokes time:  0.030982255935668945 s\n",
      "im_stokes0 shape is :  (1024, 1224)\n",
      "DoLP time:  0.03897714614868164 s\n",
      "im_DOLP shape is :  (1024, 1224)\n",
      "Time for DOLP2Theta conversion is :  24.652886867523193 seconds\n",
      "False\n",
      "AoLP time:  0.045973777770996094 s\n"
     ]
    },
    {
     "name": "stderr",
     "output_type": "stream",
     "text": [
      "\r",
      " 29%|██████████████████████▊                                                        | 65/225 [27:17<1:07:47, 25.42s/it]"
     ]
    },
    {
     "name": "stdout",
     "output_type": "stream",
     "text": [
      "Processing data for material : WATER\n",
      "image_data shape is :  (2048, 2448)\n",
      "im90 shape is :  (1024, 1224)\n",
      "Stokes time:  0.03198122978210449 s\n",
      "im_stokes0 shape is :  (1024, 1224)\n",
      "DoLP time:  0.03997611999511719 s\n",
      "im_DOLP shape is :  (1024, 1224)\n",
      "Time for DOLP2Theta conversion is :  24.270148038864136 seconds\n",
      "False\n",
      "AoLP time:  0.044974327087402344 s\n"
     ]
    },
    {
     "name": "stderr",
     "output_type": "stream",
     "text": [
      "\r",
      " 29%|███████████████████████▏                                                       | 66/225 [27:42<1:07:07, 25.33s/it]"
     ]
    },
    {
     "name": "stdout",
     "output_type": "stream",
     "text": [
      "Processing data for material : WATER\n",
      "image_data shape is :  (2048, 2448)\n",
      "im90 shape is :  (1024, 1224)\n",
      "Stokes time:  0.03298139572143555 s\n",
      "im_stokes0 shape is :  (1024, 1224)\n",
      "DoLP time:  0.04197525978088379 s\n",
      "im_DOLP shape is :  (1024, 1224)\n",
      "Time for DOLP2Theta conversion is :  23.557060956954956 seconds\n",
      "False\n",
      "AoLP time:  0.04870033264160156 s\n"
     ]
    },
    {
     "name": "stderr",
     "output_type": "stream",
     "text": [
      "\r",
      " 30%|███████████████████████▌                                                       | 67/225 [28:06<1:05:55, 25.03s/it]"
     ]
    },
    {
     "name": "stdout",
     "output_type": "stream",
     "text": [
      "Processing data for material : WATER\n",
      "image_data shape is :  (2048, 2448)\n",
      "im90 shape is :  (1024, 1224)\n",
      "Stokes time:  0.028981447219848633 s\n",
      "im_stokes0 shape is :  (1024, 1224)\n",
      "DoLP time:  0.0399775505065918 s\n",
      "im_DOLP shape is :  (1024, 1224)\n",
      "Time for DOLP2Theta conversion is :  23.61522126197815 seconds\n",
      "False\n",
      "AoLP time:  0.044972896575927734 s\n"
     ]
    },
    {
     "name": "stderr",
     "output_type": "stream",
     "text": [
      "\r",
      " 30%|███████████████████████▉                                                       | 68/225 [28:31<1:04:57, 24.83s/it]"
     ]
    },
    {
     "name": "stdout",
     "output_type": "stream",
     "text": [
      "Processing data for material : WATER\n",
      "image_data shape is :  (2048, 2448)\n",
      "im90 shape is :  (1024, 1224)\n",
      "Stokes time:  0.03198051452636719 s\n",
      "im_stokes0 shape is :  (1024, 1224)\n",
      "DoLP time:  0.040009498596191406 s\n",
      "im_DOLP shape is :  (1024, 1224)\n",
      "Time for DOLP2Theta conversion is :  23.502651691436768 seconds\n",
      "False\n",
      "AoLP time:  0.04397392272949219 s\n"
     ]
    },
    {
     "name": "stderr",
     "output_type": "stream",
     "text": [
      "\r",
      " 31%|████████████████████████▏                                                      | 69/225 [28:55<1:04:09, 24.67s/it]"
     ]
    },
    {
     "name": "stdout",
     "output_type": "stream",
     "text": [
      "Processing data for material : WATER\n",
      "image_data shape is :  (2048, 2448)\n",
      "im90 shape is :  (1024, 1224)\n",
      "Stokes time:  0.02898263931274414 s\n",
      "im_stokes0 shape is :  (1024, 1224)\n",
      "DoLP time:  0.04297351837158203 s\n",
      "im_DOLP shape is :  (1024, 1224)\n",
      "Time for DOLP2Theta conversion is :  23.407270193099976 seconds\n",
      "False\n",
      "AoLP time:  0.043973684310913086 s\n"
     ]
    },
    {
     "name": "stderr",
     "output_type": "stream",
     "text": [
      "\r",
      " 31%|████████████████████████▌                                                      | 70/225 [29:19<1:03:19, 24.51s/it]"
     ]
    },
    {
     "name": "stdout",
     "output_type": "stream",
     "text": [
      "Processing data for material : WATER\n",
      "image_data shape is :  (2048, 2448)\n",
      "im90 shape is :  (1024, 1224)\n",
      "Stokes time:  0.029979944229125977 s\n",
      "im_stokes0 shape is :  (1024, 1224)\n",
      "DoLP time:  0.039977073669433594 s\n",
      "im_DOLP shape is :  (1024, 1224)\n",
      "Time for DOLP2Theta conversion is :  23.483505249023438 seconds\n",
      "False\n",
      "AoLP time:  0.04548168182373047 s\n"
     ]
    },
    {
     "name": "stderr",
     "output_type": "stream",
     "text": [
      "\r",
      " 32%|████████████████████████▉                                                      | 71/225 [29:43<1:02:42, 24.43s/it]"
     ]
    },
    {
     "name": "stdout",
     "output_type": "stream",
     "text": [
      "Processing data for material : WATER\n",
      "image_data shape is :  (2048, 2448)\n",
      "im90 shape is :  (1024, 1224)\n",
      "Stokes time:  0.030982017517089844 s\n",
      "im_stokes0 shape is :  (1024, 1224)\n",
      "DoLP time:  0.04197502136230469 s\n",
      "im_DOLP shape is :  (1024, 1224)\n",
      "Time for DOLP2Theta conversion is :  23.65894651412964 seconds\n",
      "False\n",
      "AoLP time:  0.0459744930267334 s\n"
     ]
    },
    {
     "name": "stderr",
     "output_type": "stream",
     "text": [
      "\r",
      " 32%|█████████████████████████▎                                                     | 72/225 [30:08<1:02:20, 24.45s/it]"
     ]
    },
    {
     "name": "stdout",
     "output_type": "stream",
     "text": [
      "Processing data for material : WATER\n",
      "image_data shape is :  (2048, 2448)\n",
      "im90 shape is :  (1024, 1224)\n",
      "Stokes time:  0.030493497848510742 s\n",
      "im_stokes0 shape is :  (1024, 1224)\n",
      "DoLP time:  0.03697943687438965 s\n",
      "im_DOLP shape is :  (1024, 1224)\n",
      "Time for DOLP2Theta conversion is :  23.427539587020874 seconds\n",
      "False\n",
      "AoLP time:  0.04197359085083008 s\n"
     ]
    },
    {
     "name": "stderr",
     "output_type": "stream",
     "text": [
      "\r",
      " 32%|█████████████████████████▋                                                     | 73/225 [30:32<1:01:45, 24.38s/it]"
     ]
    },
    {
     "name": "stdout",
     "output_type": "stream",
     "text": [
      "Processing data for material : WATER\n",
      "image_data shape is :  (2048, 2448)\n",
      "im90 shape is :  (1024, 1224)\n",
      "Stokes time:  0.029982566833496094 s\n",
      "im_stokes0 shape is :  (1024, 1224)\n",
      "DoLP time:  0.03797745704650879 s\n",
      "im_DOLP shape is :  (1024, 1224)\n",
      "Time for DOLP2Theta conversion is :  23.264399528503418 seconds\n",
      "False\n",
      "AoLP time:  0.05596733093261719 s\n"
     ]
    },
    {
     "name": "stderr",
     "output_type": "stream",
     "text": [
      "\r",
      " 33%|█████████████████████████▉                                                     | 74/225 [30:56<1:01:06, 24.28s/it]"
     ]
    },
    {
     "name": "stdout",
     "output_type": "stream",
     "text": [
      "Processing data for material : WATER\n",
      "image_data shape is :  (2048, 2448)\n",
      "im90 shape is :  (1024, 1224)\n",
      "Stokes time:  0.029983043670654297 s\n",
      "im_stokes0 shape is :  (1024, 1224)\n",
      "DoLP time:  0.03697848320007324 s\n",
      "im_DOLP shape is :  (1024, 1224)\n",
      "Time for DOLP2Theta conversion is :  23.68027114868164 seconds\n",
      "False\n",
      "AoLP time:  0.04597330093383789 s\n"
     ]
    },
    {
     "name": "stderr",
     "output_type": "stream",
     "text": [
      "\r",
      " 33%|██████████████████████████▎                                                    | 75/225 [31:21<1:00:48, 24.33s/it]"
     ]
    },
    {
     "name": "stdout",
     "output_type": "stream",
     "text": [
      "Processing data for material : WATER\n",
      "image_data shape is :  (2048, 2448)\n",
      "im90 shape is :  (1024, 1224)\n",
      "Stokes time:  0.030981063842773438 s\n",
      "im_stokes0 shape is :  (1024, 1224)\n",
      "DoLP time:  0.041996002197265625 s\n",
      "im_DOLP shape is :  (1024, 1224)\n",
      "Time for DOLP2Theta conversion is :  23.784416437149048 seconds\n",
      "False\n",
      "AoLP time:  0.049971580505371094 s\n"
     ]
    },
    {
     "name": "stderr",
     "output_type": "stream",
     "text": [
      "\r",
      " 34%|██████████████████████████▋                                                    | 76/225 [31:45<1:00:38, 24.42s/it]"
     ]
    },
    {
     "name": "stdout",
     "output_type": "stream",
     "text": [
      "Processing data for material : WATER\n",
      "image_data shape is :  (2048, 2448)\n",
      "im90 shape is :  (1024, 1224)\n",
      "Stokes time:  0.030981779098510742 s\n",
      "im_stokes0 shape is :  (1024, 1224)\n",
      "DoLP time:  0.04197406768798828 s\n",
      "im_DOLP shape is :  (1024, 1224)\n",
      "Time for DOLP2Theta conversion is :  24.145028591156006 seconds\n",
      "False\n",
      "AoLP time:  0.05196952819824219 s\n"
     ]
    },
    {
     "name": "stderr",
     "output_type": "stream",
     "text": [
      "\r",
      " 34%|███████████████████████████                                                    | 77/225 [32:10<1:00:36, 24.57s/it]"
     ]
    },
    {
     "name": "stdout",
     "output_type": "stream",
     "text": [
      "Processing data for material : WATER\n",
      "image_data shape is :  (2048, 2448)\n",
      "im90 shape is :  (1024, 1224)\n",
      "Stokes time:  0.030980348587036133 s\n",
      "im_stokes0 shape is :  (1024, 1224)\n",
      "DoLP time:  0.04148507118225098 s\n",
      "im_DOLP shape is :  (1024, 1224)\n",
      "Time for DOLP2Theta conversion is :  23.98047184944153 seconds\n",
      "False\n",
      "AoLP time:  0.04397463798522949 s\n"
     ]
    },
    {
     "name": "stderr",
     "output_type": "stream",
     "text": [
      "\r",
      " 35%|███████████████████████████▍                                                   | 78/225 [32:35<1:00:18, 24.62s/it]"
     ]
    },
    {
     "name": "stdout",
     "output_type": "stream",
     "text": [
      "Processing data for material : WATER\n",
      "image_data shape is :  (2048, 2448)\n",
      "im90 shape is :  (1024, 1224)\n",
      "Stokes time:  0.0319828987121582 s\n",
      "im_stokes0 shape is :  (1024, 1224)\n",
      "DoLP time:  0.04097700119018555 s\n",
      "im_DOLP shape is :  (1024, 1224)\n",
      "Time for DOLP2Theta conversion is :  23.433913946151733 seconds\n",
      "False\n",
      "AoLP time:  0.042975664138793945 s\n"
     ]
    },
    {
     "name": "stderr",
     "output_type": "stream",
     "text": [
      "\r",
      " 35%|████████████████████████████▍                                                    | 79/225 [32:59<59:41, 24.53s/it]"
     ]
    },
    {
     "name": "stdout",
     "output_type": "stream",
     "text": [
      "Processing data for material : WATER\n",
      "image_data shape is :  (2048, 2448)\n",
      "im90 shape is :  (1024, 1224)\n",
      "Stokes time:  0.03098320960998535 s\n",
      "im_stokes0 shape is :  (1024, 1224)\n",
      "DoLP time:  0.03897738456726074 s\n",
      "im_DOLP shape is :  (1024, 1224)\n",
      "Time for DOLP2Theta conversion is :  23.620763540267944 seconds\n",
      "False\n",
      "AoLP time:  0.04297494888305664 s\n"
     ]
    },
    {
     "name": "stderr",
     "output_type": "stream",
     "text": [
      "\r",
      " 36%|████████████████████████████▊                                                    | 80/225 [33:24<59:10, 24.48s/it]"
     ]
    },
    {
     "name": "stdout",
     "output_type": "stream",
     "text": [
      "Processing data for material : WATER\n",
      "image_data shape is :  (2048, 2448)\n",
      "im90 shape is :  (1024, 1224)\n",
      "Stokes time:  0.02798318862915039 s\n",
      "im_stokes0 shape is :  (1024, 1224)\n",
      "DoLP time:  0.03997683525085449 s\n",
      "im_DOLP shape is :  (1024, 1224)\n",
      "Time for DOLP2Theta conversion is :  23.48435616493225 seconds\n",
      "False\n",
      "AoLP time:  0.04197406768798828 s\n"
     ]
    },
    {
     "name": "stderr",
     "output_type": "stream",
     "text": [
      "\r",
      " 36%|█████████████████████████████▏                                                   | 81/225 [33:48<58:38, 24.44s/it]"
     ]
    },
    {
     "name": "stdout",
     "output_type": "stream",
     "text": [
      "Processing data for material : WATER\n",
      "image_data shape is :  (2048, 2448)\n",
      "im90 shape is :  (1024, 1224)\n",
      "Stokes time:  0.036978960037231445 s\n",
      "im_stokes0 shape is :  (1024, 1224)\n",
      "DoLP time:  0.05097079277038574 s\n",
      "im_DOLP shape is :  (1024, 1224)\n",
      "Time for DOLP2Theta conversion is :  23.65065026283264 seconds\n",
      "False\n",
      "AoLP time:  0.04497480392456055 s\n"
     ]
    },
    {
     "name": "stderr",
     "output_type": "stream",
     "text": [
      "\r",
      " 36%|█████████████████████████████▌                                                   | 82/225 [34:12<58:13, 24.43s/it]"
     ]
    },
    {
     "name": "stdout",
     "output_type": "stream",
     "text": [
      "Processing data for material : WATER\n",
      "image_data shape is :  (2048, 2448)\n",
      "im90 shape is :  (1024, 1224)\n",
      "Stokes time:  0.030982255935668945 s\n",
      "im_stokes0 shape is :  (1024, 1224)\n",
      "DoLP time:  0.03948712348937988 s\n",
      "im_DOLP shape is :  (1024, 1224)\n",
      "Time for DOLP2Theta conversion is :  23.813245058059692 seconds\n",
      "False\n",
      "AoLP time:  0.04297518730163574 s\n"
     ]
    },
    {
     "name": "stderr",
     "output_type": "stream",
     "text": [
      "\r",
      " 37%|█████████████████████████████▉                                                   | 83/225 [34:37<57:52, 24.46s/it]"
     ]
    },
    {
     "name": "stdout",
     "output_type": "stream",
     "text": [
      "Processing data for material : WATER\n",
      "image_data shape is :  (2048, 2448)\n",
      "im90 shape is :  (1024, 1224)\n",
      "Stokes time:  0.031981468200683594 s\n",
      "im_stokes0 shape is :  (1024, 1224)\n",
      "DoLP time:  0.04097485542297363 s\n",
      "im_DOLP shape is :  (1024, 1224)\n",
      "Time for DOLP2Theta conversion is :  23.853171586990356 seconds\n",
      "False\n",
      "AoLP time:  0.051970481872558594 s\n"
     ]
    },
    {
     "name": "stderr",
     "output_type": "stream",
     "text": [
      "\r",
      " 37%|██████████████████████████████▏                                                  | 84/225 [35:01<57:36, 24.51s/it]"
     ]
    },
    {
     "name": "stdout",
     "output_type": "stream",
     "text": [
      "Processing data for material : WATER\n",
      "image_data shape is :  (2048, 2448)\n",
      "im90 shape is :  (1024, 1224)\n",
      "Stokes time:  0.029984712600708008 s\n",
      "im_stokes0 shape is :  (1024, 1224)\n",
      "DoLP time:  0.038977622985839844 s\n",
      "im_DOLP shape is :  (1024, 1224)\n",
      "Time for DOLP2Theta conversion is :  25.952584266662598 seconds\n",
      "False\n",
      "AoLP time:  0.04597282409667969 s\n"
     ]
    },
    {
     "name": "stderr",
     "output_type": "stream",
     "text": [
      "\r",
      " 38%|██████████████████████████████▌                                                  | 85/225 [35:28<58:56, 25.26s/it]"
     ]
    },
    {
     "name": "stdout",
     "output_type": "stream",
     "text": [
      "Processing data for material : WATER\n",
      "image_data shape is :  (2048, 2448)\n",
      "im90 shape is :  (1024, 1224)\n",
      "Stokes time:  0.02998208999633789 s\n",
      "im_stokes0 shape is :  (1024, 1224)\n",
      "DoLP time:  0.04097604751586914 s\n",
      "im_DOLP shape is :  (1024, 1224)\n",
      "Time for DOLP2Theta conversion is :  23.60160183906555 seconds\n",
      "False\n",
      "AoLP time:  0.05996537208557129 s\n"
     ]
    },
    {
     "name": "stderr",
     "output_type": "stream",
     "text": [
      "\r",
      " 38%|██████████████████████████████▉                                                  | 86/225 [35:53<57:57, 25.01s/it]"
     ]
    },
    {
     "name": "stdout",
     "output_type": "stream",
     "text": [
      "Processing data for material : WATER\n",
      "image_data shape is :  (2048, 2448)\n",
      "im90 shape is :  (1024, 1224)\n",
      "Stokes time:  0.03201484680175781 s\n",
      "im_stokes0 shape is :  (1024, 1224)\n",
      "DoLP time:  0.0419764518737793 s\n",
      "im_DOLP shape is :  (1024, 1224)\n",
      "Time for DOLP2Theta conversion is :  23.862022638320923 seconds\n",
      "False\n",
      "AoLP time:  0.04552054405212402 s\n"
     ]
    },
    {
     "name": "stderr",
     "output_type": "stream",
     "text": [
      "\r",
      " 39%|███████████████████████████████▎                                                 | 87/225 [36:18<57:18, 24.91s/it]"
     ]
    },
    {
     "name": "stdout",
     "output_type": "stream",
     "text": [
      "Processing data for material : WATER\n",
      "image_data shape is :  (2048, 2448)\n",
      "im90 shape is :  (1024, 1224)\n",
      "Stokes time:  0.030982494354248047 s\n",
      "im_stokes0 shape is :  (1024, 1224)\n",
      "DoLP time:  0.04197549819946289 s\n",
      "im_DOLP shape is :  (1024, 1224)\n",
      "Time for DOLP2Theta conversion is :  23.81100368499756 seconds\n",
      "False\n",
      "AoLP time:  0.05696463584899902 s\n"
     ]
    },
    {
     "name": "stderr",
     "output_type": "stream",
     "text": [
      "\r",
      " 39%|███████████████████████████████▋                                                 | 88/225 [36:42<56:40, 24.82s/it]"
     ]
    },
    {
     "name": "stdout",
     "output_type": "stream",
     "text": [
      "Processing data for material : WATER\n",
      "image_data shape is :  (2048, 2448)\n",
      "im90 shape is :  (1024, 1224)\n",
      "Stokes time:  0.029981374740600586 s\n",
      "im_stokes0 shape is :  (1024, 1224)\n",
      "DoLP time:  0.04297518730163574 s\n",
      "im_DOLP shape is :  (1024, 1224)\n",
      "Time for DOLP2Theta conversion is :  23.43480920791626 seconds\n",
      "False\n",
      "AoLP time:  0.0494837760925293 s\n"
     ]
    },
    {
     "name": "stderr",
     "output_type": "stream",
     "text": [
      "\r",
      " 40%|████████████████████████████████                                                 | 89/225 [37:06<55:47, 24.62s/it]"
     ]
    },
    {
     "name": "stdout",
     "output_type": "stream",
     "text": [
      "Processing data for material : WATER\n",
      "image_data shape is :  (2048, 2448)\n",
      "im90 shape is :  (1024, 1224)\n",
      "Stokes time:  0.030982255935668945 s\n",
      "im_stokes0 shape is :  (1024, 1224)\n",
      "DoLP time:  0.04097628593444824 s\n",
      "im_DOLP shape is :  (1024, 1224)\n",
      "Time for DOLP2Theta conversion is :  24.01980686187744 seconds\n",
      "False\n",
      "AoLP time:  0.054969072341918945 s\n"
     ]
    },
    {
     "name": "stderr",
     "output_type": "stream",
     "text": [
      "\r",
      " 40%|████████████████████████████████▍                                                | 90/225 [37:31<55:32, 24.69s/it]"
     ]
    },
    {
     "name": "stdout",
     "output_type": "stream",
     "text": [
      "Processing data for material : WATER\n",
      "image_data shape is :  (2048, 2448)\n",
      "im90 shape is :  (1024, 1224)\n",
      "Stokes time:  0.031981468200683594 s\n",
      "im_stokes0 shape is :  (1024, 1224)\n",
      "DoLP time:  0.04497337341308594 s\n",
      "im_DOLP shape is :  (1024, 1224)\n",
      "Time for DOLP2Theta conversion is :  23.536491870880127 seconds\n",
      "False\n",
      "AoLP time:  0.04597330093383789 s\n"
     ]
    },
    {
     "name": "stderr",
     "output_type": "stream",
     "text": [
      "\r",
      " 40%|████████████████████████████████▊                                                | 91/225 [37:55<54:51, 24.56s/it]"
     ]
    },
    {
     "name": "stdout",
     "output_type": "stream",
     "text": [
      "Processing data for material : WATER\n",
      "image_data shape is :  (2048, 2448)\n",
      "im90 shape is :  (1024, 1224)\n",
      "Stokes time:  0.03098320960998535 s\n",
      "im_stokes0 shape is :  (1024, 1224)\n",
      "DoLP time:  0.03997802734375 s\n",
      "im_DOLP shape is :  (1024, 1224)\n",
      "Time for DOLP2Theta conversion is :  23.612471103668213 seconds\n",
      "False\n",
      "AoLP time:  0.05296683311462402 s\n"
     ]
    },
    {
     "name": "stderr",
     "output_type": "stream",
     "text": [
      "\r",
      " 41%|█████████████████████████████████                                                | 92/225 [38:20<54:20, 24.51s/it]"
     ]
    },
    {
     "name": "stdout",
     "output_type": "stream",
     "text": [
      "Processing data for material : WATER\n",
      "image_data shape is :  (2048, 2448)\n",
      "im90 shape is :  (1024, 1224)\n",
      "Stokes time:  0.028981447219848633 s\n",
      "im_stokes0 shape is :  (1024, 1224)\n",
      "DoLP time:  0.03997611999511719 s\n",
      "im_DOLP shape is :  (1024, 1224)\n",
      "Time for DOLP2Theta conversion is :  23.93029808998108 seconds\n",
      "False\n",
      "AoLP time:  0.05283927917480469 s\n"
     ]
    },
    {
     "name": "stderr",
     "output_type": "stream",
     "text": [
      "\r",
      " 41%|█████████████████████████████████▍                                               | 93/225 [38:45<54:03, 24.57s/it]"
     ]
    },
    {
     "name": "stdout",
     "output_type": "stream",
     "text": [
      "Processing data for material : WATER\n",
      "image_data shape is :  (2048, 2448)\n",
      "im90 shape is :  (1024, 1224)\n",
      "Stokes time:  0.031980037689208984 s\n",
      "im_stokes0 shape is :  (1024, 1224)\n",
      "DoLP time:  0.039975881576538086 s\n",
      "im_DOLP shape is :  (1024, 1224)\n",
      "Time for DOLP2Theta conversion is :  23.514152765274048 seconds\n",
      "False\n",
      "AoLP time:  0.044972896575927734 s\n"
     ]
    },
    {
     "name": "stderr",
     "output_type": "stream",
     "text": [
      "\r",
      " 42%|█████████████████████████████████▊                                               | 94/225 [39:09<53:27, 24.49s/it]"
     ]
    },
    {
     "name": "stdout",
     "output_type": "stream",
     "text": [
      "Processing data for material : WATER\n",
      "image_data shape is :  (2048, 2448)\n",
      "im90 shape is :  (1024, 1224)\n",
      "Stokes time:  0.029982566833496094 s\n",
      "im_stokes0 shape is :  (1024, 1224)\n",
      "DoLP time:  0.034980058670043945 s\n",
      "im_DOLP shape is :  (1024, 1224)\n",
      "Time for DOLP2Theta conversion is :  23.765898942947388 seconds\n",
      "False\n",
      "AoLP time:  0.048972129821777344 s\n"
     ]
    },
    {
     "name": "stderr",
     "output_type": "stream",
     "text": [
      "\r",
      " 42%|██████████████████████████████████▏                                              | 95/225 [39:33<53:03, 24.49s/it]"
     ]
    },
    {
     "name": "stdout",
     "output_type": "stream",
     "text": [
      "Processing data for material : WATER\n",
      "image_data shape is :  (2048, 2448)\n",
      "im90 shape is :  (1024, 1224)\n",
      "Stokes time:  0.02998042106628418 s\n",
      "im_stokes0 shape is :  (1024, 1224)\n",
      "DoLP time:  0.04097604751586914 s\n",
      "im_DOLP shape is :  (1024, 1224)\n",
      "Time for DOLP2Theta conversion is :  23.62302255630493 seconds\n",
      "False\n",
      "AoLP time:  0.043982744216918945 s\n"
     ]
    },
    {
     "name": "stderr",
     "output_type": "stream",
     "text": [
      "\r",
      " 43%|██████████████████████████████████▌                                              | 96/225 [39:58<52:33, 24.45s/it]"
     ]
    },
    {
     "name": "stdout",
     "output_type": "stream",
     "text": [
      "Processing data for material : WATER\n",
      "image_data shape is :  (2048, 2448)\n",
      "im90 shape is :  (1024, 1224)\n",
      "Stokes time:  0.028982162475585938 s\n",
      "im_stokes0 shape is :  (1024, 1224)\n",
      "DoLP time:  0.039975881576538086 s\n",
      "im_DOLP shape is :  (1024, 1224)\n",
      "Time for DOLP2Theta conversion is :  23.76335382461548 seconds\n",
      "False\n",
      "AoLP time:  0.04897189140319824 s\n"
     ]
    },
    {
     "name": "stderr",
     "output_type": "stream",
     "text": [
      "\r",
      " 43%|██████████████████████████████████▉                                              | 97/225 [40:22<52:12, 24.47s/it]"
     ]
    },
    {
     "name": "stdout",
     "output_type": "stream",
     "text": [
      "Processing data for material : WATER\n",
      "image_data shape is :  (2048, 2448)\n",
      "im90 shape is :  (1024, 1224)\n",
      "Stokes time:  0.02998208999633789 s\n",
      "im_stokes0 shape is :  (1024, 1224)\n",
      "DoLP time:  0.042973995208740234 s\n",
      "im_DOLP shape is :  (1024, 1224)\n",
      "Time for DOLP2Theta conversion is :  23.435139417648315 seconds\n",
      "False\n",
      "AoLP time:  0.04297280311584473 s\n"
     ]
    },
    {
     "name": "stderr",
     "output_type": "stream",
     "text": [
      "\r",
      " 44%|███████████████████████████████████▎                                             | 98/225 [40:46<51:36, 24.38s/it]"
     ]
    },
    {
     "name": "stdout",
     "output_type": "stream",
     "text": [
      "Processing data for material : WATER\n",
      "image_data shape is :  (2048, 2448)\n",
      "im90 shape is :  (1024, 1224)\n",
      "Stokes time:  0.029984712600708008 s\n",
      "im_stokes0 shape is :  (1024, 1224)\n",
      "DoLP time:  0.04197525978088379 s\n",
      "im_DOLP shape is :  (1024, 1224)\n",
      "Time for DOLP2Theta conversion is :  24.162930011749268 seconds\n",
      "False\n",
      "AoLP time:  0.04597282409667969 s\n"
     ]
    },
    {
     "name": "stderr",
     "output_type": "stream",
     "text": [
      "\r",
      " 44%|███████████████████████████████████▋                                             | 99/225 [41:11<51:32, 24.54s/it]"
     ]
    },
    {
     "name": "stdout",
     "output_type": "stream",
     "text": [
      "Processing data for material : WATER\n",
      "image_data shape is :  (2048, 2448)\n",
      "im90 shape is :  (1024, 1224)\n",
      "Stokes time:  0.02898550033569336 s\n",
      "im_stokes0 shape is :  (1024, 1224)\n",
      "DoLP time:  0.04197573661804199 s\n",
      "im_DOLP shape is :  (1024, 1224)\n",
      "Time for DOLP2Theta conversion is :  24.25661325454712 seconds\n",
      "False\n",
      "AoLP time:  0.05396842956542969 s\n"
     ]
    },
    {
     "name": "stderr",
     "output_type": "stream",
     "text": [
      "\r",
      " 44%|███████████████████████████████████▌                                            | 100/225 [41:37<51:36, 24.77s/it]"
     ]
    },
    {
     "name": "stdout",
     "output_type": "stream",
     "text": [
      "Processing data for material : WATER\n",
      "image_data shape is :  (2048, 2448)\n",
      "im90 shape is :  (1024, 1224)\n",
      "Stokes time:  0.030982255935668945 s\n",
      "im_stokes0 shape is :  (1024, 1224)\n",
      "DoLP time:  0.0379793643951416 s\n",
      "im_DOLP shape is :  (1024, 1224)\n",
      "Time for DOLP2Theta conversion is :  25.974149227142334 seconds\n",
      "False\n",
      "AoLP time:  0.05599069595336914 s\n"
     ]
    },
    {
     "name": "stderr",
     "output_type": "stream",
     "text": [
      "\r",
      " 45%|███████████████████████████████████▉                                            | 101/225 [42:03<52:25, 25.37s/it]"
     ]
    },
    {
     "name": "stdout",
     "output_type": "stream",
     "text": [
      "Processing data for material : WATER\n",
      "image_data shape is :  (2048, 2448)\n",
      "im90 shape is :  (1024, 1224)\n",
      "Stokes time:  0.028982877731323242 s\n",
      "im_stokes0 shape is :  (1024, 1224)\n",
      "DoLP time:  0.03997540473937988 s\n",
      "im_DOLP shape is :  (1024, 1224)\n",
      "Time for DOLP2Theta conversion is :  24.17871403694153 seconds\n",
      "False\n",
      "AoLP time:  0.04697751998901367 s\n"
     ]
    },
    {
     "name": "stderr",
     "output_type": "stream",
     "text": [
      "\r",
      " 45%|████████████████████████████████████▎                                           | 102/225 [42:28<51:44, 25.24s/it]"
     ]
    },
    {
     "name": "stdout",
     "output_type": "stream",
     "text": [
      "Processing data for material : WATER\n",
      "image_data shape is :  (2048, 2448)\n",
      "im90 shape is :  (1024, 1224)\n",
      "Stokes time:  0.03149271011352539 s\n",
      "im_stokes0 shape is :  (1024, 1224)\n",
      "DoLP time:  0.040976524353027344 s\n",
      "im_DOLP shape is :  (1024, 1224)\n",
      "Time for DOLP2Theta conversion is :  23.844510555267334 seconds\n",
      "False\n",
      "AoLP time:  0.05097007751464844 s\n"
     ]
    },
    {
     "name": "stderr",
     "output_type": "stream",
     "text": [
      "\r",
      " 46%|████████████████████████████████████▌                                           | 103/225 [42:53<50:54, 25.04s/it]"
     ]
    },
    {
     "name": "stdout",
     "output_type": "stream",
     "text": [
      "Processing data for material : WATER\n",
      "image_data shape is :  (2048, 2448)\n",
      "im90 shape is :  (1024, 1224)\n",
      "Stokes time:  0.028983354568481445 s\n",
      "im_stokes0 shape is :  (1024, 1224)\n",
      "DoLP time:  0.0399782657623291 s\n",
      "im_DOLP shape is :  (1024, 1224)\n",
      "Time for DOLP2Theta conversion is :  23.386017084121704 seconds\n",
      "False\n",
      "AoLP time:  0.04397296905517578 s\n"
     ]
    },
    {
     "name": "stderr",
     "output_type": "stream",
     "text": [
      "\r",
      " 46%|████████████████████████████████████▉                                           | 104/225 [43:17<49:58, 24.78s/it]"
     ]
    },
    {
     "name": "stdout",
     "output_type": "stream",
     "text": [
      "Processing data for material : WATER\n",
      "image_data shape is :  (2048, 2448)\n",
      "im90 shape is :  (1024, 1224)\n",
      "Stokes time:  0.027984142303466797 s\n",
      "im_stokes0 shape is :  (1024, 1224)\n",
      "DoLP time:  0.04197549819946289 s\n",
      "im_DOLP shape is :  (1024, 1224)\n",
      "Time for DOLP2Theta conversion is :  23.587677478790283 seconds\n",
      "False\n",
      "AoLP time:  0.05096936225891113 s\n"
     ]
    },
    {
     "name": "stderr",
     "output_type": "stream",
     "text": [
      "\r",
      " 47%|█████████████████████████████████████▎                                          | 105/225 [43:41<49:16, 24.64s/it]"
     ]
    },
    {
     "name": "stdout",
     "output_type": "stream",
     "text": [
      "Processing data for material : WATER\n",
      "image_data shape is :  (2048, 2448)\n",
      "im90 shape is :  (1024, 1224)\n",
      "Stokes time:  0.029983043670654297 s\n",
      "im_stokes0 shape is :  (1024, 1224)\n",
      "DoLP time:  0.041976213455200195 s\n",
      "im_DOLP shape is :  (1024, 1224)\n",
      "Time for DOLP2Theta conversion is :  23.65830707550049 seconds\n",
      "False\n",
      "AoLP time:  0.04497551918029785 s\n"
     ]
    },
    {
     "name": "stderr",
     "output_type": "stream",
     "text": [
      "\r",
      " 47%|█████████████████████████████████████▋                                          | 106/225 [44:06<48:43, 24.57s/it]"
     ]
    },
    {
     "name": "stdout",
     "output_type": "stream",
     "text": [
      "Processing data for material : WATER\n",
      "image_data shape is :  (2048, 2448)\n",
      "im90 shape is :  (1024, 1224)\n",
      "Stokes time:  0.02998208999633789 s\n",
      "im_stokes0 shape is :  (1024, 1224)\n",
      "DoLP time:  0.03897714614868164 s\n",
      "im_DOLP shape is :  (1024, 1224)\n",
      "Time for DOLP2Theta conversion is :  23.43135666847229 seconds\n",
      "False\n",
      "AoLP time:  0.0459744930267334 s\n"
     ]
    },
    {
     "name": "stderr",
     "output_type": "stream",
     "text": [
      "\r",
      " 48%|██████████████████████████████████████                                          | 107/225 [44:30<48:04, 24.44s/it]"
     ]
    },
    {
     "name": "stdout",
     "output_type": "stream",
     "text": [
      "Processing data for material : WATER\n",
      "image_data shape is :  (2048, 2448)\n",
      "im90 shape is :  (1024, 1224)\n",
      "Stokes time:  0.03148794174194336 s\n",
      "im_stokes0 shape is :  (1024, 1224)\n",
      "DoLP time:  0.040975332260131836 s\n",
      "im_DOLP shape is :  (1024, 1224)\n",
      "Time for DOLP2Theta conversion is :  23.452895402908325 seconds\n",
      "False\n",
      "AoLP time:  0.05596756935119629 s\n"
     ]
    },
    {
     "name": "stderr",
     "output_type": "stream",
     "text": [
      "\r",
      " 48%|██████████████████████████████████████▍                                         | 108/225 [44:54<47:30, 24.37s/it]"
     ]
    },
    {
     "name": "stdout",
     "output_type": "stream",
     "text": [
      "Processing data for material : WATER\n",
      "image_data shape is :  (2048, 2448)\n",
      "im90 shape is :  (1024, 1224)\n",
      "Stokes time:  0.027983427047729492 s\n",
      "im_stokes0 shape is :  (1024, 1224)\n",
      "DoLP time:  0.04297661781311035 s\n",
      "im_DOLP shape is :  (1024, 1224)\n",
      "Time for DOLP2Theta conversion is :  23.04365873336792 seconds\n",
      "False\n",
      "AoLP time:  0.051969289779663086 s\n"
     ]
    },
    {
     "name": "stderr",
     "output_type": "stream",
     "text": [
      "\r",
      " 48%|██████████████████████████████████████▊                                         | 109/225 [45:18<46:45, 24.19s/it]"
     ]
    },
    {
     "name": "stdout",
     "output_type": "stream",
     "text": [
      "Processing data for material : WATER\n",
      "image_data shape is :  (2048, 2448)\n",
      "im90 shape is :  (1024, 1224)\n",
      "Stokes time:  0.0319826602935791 s\n",
      "im_stokes0 shape is :  (1024, 1224)\n",
      "DoLP time:  0.039977073669433594 s\n",
      "im_DOLP shape is :  (1024, 1224)\n",
      "Time for DOLP2Theta conversion is :  23.36345410346985 seconds\n",
      "False\n",
      "AoLP time:  0.045963287353515625 s\n"
     ]
    },
    {
     "name": "stderr",
     "output_type": "stream",
     "text": [
      "\r",
      " 49%|███████████████████████████████████████                                         | 110/225 [45:42<46:20, 24.17s/it]"
     ]
    },
    {
     "name": "stdout",
     "output_type": "stream",
     "text": [
      "Processing data for material : WATER\n",
      "image_data shape is :  (2048, 2448)\n",
      "im90 shape is :  (1024, 1224)\n",
      "Stokes time:  0.03098273277282715 s\n",
      "im_stokes0 shape is :  (1024, 1224)\n",
      "DoLP time:  0.03797793388366699 s\n",
      "im_DOLP shape is :  (1024, 1224)\n",
      "Time for DOLP2Theta conversion is :  23.75835680961609 seconds\n",
      "False\n",
      "AoLP time:  0.0439755916595459 s\n"
     ]
    },
    {
     "name": "stderr",
     "output_type": "stream",
     "text": [
      "\r",
      " 49%|███████████████████████████████████████▍                                        | 111/225 [46:06<46:05, 24.26s/it]"
     ]
    },
    {
     "name": "stdout",
     "output_type": "stream",
     "text": [
      "Processing data for material : WATER\n",
      "image_data shape is :  (2048, 2448)\n",
      "im90 shape is :  (1024, 1224)\n",
      "Stokes time:  0.02849578857421875 s\n",
      "im_stokes0 shape is :  (1024, 1224)\n",
      "DoLP time:  0.04018139839172363 s\n",
      "im_DOLP shape is :  (1024, 1224)\n",
      "Time for DOLP2Theta conversion is :  23.423441171646118 seconds\n",
      "False\n",
      "AoLP time:  0.04897141456604004 s\n"
     ]
    },
    {
     "name": "stderr",
     "output_type": "stream",
     "text": [
      "\r",
      " 50%|███████████████████████████████████████▊                                        | 112/225 [46:31<45:39, 24.24s/it]"
     ]
    },
    {
     "name": "stdout",
     "output_type": "stream",
     "text": [
      "Processing data for material : WATER\n",
      "image_data shape is :  (2048, 2448)\n",
      "im90 shape is :  (1024, 1224)\n",
      "Stokes time:  0.03198099136352539 s\n",
      "im_stokes0 shape is :  (1024, 1224)\n",
      "DoLP time:  0.04397439956665039 s\n",
      "im_DOLP shape is :  (1024, 1224)\n",
      "Time for DOLP2Theta conversion is :  23.413257837295532 seconds\n",
      "False\n",
      "AoLP time:  0.045975446701049805 s\n"
     ]
    },
    {
     "name": "stderr",
     "output_type": "stream",
     "text": [
      "\r",
      " 50%|████████████████████████████████████████▏                                       | 113/225 [46:55<45:12, 24.22s/it]"
     ]
    },
    {
     "name": "stdout",
     "output_type": "stream",
     "text": [
      "Processing data for material : WATER\n",
      "image_data shape is :  (2048, 2448)\n",
      "im90 shape is :  (1024, 1224)\n",
      "Stokes time:  0.030982017517089844 s\n",
      "im_stokes0 shape is :  (1024, 1224)\n",
      "DoLP time:  0.04199790954589844 s\n",
      "im_DOLP shape is :  (1024, 1224)\n",
      "Time for DOLP2Theta conversion is :  23.7890625 seconds\n",
      "False\n",
      "AoLP time:  0.04397439956665039 s\n"
     ]
    },
    {
     "name": "stderr",
     "output_type": "stream",
     "text": [
      "\r",
      " 51%|████████████████████████████████████████▌                                       | 114/225 [47:19<44:59, 24.32s/it]"
     ]
    },
    {
     "name": "stdout",
     "output_type": "stream",
     "text": [
      "Processing data for material : WATER\n",
      "image_data shape is :  (2048, 2448)\n",
      "im90 shape is :  (1024, 1224)\n",
      "Stokes time:  0.030981063842773438 s\n",
      "im_stokes0 shape is :  (1024, 1224)\n",
      "DoLP time:  0.04097557067871094 s\n",
      "im_DOLP shape is :  (1024, 1224)\n",
      "Time for DOLP2Theta conversion is :  23.34919548034668 seconds\n",
      "False\n",
      "AoLP time:  0.0419764518737793 s\n"
     ]
    },
    {
     "name": "stderr",
     "output_type": "stream",
     "text": [
      "\r",
      " 51%|████████████████████████████████████████▉                                       | 115/225 [47:44<44:29, 24.27s/it]"
     ]
    },
    {
     "name": "stdout",
     "output_type": "stream",
     "text": [
      "Processing data for material : WATER\n",
      "image_data shape is :  (2048, 2448)\n",
      "im90 shape is :  (1024, 1224)\n",
      "Stokes time:  0.03298211097717285 s\n",
      "im_stokes0 shape is :  (1024, 1224)\n",
      "DoLP time:  0.04597353935241699 s\n",
      "im_DOLP shape is :  (1024, 1224)\n",
      "Time for DOLP2Theta conversion is :  23.465257167816162 seconds\n",
      "False\n",
      "AoLP time:  0.0459747314453125 s\n"
     ]
    },
    {
     "name": "stderr",
     "output_type": "stream",
     "text": [
      "\r",
      " 52%|█████████████████████████████████████████▏                                      | 116/225 [48:08<44:05, 24.27s/it]"
     ]
    },
    {
     "name": "stdout",
     "output_type": "stream",
     "text": [
      "Processing data for material : WATER\n",
      "image_data shape is :  (2048, 2448)\n",
      "im90 shape is :  (1024, 1224)\n",
      "Stokes time:  0.03198075294494629 s\n",
      "im_stokes0 shape is :  (1024, 1224)\n",
      "DoLP time:  0.04097580909729004 s\n",
      "im_DOLP shape is :  (1024, 1224)\n",
      "Time for DOLP2Theta conversion is :  23.255942821502686 seconds\n",
      "False\n",
      "AoLP time:  0.057965993881225586 s\n"
     ]
    },
    {
     "name": "stderr",
     "output_type": "stream",
     "text": [
      "\r",
      " 52%|█████████████████████████████████████████▌                                      | 117/225 [48:32<43:32, 24.19s/it]"
     ]
    },
    {
     "name": "stdout",
     "output_type": "stream",
     "text": [
      "Processing data for material : WATER\n",
      "image_data shape is :  (2048, 2448)\n",
      "im90 shape is :  (1024, 1224)\n",
      "Stokes time:  0.029998064041137695 s\n",
      "im_stokes0 shape is :  (1024, 1224)\n",
      "DoLP time:  0.03997683525085449 s\n",
      "im_DOLP shape is :  (1024, 1224)\n",
      "Time for DOLP2Theta conversion is :  23.273874759674072 seconds\n",
      "False\n",
      "AoLP time:  0.04397439956665039 s\n"
     ]
    },
    {
     "name": "stderr",
     "output_type": "stream",
     "text": [
      "\r",
      " 52%|█████████████████████████████████████████▉                                      | 118/225 [48:56<43:03, 24.14s/it]"
     ]
    },
    {
     "name": "stdout",
     "output_type": "stream",
     "text": [
      "Processing data for material : WATER\n",
      "image_data shape is :  (2048, 2448)\n",
      "im90 shape is :  (1024, 1224)\n",
      "Stokes time:  0.02898573875427246 s\n",
      "im_stokes0 shape is :  (1024, 1224)\n",
      "DoLP time:  0.039975881576538086 s\n",
      "im_DOLP shape is :  (1024, 1224)\n",
      "Time for DOLP2Theta conversion is :  23.51837658882141 seconds\n",
      "False\n",
      "AoLP time:  0.04597330093383789 s\n"
     ]
    },
    {
     "name": "stderr",
     "output_type": "stream",
     "text": [
      "\r",
      " 53%|██████████████████████████████████████████▎                                     | 119/225 [49:20<42:43, 24.19s/it]"
     ]
    },
    {
     "name": "stdout",
     "output_type": "stream",
     "text": [
      "Processing data for material : WATER\n",
      "image_data shape is :  (2048, 2448)\n",
      "im90 shape is :  (1024, 1224)\n",
      "Stokes time:  0.029982328414916992 s\n",
      "im_stokes0 shape is :  (1024, 1224)\n",
      "DoLP time:  0.04197430610656738 s\n",
      "im_DOLP shape is :  (1024, 1224)\n",
      "Time for DOLP2Theta conversion is :  23.538803815841675 seconds\n",
      "False\n",
      "AoLP time:  0.04597353935241699 s\n"
     ]
    },
    {
     "name": "stderr",
     "output_type": "stream",
     "text": [
      "\r",
      " 53%|██████████████████████████████████████████▋                                     | 120/225 [49:44<42:22, 24.21s/it]"
     ]
    },
    {
     "name": "stdout",
     "output_type": "stream",
     "text": [
      "Processing data for material : WATER\n",
      "image_data shape is :  (2048, 2448)\n",
      "im90 shape is :  (1024, 1224)\n",
      "Stokes time:  0.027494430541992188 s\n",
      "im_stokes0 shape is :  (1024, 1224)\n",
      "DoLP time:  0.03797745704650879 s\n",
      "im_DOLP shape is :  (1024, 1224)\n",
      "Time for DOLP2Theta conversion is :  23.962048292160034 seconds\n",
      "False\n",
      "AoLP time:  0.04997134208679199 s\n"
     ]
    },
    {
     "name": "stderr",
     "output_type": "stream",
     "text": [
      "\r",
      " 54%|███████████████████████████████████████████                                     | 121/225 [50:09<42:14, 24.37s/it]"
     ]
    },
    {
     "name": "stdout",
     "output_type": "stream",
     "text": [
      "Processing data for material : WATER\n",
      "image_data shape is :  (2048, 2448)\n",
      "im90 shape is :  (1024, 1224)\n",
      "Stokes time:  0.028982162475585938 s\n",
      "im_stokes0 shape is :  (1024, 1224)\n",
      "DoLP time:  0.04097604751586914 s\n",
      "im_DOLP shape is :  (1024, 1224)\n",
      "Time for DOLP2Theta conversion is :  23.825899362564087 seconds\n",
      "False\n",
      "AoLP time:  0.04697299003601074 s\n"
     ]
    },
    {
     "name": "stderr",
     "output_type": "stream",
     "text": [
      "\r",
      " 54%|███████████████████████████████████████████▍                                    | 122/225 [50:34<41:55, 24.42s/it]"
     ]
    },
    {
     "name": "stdout",
     "output_type": "stream",
     "text": [
      "Processing data for material : WATER\n",
      "image_data shape is :  (2048, 2448)\n",
      "im90 shape is :  (1024, 1224)\n",
      "Stokes time:  0.029980897903442383 s\n",
      "im_stokes0 shape is :  (1024, 1224)\n",
      "DoLP time:  0.039999961853027344 s\n",
      "im_DOLP shape is :  (1024, 1224)\n",
      "Time for DOLP2Theta conversion is :  23.585594177246094 seconds\n",
      "False\n",
      "AoLP time:  0.043975830078125 s\n"
     ]
    },
    {
     "name": "stderr",
     "output_type": "stream",
     "text": [
      "\r",
      " 55%|███████████████████████████████████████████▋                                    | 123/225 [50:58<41:27, 24.39s/it]"
     ]
    },
    {
     "name": "stdout",
     "output_type": "stream",
     "text": [
      "Processing data for material : WATER\n",
      "image_data shape is :  (2048, 2448)\n",
      "im90 shape is :  (1024, 1224)\n",
      "Stokes time:  0.02998208999633789 s\n",
      "im_stokes0 shape is :  (1024, 1224)\n",
      "DoLP time:  0.03797769546508789 s\n",
      "im_DOLP shape is :  (1024, 1224)\n",
      "Time for DOLP2Theta conversion is :  23.167635202407837 seconds\n",
      "False\n",
      "AoLP time:  0.039977073669433594 s\n"
     ]
    },
    {
     "name": "stderr",
     "output_type": "stream",
     "text": [
      "\r",
      " 55%|████████████████████████████████████████████                                    | 124/225 [51:22<40:47, 24.23s/it]"
     ]
    },
    {
     "name": "stdout",
     "output_type": "stream",
     "text": [
      "Processing data for material : WATER\n",
      "image_data shape is :  (2048, 2448)\n",
      "im90 shape is :  (1024, 1224)\n",
      "Stokes time:  0.023986101150512695 s\n",
      "im_stokes0 shape is :  (1024, 1224)\n",
      "DoLP time:  0.03098154067993164 s\n",
      "im_DOLP shape is :  (1024, 1224)\n",
      "Time for DOLP2Theta conversion is :  22.958016633987427 seconds\n",
      "False\n",
      "AoLP time:  0.0399777889251709 s\n"
     ]
    },
    {
     "name": "stderr",
     "output_type": "stream",
     "text": [
      "\r",
      " 56%|████████████████████████████████████████████▍                                   | 125/225 [51:45<40:04, 24.05s/it]"
     ]
    },
    {
     "name": "stdout",
     "output_type": "stream",
     "text": [
      "Processing data for material : WATER\n",
      "image_data shape is :  (2048, 2448)\n",
      "im90 shape is :  (1024, 1224)\n",
      "Stokes time:  0.025984764099121094 s\n",
      "im_stokes0 shape is :  (1024, 1224)\n",
      "DoLP time:  0.03198122978210449 s\n",
      "im_DOLP shape is :  (1024, 1224)\n",
      "Time for DOLP2Theta conversion is :  23.354726552963257 seconds\n",
      "False\n",
      "AoLP time:  0.03997611999511719 s\n"
     ]
    },
    {
     "name": "stderr",
     "output_type": "stream",
     "text": [
      "\r",
      " 56%|████████████████████████████████████████████▊                                   | 126/225 [52:10<39:40, 24.04s/it]"
     ]
    },
    {
     "name": "stdout",
     "output_type": "stream",
     "text": [
      "Processing data for material : WATER\n",
      "image_data shape is :  (2048, 2448)\n",
      "im90 shape is :  (1024, 1224)\n",
      "Stokes time:  0.026984453201293945 s\n",
      "im_stokes0 shape is :  (1024, 1224)\n",
      "DoLP time:  0.03797721862792969 s\n",
      "im_DOLP shape is :  (1024, 1224)\n",
      "Time for DOLP2Theta conversion is :  23.2681303024292 seconds\n",
      "False\n",
      "AoLP time:  0.04197382926940918 s\n"
     ]
    },
    {
     "name": "stderr",
     "output_type": "stream",
     "text": [
      "\r",
      " 56%|█████████████████████████████████████████████▏                                  | 127/225 [52:34<39:15, 24.04s/it]"
     ]
    },
    {
     "name": "stdout",
     "output_type": "stream",
     "text": [
      "Processing data for material : WATER\n",
      "image_data shape is :  (2048, 2448)\n",
      "im90 shape is :  (1024, 1224)\n",
      "Stokes time:  0.02898263931274414 s\n",
      "im_stokes0 shape is :  (1024, 1224)\n",
      "DoLP time:  0.038976192474365234 s\n",
      "im_DOLP shape is :  (1024, 1224)\n",
      "Time for DOLP2Theta conversion is :  23.0268292427063 seconds\n",
      "False\n",
      "AoLP time:  0.0419774055480957 s\n"
     ]
    },
    {
     "name": "stderr",
     "output_type": "stream",
     "text": [
      "\r",
      " 57%|█████████████████████████████████████████████▌                                  | 128/225 [52:57<38:42, 23.94s/it]"
     ]
    },
    {
     "name": "stdout",
     "output_type": "stream",
     "text": [
      "Processing data for material : WATER\n",
      "image_data shape is :  (2048, 2448)\n",
      "im90 shape is :  (1024, 1224)\n",
      "Stokes time:  0.026983976364135742 s\n",
      "im_stokes0 shape is :  (1024, 1224)\n",
      "DoLP time:  0.03298139572143555 s\n",
      "im_DOLP shape is :  (1024, 1224)\n",
      "Time for DOLP2Theta conversion is :  22.880043983459473 seconds\n",
      "False\n",
      "AoLP time:  0.04197502136230469 s\n"
     ]
    },
    {
     "name": "stderr",
     "output_type": "stream",
     "text": [
      "\r",
      " 57%|█████████████████████████████████████████████▊                                  | 129/225 [53:21<38:06, 23.82s/it]"
     ]
    },
    {
     "name": "stdout",
     "output_type": "stream",
     "text": [
      "Processing data for material : WATER\n",
      "image_data shape is :  (2048, 2448)\n",
      "im90 shape is :  (1024, 1224)\n",
      "Stokes time:  0.026984453201293945 s\n",
      "im_stokes0 shape is :  (1024, 1224)\n",
      "DoLP time:  0.03497958183288574 s\n",
      "im_DOLP shape is :  (1024, 1224)\n",
      "Time for DOLP2Theta conversion is :  23.073741912841797 seconds\n",
      "False\n",
      "AoLP time:  0.03954482078552246 s\n"
     ]
    },
    {
     "name": "stderr",
     "output_type": "stream",
     "text": [
      "\r",
      " 58%|██████████████████████████████████████████████▏                                 | 130/225 [53:45<37:41, 23.80s/it]"
     ]
    },
    {
     "name": "stdout",
     "output_type": "stream",
     "text": [
      "Processing data for material : WATER\n",
      "image_data shape is :  (2048, 2448)\n",
      "im90 shape is :  (1024, 1224)\n",
      "Stokes time:  0.027983427047729492 s\n",
      "im_stokes0 shape is :  (1024, 1224)\n",
      "DoLP time:  0.03298044204711914 s\n",
      "im_DOLP shape is :  (1024, 1224)\n",
      "Time for DOLP2Theta conversion is :  22.544039011001587 seconds\n",
      "False\n",
      "AoLP time:  0.04097580909729004 s\n"
     ]
    },
    {
     "name": "stderr",
     "output_type": "stream",
     "text": [
      "\r",
      " 58%|██████████████████████████████████████████████▌                                 | 131/225 [54:08<37:00, 23.62s/it]"
     ]
    },
    {
     "name": "stdout",
     "output_type": "stream",
     "text": [
      "Processing data for material : WATER\n",
      "image_data shape is :  (2048, 2448)\n",
      "im90 shape is :  (1024, 1224)\n",
      "Stokes time:  0.025985240936279297 s\n",
      "im_stokes0 shape is :  (1024, 1224)\n",
      "DoLP time:  0.03198075294494629 s\n",
      "im_DOLP shape is :  (1024, 1224)\n",
      "Time for DOLP2Theta conversion is :  23.02875781059265 seconds\n",
      "False\n",
      "AoLP time:  0.0419771671295166 s\n"
     ]
    },
    {
     "name": "stderr",
     "output_type": "stream",
     "text": [
      "\r",
      " 59%|██████████████████████████████████████████████▉                                 | 132/225 [54:31<36:37, 23.63s/it]"
     ]
    },
    {
     "name": "stdout",
     "output_type": "stream",
     "text": [
      "Processing data for material : WATER\n",
      "image_data shape is :  (2048, 2448)\n",
      "im90 shape is :  (1024, 1224)\n",
      "Stokes time:  0.02598428726196289 s\n",
      "im_stokes0 shape is :  (1024, 1224)\n",
      "DoLP time:  0.03497886657714844 s\n",
      "im_DOLP shape is :  (1024, 1224)\n",
      "Time for DOLP2Theta conversion is :  23.00986385345459 seconds\n",
      "False\n",
      "AoLP time:  0.04297304153442383 s\n"
     ]
    },
    {
     "name": "stderr",
     "output_type": "stream",
     "text": [
      "\r",
      " 59%|███████████████████████████████████████████████▎                                | 133/225 [54:55<36:17, 23.66s/it]"
     ]
    },
    {
     "name": "stdout",
     "output_type": "stream",
     "text": [
      "Processing data for material : WATER\n",
      "image_data shape is :  (2048, 2448)\n",
      "im90 shape is :  (1024, 1224)\n",
      "Stokes time:  0.025984764099121094 s\n",
      "im_stokes0 shape is :  (1024, 1224)\n",
      "DoLP time:  0.03497958183288574 s\n",
      "im_DOLP shape is :  (1024, 1224)\n",
      "Time for DOLP2Theta conversion is :  22.980005502700806 seconds\n",
      "False\n",
      "AoLP time:  0.04297280311584473 s\n"
     ]
    },
    {
     "name": "stderr",
     "output_type": "stream",
     "text": [
      "\r",
      " 60%|███████████████████████████████████████████████▋                                | 134/225 [55:19<35:51, 23.64s/it]"
     ]
    },
    {
     "name": "stdout",
     "output_type": "stream",
     "text": [
      "Processing data for material : WATER\n",
      "image_data shape is :  (2048, 2448)\n",
      "im90 shape is :  (1024, 1224)\n",
      "Stokes time:  0.024984359741210938 s\n",
      "im_stokes0 shape is :  (1024, 1224)\n",
      "DoLP time:  0.03198075294494629 s\n",
      "im_DOLP shape is :  (1024, 1224)\n",
      "Time for DOLP2Theta conversion is :  23.501997470855713 seconds\n",
      "False\n",
      "AoLP time:  0.040976762771606445 s\n"
     ]
    },
    {
     "name": "stderr",
     "output_type": "stream",
     "text": [
      "\r",
      " 60%|████████████████████████████████████████████████                                | 135/225 [55:43<35:42, 23.80s/it]"
     ]
    },
    {
     "name": "stdout",
     "output_type": "stream",
     "text": [
      "Processing data for material : WATER\n",
      "image_data shape is :  (2048, 2448)\n",
      "im90 shape is :  (1024, 1224)\n",
      "Stokes time:  0.025985240936279297 s\n",
      "im_stokes0 shape is :  (1024, 1224)\n",
      "DoLP time:  0.030982255935668945 s\n",
      "im_DOLP shape is :  (1024, 1224)\n",
      "Time for DOLP2Theta conversion is :  23.08756184577942 seconds\n",
      "False\n",
      "AoLP time:  0.03997683525085449 s\n"
     ]
    },
    {
     "name": "stderr",
     "output_type": "stream",
     "text": [
      "\r",
      " 60%|████████████████████████████████████████████████▎                               | 136/225 [56:07<35:15, 23.77s/it]"
     ]
    },
    {
     "name": "stdout",
     "output_type": "stream",
     "text": [
      "Processing data for material : WATER\n",
      "image_data shape is :  (2048, 2448)\n",
      "im90 shape is :  (1024, 1224)\n",
      "Stokes time:  0.024985790252685547 s\n",
      "im_stokes0 shape is :  (1024, 1224)\n",
      "DoLP time:  0.03897690773010254 s\n",
      "im_DOLP shape is :  (1024, 1224)\n",
      "Time for DOLP2Theta conversion is :  22.993227005004883 seconds\n",
      "False\n",
      "AoLP time:  0.041974782943725586 s\n"
     ]
    },
    {
     "name": "stderr",
     "output_type": "stream",
     "text": [
      "\r",
      " 61%|████████████████████████████████████████████████▋                               | 137/225 [56:30<34:48, 23.73s/it]"
     ]
    },
    {
     "name": "stdout",
     "output_type": "stream",
     "text": [
      "Processing data for material : WATER\n",
      "image_data shape is :  (2048, 2448)\n",
      "im90 shape is :  (1024, 1224)\n",
      "Stokes time:  0.0259854793548584 s\n",
      "im_stokes0 shape is :  (1024, 1224)\n",
      "DoLP time:  0.03497958183288574 s\n",
      "im_DOLP shape is :  (1024, 1224)\n",
      "Time for DOLP2Theta conversion is :  22.699622631072998 seconds\n",
      "False\n",
      "AoLP time:  0.03897523880004883 s\n"
     ]
    },
    {
     "name": "stderr",
     "output_type": "stream",
     "text": [
      "\r",
      " 61%|█████████████████████████████████████████████████                               | 138/225 [56:54<34:14, 23.61s/it]"
     ]
    },
    {
     "name": "stdout",
     "output_type": "stream",
     "text": [
      "Processing data for material : WATER\n",
      "image_data shape is :  (2048, 2448)\n",
      "im90 shape is :  (1024, 1224)\n",
      "Stokes time:  0.024986743927001953 s\n",
      "im_stokes0 shape is :  (1024, 1224)\n",
      "DoLP time:  0.029982805252075195 s\n",
      "im_DOLP shape is :  (1024, 1224)\n",
      "Time for DOLP2Theta conversion is :  23.476937770843506 seconds\n",
      "False\n",
      "AoLP time:  0.042973995208740234 s\n"
     ]
    },
    {
     "name": "stderr",
     "output_type": "stream",
     "text": [
      "\r",
      " 62%|█████████████████████████████████████████████████▍                              | 139/225 [57:18<34:04, 23.77s/it]"
     ]
    },
    {
     "name": "stdout",
     "output_type": "stream",
     "text": [
      "Processing data for material : WATER\n",
      "image_data shape is :  (2048, 2448)\n",
      "im90 shape is :  (1024, 1224)\n",
      "Stokes time:  0.0259854793548584 s\n",
      "im_stokes0 shape is :  (1024, 1224)\n",
      "DoLP time:  0.029981136322021484 s\n",
      "im_DOLP shape is :  (1024, 1224)\n",
      "Time for DOLP2Theta conversion is :  23.190305948257446 seconds\n",
      "False\n",
      "AoLP time:  0.03997611999511719 s\n"
     ]
    },
    {
     "name": "stderr",
     "output_type": "stream",
     "text": [
      "\r",
      " 62%|█████████████████████████████████████████████████▊                              | 140/225 [57:42<33:41, 23.78s/it]"
     ]
    },
    {
     "name": "stdout",
     "output_type": "stream",
     "text": [
      "Processing data for material : WATER\n",
      "image_data shape is :  (2048, 2448)\n",
      "im90 shape is :  (1024, 1224)\n",
      "Stokes time:  0.026984453201293945 s\n",
      "im_stokes0 shape is :  (1024, 1224)\n",
      "DoLP time:  0.03997611999511719 s\n",
      "im_DOLP shape is :  (1024, 1224)\n",
      "Time for DOLP2Theta conversion is :  22.93681526184082 seconds\n",
      "False\n",
      "AoLP time:  0.03897690773010254 s\n"
     ]
    },
    {
     "name": "stderr",
     "output_type": "stream",
     "text": [
      "\r",
      " 63%|██████████████████████████████████████████████████▏                             | 141/225 [58:05<33:12, 23.72s/it]"
     ]
    },
    {
     "name": "stdout",
     "output_type": "stream",
     "text": [
      "Processing data for material : WATER\n",
      "image_data shape is :  (2048, 2448)\n",
      "im90 shape is :  (1024, 1224)\n",
      "Stokes time:  0.026982545852661133 s\n",
      "im_stokes0 shape is :  (1024, 1224)\n",
      "DoLP time:  0.03648233413696289 s\n",
      "im_DOLP shape is :  (1024, 1224)\n",
      "Time for DOLP2Theta conversion is :  23.390803575515747 seconds\n",
      "False\n",
      "AoLP time:  0.04097390174865723 s\n"
     ]
    },
    {
     "name": "stderr",
     "output_type": "stream",
     "text": [
      "\r",
      " 63%|██████████████████████████████████████████████████▍                             | 142/225 [58:29<32:56, 23.81s/it]"
     ]
    },
    {
     "name": "stdout",
     "output_type": "stream",
     "text": [
      "Processing data for material : WATER\n",
      "image_data shape is :  (2048, 2448)\n",
      "im90 shape is :  (1024, 1224)\n",
      "Stokes time:  0.02598428726196289 s\n",
      "im_stokes0 shape is :  (1024, 1224)\n",
      "DoLP time:  0.035001516342163086 s\n",
      "im_DOLP shape is :  (1024, 1224)\n",
      "Time for DOLP2Theta conversion is :  22.747138738632202 seconds\n",
      "False\n",
      "AoLP time:  0.04344534873962402 s\n"
     ]
    },
    {
     "name": "stderr",
     "output_type": "stream",
     "text": [
      "\r",
      " 64%|██████████████████████████████████████████████████▊                             | 143/225 [58:53<32:22, 23.69s/it]"
     ]
    },
    {
     "name": "stdout",
     "output_type": "stream",
     "text": [
      "Processing data for material : WATER\n",
      "image_data shape is :  (2048, 2448)\n",
      "im90 shape is :  (1024, 1224)\n",
      "Stokes time:  0.025984764099121094 s\n",
      "im_stokes0 shape is :  (1024, 1224)\n",
      "DoLP time:  0.032980918884277344 s\n",
      "im_DOLP shape is :  (1024, 1224)\n",
      "Time for DOLP2Theta conversion is :  22.781997203826904 seconds\n",
      "False\n",
      "AoLP time:  0.04097628593444824 s\n"
     ]
    },
    {
     "name": "stderr",
     "output_type": "stream",
     "text": [
      "\r",
      " 64%|███████████████████████████████████████████████████▏                            | 144/225 [59:16<31:52, 23.61s/it]"
     ]
    },
    {
     "name": "stdout",
     "output_type": "stream",
     "text": [
      "Processing data for material : WATER\n",
      "image_data shape is :  (2048, 2448)\n",
      "im90 shape is :  (1024, 1224)\n",
      "Stokes time:  0.026984214782714844 s\n",
      "im_stokes0 shape is :  (1024, 1224)\n",
      "DoLP time:  0.031981706619262695 s\n",
      "im_DOLP shape is :  (1024, 1224)\n",
      "Time for DOLP2Theta conversion is :  23.974281311035156 seconds\n",
      "False\n",
      "AoLP time:  0.04097414016723633 s\n"
     ]
    },
    {
     "name": "stderr",
     "output_type": "stream",
     "text": [
      "\r",
      " 64%|███████████████████████████████████████████████████▌                            | 145/225 [59:41<31:52, 23.90s/it]"
     ]
    },
    {
     "name": "stdout",
     "output_type": "stream",
     "text": [
      "Processing data for material : WATER\n",
      "image_data shape is :  (2048, 2448)\n",
      "im90 shape is :  (1024, 1224)\n",
      "Stokes time:  0.026983976364135742 s\n",
      "im_stokes0 shape is :  (1024, 1224)\n",
      "DoLP time:  0.03497958183288574 s\n",
      "im_DOLP shape is :  (1024, 1224)\n",
      "Time for DOLP2Theta conversion is :  23.163630485534668 seconds\n",
      "False\n",
      "AoLP time:  0.0399775505065918 s\n"
     ]
    },
    {
     "name": "stderr",
     "output_type": "stream",
     "text": [
      "\r",
      " 65%|██████████████████████████████████████████████████▌                           | 146/225 [1:00:04<31:25, 23.86s/it]"
     ]
    },
    {
     "name": "stdout",
     "output_type": "stream",
     "text": [
      "Processing data for material : WATER\n",
      "image_data shape is :  (2048, 2448)\n",
      "im90 shape is :  (1024, 1224)\n",
      "Stokes time:  0.02498626708984375 s\n",
      "im_stokes0 shape is :  (1024, 1224)\n",
      "DoLP time:  0.03597903251647949 s\n",
      "im_DOLP shape is :  (1024, 1224)\n",
      "Time for DOLP2Theta conversion is :  22.52372097969055 seconds\n",
      "False\n",
      "AoLP time:  0.04137682914733887 s\n"
     ]
    },
    {
     "name": "stderr",
     "output_type": "stream",
     "text": [
      "\r",
      " 65%|██████████████████████████████████████████████████▉                           | 147/225 [1:00:27<30:45, 23.66s/it]"
     ]
    },
    {
     "name": "stdout",
     "output_type": "stream",
     "text": [
      "Processing data for material : WATER\n",
      "image_data shape is :  (2048, 2448)\n",
      "im90 shape is :  (1024, 1224)\n",
      "Stokes time:  0.02698373794555664 s\n",
      "im_stokes0 shape is :  (1024, 1224)\n",
      "DoLP time:  0.032981157302856445 s\n",
      "im_DOLP shape is :  (1024, 1224)\n",
      "Time for DOLP2Theta conversion is :  23.21803903579712 seconds\n",
      "False\n",
      "AoLP time:  0.0379786491394043 s\n"
     ]
    },
    {
     "name": "stderr",
     "output_type": "stream",
     "text": [
      "\r",
      " 66%|███████████████████████████████████████████████████▎                          | 148/225 [1:00:51<30:26, 23.71s/it]"
     ]
    },
    {
     "name": "stdout",
     "output_type": "stream",
     "text": [
      "Processing data for material : WATER\n",
      "image_data shape is :  (2048, 2448)\n",
      "im90 shape is :  (1024, 1224)\n",
      "Stokes time:  0.025985002517700195 s\n",
      "im_stokes0 shape is :  (1024, 1224)\n",
      "DoLP time:  0.029982566833496094 s\n",
      "im_DOLP shape is :  (1024, 1224)\n",
      "Time for DOLP2Theta conversion is :  22.85439896583557 seconds\n",
      "False\n",
      "AoLP time:  0.03997540473937988 s\n"
     ]
    },
    {
     "name": "stderr",
     "output_type": "stream",
     "text": [
      "\r",
      " 66%|███████████████████████████████████████████████████▋                          | 149/225 [1:01:15<29:56, 23.64s/it]"
     ]
    },
    {
     "name": "stdout",
     "output_type": "stream",
     "text": [
      "Processing data for material : WATER\n",
      "image_data shape is :  (2048, 2448)\n",
      "im90 shape is :  (1024, 1224)\n",
      "Stokes time:  0.023986101150512695 s\n",
      "im_stokes0 shape is :  (1024, 1224)\n",
      "DoLP time:  0.03198099136352539 s\n",
      "im_DOLP shape is :  (1024, 1224)\n",
      "Time for DOLP2Theta conversion is :  23.31044030189514 seconds\n",
      "False\n",
      "AoLP time:  0.04097628593444824 s\n"
     ]
    },
    {
     "name": "stderr",
     "output_type": "stream",
     "text": [
      "\r",
      " 67%|████████████████████████████████████████████████████                          | 150/225 [1:01:39<29:39, 23.73s/it]"
     ]
    },
    {
     "name": "stdout",
     "output_type": "stream",
     "text": [
      "Processing data for material : WATER\n",
      "image_data shape is :  (2048, 2448)\n",
      "im90 shape is :  (1024, 1224)\n",
      "Stokes time:  0.027492761611938477 s\n",
      "im_stokes0 shape is :  (1024, 1224)\n",
      "DoLP time:  0.03298044204711914 s\n",
      "im_DOLP shape is :  (1024, 1224)\n",
      "Time for DOLP2Theta conversion is :  23.263242483139038 seconds\n",
      "False\n",
      "AoLP time:  0.041974544525146484 s\n"
     ]
    },
    {
     "name": "stderr",
     "output_type": "stream",
     "text": [
      "\r",
      " 67%|████████████████████████████████████████████████████▎                         | 151/225 [1:02:03<29:19, 23.78s/it]"
     ]
    },
    {
     "name": "stdout",
     "output_type": "stream",
     "text": [
      "Processing data for material : WATER\n",
      "image_data shape is :  (2048, 2448)\n",
      "im90 shape is :  (1024, 1224)\n",
      "Stokes time:  0.026983261108398438 s\n",
      "im_stokes0 shape is :  (1024, 1224)\n",
      "DoLP time:  0.03298020362854004 s\n",
      "im_DOLP shape is :  (1024, 1224)\n",
      "Time for DOLP2Theta conversion is :  23.473862171173096 seconds\n",
      "False\n",
      "AoLP time:  0.039995670318603516 s\n"
     ]
    },
    {
     "name": "stderr",
     "output_type": "stream",
     "text": [
      "\r",
      " 68%|████████████████████████████████████████████████████▋                         | 152/225 [1:02:27<29:02, 23.87s/it]"
     ]
    },
    {
     "name": "stdout",
     "output_type": "stream",
     "text": [
      "Processing data for material : WATER\n",
      "image_data shape is :  (2048, 2448)\n",
      "im90 shape is :  (1024, 1224)\n",
      "Stokes time:  0.026984214782714844 s\n",
      "im_stokes0 shape is :  (1024, 1224)\n",
      "DoLP time:  0.03298068046569824 s\n",
      "im_DOLP shape is :  (1024, 1224)\n",
      "Time for DOLP2Theta conversion is :  22.730515956878662 seconds\n",
      "False\n",
      "AoLP time:  0.0479884147644043 s\n"
     ]
    },
    {
     "name": "stderr",
     "output_type": "stream",
     "text": [
      "\r",
      " 68%|█████████████████████████████████████████████████████                         | 153/225 [1:02:50<28:28, 23.73s/it]"
     ]
    },
    {
     "name": "stdout",
     "output_type": "stream",
     "text": [
      "Processing data for material : WATER\n",
      "image_data shape is :  (2048, 2448)\n",
      "im90 shape is :  (1024, 1224)\n",
      "Stokes time:  0.02398538589477539 s\n",
      "im_stokes0 shape is :  (1024, 1224)\n",
      "DoLP time:  0.03398013114929199 s\n",
      "im_DOLP shape is :  (1024, 1224)\n",
      "Time for DOLP2Theta conversion is :  22.39272928237915 seconds\n",
      "False\n",
      "AoLP time:  0.038976192474365234 s\n"
     ]
    },
    {
     "name": "stderr",
     "output_type": "stream",
     "text": [
      "\r",
      " 68%|█████████████████████████████████████████████████████▍                        | 154/225 [1:03:13<27:49, 23.51s/it]"
     ]
    },
    {
     "name": "stdout",
     "output_type": "stream",
     "text": [
      "Processing data for material : WATER\n",
      "image_data shape is :  (2048, 2448)\n",
      "im90 shape is :  (1024, 1224)\n",
      "Stokes time:  0.025985002517700195 s\n",
      "im_stokes0 shape is :  (1024, 1224)\n",
      "DoLP time:  0.03298163414001465 s\n",
      "im_DOLP shape is :  (1024, 1224)\n",
      "Time for DOLP2Theta conversion is :  22.478167057037354 seconds\n",
      "False\n",
      "AoLP time:  0.03997635841369629 s\n"
     ]
    },
    {
     "name": "stderr",
     "output_type": "stream",
     "text": [
      "\r",
      " 69%|█████████████████████████████████████████████████████▋                        | 155/225 [1:03:36<27:17, 23.40s/it]"
     ]
    },
    {
     "name": "stdout",
     "output_type": "stream",
     "text": [
      "Processing data for material : WATER\n",
      "image_data shape is :  (2048, 2448)\n",
      "im90 shape is :  (1024, 1224)\n",
      "Stokes time:  0.027983665466308594 s\n",
      "im_stokes0 shape is :  (1024, 1224)\n",
      "DoLP time:  0.030981063842773438 s\n",
      "im_DOLP shape is :  (1024, 1224)\n",
      "Time for DOLP2Theta conversion is :  23.11855125427246 seconds\n",
      "False\n",
      "AoLP time:  0.03997445106506348 s\n"
     ]
    },
    {
     "name": "stderr",
     "output_type": "stream",
     "text": [
      "\r",
      " 69%|██████████████████████████████████████████████████████                        | 156/225 [1:04:00<27:01, 23.50s/it]"
     ]
    },
    {
     "name": "stdout",
     "output_type": "stream",
     "text": [
      "Processing data for material : WATER\n",
      "image_data shape is :  (2048, 2448)\n",
      "im90 shape is :  (1024, 1224)\n",
      "Stokes time:  0.02498459815979004 s\n",
      "im_stokes0 shape is :  (1024, 1224)\n",
      "DoLP time:  0.03497934341430664 s\n",
      "im_DOLP shape is :  (1024, 1224)\n",
      "Time for DOLP2Theta conversion is :  22.8198504447937 seconds\n",
      "False\n",
      "AoLP time:  0.03997492790222168 s\n"
     ]
    },
    {
     "name": "stderr",
     "output_type": "stream",
     "text": [
      "\r",
      " 70%|██████████████████████████████████████████████████████▍                       | 157/225 [1:04:23<26:36, 23.48s/it]"
     ]
    },
    {
     "name": "stdout",
     "output_type": "stream",
     "text": [
      "Processing data for material : WATER\n",
      "image_data shape is :  (2048, 2448)\n",
      "im90 shape is :  (1024, 1224)\n",
      "Stokes time:  0.02498793601989746 s\n",
      "im_stokes0 shape is :  (1024, 1224)\n",
      "DoLP time:  0.034979820251464844 s\n",
      "im_DOLP shape is :  (1024, 1224)\n",
      "Time for DOLP2Theta conversion is :  23.360901594161987 seconds\n",
      "False\n",
      "AoLP time:  0.0399782657623291 s\n"
     ]
    },
    {
     "name": "stderr",
     "output_type": "stream",
     "text": [
      "\r",
      " 70%|██████████████████████████████████████████████████████▊                       | 158/225 [1:04:47<26:23, 23.63s/it]"
     ]
    },
    {
     "name": "stdout",
     "output_type": "stream",
     "text": [
      "Processing data for material : WATER\n",
      "image_data shape is :  (2048, 2448)\n",
      "im90 shape is :  (1024, 1224)\n",
      "Stokes time:  0.023985624313354492 s\n",
      "im_stokes0 shape is :  (1024, 1224)\n",
      "DoLP time:  0.031981468200683594 s\n",
      "im_DOLP shape is :  (1024, 1224)\n",
      "Time for DOLP2Theta conversion is :  22.607685565948486 seconds\n",
      "False\n",
      "AoLP time:  0.04097604751586914 s\n"
     ]
    },
    {
     "name": "stderr",
     "output_type": "stream",
     "text": [
      "\r",
      " 71%|███████████████████████████████████████████████████████                       | 159/225 [1:05:11<25:52, 23.52s/it]"
     ]
    },
    {
     "name": "stdout",
     "output_type": "stream",
     "text": [
      "Processing data for material : WATER\n",
      "image_data shape is :  (2048, 2448)\n",
      "im90 shape is :  (1024, 1224)\n",
      "Stokes time:  0.024985074996948242 s\n",
      "im_stokes0 shape is :  (1024, 1224)\n",
      "DoLP time:  0.03397989273071289 s\n",
      "im_DOLP shape is :  (1024, 1224)\n",
      "Time for DOLP2Theta conversion is :  23.120625734329224 seconds\n",
      "False\n",
      "AoLP time:  0.041973114013671875 s\n"
     ]
    },
    {
     "name": "stderr",
     "output_type": "stream",
     "text": [
      "\r",
      " 71%|███████████████████████████████████████████████████████▍                      | 160/225 [1:05:34<25:33, 23.59s/it]"
     ]
    },
    {
     "name": "stdout",
     "output_type": "stream",
     "text": [
      "Processing data for material : WATER\n",
      "image_data shape is :  (2048, 2448)\n",
      "im90 shape is :  (1024, 1224)\n",
      "Stokes time:  0.026986122131347656 s\n",
      "im_stokes0 shape is :  (1024, 1224)\n",
      "DoLP time:  0.032980918884277344 s\n",
      "im_DOLP shape is :  (1024, 1224)\n",
      "Time for DOLP2Theta conversion is :  22.632548809051514 seconds\n",
      "False\n",
      "AoLP time:  0.04397249221801758 s\n"
     ]
    },
    {
     "name": "stderr",
     "output_type": "stream",
     "text": [
      "\r",
      " 72%|███████████████████████████████████████████████████████▊                      | 161/225 [1:05:58<25:03, 23.50s/it]"
     ]
    },
    {
     "name": "stdout",
     "output_type": "stream",
     "text": [
      "Processing data for material : WATER\n",
      "image_data shape is :  (2048, 2448)\n",
      "im90 shape is :  (1024, 1224)\n",
      "Stokes time:  0.02398395538330078 s\n",
      "im_stokes0 shape is :  (1024, 1224)\n",
      "DoLP time:  0.03497910499572754 s\n",
      "im_DOLP shape is :  (1024, 1224)\n",
      "Time for DOLP2Theta conversion is :  23.26832365989685 seconds\n",
      "False\n",
      "AoLP time:  0.040975332260131836 s\n"
     ]
    },
    {
     "name": "stderr",
     "output_type": "stream",
     "text": [
      "\r",
      " 72%|████████████████████████████████████████████████████████▏                     | 162/225 [1:06:22<24:47, 23.62s/it]"
     ]
    },
    {
     "name": "stdout",
     "output_type": "stream",
     "text": [
      "Processing data for material : WATER\n",
      "image_data shape is :  (2048, 2448)\n",
      "im90 shape is :  (1024, 1224)\n",
      "Stokes time:  0.025984525680541992 s\n",
      "im_stokes0 shape is :  (1024, 1224)\n",
      "DoLP time:  0.030981779098510742 s\n",
      "im_DOLP shape is :  (1024, 1224)\n",
      "Time for DOLP2Theta conversion is :  23.21250605583191 seconds\n",
      "False\n",
      "AoLP time:  0.03997683525085449 s\n"
     ]
    },
    {
     "name": "stderr",
     "output_type": "stream",
     "text": [
      "\r",
      " 72%|████████████████████████████████████████████████████████▌                     | 163/225 [1:06:45<24:28, 23.68s/it]"
     ]
    },
    {
     "name": "stdout",
     "output_type": "stream",
     "text": [
      "Processing data for material : WATER\n",
      "image_data shape is :  (2048, 2448)\n",
      "im90 shape is :  (1024, 1224)\n",
      "Stokes time:  0.023985862731933594 s\n",
      "im_stokes0 shape is :  (1024, 1224)\n",
      "DoLP time:  0.03597879409790039 s\n",
      "im_DOLP shape is :  (1024, 1224)\n",
      "Time for DOLP2Theta conversion is :  23.342472553253174 seconds\n",
      "False\n",
      "AoLP time:  0.038977622985839844 s\n"
     ]
    },
    {
     "name": "stderr",
     "output_type": "stream",
     "text": [
      "\r",
      " 73%|████████████████████████████████████████████████████████▊                     | 164/225 [1:07:09<24:09, 23.76s/it]"
     ]
    },
    {
     "name": "stdout",
     "output_type": "stream",
     "text": [
      "Processing data for material : WATER\n",
      "image_data shape is :  (2048, 2448)\n",
      "im90 shape is :  (1024, 1224)\n",
      "Stokes time:  0.024985790252685547 s\n",
      "im_stokes0 shape is :  (1024, 1224)\n",
      "DoLP time:  0.030982494354248047 s\n",
      "im_DOLP shape is :  (1024, 1224)\n",
      "Time for DOLP2Theta conversion is :  22.733211040496826 seconds\n",
      "False\n",
      "AoLP time:  0.03897976875305176 s\n"
     ]
    },
    {
     "name": "stderr",
     "output_type": "stream",
     "text": [
      "\r",
      " 73%|█████████████████████████████████████████████████████████▏                    | 165/225 [1:07:33<23:38, 23.64s/it]"
     ]
    },
    {
     "name": "stdout",
     "output_type": "stream",
     "text": [
      "Processing data for material : WATER\n",
      "image_data shape is :  (2048, 2448)\n",
      "im90 shape is :  (1024, 1224)\n",
      "Stokes time:  0.024985551834106445 s\n",
      "im_stokes0 shape is :  (1024, 1224)\n",
      "DoLP time:  0.03298068046569824 s\n",
      "im_DOLP shape is :  (1024, 1224)\n",
      "Time for DOLP2Theta conversion is :  23.21827793121338 seconds\n",
      "False\n",
      "AoLP time:  0.03997635841369629 s\n"
     ]
    },
    {
     "name": "stderr",
     "output_type": "stream",
     "text": [
      "\r",
      " 74%|█████████████████████████████████████████████████████████▌                    | 166/225 [1:07:57<23:18, 23.70s/it]"
     ]
    },
    {
     "name": "stdout",
     "output_type": "stream",
     "text": [
      "Processing data for material : WATER\n",
      "image_data shape is :  (2048, 2448)\n",
      "im90 shape is :  (1024, 1224)\n",
      "Stokes time:  0.028981924057006836 s\n",
      "im_stokes0 shape is :  (1024, 1224)\n",
      "DoLP time:  0.030980348587036133 s\n",
      "im_DOLP shape is :  (1024, 1224)\n",
      "Time for DOLP2Theta conversion is :  22.922011137008667 seconds\n",
      "False\n",
      "AoLP time:  0.039974212646484375 s\n"
     ]
    },
    {
     "name": "stderr",
     "output_type": "stream",
     "text": [
      "\r",
      " 74%|█████████████████████████████████████████████████████████▉                    | 167/225 [1:08:20<22:52, 23.66s/it]"
     ]
    },
    {
     "name": "stdout",
     "output_type": "stream",
     "text": [
      "Processing data for material : WATER\n",
      "image_data shape is :  (2048, 2448)\n",
      "im90 shape is :  (1024, 1224)\n",
      "Stokes time:  0.02698493003845215 s\n",
      "im_stokes0 shape is :  (1024, 1224)\n",
      "DoLP time:  0.035822153091430664 s\n",
      "im_DOLP shape is :  (1024, 1224)\n",
      "Time for DOLP2Theta conversion is :  22.778475284576416 seconds\n",
      "False\n",
      "AoLP time:  0.040975332260131836 s\n"
     ]
    },
    {
     "name": "stderr",
     "output_type": "stream",
     "text": [
      "\r",
      " 75%|██████████████████████████████████████████████████████████▏                   | 168/225 [1:08:44<22:24, 23.58s/it]"
     ]
    },
    {
     "name": "stdout",
     "output_type": "stream",
     "text": [
      "Processing data for material : WATER\n",
      "image_data shape is :  (2048, 2448)\n",
      "im90 shape is :  (1024, 1224)\n",
      "Stokes time:  0.02698493003845215 s\n",
      "im_stokes0 shape is :  (1024, 1224)\n",
      "DoLP time:  0.03397965431213379 s\n",
      "im_DOLP shape is :  (1024, 1224)\n",
      "Time for DOLP2Theta conversion is :  23.10223913192749 seconds\n",
      "False\n",
      "AoLP time:  0.04097604751586914 s\n"
     ]
    },
    {
     "name": "stderr",
     "output_type": "stream",
     "text": [
      "\r",
      " 75%|██████████████████████████████████████████████████████████▌                   | 169/225 [1:09:07<22:03, 23.63s/it]"
     ]
    },
    {
     "name": "stdout",
     "output_type": "stream",
     "text": [
      "Processing data for material : WATER\n",
      "image_data shape is :  (2048, 2448)\n",
      "im90 shape is :  (1024, 1224)\n",
      "Stokes time:  0.0239865779876709 s\n",
      "im_stokes0 shape is :  (1024, 1224)\n",
      "DoLP time:  0.030981779098510742 s\n",
      "im_DOLP shape is :  (1024, 1224)\n",
      "Time for DOLP2Theta conversion is :  22.656829357147217 seconds\n",
      "False\n",
      "AoLP time:  0.04197406768798828 s\n"
     ]
    },
    {
     "name": "stderr",
     "output_type": "stream",
     "text": [
      "\r",
      " 76%|██████████████████████████████████████████████████████████▉                   | 170/225 [1:09:31<21:33, 23.53s/it]"
     ]
    },
    {
     "name": "stdout",
     "output_type": "stream",
     "text": [
      "Processing data for material : WATER\n",
      "image_data shape is :  (2048, 2448)\n",
      "im90 shape is :  (1024, 1224)\n",
      "Stokes time:  0.028983354568481445 s\n",
      "im_stokes0 shape is :  (1024, 1224)\n",
      "DoLP time:  0.03398013114929199 s\n",
      "im_DOLP shape is :  (1024, 1224)\n",
      "Time for DOLP2Theta conversion is :  22.83189105987549 seconds\n",
      "False\n",
      "AoLP time:  0.04097604751586914 s\n"
     ]
    },
    {
     "name": "stderr",
     "output_type": "stream",
     "text": [
      "\r",
      " 76%|███████████████████████████████████████████████████████████▎                  | 171/225 [1:09:54<21:09, 23.51s/it]"
     ]
    },
    {
     "name": "stdout",
     "output_type": "stream",
     "text": [
      "Processing data for material : WATER\n",
      "image_data shape is :  (2048, 2448)\n",
      "im90 shape is :  (1024, 1224)\n",
      "Stokes time:  0.024985074996948242 s\n",
      "im_stokes0 shape is :  (1024, 1224)\n",
      "DoLP time:  0.03198075294494629 s\n",
      "im_DOLP shape is :  (1024, 1224)\n",
      "Time for DOLP2Theta conversion is :  23.174614667892456 seconds\n",
      "False\n",
      "AoLP time:  0.03997659683227539 s\n"
     ]
    },
    {
     "name": "stderr",
     "output_type": "stream",
     "text": [
      "\r",
      " 76%|███████████████████████████████████████████████████████████▋                  | 172/225 [1:10:18<20:50, 23.59s/it]"
     ]
    },
    {
     "name": "stdout",
     "output_type": "stream",
     "text": [
      "Processing data for material : WATER\n",
      "image_data shape is :  (2048, 2448)\n",
      "im90 shape is :  (1024, 1224)\n",
      "Stokes time:  0.023985862731933594 s\n",
      "im_stokes0 shape is :  (1024, 1224)\n",
      "DoLP time:  0.03597736358642578 s\n",
      "im_DOLP shape is :  (1024, 1224)\n",
      "Time for DOLP2Theta conversion is :  23.43595314025879 seconds\n",
      "False\n",
      "AoLP time:  0.049968719482421875 s\n"
     ]
    },
    {
     "name": "stderr",
     "output_type": "stream",
     "text": [
      "\r",
      " 77%|███████████████████████████████████████████████████████████▉                  | 173/225 [1:10:42<20:34, 23.74s/it]"
     ]
    },
    {
     "name": "stdout",
     "output_type": "stream",
     "text": [
      "Processing data for material : WATER\n",
      "image_data shape is :  (2048, 2448)\n",
      "im90 shape is :  (1024, 1224)\n",
      "Stokes time:  0.024985551834106445 s\n",
      "im_stokes0 shape is :  (1024, 1224)\n",
      "DoLP time:  0.031981706619262695 s\n",
      "im_DOLP shape is :  (1024, 1224)\n",
      "Time for DOLP2Theta conversion is :  23.547155380249023 seconds\n",
      "False\n",
      "AoLP time:  0.04297494888305664 s\n"
     ]
    },
    {
     "name": "stderr",
     "output_type": "stream",
     "text": [
      "\r",
      " 77%|████████████████████████████████████████████████████████████▎                 | 174/225 [1:11:06<20:17, 23.86s/it]"
     ]
    },
    {
     "name": "stdout",
     "output_type": "stream",
     "text": [
      "Processing data for material : WATER\n",
      "image_data shape is :  (2048, 2448)\n",
      "im90 shape is :  (1024, 1224)\n",
      "Stokes time:  0.024985313415527344 s\n",
      "im_stokes0 shape is :  (1024, 1224)\n",
      "DoLP time:  0.03297924995422363 s\n",
      "im_DOLP shape is :  (1024, 1224)\n",
      "Time for DOLP2Theta conversion is :  22.579514026641846 seconds\n",
      "False\n",
      "AoLP time:  0.04097580909729004 s\n"
     ]
    },
    {
     "name": "stderr",
     "output_type": "stream",
     "text": [
      "\r",
      " 78%|████████████████████████████████████████████████████████████▋                 | 175/225 [1:11:29<19:43, 23.67s/it]"
     ]
    },
    {
     "name": "stdout",
     "output_type": "stream",
     "text": [
      "Processing data for material : WATER\n",
      "image_data shape is :  (2048, 2448)\n",
      "im90 shape is :  (1024, 1224)\n",
      "Stokes time:  0.023986101150512695 s\n",
      "im_stokes0 shape is :  (1024, 1224)\n",
      "DoLP time:  0.03198099136352539 s\n",
      "im_DOLP shape is :  (1024, 1224)\n",
      "Time for DOLP2Theta conversion is :  22.774639129638672 seconds\n",
      "False\n",
      "AoLP time:  0.040975332260131836 s\n"
     ]
    },
    {
     "name": "stderr",
     "output_type": "stream",
     "text": [
      "\r",
      " 78%|█████████████████████████████████████████████████████████████                 | 176/225 [1:11:53<19:15, 23.59s/it]"
     ]
    },
    {
     "name": "stdout",
     "output_type": "stream",
     "text": [
      "Processing data for material : WATER\n",
      "image_data shape is :  (2048, 2448)\n",
      "im90 shape is :  (1024, 1224)\n",
      "Stokes time:  0.02598404884338379 s\n",
      "im_stokes0 shape is :  (1024, 1224)\n",
      "DoLP time:  0.03397941589355469 s\n",
      "im_DOLP shape is :  (1024, 1224)\n",
      "Time for DOLP2Theta conversion is :  23.87431764602661 seconds\n",
      "False\n",
      "AoLP time:  0.04297304153442383 s\n"
     ]
    },
    {
     "name": "stderr",
     "output_type": "stream",
     "text": [
      "\r",
      " 79%|█████████████████████████████████████████████████████████████▎                | 177/225 [1:12:17<19:05, 23.87s/it]"
     ]
    },
    {
     "name": "stdout",
     "output_type": "stream",
     "text": [
      "Processing data for material : WATER\n",
      "image_data shape is :  (2048, 2448)\n",
      "im90 shape is :  (1024, 1224)\n",
      "Stokes time:  0.024985313415527344 s\n",
      "im_stokes0 shape is :  (1024, 1224)\n",
      "DoLP time:  0.0330049991607666 s\n",
      "im_DOLP shape is :  (1024, 1224)\n",
      "Time for DOLP2Theta conversion is :  23.765896320343018 seconds\n",
      "False\n",
      "AoLP time:  0.03897738456726074 s\n"
     ]
    },
    {
     "name": "stderr",
     "output_type": "stream",
     "text": [
      "\r",
      " 79%|█████████████████████████████████████████████████████████████▋                | 178/225 [1:12:42<18:49, 24.02s/it]"
     ]
    },
    {
     "name": "stdout",
     "output_type": "stream",
     "text": [
      "Processing data for material : WATER\n",
      "image_data shape is :  (2048, 2448)\n",
      "im90 shape is :  (1024, 1224)\n",
      "Stokes time:  0.02698373794555664 s\n",
      "im_stokes0 shape is :  (1024, 1224)\n",
      "DoLP time:  0.03697800636291504 s\n",
      "im_DOLP shape is :  (1024, 1224)\n",
      "Time for DOLP2Theta conversion is :  22.438896656036377 seconds\n",
      "False\n",
      "AoLP time:  0.03998398780822754 s\n"
     ]
    },
    {
     "name": "stderr",
     "output_type": "stream",
     "text": [
      "\r",
      " 80%|██████████████████████████████████████████████████████████████                | 179/225 [1:13:05<18:11, 23.73s/it]"
     ]
    },
    {
     "name": "stdout",
     "output_type": "stream",
     "text": [
      "Processing data for material : WATER\n",
      "image_data shape is :  (2048, 2448)\n",
      "im90 shape is :  (1024, 1224)\n",
      "Stokes time:  0.024986743927001953 s\n",
      "im_stokes0 shape is :  (1024, 1224)\n",
      "DoLP time:  0.03198099136352539 s\n",
      "im_DOLP shape is :  (1024, 1224)\n",
      "Time for DOLP2Theta conversion is :  23.168229579925537 seconds\n",
      "False\n",
      "AoLP time:  0.03997516632080078 s\n"
     ]
    },
    {
     "name": "stderr",
     "output_type": "stream",
     "text": [
      "\r",
      " 80%|██████████████████████████████████████████████████████████████▍               | 180/225 [1:13:28<17:48, 23.75s/it]"
     ]
    },
    {
     "name": "stdout",
     "output_type": "stream",
     "text": [
      "Processing data for material : WATER\n",
      "image_data shape is :  (2048, 2448)\n",
      "im90 shape is :  (1024, 1224)\n",
      "Stokes time:  0.025985002517700195 s\n",
      "im_stokes0 shape is :  (1024, 1224)\n",
      "DoLP time:  0.032980918884277344 s\n",
      "im_DOLP shape is :  (1024, 1224)\n",
      "Time for DOLP2Theta conversion is :  23.315476417541504 seconds\n",
      "False\n",
      "AoLP time:  0.04197430610656738 s\n"
     ]
    },
    {
     "name": "stderr",
     "output_type": "stream",
     "text": [
      "\r",
      " 80%|██████████████████████████████████████████████████████████████▋               | 181/225 [1:13:52<17:27, 23.80s/it]"
     ]
    },
    {
     "name": "stdout",
     "output_type": "stream",
     "text": [
      "Processing data for material : WATER\n",
      "image_data shape is :  (2048, 2448)\n",
      "im90 shape is :  (1024, 1224)\n",
      "Stokes time:  0.024985551834106445 s\n",
      "im_stokes0 shape is :  (1024, 1224)\n",
      "DoLP time:  0.03098320960998535 s\n",
      "im_DOLP shape is :  (1024, 1224)\n",
      "Time for DOLP2Theta conversion is :  23.594026803970337 seconds\n",
      "False\n",
      "AoLP time:  0.04097390174865723 s\n"
     ]
    },
    {
     "name": "stderr",
     "output_type": "stream",
     "text": [
      "\r",
      " 81%|███████████████████████████████████████████████████████████████               | 182/225 [1:14:17<17:08, 23.93s/it]"
     ]
    },
    {
     "name": "stdout",
     "output_type": "stream",
     "text": [
      "Processing data for material : WATER\n",
      "image_data shape is :  (2048, 2448)\n",
      "im90 shape is :  (1024, 1224)\n",
      "Stokes time:  0.02898263931274414 s\n",
      "im_stokes0 shape is :  (1024, 1224)\n",
      "DoLP time:  0.038977622985839844 s\n",
      "im_DOLP shape is :  (1024, 1224)\n",
      "Time for DOLP2Theta conversion is :  22.997174978256226 seconds\n",
      "False\n",
      "AoLP time:  0.041975975036621094 s\n"
     ]
    },
    {
     "name": "stderr",
     "output_type": "stream",
     "text": [
      "\r",
      " 81%|███████████████████████████████████████████████████████████████▍              | 183/225 [1:14:40<16:40, 23.83s/it]"
     ]
    },
    {
     "name": "stdout",
     "output_type": "stream",
     "text": [
      "Processing data for material : WATER\n",
      "image_data shape is :  (2048, 2448)\n",
      "im90 shape is :  (1024, 1224)\n",
      "Stokes time:  0.025985240936279297 s\n",
      "im_stokes0 shape is :  (1024, 1224)\n",
      "DoLP time:  0.033486366271972656 s\n",
      "im_DOLP shape is :  (1024, 1224)\n",
      "Time for DOLP2Theta conversion is :  22.788986921310425 seconds\n",
      "False\n",
      "AoLP time:  0.04097604751586914 s\n"
     ]
    },
    {
     "name": "stderr",
     "output_type": "stream",
     "text": [
      "\r",
      " 82%|███████████████████████████████████████████████████████████████▊              | 184/225 [1:15:04<16:12, 23.71s/it]"
     ]
    },
    {
     "name": "stdout",
     "output_type": "stream",
     "text": [
      "Processing data for material : WATER\n",
      "image_data shape is :  (2048, 2448)\n",
      "im90 shape is :  (1024, 1224)\n",
      "Stokes time:  0.026984453201293945 s\n",
      "im_stokes0 shape is :  (1024, 1224)\n",
      "DoLP time:  0.031981468200683594 s\n",
      "im_DOLP shape is :  (1024, 1224)\n",
      "Time for DOLP2Theta conversion is :  23.23132848739624 seconds\n",
      "False\n",
      "AoLP time:  0.04198956489562988 s\n"
     ]
    },
    {
     "name": "stderr",
     "output_type": "stream",
     "text": [
      "\r",
      " 82%|████████████████████████████████████████████████████████████████▏             | 185/225 [1:15:27<15:50, 23.75s/it]"
     ]
    },
    {
     "name": "stdout",
     "output_type": "stream",
     "text": [
      "Processing data for material : WATER\n",
      "image_data shape is :  (2048, 2448)\n",
      "im90 shape is :  (1024, 1224)\n",
      "Stokes time:  0.02698349952697754 s\n",
      "im_stokes0 shape is :  (1024, 1224)\n",
      "DoLP time:  0.030982017517089844 s\n",
      "im_DOLP shape is :  (1024, 1224)\n",
      "Time for DOLP2Theta conversion is :  23.15144920349121 seconds\n",
      "False\n",
      "AoLP time:  0.03997468948364258 s\n"
     ]
    },
    {
     "name": "stderr",
     "output_type": "stream",
     "text": [
      "\r",
      " 83%|████████████████████████████████████████████████████████████████▍             | 186/225 [1:15:51<15:26, 23.76s/it]"
     ]
    },
    {
     "name": "stdout",
     "output_type": "stream",
     "text": [
      "Processing data for material : WATER\n",
      "image_data shape is :  (2048, 2448)\n",
      "im90 shape is :  (1024, 1224)\n",
      "Stokes time:  0.024985790252685547 s\n",
      "im_stokes0 shape is :  (1024, 1224)\n",
      "DoLP time:  0.03597855567932129 s\n",
      "im_DOLP shape is :  (1024, 1224)\n",
      "Time for DOLP2Theta conversion is :  22.711374521255493 seconds\n",
      "False\n",
      "AoLP time:  0.04297184944152832 s\n"
     ]
    },
    {
     "name": "stderr",
     "output_type": "stream",
     "text": [
      "\r",
      " 83%|████████████████████████████████████████████████████████████████▊             | 187/225 [1:16:15<14:58, 23.63s/it]"
     ]
    },
    {
     "name": "stdout",
     "output_type": "stream",
     "text": [
      "Processing data for material : WATER\n",
      "image_data shape is :  (2048, 2448)\n",
      "im90 shape is :  (1024, 1224)\n",
      "Stokes time:  0.0279843807220459 s\n",
      "im_stokes0 shape is :  (1024, 1224)\n",
      "DoLP time:  0.033978939056396484 s\n",
      "im_DOLP shape is :  (1024, 1224)\n",
      "Time for DOLP2Theta conversion is :  23.737030267715454 seconds\n",
      "False\n",
      "AoLP time:  0.041977643966674805 s\n"
     ]
    },
    {
     "name": "stderr",
     "output_type": "stream",
     "text": [
      "\r",
      " 84%|█████████████████████████████████████████████████████████████████▏            | 188/225 [1:16:39<14:42, 23.86s/it]"
     ]
    },
    {
     "name": "stdout",
     "output_type": "stream",
     "text": [
      "Processing data for material : WATER\n",
      "image_data shape is :  (2048, 2448)\n",
      "im90 shape is :  (1024, 1224)\n",
      "Stokes time:  0.026981353759765625 s\n",
      "im_stokes0 shape is :  (1024, 1224)\n",
      "DoLP time:  0.030982494354248047 s\n",
      "im_DOLP shape is :  (1024, 1224)\n",
      "Time for DOLP2Theta conversion is :  23.22440218925476 seconds\n",
      "False\n",
      "AoLP time:  0.03897547721862793 s\n"
     ]
    },
    {
     "name": "stderr",
     "output_type": "stream",
     "text": [
      "\r",
      " 84%|█████████████████████████████████████████████████████████████████▌            | 189/225 [1:17:03<14:18, 23.85s/it]"
     ]
    },
    {
     "name": "stdout",
     "output_type": "stream",
     "text": [
      "Processing data for material : WATER\n",
      "image_data shape is :  (2048, 2448)\n",
      "im90 shape is :  (1024, 1224)\n",
      "Stokes time:  0.023986101150512695 s\n",
      "im_stokes0 shape is :  (1024, 1224)\n",
      "DoLP time:  0.031981706619262695 s\n",
      "im_DOLP shape is :  (1024, 1224)\n",
      "Time for DOLP2Theta conversion is :  22.888343572616577 seconds\n",
      "False\n",
      "AoLP time:  0.03997635841369629 s\n"
     ]
    },
    {
     "name": "stderr",
     "output_type": "stream",
     "text": [
      "\r",
      " 84%|█████████████████████████████████████████████████████████████████▊            | 190/225 [1:17:26<13:50, 23.74s/it]"
     ]
    },
    {
     "name": "stdout",
     "output_type": "stream",
     "text": [
      "Processing data for material : WATER\n",
      "image_data shape is :  (2048, 2448)\n",
      "im90 shape is :  (1024, 1224)\n",
      "Stokes time:  0.023984909057617188 s\n",
      "im_stokes0 shape is :  (1024, 1224)\n",
      "DoLP time:  0.03498101234436035 s\n",
      "im_DOLP shape is :  (1024, 1224)\n",
      "Time for DOLP2Theta conversion is :  22.848692655563354 seconds\n",
      "False\n",
      "AoLP time:  0.04097557067871094 s\n"
     ]
    },
    {
     "name": "stderr",
     "output_type": "stream",
     "text": [
      "\r",
      " 85%|██████████████████████████████████████████████████████████████████▏           | 191/225 [1:17:50<13:24, 23.67s/it]"
     ]
    },
    {
     "name": "stdout",
     "output_type": "stream",
     "text": [
      "Processing data for material : WATER\n",
      "image_data shape is :  (2048, 2448)\n",
      "im90 shape is :  (1024, 1224)\n",
      "Stokes time:  0.024985551834106445 s\n",
      "im_stokes0 shape is :  (1024, 1224)\n",
      "DoLP time:  0.033980607986450195 s\n",
      "im_DOLP shape is :  (1024, 1224)\n",
      "Time for DOLP2Theta conversion is :  22.305918216705322 seconds\n",
      "False\n",
      "AoLP time:  0.041974544525146484 s\n"
     ]
    },
    {
     "name": "stderr",
     "output_type": "stream",
     "text": [
      "\r",
      " 85%|██████████████████████████████████████████████████████████████████▌           | 192/225 [1:18:13<12:53, 23.44s/it]"
     ]
    },
    {
     "name": "stdout",
     "output_type": "stream",
     "text": [
      "Processing data for material : WATER\n",
      "image_data shape is :  (2048, 2448)\n",
      "im90 shape is :  (1024, 1224)\n",
      "Stokes time:  0.025985240936279297 s\n",
      "im_stokes0 shape is :  (1024, 1224)\n",
      "DoLP time:  0.03397989273071289 s\n",
      "im_DOLP shape is :  (1024, 1224)\n",
      "Time for DOLP2Theta conversion is :  23.070664644241333 seconds\n",
      "False\n",
      "AoLP time:  0.03997611999511719 s\n"
     ]
    },
    {
     "name": "stderr",
     "output_type": "stream",
     "text": [
      "\r",
      " 86%|██████████████████████████████████████████████████████████████████▉           | 193/225 [1:18:36<12:32, 23.52s/it]"
     ]
    },
    {
     "name": "stdout",
     "output_type": "stream",
     "text": [
      "Processing data for material : WATER\n",
      "image_data shape is :  (2048, 2448)\n",
      "im90 shape is :  (1024, 1224)\n",
      "Stokes time:  0.024985313415527344 s\n",
      "im_stokes0 shape is :  (1024, 1224)\n",
      "DoLP time:  0.03198099136352539 s\n",
      "im_DOLP shape is :  (1024, 1224)\n",
      "Time for DOLP2Theta conversion is :  22.579143047332764 seconds\n",
      "False\n",
      "AoLP time:  0.041975975036621094 s\n"
     ]
    },
    {
     "name": "stderr",
     "output_type": "stream",
     "text": [
      "\r",
      " 86%|███████████████████████████████████████████████████████████████████▎          | 194/225 [1:19:00<12:06, 23.43s/it]"
     ]
    },
    {
     "name": "stdout",
     "output_type": "stream",
     "text": [
      "Processing data for material : WATER\n",
      "image_data shape is :  (2048, 2448)\n",
      "im90 shape is :  (1024, 1224)\n",
      "Stokes time:  0.024985074996948242 s\n",
      "im_stokes0 shape is :  (1024, 1224)\n",
      "DoLP time:  0.034980058670043945 s\n",
      "im_DOLP shape is :  (1024, 1224)\n",
      "Time for DOLP2Theta conversion is :  23.14446711540222 seconds\n",
      "False\n",
      "AoLP time:  0.04197573661804199 s\n"
     ]
    },
    {
     "name": "stderr",
     "output_type": "stream",
     "text": [
      "\r",
      " 87%|███████████████████████████████████████████████████████████████████▌          | 195/225 [1:19:23<11:45, 23.53s/it]"
     ]
    },
    {
     "name": "stdout",
     "output_type": "stream",
     "text": [
      "Processing data for material : WATER\n",
      "image_data shape is :  (2048, 2448)\n",
      "im90 shape is :  (1024, 1224)\n",
      "Stokes time:  0.027983903884887695 s\n",
      "im_stokes0 shape is :  (1024, 1224)\n",
      "DoLP time:  0.03299832344055176 s\n",
      "im_DOLP shape is :  (1024, 1224)\n",
      "Time for DOLP2Theta conversion is :  22.752906322479248 seconds\n",
      "False\n",
      "AoLP time:  0.041974782943725586 s\n"
     ]
    },
    {
     "name": "stderr",
     "output_type": "stream",
     "text": [
      "\r",
      " 87%|███████████████████████████████████████████████████████████████████▉          | 196/225 [1:19:47<11:20, 23.48s/it]"
     ]
    },
    {
     "name": "stdout",
     "output_type": "stream",
     "text": [
      "Processing data for material : WATER\n",
      "image_data shape is :  (2048, 2448)\n",
      "im90 shape is :  (1024, 1224)\n",
      "Stokes time:  0.025985240936279297 s\n",
      "im_stokes0 shape is :  (1024, 1224)\n",
      "DoLP time:  0.03348660469055176 s\n",
      "im_DOLP shape is :  (1024, 1224)\n",
      "Time for DOLP2Theta conversion is :  22.935818195343018 seconds\n",
      "False\n",
      "AoLP time:  0.041975975036621094 s\n"
     ]
    },
    {
     "name": "stderr",
     "output_type": "stream",
     "text": [
      "\r",
      " 88%|████████████████████████████████████████████████████████████████████▎         | 197/225 [1:20:10<10:58, 23.50s/it]"
     ]
    },
    {
     "name": "stdout",
     "output_type": "stream",
     "text": [
      "Processing data for material : WATER\n",
      "image_data shape is :  (2048, 2448)\n",
      "im90 shape is :  (1024, 1224)\n",
      "Stokes time:  0.02498626708984375 s\n",
      "im_stokes0 shape is :  (1024, 1224)\n",
      "DoLP time:  0.03797602653503418 s\n",
      "im_DOLP shape is :  (1024, 1224)\n",
      "Time for DOLP2Theta conversion is :  22.77934432029724 seconds\n",
      "False\n",
      "AoLP time:  0.04397463798522949 s\n"
     ]
    },
    {
     "name": "stderr",
     "output_type": "stream",
     "text": [
      "\r",
      " 88%|████████████████████████████████████████████████████████████████████▋         | 198/225 [1:20:34<10:33, 23.47s/it]"
     ]
    },
    {
     "name": "stdout",
     "output_type": "stream",
     "text": [
      "Processing data for material : WATER\n",
      "image_data shape is :  (2048, 2448)\n",
      "im90 shape is :  (1024, 1224)\n",
      "Stokes time:  0.026093721389770508 s\n",
      "im_stokes0 shape is :  (1024, 1224)\n",
      "DoLP time:  0.031010866165161133 s\n",
      "im_DOLP shape is :  (1024, 1224)\n",
      "Time for DOLP2Theta conversion is :  22.832144021987915 seconds\n",
      "False\n",
      "AoLP time:  0.04297375679016113 s\n"
     ]
    },
    {
     "name": "stderr",
     "output_type": "stream",
     "text": [
      "\r",
      " 88%|████████████████████████████████████████████████████████████████████▉         | 199/225 [1:20:57<10:09, 23.46s/it]"
     ]
    },
    {
     "name": "stdout",
     "output_type": "stream",
     "text": [
      "Processing data for material : WATER\n",
      "image_data shape is :  (2048, 2448)\n",
      "im90 shape is :  (1024, 1224)\n",
      "Stokes time:  0.025984764099121094 s\n",
      "im_stokes0 shape is :  (1024, 1224)\n",
      "DoLP time:  0.032979726791381836 s\n",
      "im_DOLP shape is :  (1024, 1224)\n",
      "Time for DOLP2Theta conversion is :  22.900222539901733 seconds\n",
      "False\n",
      "AoLP time:  0.03997921943664551 s\n"
     ]
    },
    {
     "name": "stderr",
     "output_type": "stream",
     "text": [
      "\r",
      " 89%|█████████████████████████████████████████████████████████████████████▎        | 200/225 [1:21:21<09:47, 23.48s/it]"
     ]
    },
    {
     "name": "stdout",
     "output_type": "stream",
     "text": [
      "Processing data for material : WATER\n",
      "image_data shape is :  (2048, 2448)\n",
      "im90 shape is :  (1024, 1224)\n",
      "Stokes time:  0.024985074996948242 s\n",
      "im_stokes0 shape is :  (1024, 1224)\n",
      "DoLP time:  0.03497934341430664 s\n",
      "im_DOLP shape is :  (1024, 1224)\n",
      "Time for DOLP2Theta conversion is :  23.005007028579712 seconds\n",
      "False\n",
      "AoLP time:  0.04197549819946289 s\n"
     ]
    },
    {
     "name": "stderr",
     "output_type": "stream",
     "text": [
      "\r",
      " 89%|█████████████████████████████████████████████████████████████████████▋        | 201/225 [1:21:44<09:24, 23.53s/it]"
     ]
    },
    {
     "name": "stdout",
     "output_type": "stream",
     "text": [
      "Processing data for material : WATER\n",
      "image_data shape is :  (2048, 2448)\n",
      "im90 shape is :  (1024, 1224)\n",
      "Stokes time:  0.026984453201293945 s\n",
      "im_stokes0 shape is :  (1024, 1224)\n",
      "DoLP time:  0.0339815616607666 s\n",
      "im_DOLP shape is :  (1024, 1224)\n",
      "Time for DOLP2Theta conversion is :  23.16112780570984 seconds\n",
      "False\n",
      "AoLP time:  0.04197335243225098 s\n"
     ]
    },
    {
     "name": "stderr",
     "output_type": "stream",
     "text": [
      "\r",
      " 90%|██████████████████████████████████████████████████████████████████████        | 202/225 [1:22:08<09:02, 23.60s/it]"
     ]
    },
    {
     "name": "stdout",
     "output_type": "stream",
     "text": [
      "Processing data for material : WATER\n",
      "image_data shape is :  (2048, 2448)\n",
      "im90 shape is :  (1024, 1224)\n",
      "Stokes time:  0.025985002517700195 s\n",
      "im_stokes0 shape is :  (1024, 1224)\n",
      "DoLP time:  0.030982017517089844 s\n",
      "im_DOLP shape is :  (1024, 1224)\n",
      "Time for DOLP2Theta conversion is :  23.314828872680664 seconds\n",
      "False\n",
      "AoLP time:  0.042969465255737305 s\n"
     ]
    },
    {
     "name": "stderr",
     "output_type": "stream",
     "text": [
      "\r",
      " 90%|██████████████████████████████████████████████████████████████████████▎       | 203/225 [1:22:32<08:41, 23.70s/it]"
     ]
    },
    {
     "name": "stdout",
     "output_type": "stream",
     "text": [
      "Processing data for material : WATER\n",
      "image_data shape is :  (2048, 2448)\n",
      "im90 shape is :  (1024, 1224)\n",
      "Stokes time:  0.027983427047729492 s\n",
      "im_stokes0 shape is :  (1024, 1224)\n",
      "DoLP time:  0.031982421875 s\n",
      "im_DOLP shape is :  (1024, 1224)\n",
      "Time for DOLP2Theta conversion is :  22.899399995803833 seconds\n",
      "False\n",
      "AoLP time:  0.04197573661804199 s\n"
     ]
    },
    {
     "name": "stderr",
     "output_type": "stream",
     "text": [
      "\r",
      " 91%|██████████████████████████████████████████████████████████████████████▋       | 204/225 [1:22:55<08:16, 23.65s/it]"
     ]
    },
    {
     "name": "stdout",
     "output_type": "stream",
     "text": [
      "Processing data for material : WATER\n",
      "image_data shape is :  (2048, 2448)\n",
      "im90 shape is :  (1024, 1224)\n",
      "Stokes time:  0.024985790252685547 s\n",
      "im_stokes0 shape is :  (1024, 1224)\n",
      "DoLP time:  0.034980058670043945 s\n",
      "im_DOLP shape is :  (1024, 1224)\n",
      "Time for DOLP2Theta conversion is :  22.886707544326782 seconds\n",
      "False\n",
      "AoLP time:  0.04297518730163574 s\n"
     ]
    },
    {
     "name": "stderr",
     "output_type": "stream",
     "text": [
      "\r",
      " 91%|███████████████████████████████████████████████████████████████████████       | 205/225 [1:23:19<07:52, 23.60s/it]"
     ]
    },
    {
     "name": "stdout",
     "output_type": "stream",
     "text": [
      "Processing data for material : WATER\n",
      "image_data shape is :  (2048, 2448)\n",
      "im90 shape is :  (1024, 1224)\n",
      "Stokes time:  0.027991533279418945 s\n",
      "im_stokes0 shape is :  (1024, 1224)\n",
      "DoLP time:  0.031981706619262695 s\n",
      "im_DOLP shape is :  (1024, 1224)\n",
      "Time for DOLP2Theta conversion is :  23.128663539886475 seconds\n",
      "False\n",
      "AoLP time:  0.039977073669433594 s\n"
     ]
    },
    {
     "name": "stderr",
     "output_type": "stream",
     "text": [
      "\r",
      " 92%|███████████████████████████████████████████████████████████████████████▍      | 206/225 [1:23:43<07:29, 23.66s/it]"
     ]
    },
    {
     "name": "stdout",
     "output_type": "stream",
     "text": [
      "Processing data for material : WATER\n",
      "image_data shape is :  (2048, 2448)\n",
      "im90 shape is :  (1024, 1224)\n",
      "Stokes time:  0.025984764099121094 s\n",
      "im_stokes0 shape is :  (1024, 1224)\n",
      "DoLP time:  0.03198099136352539 s\n",
      "im_DOLP shape is :  (1024, 1224)\n",
      "Time for DOLP2Theta conversion is :  22.630390167236328 seconds\n",
      "False\n",
      "AoLP time:  0.04397416114807129 s\n"
     ]
    },
    {
     "name": "stderr",
     "output_type": "stream",
     "text": [
      "\r",
      " 92%|███████████████████████████████████████████████████████████████████████▊      | 207/225 [1:24:06<07:03, 23.55s/it]"
     ]
    },
    {
     "name": "stdout",
     "output_type": "stream",
     "text": [
      "Processing data for material : WATER\n",
      "image_data shape is :  (2048, 2448)\n",
      "im90 shape is :  (1024, 1224)\n",
      "Stokes time:  0.02498483657836914 s\n",
      "im_stokes0 shape is :  (1024, 1224)\n",
      "DoLP time:  0.03198099136352539 s\n",
      "im_DOLP shape is :  (1024, 1224)\n",
      "Time for DOLP2Theta conversion is :  22.217499494552612 seconds\n",
      "False\n",
      "AoLP time:  0.04297518730163574 s\n"
     ]
    },
    {
     "name": "stderr",
     "output_type": "stream",
     "text": [
      "\r",
      " 92%|████████████████████████████████████████████████████████████████████████      | 208/225 [1:24:29<06:36, 23.34s/it]"
     ]
    },
    {
     "name": "stdout",
     "output_type": "stream",
     "text": [
      "Processing data for material : WATER\n",
      "image_data shape is :  (2048, 2448)\n",
      "im90 shape is :  (1024, 1224)\n",
      "Stokes time:  0.026984214782714844 s\n",
      "im_stokes0 shape is :  (1024, 1224)\n",
      "DoLP time:  0.03098320960998535 s\n",
      "im_DOLP shape is :  (1024, 1224)\n",
      "Time for DOLP2Theta conversion is :  22.46005344390869 seconds\n",
      "False\n",
      "AoLP time:  0.03997635841369629 s\n"
     ]
    },
    {
     "name": "stderr",
     "output_type": "stream",
     "text": [
      "\r",
      " 93%|████████████████████████████████████████████████████████████████████████▍     | 209/225 [1:24:52<06:12, 23.27s/it]"
     ]
    },
    {
     "name": "stdout",
     "output_type": "stream",
     "text": [
      "Processing data for material : WATER\n",
      "image_data shape is :  (2048, 2448)\n",
      "im90 shape is :  (1024, 1224)\n",
      "Stokes time:  0.024986982345581055 s\n",
      "im_stokes0 shape is :  (1024, 1224)\n",
      "DoLP time:  0.03198051452636719 s\n",
      "im_DOLP shape is :  (1024, 1224)\n",
      "Time for DOLP2Theta conversion is :  22.636738061904907 seconds\n",
      "False\n",
      "AoLP time:  0.04097580909729004 s\n"
     ]
    },
    {
     "name": "stderr",
     "output_type": "stream",
     "text": [
      "\r",
      " 93%|████████████████████████████████████████████████████████████████████████▊     | 210/225 [1:25:15<05:49, 23.27s/it]"
     ]
    },
    {
     "name": "stdout",
     "output_type": "stream",
     "text": [
      "Processing data for material : WATER\n",
      "image_data shape is :  (2048, 2448)\n",
      "im90 shape is :  (1024, 1224)\n",
      "Stokes time:  0.024985313415527344 s\n",
      "im_stokes0 shape is :  (1024, 1224)\n",
      "DoLP time:  0.03597903251647949 s\n",
      "im_DOLP shape is :  (1024, 1224)\n",
      "Time for DOLP2Theta conversion is :  22.58085584640503 seconds\n",
      "False\n",
      "AoLP time:  0.050969839096069336 s\n"
     ]
    },
    {
     "name": "stderr",
     "output_type": "stream",
     "text": [
      "\r",
      " 94%|█████████████████████████████████████████████████████████████████████████▏    | 211/225 [1:25:39<05:25, 23.28s/it]"
     ]
    },
    {
     "name": "stdout",
     "output_type": "stream",
     "text": [
      "Processing data for material : WATER\n",
      "image_data shape is :  (2048, 2448)\n",
      "im90 shape is :  (1024, 1224)\n",
      "Stokes time:  0.04397439956665039 s\n",
      "im_stokes0 shape is :  (1024, 1224)\n",
      "DoLP time:  0.04797172546386719 s\n",
      "im_DOLP shape is :  (1024, 1224)\n",
      "Time for DOLP2Theta conversion is :  29.834823608398438 seconds\n",
      "False\n",
      "AoLP time:  0.04097557067871094 s\n"
     ]
    },
    {
     "name": "stderr",
     "output_type": "stream",
     "text": [
      "\r",
      " 94%|█████████████████████████████████████████████████████████████████████████▍    | 212/225 [1:26:10<05:33, 25.62s/it]"
     ]
    },
    {
     "name": "stdout",
     "output_type": "stream",
     "text": [
      "Processing data for material : WATER\n",
      "image_data shape is :  (2048, 2448)\n",
      "im90 shape is :  (1024, 1224)\n",
      "Stokes time:  0.027983665466308594 s\n",
      "im_stokes0 shape is :  (1024, 1224)\n",
      "DoLP time:  0.0339810848236084 s\n",
      "im_DOLP shape is :  (1024, 1224)\n",
      "Time for DOLP2Theta conversion is :  25.874512195587158 seconds\n",
      "False\n",
      "AoLP time:  0.04297471046447754 s\n"
     ]
    },
    {
     "name": "stderr",
     "output_type": "stream",
     "text": [
      "\r",
      " 95%|█████████████████████████████████████████████████████████████████████████▊    | 213/225 [1:26:37<05:12, 26.05s/it]"
     ]
    },
    {
     "name": "stdout",
     "output_type": "stream",
     "text": [
      "Processing data for material : WATER\n",
      "image_data shape is :  (2048, 2448)\n",
      "im90 shape is :  (1024, 1224)\n",
      "Stokes time:  0.027983427047729492 s\n",
      "im_stokes0 shape is :  (1024, 1224)\n",
      "DoLP time:  0.03298068046569824 s\n",
      "im_DOLP shape is :  (1024, 1224)\n",
      "Time for DOLP2Theta conversion is :  23.916606903076172 seconds\n",
      "False\n",
      "AoLP time:  0.04097437858581543 s\n"
     ]
    },
    {
     "name": "stderr",
     "output_type": "stream",
     "text": [
      "\r",
      " 95%|██████████████████████████████████████████████████████████████████████████▏   | 214/225 [1:27:01<04:41, 25.62s/it]"
     ]
    },
    {
     "name": "stdout",
     "output_type": "stream",
     "text": [
      "Processing data for material : WATER\n",
      "image_data shape is :  (2048, 2448)\n",
      "im90 shape is :  (1024, 1224)\n",
      "Stokes time:  0.03198099136352539 s\n",
      "im_stokes0 shape is :  (1024, 1224)\n",
      "DoLP time:  0.03297781944274902 s\n",
      "im_DOLP shape is :  (1024, 1224)\n",
      "Time for DOLP2Theta conversion is :  24.402732133865356 seconds\n",
      "False\n",
      "AoLP time:  0.04197406768798828 s\n"
     ]
    },
    {
     "name": "stderr",
     "output_type": "stream",
     "text": [
      "\r",
      " 96%|██████████████████████████████████████████████████████████████████████████▌   | 215/225 [1:27:26<04:14, 25.45s/it]"
     ]
    },
    {
     "name": "stdout",
     "output_type": "stream",
     "text": [
      "Processing data for material : WATER\n",
      "image_data shape is :  (2048, 2448)\n",
      "im90 shape is :  (1024, 1224)\n",
      "Stokes time:  0.03297924995422363 s\n",
      "im_stokes0 shape is :  (1024, 1224)\n",
      "DoLP time:  0.03498053550720215 s\n",
      "im_DOLP shape is :  (1024, 1224)\n",
      "Time for DOLP2Theta conversion is :  23.415504932403564 seconds\n",
      "False\n",
      "AoLP time:  0.04097437858581543 s\n"
     ]
    },
    {
     "name": "stderr",
     "output_type": "stream",
     "text": [
      "\r",
      " 96%|██████████████████████████████████████████████████████████████████████████▉   | 216/225 [1:27:50<03:45, 25.03s/it]"
     ]
    },
    {
     "name": "stdout",
     "output_type": "stream",
     "text": [
      "Processing data for material : WATER\n",
      "image_data shape is :  (2048, 2448)\n",
      "im90 shape is :  (1024, 1224)\n",
      "Stokes time:  0.02498483657836914 s\n",
      "im_stokes0 shape is :  (1024, 1224)\n",
      "DoLP time:  0.03498053550720215 s\n",
      "im_DOLP shape is :  (1024, 1224)\n",
      "Time for DOLP2Theta conversion is :  22.34312129020691 seconds\n",
      "False\n",
      "AoLP time:  0.037978172302246094 s\n"
     ]
    },
    {
     "name": "stderr",
     "output_type": "stream",
     "text": [
      "\r",
      " 96%|███████████████████████████████████████████████████████████████████████████▏  | 217/225 [1:28:13<03:15, 24.42s/it]"
     ]
    },
    {
     "name": "stdout",
     "output_type": "stream",
     "text": [
      "Processing data for material : WATER\n",
      "image_data shape is :  (2048, 2448)\n",
      "im90 shape is :  (1024, 1224)\n",
      "Stokes time:  0.0299835205078125 s\n",
      "im_stokes0 shape is :  (1024, 1224)\n",
      "DoLP time:  0.03597855567932129 s\n",
      "im_DOLP shape is :  (1024, 1224)\n",
      "Time for DOLP2Theta conversion is :  22.623961210250854 seconds\n",
      "False\n",
      "AoLP time:  0.041975975036621094 s\n"
     ]
    },
    {
     "name": "stderr",
     "output_type": "stream",
     "text": [
      "\r",
      " 97%|███████████████████████████████████████████████████████████████████████████▌  | 218/225 [1:28:37<02:48, 24.08s/it]"
     ]
    },
    {
     "name": "stdout",
     "output_type": "stream",
     "text": [
      "Processing data for material : WATER\n",
      "image_data shape is :  (2048, 2448)\n",
      "im90 shape is :  (1024, 1224)\n",
      "Stokes time:  0.024985551834106445 s\n",
      "im_stokes0 shape is :  (1024, 1224)\n",
      "DoLP time:  0.03397965431213379 s\n",
      "im_DOLP shape is :  (1024, 1224)\n",
      "Time for DOLP2Theta conversion is :  22.230185985565186 seconds\n",
      "False\n",
      "AoLP time:  0.03997659683227539 s\n"
     ]
    },
    {
     "name": "stderr",
     "output_type": "stream",
     "text": [
      "\r",
      " 97%|███████████████████████████████████████████████████████████████████████████▉  | 219/225 [1:29:00<02:22, 23.71s/it]"
     ]
    },
    {
     "name": "stdout",
     "output_type": "stream",
     "text": [
      "Processing data for material : WATER\n",
      "image_data shape is :  (2048, 2448)\n",
      "im90 shape is :  (1024, 1224)\n",
      "Stokes time:  0.027983427047729492 s\n",
      "im_stokes0 shape is :  (1024, 1224)\n",
      "DoLP time:  0.03297996520996094 s\n",
      "im_DOLP shape is :  (1024, 1224)\n",
      "Time for DOLP2Theta conversion is :  21.37869381904602 seconds\n",
      "False\n",
      "AoLP time:  0.03897809982299805 s\n"
     ]
    },
    {
     "name": "stderr",
     "output_type": "stream",
     "text": [
      "\r",
      " 98%|████████████████████████████████████████████████████████████████████████████▎ | 220/225 [1:29:22<01:55, 23.20s/it]"
     ]
    },
    {
     "name": "stdout",
     "output_type": "stream",
     "text": [
      "Processing data for material : WATER\n",
      "image_data shape is :  (2048, 2448)\n",
      "im90 shape is :  (1024, 1224)\n",
      "Stokes time:  0.02498483657836914 s\n",
      "im_stokes0 shape is :  (1024, 1224)\n",
      "DoLP time:  0.031980037689208984 s\n",
      "im_DOLP shape is :  (1024, 1224)\n",
      "Time for DOLP2Theta conversion is :  21.252768516540527 seconds\n",
      "False\n",
      "AoLP time:  0.03997087478637695 s\n"
     ]
    },
    {
     "name": "stderr",
     "output_type": "stream",
     "text": [
      "\r",
      " 98%|████████████████████████████████████████████████████████████████████████████▌ | 221/225 [1:29:43<01:31, 22.81s/it]"
     ]
    },
    {
     "name": "stdout",
     "output_type": "stream",
     "text": [
      "Processing data for material : WATER\n",
      "image_data shape is :  (2048, 2448)\n",
      "im90 shape is :  (1024, 1224)\n",
      "Stokes time:  0.024984359741210938 s\n",
      "im_stokes0 shape is :  (1024, 1224)\n",
      "DoLP time:  0.03198099136352539 s\n",
      "im_DOLP shape is :  (1024, 1224)\n",
      "Time for DOLP2Theta conversion is :  21.44364023208618 seconds\n",
      "False\n",
      "AoLP time:  0.04097604751586914 s\n"
     ]
    },
    {
     "name": "stderr",
     "output_type": "stream",
     "text": [
      "\r",
      " 99%|████████████████████████████████████████████████████████████████████████████▉ | 222/225 [1:30:06<01:07, 22.60s/it]"
     ]
    },
    {
     "name": "stdout",
     "output_type": "stream",
     "text": [
      "Processing data for material : WATER\n",
      "image_data shape is :  (2048, 2448)\n",
      "im90 shape is :  (1024, 1224)\n",
      "Stokes time:  0.027984142303466797 s\n",
      "im_stokes0 shape is :  (1024, 1224)\n",
      "DoLP time:  0.03198122978210449 s\n",
      "im_DOLP shape is :  (1024, 1224)\n",
      "Time for DOLP2Theta conversion is :  22.07927441596985 seconds\n",
      "False\n",
      "AoLP time:  0.03997659683227539 s\n"
     ]
    },
    {
     "name": "stderr",
     "output_type": "stream",
     "text": [
      "\r",
      " 99%|█████████████████████████████████████████████████████████████████████████████▎| 223/225 [1:30:28<00:45, 22.64s/it]"
     ]
    },
    {
     "name": "stdout",
     "output_type": "stream",
     "text": [
      "Processing data for material : WATER\n",
      "image_data shape is :  (2048, 2448)\n",
      "im90 shape is :  (1024, 1224)\n",
      "Stokes time:  0.025985002517700195 s\n",
      "im_stokes0 shape is :  (1024, 1224)\n",
      "DoLP time:  0.038976430892944336 s\n",
      "im_DOLP shape is :  (1024, 1224)\n",
      "Time for DOLP2Theta conversion is :  21.533588409423828 seconds\n",
      "False\n",
      "AoLP time:  0.04297494888305664 s\n"
     ]
    },
    {
     "name": "stderr",
     "output_type": "stream",
     "text": [
      "\r",
      "100%|█████████████████████████████████████████████████████████████████████████████▋| 224/225 [1:30:51<00:22, 22.51s/it]"
     ]
    },
    {
     "name": "stdout",
     "output_type": "stream",
     "text": [
      "Processing data for material : WATER\n",
      "image_data shape is :  (2048, 2448)\n",
      "im90 shape is :  (1024, 1224)\n",
      "Stokes time:  0.026985883712768555 s\n",
      "im_stokes0 shape is :  (1024, 1224)\n",
      "DoLP time:  0.031981706619262695 s\n",
      "im_DOLP shape is :  (1024, 1224)\n",
      "Time for DOLP2Theta conversion is :  21.740468740463257 seconds\n",
      "False\n",
      "AoLP time:  0.03897857666015625 s\n"
     ]
    },
    {
     "name": "stderr",
     "output_type": "stream",
     "text": [
      "100%|██████████████████████████████████████████████████████████████████████████████| 225/225 [1:31:13<00:00, 22.48s/it]\n"
     ]
    },
    {
     "name": "stdout",
     "output_type": "stream",
     "text": [
      "time taken =  46.716997385025024\n"
     ]
    },
    {
     "name": "stderr",
     "output_type": "stream",
     "text": [
      "\r",
      "  0%|                                                                                          | 0/225 [00:00<?, ?it/s]"
     ]
    },
    {
     "name": "stdout",
     "output_type": "stream",
     "text": [
      "Processing data for material : WATER\n",
      "image_data shape is :  (2048, 2448)\n",
      "im90 shape is :  (1024, 1224)\n",
      "Stokes time:  0.028982162475585938 s\n",
      "im_stokes0 shape is :  (1024, 1224)\n",
      "DoLP time:  0.0399777889251709 s\n",
      "im_DOLP shape is :  (1024, 1224)\n",
      "Time for DOLP2Theta conversion is :  23.834261655807495 seconds\n",
      "False\n",
      "AoLP time:  0.0419769287109375 s\n"
     ]
    },
    {
     "name": "stderr",
     "output_type": "stream",
     "text": [
      "\r",
      "  0%|▎                                                                               | 1/225 [00:27<1:41:42, 27.24s/it]"
     ]
    },
    {
     "name": "stdout",
     "output_type": "stream",
     "text": [
      "Processing data for material : WATER\n",
      "image_data shape is :  (2048, 2448)\n",
      "im90 shape is :  (1024, 1224)\n",
      "Stokes time:  0.02698373794555664 s\n",
      "im_stokes0 shape is :  (1024, 1224)\n",
      "DoLP time:  0.03897714614868164 s\n",
      "im_DOLP shape is :  (1024, 1224)\n",
      "Time for DOLP2Theta conversion is :  22.494033813476562 seconds\n",
      "False\n",
      "AoLP time:  0.041976213455200195 s\n"
     ]
    },
    {
     "name": "stderr",
     "output_type": "stream",
     "text": [
      "\r",
      "  1%|▋                                                                               | 2/225 [00:50<1:37:15, 26.17s/it]"
     ]
    },
    {
     "name": "stdout",
     "output_type": "stream",
     "text": [
      "Processing data for material : WATER\n",
      "image_data shape is :  (2048, 2448)\n",
      "im90 shape is :  (1024, 1224)\n",
      "Stokes time:  0.025985002517700195 s\n",
      "im_stokes0 shape is :  (1024, 1224)\n",
      "DoLP time:  0.03797793388366699 s\n",
      "im_DOLP shape is :  (1024, 1224)\n",
      "Time for DOLP2Theta conversion is :  22.7728750705719 seconds\n",
      "False\n",
      "AoLP time:  0.05096840858459473 s\n"
     ]
    },
    {
     "name": "stderr",
     "output_type": "stream",
     "text": [
      "\r",
      "  1%|█                                                                               | 3/225 [01:14<1:33:52, 25.37s/it]"
     ]
    },
    {
     "name": "stdout",
     "output_type": "stream",
     "text": [
      "Processing data for material : WATER\n",
      "image_data shape is :  (2048, 2448)\n",
      "im90 shape is :  (1024, 1224)\n",
      "Stokes time:  0.026983261108398438 s\n",
      "im_stokes0 shape is :  (1024, 1224)\n",
      "DoLP time:  0.032981157302856445 s\n",
      "im_DOLP shape is :  (1024, 1224)\n",
      "Time for DOLP2Theta conversion is :  22.936780214309692 seconds\n",
      "False\n",
      "AoLP time:  0.042973995208740234 s\n"
     ]
    },
    {
     "name": "stderr",
     "output_type": "stream",
     "text": [
      "\r",
      "  2%|█▍                                                                              | 4/225 [01:38<1:31:30, 24.84s/it]"
     ]
    },
    {
     "name": "stdout",
     "output_type": "stream",
     "text": [
      "Processing data for material : WATER\n",
      "image_data shape is :  (2048, 2448)\n",
      "im90 shape is :  (1024, 1224)\n",
      "Stokes time:  0.024985313415527344 s\n",
      "im_stokes0 shape is :  (1024, 1224)\n",
      "DoLP time:  0.03497958183288574 s\n",
      "im_DOLP shape is :  (1024, 1224)\n",
      "Time for DOLP2Theta conversion is :  22.729899168014526 seconds\n",
      "False\n",
      "AoLP time:  0.040976762771606445 s\n"
     ]
    },
    {
     "name": "stderr",
     "output_type": "stream",
     "text": [
      "\r",
      "  2%|█▊                                                                              | 5/225 [02:01<1:29:32, 24.42s/it]"
     ]
    },
    {
     "name": "stdout",
     "output_type": "stream",
     "text": [
      "Processing data for material : WATER\n",
      "image_data shape is :  (2048, 2448)\n",
      "im90 shape is :  (1024, 1224)\n",
      "Stokes time:  0.025984764099121094 s\n",
      "im_stokes0 shape is :  (1024, 1224)\n",
      "DoLP time:  0.03397989273071289 s\n",
      "im_DOLP shape is :  (1024, 1224)\n",
      "Time for DOLP2Theta conversion is :  22.67595911026001 seconds\n",
      "False\n",
      "AoLP time:  0.043974876403808594 s\n"
     ]
    },
    {
     "name": "stderr",
     "output_type": "stream",
     "text": [
      "\r",
      "  3%|██▏                                                                             | 6/225 [02:24<1:27:59, 24.11s/it]"
     ]
    },
    {
     "name": "stdout",
     "output_type": "stream",
     "text": [
      "Processing data for material : WATER\n",
      "image_data shape is :  (2048, 2448)\n",
      "im90 shape is :  (1024, 1224)\n",
      "Stokes time:  0.024985551834106445 s\n",
      "im_stokes0 shape is :  (1024, 1224)\n",
      "DoLP time:  0.037978410720825195 s\n",
      "im_DOLP shape is :  (1024, 1224)\n",
      "Time for DOLP2Theta conversion is :  22.57698631286621 seconds\n",
      "False\n",
      "AoLP time:  0.04096794128417969 s\n"
     ]
    },
    {
     "name": "stderr",
     "output_type": "stream",
     "text": [
      "\r",
      "  3%|██▍                                                                             | 7/225 [02:48<1:26:36, 23.84s/it]"
     ]
    },
    {
     "name": "stdout",
     "output_type": "stream",
     "text": [
      "Processing data for material : WATER\n",
      "image_data shape is :  (2048, 2448)\n",
      "im90 shape is :  (1024, 1224)\n",
      "Stokes time:  0.026984214782714844 s\n",
      "im_stokes0 shape is :  (1024, 1224)\n",
      "DoLP time:  0.032980918884277344 s\n",
      "im_DOLP shape is :  (1024, 1224)\n",
      "Time for DOLP2Theta conversion is :  22.42008066177368 seconds\n",
      "False\n",
      "AoLP time:  0.041976213455200195 s\n"
     ]
    },
    {
     "name": "stderr",
     "output_type": "stream",
     "text": [
      "\r",
      "  4%|██▊                                                                             | 8/225 [03:11<1:25:18, 23.59s/it]"
     ]
    },
    {
     "name": "stdout",
     "output_type": "stream",
     "text": [
      "Processing data for material : WATER\n",
      "image_data shape is :  (2048, 2448)\n",
      "im90 shape is :  (1024, 1224)\n",
      "Stokes time:  0.024985790252685547 s\n",
      "im_stokes0 shape is :  (1024, 1224)\n",
      "DoLP time:  0.03697848320007324 s\n",
      "im_DOLP shape is :  (1024, 1224)\n",
      "Time for DOLP2Theta conversion is :  22.721903324127197 seconds\n",
      "False\n",
      "AoLP time:  0.044972896575927734 s\n"
     ]
    },
    {
     "name": "stderr",
     "output_type": "stream",
     "text": [
      "\r",
      "  4%|███▏                                                                            | 9/225 [03:34<1:24:43, 23.53s/it]"
     ]
    },
    {
     "name": "stdout",
     "output_type": "stream",
     "text": [
      "Processing data for material : WATER\n",
      "image_data shape is :  (2048, 2448)\n",
      "im90 shape is :  (1024, 1224)\n",
      "Stokes time:  0.030982255935668945 s\n",
      "im_stokes0 shape is :  (1024, 1224)\n",
      "DoLP time:  0.04297518730163574 s\n",
      "im_DOLP shape is :  (1024, 1224)\n",
      "Time for DOLP2Theta conversion is :  23.447484254837036 seconds\n",
      "False\n",
      "AoLP time:  0.042975425720214844 s\n"
     ]
    },
    {
     "name": "stderr",
     "output_type": "stream",
     "text": [
      "\r",
      "  4%|███▌                                                                           | 10/225 [03:58<1:24:57, 23.71s/it]"
     ]
    },
    {
     "name": "stdout",
     "output_type": "stream",
     "text": [
      "Processing data for material : WATER\n",
      "image_data shape is :  (2048, 2448)\n",
      "im90 shape is :  (1024, 1224)\n",
      "Stokes time:  0.028983354568481445 s\n",
      "im_stokes0 shape is :  (1024, 1224)\n",
      "DoLP time:  0.03797745704650879 s\n",
      "im_DOLP shape is :  (1024, 1224)\n",
      "Time for DOLP2Theta conversion is :  22.856825351715088 seconds\n",
      "False\n",
      "AoLP time:  0.040976762771606445 s\n"
     ]
    },
    {
     "name": "stderr",
     "output_type": "stream",
     "text": [
      "\r",
      "  5%|███▊                                                                           | 11/225 [04:22<1:24:22, 23.65s/it]"
     ]
    },
    {
     "name": "stdout",
     "output_type": "stream",
     "text": [
      "Processing data for material : WATER\n",
      "image_data shape is :  (2048, 2448)\n",
      "im90 shape is :  (1024, 1224)\n",
      "Stokes time:  0.02698683738708496 s\n",
      "im_stokes0 shape is :  (1024, 1224)\n",
      "DoLP time:  0.03298068046569824 s\n",
      "im_DOLP shape is :  (1024, 1224)\n",
      "Time for DOLP2Theta conversion is :  22.675929069519043 seconds\n",
      "False\n",
      "AoLP time:  0.04097723960876465 s\n"
     ]
    },
    {
     "name": "stderr",
     "output_type": "stream",
     "text": [
      "\r",
      "  5%|████▏                                                                          | 12/225 [04:45<1:23:38, 23.56s/it]"
     ]
    },
    {
     "name": "stdout",
     "output_type": "stream",
     "text": [
      "Processing data for material : WATER\n",
      "image_data shape is :  (2048, 2448)\n",
      "im90 shape is :  (1024, 1224)\n",
      "Stokes time:  0.02598428726196289 s\n",
      "im_stokes0 shape is :  (1024, 1224)\n",
      "DoLP time:  0.031980037689208984 s\n",
      "im_DOLP shape is :  (1024, 1224)\n",
      "Time for DOLP2Theta conversion is :  22.246176958084106 seconds\n",
      "False\n",
      "AoLP time:  0.04097557067871094 s\n"
     ]
    },
    {
     "name": "stderr",
     "output_type": "stream",
     "text": [
      "\r",
      "  6%|████▌                                                                          | 13/225 [05:08<1:22:31, 23.36s/it]"
     ]
    },
    {
     "name": "stdout",
     "output_type": "stream",
     "text": [
      "Processing data for material : WATER\n",
      "image_data shape is :  (2048, 2448)\n",
      "im90 shape is :  (1024, 1224)\n",
      "Stokes time:  0.026984453201293945 s\n",
      "im_stokes0 shape is :  (1024, 1224)\n",
      "DoLP time:  0.03897738456726074 s\n",
      "im_DOLP shape is :  (1024, 1224)\n",
      "Time for DOLP2Theta conversion is :  22.326130867004395 seconds\n",
      "False\n",
      "AoLP time:  0.04197502136230469 s\n"
     ]
    },
    {
     "name": "stderr",
     "output_type": "stream",
     "text": [
      "\r",
      "  6%|████▉                                                                          | 14/225 [05:31<1:21:46, 23.26s/it]"
     ]
    },
    {
     "name": "stdout",
     "output_type": "stream",
     "text": [
      "Processing data for material : WATER\n",
      "image_data shape is :  (2048, 2448)\n",
      "im90 shape is :  (1024, 1224)\n",
      "Stokes time:  0.0259859561920166 s\n",
      "im_stokes0 shape is :  (1024, 1224)\n",
      "DoLP time:  0.03498029708862305 s\n",
      "im_DOLP shape is :  (1024, 1224)\n",
      "Time for DOLP2Theta conversion is :  22.541006565093994 seconds\n",
      "False\n",
      "AoLP time:  0.044974327087402344 s\n"
     ]
    },
    {
     "name": "stderr",
     "output_type": "stream",
     "text": [
      "\r",
      "  7%|█████▎                                                                         | 15/225 [05:54<1:21:19, 23.23s/it]"
     ]
    },
    {
     "name": "stdout",
     "output_type": "stream",
     "text": [
      "Processing data for material : WATER\n",
      "image_data shape is :  (2048, 2448)\n",
      "im90 shape is :  (1024, 1224)\n",
      "Stokes time:  0.026984453201293945 s\n",
      "im_stokes0 shape is :  (1024, 1224)\n",
      "DoLP time:  0.034979820251464844 s\n",
      "im_DOLP shape is :  (1024, 1224)\n",
      "Time for DOLP2Theta conversion is :  22.360113382339478 seconds\n",
      "False\n",
      "AoLP time:  0.04497385025024414 s\n"
     ]
    },
    {
     "name": "stderr",
     "output_type": "stream",
     "text": [
      "\r",
      "  7%|█████▌                                                                         | 16/225 [06:17<1:20:42, 23.17s/it]"
     ]
    },
    {
     "name": "stdout",
     "output_type": "stream",
     "text": [
      "Processing data for material : WATER\n",
      "image_data shape is :  (2048, 2448)\n",
      "im90 shape is :  (1024, 1224)\n",
      "Stokes time:  0.025984764099121094 s\n",
      "im_stokes0 shape is :  (1024, 1224)\n",
      "DoLP time:  0.03597855567932129 s\n",
      "im_DOLP shape is :  (1024, 1224)\n",
      "Time for DOLP2Theta conversion is :  23.14366102218628 seconds\n",
      "False\n",
      "AoLP time:  0.041975975036621094 s\n"
     ]
    },
    {
     "name": "stderr",
     "output_type": "stream",
     "text": [
      "\r",
      "  8%|█████▉                                                                         | 17/225 [06:41<1:21:00, 23.37s/it]"
     ]
    },
    {
     "name": "stdout",
     "output_type": "stream",
     "text": [
      "Processing data for material : WATER\n",
      "image_data shape is :  (2048, 2448)\n",
      "im90 shape is :  (1024, 1224)\n",
      "Stokes time:  0.027983903884887695 s\n",
      "im_stokes0 shape is :  (1024, 1224)\n",
      "DoLP time:  0.04197573661804199 s\n",
      "im_DOLP shape is :  (1024, 1224)\n",
      "Time for DOLP2Theta conversion is :  23.23061180114746 seconds\n",
      "False\n",
      "AoLP time:  0.04097604751586914 s\n"
     ]
    },
    {
     "name": "stderr",
     "output_type": "stream",
     "text": [
      "\r",
      "  8%|██████▎                                                                        | 18/225 [07:05<1:21:09, 23.52s/it]"
     ]
    },
    {
     "name": "stdout",
     "output_type": "stream",
     "text": [
      "Processing data for material : WATER\n",
      "image_data shape is :  (2048, 2448)\n",
      "im90 shape is :  (1024, 1224)\n",
      "Stokes time:  0.02498483657836914 s\n",
      "im_stokes0 shape is :  (1024, 1224)\n",
      "DoLP time:  0.036977529525756836 s\n",
      "im_DOLP shape is :  (1024, 1224)\n",
      "Time for DOLP2Theta conversion is :  22.77287530899048 seconds\n",
      "False\n",
      "AoLP time:  0.043975114822387695 s\n"
     ]
    },
    {
     "name": "stderr",
     "output_type": "stream",
     "text": [
      "\r",
      "  8%|██████▋                                                                        | 19/225 [07:28<1:20:39, 23.49s/it]"
     ]
    },
    {
     "name": "stdout",
     "output_type": "stream",
     "text": [
      "Processing data for material : WATER\n",
      "image_data shape is :  (2048, 2448)\n",
      "im90 shape is :  (1024, 1224)\n",
      "Stokes time:  0.026984453201293945 s\n",
      "im_stokes0 shape is :  (1024, 1224)\n",
      "DoLP time:  0.03797769546508789 s\n",
      "im_DOLP shape is :  (1024, 1224)\n",
      "Time for DOLP2Theta conversion is :  23.07071018218994 seconds\n",
      "False\n",
      "AoLP time:  0.045974016189575195 s\n"
     ]
    },
    {
     "name": "stderr",
     "output_type": "stream",
     "text": [
      "\r",
      "  9%|███████                                                                        | 20/225 [07:52<1:20:31, 23.57s/it]"
     ]
    },
    {
     "name": "stdout",
     "output_type": "stream",
     "text": [
      "Processing data for material : WATER\n",
      "image_data shape is :  (2048, 2448)\n",
      "im90 shape is :  (1024, 1224)\n",
      "Stokes time:  0.025984525680541992 s\n",
      "im_stokes0 shape is :  (1024, 1224)\n",
      "DoLP time:  0.03797793388366699 s\n",
      "im_DOLP shape is :  (1024, 1224)\n",
      "Time for DOLP2Theta conversion is :  22.756882190704346 seconds\n",
      "False\n",
      "AoLP time:  0.03997611999511719 s\n"
     ]
    },
    {
     "name": "stderr",
     "output_type": "stream",
     "text": [
      "\r",
      "  9%|███████▎                                                                       | 21/225 [08:15<1:19:59, 23.53s/it]"
     ]
    },
    {
     "name": "stdout",
     "output_type": "stream",
     "text": [
      "Processing data for material : WATER\n",
      "image_data shape is :  (2048, 2448)\n",
      "im90 shape is :  (1024, 1224)\n",
      "Stokes time:  0.02798318862915039 s\n",
      "im_stokes0 shape is :  (1024, 1224)\n",
      "DoLP time:  0.03298044204711914 s\n",
      "im_DOLP shape is :  (1024, 1224)\n",
      "Time for DOLP2Theta conversion is :  23.056710958480835 seconds\n",
      "False\n",
      "AoLP time:  0.04597306251525879 s\n"
     ]
    },
    {
     "name": "stderr",
     "output_type": "stream",
     "text": [
      "\r",
      " 10%|███████▋                                                                       | 22/225 [08:39<1:19:49, 23.59s/it]"
     ]
    },
    {
     "name": "stdout",
     "output_type": "stream",
     "text": [
      "Processing data for material : WATER\n",
      "image_data shape is :  (2048, 2448)\n",
      "im90 shape is :  (1024, 1224)\n",
      "Stokes time:  0.02698373794555664 s\n",
      "im_stokes0 shape is :  (1024, 1224)\n",
      "DoLP time:  0.03897809982299805 s\n",
      "im_DOLP shape is :  (1024, 1224)\n",
      "Time for DOLP2Theta conversion is :  22.967761516571045 seconds\n",
      "False\n",
      "AoLP time:  0.04597353935241699 s\n"
     ]
    },
    {
     "name": "stderr",
     "output_type": "stream",
     "text": [
      "\r",
      " 10%|████████                                                                       | 23/225 [09:03<1:19:30, 23.62s/it]"
     ]
    },
    {
     "name": "stdout",
     "output_type": "stream",
     "text": [
      "Processing data for material : WATER\n",
      "image_data shape is :  (2048, 2448)\n",
      "im90 shape is :  (1024, 1224)\n",
      "Stokes time:  0.026983976364135742 s\n",
      "im_stokes0 shape is :  (1024, 1224)\n",
      "DoLP time:  0.03298068046569824 s\n",
      "im_DOLP shape is :  (1024, 1224)\n",
      "Time for DOLP2Theta conversion is :  22.75988245010376 seconds\n",
      "False\n",
      "AoLP time:  0.055968284606933594 s\n"
     ]
    },
    {
     "name": "stderr",
     "output_type": "stream",
     "text": [
      "\r",
      " 11%|████████▍                                                                      | 24/225 [09:26<1:18:57, 23.57s/it]"
     ]
    },
    {
     "name": "stdout",
     "output_type": "stream",
     "text": [
      "Processing data for material : WATER\n",
      "image_data shape is :  (2048, 2448)\n",
      "im90 shape is :  (1024, 1224)\n",
      "Stokes time:  0.024986743927001953 s\n",
      "im_stokes0 shape is :  (1024, 1224)\n",
      "DoLP time:  0.036977529525756836 s\n",
      "im_DOLP shape is :  (1024, 1224)\n",
      "Time for DOLP2Theta conversion is :  23.26659107208252 seconds\n",
      "False\n",
      "AoLP time:  0.04397392272949219 s\n"
     ]
    },
    {
     "name": "stderr",
     "output_type": "stream",
     "text": [
      "\r",
      " 11%|████████▊                                                                      | 25/225 [09:50<1:18:57, 23.69s/it]"
     ]
    },
    {
     "name": "stdout",
     "output_type": "stream",
     "text": [
      "Processing data for material : WATER\n",
      "image_data shape is :  (2048, 2448)\n",
      "im90 shape is :  (1024, 1224)\n",
      "Stokes time:  0.028983354568481445 s\n",
      "im_stokes0 shape is :  (1024, 1224)\n",
      "DoLP time:  0.037978410720825195 s\n",
      "im_DOLP shape is :  (1024, 1224)\n",
      "Time for DOLP2Theta conversion is :  23.242602586746216 seconds\n",
      "False\n",
      "AoLP time:  0.040976762771606445 s\n"
     ]
    },
    {
     "name": "stderr",
     "output_type": "stream",
     "text": [
      "\r",
      " 12%|█████████▏                                                                     | 26/225 [10:14<1:18:46, 23.75s/it]"
     ]
    },
    {
     "name": "stdout",
     "output_type": "stream",
     "text": [
      "Processing data for material : WATER\n",
      "image_data shape is :  (2048, 2448)\n",
      "im90 shape is :  (1024, 1224)\n",
      "Stokes time:  0.02798318862915039 s\n",
      "im_stokes0 shape is :  (1024, 1224)\n",
      "DoLP time:  0.036978721618652344 s\n",
      "im_DOLP shape is :  (1024, 1224)\n",
      "Time for DOLP2Theta conversion is :  23.43749189376831 seconds\n",
      "False\n",
      "AoLP time:  0.04297447204589844 s\n"
     ]
    },
    {
     "name": "stderr",
     "output_type": "stream",
     "text": [
      "\r",
      " 12%|█████████▍                                                                     | 27/225 [10:38<1:18:49, 23.88s/it]"
     ]
    },
    {
     "name": "stdout",
     "output_type": "stream",
     "text": [
      "Processing data for material : WATER\n",
      "image_data shape is :  (2048, 2448)\n",
      "im90 shape is :  (1024, 1224)\n",
      "Stokes time:  0.0279843807220459 s\n",
      "im_stokes0 shape is :  (1024, 1224)\n",
      "DoLP time:  0.04297494888305664 s\n",
      "im_DOLP shape is :  (1024, 1224)\n",
      "Time for DOLP2Theta conversion is :  25.586252689361572 seconds\n",
      "False\n",
      "AoLP time:  0.04197573661804199 s\n"
     ]
    },
    {
     "name": "stderr",
     "output_type": "stream",
     "text": [
      "\r",
      " 12%|█████████▊                                                                     | 28/225 [11:05<1:20:48, 24.61s/it]"
     ]
    },
    {
     "name": "stdout",
     "output_type": "stream",
     "text": [
      "Processing data for material : WATER\n",
      "image_data shape is :  (2048, 2448)\n",
      "im90 shape is :  (1024, 1224)\n",
      "Stokes time:  0.026984214782714844 s\n",
      "im_stokes0 shape is :  (1024, 1224)\n",
      "DoLP time:  0.03697919845581055 s\n",
      "im_DOLP shape is :  (1024, 1224)\n",
      "Time for DOLP2Theta conversion is :  24.389941692352295 seconds\n",
      "False\n",
      "AoLP time:  0.0519716739654541 s\n"
     ]
    },
    {
     "name": "stderr",
     "output_type": "stream",
     "text": [
      "\r",
      " 13%|██████████▏                                                                    | 29/225 [11:30<1:20:53, 24.76s/it]"
     ]
    },
    {
     "name": "stdout",
     "output_type": "stream",
     "text": [
      "Processing data for material : WATER\n",
      "image_data shape is :  (2048, 2448)\n",
      "im90 shape is :  (1024, 1224)\n",
      "Stokes time:  0.02598428726196289 s\n",
      "im_stokes0 shape is :  (1024, 1224)\n",
      "DoLP time:  0.037978172302246094 s\n",
      "im_DOLP shape is :  (1024, 1224)\n",
      "Time for DOLP2Theta conversion is :  24.799704790115356 seconds\n",
      "False\n",
      "AoLP time:  0.04297518730163574 s\n"
     ]
    },
    {
     "name": "stderr",
     "output_type": "stream",
     "text": [
      "\r",
      " 13%|██████████▌                                                                    | 30/225 [11:55<1:21:12, 24.99s/it]"
     ]
    },
    {
     "name": "stdout",
     "output_type": "stream",
     "text": [
      "Processing data for material : WATER\n",
      "image_data shape is :  (2048, 2448)\n",
      "im90 shape is :  (1024, 1224)\n",
      "Stokes time:  0.0259857177734375 s\n",
      "im_stokes0 shape is :  (1024, 1224)\n",
      "DoLP time:  0.03897714614868164 s\n",
      "im_DOLP shape is :  (1024, 1224)\n",
      "Time for DOLP2Theta conversion is :  23.529436588287354 seconds\n",
      "False\n",
      "AoLP time:  0.0459744930267334 s\n"
     ]
    },
    {
     "name": "stderr",
     "output_type": "stream",
     "text": [
      "\r",
      " 14%|██████████▉                                                                    | 31/225 [12:19<1:20:03, 24.76s/it]"
     ]
    },
    {
     "name": "stdout",
     "output_type": "stream",
     "text": [
      "Processing data for material : WATER\n",
      "image_data shape is :  (2048, 2448)\n",
      "im90 shape is :  (1024, 1224)\n",
      "Stokes time:  0.024985313415527344 s\n",
      "im_stokes0 shape is :  (1024, 1224)\n",
      "DoLP time:  0.03398013114929199 s\n",
      "im_DOLP shape is :  (1024, 1224)\n",
      "Time for DOLP2Theta conversion is :  22.355115175247192 seconds\n",
      "False\n",
      "AoLP time:  0.04097700119018555 s\n"
     ]
    },
    {
     "name": "stderr",
     "output_type": "stream",
     "text": [
      "\r",
      " 14%|███████████▏                                                                   | 32/225 [12:42<1:17:57, 24.24s/it]"
     ]
    },
    {
     "name": "stdout",
     "output_type": "stream",
     "text": [
      "Processing data for material : WATER\n",
      "image_data shape is :  (2048, 2448)\n",
      "im90 shape is :  (1024, 1224)\n",
      "Stokes time:  0.025985002517700195 s\n",
      "im_stokes0 shape is :  (1024, 1224)\n",
      "DoLP time:  0.03797793388366699 s\n",
      "im_DOLP shape is :  (1024, 1224)\n",
      "Time for DOLP2Theta conversion is :  22.313138484954834 seconds\n",
      "False\n",
      "AoLP time:  0.04497337341308594 s\n"
     ]
    },
    {
     "name": "stderr",
     "output_type": "stream",
     "text": [
      "\r",
      " 15%|███████████▌                                                                   | 33/225 [13:05<1:16:21, 23.86s/it]"
     ]
    },
    {
     "name": "stdout",
     "output_type": "stream",
     "text": [
      "Processing data for material : WATER\n",
      "image_data shape is :  (2048, 2448)\n",
      "im90 shape is :  (1024, 1224)\n",
      "Stokes time:  0.02698493003845215 s\n",
      "im_stokes0 shape is :  (1024, 1224)\n",
      "DoLP time:  0.03397965431213379 s\n",
      "im_DOLP shape is :  (1024, 1224)\n",
      "Time for DOLP2Theta conversion is :  21.773449897766113 seconds\n",
      "False\n",
      "AoLP time:  0.039977073669433594 s\n"
     ]
    },
    {
     "name": "stderr",
     "output_type": "stream",
     "text": [
      "\r",
      " 15%|███████████▉                                                                   | 34/225 [13:28<1:14:36, 23.44s/it]"
     ]
    },
    {
     "name": "stdout",
     "output_type": "stream",
     "text": [
      "Processing data for material : WATER\n",
      "image_data shape is :  (2048, 2448)\n",
      "im90 shape is :  (1024, 1224)\n",
      "Stokes time:  0.025984764099121094 s\n",
      "im_stokes0 shape is :  (1024, 1224)\n",
      "DoLP time:  0.03198099136352539 s\n",
      "im_DOLP shape is :  (1024, 1224)\n",
      "Time for DOLP2Theta conversion is :  22.010327100753784 seconds\n",
      "False\n",
      "AoLP time:  0.0419764518737793 s\n"
     ]
    },
    {
     "name": "stderr",
     "output_type": "stream",
     "text": [
      "\r",
      " 16%|████████████▎                                                                  | 35/225 [13:51<1:13:28, 23.20s/it]"
     ]
    },
    {
     "name": "stdout",
     "output_type": "stream",
     "text": [
      "Processing data for material : WATER\n",
      "image_data shape is :  (2048, 2448)\n",
      "im90 shape is :  (1024, 1224)\n",
      "Stokes time:  0.024985790252685547 s\n",
      "im_stokes0 shape is :  (1024, 1224)\n",
      "DoLP time:  0.035979270935058594 s\n",
      "im_DOLP shape is :  (1024, 1224)\n",
      "Time for DOLP2Theta conversion is :  22.697917222976685 seconds\n",
      "False\n",
      "AoLP time:  0.0399777889251709 s\n"
     ]
    },
    {
     "name": "stderr",
     "output_type": "stream",
     "text": [
      "\r",
      " 16%|████████████▋                                                                  | 36/225 [14:14<1:13:13, 23.25s/it]"
     ]
    },
    {
     "name": "stdout",
     "output_type": "stream",
     "text": [
      "Processing data for material : WATER\n",
      "image_data shape is :  (2048, 2448)\n",
      "im90 shape is :  (1024, 1224)\n",
      "Stokes time:  0.022986650466918945 s\n",
      "im_stokes0 shape is :  (1024, 1224)\n",
      "DoLP time:  0.03198075294494629 s\n",
      "im_DOLP shape is :  (1024, 1224)\n",
      "Time for DOLP2Theta conversion is :  21.66151475906372 seconds\n",
      "False\n",
      "AoLP time:  0.04097628593444824 s\n"
     ]
    },
    {
     "name": "stderr",
     "output_type": "stream",
     "text": [
      "\r",
      " 16%|████████████▉                                                                  | 37/225 [14:36<1:11:58, 22.97s/it]"
     ]
    },
    {
     "name": "stdout",
     "output_type": "stream",
     "text": [
      "Processing data for material : WATER\n",
      "image_data shape is :  (2048, 2448)\n",
      "im90 shape is :  (1024, 1224)\n",
      "Stokes time:  0.02698373794555664 s\n",
      "im_stokes0 shape is :  (1024, 1224)\n",
      "DoLP time:  0.03797793388366699 s\n",
      "im_DOLP shape is :  (1024, 1224)\n",
      "Time for DOLP2Theta conversion is :  22.817847967147827 seconds\n",
      "False\n",
      "AoLP time:  0.038977861404418945 s\n"
     ]
    },
    {
     "name": "stderr",
     "output_type": "stream",
     "text": [
      "\r",
      " 17%|█████████████▎                                                                 | 38/225 [15:00<1:12:01, 23.11s/it]"
     ]
    },
    {
     "name": "stdout",
     "output_type": "stream",
     "text": [
      "Processing data for material : WATER\n",
      "image_data shape is :  (2048, 2448)\n",
      "im90 shape is :  (1024, 1224)\n",
      "Stokes time:  0.026983976364135742 s\n",
      "im_stokes0 shape is :  (1024, 1224)\n",
      "DoLP time:  0.033980607986450195 s\n",
      "im_DOLP shape is :  (1024, 1224)\n",
      "Time for DOLP2Theta conversion is :  21.848407983779907 seconds\n",
      "False\n",
      "AoLP time:  0.04297232627868652 s\n"
     ]
    },
    {
     "name": "stderr",
     "output_type": "stream",
     "text": [
      "\r",
      " 17%|█████████████▋                                                                 | 39/225 [15:22<1:11:04, 22.93s/it]"
     ]
    },
    {
     "name": "stdout",
     "output_type": "stream",
     "text": [
      "Processing data for material : WATER\n",
      "image_data shape is :  (2048, 2448)\n",
      "im90 shape is :  (1024, 1224)\n",
      "Stokes time:  0.026984691619873047 s\n",
      "im_stokes0 shape is :  (1024, 1224)\n",
      "DoLP time:  0.0359797477722168 s\n",
      "im_DOLP shape is :  (1024, 1224)\n",
      "Time for DOLP2Theta conversion is :  22.628957509994507 seconds\n",
      "False\n",
      "AoLP time:  0.052968740463256836 s\n"
     ]
    },
    {
     "name": "stderr",
     "output_type": "stream",
     "text": [
      "\r",
      " 18%|██████████████                                                                 | 40/225 [15:45<1:11:01, 23.03s/it]"
     ]
    },
    {
     "name": "stdout",
     "output_type": "stream",
     "text": [
      "Processing data for material : WATER\n",
      "image_data shape is :  (2048, 2448)\n",
      "im90 shape is :  (1024, 1224)\n",
      "Stokes time:  0.026984214782714844 s\n",
      "im_stokes0 shape is :  (1024, 1224)\n",
      "DoLP time:  0.03597903251647949 s\n",
      "im_DOLP shape is :  (1024, 1224)\n",
      "Time for DOLP2Theta conversion is :  22.651957035064697 seconds\n",
      "False\n",
      "AoLP time:  0.040976524353027344 s\n"
     ]
    },
    {
     "name": "stderr",
     "output_type": "stream",
     "text": [
      "\r",
      " 18%|██████████████▍                                                                | 41/225 [16:09<1:10:54, 23.12s/it]"
     ]
    },
    {
     "name": "stdout",
     "output_type": "stream",
     "text": [
      "Processing data for material : WATER\n",
      "image_data shape is :  (2048, 2448)\n",
      "im90 shape is :  (1024, 1224)\n",
      "Stokes time:  0.02798318862915039 s\n",
      "im_stokes0 shape is :  (1024, 1224)\n",
      "DoLP time:  0.03398013114929199 s\n",
      "im_DOLP shape is :  (1024, 1224)\n",
      "Time for DOLP2Theta conversion is :  22.35713267326355 seconds\n",
      "False\n",
      "AoLP time:  0.049970149993896484 s\n"
     ]
    },
    {
     "name": "stderr",
     "output_type": "stream",
     "text": [
      "\r",
      " 19%|██████████████▋                                                                | 42/225 [16:32<1:10:26, 23.10s/it]"
     ]
    },
    {
     "name": "stdout",
     "output_type": "stream",
     "text": [
      "Processing data for material : WATER\n",
      "image_data shape is :  (2048, 2448)\n",
      "im90 shape is :  (1024, 1224)\n",
      "Stokes time:  0.024985551834106445 s\n",
      "im_stokes0 shape is :  (1024, 1224)\n",
      "DoLP time:  0.03297996520996094 s\n",
      "im_DOLP shape is :  (1024, 1224)\n",
      "Time for DOLP2Theta conversion is :  22.630955457687378 seconds\n",
      "False\n",
      "AoLP time:  0.03997659683227539 s\n"
     ]
    },
    {
     "name": "stderr",
     "output_type": "stream",
     "text": [
      "\r",
      " 19%|███████████████                                                                | 43/225 [16:55<1:10:13, 23.15s/it]"
     ]
    },
    {
     "name": "stdout",
     "output_type": "stream",
     "text": [
      "Processing data for material : WATER\n",
      "image_data shape is :  (2048, 2448)\n",
      "im90 shape is :  (1024, 1224)\n",
      "Stokes time:  0.025984764099121094 s\n",
      "im_stokes0 shape is :  (1024, 1224)\n",
      "DoLP time:  0.034979820251464844 s\n",
      "im_DOLP shape is :  (1024, 1224)\n",
      "Time for DOLP2Theta conversion is :  22.280158281326294 seconds\n",
      "False\n",
      "AoLP time:  0.04097771644592285 s\n"
     ]
    },
    {
     "name": "stderr",
     "output_type": "stream",
     "text": [
      "\r",
      " 20%|███████████████▍                                                               | 44/225 [17:18<1:09:39, 23.09s/it]"
     ]
    },
    {
     "name": "stdout",
     "output_type": "stream",
     "text": [
      "Processing data for material : WATER\n",
      "image_data shape is :  (2048, 2448)\n",
      "im90 shape is :  (1024, 1224)\n",
      "Stokes time:  0.025984525680541992 s\n",
      "im_stokes0 shape is :  (1024, 1224)\n",
      "DoLP time:  0.032981157302856445 s\n",
      "im_DOLP shape is :  (1024, 1224)\n",
      "Time for DOLP2Theta conversion is :  21.905375957489014 seconds\n",
      "False\n",
      "AoLP time:  0.04396772384643555 s\n"
     ]
    },
    {
     "name": "stderr",
     "output_type": "stream",
     "text": [
      "\r",
      " 20%|███████████████▊                                                               | 45/225 [17:41<1:08:48, 22.94s/it]"
     ]
    },
    {
     "name": "stdout",
     "output_type": "stream",
     "text": [
      "Processing data for material : WATER\n",
      "image_data shape is :  (2048, 2448)\n",
      "im90 shape is :  (1024, 1224)\n",
      "Stokes time:  0.025984525680541992 s\n",
      "im_stokes0 shape is :  (1024, 1224)\n",
      "DoLP time:  0.03298139572143555 s\n",
      "im_DOLP shape is :  (1024, 1224)\n",
      "Time for DOLP2Theta conversion is :  21.58555817604065 seconds\n",
      "False\n",
      "AoLP time:  0.041974544525146484 s\n"
     ]
    },
    {
     "name": "stderr",
     "output_type": "stream",
     "text": [
      "\r",
      " 20%|████████████████▏                                                              | 46/225 [18:03<1:07:49, 22.74s/it]"
     ]
    },
    {
     "name": "stdout",
     "output_type": "stream",
     "text": [
      "Processing data for material : WATER\n",
      "image_data shape is :  (2048, 2448)\n",
      "im90 shape is :  (1024, 1224)\n",
      "Stokes time:  0.024985790252685547 s\n",
      "im_stokes0 shape is :  (1024, 1224)\n",
      "DoLP time:  0.034979820251464844 s\n",
      "im_DOLP shape is :  (1024, 1224)\n",
      "Time for DOLP2Theta conversion is :  22.04129433631897 seconds\n",
      "False\n",
      "AoLP time:  0.03997540473937988 s\n"
     ]
    },
    {
     "name": "stderr",
     "output_type": "stream",
     "text": [
      "\r",
      " 21%|████████████████▌                                                              | 47/225 [18:26<1:07:26, 22.73s/it]"
     ]
    },
    {
     "name": "stdout",
     "output_type": "stream",
     "text": [
      "Processing data for material : WATER\n",
      "image_data shape is :  (2048, 2448)\n",
      "im90 shape is :  (1024, 1224)\n",
      "Stokes time:  0.02598428726196289 s\n",
      "im_stokes0 shape is :  (1024, 1224)\n",
      "DoLP time:  0.030982255935668945 s\n",
      "im_DOLP shape is :  (1024, 1224)\n",
      "Time for DOLP2Theta conversion is :  22.03130054473877 seconds\n",
      "False\n",
      "AoLP time:  0.04097700119018555 s\n"
     ]
    },
    {
     "name": "stderr",
     "output_type": "stream",
     "text": [
      "\r",
      " 21%|████████████████▊                                                              | 48/225 [18:48<1:07:04, 22.74s/it]"
     ]
    },
    {
     "name": "stdout",
     "output_type": "stream",
     "text": [
      "Processing data for material : WATER\n",
      "image_data shape is :  (2048, 2448)\n",
      "im90 shape is :  (1024, 1224)\n",
      "Stokes time:  0.026984214782714844 s\n",
      "im_stokes0 shape is :  (1024, 1224)\n",
      "DoLP time:  0.03198075294494629 s\n",
      "im_DOLP shape is :  (1024, 1224)\n",
      "Time for DOLP2Theta conversion is :  22.930803537368774 seconds\n",
      "False\n",
      "AoLP time:  0.043973445892333984 s\n"
     ]
    },
    {
     "name": "stderr",
     "output_type": "stream",
     "text": [
      "\r",
      " 22%|█████████████████▏                                                             | 49/225 [19:12<1:07:30, 23.01s/it]"
     ]
    },
    {
     "name": "stdout",
     "output_type": "stream",
     "text": [
      "Processing data for material : WATER\n",
      "image_data shape is :  (2048, 2448)\n",
      "im90 shape is :  (1024, 1224)\n",
      "Stokes time:  0.026984691619873047 s\n",
      "im_stokes0 shape is :  (1024, 1224)\n",
      "DoLP time:  0.0379786491394043 s\n",
      "im_DOLP shape is :  (1024, 1224)\n",
      "Time for DOLP2Theta conversion is :  21.99232316017151 seconds\n",
      "False\n",
      "AoLP time:  0.03997659683227539 s\n"
     ]
    },
    {
     "name": "stderr",
     "output_type": "stream",
     "text": [
      "\r",
      " 22%|█████████████████▌                                                             | 50/225 [19:35<1:06:46, 22.89s/it]"
     ]
    },
    {
     "name": "stdout",
     "output_type": "stream",
     "text": [
      "Processing data for material : WATER\n",
      "image_data shape is :  (2048, 2448)\n",
      "im90 shape is :  (1024, 1224)\n",
      "Stokes time:  0.02398848533630371 s\n",
      "im_stokes0 shape is :  (1024, 1224)\n",
      "DoLP time:  0.03597903251647949 s\n",
      "im_DOLP shape is :  (1024, 1224)\n",
      "Time for DOLP2Theta conversion is :  22.38909387588501 seconds\n",
      "False\n",
      "AoLP time:  0.044974565505981445 s\n"
     ]
    },
    {
     "name": "stderr",
     "output_type": "stream",
     "text": [
      "\r",
      " 23%|█████████████████▉                                                             | 51/225 [19:58<1:06:31, 22.94s/it]"
     ]
    },
    {
     "name": "stdout",
     "output_type": "stream",
     "text": [
      "Processing data for material : WATER\n",
      "image_data shape is :  (2048, 2448)\n",
      "im90 shape is :  (1024, 1224)\n",
      "Stokes time:  0.023987293243408203 s\n",
      "im_stokes0 shape is :  (1024, 1224)\n",
      "DoLP time:  0.03298020362854004 s\n",
      "im_DOLP shape is :  (1024, 1224)\n",
      "Time for DOLP2Theta conversion is :  22.090267419815063 seconds\n",
      "False\n",
      "AoLP time:  0.043973445892333984 s\n"
     ]
    },
    {
     "name": "stderr",
     "output_type": "stream",
     "text": [
      "\r",
      " 23%|██████████████████▎                                                            | 52/225 [20:20<1:05:57, 22.87s/it]"
     ]
    },
    {
     "name": "stdout",
     "output_type": "stream",
     "text": [
      "Processing data for material : WATER\n",
      "image_data shape is :  (2048, 2448)\n",
      "im90 shape is :  (1024, 1224)\n",
      "Stokes time:  0.027983665466308594 s\n",
      "im_stokes0 shape is :  (1024, 1224)\n",
      "DoLP time:  0.03797793388366699 s\n",
      "im_DOLP shape is :  (1024, 1224)\n",
      "Time for DOLP2Theta conversion is :  22.15323281288147 seconds\n",
      "False\n",
      "AoLP time:  0.044974565505981445 s\n"
     ]
    },
    {
     "name": "stderr",
     "output_type": "stream",
     "text": [
      "\r",
      " 24%|██████████████████▌                                                            | 53/225 [20:43<1:05:31, 22.86s/it]"
     ]
    },
    {
     "name": "stdout",
     "output_type": "stream",
     "text": [
      "Processing data for material : WATER\n",
      "image_data shape is :  (2048, 2448)\n",
      "im90 shape is :  (1024, 1224)\n",
      "Stokes time:  0.025983810424804688 s\n",
      "im_stokes0 shape is :  (1024, 1224)\n",
      "DoLP time:  0.032981157302856445 s\n",
      "im_DOLP shape is :  (1024, 1224)\n",
      "Time for DOLP2Theta conversion is :  22.97375750541687 seconds\n",
      "False\n",
      "AoLP time:  0.041976213455200195 s\n"
     ]
    },
    {
     "name": "stderr",
     "output_type": "stream",
     "text": [
      "\r",
      " 24%|██████████████████▉                                                            | 54/225 [21:07<1:05:53, 23.12s/it]"
     ]
    },
    {
     "name": "stdout",
     "output_type": "stream",
     "text": [
      "Processing data for material : WATER\n",
      "image_data shape is :  (2048, 2448)\n",
      "im90 shape is :  (1024, 1224)\n",
      "Stokes time:  0.025985240936279297 s\n",
      "im_stokes0 shape is :  (1024, 1224)\n",
      "DoLP time:  0.032980918884277344 s\n",
      "im_DOLP shape is :  (1024, 1224)\n",
      "Time for DOLP2Theta conversion is :  23.02472996711731 seconds\n",
      "False\n",
      "AoLP time:  0.05396842956542969 s\n"
     ]
    },
    {
     "name": "stderr",
     "output_type": "stream",
     "text": [
      "\r",
      " 24%|███████████████████▎                                                           | 55/225 [21:31<1:05:59, 23.29s/it]"
     ]
    },
    {
     "name": "stdout",
     "output_type": "stream",
     "text": [
      "Processing data for material : WATER\n",
      "image_data shape is :  (2048, 2448)\n",
      "im90 shape is :  (1024, 1224)\n",
      "Stokes time:  0.026984214782714844 s\n",
      "im_stokes0 shape is :  (1024, 1224)\n",
      "DoLP time:  0.03597903251647949 s\n",
      "im_DOLP shape is :  (1024, 1224)\n",
      "Time for DOLP2Theta conversion is :  22.49203586578369 seconds\n",
      "False\n",
      "AoLP time:  0.03997492790222168 s\n"
     ]
    },
    {
     "name": "stderr",
     "output_type": "stream",
     "text": [
      "\r",
      " 25%|███████████████████▋                                                           | 56/225 [21:54<1:05:33, 23.27s/it]"
     ]
    },
    {
     "name": "stdout",
     "output_type": "stream",
     "text": [
      "Processing data for material : WATER\n",
      "image_data shape is :  (2048, 2448)\n",
      "im90 shape is :  (1024, 1224)\n",
      "Stokes time:  0.024985790252685547 s\n",
      "im_stokes0 shape is :  (1024, 1224)\n",
      "DoLP time:  0.030982017517089844 s\n",
      "im_DOLP shape is :  (1024, 1224)\n",
      "Time for DOLP2Theta conversion is :  22.027302742004395 seconds\n",
      "False\n",
      "AoLP time:  0.03997659683227539 s\n"
     ]
    },
    {
     "name": "stderr",
     "output_type": "stream",
     "text": [
      "\r",
      " 25%|████████████████████                                                           | 57/225 [22:17<1:04:39, 23.09s/it]"
     ]
    },
    {
     "name": "stdout",
     "output_type": "stream",
     "text": [
      "Processing data for material : WATER\n",
      "image_data shape is :  (2048, 2448)\n",
      "im90 shape is :  (1024, 1224)\n",
      "Stokes time:  0.0259857177734375 s\n",
      "im_stokes0 shape is :  (1024, 1224)\n",
      "DoLP time:  0.03198051452636719 s\n",
      "im_DOLP shape is :  (1024, 1224)\n",
      "Time for DOLP2Theta conversion is :  23.269606828689575 seconds\n",
      "False\n",
      "AoLP time:  0.048972368240356445 s\n"
     ]
    },
    {
     "name": "stderr",
     "output_type": "stream",
     "text": [
      "\r",
      " 26%|████████████████████▎                                                          | 58/225 [22:41<1:05:01, 23.36s/it]"
     ]
    },
    {
     "name": "stdout",
     "output_type": "stream",
     "text": [
      "Processing data for material : WATER\n",
      "image_data shape is :  (2048, 2448)\n",
      "im90 shape is :  (1024, 1224)\n",
      "Stokes time:  0.024986982345581055 s\n",
      "im_stokes0 shape is :  (1024, 1224)\n",
      "DoLP time:  0.03198099136352539 s\n",
      "im_DOLP shape is :  (1024, 1224)\n",
      "Time for DOLP2Theta conversion is :  21.968337297439575 seconds\n",
      "False\n",
      "AoLP time:  0.04197502136230469 s\n"
     ]
    },
    {
     "name": "stderr",
     "output_type": "stream",
     "text": [
      "\r",
      " 26%|████████████████████▋                                                          | 59/225 [23:03<1:04:01, 23.14s/it]"
     ]
    },
    {
     "name": "stdout",
     "output_type": "stream",
     "text": [
      "Processing data for material : WATER\n",
      "image_data shape is :  (2048, 2448)\n",
      "im90 shape is :  (1024, 1224)\n",
      "Stokes time:  0.02398538589477539 s\n",
      "im_stokes0 shape is :  (1024, 1224)\n",
      "DoLP time:  0.03298187255859375 s\n",
      "im_DOLP shape is :  (1024, 1224)\n",
      "Time for DOLP2Theta conversion is :  22.43906569480896 seconds\n",
      "False\n",
      "AoLP time:  0.041976213455200195 s\n"
     ]
    },
    {
     "name": "stderr",
     "output_type": "stream",
     "text": [
      "\r",
      " 27%|█████████████████████                                                          | 60/225 [23:26<1:03:35, 23.12s/it]"
     ]
    },
    {
     "name": "stdout",
     "output_type": "stream",
     "text": [
      "Processing data for material : WATER\n",
      "image_data shape is :  (2048, 2448)\n",
      "im90 shape is :  (1024, 1224)\n",
      "Stokes time:  0.024985551834106445 s\n",
      "im_stokes0 shape is :  (1024, 1224)\n",
      "DoLP time:  0.03497934341430664 s\n",
      "im_DOLP shape is :  (1024, 1224)\n",
      "Time for DOLP2Theta conversion is :  21.93335771560669 seconds\n",
      "False\n",
      "AoLP time:  0.04097175598144531 s\n"
     ]
    },
    {
     "name": "stderr",
     "output_type": "stream",
     "text": [
      "\r",
      " 27%|█████████████████████▍                                                         | 61/225 [23:49<1:02:51, 23.00s/it]"
     ]
    },
    {
     "name": "stdout",
     "output_type": "stream",
     "text": [
      "Processing data for material : WATER\n",
      "image_data shape is :  (2048, 2448)\n",
      "im90 shape is :  (1024, 1224)\n",
      "Stokes time:  0.026983976364135742 s\n",
      "im_stokes0 shape is :  (1024, 1224)\n",
      "DoLP time:  0.03397989273071289 s\n",
      "im_DOLP shape is :  (1024, 1224)\n",
      "Time for DOLP2Theta conversion is :  22.062291622161865 seconds\n",
      "False\n",
      "AoLP time:  0.0519711971282959 s\n"
     ]
    },
    {
     "name": "stderr",
     "output_type": "stream",
     "text": [
      "\r",
      " 28%|█████████████████████▊                                                         | 62/225 [24:12<1:02:14, 22.91s/it]"
     ]
    },
    {
     "name": "stdout",
     "output_type": "stream",
     "text": [
      "Processing data for material : WATER\n",
      "image_data shape is :  (2048, 2448)\n",
      "im90 shape is :  (1024, 1224)\n",
      "Stokes time:  0.026984214782714844 s\n",
      "im_stokes0 shape is :  (1024, 1224)\n",
      "DoLP time:  0.04097771644592285 s\n",
      "im_DOLP shape is :  (1024, 1224)\n",
      "Time for DOLP2Theta conversion is :  22.71892285346985 seconds\n",
      "False\n",
      "AoLP time:  0.04097485542297363 s\n"
     ]
    },
    {
     "name": "stderr",
     "output_type": "stream",
     "text": [
      "\r",
      " 28%|██████████████████████                                                         | 63/225 [24:35<1:02:13, 23.05s/it]"
     ]
    },
    {
     "name": "stdout",
     "output_type": "stream",
     "text": [
      "Processing data for material : WATER\n",
      "image_data shape is :  (2048, 2448)\n",
      "im90 shape is :  (1024, 1224)\n",
      "Stokes time:  0.02698373794555664 s\n",
      "im_stokes0 shape is :  (1024, 1224)\n",
      "DoLP time:  0.03397989273071289 s\n",
      "im_DOLP shape is :  (1024, 1224)\n",
      "Time for DOLP2Theta conversion is :  22.477044105529785 seconds\n",
      "False\n",
      "AoLP time:  0.04097604751586914 s\n"
     ]
    },
    {
     "name": "stderr",
     "output_type": "stream",
     "text": [
      "\r",
      " 28%|██████████████████████▍                                                        | 64/225 [24:58<1:01:53, 23.07s/it]"
     ]
    },
    {
     "name": "stdout",
     "output_type": "stream",
     "text": [
      "Processing data for material : WATER\n",
      "image_data shape is :  (2048, 2448)\n",
      "im90 shape is :  (1024, 1224)\n",
      "Stokes time:  0.023986101150512695 s\n",
      "im_stokes0 shape is :  (1024, 1224)\n",
      "DoLP time:  0.035979509353637695 s\n",
      "im_DOLP shape is :  (1024, 1224)\n",
      "Time for DOLP2Theta conversion is :  22.30714201927185 seconds\n",
      "False\n",
      "AoLP time:  0.04996967315673828 s\n"
     ]
    },
    {
     "name": "stderr",
     "output_type": "stream",
     "text": [
      "\r",
      " 29%|██████████████████████▊                                                        | 65/225 [25:21<1:01:25, 23.03s/it]"
     ]
    },
    {
     "name": "stdout",
     "output_type": "stream",
     "text": [
      "Processing data for material : WATER\n",
      "image_data shape is :  (2048, 2448)\n",
      "im90 shape is :  (1024, 1224)\n",
      "Stokes time:  0.02698493003845215 s\n",
      "im_stokes0 shape is :  (1024, 1224)\n",
      "DoLP time:  0.03797769546508789 s\n",
      "im_DOLP shape is :  (1024, 1224)\n",
      "Time for DOLP2Theta conversion is :  22.877820253372192 seconds\n",
      "False\n",
      "AoLP time:  0.05596756935119629 s\n"
     ]
    },
    {
     "name": "stderr",
     "output_type": "stream",
     "text": [
      "\r",
      " 29%|███████████████████████▏                                                       | 66/225 [25:45<1:01:29, 23.20s/it]"
     ]
    },
    {
     "name": "stdout",
     "output_type": "stream",
     "text": [
      "Processing data for material : WATER\n",
      "image_data shape is :  (2048, 2448)\n",
      "im90 shape is :  (1024, 1224)\n",
      "Stokes time:  0.024985313415527344 s\n",
      "im_stokes0 shape is :  (1024, 1224)\n",
      "DoLP time:  0.0319821834564209 s\n",
      "im_DOLP shape is :  (1024, 1224)\n",
      "Time for DOLP2Theta conversion is :  26.364803314208984 seconds\n",
      "False\n",
      "AoLP time:  0.03997802734375 s\n"
     ]
    },
    {
     "name": "stderr",
     "output_type": "stream",
     "text": [
      "\r",
      " 30%|███████████████████████▌                                                       | 67/225 [26:12<1:04:09, 24.37s/it]"
     ]
    },
    {
     "name": "stdout",
     "output_type": "stream",
     "text": [
      "Processing data for material : WATER\n",
      "image_data shape is :  (2048, 2448)\n",
      "im90 shape is :  (1024, 1224)\n",
      "Stokes time:  0.035979270935058594 s\n",
      "im_stokes0 shape is :  (1024, 1224)\n",
      "DoLP time:  0.03897690773010254 s\n",
      "im_DOLP shape is :  (1024, 1224)\n",
      "Time for DOLP2Theta conversion is :  26.020001649856567 seconds\n",
      "False\n",
      "AoLP time:  0.04397463798522949 s\n"
     ]
    },
    {
     "name": "stderr",
     "output_type": "stream",
     "text": [
      "\r",
      " 30%|███████████████████████▉                                                       | 68/225 [26:38<1:05:35, 25.06s/it]"
     ]
    },
    {
     "name": "stdout",
     "output_type": "stream",
     "text": [
      "Processing data for material : WATER\n",
      "image_data shape is :  (2048, 2448)\n",
      "im90 shape is :  (1024, 1224)\n",
      "Stokes time:  0.023987531661987305 s\n",
      "im_stokes0 shape is :  (1024, 1224)\n",
      "DoLP time:  0.03298163414001465 s\n",
      "im_DOLP shape is :  (1024, 1224)\n",
      "Time for DOLP2Theta conversion is :  24.469895601272583 seconds\n",
      "False\n",
      "AoLP time:  0.04797220230102539 s\n"
     ]
    },
    {
     "name": "stderr",
     "output_type": "stream",
     "text": [
      "\r",
      " 31%|████████████████████████▏                                                      | 69/225 [27:04<1:05:16, 25.10s/it]"
     ]
    },
    {
     "name": "stdout",
     "output_type": "stream",
     "text": [
      "Processing data for material : WATER\n",
      "image_data shape is :  (2048, 2448)\n",
      "im90 shape is :  (1024, 1224)\n",
      "Stokes time:  0.02598428726196289 s\n",
      "im_stokes0 shape is :  (1024, 1224)\n",
      "DoLP time:  0.034979820251464844 s\n",
      "im_DOLP shape is :  (1024, 1224)\n",
      "Time for DOLP2Theta conversion is :  21.90437650680542 seconds\n",
      "False\n",
      "AoLP time:  0.04097723960876465 s\n"
     ]
    },
    {
     "name": "stderr",
     "output_type": "stream",
     "text": [
      "\r",
      " 31%|████████████████████████▌                                                      | 70/225 [27:26<1:02:56, 24.36s/it]"
     ]
    },
    {
     "name": "stdout",
     "output_type": "stream",
     "text": [
      "Processing data for material : WATER\n",
      "image_data shape is :  (2048, 2448)\n",
      "im90 shape is :  (1024, 1224)\n",
      "Stokes time:  0.02398538589477539 s\n",
      "im_stokes0 shape is :  (1024, 1224)\n",
      "DoLP time:  0.03398013114929199 s\n",
      "im_DOLP shape is :  (1024, 1224)\n",
      "Time for DOLP2Theta conversion is :  22.13124442100525 seconds\n",
      "False\n",
      "AoLP time:  0.04297590255737305 s\n"
     ]
    },
    {
     "name": "stderr",
     "output_type": "stream",
     "text": [
      "\r",
      " 32%|████████████████████████▉                                                      | 71/225 [27:49<1:01:22, 23.92s/it]"
     ]
    },
    {
     "name": "stdout",
     "output_type": "stream",
     "text": [
      "Processing data for material : WATER\n",
      "image_data shape is :  (2048, 2448)\n",
      "im90 shape is :  (1024, 1224)\n",
      "Stokes time:  0.024985551834106445 s\n",
      "im_stokes0 shape is :  (1024, 1224)\n",
      "DoLP time:  0.03397989273071289 s\n",
      "im_DOLP shape is :  (1024, 1224)\n",
      "Time for DOLP2Theta conversion is :  22.132242441177368 seconds\n",
      "False\n",
      "AoLP time:  0.04297327995300293 s\n"
     ]
    },
    {
     "name": "stderr",
     "output_type": "stream",
     "text": [
      "\r",
      " 32%|█████████████████████████▎                                                     | 72/225 [28:12<1:00:05, 23.57s/it]"
     ]
    },
    {
     "name": "stdout",
     "output_type": "stream",
     "text": [
      "Processing data for material : WATER\n",
      "image_data shape is :  (2048, 2448)\n",
      "im90 shape is :  (1024, 1224)\n",
      "Stokes time:  0.027987003326416016 s\n",
      "im_stokes0 shape is :  (1024, 1224)\n",
      "DoLP time:  0.033980607986450195 s\n",
      "im_DOLP shape is :  (1024, 1224)\n",
      "Time for DOLP2Theta conversion is :  21.888383150100708 seconds\n",
      "False\n",
      "AoLP time:  0.04097628593444824 s\n"
     ]
    },
    {
     "name": "stderr",
     "output_type": "stream",
     "text": [
      "\r",
      " 32%|██████████████████████████▎                                                      | 73/225 [28:34<58:56, 23.26s/it]"
     ]
    },
    {
     "name": "stdout",
     "output_type": "stream",
     "text": [
      "Processing data for material : WATER\n",
      "image_data shape is :  (2048, 2448)\n",
      "im90 shape is :  (1024, 1224)\n",
      "Stokes time:  0.025984764099121094 s\n",
      "im_stokes0 shape is :  (1024, 1224)\n",
      "DoLP time:  0.033980369567871094 s\n",
      "im_DOLP shape is :  (1024, 1224)\n",
      "Time for DOLP2Theta conversion is :  22.347119092941284 seconds\n",
      "False\n",
      "AoLP time:  0.04397439956665039 s\n"
     ]
    },
    {
     "name": "stderr",
     "output_type": "stream",
     "text": [
      "\r",
      " 33%|██████████████████████████▋                                                      | 74/225 [28:58<58:22, 23.20s/it]"
     ]
    },
    {
     "name": "stdout",
     "output_type": "stream",
     "text": [
      "Processing data for material : WATER\n",
      "image_data shape is :  (2048, 2448)\n",
      "im90 shape is :  (1024, 1224)\n",
      "Stokes time:  0.02498626708984375 s\n",
      "im_stokes0 shape is :  (1024, 1224)\n",
      "DoLP time:  0.03298020362854004 s\n",
      "im_DOLP shape is :  (1024, 1224)\n",
      "Time for DOLP2Theta conversion is :  21.706488370895386 seconds\n",
      "False\n",
      "AoLP time:  0.03997659683227539 s\n"
     ]
    },
    {
     "name": "stderr",
     "output_type": "stream",
     "text": [
      "\r",
      " 33%|███████████████████████████                                                      | 75/225 [29:20<57:22, 22.95s/it]"
     ]
    },
    {
     "name": "stdout",
     "output_type": "stream",
     "text": [
      "Processing data for material : WATER\n",
      "image_data shape is :  (2048, 2448)\n",
      "im90 shape is :  (1024, 1224)\n",
      "Stokes time:  0.02698373794555664 s\n",
      "im_stokes0 shape is :  (1024, 1224)\n",
      "DoLP time:  0.03198075294494629 s\n",
      "im_DOLP shape is :  (1024, 1224)\n",
      "Time for DOLP2Theta conversion is :  22.176217794418335 seconds\n",
      "False\n",
      "AoLP time:  0.04397416114807129 s\n"
     ]
    },
    {
     "name": "stderr",
     "output_type": "stream",
     "text": [
      "\r",
      " 34%|███████████████████████████▎                                                     | 76/225 [29:43<56:53, 22.91s/it]"
     ]
    },
    {
     "name": "stdout",
     "output_type": "stream",
     "text": [
      "Processing data for material : WATER\n",
      "image_data shape is :  (2048, 2448)\n",
      "im90 shape is :  (1024, 1224)\n",
      "Stokes time:  0.02898263931274414 s\n",
      "im_stokes0 shape is :  (1024, 1224)\n",
      "DoLP time:  0.035979270935058594 s\n",
      "im_DOLP shape is :  (1024, 1224)\n",
      "Time for DOLP2Theta conversion is :  22.09326672554016 seconds\n",
      "False\n",
      "AoLP time:  0.04097628593444824 s\n"
     ]
    },
    {
     "name": "stderr",
     "output_type": "stream",
     "text": [
      "\r",
      " 34%|███████████████████████████▋                                                     | 77/225 [30:05<56:23, 22.86s/it]"
     ]
    },
    {
     "name": "stdout",
     "output_type": "stream",
     "text": [
      "Processing data for material : WATER\n",
      "image_data shape is :  (2048, 2448)\n",
      "im90 shape is :  (1024, 1224)\n",
      "Stokes time:  0.024985551834106445 s\n",
      "im_stokes0 shape is :  (1024, 1224)\n",
      "DoLP time:  0.033979177474975586 s\n",
      "im_DOLP shape is :  (1024, 1224)\n",
      "Time for DOLP2Theta conversion is :  22.186212062835693 seconds\n",
      "False\n",
      "AoLP time:  0.04297685623168945 s\n"
     ]
    },
    {
     "name": "stderr",
     "output_type": "stream",
     "text": [
      "\r",
      " 35%|████████████████████████████                                                     | 78/225 [30:28<56:01, 22.87s/it]"
     ]
    },
    {
     "name": "stdout",
     "output_type": "stream",
     "text": [
      "Processing data for material : WATER\n",
      "image_data shape is :  (2048, 2448)\n",
      "im90 shape is :  (1024, 1224)\n",
      "Stokes time:  0.026984691619873047 s\n",
      "im_stokes0 shape is :  (1024, 1224)\n",
      "DoLP time:  0.03697800636291504 s\n",
      "im_DOLP shape is :  (1024, 1224)\n",
      "Time for DOLP2Theta conversion is :  21.78946042060852 seconds\n",
      "False\n",
      "AoLP time:  0.040976762771606445 s\n"
     ]
    },
    {
     "name": "stderr",
     "output_type": "stream",
     "text": [
      "\r",
      " 35%|████████████████████████████▍                                                    | 79/225 [30:51<55:23, 22.76s/it]"
     ]
    },
    {
     "name": "stdout",
     "output_type": "stream",
     "text": [
      "Processing data for material : WATER\n",
      "image_data shape is :  (2048, 2448)\n",
      "im90 shape is :  (1024, 1224)\n",
      "Stokes time:  0.025985240936279297 s\n",
      "im_stokes0 shape is :  (1024, 1224)\n",
      "DoLP time:  0.03497958183288574 s\n",
      "im_DOLP shape is :  (1024, 1224)\n",
      "Time for DOLP2Theta conversion is :  22.19022822380066 seconds\n",
      "False\n",
      "AoLP time:  0.04797172546386719 s\n"
     ]
    },
    {
     "name": "stderr",
     "output_type": "stream",
     "text": [
      "\r",
      " 36%|████████████████████████████▊                                                    | 80/225 [31:14<55:03, 22.78s/it]"
     ]
    },
    {
     "name": "stdout",
     "output_type": "stream",
     "text": [
      "Processing data for material : WATER\n",
      "image_data shape is :  (2048, 2448)\n",
      "im90 shape is :  (1024, 1224)\n",
      "Stokes time:  0.024985313415527344 s\n",
      "im_stokes0 shape is :  (1024, 1224)\n",
      "DoLP time:  0.032980918884277344 s\n",
      "im_DOLP shape is :  (1024, 1224)\n",
      "Time for DOLP2Theta conversion is :  22.691938161849976 seconds\n",
      "False\n",
      "AoLP time:  0.04097604751586914 s\n"
     ]
    },
    {
     "name": "stderr",
     "output_type": "stream",
     "text": [
      "\r",
      " 36%|█████████████████████████████▏                                                   | 81/225 [31:37<55:04, 22.95s/it]"
     ]
    },
    {
     "name": "stdout",
     "output_type": "stream",
     "text": [
      "Processing data for material : WATER\n",
      "image_data shape is :  (2048, 2448)\n",
      "im90 shape is :  (1024, 1224)\n",
      "Stokes time:  0.026984691619873047 s\n",
      "im_stokes0 shape is :  (1024, 1224)\n",
      "DoLP time:  0.03597879409790039 s\n",
      "im_DOLP shape is :  (1024, 1224)\n",
      "Time for DOLP2Theta conversion is :  22.21819519996643 seconds\n",
      "False\n",
      "AoLP time:  0.045972347259521484 s\n"
     ]
    },
    {
     "name": "stderr",
     "output_type": "stream",
     "text": [
      "\r",
      " 36%|█████████████████████████████▌                                                   | 82/225 [32:00<54:38, 22.93s/it]"
     ]
    },
    {
     "name": "stdout",
     "output_type": "stream",
     "text": [
      "Processing data for material : WATER\n",
      "image_data shape is :  (2048, 2448)\n",
      "im90 shape is :  (1024, 1224)\n",
      "Stokes time:  0.02598428726196289 s\n",
      "im_stokes0 shape is :  (1024, 1224)\n",
      "DoLP time:  0.0339810848236084 s\n",
      "im_DOLP shape is :  (1024, 1224)\n",
      "Time for DOLP2Theta conversion is :  22.868818759918213 seconds\n",
      "False\n",
      "AoLP time:  0.04097557067871094 s\n"
     ]
    },
    {
     "name": "stderr",
     "output_type": "stream",
     "text": [
      "\r",
      " 37%|█████████████████████████████▉                                                   | 83/225 [32:23<54:41, 23.11s/it]"
     ]
    },
    {
     "name": "stdout",
     "output_type": "stream",
     "text": [
      "Processing data for material : WATER\n",
      "image_data shape is :  (2048, 2448)\n",
      "im90 shape is :  (1024, 1224)\n",
      "Stokes time:  0.023985862731933594 s\n",
      "im_stokes0 shape is :  (1024, 1224)\n",
      "DoLP time:  0.03797745704650879 s\n",
      "im_DOLP shape is :  (1024, 1224)\n",
      "Time for DOLP2Theta conversion is :  21.728475093841553 seconds\n",
      "False\n",
      "AoLP time:  0.040976524353027344 s\n"
     ]
    },
    {
     "name": "stderr",
     "output_type": "stream",
     "text": [
      "\r",
      " 37%|██████████████████████████████▏                                                  | 84/225 [32:46<53:46, 22.88s/it]"
     ]
    },
    {
     "name": "stdout",
     "output_type": "stream",
     "text": [
      "Processing data for material : WATER\n",
      "image_data shape is :  (2048, 2448)\n",
      "im90 shape is :  (1024, 1224)\n",
      "Stokes time:  0.025985002517700195 s\n",
      "im_stokes0 shape is :  (1024, 1224)\n",
      "DoLP time:  0.0339808464050293 s\n",
      "im_DOLP shape is :  (1024, 1224)\n",
      "Time for DOLP2Theta conversion is :  21.486615657806396 seconds\n",
      "False\n",
      "AoLP time:  0.04697060585021973 s\n"
     ]
    },
    {
     "name": "stderr",
     "output_type": "stream",
     "text": [
      "\r",
      " 38%|██████████████████████████████▌                                                  | 85/225 [33:08<52:50, 22.65s/it]"
     ]
    },
    {
     "name": "stdout",
     "output_type": "stream",
     "text": [
      "Processing data for material : WATER\n",
      "image_data shape is :  (2048, 2448)\n",
      "im90 shape is :  (1024, 1224)\n",
      "Stokes time:  0.02498483657836914 s\n",
      "im_stokes0 shape is :  (1024, 1224)\n",
      "DoLP time:  0.032981157302856445 s\n",
      "im_DOLP shape is :  (1024, 1224)\n",
      "Time for DOLP2Theta conversion is :  22.05928611755371 seconds\n",
      "False\n",
      "AoLP time:  0.041975975036621094 s\n"
     ]
    },
    {
     "name": "stderr",
     "output_type": "stream",
     "text": [
      "\r",
      " 38%|██████████████████████████████▉                                                  | 86/225 [33:31<52:31, 22.67s/it]"
     ]
    },
    {
     "name": "stdout",
     "output_type": "stream",
     "text": [
      "Processing data for material : WATER\n",
      "image_data shape is :  (2048, 2448)\n",
      "im90 shape is :  (1024, 1224)\n",
      "Stokes time:  0.024985074996948242 s\n",
      "im_stokes0 shape is :  (1024, 1224)\n",
      "DoLP time:  0.03697824478149414 s\n",
      "im_DOLP shape is :  (1024, 1224)\n",
      "Time for DOLP2Theta conversion is :  22.26816439628601 seconds\n",
      "False\n",
      "AoLP time:  0.04497265815734863 s\n"
     ]
    },
    {
     "name": "stderr",
     "output_type": "stream",
     "text": [
      "\r",
      " 39%|███████████████████████████████▎                                                 | 87/225 [33:54<52:21, 22.76s/it]"
     ]
    },
    {
     "name": "stdout",
     "output_type": "stream",
     "text": [
      "Processing data for material : WATER\n",
      "image_data shape is :  (2048, 2448)\n",
      "im90 shape is :  (1024, 1224)\n",
      "Stokes time:  0.03098154067993164 s\n",
      "im_stokes0 shape is :  (1024, 1224)\n",
      "DoLP time:  0.04397439956665039 s\n",
      "im_DOLP shape is :  (1024, 1224)\n",
      "Time for DOLP2Theta conversion is :  22.155232667922974 seconds\n",
      "False\n",
      "AoLP time:  0.04497480392456055 s\n"
     ]
    },
    {
     "name": "stderr",
     "output_type": "stream",
     "text": [
      "\r",
      " 39%|███████████████████████████████▋                                                 | 88/225 [34:16<52:03, 22.80s/it]"
     ]
    },
    {
     "name": "stdout",
     "output_type": "stream",
     "text": [
      "Processing data for material : WATER\n",
      "image_data shape is :  (2048, 2448)\n",
      "im90 shape is :  (1024, 1224)\n",
      "Stokes time:  0.024985313415527344 s\n",
      "im_stokes0 shape is :  (1024, 1224)\n",
      "DoLP time:  0.037978172302246094 s\n",
      "im_DOLP shape is :  (1024, 1224)\n",
      "Time for DOLP2Theta conversion is :  21.906373262405396 seconds\n",
      "False\n",
      "AoLP time:  0.040976524353027344 s\n"
     ]
    },
    {
     "name": "stderr",
     "output_type": "stream",
     "text": [
      "\r",
      " 40%|████████████████████████████████                                                 | 89/225 [34:39<51:34, 22.75s/it]"
     ]
    },
    {
     "name": "stdout",
     "output_type": "stream",
     "text": [
      "Processing data for material : WATER\n",
      "image_data shape is :  (2048, 2448)\n",
      "im90 shape is :  (1024, 1224)\n",
      "Stokes time:  0.025985240936279297 s\n",
      "im_stokes0 shape is :  (1024, 1224)\n",
      "DoLP time:  0.03997659683227539 s\n",
      "im_DOLP shape is :  (1024, 1224)\n",
      "Time for DOLP2Theta conversion is :  27.061420917510986 seconds\n",
      "False\n",
      "AoLP time:  0.04497385025024414 s\n"
     ]
    },
    {
     "name": "stderr",
     "output_type": "stream",
     "text": [
      "\r",
      " 40%|████████████████████████████████▍                                                | 90/225 [35:07<54:38, 24.28s/it]"
     ]
    },
    {
     "name": "stdout",
     "output_type": "stream",
     "text": [
      "Processing data for material : WATER\n",
      "image_data shape is :  (2048, 2448)\n",
      "im90 shape is :  (1024, 1224)\n",
      "Stokes time:  0.03198051452636719 s\n",
      "im_stokes0 shape is :  (1024, 1224)\n",
      "DoLP time:  0.03497815132141113 s\n",
      "im_DOLP shape is :  (1024, 1224)\n",
      "Time for DOLP2Theta conversion is :  22.183213233947754 seconds\n",
      "False\n",
      "AoLP time:  0.0419766902923584 s\n"
     ]
    },
    {
     "name": "stderr",
     "output_type": "stream",
     "text": [
      "\r",
      " 40%|████████████████████████████████▊                                                | 91/225 [35:30<53:16, 23.85s/it]"
     ]
    },
    {
     "name": "stdout",
     "output_type": "stream",
     "text": [
      "Processing data for material : WATER\n",
      "image_data shape is :  (2048, 2448)\n",
      "im90 shape is :  (1024, 1224)\n",
      "Stokes time:  0.02598404884338379 s\n",
      "im_stokes0 shape is :  (1024, 1224)\n",
      "DoLP time:  0.030982494354248047 s\n",
      "im_DOLP shape is :  (1024, 1224)\n",
      "Time for DOLP2Theta conversion is :  21.545581340789795 seconds\n",
      "False\n",
      "AoLP time:  0.04197573661804199 s\n"
     ]
    },
    {
     "name": "stderr",
     "output_type": "stream",
     "text": [
      "\r",
      " 41%|█████████████████████████████████                                                | 92/225 [35:52<51:47, 23.36s/it]"
     ]
    },
    {
     "name": "stdout",
     "output_type": "stream",
     "text": [
      "Processing data for material : WATER\n",
      "image_data shape is :  (2048, 2448)\n",
      "im90 shape is :  (1024, 1224)\n",
      "Stokes time:  0.028983354568481445 s\n",
      "im_stokes0 shape is :  (1024, 1224)\n",
      "DoLP time:  0.03897690773010254 s\n",
      "im_DOLP shape is :  (1024, 1224)\n",
      "Time for DOLP2Theta conversion is :  21.41865611076355 seconds\n",
      "False\n",
      "AoLP time:  0.04097557067871094 s\n"
     ]
    },
    {
     "name": "stderr",
     "output_type": "stream",
     "text": [
      "\r",
      " 41%|█████████████████████████████████▍                                               | 93/225 [36:14<50:33, 22.98s/it]"
     ]
    },
    {
     "name": "stdout",
     "output_type": "stream",
     "text": [
      "Processing data for material : WATER\n",
      "image_data shape is :  (2048, 2448)\n",
      "im90 shape is :  (1024, 1224)\n",
      "Stokes time:  0.027983427047729492 s\n",
      "im_stokes0 shape is :  (1024, 1224)\n",
      "DoLP time:  0.03298068046569824 s\n",
      "im_DOLP shape is :  (1024, 1224)\n",
      "Time for DOLP2Theta conversion is :  21.521594762802124 seconds\n",
      "False\n",
      "AoLP time:  0.038977622985839844 s\n"
     ]
    },
    {
     "name": "stderr",
     "output_type": "stream",
     "text": [
      "\r",
      " 42%|█████████████████████████████████▊                                               | 94/225 [36:36<49:38, 22.74s/it]"
     ]
    },
    {
     "name": "stdout",
     "output_type": "stream",
     "text": [
      "Processing data for material : WATER\n",
      "image_data shape is :  (2048, 2448)\n",
      "im90 shape is :  (1024, 1224)\n",
      "Stokes time:  0.02598714828491211 s\n",
      "im_stokes0 shape is :  (1024, 1224)\n",
      "DoLP time:  0.032979726791381836 s\n",
      "im_DOLP shape is :  (1024, 1224)\n",
      "Time for DOLP2Theta conversion is :  21.476620197296143 seconds\n",
      "False\n",
      "AoLP time:  0.04797244071960449 s\n"
     ]
    },
    {
     "name": "stderr",
     "output_type": "stream",
     "text": [
      "\r",
      " 42%|██████████████████████████████████▏                                              | 95/225 [36:58<48:54, 22.57s/it]"
     ]
    },
    {
     "name": "stdout",
     "output_type": "stream",
     "text": [
      "Processing data for material : WATER\n",
      "image_data shape is :  (2048, 2448)\n",
      "im90 shape is :  (1024, 1224)\n",
      "Stokes time:  0.025985240936279297 s\n",
      "im_stokes0 shape is :  (1024, 1224)\n",
      "DoLP time:  0.0339813232421875 s\n",
      "im_DOLP shape is :  (1024, 1224)\n",
      "Time for DOLP2Theta conversion is :  21.788440704345703 seconds\n",
      "False\n",
      "AoLP time:  0.041975975036621094 s\n"
     ]
    },
    {
     "name": "stderr",
     "output_type": "stream",
     "text": [
      "\r",
      " 43%|██████████████████████████████████▌                                              | 96/225 [37:21<48:27, 22.54s/it]"
     ]
    },
    {
     "name": "stdout",
     "output_type": "stream",
     "text": [
      "Processing data for material : WATER\n",
      "image_data shape is :  (2048, 2448)\n",
      "im90 shape is :  (1024, 1224)\n",
      "Stokes time:  0.026983261108398438 s\n",
      "im_stokes0 shape is :  (1024, 1224)\n",
      "DoLP time:  0.030982017517089844 s\n",
      "im_DOLP shape is :  (1024, 1224)\n",
      "Time for DOLP2Theta conversion is :  20.919941186904907 seconds\n",
      "False\n",
      "AoLP time:  0.039977073669433594 s\n"
     ]
    },
    {
     "name": "stderr",
     "output_type": "stream",
     "text": [
      "\r",
      " 43%|██████████████████████████████████▉                                              | 97/225 [37:43<47:27, 22.25s/it]"
     ]
    },
    {
     "name": "stdout",
     "output_type": "stream",
     "text": [
      "Processing data for material : WATER\n",
      "image_data shape is :  (2048, 2448)\n",
      "im90 shape is :  (1024, 1224)\n",
      "Stokes time:  0.02598404884338379 s\n",
      "im_stokes0 shape is :  (1024, 1224)\n",
      "DoLP time:  0.031981706619262695 s\n",
      "im_DOLP shape is :  (1024, 1224)\n",
      "Time for DOLP2Theta conversion is :  21.793439865112305 seconds\n",
      "False\n",
      "AoLP time:  0.04797244071960449 s\n"
     ]
    },
    {
     "name": "stderr",
     "output_type": "stream",
     "text": [
      "\r",
      " 44%|███████████████████████████████████▎                                             | 98/225 [38:05<47:14, 22.32s/it]"
     ]
    },
    {
     "name": "stdout",
     "output_type": "stream",
     "text": [
      "Processing data for material : WATER\n",
      "image_data shape is :  (2048, 2448)\n",
      "im90 shape is :  (1024, 1224)\n",
      "Stokes time:  0.02698349952697754 s\n",
      "im_stokes0 shape is :  (1024, 1224)\n",
      "DoLP time:  0.030982017517089844 s\n",
      "im_DOLP shape is :  (1024, 1224)\n",
      "Time for DOLP2Theta conversion is :  22.012312412261963 seconds\n",
      "False\n",
      "AoLP time:  0.038979291915893555 s\n"
     ]
    },
    {
     "name": "stderr",
     "output_type": "stream",
     "text": [
      "\r",
      " 44%|███████████████████████████████████▋                                             | 99/225 [38:28<47:04, 22.41s/it]"
     ]
    },
    {
     "name": "stdout",
     "output_type": "stream",
     "text": [
      "Processing data for material : WATER\n",
      "image_data shape is :  (2048, 2448)\n",
      "im90 shape is :  (1024, 1224)\n",
      "Stokes time:  0.024985551834106445 s\n",
      "im_stokes0 shape is :  (1024, 1224)\n",
      "DoLP time:  0.030982255935668945 s\n",
      "im_DOLP shape is :  (1024, 1224)\n",
      "Time for DOLP2Theta conversion is :  21.918366193771362 seconds\n",
      "False\n",
      "AoLP time:  0.043974876403808594 s\n"
     ]
    },
    {
     "name": "stderr",
     "output_type": "stream",
     "text": [
      "\r",
      " 44%|███████████████████████████████████▌                                            | 100/225 [38:50<46:48, 22.46s/it]"
     ]
    },
    {
     "name": "stdout",
     "output_type": "stream",
     "text": [
      "Processing data for material : WATER\n",
      "image_data shape is :  (2048, 2448)\n",
      "im90 shape is :  (1024, 1224)\n",
      "Stokes time:  0.02398538589477539 s\n",
      "im_stokes0 shape is :  (1024, 1224)\n",
      "DoLP time:  0.032980918884277344 s\n",
      "im_DOLP shape is :  (1024, 1224)\n",
      "Time for DOLP2Theta conversion is :  21.72247838973999 seconds\n",
      "False\n",
      "AoLP time:  0.0419769287109375 s\n"
     ]
    },
    {
     "name": "stderr",
     "output_type": "stream",
     "text": [
      "\r",
      " 45%|███████████████████████████████████▉                                            | 101/225 [39:13<46:24, 22.46s/it]"
     ]
    },
    {
     "name": "stdout",
     "output_type": "stream",
     "text": [
      "Processing data for material : WATER\n",
      "image_data shape is :  (2048, 2448)\n",
      "im90 shape is :  (1024, 1224)\n",
      "Stokes time:  0.024985074996948242 s\n",
      "im_stokes0 shape is :  (1024, 1224)\n",
      "DoLP time:  0.03597831726074219 s\n",
      "im_DOLP shape is :  (1024, 1224)\n",
      "Time for DOLP2Theta conversion is :  22.954787015914917 seconds\n",
      "False\n",
      "AoLP time:  0.039951324462890625 s\n"
     ]
    },
    {
     "name": "stderr",
     "output_type": "stream",
     "text": [
      "\r",
      " 45%|████████████████████████████████████▎                                           | 102/225 [39:36<46:46, 22.82s/it]"
     ]
    },
    {
     "name": "stdout",
     "output_type": "stream",
     "text": [
      "Processing data for material : WATER\n",
      "image_data shape is :  (2048, 2448)\n",
      "im90 shape is :  (1024, 1224)\n",
      "Stokes time:  0.023985624313354492 s\n",
      "im_stokes0 shape is :  (1024, 1224)\n",
      "DoLP time:  0.031981468200683594 s\n",
      "im_DOLP shape is :  (1024, 1224)\n",
      "Time for DOLP2Theta conversion is :  21.029876947402954 seconds\n",
      "False\n",
      "AoLP time:  0.03997659683227539 s\n"
     ]
    },
    {
     "name": "stderr",
     "output_type": "stream",
     "text": [
      "\r",
      " 46%|████████████████████████████████████▌                                           | 103/225 [39:58<45:43, 22.49s/it]"
     ]
    },
    {
     "name": "stdout",
     "output_type": "stream",
     "text": [
      "Processing data for material : WATER\n",
      "image_data shape is :  (2048, 2448)\n",
      "im90 shape is :  (1024, 1224)\n",
      "Stokes time:  0.027983903884887695 s\n",
      "im_stokes0 shape is :  (1024, 1224)\n",
      "DoLP time:  0.033980369567871094 s\n",
      "im_DOLP shape is :  (1024, 1224)\n",
      "Time for DOLP2Theta conversion is :  21.11582851409912 seconds\n",
      "False\n",
      "AoLP time:  0.03997635841369629 s\n"
     ]
    },
    {
     "name": "stderr",
     "output_type": "stream",
     "text": [
      "\r",
      " 46%|████████████████████████████████████▉                                           | 104/225 [40:20<44:53, 22.26s/it]"
     ]
    },
    {
     "name": "stdout",
     "output_type": "stream",
     "text": [
      "Processing data for material : WATER\n",
      "image_data shape is :  (2048, 2448)\n",
      "im90 shape is :  (1024, 1224)\n",
      "Stokes time:  0.02498602867126465 s\n",
      "im_stokes0 shape is :  (1024, 1224)\n",
      "DoLP time:  0.03697919845581055 s\n",
      "im_DOLP shape is :  (1024, 1224)\n",
      "Time for DOLP2Theta conversion is :  22.470048904418945 seconds\n",
      "False\n",
      "AoLP time:  0.040976524353027344 s\n"
     ]
    },
    {
     "name": "stderr",
     "output_type": "stream",
     "text": [
      "\r",
      " 47%|█████████████████████████████████████▎                                          | 105/225 [40:43<45:00, 22.51s/it]"
     ]
    },
    {
     "name": "stdout",
     "output_type": "stream",
     "text": [
      "Processing data for material : WATER\n",
      "image_data shape is :  (2048, 2448)\n",
      "im90 shape is :  (1024, 1224)\n",
      "Stokes time:  0.024985313415527344 s\n",
      "im_stokes0 shape is :  (1024, 1224)\n",
      "DoLP time:  0.036978721618652344 s\n",
      "im_DOLP shape is :  (1024, 1224)\n",
      "Time for DOLP2Theta conversion is :  21.54158306121826 seconds\n",
      "False\n",
      "AoLP time:  0.04197549819946289 s\n"
     ]
    },
    {
     "name": "stderr",
     "output_type": "stream",
     "text": [
      "\r",
      " 47%|█████████████████████████████████████▋                                          | 106/225 [41:05<44:26, 22.41s/it]"
     ]
    },
    {
     "name": "stdout",
     "output_type": "stream",
     "text": [
      "Processing data for material : WATER\n",
      "image_data shape is :  (2048, 2448)\n",
      "im90 shape is :  (1024, 1224)\n",
      "Stokes time:  0.023986101150512695 s\n",
      "im_stokes0 shape is :  (1024, 1224)\n",
      "DoLP time:  0.03497910499572754 s\n",
      "im_DOLP shape is :  (1024, 1224)\n",
      "Time for DOLP2Theta conversion is :  21.65253973007202 seconds\n",
      "False\n",
      "AoLP time:  0.03997945785522461 s\n"
     ]
    },
    {
     "name": "stderr",
     "output_type": "stream",
     "text": [
      "\r",
      " 48%|██████████████████████████████████████                                          | 107/225 [41:27<43:59, 22.37s/it]"
     ]
    },
    {
     "name": "stdout",
     "output_type": "stream",
     "text": [
      "Processing data for material : WATER\n",
      "image_data shape is :  (2048, 2448)\n",
      "im90 shape is :  (1024, 1224)\n",
      "Stokes time:  0.023985624313354492 s\n",
      "im_stokes0 shape is :  (1024, 1224)\n",
      "DoLP time:  0.03298044204711914 s\n",
      "im_DOLP shape is :  (1024, 1224)\n",
      "Time for DOLP2Theta conversion is :  22.167223930358887 seconds\n",
      "False\n",
      "AoLP time:  0.03997635841369629 s\n"
     ]
    },
    {
     "name": "stderr",
     "output_type": "stream",
     "text": [
      "\r",
      " 48%|██████████████████████████████████████▍                                         | 108/225 [41:50<43:54, 22.51s/it]"
     ]
    },
    {
     "name": "stdout",
     "output_type": "stream",
     "text": [
      "Processing data for material : WATER\n",
      "image_data shape is :  (2048, 2448)\n",
      "im90 shape is :  (1024, 1224)\n",
      "Stokes time:  0.026983976364135742 s\n",
      "im_stokes0 shape is :  (1024, 1224)\n",
      "DoLP time:  0.034979820251464844 s\n",
      "im_DOLP shape is :  (1024, 1224)\n",
      "Time for DOLP2Theta conversion is :  22.133244037628174 seconds\n",
      "False\n",
      "AoLP time:  0.04397439956665039 s\n"
     ]
    },
    {
     "name": "stderr",
     "output_type": "stream",
     "text": [
      "\r",
      " 48%|██████████████████████████████████████▊                                         | 109/225 [42:13<43:42, 22.61s/it]"
     ]
    },
    {
     "name": "stdout",
     "output_type": "stream",
     "text": [
      "Processing data for material : WATER\n",
      "image_data shape is :  (2048, 2448)\n",
      "im90 shape is :  (1024, 1224)\n",
      "Stokes time:  0.024985551834106445 s\n",
      "im_stokes0 shape is :  (1024, 1224)\n",
      "DoLP time:  0.036978721618652344 s\n",
      "im_DOLP shape is :  (1024, 1224)\n",
      "Time for DOLP2Theta conversion is :  22.00831413269043 seconds\n",
      "False\n",
      "AoLP time:  0.039977073669433594 s\n"
     ]
    },
    {
     "name": "stderr",
     "output_type": "stream",
     "text": [
      "\r",
      " 49%|███████████████████████████████████████                                         | 110/225 [42:36<43:21, 22.62s/it]"
     ]
    },
    {
     "name": "stdout",
     "output_type": "stream",
     "text": [
      "Processing data for material : WATER\n",
      "image_data shape is :  (2048, 2448)\n",
      "im90 shape is :  (1024, 1224)\n",
      "Stokes time:  0.02698493003845215 s\n",
      "im_stokes0 shape is :  (1024, 1224)\n",
      "DoLP time:  0.030981779098510742 s\n",
      "im_DOLP shape is :  (1024, 1224)\n",
      "Time for DOLP2Theta conversion is :  21.349695444107056 seconds\n",
      "False\n",
      "AoLP time:  0.03997182846069336 s\n"
     ]
    },
    {
     "name": "stderr",
     "output_type": "stream",
     "text": [
      "\r",
      " 49%|███████████████████████████████████████▍                                        | 111/225 [42:58<42:39, 22.45s/it]"
     ]
    },
    {
     "name": "stdout",
     "output_type": "stream",
     "text": [
      "Processing data for material : WATER\n",
      "image_data shape is :  (2048, 2448)\n",
      "im90 shape is :  (1024, 1224)\n",
      "Stokes time:  0.023986101150512695 s\n",
      "im_stokes0 shape is :  (1024, 1224)\n",
      "DoLP time:  0.03298139572143555 s\n",
      "im_DOLP shape is :  (1024, 1224)\n",
      "Time for DOLP2Theta conversion is :  21.962340831756592 seconds\n",
      "False\n",
      "AoLP time:  0.038977622985839844 s\n"
     ]
    },
    {
     "name": "stderr",
     "output_type": "stream",
     "text": [
      "\r",
      " 50%|███████████████████████████████████████▊                                        | 112/225 [43:20<42:22, 22.50s/it]"
     ]
    },
    {
     "name": "stdout",
     "output_type": "stream",
     "text": [
      "Processing data for material : WATER\n",
      "image_data shape is :  (2048, 2448)\n",
      "im90 shape is :  (1024, 1224)\n",
      "Stokes time:  0.02698540687561035 s\n",
      "im_stokes0 shape is :  (1024, 1224)\n",
      "DoLP time:  0.03298020362854004 s\n",
      "im_DOLP shape is :  (1024, 1224)\n",
      "Time for DOLP2Theta conversion is :  21.105835676193237 seconds\n",
      "False\n",
      "AoLP time:  0.037978172302246094 s\n"
     ]
    },
    {
     "name": "stderr",
     "output_type": "stream",
     "text": [
      "\r",
      " 50%|████████████████████████████████████████▏                                       | 113/225 [43:42<41:36, 22.29s/it]"
     ]
    },
    {
     "name": "stdout",
     "output_type": "stream",
     "text": [
      "Processing data for material : WATER\n",
      "image_data shape is :  (2048, 2448)\n",
      "im90 shape is :  (1024, 1224)\n",
      "Stokes time:  0.02698540687561035 s\n",
      "im_stokes0 shape is :  (1024, 1224)\n",
      "DoLP time:  0.0359797477722168 s\n",
      "im_DOLP shape is :  (1024, 1224)\n",
      "Time for DOLP2Theta conversion is :  22.0802743434906 seconds\n",
      "False\n",
      "AoLP time:  0.03997540473937988 s\n"
     ]
    },
    {
     "name": "stderr",
     "output_type": "stream",
     "text": [
      "\r",
      " 51%|████████████████████████████████████████▌                                       | 114/225 [44:05<41:28, 22.42s/it]"
     ]
    },
    {
     "name": "stdout",
     "output_type": "stream",
     "text": [
      "Processing data for material : WATER\n",
      "image_data shape is :  (2048, 2448)\n",
      "im90 shape is :  (1024, 1224)\n",
      "Stokes time:  0.02698373794555664 s\n",
      "im_stokes0 shape is :  (1024, 1224)\n",
      "DoLP time:  0.031982421875 s\n",
      "im_DOLP shape is :  (1024, 1224)\n",
      "Time for DOLP2Theta conversion is :  22.028302669525146 seconds\n",
      "False\n",
      "AoLP time:  0.039975881576538086 s\n"
     ]
    },
    {
     "name": "stderr",
     "output_type": "stream",
     "text": [
      "\r",
      " 51%|████████████████████████████████████████▉                                       | 115/225 [44:27<41:12, 22.48s/it]"
     ]
    },
    {
     "name": "stdout",
     "output_type": "stream",
     "text": [
      "Processing data for material : WATER\n",
      "image_data shape is :  (2048, 2448)\n",
      "im90 shape is :  (1024, 1224)\n",
      "Stokes time:  0.025986194610595703 s\n",
      "im_stokes0 shape is :  (1024, 1224)\n",
      "DoLP time:  0.031981706619262695 s\n",
      "im_DOLP shape is :  (1024, 1224)\n",
      "Time for DOLP2Theta conversion is :  21.97333598136902 seconds\n",
      "False\n",
      "AoLP time:  0.03897738456726074 s\n"
     ]
    },
    {
     "name": "stderr",
     "output_type": "stream",
     "text": [
      "\r",
      " 52%|█████████████████████████████████████████▏                                      | 116/225 [44:50<40:55, 22.53s/it]"
     ]
    },
    {
     "name": "stdout",
     "output_type": "stream",
     "text": [
      "Processing data for material : WATER\n",
      "image_data shape is :  (2048, 2448)\n",
      "im90 shape is :  (1024, 1224)\n",
      "Stokes time:  0.02498483657836914 s\n",
      "im_stokes0 shape is :  (1024, 1224)\n",
      "DoLP time:  0.032980918884277344 s\n",
      "im_DOLP shape is :  (1024, 1224)\n",
      "Time for DOLP2Theta conversion is :  21.739488124847412 seconds\n",
      "False\n",
      "AoLP time:  0.04297590255737305 s\n"
     ]
    },
    {
     "name": "stderr",
     "output_type": "stream",
     "text": [
      "\r",
      " 52%|█████████████████████████████████████████▌                                      | 117/225 [45:12<40:28, 22.48s/it]"
     ]
    },
    {
     "name": "stdout",
     "output_type": "stream",
     "text": [
      "Processing data for material : WATER\n",
      "image_data shape is :  (2048, 2448)\n",
      "im90 shape is :  (1024, 1224)\n",
      "Stokes time:  0.024985313415527344 s\n",
      "im_stokes0 shape is :  (1024, 1224)\n",
      "DoLP time:  0.03198122978210449 s\n",
      "im_DOLP shape is :  (1024, 1224)\n",
      "Time for DOLP2Theta conversion is :  22.16655707359314 seconds\n",
      "False\n",
      "AoLP time:  0.04197525978088379 s\n"
     ]
    },
    {
     "name": "stderr",
     "output_type": "stream",
     "text": [
      "\r",
      " 52%|█████████████████████████████████████████▉                                      | 118/225 [45:35<40:22, 22.64s/it]"
     ]
    },
    {
     "name": "stdout",
     "output_type": "stream",
     "text": [
      "Processing data for material : WATER\n",
      "image_data shape is :  (2048, 2448)\n",
      "im90 shape is :  (1024, 1224)\n",
      "Stokes time:  0.024987220764160156 s\n",
      "im_stokes0 shape is :  (1024, 1224)\n",
      "DoLP time:  0.03298783302307129 s\n",
      "im_DOLP shape is :  (1024, 1224)\n",
      "Time for DOLP2Theta conversion is :  21.559200048446655 seconds\n",
      "False\n",
      "AoLP time:  0.04097628593444824 s\n"
     ]
    },
    {
     "name": "stderr",
     "output_type": "stream",
     "text": [
      "\r",
      " 53%|██████████████████████████████████████████▎                                     | 119/225 [45:58<39:50, 22.56s/it]"
     ]
    },
    {
     "name": "stdout",
     "output_type": "stream",
     "text": [
      "Processing data for material : WATER\n",
      "image_data shape is :  (2048, 2448)\n",
      "im90 shape is :  (1024, 1224)\n",
      "Stokes time:  0.026499032974243164 s\n",
      "im_stokes0 shape is :  (1024, 1224)\n",
      "DoLP time:  0.036978721618652344 s\n",
      "im_DOLP shape is :  (1024, 1224)\n",
      "Time for DOLP2Theta conversion is :  22.069715976715088 seconds\n",
      "False\n",
      "AoLP time:  0.04597640037536621 s\n"
     ]
    },
    {
     "name": "stderr",
     "output_type": "stream",
     "text": [
      "\r",
      " 53%|██████████████████████████████████████████▋                                     | 120/225 [46:21<39:36, 22.63s/it]"
     ]
    },
    {
     "name": "stdout",
     "output_type": "stream",
     "text": [
      "Processing data for material : WATER\n",
      "image_data shape is :  (2048, 2448)\n",
      "im90 shape is :  (1024, 1224)\n",
      "Stokes time:  0.023986339569091797 s\n",
      "im_stokes0 shape is :  (1024, 1224)\n",
      "DoLP time:  0.034980058670043945 s\n",
      "im_DOLP shape is :  (1024, 1224)\n",
      "Time for DOLP2Theta conversion is :  22.72762942314148 seconds\n",
      "False\n",
      "AoLP time:  0.057965755462646484 s\n"
     ]
    },
    {
     "name": "stderr",
     "output_type": "stream",
     "text": [
      "\r",
      " 54%|███████████████████████████████████████████                                     | 121/225 [46:44<39:52, 23.00s/it]"
     ]
    },
    {
     "name": "stdout",
     "output_type": "stream",
     "text": [
      "Processing data for material : WATER\n",
      "image_data shape is :  (2048, 2448)\n",
      "im90 shape is :  (1024, 1224)\n",
      "Stokes time:  0.03798055648803711 s\n",
      "im_stokes0 shape is :  (1024, 1224)\n",
      "DoLP time:  0.0499725341796875 s\n",
      "im_DOLP shape is :  (1024, 1224)\n",
      "Time for DOLP2Theta conversion is :  25.261651277542114 seconds\n",
      "False\n",
      "AoLP time:  0.04497385025024414 s\n"
     ]
    },
    {
     "name": "stderr",
     "output_type": "stream",
     "text": [
      "\r",
      " 54%|███████████████████████████████████████████▍                                    | 122/225 [47:11<41:13, 24.01s/it]"
     ]
    },
    {
     "name": "stdout",
     "output_type": "stream",
     "text": [
      "Processing data for material : WATER\n",
      "image_data shape is :  (2048, 2448)\n",
      "im90 shape is :  (1024, 1224)\n",
      "Stokes time:  0.025985002517700195 s\n",
      "im_stokes0 shape is :  (1024, 1224)\n",
      "DoLP time:  0.032981157302856445 s\n",
      "im_DOLP shape is :  (1024, 1224)\n",
      "Time for DOLP2Theta conversion is :  21.71350336074829 seconds\n",
      "False\n",
      "AoLP time:  0.041976213455200195 s\n"
     ]
    },
    {
     "name": "stderr",
     "output_type": "stream",
     "text": [
      "\r",
      " 55%|███████████████████████████████████████████▋                                    | 123/225 [47:33<40:01, 23.55s/it]"
     ]
    },
    {
     "name": "stdout",
     "output_type": "stream",
     "text": [
      "Processing data for material : WATER\n",
      "image_data shape is :  (2048, 2448)\n",
      "im90 shape is :  (1024, 1224)\n",
      "Stokes time:  0.025985002517700195 s\n",
      "im_stokes0 shape is :  (1024, 1224)\n",
      "DoLP time:  0.03298044204711914 s\n",
      "im_DOLP shape is :  (1024, 1224)\n",
      "Time for DOLP2Theta conversion is :  21.692702293395996 seconds\n",
      "False\n",
      "AoLP time:  0.057965755462646484 s\n"
     ]
    },
    {
     "name": "stderr",
     "output_type": "stream",
     "text": [
      "\r",
      " 55%|████████████████████████████████████████████                                    | 124/225 [47:56<39:05, 23.22s/it]"
     ]
    },
    {
     "name": "stdout",
     "output_type": "stream",
     "text": [
      "Processing data for material : WATER\n",
      "image_data shape is :  (2048, 2448)\n",
      "im90 shape is :  (1024, 1224)\n",
      "Stokes time:  0.023985862731933594 s\n",
      "im_stokes0 shape is :  (1024, 1224)\n",
      "DoLP time:  0.03697824478149414 s\n",
      "im_DOLP shape is :  (1024, 1224)\n",
      "Time for DOLP2Theta conversion is :  21.34720730781555 seconds\n",
      "False\n",
      "AoLP time:  0.04097723960876465 s\n"
     ]
    },
    {
     "name": "stderr",
     "output_type": "stream",
     "text": [
      "\r",
      " 56%|████████████████████████████████████████████▍                                   | 125/225 [48:18<38:05, 22.86s/it]"
     ]
    },
    {
     "name": "stdout",
     "output_type": "stream",
     "text": [
      "Processing data for material : WATER\n",
      "image_data shape is :  (2048, 2448)\n",
      "im90 shape is :  (1024, 1224)\n",
      "Stokes time:  0.027983427047729492 s\n",
      "im_stokes0 shape is :  (1024, 1224)\n",
      "DoLP time:  0.03298044204711914 s\n",
      "im_DOLP shape is :  (1024, 1224)\n",
      "Time for DOLP2Theta conversion is :  21.057881832122803 seconds\n",
      "False\n",
      "AoLP time:  0.04297757148742676 s\n"
     ]
    },
    {
     "name": "stderr",
     "output_type": "stream",
     "text": [
      "\r",
      " 56%|████████████████████████████████████████████▊                                   | 126/225 [48:40<37:09, 22.52s/it]"
     ]
    },
    {
     "name": "stdout",
     "output_type": "stream",
     "text": [
      "Processing data for material : WATER\n",
      "image_data shape is :  (2048, 2448)\n",
      "im90 shape is :  (1024, 1224)\n",
      "Stokes time:  0.026984691619873047 s\n",
      "im_stokes0 shape is :  (1024, 1224)\n",
      "DoLP time:  0.031983137130737305 s\n",
      "im_DOLP shape is :  (1024, 1224)\n",
      "Time for DOLP2Theta conversion is :  22.718905925750732 seconds\n",
      "False\n",
      "AoLP time:  0.041975975036621094 s\n"
     ]
    },
    {
     "name": "stderr",
     "output_type": "stream",
     "text": [
      "\r",
      " 56%|█████████████████████████████████████████████▏                                  | 127/225 [49:03<37:11, 22.77s/it]"
     ]
    },
    {
     "name": "stdout",
     "output_type": "stream",
     "text": [
      "Processing data for material : WATER\n",
      "image_data shape is :  (2048, 2448)\n",
      "im90 shape is :  (1024, 1224)\n",
      "Stokes time:  0.02698493003845215 s\n",
      "im_stokes0 shape is :  (1024, 1224)\n",
      "DoLP time:  0.03597903251647949 s\n",
      "im_DOLP shape is :  (1024, 1224)\n",
      "Time for DOLP2Theta conversion is :  22.345131397247314 seconds\n",
      "False\n",
      "AoLP time:  0.04397273063659668 s\n"
     ]
    },
    {
     "name": "stderr",
     "output_type": "stream",
     "text": [
      "\r",
      " 57%|█████████████████████████████████████████████▌                                  | 128/225 [49:26<36:58, 22.88s/it]"
     ]
    },
    {
     "name": "stdout",
     "output_type": "stream",
     "text": [
      "Processing data for material : WATER\n",
      "image_data shape is :  (2048, 2448)\n",
      "im90 shape is :  (1024, 1224)\n",
      "Stokes time:  0.024985313415527344 s\n",
      "im_stokes0 shape is :  (1024, 1224)\n",
      "DoLP time:  0.0319821834564209 s\n",
      "im_DOLP shape is :  (1024, 1224)\n",
      "Time for DOLP2Theta conversion is :  22.2881760597229 seconds\n",
      "False\n",
      "AoLP time:  0.042973995208740234 s\n"
     ]
    },
    {
     "name": "stderr",
     "output_type": "stream",
     "text": [
      "\r",
      " 57%|█████████████████████████████████████████████▊                                  | 129/225 [49:49<36:38, 22.90s/it]"
     ]
    },
    {
     "name": "stdout",
     "output_type": "stream",
     "text": [
      "Processing data for material : WATER\n",
      "image_data shape is :  (2048, 2448)\n",
      "im90 shape is :  (1024, 1224)\n",
      "Stokes time:  0.026983261108398438 s\n",
      "im_stokes0 shape is :  (1024, 1224)\n",
      "DoLP time:  0.03398013114929199 s\n",
      "im_DOLP shape is :  (1024, 1224)\n",
      "Time for DOLP2Theta conversion is :  22.704778909683228 seconds\n",
      "False\n",
      "AoLP time:  0.06396341323852539 s\n"
     ]
    },
    {
     "name": "stderr",
     "output_type": "stream",
     "text": [
      "\r",
      " 58%|██████████████████████████████████████████████▏                                 | 130/225 [50:13<36:41, 23.18s/it]"
     ]
    },
    {
     "name": "stdout",
     "output_type": "stream",
     "text": [
      "Processing data for material : WATER\n",
      "image_data shape is :  (2048, 2448)\n",
      "im90 shape is :  (1024, 1224)\n",
      "Stokes time:  0.029982805252075195 s\n",
      "im_stokes0 shape is :  (1024, 1224)\n",
      "DoLP time:  0.03997635841369629 s\n",
      "im_DOLP shape is :  (1024, 1224)\n",
      "Time for DOLP2Theta conversion is :  22.700253009796143 seconds\n",
      "False\n",
      "AoLP time:  0.04197502136230469 s\n"
     ]
    },
    {
     "name": "stderr",
     "output_type": "stream",
     "text": [
      "\r",
      " 58%|██████████████████████████████████████████████▌                                 | 131/225 [50:36<36:25, 23.25s/it]"
     ]
    },
    {
     "name": "stdout",
     "output_type": "stream",
     "text": [
      "Processing data for material : WATER\n",
      "image_data shape is :  (2048, 2448)\n",
      "im90 shape is :  (1024, 1224)\n",
      "Stokes time:  0.024985313415527344 s\n",
      "im_stokes0 shape is :  (1024, 1224)\n",
      "DoLP time:  0.0379786491394043 s\n",
      "im_DOLP shape is :  (1024, 1224)\n",
      "Time for DOLP2Theta conversion is :  22.56199598312378 seconds\n",
      "False\n",
      "AoLP time:  0.04097461700439453 s\n"
     ]
    },
    {
     "name": "stderr",
     "output_type": "stream",
     "text": [
      "\r",
      " 59%|██████████████████████████████████████████████▉                                 | 132/225 [51:00<36:03, 23.26s/it]"
     ]
    },
    {
     "name": "stdout",
     "output_type": "stream",
     "text": [
      "Processing data for material : WATER\n",
      "image_data shape is :  (2048, 2448)\n",
      "im90 shape is :  (1024, 1224)\n",
      "Stokes time:  0.0259854793548584 s\n",
      "im_stokes0 shape is :  (1024, 1224)\n",
      "DoLP time:  0.03298068046569824 s\n",
      "im_DOLP shape is :  (1024, 1224)\n",
      "Time for DOLP2Theta conversion is :  22.670931577682495 seconds\n",
      "False\n",
      "AoLP time:  0.037978410720825195 s\n"
     ]
    },
    {
     "name": "stderr",
     "output_type": "stream",
     "text": [
      "\r",
      " 59%|███████████████████████████████████████████████▎                                | 133/225 [51:23<35:43, 23.30s/it]"
     ]
    },
    {
     "name": "stdout",
     "output_type": "stream",
     "text": [
      "Processing data for material : WATER\n",
      "image_data shape is :  (2048, 2448)\n",
      "im90 shape is :  (1024, 1224)\n",
      "Stokes time:  0.024985313415527344 s\n",
      "im_stokes0 shape is :  (1024, 1224)\n",
      "DoLP time:  0.03697824478149414 s\n",
      "im_DOLP shape is :  (1024, 1224)\n",
      "Time for DOLP2Theta conversion is :  22.075275659561157 seconds\n",
      "False\n",
      "AoLP time:  0.04397439956665039 s\n"
     ]
    },
    {
     "name": "stderr",
     "output_type": "stream",
     "text": [
      "\r",
      " 60%|███████████████████████████████████████████████▋                                | 134/225 [51:46<35:05, 23.13s/it]"
     ]
    },
    {
     "name": "stdout",
     "output_type": "stream",
     "text": [
      "Processing data for material : WATER\n",
      "image_data shape is :  (2048, 2448)\n",
      "im90 shape is :  (1024, 1224)\n",
      "Stokes time:  0.025985240936279297 s\n",
      "im_stokes0 shape is :  (1024, 1224)\n",
      "DoLP time:  0.033980369567871094 s\n",
      "im_DOLP shape is :  (1024, 1224)\n",
      "Time for DOLP2Theta conversion is :  21.370135068893433 seconds\n",
      "False\n",
      "AoLP time:  0.04297518730163574 s\n"
     ]
    },
    {
     "name": "stderr",
     "output_type": "stream",
     "text": [
      "\r",
      " 60%|████████████████████████████████████████████████                                | 135/225 [52:08<34:16, 22.85s/it]"
     ]
    },
    {
     "name": "stdout",
     "output_type": "stream",
     "text": [
      "Processing data for material : WATER\n",
      "image_data shape is :  (2048, 2448)\n",
      "im90 shape is :  (1024, 1224)\n",
      "Stokes time:  0.02498650550842285 s\n",
      "im_stokes0 shape is :  (1024, 1224)\n",
      "DoLP time:  0.04197502136230469 s\n",
      "im_DOLP shape is :  (1024, 1224)\n",
      "Time for DOLP2Theta conversion is :  23.189956665039062 seconds\n",
      "False\n",
      "AoLP time:  0.042975425720214844 s\n"
     ]
    },
    {
     "name": "stderr",
     "output_type": "stream",
     "text": [
      "\r",
      " 60%|████████████████████████████████████████████████▎                               | 136/225 [52:32<34:32, 23.29s/it]"
     ]
    },
    {
     "name": "stdout",
     "output_type": "stream",
     "text": [
      "Processing data for material : WATER\n",
      "image_data shape is :  (2048, 2448)\n",
      "im90 shape is :  (1024, 1224)\n",
      "Stokes time:  0.023986339569091797 s\n",
      "im_stokes0 shape is :  (1024, 1224)\n",
      "DoLP time:  0.03298139572143555 s\n",
      "im_DOLP shape is :  (1024, 1224)\n",
      "Time for DOLP2Theta conversion is :  21.83641529083252 seconds\n",
      "False\n",
      "AoLP time:  0.03997516632080078 s\n"
     ]
    },
    {
     "name": "stderr",
     "output_type": "stream",
     "text": [
      "\r",
      " 61%|████████████████████████████████████████████████▋                               | 137/225 [52:55<33:48, 23.05s/it]"
     ]
    },
    {
     "name": "stdout",
     "output_type": "stream",
     "text": [
      "Processing data for material : WATER\n",
      "image_data shape is :  (2048, 2448)\n",
      "im90 shape is :  (1024, 1224)\n",
      "Stokes time:  0.02598404884338379 s\n",
      "im_stokes0 shape is :  (1024, 1224)\n",
      "DoLP time:  0.032980918884277344 s\n",
      "im_DOLP shape is :  (1024, 1224)\n",
      "Time for DOLP2Theta conversion is :  21.76745343208313 seconds\n",
      "False\n",
      "AoLP time:  0.03897666931152344 s\n"
     ]
    },
    {
     "name": "stderr",
     "output_type": "stream",
     "text": [
      "\r",
      " 61%|█████████████████████████████████████████████████                               | 138/225 [53:17<33:11, 22.89s/it]"
     ]
    },
    {
     "name": "stdout",
     "output_type": "stream",
     "text": [
      "Processing data for material : WATER\n",
      "image_data shape is :  (2048, 2448)\n",
      "im90 shape is :  (1024, 1224)\n",
      "Stokes time:  0.024985551834106445 s\n",
      "im_stokes0 shape is :  (1024, 1224)\n",
      "DoLP time:  0.03298139572143555 s\n",
      "im_DOLP shape is :  (1024, 1224)\n",
      "Time for DOLP2Theta conversion is :  21.938354969024658 seconds\n",
      "False\n",
      "AoLP time:  0.04497504234313965 s\n"
     ]
    },
    {
     "name": "stderr",
     "output_type": "stream",
     "text": [
      "\r",
      " 62%|█████████████████████████████████████████████████▍                              | 139/225 [53:40<32:41, 22.80s/it]"
     ]
    },
    {
     "name": "stdout",
     "output_type": "stream",
     "text": [
      "Processing data for material : WATER\n",
      "image_data shape is :  (2048, 2448)\n",
      "im90 shape is :  (1024, 1224)\n",
      "Stokes time:  0.024985551834106445 s\n",
      "im_stokes0 shape is :  (1024, 1224)\n",
      "DoLP time:  0.0339815616607666 s\n",
      "im_DOLP shape is :  (1024, 1224)\n",
      "Time for DOLP2Theta conversion is :  22.394253253936768 seconds\n",
      "False\n",
      "AoLP time:  0.04797220230102539 s\n"
     ]
    },
    {
     "name": "stderr",
     "output_type": "stream",
     "text": [
      "\r",
      " 62%|█████████████████████████████████████████████████▊                              | 140/225 [54:03<32:25, 22.89s/it]"
     ]
    },
    {
     "name": "stdout",
     "output_type": "stream",
     "text": [
      "Processing data for material : WATER\n",
      "image_data shape is :  (2048, 2448)\n",
      "im90 shape is :  (1024, 1224)\n",
      "Stokes time:  0.02698373794555664 s\n",
      "im_stokes0 shape is :  (1024, 1224)\n",
      "DoLP time:  0.034979820251464844 s\n",
      "im_DOLP shape is :  (1024, 1224)\n",
      "Time for DOLP2Theta conversion is :  22.20393395423889 seconds\n",
      "False\n",
      "AoLP time:  0.03997611999511719 s\n"
     ]
    },
    {
     "name": "stderr",
     "output_type": "stream",
     "text": [
      "\r",
      " 63%|██████████████████████████████████████████████████▏                             | 141/225 [54:26<32:02, 22.89s/it]"
     ]
    },
    {
     "name": "stdout",
     "output_type": "stream",
     "text": [
      "Processing data for material : WATER\n",
      "image_data shape is :  (2048, 2448)\n",
      "im90 shape is :  (1024, 1224)\n",
      "Stokes time:  0.02498316764831543 s\n",
      "im_stokes0 shape is :  (1024, 1224)\n",
      "DoLP time:  0.032980918884277344 s\n",
      "im_DOLP shape is :  (1024, 1224)\n",
      "Time for DOLP2Theta conversion is :  22.20519995689392 seconds\n",
      "False\n",
      "AoLP time:  0.04097700119018555 s\n"
     ]
    },
    {
     "name": "stderr",
     "output_type": "stream",
     "text": [
      "\r",
      " 63%|██████████████████████████████████████████████████▍                             | 142/225 [54:49<31:39, 22.89s/it]"
     ]
    },
    {
     "name": "stdout",
     "output_type": "stream",
     "text": [
      "Processing data for material : WATER\n",
      "image_data shape is :  (2048, 2448)\n",
      "im90 shape is :  (1024, 1224)\n",
      "Stokes time:  0.024985790252685547 s\n",
      "im_stokes0 shape is :  (1024, 1224)\n",
      "DoLP time:  0.035978078842163086 s\n",
      "im_DOLP shape is :  (1024, 1224)\n",
      "Time for DOLP2Theta conversion is :  21.793437957763672 seconds\n",
      "False\n",
      "AoLP time:  0.040976524353027344 s\n"
     ]
    },
    {
     "name": "stderr",
     "output_type": "stream",
     "text": [
      "\r",
      " 64%|██████████████████████████████████████████████████▊                             | 143/225 [55:11<31:06, 22.77s/it]"
     ]
    },
    {
     "name": "stdout",
     "output_type": "stream",
     "text": [
      "Processing data for material : WATER\n",
      "image_data shape is :  (2048, 2448)\n",
      "im90 shape is :  (1024, 1224)\n",
      "Stokes time:  0.026984214782714844 s\n",
      "im_stokes0 shape is :  (1024, 1224)\n",
      "DoLP time:  0.03697919845581055 s\n",
      "im_DOLP shape is :  (1024, 1224)\n",
      "Time for DOLP2Theta conversion is :  22.742891550064087 seconds\n",
      "False\n",
      "AoLP time:  0.05896639823913574 s\n"
     ]
    },
    {
     "name": "stderr",
     "output_type": "stream",
     "text": [
      "\r",
      " 64%|███████████████████████████████████████████████████▏                            | 144/225 [55:35<31:02, 22.99s/it]"
     ]
    },
    {
     "name": "stdout",
     "output_type": "stream",
     "text": [
      "Processing data for material : WATER\n",
      "image_data shape is :  (2048, 2448)\n",
      "im90 shape is :  (1024, 1224)\n",
      "Stokes time:  0.027982711791992188 s\n",
      "im_stokes0 shape is :  (1024, 1224)\n",
      "DoLP time:  0.03997659683227539 s\n",
      "im_DOLP shape is :  (1024, 1224)\n",
      "Time for DOLP2Theta conversion is :  22.485666513442993 seconds\n",
      "False\n",
      "AoLP time:  0.03997611999511719 s\n"
     ]
    },
    {
     "name": "stderr",
     "output_type": "stream",
     "text": [
      "\r",
      " 64%|███████████████████████████████████████████████████▌                            | 145/225 [55:58<30:44, 23.06s/it]"
     ]
    },
    {
     "name": "stdout",
     "output_type": "stream",
     "text": [
      "Processing data for material : WATER\n",
      "image_data shape is :  (2048, 2448)\n",
      "im90 shape is :  (1024, 1224)\n",
      "Stokes time:  0.026983976364135742 s\n",
      "im_stokes0 shape is :  (1024, 1224)\n",
      "DoLP time:  0.030980825424194336 s\n",
      "im_DOLP shape is :  (1024, 1224)\n",
      "Time for DOLP2Theta conversion is :  21.319216012954712 seconds\n",
      "False\n",
      "AoLP time:  0.039974212646484375 s\n"
     ]
    },
    {
     "name": "stderr",
     "output_type": "stream",
     "text": [
      "\r",
      " 65%|███████████████████████████████████████████████████▉                            | 146/225 [56:20<29:55, 22.73s/it]"
     ]
    },
    {
     "name": "stdout",
     "output_type": "stream",
     "text": [
      "Processing data for material : WATER\n",
      "image_data shape is :  (2048, 2448)\n",
      "im90 shape is :  (1024, 1224)\n",
      "Stokes time:  0.024985074996948242 s\n",
      "im_stokes0 shape is :  (1024, 1224)\n",
      "DoLP time:  0.0319819450378418 s\n",
      "im_DOLP shape is :  (1024, 1224)\n",
      "Time for DOLP2Theta conversion is :  21.62553572654724 seconds\n",
      "False\n",
      "AoLP time:  0.042978525161743164 s\n"
     ]
    },
    {
     "name": "stderr",
     "output_type": "stream",
     "text": [
      "\r",
      " 65%|████████████████████████████████████████████████████▎                           | 147/225 [56:42<29:22, 22.60s/it]"
     ]
    },
    {
     "name": "stdout",
     "output_type": "stream",
     "text": [
      "Processing data for material : WATER\n",
      "image_data shape is :  (2048, 2448)\n",
      "im90 shape is :  (1024, 1224)\n",
      "Stokes time:  0.024985790252685547 s\n",
      "im_stokes0 shape is :  (1024, 1224)\n",
      "DoLP time:  0.030982017517089844 s\n",
      "im_DOLP shape is :  (1024, 1224)\n",
      "Time for DOLP2Theta conversion is :  22.274179458618164 seconds\n",
      "False\n",
      "AoLP time:  0.04397320747375488 s\n"
     ]
    },
    {
     "name": "stderr",
     "output_type": "stream",
     "text": [
      "\r",
      " 66%|████████████████████████████████████████████████████▌                           | 148/225 [57:05<29:10, 22.73s/it]"
     ]
    },
    {
     "name": "stdout",
     "output_type": "stream",
     "text": [
      "Processing data for material : WATER\n",
      "image_data shape is :  (2048, 2448)\n",
      "im90 shape is :  (1024, 1224)\n",
      "Stokes time:  0.023985624313354492 s\n",
      "im_stokes0 shape is :  (1024, 1224)\n",
      "DoLP time:  0.03498029708862305 s\n",
      "im_DOLP shape is :  (1024, 1224)\n",
      "Time for DOLP2Theta conversion is :  21.562570810317993 seconds\n",
      "False\n",
      "AoLP time:  0.04097604751586914 s\n"
     ]
    },
    {
     "name": "stderr",
     "output_type": "stream",
     "text": [
      "\r",
      " 66%|████████████████████████████████████████████████████▉                           | 149/225 [57:27<28:36, 22.58s/it]"
     ]
    },
    {
     "name": "stdout",
     "output_type": "stream",
     "text": [
      "Processing data for material : WATER\n",
      "image_data shape is :  (2048, 2448)\n",
      "im90 shape is :  (1024, 1224)\n",
      "Stokes time:  0.02498483657836914 s\n",
      "im_stokes0 shape is :  (1024, 1224)\n",
      "DoLP time:  0.03497958183288574 s\n",
      "im_DOLP shape is :  (1024, 1224)\n",
      "Time for DOLP2Theta conversion is :  21.490156888961792 seconds\n",
      "False\n",
      "AoLP time:  0.03924226760864258 s\n"
     ]
    },
    {
     "name": "stderr",
     "output_type": "stream",
     "text": [
      "\r",
      " 67%|█████████████████████████████████████████████████████▎                          | 150/225 [57:50<28:05, 22.48s/it]"
     ]
    },
    {
     "name": "stdout",
     "output_type": "stream",
     "text": [
      "Processing data for material : WATER\n",
      "image_data shape is :  (2048, 2448)\n",
      "im90 shape is :  (1024, 1224)\n",
      "Stokes time:  0.024985313415527344 s\n",
      "im_stokes0 shape is :  (1024, 1224)\n",
      "DoLP time:  0.029982328414916992 s\n",
      "im_DOLP shape is :  (1024, 1224)\n",
      "Time for DOLP2Theta conversion is :  22.176862001419067 seconds\n",
      "False\n",
      "AoLP time:  0.03997683525085449 s\n"
     ]
    },
    {
     "name": "stderr",
     "output_type": "stream",
     "text": [
      "\r",
      " 67%|█████████████████████████████████████████████████████▋                          | 151/225 [58:12<27:51, 22.59s/it]"
     ]
    },
    {
     "name": "stdout",
     "output_type": "stream",
     "text": [
      "Processing data for material : WATER\n",
      "image_data shape is :  (2048, 2448)\n",
      "im90 shape is :  (1024, 1224)\n",
      "Stokes time:  0.02498650550842285 s\n",
      "im_stokes0 shape is :  (1024, 1224)\n",
      "DoLP time:  0.03597855567932129 s\n",
      "im_DOLP shape is :  (1024, 1224)\n",
      "Time for DOLP2Theta conversion is :  21.556612014770508 seconds\n",
      "False\n",
      "AoLP time:  0.04397392272949219 s\n"
     ]
    },
    {
     "name": "stderr",
     "output_type": "stream",
     "text": [
      "\r",
      " 68%|██████████████████████████████████████████████████████                          | 152/225 [58:35<27:21, 22.49s/it]"
     ]
    },
    {
     "name": "stdout",
     "output_type": "stream",
     "text": [
      "Processing data for material : WATER\n",
      "image_data shape is :  (2048, 2448)\n",
      "im90 shape is :  (1024, 1224)\n",
      "Stokes time:  0.025985240936279297 s\n",
      "im_stokes0 shape is :  (1024, 1224)\n",
      "DoLP time:  0.035978078842163086 s\n",
      "im_DOLP shape is :  (1024, 1224)\n",
      "Time for DOLP2Theta conversion is :  21.11182975769043 seconds\n",
      "False\n",
      "AoLP time:  0.04297447204589844 s\n"
     ]
    },
    {
     "name": "stderr",
     "output_type": "stream",
     "text": [
      "\r",
      " 68%|██████████████████████████████████████████████████████▍                         | 153/225 [58:57<26:44, 22.29s/it]"
     ]
    },
    {
     "name": "stdout",
     "output_type": "stream",
     "text": [
      "Processing data for material : WATER\n",
      "image_data shape is :  (2048, 2448)\n",
      "im90 shape is :  (1024, 1224)\n",
      "Stokes time:  0.023986339569091797 s\n",
      "im_stokes0 shape is :  (1024, 1224)\n",
      "DoLP time:  0.032980918884277344 s\n",
      "im_DOLP shape is :  (1024, 1224)\n",
      "Time for DOLP2Theta conversion is :  21.658517122268677 seconds\n",
      "False\n",
      "AoLP time:  0.04097437858581543 s\n"
     ]
    },
    {
     "name": "stderr",
     "output_type": "stream",
     "text": [
      "\r",
      " 68%|██████████████████████████████████████████████████████▊                         | 154/225 [59:19<26:23, 22.30s/it]"
     ]
    },
    {
     "name": "stdout",
     "output_type": "stream",
     "text": [
      "Processing data for material : WATER\n",
      "image_data shape is :  (2048, 2448)\n",
      "im90 shape is :  (1024, 1224)\n",
      "Stokes time:  0.025984764099121094 s\n",
      "im_stokes0 shape is :  (1024, 1224)\n",
      "DoLP time:  0.03397965431213379 s\n",
      "im_DOLP shape is :  (1024, 1224)\n",
      "Time for DOLP2Theta conversion is :  21.451634645462036 seconds\n",
      "False\n",
      "AoLP time:  0.042975664138793945 s\n"
     ]
    },
    {
     "name": "stderr",
     "output_type": "stream",
     "text": [
      "\r",
      " 69%|███████████████████████████████████████████████████████                         | 155/225 [59:41<25:57, 22.25s/it]"
     ]
    },
    {
     "name": "stdout",
     "output_type": "stream",
     "text": [
      "Processing data for material : WATER\n",
      "image_data shape is :  (2048, 2448)\n",
      "im90 shape is :  (1024, 1224)\n",
      "Stokes time:  0.025984525680541992 s\n",
      "im_stokes0 shape is :  (1024, 1224)\n",
      "DoLP time:  0.03198122978210449 s\n",
      "im_DOLP shape is :  (1024, 1224)\n",
      "Time for DOLP2Theta conversion is :  21.848013639450073 seconds\n",
      "False\n",
      "AoLP time:  0.04297590255737305 s\n"
     ]
    },
    {
     "name": "stderr",
     "output_type": "stream",
     "text": [
      "\r",
      " 69%|██████████████████████████████████████████████████████                        | 156/225 [1:00:04<25:41, 22.34s/it]"
     ]
    },
    {
     "name": "stdout",
     "output_type": "stream",
     "text": [
      "Processing data for material : WATER\n",
      "image_data shape is :  (2048, 2448)\n",
      "im90 shape is :  (1024, 1224)\n",
      "Stokes time:  0.025985002517700195 s\n",
      "im_stokes0 shape is :  (1024, 1224)\n",
      "DoLP time:  0.03298068046569824 s\n",
      "im_DOLP shape is :  (1024, 1224)\n",
      "Time for DOLP2Theta conversion is :  21.551084280014038 seconds\n",
      "False\n",
      "AoLP time:  0.04097771644592285 s\n"
     ]
    },
    {
     "name": "stderr",
     "output_type": "stream",
     "text": [
      "\r",
      " 70%|██████████████████████████████████████████████████████▍                       | 157/225 [1:00:26<25:16, 22.30s/it]"
     ]
    },
    {
     "name": "stdout",
     "output_type": "stream",
     "text": [
      "Processing data for material : WATER\n",
      "image_data shape is :  (2048, 2448)\n",
      "im90 shape is :  (1024, 1224)\n",
      "Stokes time:  0.026984691619873047 s\n",
      "im_stokes0 shape is :  (1024, 1224)\n",
      "DoLP time:  0.03198051452636719 s\n",
      "im_DOLP shape is :  (1024, 1224)\n",
      "Time for DOLP2Theta conversion is :  21.139814615249634 seconds\n",
      "False\n",
      "AoLP time:  0.04297590255737305 s\n"
     ]
    },
    {
     "name": "stderr",
     "output_type": "stream",
     "text": [
      "\r",
      " 70%|██████████████████████████████████████████████████████▊                       | 158/225 [1:00:48<24:44, 22.16s/it]"
     ]
    },
    {
     "name": "stdout",
     "output_type": "stream",
     "text": [
      "Processing data for material : WATER\n",
      "image_data shape is :  (2048, 2448)\n",
      "im90 shape is :  (1024, 1224)\n",
      "Stokes time:  0.027983665466308594 s\n",
      "im_stokes0 shape is :  (1024, 1224)\n",
      "DoLP time:  0.03298068046569824 s\n",
      "im_DOLP shape is :  (1024, 1224)\n",
      "Time for DOLP2Theta conversion is :  21.065857648849487 seconds\n",
      "False\n",
      "AoLP time:  0.03997611999511719 s\n"
     ]
    },
    {
     "name": "stderr",
     "output_type": "stream",
     "text": [
      "\r",
      " 71%|███████████████████████████████████████████████████████                       | 159/225 [1:01:09<24:14, 22.04s/it]"
     ]
    },
    {
     "name": "stdout",
     "output_type": "stream",
     "text": [
      "Processing data for material : WATER\n",
      "image_data shape is :  (2048, 2448)\n",
      "im90 shape is :  (1024, 1224)\n",
      "Stokes time:  0.023986101150512695 s\n",
      "im_stokes0 shape is :  (1024, 1224)\n",
      "DoLP time:  0.036978721618652344 s\n",
      "im_DOLP shape is :  (1024, 1224)\n",
      "Time for DOLP2Theta conversion is :  22.26716637611389 seconds\n",
      "False\n",
      "AoLP time:  0.04097604751586914 s\n"
     ]
    },
    {
     "name": "stderr",
     "output_type": "stream",
     "text": [
      "\r",
      " 71%|███████████████████████████████████████████████████████▍                      | 160/225 [1:01:32<24:10, 22.32s/it]"
     ]
    },
    {
     "name": "stdout",
     "output_type": "stream",
     "text": [
      "Processing data for material : WATER\n",
      "image_data shape is :  (2048, 2448)\n",
      "im90 shape is :  (1024, 1224)\n",
      "Stokes time:  0.023984909057617188 s\n",
      "im_stokes0 shape is :  (1024, 1224)\n",
      "DoLP time:  0.03897690773010254 s\n",
      "im_DOLP shape is :  (1024, 1224)\n",
      "Time for DOLP2Theta conversion is :  21.42625665664673 seconds\n",
      "False\n",
      "AoLP time:  0.04397463798522949 s\n"
     ]
    },
    {
     "name": "stderr",
     "output_type": "stream",
     "text": [
      "\r",
      " 72%|███████████████████████████████████████████████████████▊                      | 161/225 [1:01:54<23:45, 22.28s/it]"
     ]
    },
    {
     "name": "stdout",
     "output_type": "stream",
     "text": [
      "Processing data for material : WATER\n",
      "image_data shape is :  (2048, 2448)\n",
      "im90 shape is :  (1024, 1224)\n",
      "Stokes time:  0.027984142303466797 s\n",
      "im_stokes0 shape is :  (1024, 1224)\n",
      "DoLP time:  0.03397989273071289 s\n",
      "im_DOLP shape is :  (1024, 1224)\n",
      "Time for DOLP2Theta conversion is :  21.618127822875977 seconds\n",
      "False\n",
      "AoLP time:  0.03997635841369629 s\n"
     ]
    },
    {
     "name": "stderr",
     "output_type": "stream",
     "text": [
      "\r",
      " 72%|████████████████████████████████████████████████████████▏                     | 162/225 [1:02:17<23:24, 22.29s/it]"
     ]
    },
    {
     "name": "stdout",
     "output_type": "stream",
     "text": [
      "Processing data for material : WATER\n",
      "image_data shape is :  (2048, 2448)\n",
      "im90 shape is :  (1024, 1224)\n",
      "Stokes time:  0.024985074996948242 s\n",
      "im_stokes0 shape is :  (1024, 1224)\n",
      "DoLP time:  0.03498077392578125 s\n",
      "im_DOLP shape is :  (1024, 1224)\n",
      "Time for DOLP2Theta conversion is :  21.29672336578369 seconds\n",
      "False\n",
      "AoLP time:  0.03897881507873535 s\n"
     ]
    },
    {
     "name": "stderr",
     "output_type": "stream",
     "text": [
      "\r",
      " 72%|████████████████████████████████████████████████████████▌                     | 163/225 [1:02:39<22:54, 22.18s/it]"
     ]
    },
    {
     "name": "stdout",
     "output_type": "stream",
     "text": [
      "Processing data for material : WATER\n",
      "image_data shape is :  (2048, 2448)\n",
      "im90 shape is :  (1024, 1224)\n",
      "Stokes time:  0.025984525680541992 s\n",
      "im_stokes0 shape is :  (1024, 1224)\n",
      "DoLP time:  0.03497958183288574 s\n",
      "im_DOLP shape is :  (1024, 1224)\n",
      "Time for DOLP2Theta conversion is :  21.558573246002197 seconds\n",
      "False\n",
      "AoLP time:  0.04097700119018555 s\n"
     ]
    },
    {
     "name": "stderr",
     "output_type": "stream",
     "text": [
      "\r",
      " 73%|████████████████████████████████████████████████████████▊                     | 164/225 [1:03:01<22:33, 22.19s/it]"
     ]
    },
    {
     "name": "stdout",
     "output_type": "stream",
     "text": [
      "Processing data for material : WATER\n",
      "image_data shape is :  (2048, 2448)\n",
      "im90 shape is :  (1024, 1224)\n",
      "Stokes time:  0.025985002517700195 s\n",
      "im_stokes0 shape is :  (1024, 1224)\n",
      "DoLP time:  0.037976980209350586 s\n",
      "im_DOLP shape is :  (1024, 1224)\n",
      "Time for DOLP2Theta conversion is :  21.91636896133423 seconds\n",
      "False\n",
      "AoLP time:  0.04597353935241699 s\n"
     ]
    },
    {
     "name": "stderr",
     "output_type": "stream",
     "text": [
      "\r",
      " 73%|█████████████████████████████████████████████████████████▏                    | 165/225 [1:03:24<22:18, 22.31s/it]"
     ]
    },
    {
     "name": "stdout",
     "output_type": "stream",
     "text": [
      "Processing data for material : WATER\n",
      "image_data shape is :  (2048, 2448)\n",
      "im90 shape is :  (1024, 1224)\n",
      "Stokes time:  0.025984525680541992 s\n",
      "im_stokes0 shape is :  (1024, 1224)\n",
      "DoLP time:  0.035979509353637695 s\n",
      "im_DOLP shape is :  (1024, 1224)\n",
      "Time for DOLP2Theta conversion is :  22.494348287582397 seconds\n",
      "False\n",
      "AoLP time:  0.04097414016723633 s\n"
     ]
    },
    {
     "name": "stderr",
     "output_type": "stream",
     "text": [
      "\r",
      " 74%|█████████████████████████████████████████████████████████▌                    | 166/225 [1:03:47<22:12, 22.59s/it]"
     ]
    },
    {
     "name": "stdout",
     "output_type": "stream",
     "text": [
      "Processing data for material : WATER\n",
      "image_data shape is :  (2048, 2448)\n",
      "im90 shape is :  (1024, 1224)\n",
      "Stokes time:  0.025984764099121094 s\n",
      "im_stokes0 shape is :  (1024, 1224)\n",
      "DoLP time:  0.03098297119140625 s\n",
      "im_DOLP shape is :  (1024, 1224)\n",
      "Time for DOLP2Theta conversion is :  24.60050678253174 seconds\n",
      "False\n",
      "AoLP time:  0.04297471046447754 s\n"
     ]
    },
    {
     "name": "stderr",
     "output_type": "stream",
     "text": [
      "\r",
      " 74%|█████████████████████████████████████████████████████████▉                    | 167/225 [1:04:12<22:42, 23.49s/it]"
     ]
    },
    {
     "name": "stdout",
     "output_type": "stream",
     "text": [
      "Processing data for material : WATER\n",
      "image_data shape is :  (2048, 2448)\n",
      "im90 shape is :  (1024, 1224)\n",
      "Stokes time:  0.024985551834106445 s\n",
      "im_stokes0 shape is :  (1024, 1224)\n",
      "DoLP time:  0.03198051452636719 s\n",
      "im_DOLP shape is :  (1024, 1224)\n",
      "Time for DOLP2Theta conversion is :  21.245265007019043 seconds\n",
      "False\n",
      "AoLP time:  0.03996753692626953 s\n"
     ]
    },
    {
     "name": "stderr",
     "output_type": "stream",
     "text": [
      "\r",
      " 75%|██████████████████████████████████████████████████████████▏                   | 168/225 [1:04:34<21:52, 23.02s/it]"
     ]
    },
    {
     "name": "stdout",
     "output_type": "stream",
     "text": [
      "Processing data for material : WATER\n",
      "image_data shape is :  (2048, 2448)\n",
      "im90 shape is :  (1024, 1224)\n",
      "Stokes time:  0.026984453201293945 s\n",
      "im_stokes0 shape is :  (1024, 1224)\n",
      "DoLP time:  0.03497934341430664 s\n",
      "im_DOLP shape is :  (1024, 1224)\n",
      "Time for DOLP2Theta conversion is :  21.503605842590332 seconds\n",
      "False\n",
      "AoLP time:  0.041975975036621094 s\n"
     ]
    },
    {
     "name": "stderr",
     "output_type": "stream",
     "text": [
      "\r",
      " 75%|██████████████████████████████████████████████████████████▌                   | 169/225 [1:04:56<21:15, 22.78s/it]"
     ]
    },
    {
     "name": "stdout",
     "output_type": "stream",
     "text": [
      "Processing data for material : WATER\n",
      "image_data shape is :  (2048, 2448)\n",
      "im90 shape is :  (1024, 1224)\n",
      "Stokes time:  0.026985645294189453 s\n",
      "im_stokes0 shape is :  (1024, 1224)\n",
      "DoLP time:  0.03397965431213379 s\n",
      "im_DOLP shape is :  (1024, 1224)\n",
      "Time for DOLP2Theta conversion is :  24.20959782600403 seconds\n",
      "False\n",
      "AoLP time:  0.04297471046447754 s\n"
     ]
    },
    {
     "name": "stderr",
     "output_type": "stream",
     "text": [
      "\r",
      " 76%|██████████████████████████████████████████████████████████▉                   | 170/225 [1:05:22<21:35, 23.55s/it]"
     ]
    },
    {
     "name": "stdout",
     "output_type": "stream",
     "text": [
      "Processing data for material : WATER\n",
      "image_data shape is :  (2048, 2448)\n",
      "im90 shape is :  (1024, 1224)\n",
      "Stokes time:  0.025984764099121094 s\n",
      "im_stokes0 shape is :  (1024, 1224)\n",
      "DoLP time:  0.03497934341430664 s\n",
      "im_DOLP shape is :  (1024, 1224)\n",
      "Time for DOLP2Theta conversion is :  22.213196992874146 seconds\n",
      "False\n",
      "AoLP time:  0.04397416114807129 s\n"
     ]
    },
    {
     "name": "stderr",
     "output_type": "stream",
     "text": [
      "\r",
      " 76%|███████████████████████████████████████████████████████████▎                  | 171/225 [1:05:45<21:03, 23.39s/it]"
     ]
    },
    {
     "name": "stdout",
     "output_type": "stream",
     "text": [
      "Processing data for material : WATER\n",
      "image_data shape is :  (2048, 2448)\n",
      "im90 shape is :  (1024, 1224)\n",
      "Stokes time:  0.025985240936279297 s\n",
      "im_stokes0 shape is :  (1024, 1224)\n",
      "DoLP time:  0.03497910499572754 s\n",
      "im_DOLP shape is :  (1024, 1224)\n",
      "Time for DOLP2Theta conversion is :  22.882810592651367 seconds\n",
      "False\n",
      "AoLP time:  0.041974782943725586 s\n"
     ]
    },
    {
     "name": "stderr",
     "output_type": "stream",
     "text": [
      "\r",
      " 76%|███████████████████████████████████████████████████████████▋                  | 172/225 [1:06:08<20:42, 23.45s/it]"
     ]
    },
    {
     "name": "stdout",
     "output_type": "stream",
     "text": [
      "Processing data for material : WATER\n",
      "image_data shape is :  (2048, 2448)\n",
      "im90 shape is :  (1024, 1224)\n",
      "Stokes time:  0.025985240936279297 s\n",
      "im_stokes0 shape is :  (1024, 1224)\n",
      "DoLP time:  0.032981157302856445 s\n",
      "im_DOLP shape is :  (1024, 1224)\n",
      "Time for DOLP2Theta conversion is :  21.858402252197266 seconds\n",
      "False\n",
      "AoLP time:  0.038977861404418945 s\n"
     ]
    },
    {
     "name": "stderr",
     "output_type": "stream",
     "text": [
      "\r",
      " 77%|███████████████████████████████████████████████████████████▉                  | 173/225 [1:06:31<20:03, 23.15s/it]"
     ]
    },
    {
     "name": "stdout",
     "output_type": "stream",
     "text": [
      "Processing data for material : WATER\n",
      "image_data shape is :  (2048, 2448)\n",
      "im90 shape is :  (1024, 1224)\n",
      "Stokes time:  0.025984525680541992 s\n",
      "im_stokes0 shape is :  (1024, 1224)\n",
      "DoLP time:  0.03498053550720215 s\n",
      "im_DOLP shape is :  (1024, 1224)\n",
      "Time for DOLP2Theta conversion is :  21.30871868133545 seconds\n",
      "False\n",
      "AoLP time:  0.0399775505065918 s\n"
     ]
    },
    {
     "name": "stderr",
     "output_type": "stream",
     "text": [
      "\r",
      " 77%|████████████████████████████████████████████████████████████▎                 | 174/225 [1:06:53<19:21, 22.78s/it]"
     ]
    },
    {
     "name": "stdout",
     "output_type": "stream",
     "text": [
      "Processing data for material : WATER\n",
      "image_data shape is :  (2048, 2448)\n",
      "im90 shape is :  (1024, 1224)\n",
      "Stokes time:  0.024985313415527344 s\n",
      "im_stokes0 shape is :  (1024, 1224)\n",
      "DoLP time:  0.03298044204711914 s\n",
      "im_DOLP shape is :  (1024, 1224)\n",
      "Time for DOLP2Theta conversion is :  20.72407341003418 seconds\n",
      "False\n",
      "AoLP time:  0.040975332260131836 s\n"
     ]
    },
    {
     "name": "stderr",
     "output_type": "stream",
     "text": [
      "\r",
      " 78%|████████████████████████████████████████████████████████████▋                 | 175/225 [1:07:14<18:38, 22.36s/it]"
     ]
    },
    {
     "name": "stdout",
     "output_type": "stream",
     "text": [
      "Processing data for material : WATER\n",
      "image_data shape is :  (2048, 2448)\n",
      "im90 shape is :  (1024, 1224)\n",
      "Stokes time:  0.026984214782714844 s\n",
      "im_stokes0 shape is :  (1024, 1224)\n",
      "DoLP time:  0.03597903251647949 s\n",
      "im_DOLP shape is :  (1024, 1224)\n",
      "Time for DOLP2Theta conversion is :  21.231761932373047 seconds\n",
      "False\n",
      "AoLP time:  0.04397392272949219 s\n"
     ]
    },
    {
     "name": "stderr",
     "output_type": "stream",
     "text": [
      "\r",
      " 78%|█████████████████████████████████████████████████████████████                 | 176/225 [1:07:36<18:08, 22.22s/it]"
     ]
    },
    {
     "name": "stdout",
     "output_type": "stream",
     "text": [
      "Processing data for material : WATER\n",
      "image_data shape is :  (2048, 2448)\n",
      "im90 shape is :  (1024, 1224)\n",
      "Stokes time:  0.025985240936279297 s\n",
      "im_stokes0 shape is :  (1024, 1224)\n",
      "DoLP time:  0.034980058670043945 s\n",
      "im_DOLP shape is :  (1024, 1224)\n",
      "Time for DOLP2Theta conversion is :  22.272161960601807 seconds\n",
      "False\n",
      "AoLP time:  0.04497408866882324 s\n"
     ]
    },
    {
     "name": "stderr",
     "output_type": "stream",
     "text": [
      "\r",
      " 79%|█████████████████████████████████████████████████████████████▎                | 177/225 [1:07:59<17:56, 22.43s/it]"
     ]
    },
    {
     "name": "stdout",
     "output_type": "stream",
     "text": [
      "Processing data for material : WATER\n",
      "image_data shape is :  (2048, 2448)\n",
      "im90 shape is :  (1024, 1224)\n",
      "Stokes time:  0.02698373794555664 s\n",
      "im_stokes0 shape is :  (1024, 1224)\n",
      "DoLP time:  0.035978078842163086 s\n",
      "im_DOLP shape is :  (1024, 1224)\n",
      "Time for DOLP2Theta conversion is :  21.560572624206543 seconds\n",
      "False\n",
      "AoLP time:  0.03897595405578613 s\n"
     ]
    },
    {
     "name": "stderr",
     "output_type": "stream",
     "text": [
      "\r",
      " 79%|█████████████████████████████████████████████████████████████▋                | 178/225 [1:08:21<17:31, 22.36s/it]"
     ]
    },
    {
     "name": "stdout",
     "output_type": "stream",
     "text": [
      "Processing data for material : WATER\n",
      "image_data shape is :  (2048, 2448)\n",
      "im90 shape is :  (1024, 1224)\n",
      "Stokes time:  0.024985313415527344 s\n",
      "im_stokes0 shape is :  (1024, 1224)\n",
      "DoLP time:  0.034979820251464844 s\n",
      "im_DOLP shape is :  (1024, 1224)\n",
      "Time for DOLP2Theta conversion is :  22.204201459884644 seconds\n",
      "False\n",
      "AoLP time:  0.0399777889251709 s\n"
     ]
    },
    {
     "name": "stderr",
     "output_type": "stream",
     "text": [
      "\r",
      " 80%|██████████████████████████████████████████████████████████████                | 179/225 [1:08:44<17:16, 22.53s/it]"
     ]
    },
    {
     "name": "stdout",
     "output_type": "stream",
     "text": [
      "Processing data for material : WATER\n",
      "image_data shape is :  (2048, 2448)\n",
      "im90 shape is :  (1024, 1224)\n",
      "Stokes time:  0.022986412048339844 s\n",
      "im_stokes0 shape is :  (1024, 1224)\n",
      "DoLP time:  0.03297996520996094 s\n",
      "im_DOLP shape is :  (1024, 1224)\n",
      "Time for DOLP2Theta conversion is :  20.92194104194641 seconds\n",
      "False\n",
      "AoLP time:  0.04197525978088379 s\n"
     ]
    },
    {
     "name": "stderr",
     "output_type": "stream",
     "text": [
      "\r",
      " 80%|██████████████████████████████████████████████████████████████▍               | 180/225 [1:09:06<16:41, 22.26s/it]"
     ]
    },
    {
     "name": "stdout",
     "output_type": "stream",
     "text": [
      "Processing data for material : WATER\n",
      "image_data shape is :  (2048, 2448)\n",
      "im90 shape is :  (1024, 1224)\n",
      "Stokes time:  0.02498626708984375 s\n",
      "im_stokes0 shape is :  (1024, 1224)\n",
      "DoLP time:  0.0379786491394043 s\n",
      "im_DOLP shape is :  (1024, 1224)\n",
      "Time for DOLP2Theta conversion is :  21.5755832195282 seconds\n",
      "False\n",
      "AoLP time:  0.04093360900878906 s\n"
     ]
    },
    {
     "name": "stderr",
     "output_type": "stream",
     "text": [
      "\r",
      " 80%|██████████████████████████████████████████████████████████████▋               | 181/225 [1:09:28<16:19, 22.26s/it]"
     ]
    },
    {
     "name": "stdout",
     "output_type": "stream",
     "text": [
      "Processing data for material : WATER\n",
      "image_data shape is :  (2048, 2448)\n",
      "im90 shape is :  (1024, 1224)\n",
      "Stokes time:  0.025984525680541992 s\n",
      "im_stokes0 shape is :  (1024, 1224)\n",
      "DoLP time:  0.03597903251647949 s\n",
      "im_DOLP shape is :  (1024, 1224)\n",
      "Time for DOLP2Theta conversion is :  22.28015971183777 seconds\n",
      "False\n",
      "AoLP time:  0.04897117614746094 s\n"
     ]
    },
    {
     "name": "stderr",
     "output_type": "stream",
     "text": [
      "\r",
      " 81%|███████████████████████████████████████████████████████████████               | 182/225 [1:09:51<16:06, 22.48s/it]"
     ]
    },
    {
     "name": "stdout",
     "output_type": "stream",
     "text": [
      "Processing data for material : WATER\n",
      "image_data shape is :  (2048, 2448)\n",
      "im90 shape is :  (1024, 1224)\n",
      "Stokes time:  0.02798318862915039 s\n",
      "im_stokes0 shape is :  (1024, 1224)\n",
      "DoLP time:  0.03797793388366699 s\n",
      "im_DOLP shape is :  (1024, 1224)\n",
      "Time for DOLP2Theta conversion is :  21.113829612731934 seconds\n",
      "False\n",
      "AoLP time:  0.051970720291137695 s\n"
     ]
    },
    {
     "name": "stderr",
     "output_type": "stream",
     "text": [
      "\r",
      " 81%|███████████████████████████████████████████████████████████████▍              | 183/225 [1:10:13<15:35, 22.26s/it]"
     ]
    },
    {
     "name": "stdout",
     "output_type": "stream",
     "text": [
      "Processing data for material : WATER\n",
      "image_data shape is :  (2048, 2448)\n",
      "im90 shape is :  (1024, 1224)\n",
      "Stokes time:  0.02698373794555664 s\n",
      "im_stokes0 shape is :  (1024, 1224)\n",
      "DoLP time:  0.030981063842773438 s\n",
      "im_DOLP shape is :  (1024, 1224)\n",
      "Time for DOLP2Theta conversion is :  21.035874366760254 seconds\n",
      "False\n",
      "AoLP time:  0.038977861404418945 s\n"
     ]
    },
    {
     "name": "stderr",
     "output_type": "stream",
     "text": [
      "\r",
      " 82%|███████████████████████████████████████████████████████████████▊              | 184/225 [1:10:35<15:06, 22.11s/it]"
     ]
    },
    {
     "name": "stdout",
     "output_type": "stream",
     "text": [
      "Processing data for material : WATER\n",
      "image_data shape is :  (2048, 2448)\n",
      "im90 shape is :  (1024, 1224)\n",
      "Stokes time:  0.02698493003845215 s\n",
      "im_stokes0 shape is :  (1024, 1224)\n",
      "DoLP time:  0.03397965431213379 s\n",
      "im_DOLP shape is :  (1024, 1224)\n",
      "Time for DOLP2Theta conversion is :  21.444639205932617 seconds\n",
      "False\n",
      "AoLP time:  0.04097628593444824 s\n"
     ]
    },
    {
     "name": "stderr",
     "output_type": "stream",
     "text": [
      "\r",
      " 82%|████████████████████████████████████████████████████████████████▏             | 185/225 [1:10:57<14:44, 22.11s/it]"
     ]
    },
    {
     "name": "stdout",
     "output_type": "stream",
     "text": [
      "Processing data for material : WATER\n",
      "image_data shape is :  (2048, 2448)\n",
      "im90 shape is :  (1024, 1224)\n",
      "Stokes time:  0.023985624313354492 s\n",
      "im_stokes0 shape is :  (1024, 1224)\n",
      "DoLP time:  0.0339808464050293 s\n",
      "im_DOLP shape is :  (1024, 1224)\n",
      "Time for DOLP2Theta conversion is :  21.279734134674072 seconds\n",
      "False\n",
      "AoLP time:  0.03996896743774414 s\n"
     ]
    },
    {
     "name": "stderr",
     "output_type": "stream",
     "text": [
      "\r",
      " 83%|████████████████████████████████████████████████████████████████▍             | 186/225 [1:11:19<14:21, 22.08s/it]"
     ]
    },
    {
     "name": "stdout",
     "output_type": "stream",
     "text": [
      "Processing data for material : WATER\n",
      "image_data shape is :  (2048, 2448)\n",
      "im90 shape is :  (1024, 1224)\n",
      "Stokes time:  0.024985313415527344 s\n",
      "im_stokes0 shape is :  (1024, 1224)\n",
      "DoLP time:  0.037976980209350586 s\n",
      "im_DOLP shape is :  (1024, 1224)\n",
      "Time for DOLP2Theta conversion is :  21.8114275932312 seconds\n",
      "False\n",
      "AoLP time:  0.04397463798522949 s\n"
     ]
    },
    {
     "name": "stderr",
     "output_type": "stream",
     "text": [
      "\r",
      " 83%|████████████████████████████████████████████████████████████████▊             | 187/225 [1:11:41<14:04, 22.21s/it]"
     ]
    },
    {
     "name": "stdout",
     "output_type": "stream",
     "text": [
      "Processing data for material : WATER\n",
      "image_data shape is :  (2048, 2448)\n",
      "im90 shape is :  (1024, 1224)\n",
      "Stokes time:  0.023986339569091797 s\n",
      "im_stokes0 shape is :  (1024, 1224)\n",
      "DoLP time:  0.03398013114929199 s\n",
      "im_DOLP shape is :  (1024, 1224)\n",
      "Time for DOLP2Theta conversion is :  22.136240243911743 seconds\n",
      "False\n",
      "AoLP time:  0.04297518730163574 s\n"
     ]
    },
    {
     "name": "stderr",
     "output_type": "stream",
     "text": [
      "\r",
      " 84%|█████████████████████████████████████████████████████████████████▏            | 188/225 [1:12:04<13:48, 22.40s/it]"
     ]
    },
    {
     "name": "stdout",
     "output_type": "stream",
     "text": [
      "Processing data for material : WATER\n",
      "image_data shape is :  (2048, 2448)\n",
      "im90 shape is :  (1024, 1224)\n",
      "Stokes time:  0.024985313415527344 s\n",
      "im_stokes0 shape is :  (1024, 1224)\n",
      "DoLP time:  0.035978078842163086 s\n",
      "im_DOLP shape is :  (1024, 1224)\n",
      "Time for DOLP2Theta conversion is :  21.804433584213257 seconds\n",
      "False\n",
      "AoLP time:  0.04297518730163574 s\n"
     ]
    },
    {
     "name": "stderr",
     "output_type": "stream",
     "text": [
      "\r",
      " 84%|█████████████████████████████████████████████████████████████████▌            | 189/225 [1:12:27<13:27, 22.44s/it]"
     ]
    },
    {
     "name": "stdout",
     "output_type": "stream",
     "text": [
      "Processing data for material : WATER\n",
      "image_data shape is :  (2048, 2448)\n",
      "im90 shape is :  (1024, 1224)\n",
      "Stokes time:  0.023985624313354492 s\n",
      "im_stokes0 shape is :  (1024, 1224)\n",
      "DoLP time:  0.031981468200683594 s\n",
      "im_DOLP shape is :  (1024, 1224)\n",
      "Time for DOLP2Theta conversion is :  21.474624156951904 seconds\n",
      "False\n",
      "AoLP time:  0.04297494888305664 s\n"
     ]
    },
    {
     "name": "stderr",
     "output_type": "stream",
     "text": [
      "\r",
      " 84%|█████████████████████████████████████████████████████████████████▊            | 190/225 [1:12:49<13:02, 22.35s/it]"
     ]
    },
    {
     "name": "stdout",
     "output_type": "stream",
     "text": [
      "Processing data for material : WATER\n",
      "image_data shape is :  (2048, 2448)\n",
      "im90 shape is :  (1024, 1224)\n",
      "Stokes time:  0.024985790252685547 s\n",
      "im_stokes0 shape is :  (1024, 1224)\n",
      "DoLP time:  0.03298139572143555 s\n",
      "im_DOLP shape is :  (1024, 1224)\n",
      "Time for DOLP2Theta conversion is :  21.866394519805908 seconds\n",
      "False\n",
      "AoLP time:  0.04197573661804199 s\n"
     ]
    },
    {
     "name": "stderr",
     "output_type": "stream",
     "text": [
      "\r",
      " 85%|██████████████████████████████████████████████████████████████████▏           | 191/225 [1:13:11<12:42, 22.42s/it]"
     ]
    },
    {
     "name": "stdout",
     "output_type": "stream",
     "text": [
      "Processing data for material : WATER\n",
      "image_data shape is :  (2048, 2448)\n",
      "im90 shape is :  (1024, 1224)\n",
      "Stokes time:  0.023986101150512695 s\n",
      "im_stokes0 shape is :  (1024, 1224)\n",
      "DoLP time:  0.029982805252075195 s\n",
      "im_DOLP shape is :  (1024, 1224)\n",
      "Time for DOLP2Theta conversion is :  21.217771530151367 seconds\n",
      "False\n",
      "AoLP time:  0.039975643157958984 s\n"
     ]
    },
    {
     "name": "stderr",
     "output_type": "stream",
     "text": [
      "\r",
      " 85%|██████████████████████████████████████████████████████████████████▌           | 192/225 [1:13:33<12:14, 22.26s/it]"
     ]
    },
    {
     "name": "stdout",
     "output_type": "stream",
     "text": [
      "Processing data for material : WATER\n",
      "image_data shape is :  (2048, 2448)\n",
      "im90 shape is :  (1024, 1224)\n",
      "Stokes time:  0.024985551834106445 s\n",
      "im_stokes0 shape is :  (1024, 1224)\n",
      "DoLP time:  0.03198075294494629 s\n",
      "im_DOLP shape is :  (1024, 1224)\n",
      "Time for DOLP2Theta conversion is :  22.425074100494385 seconds\n",
      "False\n",
      "AoLP time:  0.03997516632080078 s\n"
     ]
    },
    {
     "name": "stderr",
     "output_type": "stream",
     "text": [
      "\r",
      " 86%|██████████████████████████████████████████████████████████████████▉           | 193/225 [1:13:56<12:00, 22.51s/it]"
     ]
    },
    {
     "name": "stdout",
     "output_type": "stream",
     "text": [
      "Processing data for material : WATER\n",
      "image_data shape is :  (2048, 2448)\n",
      "im90 shape is :  (1024, 1224)\n",
      "Stokes time:  0.026983976364135742 s\n",
      "im_stokes0 shape is :  (1024, 1224)\n",
      "DoLP time:  0.03697776794433594 s\n",
      "im_DOLP shape is :  (1024, 1224)\n",
      "Time for DOLP2Theta conversion is :  22.080272912979126 seconds\n",
      "False\n",
      "AoLP time:  0.04097604751586914 s\n"
     ]
    },
    {
     "name": "stderr",
     "output_type": "stream",
     "text": [
      "\r",
      " 86%|███████████████████████████████████████████████████████████████████▎          | 194/225 [1:14:19<11:40, 22.60s/it]"
     ]
    },
    {
     "name": "stdout",
     "output_type": "stream",
     "text": [
      "Processing data for material : WATER\n",
      "image_data shape is :  (2048, 2448)\n",
      "im90 shape is :  (1024, 1224)\n",
      "Stokes time:  0.023986101150512695 s\n",
      "im_stokes0 shape is :  (1024, 1224)\n",
      "DoLP time:  0.031981468200683594 s\n",
      "im_DOLP shape is :  (1024, 1224)\n",
      "Time for DOLP2Theta conversion is :  22.38209891319275 seconds\n",
      "False\n",
      "AoLP time:  0.0439753532409668 s\n"
     ]
    },
    {
     "name": "stderr",
     "output_type": "stream",
     "text": [
      "\r",
      " 87%|███████████████████████████████████████████████████████████████████▌          | 195/225 [1:14:42<11:21, 22.71s/it]"
     ]
    },
    {
     "name": "stdout",
     "output_type": "stream",
     "text": [
      "Processing data for material : WATER\n",
      "image_data shape is :  (2048, 2448)\n",
      "im90 shape is :  (1024, 1224)\n",
      "Stokes time:  0.027983665466308594 s\n",
      "im_stokes0 shape is :  (1024, 1224)\n",
      "DoLP time:  0.0319821834564209 s\n",
      "im_DOLP shape is :  (1024, 1224)\n",
      "Time for DOLP2Theta conversion is :  21.602547645568848 seconds\n",
      "False\n",
      "AoLP time:  0.03997635841369629 s\n"
     ]
    },
    {
     "name": "stderr",
     "output_type": "stream",
     "text": [
      "\r",
      " 87%|███████████████████████████████████████████████████████████████████▉          | 196/225 [1:15:04<10:54, 22.57s/it]"
     ]
    },
    {
     "name": "stdout",
     "output_type": "stream",
     "text": [
      "Processing data for material : WATER\n",
      "image_data shape is :  (2048, 2448)\n",
      "im90 shape is :  (1024, 1224)\n",
      "Stokes time:  0.022986173629760742 s\n",
      "im_stokes0 shape is :  (1024, 1224)\n",
      "DoLP time:  0.03697943687438965 s\n",
      "im_DOLP shape is :  (1024, 1224)\n",
      "Time for DOLP2Theta conversion is :  20.810004711151123 seconds\n",
      "False\n",
      "AoLP time:  0.04097580909729004 s\n"
     ]
    },
    {
     "name": "stderr",
     "output_type": "stream",
     "text": [
      "\r",
      " 88%|████████████████████████████████████████████████████████████████████▎         | 197/225 [1:15:26<10:23, 22.25s/it]"
     ]
    },
    {
     "name": "stdout",
     "output_type": "stream",
     "text": [
      "Processing data for material : WATER\n",
      "image_data shape is :  (2048, 2448)\n",
      "im90 shape is :  (1024, 1224)\n",
      "Stokes time:  0.024985313415527344 s\n",
      "im_stokes0 shape is :  (1024, 1224)\n",
      "DoLP time:  0.032981157302856445 s\n",
      "im_DOLP shape is :  (1024, 1224)\n",
      "Time for DOLP2Theta conversion is :  20.832990884780884 seconds\n",
      "False\n",
      "AoLP time:  0.038977622985839844 s\n"
     ]
    },
    {
     "name": "stderr",
     "output_type": "stream",
     "text": [
      "\r",
      " 88%|████████████████████████████████████████████████████████████████████▋         | 198/225 [1:15:47<09:54, 22.01s/it]"
     ]
    },
    {
     "name": "stdout",
     "output_type": "stream",
     "text": [
      "Processing data for material : WATER\n",
      "image_data shape is :  (2048, 2448)\n",
      "im90 shape is :  (1024, 1224)\n",
      "Stokes time:  0.024984121322631836 s\n",
      "im_stokes0 shape is :  (1024, 1224)\n",
      "DoLP time:  0.0299837589263916 s\n",
      "im_DOLP shape is :  (1024, 1224)\n",
      "Time for DOLP2Theta conversion is :  21.466628551483154 seconds\n",
      "False\n",
      "AoLP time:  0.04097557067871094 s\n"
     ]
    },
    {
     "name": "stderr",
     "output_type": "stream",
     "text": [
      "\r",
      " 88%|████████████████████████████████████████████████████████████████████▉         | 199/225 [1:16:09<09:32, 22.04s/it]"
     ]
    },
    {
     "name": "stdout",
     "output_type": "stream",
     "text": [
      "Processing data for material : WATER\n",
      "image_data shape is :  (2048, 2448)\n",
      "im90 shape is :  (1024, 1224)\n",
      "Stokes time:  0.023985862731933594 s\n",
      "im_stokes0 shape is :  (1024, 1224)\n",
      "DoLP time:  0.032981157302856445 s\n",
      "im_DOLP shape is :  (1024, 1224)\n",
      "Time for DOLP2Theta conversion is :  21.471622943878174 seconds\n",
      "False\n",
      "AoLP time:  0.03997659683227539 s\n"
     ]
    },
    {
     "name": "stderr",
     "output_type": "stream",
     "text": [
      "\r",
      " 89%|█████████████████████████████████████████████████████████████████████▎        | 200/225 [1:16:31<09:11, 22.08s/it]"
     ]
    },
    {
     "name": "stdout",
     "output_type": "stream",
     "text": [
      "Processing data for material : WATER\n",
      "image_data shape is :  (2048, 2448)\n",
      "im90 shape is :  (1024, 1224)\n",
      "Stokes time:  0.02698349952697754 s\n",
      "im_stokes0 shape is :  (1024, 1224)\n",
      "DoLP time:  0.034979820251464844 s\n",
      "im_DOLP shape is :  (1024, 1224)\n",
      "Time for DOLP2Theta conversion is :  20.995896816253662 seconds\n",
      "False\n",
      "AoLP time:  0.03897809982299805 s\n"
     ]
    },
    {
     "name": "stderr",
     "output_type": "stream",
     "text": [
      "\r",
      " 89%|█████████████████████████████████████████████████████████████████████▋        | 201/225 [1:16:53<08:46, 21.94s/it]"
     ]
    },
    {
     "name": "stdout",
     "output_type": "stream",
     "text": [
      "Processing data for material : WATER\n",
      "image_data shape is :  (2048, 2448)\n",
      "im90 shape is :  (1024, 1224)\n",
      "Stokes time:  0.02498626708984375 s\n",
      "im_stokes0 shape is :  (1024, 1224)\n",
      "DoLP time:  0.03597879409790039 s\n",
      "im_DOLP shape is :  (1024, 1224)\n",
      "Time for DOLP2Theta conversion is :  20.921940088272095 seconds\n",
      "False\n",
      "AoLP time:  0.03897690773010254 s\n"
     ]
    },
    {
     "name": "stderr",
     "output_type": "stream",
     "text": [
      "\r",
      " 90%|██████████████████████████████████████████████████████████████████████        | 202/225 [1:17:15<08:22, 21.83s/it]"
     ]
    },
    {
     "name": "stdout",
     "output_type": "stream",
     "text": [
      "Processing data for material : WATER\n",
      "image_data shape is :  (2048, 2448)\n",
      "im90 shape is :  (1024, 1224)\n",
      "Stokes time:  0.026983976364135742 s\n",
      "im_stokes0 shape is :  (1024, 1224)\n",
      "DoLP time:  0.03098154067993164 s\n",
      "im_DOLP shape is :  (1024, 1224)\n",
      "Time for DOLP2Theta conversion is :  21.06787371635437 seconds\n",
      "False\n",
      "AoLP time:  0.038976192474365234 s\n"
     ]
    },
    {
     "name": "stderr",
     "output_type": "stream",
     "text": [
      "\r",
      " 90%|██████████████████████████████████████████████████████████████████████▎       | 203/225 [1:17:36<07:59, 21.79s/it]"
     ]
    },
    {
     "name": "stdout",
     "output_type": "stream",
     "text": [
      "Processing data for material : WATER\n",
      "image_data shape is :  (2048, 2448)\n",
      "im90 shape is :  (1024, 1224)\n",
      "Stokes time:  0.024986743927001953 s\n",
      "im_stokes0 shape is :  (1024, 1224)\n",
      "DoLP time:  0.03297996520996094 s\n",
      "im_DOLP shape is :  (1024, 1224)\n",
      "Time for DOLP2Theta conversion is :  21.466645002365112 seconds\n",
      "False\n",
      "AoLP time:  0.037979841232299805 s\n"
     ]
    },
    {
     "name": "stderr",
     "output_type": "stream",
     "text": [
      "\r",
      " 91%|██████████████████████████████████████████████████████████████████████▋       | 204/225 [1:17:58<07:39, 21.89s/it]"
     ]
    },
    {
     "name": "stdout",
     "output_type": "stream",
     "text": [
      "Processing data for material : WATER\n",
      "image_data shape is :  (2048, 2448)\n",
      "im90 shape is :  (1024, 1224)\n",
      "Stokes time:  0.02798295021057129 s\n",
      "im_stokes0 shape is :  (1024, 1224)\n",
      "DoLP time:  0.03498053550720215 s\n",
      "im_DOLP shape is :  (1024, 1224)\n",
      "Time for DOLP2Theta conversion is :  21.35870909690857 seconds\n",
      "False\n",
      "AoLP time:  0.03997373580932617 s\n"
     ]
    },
    {
     "name": "stderr",
     "output_type": "stream",
     "text": [
      "\r",
      " 91%|███████████████████████████████████████████████████████████████████████       | 205/225 [1:18:21<07:18, 21.93s/it]"
     ]
    },
    {
     "name": "stdout",
     "output_type": "stream",
     "text": [
      "Processing data for material : WATER\n",
      "image_data shape is :  (2048, 2448)\n",
      "im90 shape is :  (1024, 1224)\n",
      "Stokes time:  0.026984453201293945 s\n",
      "im_stokes0 shape is :  (1024, 1224)\n",
      "DoLP time:  0.031981468200683594 s\n",
      "im_DOLP shape is :  (1024, 1224)\n",
      "Time for DOLP2Theta conversion is :  21.001894235610962 seconds\n",
      "False\n",
      "AoLP time:  0.03997611999511719 s\n"
     ]
    },
    {
     "name": "stderr",
     "output_type": "stream",
     "text": [
      "\r",
      " 92%|███████████████████████████████████████████████████████████████████████▍      | 206/225 [1:18:42<06:55, 21.85s/it]"
     ]
    },
    {
     "name": "stdout",
     "output_type": "stream",
     "text": [
      "Processing data for material : WATER\n",
      "image_data shape is :  (2048, 2448)\n",
      "im90 shape is :  (1024, 1224)\n",
      "Stokes time:  0.02498459815979004 s\n",
      "im_stokes0 shape is :  (1024, 1224)\n",
      "DoLP time:  0.03198075294494629 s\n",
      "im_DOLP shape is :  (1024, 1224)\n",
      "Time for DOLP2Theta conversion is :  20.983904123306274 seconds\n",
      "False\n",
      "AoLP time:  0.0399775505065918 s\n"
     ]
    },
    {
     "name": "stderr",
     "output_type": "stream",
     "text": [
      "\r",
      " 92%|███████████████████████████████████████████████████████████████████████▊      | 207/225 [1:19:04<06:32, 21.79s/it]"
     ]
    },
    {
     "name": "stdout",
     "output_type": "stream",
     "text": [
      "Processing data for material : WATER\n",
      "image_data shape is :  (2048, 2448)\n",
      "im90 shape is :  (1024, 1224)\n",
      "Stokes time:  0.023985624313354492 s\n",
      "im_stokes0 shape is :  (1024, 1224)\n",
      "DoLP time:  0.03298044204711914 s\n",
      "im_DOLP shape is :  (1024, 1224)\n",
      "Time for DOLP2Theta conversion is :  21.18178963661194 seconds\n",
      "False\n",
      "AoLP time:  0.04197549819946289 s\n"
     ]
    },
    {
     "name": "stderr",
     "output_type": "stream",
     "text": [
      "\r",
      " 92%|████████████████████████████████████████████████████████████████████████      | 208/225 [1:19:26<06:10, 21.79s/it]"
     ]
    },
    {
     "name": "stdout",
     "output_type": "stream",
     "text": [
      "Processing data for material : WATER\n",
      "image_data shape is :  (2048, 2448)\n",
      "im90 shape is :  (1024, 1224)\n",
      "Stokes time:  0.0239865779876709 s\n",
      "im_stokes0 shape is :  (1024, 1224)\n",
      "DoLP time:  0.031980037689208984 s\n",
      "im_DOLP shape is :  (1024, 1224)\n",
      "Time for DOLP2Theta conversion is :  21.19578194618225 seconds\n",
      "False\n",
      "AoLP time:  0.03997659683227539 s\n"
     ]
    },
    {
     "name": "stderr",
     "output_type": "stream",
     "text": [
      "\r",
      " 93%|████████████████████████████████████████████████████████████████████████▍     | 209/225 [1:19:48<05:49, 21.83s/it]"
     ]
    },
    {
     "name": "stdout",
     "output_type": "stream",
     "text": [
      "Processing data for material : WATER\n",
      "image_data shape is :  (2048, 2448)\n",
      "im90 shape is :  (1024, 1224)\n",
      "Stokes time:  0.024985074996948242 s\n",
      "im_stokes0 shape is :  (1024, 1224)\n",
      "DoLP time:  0.0339815616607666 s\n",
      "im_DOLP shape is :  (1024, 1224)\n",
      "Time for DOLP2Theta conversion is :  21.86641502380371 seconds\n",
      "False\n",
      "AoLP time:  0.044974565505981445 s\n"
     ]
    },
    {
     "name": "stderr",
     "output_type": "stream",
     "text": [
      "\r",
      " 93%|████████████████████████████████████████████████████████████████████████▊     | 210/225 [1:20:10<05:30, 22.03s/it]"
     ]
    },
    {
     "name": "stdout",
     "output_type": "stream",
     "text": [
      "Processing data for material : WATER\n",
      "image_data shape is :  (2048, 2448)\n",
      "im90 shape is :  (1024, 1224)\n",
      "Stokes time:  0.02698493003845215 s\n",
      "im_stokes0 shape is :  (1024, 1224)\n",
      "DoLP time:  0.034979820251464844 s\n",
      "im_DOLP shape is :  (1024, 1224)\n",
      "Time for DOLP2Theta conversion is :  21.13881540298462 seconds\n",
      "False\n",
      "AoLP time:  0.04097747802734375 s\n"
     ]
    },
    {
     "name": "stderr",
     "output_type": "stream",
     "text": [
      "\r",
      " 94%|█████████████████████████████████████████████████████████████████████████▏    | 211/225 [1:20:32<05:07, 21.95s/it]"
     ]
    },
    {
     "name": "stdout",
     "output_type": "stream",
     "text": [
      "Processing data for material : WATER\n",
      "image_data shape is :  (2048, 2448)\n",
      "im90 shape is :  (1024, 1224)\n",
      "Stokes time:  0.0259857177734375 s\n",
      "im_stokes0 shape is :  (1024, 1224)\n",
      "DoLP time:  0.031982421875 s\n",
      "im_DOLP shape is :  (1024, 1224)\n",
      "Time for DOLP2Theta conversion is :  22.829843044281006 seconds\n",
      "False\n",
      "AoLP time:  0.050969600677490234 s\n"
     ]
    },
    {
     "name": "stderr",
     "output_type": "stream",
     "text": [
      "\r",
      " 94%|█████████████████████████████████████████████████████████████████████████▍    | 212/225 [1:20:56<04:52, 22.51s/it]"
     ]
    },
    {
     "name": "stdout",
     "output_type": "stream",
     "text": [
      "Processing data for material : WATER\n",
      "image_data shape is :  (2048, 2448)\n",
      "im90 shape is :  (1024, 1224)\n",
      "Stokes time:  0.035979509353637695 s\n",
      "im_stokes0 shape is :  (1024, 1224)\n",
      "DoLP time:  0.04497385025024414 s\n",
      "im_DOLP shape is :  (1024, 1224)\n",
      "Time for DOLP2Theta conversion is :  21.788440942764282 seconds\n",
      "False\n",
      "AoLP time:  0.038977622985839844 s\n"
     ]
    },
    {
     "name": "stderr",
     "output_type": "stream",
     "text": [
      "\r",
      " 95%|█████████████████████████████████████████████████████████████████████████▊    | 213/225 [1:21:18<04:29, 22.48s/it]"
     ]
    },
    {
     "name": "stdout",
     "output_type": "stream",
     "text": [
      "Processing data for material : WATER\n",
      "image_data shape is :  (2048, 2448)\n",
      "im90 shape is :  (1024, 1224)\n",
      "Stokes time:  0.026984453201293945 s\n",
      "im_stokes0 shape is :  (1024, 1224)\n",
      "DoLP time:  0.03497910499572754 s\n",
      "im_DOLP shape is :  (1024, 1224)\n",
      "Time for DOLP2Theta conversion is :  21.55959129333496 seconds\n",
      "False\n",
      "AoLP time:  0.038977622985839844 s\n"
     ]
    },
    {
     "name": "stderr",
     "output_type": "stream",
     "text": [
      "\r",
      " 95%|██████████████████████████████████████████████████████████████████████████▏   | 214/225 [1:21:40<04:06, 22.40s/it]"
     ]
    },
    {
     "name": "stdout",
     "output_type": "stream",
     "text": [
      "Processing data for material : WATER\n",
      "image_data shape is :  (2048, 2448)\n",
      "im90 shape is :  (1024, 1224)\n",
      "Stokes time:  0.02798318862915039 s\n",
      "im_stokes0 shape is :  (1024, 1224)\n",
      "DoLP time:  0.036978960037231445 s\n",
      "im_DOLP shape is :  (1024, 1224)\n",
      "Time for DOLP2Theta conversion is :  21.597570657730103 seconds\n",
      "False\n",
      "AoLP time:  0.03997659683227539 s\n"
     ]
    },
    {
     "name": "stderr",
     "output_type": "stream",
     "text": [
      "\r",
      " 96%|██████████████████████████████████████████████████████████████████████████▌   | 215/225 [1:22:03<03:43, 22.37s/it]"
     ]
    },
    {
     "name": "stdout",
     "output_type": "stream",
     "text": [
      "Processing data for material : WATER\n",
      "image_data shape is :  (2048, 2448)\n",
      "im90 shape is :  (1024, 1224)\n",
      "Stokes time:  0.024985551834106445 s\n",
      "im_stokes0 shape is :  (1024, 1224)\n",
      "DoLP time:  0.031981706619262695 s\n",
      "im_DOLP shape is :  (1024, 1224)\n",
      "Time for DOLP2Theta conversion is :  21.3726806640625 seconds\n",
      "False\n",
      "AoLP time:  0.038977861404418945 s\n"
     ]
    },
    {
     "name": "stderr",
     "output_type": "stream",
     "text": [
      "\r",
      " 96%|██████████████████████████████████████████████████████████████████████████▉   | 216/225 [1:22:25<03:20, 22.26s/it]"
     ]
    },
    {
     "name": "stdout",
     "output_type": "stream",
     "text": [
      "Processing data for material : WATER\n",
      "image_data shape is :  (2048, 2448)\n",
      "im90 shape is :  (1024, 1224)\n",
      "Stokes time:  0.026984453201293945 s\n",
      "im_stokes0 shape is :  (1024, 1224)\n",
      "DoLP time:  0.034980058670043945 s\n",
      "im_DOLP shape is :  (1024, 1224)\n",
      "Time for DOLP2Theta conversion is :  21.196781158447266 seconds\n",
      "False\n",
      "AoLP time:  0.04297661781311035 s\n"
     ]
    },
    {
     "name": "stderr",
     "output_type": "stream",
     "text": [
      "\r",
      " 96%|███████████████████████████████████████████████████████████████████████████▏  | 217/225 [1:22:46<02:57, 22.14s/it]"
     ]
    },
    {
     "name": "stdout",
     "output_type": "stream",
     "text": [
      "Processing data for material : WATER\n",
      "image_data shape is :  (2048, 2448)\n",
      "im90 shape is :  (1024, 1224)\n",
      "Stokes time:  0.02798295021057129 s\n",
      "im_stokes0 shape is :  (1024, 1224)\n",
      "DoLP time:  0.032981157302856445 s\n",
      "im_DOLP shape is :  (1024, 1224)\n",
      "Time for DOLP2Theta conversion is :  21.08584499359131 seconds\n",
      "False\n",
      "AoLP time:  0.03897833824157715 s\n"
     ]
    },
    {
     "name": "stderr",
     "output_type": "stream",
     "text": [
      "\r",
      " 97%|███████████████████████████████████████████████████████████████████████████▌  | 218/225 [1:23:08<02:34, 22.02s/it]"
     ]
    },
    {
     "name": "stdout",
     "output_type": "stream",
     "text": [
      "Processing data for material : WATER\n",
      "image_data shape is :  (2048, 2448)\n",
      "im90 shape is :  (1024, 1224)\n",
      "Stokes time:  0.024985313415527344 s\n",
      "im_stokes0 shape is :  (1024, 1224)\n",
      "DoLP time:  0.03298068046569824 s\n",
      "im_DOLP shape is :  (1024, 1224)\n",
      "Time for DOLP2Theta conversion is :  20.910946130752563 seconds\n",
      "False\n",
      "AoLP time:  0.05496621131896973 s\n"
     ]
    },
    {
     "name": "stderr",
     "output_type": "stream",
     "text": [
      "\r",
      " 97%|███████████████████████████████████████████████████████████████████████████▉  | 219/225 [1:23:30<02:11, 21.88s/it]"
     ]
    },
    {
     "name": "stdout",
     "output_type": "stream",
     "text": [
      "Processing data for material : WATER\n",
      "image_data shape is :  (2048, 2448)\n",
      "im90 shape is :  (1024, 1224)\n",
      "Stokes time:  0.025984525680541992 s\n",
      "im_stokes0 shape is :  (1024, 1224)\n",
      "DoLP time:  0.0359797477722168 s\n",
      "im_DOLP shape is :  (1024, 1224)\n",
      "Time for DOLP2Theta conversion is :  22.23918914794922 seconds\n",
      "False\n",
      "AoLP time:  0.04297447204589844 s\n"
     ]
    },
    {
     "name": "stderr",
     "output_type": "stream",
     "text": [
      "\r",
      " 98%|████████████████████████████████████████████████████████████████████████████▎ | 220/225 [1:23:53<01:50, 22.18s/it]"
     ]
    },
    {
     "name": "stdout",
     "output_type": "stream",
     "text": [
      "Processing data for material : WATER\n",
      "image_data shape is :  (2048, 2448)\n",
      "im90 shape is :  (1024, 1224)\n",
      "Stokes time:  0.02798318862915039 s\n",
      "im_stokes0 shape is :  (1024, 1224)\n",
      "DoLP time:  0.031981468200683594 s\n",
      "im_DOLP shape is :  (1024, 1224)\n",
      "Time for DOLP2Theta conversion is :  21.196783542633057 seconds\n",
      "False\n",
      "AoLP time:  0.04097485542297363 s\n"
     ]
    },
    {
     "name": "stderr",
     "output_type": "stream",
     "text": [
      "\r",
      " 98%|████████████████████████████████████████████████████████████████████████████▌ | 221/225 [1:24:14<01:28, 22.09s/it]"
     ]
    },
    {
     "name": "stdout",
     "output_type": "stream",
     "text": [
      "Processing data for material : WATER\n",
      "image_data shape is :  (2048, 2448)\n",
      "im90 shape is :  (1024, 1224)\n",
      "Stokes time:  0.02598404884338379 s\n",
      "im_stokes0 shape is :  (1024, 1224)\n",
      "DoLP time:  0.0319819450378418 s\n",
      "im_DOLP shape is :  (1024, 1224)\n",
      "Time for DOLP2Theta conversion is :  22.342121601104736 seconds\n",
      "False\n",
      "AoLP time:  0.040972232818603516 s\n"
     ]
    },
    {
     "name": "stderr",
     "output_type": "stream",
     "text": [
      "\r",
      " 99%|████████████████████████████████████████████████████████████████████████████▉ | 222/225 [1:24:37<01:07, 22.35s/it]"
     ]
    },
    {
     "name": "stdout",
     "output_type": "stream",
     "text": [
      "Processing data for material : WATER\n",
      "image_data shape is :  (2048, 2448)\n",
      "im90 shape is :  (1024, 1224)\n",
      "Stokes time:  0.02698493003845215 s\n",
      "im_stokes0 shape is :  (1024, 1224)\n",
      "DoLP time:  0.03497886657714844 s\n",
      "im_DOLP shape is :  (1024, 1224)\n",
      "Time for DOLP2Theta conversion is :  21.650522470474243 seconds\n",
      "False\n",
      "AoLP time:  0.041975975036621094 s\n"
     ]
    },
    {
     "name": "stderr",
     "output_type": "stream",
     "text": [
      "\r",
      " 99%|█████████████████████████████████████████████████████████████████████████████▎| 223/225 [1:25:00<00:44, 22.35s/it]"
     ]
    },
    {
     "name": "stdout",
     "output_type": "stream",
     "text": [
      "Processing data for material : WATER\n",
      "image_data shape is :  (2048, 2448)\n",
      "im90 shape is :  (1024, 1224)\n",
      "Stokes time:  0.02698349952697754 s\n",
      "im_stokes0 shape is :  (1024, 1224)\n",
      "DoLP time:  0.03697848320007324 s\n",
      "im_DOLP shape is :  (1024, 1224)\n",
      "Time for DOLP2Theta conversion is :  21.149808883666992 seconds\n",
      "False\n",
      "AoLP time:  0.03897714614868164 s\n"
     ]
    },
    {
     "name": "stderr",
     "output_type": "stream",
     "text": [
      "\r",
      "100%|█████████████████████████████████████████████████████████████████████████████▋| 224/225 [1:25:22<00:22, 22.18s/it]"
     ]
    },
    {
     "name": "stdout",
     "output_type": "stream",
     "text": [
      "Processing data for material : WATER\n",
      "image_data shape is :  (2048, 2448)\n",
      "im90 shape is :  (1024, 1224)\n",
      "Stokes time:  0.025984525680541992 s\n",
      "im_stokes0 shape is :  (1024, 1224)\n",
      "DoLP time:  0.03298187255859375 s\n",
      "im_DOLP shape is :  (1024, 1224)\n",
      "Time for DOLP2Theta conversion is :  21.254748106002808 seconds\n",
      "False\n",
      "AoLP time:  0.04097723960876465 s\n"
     ]
    },
    {
     "name": "stderr",
     "output_type": "stream",
     "text": [
      "100%|██████████████████████████████████████████████████████████████████████████████| 225/225 [1:25:43<00:00, 22.10s/it]\n"
     ]
    },
    {
     "name": "stdout",
     "output_type": "stream",
     "text": [
      "time taken =  31.088873147964478\n"
     ]
    },
    {
     "name": "stderr",
     "output_type": "stream",
     "text": [
      "\r",
      "  0%|                                                                                          | 0/225 [00:00<?, ?it/s]"
     ]
    },
    {
     "name": "stdout",
     "output_type": "stream",
     "text": [
      "Processing data for material : WATER\n",
      "image_data shape is :  (2048, 2448)\n",
      "im90 shape is :  (1024, 1224)\n",
      "Stokes time:  0.030982255935668945 s\n",
      "im_stokes0 shape is :  (1024, 1224)\n",
      "DoLP time:  0.03697824478149414 s\n",
      "im_DOLP shape is :  (1024, 1224)\n",
      "Time for DOLP2Theta conversion is :  21.56757140159607 seconds\n",
      "False\n",
      "AoLP time:  0.04097461700439453 s\n"
     ]
    },
    {
     "name": "stderr",
     "output_type": "stream",
     "text": [
      "\r",
      "  0%|▎                                                                               | 1/225 [00:24<1:32:55, 24.89s/it]"
     ]
    },
    {
     "name": "stdout",
     "output_type": "stream",
     "text": [
      "Processing data for material : WATER\n",
      "image_data shape is :  (2048, 2448)\n",
      "im90 shape is :  (1024, 1224)\n",
      "Stokes time:  0.02898263931274414 s\n",
      "im_stokes0 shape is :  (1024, 1224)\n",
      "DoLP time:  0.03897690773010254 s\n",
      "im_DOLP shape is :  (1024, 1224)\n",
      "Time for DOLP2Theta conversion is :  21.53059411048889 seconds\n",
      "False\n",
      "AoLP time:  0.04297375679016113 s\n"
     ]
    },
    {
     "name": "stderr",
     "output_type": "stream",
     "text": [
      "\r",
      "  1%|▋                                                                               | 2/225 [00:47<1:29:29, 24.08s/it]"
     ]
    },
    {
     "name": "stdout",
     "output_type": "stream",
     "text": [
      "Processing data for material : WATER\n",
      "image_data shape is :  (2048, 2448)\n",
      "im90 shape is :  (1024, 1224)\n",
      "Stokes time:  0.025983333587646484 s\n",
      "im_stokes0 shape is :  (1024, 1224)\n",
      "DoLP time:  0.03497910499572754 s\n",
      "im_DOLP shape is :  (1024, 1224)\n",
      "Time for DOLP2Theta conversion is :  21.595552682876587 seconds\n",
      "False\n",
      "AoLP time:  0.039977073669433594 s\n"
     ]
    },
    {
     "name": "stderr",
     "output_type": "stream",
     "text": [
      "\r",
      "  1%|█                                                                               | 3/225 [01:09<1:27:05, 23.54s/it]"
     ]
    },
    {
     "name": "stdout",
     "output_type": "stream",
     "text": [
      "Processing data for material : WATER\n",
      "image_data shape is :  (2048, 2448)\n",
      "im90 shape is :  (1024, 1224)\n",
      "Stokes time:  0.025984525680541992 s\n",
      "im_stokes0 shape is :  (1024, 1224)\n",
      "DoLP time:  0.03597855567932129 s\n",
      "im_DOLP shape is :  (1024, 1224)\n",
      "Time for DOLP2Theta conversion is :  21.28673219680786 seconds\n",
      "False\n",
      "AoLP time:  0.04297494888305664 s\n"
     ]
    },
    {
     "name": "stderr",
     "output_type": "stream",
     "text": [
      "\r",
      "  2%|█▍                                                                              | 4/225 [01:31<1:24:57, 23.06s/it]"
     ]
    },
    {
     "name": "stdout",
     "output_type": "stream",
     "text": [
      "Processing data for material : WATER\n",
      "image_data shape is :  (2048, 2448)\n",
      "im90 shape is :  (1024, 1224)\n",
      "Stokes time:  0.02798318862915039 s\n",
      "im_stokes0 shape is :  (1024, 1224)\n",
      "DoLP time:  0.04097747802734375 s\n",
      "im_DOLP shape is :  (1024, 1224)\n",
      "Time for DOLP2Theta conversion is :  21.502607583999634 seconds\n",
      "False\n",
      "AoLP time:  0.039978981018066406 s\n"
     ]
    },
    {
     "name": "stderr",
     "output_type": "stream",
     "text": [
      "\r",
      "  2%|█▊                                                                              | 5/225 [01:53<1:23:35, 22.80s/it]"
     ]
    },
    {
     "name": "stdout",
     "output_type": "stream",
     "text": [
      "Processing data for material : WATER\n",
      "image_data shape is :  (2048, 2448)\n",
      "im90 shape is :  (1024, 1224)\n",
      "Stokes time:  0.027984142303466797 s\n",
      "im_stokes0 shape is :  (1024, 1224)\n",
      "DoLP time:  0.03497886657714844 s\n",
      "im_DOLP shape is :  (1024, 1224)\n",
      "Time for DOLP2Theta conversion is :  21.53758692741394 seconds\n",
      "False\n",
      "AoLP time:  0.040975332260131836 s\n"
     ]
    },
    {
     "name": "stderr",
     "output_type": "stream",
     "text": [
      "\r",
      "  3%|██▏                                                                             | 6/225 [02:15<1:22:32, 22.61s/it]"
     ]
    },
    {
     "name": "stdout",
     "output_type": "stream",
     "text": [
      "Processing data for material : WATER\n",
      "image_data shape is :  (2048, 2448)\n",
      "im90 shape is :  (1024, 1224)\n",
      "Stokes time:  0.027984142303466797 s\n",
      "im_stokes0 shape is :  (1024, 1224)\n",
      "DoLP time:  0.03298020362854004 s\n",
      "im_DOLP shape is :  (1024, 1224)\n",
      "Time for DOLP2Theta conversion is :  21.346696853637695 seconds\n",
      "False\n",
      "AoLP time:  0.042974233627319336 s\n"
     ]
    },
    {
     "name": "stderr",
     "output_type": "stream",
     "text": [
      "\r",
      "  3%|██▍                                                                             | 7/225 [02:37<1:21:27, 22.42s/it]"
     ]
    },
    {
     "name": "stdout",
     "output_type": "stream",
     "text": [
      "Processing data for material : WATER\n",
      "image_data shape is :  (2048, 2448)\n",
      "im90 shape is :  (1024, 1224)\n",
      "Stokes time:  0.024987459182739258 s\n",
      "im_stokes0 shape is :  (1024, 1224)\n",
      "DoLP time:  0.03298139572143555 s\n",
      "im_DOLP shape is :  (1024, 1224)\n",
      "Time for DOLP2Theta conversion is :  21.438644647598267 seconds\n",
      "False\n",
      "AoLP time:  0.03897881507873535 s\n"
     ]
    },
    {
     "name": "stderr",
     "output_type": "stream",
     "text": [
      "\r",
      "  4%|██▊                                                                             | 8/225 [02:59<1:20:43, 22.32s/it]"
     ]
    },
    {
     "name": "stdout",
     "output_type": "stream",
     "text": [
      "Processing data for material : WATER\n",
      "image_data shape is :  (2048, 2448)\n",
      "im90 shape is :  (1024, 1224)\n",
      "Stokes time:  0.027983427047729492 s\n",
      "im_stokes0 shape is :  (1024, 1224)\n",
      "DoLP time:  0.031980037689208984 s\n",
      "im_DOLP shape is :  (1024, 1224)\n",
      "Time for DOLP2Theta conversion is :  21.25974464416504 seconds\n",
      "False\n",
      "AoLP time:  0.03897571563720703 s\n"
     ]
    },
    {
     "name": "stderr",
     "output_type": "stream",
     "text": [
      "\r",
      "  4%|███▏                                                                            | 9/225 [03:21<1:19:51, 22.18s/it]"
     ]
    },
    {
     "name": "stdout",
     "output_type": "stream",
     "text": [
      "Processing data for material : WATER\n",
      "image_data shape is :  (2048, 2448)\n",
      "im90 shape is :  (1024, 1224)\n",
      "Stokes time:  0.026984214782714844 s\n",
      "im_stokes0 shape is :  (1024, 1224)\n",
      "DoLP time:  0.03797626495361328 s\n",
      "im_DOLP shape is :  (1024, 1224)\n",
      "Time for DOLP2Theta conversion is :  21.536587953567505 seconds\n",
      "False\n",
      "AoLP time:  0.0439755916595459 s\n"
     ]
    },
    {
     "name": "stderr",
     "output_type": "stream",
     "text": [
      "\r",
      "  4%|███▌                                                                           | 10/225 [03:43<1:19:30, 22.19s/it]"
     ]
    },
    {
     "name": "stdout",
     "output_type": "stream",
     "text": [
      "Processing data for material : WATER\n",
      "image_data shape is :  (2048, 2448)\n",
      "im90 shape is :  (1024, 1224)\n",
      "Stokes time:  0.026983976364135742 s\n",
      "im_stokes0 shape is :  (1024, 1224)\n",
      "DoLP time:  0.036977529525756836 s\n",
      "im_DOLP shape is :  (1024, 1224)\n",
      "Time for DOLP2Theta conversion is :  21.521595001220703 seconds\n",
      "False\n",
      "AoLP time:  0.0419764518737793 s\n"
     ]
    },
    {
     "name": "stderr",
     "output_type": "stream",
     "text": [
      "\r",
      "  5%|███▊                                                                           | 11/225 [04:05<1:19:08, 22.19s/it]"
     ]
    },
    {
     "name": "stdout",
     "output_type": "stream",
     "text": [
      "Processing data for material : WATER\n",
      "image_data shape is :  (2048, 2448)\n",
      "im90 shape is :  (1024, 1224)\n",
      "Stokes time:  0.025985240936279297 s\n",
      "im_stokes0 shape is :  (1024, 1224)\n",
      "DoLP time:  0.03497910499572754 s\n",
      "im_DOLP shape is :  (1024, 1224)\n",
      "Time for DOLP2Theta conversion is :  21.394670009613037 seconds\n",
      "False\n",
      "AoLP time:  0.039975881576538086 s\n"
     ]
    },
    {
     "name": "stderr",
     "output_type": "stream",
     "text": [
      "\r",
      "  5%|████▏                                                                          | 12/225 [04:28<1:18:39, 22.16s/it]"
     ]
    },
    {
     "name": "stdout",
     "output_type": "stream",
     "text": [
      "Processing data for material : WATER\n",
      "image_data shape is :  (2048, 2448)\n",
      "im90 shape is :  (1024, 1224)\n",
      "Stokes time:  0.02698349952697754 s\n",
      "im_stokes0 shape is :  (1024, 1224)\n",
      "DoLP time:  0.03597903251647949 s\n",
      "im_DOLP shape is :  (1024, 1224)\n",
      "Time for DOLP2Theta conversion is :  21.44663715362549 seconds\n",
      "False\n",
      "AoLP time:  0.038976192474365234 s\n"
     ]
    },
    {
     "name": "stderr",
     "output_type": "stream",
     "text": [
      "\r",
      "  6%|████▌                                                                          | 13/225 [04:50<1:18:12, 22.13s/it]"
     ]
    },
    {
     "name": "stdout",
     "output_type": "stream",
     "text": [
      "Processing data for material : WATER\n",
      "image_data shape is :  (2048, 2448)\n",
      "im90 shape is :  (1024, 1224)\n",
      "Stokes time:  0.025984764099121094 s\n",
      "im_stokes0 shape is :  (1024, 1224)\n",
      "DoLP time:  0.032981157302856445 s\n",
      "im_DOLP shape is :  (1024, 1224)\n",
      "Time for DOLP2Theta conversion is :  21.3367018699646 seconds\n",
      "False\n",
      "AoLP time:  0.03897738456726074 s\n"
     ]
    },
    {
     "name": "stderr",
     "output_type": "stream",
     "text": [
      "\r",
      "  6%|████▉                                                                          | 14/225 [05:12<1:17:37, 22.07s/it]"
     ]
    },
    {
     "name": "stdout",
     "output_type": "stream",
     "text": [
      "Processing data for material : WATER\n",
      "image_data shape is :  (2048, 2448)\n",
      "im90 shape is :  (1024, 1224)\n",
      "Stokes time:  0.025985002517700195 s\n",
      "im_stokes0 shape is :  (1024, 1224)\n",
      "DoLP time:  0.03298020362854004 s\n",
      "im_DOLP shape is :  (1024, 1224)\n",
      "Time for DOLP2Theta conversion is :  21.706490755081177 seconds\n",
      "False\n",
      "AoLP time:  0.04197502136230469 s\n"
     ]
    },
    {
     "name": "stderr",
     "output_type": "stream",
     "text": [
      "\r",
      "  7%|█████▎                                                                         | 15/225 [05:34<1:17:32, 22.15s/it]"
     ]
    },
    {
     "name": "stdout",
     "output_type": "stream",
     "text": [
      "Processing data for material : WATER\n",
      "image_data shape is :  (2048, 2448)\n",
      "im90 shape is :  (1024, 1224)\n",
      "Stokes time:  0.024984121322631836 s\n",
      "im_stokes0 shape is :  (1024, 1224)\n",
      "DoLP time:  0.032979726791381836 s\n",
      "im_DOLP shape is :  (1024, 1224)\n",
      "Time for DOLP2Theta conversion is :  22.20320224761963 seconds\n",
      "False\n",
      "AoLP time:  0.04197549819946289 s\n"
     ]
    },
    {
     "name": "stderr",
     "output_type": "stream",
     "text": [
      "\r",
      "  7%|█████▌                                                                         | 16/225 [05:57<1:17:53, 22.36s/it]"
     ]
    },
    {
     "name": "stdout",
     "output_type": "stream",
     "text": [
      "Processing data for material : WATER\n",
      "image_data shape is :  (2048, 2448)\n",
      "im90 shape is :  (1024, 1224)\n",
      "Stokes time:  0.022986173629760742 s\n",
      "im_stokes0 shape is :  (1024, 1224)\n",
      "DoLP time:  0.03298068046569824 s\n",
      "im_DOLP shape is :  (1024, 1224)\n",
      "Time for DOLP2Theta conversion is :  22.350116729736328 seconds\n",
      "False\n",
      "AoLP time:  0.041974782943725586 s\n"
     ]
    },
    {
     "name": "stderr",
     "output_type": "stream",
     "text": [
      "\r",
      "  8%|█████▉                                                                         | 17/225 [06:20<1:18:11, 22.55s/it]"
     ]
    },
    {
     "name": "stdout",
     "output_type": "stream",
     "text": [
      "Processing data for material : WATER\n",
      "image_data shape is :  (2048, 2448)\n",
      "im90 shape is :  (1024, 1224)\n",
      "Stokes time:  0.0299832820892334 s\n",
      "im_stokes0 shape is :  (1024, 1224)\n",
      "DoLP time:  0.03397989273071289 s\n",
      "im_DOLP shape is :  (1024, 1224)\n",
      "Time for DOLP2Theta conversion is :  22.24917697906494 seconds\n",
      "False\n",
      "AoLP time:  0.04897117614746094 s\n"
     ]
    },
    {
     "name": "stderr",
     "output_type": "stream",
     "text": [
      "\r",
      "  8%|██████▎                                                                        | 18/225 [06:43<1:18:10, 22.66s/it]"
     ]
    },
    {
     "name": "stdout",
     "output_type": "stream",
     "text": [
      "Processing data for material : WATER\n",
      "image_data shape is :  (2048, 2448)\n",
      "im90 shape is :  (1024, 1224)\n",
      "Stokes time:  0.02698349952697754 s\n",
      "im_stokes0 shape is :  (1024, 1224)\n",
      "DoLP time:  0.03597879409790039 s\n",
      "im_DOLP shape is :  (1024, 1224)\n",
      "Time for DOLP2Theta conversion is :  22.334128618240356 seconds\n",
      "False\n",
      "AoLP time:  0.04197335243225098 s\n"
     ]
    },
    {
     "name": "stderr",
     "output_type": "stream",
     "text": [
      "\r",
      "  8%|██████▋                                                                        | 19/225 [07:06<1:18:10, 22.77s/it]"
     ]
    },
    {
     "name": "stdout",
     "output_type": "stream",
     "text": [
      "Processing data for material : WATER\n",
      "image_data shape is :  (2048, 2448)\n",
      "im90 shape is :  (1024, 1224)\n",
      "Stokes time:  0.024985074996948242 s\n",
      "im_stokes0 shape is :  (1024, 1224)\n",
      "DoLP time:  0.03597831726074219 s\n",
      "im_DOLP shape is :  (1024, 1224)\n",
      "Time for DOLP2Theta conversion is :  22.636967182159424 seconds\n",
      "False\n",
      "AoLP time:  0.04097890853881836 s\n"
     ]
    },
    {
     "name": "stderr",
     "output_type": "stream",
     "text": [
      "\r",
      "  9%|███████                                                                        | 20/225 [07:29<1:18:18, 22.92s/it]"
     ]
    },
    {
     "name": "stdout",
     "output_type": "stream",
     "text": [
      "Processing data for material : WATER\n",
      "image_data shape is :  (2048, 2448)\n",
      "im90 shape is :  (1024, 1224)\n",
      "Stokes time:  0.025984764099121094 s\n",
      "im_stokes0 shape is :  (1024, 1224)\n",
      "DoLP time:  0.037976980209350586 s\n",
      "im_DOLP shape is :  (1024, 1224)\n",
      "Time for DOLP2Theta conversion is :  22.59097957611084 seconds\n",
      "False\n",
      "AoLP time:  0.04697275161743164 s\n"
     ]
    },
    {
     "name": "stderr",
     "output_type": "stream",
     "text": [
      "\r",
      "  9%|███████▎                                                                       | 21/225 [07:52<1:18:18, 23.03s/it]"
     ]
    },
    {
     "name": "stdout",
     "output_type": "stream",
     "text": [
      "Processing data for material : WATER\n",
      "image_data shape is :  (2048, 2448)\n",
      "im90 shape is :  (1024, 1224)\n",
      "Stokes time:  0.028984785079956055 s\n",
      "im_stokes0 shape is :  (1024, 1224)\n",
      "DoLP time:  0.0359797477722168 s\n",
      "im_DOLP shape is :  (1024, 1224)\n",
      "Time for DOLP2Theta conversion is :  22.673930168151855 seconds\n",
      "False\n",
      "AoLP time:  0.04197525978088379 s\n"
     ]
    },
    {
     "name": "stderr",
     "output_type": "stream",
     "text": [
      "\r",
      " 10%|███████▋                                                                       | 22/225 [08:16<1:18:14, 23.12s/it]"
     ]
    },
    {
     "name": "stdout",
     "output_type": "stream",
     "text": [
      "Processing data for material : WATER\n",
      "image_data shape is :  (2048, 2448)\n",
      "im90 shape is :  (1024, 1224)\n",
      "Stokes time:  0.025985240936279297 s\n",
      "im_stokes0 shape is :  (1024, 1224)\n",
      "DoLP time:  0.03497934341430664 s\n",
      "im_DOLP shape is :  (1024, 1224)\n",
      "Time for DOLP2Theta conversion is :  22.413081884384155 seconds\n",
      "False\n",
      "AoLP time:  0.04297471046447754 s\n"
     ]
    },
    {
     "name": "stderr",
     "output_type": "stream",
     "text": [
      "\r",
      " 10%|████████                                                                       | 23/225 [08:39<1:17:45, 23.10s/it]"
     ]
    },
    {
     "name": "stdout",
     "output_type": "stream",
     "text": [
      "Processing data for material : WATER\n",
      "image_data shape is :  (2048, 2448)\n",
      "im90 shape is :  (1024, 1224)\n",
      "Stokes time:  0.02898383140563965 s\n",
      "im_stokes0 shape is :  (1024, 1224)\n",
      "DoLP time:  0.03797769546508789 s\n",
      "im_DOLP shape is :  (1024, 1224)\n",
      "Time for DOLP2Theta conversion is :  22.280158042907715 seconds\n",
      "False\n",
      "AoLP time:  0.04097437858581543 s\n"
     ]
    },
    {
     "name": "stderr",
     "output_type": "stream",
     "text": [
      "\r",
      " 11%|████████▍                                                                      | 24/225 [09:02<1:17:15, 23.06s/it]"
     ]
    },
    {
     "name": "stdout",
     "output_type": "stream",
     "text": [
      "Processing data for material : WATER\n",
      "image_data shape is :  (2048, 2448)\n",
      "im90 shape is :  (1024, 1224)\n",
      "Stokes time:  0.026984453201293945 s\n",
      "im_stokes0 shape is :  (1024, 1224)\n",
      "DoLP time:  0.03497958183288574 s\n",
      "im_DOLP shape is :  (1024, 1224)\n",
      "Time for DOLP2Theta conversion is :  22.450061082839966 seconds\n",
      "False\n",
      "AoLP time:  0.04797220230102539 s\n"
     ]
    },
    {
     "name": "stderr",
     "output_type": "stream",
     "text": [
      "\r",
      " 11%|████████▊                                                                      | 25/225 [09:25<1:16:54, 23.07s/it]"
     ]
    },
    {
     "name": "stdout",
     "output_type": "stream",
     "text": [
      "Processing data for material : WATER\n",
      "image_data shape is :  (2048, 2448)\n",
      "im90 shape is :  (1024, 1224)\n",
      "Stokes time:  0.025986909866333008 s\n",
      "im_stokes0 shape is :  (1024, 1224)\n",
      "DoLP time:  0.03597855567932129 s\n",
      "im_DOLP shape is :  (1024, 1224)\n",
      "Time for DOLP2Theta conversion is :  23.719331741333008 seconds\n",
      "False\n",
      "AoLP time:  0.044973134994506836 s\n"
     ]
    },
    {
     "name": "stderr",
     "output_type": "stream",
     "text": [
      "\r",
      " 12%|█████████▏                                                                     | 26/225 [09:49<1:17:49, 23.47s/it]"
     ]
    },
    {
     "name": "stdout",
     "output_type": "stream",
     "text": [
      "Processing data for material : WATER\n",
      "image_data shape is :  (2048, 2448)\n",
      "im90 shape is :  (1024, 1224)\n",
      "Stokes time:  0.02698493003845215 s\n",
      "im_stokes0 shape is :  (1024, 1224)\n",
      "DoLP time:  0.03597855567932129 s\n",
      "im_DOLP shape is :  (1024, 1224)\n",
      "Time for DOLP2Theta conversion is :  23.29757261276245 seconds\n",
      "False\n",
      "AoLP time:  0.04197525978088379 s\n"
     ]
    },
    {
     "name": "stderr",
     "output_type": "stream",
     "text": [
      "\r",
      " 12%|█████████▍                                                                     | 27/225 [10:13<1:17:55, 23.61s/it]"
     ]
    },
    {
     "name": "stdout",
     "output_type": "stream",
     "text": [
      "Processing data for material : WATER\n",
      "image_data shape is :  (2048, 2448)\n",
      "im90 shape is :  (1024, 1224)\n",
      "Stokes time:  0.025983572006225586 s\n",
      "im_stokes0 shape is :  (1024, 1224)\n",
      "DoLP time:  0.03397941589355469 s\n",
      "im_DOLP shape is :  (1024, 1224)\n",
      "Time for DOLP2Theta conversion is :  22.60097336769104 seconds\n",
      "False\n",
      "AoLP time:  0.04496502876281738 s\n"
     ]
    },
    {
     "name": "stderr",
     "output_type": "stream",
     "text": [
      "\r",
      " 12%|█████████▊                                                                     | 28/225 [10:36<1:17:10, 23.50s/it]"
     ]
    },
    {
     "name": "stdout",
     "output_type": "stream",
     "text": [
      "Processing data for material : WATER\n",
      "image_data shape is :  (2048, 2448)\n",
      "im90 shape is :  (1024, 1224)\n",
      "Stokes time:  0.025985002517700195 s\n",
      "im_stokes0 shape is :  (1024, 1224)\n",
      "DoLP time:  0.03497934341430664 s\n",
      "im_DOLP shape is :  (1024, 1224)\n",
      "Time for DOLP2Theta conversion is :  22.406087160110474 seconds\n",
      "False\n",
      "AoLP time:  0.04597163200378418 s\n"
     ]
    },
    {
     "name": "stderr",
     "output_type": "stream",
     "text": [
      "\r",
      " 13%|██████████▏                                                                    | 29/225 [10:59<1:16:20, 23.37s/it]"
     ]
    },
    {
     "name": "stdout",
     "output_type": "stream",
     "text": [
      "Processing data for material : WATER\n",
      "image_data shape is :  (2048, 2448)\n",
      "im90 shape is :  (1024, 1224)\n",
      "Stokes time:  0.026984453201293945 s\n",
      "im_stokes0 shape is :  (1024, 1224)\n",
      "DoLP time:  0.04497408866882324 s\n",
      "im_DOLP shape is :  (1024, 1224)\n",
      "Time for DOLP2Theta conversion is :  22.331130266189575 seconds\n",
      "False\n",
      "AoLP time:  0.04697227478027344 s\n"
     ]
    },
    {
     "name": "stderr",
     "output_type": "stream",
     "text": [
      "\r",
      " 13%|██████████▌                                                                    | 30/225 [11:22<1:15:36, 23.26s/it]"
     ]
    },
    {
     "name": "stdout",
     "output_type": "stream",
     "text": [
      "Processing data for material : WATER\n",
      "image_data shape is :  (2048, 2448)\n",
      "im90 shape is :  (1024, 1224)\n",
      "Stokes time:  0.02598261833190918 s\n",
      "im_stokes0 shape is :  (1024, 1224)\n",
      "DoLP time:  0.03597903251647949 s\n",
      "im_DOLP shape is :  (1024, 1224)\n",
      "Time for DOLP2Theta conversion is :  22.301145792007446 seconds\n",
      "False\n",
      "AoLP time:  0.04297590255737305 s\n"
     ]
    },
    {
     "name": "stderr",
     "output_type": "stream",
     "text": [
      "\r",
      " 14%|██████████▉                                                                    | 31/225 [11:45<1:14:55, 23.17s/it]"
     ]
    },
    {
     "name": "stdout",
     "output_type": "stream",
     "text": [
      "Processing data for material : WATER\n",
      "image_data shape is :  (2048, 2448)\n",
      "im90 shape is :  (1024, 1224)\n",
      "Stokes time:  0.027983427047729492 s\n",
      "im_stokes0 shape is :  (1024, 1224)\n",
      "DoLP time:  0.03697824478149414 s\n",
      "im_DOLP shape is :  (1024, 1224)\n",
      "Time for DOLP2Theta conversion is :  21.201780796051025 seconds\n",
      "False\n",
      "AoLP time:  0.04097628593444824 s\n"
     ]
    },
    {
     "name": "stderr",
     "output_type": "stream",
     "text": [
      "\r",
      " 14%|███████████▏                                                                   | 32/225 [12:07<1:13:14, 22.77s/it]"
     ]
    },
    {
     "name": "stdout",
     "output_type": "stream",
     "text": [
      "Processing data for material : WATER\n",
      "image_data shape is :  (2048, 2448)\n",
      "im90 shape is :  (1024, 1224)\n",
      "Stokes time:  0.025984525680541992 s\n",
      "im_stokes0 shape is :  (1024, 1224)\n",
      "DoLP time:  0.03497910499572754 s\n",
      "im_DOLP shape is :  (1024, 1224)\n",
      "Time for DOLP2Theta conversion is :  20.748043537139893 seconds\n",
      "False\n",
      "AoLP time:  0.03997659683227539 s\n"
     ]
    },
    {
     "name": "stderr",
     "output_type": "stream",
     "text": [
      "\r",
      " 15%|███████████▌                                                                   | 33/225 [12:29<1:11:31, 22.35s/it]"
     ]
    },
    {
     "name": "stdout",
     "output_type": "stream",
     "text": [
      "Processing data for material : WATER\n",
      "image_data shape is :  (2048, 2448)\n",
      "im90 shape is :  (1024, 1224)\n",
      "Stokes time:  0.025985002517700195 s\n",
      "im_stokes0 shape is :  (1024, 1224)\n",
      "DoLP time:  0.032979726791381836 s\n",
      "im_DOLP shape is :  (1024, 1224)\n",
      "Time for DOLP2Theta conversion is :  20.74904203414917 seconds\n",
      "False\n",
      "AoLP time:  0.03997445106506348 s\n"
     ]
    },
    {
     "name": "stderr",
     "output_type": "stream",
     "text": [
      "\r",
      " 15%|███████████▉                                                                   | 34/225 [12:50<1:10:12, 22.06s/it]"
     ]
    },
    {
     "name": "stdout",
     "output_type": "stream",
     "text": [
      "Processing data for material : WATER\n",
      "image_data shape is :  (2048, 2448)\n",
      "im90 shape is :  (1024, 1224)\n",
      "Stokes time:  0.028983116149902344 s\n",
      "im_stokes0 shape is :  (1024, 1224)\n",
      "DoLP time:  0.04597282409667969 s\n",
      "im_DOLP shape is :  (1024, 1224)\n",
      "Time for DOLP2Theta conversion is :  21.238759756088257 seconds\n",
      "False\n",
      "AoLP time:  0.04097604751586914 s\n"
     ]
    },
    {
     "name": "stderr",
     "output_type": "stream",
     "text": [
      "\r",
      " 16%|████████████▎                                                                  | 35/225 [13:12<1:09:42, 22.01s/it]"
     ]
    },
    {
     "name": "stdout",
     "output_type": "stream",
     "text": [
      "Processing data for material : WATER\n",
      "image_data shape is :  (2048, 2448)\n",
      "im90 shape is :  (1024, 1224)\n",
      "Stokes time:  0.02498626708984375 s\n",
      "im_stokes0 shape is :  (1024, 1224)\n",
      "DoLP time:  0.036977529525756836 s\n",
      "im_DOLP shape is :  (1024, 1224)\n",
      "Time for DOLP2Theta conversion is :  21.06286096572876 seconds\n",
      "False\n",
      "AoLP time:  0.044972896575927734 s\n"
     ]
    },
    {
     "name": "stderr",
     "output_type": "stream",
     "text": [
      "\r",
      " 16%|████████████▋                                                                  | 36/225 [13:34<1:09:02, 21.92s/it]"
     ]
    },
    {
     "name": "stdout",
     "output_type": "stream",
     "text": [
      "Processing data for material : WATER\n",
      "image_data shape is :  (2048, 2448)\n",
      "im90 shape is :  (1024, 1224)\n",
      "Stokes time:  0.026984453201293945 s\n",
      "im_stokes0 shape is :  (1024, 1224)\n",
      "DoLP time:  0.03298044204711914 s\n",
      "im_DOLP shape is :  (1024, 1224)\n",
      "Time for DOLP2Theta conversion is :  20.86497402191162 seconds\n",
      "False\n",
      "AoLP time:  0.0419769287109375 s\n"
     ]
    },
    {
     "name": "stderr",
     "output_type": "stream",
     "text": [
      "\r",
      " 16%|████████████▉                                                                  | 37/225 [13:55<1:08:16, 21.79s/it]"
     ]
    },
    {
     "name": "stdout",
     "output_type": "stream",
     "text": [
      "Processing data for material : WATER\n",
      "image_data shape is :  (2048, 2448)\n",
      "im90 shape is :  (1024, 1224)\n",
      "Stokes time:  0.025985002517700195 s\n",
      "im_stokes0 shape is :  (1024, 1224)\n",
      "DoLP time:  0.03597831726074219 s\n",
      "im_DOLP shape is :  (1024, 1224)\n",
      "Time for DOLP2Theta conversion is :  20.98990297317505 seconds\n",
      "False\n",
      "AoLP time:  0.04097628593444824 s\n"
     ]
    },
    {
     "name": "stderr",
     "output_type": "stream",
     "text": [
      "\r",
      " 17%|█████████████▎                                                                 | 38/225 [14:17<1:07:47, 21.75s/it]"
     ]
    },
    {
     "name": "stdout",
     "output_type": "stream",
     "text": [
      "Processing data for material : WATER\n",
      "image_data shape is :  (2048, 2448)\n",
      "im90 shape is :  (1024, 1224)\n",
      "Stokes time:  0.02598428726196289 s\n",
      "im_stokes0 shape is :  (1024, 1224)\n",
      "DoLP time:  0.032980918884277344 s\n",
      "im_DOLP shape is :  (1024, 1224)\n",
      "Time for DOLP2Theta conversion is :  20.86497402191162 seconds\n",
      "False\n",
      "AoLP time:  0.03997611999511719 s\n"
     ]
    },
    {
     "name": "stderr",
     "output_type": "stream",
     "text": [
      "\r",
      " 17%|█████████████▋                                                                 | 39/225 [14:38<1:07:11, 21.68s/it]"
     ]
    },
    {
     "name": "stdout",
     "output_type": "stream",
     "text": [
      "Processing data for material : WATER\n",
      "image_data shape is :  (2048, 2448)\n",
      "im90 shape is :  (1024, 1224)\n",
      "Stokes time:  0.025984525680541992 s\n",
      "im_stokes0 shape is :  (1024, 1224)\n",
      "DoLP time:  0.03697776794433594 s\n",
      "im_DOLP shape is :  (1024, 1224)\n",
      "Time for DOLP2Theta conversion is :  20.81300449371338 seconds\n",
      "False\n",
      "AoLP time:  0.04597163200378418 s\n"
     ]
    },
    {
     "name": "stderr",
     "output_type": "stream",
     "text": [
      "\r",
      " 18%|██████████████                                                                 | 40/225 [15:00<1:06:38, 21.61s/it]"
     ]
    },
    {
     "name": "stdout",
     "output_type": "stream",
     "text": [
      "Processing data for material : WATER\n",
      "image_data shape is :  (2048, 2448)\n",
      "im90 shape is :  (1024, 1224)\n",
      "Stokes time:  0.026983022689819336 s\n",
      "im_stokes0 shape is :  (1024, 1224)\n",
      "DoLP time:  0.032981157302856445 s\n",
      "im_DOLP shape is :  (1024, 1224)\n",
      "Time for DOLP2Theta conversion is :  20.99889850616455 seconds\n",
      "False\n",
      "AoLP time:  0.0379788875579834 s\n"
     ]
    },
    {
     "name": "stderr",
     "output_type": "stream",
     "text": [
      "\r",
      " 18%|██████████████▍                                                                | 41/225 [15:21<1:06:17, 21.62s/it]"
     ]
    },
    {
     "name": "stdout",
     "output_type": "stream",
     "text": [
      "Processing data for material : WATER\n",
      "image_data shape is :  (2048, 2448)\n",
      "im90 shape is :  (1024, 1224)\n",
      "Stokes time:  0.02498602867126465 s\n",
      "im_stokes0 shape is :  (1024, 1224)\n",
      "DoLP time:  0.036978721618652344 s\n",
      "im_DOLP shape is :  (1024, 1224)\n",
      "Time for DOLP2Theta conversion is :  20.916945457458496 seconds\n",
      "False\n",
      "AoLP time:  0.03897666931152344 s\n"
     ]
    },
    {
     "name": "stderr",
     "output_type": "stream",
     "text": [
      "\r",
      " 19%|██████████████▋                                                                | 42/225 [15:43<1:05:50, 21.59s/it]"
     ]
    },
    {
     "name": "stdout",
     "output_type": "stream",
     "text": [
      "Processing data for material : WATER\n",
      "image_data shape is :  (2048, 2448)\n",
      "im90 shape is :  (1024, 1224)\n",
      "Stokes time:  0.023986339569091797 s\n",
      "im_stokes0 shape is :  (1024, 1224)\n",
      "DoLP time:  0.0319819450378418 s\n",
      "im_DOLP shape is :  (1024, 1224)\n",
      "Time for DOLP2Theta conversion is :  21.174794673919678 seconds\n",
      "False\n",
      "AoLP time:  0.038977861404418945 s\n"
     ]
    },
    {
     "name": "stderr",
     "output_type": "stream",
     "text": [
      "\r",
      " 19%|███████████████                                                                | 43/225 [16:05<1:05:39, 21.64s/it]"
     ]
    },
    {
     "name": "stdout",
     "output_type": "stream",
     "text": [
      "Processing data for material : WATER\n",
      "image_data shape is :  (2048, 2448)\n",
      "im90 shape is :  (1024, 1224)\n",
      "Stokes time:  0.025984764099121094 s\n",
      "im_stokes0 shape is :  (1024, 1224)\n",
      "DoLP time:  0.033980369567871094 s\n",
      "im_DOLP shape is :  (1024, 1224)\n",
      "Time for DOLP2Theta conversion is :  20.86497473716736 seconds\n",
      "False\n",
      "AoLP time:  0.041974544525146484 s\n"
     ]
    },
    {
     "name": "stderr",
     "output_type": "stream",
     "text": [
      "\r",
      " 20%|███████████████▍                                                               | 44/225 [16:26<1:05:07, 21.59s/it]"
     ]
    },
    {
     "name": "stdout",
     "output_type": "stream",
     "text": [
      "Processing data for material : WATER\n",
      "image_data shape is :  (2048, 2448)\n",
      "im90 shape is :  (1024, 1224)\n",
      "Stokes time:  0.02698349952697754 s\n",
      "im_stokes0 shape is :  (1024, 1224)\n",
      "DoLP time:  0.031981706619262695 s\n",
      "im_DOLP shape is :  (1024, 1224)\n",
      "Time for DOLP2Theta conversion is :  20.960917949676514 seconds\n",
      "False\n",
      "AoLP time:  0.038976192474365234 s\n"
     ]
    },
    {
     "name": "stderr",
     "output_type": "stream",
     "text": [
      "\r",
      " 20%|███████████████▊                                                               | 45/225 [16:48<1:04:44, 21.58s/it]"
     ]
    },
    {
     "name": "stdout",
     "output_type": "stream",
     "text": [
      "Processing data for material : WATER\n",
      "image_data shape is :  (2048, 2448)\n",
      "im90 shape is :  (1024, 1224)\n",
      "Stokes time:  0.026984214782714844 s\n",
      "im_stokes0 shape is :  (1024, 1224)\n",
      "DoLP time:  0.03198075294494629 s\n",
      "im_DOLP shape is :  (1024, 1224)\n",
      "Time for DOLP2Theta conversion is :  20.771029233932495 seconds\n",
      "False\n",
      "AoLP time:  0.039974212646484375 s\n"
     ]
    },
    {
     "name": "stderr",
     "output_type": "stream",
     "text": [
      "\r",
      " 20%|████████████████▏                                                              | 46/225 [17:09<1:04:13, 21.53s/it]"
     ]
    },
    {
     "name": "stdout",
     "output_type": "stream",
     "text": [
      "Processing data for material : WATER\n",
      "image_data shape is :  (2048, 2448)\n",
      "im90 shape is :  (1024, 1224)\n",
      "Stokes time:  0.023984909057617188 s\n",
      "im_stokes0 shape is :  (1024, 1224)\n",
      "DoLP time:  0.0339810848236084 s\n",
      "im_DOLP shape is :  (1024, 1224)\n",
      "Time for DOLP2Theta conversion is :  20.845985889434814 seconds\n",
      "False\n",
      "AoLP time:  0.04097700119018555 s\n"
     ]
    },
    {
     "name": "stderr",
     "output_type": "stream",
     "text": [
      "\r",
      " 21%|████████████████▌                                                              | 47/225 [17:30<1:03:47, 21.50s/it]"
     ]
    },
    {
     "name": "stdout",
     "output_type": "stream",
     "text": [
      "Processing data for material : WATER\n",
      "image_data shape is :  (2048, 2448)\n",
      "im90 shape is :  (1024, 1224)\n",
      "Stokes time:  0.024985551834106445 s\n",
      "im_stokes0 shape is :  (1024, 1224)\n",
      "DoLP time:  0.031980037689208984 s\n",
      "im_DOLP shape is :  (1024, 1224)\n",
      "Time for DOLP2Theta conversion is :  21.10783338546753 seconds\n",
      "False\n",
      "AoLP time:  0.03897523880004883 s\n"
     ]
    },
    {
     "name": "stderr",
     "output_type": "stream",
     "text": [
      "\r",
      " 21%|████████████████▊                                                              | 48/225 [17:52<1:03:38, 21.57s/it]"
     ]
    },
    {
     "name": "stdout",
     "output_type": "stream",
     "text": [
      "Processing data for material : WATER\n",
      "image_data shape is :  (2048, 2448)\n",
      "im90 shape is :  (1024, 1224)\n",
      "Stokes time:  0.022986888885498047 s\n",
      "im_stokes0 shape is :  (1024, 1224)\n",
      "DoLP time:  0.03098154067993164 s\n",
      "im_DOLP shape is :  (1024, 1224)\n",
      "Time for DOLP2Theta conversion is :  21.153823852539062 seconds\n",
      "False\n",
      "AoLP time:  0.04397439956665039 s\n"
     ]
    },
    {
     "name": "stderr",
     "output_type": "stream",
     "text": [
      "\r",
      " 22%|█████████████████▏                                                             | 49/225 [18:14<1:03:27, 21.63s/it]"
     ]
    },
    {
     "name": "stdout",
     "output_type": "stream",
     "text": [
      "Processing data for material : WATER\n",
      "image_data shape is :  (2048, 2448)\n",
      "im90 shape is :  (1024, 1224)\n",
      "Stokes time:  0.027984619140625 s\n",
      "im_stokes0 shape is :  (1024, 1224)\n",
      "DoLP time:  0.0359797477722168 s\n",
      "im_DOLP shape is :  (1024, 1224)\n",
      "Time for DOLP2Theta conversion is :  20.779021739959717 seconds\n",
      "False\n",
      "AoLP time:  0.044972896575927734 s\n"
     ]
    },
    {
     "name": "stderr",
     "output_type": "stream",
     "text": [
      "\r",
      " 22%|█████████████████▌                                                             | 50/225 [18:35<1:02:54, 21.57s/it]"
     ]
    },
    {
     "name": "stdout",
     "output_type": "stream",
     "text": [
      "Processing data for material : WATER\n",
      "image_data shape is :  (2048, 2448)\n",
      "im90 shape is :  (1024, 1224)\n",
      "Stokes time:  0.024985313415527344 s\n",
      "im_stokes0 shape is :  (1024, 1224)\n",
      "DoLP time:  0.03298044204711914 s\n",
      "im_DOLP shape is :  (1024, 1224)\n",
      "Time for DOLP2Theta conversion is :  20.822999715805054 seconds\n",
      "False\n",
      "AoLP time:  0.04197406768798828 s\n"
     ]
    },
    {
     "name": "stderr",
     "output_type": "stream",
     "text": [
      "\r",
      " 23%|█████████████████▉                                                             | 51/225 [18:57<1:02:26, 21.53s/it]"
     ]
    },
    {
     "name": "stdout",
     "output_type": "stream",
     "text": [
      "Processing data for material : WATER\n",
      "image_data shape is :  (2048, 2448)\n",
      "im90 shape is :  (1024, 1224)\n",
      "Stokes time:  0.023986101150512695 s\n",
      "im_stokes0 shape is :  (1024, 1224)\n",
      "DoLP time:  0.03098154067993164 s\n",
      "im_DOLP shape is :  (1024, 1224)\n",
      "Time for DOLP2Theta conversion is :  20.825997591018677 seconds\n",
      "False\n",
      "AoLP time:  0.04697108268737793 s\n"
     ]
    },
    {
     "name": "stderr",
     "output_type": "stream",
     "text": [
      "\r",
      " 23%|██████████████████▎                                                            | 52/225 [19:18<1:02:04, 21.53s/it]"
     ]
    },
    {
     "name": "stdout",
     "output_type": "stream",
     "text": [
      "Processing data for material : WATER\n",
      "image_data shape is :  (2048, 2448)\n",
      "im90 shape is :  (1024, 1224)\n",
      "Stokes time:  0.024985551834106445 s\n",
      "im_stokes0 shape is :  (1024, 1224)\n",
      "DoLP time:  0.03797745704650879 s\n",
      "im_DOLP shape is :  (1024, 1224)\n",
      "Time for DOLP2Theta conversion is :  21.07285475730896 seconds\n",
      "False\n",
      "AoLP time:  0.04097604751586914 s\n"
     ]
    },
    {
     "name": "stderr",
     "output_type": "stream",
     "text": [
      "\r",
      " 24%|██████████████████▌                                                            | 53/225 [19:40<1:01:51, 21.58s/it]"
     ]
    },
    {
     "name": "stdout",
     "output_type": "stream",
     "text": [
      "Processing data for material : WATER\n",
      "image_data shape is :  (2048, 2448)\n",
      "im90 shape is :  (1024, 1224)\n",
      "Stokes time:  0.026984691619873047 s\n",
      "im_stokes0 shape is :  (1024, 1224)\n",
      "DoLP time:  0.03497910499572754 s\n",
      "im_DOLP shape is :  (1024, 1224)\n",
      "Time for DOLP2Theta conversion is :  20.932933807373047 seconds\n",
      "False\n",
      "AoLP time:  0.04097461700439453 s\n"
     ]
    },
    {
     "name": "stderr",
     "output_type": "stream",
     "text": [
      "\r",
      " 24%|██████████████████▉                                                            | 54/225 [20:02<1:01:28, 21.57s/it]"
     ]
    },
    {
     "name": "stdout",
     "output_type": "stream",
     "text": [
      "Processing data for material : WATER\n",
      "image_data shape is :  (2048, 2448)\n",
      "im90 shape is :  (1024, 1224)\n",
      "Stokes time:  0.026984453201293945 s\n",
      "im_stokes0 shape is :  (1024, 1224)\n",
      "DoLP time:  0.03298020362854004 s\n",
      "im_DOLP shape is :  (1024, 1224)\n",
      "Time for DOLP2Theta conversion is :  20.78202247619629 seconds\n",
      "False\n",
      "AoLP time:  0.04297471046447754 s\n"
     ]
    },
    {
     "name": "stderr",
     "output_type": "stream",
     "text": [
      "\r",
      " 24%|███████████████████▎                                                           | 55/225 [20:23<1:00:59, 21.52s/it]"
     ]
    },
    {
     "name": "stdout",
     "output_type": "stream",
     "text": [
      "Processing data for material : WATER\n",
      "image_data shape is :  (2048, 2448)\n",
      "im90 shape is :  (1024, 1224)\n",
      "Stokes time:  0.025985002517700195 s\n",
      "im_stokes0 shape is :  (1024, 1224)\n",
      "DoLP time:  0.03297996520996094 s\n",
      "im_DOLP shape is :  (1024, 1224)\n",
      "Time for DOLP2Theta conversion is :  20.888960123062134 seconds\n",
      "False\n",
      "AoLP time:  0.03997659683227539 s\n"
     ]
    },
    {
     "name": "stderr",
     "output_type": "stream",
     "text": [
      "\r",
      " 25%|███████████████████▋                                                           | 56/225 [20:45<1:00:37, 21.52s/it]"
     ]
    },
    {
     "name": "stdout",
     "output_type": "stream",
     "text": [
      "Processing data for material : WATER\n",
      "image_data shape is :  (2048, 2448)\n",
      "im90 shape is :  (1024, 1224)\n",
      "Stokes time:  0.02698493003845215 s\n",
      "im_stokes0 shape is :  (1024, 1224)\n",
      "DoLP time:  0.032981157302856445 s\n",
      "im_DOLP shape is :  (1024, 1224)\n",
      "Time for DOLP2Theta conversion is :  20.938932180404663 seconds\n",
      "False\n",
      "AoLP time:  0.039977073669433594 s\n"
     ]
    },
    {
     "name": "stderr",
     "output_type": "stream",
     "text": [
      "\r",
      " 25%|████████████████████                                                           | 57/225 [21:06<1:00:18, 21.54s/it]"
     ]
    },
    {
     "name": "stdout",
     "output_type": "stream",
     "text": [
      "Processing data for material : WATER\n",
      "image_data shape is :  (2048, 2448)\n",
      "im90 shape is :  (1024, 1224)\n",
      "Stokes time:  0.023984670639038086 s\n",
      "im_stokes0 shape is :  (1024, 1224)\n",
      "DoLP time:  0.03497958183288574 s\n",
      "im_DOLP shape is :  (1024, 1224)\n",
      "Time for DOLP2Theta conversion is :  20.829995155334473 seconds\n",
      "False\n",
      "AoLP time:  0.04097557067871094 s\n"
     ]
    },
    {
     "name": "stderr",
     "output_type": "stream",
     "text": [
      "\r",
      " 26%|████████████████████▉                                                            | 58/225 [21:28<59:50, 21.50s/it]"
     ]
    },
    {
     "name": "stdout",
     "output_type": "stream",
     "text": [
      "Processing data for material : WATER\n",
      "image_data shape is :  (2048, 2448)\n",
      "im90 shape is :  (1024, 1224)\n",
      "Stokes time:  0.02798318862915039 s\n",
      "im_stokes0 shape is :  (1024, 1224)\n",
      "DoLP time:  0.03297996520996094 s\n",
      "im_DOLP shape is :  (1024, 1224)\n",
      "Time for DOLP2Theta conversion is :  21.061861038208008 seconds\n",
      "False\n",
      "AoLP time:  0.04097771644592285 s\n"
     ]
    },
    {
     "name": "stderr",
     "output_type": "stream",
     "text": [
      "\r",
      " 26%|█████████████████████▏                                                           | 59/225 [21:49<59:39, 21.56s/it]"
     ]
    },
    {
     "name": "stdout",
     "output_type": "stream",
     "text": [
      "Processing data for material : WATER\n",
      "image_data shape is :  (2048, 2448)\n",
      "im90 shape is :  (1024, 1224)\n",
      "Stokes time:  0.024985313415527344 s\n",
      "im_stokes0 shape is :  (1024, 1224)\n",
      "DoLP time:  0.030980825424194336 s\n",
      "im_DOLP shape is :  (1024, 1224)\n",
      "Time for DOLP2Theta conversion is :  21.02088451385498 seconds\n",
      "False\n",
      "AoLP time:  0.05096936225891113 s\n"
     ]
    },
    {
     "name": "stderr",
     "output_type": "stream",
     "text": [
      "\r",
      " 27%|█████████████████████▌                                                           | 60/225 [22:11<59:24, 21.60s/it]"
     ]
    },
    {
     "name": "stdout",
     "output_type": "stream",
     "text": [
      "Processing data for material : WATER\n",
      "image_data shape is :  (2048, 2448)\n",
      "im90 shape is :  (1024, 1224)\n",
      "Stokes time:  0.0279848575592041 s\n",
      "im_stokes0 shape is :  (1024, 1224)\n",
      "DoLP time:  0.0319819450378418 s\n",
      "im_DOLP shape is :  (1024, 1224)\n",
      "Time for DOLP2Theta conversion is :  20.757036447525024 seconds\n",
      "False\n",
      "AoLP time:  0.041973114013671875 s\n"
     ]
    },
    {
     "name": "stderr",
     "output_type": "stream",
     "text": [
      "\r",
      " 27%|█████████████████████▉                                                           | 61/225 [22:32<58:53, 21.54s/it]"
     ]
    },
    {
     "name": "stdout",
     "output_type": "stream",
     "text": [
      "Processing data for material : WATER\n",
      "image_data shape is :  (2048, 2448)\n",
      "im90 shape is :  (1024, 1224)\n",
      "Stokes time:  0.023986101150512695 s\n",
      "im_stokes0 shape is :  (1024, 1224)\n",
      "DoLP time:  0.03298139572143555 s\n",
      "im_DOLP shape is :  (1024, 1224)\n",
      "Time for DOLP2Theta conversion is :  20.830994606018066 seconds\n",
      "False\n",
      "AoLP time:  0.04097461700439453 s\n"
     ]
    },
    {
     "name": "stderr",
     "output_type": "stream",
     "text": [
      "\r",
      " 28%|██████████████████████▎                                                          | 62/225 [22:54<58:29, 21.53s/it]"
     ]
    },
    {
     "name": "stdout",
     "output_type": "stream",
     "text": [
      "Processing data for material : WATER\n",
      "image_data shape is :  (2048, 2448)\n",
      "im90 shape is :  (1024, 1224)\n",
      "Stokes time:  0.023984670639038086 s\n",
      "im_stokes0 shape is :  (1024, 1224)\n",
      "DoLP time:  0.0339815616607666 s\n",
      "im_DOLP shape is :  (1024, 1224)\n",
      "Time for DOLP2Theta conversion is :  20.809005737304688 seconds\n",
      "False\n",
      "AoLP time:  0.04097604751586914 s\n"
     ]
    },
    {
     "name": "stderr",
     "output_type": "stream",
     "text": [
      "\r",
      " 28%|██████████████████████▋                                                          | 63/225 [23:15<58:02, 21.50s/it]"
     ]
    },
    {
     "name": "stdout",
     "output_type": "stream",
     "text": [
      "Processing data for material : WATER\n",
      "image_data shape is :  (2048, 2448)\n",
      "im90 shape is :  (1024, 1224)\n",
      "Stokes time:  0.024985790252685547 s\n",
      "im_stokes0 shape is :  (1024, 1224)\n",
      "DoLP time:  0.03298020362854004 s\n",
      "im_DOLP shape is :  (1024, 1224)\n",
      "Time for DOLP2Theta conversion is :  20.94892430305481 seconds\n",
      "False\n",
      "AoLP time:  0.03897833824157715 s\n"
     ]
    },
    {
     "name": "stderr",
     "output_type": "stream",
     "text": [
      "\r",
      " 28%|███████████████████████                                                          | 64/225 [23:37<57:43, 21.51s/it]"
     ]
    },
    {
     "name": "stdout",
     "output_type": "stream",
     "text": [
      "Processing data for material : WATER\n",
      "image_data shape is :  (2048, 2448)\n",
      "im90 shape is :  (1024, 1224)\n",
      "Stokes time:  0.025985240936279297 s\n",
      "im_stokes0 shape is :  (1024, 1224)\n",
      "DoLP time:  0.03297996520996094 s\n",
      "im_DOLP shape is :  (1024, 1224)\n",
      "Time for DOLP2Theta conversion is :  21.01888608932495 seconds\n",
      "False\n",
      "AoLP time:  0.03796696662902832 s\n"
     ]
    },
    {
     "name": "stderr",
     "output_type": "stream",
     "text": [
      "\r",
      " 29%|███████████████████████▍                                                         | 65/225 [23:58<57:27, 21.54s/it]"
     ]
    },
    {
     "name": "stdout",
     "output_type": "stream",
     "text": [
      "Processing data for material : WATER\n",
      "image_data shape is :  (2048, 2448)\n",
      "im90 shape is :  (1024, 1224)\n",
      "Stokes time:  0.025982379913330078 s\n",
      "im_stokes0 shape is :  (1024, 1224)\n",
      "DoLP time:  0.031980276107788086 s\n",
      "im_DOLP shape is :  (1024, 1224)\n",
      "Time for DOLP2Theta conversion is :  20.947927474975586 seconds\n",
      "False\n",
      "AoLP time:  0.043974876403808594 s\n"
     ]
    },
    {
     "name": "stderr",
     "output_type": "stream",
     "text": [
      "\r",
      " 29%|███████████████████████▊                                                         | 66/225 [24:20<57:07, 21.56s/it]"
     ]
    },
    {
     "name": "stdout",
     "output_type": "stream",
     "text": [
      "Processing data for material : WATER\n",
      "image_data shape is :  (2048, 2448)\n",
      "im90 shape is :  (1024, 1224)\n",
      "Stokes time:  0.023985624313354492 s\n",
      "im_stokes0 shape is :  (1024, 1224)\n",
      "DoLP time:  0.0339810848236084 s\n",
      "im_DOLP shape is :  (1024, 1224)\n",
      "Time for DOLP2Theta conversion is :  20.83699083328247 seconds\n",
      "False\n",
      "AoLP time:  0.041974544525146484 s\n"
     ]
    },
    {
     "name": "stderr",
     "output_type": "stream",
     "text": [
      "\r",
      " 30%|████████████████████████                                                         | 67/225 [24:41<56:40, 21.52s/it]"
     ]
    },
    {
     "name": "stdout",
     "output_type": "stream",
     "text": [
      "Processing data for material : WATER\n",
      "image_data shape is :  (2048, 2448)\n",
      "im90 shape is :  (1024, 1224)\n",
      "Stokes time:  0.024985790252685547 s\n",
      "im_stokes0 shape is :  (1024, 1224)\n",
      "DoLP time:  0.037976741790771484 s\n",
      "im_DOLP shape is :  (1024, 1224)\n",
      "Time for DOLP2Theta conversion is :  22.64694595336914 seconds\n",
      "False\n",
      "AoLP time:  0.03897738456726074 s\n"
     ]
    },
    {
     "name": "stderr",
     "output_type": "stream",
     "text": [
      "\r",
      " 30%|████████████████████████▍                                                        | 68/225 [25:05<57:42, 22.05s/it]"
     ]
    },
    {
     "name": "stdout",
     "output_type": "stream",
     "text": [
      "Processing data for material : WATER\n",
      "image_data shape is :  (2048, 2448)\n",
      "im90 shape is :  (1024, 1224)\n",
      "Stokes time:  0.027983427047729492 s\n",
      "im_stokes0 shape is :  (1024, 1224)\n",
      "DoLP time:  0.037978410720825195 s\n",
      "im_DOLP shape is :  (1024, 1224)\n",
      "Time for DOLP2Theta conversion is :  26.5431067943573 seconds\n",
      "False\n",
      "AoLP time:  0.04376864433288574 s\n"
     ]
    },
    {
     "name": "stderr",
     "output_type": "stream",
     "text": [
      "\r",
      " 31%|████████████████████████▏                                                      | 69/225 [25:32<1:01:21, 23.60s/it]"
     ]
    },
    {
     "name": "stdout",
     "output_type": "stream",
     "text": [
      "Processing data for material : WATER\n",
      "image_data shape is :  (2048, 2448)\n",
      "im90 shape is :  (1024, 1224)\n",
      "Stokes time:  0.028502941131591797 s\n",
      "im_stokes0 shape is :  (1024, 1224)\n",
      "DoLP time:  0.031980037689208984 s\n",
      "im_DOLP shape is :  (1024, 1224)\n",
      "Time for DOLP2Theta conversion is :  23.012083292007446 seconds\n",
      "False\n",
      "AoLP time:  0.050969839096069336 s\n"
     ]
    },
    {
     "name": "stderr",
     "output_type": "stream",
     "text": [
      "\r",
      " 31%|████████████████████████▌                                                      | 70/225 [25:56<1:01:00, 23.62s/it]"
     ]
    },
    {
     "name": "stdout",
     "output_type": "stream",
     "text": [
      "Processing data for material : WATER\n",
      "image_data shape is :  (2048, 2448)\n",
      "im90 shape is :  (1024, 1224)\n",
      "Stokes time:  0.026983022689819336 s\n",
      "im_stokes0 shape is :  (1024, 1224)\n",
      "DoLP time:  0.037978172302246094 s\n",
      "im_DOLP shape is :  (1024, 1224)\n",
      "Time for DOLP2Theta conversion is :  21.752981424331665 seconds\n",
      "False\n",
      "AoLP time:  0.04497385025024414 s\n"
     ]
    },
    {
     "name": "stderr",
     "output_type": "stream",
     "text": [
      "\r",
      " 32%|█████████████████████████▌                                                       | 71/225 [26:18<59:41, 23.25s/it]"
     ]
    },
    {
     "name": "stdout",
     "output_type": "stream",
     "text": [
      "Processing data for material : WATER\n",
      "image_data shape is :  (2048, 2448)\n",
      "im90 shape is :  (1024, 1224)\n",
      "Stokes time:  0.025984764099121094 s\n",
      "im_stokes0 shape is :  (1024, 1224)\n",
      "DoLP time:  0.032980918884277344 s\n",
      "im_DOLP shape is :  (1024, 1224)\n",
      "Time for DOLP2Theta conversion is :  22.40564227104187 seconds\n",
      "False\n",
      "AoLP time:  0.05196857452392578 s\n"
     ]
    },
    {
     "name": "stderr",
     "output_type": "stream",
     "text": [
      "\r",
      " 32%|█████████████████████████▉                                                       | 72/225 [26:41<59:11, 23.21s/it]"
     ]
    },
    {
     "name": "stdout",
     "output_type": "stream",
     "text": [
      "Processing data for material : WATER\n",
      "image_data shape is :  (2048, 2448)\n",
      "im90 shape is :  (1024, 1224)\n",
      "Stokes time:  0.02798295021057129 s\n",
      "im_stokes0 shape is :  (1024, 1224)\n",
      "DoLP time:  0.03298163414001465 s\n",
      "im_DOLP shape is :  (1024, 1224)\n",
      "Time for DOLP2Theta conversion is :  22.824406147003174 seconds\n",
      "False\n",
      "AoLP time:  0.05196857452392578 s\n"
     ]
    },
    {
     "name": "stderr",
     "output_type": "stream",
     "text": [
      "\r",
      " 32%|██████████████████████████▎                                                      | 73/225 [27:05<59:01, 23.30s/it]"
     ]
    },
    {
     "name": "stdout",
     "output_type": "stream",
     "text": [
      "Processing data for material : WATER\n",
      "image_data shape is :  (2048, 2448)\n",
      "im90 shape is :  (1024, 1224)\n",
      "Stokes time:  0.025984525680541992 s\n",
      "im_stokes0 shape is :  (1024, 1224)\n",
      "DoLP time:  0.03597903251647949 s\n",
      "im_DOLP shape is :  (1024, 1224)\n",
      "Time for DOLP2Theta conversion is :  21.752119302749634 seconds\n",
      "False\n",
      "AoLP time:  0.03997659683227539 s\n"
     ]
    },
    {
     "name": "stderr",
     "output_type": "stream",
     "text": [
      "\r",
      " 33%|██████████████████████████▋                                                      | 74/225 [27:27<57:59, 23.04s/it]"
     ]
    },
    {
     "name": "stdout",
     "output_type": "stream",
     "text": [
      "Processing data for material : WATER\n",
      "image_data shape is :  (2048, 2448)\n",
      "im90 shape is :  (1024, 1224)\n",
      "Stokes time:  0.02498626708984375 s\n",
      "im_stokes0 shape is :  (1024, 1224)\n",
      "DoLP time:  0.03797745704650879 s\n",
      "im_DOLP shape is :  (1024, 1224)\n",
      "Time for DOLP2Theta conversion is :  21.692498445510864 seconds\n",
      "False\n",
      "AoLP time:  0.04197525978088379 s\n"
     ]
    },
    {
     "name": "stderr",
     "output_type": "stream",
     "text": [
      "\r",
      " 33%|███████████████████████████                                                      | 75/225 [27:49<57:05, 22.84s/it]"
     ]
    },
    {
     "name": "stdout",
     "output_type": "stream",
     "text": [
      "Processing data for material : WATER\n",
      "image_data shape is :  (2048, 2448)\n",
      "im90 shape is :  (1024, 1224)\n",
      "Stokes time:  0.023985862731933594 s\n",
      "im_stokes0 shape is :  (1024, 1224)\n",
      "DoLP time:  0.030981779098510742 s\n",
      "im_DOLP shape is :  (1024, 1224)\n",
      "Time for DOLP2Theta conversion is :  21.89338231086731 seconds\n",
      "False\n",
      "AoLP time:  0.042975664138793945 s\n"
     ]
    },
    {
     "name": "stderr",
     "output_type": "stream",
     "text": [
      "\r",
      " 34%|███████████████████████████▎                                                     | 76/225 [28:12<56:31, 22.76s/it]"
     ]
    },
    {
     "name": "stdout",
     "output_type": "stream",
     "text": [
      "Processing data for material : WATER\n",
      "image_data shape is :  (2048, 2448)\n",
      "im90 shape is :  (1024, 1224)\n",
      "Stokes time:  0.027983427047729492 s\n",
      "im_stokes0 shape is :  (1024, 1224)\n",
      "DoLP time:  0.04097580909729004 s\n",
      "im_DOLP shape is :  (1024, 1224)\n",
      "Time for DOLP2Theta conversion is :  21.97333574295044 seconds\n",
      "False\n",
      "AoLP time:  0.04097557067871094 s\n"
     ]
    },
    {
     "name": "stderr",
     "output_type": "stream",
     "text": [
      "\r",
      " 34%|███████████████████████████▋                                                     | 77/225 [28:35<56:04, 22.74s/it]"
     ]
    },
    {
     "name": "stdout",
     "output_type": "stream",
     "text": [
      "Processing data for material : WATER\n",
      "image_data shape is :  (2048, 2448)\n",
      "im90 shape is :  (1024, 1224)\n",
      "Stokes time:  0.02498483657836914 s\n",
      "im_stokes0 shape is :  (1024, 1224)\n",
      "DoLP time:  0.036978960037231445 s\n",
      "im_DOLP shape is :  (1024, 1224)\n",
      "Time for DOLP2Theta conversion is :  21.371681213378906 seconds\n",
      "False\n",
      "AoLP time:  0.04397463798522949 s\n"
     ]
    },
    {
     "name": "stderr",
     "output_type": "stream",
     "text": [
      "\r",
      " 35%|████████████████████████████                                                     | 78/225 [28:57<55:12, 22.54s/it]"
     ]
    },
    {
     "name": "stdout",
     "output_type": "stream",
     "text": [
      "Processing data for material : WATER\n",
      "image_data shape is :  (2048, 2448)\n",
      "im90 shape is :  (1024, 1224)\n",
      "Stokes time:  0.02698540687561035 s\n",
      "im_stokes0 shape is :  (1024, 1224)\n",
      "DoLP time:  0.036977291107177734 s\n",
      "im_DOLP shape is :  (1024, 1224)\n",
      "Time for DOLP2Theta conversion is :  21.76545476913452 seconds\n",
      "False\n",
      "AoLP time:  0.04097795486450195 s\n"
     ]
    },
    {
     "name": "stderr",
     "output_type": "stream",
     "text": [
      "\r",
      " 35%|████████████████████████████▍                                                    | 79/225 [29:19<54:48, 22.52s/it]"
     ]
    },
    {
     "name": "stdout",
     "output_type": "stream",
     "text": [
      "Processing data for material : WATER\n",
      "image_data shape is :  (2048, 2448)\n",
      "im90 shape is :  (1024, 1224)\n",
      "Stokes time:  0.025984525680541992 s\n",
      "im_stokes0 shape is :  (1024, 1224)\n",
      "DoLP time:  0.03698015213012695 s\n",
      "im_DOLP shape is :  (1024, 1224)\n",
      "Time for DOLP2Theta conversion is :  21.655527591705322 seconds\n",
      "False\n",
      "AoLP time:  0.04097485542297363 s\n"
     ]
    },
    {
     "name": "stderr",
     "output_type": "stream",
     "text": [
      "\r",
      " 36%|████████████████████████████▊                                                    | 80/225 [29:42<54:18, 22.47s/it]"
     ]
    },
    {
     "name": "stdout",
     "output_type": "stream",
     "text": [
      "Processing data for material : WATER\n",
      "image_data shape is :  (2048, 2448)\n",
      "im90 shape is :  (1024, 1224)\n",
      "Stokes time:  0.024985551834106445 s\n",
      "im_stokes0 shape is :  (1024, 1224)\n",
      "DoLP time:  0.03397774696350098 s\n",
      "im_DOLP shape is :  (1024, 1224)\n",
      "Time for DOLP2Theta conversion is :  21.295725345611572 seconds\n",
      "False\n",
      "AoLP time:  0.04697465896606445 s\n"
     ]
    },
    {
     "name": "stderr",
     "output_type": "stream",
     "text": [
      "\r",
      " 36%|█████████████████████████████▏                                                   | 81/225 [30:04<53:36, 22.34s/it]"
     ]
    },
    {
     "name": "stdout",
     "output_type": "stream",
     "text": [
      "Processing data for material : WATER\n",
      "image_data shape is :  (2048, 2448)\n",
      "im90 shape is :  (1024, 1224)\n",
      "Stokes time:  0.02598714828491211 s\n",
      "im_stokes0 shape is :  (1024, 1224)\n",
      "DoLP time:  0.032981157302856445 s\n",
      "im_DOLP shape is :  (1024, 1224)\n",
      "Time for DOLP2Theta conversion is :  21.59155511856079 seconds\n",
      "False\n",
      "AoLP time:  0.041974782943725586 s\n"
     ]
    },
    {
     "name": "stderr",
     "output_type": "stream",
     "text": [
      "\r",
      " 36%|█████████████████████████████▌                                                   | 82/225 [30:26<53:11, 22.32s/it]"
     ]
    },
    {
     "name": "stdout",
     "output_type": "stream",
     "text": [
      "Processing data for material : WATER\n",
      "image_data shape is :  (2048, 2448)\n",
      "im90 shape is :  (1024, 1224)\n",
      "Stokes time:  0.02898383140563965 s\n",
      "im_stokes0 shape is :  (1024, 1224)\n",
      "DoLP time:  0.03198099136352539 s\n",
      "im_DOLP shape is :  (1024, 1224)\n",
      "Time for DOLP2Theta conversion is :  21.50360655784607 seconds\n",
      "False\n",
      "AoLP time:  0.03997540473937988 s\n"
     ]
    },
    {
     "name": "stderr",
     "output_type": "stream",
     "text": [
      "\r",
      " 37%|█████████████████████████████▉                                                   | 83/225 [30:48<52:41, 22.27s/it]"
     ]
    },
    {
     "name": "stdout",
     "output_type": "stream",
     "text": [
      "Processing data for material : WATER\n",
      "image_data shape is :  (2048, 2448)\n",
      "im90 shape is :  (1024, 1224)\n",
      "Stokes time:  0.02498459815979004 s\n",
      "im_stokes0 shape is :  (1024, 1224)\n",
      "DoLP time:  0.03198075294494629 s\n",
      "im_DOLP shape is :  (1024, 1224)\n",
      "Time for DOLP2Theta conversion is :  21.40865921974182 seconds\n",
      "False\n",
      "AoLP time:  0.04197883605957031 s\n"
     ]
    },
    {
     "name": "stderr",
     "output_type": "stream",
     "text": [
      "\r",
      " 37%|██████████████████████████████▏                                                  | 84/225 [31:10<52:12, 22.21s/it]"
     ]
    },
    {
     "name": "stdout",
     "output_type": "stream",
     "text": [
      "Processing data for material : WATER\n",
      "image_data shape is :  (2048, 2448)\n",
      "im90 shape is :  (1024, 1224)\n",
      "Stokes time:  0.0239865779876709 s\n",
      "im_stokes0 shape is :  (1024, 1224)\n",
      "DoLP time:  0.031980276107788086 s\n",
      "im_DOLP shape is :  (1024, 1224)\n",
      "Time for DOLP2Theta conversion is :  21.40266466140747 seconds\n",
      "False\n",
      "AoLP time:  0.04497480392456055 s\n"
     ]
    },
    {
     "name": "stderr",
     "output_type": "stream",
     "text": [
      "\r",
      " 38%|██████████████████████████████▌                                                  | 85/225 [31:32<51:43, 22.17s/it]"
     ]
    },
    {
     "name": "stdout",
     "output_type": "stream",
     "text": [
      "Processing data for material : WATER\n",
      "image_data shape is :  (2048, 2448)\n",
      "im90 shape is :  (1024, 1224)\n",
      "Stokes time:  0.026985645294189453 s\n",
      "im_stokes0 shape is :  (1024, 1224)\n",
      "DoLP time:  0.038977861404418945 s\n",
      "im_DOLP shape is :  (1024, 1224)\n",
      "Time for DOLP2Theta conversion is :  21.638529539108276 seconds\n",
      "False\n",
      "AoLP time:  0.040975332260131836 s\n"
     ]
    },
    {
     "name": "stderr",
     "output_type": "stream",
     "text": [
      "\r",
      " 38%|██████████████████████████████▉                                                  | 86/225 [31:55<51:27, 22.21s/it]"
     ]
    },
    {
     "name": "stdout",
     "output_type": "stream",
     "text": [
      "Processing data for material : WATER\n",
      "image_data shape is :  (2048, 2448)\n",
      "im90 shape is :  (1024, 1224)\n",
      "Stokes time:  0.02698373794555664 s\n",
      "im_stokes0 shape is :  (1024, 1224)\n",
      "DoLP time:  0.03797745704650879 s\n",
      "im_DOLP shape is :  (1024, 1224)\n",
      "Time for DOLP2Theta conversion is :  21.598552227020264 seconds\n",
      "False\n",
      "AoLP time:  0.04197382926940918 s\n"
     ]
    },
    {
     "name": "stderr",
     "output_type": "stream",
     "text": [
      "\r",
      " 39%|███████████████████████████████▎                                                 | 87/225 [32:17<51:12, 22.26s/it]"
     ]
    },
    {
     "name": "stdout",
     "output_type": "stream",
     "text": [
      "Processing data for material : WATER\n",
      "image_data shape is :  (2048, 2448)\n",
      "im90 shape is :  (1024, 1224)\n",
      "Stokes time:  0.025984764099121094 s\n",
      "im_stokes0 shape is :  (1024, 1224)\n",
      "DoLP time:  0.03697824478149414 s\n",
      "im_DOLP shape is :  (1024, 1224)\n",
      "Time for DOLP2Theta conversion is :  22.48404049873352 seconds\n",
      "False\n",
      "AoLP time:  0.04197502136230469 s\n"
     ]
    },
    {
     "name": "stderr",
     "output_type": "stream",
     "text": [
      "\r",
      " 39%|███████████████████████████████▋                                                 | 88/225 [32:40<51:28, 22.54s/it]"
     ]
    },
    {
     "name": "stdout",
     "output_type": "stream",
     "text": [
      "Processing data for material : WATER\n",
      "image_data shape is :  (2048, 2448)\n",
      "im90 shape is :  (1024, 1224)\n",
      "Stokes time:  0.03098130226135254 s\n",
      "im_stokes0 shape is :  (1024, 1224)\n",
      "DoLP time:  0.03897690773010254 s\n",
      "im_DOLP shape is :  (1024, 1224)\n",
      "Time for DOLP2Theta conversion is :  23.389519929885864 seconds\n",
      "False\n",
      "AoLP time:  0.04197335243225098 s\n"
     ]
    },
    {
     "name": "stderr",
     "output_type": "stream",
     "text": [
      "\r",
      " 40%|████████████████████████████████                                                 | 89/225 [33:04<52:08, 23.00s/it]"
     ]
    },
    {
     "name": "stdout",
     "output_type": "stream",
     "text": [
      "Processing data for material : WATER\n",
      "image_data shape is :  (2048, 2448)\n",
      "im90 shape is :  (1024, 1224)\n",
      "Stokes time:  0.02498650550842285 s\n",
      "im_stokes0 shape is :  (1024, 1224)\n",
      "DoLP time:  0.03098320960998535 s\n",
      "im_DOLP shape is :  (1024, 1224)\n",
      "Time for DOLP2Theta conversion is :  23.248600959777832 seconds\n",
      "False\n",
      "AoLP time:  0.040975332260131836 s\n"
     ]
    },
    {
     "name": "stderr",
     "output_type": "stream",
     "text": [
      "\r",
      " 40%|████████████████████████████████▍                                                | 90/225 [33:28<52:23, 23.29s/it]"
     ]
    },
    {
     "name": "stdout",
     "output_type": "stream",
     "text": [
      "Processing data for material : WATER\n",
      "image_data shape is :  (2048, 2448)\n",
      "im90 shape is :  (1024, 1224)\n",
      "Stokes time:  0.03297996520996094 s\n",
      "im_stokes0 shape is :  (1024, 1224)\n",
      "DoLP time:  0.04597306251525879 s\n",
      "im_DOLP shape is :  (1024, 1224)\n",
      "Time for DOLP2Theta conversion is :  23.322558164596558 seconds\n",
      "False\n",
      "AoLP time:  0.04397249221801758 s\n"
     ]
    },
    {
     "name": "stderr",
     "output_type": "stream",
     "text": [
      "\r",
      " 40%|████████████████████████████████▊                                                | 91/225 [33:52<52:31, 23.52s/it]"
     ]
    },
    {
     "name": "stdout",
     "output_type": "stream",
     "text": [
      "Processing data for material : WATER\n",
      "image_data shape is :  (2048, 2448)\n",
      "im90 shape is :  (1024, 1224)\n",
      "Stokes time:  0.03298068046569824 s\n",
      "im_stokes0 shape is :  (1024, 1224)\n",
      "DoLP time:  0.035979270935058594 s\n",
      "im_DOLP shape is :  (1024, 1224)\n",
      "Time for DOLP2Theta conversion is :  23.06670355796814 seconds\n",
      "False\n",
      "AoLP time:  0.041993141174316406 s\n"
     ]
    },
    {
     "name": "stderr",
     "output_type": "stream",
     "text": [
      "\r",
      " 41%|█████████████████████████████████                                                | 92/225 [34:16<52:18, 23.59s/it]"
     ]
    },
    {
     "name": "stdout",
     "output_type": "stream",
     "text": [
      "Processing data for material : WATER\n",
      "image_data shape is :  (2048, 2448)\n",
      "im90 shape is :  (1024, 1224)\n",
      "Stokes time:  0.026983976364135742 s\n",
      "im_stokes0 shape is :  (1024, 1224)\n",
      "DoLP time:  0.035977840423583984 s\n",
      "im_DOLP shape is :  (1024, 1224)\n",
      "Time for DOLP2Theta conversion is :  22.558998346328735 seconds\n",
      "False\n",
      "AoLP time:  0.03997492790222168 s\n"
     ]
    },
    {
     "name": "stderr",
     "output_type": "stream",
     "text": [
      "\r",
      " 41%|█████████████████████████████████▍                                               | 93/225 [34:39<51:39, 23.48s/it]"
     ]
    },
    {
     "name": "stdout",
     "output_type": "stream",
     "text": [
      "Processing data for material : WATER\n",
      "image_data shape is :  (2048, 2448)\n",
      "im90 shape is :  (1024, 1224)\n",
      "Stokes time:  0.02898240089416504 s\n",
      "im_stokes0 shape is :  (1024, 1224)\n",
      "DoLP time:  0.037978410720825195 s\n",
      "im_DOLP shape is :  (1024, 1224)\n",
      "Time for DOLP2Theta conversion is :  21.805431365966797 seconds\n",
      "False\n",
      "AoLP time:  0.03997683525085449 s\n"
     ]
    },
    {
     "name": "stderr",
     "output_type": "stream",
     "text": [
      "\r",
      " 42%|█████████████████████████████████▊                                               | 94/225 [35:02<50:38, 23.20s/it]"
     ]
    },
    {
     "name": "stdout",
     "output_type": "stream",
     "text": [
      "Processing data for material : WATER\n",
      "image_data shape is :  (2048, 2448)\n",
      "im90 shape is :  (1024, 1224)\n",
      "Stokes time:  0.025984525680541992 s\n",
      "im_stokes0 shape is :  (1024, 1224)\n",
      "DoLP time:  0.03797769546508789 s\n",
      "im_DOLP shape is :  (1024, 1224)\n",
      "Time for DOLP2Theta conversion is :  21.320712089538574 seconds\n",
      "False\n",
      "AoLP time:  0.04397439956665039 s\n"
     ]
    },
    {
     "name": "stderr",
     "output_type": "stream",
     "text": [
      "\r",
      " 42%|██████████████████████████████████▏                                              | 95/225 [35:24<49:29, 22.84s/it]"
     ]
    },
    {
     "name": "stdout",
     "output_type": "stream",
     "text": [
      "Processing data for material : WATER\n",
      "image_data shape is :  (2048, 2448)\n",
      "im90 shape is :  (1024, 1224)\n",
      "Stokes time:  0.02498650550842285 s\n",
      "im_stokes0 shape is :  (1024, 1224)\n",
      "DoLP time:  0.03198051452636719 s\n",
      "im_DOLP shape is :  (1024, 1224)\n",
      "Time for DOLP2Theta conversion is :  21.072855710983276 seconds\n",
      "False\n",
      "AoLP time:  0.03997397422790527 s\n"
     ]
    },
    {
     "name": "stderr",
     "output_type": "stream",
     "text": [
      "\r",
      " 43%|██████████████████████████████████▌                                              | 96/225 [35:45<48:25, 22.53s/it]"
     ]
    },
    {
     "name": "stdout",
     "output_type": "stream",
     "text": [
      "Processing data for material : WATER\n",
      "image_data shape is :  (2048, 2448)\n",
      "im90 shape is :  (1024, 1224)\n",
      "Stokes time:  0.027983665466308594 s\n",
      "im_stokes0 shape is :  (1024, 1224)\n",
      "DoLP time:  0.03697848320007324 s\n",
      "im_DOLP shape is :  (1024, 1224)\n",
      "Time for DOLP2Theta conversion is :  21.07285499572754 seconds\n",
      "False\n",
      "AoLP time:  0.04197359085083008 s\n"
     ]
    },
    {
     "name": "stderr",
     "output_type": "stream",
     "text": [
      "\r",
      " 43%|██████████████████████████████████▉                                              | 97/225 [36:07<47:35, 22.31s/it]"
     ]
    },
    {
     "name": "stdout",
     "output_type": "stream",
     "text": [
      "Processing data for material : WATER\n",
      "image_data shape is :  (2048, 2448)\n",
      "im90 shape is :  (1024, 1224)\n",
      "Stokes time:  0.0259857177734375 s\n",
      "im_stokes0 shape is :  (1024, 1224)\n",
      "DoLP time:  0.03397965431213379 s\n",
      "im_DOLP shape is :  (1024, 1224)\n",
      "Time for DOLP2Theta conversion is :  21.38967251777649 seconds\n",
      "False\n",
      "AoLP time:  0.04197359085083008 s\n"
     ]
    },
    {
     "name": "stderr",
     "output_type": "stream",
     "text": [
      "\r",
      " 44%|███████████████████████████████████▎                                             | 98/225 [36:29<47:05, 22.25s/it]"
     ]
    },
    {
     "name": "stdout",
     "output_type": "stream",
     "text": [
      "Processing data for material : WATER\n",
      "image_data shape is :  (2048, 2448)\n",
      "im90 shape is :  (1024, 1224)\n",
      "Stokes time:  0.025986194610595703 s\n",
      "im_stokes0 shape is :  (1024, 1224)\n",
      "DoLP time:  0.037978172302246094 s\n",
      "im_DOLP shape is :  (1024, 1224)\n",
      "Time for DOLP2Theta conversion is :  21.219771146774292 seconds\n",
      "False\n",
      "AoLP time:  0.04097628593444824 s\n"
     ]
    },
    {
     "name": "stderr",
     "output_type": "stream",
     "text": [
      "\r",
      " 44%|███████████████████████████████████▋                                             | 99/225 [36:51<46:30, 22.15s/it]"
     ]
    },
    {
     "name": "stdout",
     "output_type": "stream",
     "text": [
      "Processing data for material : WATER\n",
      "image_data shape is :  (2048, 2448)\n",
      "im90 shape is :  (1024, 1224)\n",
      "Stokes time:  0.02498483657836914 s\n",
      "im_stokes0 shape is :  (1024, 1224)\n",
      "DoLP time:  0.03197956085205078 s\n",
      "im_DOLP shape is :  (1024, 1224)\n",
      "Time for DOLP2Theta conversion is :  21.648521900177002 seconds\n",
      "False\n",
      "AoLP time:  0.041975975036621094 s\n"
     ]
    },
    {
     "name": "stderr",
     "output_type": "stream",
     "text": [
      "\r",
      " 44%|███████████████████████████████████▌                                            | 100/225 [37:14<46:17, 22.22s/it]"
     ]
    },
    {
     "name": "stdout",
     "output_type": "stream",
     "text": [
      "Processing data for material : WATER\n",
      "image_data shape is :  (2048, 2448)\n",
      "im90 shape is :  (1024, 1224)\n",
      "Stokes time:  0.027984142303466797 s\n",
      "im_stokes0 shape is :  (1024, 1224)\n",
      "DoLP time:  0.03298068046569824 s\n",
      "im_DOLP shape is :  (1024, 1224)\n",
      "Time for DOLP2Theta conversion is :  21.390672206878662 seconds\n",
      "False\n",
      "AoLP time:  0.047972679138183594 s\n"
     ]
    },
    {
     "name": "stderr",
     "output_type": "stream",
     "text": [
      "\r",
      " 45%|███████████████████████████████████▉                                            | 101/225 [37:36<45:48, 22.17s/it]"
     ]
    },
    {
     "name": "stdout",
     "output_type": "stream",
     "text": [
      "Processing data for material : WATER\n",
      "image_data shape is :  (2048, 2448)\n",
      "im90 shape is :  (1024, 1224)\n",
      "Stokes time:  0.025985240936279297 s\n",
      "im_stokes0 shape is :  (1024, 1224)\n",
      "DoLP time:  0.034978628158569336 s\n",
      "im_DOLP shape is :  (1024, 1224)\n",
      "Time for DOLP2Theta conversion is :  21.28672957420349 seconds\n",
      "False\n",
      "AoLP time:  0.04297518730163574 s\n"
     ]
    },
    {
     "name": "stderr",
     "output_type": "stream",
     "text": [
      "\r",
      " 45%|████████████████████████████████████▎                                           | 102/225 [37:58<45:18, 22.10s/it]"
     ]
    },
    {
     "name": "stdout",
     "output_type": "stream",
     "text": [
      "Processing data for material : WATER\n",
      "image_data shape is :  (2048, 2448)\n",
      "im90 shape is :  (1024, 1224)\n",
      "Stokes time:  0.024985551834106445 s\n",
      "im_stokes0 shape is :  (1024, 1224)\n",
      "DoLP time:  0.032981157302856445 s\n",
      "im_DOLP shape is :  (1024, 1224)\n",
      "Time for DOLP2Theta conversion is :  21.83141803741455 seconds\n",
      "False\n",
      "AoLP time:  0.038976192474365234 s\n"
     ]
    },
    {
     "name": "stderr",
     "output_type": "stream",
     "text": [
      "\r",
      " 46%|████████████████████████████████████▌                                           | 103/225 [38:20<45:10, 22.22s/it]"
     ]
    },
    {
     "name": "stdout",
     "output_type": "stream",
     "text": [
      "Processing data for material : WATER\n",
      "image_data shape is :  (2048, 2448)\n",
      "im90 shape is :  (1024, 1224)\n",
      "Stokes time:  0.025984764099121094 s\n",
      "im_stokes0 shape is :  (1024, 1224)\n",
      "DoLP time:  0.03597879409790039 s\n",
      "im_DOLP shape is :  (1024, 1224)\n",
      "Time for DOLP2Theta conversion is :  21.77445101737976 seconds\n",
      "False\n",
      "AoLP time:  0.03997659683227539 s\n"
     ]
    },
    {
     "name": "stderr",
     "output_type": "stream",
     "text": [
      "\r",
      " 46%|████████████████████████████████████▉                                           | 104/225 [38:43<44:55, 22.27s/it]"
     ]
    },
    {
     "name": "stdout",
     "output_type": "stream",
     "text": [
      "Processing data for material : WATER\n",
      "image_data shape is :  (2048, 2448)\n",
      "im90 shape is :  (1024, 1224)\n",
      "Stokes time:  0.028984546661376953 s\n",
      "im_stokes0 shape is :  (1024, 1224)\n",
      "DoLP time:  0.03897714614868164 s\n",
      "im_DOLP shape is :  (1024, 1224)\n",
      "Time for DOLP2Theta conversion is :  21.422654151916504 seconds\n",
      "False\n",
      "AoLP time:  0.0399785041809082 s\n"
     ]
    },
    {
     "name": "stderr",
     "output_type": "stream",
     "text": [
      "\r",
      " 47%|█████████████████████████████████████▎                                          | 105/225 [39:05<44:25, 22.22s/it]"
     ]
    },
    {
     "name": "stdout",
     "output_type": "stream",
     "text": [
      "Processing data for material : WATER\n",
      "image_data shape is :  (2048, 2448)\n",
      "im90 shape is :  (1024, 1224)\n",
      "Stokes time:  0.026984214782714844 s\n",
      "im_stokes0 shape is :  (1024, 1224)\n",
      "DoLP time:  0.03797650337219238 s\n",
      "im_DOLP shape is :  (1024, 1224)\n",
      "Time for DOLP2Theta conversion is :  21.199782848358154 seconds\n",
      "False\n",
      "AoLP time:  0.04597139358520508 s\n"
     ]
    },
    {
     "name": "stderr",
     "output_type": "stream",
     "text": [
      "\r",
      " 47%|█████████████████████████████████████▋                                          | 106/225 [39:27<43:50, 22.11s/it]"
     ]
    },
    {
     "name": "stdout",
     "output_type": "stream",
     "text": [
      "Processing data for material : WATER\n",
      "image_data shape is :  (2048, 2448)\n",
      "im90 shape is :  (1024, 1224)\n",
      "Stokes time:  0.024985551834106445 s\n",
      "im_stokes0 shape is :  (1024, 1224)\n",
      "DoLP time:  0.03697776794433594 s\n",
      "im_DOLP shape is :  (1024, 1224)\n",
      "Time for DOLP2Theta conversion is :  21.377678155899048 seconds\n",
      "False\n",
      "AoLP time:  0.04697275161743164 s\n"
     ]
    },
    {
     "name": "stderr",
     "output_type": "stream",
     "text": [
      "\r",
      " 48%|██████████████████████████████████████                                          | 107/225 [39:49<43:26, 22.09s/it]"
     ]
    },
    {
     "name": "stdout",
     "output_type": "stream",
     "text": [
      "Processing data for material : WATER\n",
      "image_data shape is :  (2048, 2448)\n",
      "im90 shape is :  (1024, 1224)\n",
      "Stokes time:  0.026984453201293945 s\n",
      "im_stokes0 shape is :  (1024, 1224)\n",
      "DoLP time:  0.03198075294494629 s\n",
      "im_DOLP shape is :  (1024, 1224)\n",
      "Time for DOLP2Theta conversion is :  21.351694583892822 seconds\n",
      "False\n",
      "AoLP time:  0.04897117614746094 s\n"
     ]
    },
    {
     "name": "stderr",
     "output_type": "stream",
     "text": [
      "\r",
      " 48%|██████████████████████████████████████▍                                         | 108/225 [40:11<43:01, 22.07s/it]"
     ]
    },
    {
     "name": "stdout",
     "output_type": "stream",
     "text": [
      "Processing data for material : WATER\n",
      "image_data shape is :  (2048, 2448)\n",
      "im90 shape is :  (1024, 1224)\n",
      "Stokes time:  0.027983427047729492 s\n",
      "im_stokes0 shape is :  (1024, 1224)\n",
      "DoLP time:  0.03797721862792969 s\n",
      "im_DOLP shape is :  (1024, 1224)\n",
      "Time for DOLP2Theta conversion is :  21.218770265579224 seconds\n",
      "False\n",
      "AoLP time:  0.039977312088012695 s\n"
     ]
    },
    {
     "name": "stderr",
     "output_type": "stream",
     "text": [
      "\r",
      " 48%|██████████████████████████████████████▊                                         | 109/225 [40:32<42:34, 22.02s/it]"
     ]
    },
    {
     "name": "stdout",
     "output_type": "stream",
     "text": [
      "Processing data for material : WATER\n",
      "image_data shape is :  (2048, 2448)\n",
      "im90 shape is :  (1024, 1224)\n",
      "Stokes time:  0.025983810424804688 s\n",
      "im_stokes0 shape is :  (1024, 1224)\n",
      "DoLP time:  0.03197979927062988 s\n",
      "im_DOLP shape is :  (1024, 1224)\n",
      "Time for DOLP2Theta conversion is :  21.566568851470947 seconds\n",
      "False\n",
      "AoLP time:  0.04297661781311035 s\n"
     ]
    },
    {
     "name": "stderr",
     "output_type": "stream",
     "text": [
      "\r",
      " 49%|███████████████████████████████████████                                         | 110/225 [40:55<42:19, 22.08s/it]"
     ]
    },
    {
     "name": "stdout",
     "output_type": "stream",
     "text": [
      "Processing data for material : WATER\n",
      "image_data shape is :  (2048, 2448)\n",
      "im90 shape is :  (1024, 1224)\n",
      "Stokes time:  0.02598428726196289 s\n",
      "im_stokes0 shape is :  (1024, 1224)\n",
      "DoLP time:  0.03098154067993164 s\n",
      "im_DOLP shape is :  (1024, 1224)\n",
      "Time for DOLP2Theta conversion is :  22.17721652984619 seconds\n",
      "False\n",
      "AoLP time:  0.04097461700439453 s\n"
     ]
    },
    {
     "name": "stderr",
     "output_type": "stream",
     "text": [
      "\r",
      " 49%|███████████████████████████████████████▍                                        | 111/225 [41:18<42:28, 22.35s/it]"
     ]
    },
    {
     "name": "stdout",
     "output_type": "stream",
     "text": [
      "Processing data for material : WATER\n",
      "image_data shape is :  (2048, 2448)\n",
      "im90 shape is :  (1024, 1224)\n",
      "Stokes time:  0.027983903884887695 s\n",
      "im_stokes0 shape is :  (1024, 1224)\n",
      "DoLP time:  0.03697848320007324 s\n",
      "im_DOLP shape is :  (1024, 1224)\n",
      "Time for DOLP2Theta conversion is :  21.331706047058105 seconds\n",
      "False\n",
      "AoLP time:  0.045972347259521484 s\n"
     ]
    },
    {
     "name": "stderr",
     "output_type": "stream",
     "text": [
      "\r",
      " 50%|███████████████████████████████████████▊                                        | 112/225 [41:40<41:56, 22.27s/it]"
     ]
    },
    {
     "name": "stdout",
     "output_type": "stream",
     "text": [
      "Processing data for material : WATER\n",
      "image_data shape is :  (2048, 2448)\n",
      "im90 shape is :  (1024, 1224)\n",
      "Stokes time:  0.027983665466308594 s\n",
      "im_stokes0 shape is :  (1024, 1224)\n",
      "DoLP time:  0.03797793388366699 s\n",
      "im_DOLP shape is :  (1024, 1224)\n",
      "Time for DOLP2Theta conversion is :  21.227765321731567 seconds\n",
      "False\n",
      "AoLP time:  0.0409550666809082 s\n"
     ]
    },
    {
     "name": "stderr",
     "output_type": "stream",
     "text": [
      "\r",
      " 50%|████████████████████████████████████████▏                                       | 113/225 [42:02<41:23, 22.17s/it]"
     ]
    },
    {
     "name": "stdout",
     "output_type": "stream",
     "text": [
      "Processing data for material : WATER\n",
      "image_data shape is :  (2048, 2448)\n",
      "im90 shape is :  (1024, 1224)\n",
      "Stokes time:  0.025985002517700195 s\n",
      "im_stokes0 shape is :  (1024, 1224)\n",
      "DoLP time:  0.035978078842163086 s\n",
      "im_DOLP shape is :  (1024, 1224)\n",
      "Time for DOLP2Theta conversion is :  21.13481903076172 seconds\n",
      "False\n",
      "AoLP time:  0.039977312088012695 s\n"
     ]
    },
    {
     "name": "stderr",
     "output_type": "stream",
     "text": [
      "\r",
      " 51%|████████████████████████████████████████▌                                       | 114/225 [42:24<40:49, 22.07s/it]"
     ]
    },
    {
     "name": "stdout",
     "output_type": "stream",
     "text": [
      "Processing data for material : WATER\n",
      "image_data shape is :  (2048, 2448)\n",
      "im90 shape is :  (1024, 1224)\n",
      "Stokes time:  0.023985862731933594 s\n",
      "im_stokes0 shape is :  (1024, 1224)\n",
      "DoLP time:  0.03797769546508789 s\n",
      "im_DOLP shape is :  (1024, 1224)\n",
      "Time for DOLP2Theta conversion is :  21.590555906295776 seconds\n",
      "False\n",
      "AoLP time:  0.04297471046447754 s\n"
     ]
    },
    {
     "name": "stderr",
     "output_type": "stream",
     "text": [
      "\r",
      " 51%|████████████████████████████████████████▉                                       | 115/225 [42:46<40:36, 22.15s/it]"
     ]
    },
    {
     "name": "stdout",
     "output_type": "stream",
     "text": [
      "Processing data for material : WATER\n",
      "image_data shape is :  (2048, 2448)\n",
      "im90 shape is :  (1024, 1224)\n",
      "Stokes time:  0.026984214782714844 s\n",
      "im_stokes0 shape is :  (1024, 1224)\n",
      "DoLP time:  0.038977622985839844 s\n",
      "im_DOLP shape is :  (1024, 1224)\n",
      "Time for DOLP2Theta conversion is :  21.705490112304688 seconds\n",
      "False\n",
      "AoLP time:  0.04996991157531738 s\n"
     ]
    },
    {
     "name": "stderr",
     "output_type": "stream",
     "text": [
      "\r",
      " 52%|█████████████████████████████████████████▏                                      | 116/225 [43:08<40:22, 22.22s/it]"
     ]
    },
    {
     "name": "stdout",
     "output_type": "stream",
     "text": [
      "Processing data for material : WATER\n",
      "image_data shape is :  (2048, 2448)\n",
      "im90 shape is :  (1024, 1224)\n",
      "Stokes time:  0.026983261108398438 s\n",
      "im_stokes0 shape is :  (1024, 1224)\n",
      "DoLP time:  0.03997635841369629 s\n",
      "im_DOLP shape is :  (1024, 1224)\n",
      "Time for DOLP2Theta conversion is :  22.33012890815735 seconds\n",
      "False\n",
      "AoLP time:  0.04397392272949219 s\n"
     ]
    },
    {
     "name": "stderr",
     "output_type": "stream",
     "text": [
      "\r",
      " 52%|█████████████████████████████████████████▌                                      | 117/225 [43:32<40:33, 22.54s/it]"
     ]
    },
    {
     "name": "stdout",
     "output_type": "stream",
     "text": [
      "Processing data for material : WATER\n",
      "image_data shape is :  (2048, 2448)\n",
      "im90 shape is :  (1024, 1224)\n",
      "Stokes time:  0.0259854793548584 s\n",
      "im_stokes0 shape is :  (1024, 1224)\n",
      "DoLP time:  0.03397989273071289 s\n",
      "im_DOLP shape is :  (1024, 1224)\n",
      "Time for DOLP2Theta conversion is :  22.169222831726074 seconds\n",
      "False\n",
      "AoLP time:  0.04297494888305664 s\n"
     ]
    },
    {
     "name": "stderr",
     "output_type": "stream",
     "text": [
      "\r",
      " 52%|█████████████████████████████████████████▉                                      | 118/225 [43:54<40:21, 22.63s/it]"
     ]
    },
    {
     "name": "stdout",
     "output_type": "stream",
     "text": [
      "Processing data for material : WATER\n",
      "image_data shape is :  (2048, 2448)\n",
      "im90 shape is :  (1024, 1224)\n",
      "Stokes time:  0.023986101150512695 s\n",
      "im_stokes0 shape is :  (1024, 1224)\n",
      "DoLP time:  0.0379786491394043 s\n",
      "im_DOLP shape is :  (1024, 1224)\n",
      "Time for DOLP2Theta conversion is :  21.974332332611084 seconds\n",
      "False\n",
      "AoLP time:  0.03997635841369629 s\n"
     ]
    },
    {
     "name": "stderr",
     "output_type": "stream",
     "text": [
      "\r",
      " 53%|██████████████████████████████████████████▎                                     | 119/225 [44:17<40:00, 22.65s/it]"
     ]
    },
    {
     "name": "stdout",
     "output_type": "stream",
     "text": [
      "Processing data for material : WATER\n",
      "image_data shape is :  (2048, 2448)\n",
      "im90 shape is :  (1024, 1224)\n",
      "Stokes time:  0.028981924057006836 s\n",
      "im_stokes0 shape is :  (1024, 1224)\n",
      "DoLP time:  0.03697943687438965 s\n",
      "im_DOLP shape is :  (1024, 1224)\n",
      "Time for DOLP2Theta conversion is :  21.706488132476807 seconds\n",
      "False\n",
      "AoLP time:  0.04397416114807129 s\n"
     ]
    },
    {
     "name": "stderr",
     "output_type": "stream",
     "text": [
      "\r",
      " 53%|██████████████████████████████████████████▋                                     | 120/225 [44:39<39:28, 22.56s/it]"
     ]
    },
    {
     "name": "stdout",
     "output_type": "stream",
     "text": [
      "Processing data for material : WATER\n",
      "image_data shape is :  (2048, 2448)\n",
      "im90 shape is :  (1024, 1224)\n",
      "Stokes time:  0.0259854793548584 s\n",
      "im_stokes0 shape is :  (1024, 1224)\n",
      "DoLP time:  0.033980369567871094 s\n",
      "im_DOLP shape is :  (1024, 1224)\n",
      "Time for DOLP2Theta conversion is :  21.906373500823975 seconds\n",
      "False\n",
      "AoLP time:  0.04397463798522949 s\n"
     ]
    },
    {
     "name": "stderr",
     "output_type": "stream",
     "text": [
      "\r",
      " 54%|███████████████████████████████████████████                                     | 121/225 [45:02<39:07, 22.57s/it]"
     ]
    },
    {
     "name": "stdout",
     "output_type": "stream",
     "text": [
      "Processing data for material : WATER\n",
      "image_data shape is :  (2048, 2448)\n",
      "im90 shape is :  (1024, 1224)\n",
      "Stokes time:  0.025985002517700195 s\n",
      "im_stokes0 shape is :  (1024, 1224)\n",
      "DoLP time:  0.03597831726074219 s\n",
      "im_DOLP shape is :  (1024, 1224)\n",
      "Time for DOLP2Theta conversion is :  21.991324186325073 seconds\n",
      "False\n",
      "AoLP time:  0.04097700119018555 s\n"
     ]
    },
    {
     "name": "stderr",
     "output_type": "stream",
     "text": [
      "\r",
      " 54%|███████████████████████████████████████████▍                                    | 122/225 [45:25<38:47, 22.59s/it]"
     ]
    },
    {
     "name": "stdout",
     "output_type": "stream",
     "text": [
      "Processing data for material : WATER\n",
      "image_data shape is :  (2048, 2448)\n",
      "im90 shape is :  (1024, 1224)\n",
      "Stokes time:  0.024985074996948242 s\n",
      "im_stokes0 shape is :  (1024, 1224)\n",
      "DoLP time:  0.03397989273071289 s\n",
      "im_DOLP shape is :  (1024, 1224)\n",
      "Time for DOLP2Theta conversion is :  22.10825777053833 seconds\n",
      "False\n",
      "AoLP time:  0.047969818115234375 s\n"
     ]
    },
    {
     "name": "stderr",
     "output_type": "stream",
     "text": [
      "\r",
      " 55%|███████████████████████████████████████████▋                                    | 123/225 [45:48<38:32, 22.67s/it]"
     ]
    },
    {
     "name": "stdout",
     "output_type": "stream",
     "text": [
      "Processing data for material : WATER\n",
      "image_data shape is :  (2048, 2448)\n",
      "im90 shape is :  (1024, 1224)\n",
      "Stokes time:  0.0279848575592041 s\n",
      "im_stokes0 shape is :  (1024, 1224)\n",
      "DoLP time:  0.036977529525756836 s\n",
      "im_DOLP shape is :  (1024, 1224)\n",
      "Time for DOLP2Theta conversion is :  21.97133731842041 seconds\n",
      "False\n",
      "AoLP time:  0.043974876403808594 s\n"
     ]
    },
    {
     "name": "stderr",
     "output_type": "stream",
     "text": [
      "\r",
      " 55%|████████████████████████████████████████████                                    | 124/225 [46:10<38:07, 22.65s/it]"
     ]
    },
    {
     "name": "stdout",
     "output_type": "stream",
     "text": [
      "Processing data for material : WATER\n",
      "image_data shape is :  (2048, 2448)\n",
      "im90 shape is :  (1024, 1224)\n",
      "Stokes time:  0.027983903884887695 s\n",
      "im_stokes0 shape is :  (1024, 1224)\n",
      "DoLP time:  0.03298211097717285 s\n",
      "im_DOLP shape is :  (1024, 1224)\n",
      "Time for DOLP2Theta conversion is :  22.11125636100769 seconds\n",
      "False\n",
      "AoLP time:  0.04996943473815918 s\n"
     ]
    },
    {
     "name": "stderr",
     "output_type": "stream",
     "text": [
      "\r",
      " 56%|████████████████████████████████████████████▍                                   | 125/225 [46:33<37:48, 22.68s/it]"
     ]
    },
    {
     "name": "stdout",
     "output_type": "stream",
     "text": [
      "Processing data for material : WATER\n",
      "image_data shape is :  (2048, 2448)\n",
      "im90 shape is :  (1024, 1224)\n",
      "Stokes time:  0.026986122131347656 s\n",
      "im_stokes0 shape is :  (1024, 1224)\n",
      "DoLP time:  0.033980607986450195 s\n",
      "im_DOLP shape is :  (1024, 1224)\n",
      "Time for DOLP2Theta conversion is :  21.723479986190796 seconds\n",
      "False\n",
      "AoLP time:  0.04897022247314453 s\n"
     ]
    },
    {
     "name": "stderr",
     "output_type": "stream",
     "text": [
      "\r",
      " 56%|████████████████████████████████████████████▊                                   | 126/225 [46:55<37:17, 22.60s/it]"
     ]
    },
    {
     "name": "stdout",
     "output_type": "stream",
     "text": [
      "Processing data for material : WATER\n",
      "image_data shape is :  (2048, 2448)\n",
      "im90 shape is :  (1024, 1224)\n",
      "Stokes time:  0.023986339569091797 s\n",
      "im_stokes0 shape is :  (1024, 1224)\n",
      "DoLP time:  0.03497910499572754 s\n",
      "im_DOLP shape is :  (1024, 1224)\n",
      "Time for DOLP2Theta conversion is :  22.161227703094482 seconds\n",
      "False\n",
      "AoLP time:  0.04197430610656738 s\n"
     ]
    },
    {
     "name": "stderr",
     "output_type": "stream",
     "text": [
      "\r",
      " 56%|█████████████████████████████████████████████▏                                  | 127/225 [47:18<37:02, 22.68s/it]"
     ]
    },
    {
     "name": "stdout",
     "output_type": "stream",
     "text": [
      "Processing data for material : WATER\n",
      "image_data shape is :  (2048, 2448)\n",
      "im90 shape is :  (1024, 1224)\n",
      "Stokes time:  0.02698493003845215 s\n",
      "im_stokes0 shape is :  (1024, 1224)\n",
      "DoLP time:  0.03497934341430664 s\n",
      "im_DOLP shape is :  (1024, 1224)\n",
      "Time for DOLP2Theta conversion is :  21.898380279541016 seconds\n",
      "False\n",
      "AoLP time:  0.04697418212890625 s\n"
     ]
    },
    {
     "name": "stderr",
     "output_type": "stream",
     "text": [
      "\r",
      " 57%|█████████████████████████████████████████████▌                                  | 128/225 [47:41<36:36, 22.64s/it]"
     ]
    },
    {
     "name": "stdout",
     "output_type": "stream",
     "text": [
      "Processing data for material : WATER\n",
      "image_data shape is :  (2048, 2448)\n",
      "im90 shape is :  (1024, 1224)\n",
      "Stokes time:  0.027983427047729492 s\n",
      "im_stokes0 shape is :  (1024, 1224)\n",
      "DoLP time:  0.03597879409790039 s\n",
      "im_DOLP shape is :  (1024, 1224)\n",
      "Time for DOLP2Theta conversion is :  21.835416555404663 seconds\n",
      "False\n",
      "AoLP time:  0.04097557067871094 s\n"
     ]
    },
    {
     "name": "stderr",
     "output_type": "stream",
     "text": [
      "\r",
      " 57%|█████████████████████████████████████████████▊                                  | 129/225 [48:03<36:10, 22.61s/it]"
     ]
    },
    {
     "name": "stdout",
     "output_type": "stream",
     "text": [
      "Processing data for material : WATER\n",
      "image_data shape is :  (2048, 2448)\n",
      "im90 shape is :  (1024, 1224)\n",
      "Stokes time:  0.027982711791992188 s\n",
      "im_stokes0 shape is :  (1024, 1224)\n",
      "DoLP time:  0.03498077392578125 s\n",
      "im_DOLP shape is :  (1024, 1224)\n",
      "Time for DOLP2Theta conversion is :  21.809431076049805 seconds\n",
      "False\n",
      "AoLP time:  0.03997683525085449 s\n"
     ]
    },
    {
     "name": "stderr",
     "output_type": "stream",
     "text": [
      "\r",
      " 58%|██████████████████████████████████████████████▏                                 | 130/225 [48:26<35:43, 22.57s/it]"
     ]
    },
    {
     "name": "stdout",
     "output_type": "stream",
     "text": [
      "Processing data for material : WATER\n",
      "image_data shape is :  (2048, 2448)\n",
      "im90 shape is :  (1024, 1224)\n",
      "Stokes time:  0.027983903884887695 s\n",
      "im_stokes0 shape is :  (1024, 1224)\n",
      "DoLP time:  0.03397989273071289 s\n",
      "im_DOLP shape is :  (1024, 1224)\n",
      "Time for DOLP2Theta conversion is :  21.997321844100952 seconds\n",
      "False\n",
      "AoLP time:  0.04197573661804199 s\n"
     ]
    },
    {
     "name": "stderr",
     "output_type": "stream",
     "text": [
      "\r",
      " 58%|██████████████████████████████████████████████▌                                 | 131/225 [48:48<35:23, 22.59s/it]"
     ]
    },
    {
     "name": "stdout",
     "output_type": "stream",
     "text": [
      "Processing data for material : WATER\n",
      "image_data shape is :  (2048, 2448)\n",
      "im90 shape is :  (1024, 1224)\n",
      "Stokes time:  0.026984453201293945 s\n",
      "im_stokes0 shape is :  (1024, 1224)\n",
      "DoLP time:  0.03597879409790039 s\n",
      "im_DOLP shape is :  (1024, 1224)\n",
      "Time for DOLP2Theta conversion is :  21.781463861465454 seconds\n",
      "False\n",
      "AoLP time:  0.04996347427368164 s\n"
     ]
    },
    {
     "name": "stderr",
     "output_type": "stream",
     "text": [
      "\r",
      " 59%|██████████████████████████████████████████████▉                                 | 132/225 [49:11<34:56, 22.55s/it]"
     ]
    },
    {
     "name": "stdout",
     "output_type": "stream",
     "text": [
      "Processing data for material : WATER\n",
      "image_data shape is :  (2048, 2448)\n",
      "im90 shape is :  (1024, 1224)\n",
      "Stokes time:  0.024985551834106445 s\n",
      "im_stokes0 shape is :  (1024, 1224)\n",
      "DoLP time:  0.039977073669433594 s\n",
      "im_DOLP shape is :  (1024, 1224)\n",
      "Time for DOLP2Theta conversion is :  22.343122243881226 seconds\n",
      "False\n",
      "AoLP time:  0.052968502044677734 s\n"
     ]
    },
    {
     "name": "stderr",
     "output_type": "stream",
     "text": [
      "\r",
      " 59%|███████████████████████████████████████████████▎                                | 133/225 [49:34<34:47, 22.69s/it]"
     ]
    },
    {
     "name": "stdout",
     "output_type": "stream",
     "text": [
      "Processing data for material : WATER\n",
      "image_data shape is :  (2048, 2448)\n",
      "im90 shape is :  (1024, 1224)\n",
      "Stokes time:  0.028982877731323242 s\n",
      "im_stokes0 shape is :  (1024, 1224)\n",
      "DoLP time:  0.033980369567871094 s\n",
      "im_DOLP shape is :  (1024, 1224)\n",
      "Time for DOLP2Theta conversion is :  21.851406574249268 seconds\n",
      "False\n",
      "AoLP time:  0.04297447204589844 s\n"
     ]
    },
    {
     "name": "stderr",
     "output_type": "stream",
     "text": [
      "\r",
      " 60%|███████████████████████████████████████████████▋                                | 134/225 [49:56<34:19, 22.64s/it]"
     ]
    },
    {
     "name": "stdout",
     "output_type": "stream",
     "text": [
      "Processing data for material : WATER\n",
      "image_data shape is :  (2048, 2448)\n",
      "im90 shape is :  (1024, 1224)\n",
      "Stokes time:  0.024985551834106445 s\n",
      "im_stokes0 shape is :  (1024, 1224)\n",
      "DoLP time:  0.03597879409790039 s\n",
      "im_DOLP shape is :  (1024, 1224)\n",
      "Time for DOLP2Theta conversion is :  21.854405164718628 seconds\n",
      "False\n",
      "AoLP time:  0.04297447204589844 s\n"
     ]
    },
    {
     "name": "stderr",
     "output_type": "stream",
     "text": [
      "\r",
      " 60%|████████████████████████████████████████████████                                | 135/225 [50:19<33:55, 22.61s/it]"
     ]
    },
    {
     "name": "stdout",
     "output_type": "stream",
     "text": [
      "Processing data for material : WATER\n",
      "image_data shape is :  (2048, 2448)\n",
      "im90 shape is :  (1024, 1224)\n",
      "Stokes time:  0.02498602867126465 s\n",
      "im_stokes0 shape is :  (1024, 1224)\n",
      "DoLP time:  0.03198099136352539 s\n",
      "im_DOLP shape is :  (1024, 1224)\n",
      "Time for DOLP2Theta conversion is :  21.77045249938965 seconds\n",
      "False\n",
      "AoLP time:  0.04397463798522949 s\n"
     ]
    },
    {
     "name": "stderr",
     "output_type": "stream",
     "text": [
      "\r",
      " 60%|████████████████████████████████████████████████▎                               | 136/225 [50:41<33:27, 22.55s/it]"
     ]
    },
    {
     "name": "stdout",
     "output_type": "stream",
     "text": [
      "Processing data for material : WATER\n",
      "image_data shape is :  (2048, 2448)\n",
      "im90 shape is :  (1024, 1224)\n",
      "Stokes time:  0.02698493003845215 s\n",
      "im_stokes0 shape is :  (1024, 1224)\n",
      "DoLP time:  0.0339818000793457 s\n",
      "im_DOLP shape is :  (1024, 1224)\n",
      "Time for DOLP2Theta conversion is :  21.903374671936035 seconds\n",
      "False\n",
      "AoLP time:  0.04697227478027344 s\n"
     ]
    },
    {
     "name": "stderr",
     "output_type": "stream",
     "text": [
      "\r",
      " 61%|████████████████████████████████████████████████▋                               | 137/225 [51:04<33:05, 22.56s/it]"
     ]
    },
    {
     "name": "stdout",
     "output_type": "stream",
     "text": [
      "Processing data for material : WATER\n",
      "image_data shape is :  (2048, 2448)\n",
      "im90 shape is :  (1024, 1224)\n",
      "Stokes time:  0.026984214782714844 s\n",
      "im_stokes0 shape is :  (1024, 1224)\n",
      "DoLP time:  0.03397989273071289 s\n",
      "im_DOLP shape is :  (1024, 1224)\n",
      "Time for DOLP2Theta conversion is :  21.749465465545654 seconds\n",
      "False\n",
      "AoLP time:  0.05097007751464844 s\n"
     ]
    },
    {
     "name": "stderr",
     "output_type": "stream",
     "text": [
      "\r",
      " 61%|█████████████████████████████████████████████████                               | 138/225 [51:26<32:38, 22.51s/it]"
     ]
    },
    {
     "name": "stdout",
     "output_type": "stream",
     "text": [
      "Processing data for material : WATER\n",
      "image_data shape is :  (2048, 2448)\n",
      "im90 shape is :  (1024, 1224)\n",
      "Stokes time:  0.024985790252685547 s\n",
      "im_stokes0 shape is :  (1024, 1224)\n",
      "DoLP time:  0.03398013114929199 s\n",
      "im_DOLP shape is :  (1024, 1224)\n",
      "Time for DOLP2Theta conversion is :  21.957343578338623 seconds\n",
      "False\n",
      "AoLP time:  0.039977073669433594 s\n"
     ]
    },
    {
     "name": "stderr",
     "output_type": "stream",
     "text": [
      "\r",
      " 62%|█████████████████████████████████████████████████▍                              | 139/225 [51:49<32:20, 22.56s/it]"
     ]
    },
    {
     "name": "stdout",
     "output_type": "stream",
     "text": [
      "Processing data for material : WATER\n",
      "image_data shape is :  (2048, 2448)\n",
      "im90 shape is :  (1024, 1224)\n",
      "Stokes time:  0.025985002517700195 s\n",
      "im_stokes0 shape is :  (1024, 1224)\n",
      "DoLP time:  0.03897690773010254 s\n",
      "im_DOLP shape is :  (1024, 1224)\n",
      "Time for DOLP2Theta conversion is :  22.3960919380188 seconds\n",
      "False\n",
      "AoLP time:  0.03997540473937988 s\n"
     ]
    },
    {
     "name": "stderr",
     "output_type": "stream",
     "text": [
      "\r",
      " 62%|█████████████████████████████████████████████████▊                              | 140/225 [52:12<32:10, 22.71s/it]"
     ]
    },
    {
     "name": "stdout",
     "output_type": "stream",
     "text": [
      "Processing data for material : WATER\n",
      "image_data shape is :  (2048, 2448)\n",
      "im90 shape is :  (1024, 1224)\n",
      "Stokes time:  0.027983903884887695 s\n",
      "im_stokes0 shape is :  (1024, 1224)\n",
      "DoLP time:  0.03797793388366699 s\n",
      "im_DOLP shape is :  (1024, 1224)\n",
      "Time for DOLP2Theta conversion is :  21.752463817596436 seconds\n",
      "False\n",
      "AoLP time:  0.04297590255737305 s\n"
     ]
    },
    {
     "name": "stderr",
     "output_type": "stream",
     "text": [
      "\r",
      " 63%|██████████████████████████████████████████████████▏                             | 141/225 [52:34<31:40, 22.62s/it]"
     ]
    },
    {
     "name": "stdout",
     "output_type": "stream",
     "text": [
      "Processing data for material : WATER\n",
      "image_data shape is :  (2048, 2448)\n",
      "im90 shape is :  (1024, 1224)\n",
      "Stokes time:  0.024985313415527344 s\n",
      "im_stokes0 shape is :  (1024, 1224)\n",
      "DoLP time:  0.031981706619262695 s\n",
      "im_DOLP shape is :  (1024, 1224)\n",
      "Time for DOLP2Theta conversion is :  21.83441400527954 seconds\n",
      "False\n",
      "AoLP time:  0.041977882385253906 s\n"
     ]
    },
    {
     "name": "stderr",
     "output_type": "stream",
     "text": [
      "\r",
      " 63%|██████████████████████████████████████████████████▍                             | 142/225 [52:57<31:14, 22.59s/it]"
     ]
    },
    {
     "name": "stdout",
     "output_type": "stream",
     "text": [
      "Processing data for material : WATER\n",
      "image_data shape is :  (2048, 2448)\n",
      "im90 shape is :  (1024, 1224)\n",
      "Stokes time:  0.02698493003845215 s\n",
      "im_stokes0 shape is :  (1024, 1224)\n",
      "DoLP time:  0.03697824478149414 s\n",
      "im_DOLP shape is :  (1024, 1224)\n",
      "Time for DOLP2Theta conversion is :  21.78844118118286 seconds\n",
      "False\n",
      "AoLP time:  0.04597353935241699 s\n"
     ]
    },
    {
     "name": "stderr",
     "output_type": "stream",
     "text": [
      "\r",
      " 64%|██████████████████████████████████████████████████▊                             | 143/225 [53:19<30:48, 22.55s/it]"
     ]
    },
    {
     "name": "stdout",
     "output_type": "stream",
     "text": [
      "Processing data for material : WATER\n",
      "image_data shape is :  (2048, 2448)\n",
      "im90 shape is :  (1024, 1224)\n",
      "Stokes time:  0.024985790252685547 s\n",
      "im_stokes0 shape is :  (1024, 1224)\n",
      "DoLP time:  0.03198122978210449 s\n",
      "im_DOLP shape is :  (1024, 1224)\n",
      "Time for DOLP2Theta conversion is :  22.034299850463867 seconds\n",
      "False\n",
      "AoLP time:  0.03897738456726074 s\n"
     ]
    },
    {
     "name": "stderr",
     "output_type": "stream",
     "text": [
      "\r",
      " 64%|███████████████████████████████████████████████████▏                            | 144/225 [53:42<30:30, 22.60s/it]"
     ]
    },
    {
     "name": "stdout",
     "output_type": "stream",
     "text": [
      "Processing data for material : WATER\n",
      "image_data shape is :  (2048, 2448)\n",
      "im90 shape is :  (1024, 1224)\n",
      "Stokes time:  0.025984525680541992 s\n",
      "im_stokes0 shape is :  (1024, 1224)\n",
      "DoLP time:  0.0339808464050293 s\n",
      "im_DOLP shape is :  (1024, 1224)\n",
      "Time for DOLP2Theta conversion is :  21.8374285697937 seconds\n",
      "False\n",
      "AoLP time:  0.04797220230102539 s\n"
     ]
    },
    {
     "name": "stderr",
     "output_type": "stream",
     "text": [
      "\r",
      " 64%|███████████████████████████████████████████████████▌                            | 145/225 [54:05<30:05, 22.57s/it]"
     ]
    },
    {
     "name": "stdout",
     "output_type": "stream",
     "text": [
      "Processing data for material : WATER\n",
      "image_data shape is :  (2048, 2448)\n",
      "im90 shape is :  (1024, 1224)\n",
      "Stokes time:  0.02698373794555664 s\n",
      "im_stokes0 shape is :  (1024, 1224)\n",
      "DoLP time:  0.032981157302856445 s\n",
      "im_DOLP shape is :  (1024, 1224)\n",
      "Time for DOLP2Theta conversion is :  21.747467041015625 seconds\n",
      "False\n",
      "AoLP time:  0.041975975036621094 s\n"
     ]
    },
    {
     "name": "stderr",
     "output_type": "stream",
     "text": [
      "\r",
      " 65%|███████████████████████████████████████████████████▉                            | 146/225 [54:27<29:38, 22.52s/it]"
     ]
    },
    {
     "name": "stdout",
     "output_type": "stream",
     "text": [
      "Processing data for material : WATER\n",
      "image_data shape is :  (2048, 2448)\n",
      "im90 shape is :  (1024, 1224)\n",
      "Stokes time:  0.024985790252685547 s\n",
      "im_stokes0 shape is :  (1024, 1224)\n",
      "DoLP time:  0.03997659683227539 s\n",
      "im_DOLP shape is :  (1024, 1224)\n",
      "Time for DOLP2Theta conversion is :  22.01930856704712 seconds\n",
      "False\n",
      "AoLP time:  0.04697084426879883 s\n"
     ]
    },
    {
     "name": "stderr",
     "output_type": "stream",
     "text": [
      "\r",
      " 65%|████████████████████████████████████████████████████▎                           | 147/225 [54:50<29:21, 22.58s/it]"
     ]
    },
    {
     "name": "stdout",
     "output_type": "stream",
     "text": [
      "Processing data for material : WATER\n",
      "image_data shape is :  (2048, 2448)\n",
      "im90 shape is :  (1024, 1224)\n",
      "Stokes time:  0.02498650550842285 s\n",
      "im_stokes0 shape is :  (1024, 1224)\n",
      "DoLP time:  0.03397989273071289 s\n",
      "im_DOLP shape is :  (1024, 1224)\n",
      "Time for DOLP2Theta conversion is :  21.91336989402771 seconds\n",
      "False\n",
      "AoLP time:  0.052968740463256836 s\n"
     ]
    },
    {
     "name": "stderr",
     "output_type": "stream",
     "text": [
      "\r",
      " 66%|████████████████████████████████████████████████████▌                           | 148/225 [55:12<28:59, 22.59s/it]"
     ]
    },
    {
     "name": "stdout",
     "output_type": "stream",
     "text": [
      "Processing data for material : WATER\n",
      "image_data shape is :  (2048, 2448)\n",
      "im90 shape is :  (1024, 1224)\n",
      "Stokes time:  0.025984764099121094 s\n",
      "im_stokes0 shape is :  (1024, 1224)\n",
      "DoLP time:  0.0359799861907959 s\n",
      "im_DOLP shape is :  (1024, 1224)\n",
      "Time for DOLP2Theta conversion is :  21.884387493133545 seconds\n",
      "False\n",
      "AoLP time:  0.04597306251525879 s\n"
     ]
    },
    {
     "name": "stderr",
     "output_type": "stream",
     "text": [
      "\r",
      " 66%|████████████████████████████████████████████████████▉                           | 149/225 [55:35<28:36, 22.59s/it]"
     ]
    },
    {
     "name": "stdout",
     "output_type": "stream",
     "text": [
      "Processing data for material : WATER\n",
      "image_data shape is :  (2048, 2448)\n",
      "im90 shape is :  (1024, 1224)\n",
      "Stokes time:  0.024985551834106445 s\n",
      "im_stokes0 shape is :  (1024, 1224)\n",
      "DoLP time:  0.03897595405578613 s\n",
      "im_DOLP shape is :  (1024, 1224)\n",
      "Time for DOLP2Theta conversion is :  21.935356855392456 seconds\n",
      "False\n",
      "AoLP time:  0.043975114822387695 s\n"
     ]
    },
    {
     "name": "stderr",
     "output_type": "stream",
     "text": [
      "\r",
      " 67%|█████████████████████████████████████████████████████▎                          | 150/225 [55:58<28:14, 22.60s/it]"
     ]
    },
    {
     "name": "stdout",
     "output_type": "stream",
     "text": [
      "Processing data for material : WATER\n",
      "image_data shape is :  (2048, 2448)\n",
      "im90 shape is :  (1024, 1224)\n",
      "Stokes time:  0.0259857177734375 s\n",
      "im_stokes0 shape is :  (1024, 1224)\n",
      "DoLP time:  0.03797769546508789 s\n",
      "im_DOLP shape is :  (1024, 1224)\n",
      "Time for DOLP2Theta conversion is :  21.646522998809814 seconds\n",
      "False\n",
      "AoLP time:  0.04597139358520508 s\n"
     ]
    },
    {
     "name": "stderr",
     "output_type": "stream",
     "text": [
      "\r",
      " 67%|█████████████████████████████████████████████████████▋                          | 151/225 [56:20<27:46, 22.52s/it]"
     ]
    },
    {
     "name": "stdout",
     "output_type": "stream",
     "text": [
      "Processing data for material : WATER\n",
      "image_data shape is :  (2048, 2448)\n",
      "im90 shape is :  (1024, 1224)\n",
      "Stokes time:  0.027983903884887695 s\n",
      "im_stokes0 shape is :  (1024, 1224)\n",
      "DoLP time:  0.03697776794433594 s\n",
      "im_DOLP shape is :  (1024, 1224)\n",
      "Time for DOLP2Theta conversion is :  21.690499544143677 seconds\n",
      "False\n",
      "AoLP time:  0.03897428512573242 s\n"
     ]
    },
    {
     "name": "stderr",
     "output_type": "stream",
     "text": [
      "\r",
      " 68%|██████████████████████████████████████████████████████                          | 152/225 [56:42<27:20, 22.47s/it]"
     ]
    },
    {
     "name": "stdout",
     "output_type": "stream",
     "text": [
      "Processing data for material : WATER\n",
      "image_data shape is :  (2048, 2448)\n",
      "im90 shape is :  (1024, 1224)\n",
      "Stokes time:  0.02598404884338379 s\n",
      "im_stokes0 shape is :  (1024, 1224)\n",
      "DoLP time:  0.03797793388366699 s\n",
      "im_DOLP shape is :  (1024, 1224)\n",
      "Time for DOLP2Theta conversion is :  21.873393058776855 seconds\n",
      "False\n",
      "AoLP time:  0.04597282409667969 s\n"
     ]
    },
    {
     "name": "stderr",
     "output_type": "stream",
     "text": [
      "\r",
      " 68%|██████████████████████████████████████████████████████▍                         | 153/225 [57:05<26:58, 22.48s/it]"
     ]
    },
    {
     "name": "stdout",
     "output_type": "stream",
     "text": [
      "Processing data for material : WATER\n",
      "image_data shape is :  (2048, 2448)\n",
      "im90 shape is :  (1024, 1224)\n",
      "Stokes time:  0.02498483657836914 s\n",
      "im_stokes0 shape is :  (1024, 1224)\n",
      "DoLP time:  0.03597760200500488 s\n",
      "im_DOLP shape is :  (1024, 1224)\n",
      "Time for DOLP2Theta conversion is :  21.799437046051025 seconds\n",
      "False\n",
      "AoLP time:  0.04599142074584961 s\n"
     ]
    },
    {
     "name": "stderr",
     "output_type": "stream",
     "text": [
      "\r",
      " 68%|██████████████████████████████████████████████████████▊                         | 154/225 [57:27<26:35, 22.47s/it]"
     ]
    },
    {
     "name": "stdout",
     "output_type": "stream",
     "text": [
      "Processing data for material : WATER\n",
      "image_data shape is :  (2048, 2448)\n",
      "im90 shape is :  (1024, 1224)\n",
      "Stokes time:  0.026985645294189453 s\n",
      "im_stokes0 shape is :  (1024, 1224)\n",
      "DoLP time:  0.036977291107177734 s\n",
      "im_DOLP shape is :  (1024, 1224)\n",
      "Time for DOLP2Theta conversion is :  22.01131319999695 seconds\n",
      "False\n",
      "AoLP time:  0.047972917556762695 s\n"
     ]
    },
    {
     "name": "stderr",
     "output_type": "stream",
     "text": [
      "\r",
      " 69%|███████████████████████████████████████████████████████                         | 155/225 [57:50<26:16, 22.52s/it]"
     ]
    },
    {
     "name": "stdout",
     "output_type": "stream",
     "text": [
      "Processing data for material : WATER\n",
      "image_data shape is :  (2048, 2448)\n",
      "im90 shape is :  (1024, 1224)\n",
      "Stokes time:  0.027983665466308594 s\n",
      "im_stokes0 shape is :  (1024, 1224)\n",
      "DoLP time:  0.0359797477722168 s\n",
      "im_DOLP shape is :  (1024, 1224)\n",
      "Time for DOLP2Theta conversion is :  21.903376817703247 seconds\n",
      "False\n",
      "AoLP time:  0.050972700119018555 s\n"
     ]
    },
    {
     "name": "stderr",
     "output_type": "stream",
     "text": [
      "\r",
      " 69%|███████████████████████████████████████████████████████▍                        | 156/225 [58:12<25:54, 22.54s/it]"
     ]
    },
    {
     "name": "stdout",
     "output_type": "stream",
     "text": [
      "Processing data for material : WATER\n",
      "image_data shape is :  (2048, 2448)\n",
      "im90 shape is :  (1024, 1224)\n",
      "Stokes time:  0.024985551834106445 s\n",
      "im_stokes0 shape is :  (1024, 1224)\n",
      "DoLP time:  0.03397965431213379 s\n",
      "im_DOLP shape is :  (1024, 1224)\n",
      "Time for DOLP2Theta conversion is :  22.128247261047363 seconds\n",
      "False\n",
      "AoLP time:  0.04697132110595703 s\n"
     ]
    },
    {
     "name": "stderr",
     "output_type": "stream",
     "text": [
      "\r",
      " 70%|███████████████████████████████████████████████████████▊                        | 157/225 [58:35<25:39, 22.64s/it]"
     ]
    },
    {
     "name": "stdout",
     "output_type": "stream",
     "text": [
      "Processing data for material : WATER\n",
      "image_data shape is :  (2048, 2448)\n",
      "im90 shape is :  (1024, 1224)\n",
      "Stokes time:  0.02698349952697754 s\n",
      "im_stokes0 shape is :  (1024, 1224)\n",
      "DoLP time:  0.03697848320007324 s\n",
      "im_DOLP shape is :  (1024, 1224)\n",
      "Time for DOLP2Theta conversion is :  21.807430744171143 seconds\n",
      "False\n",
      "AoLP time:  0.04797196388244629 s\n"
     ]
    },
    {
     "name": "stderr",
     "output_type": "stream",
     "text": [
      "\r",
      " 70%|████████████████████████████████████████████████████████▏                       | 158/225 [58:58<25:13, 22.60s/it]"
     ]
    },
    {
     "name": "stdout",
     "output_type": "stream",
     "text": [
      "Processing data for material : WATER\n",
      "image_data shape is :  (2048, 2448)\n",
      "im90 shape is :  (1024, 1224)\n",
      "Stokes time:  0.0259857177734375 s\n",
      "im_stokes0 shape is :  (1024, 1224)\n",
      "DoLP time:  0.03298044204711914 s\n",
      "im_DOLP shape is :  (1024, 1224)\n",
      "Time for DOLP2Theta conversion is :  21.695494413375854 seconds\n",
      "False\n",
      "AoLP time:  0.04397463798522949 s\n"
     ]
    },
    {
     "name": "stderr",
     "output_type": "stream",
     "text": [
      "\r",
      " 71%|████████████████████████████████████████████████████████▌                       | 159/225 [59:20<24:46, 22.53s/it]"
     ]
    },
    {
     "name": "stdout",
     "output_type": "stream",
     "text": [
      "Processing data for material : WATER\n",
      "image_data shape is :  (2048, 2448)\n",
      "im90 shape is :  (1024, 1224)\n",
      "Stokes time:  0.02698493003845215 s\n",
      "im_stokes0 shape is :  (1024, 1224)\n",
      "DoLP time:  0.03497910499572754 s\n",
      "im_DOLP shape is :  (1024, 1224)\n",
      "Time for DOLP2Theta conversion is :  21.8494074344635 seconds\n",
      "False\n",
      "AoLP time:  0.041975975036621094 s\n"
     ]
    },
    {
     "name": "stderr",
     "output_type": "stream",
     "text": [
      "\r",
      " 71%|████████████████████████████████████████████████████████▉                       | 160/225 [59:43<24:24, 22.52s/it]"
     ]
    },
    {
     "name": "stdout",
     "output_type": "stream",
     "text": [
      "Processing data for material : WATER\n",
      "image_data shape is :  (2048, 2448)\n",
      "im90 shape is :  (1024, 1224)\n",
      "Stokes time:  0.025984764099121094 s\n",
      "im_stokes0 shape is :  (1024, 1224)\n",
      "DoLP time:  0.03397965431213379 s\n",
      "im_DOLP shape is :  (1024, 1224)\n",
      "Time for DOLP2Theta conversion is :  21.843410968780518 seconds\n",
      "False\n",
      "AoLP time:  0.04197549819946289 s\n"
     ]
    },
    {
     "name": "stderr",
     "output_type": "stream",
     "text": [
      "\r",
      " 72%|███████████████████████████████████████████████████████▊                      | 161/225 [1:00:05<24:01, 22.52s/it]"
     ]
    },
    {
     "name": "stdout",
     "output_type": "stream",
     "text": [
      "Processing data for material : WATER\n",
      "image_data shape is :  (2048, 2448)\n",
      "im90 shape is :  (1024, 1224)\n",
      "Stokes time:  0.02798318862915039 s\n",
      "im_stokes0 shape is :  (1024, 1224)\n",
      "DoLP time:  0.036978960037231445 s\n",
      "im_DOLP shape is :  (1024, 1224)\n",
      "Time for DOLP2Theta conversion is :  21.862399578094482 seconds\n",
      "False\n",
      "AoLP time:  0.04297494888305664 s\n"
     ]
    },
    {
     "name": "stderr",
     "output_type": "stream",
     "text": [
      "\r",
      " 72%|████████████████████████████████████████████████████████▏                     | 162/225 [1:00:28<23:38, 22.52s/it]"
     ]
    },
    {
     "name": "stdout",
     "output_type": "stream",
     "text": [
      "Processing data for material : WATER\n",
      "image_data shape is :  (2048, 2448)\n",
      "im90 shape is :  (1024, 1224)\n",
      "Stokes time:  0.025985002517700195 s\n",
      "im_stokes0 shape is :  (1024, 1224)\n",
      "DoLP time:  0.03298020362854004 s\n",
      "im_DOLP shape is :  (1024, 1224)\n",
      "Time for DOLP2Theta conversion is :  21.706490755081177 seconds\n",
      "False\n",
      "AoLP time:  0.04197502136230469 s\n"
     ]
    },
    {
     "name": "stderr",
     "output_type": "stream",
     "text": [
      "\r",
      " 72%|████████████████████████████████████████████████████████▌                     | 163/225 [1:00:50<23:13, 22.48s/it]"
     ]
    },
    {
     "name": "stdout",
     "output_type": "stream",
     "text": [
      "Processing data for material : WATER\n",
      "image_data shape is :  (2048, 2448)\n",
      "im90 shape is :  (1024, 1224)\n",
      "Stokes time:  0.023984432220458984 s\n",
      "im_stokes0 shape is :  (1024, 1224)\n",
      "DoLP time:  0.03497934341430664 s\n",
      "im_DOLP shape is :  (1024, 1224)\n",
      "Time for DOLP2Theta conversion is :  21.740469455718994 seconds\n",
      "False\n",
      "AoLP time:  0.041976213455200195 s\n"
     ]
    },
    {
     "name": "stderr",
     "output_type": "stream",
     "text": [
      "\r",
      " 73%|████████████████████████████████████████████████████████▊                     | 164/225 [1:01:12<22:49, 22.45s/it]"
     ]
    },
    {
     "name": "stdout",
     "output_type": "stream",
     "text": [
      "Processing data for material : WATER\n",
      "image_data shape is :  (2048, 2448)\n",
      "im90 shape is :  (1024, 1224)\n",
      "Stokes time:  0.023986339569091797 s\n",
      "im_stokes0 shape is :  (1024, 1224)\n",
      "DoLP time:  0.03597879409790039 s\n",
      "im_DOLP shape is :  (1024, 1224)\n",
      "Time for DOLP2Theta conversion is :  21.950348615646362 seconds\n",
      "False\n",
      "AoLP time:  0.0459752082824707 s\n"
     ]
    },
    {
     "name": "stderr",
     "output_type": "stream",
     "text": [
      "\r",
      " 73%|█████████████████████████████████████████████████████████▏                    | 165/225 [1:01:35<22:30, 22.50s/it]"
     ]
    },
    {
     "name": "stdout",
     "output_type": "stream",
     "text": [
      "Processing data for material : WATER\n",
      "image_data shape is :  (2048, 2448)\n",
      "im90 shape is :  (1024, 1224)\n",
      "Stokes time:  0.025984764099121094 s\n",
      "im_stokes0 shape is :  (1024, 1224)\n",
      "DoLP time:  0.03298020362854004 s\n",
      "im_DOLP shape is :  (1024, 1224)\n",
      "Time for DOLP2Theta conversion is :  22.239179611206055 seconds\n",
      "False\n",
      "AoLP time:  0.04697060585021973 s\n"
     ]
    },
    {
     "name": "stderr",
     "output_type": "stream",
     "text": [
      "\r",
      " 74%|█████████████████████████████████████████████████████████▌                    | 166/225 [1:01:58<22:14, 22.62s/it]"
     ]
    },
    {
     "name": "stdout",
     "output_type": "stream",
     "text": [
      "Processing data for material : WATER\n",
      "image_data shape is :  (2048, 2448)\n",
      "im90 shape is :  (1024, 1224)\n",
      "Stokes time:  0.023985862731933594 s\n",
      "im_stokes0 shape is :  (1024, 1224)\n",
      "DoLP time:  0.03397941589355469 s\n",
      "im_DOLP shape is :  (1024, 1224)\n",
      "Time for DOLP2Theta conversion is :  22.573989152908325 seconds\n",
      "False\n",
      "AoLP time:  0.040975093841552734 s\n"
     ]
    },
    {
     "name": "stderr",
     "output_type": "stream",
     "text": [
      "\r",
      " 74%|█████████████████████████████████████████████████████████▉                    | 167/225 [1:02:21<22:03, 22.81s/it]"
     ]
    },
    {
     "name": "stdout",
     "output_type": "stream",
     "text": [
      "Processing data for material : WATER\n",
      "image_data shape is :  (2048, 2448)\n",
      "im90 shape is :  (1024, 1224)\n",
      "Stokes time:  0.028983116149902344 s\n",
      "im_stokes0 shape is :  (1024, 1224)\n",
      "DoLP time:  0.03498053550720215 s\n",
      "im_DOLP shape is :  (1024, 1224)\n",
      "Time for DOLP2Theta conversion is :  21.849408388137817 seconds\n",
      "False\n",
      "AoLP time:  0.043974876403808594 s\n"
     ]
    },
    {
     "name": "stderr",
     "output_type": "stream",
     "text": [
      "\r",
      " 75%|██████████████████████████████████████████████████████████▏                   | 168/225 [1:02:44<21:35, 22.73s/it]"
     ]
    },
    {
     "name": "stdout",
     "output_type": "stream",
     "text": [
      "Processing data for material : WATER\n",
      "image_data shape is :  (2048, 2448)\n",
      "im90 shape is :  (1024, 1224)\n",
      "Stokes time:  0.02598428726196289 s\n",
      "im_stokes0 shape is :  (1024, 1224)\n",
      "DoLP time:  0.03797793388366699 s\n",
      "im_DOLP shape is :  (1024, 1224)\n",
      "Time for DOLP2Theta conversion is :  21.84940791130066 seconds\n",
      "False\n",
      "AoLP time:  0.04297375679016113 s\n"
     ]
    },
    {
     "name": "stderr",
     "output_type": "stream",
     "text": [
      "\r",
      " 75%|██████████████████████████████████████████████████████████▌                   | 169/225 [1:03:06<21:09, 22.67s/it]"
     ]
    },
    {
     "name": "stdout",
     "output_type": "stream",
     "text": [
      "Processing data for material : WATER\n",
      "image_data shape is :  (2048, 2448)\n",
      "im90 shape is :  (1024, 1224)\n",
      "Stokes time:  0.022984981536865234 s\n",
      "im_stokes0 shape is :  (1024, 1224)\n",
      "DoLP time:  0.02998208999633789 s\n",
      "im_DOLP shape is :  (1024, 1224)\n",
      "Time for DOLP2Theta conversion is :  21.9923255443573 seconds\n",
      "False\n",
      "AoLP time:  0.042972564697265625 s\n"
     ]
    },
    {
     "name": "stderr",
     "output_type": "stream",
     "text": [
      "\r",
      " 76%|██████████████████████████████████████████████████████████▉                   | 170/225 [1:03:29<20:46, 22.66s/it]"
     ]
    },
    {
     "name": "stdout",
     "output_type": "stream",
     "text": [
      "Processing data for material : WATER\n",
      "image_data shape is :  (2048, 2448)\n",
      "im90 shape is :  (1024, 1224)\n",
      "Stokes time:  0.026984453201293945 s\n",
      "im_stokes0 shape is :  (1024, 1224)\n",
      "DoLP time:  0.03897714614868164 s\n",
      "im_DOLP shape is :  (1024, 1224)\n",
      "Time for DOLP2Theta conversion is :  21.853406190872192 seconds\n",
      "False\n",
      "AoLP time:  0.0439760684967041 s\n"
     ]
    },
    {
     "name": "stderr",
     "output_type": "stream",
     "text": [
      "\r",
      " 76%|███████████████████████████████████████████████████████████▎                  | 171/225 [1:03:52<20:21, 22.62s/it]"
     ]
    },
    {
     "name": "stdout",
     "output_type": "stream",
     "text": [
      "Processing data for material : WATER\n",
      "image_data shape is :  (2048, 2448)\n",
      "im90 shape is :  (1024, 1224)\n",
      "Stokes time:  0.02698516845703125 s\n",
      "im_stokes0 shape is :  (1024, 1224)\n",
      "DoLP time:  0.0339808464050293 s\n",
      "im_DOLP shape is :  (1024, 1224)\n",
      "Time for DOLP2Theta conversion is :  21.678505659103394 seconds\n",
      "False\n",
      "AoLP time:  0.04797101020812988 s\n"
     ]
    },
    {
     "name": "stderr",
     "output_type": "stream",
     "text": [
      "\r",
      " 76%|███████████████████████████████████████████████████████████▋                  | 172/225 [1:04:14<19:54, 22.53s/it]"
     ]
    },
    {
     "name": "stdout",
     "output_type": "stream",
     "text": [
      "Processing data for material : WATER\n",
      "image_data shape is :  (2048, 2448)\n",
      "im90 shape is :  (1024, 1224)\n",
      "Stokes time:  0.026983976364135742 s\n",
      "im_stokes0 shape is :  (1024, 1224)\n",
      "DoLP time:  0.04097604751586914 s\n",
      "im_DOLP shape is :  (1024, 1224)\n",
      "Time for DOLP2Theta conversion is :  22.325132369995117 seconds\n",
      "False\n",
      "AoLP time:  0.04597306251525879 s\n"
     ]
    },
    {
     "name": "stderr",
     "output_type": "stream",
     "text": [
      "\r",
      " 77%|███████████████████████████████████████████████████████████▉                  | 173/225 [1:04:37<19:39, 22.69s/it]"
     ]
    },
    {
     "name": "stdout",
     "output_type": "stream",
     "text": [
      "Processing data for material : WATER\n",
      "image_data shape is :  (2048, 2448)\n",
      "im90 shape is :  (1024, 1224)\n",
      "Stokes time:  0.026984214782714844 s\n",
      "im_stokes0 shape is :  (1024, 1224)\n",
      "DoLP time:  0.034980058670043945 s\n",
      "im_DOLP shape is :  (1024, 1224)\n",
      "Time for DOLP2Theta conversion is :  21.79244041442871 seconds\n",
      "False\n",
      "AoLP time:  0.04097485542297363 s\n"
     ]
    },
    {
     "name": "stderr",
     "output_type": "stream",
     "text": [
      "\r",
      " 77%|████████████████████████████████████████████████████████████▎                 | 174/225 [1:04:59<19:13, 22.62s/it]"
     ]
    },
    {
     "name": "stdout",
     "output_type": "stream",
     "text": [
      "Processing data for material : WATER\n",
      "image_data shape is :  (2048, 2448)\n",
      "im90 shape is :  (1024, 1224)\n",
      "Stokes time:  0.0259857177734375 s\n",
      "im_stokes0 shape is :  (1024, 1224)\n",
      "DoLP time:  0.03298139572143555 s\n",
      "im_DOLP shape is :  (1024, 1224)\n",
      "Time for DOLP2Theta conversion is :  21.78344464302063 seconds\n",
      "False\n",
      "AoLP time:  0.044972896575927734 s\n"
     ]
    },
    {
     "name": "stderr",
     "output_type": "stream",
     "text": [
      "\r",
      " 78%|████████████████████████████████████████████████████████████▋                 | 175/225 [1:05:22<18:49, 22.58s/it]"
     ]
    },
    {
     "name": "stdout",
     "output_type": "stream",
     "text": [
      "Processing data for material : WATER\n",
      "image_data shape is :  (2048, 2448)\n",
      "im90 shape is :  (1024, 1224)\n",
      "Stokes time:  0.02798318862915039 s\n",
      "im_stokes0 shape is :  (1024, 1224)\n",
      "DoLP time:  0.03597903251647949 s\n",
      "im_DOLP shape is :  (1024, 1224)\n",
      "Time for DOLP2Theta conversion is :  22.15523099899292 seconds\n",
      "False\n",
      "AoLP time:  0.040978193283081055 s\n"
     ]
    },
    {
     "name": "stderr",
     "output_type": "stream",
     "text": [
      "\r",
      " 78%|█████████████████████████████████████████████████████████████                 | 176/225 [1:05:45<18:29, 22.65s/it]"
     ]
    },
    {
     "name": "stdout",
     "output_type": "stream",
     "text": [
      "Processing data for material : WATER\n",
      "image_data shape is :  (2048, 2448)\n",
      "im90 shape is :  (1024, 1224)\n",
      "Stokes time:  0.025984764099121094 s\n",
      "im_stokes0 shape is :  (1024, 1224)\n",
      "DoLP time:  0.03398013114929199 s\n",
      "im_DOLP shape is :  (1024, 1224)\n",
      "Time for DOLP2Theta conversion is :  21.7044894695282 seconds\n",
      "False\n",
      "AoLP time:  0.04597187042236328 s\n"
     ]
    },
    {
     "name": "stderr",
     "output_type": "stream",
     "text": [
      "\r",
      " 79%|█████████████████████████████████████████████████████████████▎                | 177/225 [1:06:07<18:03, 22.57s/it]"
     ]
    },
    {
     "name": "stdout",
     "output_type": "stream",
     "text": [
      "Processing data for material : WATER\n",
      "image_data shape is :  (2048, 2448)\n",
      "im90 shape is :  (1024, 1224)\n",
      "Stokes time:  0.02498316764831543 s\n",
      "im_stokes0 shape is :  (1024, 1224)\n",
      "DoLP time:  0.03298044204711914 s\n",
      "im_DOLP shape is :  (1024, 1224)\n",
      "Time for DOLP2Theta conversion is :  21.65351963043213 seconds\n",
      "False\n",
      "AoLP time:  0.04197359085083008 s\n"
     ]
    },
    {
     "name": "stderr",
     "output_type": "stream",
     "text": [
      "\r",
      " 79%|█████████████████████████████████████████████████████████████▋                | 178/225 [1:06:29<17:36, 22.48s/it]"
     ]
    },
    {
     "name": "stdout",
     "output_type": "stream",
     "text": [
      "Processing data for material : WATER\n",
      "image_data shape is :  (2048, 2448)\n",
      "im90 shape is :  (1024, 1224)\n",
      "Stokes time:  0.028983116149902344 s\n",
      "im_stokes0 shape is :  (1024, 1224)\n",
      "DoLP time:  0.03497934341430664 s\n",
      "im_DOLP shape is :  (1024, 1224)\n",
      "Time for DOLP2Theta conversion is :  21.707489728927612 seconds\n",
      "False\n",
      "AoLP time:  0.041974544525146484 s\n"
     ]
    },
    {
     "name": "stderr",
     "output_type": "stream",
     "text": [
      "\r",
      " 80%|██████████████████████████████████████████████████████████████                | 179/225 [1:06:52<17:12, 22.45s/it]"
     ]
    },
    {
     "name": "stdout",
     "output_type": "stream",
     "text": [
      "Processing data for material : WATER\n",
      "image_data shape is :  (2048, 2448)\n",
      "im90 shape is :  (1024, 1224)\n",
      "Stokes time:  0.027984619140625 s\n",
      "im_stokes0 shape is :  (1024, 1224)\n",
      "DoLP time:  0.032981157302856445 s\n",
      "im_DOLP shape is :  (1024, 1224)\n",
      "Time for DOLP2Theta conversion is :  22.07427668571472 seconds\n",
      "False\n",
      "AoLP time:  0.04597353935241699 s\n"
     ]
    },
    {
     "name": "stderr",
     "output_type": "stream",
     "text": [
      "\r",
      " 80%|██████████████████████████████████████████████████████████████▍               | 180/225 [1:07:14<16:54, 22.56s/it]"
     ]
    },
    {
     "name": "stdout",
     "output_type": "stream",
     "text": [
      "Processing data for material : WATER\n",
      "image_data shape is :  (2048, 2448)\n",
      "im90 shape is :  (1024, 1224)\n",
      "Stokes time:  0.024985790252685547 s\n",
      "im_stokes0 shape is :  (1024, 1224)\n",
      "DoLP time:  0.03597831726074219 s\n",
      "im_DOLP shape is :  (1024, 1224)\n",
      "Time for DOLP2Theta conversion is :  22.154231309890747 seconds\n",
      "False\n",
      "AoLP time:  0.05896615982055664 s\n"
     ]
    },
    {
     "name": "stderr",
     "output_type": "stream",
     "text": [
      "\r",
      " 80%|██████████████████████████████████████████████████████████████▋               | 181/225 [1:07:37<16:36, 22.64s/it]"
     ]
    },
    {
     "name": "stdout",
     "output_type": "stream",
     "text": [
      "Processing data for material : WATER\n",
      "image_data shape is :  (2048, 2448)\n",
      "im90 shape is :  (1024, 1224)\n",
      "Stokes time:  0.027983665466308594 s\n",
      "im_stokes0 shape is :  (1024, 1224)\n",
      "DoLP time:  0.049970388412475586 s\n",
      "im_DOLP shape is :  (1024, 1224)\n",
      "Time for DOLP2Theta conversion is :  22.200205326080322 seconds\n",
      "False\n",
      "AoLP time:  0.042975664138793945 s\n"
     ]
    },
    {
     "name": "stderr",
     "output_type": "stream",
     "text": [
      "\r",
      " 81%|███████████████████████████████████████████████████████████████               | 182/225 [1:08:00<16:17, 22.73s/it]"
     ]
    },
    {
     "name": "stdout",
     "output_type": "stream",
     "text": [
      "Processing data for material : WATER\n",
      "image_data shape is :  (2048, 2448)\n",
      "im90 shape is :  (1024, 1224)\n",
      "Stokes time:  0.02598428726196289 s\n",
      "im_stokes0 shape is :  (1024, 1224)\n",
      "DoLP time:  0.03397989273071289 s\n",
      "im_DOLP shape is :  (1024, 1224)\n",
      "Time for DOLP2Theta conversion is :  22.304144382476807 seconds\n",
      "False\n",
      "AoLP time:  0.05196881294250488 s\n"
     ]
    },
    {
     "name": "stderr",
     "output_type": "stream",
     "text": [
      "\r",
      " 81%|███████████████████████████████████████████████████████████████▍              | 183/225 [1:08:23<15:57, 22.81s/it]"
     ]
    },
    {
     "name": "stdout",
     "output_type": "stream",
     "text": [
      "Processing data for material : WATER\n",
      "image_data shape is :  (2048, 2448)\n",
      "im90 shape is :  (1024, 1224)\n",
      "Stokes time:  0.027984619140625 s\n",
      "im_stokes0 shape is :  (1024, 1224)\n",
      "DoLP time:  0.037978172302246094 s\n",
      "im_DOLP shape is :  (1024, 1224)\n",
      "Time for DOLP2Theta conversion is :  22.372106075286865 seconds\n",
      "False\n",
      "AoLP time:  0.05097031593322754 s\n"
     ]
    },
    {
     "name": "stderr",
     "output_type": "stream",
     "text": [
      "\r",
      " 82%|███████████████████████████████████████████████████████████████▊              | 184/225 [1:08:46<15:38, 22.88s/it]"
     ]
    },
    {
     "name": "stdout",
     "output_type": "stream",
     "text": [
      "Processing data for material : WATER\n",
      "image_data shape is :  (2048, 2448)\n",
      "im90 shape is :  (1024, 1224)\n",
      "Stokes time:  0.025984764099121094 s\n",
      "im_stokes0 shape is :  (1024, 1224)\n",
      "DoLP time:  0.04097700119018555 s\n",
      "im_DOLP shape is :  (1024, 1224)\n",
      "Time for DOLP2Theta conversion is :  22.11925172805786 seconds\n",
      "False\n",
      "AoLP time:  0.03997492790222168 s\n"
     ]
    },
    {
     "name": "stderr",
     "output_type": "stream",
     "text": [
      "\r",
      " 82%|████████████████████████████████████████████████████████████████▏             | 185/225 [1:09:09<15:14, 22.86s/it]"
     ]
    },
    {
     "name": "stdout",
     "output_type": "stream",
     "text": [
      "Processing data for material : WATER\n",
      "image_data shape is :  (2048, 2448)\n",
      "im90 shape is :  (1024, 1224)\n",
      "Stokes time:  0.024985074996948242 s\n",
      "im_stokes0 shape is :  (1024, 1224)\n",
      "DoLP time:  0.034979820251464844 s\n",
      "im_DOLP shape is :  (1024, 1224)\n",
      "Time for DOLP2Theta conversion is :  21.920366048812866 seconds\n",
      "False\n",
      "AoLP time:  0.042974233627319336 s\n"
     ]
    },
    {
     "name": "stderr",
     "output_type": "stream",
     "text": [
      "\r",
      " 83%|████████████████████████████████████████████████████████████████▍             | 186/225 [1:09:32<14:48, 22.78s/it]"
     ]
    },
    {
     "name": "stdout",
     "output_type": "stream",
     "text": [
      "Processing data for material : WATER\n",
      "image_data shape is :  (2048, 2448)\n",
      "im90 shape is :  (1024, 1224)\n",
      "Stokes time:  0.02498459815979004 s\n",
      "im_stokes0 shape is :  (1024, 1224)\n",
      "DoLP time:  0.033977508544921875 s\n",
      "im_DOLP shape is :  (1024, 1224)\n",
      "Time for DOLP2Theta conversion is :  21.94835138320923 seconds\n",
      "False\n",
      "AoLP time:  0.04297447204589844 s\n"
     ]
    },
    {
     "name": "stderr",
     "output_type": "stream",
     "text": [
      "\r",
      " 83%|████████████████████████████████████████████████████████████████▊             | 187/225 [1:09:54<14:23, 22.73s/it]"
     ]
    },
    {
     "name": "stdout",
     "output_type": "stream",
     "text": [
      "Processing data for material : WATER\n",
      "image_data shape is :  (2048, 2448)\n",
      "im90 shape is :  (1024, 1224)\n",
      "Stokes time:  0.025985240936279297 s\n",
      "im_stokes0 shape is :  (1024, 1224)\n",
      "DoLP time:  0.03498029708862305 s\n",
      "im_DOLP shape is :  (1024, 1224)\n",
      "Time for DOLP2Theta conversion is :  22.074278354644775 seconds\n",
      "False\n",
      "AoLP time:  0.04497337341308594 s\n"
     ]
    },
    {
     "name": "stderr",
     "output_type": "stream",
     "text": [
      "\r",
      " 84%|█████████████████████████████████████████████████████████████████▏            | 188/225 [1:10:17<14:02, 22.76s/it]"
     ]
    },
    {
     "name": "stdout",
     "output_type": "stream",
     "text": [
      "Processing data for material : WATER\n",
      "image_data shape is :  (2048, 2448)\n",
      "im90 shape is :  (1024, 1224)\n",
      "Stokes time:  0.026984453201293945 s\n",
      "im_stokes0 shape is :  (1024, 1224)\n",
      "DoLP time:  0.033979177474975586 s\n",
      "im_DOLP shape is :  (1024, 1224)\n",
      "Time for DOLP2Theta conversion is :  22.25917100906372 seconds\n",
      "False\n",
      "AoLP time:  0.042973995208740234 s\n"
     ]
    },
    {
     "name": "stderr",
     "output_type": "stream",
     "text": [
      "\r",
      " 84%|█████████████████████████████████████████████████████████████████▌            | 189/225 [1:10:40<13:41, 22.81s/it]"
     ]
    },
    {
     "name": "stdout",
     "output_type": "stream",
     "text": [
      "Processing data for material : WATER\n",
      "image_data shape is :  (2048, 2448)\n",
      "im90 shape is :  (1024, 1224)\n",
      "Stokes time:  0.025985240936279297 s\n",
      "im_stokes0 shape is :  (1024, 1224)\n",
      "DoLP time:  0.03398013114929199 s\n",
      "im_DOLP shape is :  (1024, 1224)\n",
      "Time for DOLP2Theta conversion is :  22.102262496948242 seconds\n",
      "False\n",
      "AoLP time:  0.04797220230102539 s\n"
     ]
    },
    {
     "name": "stderr",
     "output_type": "stream",
     "text": [
      "\r",
      " 84%|█████████████████████████████████████████████████████████████████▊            | 190/225 [1:11:03<13:18, 22.81s/it]"
     ]
    },
    {
     "name": "stdout",
     "output_type": "stream",
     "text": [
      "Processing data for material : WATER\n",
      "image_data shape is :  (2048, 2448)\n",
      "im90 shape is :  (1024, 1224)\n",
      "Stokes time:  0.027983903884887695 s\n",
      "im_stokes0 shape is :  (1024, 1224)\n",
      "DoLP time:  0.03897666931152344 s\n",
      "im_DOLP shape is :  (1024, 1224)\n",
      "Time for DOLP2Theta conversion is :  21.878389358520508 seconds\n",
      "False\n",
      "AoLP time:  0.04197096824645996 s\n"
     ]
    },
    {
     "name": "stderr",
     "output_type": "stream",
     "text": [
      "\r",
      " 85%|██████████████████████████████████████████████████████████████████▏           | 191/225 [1:11:25<12:53, 22.74s/it]"
     ]
    },
    {
     "name": "stdout",
     "output_type": "stream",
     "text": [
      "Processing data for material : WATER\n",
      "image_data shape is :  (2048, 2448)\n",
      "im90 shape is :  (1024, 1224)\n",
      "Stokes time:  0.0259854793548584 s\n",
      "im_stokes0 shape is :  (1024, 1224)\n",
      "DoLP time:  0.03597855567932129 s\n",
      "im_DOLP shape is :  (1024, 1224)\n",
      "Time for DOLP2Theta conversion is :  22.139240503311157 seconds\n",
      "False\n",
      "AoLP time:  0.04697251319885254 s\n"
     ]
    },
    {
     "name": "stderr",
     "output_type": "stream",
     "text": [
      "\r",
      " 85%|██████████████████████████████████████████████████████████████████▌           | 192/225 [1:11:48<12:31, 22.76s/it]"
     ]
    },
    {
     "name": "stdout",
     "output_type": "stream",
     "text": [
      "Processing data for material : WATER\n",
      "image_data shape is :  (2048, 2448)\n",
      "im90 shape is :  (1024, 1224)\n",
      "Stokes time:  0.02698373794555664 s\n",
      "im_stokes0 shape is :  (1024, 1224)\n",
      "DoLP time:  0.03697848320007324 s\n",
      "im_DOLP shape is :  (1024, 1224)\n",
      "Time for DOLP2Theta conversion is :  21.973335027694702 seconds\n",
      "False\n",
      "AoLP time:  0.04497480392456055 s\n"
     ]
    },
    {
     "name": "stderr",
     "output_type": "stream",
     "text": [
      "\r",
      " 86%|██████████████████████████████████████████████████████████████████▉           | 193/225 [1:12:11<12:07, 22.73s/it]"
     ]
    },
    {
     "name": "stdout",
     "output_type": "stream",
     "text": [
      "Processing data for material : WATER\n",
      "image_data shape is :  (2048, 2448)\n",
      "im90 shape is :  (1024, 1224)\n",
      "Stokes time:  0.026984691619873047 s\n",
      "im_stokes0 shape is :  (1024, 1224)\n",
      "DoLP time:  0.03198075294494629 s\n",
      "im_DOLP shape is :  (1024, 1224)\n",
      "Time for DOLP2Theta conversion is :  22.22219157218933 seconds\n",
      "False\n",
      "AoLP time:  0.04397439956665039 s\n"
     ]
    },
    {
     "name": "stderr",
     "output_type": "stream",
     "text": [
      "\r",
      " 86%|███████████████████████████████████████████████████████████████████▎          | 194/225 [1:12:34<11:45, 22.77s/it]"
     ]
    },
    {
     "name": "stdout",
     "output_type": "stream",
     "text": [
      "Processing data for material : WATER\n",
      "image_data shape is :  (2048, 2448)\n",
      "im90 shape is :  (1024, 1224)\n",
      "Stokes time:  0.027983903884887695 s\n",
      "im_stokes0 shape is :  (1024, 1224)\n",
      "DoLP time:  0.0359799861907959 s\n",
      "im_DOLP shape is :  (1024, 1224)\n",
      "Time for DOLP2Theta conversion is :  21.84441041946411 seconds\n",
      "False\n",
      "AoLP time:  0.04697132110595703 s\n"
     ]
    },
    {
     "name": "stderr",
     "output_type": "stream",
     "text": [
      "\r",
      " 87%|███████████████████████████████████████████████████████████████████▌          | 195/225 [1:12:56<11:20, 22.68s/it]"
     ]
    },
    {
     "name": "stdout",
     "output_type": "stream",
     "text": [
      "Processing data for material : WATER\n",
      "image_data shape is :  (2048, 2448)\n",
      "im90 shape is :  (1024, 1224)\n",
      "Stokes time:  0.027983665466308594 s\n",
      "im_stokes0 shape is :  (1024, 1224)\n",
      "DoLP time:  0.03797793388366699 s\n",
      "im_DOLP shape is :  (1024, 1224)\n",
      "Time for DOLP2Theta conversion is :  22.171222925186157 seconds\n",
      "False\n",
      "AoLP time:  0.04397296905517578 s\n"
     ]
    },
    {
     "name": "stderr",
     "output_type": "stream",
     "text": [
      "\r",
      " 87%|███████████████████████████████████████████████████████████████████▉          | 196/225 [1:13:19<10:59, 22.73s/it]"
     ]
    },
    {
     "name": "stdout",
     "output_type": "stream",
     "text": [
      "Processing data for material : WATER\n",
      "image_data shape is :  (2048, 2448)\n",
      "im90 shape is :  (1024, 1224)\n",
      "Stokes time:  0.026984214782714844 s\n",
      "im_stokes0 shape is :  (1024, 1224)\n",
      "DoLP time:  0.029982805252075195 s\n",
      "im_DOLP shape is :  (1024, 1224)\n",
      "Time for DOLP2Theta conversion is :  22.37410259246826 seconds\n",
      "False\n",
      "AoLP time:  0.04697108268737793 s\n"
     ]
    },
    {
     "name": "stderr",
     "output_type": "stream",
     "text": [
      "\r",
      " 88%|████████████████████████████████████████████████████████████████████▎         | 197/225 [1:13:42<10:39, 22.84s/it]"
     ]
    },
    {
     "name": "stdout",
     "output_type": "stream",
     "text": [
      "Processing data for material : WATER\n",
      "image_data shape is :  (2048, 2448)\n",
      "im90 shape is :  (1024, 1224)\n",
      "Stokes time:  0.024985313415527344 s\n",
      "im_stokes0 shape is :  (1024, 1224)\n",
      "DoLP time:  0.03497791290283203 s\n",
      "im_DOLP shape is :  (1024, 1224)\n",
      "Time for DOLP2Theta conversion is :  22.11125683784485 seconds\n",
      "False\n",
      "AoLP time:  0.04596972465515137 s\n"
     ]
    },
    {
     "name": "stderr",
     "output_type": "stream",
     "text": [
      "\r",
      " 88%|████████████████████████████████████████████████████████████████████▋         | 198/225 [1:14:05<10:16, 22.82s/it]"
     ]
    },
    {
     "name": "stdout",
     "output_type": "stream",
     "text": [
      "Processing data for material : WATER\n",
      "image_data shape is :  (2048, 2448)\n",
      "im90 shape is :  (1024, 1224)\n",
      "Stokes time:  0.026984453201293945 s\n",
      "im_stokes0 shape is :  (1024, 1224)\n",
      "DoLP time:  0.03697776794433594 s\n",
      "im_DOLP shape is :  (1024, 1224)\n",
      "Time for DOLP2Theta conversion is :  22.072278261184692 seconds\n",
      "False\n",
      "AoLP time:  0.04497218132019043 s\n"
     ]
    },
    {
     "name": "stderr",
     "output_type": "stream",
     "text": [
      "\r",
      " 88%|████████████████████████████████████████████████████████████████████▉         | 199/225 [1:14:28<09:52, 22.79s/it]"
     ]
    },
    {
     "name": "stdout",
     "output_type": "stream",
     "text": [
      "Processing data for material : WATER\n",
      "image_data shape is :  (2048, 2448)\n",
      "im90 shape is :  (1024, 1224)\n",
      "Stokes time:  0.026984691619873047 s\n",
      "im_stokes0 shape is :  (1024, 1224)\n",
      "DoLP time:  0.036977291107177734 s\n",
      "im_DOLP shape is :  (1024, 1224)\n",
      "Time for DOLP2Theta conversion is :  21.716482639312744 seconds\n",
      "False\n",
      "AoLP time:  0.045972347259521484 s\n"
     ]
    },
    {
     "name": "stderr",
     "output_type": "stream",
     "text": [
      "\r",
      " 89%|█████████████████████████████████████████████████████████████████████▎        | 200/225 [1:14:50<09:26, 22.67s/it]"
     ]
    },
    {
     "name": "stdout",
     "output_type": "stream",
     "text": [
      "Processing data for material : WATER\n",
      "image_data shape is :  (2048, 2448)\n",
      "im90 shape is :  (1024, 1224)\n",
      "Stokes time:  0.026984691619873047 s\n",
      "im_stokes0 shape is :  (1024, 1224)\n",
      "DoLP time:  0.03797769546508789 s\n",
      "im_DOLP shape is :  (1024, 1224)\n",
      "Time for DOLP2Theta conversion is :  22.131242036819458 seconds\n",
      "False\n",
      "AoLP time:  0.04697275161743164 s\n"
     ]
    },
    {
     "name": "stderr",
     "output_type": "stream",
     "text": [
      "\r",
      " 89%|█████████████████████████████████████████████████████████████████████▋        | 201/225 [1:15:13<09:04, 22.71s/it]"
     ]
    },
    {
     "name": "stdout",
     "output_type": "stream",
     "text": [
      "Processing data for material : WATER\n",
      "image_data shape is :  (2048, 2448)\n",
      "im90 shape is :  (1024, 1224)\n",
      "Stokes time:  0.026985883712768555 s\n",
      "im_stokes0 shape is :  (1024, 1224)\n",
      "DoLP time:  0.036977291107177734 s\n",
      "im_DOLP shape is :  (1024, 1224)\n",
      "Time for DOLP2Theta conversion is :  21.990326642990112 seconds\n",
      "False\n",
      "AoLP time:  0.04297494888305664 s\n"
     ]
    },
    {
     "name": "stderr",
     "output_type": "stream",
     "text": [
      "\r",
      " 90%|██████████████████████████████████████████████████████████████████████        | 202/225 [1:15:36<08:41, 22.69s/it]"
     ]
    },
    {
     "name": "stdout",
     "output_type": "stream",
     "text": [
      "Processing data for material : WATER\n",
      "image_data shape is :  (2048, 2448)\n",
      "im90 shape is :  (1024, 1224)\n",
      "Stokes time:  0.02398681640625 s\n",
      "im_stokes0 shape is :  (1024, 1224)\n",
      "DoLP time:  0.03697776794433594 s\n",
      "im_DOLP shape is :  (1024, 1224)\n",
      "Time for DOLP2Theta conversion is :  22.345122814178467 seconds\n",
      "False\n",
      "AoLP time:  0.040975332260131836 s\n"
     ]
    },
    {
     "name": "stderr",
     "output_type": "stream",
     "text": [
      "\r",
      " 90%|██████████████████████████████████████████████████████████████████████▎       | 203/225 [1:15:59<08:21, 22.80s/it]"
     ]
    },
    {
     "name": "stdout",
     "output_type": "stream",
     "text": [
      "Processing data for material : WATER\n",
      "image_data shape is :  (2048, 2448)\n",
      "im90 shape is :  (1024, 1224)\n",
      "Stokes time:  0.0259859561920166 s\n",
      "im_stokes0 shape is :  (1024, 1224)\n",
      "DoLP time:  0.036978721618652344 s\n",
      "im_DOLP shape is :  (1024, 1224)\n",
      "Time for DOLP2Theta conversion is :  22.173221111297607 seconds\n",
      "False\n",
      "AoLP time:  0.04597353935241699 s\n"
     ]
    },
    {
     "name": "stderr",
     "output_type": "stream",
     "text": [
      "\r",
      " 91%|██████████████████████████████████████████████████████████████████████▋       | 204/225 [1:16:21<07:59, 22.81s/it]"
     ]
    },
    {
     "name": "stdout",
     "output_type": "stream",
     "text": [
      "Processing data for material : WATER\n",
      "image_data shape is :  (2048, 2448)\n",
      "im90 shape is :  (1024, 1224)\n",
      "Stokes time:  0.028982877731323242 s\n",
      "im_stokes0 shape is :  (1024, 1224)\n",
      "DoLP time:  0.03397965431213379 s\n",
      "im_DOLP shape is :  (1024, 1224)\n",
      "Time for DOLP2Theta conversion is :  22.15722894668579 seconds\n",
      "False\n",
      "AoLP time:  0.045974016189575195 s\n"
     ]
    },
    {
     "name": "stderr",
     "output_type": "stream",
     "text": [
      "\r",
      " 91%|███████████████████████████████████████████████████████████████████████       | 205/225 [1:16:44<07:36, 22.83s/it]"
     ]
    },
    {
     "name": "stdout",
     "output_type": "stream",
     "text": [
      "Processing data for material : WATER\n",
      "image_data shape is :  (2048, 2448)\n",
      "im90 shape is :  (1024, 1224)\n",
      "Stokes time:  0.0259857177734375 s\n",
      "im_stokes0 shape is :  (1024, 1224)\n",
      "DoLP time:  0.0379788875579834 s\n",
      "im_DOLP shape is :  (1024, 1224)\n",
      "Time for DOLP2Theta conversion is :  21.96433973312378 seconds\n",
      "False\n",
      "AoLP time:  0.04097604751586914 s\n"
     ]
    },
    {
     "name": "stderr",
     "output_type": "stream",
     "text": [
      "\r",
      " 92%|███████████████████████████████████████████████████████████████████████▍      | 206/225 [1:17:07<07:12, 22.78s/it]"
     ]
    },
    {
     "name": "stdout",
     "output_type": "stream",
     "text": [
      "Processing data for material : WATER\n",
      "image_data shape is :  (2048, 2448)\n",
      "im90 shape is :  (1024, 1224)\n",
      "Stokes time:  0.027982711791992188 s\n",
      "im_stokes0 shape is :  (1024, 1224)\n",
      "DoLP time:  0.0339810848236084 s\n",
      "im_DOLP shape is :  (1024, 1224)\n",
      "Time for DOLP2Theta conversion is :  22.511025190353394 seconds\n",
      "False\n",
      "AoLP time:  0.040976524353027344 s\n"
     ]
    },
    {
     "name": "stderr",
     "output_type": "stream",
     "text": [
      "\r",
      " 92%|███████████████████████████████████████████████████████████████████████▊      | 207/225 [1:17:30<06:52, 22.89s/it]"
     ]
    },
    {
     "name": "stdout",
     "output_type": "stream",
     "text": [
      "Processing data for material : WATER\n",
      "image_data shape is :  (2048, 2448)\n",
      "im90 shape is :  (1024, 1224)\n",
      "Stokes time:  0.02298283576965332 s\n",
      "im_stokes0 shape is :  (1024, 1224)\n",
      "DoLP time:  0.03298139572143555 s\n",
      "im_DOLP shape is :  (1024, 1224)\n",
      "Time for DOLP2Theta conversion is :  22.069281339645386 seconds\n",
      "False\n",
      "AoLP time:  0.039977073669433594 s\n"
     ]
    },
    {
     "name": "stderr",
     "output_type": "stream",
     "text": [
      "\r",
      " 92%|████████████████████████████████████████████████████████████████████████      | 208/225 [1:17:53<06:28, 22.85s/it]"
     ]
    },
    {
     "name": "stdout",
     "output_type": "stream",
     "text": [
      "Processing data for material : WATER\n",
      "image_data shape is :  (2048, 2448)\n",
      "im90 shape is :  (1024, 1224)\n",
      "Stokes time:  0.025985240936279297 s\n",
      "im_stokes0 shape is :  (1024, 1224)\n",
      "DoLP time:  0.035977840423583984 s\n",
      "im_DOLP shape is :  (1024, 1224)\n",
      "Time for DOLP2Theta conversion is :  21.99731969833374 seconds\n",
      "False\n",
      "AoLP time:  0.04097604751586914 s\n"
     ]
    },
    {
     "name": "stderr",
     "output_type": "stream",
     "text": [
      "\r",
      " 93%|████████████████████████████████████████████████████████████████████████▍     | 209/225 [1:18:16<06:04, 22.78s/it]"
     ]
    },
    {
     "name": "stdout",
     "output_type": "stream",
     "text": [
      "Processing data for material : WATER\n",
      "image_data shape is :  (2048, 2448)\n",
      "im90 shape is :  (1024, 1224)\n",
      "Stokes time:  0.024985551834106445 s\n",
      "im_stokes0 shape is :  (1024, 1224)\n",
      "DoLP time:  0.032980918884277344 s\n",
      "im_DOLP shape is :  (1024, 1224)\n",
      "Time for DOLP2Theta conversion is :  21.929358959197998 seconds\n",
      "False\n",
      "AoLP time:  0.04097723960876465 s\n"
     ]
    },
    {
     "name": "stderr",
     "output_type": "stream",
     "text": [
      "\r",
      " 93%|████████████████████████████████████████████████████████████████████████▊     | 210/225 [1:18:38<05:40, 22.72s/it]"
     ]
    },
    {
     "name": "stdout",
     "output_type": "stream",
     "text": [
      "Processing data for material : WATER\n",
      "image_data shape is :  (2048, 2448)\n",
      "im90 shape is :  (1024, 1224)\n",
      "Stokes time:  0.0259857177734375 s\n",
      "im_stokes0 shape is :  (1024, 1224)\n",
      "DoLP time:  0.0339813232421875 s\n",
      "im_DOLP shape is :  (1024, 1224)\n",
      "Time for DOLP2Theta conversion is :  22.123247385025024 seconds\n",
      "False\n",
      "AoLP time:  0.04897141456604004 s\n"
     ]
    },
    {
     "name": "stderr",
     "output_type": "stream",
     "text": [
      "\r",
      " 94%|█████████████████████████████████████████████████████████████████████████▏    | 211/225 [1:19:01<05:18, 22.77s/it]"
     ]
    },
    {
     "name": "stdout",
     "output_type": "stream",
     "text": [
      "Processing data for material : WATER\n",
      "image_data shape is :  (2048, 2448)\n",
      "im90 shape is :  (1024, 1224)\n",
      "Stokes time:  0.026985645294189453 s\n",
      "im_stokes0 shape is :  (1024, 1224)\n",
      "DoLP time:  0.036977291107177734 s\n",
      "im_DOLP shape is :  (1024, 1224)\n",
      "Time for DOLP2Theta conversion is :  22.2861545085907 seconds\n",
      "False\n",
      "AoLP time:  0.04697132110595703 s\n"
     ]
    },
    {
     "name": "stderr",
     "output_type": "stream",
     "text": [
      "\r",
      " 94%|█████████████████████████████████████████████████████████████████████████▍    | 212/225 [1:19:24<04:56, 22.82s/it]"
     ]
    },
    {
     "name": "stdout",
     "output_type": "stream",
     "text": [
      "Processing data for material : WATER\n",
      "image_data shape is :  (2048, 2448)\n",
      "im90 shape is :  (1024, 1224)\n",
      "Stokes time:  0.023985624313354492 s\n",
      "im_stokes0 shape is :  (1024, 1224)\n",
      "DoLP time:  0.03797745704650879 s\n",
      "im_DOLP shape is :  (1024, 1224)\n",
      "Time for DOLP2Theta conversion is :  22.238183736801147 seconds\n",
      "False\n",
      "AoLP time:  0.04497385025024414 s\n"
     ]
    },
    {
     "name": "stderr",
     "output_type": "stream",
     "text": [
      "\r",
      " 95%|█████████████████████████████████████████████████████████████████████████▊    | 213/225 [1:19:47<04:34, 22.85s/it]"
     ]
    },
    {
     "name": "stdout",
     "output_type": "stream",
     "text": [
      "Processing data for material : WATER\n",
      "image_data shape is :  (2048, 2448)\n",
      "im90 shape is :  (1024, 1224)\n",
      "Stokes time:  0.025984764099121094 s\n",
      "im_stokes0 shape is :  (1024, 1224)\n",
      "DoLP time:  0.03797721862792969 s\n",
      "im_DOLP shape is :  (1024, 1224)\n",
      "Time for DOLP2Theta conversion is :  22.164225816726685 seconds\n",
      "False\n",
      "AoLP time:  0.04397225379943848 s\n"
     ]
    },
    {
     "name": "stderr",
     "output_type": "stream",
     "text": [
      "\r",
      " 95%|██████████████████████████████████████████████████████████████████████████▏   | 214/225 [1:20:10<04:11, 22.84s/it]"
     ]
    },
    {
     "name": "stdout",
     "output_type": "stream",
     "text": [
      "Processing data for material : WATER\n",
      "image_data shape is :  (2048, 2448)\n",
      "im90 shape is :  (1024, 1224)\n",
      "Stokes time:  0.025984525680541992 s\n",
      "im_stokes0 shape is :  (1024, 1224)\n",
      "DoLP time:  0.03497910499572754 s\n",
      "im_DOLP shape is :  (1024, 1224)\n",
      "Time for DOLP2Theta conversion is :  22.206199645996094 seconds\n",
      "False\n",
      "AoLP time:  0.04497337341308594 s\n"
     ]
    },
    {
     "name": "stderr",
     "output_type": "stream",
     "text": [
      "\r",
      " 96%|██████████████████████████████████████████████████████████████████████████▌   | 215/225 [1:20:33<03:48, 22.87s/it]"
     ]
    },
    {
     "name": "stdout",
     "output_type": "stream",
     "text": [
      "Processing data for material : WATER\n",
      "image_data shape is :  (2048, 2448)\n",
      "im90 shape is :  (1024, 1224)\n",
      "Stokes time:  0.025985240936279297 s\n",
      "im_stokes0 shape is :  (1024, 1224)\n",
      "DoLP time:  0.03597879409790039 s\n",
      "im_DOLP shape is :  (1024, 1224)\n",
      "Time for DOLP2Theta conversion is :  22.054290294647217 seconds\n",
      "False\n",
      "AoLP time:  0.04496407508850098 s\n"
     ]
    },
    {
     "name": "stderr",
     "output_type": "stream",
     "text": [
      "\r",
      " 96%|██████████████████████████████████████████████████████████████████████████▉   | 216/225 [1:20:55<03:25, 22.83s/it]"
     ]
    },
    {
     "name": "stdout",
     "output_type": "stream",
     "text": [
      "Processing data for material : WATER\n",
      "image_data shape is :  (2048, 2448)\n",
      "im90 shape is :  (1024, 1224)\n",
      "Stokes time:  0.02698516845703125 s\n",
      "im_stokes0 shape is :  (1024, 1224)\n",
      "DoLP time:  0.03397989273071289 s\n",
      "im_DOLP shape is :  (1024, 1224)\n",
      "Time for DOLP2Theta conversion is :  22.14024019241333 seconds\n",
      "False\n",
      "AoLP time:  0.03997492790222168 s\n"
     ]
    },
    {
     "name": "stderr",
     "output_type": "stream",
     "text": [
      "\r",
      " 96%|███████████████████████████████████████████████████████████████████████████▏  | 217/225 [1:21:18<03:02, 22.83s/it]"
     ]
    },
    {
     "name": "stdout",
     "output_type": "stream",
     "text": [
      "Processing data for material : WATER\n",
      "image_data shape is :  (2048, 2448)\n",
      "im90 shape is :  (1024, 1224)\n",
      "Stokes time:  0.025985240936279297 s\n",
      "im_stokes0 shape is :  (1024, 1224)\n",
      "DoLP time:  0.03797721862792969 s\n",
      "im_DOLP shape is :  (1024, 1224)\n",
      "Time for DOLP2Theta conversion is :  22.42307758331299 seconds\n",
      "False\n",
      "AoLP time:  0.04297351837158203 s\n"
     ]
    },
    {
     "name": "stderr",
     "output_type": "stream",
     "text": [
      "\r",
      " 97%|███████████████████████████████████████████████████████████████████████████▌  | 218/225 [1:21:41<02:40, 22.91s/it]"
     ]
    },
    {
     "name": "stdout",
     "output_type": "stream",
     "text": [
      "Processing data for material : WATER\n",
      "image_data shape is :  (2048, 2448)\n",
      "im90 shape is :  (1024, 1224)\n",
      "Stokes time:  0.025985240936279297 s\n",
      "im_stokes0 shape is :  (1024, 1224)\n",
      "DoLP time:  0.03398013114929199 s\n",
      "im_DOLP shape is :  (1024, 1224)\n",
      "Time for DOLP2Theta conversion is :  21.810429334640503 seconds\n",
      "False\n",
      "AoLP time:  0.042975664138793945 s\n"
     ]
    },
    {
     "name": "stderr",
     "output_type": "stream",
     "text": [
      "\r",
      " 97%|███████████████████████████████████████████████████████████████████████████▉  | 219/225 [1:22:04<02:16, 22.79s/it]"
     ]
    },
    {
     "name": "stdout",
     "output_type": "stream",
     "text": [
      "Processing data for material : WATER\n",
      "image_data shape is :  (2048, 2448)\n",
      "im90 shape is :  (1024, 1224)\n",
      "Stokes time:  0.025985002517700195 s\n",
      "im_stokes0 shape is :  (1024, 1224)\n",
      "DoLP time:  0.034979820251464844 s\n",
      "im_DOLP shape is :  (1024, 1224)\n",
      "Time for DOLP2Theta conversion is :  22.054288864135742 seconds\n",
      "False\n",
      "AoLP time:  0.04197335243225098 s\n"
     ]
    },
    {
     "name": "stderr",
     "output_type": "stream",
     "text": [
      "\r",
      " 98%|████████████████████████████████████████████████████████████████████████████▎ | 220/225 [1:22:27<01:53, 22.78s/it]"
     ]
    },
    {
     "name": "stdout",
     "output_type": "stream",
     "text": [
      "Processing data for material : WATER\n",
      "image_data shape is :  (2048, 2448)\n",
      "im90 shape is :  (1024, 1224)\n",
      "Stokes time:  0.0259854793548584 s\n",
      "im_stokes0 shape is :  (1024, 1224)\n",
      "DoLP time:  0.031980276107788086 s\n",
      "im_DOLP shape is :  (1024, 1224)\n",
      "Time for DOLP2Theta conversion is :  22.01331329345703 seconds\n",
      "False\n",
      "AoLP time:  0.046971797943115234 s\n"
     ]
    },
    {
     "name": "stderr",
     "output_type": "stream",
     "text": [
      "\r",
      " 98%|████████████████████████████████████████████████████████████████████████████▌ | 221/225 [1:22:49<01:31, 22.76s/it]"
     ]
    },
    {
     "name": "stdout",
     "output_type": "stream",
     "text": [
      "Processing data for material : WATER\n",
      "image_data shape is :  (2048, 2448)\n",
      "im90 shape is :  (1024, 1224)\n",
      "Stokes time:  0.02898430824279785 s\n",
      "im_stokes0 shape is :  (1024, 1224)\n",
      "DoLP time:  0.03897738456726074 s\n",
      "im_DOLP shape is :  (1024, 1224)\n",
      "Time for DOLP2Theta conversion is :  22.211199522018433 seconds\n",
      "False\n",
      "AoLP time:  0.04397392272949219 s\n"
     ]
    },
    {
     "name": "stderr",
     "output_type": "stream",
     "text": [
      "\r",
      " 99%|████████████████████████████████████████████████████████████████████████████▉ | 222/225 [1:23:12<01:08, 22.80s/it]"
     ]
    },
    {
     "name": "stdout",
     "output_type": "stream",
     "text": [
      "Processing data for material : WATER\n",
      "image_data shape is :  (2048, 2448)\n",
      "im90 shape is :  (1024, 1224)\n",
      "Stokes time:  0.025985002517700195 s\n",
      "im_stokes0 shape is :  (1024, 1224)\n",
      "DoLP time:  0.03697776794433594 s\n",
      "im_DOLP shape is :  (1024, 1224)\n"
     ]
    }
   ],
   "source": [
    "for k in tqdm(range(4)):\n",
    "    # set the frames to be processed and save locations\n",
    "    SUBFOLDER = k+1\n",
    "    data_foldername = \"{}_{}Flow_{}H_test{}_subFolder{}\".format(BEDFORM, FLOW_SPEED, SUBMERGENCE, TEST, SUBFOLDER)\n",
    "    files = filenames[k*NUM_FRAMES//4: (k+1)*NUM_FRAMES//4]\n",
    "\n",
    "    all_height_maps = np.zeros((im_theta1.shape[0],im_theta1.shape[1],len(files)))\n",
    "    all_sx_maps = np.zeros((im_theta1.shape[0],im_theta1.shape[1],len(files)))\n",
    "    all_sy_maps = np.zeros((im_theta1.shape[0],im_theta1.shape[1],len(files)))\n",
    "    all_raw_frames_0filter = np.zeros((im_theta1.shape[0],im_theta1.shape[1],len(files)))\n",
    "\n",
    "    i=-1\n",
    "    for filename2 in tqdm(files): #\n",
    "        i+=1\n",
    "        im_theta2, im_phi2 = theta_phi(filename2, file_location,\n",
    "                                   material = 'water',\n",
    "                                   flat_field_correct = 1,\n",
    "                                   gaussian_smoothing_sigma = 0,\n",
    "                                   num_images= NUM_IMAGES, correction_angle=0,\n",
    "                                   flat_field_correction_params = flat_field_correction_params)\n",
    "\n",
    "        raw_img2 = cv2.imread(os.path.join(file_location, filename2))\n",
    "\n",
    "        # get slopes and height maps\n",
    "        s_x = np.tan(np.radians((im_theta2 - im_theta1)))\n",
    "        s_y = np.tan(np.radians((im_phi2 - im_phi1)))\n",
    "        s_hat_x, s_hat_y = slopeFieldFFT(s_x, s_y, suppress_fig = 1)\n",
    "        height_map = slope2height(s_hat_x, s_hat_y)\n",
    "        all_height_maps[:,:,i] = height_map\n",
    "        all_sx_maps[:,:,i] = s_x\n",
    "        all_sy_maps[:,:,i] = s_y\n",
    "        all_raw_frames_0filter[:,:,i] = raw_img2[::2,::2,0]\n",
    "\n",
    "    del im_theta2, s_x, s_y, s_hat_x, s_hat_y, height_map, raw_img2, im_phi2\n",
    "    \n",
    "    # Collate the data into a dict\n",
    "    all_data_dict = {'all_height_maps': all_height_maps, 'all_sx_maps': all_sx_maps, \\\n",
    "                     'all_sy_maps':all_sy_maps, 'all_raw_frames_0filter':all_raw_frames_0filter}\n",
    "\n",
    "    # Save using Klepto -- not pickle : directly to disk -- not memory intensive\n",
    "    tic = time.time()\n",
    "    demo = dir_archive(os.path.join(save_location, klepto_saved_data_origin, data_foldername), {}, \\\n",
    "                       serialized=True, cached=False)\n",
    "    demo['all_height_maps'] = all_height_maps\n",
    "    demo['all_sx_maps'] = all_sx_maps\n",
    "    demo['all_sy_maps'] = all_sy_maps\n",
    "    demo['all_raw_frames_0filter'] = all_raw_frames_0filter\n",
    "    toc = time.time()\n",
    "    print('time taken = ', toc - tic)\n",
    "    demo.dump()\n",
    "    \n",
    "    # Empty some space\n",
    "    del all_data_dict, all_height_maps, all_sx_maps, all_sy_maps, all_raw_frames_0filter, files, demo"
   ]
  },
  {
   "cell_type": "code",
   "execution_count": null,
   "metadata": {},
   "outputs": [],
   "source": []
  }
 ],
 "metadata": {
  "kernelspec": {
   "display_name": "Python 3",
   "language": "python",
   "name": "python3"
  },
  "language_info": {
   "codemirror_mode": {
    "name": "ipython",
    "version": 3
   },
   "file_extension": ".py",
   "mimetype": "text/x-python",
   "name": "python",
   "nbconvert_exporter": "python",
   "pygments_lexer": "ipython3",
   "version": "3.7.3"
  }
 },
 "nbformat": 4,
 "nbformat_minor": 2
}
