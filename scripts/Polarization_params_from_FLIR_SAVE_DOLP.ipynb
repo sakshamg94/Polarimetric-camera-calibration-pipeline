{
 "cells": [
  {
   "cell_type": "code",
   "execution_count": 1,
   "metadata": {},
   "outputs": [],
   "source": [
    "import numpy as np\n",
    "from mpl_toolkits.axes_grid1 import make_axes_locatable\n",
    "from tqdm import tqdm\n",
    "from mpl_toolkits import mplot3d\n",
    "import time\n",
    "from klepto.archives import dir_archive"
   ]
  },
  {
   "cell_type": "code",
   "execution_count": 2,
   "metadata": {},
   "outputs": [],
   "source": [
    "from rawFLIR_polarization_data_extraction import *\n",
    "from slope2height import *"
   ]
  },
  {
   "cell_type": "code",
   "execution_count": 3,
   "metadata": {},
   "outputs": [
    {
     "name": "stdout",
     "output_type": "stream",
     "text": [
      "../FLIR_Camera/canopy_fastFlow_DeepH_test2_centeredCam_flume_LookAngle_35Deg\n"
     ]
    }
   ],
   "source": [
    "NUM_IMAGES=1\n",
    "BEDFORMS = ['corals', 'canopy', 'rocks', 'dunes']\n",
    "flow_speeds = ['fast', 'med', 'slow']\n",
    "submergences = ['Deep', 'Intermed', 'Shallow']\n",
    "\n",
    "# choose the data\n",
    "bed_idx = 1\n",
    "flow_idx = 0\n",
    "submergence_idx = 0 # change this\n",
    "TEST = 2\n",
    "\n",
    "# SET the data variables\n",
    "FLOW_SPEED = flow_speeds[flow_idx]\n",
    "SUBMERGENCE = submergences[submergence_idx]\n",
    "BEDFORM = BEDFORMS[bed_idx]\n",
    "\n",
    "# source data folders\n",
    "file_location = \"../FLIR_Camera/{}_{}Flow_{}H_test{}_centeredCam_flume_LookAngle_35Deg\".format(BEDFORM, FLOW_SPEED, SUBMERGENCE, TEST)\n",
    "ref_image_name = 'reference.tiff'\n",
    "save_location =  \"../FLIR_Camera\"\n",
    "dark_files_location = \"../FLIR_Camera/dark_imgs\"\n",
    "flat_files_location = \"../FLIR_Camera/flat_imgs\"\n",
    "klepto_saved_data_origin = 'klepto_bulk_data_saves' \n",
    "print(file_location)"
   ]
  },
  {
   "cell_type": "code",
   "execution_count": 4,
   "metadata": {},
   "outputs": [],
   "source": [
    "flat_field_correction_params = flat_field_params(dark_files_location, flat_files_location)"
   ]
  },
  {
   "cell_type": "code",
   "execution_count": 5,
   "metadata": {},
   "outputs": [
    {
     "name": "stdout",
     "output_type": "stream",
     "text": [
      "Processing data for material : WATER\n",
      "image_data shape is :  (2048, 2448)\n",
      "im90 shape is :  (1024, 1224)\n",
      "Stokes time:  0.028983592987060547 s\n",
      "im_stokes0 shape is :  (1024, 1224)\n",
      "DoLP time:  0.039977073669433594 s\n",
      "im_DOLP shape is :  (1024, 1224)\n"
     ]
    },
    {
     "name": "stderr",
     "output_type": "stream",
     "text": [
      "C:\\Users\\tracy\\Downloads\\saksham_polarimetric_cam\\scripts\\rawFLIR_polarization_data_extraction.py:225: RuntimeWarning: invalid value encountered in true_divide\n",
      "  alpha = 0.5*(np.tan(thI-thT)/np.tan(thI+thT))**2\n",
      "C:\\Users\\tracy\\Downloads\\saksham_polarimetric_cam\\scripts\\rawFLIR_polarization_data_extraction.py:226: RuntimeWarning: invalid value encountered in true_divide\n",
      "  eta = 0.5*(np.sin(thI-thT)/np.sin(thI+thT))**2\n",
      "C:\\ProgramData\\Anaconda3\\lib\\site-packages\\scipy\\interpolate\\interpolate.py:689: RuntimeWarning: invalid value encountered in greater\n",
      "  above_bounds = x_new > self.x[-1]\n"
     ]
    },
    {
     "name": "stdout",
     "output_type": "stream",
     "text": [
      "Time for DOLP2Theta conversion is :  23.187286376953125 seconds\n",
      "False\n",
      "AoLP time:  0.04097437858581543 s\n"
     ]
    }
   ],
   "source": [
    "im_theta1, im_phi1 = theta_phi(ref_image_name, file_location,\n",
    "                               material = 'water',\n",
    "                               flat_field_correct = 1,\n",
    "                               gaussian_smoothing_sigma = 0,\n",
    "                               num_images= NUM_IMAGES, correction_angle=0,\n",
    "                               flat_field_correction_params = flat_field_correction_params)"
   ]
  },
  {
   "cell_type": "markdown",
   "metadata": {},
   "source": [
    "# SAVE the height, slope, raw data maps"
   ]
  },
  {
   "cell_type": "code",
   "execution_count": 6,
   "metadata": {},
   "outputs": [
    {
     "name": "stdout",
     "output_type": "stream",
     "text": [
      "900\n"
     ]
    }
   ],
   "source": [
    "filenames = os.listdir(file_location)\n",
    "filenames.remove(ref_image_name) \n",
    "NUM_FRAMES = len(filenames)\n",
    "print(NUM_FRAMES)"
   ]
  },
  {
   "cell_type": "code",
   "execution_count": 7,
   "metadata": {},
   "outputs": [
    {
     "name": "stderr",
     "output_type": "stream",
     "text": [
      "  0%|                                                                                            | 0/4 [00:00<?, ?it/s]\n",
      "  0%|                                                                                          | 0/225 [00:00<?, ?it/s]"
     ]
    },
    {
     "name": "stdout",
     "output_type": "stream",
     "text": [
      "Processing data for material : WATER\n",
      "image_data shape is :  (2048, 2448)\n",
      "im90 shape is :  (1024, 1224)\n",
      "Stokes time:  0.028983354568481445 s\n",
      "im_stokes0 shape is :  (1024, 1224)\n",
      "DoLP time:  0.039977312088012695 s\n",
      "im_DOLP shape is :  (1024, 1224)\n",
      "Time for DOLP2Theta conversion is :  22.808293104171753 seconds\n",
      "False\n",
      "AoLP time:  0.03997683525085449 s\n"
     ]
    },
    {
     "name": "stderr",
     "output_type": "stream",
     "text": [
      "C:\\Users\\tracy\\Downloads\\saksham_polarimetric_cam\\scripts\\slope2height.py:65: RuntimeWarning: divide by zero encountered in log\n",
      "  s_hat_x_mag = 20*np.log(np.abs(s_hat_x_shifted))\n",
      "C:\\Users\\tracy\\Downloads\\saksham_polarimetric_cam\\scripts\\slope2height.py:69: RuntimeWarning: divide by zero encountered in log\n",
      "  s_hat_y_mag = 20*np.log(np.abs(s_hat_y_shifted))\n",
      "C:\\ProgramData\\Anaconda3\\lib\\site-packages\\ipykernel_launcher.py:29: ComplexWarning: Casting complex values to real discards the imaginary part\n",
      "\n",
      "  0%|▎                                                                               | 1/225 [00:26<1:40:21, 26.88s/it]"
     ]
    },
    {
     "name": "stdout",
     "output_type": "stream",
     "text": [
      "Processing data for material : WATER\n",
      "image_data shape is :  (2048, 2448)\n",
      "im90 shape is :  (1024, 1224)\n",
      "Stokes time:  0.03398013114929199 s\n",
      "im_stokes0 shape is :  (1024, 1224)\n",
      "DoLP time:  0.04097604751586914 s\n",
      "im_DOLP shape is :  (1024, 1224)\n",
      "Time for DOLP2Theta conversion is :  24.87237524986267 seconds\n",
      "False\n",
      "AoLP time:  0.04397416114807129 s\n"
     ]
    },
    {
     "name": "stderr",
     "output_type": "stream",
     "text": [
      "\n",
      "  1%|▋                                                                               | 2/225 [00:52<1:38:58, 26.63s/it]"
     ]
    },
    {
     "name": "stdout",
     "output_type": "stream",
     "text": [
      "Processing data for material : WATER\n",
      "image_data shape is :  (2048, 2448)\n",
      "im90 shape is :  (1024, 1224)\n",
      "Stokes time:  0.025985002517700195 s\n",
      "im_stokes0 shape is :  (1024, 1224)\n",
      "DoLP time:  0.034980058670043945 s\n",
      "im_DOLP shape is :  (1024, 1224)\n",
      "Time for DOLP2Theta conversion is :  23.097806930541992 seconds\n",
      "False\n",
      "AoLP time:  0.03897738456726074 s\n"
     ]
    },
    {
     "name": "stderr",
     "output_type": "stream",
     "text": [
      "\n",
      "  1%|█                                                                               | 3/225 [01:16<1:35:18, 25.76s/it]"
     ]
    },
    {
     "name": "stdout",
     "output_type": "stream",
     "text": [
      "Processing data for material : WATER\n",
      "image_data shape is :  (2048, 2448)\n",
      "im90 shape is :  (1024, 1224)\n",
      "Stokes time:  0.02398824691772461 s\n",
      "im_stokes0 shape is :  (1024, 1224)\n",
      "DoLP time:  0.034979820251464844 s\n",
      "im_DOLP shape is :  (1024, 1224)\n",
      "Time for DOLP2Theta conversion is :  23.371633052825928 seconds\n",
      "False\n",
      "AoLP time:  0.04197430610656738 s\n"
     ]
    },
    {
     "name": "stderr",
     "output_type": "stream",
     "text": [
      "\n",
      "  2%|█▍                                                                              | 4/225 [01:40<1:32:56, 25.23s/it]"
     ]
    },
    {
     "name": "stdout",
     "output_type": "stream",
     "text": [
      "Processing data for material : WATER\n",
      "image_data shape is :  (2048, 2448)\n",
      "im90 shape is :  (1024, 1224)\n",
      "Stokes time:  0.024985790252685547 s\n",
      "im_stokes0 shape is :  (1024, 1224)\n",
      "DoLP time:  0.030982255935668945 s\n",
      "im_DOLP shape is :  (1024, 1224)\n",
      "Time for DOLP2Theta conversion is :  23.447589635849 seconds\n",
      "False\n",
      "AoLP time:  0.038977622985839844 s\n"
     ]
    },
    {
     "name": "stderr",
     "output_type": "stream",
     "text": [
      "\n",
      "  2%|█▊                                                                              | 5/225 [02:04<1:31:17, 24.90s/it]"
     ]
    },
    {
     "name": "stdout",
     "output_type": "stream",
     "text": [
      "Processing data for material : WATER\n",
      "image_data shape is :  (2048, 2448)\n",
      "im90 shape is :  (1024, 1224)\n",
      "Stokes time:  0.025984764099121094 s\n",
      "im_stokes0 shape is :  (1024, 1224)\n",
      "DoLP time:  0.03098154067993164 s\n",
      "im_DOLP shape is :  (1024, 1224)\n",
      "Time for DOLP2Theta conversion is :  23.22871470451355 seconds\n",
      "False\n",
      "AoLP time:  0.04197382926940918 s\n"
     ]
    },
    {
     "name": "stderr",
     "output_type": "stream",
     "text": [
      "\n",
      "  3%|██▏                                                                             | 6/225 [02:28<1:29:44, 24.58s/it]"
     ]
    },
    {
     "name": "stdout",
     "output_type": "stream",
     "text": [
      "Processing data for material : WATER\n",
      "image_data shape is :  (2048, 2448)\n",
      "im90 shape is :  (1024, 1224)\n",
      "Stokes time:  0.026984214782714844 s\n",
      "im_stokes0 shape is :  (1024, 1224)\n",
      "DoLP time:  0.03597879409790039 s\n",
      "im_DOLP shape is :  (1024, 1224)\n",
      "Time for DOLP2Theta conversion is :  23.489563941955566 seconds\n",
      "False\n",
      "AoLP time:  0.03997611999511719 s\n"
     ]
    },
    {
     "name": "stderr",
     "output_type": "stream",
     "text": [
      "\n",
      "  3%|██▍                                                                             | 7/225 [02:52<1:28:48, 24.44s/it]"
     ]
    },
    {
     "name": "stdout",
     "output_type": "stream",
     "text": [
      "Processing data for material : WATER\n",
      "image_data shape is :  (2048, 2448)\n",
      "im90 shape is :  (1024, 1224)\n",
      "Stokes time:  0.024985313415527344 s\n",
      "im_stokes0 shape is :  (1024, 1224)\n",
      "DoLP time:  0.03198099136352539 s\n",
      "im_DOLP shape is :  (1024, 1224)\n",
      "Time for DOLP2Theta conversion is :  22.777990579605103 seconds\n",
      "False\n",
      "AoLP time:  0.041986942291259766 s\n"
     ]
    },
    {
     "name": "stderr",
     "output_type": "stream",
     "text": [
      "\n",
      "  4%|██▊                                                                             | 8/225 [03:16<1:27:18, 24.14s/it]"
     ]
    },
    {
     "name": "stdout",
     "output_type": "stream",
     "text": [
      "Processing data for material : WATER\n",
      "image_data shape is :  (2048, 2448)\n",
      "im90 shape is :  (1024, 1224)\n",
      "Stokes time:  0.026983976364135742 s\n",
      "im_stokes0 shape is :  (1024, 1224)\n",
      "DoLP time:  0.034980058670043945 s\n",
      "im_DOLP shape is :  (1024, 1224)\n",
      "Time for DOLP2Theta conversion is :  24.282111644744873 seconds\n",
      "False\n",
      "AoLP time:  0.04197359085083008 s\n"
     ]
    },
    {
     "name": "stderr",
     "output_type": "stream",
     "text": [
      "\n",
      "  4%|███▏                                                                            | 9/225 [03:41<1:27:47, 24.39s/it]"
     ]
    },
    {
     "name": "stdout",
     "output_type": "stream",
     "text": [
      "Processing data for material : WATER\n",
      "image_data shape is :  (2048, 2448)\n",
      "im90 shape is :  (1024, 1224)\n",
      "Stokes time:  0.02498602867126465 s\n",
      "im_stokes0 shape is :  (1024, 1224)\n",
      "DoLP time:  0.0339813232421875 s\n",
      "im_DOLP shape is :  (1024, 1224)\n",
      "Time for DOLP2Theta conversion is :  22.717007398605347 seconds\n",
      "False\n",
      "AoLP time:  0.0419766902923584 s\n"
     ]
    },
    {
     "name": "stderr",
     "output_type": "stream",
     "text": [
      "\n",
      "  4%|███▌                                                                           | 10/225 [04:04<1:26:19, 24.09s/it]"
     ]
    },
    {
     "name": "stdout",
     "output_type": "stream",
     "text": [
      "Processing data for material : WATER\n",
      "image_data shape is :  (2048, 2448)\n",
      "im90 shape is :  (1024, 1224)\n",
      "Stokes time:  0.025985002517700195 s\n",
      "im_stokes0 shape is :  (1024, 1224)\n",
      "DoLP time:  0.0339808464050293 s\n",
      "im_DOLP shape is :  (1024, 1224)\n",
      "Time for DOLP2Theta conversion is :  23.915320873260498 seconds\n",
      "False\n",
      "AoLP time:  0.03897833824157715 s\n"
     ]
    },
    {
     "name": "stderr",
     "output_type": "stream",
     "text": [
      "\n",
      "  5%|███▊                                                                           | 11/225 [04:29<1:26:26, 24.24s/it]"
     ]
    },
    {
     "name": "stdout",
     "output_type": "stream",
     "text": [
      "Processing data for material : WATER\n",
      "image_data shape is :  (2048, 2448)\n",
      "im90 shape is :  (1024, 1224)\n",
      "Stokes time:  0.023986101150512695 s\n",
      "im_stokes0 shape is :  (1024, 1224)\n",
      "DoLP time:  0.03298211097717285 s\n",
      "im_DOLP shape is :  (1024, 1224)\n",
      "Time for DOLP2Theta conversion is :  23.51155114173889 seconds\n",
      "False\n",
      "AoLP time:  0.04097723960876465 s\n"
     ]
    },
    {
     "name": "stderr",
     "output_type": "stream",
     "text": [
      "\n",
      "  5%|████▏                                                                          | 12/225 [04:53<1:26:00, 24.23s/it]"
     ]
    },
    {
     "name": "stdout",
     "output_type": "stream",
     "text": [
      "Processing data for material : WATER\n",
      "image_data shape is :  (2048, 2448)\n",
      "im90 shape is :  (1024, 1224)\n",
      "Stokes time:  0.024985313415527344 s\n",
      "im_stokes0 shape is :  (1024, 1224)\n",
      "DoLP time:  0.032981157302856445 s\n",
      "im_DOLP shape is :  (1024, 1224)\n",
      "Time for DOLP2Theta conversion is :  23.66646385192871 seconds\n",
      "False\n",
      "AoLP time:  0.03997468948364258 s\n"
     ]
    },
    {
     "name": "stderr",
     "output_type": "stream",
     "text": [
      "\n",
      "  6%|████▌                                                                          | 13/225 [05:17<1:25:41, 24.25s/it]"
     ]
    },
    {
     "name": "stdout",
     "output_type": "stream",
     "text": [
      "Processing data for material : WATER\n",
      "image_data shape is :  (2048, 2448)\n",
      "im90 shape is :  (1024, 1224)\n",
      "Stokes time:  0.026984214782714844 s\n",
      "im_stokes0 shape is :  (1024, 1224)\n",
      "DoLP time:  0.03098297119140625 s\n",
      "im_DOLP shape is :  (1024, 1224)\n",
      "Time for DOLP2Theta conversion is :  23.083796501159668 seconds\n",
      "False\n",
      "AoLP time:  0.038977861404418945 s\n"
     ]
    },
    {
     "name": "stderr",
     "output_type": "stream",
     "text": [
      "\n",
      "  6%|████▉                                                                          | 14/225 [05:41<1:24:45, 24.10s/it]"
     ]
    },
    {
     "name": "stdout",
     "output_type": "stream",
     "text": [
      "Processing data for material : WATER\n",
      "image_data shape is :  (2048, 2448)\n",
      "im90 shape is :  (1024, 1224)\n",
      "Stokes time:  0.023983478546142578 s\n",
      "im_stokes0 shape is :  (1024, 1224)\n",
      "DoLP time:  0.031981706619262695 s\n",
      "im_DOLP shape is :  (1024, 1224)\n",
      "Time for DOLP2Theta conversion is :  23.409611463546753 seconds\n",
      "False\n",
      "AoLP time:  0.043973445892333984 s\n"
     ]
    },
    {
     "name": "stderr",
     "output_type": "stream",
     "text": [
      "\n",
      "  7%|█████▎                                                                         | 15/225 [06:05<1:24:20, 24.10s/it]"
     ]
    },
    {
     "name": "stdout",
     "output_type": "stream",
     "text": [
      "Processing data for material : WATER\n",
      "image_data shape is :  (2048, 2448)\n",
      "im90 shape is :  (1024, 1224)\n",
      "Stokes time:  0.023986101150512695 s\n",
      "im_stokes0 shape is :  (1024, 1224)\n",
      "DoLP time:  0.034979820251464844 s\n",
      "im_DOLP shape is :  (1024, 1224)\n",
      "Time for DOLP2Theta conversion is :  23.371633291244507 seconds\n",
      "False\n",
      "AoLP time:  0.041975975036621094 s\n"
     ]
    },
    {
     "name": "stderr",
     "output_type": "stream",
     "text": [
      "\n",
      "  7%|█████▌                                                                         | 16/225 [06:29<1:23:54, 24.09s/it]"
     ]
    },
    {
     "name": "stdout",
     "output_type": "stream",
     "text": [
      "Processing data for material : WATER\n",
      "image_data shape is :  (2048, 2448)\n",
      "im90 shape is :  (1024, 1224)\n",
      "Stokes time:  0.02298712730407715 s\n",
      "im_stokes0 shape is :  (1024, 1224)\n",
      "DoLP time:  0.029982566833496094 s\n",
      "im_DOLP shape is :  (1024, 1224)\n",
      "Time for DOLP2Theta conversion is :  23.28568148612976 seconds\n",
      "False\n",
      "AoLP time:  0.04397249221801758 s\n"
     ]
    },
    {
     "name": "stderr",
     "output_type": "stream",
     "text": [
      "\n",
      "  8%|█████▉                                                                         | 17/225 [06:53<1:23:20, 24.04s/it]"
     ]
    },
    {
     "name": "stdout",
     "output_type": "stream",
     "text": [
      "Processing data for material : WATER\n",
      "image_data shape is :  (2048, 2448)\n",
      "im90 shape is :  (1024, 1224)\n",
      "Stokes time:  0.024985551834106445 s\n",
      "im_stokes0 shape is :  (1024, 1224)\n",
      "DoLP time:  0.03597879409790039 s\n",
      "im_DOLP shape is :  (1024, 1224)\n",
      "Time for DOLP2Theta conversion is :  23.789412021636963 seconds\n",
      "False\n",
      "AoLP time:  0.039974212646484375 s\n"
     ]
    },
    {
     "name": "stderr",
     "output_type": "stream",
     "text": [
      "\n",
      "  8%|██████▎                                                                        | 18/225 [07:17<1:23:21, 24.16s/it]"
     ]
    },
    {
     "name": "stdout",
     "output_type": "stream",
     "text": [
      "Processing data for material : WATER\n",
      "image_data shape is :  (2048, 2448)\n",
      "im90 shape is :  (1024, 1224)\n",
      "Stokes time:  0.02498483657836914 s\n",
      "im_stokes0 shape is :  (1024, 1224)\n",
      "DoLP time:  0.032980918884277344 s\n",
      "im_DOLP shape is :  (1024, 1224)\n",
      "Time for DOLP2Theta conversion is :  23.466577768325806 seconds\n",
      "False\n",
      "AoLP time:  0.04097723960876465 s\n"
     ]
    },
    {
     "name": "stderr",
     "output_type": "stream",
     "text": [
      "\n",
      "  8%|██████▋                                                                        | 19/225 [07:42<1:22:55, 24.15s/it]"
     ]
    },
    {
     "name": "stdout",
     "output_type": "stream",
     "text": [
      "Processing data for material : WATER\n",
      "image_data shape is :  (2048, 2448)\n",
      "im90 shape is :  (1024, 1224)\n",
      "Stokes time:  0.0259857177734375 s\n",
      "im_stokes0 shape is :  (1024, 1224)\n",
      "DoLP time:  0.032981157302856445 s\n",
      "im_DOLP shape is :  (1024, 1224)\n",
      "Time for DOLP2Theta conversion is :  23.174745798110962 seconds\n",
      "False\n",
      "AoLP time:  0.04197430610656738 s\n"
     ]
    },
    {
     "name": "stderr",
     "output_type": "stream",
     "text": [
      "\n",
      "  9%|███████                                                                        | 20/225 [08:05<1:22:12, 24.06s/it]"
     ]
    },
    {
     "name": "stdout",
     "output_type": "stream",
     "text": [
      "Processing data for material : WATER\n",
      "image_data shape is :  (2048, 2448)\n",
      "im90 shape is :  (1024, 1224)\n",
      "Stokes time:  0.023986339569091797 s\n",
      "im_stokes0 shape is :  (1024, 1224)\n",
      "DoLP time:  0.0319821834564209 s\n",
      "im_DOLP shape is :  (1024, 1224)\n",
      "Time for DOLP2Theta conversion is :  23.65548849105835 seconds\n",
      "False\n",
      "AoLP time:  0.040976762771606445 s\n"
     ]
    },
    {
     "name": "stderr",
     "output_type": "stream",
     "text": [
      "\n",
      "  9%|███████▎                                                                       | 21/225 [08:30<1:22:06, 24.15s/it]"
     ]
    },
    {
     "name": "stdout",
     "output_type": "stream",
     "text": [
      "Processing data for material : WATER\n",
      "image_data shape is :  (2048, 2448)\n",
      "im90 shape is :  (1024, 1224)\n",
      "Stokes time:  0.025985002517700195 s\n",
      "im_stokes0 shape is :  (1024, 1224)\n",
      "DoLP time:  0.03498077392578125 s\n",
      "im_DOLP shape is :  (1024, 1224)\n",
      "Time for DOLP2Theta conversion is :  23.474574089050293 seconds\n",
      "False\n",
      "AoLP time:  0.04497337341308594 s\n"
     ]
    },
    {
     "name": "stderr",
     "output_type": "stream",
     "text": [
      "\n",
      " 10%|███████▋                                                                       | 22/225 [08:54<1:21:40, 24.14s/it]"
     ]
    },
    {
     "name": "stdout",
     "output_type": "stream",
     "text": [
      "Processing data for material : WATER\n",
      "image_data shape is :  (2048, 2448)\n",
      "im90 shape is :  (1024, 1224)\n",
      "Stokes time:  0.023986339569091797 s\n",
      "im_stokes0 shape is :  (1024, 1224)\n",
      "DoLP time:  0.03198099136352539 s\n",
      "im_DOLP shape is :  (1024, 1224)\n",
      "Time for DOLP2Theta conversion is :  23.743419885635376 seconds\n",
      "False\n",
      "AoLP time:  0.03997516632080078 s\n"
     ]
    },
    {
     "name": "stderr",
     "output_type": "stream",
     "text": [
      "\n",
      " 10%|████████                                                                       | 23/225 [09:18<1:21:31, 24.21s/it]"
     ]
    },
    {
     "name": "stdout",
     "output_type": "stream",
     "text": [
      "Processing data for material : WATER\n",
      "image_data shape is :  (2048, 2448)\n",
      "im90 shape is :  (1024, 1224)\n",
      "Stokes time:  0.0239870548248291 s\n",
      "im_stokes0 shape is :  (1024, 1224)\n",
      "DoLP time:  0.0359797477722168 s\n",
      "im_DOLP shape is :  (1024, 1224)\n",
      "Time for DOLP2Theta conversion is :  23.531540155410767 seconds\n",
      "False\n",
      "AoLP time:  0.04097557067871094 s\n"
     ]
    },
    {
     "name": "stderr",
     "output_type": "stream",
     "text": [
      "\n",
      " 11%|████████▍                                                                      | 24/225 [09:42<1:21:07, 24.22s/it]"
     ]
    },
    {
     "name": "stdout",
     "output_type": "stream",
     "text": [
      "Processing data for material : WATER\n",
      "image_data shape is :  (2048, 2448)\n",
      "im90 shape is :  (1024, 1224)\n",
      "Stokes time:  0.024985790252685547 s\n",
      "im_stokes0 shape is :  (1024, 1224)\n",
      "DoLP time:  0.03397965431213379 s\n",
      "im_DOLP shape is :  (1024, 1224)\n",
      "Time for DOLP2Theta conversion is :  23.390621662139893 seconds\n",
      "False\n",
      "AoLP time:  0.039977312088012695 s\n"
     ]
    },
    {
     "name": "stderr",
     "output_type": "stream",
     "text": [
      "\n",
      " 11%|████████▊                                                                      | 25/225 [10:07<1:20:33, 24.17s/it]"
     ]
    },
    {
     "name": "stdout",
     "output_type": "stream",
     "text": [
      "Processing data for material : WATER\n",
      "image_data shape is :  (2048, 2448)\n",
      "im90 shape is :  (1024, 1224)\n",
      "Stokes time:  0.024985551834106445 s\n",
      "im_stokes0 shape is :  (1024, 1224)\n",
      "DoLP time:  0.03697848320007324 s\n",
      "im_DOLP shape is :  (1024, 1224)\n",
      "Time for DOLP2Theta conversion is :  22.326231241226196 seconds\n",
      "False\n",
      "AoLP time:  0.03897595405578613 s\n"
     ]
    },
    {
     "name": "stderr",
     "output_type": "stream",
     "text": [
      "\n",
      " 12%|█████████▏                                                                     | 26/225 [10:29<1:18:57, 23.81s/it]"
     ]
    },
    {
     "name": "stdout",
     "output_type": "stream",
     "text": [
      "Processing data for material : WATER\n",
      "image_data shape is :  (2048, 2448)\n",
      "im90 shape is :  (1024, 1224)\n",
      "Stokes time:  0.026983261108398438 s\n",
      "im_stokes0 shape is :  (1024, 1224)\n",
      "DoLP time:  0.031982421875 s\n",
      "im_DOLP shape is :  (1024, 1224)\n",
      "Time for DOLP2Theta conversion is :  22.628058671951294 seconds\n",
      "False\n",
      "AoLP time:  0.042975425720214844 s\n"
     ]
    },
    {
     "name": "stderr",
     "output_type": "stream",
     "text": [
      "\n",
      " 12%|█████████▍                                                                     | 27/225 [10:53<1:18:00, 23.64s/it]"
     ]
    },
    {
     "name": "stdout",
     "output_type": "stream",
     "text": [
      "Processing data for material : WATER\n",
      "image_data shape is :  (2048, 2448)\n",
      "im90 shape is :  (1024, 1224)\n",
      "Stokes time:  0.02298593521118164 s\n",
      "im_stokes0 shape is :  (1024, 1224)\n",
      "DoLP time:  0.03597855567932129 s\n",
      "im_DOLP shape is :  (1024, 1224)\n",
      "Time for DOLP2Theta conversion is :  23.12777280807495 seconds\n",
      "False\n",
      "AoLP time:  0.03997659683227539 s\n"
     ]
    },
    {
     "name": "stderr",
     "output_type": "stream",
     "text": [
      "\n",
      " 12%|█████████▊                                                                     | 28/225 [11:17<1:17:44, 23.68s/it]"
     ]
    },
    {
     "name": "stdout",
     "output_type": "stream",
     "text": [
      "Processing data for material : WATER\n",
      "image_data shape is :  (2048, 2448)\n",
      "im90 shape is :  (1024, 1224)\n",
      "Stokes time:  0.02498650550842285 s\n",
      "im_stokes0 shape is :  (1024, 1224)\n",
      "DoLP time:  0.03498053550720215 s\n",
      "im_DOLP shape is :  (1024, 1224)\n",
      "Time for DOLP2Theta conversion is :  22.95686912536621 seconds\n",
      "False\n",
      "AoLP time:  0.03897833824157715 s\n"
     ]
    },
    {
     "name": "stderr",
     "output_type": "stream",
     "text": [
      "\n",
      " 13%|██████████▏                                                                    | 29/225 [11:40<1:17:15, 23.65s/it]"
     ]
    },
    {
     "name": "stdout",
     "output_type": "stream",
     "text": [
      "Processing data for material : WATER\n",
      "image_data shape is :  (2048, 2448)\n",
      "im90 shape is :  (1024, 1224)\n",
      "Stokes time:  0.02498483657836914 s\n",
      "im_stokes0 shape is :  (1024, 1224)\n",
      "DoLP time:  0.036978960037231445 s\n",
      "im_DOLP shape is :  (1024, 1224)\n",
      "Time for DOLP2Theta conversion is :  23.248703718185425 seconds\n",
      "False\n",
      "AoLP time:  0.03997683525085449 s\n"
     ]
    },
    {
     "name": "stderr",
     "output_type": "stream",
     "text": [
      "\n",
      " 13%|██████████▌                                                                    | 30/225 [12:04<1:17:05, 23.72s/it]"
     ]
    },
    {
     "name": "stdout",
     "output_type": "stream",
     "text": [
      "Processing data for material : WATER\n",
      "image_data shape is :  (2048, 2448)\n",
      "im90 shape is :  (1024, 1224)\n",
      "Stokes time:  0.024985790252685547 s\n",
      "im_stokes0 shape is :  (1024, 1224)\n",
      "DoLP time:  0.029982566833496094 s\n",
      "im_DOLP shape is :  (1024, 1224)\n",
      "Time for DOLP2Theta conversion is :  24.303099155426025 seconds\n",
      "False\n",
      "AoLP time:  0.04197430610656738 s\n"
     ]
    },
    {
     "name": "stderr",
     "output_type": "stream",
     "text": [
      "\n",
      " 14%|██████████▉                                                                    | 31/225 [12:29<1:18:21, 24.24s/it]"
     ]
    },
    {
     "name": "stdout",
     "output_type": "stream",
     "text": [
      "Processing data for material : WATER\n",
      "image_data shape is :  (2048, 2448)\n",
      "im90 shape is :  (1024, 1224)\n",
      "Stokes time:  0.025984525680541992 s\n",
      "im_stokes0 shape is :  (1024, 1224)\n",
      "DoLP time:  0.0339808464050293 s\n",
      "im_DOLP shape is :  (1024, 1224)\n",
      "Time for DOLP2Theta conversion is :  23.00184464454651 seconds\n",
      "False\n",
      "AoLP time:  0.04197335243225098 s\n"
     ]
    },
    {
     "name": "stderr",
     "output_type": "stream",
     "text": [
      "\n",
      " 14%|███████████▏                                                                   | 32/225 [12:53<1:17:26, 24.07s/it]"
     ]
    },
    {
     "name": "stdout",
     "output_type": "stream",
     "text": [
      "Processing data for material : WATER\n",
      "image_data shape is :  (2048, 2448)\n",
      "im90 shape is :  (1024, 1224)\n",
      "Stokes time:  0.0239865779876709 s\n",
      "im_stokes0 shape is :  (1024, 1224)\n",
      "DoLP time:  0.0339810848236084 s\n",
      "im_DOLP shape is :  (1024, 1224)\n",
      "Time for DOLP2Theta conversion is :  23.030826807022095 seconds\n",
      "False\n",
      "AoLP time:  0.0399782657623291 s\n"
     ]
    },
    {
     "name": "stderr",
     "output_type": "stream",
     "text": [
      "\n",
      " 15%|███████████▌                                                                   | 33/225 [13:17<1:16:37, 23.95s/it]"
     ]
    },
    {
     "name": "stdout",
     "output_type": "stream",
     "text": [
      "Processing data for material : WATER\n",
      "image_data shape is :  (2048, 2448)\n",
      "im90 shape is :  (1024, 1224)\n",
      "Stokes time:  0.025985002517700195 s\n",
      "im_stokes0 shape is :  (1024, 1224)\n",
      "DoLP time:  0.0319821834564209 s\n",
      "im_DOLP shape is :  (1024, 1224)\n",
      "Time for DOLP2Theta conversion is :  23.54953098297119 seconds\n",
      "False\n",
      "AoLP time:  0.04597187042236328 s\n"
     ]
    },
    {
     "name": "stderr",
     "output_type": "stream",
     "text": [
      "\n",
      " 15%|███████████▉                                                                   | 34/225 [13:41<1:16:27, 24.02s/it]"
     ]
    },
    {
     "name": "stdout",
     "output_type": "stream",
     "text": [
      "Processing data for material : WATER\n",
      "image_data shape is :  (2048, 2448)\n",
      "im90 shape is :  (1024, 1224)\n",
      "Stokes time:  0.025985240936279297 s\n",
      "im_stokes0 shape is :  (1024, 1224)\n",
      "DoLP time:  0.03398013114929199 s\n",
      "im_DOLP shape is :  (1024, 1224)\n",
      "Time for DOLP2Theta conversion is :  23.27668786048889 seconds\n",
      "False\n",
      "AoLP time:  0.03997635841369629 s\n"
     ]
    },
    {
     "name": "stderr",
     "output_type": "stream",
     "text": [
      "\n",
      " 16%|████████████▎                                                                  | 35/225 [14:05<1:15:57, 23.99s/it]"
     ]
    },
    {
     "name": "stdout",
     "output_type": "stream",
     "text": [
      "Processing data for material : WATER\n",
      "image_data shape is :  (2048, 2448)\n",
      "im90 shape is :  (1024, 1224)\n",
      "Stokes time:  0.025984764099121094 s\n",
      "im_stokes0 shape is :  (1024, 1224)\n",
      "DoLP time:  0.03697824478149414 s\n",
      "im_DOLP shape is :  (1024, 1224)\n",
      "Time for DOLP2Theta conversion is :  23.739420652389526 seconds\n",
      "False\n",
      "AoLP time:  0.03997659683227539 s\n"
     ]
    },
    {
     "name": "stderr",
     "output_type": "stream",
     "text": [
      "\n",
      " 16%|████████████▋                                                                  | 36/225 [14:29<1:16:00, 24.13s/it]"
     ]
    },
    {
     "name": "stdout",
     "output_type": "stream",
     "text": [
      "Processing data for material : WATER\n",
      "image_data shape is :  (2048, 2448)\n",
      "im90 shape is :  (1024, 1224)\n",
      "Stokes time:  0.024985313415527344 s\n",
      "im_stokes0 shape is :  (1024, 1224)\n",
      "DoLP time:  0.03497934341430664 s\n",
      "im_DOLP shape is :  (1024, 1224)\n",
      "Time for DOLP2Theta conversion is :  23.42360234260559 seconds\n",
      "False\n",
      "AoLP time:  0.03997635841369629 s\n"
     ]
    },
    {
     "name": "stderr",
     "output_type": "stream",
     "text": [
      "\n",
      " 16%|████████████▉                                                                  | 37/225 [14:53<1:15:32, 24.11s/it]"
     ]
    },
    {
     "name": "stdout",
     "output_type": "stream",
     "text": [
      "Processing data for material : WATER\n",
      "image_data shape is :  (2048, 2448)\n",
      "im90 shape is :  (1024, 1224)\n",
      "Stokes time:  0.024985313415527344 s\n",
      "im_stokes0 shape is :  (1024, 1224)\n",
      "DoLP time:  0.03298020362854004 s\n",
      "im_DOLP shape is :  (1024, 1224)\n",
      "Time for DOLP2Theta conversion is :  23.58651065826416 seconds\n",
      "False\n",
      "AoLP time:  0.03997611999511719 s\n"
     ]
    },
    {
     "name": "stderr",
     "output_type": "stream",
     "text": [
      "\n",
      " 17%|█████████████▎                                                                 | 38/225 [15:18<1:15:15, 24.14s/it]"
     ]
    },
    {
     "name": "stdout",
     "output_type": "stream",
     "text": [
      "Processing data for material : WATER\n",
      "image_data shape is :  (2048, 2448)\n",
      "im90 shape is :  (1024, 1224)\n",
      "Stokes time:  0.024985551834106445 s\n",
      "im_stokes0 shape is :  (1024, 1224)\n",
      "DoLP time:  0.032980918884277344 s\n",
      "im_DOLP shape is :  (1024, 1224)\n",
      "Time for DOLP2Theta conversion is :  22.21129584312439 seconds\n",
      "False\n",
      "AoLP time:  0.039977073669433594 s\n"
     ]
    },
    {
     "name": "stderr",
     "output_type": "stream",
     "text": [
      "\n",
      " 17%|█████████████▋                                                                 | 39/225 [15:41<1:13:41, 23.77s/it]"
     ]
    },
    {
     "name": "stdout",
     "output_type": "stream",
     "text": [
      "Processing data for material : WATER\n",
      "image_data shape is :  (2048, 2448)\n",
      "im90 shape is :  (1024, 1224)\n",
      "Stokes time:  0.025984764099121094 s\n",
      "im_stokes0 shape is :  (1024, 1224)\n",
      "DoLP time:  0.0319819450378418 s\n",
      "im_DOLP shape is :  (1024, 1224)\n",
      "Time for DOLP2Theta conversion is :  23.359639883041382 seconds\n",
      "False\n",
      "AoLP time:  0.04496955871582031 s\n"
     ]
    },
    {
     "name": "stderr",
     "output_type": "stream",
     "text": [
      "\n",
      " 18%|██████████████                                                                 | 40/225 [16:05<1:13:34, 23.86s/it]"
     ]
    },
    {
     "name": "stdout",
     "output_type": "stream",
     "text": [
      "Processing data for material : WATER\n",
      "image_data shape is :  (2048, 2448)\n",
      "im90 shape is :  (1024, 1224)\n",
      "Stokes time:  0.024985551834106445 s\n",
      "im_stokes0 shape is :  (1024, 1224)\n",
      "DoLP time:  0.03497934341430664 s\n",
      "im_DOLP shape is :  (1024, 1224)\n",
      "Time for DOLP2Theta conversion is :  23.73842167854309 seconds\n",
      "False\n",
      "AoLP time:  0.039977312088012695 s\n"
     ]
    },
    {
     "name": "stderr",
     "output_type": "stream",
     "text": [
      "\n",
      " 18%|██████████████▍                                                                | 41/225 [16:29<1:13:38, 24.01s/it]"
     ]
    },
    {
     "name": "stdout",
     "output_type": "stream",
     "text": [
      "Processing data for material : WATER\n",
      "image_data shape is :  (2048, 2448)\n",
      "im90 shape is :  (1024, 1224)\n",
      "Stokes time:  0.02398681640625 s\n",
      "im_stokes0 shape is :  (1024, 1224)\n",
      "DoLP time:  0.0339813232421875 s\n",
      "im_DOLP shape is :  (1024, 1224)\n",
      "Time for DOLP2Theta conversion is :  23.24170732498169 seconds\n",
      "False\n",
      "AoLP time:  0.03997659683227539 s\n"
     ]
    },
    {
     "name": "stderr",
     "output_type": "stream",
     "text": [
      "\n",
      " 19%|██████████████▋                                                                | 42/225 [16:53<1:13:06, 23.97s/it]"
     ]
    },
    {
     "name": "stdout",
     "output_type": "stream",
     "text": [
      "Processing data for material : WATER\n",
      "image_data shape is :  (2048, 2448)\n",
      "im90 shape is :  (1024, 1224)\n",
      "Stokes time:  0.0279843807220459 s\n",
      "im_stokes0 shape is :  (1024, 1224)\n",
      "DoLP time:  0.03198099136352539 s\n",
      "im_DOLP shape is :  (1024, 1224)\n",
      "Time for DOLP2Theta conversion is :  23.605499505996704 seconds\n",
      "False\n",
      "AoLP time:  0.04397249221801758 s\n"
     ]
    },
    {
     "name": "stderr",
     "output_type": "stream",
     "text": [
      "\n",
      " 19%|███████████████                                                                | 43/225 [17:17<1:12:56, 24.05s/it]"
     ]
    },
    {
     "name": "stdout",
     "output_type": "stream",
     "text": [
      "Processing data for material : WATER\n",
      "image_data shape is :  (2048, 2448)\n",
      "im90 shape is :  (1024, 1224)\n",
      "Stokes time:  0.024986982345581055 s\n",
      "im_stokes0 shape is :  (1024, 1224)\n",
      "DoLP time:  0.034980058670043945 s\n",
      "im_DOLP shape is :  (1024, 1224)\n",
      "Time for DOLP2Theta conversion is :  23.03482413291931 seconds\n",
      "False\n",
      "AoLP time:  0.039977073669433594 s\n"
     ]
    },
    {
     "name": "stderr",
     "output_type": "stream",
     "text": [
      "\n",
      " 20%|███████████████▍                                                               | 44/225 [17:41<1:12:12, 23.94s/it]"
     ]
    },
    {
     "name": "stdout",
     "output_type": "stream",
     "text": [
      "Processing data for material : WATER\n",
      "image_data shape is :  (2048, 2448)\n",
      "im90 shape is :  (1024, 1224)\n",
      "Stokes time:  0.025986194610595703 s\n",
      "im_stokes0 shape is :  (1024, 1224)\n",
      "DoLP time:  0.03298044204711914 s\n",
      "im_DOLP shape is :  (1024, 1224)\n",
      "Time for DOLP2Theta conversion is :  23.64047932624817 seconds\n",
      "False\n",
      "AoLP time:  0.04597163200378418 s\n"
     ]
    },
    {
     "name": "stderr",
     "output_type": "stream",
     "text": [
      "\n",
      " 20%|███████████████▊                                                               | 45/225 [18:05<1:12:07, 24.04s/it]"
     ]
    },
    {
     "name": "stdout",
     "output_type": "stream",
     "text": [
      "Processing data for material : WATER\n",
      "image_data shape is :  (2048, 2448)\n",
      "im90 shape is :  (1024, 1224)\n",
      "Stokes time:  0.024985313415527344 s\n",
      "im_stokes0 shape is :  (1024, 1224)\n",
      "DoLP time:  0.033980369567871094 s\n",
      "im_DOLP shape is :  (1024, 1224)\n",
      "Time for DOLP2Theta conversion is :  23.17876100540161 seconds\n",
      "False\n",
      "AoLP time:  0.03897690773010254 s\n"
     ]
    },
    {
     "name": "stderr",
     "output_type": "stream",
     "text": [
      "\n",
      " 20%|████████████████▏                                                              | 46/225 [18:29<1:11:32, 23.98s/it]"
     ]
    },
    {
     "name": "stdout",
     "output_type": "stream",
     "text": [
      "Processing data for material : WATER\n",
      "image_data shape is :  (2048, 2448)\n",
      "im90 shape is :  (1024, 1224)\n",
      "Stokes time:  0.025985240936279297 s\n",
      "im_stokes0 shape is :  (1024, 1224)\n",
      "DoLP time:  0.033980369567871094 s\n",
      "im_DOLP shape is :  (1024, 1224)\n",
      "Time for DOLP2Theta conversion is :  23.793391466140747 seconds\n",
      "False\n",
      "AoLP time:  0.03897595405578613 s\n"
     ]
    },
    {
     "name": "stderr",
     "output_type": "stream",
     "text": [
      "\n",
      " 21%|████████████████▌                                                              | 47/225 [18:53<1:11:32, 24.12s/it]"
     ]
    },
    {
     "name": "stdout",
     "output_type": "stream",
     "text": [
      "Processing data for material : WATER\n",
      "image_data shape is :  (2048, 2448)\n",
      "im90 shape is :  (1024, 1224)\n",
      "Stokes time:  0.023986339569091797 s\n",
      "im_stokes0 shape is :  (1024, 1224)\n",
      "DoLP time:  0.0319819450378418 s\n",
      "im_DOLP shape is :  (1024, 1224)\n",
      "Time for DOLP2Theta conversion is :  23.04981565475464 seconds\n",
      "False\n",
      "AoLP time:  0.04197382926940918 s\n"
     ]
    },
    {
     "name": "stderr",
     "output_type": "stream",
     "text": [
      "\n",
      " 21%|████████████████▊                                                              | 48/225 [19:17<1:10:48, 24.00s/it]"
     ]
    },
    {
     "name": "stdout",
     "output_type": "stream",
     "text": [
      "Processing data for material : WATER\n",
      "image_data shape is :  (2048, 2448)\n",
      "im90 shape is :  (1024, 1224)\n",
      "Stokes time:  0.023987770080566406 s\n",
      "im_stokes0 shape is :  (1024, 1224)\n",
      "DoLP time:  0.033980369567871094 s\n",
      "im_DOLP shape is :  (1024, 1224)\n",
      "Time for DOLP2Theta conversion is :  23.59052610397339 seconds\n",
      "False\n",
      "AoLP time:  0.04297447204589844 s\n"
     ]
    },
    {
     "name": "stderr",
     "output_type": "stream",
     "text": [
      "\n",
      " 22%|█████████████████▏                                                             | 49/225 [19:41<1:10:35, 24.07s/it]"
     ]
    },
    {
     "name": "stdout",
     "output_type": "stream",
     "text": [
      "Processing data for material : WATER\n",
      "image_data shape is :  (2048, 2448)\n",
      "im90 shape is :  (1024, 1224)\n",
      "Stokes time:  0.02598261833190918 s\n",
      "im_stokes0 shape is :  (1024, 1224)\n",
      "DoLP time:  0.0319819450378418 s\n",
      "im_DOLP shape is :  (1024, 1224)\n",
      "Time for DOLP2Theta conversion is :  23.798388957977295 seconds\n",
      "False\n",
      "AoLP time:  0.037978172302246094 s\n"
     ]
    },
    {
     "name": "stderr",
     "output_type": "stream",
     "text": [
      "\n",
      " 22%|█████████████████▌                                                             | 50/225 [20:06<1:10:31, 24.18s/it]"
     ]
    },
    {
     "name": "stdout",
     "output_type": "stream",
     "text": [
      "Processing data for material : WATER\n",
      "image_data shape is :  (2048, 2448)\n",
      "im90 shape is :  (1024, 1224)\n",
      "Stokes time:  0.02598428726196289 s\n",
      "im_stokes0 shape is :  (1024, 1224)\n",
      "DoLP time:  0.0339810848236084 s\n",
      "im_DOLP shape is :  (1024, 1224)\n",
      "Time for DOLP2Theta conversion is :  24.007270336151123 seconds\n",
      "False\n",
      "AoLP time:  0.03897881507873535 s\n"
     ]
    },
    {
     "name": "stderr",
     "output_type": "stream",
     "text": [
      "\n",
      " 23%|█████████████████▉                                                             | 51/225 [20:30<1:10:34, 24.34s/it]"
     ]
    },
    {
     "name": "stdout",
     "output_type": "stream",
     "text": [
      "Processing data for material : WATER\n",
      "image_data shape is :  (2048, 2448)\n",
      "im90 shape is :  (1024, 1224)\n",
      "Stokes time:  0.02498602867126465 s\n",
      "im_stokes0 shape is :  (1024, 1224)\n",
      "DoLP time:  0.03397989273071289 s\n",
      "im_DOLP shape is :  (1024, 1224)\n",
      "Time for DOLP2Theta conversion is :  23.01183772087097 seconds\n",
      "False\n",
      "AoLP time:  0.03996896743774414 s\n"
     ]
    },
    {
     "name": "stderr",
     "output_type": "stream",
     "text": [
      "\n",
      " 23%|██████████████████▎                                                            | 52/225 [20:54<1:09:36, 24.14s/it]"
     ]
    },
    {
     "name": "stdout",
     "output_type": "stream",
     "text": [
      "Processing data for material : WATER\n",
      "image_data shape is :  (2048, 2448)\n",
      "im90 shape is :  (1024, 1224)\n",
      "Stokes time:  0.024985551834106445 s\n",
      "im_stokes0 shape is :  (1024, 1224)\n",
      "DoLP time:  0.03298163414001465 s\n",
      "im_DOLP shape is :  (1024, 1224)\n",
      "Time for DOLP2Theta conversion is :  23.279683828353882 seconds\n",
      "False\n",
      "AoLP time:  0.042975425720214844 s\n"
     ]
    },
    {
     "name": "stderr",
     "output_type": "stream",
     "text": [
      "\n",
      " 24%|██████████████████▌                                                            | 53/225 [21:18<1:09:00, 24.08s/it]"
     ]
    },
    {
     "name": "stdout",
     "output_type": "stream",
     "text": [
      "Processing data for material : WATER\n",
      "image_data shape is :  (2048, 2448)\n",
      "im90 shape is :  (1024, 1224)\n",
      "Stokes time:  0.024985074996948242 s\n",
      "im_stokes0 shape is :  (1024, 1224)\n",
      "DoLP time:  0.031981706619262695 s\n",
      "im_DOLP shape is :  (1024, 1224)\n",
      "Time for DOLP2Theta conversion is :  22.70301604270935 seconds\n",
      "False\n",
      "AoLP time:  0.03997492790222168 s\n"
     ]
    },
    {
     "name": "stderr",
     "output_type": "stream",
     "text": [
      "\n",
      " 24%|██████████████████▉                                                            | 54/225 [21:41<1:07:59, 23.86s/it]"
     ]
    },
    {
     "name": "stdout",
     "output_type": "stream",
     "text": [
      "Processing data for material : WATER\n",
      "image_data shape is :  (2048, 2448)\n",
      "im90 shape is :  (1024, 1224)\n",
      "Stokes time:  0.025984764099121094 s\n",
      "im_stokes0 shape is :  (1024, 1224)\n",
      "DoLP time:  0.037978172302246094 s\n",
      "im_DOLP shape is :  (1024, 1224)\n",
      "Time for DOLP2Theta conversion is :  23.692449808120728 seconds\n",
      "False\n",
      "AoLP time:  0.040976524353027344 s\n"
     ]
    },
    {
     "name": "stderr",
     "output_type": "stream",
     "text": [
      "\n",
      " 24%|███████████████████▎                                                           | 55/225 [22:06<1:08:03, 24.02s/it]"
     ]
    },
    {
     "name": "stdout",
     "output_type": "stream",
     "text": [
      "Processing data for material : WATER\n",
      "image_data shape is :  (2048, 2448)\n",
      "im90 shape is :  (1024, 1224)\n",
      "Stokes time:  0.023984909057617188 s\n",
      "im_stokes0 shape is :  (1024, 1224)\n",
      "DoLP time:  0.034979820251464844 s\n",
      "im_DOLP shape is :  (1024, 1224)\n",
      "Time for DOLP2Theta conversion is :  23.410610914230347 seconds\n",
      "False\n",
      "AoLP time:  0.038976430892944336 s\n"
     ]
    },
    {
     "name": "stderr",
     "output_type": "stream",
     "text": [
      "\n",
      " 25%|███████████████████▋                                                           | 56/225 [22:30<1:07:42, 24.04s/it]"
     ]
    },
    {
     "name": "stdout",
     "output_type": "stream",
     "text": [
      "Processing data for material : WATER\n",
      "image_data shape is :  (2048, 2448)\n",
      "im90 shape is :  (1024, 1224)\n",
      "Stokes time:  0.023988008499145508 s\n",
      "im_stokes0 shape is :  (1024, 1224)\n",
      "DoLP time:  0.03498077392578125 s\n",
      "im_DOLP shape is :  (1024, 1224)\n",
      "Time for DOLP2Theta conversion is :  23.7004451751709 seconds\n",
      "False\n",
      "AoLP time:  0.039977073669433594 s\n"
     ]
    },
    {
     "name": "stderr",
     "output_type": "stream",
     "text": [
      "\n",
      " 25%|████████████████████                                                           | 57/225 [22:54<1:07:35, 24.14s/it]"
     ]
    },
    {
     "name": "stdout",
     "output_type": "stream",
     "text": [
      "Processing data for material : WATER\n",
      "image_data shape is :  (2048, 2448)\n",
      "im90 shape is :  (1024, 1224)\n",
      "Stokes time:  0.026984453201293945 s\n",
      "im_stokes0 shape is :  (1024, 1224)\n",
      "DoLP time:  0.031981706619262695 s\n",
      "im_DOLP shape is :  (1024, 1224)\n",
      "Time for DOLP2Theta conversion is :  23.67445993423462 seconds\n",
      "False\n",
      "AoLP time:  0.04097437858581543 s\n"
     ]
    },
    {
     "name": "stderr",
     "output_type": "stream",
     "text": [
      "\n",
      " 26%|████████████████████▎                                                          | 58/225 [23:19<1:07:19, 24.19s/it]"
     ]
    },
    {
     "name": "stdout",
     "output_type": "stream",
     "text": [
      "Processing data for material : WATER\n",
      "image_data shape is :  (2048, 2448)\n",
      "im90 shape is :  (1024, 1224)\n",
      "Stokes time:  0.023985862731933594 s\n",
      "im_stokes0 shape is :  (1024, 1224)\n",
      "DoLP time:  0.030984163284301758 s\n",
      "im_DOLP shape is :  (1024, 1224)\n",
      "Time for DOLP2Theta conversion is :  23.41260838508606 seconds\n",
      "False\n",
      "AoLP time:  0.039977073669433594 s\n"
     ]
    },
    {
     "name": "stderr",
     "output_type": "stream",
     "text": [
      "\n",
      " 26%|████████████████████▋                                                          | 59/225 [23:43<1:06:50, 24.16s/it]"
     ]
    },
    {
     "name": "stdout",
     "output_type": "stream",
     "text": [
      "Processing data for material : WATER\n",
      "image_data shape is :  (2048, 2448)\n",
      "im90 shape is :  (1024, 1224)\n",
      "Stokes time:  0.023985624313354492 s\n",
      "im_stokes0 shape is :  (1024, 1224)\n",
      "DoLP time:  0.032980918884277344 s\n",
      "im_DOLP shape is :  (1024, 1224)\n",
      "Time for DOLP2Theta conversion is :  23.568520545959473 seconds\n",
      "False\n",
      "AoLP time:  0.05796623229980469 s\n"
     ]
    },
    {
     "name": "stderr",
     "output_type": "stream",
     "text": [
      "\n",
      " 27%|█████████████████████                                                          | 60/225 [24:07<1:06:31, 24.19s/it]"
     ]
    },
    {
     "name": "stdout",
     "output_type": "stream",
     "text": [
      "Processing data for material : WATER\n",
      "image_data shape is :  (2048, 2448)\n",
      "im90 shape is :  (1024, 1224)\n",
      "Stokes time:  0.025985240936279297 s\n",
      "im_stokes0 shape is :  (1024, 1224)\n",
      "DoLP time:  0.032980918884277344 s\n",
      "im_DOLP shape is :  (1024, 1224)\n",
      "Time for DOLP2Theta conversion is :  23.23670768737793 seconds\n",
      "False\n",
      "AoLP time:  0.04997062683105469 s\n"
     ]
    },
    {
     "name": "stderr",
     "output_type": "stream",
     "text": [
      "\n",
      " 27%|█████████████████████▍                                                         | 61/225 [24:31<1:05:50, 24.09s/it]"
     ]
    },
    {
     "name": "stdout",
     "output_type": "stream",
     "text": [
      "Processing data for material : WATER\n",
      "image_data shape is :  (2048, 2448)\n",
      "im90 shape is :  (1024, 1224)\n",
      "Stokes time:  0.024985313415527344 s\n",
      "im_stokes0 shape is :  (1024, 1224)\n",
      "DoLP time:  0.03697848320007324 s\n",
      "im_DOLP shape is :  (1024, 1224)\n",
      "Time for DOLP2Theta conversion is :  23.996275663375854 seconds\n",
      "False\n",
      "AoLP time:  0.04197525978088379 s\n"
     ]
    },
    {
     "name": "stderr",
     "output_type": "stream",
     "text": [
      "\n",
      " 28%|█████████████████████▊                                                         | 62/225 [24:55<1:05:52, 24.25s/it]"
     ]
    },
    {
     "name": "stdout",
     "output_type": "stream",
     "text": [
      "Processing data for material : WATER\n",
      "image_data shape is :  (2048, 2448)\n",
      "im90 shape is :  (1024, 1224)\n",
      "Stokes time:  0.025985002517700195 s\n",
      "im_stokes0 shape is :  (1024, 1224)\n",
      "DoLP time:  0.034979820251464844 s\n",
      "im_DOLP shape is :  (1024, 1224)\n",
      "Time for DOLP2Theta conversion is :  22.58708143234253 seconds\n",
      "False\n",
      "AoLP time:  0.04197549819946289 s\n"
     ]
    },
    {
     "name": "stderr",
     "output_type": "stream",
     "text": [
      "\n",
      " 28%|██████████████████████                                                         | 63/225 [25:19<1:04:41, 23.96s/it]"
     ]
    },
    {
     "name": "stdout",
     "output_type": "stream",
     "text": [
      "Processing data for material : WATER\n",
      "image_data shape is :  (2048, 2448)\n",
      "im90 shape is :  (1024, 1224)\n",
      "Stokes time:  0.024985551834106445 s\n",
      "im_stokes0 shape is :  (1024, 1224)\n",
      "DoLP time:  0.034980058670043945 s\n",
      "im_DOLP shape is :  (1024, 1224)\n",
      "Time for DOLP2Theta conversion is :  23.443591356277466 seconds\n",
      "False\n",
      "AoLP time:  0.04097437858581543 s\n"
     ]
    },
    {
     "name": "stderr",
     "output_type": "stream",
     "text": [
      "\n",
      " 28%|██████████████████████▍                                                        | 64/225 [25:43<1:04:24, 24.00s/it]"
     ]
    },
    {
     "name": "stdout",
     "output_type": "stream",
     "text": [
      "Processing data for material : WATER\n",
      "image_data shape is :  (2048, 2448)\n",
      "im90 shape is :  (1024, 1224)\n",
      "Stokes time:  0.025985002517700195 s\n",
      "im_stokes0 shape is :  (1024, 1224)\n",
      "DoLP time:  0.031981706619262695 s\n",
      "im_DOLP shape is :  (1024, 1224)\n",
      "Time for DOLP2Theta conversion is :  23.197749376296997 seconds\n",
      "False\n",
      "AoLP time:  0.042975664138793945 s\n"
     ]
    },
    {
     "name": "stderr",
     "output_type": "stream",
     "text": [
      "\n",
      " 29%|██████████████████████▊                                                        | 65/225 [26:07<1:03:52, 23.95s/it]"
     ]
    },
    {
     "name": "stdout",
     "output_type": "stream",
     "text": [
      "Processing data for material : WATER\n",
      "image_data shape is :  (2048, 2448)\n",
      "im90 shape is :  (1024, 1224)\n",
      "Stokes time:  0.024985313415527344 s\n",
      "im_stokes0 shape is :  (1024, 1224)\n",
      "DoLP time:  0.03198122978210449 s\n",
      "im_DOLP shape is :  (1024, 1224)\n",
      "Time for DOLP2Theta conversion is :  24.25412893295288 seconds\n",
      "False\n",
      "AoLP time:  0.05596804618835449 s\n"
     ]
    },
    {
     "name": "stderr",
     "output_type": "stream",
     "text": [
      "\n",
      " 29%|███████████████████████▏                                                       | 66/225 [26:32<1:04:15, 24.25s/it]"
     ]
    },
    {
     "name": "stdout",
     "output_type": "stream",
     "text": [
      "Processing data for material : WATER\n",
      "image_data shape is :  (2048, 2448)\n",
      "im90 shape is :  (1024, 1224)\n",
      "Stokes time:  0.02498602867126465 s\n",
      "im_stokes0 shape is :  (1024, 1224)\n",
      "DoLP time:  0.030982255935668945 s\n",
      "im_DOLP shape is :  (1024, 1224)\n",
      "Time for DOLP2Theta conversion is :  23.45358657836914 seconds\n",
      "False\n",
      "AoLP time:  0.04097604751586914 s\n"
     ]
    },
    {
     "name": "stderr",
     "output_type": "stream",
     "text": [
      "\n",
      " 30%|███████████████████████▌                                                       | 67/225 [26:56<1:03:45, 24.21s/it]"
     ]
    },
    {
     "name": "stdout",
     "output_type": "stream",
     "text": [
      "Processing data for material : WATER\n",
      "image_data shape is :  (2048, 2448)\n",
      "im90 shape is :  (1024, 1224)\n",
      "Stokes time:  0.024985790252685547 s\n",
      "im_stokes0 shape is :  (1024, 1224)\n",
      "DoLP time:  0.035980224609375 s\n",
      "im_DOLP shape is :  (1024, 1224)\n",
      "Time for DOLP2Theta conversion is :  23.318663835525513 seconds\n",
      "False\n",
      "AoLP time:  0.04097461700439453 s\n"
     ]
    },
    {
     "name": "stderr",
     "output_type": "stream",
     "text": [
      "\n",
      " 30%|███████████████████████▉                                                       | 68/225 [27:20<1:03:11, 24.15s/it]"
     ]
    },
    {
     "name": "stdout",
     "output_type": "stream",
     "text": [
      "Processing data for material : WATER\n",
      "image_data shape is :  (2048, 2448)\n",
      "im90 shape is :  (1024, 1224)\n",
      "Stokes time:  0.024985790252685547 s\n",
      "im_stokes0 shape is :  (1024, 1224)\n",
      "DoLP time:  0.03597831726074219 s\n",
      "im_DOLP shape is :  (1024, 1224)\n",
      "Time for DOLP2Theta conversion is :  24.448015689849854 seconds\n",
      "False\n",
      "AoLP time:  0.03997516632080078 s\n"
     ]
    },
    {
     "name": "stderr",
     "output_type": "stream",
     "text": [
      "\n",
      " 31%|████████████████████████▏                                                      | 69/225 [27:45<1:03:45, 24.52s/it]"
     ]
    },
    {
     "name": "stdout",
     "output_type": "stream",
     "text": [
      "Processing data for material : WATER\n",
      "image_data shape is :  (2048, 2448)\n",
      "im90 shape is :  (1024, 1224)\n",
      "Stokes time:  0.02298569679260254 s\n",
      "im_stokes0 shape is :  (1024, 1224)\n",
      "DoLP time:  0.031981468200683594 s\n",
      "im_DOLP shape is :  (1024, 1224)\n",
      "Time for DOLP2Theta conversion is :  23.385642528533936 seconds\n",
      "False\n",
      "AoLP time:  0.03997516632080078 s\n"
     ]
    },
    {
     "name": "stderr",
     "output_type": "stream",
     "text": [
      "\n",
      " 31%|████████████████████████▌                                                      | 70/225 [28:09<1:02:57, 24.37s/it]"
     ]
    },
    {
     "name": "stdout",
     "output_type": "stream",
     "text": [
      "Processing data for material : WATER\n",
      "image_data shape is :  (2048, 2448)\n",
      "im90 shape is :  (1024, 1224)\n",
      "Stokes time:  0.02398514747619629 s\n",
      "im_stokes0 shape is :  (1024, 1224)\n",
      "DoLP time:  0.03198122978210449 s\n",
      "im_DOLP shape is :  (1024, 1224)\n",
      "Time for DOLP2Theta conversion is :  24.074231147766113 seconds\n",
      "False\n",
      "AoLP time:  0.03997540473937988 s\n"
     ]
    },
    {
     "name": "stderr",
     "output_type": "stream",
     "text": [
      "\n",
      " 32%|████████████████████████▉                                                      | 71/225 [28:34<1:02:48, 24.47s/it]"
     ]
    },
    {
     "name": "stdout",
     "output_type": "stream",
     "text": [
      "Processing data for material : WATER\n",
      "image_data shape is :  (2048, 2448)\n",
      "im90 shape is :  (1024, 1224)\n",
      "Stokes time:  0.025985240936279297 s\n",
      "im_stokes0 shape is :  (1024, 1224)\n",
      "DoLP time:  0.03298139572143555 s\n",
      "im_DOLP shape is :  (1024, 1224)\n",
      "Time for DOLP2Theta conversion is :  23.089792728424072 seconds\n",
      "False\n",
      "AoLP time:  0.04097604751586914 s\n"
     ]
    },
    {
     "name": "stderr",
     "output_type": "stream",
     "text": [
      "\n",
      " 32%|█████████████████████████▎                                                     | 72/225 [28:57<1:01:49, 24.24s/it]"
     ]
    },
    {
     "name": "stdout",
     "output_type": "stream",
     "text": [
      "Processing data for material : WATER\n",
      "image_data shape is :  (2048, 2448)\n",
      "im90 shape is :  (1024, 1224)\n",
      "Stokes time:  0.025986433029174805 s\n",
      "im_stokes0 shape is :  (1024, 1224)\n",
      "DoLP time:  0.03297996520996094 s\n",
      "im_DOLP shape is :  (1024, 1224)\n",
      "Time for DOLP2Theta conversion is :  23.050815105438232 seconds\n",
      "False\n",
      "AoLP time:  0.04197573661804199 s\n"
     ]
    },
    {
     "name": "stderr",
     "output_type": "stream",
     "text": [
      "\n",
      " 32%|█████████████████████████▋                                                     | 73/225 [29:21<1:01:01, 24.09s/it]"
     ]
    },
    {
     "name": "stdout",
     "output_type": "stream",
     "text": [
      "Processing data for material : WATER\n",
      "image_data shape is :  (2048, 2448)\n",
      "im90 shape is :  (1024, 1224)\n",
      "Stokes time:  0.026984691619873047 s\n",
      "im_stokes0 shape is :  (1024, 1224)\n",
      "DoLP time:  0.030980587005615234 s\n",
      "im_DOLP shape is :  (1024, 1224)\n",
      "Time for DOLP2Theta conversion is :  22.615065813064575 seconds\n",
      "False\n",
      "AoLP time:  0.03997468948364258 s\n"
     ]
    },
    {
     "name": "stderr",
     "output_type": "stream",
     "text": [
      "\n",
      " 33%|██████████████████████████▋                                                      | 74/225 [29:44<59:59, 23.84s/it]"
     ]
    },
    {
     "name": "stdout",
     "output_type": "stream",
     "text": [
      "Processing data for material : WATER\n",
      "image_data shape is :  (2048, 2448)\n",
      "im90 shape is :  (1024, 1224)\n",
      "Stokes time:  0.025984525680541992 s\n",
      "im_stokes0 shape is :  (1024, 1224)\n",
      "DoLP time:  0.03498101234436035 s\n",
      "im_DOLP shape is :  (1024, 1224)\n",
      "Time for DOLP2Theta conversion is :  23.294677257537842 seconds\n",
      "False\n",
      "AoLP time:  0.04597163200378418 s\n"
     ]
    },
    {
     "name": "stderr",
     "output_type": "stream",
     "text": [
      "\n",
      " 33%|███████████████████████████                                                      | 75/225 [30:08<59:40, 23.87s/it]"
     ]
    },
    {
     "name": "stdout",
     "output_type": "stream",
     "text": [
      "Processing data for material : WATER\n",
      "image_data shape is :  (2048, 2448)\n",
      "im90 shape is :  (1024, 1224)\n",
      "Stokes time:  0.02298712730407715 s\n",
      "im_stokes0 shape is :  (1024, 1224)\n",
      "DoLP time:  0.034978628158569336 s\n",
      "im_DOLP shape is :  (1024, 1224)\n",
      "Time for DOLP2Theta conversion is :  23.33665108680725 seconds\n",
      "False\n",
      "AoLP time:  0.04397392272949219 s\n"
     ]
    },
    {
     "name": "stderr",
     "output_type": "stream",
     "text": [
      "\n",
      " 34%|███████████████████████████▎                                                     | 76/225 [30:32<59:24, 23.92s/it]"
     ]
    },
    {
     "name": "stdout",
     "output_type": "stream",
     "text": [
      "Processing data for material : WATER\n",
      "image_data shape is :  (2048, 2448)\n",
      "im90 shape is :  (1024, 1224)\n",
      "Stokes time:  0.026984691619873047 s\n",
      "im_stokes0 shape is :  (1024, 1224)\n",
      "DoLP time:  0.03497910499572754 s\n",
      "im_DOLP shape is :  (1024, 1224)\n",
      "Time for DOLP2Theta conversion is :  24.027257919311523 seconds\n",
      "False\n",
      "AoLP time:  0.041975975036621094 s\n"
     ]
    },
    {
     "name": "stderr",
     "output_type": "stream",
     "text": [
      "\n",
      " 34%|███████████████████████████▋                                                     | 77/225 [30:57<59:35, 24.16s/it]"
     ]
    },
    {
     "name": "stdout",
     "output_type": "stream",
     "text": [
      "Processing data for material : WATER\n",
      "image_data shape is :  (2048, 2448)\n",
      "im90 shape is :  (1024, 1224)\n",
      "Stokes time:  0.026984214782714844 s\n",
      "im_stokes0 shape is :  (1024, 1224)\n",
      "DoLP time:  0.030982255935668945 s\n",
      "im_DOLP shape is :  (1024, 1224)\n",
      "Time for DOLP2Theta conversion is :  23.489563941955566 seconds\n",
      "False\n",
      "AoLP time:  0.03897714614868164 s\n"
     ]
    },
    {
     "name": "stderr",
     "output_type": "stream",
     "text": [
      "\n",
      " 35%|████████████████████████████                                                     | 78/225 [31:21<59:09, 24.15s/it]"
     ]
    },
    {
     "name": "stdout",
     "output_type": "stream",
     "text": [
      "Processing data for material : WATER\n",
      "image_data shape is :  (2048, 2448)\n",
      "im90 shape is :  (1024, 1224)\n",
      "Stokes time:  0.026984691619873047 s\n",
      "im_stokes0 shape is :  (1024, 1224)\n",
      "DoLP time:  0.033980369567871094 s\n",
      "im_DOLP shape is :  (1024, 1224)\n",
      "Time for DOLP2Theta conversion is :  24.011265754699707 seconds\n",
      "False\n",
      "AoLP time:  0.03997611999511719 s\n"
     ]
    },
    {
     "name": "stderr",
     "output_type": "stream",
     "text": [
      "\n",
      " 35%|████████████████████████████▍                                                    | 79/225 [31:46<59:07, 24.30s/it]"
     ]
    },
    {
     "name": "stdout",
     "output_type": "stream",
     "text": [
      "Processing data for material : WATER\n",
      "image_data shape is :  (2048, 2448)\n",
      "im90 shape is :  (1024, 1224)\n",
      "Stokes time:  0.027983427047729492 s\n",
      "im_stokes0 shape is :  (1024, 1224)\n",
      "DoLP time:  0.030982255935668945 s\n",
      "im_DOLP shape is :  (1024, 1224)\n",
      "Time for DOLP2Theta conversion is :  24.220165014266968 seconds\n",
      "False\n",
      "AoLP time:  0.0409698486328125 s\n"
     ]
    },
    {
     "name": "stderr",
     "output_type": "stream",
     "text": [
      "\n",
      " 36%|████████████████████████████▊                                                    | 80/225 [32:11<59:06, 24.46s/it]"
     ]
    },
    {
     "name": "stdout",
     "output_type": "stream",
     "text": [
      "Processing data for material : WATER\n",
      "image_data shape is :  (2048, 2448)\n",
      "im90 shape is :  (1024, 1224)\n",
      "Stokes time:  0.026984214782714844 s\n",
      "im_stokes0 shape is :  (1024, 1224)\n",
      "DoLP time:  0.03597903251647949 s\n",
      "im_DOLP shape is :  (1024, 1224)\n",
      "Time for DOLP2Theta conversion is :  23.467578887939453 seconds\n",
      "False\n",
      "AoLP time:  0.04197549819946289 s\n"
     ]
    },
    {
     "name": "stderr",
     "output_type": "stream",
     "text": [
      "\n",
      " 36%|█████████████████████████████▏                                                   | 81/225 [32:35<58:26, 24.35s/it]"
     ]
    },
    {
     "name": "stdout",
     "output_type": "stream",
     "text": [
      "Processing data for material : WATER\n",
      "image_data shape is :  (2048, 2448)\n",
      "im90 shape is :  (1024, 1224)\n",
      "Stokes time:  0.02698373794555664 s\n",
      "im_stokes0 shape is :  (1024, 1224)\n",
      "DoLP time:  0.03397941589355469 s\n",
      "im_DOLP shape is :  (1024, 1224)\n",
      "Time for DOLP2Theta conversion is :  23.492562532424927 seconds\n",
      "False\n",
      "AoLP time:  0.03897738456726074 s\n"
     ]
    },
    {
     "name": "stderr",
     "output_type": "stream",
     "text": [
      "\n",
      " 36%|█████████████████████████████▌                                                   | 82/225 [32:59<57:52, 24.28s/it]"
     ]
    },
    {
     "name": "stdout",
     "output_type": "stream",
     "text": [
      "Processing data for material : WATER\n",
      "image_data shape is :  (2048, 2448)\n",
      "im90 shape is :  (1024, 1224)\n",
      "Stokes time:  0.022987842559814453 s\n",
      "im_stokes0 shape is :  (1024, 1224)\n",
      "DoLP time:  0.032980918884277344 s\n",
      "im_DOLP shape is :  (1024, 1224)\n",
      "Time for DOLP2Theta conversion is :  23.959314823150635 seconds\n",
      "False\n",
      "AoLP time:  0.039977312088012695 s\n"
     ]
    },
    {
     "name": "stderr",
     "output_type": "stream",
     "text": [
      "\n",
      " 37%|█████████████████████████████▉                                                   | 83/225 [33:24<57:41, 24.38s/it]"
     ]
    },
    {
     "name": "stdout",
     "output_type": "stream",
     "text": [
      "Processing data for material : WATER\n",
      "image_data shape is :  (2048, 2448)\n",
      "im90 shape is :  (1024, 1224)\n",
      "Stokes time:  0.024985790252685547 s\n",
      "im_stokes0 shape is :  (1024, 1224)\n",
      "DoLP time:  0.031981706619262695 s\n",
      "im_DOLP shape is :  (1024, 1224)\n",
      "Time for DOLP2Theta conversion is :  23.40762996673584 seconds\n",
      "False\n",
      "AoLP time:  0.038977861404418945 s\n"
     ]
    },
    {
     "name": "stderr",
     "output_type": "stream",
     "text": [
      "\n",
      " 37%|██████████████████████████████▏                                                  | 84/225 [33:48<57:04, 24.28s/it]"
     ]
    },
    {
     "name": "stdout",
     "output_type": "stream",
     "text": [
      "Processing data for material : WATER\n",
      "image_data shape is :  (2048, 2448)\n",
      "im90 shape is :  (1024, 1224)\n",
      "Stokes time:  0.02698373794555664 s\n",
      "im_stokes0 shape is :  (1024, 1224)\n",
      "DoLP time:  0.031981706619262695 s\n",
      "im_DOLP shape is :  (1024, 1224)\n",
      "Time for DOLP2Theta conversion is :  23.408612489700317 seconds\n",
      "False\n",
      "AoLP time:  0.045972347259521484 s\n"
     ]
    },
    {
     "name": "stderr",
     "output_type": "stream",
     "text": [
      "\n",
      " 38%|██████████████████████████████▌                                                  | 85/225 [34:12<56:32, 24.23s/it]"
     ]
    },
    {
     "name": "stdout",
     "output_type": "stream",
     "text": [
      "Processing data for material : WATER\n",
      "image_data shape is :  (2048, 2448)\n",
      "im90 shape is :  (1024, 1224)\n",
      "Stokes time:  0.024985313415527344 s\n",
      "im_stokes0 shape is :  (1024, 1224)\n",
      "DoLP time:  0.03098273277282715 s\n",
      "im_DOLP shape is :  (1024, 1224)\n",
      "Time for DOLP2Theta conversion is :  23.395617723464966 seconds\n",
      "False\n",
      "AoLP time:  0.039977073669433594 s\n"
     ]
    },
    {
     "name": "stderr",
     "output_type": "stream",
     "text": [
      "\n",
      " 38%|██████████████████████████████▉                                                  | 86/225 [34:36<56:00, 24.17s/it]"
     ]
    },
    {
     "name": "stdout",
     "output_type": "stream",
     "text": [
      "Processing data for material : WATER\n",
      "image_data shape is :  (2048, 2448)\n",
      "im90 shape is :  (1024, 1224)\n",
      "Stokes time:  0.025983572006225586 s\n",
      "im_stokes0 shape is :  (1024, 1224)\n",
      "DoLP time:  0.0319819450378418 s\n",
      "im_DOLP shape is :  (1024, 1224)\n",
      "Time for DOLP2Theta conversion is :  23.553526878356934 seconds\n",
      "False\n",
      "AoLP time:  0.0439755916595459 s\n"
     ]
    },
    {
     "name": "stderr",
     "output_type": "stream",
     "text": [
      "\n",
      " 39%|███████████████████████████████▎                                                 | 87/225 [35:00<55:38, 24.19s/it]"
     ]
    },
    {
     "name": "stdout",
     "output_type": "stream",
     "text": [
      "Processing data for material : WATER\n",
      "image_data shape is :  (2048, 2448)\n",
      "im90 shape is :  (1024, 1224)\n",
      "Stokes time:  0.024985313415527344 s\n",
      "im_stokes0 shape is :  (1024, 1224)\n",
      "DoLP time:  0.03597879409790039 s\n",
      "im_DOLP shape is :  (1024, 1224)\n",
      "Time for DOLP2Theta conversion is :  24.035252571105957 seconds\n",
      "False\n",
      "AoLP time:  0.03897666931152344 s\n"
     ]
    },
    {
     "name": "stderr",
     "output_type": "stream",
     "text": [
      "\n",
      " 39%|███████████████████████████████▋                                                 | 88/225 [35:25<55:33, 24.33s/it]"
     ]
    },
    {
     "name": "stdout",
     "output_type": "stream",
     "text": [
      "Processing data for material : WATER\n",
      "image_data shape is :  (2048, 2448)\n",
      "im90 shape is :  (1024, 1224)\n",
      "Stokes time:  0.024985551834106445 s\n",
      "im_stokes0 shape is :  (1024, 1224)\n",
      "DoLP time:  0.0319821834564209 s\n",
      "im_DOLP shape is :  (1024, 1224)\n",
      "Time for DOLP2Theta conversion is :  23.820375204086304 seconds\n",
      "False\n",
      "AoLP time:  0.04197502136230469 s\n"
     ]
    },
    {
     "name": "stderr",
     "output_type": "stream",
     "text": [
      "\n",
      " 40%|████████████████████████████████                                                 | 89/225 [35:49<55:14, 24.37s/it]"
     ]
    },
    {
     "name": "stdout",
     "output_type": "stream",
     "text": [
      "Processing data for material : WATER\n",
      "image_data shape is :  (2048, 2448)\n",
      "im90 shape is :  (1024, 1224)\n",
      "Stokes time:  0.024985551834106445 s\n",
      "im_stokes0 shape is :  (1024, 1224)\n",
      "DoLP time:  0.034980058670043945 s\n",
      "im_DOLP shape is :  (1024, 1224)\n",
      "Time for DOLP2Theta conversion is :  24.510980367660522 seconds\n",
      "False\n",
      "AoLP time:  0.042975425720214844 s\n"
     ]
    },
    {
     "name": "stderr",
     "output_type": "stream",
     "text": [
      "\n",
      " 40%|████████████████████████████████▍                                                | 90/225 [36:14<55:22, 24.61s/it]"
     ]
    },
    {
     "name": "stdout",
     "output_type": "stream",
     "text": [
      "Processing data for material : WATER\n",
      "image_data shape is :  (2048, 2448)\n",
      "im90 shape is :  (1024, 1224)\n",
      "Stokes time:  0.023985624313354492 s\n",
      "im_stokes0 shape is :  (1024, 1224)\n",
      "DoLP time:  0.031981468200683594 s\n",
      "im_DOLP shape is :  (1024, 1224)\n",
      "Time for DOLP2Theta conversion is :  23.371633052825928 seconds\n",
      "False\n",
      "AoLP time:  0.03997540473937988 s\n"
     ]
    },
    {
     "name": "stderr",
     "output_type": "stream",
     "text": [
      "\n",
      " 40%|████████████████████████████████▊                                                | 91/225 [36:38<54:36, 24.45s/it]"
     ]
    },
    {
     "name": "stdout",
     "output_type": "stream",
     "text": [
      "Processing data for material : WATER\n",
      "image_data shape is :  (2048, 2448)\n",
      "im90 shape is :  (1024, 1224)\n",
      "Stokes time:  0.025985240936279297 s\n",
      "im_stokes0 shape is :  (1024, 1224)\n",
      "DoLP time:  0.03498053550720215 s\n",
      "im_DOLP shape is :  (1024, 1224)\n",
      "Time for DOLP2Theta conversion is :  23.329656839370728 seconds\n",
      "False\n",
      "AoLP time:  0.03997683525085449 s\n"
     ]
    },
    {
     "name": "stderr",
     "output_type": "stream",
     "text": [
      "\n",
      " 41%|█████████████████████████████████                                                | 92/225 [37:02<53:54, 24.32s/it]"
     ]
    },
    {
     "name": "stdout",
     "output_type": "stream",
     "text": [
      "Processing data for material : WATER\n",
      "image_data shape is :  (2048, 2448)\n",
      "im90 shape is :  (1024, 1224)\n",
      "Stokes time:  0.024985551834106445 s\n",
      "im_stokes0 shape is :  (1024, 1224)\n",
      "DoLP time:  0.03298068046569824 s\n",
      "im_DOLP shape is :  (1024, 1224)\n",
      "Time for DOLP2Theta conversion is :  23.42959761619568 seconds\n",
      "False\n",
      "AoLP time:  0.03896737098693848 s\n"
     ]
    },
    {
     "name": "stderr",
     "output_type": "stream",
     "text": [
      "\n",
      " 41%|█████████████████████████████████▍                                               | 93/225 [37:26<53:21, 24.25s/it]"
     ]
    },
    {
     "name": "stdout",
     "output_type": "stream",
     "text": [
      "Processing data for material : WATER\n",
      "image_data shape is :  (2048, 2448)\n",
      "im90 shape is :  (1024, 1224)\n",
      "Stokes time:  0.024985551834106445 s\n",
      "im_stokes0 shape is :  (1024, 1224)\n",
      "DoLP time:  0.03597879409790039 s\n",
      "im_DOLP shape is :  (1024, 1224)\n",
      "Time for DOLP2Theta conversion is :  22.680028438568115 seconds\n",
      "False\n",
      "AoLP time:  0.03997516632080078 s\n"
     ]
    },
    {
     "name": "stderr",
     "output_type": "stream",
     "text": [
      "\n",
      " 42%|█████████████████████████████████▊                                               | 94/225 [37:50<52:20, 23.97s/it]"
     ]
    },
    {
     "name": "stdout",
     "output_type": "stream",
     "text": [
      "Processing data for material : WATER\n",
      "image_data shape is :  (2048, 2448)\n",
      "im90 shape is :  (1024, 1224)\n",
      "Stokes time:  0.024985313415527344 s\n",
      "im_stokes0 shape is :  (1024, 1224)\n",
      "DoLP time:  0.03298044204711914 s\n",
      "im_DOLP shape is :  (1024, 1224)\n",
      "Time for DOLP2Theta conversion is :  23.624488353729248 seconds\n",
      "False\n",
      "AoLP time:  0.03997659683227539 s\n"
     ]
    },
    {
     "name": "stderr",
     "output_type": "stream",
     "text": [
      "\n",
      " 42%|██████████████████████████████████▏                                              | 95/225 [38:14<52:09, 24.07s/it]"
     ]
    },
    {
     "name": "stdout",
     "output_type": "stream",
     "text": [
      "Processing data for material : WATER\n",
      "image_data shape is :  (2048, 2448)\n",
      "im90 shape is :  (1024, 1224)\n",
      "Stokes time:  0.02698373794555664 s\n",
      "im_stokes0 shape is :  (1024, 1224)\n",
      "DoLP time:  0.031981468200683594 s\n",
      "im_DOLP shape is :  (1024, 1224)\n",
      "Time for DOLP2Theta conversion is :  22.847933292388916 seconds\n",
      "False\n",
      "AoLP time:  0.038977861404418945 s\n"
     ]
    },
    {
     "name": "stderr",
     "output_type": "stream",
     "text": [
      "\n",
      " 43%|██████████████████████████████████▌                                              | 96/225 [38:38<51:23, 23.90s/it]"
     ]
    },
    {
     "name": "stdout",
     "output_type": "stream",
     "text": [
      "Processing data for material : WATER\n",
      "image_data shape is :  (2048, 2448)\n",
      "im90 shape is :  (1024, 1224)\n",
      "Stokes time:  0.02698349952697754 s\n",
      "im_stokes0 shape is :  (1024, 1224)\n",
      "DoLP time:  0.0319826602935791 s\n",
      "im_DOLP shape is :  (1024, 1224)\n",
      "Time for DOLP2Theta conversion is :  23.101786613464355 seconds\n",
      "False\n",
      "AoLP time:  0.03997611999511719 s\n"
     ]
    },
    {
     "name": "stderr",
     "output_type": "stream",
     "text": [
      "\n",
      " 43%|██████████████████████████████████▉                                              | 97/225 [39:01<50:55, 23.87s/it]"
     ]
    },
    {
     "name": "stdout",
     "output_type": "stream",
     "text": [
      "Processing data for material : WATER\n",
      "image_data shape is :  (2048, 2448)\n",
      "im90 shape is :  (1024, 1224)\n",
      "Stokes time:  0.024985313415527344 s\n",
      "im_stokes0 shape is :  (1024, 1224)\n",
      "DoLP time:  0.03298139572143555 s\n",
      "im_DOLP shape is :  (1024, 1224)\n",
      "Time for DOLP2Theta conversion is :  23.861352920532227 seconds\n",
      "False\n",
      "AoLP time:  0.04097700119018555 s\n"
     ]
    },
    {
     "name": "stderr",
     "output_type": "stream",
     "text": [
      "\n",
      " 44%|███████████████████████████████████▎                                             | 98/225 [39:26<50:55, 24.06s/it]"
     ]
    },
    {
     "name": "stdout",
     "output_type": "stream",
     "text": [
      "Processing data for material : WATER\n",
      "image_data shape is :  (2048, 2448)\n",
      "im90 shape is :  (1024, 1224)\n",
      "Stokes time:  0.026984691619873047 s\n",
      "im_stokes0 shape is :  (1024, 1224)\n",
      "DoLP time:  0.03098130226135254 s\n",
      "im_DOLP shape is :  (1024, 1224)\n",
      "Time for DOLP2Theta conversion is :  23.469574451446533 seconds\n",
      "False\n",
      "AoLP time:  0.04997110366821289 s\n"
     ]
    },
    {
     "name": "stderr",
     "output_type": "stream",
     "text": [
      "\n",
      " 44%|███████████████████████████████████▋                                             | 99/225 [39:50<50:33, 24.08s/it]"
     ]
    },
    {
     "name": "stdout",
     "output_type": "stream",
     "text": [
      "Processing data for material : WATER\n",
      "image_data shape is :  (2048, 2448)\n",
      "im90 shape is :  (1024, 1224)\n",
      "Stokes time:  0.025983333587646484 s\n",
      "im_stokes0 shape is :  (1024, 1224)\n",
      "DoLP time:  0.03597879409790039 s\n",
      "im_DOLP shape is :  (1024, 1224)\n",
      "Time for DOLP2Theta conversion is :  23.472575664520264 seconds\n",
      "False\n",
      "AoLP time:  0.05296826362609863 s\n"
     ]
    },
    {
     "name": "stderr",
     "output_type": "stream",
     "text": [
      "\n",
      " 44%|███████████████████████████████████▌                                            | 100/225 [40:14<50:11, 24.09s/it]"
     ]
    },
    {
     "name": "stdout",
     "output_type": "stream",
     "text": [
      "Processing data for material : WATER\n",
      "image_data shape is :  (2048, 2448)\n",
      "im90 shape is :  (1024, 1224)\n",
      "Stokes time:  0.0239865779876709 s\n",
      "im_stokes0 shape is :  (1024, 1224)\n",
      "DoLP time:  0.03297996520996094 s\n",
      "im_DOLP shape is :  (1024, 1224)\n",
      "Time for DOLP2Theta conversion is :  23.503575325012207 seconds\n",
      "False\n",
      "AoLP time:  0.03997516632080078 s\n"
     ]
    },
    {
     "name": "stderr",
     "output_type": "stream",
     "text": [
      "\n",
      " 45%|███████████████████████████████████▉                                            | 101/225 [40:38<49:48, 24.10s/it]"
     ]
    },
    {
     "name": "stdout",
     "output_type": "stream",
     "text": [
      "Processing data for material : WATER\n",
      "image_data shape is :  (2048, 2448)\n",
      "im90 shape is :  (1024, 1224)\n",
      "Stokes time:  0.026984214782714844 s\n",
      "im_stokes0 shape is :  (1024, 1224)\n",
      "DoLP time:  0.032980918884277344 s\n",
      "im_DOLP shape is :  (1024, 1224)\n",
      "Time for DOLP2Theta conversion is :  22.613067388534546 seconds\n",
      "False\n",
      "AoLP time:  0.04297304153442383 s\n"
     ]
    },
    {
     "name": "stderr",
     "output_type": "stream",
     "text": [
      "\n",
      " 45%|████████████████████████████████████▎                                           | 102/225 [41:02<48:54, 23.86s/it]"
     ]
    },
    {
     "name": "stdout",
     "output_type": "stream",
     "text": [
      "Processing data for material : WATER\n",
      "image_data shape is :  (2048, 2448)\n",
      "im90 shape is :  (1024, 1224)\n",
      "Stokes time:  0.025986194610595703 s\n",
      "im_stokes0 shape is :  (1024, 1224)\n",
      "DoLP time:  0.03098154067993164 s\n",
      "im_DOLP shape is :  (1024, 1224)\n",
      "Time for DOLP2Theta conversion is :  23.154757261276245 seconds\n",
      "False\n",
      "AoLP time:  0.04497265815734863 s\n"
     ]
    },
    {
     "name": "stderr",
     "output_type": "stream",
     "text": [
      "\n",
      " 46%|████████████████████████████████████▌                                           | 103/225 [41:25<48:28, 23.84s/it]"
     ]
    },
    {
     "name": "stdout",
     "output_type": "stream",
     "text": [
      "Processing data for material : WATER\n",
      "image_data shape is :  (2048, 2448)\n",
      "im90 shape is :  (1024, 1224)\n",
      "Stokes time:  0.025985240936279297 s\n",
      "im_stokes0 shape is :  (1024, 1224)\n",
      "DoLP time:  0.03597879409790039 s\n",
      "im_DOLP shape is :  (1024, 1224)\n",
      "Time for DOLP2Theta conversion is :  23.96929121017456 seconds\n",
      "False\n",
      "AoLP time:  0.04197573661804199 s\n"
     ]
    },
    {
     "name": "stderr",
     "output_type": "stream",
     "text": [
      "\n",
      " 46%|████████████████████████████████████▉                                           | 104/225 [41:50<48:34, 24.09s/it]"
     ]
    },
    {
     "name": "stdout",
     "output_type": "stream",
     "text": [
      "Processing data for material : WATER\n",
      "image_data shape is :  (2048, 2448)\n",
      "im90 shape is :  (1024, 1224)\n",
      "Stokes time:  0.02598404884338379 s\n",
      "im_stokes0 shape is :  (1024, 1224)\n",
      "DoLP time:  0.037978410720825195 s\n",
      "im_DOLP shape is :  (1024, 1224)\n",
      "Time for DOLP2Theta conversion is :  23.7554132938385 seconds\n",
      "False\n",
      "AoLP time:  0.038977861404418945 s\n"
     ]
    },
    {
     "name": "stderr",
     "output_type": "stream",
     "text": [
      "\n",
      " 47%|█████████████████████████████████████▎                                          | 105/225 [42:14<48:21, 24.18s/it]"
     ]
    },
    {
     "name": "stdout",
     "output_type": "stream",
     "text": [
      "Processing data for material : WATER\n",
      "image_data shape is :  (2048, 2448)\n",
      "im90 shape is :  (1024, 1224)\n",
      "Stokes time:  0.022986650466918945 s\n",
      "im_stokes0 shape is :  (1024, 1224)\n",
      "DoLP time:  0.03697967529296875 s\n",
      "im_DOLP shape is :  (1024, 1224)\n",
      "Time for DOLP2Theta conversion is :  24.14718985557556 seconds\n",
      "False\n",
      "AoLP time:  0.04896974563598633 s\n"
     ]
    },
    {
     "name": "stderr",
     "output_type": "stream",
     "text": [
      "\n",
      " 47%|█████████████████████████████████████▋                                          | 106/225 [42:40<48:30, 24.46s/it]"
     ]
    },
    {
     "name": "stdout",
     "output_type": "stream",
     "text": [
      "Processing data for material : WATER\n",
      "image_data shape is :  (2048, 2448)\n",
      "im90 shape is :  (1024, 1224)\n",
      "Stokes time:  0.0259857177734375 s\n",
      "im_stokes0 shape is :  (1024, 1224)\n",
      "DoLP time:  0.033980369567871094 s\n",
      "im_DOLP shape is :  (1024, 1224)\n",
      "Time for DOLP2Theta conversion is :  23.69045066833496 seconds\n",
      "False\n",
      "AoLP time:  0.03997516632080078 s\n"
     ]
    },
    {
     "name": "stderr",
     "output_type": "stream",
     "text": [
      "\n",
      " 48%|██████████████████████████████████████                                          | 107/225 [43:04<48:02, 24.43s/it]"
     ]
    },
    {
     "name": "stdout",
     "output_type": "stream",
     "text": [
      "Processing data for material : WATER\n",
      "image_data shape is :  (2048, 2448)\n",
      "im90 shape is :  (1024, 1224)\n",
      "Stokes time:  0.02498483657836914 s\n",
      "im_stokes0 shape is :  (1024, 1224)\n",
      "DoLP time:  0.0339815616607666 s\n",
      "im_DOLP shape is :  (1024, 1224)\n",
      "Time for DOLP2Theta conversion is :  22.884929180145264 seconds\n",
      "False\n",
      "AoLP time:  0.03997659683227539 s\n"
     ]
    },
    {
     "name": "stderr",
     "output_type": "stream",
     "text": [
      "\n",
      " 48%|██████████████████████████████████████▍                                         | 108/225 [43:27<47:06, 24.16s/it]"
     ]
    },
    {
     "name": "stdout",
     "output_type": "stream",
     "text": [
      "Processing data for material : WATER\n",
      "image_data shape is :  (2048, 2448)\n",
      "im90 shape is :  (1024, 1224)\n",
      "Stokes time:  0.024986982345581055 s\n",
      "im_stokes0 shape is :  (1024, 1224)\n",
      "DoLP time:  0.033980369567871094 s\n",
      "im_DOLP shape is :  (1024, 1224)\n",
      "Time for DOLP2Theta conversion is :  22.89790415763855 seconds\n",
      "False\n",
      "AoLP time:  0.03897571563720703 s\n"
     ]
    },
    {
     "name": "stderr",
     "output_type": "stream",
     "text": [
      "\n",
      " 48%|██████████████████████████████████████▊                                         | 109/225 [43:51<46:21, 23.97s/it]"
     ]
    },
    {
     "name": "stdout",
     "output_type": "stream",
     "text": [
      "Processing data for material : WATER\n",
      "image_data shape is :  (2048, 2448)\n",
      "im90 shape is :  (1024, 1224)\n",
      "Stokes time:  0.025985240936279297 s\n",
      "im_stokes0 shape is :  (1024, 1224)\n",
      "DoLP time:  0.03298044204711914 s\n",
      "im_DOLP shape is :  (1024, 1224)\n",
      "Time for DOLP2Theta conversion is :  22.921889066696167 seconds\n",
      "False\n",
      "AoLP time:  0.044974327087402344 s\n"
     ]
    },
    {
     "name": "stderr",
     "output_type": "stream",
     "text": [
      "\n",
      " 49%|███████████████████████████████████████                                         | 110/225 [44:15<45:43, 23.86s/it]"
     ]
    },
    {
     "name": "stdout",
     "output_type": "stream",
     "text": [
      "Processing data for material : WATER\n",
      "image_data shape is :  (2048, 2448)\n",
      "im90 shape is :  (1024, 1224)\n",
      "Stokes time:  0.024983644485473633 s\n",
      "im_stokes0 shape is :  (1024, 1224)\n",
      "DoLP time:  0.03198099136352539 s\n",
      "im_DOLP shape is :  (1024, 1224)\n",
      "Time for DOLP2Theta conversion is :  22.15332865715027 seconds\n",
      "False\n",
      "AoLP time:  0.04097580909729004 s\n"
     ]
    },
    {
     "name": "stderr",
     "output_type": "stream",
     "text": [
      "\n",
      " 49%|███████████████████████████████████████▍                                        | 111/225 [44:37<44:43, 23.54s/it]"
     ]
    },
    {
     "name": "stdout",
     "output_type": "stream",
     "text": [
      "Processing data for material : WATER\n",
      "image_data shape is :  (2048, 2448)\n",
      "im90 shape is :  (1024, 1224)\n",
      "Stokes time:  0.023986101150512695 s\n",
      "im_stokes0 shape is :  (1024, 1224)\n",
      "DoLP time:  0.031981706619262695 s\n",
      "im_DOLP shape is :  (1024, 1224)\n",
      "Time for DOLP2Theta conversion is :  22.68302583694458 seconds\n",
      "False\n",
      "AoLP time:  0.04397463798522949 s\n"
     ]
    },
    {
     "name": "stderr",
     "output_type": "stream",
     "text": [
      "\n",
      " 50%|███████████████████████████████████████▊                                        | 112/225 [45:01<44:13, 23.48s/it]"
     ]
    },
    {
     "name": "stdout",
     "output_type": "stream",
     "text": [
      "Processing data for material : WATER\n",
      "image_data shape is :  (2048, 2448)\n",
      "im90 shape is :  (1024, 1224)\n",
      "Stokes time:  0.024985790252685547 s\n",
      "im_stokes0 shape is :  (1024, 1224)\n",
      "DoLP time:  0.03697848320007324 s\n",
      "im_DOLP shape is :  (1024, 1224)\n",
      "Time for DOLP2Theta conversion is :  23.026829481124878 seconds\n",
      "False\n",
      "AoLP time:  0.03897881507873535 s\n"
     ]
    },
    {
     "name": "stderr",
     "output_type": "stream",
     "text": [
      "\n",
      " 50%|████████████████████████████████████████▏                                       | 113/225 [45:24<43:56, 23.54s/it]"
     ]
    },
    {
     "name": "stdout",
     "output_type": "stream",
     "text": [
      "Processing data for material : WATER\n",
      "image_data shape is :  (2048, 2448)\n",
      "im90 shape is :  (1024, 1224)\n",
      "Stokes time:  0.02298712730407715 s\n",
      "im_stokes0 shape is :  (1024, 1224)\n",
      "DoLP time:  0.030982494354248047 s\n",
      "im_DOLP shape is :  (1024, 1224)\n",
      "Time for DOLP2Theta conversion is :  23.03382635116577 seconds\n",
      "False\n",
      "AoLP time:  0.03897595405578613 s\n"
     ]
    },
    {
     "name": "stderr",
     "output_type": "stream",
     "text": [
      "\n",
      " 51%|████████████████████████████████████████▌                                       | 114/225 [45:48<43:38, 23.59s/it]"
     ]
    },
    {
     "name": "stdout",
     "output_type": "stream",
     "text": [
      "Processing data for material : WATER\n",
      "image_data shape is :  (2048, 2448)\n",
      "im90 shape is :  (1024, 1224)\n",
      "Stokes time:  0.025984525680541992 s\n",
      "im_stokes0 shape is :  (1024, 1224)\n",
      "DoLP time:  0.0319819450378418 s\n",
      "im_DOLP shape is :  (1024, 1224)\n",
      "Time for DOLP2Theta conversion is :  24.20015859603882 seconds\n",
      "False\n",
      "AoLP time:  0.04197382926940918 s\n"
     ]
    },
    {
     "name": "stderr",
     "output_type": "stream",
     "text": [
      "\n",
      " 51%|████████████████████████████████████████▉                                       | 115/225 [46:13<43:55, 23.96s/it]"
     ]
    },
    {
     "name": "stdout",
     "output_type": "stream",
     "text": [
      "Processing data for material : WATER\n",
      "image_data shape is :  (2048, 2448)\n",
      "im90 shape is :  (1024, 1224)\n",
      "Stokes time:  0.02398538589477539 s\n",
      "im_stokes0 shape is :  (1024, 1224)\n",
      "DoLP time:  0.033980607986450195 s\n",
      "im_DOLP shape is :  (1024, 1224)\n",
      "Time for DOLP2Theta conversion is :  22.883913040161133 seconds\n",
      "False\n",
      "AoLP time:  0.040978431701660156 s\n"
     ]
    },
    {
     "name": "stderr",
     "output_type": "stream",
     "text": [
      "\n",
      " 52%|█████████████████████████████████████████▏                                      | 116/225 [46:36<43:17, 23.83s/it]"
     ]
    },
    {
     "name": "stdout",
     "output_type": "stream",
     "text": [
      "Processing data for material : WATER\n",
      "image_data shape is :  (2048, 2448)\n",
      "im90 shape is :  (1024, 1224)\n",
      "Stokes time:  0.024985790252685547 s\n",
      "im_stokes0 shape is :  (1024, 1224)\n",
      "DoLP time:  0.0319819450378418 s\n",
      "im_DOLP shape is :  (1024, 1224)\n",
      "Time for DOLP2Theta conversion is :  22.522117376327515 seconds\n",
      "False\n",
      "AoLP time:  0.038977622985839844 s\n"
     ]
    },
    {
     "name": "stderr",
     "output_type": "stream",
     "text": [
      "\n",
      " 52%|█████████████████████████████████████████▌                                      | 117/225 [47:00<42:33, 23.64s/it]"
     ]
    },
    {
     "name": "stdout",
     "output_type": "stream",
     "text": [
      "Processing data for material : WATER\n",
      "image_data shape is :  (2048, 2448)\n",
      "im90 shape is :  (1024, 1224)\n",
      "Stokes time:  0.02998208999633789 s\n",
      "im_stokes0 shape is :  (1024, 1224)\n",
      "DoLP time:  0.0319821834564209 s\n",
      "im_DOLP shape is :  (1024, 1224)\n",
      "Time for DOLP2Theta conversion is :  24.32608723640442 seconds\n",
      "False\n",
      "AoLP time:  0.043974876403808594 s\n"
     ]
    },
    {
     "name": "stderr",
     "output_type": "stream",
     "text": [
      "\n",
      " 52%|█████████████████████████████████████████▉                                      | 118/225 [47:25<42:54, 24.06s/it]"
     ]
    },
    {
     "name": "stdout",
     "output_type": "stream",
     "text": [
      "Processing data for material : WATER\n",
      "image_data shape is :  (2048, 2448)\n",
      "im90 shape is :  (1024, 1224)\n",
      "Stokes time:  0.024985551834106445 s\n",
      "im_stokes0 shape is :  (1024, 1224)\n",
      "DoLP time:  0.030982017517089844 s\n",
      "im_DOLP shape is :  (1024, 1224)\n",
      "Time for DOLP2Theta conversion is :  23.65846872329712 seconds\n",
      "False\n",
      "AoLP time:  0.03997516632080078 s\n"
     ]
    },
    {
     "name": "stderr",
     "output_type": "stream",
     "text": [
      "\n",
      " 53%|██████████████████████████████████████████▎                                     | 119/225 [47:49<42:38, 24.14s/it]"
     ]
    },
    {
     "name": "stdout",
     "output_type": "stream",
     "text": [
      "Processing data for material : WATER\n",
      "image_data shape is :  (2048, 2448)\n",
      "im90 shape is :  (1024, 1224)\n",
      "Stokes time:  0.023986101150512695 s\n",
      "im_stokes0 shape is :  (1024, 1224)\n",
      "DoLP time:  0.03597879409790039 s\n",
      "im_DOLP shape is :  (1024, 1224)\n",
      "Time for DOLP2Theta conversion is :  23.447587966918945 seconds\n",
      "False\n",
      "AoLP time:  0.04197549819946289 s\n"
     ]
    },
    {
     "name": "stderr",
     "output_type": "stream",
     "text": [
      "\n",
      " 53%|██████████████████████████████████████████▋                                     | 120/225 [48:13<42:12, 24.12s/it]"
     ]
    },
    {
     "name": "stdout",
     "output_type": "stream",
     "text": [
      "Processing data for material : WATER\n",
      "image_data shape is :  (2048, 2448)\n",
      "im90 shape is :  (1024, 1224)\n",
      "Stokes time:  0.023986339569091797 s\n",
      "im_stokes0 shape is :  (1024, 1224)\n",
      "DoLP time:  0.033980607986450195 s\n",
      "im_DOLP shape is :  (1024, 1224)\n",
      "Time for DOLP2Theta conversion is :  23.263694763183594 seconds\n",
      "False\n",
      "AoLP time:  0.040976762771606445 s\n"
     ]
    },
    {
     "name": "stderr",
     "output_type": "stream",
     "text": [
      "\n",
      " 54%|███████████████████████████████████████████                                     | 121/225 [48:37<41:40, 24.05s/it]"
     ]
    },
    {
     "name": "stdout",
     "output_type": "stream",
     "text": [
      "Processing data for material : WATER\n",
      "image_data shape is :  (2048, 2448)\n",
      "im90 shape is :  (1024, 1224)\n",
      "Stokes time:  0.025985002517700195 s\n",
      "im_stokes0 shape is :  (1024, 1224)\n",
      "DoLP time:  0.034979820251464844 s\n",
      "im_DOLP shape is :  (1024, 1224)\n",
      "Time for DOLP2Theta conversion is :  23.083797931671143 seconds\n",
      "False\n",
      "AoLP time:  0.03997516632080078 s\n"
     ]
    },
    {
     "name": "stderr",
     "output_type": "stream",
     "text": [
      "\n",
      " 54%|███████████████████████████████████████████▍                                    | 122/225 [49:01<41:06, 23.95s/it]"
     ]
    },
    {
     "name": "stdout",
     "output_type": "stream",
     "text": [
      "Processing data for material : WATER\n",
      "image_data shape is :  (2048, 2448)\n",
      "im90 shape is :  (1024, 1224)\n",
      "Stokes time:  0.026984214782714844 s\n",
      "im_stokes0 shape is :  (1024, 1224)\n",
      "DoLP time:  0.03098154067993164 s\n",
      "im_DOLP shape is :  (1024, 1224)\n",
      "Time for DOLP2Theta conversion is :  23.95030188560486 seconds\n",
      "False\n",
      "AoLP time:  0.038976192474365234 s\n"
     ]
    },
    {
     "name": "stderr",
     "output_type": "stream",
     "text": [
      "\n",
      " 55%|███████████████████████████████████████████▋                                    | 123/225 [49:25<41:03, 24.15s/it]"
     ]
    },
    {
     "name": "stdout",
     "output_type": "stream",
     "text": [
      "Processing data for material : WATER\n",
      "image_data shape is :  (2048, 2448)\n",
      "im90 shape is :  (1024, 1224)\n",
      "Stokes time:  0.0239865779876709 s\n",
      "im_stokes0 shape is :  (1024, 1224)\n",
      "DoLP time:  0.035979509353637695 s\n",
      "im_DOLP shape is :  (1024, 1224)\n",
      "Time for DOLP2Theta conversion is :  22.49113416671753 seconds\n",
      "False\n",
      "AoLP time:  0.03897714614868164 s\n"
     ]
    },
    {
     "name": "stderr",
     "output_type": "stream",
     "text": [
      "\n",
      " 55%|████████████████████████████████████████████                                    | 124/225 [49:48<40:09, 23.86s/it]"
     ]
    },
    {
     "name": "stdout",
     "output_type": "stream",
     "text": [
      "Processing data for material : WATER\n",
      "image_data shape is :  (2048, 2448)\n",
      "im90 shape is :  (1024, 1224)\n",
      "Stokes time:  0.02598285675048828 s\n",
      "im_stokes0 shape is :  (1024, 1224)\n",
      "DoLP time:  0.031981468200683594 s\n",
      "im_DOLP shape is :  (1024, 1224)\n",
      "Time for DOLP2Theta conversion is :  23.912322759628296 seconds\n",
      "False\n",
      "AoLP time:  0.04097628593444824 s\n"
     ]
    },
    {
     "name": "stderr",
     "output_type": "stream",
     "text": [
      "\n",
      " 56%|████████████████████████████████████████████▍                                   | 125/225 [50:13<40:06, 24.07s/it]"
     ]
    },
    {
     "name": "stdout",
     "output_type": "stream",
     "text": [
      "Processing data for material : WATER\n",
      "image_data shape is :  (2048, 2448)\n",
      "im90 shape is :  (1024, 1224)\n",
      "Stokes time:  0.025986433029174805 s\n",
      "im_stokes0 shape is :  (1024, 1224)\n",
      "DoLP time:  0.03697848320007324 s\n",
      "im_DOLP shape is :  (1024, 1224)\n",
      "Time for DOLP2Theta conversion is :  23.955299139022827 seconds\n",
      "False\n",
      "AoLP time:  0.03897595405578613 s\n"
     ]
    },
    {
     "name": "stderr",
     "output_type": "stream",
     "text": [
      "\n",
      " 56%|████████████████████████████████████████████▊                                   | 126/225 [50:38<39:58, 24.22s/it]"
     ]
    },
    {
     "name": "stdout",
     "output_type": "stream",
     "text": [
      "Processing data for material : WATER\n",
      "image_data shape is :  (2048, 2448)\n",
      "im90 shape is :  (1024, 1224)\n",
      "Stokes time:  0.025985002517700195 s\n",
      "im_stokes0 shape is :  (1024, 1224)\n",
      "DoLP time:  0.03497934341430664 s\n",
      "im_DOLP shape is :  (1024, 1224)\n",
      "Time for DOLP2Theta conversion is :  23.08579683303833 seconds\n",
      "False\n",
      "AoLP time:  0.03997540473937988 s\n"
     ]
    },
    {
     "name": "stderr",
     "output_type": "stream",
     "text": [
      "\n",
      " 56%|█████████████████████████████████████████████▏                                  | 127/225 [51:01<39:20, 24.09s/it]"
     ]
    },
    {
     "name": "stdout",
     "output_type": "stream",
     "text": [
      "Processing data for material : WATER\n",
      "image_data shape is :  (2048, 2448)\n",
      "im90 shape is :  (1024, 1224)\n",
      "Stokes time:  0.025984764099121094 s\n",
      "im_stokes0 shape is :  (1024, 1224)\n",
      "DoLP time:  0.03597831726074219 s\n",
      "im_DOLP shape is :  (1024, 1224)\n",
      "Time for DOLP2Theta conversion is :  23.385623455047607 seconds\n",
      "False\n",
      "AoLP time:  0.048970937728881836 s\n"
     ]
    },
    {
     "name": "stderr",
     "output_type": "stream",
     "text": [
      "\n",
      " 57%|█████████████████████████████████████████████▌                                  | 128/225 [51:26<39:01, 24.14s/it]"
     ]
    },
    {
     "name": "stdout",
     "output_type": "stream",
     "text": [
      "Processing data for material : WATER\n",
      "image_data shape is :  (2048, 2448)\n",
      "im90 shape is :  (1024, 1224)\n",
      "Stokes time:  0.026981592178344727 s\n",
      "im_stokes0 shape is :  (1024, 1224)\n",
      "DoLP time:  0.036978721618652344 s\n",
      "im_DOLP shape is :  (1024, 1224)\n",
      "Time for DOLP2Theta conversion is :  24.193161964416504 seconds\n",
      "False\n",
      "AoLP time:  0.03997635841369629 s\n"
     ]
    },
    {
     "name": "stderr",
     "output_type": "stream",
     "text": [
      "\n",
      " 57%|█████████████████████████████████████████████▊                                  | 129/225 [51:50<38:57, 24.35s/it]"
     ]
    },
    {
     "name": "stdout",
     "output_type": "stream",
     "text": [
      "Processing data for material : WATER\n",
      "image_data shape is :  (2048, 2448)\n",
      "im90 shape is :  (1024, 1224)\n",
      "Stokes time:  0.024985790252685547 s\n",
      "im_stokes0 shape is :  (1024, 1224)\n",
      "DoLP time:  0.0339808464050293 s\n",
      "im_DOLP shape is :  (1024, 1224)\n",
      "Time for DOLP2Theta conversion is :  23.240708351135254 seconds\n",
      "False\n",
      "AoLP time:  0.04097485542297363 s\n"
     ]
    },
    {
     "name": "stderr",
     "output_type": "stream",
     "text": [
      "\n",
      " 58%|██████████████████████████████████████████████▏                                 | 130/225 [52:14<38:19, 24.21s/it]"
     ]
    },
    {
     "name": "stdout",
     "output_type": "stream",
     "text": [
      "Processing data for material : WATER\n",
      "image_data shape is :  (2048, 2448)\n",
      "im90 shape is :  (1024, 1224)\n",
      "Stokes time:  0.02498602867126465 s\n",
      "im_stokes0 shape is :  (1024, 1224)\n",
      "DoLP time:  0.0339808464050293 s\n",
      "im_DOLP shape is :  (1024, 1224)\n",
      "Time for DOLP2Theta conversion is :  21.696590900421143 seconds\n",
      "False\n",
      "AoLP time:  0.04497218132019043 s\n"
     ]
    },
    {
     "name": "stderr",
     "output_type": "stream",
     "text": [
      "\n",
      " 58%|██████████████████████████████████████████████▌                                 | 131/225 [52:37<37:03, 23.66s/it]"
     ]
    },
    {
     "name": "stdout",
     "output_type": "stream",
     "text": [
      "Processing data for material : WATER\n",
      "image_data shape is :  (2048, 2448)\n",
      "im90 shape is :  (1024, 1224)\n",
      "Stokes time:  0.0239870548248291 s\n",
      "im_stokes0 shape is :  (1024, 1224)\n",
      "DoLP time:  0.03597903251647949 s\n",
      "im_DOLP shape is :  (1024, 1224)\n",
      "Time for DOLP2Theta conversion is :  23.521549224853516 seconds\n",
      "False\n",
      "AoLP time:  0.041976213455200195 s\n"
     ]
    },
    {
     "name": "stderr",
     "output_type": "stream",
     "text": [
      "\n",
      " 59%|██████████████████████████████████████████████▉                                 | 132/225 [53:01<36:54, 23.81s/it]"
     ]
    },
    {
     "name": "stdout",
     "output_type": "stream",
     "text": [
      "Processing data for material : WATER\n",
      "image_data shape is :  (2048, 2448)\n",
      "im90 shape is :  (1024, 1224)\n",
      "Stokes time:  0.022986650466918945 s\n",
      "im_stokes0 shape is :  (1024, 1224)\n",
      "DoLP time:  0.036978721618652344 s\n",
      "im_DOLP shape is :  (1024, 1224)\n",
      "Time for DOLP2Theta conversion is :  23.036842107772827 seconds\n",
      "False\n",
      "AoLP time:  0.039974212646484375 s\n"
     ]
    },
    {
     "name": "stderr",
     "output_type": "stream",
     "text": [
      "\n",
      " 59%|███████████████████████████████████████████████▎                                | 133/225 [53:25<36:26, 23.76s/it]"
     ]
    },
    {
     "name": "stdout",
     "output_type": "stream",
     "text": [
      "Processing data for material : WATER\n",
      "image_data shape is :  (2048, 2448)\n",
      "im90 shape is :  (1024, 1224)\n",
      "Stokes time:  0.023986339569091797 s\n",
      "im_stokes0 shape is :  (1024, 1224)\n",
      "DoLP time:  0.0319821834564209 s\n",
      "im_DOLP shape is :  (1024, 1224)\n",
      "Time for DOLP2Theta conversion is :  23.425602674484253 seconds\n",
      "False\n",
      "AoLP time:  0.03897738456726074 s\n"
     ]
    },
    {
     "name": "stderr",
     "output_type": "stream",
     "text": [
      "\n",
      " 60%|███████████████████████████████████████████████▋                                | 134/225 [53:49<36:11, 23.86s/it]"
     ]
    },
    {
     "name": "stdout",
     "output_type": "stream",
     "text": [
      "Processing data for material : WATER\n",
      "image_data shape is :  (2048, 2448)\n",
      "im90 shape is :  (1024, 1224)\n",
      "Stokes time:  0.023987770080566406 s\n",
      "im_stokes0 shape is :  (1024, 1224)\n",
      "DoLP time:  0.033980369567871094 s\n",
      "im_DOLP shape is :  (1024, 1224)\n",
      "Time for DOLP2Theta conversion is :  23.2517192363739 seconds\n",
      "False\n",
      "AoLP time:  0.04597115516662598 s\n"
     ]
    },
    {
     "name": "stderr",
     "output_type": "stream",
     "text": [
      "\n",
      " 60%|████████████████████████████████████████████████                                | 135/225 [54:13<35:48, 23.88s/it]"
     ]
    },
    {
     "name": "stdout",
     "output_type": "stream",
     "text": [
      "Processing data for material : WATER\n",
      "image_data shape is :  (2048, 2448)\n",
      "im90 shape is :  (1024, 1224)\n",
      "Stokes time:  0.025983572006225586 s\n",
      "im_stokes0 shape is :  (1024, 1224)\n",
      "DoLP time:  0.036978721618652344 s\n",
      "im_DOLP shape is :  (1024, 1224)\n",
      "Time for DOLP2Theta conversion is :  22.532111406326294 seconds\n",
      "False\n",
      "AoLP time:  0.040976524353027344 s\n"
     ]
    },
    {
     "name": "stderr",
     "output_type": "stream",
     "text": [
      "\n",
      " 60%|████████████████████████████████████████████████▎                               | 136/225 [54:36<35:06, 23.67s/it]"
     ]
    },
    {
     "name": "stdout",
     "output_type": "stream",
     "text": [
      "Processing data for material : WATER\n",
      "image_data shape is :  (2048, 2448)\n",
      "im90 shape is :  (1024, 1224)\n",
      "Stokes time:  0.023987293243408203 s\n",
      "im_stokes0 shape is :  (1024, 1224)\n",
      "DoLP time:  0.03697824478149414 s\n",
      "im_DOLP shape is :  (1024, 1224)\n",
      "Time for DOLP2Theta conversion is :  23.48157024383545 seconds\n",
      "False\n",
      "AoLP time:  0.038977622985839844 s\n"
     ]
    },
    {
     "name": "stderr",
     "output_type": "stream",
     "text": [
      "\n",
      " 61%|████████████████████████████████████████████████▋                               | 137/225 [55:00<34:54, 23.80s/it]"
     ]
    },
    {
     "name": "stdout",
     "output_type": "stream",
     "text": [
      "Processing data for material : WATER\n",
      "image_data shape is :  (2048, 2448)\n",
      "im90 shape is :  (1024, 1224)\n",
      "Stokes time:  0.023985862731933594 s\n",
      "im_stokes0 shape is :  (1024, 1224)\n",
      "DoLP time:  0.0379793643951416 s\n",
      "im_DOLP shape is :  (1024, 1224)\n",
      "Time for DOLP2Theta conversion is :  23.217721223831177 seconds\n",
      "False\n",
      "AoLP time:  0.04297494888305664 s\n"
     ]
    },
    {
     "name": "stderr",
     "output_type": "stream",
     "text": [
      "\n",
      " 61%|█████████████████████████████████████████████████                               | 138/225 [55:24<34:31, 23.81s/it]"
     ]
    },
    {
     "name": "stdout",
     "output_type": "stream",
     "text": [
      "Processing data for material : WATER\n",
      "image_data shape is :  (2048, 2448)\n",
      "im90 shape is :  (1024, 1224)\n",
      "Stokes time:  0.02298736572265625 s\n",
      "im_stokes0 shape is :  (1024, 1224)\n",
      "DoLP time:  0.0339813232421875 s\n",
      "im_DOLP shape is :  (1024, 1224)\n",
      "Time for DOLP2Theta conversion is :  23.598498582839966 seconds\n",
      "False\n",
      "AoLP time:  0.037976980209350586 s\n"
     ]
    },
    {
     "name": "stderr",
     "output_type": "stream",
     "text": [
      "\n",
      " 62%|█████████████████████████████████████████████████▍                              | 139/225 [55:48<34:18, 23.94s/it]"
     ]
    },
    {
     "name": "stdout",
     "output_type": "stream",
     "text": [
      "Processing data for material : WATER\n",
      "image_data shape is :  (2048, 2448)\n",
      "im90 shape is :  (1024, 1224)\n",
      "Stokes time:  0.025985002517700195 s\n",
      "im_stokes0 shape is :  (1024, 1224)\n",
      "DoLP time:  0.033980369567871094 s\n",
      "im_DOLP shape is :  (1024, 1224)\n",
      "Time for DOLP2Theta conversion is :  23.799386978149414 seconds\n",
      "False\n",
      "AoLP time:  0.03797769546508789 s\n"
     ]
    },
    {
     "name": "stderr",
     "output_type": "stream",
     "text": [
      "\n",
      " 62%|█████████████████████████████████████████████████▊                              | 140/225 [56:12<34:07, 24.09s/it]"
     ]
    },
    {
     "name": "stdout",
     "output_type": "stream",
     "text": [
      "Processing data for material : WATER\n",
      "image_data shape is :  (2048, 2448)\n",
      "im90 shape is :  (1024, 1224)\n",
      "Stokes time:  0.0259854793548584 s\n",
      "im_stokes0 shape is :  (1024, 1224)\n",
      "DoLP time:  0.03098297119140625 s\n",
      "im_DOLP shape is :  (1024, 1224)\n",
      "Time for DOLP2Theta conversion is :  23.424601316452026 seconds\n",
      "False\n",
      "AoLP time:  0.043972015380859375 s\n"
     ]
    },
    {
     "name": "stderr",
     "output_type": "stream",
     "text": [
      "\n",
      " 63%|██████████████████████████████████████████████████▏                             | 141/225 [56:36<33:44, 24.10s/it]"
     ]
    },
    {
     "name": "stdout",
     "output_type": "stream",
     "text": [
      "Processing data for material : WATER\n",
      "image_data shape is :  (2048, 2448)\n",
      "im90 shape is :  (1024, 1224)\n",
      "Stokes time:  0.026984691619873047 s\n",
      "im_stokes0 shape is :  (1024, 1224)\n",
      "DoLP time:  0.033980369567871094 s\n",
      "im_DOLP shape is :  (1024, 1224)\n",
      "Time for DOLP2Theta conversion is :  22.705012798309326 seconds\n",
      "False\n",
      "AoLP time:  0.04097580909729004 s\n"
     ]
    },
    {
     "name": "stderr",
     "output_type": "stream",
     "text": [
      "\n",
      " 63%|██████████████████████████████████████████████████▍                             | 142/225 [57:00<33:01, 23.87s/it]"
     ]
    },
    {
     "name": "stdout",
     "output_type": "stream",
     "text": [
      "Processing data for material : WATER\n",
      "image_data shape is :  (2048, 2448)\n",
      "im90 shape is :  (1024, 1224)\n",
      "Stokes time:  0.025985240936279297 s\n",
      "im_stokes0 shape is :  (1024, 1224)\n",
      "DoLP time:  0.03498029708862305 s\n",
      "im_DOLP shape is :  (1024, 1224)\n",
      "Time for DOLP2Theta conversion is :  23.99227786064148 seconds\n",
      "False\n",
      "AoLP time:  0.03997445106506348 s\n"
     ]
    },
    {
     "name": "stderr",
     "output_type": "stream",
     "text": [
      "\n",
      " 64%|██████████████████████████████████████████████████▊                             | 143/225 [57:24<32:55, 24.09s/it]"
     ]
    },
    {
     "name": "stdout",
     "output_type": "stream",
     "text": [
      "Processing data for material : WATER\n",
      "image_data shape is :  (2048, 2448)\n",
      "im90 shape is :  (1024, 1224)\n",
      "Stokes time:  0.0259854793548584 s\n",
      "im_stokes0 shape is :  (1024, 1224)\n",
      "DoLP time:  0.03498029708862305 s\n",
      "im_DOLP shape is :  (1024, 1224)\n",
      "Time for DOLP2Theta conversion is :  22.81594944000244 seconds\n",
      "False\n",
      "AoLP time:  0.04497265815734863 s\n"
     ]
    },
    {
     "name": "stderr",
     "output_type": "stream",
     "text": [
      "\n",
      " 64%|███████████████████████████████████████████████████▏                            | 144/225 [57:48<32:19, 23.95s/it]"
     ]
    },
    {
     "name": "stdout",
     "output_type": "stream",
     "text": [
      "Processing data for material : WATER\n",
      "image_data shape is :  (2048, 2448)\n",
      "im90 shape is :  (1024, 1224)\n",
      "Stokes time:  0.023987293243408203 s\n",
      "im_stokes0 shape is :  (1024, 1224)\n",
      "DoLP time:  0.030982494354248047 s\n",
      "im_DOLP shape is :  (1024, 1224)\n",
      "Time for DOLP2Theta conversion is :  24.877771615982056 seconds\n",
      "False\n",
      "AoLP time:  0.039977073669433594 s\n"
     ]
    },
    {
     "name": "stderr",
     "output_type": "stream",
     "text": [
      "\n",
      " 64%|███████████████████████████████████████████████████▌                            | 145/225 [58:14<32:34, 24.43s/it]"
     ]
    },
    {
     "name": "stdout",
     "output_type": "stream",
     "text": [
      "Processing data for material : WATER\n",
      "image_data shape is :  (2048, 2448)\n",
      "im90 shape is :  (1024, 1224)\n",
      "Stokes time:  0.026984691619873047 s\n",
      "im_stokes0 shape is :  (1024, 1224)\n",
      "DoLP time:  0.0339808464050293 s\n",
      "im_DOLP shape is :  (1024, 1224)\n",
      "Time for DOLP2Theta conversion is :  23.299673795700073 seconds\n",
      "False\n",
      "AoLP time:  0.03896784782409668 s\n"
     ]
    },
    {
     "name": "stderr",
     "output_type": "stream",
     "text": [
      "\n",
      " 65%|███████████████████████████████████████████████████▉                            | 146/225 [58:37<31:57, 24.27s/it]"
     ]
    },
    {
     "name": "stdout",
     "output_type": "stream",
     "text": [
      "Processing data for material : WATER\n",
      "image_data shape is :  (2048, 2448)\n",
      "im90 shape is :  (1024, 1224)\n",
      "Stokes time:  0.0239870548248291 s\n",
      "im_stokes0 shape is :  (1024, 1224)\n",
      "DoLP time:  0.03398013114929199 s\n",
      "im_DOLP shape is :  (1024, 1224)\n",
      "Time for DOLP2Theta conversion is :  23.423601865768433 seconds\n",
      "False\n",
      "AoLP time:  0.043973445892333984 s\n"
     ]
    },
    {
     "name": "stderr",
     "output_type": "stream",
     "text": [
      "\n",
      " 65%|████████████████████████████████████████████████████▎                           | 147/225 [59:02<31:28, 24.21s/it]"
     ]
    },
    {
     "name": "stdout",
     "output_type": "stream",
     "text": [
      "Processing data for material : WATER\n",
      "image_data shape is :  (2048, 2448)\n",
      "im90 shape is :  (1024, 1224)\n",
      "Stokes time:  0.025985002517700195 s\n",
      "im_stokes0 shape is :  (1024, 1224)\n",
      "DoLP time:  0.035979270935058594 s\n",
      "im_DOLP shape is :  (1024, 1224)\n",
      "Time for DOLP2Theta conversion is :  22.83393931388855 seconds\n",
      "False\n",
      "AoLP time:  0.039977073669433594 s\n"
     ]
    },
    {
     "name": "stderr",
     "output_type": "stream",
     "text": [
      "\n",
      " 66%|████████████████████████████████████████████████████▌                           | 148/225 [59:25<30:47, 24.00s/it]"
     ]
    },
    {
     "name": "stdout",
     "output_type": "stream",
     "text": [
      "Processing data for material : WATER\n",
      "image_data shape is :  (2048, 2448)\n",
      "im90 shape is :  (1024, 1224)\n",
      "Stokes time:  0.027983665466308594 s\n",
      "im_stokes0 shape is :  (1024, 1224)\n",
      "DoLP time:  0.035979270935058594 s\n",
      "im_DOLP shape is :  (1024, 1224)\n",
      "Time for DOLP2Theta conversion is :  23.431596755981445 seconds\n",
      "False\n",
      "AoLP time:  0.041979074478149414 s\n"
     ]
    },
    {
     "name": "stderr",
     "output_type": "stream",
     "text": [
      "\n",
      " 66%|████████████████████████████████████████████████████▉                           | 149/225 [59:49<30:25, 24.02s/it]"
     ]
    },
    {
     "name": "stdout",
     "output_type": "stream",
     "text": [
      "Processing data for material : WATER\n",
      "image_data shape is :  (2048, 2448)\n",
      "im90 shape is :  (1024, 1224)\n",
      "Stokes time:  0.024985551834106445 s\n",
      "im_stokes0 shape is :  (1024, 1224)\n",
      "DoLP time:  0.03797793388366699 s\n",
      "im_DOLP shape is :  (1024, 1224)\n",
      "Time for DOLP2Theta conversion is :  23.23970866203308 seconds\n",
      "False\n",
      "AoLP time:  0.038977622985839844 s\n"
     ]
    },
    {
     "name": "stderr",
     "output_type": "stream",
     "text": [
      "\n",
      " 67%|████████████████████████████████████████████████████                          | 150/225 [1:00:13<29:58, 23.98s/it]"
     ]
    },
    {
     "name": "stdout",
     "output_type": "stream",
     "text": [
      "Processing data for material : WATER\n",
      "image_data shape is :  (2048, 2448)\n",
      "im90 shape is :  (1024, 1224)\n",
      "Stokes time:  0.026984453201293945 s\n",
      "im_stokes0 shape is :  (1024, 1224)\n",
      "DoLP time:  0.03298139572143555 s\n",
      "im_DOLP shape is :  (1024, 1224)\n",
      "Time for DOLP2Theta conversion is :  21.869492053985596 seconds\n",
      "False\n",
      "AoLP time:  0.043974876403808594 s\n"
     ]
    },
    {
     "name": "stderr",
     "output_type": "stream",
     "text": [
      "\n",
      " 67%|████████████████████████████████████████████████████▎                         | 151/225 [1:00:36<29:01, 23.54s/it]"
     ]
    },
    {
     "name": "stdout",
     "output_type": "stream",
     "text": [
      "Processing data for material : WATER\n",
      "image_data shape is :  (2048, 2448)\n",
      "im90 shape is :  (1024, 1224)\n",
      "Stokes time:  0.0259857177734375 s\n",
      "im_stokes0 shape is :  (1024, 1224)\n",
      "DoLP time:  0.03498029708862305 s\n",
      "im_DOLP shape is :  (1024, 1224)\n",
      "Time for DOLP2Theta conversion is :  23.123775005340576 seconds\n",
      "False\n",
      "AoLP time:  0.038977622985839844 s\n"
     ]
    },
    {
     "name": "stderr",
     "output_type": "stream",
     "text": [
      "\n",
      " 68%|████████████████████████████████████████████████████▋                         | 152/225 [1:00:59<28:42, 23.60s/it]"
     ]
    },
    {
     "name": "stdout",
     "output_type": "stream",
     "text": [
      "Processing data for material : WATER\n",
      "image_data shape is :  (2048, 2448)\n",
      "im90 shape is :  (1024, 1224)\n",
      "Stokes time:  0.023986101150512695 s\n",
      "im_stokes0 shape is :  (1024, 1224)\n",
      "DoLP time:  0.03498053550720215 s\n",
      "im_DOLP shape is :  (1024, 1224)\n",
      "Time for DOLP2Theta conversion is :  22.58208394050598 seconds\n",
      "False\n",
      "AoLP time:  0.03997611999511719 s\n"
     ]
    },
    {
     "name": "stderr",
     "output_type": "stream",
     "text": [
      "\n",
      " 68%|█████████████████████████████████████████████████████                         | 153/225 [1:01:23<28:12, 23.50s/it]"
     ]
    },
    {
     "name": "stdout",
     "output_type": "stream",
     "text": [
      "Processing data for material : WATER\n",
      "image_data shape is :  (2048, 2448)\n",
      "im90 shape is :  (1024, 1224)\n",
      "Stokes time:  0.026984214782714844 s\n",
      "im_stokes0 shape is :  (1024, 1224)\n",
      "DoLP time:  0.03298044204711914 s\n",
      "im_DOLP shape is :  (1024, 1224)\n",
      "Time for DOLP2Theta conversion is :  23.555527687072754 seconds\n",
      "False\n",
      "AoLP time:  0.04096722602844238 s\n"
     ]
    },
    {
     "name": "stderr",
     "output_type": "stream",
     "text": [
      "\n",
      " 68%|█████████████████████████████████████████████████████▍                        | 154/225 [1:01:47<28:03, 23.71s/it]"
     ]
    },
    {
     "name": "stdout",
     "output_type": "stream",
     "text": [
      "Processing data for material : WATER\n",
      "image_data shape is :  (2048, 2448)\n",
      "im90 shape is :  (1024, 1224)\n",
      "Stokes time:  0.02698493003845215 s\n",
      "im_stokes0 shape is :  (1024, 1224)\n",
      "DoLP time:  0.037978172302246094 s\n",
      "im_DOLP shape is :  (1024, 1224)\n",
      "Time for DOLP2Theta conversion is :  22.92288851737976 seconds\n",
      "False\n",
      "AoLP time:  0.03997540473937988 s\n"
     ]
    },
    {
     "name": "stderr",
     "output_type": "stream",
     "text": [
      "\n",
      " 69%|█████████████████████████████████████████████████████▋                        | 155/225 [1:02:10<27:36, 23.66s/it]"
     ]
    },
    {
     "name": "stdout",
     "output_type": "stream",
     "text": [
      "Processing data for material : WATER\n",
      "image_data shape is :  (2048, 2448)\n",
      "im90 shape is :  (1024, 1224)\n",
      "Stokes time:  0.023984909057617188 s\n",
      "im_stokes0 shape is :  (1024, 1224)\n",
      "DoLP time:  0.03497958183288574 s\n",
      "im_DOLP shape is :  (1024, 1224)\n",
      "Time for DOLP2Theta conversion is :  23.221717596054077 seconds\n",
      "False\n",
      "AoLP time:  0.04197549819946289 s\n"
     ]
    },
    {
     "name": "stderr",
     "output_type": "stream",
     "text": [
      "\n",
      " 69%|██████████████████████████████████████████████████████                        | 156/225 [1:02:34<27:17, 23.73s/it]"
     ]
    },
    {
     "name": "stdout",
     "output_type": "stream",
     "text": [
      "Processing data for material : WATER\n",
      "image_data shape is :  (2048, 2448)\n",
      "im90 shape is :  (1024, 1224)\n",
      "Stokes time:  0.025983810424804688 s\n",
      "im_stokes0 shape is :  (1024, 1224)\n",
      "DoLP time:  0.03697824478149414 s\n",
      "im_DOLP shape is :  (1024, 1224)\n",
      "Time for DOLP2Theta conversion is :  22.522117614746094 seconds\n",
      "False\n",
      "AoLP time:  0.03897714614868164 s\n"
     ]
    },
    {
     "name": "stderr",
     "output_type": "stream",
     "text": [
      "\n",
      " 70%|██████████████████████████████████████████████████████▍                       | 157/225 [1:02:57<26:42, 23.56s/it]"
     ]
    },
    {
     "name": "stdout",
     "output_type": "stream",
     "text": [
      "Processing data for material : WATER\n",
      "image_data shape is :  (2048, 2448)\n",
      "im90 shape is :  (1024, 1224)\n",
      "Stokes time:  0.024985074996948242 s\n",
      "im_stokes0 shape is :  (1024, 1224)\n",
      "DoLP time:  0.030982255935668945 s\n",
      "im_DOLP shape is :  (1024, 1224)\n",
      "Time for DOLP2Theta conversion is :  23.82937002182007 seconds\n",
      "False\n",
      "AoLP time:  0.039977312088012695 s\n"
     ]
    },
    {
     "name": "stderr",
     "output_type": "stream",
     "text": [
      "\n",
      " 70%|██████████████████████████████████████████████████████▊                       | 158/225 [1:03:22<26:38, 23.86s/it]"
     ]
    },
    {
     "name": "stdout",
     "output_type": "stream",
     "text": [
      "Processing data for material : WATER\n",
      "image_data shape is :  (2048, 2448)\n",
      "im90 shape is :  (1024, 1224)\n",
      "Stokes time:  0.026984214782714844 s\n",
      "im_stokes0 shape is :  (1024, 1224)\n",
      "DoLP time:  0.029982328414916992 s\n",
      "im_DOLP shape is :  (1024, 1224)\n",
      "Time for DOLP2Theta conversion is :  22.562096118927002 seconds\n",
      "False\n",
      "AoLP time:  0.039977312088012695 s\n"
     ]
    },
    {
     "name": "stderr",
     "output_type": "stream",
     "text": [
      "\n",
      " 71%|███████████████████████████████████████████████████████                       | 159/225 [1:03:45<26:00, 23.65s/it]"
     ]
    },
    {
     "name": "stdout",
     "output_type": "stream",
     "text": [
      "Processing data for material : WATER\n",
      "image_data shape is :  (2048, 2448)\n",
      "im90 shape is :  (1024, 1224)\n",
      "Stokes time:  0.02498602867126465 s\n",
      "im_stokes0 shape is :  (1024, 1224)\n",
      "DoLP time:  0.034979820251464844 s\n",
      "im_DOLP shape is :  (1024, 1224)\n",
      "Time for DOLP2Theta conversion is :  23.548532009124756 seconds\n",
      "False\n",
      "AoLP time:  0.043973684310913086 s\n"
     ]
    },
    {
     "name": "stderr",
     "output_type": "stream",
     "text": [
      "\n",
      " 71%|███████████████████████████████████████████████████████▍                      | 160/225 [1:04:09<25:47, 23.80s/it]"
     ]
    },
    {
     "name": "stdout",
     "output_type": "stream",
     "text": [
      "Processing data for material : WATER\n",
      "image_data shape is :  (2048, 2448)\n",
      "im90 shape is :  (1024, 1224)\n",
      "Stokes time:  0.025985002517700195 s\n",
      "im_stokes0 shape is :  (1024, 1224)\n",
      "DoLP time:  0.036978960037231445 s\n",
      "im_DOLP shape is :  (1024, 1224)\n",
      "Time for DOLP2Theta conversion is :  22.716007947921753 seconds\n",
      "False\n",
      "AoLP time:  0.040978431701660156 s\n"
     ]
    },
    {
     "name": "stderr",
     "output_type": "stream",
     "text": [
      "\n",
      " 72%|███████████████████████████████████████████████████████▊                      | 161/225 [1:04:33<25:15, 23.68s/it]"
     ]
    },
    {
     "name": "stdout",
     "output_type": "stream",
     "text": [
      "Processing data for material : WATER\n",
      "image_data shape is :  (2048, 2448)\n",
      "im90 shape is :  (1024, 1224)\n",
      "Stokes time:  0.022986888885498047 s\n",
      "im_stokes0 shape is :  (1024, 1224)\n",
      "DoLP time:  0.033980369567871094 s\n",
      "im_DOLP shape is :  (1024, 1224)\n",
      "Time for DOLP2Theta conversion is :  23.282682180404663 seconds\n",
      "False\n",
      "AoLP time:  0.039975643157958984 s\n"
     ]
    },
    {
     "name": "stderr",
     "output_type": "stream",
     "text": [
      "\n",
      " 72%|████████████████████████████████████████████████████████▏                     | 162/225 [1:04:57<24:57, 23.77s/it]"
     ]
    },
    {
     "name": "stdout",
     "output_type": "stream",
     "text": [
      "Processing data for material : WATER\n",
      "image_data shape is :  (2048, 2448)\n",
      "im90 shape is :  (1024, 1224)\n",
      "Stokes time:  0.023985862731933594 s\n",
      "im_stokes0 shape is :  (1024, 1224)\n",
      "DoLP time:  0.033980369567871094 s\n",
      "im_DOLP shape is :  (1024, 1224)\n",
      "Time for DOLP2Theta conversion is :  23.3346529006958 seconds\n",
      "False\n",
      "AoLP time:  0.03997611999511719 s\n"
     ]
    },
    {
     "name": "stderr",
     "output_type": "stream",
     "text": [
      "\n",
      " 72%|████████████████████████████████████████████████████████▌                     | 163/225 [1:05:21<24:37, 23.83s/it]"
     ]
    },
    {
     "name": "stdout",
     "output_type": "stream",
     "text": [
      "Processing data for material : WATER\n",
      "image_data shape is :  (2048, 2448)\n",
      "im90 shape is :  (1024, 1224)\n",
      "Stokes time:  0.025985240936279297 s\n",
      "im_stokes0 shape is :  (1024, 1224)\n",
      "DoLP time:  0.035979509353637695 s\n",
      "im_DOLP shape is :  (1024, 1224)\n",
      "Time for DOLP2Theta conversion is :  23.094791650772095 seconds\n",
      "False\n",
      "AoLP time:  0.04097127914428711 s\n"
     ]
    },
    {
     "name": "stderr",
     "output_type": "stream",
     "text": [
      "\n",
      " 73%|████████████████████████████████████████████████████████▊                     | 164/225 [1:05:44<24:12, 23.81s/it]"
     ]
    },
    {
     "name": "stdout",
     "output_type": "stream",
     "text": [
      "Processing data for material : WATER\n",
      "image_data shape is :  (2048, 2448)\n",
      "im90 shape is :  (1024, 1224)\n",
      "Stokes time:  0.02498626708984375 s\n",
      "im_stokes0 shape is :  (1024, 1224)\n",
      "DoLP time:  0.0319819450378418 s\n",
      "im_DOLP shape is :  (1024, 1224)\n",
      "Time for DOLP2Theta conversion is :  23.014836311340332 seconds\n",
      "False\n",
      "AoLP time:  0.040975093841552734 s\n"
     ]
    },
    {
     "name": "stderr",
     "output_type": "stream",
     "text": [
      "\n",
      " 73%|█████████████████████████████████████████████████████████▏                    | 165/225 [1:06:08<23:46, 23.77s/it]"
     ]
    },
    {
     "name": "stdout",
     "output_type": "stream",
     "text": [
      "Processing data for material : WATER\n",
      "image_data shape is :  (2048, 2448)\n",
      "im90 shape is :  (1024, 1224)\n",
      "Stokes time:  0.025984764099121094 s\n",
      "im_stokes0 shape is :  (1024, 1224)\n",
      "DoLP time:  0.03397941589355469 s\n",
      "im_DOLP shape is :  (1024, 1224)\n",
      "Time for DOLP2Theta conversion is :  23.23672604560852 seconds\n",
      "False\n",
      "AoLP time:  0.04097628593444824 s\n"
     ]
    },
    {
     "name": "stderr",
     "output_type": "stream",
     "text": [
      "\n",
      " 74%|█████████████████████████████████████████████████████████▌                    | 166/225 [1:06:32<23:24, 23.81s/it]"
     ]
    },
    {
     "name": "stdout",
     "output_type": "stream",
     "text": [
      "Processing data for material : WATER\n",
      "image_data shape is :  (2048, 2448)\n",
      "im90 shape is :  (1024, 1224)\n",
      "Stokes time:  0.026984214782714844 s\n",
      "im_stokes0 shape is :  (1024, 1224)\n",
      "DoLP time:  0.030983686447143555 s\n",
      "im_DOLP shape is :  (1024, 1224)\n",
      "Time for DOLP2Theta conversion is :  23.377629280090332 seconds\n",
      "False\n",
      "AoLP time:  0.04297327995300293 s\n"
     ]
    },
    {
     "name": "stderr",
     "output_type": "stream",
     "text": [
      "\n",
      " 74%|█████████████████████████████████████████████████████████▉                    | 167/225 [1:06:56<23:04, 23.88s/it]"
     ]
    },
    {
     "name": "stdout",
     "output_type": "stream",
     "text": [
      "Processing data for material : WATER\n",
      "image_data shape is :  (2048, 2448)\n",
      "im90 shape is :  (1024, 1224)\n",
      "Stokes time:  0.02398514747619629 s\n",
      "im_stokes0 shape is :  (1024, 1224)\n",
      "DoLP time:  0.03098297119140625 s\n",
      "im_DOLP shape is :  (1024, 1224)\n",
      "Time for DOLP2Theta conversion is :  22.924885988235474 seconds\n",
      "False\n",
      "AoLP time:  0.03997492790222168 s\n"
     ]
    },
    {
     "name": "stderr",
     "output_type": "stream",
     "text": [
      "\n",
      " 75%|██████████████████████████████████████████████████████████▏                   | 168/225 [1:07:19<22:35, 23.77s/it]"
     ]
    },
    {
     "name": "stdout",
     "output_type": "stream",
     "text": [
      "Processing data for material : WATER\n",
      "image_data shape is :  (2048, 2448)\n",
      "im90 shape is :  (1024, 1224)\n",
      "Stokes time:  0.026984214782714844 s\n",
      "im_stokes0 shape is :  (1024, 1224)\n",
      "DoLP time:  0.036978721618652344 s\n",
      "im_DOLP shape is :  (1024, 1224)\n",
      "Time for DOLP2Theta conversion is :  23.38562273979187 seconds\n",
      "False\n",
      "AoLP time:  0.04097580909729004 s\n"
     ]
    },
    {
     "name": "stderr",
     "output_type": "stream",
     "text": [
      "\n",
      " 75%|██████████████████████████████████████████████████████████▌                   | 169/225 [1:07:44<22:16, 23.87s/it]"
     ]
    },
    {
     "name": "stdout",
     "output_type": "stream",
     "text": [
      "Processing data for material : WATER\n",
      "image_data shape is :  (2048, 2448)\n",
      "im90 shape is :  (1024, 1224)\n",
      "Stokes time:  0.025984764099121094 s\n",
      "im_stokes0 shape is :  (1024, 1224)\n",
      "DoLP time:  0.032981157302856445 s\n",
      "im_DOLP shape is :  (1024, 1224)\n",
      "Time for DOLP2Theta conversion is :  22.880913972854614 seconds\n",
      "False\n",
      "AoLP time:  0.042975664138793945 s\n"
     ]
    },
    {
     "name": "stderr",
     "output_type": "stream",
     "text": [
      "\n",
      " 76%|██████████████████████████████████████████████████████████▉                   | 170/225 [1:08:07<21:47, 23.78s/it]"
     ]
    },
    {
     "name": "stdout",
     "output_type": "stream",
     "text": [
      "Processing data for material : WATER\n",
      "image_data shape is :  (2048, 2448)\n",
      "im90 shape is :  (1024, 1224)\n",
      "Stokes time:  0.02398681640625 s\n",
      "im_stokes0 shape is :  (1024, 1224)\n",
      "DoLP time:  0.03497910499572754 s\n",
      "im_DOLP shape is :  (1024, 1224)\n",
      "Time for DOLP2Theta conversion is :  23.640479564666748 seconds\n",
      "False\n",
      "AoLP time:  0.042975664138793945 s\n"
     ]
    },
    {
     "name": "stderr",
     "output_type": "stream",
     "text": [
      "\n",
      " 76%|███████████████████████████████████████████████████████████▎                  | 171/225 [1:08:31<21:32, 23.93s/it]"
     ]
    },
    {
     "name": "stdout",
     "output_type": "stream",
     "text": [
      "Processing data for material : WATER\n",
      "image_data shape is :  (2048, 2448)\n",
      "im90 shape is :  (1024, 1224)\n",
      "Stokes time:  0.026984214782714844 s\n",
      "im_stokes0 shape is :  (1024, 1224)\n",
      "DoLP time:  0.03997659683227539 s\n",
      "im_DOLP shape is :  (1024, 1224)\n",
      "Time for DOLP2Theta conversion is :  23.678457736968994 seconds\n",
      "False\n",
      "AoLP time:  0.0399775505065918 s\n"
     ]
    },
    {
     "name": "stderr",
     "output_type": "stream",
     "text": [
      "\n",
      " 76%|███████████████████████████████████████████████████████████▋                  | 172/225 [1:08:56<21:14, 24.05s/it]"
     ]
    },
    {
     "name": "stdout",
     "output_type": "stream",
     "text": [
      "Processing data for material : WATER\n",
      "image_data shape is :  (2048, 2448)\n",
      "im90 shape is :  (1024, 1224)\n",
      "Stokes time:  0.024985790252685547 s\n",
      "im_stokes0 shape is :  (1024, 1224)\n",
      "DoLP time:  0.03098273277282715 s\n",
      "im_DOLP shape is :  (1024, 1224)\n",
      "Time for DOLP2Theta conversion is :  23.599502563476562 seconds\n",
      "False\n",
      "AoLP time:  0.041977882385253906 s\n"
     ]
    },
    {
     "name": "stderr",
     "output_type": "stream",
     "text": [
      "\n",
      " 77%|███████████████████████████████████████████████████████████▉                  | 173/225 [1:09:20<20:53, 24.11s/it]"
     ]
    },
    {
     "name": "stdout",
     "output_type": "stream",
     "text": [
      "Processing data for material : WATER\n",
      "image_data shape is :  (2048, 2448)\n",
      "im90 shape is :  (1024, 1224)\n",
      "Stokes time:  0.024985551834106445 s\n",
      "im_stokes0 shape is :  (1024, 1224)\n",
      "DoLP time:  0.032981157302856445 s\n",
      "im_DOLP shape is :  (1024, 1224)\n",
      "Time for DOLP2Theta conversion is :  24.075230360031128 seconds\n",
      "False\n",
      "AoLP time:  0.04297304153442383 s\n"
     ]
    },
    {
     "name": "stderr",
     "output_type": "stream",
     "text": [
      "\n",
      " 77%|████████████████████████████████████████████████████████████▎                 | 174/225 [1:09:45<20:39, 24.30s/it]"
     ]
    },
    {
     "name": "stdout",
     "output_type": "stream",
     "text": [
      "Processing data for material : WATER\n",
      "image_data shape is :  (2048, 2448)\n",
      "im90 shape is :  (1024, 1224)\n",
      "Stokes time:  0.027983665466308594 s\n",
      "im_stokes0 shape is :  (1024, 1224)\n",
      "DoLP time:  0.03198122978210449 s\n",
      "im_DOLP shape is :  (1024, 1224)\n",
      "Time for DOLP2Theta conversion is :  22.78596806526184 seconds\n",
      "False\n",
      "AoLP time:  0.03997302055358887 s\n"
     ]
    },
    {
     "name": "stderr",
     "output_type": "stream",
     "text": [
      "\n",
      " 78%|████████████████████████████████████████████████████████████▋                 | 175/225 [1:10:08<20:02, 24.04s/it]"
     ]
    },
    {
     "name": "stdout",
     "output_type": "stream",
     "text": [
      "Processing data for material : WATER\n",
      "image_data shape is :  (2048, 2448)\n",
      "im90 shape is :  (1024, 1224)\n",
      "Stokes time:  0.023986101150512695 s\n",
      "im_stokes0 shape is :  (1024, 1224)\n",
      "DoLP time:  0.034979820251464844 s\n",
      "im_DOLP shape is :  (1024, 1224)\n",
      "Time for DOLP2Theta conversion is :  23.557525634765625 seconds\n",
      "False\n",
      "AoLP time:  0.041979074478149414 s\n"
     ]
    },
    {
     "name": "stderr",
     "output_type": "stream",
     "text": [
      "\n",
      " 78%|█████████████████████████████████████████████████████████████                 | 176/225 [1:10:32<19:40, 24.10s/it]"
     ]
    },
    {
     "name": "stdout",
     "output_type": "stream",
     "text": [
      "Processing data for material : WATER\n",
      "image_data shape is :  (2048, 2448)\n",
      "im90 shape is :  (1024, 1224)\n",
      "Stokes time:  0.0259859561920166 s\n",
      "im_stokes0 shape is :  (1024, 1224)\n",
      "DoLP time:  0.03198122978210449 s\n",
      "im_DOLP shape is :  (1024, 1224)\n",
      "Time for DOLP2Theta conversion is :  22.848931550979614 seconds\n",
      "False\n",
      "AoLP time:  0.042977333068847656 s\n"
     ]
    },
    {
     "name": "stderr",
     "output_type": "stream",
     "text": [
      "\n",
      " 79%|█████████████████████████████████████████████████████████████▎                | 177/225 [1:10:56<19:08, 23.92s/it]"
     ]
    },
    {
     "name": "stdout",
     "output_type": "stream",
     "text": [
      "Processing data for material : WATER\n",
      "image_data shape is :  (2048, 2448)\n",
      "im90 shape is :  (1024, 1224)\n",
      "Stokes time:  0.0239865779876709 s\n",
      "im_stokes0 shape is :  (1024, 1224)\n",
      "DoLP time:  0.03498029708862305 s\n",
      "im_DOLP shape is :  (1024, 1224)\n",
      "Time for DOLP2Theta conversion is :  23.5435528755188 seconds\n",
      "False\n",
      "AoLP time:  0.04197502136230469 s\n"
     ]
    },
    {
     "name": "stderr",
     "output_type": "stream",
     "text": [
      "\n",
      " 79%|█████████████████████████████████████████████████████████████▋                | 178/225 [1:11:20<18:47, 23.99s/it]"
     ]
    },
    {
     "name": "stdout",
     "output_type": "stream",
     "text": [
      "Processing data for material : WATER\n",
      "image_data shape is :  (2048, 2448)\n",
      "im90 shape is :  (1024, 1224)\n",
      "Stokes time:  0.02498483657836914 s\n",
      "im_stokes0 shape is :  (1024, 1224)\n",
      "DoLP time:  0.030982255935668945 s\n",
      "im_DOLP shape is :  (1024, 1224)\n",
      "Time for DOLP2Theta conversion is :  23.316662311553955 seconds\n",
      "False\n",
      "AoLP time:  0.04397416114807129 s\n"
     ]
    },
    {
     "name": "stderr",
     "output_type": "stream",
     "text": [
      "\n",
      " 80%|██████████████████████████████████████████████████████████████                | 179/225 [1:11:44<18:22, 23.97s/it]"
     ]
    },
    {
     "name": "stdout",
     "output_type": "stream",
     "text": [
      "Processing data for material : WATER\n",
      "image_data shape is :  (2048, 2448)\n",
      "im90 shape is :  (1024, 1224)\n",
      "Stokes time:  0.026984453201293945 s\n",
      "im_stokes0 shape is :  (1024, 1224)\n",
      "DoLP time:  0.03697824478149414 s\n",
      "im_DOLP shape is :  (1024, 1224)\n",
      "Time for DOLP2Theta conversion is :  22.971860647201538 seconds\n",
      "False\n",
      "AoLP time:  0.0399782657623291 s\n"
     ]
    },
    {
     "name": "stderr",
     "output_type": "stream",
     "text": [
      "\n",
      " 80%|██████████████████████████████████████████████████████████████▍               | 180/225 [1:12:08<17:53, 23.86s/it]"
     ]
    },
    {
     "name": "stdout",
     "output_type": "stream",
     "text": [
      "Processing data for material : WATER\n",
      "image_data shape is :  (2048, 2448)\n",
      "im90 shape is :  (1024, 1224)\n",
      "Stokes time:  0.02498483657836914 s\n",
      "im_stokes0 shape is :  (1024, 1224)\n",
      "DoLP time:  0.0319828987121582 s\n",
      "im_DOLP shape is :  (1024, 1224)\n",
      "Time for DOLP2Theta conversion is :  23.5315420627594 seconds\n",
      "False\n",
      "AoLP time:  0.04497408866882324 s\n"
     ]
    },
    {
     "name": "stderr",
     "output_type": "stream",
     "text": [
      "\n",
      " 80%|██████████████████████████████████████████████████████████████▋               | 181/225 [1:12:32<17:34, 23.97s/it]"
     ]
    },
    {
     "name": "stdout",
     "output_type": "stream",
     "text": [
      "Processing data for material : WATER\n",
      "image_data shape is :  (2048, 2448)\n",
      "im90 shape is :  (1024, 1224)\n",
      "Stokes time:  0.024985790252685547 s\n",
      "im_stokes0 shape is :  (1024, 1224)\n",
      "DoLP time:  0.03398013114929199 s\n",
      "im_DOLP shape is :  (1024, 1224)\n",
      "Time for DOLP2Theta conversion is :  21.926477432250977 seconds\n",
      "False\n",
      "AoLP time:  0.03997683525085449 s\n"
     ]
    },
    {
     "name": "stderr",
     "output_type": "stream",
     "text": [
      "\n",
      " 81%|███████████████████████████████████████████████████████████████               | 182/225 [1:12:54<16:52, 23.54s/it]"
     ]
    },
    {
     "name": "stdout",
     "output_type": "stream",
     "text": [
      "Processing data for material : WATER\n",
      "image_data shape is :  (2048, 2448)\n",
      "im90 shape is :  (1024, 1224)\n",
      "Stokes time:  0.025984764099121094 s\n",
      "im_stokes0 shape is :  (1024, 1224)\n",
      "DoLP time:  0.034980058670043945 s\n",
      "im_DOLP shape is :  (1024, 1224)\n",
      "Time for DOLP2Theta conversion is :  23.919320821762085 seconds\n",
      "False\n",
      "AoLP time:  0.044976234436035156 s\n"
     ]
    },
    {
     "name": "stderr",
     "output_type": "stream",
     "text": [
      "\n",
      " 81%|███████████████████████████████████████████████████████████████▍              | 183/225 [1:13:19<16:46, 23.97s/it]"
     ]
    },
    {
     "name": "stdout",
     "output_type": "stream",
     "text": [
      "Processing data for material : WATER\n",
      "image_data shape is :  (2048, 2448)\n",
      "im90 shape is :  (1024, 1224)\n",
      "Stokes time:  0.026985883712768555 s\n",
      "im_stokes0 shape is :  (1024, 1224)\n",
      "DoLP time:  0.03697848320007324 s\n",
      "im_DOLP shape is :  (1024, 1224)\n",
      "Time for DOLP2Theta conversion is :  23.2736873626709 seconds\n",
      "False\n",
      "AoLP time:  0.045972585678100586 s\n"
     ]
    },
    {
     "name": "stderr",
     "output_type": "stream",
     "text": [
      "\n",
      " 82%|███████████████████████████████████████████████████████████████▊              | 184/225 [1:13:43<16:23, 23.99s/it]"
     ]
    },
    {
     "name": "stdout",
     "output_type": "stream",
     "text": [
      "Processing data for material : WATER\n",
      "image_data shape is :  (2048, 2448)\n",
      "im90 shape is :  (1024, 1224)\n",
      "Stokes time:  0.025985240936279297 s\n",
      "im_stokes0 shape is :  (1024, 1224)\n",
      "DoLP time:  0.030980825424194336 s\n",
      "im_DOLP shape is :  (1024, 1224)\n",
      "Time for DOLP2Theta conversion is :  23.009857177734375 seconds\n",
      "False\n",
      "AoLP time:  0.04397296905517578 s\n"
     ]
    },
    {
     "name": "stderr",
     "output_type": "stream",
     "text": [
      "\n",
      " 82%|████████████████████████████████████████████████████████████████▏             | 185/225 [1:14:07<15:55, 23.90s/it]"
     ]
    },
    {
     "name": "stdout",
     "output_type": "stream",
     "text": [
      "Processing data for material : WATER\n",
      "image_data shape is :  (2048, 2448)\n",
      "im90 shape is :  (1024, 1224)\n",
      "Stokes time:  0.025985240936279297 s\n",
      "im_stokes0 shape is :  (1024, 1224)\n",
      "DoLP time:  0.031981468200683594 s\n",
      "im_DOLP shape is :  (1024, 1224)\n",
      "Time for DOLP2Theta conversion is :  23.38262701034546 seconds\n",
      "False\n",
      "AoLP time:  0.03997683525085449 s\n"
     ]
    },
    {
     "name": "stderr",
     "output_type": "stream",
     "text": [
      "\n",
      " 83%|████████████████████████████████████████████████████████████████▍             | 186/225 [1:14:31<15:33, 23.93s/it]"
     ]
    },
    {
     "name": "stdout",
     "output_type": "stream",
     "text": [
      "Processing data for material : WATER\n",
      "image_data shape is :  (2048, 2448)\n",
      "im90 shape is :  (1024, 1224)\n",
      "Stokes time:  0.026984691619873047 s\n",
      "im_stokes0 shape is :  (1024, 1224)\n",
      "DoLP time:  0.04697370529174805 s\n",
      "im_DOLP shape is :  (1024, 1224)\n",
      "Time for DOLP2Theta conversion is :  23.602498531341553 seconds\n",
      "False\n",
      "AoLP time:  0.03997802734375 s\n"
     ]
    },
    {
     "name": "stderr",
     "output_type": "stream",
     "text": [
      "\n",
      " 83%|████████████████████████████████████████████████████████████████▊             | 187/225 [1:14:55<15:13, 24.03s/it]"
     ]
    },
    {
     "name": "stdout",
     "output_type": "stream",
     "text": [
      "Processing data for material : WATER\n",
      "image_data shape is :  (2048, 2448)\n",
      "im90 shape is :  (1024, 1224)\n",
      "Stokes time:  0.0239865779876709 s\n",
      "im_stokes0 shape is :  (1024, 1224)\n",
      "DoLP time:  0.033980369567871094 s\n",
      "im_DOLP shape is :  (1024, 1224)\n",
      "Time for DOLP2Theta conversion is :  23.420602798461914 seconds\n",
      "False\n",
      "AoLP time:  0.040975093841552734 s\n"
     ]
    },
    {
     "name": "stderr",
     "output_type": "stream",
     "text": [
      "\n",
      " 84%|█████████████████████████████████████████████████████████████████▏            | 188/225 [1:15:19<14:49, 24.05s/it]"
     ]
    },
    {
     "name": "stdout",
     "output_type": "stream",
     "text": [
      "Processing data for material : WATER\n",
      "image_data shape is :  (2048, 2448)\n",
      "im90 shape is :  (1024, 1224)\n",
      "Stokes time:  0.024985551834106445 s\n",
      "im_stokes0 shape is :  (1024, 1224)\n",
      "DoLP time:  0.03497886657714844 s\n",
      "im_DOLP shape is :  (1024, 1224)\n",
      "Time for DOLP2Theta conversion is :  22.66105580329895 seconds\n",
      "False\n",
      "AoLP time:  0.04097461700439453 s\n"
     ]
    },
    {
     "name": "stderr",
     "output_type": "stream",
     "text": [
      "\n",
      " 84%|█████████████████████████████████████████████████████████████████▌            | 189/225 [1:15:43<14:18, 23.84s/it]"
     ]
    },
    {
     "name": "stdout",
     "output_type": "stream",
     "text": [
      "Processing data for material : WATER\n",
      "image_data shape is :  (2048, 2448)\n",
      "im90 shape is :  (1024, 1224)\n",
      "Stokes time:  0.0239865779876709 s\n",
      "im_stokes0 shape is :  (1024, 1224)\n",
      "DoLP time:  0.033980607986450195 s\n",
      "im_DOLP shape is :  (1024, 1224)\n",
      "Time for DOLP2Theta conversion is :  23.823375463485718 seconds\n",
      "False\n",
      "AoLP time:  0.04097628593444824 s\n"
     ]
    },
    {
     "name": "stderr",
     "output_type": "stream",
     "text": [
      "\n",
      " 84%|█████████████████████████████████████████████████████████████████▊            | 190/225 [1:16:07<14:00, 24.02s/it]"
     ]
    },
    {
     "name": "stdout",
     "output_type": "stream",
     "text": [
      "Processing data for material : WATER\n",
      "image_data shape is :  (2048, 2448)\n",
      "im90 shape is :  (1024, 1224)\n",
      "Stokes time:  0.02498650550842285 s\n",
      "im_stokes0 shape is :  (1024, 1224)\n",
      "DoLP time:  0.032980918884277344 s\n",
      "im_DOLP shape is :  (1024, 1224)\n",
      "Time for DOLP2Theta conversion is :  23.084796905517578 seconds\n",
      "False\n",
      "AoLP time:  0.047972679138183594 s\n"
     ]
    },
    {
     "name": "stderr",
     "output_type": "stream",
     "text": [
      "\n",
      " 85%|██████████████████████████████████████████████████████████████████▏           | 191/225 [1:16:31<13:33, 23.93s/it]"
     ]
    },
    {
     "name": "stdout",
     "output_type": "stream",
     "text": [
      "Processing data for material : WATER\n",
      "image_data shape is :  (2048, 2448)\n",
      "im90 shape is :  (1024, 1224)\n",
      "Stokes time:  0.025984525680541992 s\n",
      "im_stokes0 shape is :  (1024, 1224)\n",
      "DoLP time:  0.031982421875 s\n",
      "im_DOLP shape is :  (1024, 1224)\n",
      "Time for DOLP2Theta conversion is :  22.850948333740234 seconds\n",
      "False\n",
      "AoLP time:  0.03997659683227539 s\n"
     ]
    },
    {
     "name": "stderr",
     "output_type": "stream",
     "text": [
      "\n",
      " 85%|██████████████████████████████████████████████████████████████████▌           | 192/225 [1:16:54<13:05, 23.79s/it]"
     ]
    },
    {
     "name": "stdout",
     "output_type": "stream",
     "text": [
      "Processing data for material : WATER\n",
      "image_data shape is :  (2048, 2448)\n",
      "im90 shape is :  (1024, 1224)\n",
      "Stokes time:  0.02598404884338379 s\n",
      "im_stokes0 shape is :  (1024, 1224)\n",
      "DoLP time:  0.03498053550720215 s\n",
      "im_DOLP shape is :  (1024, 1224)\n",
      "Time for DOLP2Theta conversion is :  23.554545402526855 seconds\n",
      "False\n",
      "AoLP time:  0.043976545333862305 s\n"
     ]
    },
    {
     "name": "stderr",
     "output_type": "stream",
     "text": [
      "\n",
      " 86%|██████████████████████████████████████████████████████████████████▉           | 193/225 [1:17:19<12:45, 23.93s/it]"
     ]
    },
    {
     "name": "stdout",
     "output_type": "stream",
     "text": [
      "Processing data for material : WATER\n",
      "image_data shape is :  (2048, 2448)\n",
      "im90 shape is :  (1024, 1224)\n",
      "Stokes time:  0.027983665466308594 s\n",
      "im_stokes0 shape is :  (1024, 1224)\n",
      "DoLP time:  0.030982017517089844 s\n",
      "im_DOLP shape is :  (1024, 1224)\n",
      "Time for DOLP2Theta conversion is :  23.440611839294434 seconds\n",
      "False\n",
      "AoLP time:  0.043973684310913086 s\n"
     ]
    },
    {
     "name": "stderr",
     "output_type": "stream",
     "text": [
      "\n",
      " 86%|███████████████████████████████████████████████████████████████████▎          | 194/225 [1:17:43<12:23, 23.99s/it]"
     ]
    },
    {
     "name": "stdout",
     "output_type": "stream",
     "text": [
      "Processing data for material : WATER\n",
      "image_data shape is :  (2048, 2448)\n",
      "im90 shape is :  (1024, 1224)\n",
      "Stokes time:  0.026983976364135742 s\n",
      "im_stokes0 shape is :  (1024, 1224)\n",
      "DoLP time:  0.03597855567932129 s\n",
      "im_DOLP shape is :  (1024, 1224)\n",
      "Time for DOLP2Theta conversion is :  22.922890186309814 seconds\n",
      "False\n",
      "AoLP time:  0.04797053337097168 s\n"
     ]
    },
    {
     "name": "stderr",
     "output_type": "stream",
     "text": [
      "\n",
      " 87%|███████████████████████████████████████████████████████████████████▌          | 195/225 [1:18:06<11:55, 23.87s/it]"
     ]
    },
    {
     "name": "stdout",
     "output_type": "stream",
     "text": [
      "Processing data for material : WATER\n",
      "image_data shape is :  (2048, 2448)\n",
      "im90 shape is :  (1024, 1224)\n",
      "Stokes time:  0.023985862731933594 s\n",
      "im_stokes0 shape is :  (1024, 1224)\n",
      "DoLP time:  0.033980369567871094 s\n",
      "im_DOLP shape is :  (1024, 1224)\n",
      "Time for DOLP2Theta conversion is :  23.44460415840149 seconds\n",
      "False\n",
      "AoLP time:  0.04597306251525879 s\n"
     ]
    },
    {
     "name": "stderr",
     "output_type": "stream",
     "text": [
      "\n",
      " 87%|███████████████████████████████████████████████████████████████████▉          | 196/225 [1:18:30<11:34, 23.94s/it]"
     ]
    },
    {
     "name": "stdout",
     "output_type": "stream",
     "text": [
      "Processing data for material : WATER\n",
      "image_data shape is :  (2048, 2448)\n",
      "im90 shape is :  (1024, 1224)\n",
      "Stokes time:  0.027984142303466797 s\n",
      "im_stokes0 shape is :  (1024, 1224)\n",
      "DoLP time:  0.03597903251647949 s\n",
      "im_DOLP shape is :  (1024, 1224)\n",
      "Time for DOLP2Theta conversion is :  23.358640670776367 seconds\n",
      "False\n",
      "AoLP time:  0.04397296905517578 s\n"
     ]
    },
    {
     "name": "stderr",
     "output_type": "stream",
     "text": [
      "\n",
      " 88%|████████████████████████████████████████████████████████████████████▎         | 197/225 [1:18:54<11:11, 23.97s/it]"
     ]
    },
    {
     "name": "stdout",
     "output_type": "stream",
     "text": [
      "Processing data for material : WATER\n",
      "image_data shape is :  (2048, 2448)\n",
      "im90 shape is :  (1024, 1224)\n",
      "Stokes time:  0.023985862731933594 s\n",
      "im_stokes0 shape is :  (1024, 1224)\n",
      "DoLP time:  0.03297996520996094 s\n",
      "im_DOLP shape is :  (1024, 1224)\n",
      "Time for DOLP2Theta conversion is :  23.06980609893799 seconds\n",
      "False\n",
      "AoLP time:  0.04097485542297363 s\n"
     ]
    },
    {
     "name": "stderr",
     "output_type": "stream",
     "text": [
      "\n",
      " 88%|████████████████████████████████████████████████████████████████████▋         | 198/225 [1:19:18<10:45, 23.90s/it]"
     ]
    },
    {
     "name": "stdout",
     "output_type": "stream",
     "text": [
      "Processing data for material : WATER\n",
      "image_data shape is :  (2048, 2448)\n",
      "im90 shape is :  (1024, 1224)\n",
      "Stokes time:  0.02298712730407715 s\n",
      "im_stokes0 shape is :  (1024, 1224)\n",
      "DoLP time:  0.034979820251464844 s\n",
      "im_DOLP shape is :  (1024, 1224)\n",
      "Time for DOLP2Theta conversion is :  23.43059802055359 seconds\n",
      "False\n",
      "AoLP time:  0.04197430610656738 s\n"
     ]
    },
    {
     "name": "stderr",
     "output_type": "stream",
     "text": [
      "\n",
      " 88%|████████████████████████████████████████████████████████████████████▉         | 199/225 [1:19:42<10:22, 23.96s/it]"
     ]
    },
    {
     "name": "stdout",
     "output_type": "stream",
     "text": [
      "Processing data for material : WATER\n",
      "image_data shape is :  (2048, 2448)\n",
      "im90 shape is :  (1024, 1224)\n",
      "Stokes time:  0.025984525680541992 s\n",
      "im_stokes0 shape is :  (1024, 1224)\n",
      "DoLP time:  0.03697848320007324 s\n",
      "im_DOLP shape is :  (1024, 1224)\n",
      "Time for DOLP2Theta conversion is :  23.53254008293152 seconds\n",
      "False\n",
      "AoLP time:  0.04597306251525879 s\n"
     ]
    },
    {
     "name": "stderr",
     "output_type": "stream",
     "text": [
      "\n",
      " 89%|█████████████████████████████████████████████████████████████████████▎        | 200/225 [1:20:07<10:01, 24.05s/it]"
     ]
    },
    {
     "name": "stdout",
     "output_type": "stream",
     "text": [
      "Processing data for material : WATER\n",
      "image_data shape is :  (2048, 2448)\n",
      "im90 shape is :  (1024, 1224)\n",
      "Stokes time:  0.024985551834106445 s\n",
      "im_stokes0 shape is :  (1024, 1224)\n",
      "DoLP time:  0.032981157302856445 s\n",
      "im_DOLP shape is :  (1024, 1224)\n",
      "Time for DOLP2Theta conversion is :  23.29367733001709 seconds\n",
      "False\n",
      "AoLP time:  0.04497194290161133 s\n"
     ]
    },
    {
     "name": "stderr",
     "output_type": "stream",
     "text": [
      "\n",
      " 89%|█████████████████████████████████████████████████████████████████████▋        | 201/225 [1:20:31<09:36, 24.01s/it]"
     ]
    },
    {
     "name": "stdout",
     "output_type": "stream",
     "text": [
      "Processing data for material : WATER\n",
      "image_data shape is :  (2048, 2448)\n",
      "im90 shape is :  (1024, 1224)\n",
      "Stokes time:  0.025985002517700195 s\n",
      "im_stokes0 shape is :  (1024, 1224)\n",
      "DoLP time:  0.031981468200683594 s\n",
      "im_DOLP shape is :  (1024, 1224)\n",
      "Time for DOLP2Theta conversion is :  23.32266116142273 seconds\n",
      "False\n",
      "AoLP time:  0.03997540473937988 s\n"
     ]
    },
    {
     "name": "stderr",
     "output_type": "stream",
     "text": [
      "\n",
      " 90%|██████████████████████████████████████████████████████████████████████        | 202/225 [1:20:55<09:12, 24.02s/it]"
     ]
    },
    {
     "name": "stdout",
     "output_type": "stream",
     "text": [
      "Processing data for material : WATER\n",
      "image_data shape is :  (2048, 2448)\n",
      "im90 shape is :  (1024, 1224)\n",
      "Stokes time:  0.026983976364135742 s\n",
      "im_stokes0 shape is :  (1024, 1224)\n",
      "DoLP time:  0.037978410720825195 s\n",
      "im_DOLP shape is :  (1024, 1224)\n",
      "Time for DOLP2Theta conversion is :  24.12320303916931 seconds\n",
      "False\n",
      "AoLP time:  0.0399777889251709 s\n"
     ]
    },
    {
     "name": "stderr",
     "output_type": "stream",
     "text": [
      "\n",
      " 90%|██████████████████████████████████████████████████████████████████████▎       | 203/225 [1:21:19<08:53, 24.25s/it]"
     ]
    },
    {
     "name": "stdout",
     "output_type": "stream",
     "text": [
      "Processing data for material : WATER\n",
      "image_data shape is :  (2048, 2448)\n",
      "im90 shape is :  (1024, 1224)\n",
      "Stokes time:  0.025983095169067383 s\n",
      "im_stokes0 shape is :  (1024, 1224)\n",
      "DoLP time:  0.032981157302856445 s\n",
      "im_DOLP shape is :  (1024, 1224)\n",
      "Time for DOLP2Theta conversion is :  22.351232767105103 seconds\n",
      "False\n",
      "AoLP time:  0.03897833824157715 s\n"
     ]
    },
    {
     "name": "stderr",
     "output_type": "stream",
     "text": [
      "\n",
      " 91%|██████████████████████████████████████████████████████████████████████▋       | 204/225 [1:21:42<08:21, 23.88s/it]"
     ]
    },
    {
     "name": "stdout",
     "output_type": "stream",
     "text": [
      "Processing data for material : WATER\n",
      "image_data shape is :  (2048, 2448)\n",
      "im90 shape is :  (1024, 1224)\n",
      "Stokes time:  0.024984359741210938 s\n",
      "im_stokes0 shape is :  (1024, 1224)\n",
      "DoLP time:  0.03298211097717285 s\n",
      "im_DOLP shape is :  (1024, 1224)\n",
      "Time for DOLP2Theta conversion is :  23.887337923049927 seconds\n",
      "False\n",
      "AoLP time:  0.03897547721862793 s\n"
     ]
    },
    {
     "name": "stderr",
     "output_type": "stream",
     "text": [
      "\n",
      " 91%|███████████████████████████████████████████████████████████████████████       | 205/225 [1:22:07<08:01, 24.09s/it]"
     ]
    },
    {
     "name": "stdout",
     "output_type": "stream",
     "text": [
      "Processing data for material : WATER\n",
      "image_data shape is :  (2048, 2448)\n",
      "im90 shape is :  (1024, 1224)\n",
      "Stokes time:  0.02698373794555664 s\n",
      "im_stokes0 shape is :  (1024, 1224)\n",
      "DoLP time:  0.030982494354248047 s\n",
      "im_DOLP shape is :  (1024, 1224)\n",
      "Time for DOLP2Theta conversion is :  23.10878324508667 seconds\n",
      "False\n",
      "AoLP time:  0.04497337341308594 s\n"
     ]
    },
    {
     "name": "stderr",
     "output_type": "stream",
     "text": [
      "\n",
      " 92%|███████████████████████████████████████████████████████████████████████▍      | 206/225 [1:22:31<07:35, 23.99s/it]"
     ]
    },
    {
     "name": "stdout",
     "output_type": "stream",
     "text": [
      "Processing data for material : WATER\n",
      "image_data shape is :  (2048, 2448)\n",
      "im90 shape is :  (1024, 1224)\n",
      "Stokes time:  0.025985240936279297 s\n",
      "im_stokes0 shape is :  (1024, 1224)\n",
      "DoLP time:  0.036978960037231445 s\n",
      "im_DOLP shape is :  (1024, 1224)\n",
      "Time for DOLP2Theta conversion is :  23.322659730911255 seconds\n",
      "False\n",
      "AoLP time:  0.04397416114807129 s\n"
     ]
    },
    {
     "name": "stderr",
     "output_type": "stream",
     "text": [
      "\n",
      " 92%|███████████████████████████████████████████████████████████████████████▊      | 207/225 [1:22:55<07:11, 23.98s/it]"
     ]
    },
    {
     "name": "stdout",
     "output_type": "stream",
     "text": [
      "Processing data for material : WATER\n",
      "image_data shape is :  (2048, 2448)\n",
      "im90 shape is :  (1024, 1224)\n",
      "Stokes time:  0.026984691619873047 s\n",
      "im_stokes0 shape is :  (1024, 1224)\n",
      "DoLP time:  0.0339810848236084 s\n",
      "im_DOLP shape is :  (1024, 1224)\n",
      "Time for DOLP2Theta conversion is :  22.289252042770386 seconds\n",
      "False\n",
      "AoLP time:  0.03897571563720703 s\n"
     ]
    },
    {
     "name": "stderr",
     "output_type": "stream",
     "text": [
      "\n",
      " 92%|████████████████████████████████████████████████████████████████████████      | 208/225 [1:23:18<06:42, 23.68s/it]"
     ]
    },
    {
     "name": "stdout",
     "output_type": "stream",
     "text": [
      "Processing data for material : WATER\n",
      "image_data shape is :  (2048, 2448)\n",
      "im90 shape is :  (1024, 1224)\n",
      "Stokes time:  0.02698206901550293 s\n",
      "im_stokes0 shape is :  (1024, 1224)\n",
      "DoLP time:  0.038977861404418945 s\n",
      "im_DOLP shape is :  (1024, 1224)\n",
      "Time for DOLP2Theta conversion is :  23.493563413619995 seconds\n",
      "False\n",
      "AoLP time:  0.042977333068847656 s\n"
     ]
    },
    {
     "name": "stderr",
     "output_type": "stream",
     "text": [
      "\n",
      " 93%|████████████████████████████████████████████████████████████████████████▍     | 209/225 [1:23:42<06:21, 23.83s/it]"
     ]
    },
    {
     "name": "stdout",
     "output_type": "stream",
     "text": [
      "Processing data for material : WATER\n",
      "image_data shape is :  (2048, 2448)\n",
      "im90 shape is :  (1024, 1224)\n",
      "Stokes time:  0.024985790252685547 s\n",
      "im_stokes0 shape is :  (1024, 1224)\n",
      "DoLP time:  0.03397989273071289 s\n",
      "im_DOLP shape is :  (1024, 1224)\n",
      "Time for DOLP2Theta conversion is :  23.57351779937744 seconds\n",
      "False\n",
      "AoLP time:  0.039975881576538086 s\n"
     ]
    },
    {
     "name": "stderr",
     "output_type": "stream",
     "text": [
      "\n",
      " 93%|████████████████████████████████████████████████████████████████████████▊     | 210/225 [1:24:06<05:59, 23.94s/it]"
     ]
    },
    {
     "name": "stdout",
     "output_type": "stream",
     "text": [
      "Processing data for material : WATER\n",
      "image_data shape is :  (2048, 2448)\n",
      "im90 shape is :  (1024, 1224)\n",
      "Stokes time:  0.025984525680541992 s\n",
      "im_stokes0 shape is :  (1024, 1224)\n",
      "DoLP time:  0.033980369567871094 s\n",
      "im_DOLP shape is :  (1024, 1224)\n",
      "Time for DOLP2Theta conversion is :  22.774974584579468 seconds\n",
      "False\n",
      "AoLP time:  0.043975114822387695 s\n"
     ]
    },
    {
     "name": "stderr",
     "output_type": "stream",
     "text": [
      "\n",
      " 94%|█████████████████████████████████████████████████████████████████████████▏    | 211/225 [1:24:29<05:32, 23.78s/it]"
     ]
    },
    {
     "name": "stdout",
     "output_type": "stream",
     "text": [
      "Processing data for material : WATER\n",
      "image_data shape is :  (2048, 2448)\n",
      "im90 shape is :  (1024, 1224)\n",
      "Stokes time:  0.024983882904052734 s\n",
      "im_stokes0 shape is :  (1024, 1224)\n",
      "DoLP time:  0.03298020362854004 s\n",
      "im_DOLP shape is :  (1024, 1224)\n",
      "Time for DOLP2Theta conversion is :  23.521564245224 seconds\n",
      "False\n",
      "AoLP time:  0.04197430610656738 s\n"
     ]
    },
    {
     "name": "stderr",
     "output_type": "stream",
     "text": [
      "\n",
      " 94%|█████████████████████████████████████████████████████████████████████████▍    | 212/225 [1:24:54<05:10, 23.89s/it]"
     ]
    },
    {
     "name": "stdout",
     "output_type": "stream",
     "text": [
      "Processing data for material : WATER\n",
      "image_data shape is :  (2048, 2448)\n",
      "im90 shape is :  (1024, 1224)\n",
      "Stokes time:  0.024988651275634766 s\n",
      "im_stokes0 shape is :  (1024, 1224)\n",
      "DoLP time:  0.03398013114929199 s\n",
      "im_DOLP shape is :  (1024, 1224)\n",
      "Time for DOLP2Theta conversion is :  23.04483699798584 seconds\n",
      "False\n",
      "AoLP time:  0.03997611999511719 s\n"
     ]
    },
    {
     "name": "stderr",
     "output_type": "stream",
     "text": [
      "\n",
      " 95%|█████████████████████████████████████████████████████████████████████████▊    | 213/225 [1:25:17<04:45, 23.83s/it]"
     ]
    },
    {
     "name": "stdout",
     "output_type": "stream",
     "text": [
      "Processing data for material : WATER\n",
      "image_data shape is :  (2048, 2448)\n",
      "im90 shape is :  (1024, 1224)\n",
      "Stokes time:  0.023985624313354492 s\n",
      "im_stokes0 shape is :  (1024, 1224)\n",
      "DoLP time:  0.03298068046569824 s\n",
      "im_DOLP shape is :  (1024, 1224)\n",
      "Time for DOLP2Theta conversion is :  23.67445993423462 seconds\n",
      "False\n",
      "AoLP time:  0.03997683525085449 s\n"
     ]
    },
    {
     "name": "stderr",
     "output_type": "stream",
     "text": [
      "\n",
      " 95%|██████████████████████████████████████████████████████████████████████████▏   | 214/225 [1:25:42<04:24, 24.00s/it]"
     ]
    },
    {
     "name": "stdout",
     "output_type": "stream",
     "text": [
      "Processing data for material : WATER\n",
      "image_data shape is :  (2048, 2448)\n",
      "im90 shape is :  (1024, 1224)\n",
      "Stokes time:  0.023986101150512695 s\n",
      "im_stokes0 shape is :  (1024, 1224)\n",
      "DoLP time:  0.034980058670043945 s\n",
      "im_DOLP shape is :  (1024, 1224)\n",
      "Time for DOLP2Theta conversion is :  23.65347170829773 seconds\n",
      "False\n",
      "AoLP time:  0.04097461700439453 s\n"
     ]
    },
    {
     "name": "stderr",
     "output_type": "stream",
     "text": [
      "\n",
      " 96%|██████████████████████████████████████████████████████████████████████████▌   | 215/225 [1:26:06<04:01, 24.11s/it]"
     ]
    },
    {
     "name": "stdout",
     "output_type": "stream",
     "text": [
      "Processing data for material : WATER\n",
      "image_data shape is :  (2048, 2448)\n",
      "im90 shape is :  (1024, 1224)\n",
      "Stokes time:  0.026984214782714844 s\n",
      "im_stokes0 shape is :  (1024, 1224)\n",
      "DoLP time:  0.03098130226135254 s\n",
      "im_DOLP shape is :  (1024, 1224)\n",
      "Time for DOLP2Theta conversion is :  23.397616386413574 seconds\n",
      "False\n",
      "AoLP time:  0.04497337341308594 s\n"
     ]
    },
    {
     "name": "stderr",
     "output_type": "stream",
     "text": [
      "\n",
      " 96%|██████████████████████████████████████████████████████████████████████████▉   | 216/225 [1:26:30<03:36, 24.09s/it]"
     ]
    },
    {
     "name": "stdout",
     "output_type": "stream",
     "text": [
      "Processing data for material : WATER\n",
      "image_data shape is :  (2048, 2448)\n",
      "im90 shape is :  (1024, 1224)\n",
      "Stokes time:  0.023985862731933594 s\n",
      "im_stokes0 shape is :  (1024, 1224)\n",
      "DoLP time:  0.03098273277282715 s\n",
      "im_DOLP shape is :  (1024, 1224)\n",
      "Time for DOLP2Theta conversion is :  23.316663026809692 seconds\n",
      "False\n",
      "AoLP time:  0.044974327087402344 s\n"
     ]
    },
    {
     "name": "stderr",
     "output_type": "stream",
     "text": [
      "\n",
      " 96%|███████████████████████████████████████████████████████████████████████████▏  | 217/225 [1:26:54<03:12, 24.05s/it]"
     ]
    },
    {
     "name": "stdout",
     "output_type": "stream",
     "text": [
      "Processing data for material : WATER\n",
      "image_data shape is :  (2048, 2448)\n",
      "im90 shape is :  (1024, 1224)\n",
      "Stokes time:  0.026984214782714844 s\n",
      "im_stokes0 shape is :  (1024, 1224)\n",
      "DoLP time:  0.03597879409790039 s\n",
      "im_DOLP shape is :  (1024, 1224)\n",
      "Time for DOLP2Theta conversion is :  21.708584785461426 seconds\n",
      "False\n",
      "AoLP time:  0.03996777534484863 s\n"
     ]
    },
    {
     "name": "stderr",
     "output_type": "stream",
     "text": [
      "\n",
      " 97%|███████████████████████████████████████████████████████████████████████████▌  | 218/225 [1:27:16<02:44, 23.54s/it]"
     ]
    },
    {
     "name": "stdout",
     "output_type": "stream",
     "text": [
      "Processing data for material : WATER\n",
      "image_data shape is :  (2048, 2448)\n",
      "im90 shape is :  (1024, 1224)\n",
      "Stokes time:  0.024983882904052734 s\n",
      "im_stokes0 shape is :  (1024, 1224)\n",
      "DoLP time:  0.035979270935058594 s\n",
      "im_DOLP shape is :  (1024, 1224)\n",
      "Time for DOLP2Theta conversion is :  23.59150743484497 seconds\n",
      "False\n",
      "AoLP time:  0.04097938537597656 s\n"
     ]
    },
    {
     "name": "stderr",
     "output_type": "stream",
     "text": [
      "\n",
      " 97%|███████████████████████████████████████████████████████████████████████████▉  | 219/225 [1:27:41<02:22, 23.77s/it]"
     ]
    },
    {
     "name": "stdout",
     "output_type": "stream",
     "text": [
      "Processing data for material : WATER\n",
      "image_data shape is :  (2048, 2448)\n",
      "im90 shape is :  (1024, 1224)\n",
      "Stokes time:  0.025986433029174805 s\n",
      "im_stokes0 shape is :  (1024, 1224)\n",
      "DoLP time:  0.03497815132141113 s\n",
      "im_DOLP shape is :  (1024, 1224)\n",
      "Time for DOLP2Theta conversion is :  23.24970316886902 seconds\n",
      "False\n",
      "AoLP time:  0.04097867012023926 s\n"
     ]
    },
    {
     "name": "stderr",
     "output_type": "stream",
     "text": [
      "\n",
      " 98%|████████████████████████████████████████████████████████████████████████████▎ | 220/225 [1:28:05<01:59, 23.81s/it]"
     ]
    },
    {
     "name": "stdout",
     "output_type": "stream",
     "text": [
      "Processing data for material : WATER\n",
      "image_data shape is :  (2048, 2448)\n",
      "im90 shape is :  (1024, 1224)\n",
      "Stokes time:  0.028983354568481445 s\n",
      "im_stokes0 shape is :  (1024, 1224)\n",
      "DoLP time:  0.034980058670043945 s\n",
      "im_DOLP shape is :  (1024, 1224)\n",
      "Time for DOLP2Theta conversion is :  23.43860697746277 seconds\n",
      "False\n",
      "AoLP time:  0.039975881576538086 s\n"
     ]
    },
    {
     "name": "stderr",
     "output_type": "stream",
     "text": [
      "\n",
      " 98%|████████████████████████████████████████████████████████████████████████████▌ | 221/225 [1:28:29<01:35, 23.90s/it]"
     ]
    },
    {
     "name": "stdout",
     "output_type": "stream",
     "text": [
      "Processing data for material : WATER\n",
      "image_data shape is :  (2048, 2448)\n",
      "im90 shape is :  (1024, 1224)\n",
      "Stokes time:  0.026984214782714844 s\n",
      "im_stokes0 shape is :  (1024, 1224)\n",
      "DoLP time:  0.032981157302856445 s\n",
      "im_DOLP shape is :  (1024, 1224)\n",
      "Time for DOLP2Theta conversion is :  23.929313898086548 seconds\n",
      "False\n",
      "AoLP time:  0.040976524353027344 s\n"
     ]
    },
    {
     "name": "stderr",
     "output_type": "stream",
     "text": [
      "\n",
      " 99%|████████████████████████████████████████████████████████████████████████████▉ | 222/225 [1:28:53<01:12, 24.16s/it]"
     ]
    },
    {
     "name": "stdout",
     "output_type": "stream",
     "text": [
      "Processing data for material : WATER\n",
      "image_data shape is :  (2048, 2448)\n",
      "im90 shape is :  (1024, 1224)\n",
      "Stokes time:  0.025983810424804688 s\n",
      "im_stokes0 shape is :  (1024, 1224)\n",
      "DoLP time:  0.031981468200683594 s\n",
      "im_DOLP shape is :  (1024, 1224)\n",
      "Time for DOLP2Theta conversion is :  23.09778881072998 seconds\n",
      "False\n",
      "AoLP time:  0.041974544525146484 s\n"
     ]
    },
    {
     "name": "stderr",
     "output_type": "stream",
     "text": [
      "\n",
      " 99%|█████████████████████████████████████████████████████████████████████████████▎| 223/225 [1:29:17<00:48, 24.03s/it]"
     ]
    },
    {
     "name": "stdout",
     "output_type": "stream",
     "text": [
      "Processing data for material : WATER\n",
      "image_data shape is :  (2048, 2448)\n",
      "im90 shape is :  (1024, 1224)\n",
      "Stokes time:  0.02498602867126465 s\n",
      "im_stokes0 shape is :  (1024, 1224)\n",
      "DoLP time:  0.034980058670043945 s\n",
      "im_DOLP shape is :  (1024, 1224)\n",
      "Time for DOLP2Theta conversion is :  23.58750891685486 seconds\n",
      "False\n",
      "AoLP time:  0.04397320747375488 s\n"
     ]
    },
    {
     "name": "stderr",
     "output_type": "stream",
     "text": [
      "\n",
      "100%|█████████████████████████████████████████████████████████████████████████████▋| 224/225 [1:29:41<00:24, 24.10s/it]"
     ]
    },
    {
     "name": "stdout",
     "output_type": "stream",
     "text": [
      "Processing data for material : WATER\n",
      "image_data shape is :  (2048, 2448)\n",
      "im90 shape is :  (1024, 1224)\n",
      "Stokes time:  0.023985862731933594 s\n",
      "im_stokes0 shape is :  (1024, 1224)\n",
      "DoLP time:  0.03597879409790039 s\n",
      "im_DOLP shape is :  (1024, 1224)\n",
      "Time for DOLP2Theta conversion is :  22.84993076324463 seconds\n",
      "False\n",
      "AoLP time:  0.03897738456726074 s\n"
     ]
    },
    {
     "name": "stderr",
     "output_type": "stream",
     "text": [
      "\n",
      "100%|██████████████████████████████████████████████████████████████████████████████| 225/225 [1:30:05<00:00, 23.92s/it]"
     ]
    },
    {
     "name": "stdout",
     "output_type": "stream",
     "text": [
      "time taken =  30.010998010635376\n"
     ]
    },
    {
     "name": "stderr",
     "output_type": "stream",
     "text": [
      " 25%|███████████████████▌                                                          | 1/4 [1:30:36<4:31:49, 5436.38s/it]\n",
      "  0%|                                                                                          | 0/225 [00:00<?, ?it/s]"
     ]
    },
    {
     "name": "stdout",
     "output_type": "stream",
     "text": [
      "Processing data for material : WATER\n",
      "image_data shape is :  (2048, 2448)\n",
      "im90 shape is :  (1024, 1224)\n",
      "Stokes time:  0.027985334396362305 s\n",
      "im_stokes0 shape is :  (1024, 1224)\n",
      "DoLP time:  0.038976192474365234 s\n",
      "im_DOLP shape is :  (1024, 1224)\n",
      "Time for DOLP2Theta conversion is :  21.53668212890625 seconds\n",
      "False\n",
      "AoLP time:  0.04297518730163574 s\n"
     ]
    },
    {
     "name": "stderr",
     "output_type": "stream",
     "text": [
      "\n",
      "  0%|▎                                                                               | 1/225 [00:24<1:33:15, 24.98s/it]"
     ]
    },
    {
     "name": "stdout",
     "output_type": "stream",
     "text": [
      "Processing data for material : WATER\n",
      "image_data shape is :  (2048, 2448)\n",
      "im90 shape is :  (1024, 1224)\n",
      "Stokes time:  0.024985551834106445 s\n",
      "im_stokes0 shape is :  (1024, 1224)\n",
      "DoLP time:  0.03298044204711914 s\n",
      "im_DOLP shape is :  (1024, 1224)\n",
      "Time for DOLP2Theta conversion is :  21.6935932636261 seconds\n",
      "False\n",
      "AoLP time:  0.05197000503540039 s\n"
     ]
    },
    {
     "name": "stderr",
     "output_type": "stream",
     "text": [
      "\n",
      "  1%|▋                                                                               | 2/225 [00:47<1:30:28, 24.34s/it]"
     ]
    },
    {
     "name": "stdout",
     "output_type": "stream",
     "text": [
      "Processing data for material : WATER\n",
      "image_data shape is :  (2048, 2448)\n",
      "im90 shape is :  (1024, 1224)\n",
      "Stokes time:  0.026984691619873047 s\n",
      "im_stokes0 shape is :  (1024, 1224)\n",
      "DoLP time:  0.032979726791381836 s\n",
      "im_DOLP shape is :  (1024, 1224)\n",
      "Time for DOLP2Theta conversion is :  21.451730012893677 seconds\n",
      "False\n",
      "AoLP time:  0.039977312088012695 s\n"
     ]
    },
    {
     "name": "stderr",
     "output_type": "stream",
     "text": [
      "\n",
      "  1%|█                                                                               | 3/225 [01:09<1:27:33, 23.66s/it]"
     ]
    },
    {
     "name": "stdout",
     "output_type": "stream",
     "text": [
      "Processing data for material : WATER\n",
      "image_data shape is :  (2048, 2448)\n",
      "im90 shape is :  (1024, 1224)\n",
      "Stokes time:  0.02698516845703125 s\n",
      "im_stokes0 shape is :  (1024, 1224)\n",
      "DoLP time:  0.03298234939575195 s\n",
      "im_DOLP shape is :  (1024, 1224)\n",
      "Time for DOLP2Theta conversion is :  22.109373807907104 seconds\n",
      "False\n",
      "AoLP time:  0.03997683525085449 s\n"
     ]
    },
    {
     "name": "stderr",
     "output_type": "stream",
     "text": [
      "\n",
      "  2%|█▍                                                                              | 4/225 [01:32<1:26:08, 23.39s/it]"
     ]
    },
    {
     "name": "stdout",
     "output_type": "stream",
     "text": [
      "Processing data for material : WATER\n",
      "image_data shape is :  (2048, 2448)\n",
      "im90 shape is :  (1024, 1224)\n",
      "Stokes time:  0.024985313415527344 s\n",
      "im_stokes0 shape is :  (1024, 1224)\n",
      "DoLP time:  0.03497934341430664 s\n",
      "im_DOLP shape is :  (1024, 1224)\n",
      "Time for DOLP2Theta conversion is :  21.698607921600342 seconds\n",
      "False\n",
      "AoLP time:  0.04197573661804199 s\n"
     ]
    },
    {
     "name": "stderr",
     "output_type": "stream",
     "text": [
      "\n",
      "  2%|█▊                                                                              | 5/225 [01:55<1:24:36, 23.07s/it]"
     ]
    },
    {
     "name": "stdout",
     "output_type": "stream",
     "text": [
      "Processing data for material : WATER\n",
      "image_data shape is :  (2048, 2448)\n",
      "im90 shape is :  (1024, 1224)\n",
      "Stokes time:  0.028983592987060547 s\n",
      "im_stokes0 shape is :  (1024, 1224)\n",
      "DoLP time:  0.03797769546508789 s\n",
      "im_DOLP shape is :  (1024, 1224)\n",
      "Time for DOLP2Theta conversion is :  21.470718145370483 seconds\n",
      "False\n",
      "AoLP time:  0.04397392272949219 s\n"
     ]
    },
    {
     "name": "stderr",
     "output_type": "stream",
     "text": [
      "\n",
      "  3%|██▏                                                                             | 6/225 [02:17<1:23:11, 22.79s/it]"
     ]
    },
    {
     "name": "stdout",
     "output_type": "stream",
     "text": [
      "Processing data for material : WATER\n",
      "image_data shape is :  (2048, 2448)\n",
      "im90 shape is :  (1024, 1224)\n",
      "Stokes time:  0.025984525680541992 s\n",
      "im_stokes0 shape is :  (1024, 1224)\n",
      "DoLP time:  0.03397989273071289 s\n",
      "im_DOLP shape is :  (1024, 1224)\n",
      "Time for DOLP2Theta conversion is :  21.598646879196167 seconds\n",
      "False\n",
      "AoLP time:  0.04297375679016113 s\n"
     ]
    },
    {
     "name": "stderr",
     "output_type": "stream",
     "text": [
      "\n",
      "  3%|██▍                                                                             | 7/225 [02:39<1:22:12, 22.63s/it]"
     ]
    },
    {
     "name": "stdout",
     "output_type": "stream",
     "text": [
      "Processing data for material : WATER\n",
      "image_data shape is :  (2048, 2448)\n",
      "im90 shape is :  (1024, 1224)\n",
      "Stokes time:  0.02598428726196289 s\n",
      "im_stokes0 shape is :  (1024, 1224)\n",
      "DoLP time:  0.031981706619262695 s\n",
      "im_DOLP shape is :  (1024, 1224)\n",
      "Time for DOLP2Theta conversion is :  21.668604612350464 seconds\n",
      "False\n",
      "AoLP time:  0.043973445892333984 s\n"
     ]
    },
    {
     "name": "stderr",
     "output_type": "stream",
     "text": [
      "\n",
      "  4%|██▊                                                                             | 8/225 [03:01<1:21:30, 22.53s/it]"
     ]
    },
    {
     "name": "stdout",
     "output_type": "stream",
     "text": [
      "Processing data for material : WATER\n",
      "image_data shape is :  (2048, 2448)\n",
      "im90 shape is :  (1024, 1224)\n",
      "Stokes time:  0.025984764099121094 s\n",
      "im_stokes0 shape is :  (1024, 1224)\n",
      "DoLP time:  0.0359807014465332 s\n",
      "im_DOLP shape is :  (1024, 1224)\n",
      "Time for DOLP2Theta conversion is :  21.832513332366943 seconds\n",
      "False\n",
      "AoLP time:  0.04197406768798828 s\n"
     ]
    },
    {
     "name": "stderr",
     "output_type": "stream",
     "text": [
      "\n",
      "  4%|███▏                                                                            | 9/225 [03:24<1:21:02, 22.51s/it]"
     ]
    },
    {
     "name": "stdout",
     "output_type": "stream",
     "text": [
      "Processing data for material : WATER\n",
      "image_data shape is :  (2048, 2448)\n",
      "im90 shape is :  (1024, 1224)\n",
      "Stokes time:  0.02798295021057129 s\n",
      "im_stokes0 shape is :  (1024, 1224)\n",
      "DoLP time:  0.035979270935058594 s\n",
      "im_DOLP shape is :  (1024, 1224)\n",
      "Time for DOLP2Theta conversion is :  21.832530736923218 seconds\n",
      "False\n",
      "AoLP time:  0.04297518730163574 s\n"
     ]
    },
    {
     "name": "stderr",
     "output_type": "stream",
     "text": [
      "\n",
      "  4%|███▌                                                                           | 10/225 [03:46<1:20:39, 22.51s/it]"
     ]
    },
    {
     "name": "stdout",
     "output_type": "stream",
     "text": [
      "Processing data for material : WATER\n",
      "image_data shape is :  (2048, 2448)\n",
      "im90 shape is :  (1024, 1224)\n",
      "Stokes time:  0.024985551834106445 s\n",
      "im_stokes0 shape is :  (1024, 1224)\n",
      "DoLP time:  0.031981468200683594 s\n",
      "im_DOLP shape is :  (1024, 1224)\n",
      "Time for DOLP2Theta conversion is :  21.54367733001709 seconds\n",
      "False\n",
      "AoLP time:  0.03997659683227539 s\n"
     ]
    },
    {
     "name": "stderr",
     "output_type": "stream",
     "text": [
      "\n",
      "  5%|███▊                                                                           | 11/225 [04:08<1:19:55, 22.41s/it]"
     ]
    },
    {
     "name": "stdout",
     "output_type": "stream",
     "text": [
      "Processing data for material : WATER\n",
      "image_data shape is :  (2048, 2448)\n",
      "im90 shape is :  (1024, 1224)\n",
      "Stokes time:  0.023981809616088867 s\n",
      "im_stokes0 shape is :  (1024, 1224)\n",
      "DoLP time:  0.03397941589355469 s\n",
      "im_DOLP shape is :  (1024, 1224)\n",
      "Time for DOLP2Theta conversion is :  21.728569984436035 seconds\n",
      "False\n",
      "AoLP time:  0.044974327087402344 s\n"
     ]
    },
    {
     "name": "stderr",
     "output_type": "stream",
     "text": [
      "\n",
      "  5%|████▏                                                                          | 12/225 [04:31<1:19:30, 22.40s/it]"
     ]
    },
    {
     "name": "stdout",
     "output_type": "stream",
     "text": [
      "Processing data for material : WATER\n",
      "image_data shape is :  (2048, 2448)\n",
      "im90 shape is :  (1024, 1224)\n",
      "Stokes time:  0.027983903884887695 s\n",
      "im_stokes0 shape is :  (1024, 1224)\n",
      "DoLP time:  0.036978721618652344 s\n",
      "im_DOLP shape is :  (1024, 1224)\n",
      "Time for DOLP2Theta conversion is :  22.25127339363098 seconds\n",
      "False\n",
      "AoLP time:  0.04097723960876465 s\n"
     ]
    },
    {
     "name": "stderr",
     "output_type": "stream",
     "text": [
      "\n",
      "  6%|████▌                                                                          | 13/225 [04:54<1:19:39, 22.54s/it]"
     ]
    },
    {
     "name": "stdout",
     "output_type": "stream",
     "text": [
      "Processing data for material : WATER\n",
      "image_data shape is :  (2048, 2448)\n",
      "im90 shape is :  (1024, 1224)\n",
      "Stokes time:  0.02998065948486328 s\n",
      "im_stokes0 shape is :  (1024, 1224)\n",
      "DoLP time:  0.05496811866760254 s\n",
      "im_DOLP shape is :  (1024, 1224)\n",
      "Time for DOLP2Theta conversion is :  21.84052586555481 seconds\n",
      "False\n",
      "AoLP time:  0.041975975036621094 s\n"
     ]
    },
    {
     "name": "stderr",
     "output_type": "stream",
     "text": [
      "\n",
      "  6%|████▉                                                                          | 14/225 [05:16<1:19:15, 22.54s/it]"
     ]
    },
    {
     "name": "stdout",
     "output_type": "stream",
     "text": [
      "Processing data for material : WATER\n",
      "image_data shape is :  (2048, 2448)\n",
      "im90 shape is :  (1024, 1224)\n",
      "Stokes time:  0.025985240936279297 s\n",
      "im_stokes0 shape is :  (1024, 1224)\n",
      "DoLP time:  0.035978078842163086 s\n",
      "im_DOLP shape is :  (1024, 1224)\n",
      "Time for DOLP2Theta conversion is :  21.47371792793274 seconds\n",
      "False\n",
      "AoLP time:  0.039977312088012695 s\n"
     ]
    },
    {
     "name": "stderr",
     "output_type": "stream",
     "text": [
      "\n",
      "  7%|█████▎                                                                         | 15/225 [05:38<1:18:24, 22.40s/it]"
     ]
    },
    {
     "name": "stdout",
     "output_type": "stream",
     "text": [
      "Processing data for material : WATER\n",
      "image_data shape is :  (2048, 2448)\n",
      "im90 shape is :  (1024, 1224)\n",
      "Stokes time:  0.024985313415527344 s\n",
      "im_stokes0 shape is :  (1024, 1224)\n",
      "DoLP time:  0.03897809982299805 s\n",
      "im_DOLP shape is :  (1024, 1224)\n",
      "Time for DOLP2Theta conversion is :  22.41817617416382 seconds\n",
      "False\n",
      "AoLP time:  0.0439753532409668 s\n"
     ]
    },
    {
     "name": "stderr",
     "output_type": "stream",
     "text": [
      "\n",
      "  7%|█████▌                                                                         | 16/225 [06:01<1:18:44, 22.60s/it]"
     ]
    },
    {
     "name": "stdout",
     "output_type": "stream",
     "text": [
      "Processing data for material : WATER\n",
      "image_data shape is :  (2048, 2448)\n",
      "im90 shape is :  (1024, 1224)\n",
      "Stokes time:  0.023986339569091797 s\n",
      "im_stokes0 shape is :  (1024, 1224)\n",
      "DoLP time:  0.037978172302246094 s\n",
      "im_DOLP shape is :  (1024, 1224)\n",
      "Time for DOLP2Theta conversion is :  22.591078519821167 seconds\n",
      "False\n",
      "AoLP time:  0.04197573661804199 s\n"
     ]
    },
    {
     "name": "stderr",
     "output_type": "stream",
     "text": [
      "\n",
      "  8%|█████▉                                                                         | 17/225 [06:25<1:19:03, 22.80s/it]"
     ]
    },
    {
     "name": "stdout",
     "output_type": "stream",
     "text": [
      "Processing data for material : WATER\n",
      "image_data shape is :  (2048, 2448)\n",
      "im90 shape is :  (1024, 1224)\n",
      "Stokes time:  0.02698493003845215 s\n",
      "im_stokes0 shape is :  (1024, 1224)\n",
      "DoLP time:  0.036978721618652344 s\n",
      "im_DOLP shape is :  (1024, 1224)\n",
      "Time for DOLP2Theta conversion is :  22.711009979248047 seconds\n",
      "False\n",
      "AoLP time:  0.04697299003601074 s\n"
     ]
    },
    {
     "name": "stderr",
     "output_type": "stream",
     "text": [
      "\n",
      "  8%|██████▎                                                                        | 18/225 [06:48<1:19:14, 22.97s/it]"
     ]
    },
    {
     "name": "stdout",
     "output_type": "stream",
     "text": [
      "Processing data for material : WATER\n",
      "image_data shape is :  (2048, 2448)\n",
      "im90 shape is :  (1024, 1224)\n",
      "Stokes time:  0.026983022689819336 s\n",
      "im_stokes0 shape is :  (1024, 1224)\n",
      "DoLP time:  0.039977073669433594 s\n",
      "im_DOLP shape is :  (1024, 1224)\n",
      "Time for DOLP2Theta conversion is :  22.63505530357361 seconds\n",
      "False\n",
      "AoLP time:  0.042975664138793945 s\n"
     ]
    },
    {
     "name": "stderr",
     "output_type": "stream",
     "text": [
      "\n",
      "  8%|██████▋                                                                        | 19/225 [07:11<1:19:13, 23.07s/it]"
     ]
    },
    {
     "name": "stdout",
     "output_type": "stream",
     "text": [
      "Processing data for material : WATER\n",
      "image_data shape is :  (2048, 2448)\n",
      "im90 shape is :  (1024, 1224)\n",
      "Stokes time:  0.02498602867126465 s\n",
      "im_stokes0 shape is :  (1024, 1224)\n",
      "DoLP time:  0.038977622985839844 s\n",
      "im_DOLP shape is :  (1024, 1224)\n",
      "Time for DOLP2Theta conversion is :  22.58609390258789 seconds\n",
      "False\n",
      "AoLP time:  0.04297447204589844 s\n"
     ]
    },
    {
     "name": "stderr",
     "output_type": "stream",
     "text": [
      "\n",
      "  9%|███████                                                                        | 20/225 [07:34<1:19:01, 23.13s/it]"
     ]
    },
    {
     "name": "stdout",
     "output_type": "stream",
     "text": [
      "Processing data for material : WATER\n",
      "image_data shape is :  (2048, 2448)\n",
      "im90 shape is :  (1024, 1224)\n",
      "Stokes time:  0.023986101150512695 s\n",
      "im_stokes0 shape is :  (1024, 1224)\n",
      "DoLP time:  0.034980058670043945 s\n",
      "im_DOLP shape is :  (1024, 1224)\n",
      "Time for DOLP2Theta conversion is :  22.65605139732361 seconds\n",
      "False\n",
      "AoLP time:  0.04197382926940918 s\n"
     ]
    },
    {
     "name": "stderr",
     "output_type": "stream",
     "text": [
      "\n",
      "  9%|███████▎                                                                       | 21/225 [07:58<1:18:49, 23.18s/it]"
     ]
    },
    {
     "name": "stdout",
     "output_type": "stream",
     "text": [
      "Processing data for material : WATER\n",
      "image_data shape is :  (2048, 2448)\n",
      "im90 shape is :  (1024, 1224)\n",
      "Stokes time:  0.025985002517700195 s\n",
      "im_stokes0 shape is :  (1024, 1224)\n",
      "DoLP time:  0.03897738456726074 s\n",
      "im_DOLP shape is :  (1024, 1224)\n",
      "Time for DOLP2Theta conversion is :  22.237290620803833 seconds\n",
      "False\n",
      "AoLP time:  0.04497480392456055 s\n"
     ]
    },
    {
     "name": "stderr",
     "output_type": "stream",
     "text": [
      "\n",
      " 10%|███████▋                                                                       | 22/225 [08:21<1:18:08, 23.10s/it]"
     ]
    },
    {
     "name": "stdout",
     "output_type": "stream",
     "text": [
      "Processing data for material : WATER\n",
      "image_data shape is :  (2048, 2448)\n",
      "im90 shape is :  (1024, 1224)\n",
      "Stokes time:  0.026985645294189453 s\n",
      "im_stokes0 shape is :  (1024, 1224)\n",
      "DoLP time:  0.0359799861907959 s\n",
      "im_DOLP shape is :  (1024, 1224)\n",
      "Time for DOLP2Theta conversion is :  22.467151165008545 seconds\n",
      "False\n",
      "AoLP time:  0.047972679138183594 s\n"
     ]
    },
    {
     "name": "stderr",
     "output_type": "stream",
     "text": [
      "\n",
      " 10%|████████                                                                       | 23/225 [08:44<1:17:48, 23.11s/it]"
     ]
    },
    {
     "name": "stdout",
     "output_type": "stream",
     "text": [
      "Processing data for material : WATER\n",
      "image_data shape is :  (2048, 2448)\n",
      "im90 shape is :  (1024, 1224)\n",
      "Stokes time:  0.023987770080566406 s\n",
      "im_stokes0 shape is :  (1024, 1224)\n",
      "DoLP time:  0.03497958183288574 s\n",
      "im_DOLP shape is :  (1024, 1224)\n",
      "Time for DOLP2Theta conversion is :  22.46117115020752 seconds\n",
      "False\n",
      "AoLP time:  0.04997134208679199 s\n"
     ]
    },
    {
     "name": "stderr",
     "output_type": "stream",
     "text": [
      "\n",
      " 11%|████████▍                                                                      | 24/225 [09:07<1:17:26, 23.12s/it]"
     ]
    },
    {
     "name": "stdout",
     "output_type": "stream",
     "text": [
      "Processing data for material : WATER\n",
      "image_data shape is :  (2048, 2448)\n",
      "im90 shape is :  (1024, 1224)\n",
      "Stokes time:  0.024985074996948242 s\n",
      "im_stokes0 shape is :  (1024, 1224)\n",
      "DoLP time:  0.038977622985839844 s\n",
      "im_DOLP shape is :  (1024, 1224)\n",
      "Time for DOLP2Theta conversion is :  22.465149641036987 seconds\n",
      "False\n",
      "AoLP time:  0.05097150802612305 s\n"
     ]
    },
    {
     "name": "stderr",
     "output_type": "stream",
     "text": [
      "\n",
      " 11%|████████▊                                                                      | 25/225 [09:30<1:17:02, 23.11s/it]"
     ]
    },
    {
     "name": "stdout",
     "output_type": "stream",
     "text": [
      "Processing data for material : WATER\n",
      "image_data shape is :  (2048, 2448)\n",
      "im90 shape is :  (1024, 1224)\n",
      "Stokes time:  0.025984525680541992 s\n",
      "im_stokes0 shape is :  (1024, 1224)\n",
      "DoLP time:  0.04097604751586914 s\n",
      "im_DOLP shape is :  (1024, 1224)\n",
      "Time for DOLP2Theta conversion is :  22.362228631973267 seconds\n",
      "False\n",
      "AoLP time:  0.04697299003601074 s\n"
     ]
    },
    {
     "name": "stderr",
     "output_type": "stream",
     "text": [
      "\n",
      " 12%|█████████▏                                                                     | 26/225 [09:53<1:16:34, 23.09s/it]"
     ]
    },
    {
     "name": "stdout",
     "output_type": "stream",
     "text": [
      "Processing data for material : WATER\n",
      "image_data shape is :  (2048, 2448)\n",
      "im90 shape is :  (1024, 1224)\n",
      "Stokes time:  0.02598428726196289 s\n",
      "im_stokes0 shape is :  (1024, 1224)\n",
      "DoLP time:  0.03797793388366699 s\n",
      "im_DOLP shape is :  (1024, 1224)\n",
      "Time for DOLP2Theta conversion is :  22.47516393661499 seconds\n",
      "False\n",
      "AoLP time:  0.04297494888305664 s\n"
     ]
    },
    {
     "name": "stderr",
     "output_type": "stream",
     "text": [
      "\n",
      " 12%|█████████▍                                                                     | 27/225 [10:16<1:16:13, 23.10s/it]"
     ]
    },
    {
     "name": "stdout",
     "output_type": "stream",
     "text": [
      "Processing data for material : WATER\n",
      "image_data shape is :  (2048, 2448)\n",
      "im90 shape is :  (1024, 1224)\n",
      "Stokes time:  0.023985862731933594 s\n",
      "im_stokes0 shape is :  (1024, 1224)\n",
      "DoLP time:  0.0379788875579834 s\n",
      "im_DOLP shape is :  (1024, 1224)\n",
      "Time for DOLP2Theta conversion is :  22.434168577194214 seconds\n",
      "False\n",
      "AoLP time:  0.04197525978088379 s\n"
     ]
    },
    {
     "name": "stderr",
     "output_type": "stream",
     "text": [
      "\n",
      " 12%|█████████▊                                                                     | 28/225 [10:39<1:15:51, 23.11s/it]"
     ]
    },
    {
     "name": "stdout",
     "output_type": "stream",
     "text": [
      "Processing data for material : WATER\n",
      "image_data shape is :  (2048, 2448)\n",
      "im90 shape is :  (1024, 1224)\n",
      "Stokes time:  0.027983665466308594 s\n",
      "im_stokes0 shape is :  (1024, 1224)\n",
      "DoLP time:  0.03498053550720215 s\n",
      "im_DOLP shape is :  (1024, 1224)\n",
      "Time for DOLP2Theta conversion is :  22.174315929412842 seconds\n",
      "False\n",
      "AoLP time:  0.04797029495239258 s\n"
     ]
    },
    {
     "name": "stderr",
     "output_type": "stream",
     "text": [
      "\n",
      " 13%|██████████▏                                                                    | 29/225 [11:02<1:15:13, 23.03s/it]"
     ]
    },
    {
     "name": "stdout",
     "output_type": "stream",
     "text": [
      "Processing data for material : WATER\n",
      "image_data shape is :  (2048, 2448)\n",
      "im90 shape is :  (1024, 1224)\n",
      "Stokes time:  0.02598428726196289 s\n",
      "im_stokes0 shape is :  (1024, 1224)\n",
      "DoLP time:  0.034979820251464844 s\n",
      "im_DOLP shape is :  (1024, 1224)\n",
      "Time for DOLP2Theta conversion is :  22.48015594482422 seconds\n",
      "False\n",
      "AoLP time:  0.04297661781311035 s\n"
     ]
    },
    {
     "name": "stderr",
     "output_type": "stream",
     "text": [
      "\n",
      " 13%|██████████▌                                                                    | 30/225 [11:25<1:14:57, 23.06s/it]"
     ]
    },
    {
     "name": "stdout",
     "output_type": "stream",
     "text": [
      "Processing data for material : WATER\n",
      "image_data shape is :  (2048, 2448)\n",
      "im90 shape is :  (1024, 1224)\n",
      "Stokes time:  0.027982234954833984 s\n",
      "im_stokes0 shape is :  (1024, 1224)\n",
      "DoLP time:  0.034980058670043945 s\n",
      "im_DOLP shape is :  (1024, 1224)\n",
      "Time for DOLP2Theta conversion is :  22.44916009902954 seconds\n",
      "False\n",
      "AoLP time:  0.03997683525085449 s\n"
     ]
    },
    {
     "name": "stderr",
     "output_type": "stream",
     "text": [
      "\n",
      " 14%|██████████▉                                                                    | 31/225 [11:48<1:14:36, 23.08s/it]"
     ]
    },
    {
     "name": "stdout",
     "output_type": "stream",
     "text": [
      "Processing data for material : WATER\n",
      "image_data shape is :  (2048, 2448)\n",
      "im90 shape is :  (1024, 1224)\n",
      "Stokes time:  0.024984359741210938 s\n",
      "im_stokes0 shape is :  (1024, 1224)\n",
      "DoLP time:  0.04097747802734375 s\n",
      "im_DOLP shape is :  (1024, 1224)\n",
      "Time for DOLP2Theta conversion is :  21.34880805015564 seconds\n",
      "False\n",
      "AoLP time:  0.04097628593444824 s\n"
     ]
    },
    {
     "name": "stderr",
     "output_type": "stream",
     "text": [
      "\n",
      " 14%|███████████▏                                                                   | 32/225 [12:10<1:13:09, 22.74s/it]"
     ]
    },
    {
     "name": "stdout",
     "output_type": "stream",
     "text": [
      "Processing data for material : WATER\n",
      "image_data shape is :  (2048, 2448)\n",
      "im90 shape is :  (1024, 1224)\n",
      "Stokes time:  0.02598404884338379 s\n",
      "im_stokes0 shape is :  (1024, 1224)\n",
      "DoLP time:  0.03498029708862305 s\n",
      "im_DOLP shape is :  (1024, 1224)\n",
      "Time for DOLP2Theta conversion is :  20.741136074066162 seconds\n",
      "False\n",
      "AoLP time:  0.04297494888305664 s\n"
     ]
    },
    {
     "name": "stderr",
     "output_type": "stream",
     "text": [
      "\n",
      " 15%|███████████▌                                                                   | 33/225 [12:32<1:11:27, 22.33s/it]"
     ]
    },
    {
     "name": "stdout",
     "output_type": "stream",
     "text": [
      "Processing data for material : WATER\n",
      "image_data shape is :  (2048, 2448)\n",
      "im90 shape is :  (1024, 1224)\n",
      "Stokes time:  0.025983095169067383 s\n",
      "im_stokes0 shape is :  (1024, 1224)\n",
      "DoLP time:  0.03298068046569824 s\n",
      "im_DOLP shape is :  (1024, 1224)\n",
      "Time for DOLP2Theta conversion is :  21.10392928123474 seconds\n",
      "False\n",
      "AoLP time:  0.04099535942077637 s\n"
     ]
    },
    {
     "name": "stderr",
     "output_type": "stream",
     "text": [
      "\n",
      " 15%|███████████▉                                                                   | 34/225 [12:53<1:10:30, 22.15s/it]"
     ]
    },
    {
     "name": "stdout",
     "output_type": "stream",
     "text": [
      "Processing data for material : WATER\n",
      "image_data shape is :  (2048, 2448)\n",
      "im90 shape is :  (1024, 1224)\n",
      "Stokes time:  0.026983976364135742 s\n",
      "im_stokes0 shape is :  (1024, 1224)\n",
      "DoLP time:  0.03597903251647949 s\n",
      "im_DOLP shape is :  (1024, 1224)\n",
      "Time for DOLP2Theta conversion is :  22.15032935142517 seconds\n",
      "False\n",
      "AoLP time:  0.04997134208679199 s\n"
     ]
    },
    {
     "name": "stderr",
     "output_type": "stream",
     "text": [
      "\n",
      " 16%|████████████▎                                                                  | 35/225 [13:16<1:10:44, 22.34s/it]"
     ]
    },
    {
     "name": "stdout",
     "output_type": "stream",
     "text": [
      "Processing data for material : WATER\n",
      "image_data shape is :  (2048, 2448)\n",
      "im90 shape is :  (1024, 1224)\n",
      "Stokes time:  0.0279843807220459 s\n",
      "im_stokes0 shape is :  (1024, 1224)\n",
      "DoLP time:  0.037978172302246094 s\n",
      "im_DOLP shape is :  (1024, 1224)\n",
      "Time for DOLP2Theta conversion is :  22.248274087905884 seconds\n",
      "False\n",
      "AoLP time:  0.0419774055480957 s\n"
     ]
    },
    {
     "name": "stderr",
     "output_type": "stream",
     "text": [
      "\n",
      " 16%|████████████▋                                                                  | 36/225 [13:39<1:10:53, 22.51s/it]"
     ]
    },
    {
     "name": "stdout",
     "output_type": "stream",
     "text": [
      "Processing data for material : WATER\n",
      "image_data shape is :  (2048, 2448)\n",
      "im90 shape is :  (1024, 1224)\n",
      "Stokes time:  0.026984453201293945 s\n",
      "im_stokes0 shape is :  (1024, 1224)\n",
      "DoLP time:  0.03797793388366699 s\n",
      "im_DOLP shape is :  (1024, 1224)\n",
      "Time for DOLP2Theta conversion is :  21.288836240768433 seconds\n",
      "False\n",
      "AoLP time:  0.042975425720214844 s\n"
     ]
    },
    {
     "name": "stderr",
     "output_type": "stream",
     "text": [
      "\n",
      " 16%|████████████▉                                                                  | 37/225 [14:01<1:09:58, 22.33s/it]"
     ]
    },
    {
     "name": "stdout",
     "output_type": "stream",
     "text": [
      "Processing data for material : WATER\n",
      "image_data shape is :  (2048, 2448)\n",
      "im90 shape is :  (1024, 1224)\n",
      "Stokes time:  0.02598428726196289 s\n",
      "im_stokes0 shape is :  (1024, 1224)\n",
      "DoLP time:  0.03497958183288574 s\n",
      "im_DOLP shape is :  (1024, 1224)\n",
      "Time for DOLP2Theta conversion is :  21.549673557281494 seconds\n",
      "False\n",
      "AoLP time:  0.041977643966674805 s\n"
     ]
    },
    {
     "name": "stderr",
     "output_type": "stream",
     "text": [
      "\n",
      " 17%|█████████████▎                                                                 | 38/225 [14:23<1:09:27, 22.29s/it]"
     ]
    },
    {
     "name": "stdout",
     "output_type": "stream",
     "text": [
      "Processing data for material : WATER\n",
      "image_data shape is :  (2048, 2448)\n",
      "im90 shape is :  (1024, 1224)\n",
      "Stokes time:  0.025985240936279297 s\n",
      "im_stokes0 shape is :  (1024, 1224)\n",
      "DoLP time:  0.03997683525085449 s\n",
      "im_DOLP shape is :  (1024, 1224)\n",
      "Time for DOLP2Theta conversion is :  21.219862937927246 seconds\n",
      "False\n",
      "AoLP time:  0.03997683525085449 s\n"
     ]
    },
    {
     "name": "stderr",
     "output_type": "stream",
     "text": [
      "\n",
      " 17%|█████████████▋                                                                 | 39/225 [14:45<1:08:42, 22.16s/it]"
     ]
    },
    {
     "name": "stdout",
     "output_type": "stream",
     "text": [
      "Processing data for material : WATER\n",
      "image_data shape is :  (2048, 2448)\n",
      "im90 shape is :  (1024, 1224)\n",
      "Stokes time:  0.02598404884338379 s\n",
      "im_stokes0 shape is :  (1024, 1224)\n",
      "DoLP time:  0.03597855567932129 s\n",
      "im_DOLP shape is :  (1024, 1224)\n",
      "Time for DOLP2Theta conversion is :  21.052957773208618 seconds\n",
      "False\n",
      "AoLP time:  0.042975425720214844 s\n"
     ]
    },
    {
     "name": "stderr",
     "output_type": "stream",
     "text": [
      "\n",
      " 18%|██████████████                                                                 | 40/225 [15:07<1:07:53, 22.02s/it]"
     ]
    },
    {
     "name": "stdout",
     "output_type": "stream",
     "text": [
      "Processing data for material : WATER\n",
      "image_data shape is :  (2048, 2448)\n",
      "im90 shape is :  (1024, 1224)\n",
      "Stokes time:  0.023985862731933594 s\n",
      "im_stokes0 shape is :  (1024, 1224)\n",
      "DoLP time:  0.037976980209350586 s\n",
      "im_DOLP shape is :  (1024, 1224)\n",
      "Time for DOLP2Theta conversion is :  21.514692783355713 seconds\n",
      "False\n",
      "AoLP time:  0.05296778678894043 s\n"
     ]
    },
    {
     "name": "stderr",
     "output_type": "stream",
     "text": [
      "\n",
      " 18%|██████████████▍                                                                | 41/225 [15:29<1:07:40, 22.07s/it]"
     ]
    },
    {
     "name": "stdout",
     "output_type": "stream",
     "text": [
      "Processing data for material : WATER\n",
      "image_data shape is :  (2048, 2448)\n",
      "im90 shape is :  (1024, 1224)\n",
      "Stokes time:  0.024986743927001953 s\n",
      "im_stokes0 shape is :  (1024, 1224)\n",
      "DoLP time:  0.03098273277282715 s\n",
      "im_DOLP shape is :  (1024, 1224)\n",
      "Time for DOLP2Theta conversion is :  21.209872484207153 seconds\n",
      "False\n",
      "AoLP time:  0.04297208786010742 s\n"
     ]
    },
    {
     "name": "stderr",
     "output_type": "stream",
     "text": [
      "\n",
      " 19%|██████████████▋                                                                | 42/225 [15:51<1:07:05, 22.00s/it]"
     ]
    },
    {
     "name": "stdout",
     "output_type": "stream",
     "text": [
      "Processing data for material : WATER\n",
      "image_data shape is :  (2048, 2448)\n",
      "im90 shape is :  (1024, 1224)\n",
      "Stokes time:  0.025983333587646484 s\n",
      "im_stokes0 shape is :  (1024, 1224)\n",
      "DoLP time:  0.03398013114929199 s\n",
      "im_DOLP shape is :  (1024, 1224)\n",
      "Time for DOLP2Theta conversion is :  21.774545907974243 seconds\n",
      "False\n",
      "AoLP time:  0.03997993469238281 s\n"
     ]
    },
    {
     "name": "stderr",
     "output_type": "stream",
     "text": [
      "\n",
      " 19%|███████████████                                                                | 43/225 [16:13<1:07:05, 22.12s/it]"
     ]
    },
    {
     "name": "stdout",
     "output_type": "stream",
     "text": [
      "Processing data for material : WATER\n",
      "image_data shape is :  (2048, 2448)\n",
      "im90 shape is :  (1024, 1224)\n",
      "Stokes time:  0.025984525680541992 s\n",
      "im_stokes0 shape is :  (1024, 1224)\n",
      "DoLP time:  0.0339808464050293 s\n",
      "im_DOLP shape is :  (1024, 1224)\n",
      "Time for DOLP2Theta conversion is :  21.252843379974365 seconds\n",
      "False\n",
      "AoLP time:  0.05097031593322754 s\n"
     ]
    },
    {
     "name": "stderr",
     "output_type": "stream",
     "text": [
      "\n",
      " 20%|███████████████▍                                                               | 44/225 [16:35<1:06:30, 22.05s/it]"
     ]
    },
    {
     "name": "stdout",
     "output_type": "stream",
     "text": [
      "Processing data for material : WATER\n",
      "image_data shape is :  (2048, 2448)\n",
      "im90 shape is :  (1024, 1224)\n",
      "Stokes time:  0.025984764099121094 s\n",
      "im_stokes0 shape is :  (1024, 1224)\n",
      "DoLP time:  0.03298068046569824 s\n",
      "im_DOLP shape is :  (1024, 1224)\n",
      "Time for DOLP2Theta conversion is :  21.42775583267212 seconds\n",
      "False\n",
      "AoLP time:  0.04697299003601074 s\n"
     ]
    },
    {
     "name": "stderr",
     "output_type": "stream",
     "text": [
      "\n",
      " 20%|███████████████▊                                                               | 45/225 [16:57<1:06:08, 22.05s/it]"
     ]
    },
    {
     "name": "stdout",
     "output_type": "stream",
     "text": [
      "Processing data for material : WATER\n",
      "image_data shape is :  (2048, 2448)\n",
      "im90 shape is :  (1024, 1224)\n",
      "Stokes time:  0.02498483657836914 s\n",
      "im_stokes0 shape is :  (1024, 1224)\n",
      "DoLP time:  0.03298211097717285 s\n",
      "im_DOLP shape is :  (1024, 1224)\n",
      "Time for DOLP2Theta conversion is :  21.280827522277832 seconds\n",
      "False\n",
      "AoLP time:  0.04097700119018555 s\n"
     ]
    },
    {
     "name": "stderr",
     "output_type": "stream",
     "text": [
      "\n",
      " 20%|████████████████▏                                                              | 46/225 [17:19<1:05:40, 22.01s/it]"
     ]
    },
    {
     "name": "stdout",
     "output_type": "stream",
     "text": [
      "Processing data for material : WATER\n",
      "image_data shape is :  (2048, 2448)\n",
      "im90 shape is :  (1024, 1224)\n",
      "Stokes time:  0.026984214782714844 s\n",
      "im_stokes0 shape is :  (1024, 1224)\n",
      "DoLP time:  0.034978628158569336 s\n",
      "im_DOLP shape is :  (1024, 1224)\n",
      "Time for DOLP2Theta conversion is :  21.33781409263611 seconds\n",
      "False\n",
      "AoLP time:  0.039977073669433594 s\n"
     ]
    },
    {
     "name": "stderr",
     "output_type": "stream",
     "text": [
      "\n",
      " 21%|████████████████▌                                                              | 47/225 [17:41<1:05:15, 22.00s/it]"
     ]
    },
    {
     "name": "stdout",
     "output_type": "stream",
     "text": [
      "Processing data for material : WATER\n",
      "image_data shape is :  (2048, 2448)\n",
      "im90 shape is :  (1024, 1224)\n",
      "Stokes time:  0.025983810424804688 s\n",
      "im_stokes0 shape is :  (1024, 1224)\n",
      "DoLP time:  0.03298139572143555 s\n",
      "im_DOLP shape is :  (1024, 1224)\n",
      "Time for DOLP2Theta conversion is :  21.698587894439697 seconds\n",
      "False\n",
      "AoLP time:  0.04097437858581543 s\n"
     ]
    },
    {
     "name": "stderr",
     "output_type": "stream",
     "text": [
      "\n",
      " 21%|████████████████▊                                                              | 48/225 [18:03<1:05:10, 22.09s/it]"
     ]
    },
    {
     "name": "stdout",
     "output_type": "stream",
     "text": [
      "Processing data for material : WATER\n",
      "image_data shape is :  (2048, 2448)\n",
      "im90 shape is :  (1024, 1224)\n",
      "Stokes time:  0.025986433029174805 s\n",
      "im_stokes0 shape is :  (1024, 1224)\n",
      "DoLP time:  0.03298187255859375 s\n",
      "im_DOLP shape is :  (1024, 1224)\n",
      "Time for DOLP2Theta conversion is :  21.380770444869995 seconds\n",
      "False\n",
      "AoLP time:  0.04197525978088379 s\n"
     ]
    },
    {
     "name": "stderr",
     "output_type": "stream",
     "text": [
      "\n",
      " 22%|█████████████████▏                                                             | 49/225 [18:25<1:04:44, 22.07s/it]"
     ]
    },
    {
     "name": "stdout",
     "output_type": "stream",
     "text": [
      "Processing data for material : WATER\n",
      "image_data shape is :  (2048, 2448)\n",
      "im90 shape is :  (1024, 1224)\n",
      "Stokes time:  0.025984525680541992 s\n",
      "im_stokes0 shape is :  (1024, 1224)\n",
      "DoLP time:  0.03597903251647949 s\n",
      "im_DOLP shape is :  (1024, 1224)\n",
      "Time for DOLP2Theta conversion is :  21.332799673080444 seconds\n",
      "False\n",
      "AoLP time:  0.05396914482116699 s\n"
     ]
    },
    {
     "name": "stderr",
     "output_type": "stream",
     "text": [
      "\n",
      " 22%|█████████████████▌                                                             | 50/225 [18:47<1:04:18, 22.05s/it]"
     ]
    },
    {
     "name": "stdout",
     "output_type": "stream",
     "text": [
      "Processing data for material : WATER\n",
      "image_data shape is :  (2048, 2448)\n",
      "im90 shape is :  (1024, 1224)\n",
      "Stokes time:  0.02498340606689453 s\n",
      "im_stokes0 shape is :  (1024, 1224)\n",
      "DoLP time:  0.035979509353637695 s\n",
      "im_DOLP shape is :  (1024, 1224)\n",
      "Time for DOLP2Theta conversion is :  21.99142289161682 seconds\n",
      "False\n",
      "AoLP time:  0.041975975036621094 s\n"
     ]
    },
    {
     "name": "stderr",
     "output_type": "stream",
     "text": [
      "\n",
      " 23%|█████████████████▉                                                             | 51/225 [19:10<1:04:26, 22.22s/it]"
     ]
    },
    {
     "name": "stdout",
     "output_type": "stream",
     "text": [
      "Processing data for material : WATER\n",
      "image_data shape is :  (2048, 2448)\n",
      "im90 shape is :  (1024, 1224)\n",
      "Stokes time:  0.027982711791992188 s\n",
      "im_stokes0 shape is :  (1024, 1224)\n",
      "DoLP time:  0.03497886657714844 s\n",
      "im_DOLP shape is :  (1024, 1224)\n",
      "Time for DOLP2Theta conversion is :  21.421761512756348 seconds\n",
      "False\n",
      "AoLP time:  0.04697227478027344 s\n"
     ]
    },
    {
     "name": "stderr",
     "output_type": "stream",
     "text": [
      "\n",
      " 23%|██████████████████▎                                                            | 52/225 [19:32<1:03:55, 22.17s/it]"
     ]
    },
    {
     "name": "stdout",
     "output_type": "stream",
     "text": [
      "Processing data for material : WATER\n",
      "image_data shape is :  (2048, 2448)\n",
      "im90 shape is :  (1024, 1224)\n",
      "Stokes time:  0.0259859561920166 s\n",
      "im_stokes0 shape is :  (1024, 1224)\n",
      "DoLP time:  0.03497815132141113 s\n",
      "im_DOLP shape is :  (1024, 1224)\n",
      "Time for DOLP2Theta conversion is :  21.230870723724365 seconds\n",
      "False\n",
      "AoLP time:  0.05096864700317383 s\n"
     ]
    },
    {
     "name": "stderr",
     "output_type": "stream",
     "text": [
      "\n",
      " 24%|██████████████████▌                                                            | 53/225 [19:54<1:03:18, 22.08s/it]"
     ]
    },
    {
     "name": "stdout",
     "output_type": "stream",
     "text": [
      "Processing data for material : WATER\n",
      "image_data shape is :  (2048, 2448)\n",
      "im90 shape is :  (1024, 1224)\n",
      "Stokes time:  0.027983427047729492 s\n",
      "im_stokes0 shape is :  (1024, 1224)\n",
      "DoLP time:  0.03497958183288574 s\n",
      "im_DOLP shape is :  (1024, 1224)\n",
      "Time for DOLP2Theta conversion is :  21.260838985443115 seconds\n",
      "False\n",
      "AoLP time:  0.04097700119018555 s\n"
     ]
    },
    {
     "name": "stderr",
     "output_type": "stream",
     "text": [
      "\n",
      " 24%|██████████████████▉                                                            | 54/225 [20:16<1:02:45, 22.02s/it]"
     ]
    },
    {
     "name": "stdout",
     "output_type": "stream",
     "text": [
      "Processing data for material : WATER\n",
      "image_data shape is :  (2048, 2448)\n",
      "im90 shape is :  (1024, 1224)\n",
      "Stokes time:  0.02698349952697754 s\n",
      "im_stokes0 shape is :  (1024, 1224)\n",
      "DoLP time:  0.03298020362854004 s\n",
      "im_DOLP shape is :  (1024, 1224)\n",
      "Time for DOLP2Theta conversion is :  20.925031900405884 seconds\n",
      "False\n",
      "AoLP time:  0.04097557067871094 s\n"
     ]
    },
    {
     "name": "stderr",
     "output_type": "stream",
     "text": [
      "\n",
      " 24%|███████████████████▎                                                           | 55/225 [20:37<1:01:59, 21.88s/it]"
     ]
    },
    {
     "name": "stdout",
     "output_type": "stream",
     "text": [
      "Processing data for material : WATER\n",
      "image_data shape is :  (2048, 2448)\n",
      "im90 shape is :  (1024, 1224)\n",
      "Stokes time:  0.024985790252685547 s\n",
      "im_stokes0 shape is :  (1024, 1224)\n",
      "DoLP time:  0.03298044204711914 s\n",
      "im_DOLP shape is :  (1024, 1224)\n",
      "Time for DOLP2Theta conversion is :  21.544707775115967 seconds\n",
      "False\n",
      "AoLP time:  0.04695415496826172 s\n"
     ]
    },
    {
     "name": "stderr",
     "output_type": "stream",
     "text": [
      "\n",
      " 25%|███████████████████▋                                                           | 56/225 [21:00<1:01:53, 21.97s/it]"
     ]
    },
    {
     "name": "stdout",
     "output_type": "stream",
     "text": [
      "Processing data for material : WATER\n",
      "image_data shape is :  (2048, 2448)\n",
      "im90 shape is :  (1024, 1224)\n",
      "Stokes time:  0.026983976364135742 s\n",
      "im_stokes0 shape is :  (1024, 1224)\n",
      "DoLP time:  0.03797769546508789 s\n",
      "im_DOLP shape is :  (1024, 1224)\n",
      "Time for DOLP2Theta conversion is :  21.52668809890747 seconds\n",
      "False\n",
      "AoLP time:  0.04097723960876465 s\n"
     ]
    },
    {
     "name": "stderr",
     "output_type": "stream",
     "text": [
      "\n",
      " 25%|████████████████████                                                           | 57/225 [21:22<1:01:40, 22.03s/it]"
     ]
    },
    {
     "name": "stdout",
     "output_type": "stream",
     "text": [
      "Processing data for material : WATER\n",
      "image_data shape is :  (2048, 2448)\n",
      "im90 shape is :  (1024, 1224)\n",
      "Stokes time:  0.027982234954833984 s\n",
      "im_stokes0 shape is :  (1024, 1224)\n",
      "DoLP time:  0.03597903251647949 s\n",
      "im_DOLP shape is :  (1024, 1224)\n",
      "Time for DOLP2Theta conversion is :  21.765547037124634 seconds\n",
      "False\n",
      "AoLP time:  0.04397439956665039 s\n"
     ]
    },
    {
     "name": "stderr",
     "output_type": "stream",
     "text": [
      "\n",
      " 26%|████████████████████▎                                                          | 58/225 [21:44<1:01:38, 22.15s/it]"
     ]
    },
    {
     "name": "stdout",
     "output_type": "stream",
     "text": [
      "Processing data for material : WATER\n",
      "image_data shape is :  (2048, 2448)\n",
      "im90 shape is :  (1024, 1224)\n",
      "Stokes time:  0.02698349952697754 s\n",
      "im_stokes0 shape is :  (1024, 1224)\n",
      "DoLP time:  0.0339808464050293 s\n",
      "im_DOLP shape is :  (1024, 1224)\n",
      "Time for DOLP2Theta conversion is :  21.0709490776062 seconds\n",
      "False\n",
      "AoLP time:  0.04097580909729004 s\n"
     ]
    },
    {
     "name": "stderr",
     "output_type": "stream",
     "text": [
      "\n",
      " 26%|████████████████████▋                                                          | 59/225 [22:06<1:00:54, 22.02s/it]"
     ]
    },
    {
     "name": "stdout",
     "output_type": "stream",
     "text": [
      "Processing data for material : WATER\n",
      "image_data shape is :  (2048, 2448)\n",
      "im90 shape is :  (1024, 1224)\n",
      "Stokes time:  0.026983976364135742 s\n",
      "im_stokes0 shape is :  (1024, 1224)\n",
      "DoLP time:  0.030981779098510742 s\n",
      "im_DOLP shape is :  (1024, 1224)\n",
      "Time for DOLP2Theta conversion is :  21.64663577079773 seconds\n",
      "False\n",
      "AoLP time:  0.0419764518737793 s\n"
     ]
    },
    {
     "name": "stderr",
     "output_type": "stream",
     "text": [
      "\n",
      " 27%|█████████████████████                                                          | 60/225 [22:28<1:00:46, 22.10s/it]"
     ]
    },
    {
     "name": "stdout",
     "output_type": "stream",
     "text": [
      "Processing data for material : WATER\n",
      "image_data shape is :  (2048, 2448)\n",
      "im90 shape is :  (1024, 1224)\n",
      "Stokes time:  0.024985790252685547 s\n",
      "im_stokes0 shape is :  (1024, 1224)\n",
      "DoLP time:  0.037978172302246094 s\n",
      "im_DOLP shape is :  (1024, 1224)\n",
      "Time for DOLP2Theta conversion is :  21.48870825767517 seconds\n",
      "False\n",
      "AoLP time:  0.04097485542297363 s\n"
     ]
    },
    {
     "name": "stderr",
     "output_type": "stream",
     "text": [
      "\n",
      " 27%|█████████████████████▍                                                         | 61/225 [22:50<1:00:26, 22.11s/it]"
     ]
    },
    {
     "name": "stdout",
     "output_type": "stream",
     "text": [
      "Processing data for material : WATER\n",
      "image_data shape is :  (2048, 2448)\n",
      "im90 shape is :  (1024, 1224)\n",
      "Stokes time:  0.0279843807220459 s\n",
      "im_stokes0 shape is :  (1024, 1224)\n",
      "DoLP time:  0.036978721618652344 s\n",
      "im_DOLP shape is :  (1024, 1224)\n",
      "Time for DOLP2Theta conversion is :  21.242849826812744 seconds\n",
      "False\n",
      "AoLP time:  0.04397463798522949 s\n"
     ]
    },
    {
     "name": "stderr",
     "output_type": "stream",
     "text": [
      "\n",
      " 28%|██████████████████████▎                                                          | 62/225 [23:12<59:53, 22.05s/it]"
     ]
    },
    {
     "name": "stdout",
     "output_type": "stream",
     "text": [
      "Processing data for material : WATER\n",
      "image_data shape is :  (2048, 2448)\n",
      "im90 shape is :  (1024, 1224)\n",
      "Stokes time:  0.026984214782714844 s\n",
      "im_stokes0 shape is :  (1024, 1224)\n",
      "DoLP time:  0.0319819450378418 s\n",
      "im_DOLP shape is :  (1024, 1224)\n",
      "Time for DOLP2Theta conversion is :  21.52168893814087 seconds\n",
      "False\n",
      "AoLP time:  0.04697251319885254 s\n"
     ]
    },
    {
     "name": "stderr",
     "output_type": "stream",
     "text": [
      "\n",
      " 28%|██████████████████████▋                                                          | 63/225 [23:34<59:36, 22.08s/it]"
     ]
    },
    {
     "name": "stdout",
     "output_type": "stream",
     "text": [
      "Processing data for material : WATER\n",
      "image_data shape is :  (2048, 2448)\n",
      "im90 shape is :  (1024, 1224)\n",
      "Stokes time:  0.025984764099121094 s\n",
      "im_stokes0 shape is :  (1024, 1224)\n",
      "DoLP time:  0.03198075294494629 s\n",
      "im_DOLP shape is :  (1024, 1224)\n",
      "Time for DOLP2Theta conversion is :  21.486729383468628 seconds\n",
      "False\n",
      "AoLP time:  0.04297518730163574 s\n"
     ]
    },
    {
     "name": "stderr",
     "output_type": "stream",
     "text": [
      "\n",
      " 28%|███████████████████████                                                          | 64/225 [23:56<59:16, 22.09s/it]"
     ]
    },
    {
     "name": "stdout",
     "output_type": "stream",
     "text": [
      "Processing data for material : WATER\n",
      "image_data shape is :  (2048, 2448)\n",
      "im90 shape is :  (1024, 1224)\n",
      "Stokes time:  0.02498459815979004 s\n",
      "im_stokes0 shape is :  (1024, 1224)\n",
      "DoLP time:  0.036978960037231445 s\n",
      "im_DOLP shape is :  (1024, 1224)\n",
      "Time for DOLP2Theta conversion is :  21.21288537979126 seconds\n",
      "False\n",
      "AoLP time:  0.04397296905517578 s\n"
     ]
    },
    {
     "name": "stderr",
     "output_type": "stream",
     "text": [
      "\n",
      " 29%|███████████████████████▍                                                         | 65/225 [24:18<58:42, 22.02s/it]"
     ]
    },
    {
     "name": "stdout",
     "output_type": "stream",
     "text": [
      "Processing data for material : WATER\n",
      "image_data shape is :  (2048, 2448)\n",
      "im90 shape is :  (1024, 1224)\n",
      "Stokes time:  0.025984525680541992 s\n",
      "im_stokes0 shape is :  (1024, 1224)\n",
      "DoLP time:  0.035979270935058594 s\n",
      "im_DOLP shape is :  (1024, 1224)\n",
      "Time for DOLP2Theta conversion is :  21.474735498428345 seconds\n",
      "False\n",
      "AoLP time:  0.03997492790222168 s\n"
     ]
    },
    {
     "name": "stderr",
     "output_type": "stream",
     "text": [
      "\n",
      " 29%|███████████████████████▊                                                         | 66/225 [24:40<58:25, 22.04s/it]"
     ]
    },
    {
     "name": "stdout",
     "output_type": "stream",
     "text": [
      "Processing data for material : WATER\n",
      "image_data shape is :  (2048, 2448)\n",
      "im90 shape is :  (1024, 1224)\n",
      "Stokes time:  0.026984453201293945 s\n",
      "im_stokes0 shape is :  (1024, 1224)\n",
      "DoLP time:  0.029982328414916992 s\n",
      "im_DOLP shape is :  (1024, 1224)\n",
      "Time for DOLP2Theta conversion is :  21.723573923110962 seconds\n",
      "False\n",
      "AoLP time:  0.04297494888305664 s\n"
     ]
    },
    {
     "name": "stderr",
     "output_type": "stream",
     "text": [
      "\n",
      " 30%|████████████████████████                                                         | 67/225 [25:03<58:18, 22.14s/it]"
     ]
    },
    {
     "name": "stdout",
     "output_type": "stream",
     "text": [
      "Processing data for material : WATER\n",
      "image_data shape is :  (2048, 2448)\n",
      "im90 shape is :  (1024, 1224)\n",
      "Stokes time:  0.023987293243408203 s\n",
      "im_stokes0 shape is :  (1024, 1224)\n",
      "DoLP time:  0.0319826602935791 s\n",
      "im_DOLP shape is :  (1024, 1224)\n",
      "Time for DOLP2Theta conversion is :  21.436757564544678 seconds\n",
      "False\n",
      "AoLP time:  0.042974233627319336 s\n"
     ]
    },
    {
     "name": "stderr",
     "output_type": "stream",
     "text": [
      "\n",
      " 30%|████████████████████████▍                                                        | 68/225 [25:25<57:53, 22.13s/it]"
     ]
    },
    {
     "name": "stdout",
     "output_type": "stream",
     "text": [
      "Processing data for material : WATER\n",
      "image_data shape is :  (2048, 2448)\n",
      "im90 shape is :  (1024, 1224)\n",
      "Stokes time:  0.02698493003845215 s\n",
      "im_stokes0 shape is :  (1024, 1224)\n",
      "DoLP time:  0.03497958183288574 s\n",
      "im_DOLP shape is :  (1024, 1224)\n",
      "Time for DOLP2Theta conversion is :  21.24084973335266 seconds\n",
      "False\n",
      "AoLP time:  0.04197502136230469 s\n"
     ]
    },
    {
     "name": "stderr",
     "output_type": "stream",
     "text": [
      "\n",
      " 31%|████████████████████████▊                                                        | 69/225 [25:47<57:19, 22.05s/it]"
     ]
    },
    {
     "name": "stdout",
     "output_type": "stream",
     "text": [
      "Processing data for material : WATER\n",
      "image_data shape is :  (2048, 2448)\n",
      "im90 shape is :  (1024, 1224)\n",
      "Stokes time:  0.023986101150512695 s\n",
      "im_stokes0 shape is :  (1024, 1224)\n",
      "DoLP time:  0.03597903251647949 s\n",
      "im_DOLP shape is :  (1024, 1224)\n",
      "Time for DOLP2Theta conversion is :  21.510696411132812 seconds\n",
      "False\n",
      "AoLP time:  0.04097580909729004 s\n"
     ]
    },
    {
     "name": "stderr",
     "output_type": "stream",
     "text": [
      "\n",
      " 31%|█████████████████████████▏                                                       | 70/225 [26:09<57:01, 22.08s/it]"
     ]
    },
    {
     "name": "stdout",
     "output_type": "stream",
     "text": [
      "Processing data for material : WATER\n",
      "image_data shape is :  (2048, 2448)\n",
      "im90 shape is :  (1024, 1224)\n",
      "Stokes time:  0.02298712730407715 s\n",
      "im_stokes0 shape is :  (1024, 1224)\n",
      "DoLP time:  0.03098297119140625 s\n",
      "im_DOLP shape is :  (1024, 1224)\n",
      "Time for DOLP2Theta conversion is :  21.007004022598267 seconds\n",
      "False\n",
      "AoLP time:  0.04197430610656738 s\n"
     ]
    },
    {
     "name": "stderr",
     "output_type": "stream",
     "text": [
      "\n",
      " 32%|█████████████████████████▌                                                       | 71/225 [26:31<56:19, 21.95s/it]"
     ]
    },
    {
     "name": "stdout",
     "output_type": "stream",
     "text": [
      "Processing data for material : WATER\n",
      "image_data shape is :  (2048, 2448)\n",
      "im90 shape is :  (1024, 1224)\n",
      "Stokes time:  0.024985790252685547 s\n",
      "im_stokes0 shape is :  (1024, 1224)\n",
      "DoLP time:  0.036978721618652344 s\n",
      "im_DOLP shape is :  (1024, 1224)\n",
      "Time for DOLP2Theta conversion is :  21.63462734222412 seconds\n",
      "False\n",
      "AoLP time:  0.04497218132019043 s\n"
     ]
    },
    {
     "name": "stderr",
     "output_type": "stream",
     "text": [
      "\n",
      " 32%|█████████████████████████▉                                                       | 72/225 [26:53<56:14, 22.05s/it]"
     ]
    },
    {
     "name": "stdout",
     "output_type": "stream",
     "text": [
      "Processing data for material : WATER\n",
      "image_data shape is :  (2048, 2448)\n",
      "im90 shape is :  (1024, 1224)\n",
      "Stokes time:  0.0239865779876709 s\n",
      "im_stokes0 shape is :  (1024, 1224)\n",
      "DoLP time:  0.03298139572143555 s\n",
      "im_DOLP shape is :  (1024, 1224)\n",
      "Time for DOLP2Theta conversion is :  21.567663431167603 seconds\n",
      "False\n",
      "AoLP time:  0.040976762771606445 s\n"
     ]
    },
    {
     "name": "stderr",
     "output_type": "stream",
     "text": [
      "\n",
      " 32%|██████████████████████████▎                                                      | 73/225 [27:15<55:59, 22.10s/it]"
     ]
    },
    {
     "name": "stdout",
     "output_type": "stream",
     "text": [
      "Processing data for material : WATER\n",
      "image_data shape is :  (2048, 2448)\n",
      "im90 shape is :  (1024, 1224)\n",
      "Stokes time:  0.025984764099121094 s\n",
      "im_stokes0 shape is :  (1024, 1224)\n",
      "DoLP time:  0.03397965431213379 s\n",
      "im_DOLP shape is :  (1024, 1224)\n",
      "Time for DOLP2Theta conversion is :  21.088937520980835 seconds\n",
      "False\n",
      "AoLP time:  0.04297447204589844 s\n"
     ]
    },
    {
     "name": "stderr",
     "output_type": "stream",
     "text": [
      "\n",
      " 33%|██████████████████████████▋                                                      | 74/225 [27:37<55:19, 21.98s/it]"
     ]
    },
    {
     "name": "stdout",
     "output_type": "stream",
     "text": [
      "Processing data for material : WATER\n",
      "image_data shape is :  (2048, 2448)\n",
      "im90 shape is :  (1024, 1224)\n",
      "Stokes time:  0.0259854793548584 s\n",
      "im_stokes0 shape is :  (1024, 1224)\n",
      "DoLP time:  0.0359807014465332 s\n",
      "im_DOLP shape is :  (1024, 1224)\n",
      "Time for DOLP2Theta conversion is :  21.461723804473877 seconds\n",
      "False\n",
      "AoLP time:  0.04197573661804199 s\n"
     ]
    },
    {
     "name": "stderr",
     "output_type": "stream",
     "text": [
      "\n",
      " 33%|███████████████████████████                                                      | 75/225 [27:59<55:02, 22.02s/it]"
     ]
    },
    {
     "name": "stdout",
     "output_type": "stream",
     "text": [
      "Processing data for material : WATER\n",
      "image_data shape is :  (2048, 2448)\n",
      "im90 shape is :  (1024, 1224)\n",
      "Stokes time:  0.024985074996948242 s\n",
      "im_stokes0 shape is :  (1024, 1224)\n",
      "DoLP time:  0.034978628158569336 s\n",
      "im_DOLP shape is :  (1024, 1224)\n",
      "Time for DOLP2Theta conversion is :  21.62464928627014 seconds\n",
      "False\n",
      "AoLP time:  0.04097461700439453 s\n"
     ]
    },
    {
     "name": "stderr",
     "output_type": "stream",
     "text": [
      "\n",
      " 34%|███████████████████████████▎                                                     | 76/225 [28:21<54:51, 22.09s/it]"
     ]
    },
    {
     "name": "stdout",
     "output_type": "stream",
     "text": [
      "Processing data for material : WATER\n",
      "image_data shape is :  (2048, 2448)\n",
      "im90 shape is :  (1024, 1224)\n",
      "Stokes time:  0.024985313415527344 s\n",
      "im_stokes0 shape is :  (1024, 1224)\n",
      "DoLP time:  0.03597903251647949 s\n",
      "im_DOLP shape is :  (1024, 1224)\n",
      "Time for DOLP2Theta conversion is :  21.41277050971985 seconds\n",
      "False\n",
      "AoLP time:  0.04197549819946289 s\n"
     ]
    },
    {
     "name": "stderr",
     "output_type": "stream",
     "text": [
      "\n",
      " 34%|███████████████████████████▋                                                     | 77/225 [28:43<54:27, 22.08s/it]"
     ]
    },
    {
     "name": "stdout",
     "output_type": "stream",
     "text": [
      "Processing data for material : WATER\n",
      "image_data shape is :  (2048, 2448)\n",
      "im90 shape is :  (1024, 1224)\n",
      "Stokes time:  0.024985551834106445 s\n",
      "im_stokes0 shape is :  (1024, 1224)\n",
      "DoLP time:  0.03497958183288574 s\n",
      "im_DOLP shape is :  (1024, 1224)\n",
      "Time for DOLP2Theta conversion is :  21.076963424682617 seconds\n",
      "False\n",
      "AoLP time:  0.04697418212890625 s\n"
     ]
    },
    {
     "name": "stderr",
     "output_type": "stream",
     "text": [
      "\n",
      " 35%|████████████████████████████                                                     | 78/225 [29:05<53:49, 21.97s/it]"
     ]
    },
    {
     "name": "stdout",
     "output_type": "stream",
     "text": [
      "Processing data for material : WATER\n",
      "image_data shape is :  (2048, 2448)\n",
      "im90 shape is :  (1024, 1224)\n",
      "Stokes time:  0.0259859561920166 s\n",
      "im_stokes0 shape is :  (1024, 1224)\n",
      "DoLP time:  0.03298068046569824 s\n",
      "im_DOLP shape is :  (1024, 1224)\n",
      "Time for DOLP2Theta conversion is :  21.441734790802002 seconds\n",
      "False\n",
      "AoLP time:  0.04597282409667969 s\n"
     ]
    },
    {
     "name": "stderr",
     "output_type": "stream",
     "text": [
      "\n",
      " 35%|████████████████████████████▍                                                    | 79/225 [29:27<53:33, 22.01s/it]"
     ]
    },
    {
     "name": "stdout",
     "output_type": "stream",
     "text": [
      "Processing data for material : WATER\n",
      "image_data shape is :  (2048, 2448)\n",
      "im90 shape is :  (1024, 1224)\n",
      "Stokes time:  0.026984453201293945 s\n",
      "im_stokes0 shape is :  (1024, 1224)\n",
      "DoLP time:  0.03597855567932129 s\n",
      "im_DOLP shape is :  (1024, 1224)\n",
      "Time for DOLP2Theta conversion is :  21.73856496810913 seconds\n",
      "False\n",
      "AoLP time:  0.050969839096069336 s\n"
     ]
    },
    {
     "name": "stderr",
     "output_type": "stream",
     "text": [
      "\n",
      " 36%|████████████████████████████▊                                                    | 80/225 [29:49<53:28, 22.13s/it]"
     ]
    },
    {
     "name": "stdout",
     "output_type": "stream",
     "text": [
      "Processing data for material : WATER\n",
      "image_data shape is :  (2048, 2448)\n",
      "im90 shape is :  (1024, 1224)\n",
      "Stokes time:  0.023986339569091797 s\n",
      "im_stokes0 shape is :  (1024, 1224)\n",
      "DoLP time:  0.03298139572143555 s\n",
      "im_DOLP shape is :  (1024, 1224)\n",
      "Time for DOLP2Theta conversion is :  22.333226203918457 seconds\n",
      "False\n",
      "AoLP time:  0.03997635841369629 s\n"
     ]
    },
    {
     "name": "stderr",
     "output_type": "stream",
     "text": [
      "\n",
      " 36%|█████████████████████████████▏                                                   | 81/225 [30:12<53:42, 22.38s/it]"
     ]
    },
    {
     "name": "stdout",
     "output_type": "stream",
     "text": [
      "Processing data for material : WATER\n",
      "image_data shape is :  (2048, 2448)\n",
      "im90 shape is :  (1024, 1224)\n",
      "Stokes time:  0.034980058670043945 s\n",
      "im_stokes0 shape is :  (1024, 1224)\n",
      "DoLP time:  0.05796694755554199 s\n",
      "im_DOLP shape is :  (1024, 1224)\n",
      "Time for DOLP2Theta conversion is :  23.04881763458252 seconds\n",
      "False\n",
      "AoLP time:  0.04696941375732422 s\n"
     ]
    },
    {
     "name": "stderr",
     "output_type": "stream",
     "text": [
      "\n",
      " 36%|█████████████████████████████▌                                                   | 82/225 [30:36<54:18, 22.79s/it]"
     ]
    },
    {
     "name": "stdout",
     "output_type": "stream",
     "text": [
      "Processing data for material : WATER\n",
      "image_data shape is :  (2048, 2448)\n",
      "im90 shape is :  (1024, 1224)\n",
      "Stokes time:  0.024985313415527344 s\n",
      "im_stokes0 shape is :  (1024, 1224)\n",
      "DoLP time:  0.034980058670043945 s\n",
      "im_DOLP shape is :  (1024, 1224)\n",
      "Time for DOLP2Theta conversion is :  23.259695768356323 seconds\n",
      "False\n",
      "AoLP time:  0.040976524353027344 s\n"
     ]
    },
    {
     "name": "stderr",
     "output_type": "stream",
     "text": [
      "\n",
      " 37%|█████████████████████████████▉                                                   | 83/225 [31:00<54:44, 23.13s/it]"
     ]
    },
    {
     "name": "stdout",
     "output_type": "stream",
     "text": [
      "Processing data for material : WATER\n",
      "image_data shape is :  (2048, 2448)\n",
      "im90 shape is :  (1024, 1224)\n",
      "Stokes time:  0.025984764099121094 s\n",
      "im_stokes0 shape is :  (1024, 1224)\n",
      "DoLP time:  0.03897809982299805 s\n",
      "im_DOLP shape is :  (1024, 1224)\n",
      "Time for DOLP2Theta conversion is :  22.650044202804565 seconds\n",
      "False\n",
      "AoLP time:  0.057965993881225586 s\n"
     ]
    },
    {
     "name": "stderr",
     "output_type": "stream",
     "text": [
      "\n",
      " 37%|██████████████████████████████▏                                                  | 84/225 [31:23<54:29, 23.19s/it]"
     ]
    },
    {
     "name": "stdout",
     "output_type": "stream",
     "text": [
      "Processing data for material : WATER\n",
      "image_data shape is :  (2048, 2448)\n",
      "im90 shape is :  (1024, 1224)\n",
      "Stokes time:  0.031981468200683594 s\n",
      "im_stokes0 shape is :  (1024, 1224)\n",
      "DoLP time:  0.04797172546386719 s\n",
      "im_DOLP shape is :  (1024, 1224)\n",
      "Time for DOLP2Theta conversion is :  23.88133978843689 seconds\n",
      "False\n",
      "AoLP time:  0.03997683525085449 s\n"
     ]
    },
    {
     "name": "stderr",
     "output_type": "stream",
     "text": [
      "\n",
      " 38%|██████████████████████████████▌                                                  | 85/225 [31:48<55:05, 23.61s/it]"
     ]
    },
    {
     "name": "stdout",
     "output_type": "stream",
     "text": [
      "Processing data for material : WATER\n",
      "image_data shape is :  (2048, 2448)\n",
      "im90 shape is :  (1024, 1224)\n",
      "Stokes time:  0.024985790252685547 s\n",
      "im_stokes0 shape is :  (1024, 1224)\n",
      "DoLP time:  0.031980276107788086 s\n",
      "im_DOLP shape is :  (1024, 1224)\n",
      "Time for DOLP2Theta conversion is :  23.638479471206665 seconds\n",
      "False\n",
      "AoLP time:  0.046973228454589844 s\n"
     ]
    },
    {
     "name": "stderr",
     "output_type": "stream",
     "text": [
      "\n",
      " 38%|██████████████████████████████▉                                                  | 86/225 [32:12<55:08, 23.80s/it]"
     ]
    },
    {
     "name": "stdout",
     "output_type": "stream",
     "text": [
      "Processing data for material : WATER\n",
      "image_data shape is :  (2048, 2448)\n",
      "im90 shape is :  (1024, 1224)\n",
      "Stokes time:  0.026984691619873047 s\n",
      "im_stokes0 shape is :  (1024, 1224)\n",
      "DoLP time:  0.05097150802612305 s\n",
      "im_DOLP shape is :  (1024, 1224)\n",
      "Time for DOLP2Theta conversion is :  26.884624481201172 seconds\n",
      "False\n",
      "AoLP time:  0.045973777770996094 s\n"
     ]
    },
    {
     "name": "stderr",
     "output_type": "stream",
     "text": [
      "\n",
      " 39%|███████████████████████████████▎                                                 | 87/225 [32:40<57:20, 24.93s/it]"
     ]
    },
    {
     "name": "stdout",
     "output_type": "stream",
     "text": [
      "Processing data for material : WATER\n",
      "image_data shape is :  (2048, 2448)\n",
      "im90 shape is :  (1024, 1224)\n",
      "Stokes time:  0.025984764099121094 s\n",
      "im_stokes0 shape is :  (1024, 1224)\n",
      "DoLP time:  0.04697227478027344 s\n",
      "im_DOLP shape is :  (1024, 1224)\n",
      "Time for DOLP2Theta conversion is :  21.896475315093994 seconds\n",
      "False\n",
      "AoLP time:  0.04097580909729004 s\n"
     ]
    },
    {
     "name": "stderr",
     "output_type": "stream",
     "text": [
      "\n",
      " 39%|███████████████████████████████▋                                                 | 88/225 [33:02<55:16, 24.21s/it]"
     ]
    },
    {
     "name": "stdout",
     "output_type": "stream",
     "text": [
      "Processing data for material : WATER\n",
      "image_data shape is :  (2048, 2448)\n",
      "im90 shape is :  (1024, 1224)\n",
      "Stokes time:  0.023986339569091797 s\n",
      "im_stokes0 shape is :  (1024, 1224)\n",
      "DoLP time:  0.031981706619262695 s\n",
      "im_DOLP shape is :  (1024, 1224)\n",
      "Time for DOLP2Theta conversion is :  22.058383464813232 seconds\n",
      "False\n",
      "AoLP time:  0.05197024345397949 s\n"
     ]
    },
    {
     "name": "stderr",
     "output_type": "stream",
     "text": [
      "\n",
      " 40%|████████████████████████████████                                                 | 89/225 [33:25<53:51, 23.76s/it]"
     ]
    },
    {
     "name": "stdout",
     "output_type": "stream",
     "text": [
      "Processing data for material : WATER\n",
      "image_data shape is :  (2048, 2448)\n",
      "im90 shape is :  (1024, 1224)\n",
      "Stokes time:  0.026983261108398438 s\n",
      "im_stokes0 shape is :  (1024, 1224)\n",
      "DoLP time:  0.033980369567871094 s\n",
      "im_DOLP shape is :  (1024, 1224)\n",
      "Time for DOLP2Theta conversion is :  21.42576241493225 seconds\n",
      "False\n",
      "AoLP time:  0.04097390174865723 s\n"
     ]
    },
    {
     "name": "stderr",
     "output_type": "stream",
     "text": [
      "\n",
      " 40%|████████████████████████████████▍                                                | 90/225 [33:47<52:19, 23.26s/it]"
     ]
    },
    {
     "name": "stdout",
     "output_type": "stream",
     "text": [
      "Processing data for material : WATER\n",
      "image_data shape is :  (2048, 2448)\n",
      "im90 shape is :  (1024, 1224)\n",
      "Stokes time:  0.024985313415527344 s\n",
      "im_stokes0 shape is :  (1024, 1224)\n",
      "DoLP time:  0.035979270935058594 s\n",
      "im_DOLP shape is :  (1024, 1224)\n",
      "Time for DOLP2Theta conversion is :  21.527687788009644 seconds\n",
      "False\n",
      "AoLP time:  0.05197024345397949 s\n"
     ]
    },
    {
     "name": "stderr",
     "output_type": "stream",
     "text": [
      "\n",
      " 40%|████████████████████████████████▊                                                | 91/225 [34:09<51:14, 22.94s/it]"
     ]
    },
    {
     "name": "stdout",
     "output_type": "stream",
     "text": [
      "Processing data for material : WATER\n",
      "image_data shape is :  (2048, 2448)\n",
      "im90 shape is :  (1024, 1224)\n",
      "Stokes time:  0.024985551834106445 s\n",
      "im_stokes0 shape is :  (1024, 1224)\n",
      "DoLP time:  0.03298044204711914 s\n",
      "im_DOLP shape is :  (1024, 1224)\n",
      "Time for DOLP2Theta conversion is :  21.201873540878296 seconds\n",
      "False\n",
      "AoLP time:  0.05196976661682129 s\n"
     ]
    },
    {
     "name": "stderr",
     "output_type": "stream",
     "text": [
      "\n",
      " 41%|█████████████████████████████████                                                | 92/225 [34:31<50:07, 22.61s/it]"
     ]
    },
    {
     "name": "stdout",
     "output_type": "stream",
     "text": [
      "Processing data for material : WATER\n",
      "image_data shape is :  (2048, 2448)\n",
      "im90 shape is :  (1024, 1224)\n",
      "Stokes time:  0.0259854793548584 s\n",
      "im_stokes0 shape is :  (1024, 1224)\n",
      "DoLP time:  0.036977291107177734 s\n",
      "im_DOLP shape is :  (1024, 1224)\n",
      "Time for DOLP2Theta conversion is :  21.888479471206665 seconds\n",
      "False\n",
      "AoLP time:  0.05696702003479004 s\n"
     ]
    },
    {
     "name": "stderr",
     "output_type": "stream",
     "text": [
      "\n",
      " 41%|█████████████████████████████████▍                                               | 93/225 [34:54<49:42, 22.60s/it]"
     ]
    },
    {
     "name": "stdout",
     "output_type": "stream",
     "text": [
      "Processing data for material : WATER\n",
      "image_data shape is :  (2048, 2448)\n",
      "im90 shape is :  (1024, 1224)\n",
      "Stokes time:  0.024985313415527344 s\n",
      "im_stokes0 shape is :  (1024, 1224)\n",
      "DoLP time:  0.0339810848236084 s\n",
      "im_DOLP shape is :  (1024, 1224)\n",
      "Time for DOLP2Theta conversion is :  21.49172592163086 seconds\n",
      "False\n",
      "AoLP time:  0.04198145866394043 s\n"
     ]
    },
    {
     "name": "stderr",
     "output_type": "stream",
     "text": [
      "\n",
      " 42%|█████████████████████████████████▊                                               | 94/225 [35:16<49:02, 22.46s/it]"
     ]
    },
    {
     "name": "stdout",
     "output_type": "stream",
     "text": [
      "Processing data for material : WATER\n",
      "image_data shape is :  (2048, 2448)\n",
      "im90 shape is :  (1024, 1224)\n",
      "Stokes time:  0.0259857177734375 s\n",
      "im_stokes0 shape is :  (1024, 1224)\n",
      "DoLP time:  0.03697848320007324 s\n",
      "im_DOLP shape is :  (1024, 1224)\n",
      "Time for DOLP2Theta conversion is :  21.569664478302002 seconds\n",
      "False\n",
      "AoLP time:  0.04097867012023926 s\n"
     ]
    },
    {
     "name": "stderr",
     "output_type": "stream",
     "text": [
      "\n",
      " 42%|██████████████████████████████████▏                                              | 95/225 [35:38<48:29, 22.38s/it]"
     ]
    },
    {
     "name": "stdout",
     "output_type": "stream",
     "text": [
      "Processing data for material : WATER\n",
      "image_data shape is :  (2048, 2448)\n",
      "im90 shape is :  (1024, 1224)\n",
      "Stokes time:  0.02398514747619629 s\n",
      "im_stokes0 shape is :  (1024, 1224)\n",
      "DoLP time:  0.0339808464050293 s\n",
      "im_DOLP shape is :  (1024, 1224)\n",
      "Time for DOLP2Theta conversion is :  21.50671696662903 seconds\n",
      "False\n",
      "AoLP time:  0.046973228454589844 s\n"
     ]
    },
    {
     "name": "stderr",
     "output_type": "stream",
     "text": [
      "\n",
      " 43%|██████████████████████████████████▌                                              | 96/225 [36:00<47:58, 22.31s/it]"
     ]
    },
    {
     "name": "stdout",
     "output_type": "stream",
     "text": [
      "Processing data for material : WATER\n",
      "image_data shape is :  (2048, 2448)\n",
      "im90 shape is :  (1024, 1224)\n",
      "Stokes time:  0.023984193801879883 s\n",
      "im_stokes0 shape is :  (1024, 1224)\n",
      "DoLP time:  0.031983137130737305 s\n",
      "im_DOLP shape is :  (1024, 1224)\n",
      "Time for DOLP2Theta conversion is :  21.72359299659729 seconds\n",
      "False\n",
      "AoLP time:  0.043974876403808594 s\n"
     ]
    },
    {
     "name": "stderr",
     "output_type": "stream",
     "text": [
      "\n",
      " 43%|██████████████████████████████████▉                                              | 97/225 [36:23<47:37, 22.33s/it]"
     ]
    },
    {
     "name": "stdout",
     "output_type": "stream",
     "text": [
      "Processing data for material : WATER\n",
      "image_data shape is :  (2048, 2448)\n",
      "im90 shape is :  (1024, 1224)\n",
      "Stokes time:  0.02298569679260254 s\n",
      "im_stokes0 shape is :  (1024, 1224)\n",
      "DoLP time:  0.034979820251464844 s\n",
      "im_DOLP shape is :  (1024, 1224)\n",
      "Time for DOLP2Theta conversion is :  21.728570461273193 seconds\n",
      "False\n",
      "AoLP time:  0.044974327087402344 s\n"
     ]
    },
    {
     "name": "stderr",
     "output_type": "stream",
     "text": [
      "\n",
      " 44%|███████████████████████████████████▎                                             | 98/225 [36:45<47:16, 22.33s/it]"
     ]
    },
    {
     "name": "stdout",
     "output_type": "stream",
     "text": [
      "Processing data for material : WATER\n",
      "image_data shape is :  (2048, 2448)\n",
      "im90 shape is :  (1024, 1224)\n",
      "Stokes time:  0.02498769760131836 s\n",
      "im_stokes0 shape is :  (1024, 1224)\n",
      "DoLP time:  0.036977529525756836 s\n",
      "im_DOLP shape is :  (1024, 1224)\n",
      "Time for DOLP2Theta conversion is :  21.480712413787842 seconds\n",
      "False\n",
      "AoLP time:  0.0419764518737793 s\n"
     ]
    },
    {
     "name": "stderr",
     "output_type": "stream",
     "text": [
      "\n",
      " 44%|███████████████████████████████████▋                                             | 99/225 [37:07<46:44, 22.26s/it]"
     ]
    },
    {
     "name": "stdout",
     "output_type": "stream",
     "text": [
      "Processing data for material : WATER\n",
      "image_data shape is :  (2048, 2448)\n",
      "im90 shape is :  (1024, 1224)\n",
      "Stokes time:  0.025984764099121094 s\n",
      "im_stokes0 shape is :  (1024, 1224)\n",
      "DoLP time:  0.03298020362854004 s\n",
      "im_DOLP shape is :  (1024, 1224)\n",
      "Time for DOLP2Theta conversion is :  21.50070071220398 seconds\n",
      "False\n",
      "AoLP time:  0.04297590255737305 s\n"
     ]
    },
    {
     "name": "stderr",
     "output_type": "stream",
     "text": [
      "\n",
      " 44%|███████████████████████████████████▌                                            | 100/225 [37:29<46:17, 22.22s/it]"
     ]
    },
    {
     "name": "stdout",
     "output_type": "stream",
     "text": [
      "Processing data for material : WATER\n",
      "image_data shape is :  (2048, 2448)\n",
      "im90 shape is :  (1024, 1224)\n",
      "Stokes time:  0.0259854793548584 s\n",
      "im_stokes0 shape is :  (1024, 1224)\n",
      "DoLP time:  0.031981468200683594 s\n",
      "im_DOLP shape is :  (1024, 1224)\n",
      "Time for DOLP2Theta conversion is :  21.799530506134033 seconds\n",
      "False\n",
      "AoLP time:  0.05596780776977539 s\n"
     ]
    },
    {
     "name": "stderr",
     "output_type": "stream",
     "text": [
      "\n",
      " 45%|███████████████████████████████████▉                                            | 101/225 [37:52<46:05, 22.30s/it]"
     ]
    },
    {
     "name": "stdout",
     "output_type": "stream",
     "text": [
      "Processing data for material : WATER\n",
      "image_data shape is :  (2048, 2448)\n",
      "im90 shape is :  (1024, 1224)\n",
      "Stokes time:  0.025985240936279297 s\n",
      "im_stokes0 shape is :  (1024, 1224)\n",
      "DoLP time:  0.03997635841369629 s\n",
      "im_DOLP shape is :  (1024, 1224)\n",
      "Time for DOLP2Theta conversion is :  21.498722076416016 seconds\n",
      "False\n",
      "AoLP time:  0.04097390174865723 s\n"
     ]
    },
    {
     "name": "stderr",
     "output_type": "stream",
     "text": [
      "\n",
      " 45%|████████████████████████████████████▎                                           | 102/225 [38:14<45:36, 22.25s/it]"
     ]
    },
    {
     "name": "stdout",
     "output_type": "stream",
     "text": [
      "Processing data for material : WATER\n",
      "image_data shape is :  (2048, 2448)\n",
      "im90 shape is :  (1024, 1224)\n",
      "Stokes time:  0.026984214782714844 s\n",
      "im_stokes0 shape is :  (1024, 1224)\n",
      "DoLP time:  0.0339815616607666 s\n",
      "im_DOLP shape is :  (1024, 1224)\n",
      "Time for DOLP2Theta conversion is :  21.095932722091675 seconds\n",
      "False\n",
      "AoLP time:  0.04297590255737305 s\n"
     ]
    },
    {
     "name": "stderr",
     "output_type": "stream",
     "text": [
      "\n",
      " 46%|████████████████████████████████████▌                                           | 103/225 [38:35<44:55, 22.10s/it]"
     ]
    },
    {
     "name": "stdout",
     "output_type": "stream",
     "text": [
      "Processing data for material : WATER\n",
      "image_data shape is :  (2048, 2448)\n",
      "im90 shape is :  (1024, 1224)\n",
      "Stokes time:  0.024985313415527344 s\n",
      "im_stokes0 shape is :  (1024, 1224)\n",
      "DoLP time:  0.031981468200683594 s\n",
      "im_DOLP shape is :  (1024, 1224)\n",
      "Time for DOLP2Theta conversion is :  21.051958799362183 seconds\n",
      "False\n",
      "AoLP time:  0.04297447204589844 s\n"
     ]
    },
    {
     "name": "stderr",
     "output_type": "stream",
     "text": [
      "\n",
      " 46%|████████████████████████████████████▉                                           | 104/225 [38:57<44:18, 21.97s/it]"
     ]
    },
    {
     "name": "stdout",
     "output_type": "stream",
     "text": [
      "Processing data for material : WATER\n",
      "image_data shape is :  (2048, 2448)\n",
      "im90 shape is :  (1024, 1224)\n",
      "Stokes time:  0.02698493003845215 s\n",
      "im_stokes0 shape is :  (1024, 1224)\n",
      "DoLP time:  0.035979509353637695 s\n",
      "im_DOLP shape is :  (1024, 1224)\n",
      "Time for DOLP2Theta conversion is :  21.44875168800354 seconds\n",
      "False\n",
      "AoLP time:  0.04297471046447754 s\n"
     ]
    },
    {
     "name": "stderr",
     "output_type": "stream",
     "text": [
      "\n",
      " 47%|█████████████████████████████████████▎                                          | 105/225 [39:19<44:00, 22.01s/it]"
     ]
    },
    {
     "name": "stdout",
     "output_type": "stream",
     "text": [
      "Processing data for material : WATER\n",
      "image_data shape is :  (2048, 2448)\n",
      "im90 shape is :  (1024, 1224)\n",
      "Stokes time:  0.02498626708984375 s\n",
      "im_stokes0 shape is :  (1024, 1224)\n",
      "DoLP time:  0.030982255935668945 s\n",
      "im_DOLP shape is :  (1024, 1224)\n",
      "Time for DOLP2Theta conversion is :  21.36277985572815 seconds\n",
      "False\n",
      "AoLP time:  0.03897666931152344 s\n"
     ]
    },
    {
     "name": "stderr",
     "output_type": "stream",
     "text": [
      "\n",
      " 47%|█████████████████████████████████████▋                                          | 106/225 [39:41<43:39, 22.01s/it]"
     ]
    },
    {
     "name": "stdout",
     "output_type": "stream",
     "text": [
      "Processing data for material : WATER\n",
      "image_data shape is :  (2048, 2448)\n",
      "im90 shape is :  (1024, 1224)\n",
      "Stokes time:  0.026982784271240234 s\n",
      "im_stokes0 shape is :  (1024, 1224)\n",
      "DoLP time:  0.03198099136352539 s\n",
      "im_DOLP shape is :  (1024, 1224)\n",
      "Time for DOLP2Theta conversion is :  21.454728841781616 seconds\n",
      "False\n",
      "AoLP time:  0.05496811866760254 s\n"
     ]
    },
    {
     "name": "stderr",
     "output_type": "stream",
     "text": [
      "\n",
      " 48%|██████████████████████████████████████                                          | 107/225 [40:03<43:20, 22.04s/it]"
     ]
    },
    {
     "name": "stdout",
     "output_type": "stream",
     "text": [
      "Processing data for material : WATER\n",
      "image_data shape is :  (2048, 2448)\n",
      "im90 shape is :  (1024, 1224)\n",
      "Stokes time:  0.023986101150512695 s\n",
      "im_stokes0 shape is :  (1024, 1224)\n",
      "DoLP time:  0.03498029708862305 s\n",
      "im_DOLP shape is :  (1024, 1224)\n",
      "Time for DOLP2Theta conversion is :  21.41974711418152 seconds\n",
      "False\n",
      "AoLP time:  0.04797196388244629 s\n"
     ]
    },
    {
     "name": "stderr",
     "output_type": "stream",
     "text": [
      "\n",
      " 48%|██████████████████████████████████████▍                                         | 108/225 [40:25<42:59, 22.05s/it]"
     ]
    },
    {
     "name": "stdout",
     "output_type": "stream",
     "text": [
      "Processing data for material : WATER\n",
      "image_data shape is :  (2048, 2448)\n",
      "im90 shape is :  (1024, 1224)\n",
      "Stokes time:  0.026983261108398438 s\n",
      "im_stokes0 shape is :  (1024, 1224)\n",
      "DoLP time:  0.03797793388366699 s\n",
      "im_DOLP shape is :  (1024, 1224)\n",
      "Time for DOLP2Theta conversion is :  21.22088050842285 seconds\n",
      "False\n",
      "AoLP time:  0.041975975036621094 s\n"
     ]
    },
    {
     "name": "stderr",
     "output_type": "stream",
     "text": [
      "\n",
      " 48%|██████████████████████████████████████▊                                         | 109/225 [40:47<42:31, 21.99s/it]"
     ]
    },
    {
     "name": "stdout",
     "output_type": "stream",
     "text": [
      "Processing data for material : WATER\n",
      "image_data shape is :  (2048, 2448)\n",
      "im90 shape is :  (1024, 1224)\n",
      "Stokes time:  0.027984142303466797 s\n",
      "im_stokes0 shape is :  (1024, 1224)\n",
      "DoLP time:  0.031981468200683594 s\n",
      "im_DOLP shape is :  (1024, 1224)\n",
      "Time for DOLP2Theta conversion is :  21.466720581054688 seconds\n",
      "False\n",
      "AoLP time:  0.04997062683105469 s\n"
     ]
    },
    {
     "name": "stderr",
     "output_type": "stream",
     "text": [
      "\n",
      " 49%|███████████████████████████████████████                                         | 110/225 [41:09<42:13, 22.03s/it]"
     ]
    },
    {
     "name": "stdout",
     "output_type": "stream",
     "text": [
      "Processing data for material : WATER\n",
      "image_data shape is :  (2048, 2448)\n",
      "im90 shape is :  (1024, 1224)\n",
      "Stokes time:  0.04497408866882324 s\n",
      "im_stokes0 shape is :  (1024, 1224)\n",
      "DoLP time:  0.04697251319885254 s\n",
      "im_DOLP shape is :  (1024, 1224)\n",
      "Time for DOLP2Theta conversion is :  21.311807870864868 seconds\n",
      "False\n",
      "AoLP time:  0.03997611999511719 s\n"
     ]
    },
    {
     "name": "stderr",
     "output_type": "stream",
     "text": [
      "\n",
      " 49%|███████████████████████████████████████▍                                        | 111/225 [41:31<41:49, 22.01s/it]"
     ]
    },
    {
     "name": "stdout",
     "output_type": "stream",
     "text": [
      "Processing data for material : WATER\n",
      "image_data shape is :  (2048, 2448)\n",
      "im90 shape is :  (1024, 1224)\n",
      "Stokes time:  0.02498650550842285 s\n",
      "im_stokes0 shape is :  (1024, 1224)\n",
      "DoLP time:  0.032980918884277344 s\n",
      "im_DOLP shape is :  (1024, 1224)\n",
      "Time for DOLP2Theta conversion is :  21.44273543357849 seconds\n",
      "False\n",
      "AoLP time:  0.039977073669433594 s\n"
     ]
    },
    {
     "name": "stderr",
     "output_type": "stream",
     "text": [
      "\n",
      " 50%|███████████████████████████████████████▊                                        | 112/225 [41:53<41:29, 22.03s/it]"
     ]
    },
    {
     "name": "stdout",
     "output_type": "stream",
     "text": [
      "Processing data for material : WATER\n",
      "image_data shape is :  (2048, 2448)\n",
      "im90 shape is :  (1024, 1224)\n",
      "Stokes time:  0.022986412048339844 s\n",
      "im_stokes0 shape is :  (1024, 1224)\n",
      "DoLP time:  0.03697824478149414 s\n",
      "im_DOLP shape is :  (1024, 1224)\n",
      "Time for DOLP2Theta conversion is :  21.62962770462036 seconds\n",
      "False\n",
      "AoLP time:  0.041974544525146484 s\n"
     ]
    },
    {
     "name": "stderr",
     "output_type": "stream",
     "text": [
      "\n",
      " 50%|████████████████████████████████████████▏                                       | 113/225 [42:16<41:15, 22.10s/it]"
     ]
    },
    {
     "name": "stdout",
     "output_type": "stream",
     "text": [
      "Processing data for material : WATER\n",
      "image_data shape is :  (2048, 2448)\n",
      "im90 shape is :  (1024, 1224)\n",
      "Stokes time:  0.023985862731933594 s\n",
      "im_stokes0 shape is :  (1024, 1224)\n",
      "DoLP time:  0.03397870063781738 s\n",
      "im_DOLP shape is :  (1024, 1224)\n",
      "Time for DOLP2Theta conversion is :  21.194896459579468 seconds\n",
      "False\n",
      "AoLP time:  0.03897714614868164 s\n"
     ]
    },
    {
     "name": "stderr",
     "output_type": "stream",
     "text": [
      "\n",
      " 51%|████████████████████████████████████████▌                                       | 114/225 [42:38<40:43, 22.02s/it]"
     ]
    },
    {
     "name": "stdout",
     "output_type": "stream",
     "text": [
      "Processing data for material : WATER\n",
      "image_data shape is :  (2048, 2448)\n",
      "im90 shape is :  (1024, 1224)\n",
      "Stokes time:  0.0259854793548584 s\n",
      "im_stokes0 shape is :  (1024, 1224)\n",
      "DoLP time:  0.03298139572143555 s\n",
      "im_DOLP shape is :  (1024, 1224)\n",
      "Time for DOLP2Theta conversion is :  21.13890790939331 seconds\n",
      "False\n",
      "AoLP time:  0.04697227478027344 s\n"
     ]
    },
    {
     "name": "stderr",
     "output_type": "stream",
     "text": [
      "\n",
      " 51%|████████████████████████████████████████▉                                       | 115/225 [42:59<40:14, 21.95s/it]"
     ]
    },
    {
     "name": "stdout",
     "output_type": "stream",
     "text": [
      "Processing data for material : WATER\n",
      "image_data shape is :  (2048, 2448)\n",
      "im90 shape is :  (1024, 1224)\n",
      "Stokes time:  0.025985002517700195 s\n",
      "im_stokes0 shape is :  (1024, 1224)\n",
      "DoLP time:  0.032981157302856445 s\n",
      "im_DOLP shape is :  (1024, 1224)\n",
      "Time for DOLP2Theta conversion is :  21.427762508392334 seconds\n",
      "False\n",
      "AoLP time:  0.039977312088012695 s\n"
     ]
    },
    {
     "name": "stderr",
     "output_type": "stream",
     "text": [
      "\n",
      " 52%|█████████████████████████████████████████▏                                      | 116/225 [43:21<39:55, 21.98s/it]"
     ]
    },
    {
     "name": "stdout",
     "output_type": "stream",
     "text": [
      "Processing data for material : WATER\n",
      "image_data shape is :  (2048, 2448)\n",
      "im90 shape is :  (1024, 1224)\n",
      "Stokes time:  0.023986101150512695 s\n",
      "im_stokes0 shape is :  (1024, 1224)\n",
      "DoLP time:  0.032981157302856445 s\n",
      "im_DOLP shape is :  (1024, 1224)\n",
      "Time for DOLP2Theta conversion is :  21.165913105010986 seconds\n",
      "False\n",
      "AoLP time:  0.049973487854003906 s\n"
     ]
    },
    {
     "name": "stderr",
     "output_type": "stream",
     "text": [
      "\n",
      " 52%|█████████████████████████████████████████▌                                      | 117/225 [43:43<39:28, 21.93s/it]"
     ]
    },
    {
     "name": "stdout",
     "output_type": "stream",
     "text": [
      "Processing data for material : WATER\n",
      "image_data shape is :  (2048, 2448)\n",
      "im90 shape is :  (1024, 1224)\n",
      "Stokes time:  0.025985002517700195 s\n",
      "im_stokes0 shape is :  (1024, 1224)\n",
      "DoLP time:  0.03697848320007324 s\n",
      "im_DOLP shape is :  (1024, 1224)\n",
      "Time for DOLP2Theta conversion is :  21.32280397415161 seconds\n",
      "False\n",
      "AoLP time:  0.04397416114807129 s\n"
     ]
    },
    {
     "name": "stderr",
     "output_type": "stream",
     "text": [
      "\n",
      " 52%|█████████████████████████████████████████▉                                      | 118/225 [44:05<39:07, 21.94s/it]"
     ]
    },
    {
     "name": "stdout",
     "output_type": "stream",
     "text": [
      "Processing data for material : WATER\n",
      "image_data shape is :  (2048, 2448)\n",
      "im90 shape is :  (1024, 1224)\n",
      "Stokes time:  0.02498483657836914 s\n",
      "im_stokes0 shape is :  (1024, 1224)\n",
      "DoLP time:  0.03398013114929199 s\n",
      "im_DOLP shape is :  (1024, 1224)\n",
      "Time for DOLP2Theta conversion is :  21.243866205215454 seconds\n",
      "False\n",
      "AoLP time:  0.041976213455200195 s\n"
     ]
    },
    {
     "name": "stderr",
     "output_type": "stream",
     "text": [
      "\n",
      " 53%|██████████████████████████████████████████▎                                     | 119/225 [44:27<38:43, 21.92s/it]"
     ]
    },
    {
     "name": "stdout",
     "output_type": "stream",
     "text": [
      "Processing data for material : WATER\n",
      "image_data shape is :  (2048, 2448)\n",
      "im90 shape is :  (1024, 1224)\n",
      "Stokes time:  0.02498650550842285 s\n",
      "im_stokes0 shape is :  (1024, 1224)\n",
      "DoLP time:  0.03198051452636719 s\n",
      "im_DOLP shape is :  (1024, 1224)\n",
      "Time for DOLP2Theta conversion is :  20.962010383605957 seconds\n",
      "False\n",
      "AoLP time:  0.04097557067871094 s\n"
     ]
    },
    {
     "name": "stderr",
     "output_type": "stream",
     "text": [
      "\n",
      " 53%|██████████████████████████████████████████▋                                     | 120/225 [44:49<38:10, 21.82s/it]"
     ]
    },
    {
     "name": "stdout",
     "output_type": "stream",
     "text": [
      "Processing data for material : WATER\n",
      "image_data shape is :  (2048, 2448)\n",
      "im90 shape is :  (1024, 1224)\n",
      "Stokes time:  0.025985002517700195 s\n",
      "im_stokes0 shape is :  (1024, 1224)\n",
      "DoLP time:  0.03298139572143555 s\n",
      "im_DOLP shape is :  (1024, 1224)\n",
      "Time for DOLP2Theta conversion is :  20.93404531478882 seconds\n",
      "False\n",
      "AoLP time:  0.04897189140319824 s\n"
     ]
    },
    {
     "name": "stderr",
     "output_type": "stream",
     "text": [
      "\n",
      " 54%|███████████████████████████████████████████                                     | 121/225 [45:10<37:41, 21.75s/it]"
     ]
    },
    {
     "name": "stdout",
     "output_type": "stream",
     "text": [
      "Processing data for material : WATER\n",
      "image_data shape is :  (2048, 2448)\n",
      "im90 shape is :  (1024, 1224)\n",
      "Stokes time:  0.027983427047729492 s\n",
      "im_stokes0 shape is :  (1024, 1224)\n",
      "DoLP time:  0.034980058670043945 s\n",
      "im_DOLP shape is :  (1024, 1224)\n",
      "Time for DOLP2Theta conversion is :  21.397762537002563 seconds\n",
      "False\n",
      "AoLP time:  0.041975975036621094 s\n"
     ]
    },
    {
     "name": "stderr",
     "output_type": "stream",
     "text": [
      "\n",
      " 54%|███████████████████████████████████████████▍                                    | 122/225 [45:32<37:28, 21.83s/it]"
     ]
    },
    {
     "name": "stdout",
     "output_type": "stream",
     "text": [
      "Processing data for material : WATER\n",
      "image_data shape is :  (2048, 2448)\n",
      "im90 shape is :  (1024, 1224)\n",
      "Stokes time:  0.0239865779876709 s\n",
      "im_stokes0 shape is :  (1024, 1224)\n",
      "DoLP time:  0.03198099136352539 s\n",
      "im_DOLP shape is :  (1024, 1224)\n",
      "Time for DOLP2Theta conversion is :  21.285826206207275 seconds\n",
      "False\n",
      "AoLP time:  0.03997683525085449 s\n"
     ]
    },
    {
     "name": "stderr",
     "output_type": "stream",
     "text": [
      "\n",
      " 55%|███████████████████████████████████████████▋                                    | 123/225 [45:54<37:09, 21.86s/it]"
     ]
    },
    {
     "name": "stdout",
     "output_type": "stream",
     "text": [
      "Processing data for material : WATER\n",
      "image_data shape is :  (2048, 2448)\n",
      "im90 shape is :  (1024, 1224)\n",
      "Stokes time:  0.02698493003845215 s\n",
      "im_stokes0 shape is :  (1024, 1224)\n",
      "DoLP time:  0.03697800636291504 s\n",
      "im_DOLP shape is :  (1024, 1224)\n",
      "Time for DOLP2Theta conversion is :  21.40875244140625 seconds\n",
      "False\n",
      "AoLP time:  0.04197573661804199 s\n"
     ]
    },
    {
     "name": "stderr",
     "output_type": "stream",
     "text": [
      "\n",
      " 55%|████████████████████████████████████████████                                    | 124/225 [46:16<36:53, 21.92s/it]"
     ]
    },
    {
     "name": "stdout",
     "output_type": "stream",
     "text": [
      "Processing data for material : WATER\n",
      "image_data shape is :  (2048, 2448)\n",
      "im90 shape is :  (1024, 1224)\n",
      "Stokes time:  0.0259854793548584 s\n",
      "im_stokes0 shape is :  (1024, 1224)\n",
      "DoLP time:  0.03697824478149414 s\n",
      "im_DOLP shape is :  (1024, 1224)\n",
      "Time for DOLP2Theta conversion is :  21.536681413650513 seconds\n",
      "False\n",
      "AoLP time:  0.04597306251525879 s\n"
     ]
    },
    {
     "name": "stderr",
     "output_type": "stream",
     "text": [
      "\n",
      " 56%|████████████████████████████████████████████▍                                   | 125/225 [46:38<36:38, 21.98s/it]"
     ]
    },
    {
     "name": "stdout",
     "output_type": "stream",
     "text": [
      "Processing data for material : WATER\n",
      "image_data shape is :  (2048, 2448)\n",
      "im90 shape is :  (1024, 1224)\n",
      "Stokes time:  0.026983022689819336 s\n",
      "im_stokes0 shape is :  (1024, 1224)\n",
      "DoLP time:  0.03597855567932129 s\n",
      "im_DOLP shape is :  (1024, 1224)\n",
      "Time for DOLP2Theta conversion is :  21.407768487930298 seconds\n",
      "False\n",
      "AoLP time:  0.04197573661804199 s\n"
     ]
    },
    {
     "name": "stderr",
     "output_type": "stream",
     "text": [
      "\n",
      " 56%|████████████████████████████████████████████▊                                   | 126/225 [47:00<36:18, 22.00s/it]"
     ]
    },
    {
     "name": "stdout",
     "output_type": "stream",
     "text": [
      "Processing data for material : WATER\n",
      "image_data shape is :  (2048, 2448)\n",
      "im90 shape is :  (1024, 1224)\n",
      "Stokes time:  0.0259854793548584 s\n",
      "im_stokes0 shape is :  (1024, 1224)\n",
      "DoLP time:  0.030981063842773438 s\n",
      "im_DOLP shape is :  (1024, 1224)\n",
      "Time for DOLP2Theta conversion is :  21.805546522140503 seconds\n",
      "False\n",
      "AoLP time:  0.04397463798522949 s\n"
     ]
    },
    {
     "name": "stderr",
     "output_type": "stream",
     "text": [
      "\n",
      " 56%|█████████████████████████████████████████████▏                                  | 127/225 [47:23<36:08, 22.13s/it]"
     ]
    },
    {
     "name": "stdout",
     "output_type": "stream",
     "text": [
      "Processing data for material : WATER\n",
      "image_data shape is :  (2048, 2448)\n",
      "im90 shape is :  (1024, 1224)\n",
      "Stokes time:  0.025984525680541992 s\n",
      "im_stokes0 shape is :  (1024, 1224)\n",
      "DoLP time:  0.038977861404418945 s\n",
      "im_DOLP shape is :  (1024, 1224)\n",
      "Time for DOLP2Theta conversion is :  21.185881853103638 seconds\n",
      "False\n",
      "AoLP time:  0.044975996017456055 s\n"
     ]
    },
    {
     "name": "stderr",
     "output_type": "stream",
     "text": [
      "\n",
      " 57%|█████████████████████████████████████████████▌                                  | 128/225 [47:45<35:37, 22.04s/it]"
     ]
    },
    {
     "name": "stdout",
     "output_type": "stream",
     "text": [
      "Processing data for material : WATER\n",
      "image_data shape is :  (2048, 2448)\n",
      "im90 shape is :  (1024, 1224)\n",
      "Stokes time:  0.025984764099121094 s\n",
      "im_stokes0 shape is :  (1024, 1224)\n",
      "DoLP time:  0.0319819450378418 s\n",
      "im_DOLP shape is :  (1024, 1224)\n",
      "Time for DOLP2Theta conversion is :  21.081941604614258 seconds\n",
      "False\n",
      "AoLP time:  0.04197430610656738 s\n"
     ]
    },
    {
     "name": "stderr",
     "output_type": "stream",
     "text": [
      "\n",
      " 57%|█████████████████████████████████████████████▊                                  | 129/225 [48:06<35:06, 21.94s/it]"
     ]
    },
    {
     "name": "stdout",
     "output_type": "stream",
     "text": [
      "Processing data for material : WATER\n",
      "image_data shape is :  (2048, 2448)\n",
      "im90 shape is :  (1024, 1224)\n",
      "Stokes time:  0.026983976364135742 s\n",
      "im_stokes0 shape is :  (1024, 1224)\n",
      "DoLP time:  0.033982038497924805 s\n",
      "im_DOLP shape is :  (1024, 1224)\n",
      "Time for DOLP2Theta conversion is :  21.655613660812378 seconds\n",
      "False\n",
      "AoLP time:  0.04097604751586914 s\n"
     ]
    },
    {
     "name": "stderr",
     "output_type": "stream",
     "text": [
      "\n",
      " 58%|██████████████████████████████████████████████▏                                 | 130/225 [48:29<34:54, 22.05s/it]"
     ]
    },
    {
     "name": "stdout",
     "output_type": "stream",
     "text": [
      "Processing data for material : WATER\n",
      "image_data shape is :  (2048, 2448)\n",
      "im90 shape is :  (1024, 1224)\n",
      "Stokes time:  0.026984453201293945 s\n",
      "im_stokes0 shape is :  (1024, 1224)\n",
      "DoLP time:  0.03697824478149414 s\n",
      "im_DOLP shape is :  (1024, 1224)\n",
      "Time for DOLP2Theta conversion is :  21.485729694366455 seconds\n",
      "False\n",
      "AoLP time:  0.04697251319885254 s\n"
     ]
    },
    {
     "name": "stderr",
     "output_type": "stream",
     "text": [
      "\n",
      " 58%|██████████████████████████████████████████████▌                                 | 131/225 [48:51<34:34, 22.06s/it]"
     ]
    },
    {
     "name": "stdout",
     "output_type": "stream",
     "text": [
      "Processing data for material : WATER\n",
      "image_data shape is :  (2048, 2448)\n",
      "im90 shape is :  (1024, 1224)\n",
      "Stokes time:  0.024985074996948242 s\n",
      "im_stokes0 shape is :  (1024, 1224)\n",
      "DoLP time:  0.03298187255859375 s\n",
      "im_DOLP shape is :  (1024, 1224)\n",
      "Time for DOLP2Theta conversion is :  21.538681745529175 seconds\n",
      "False\n",
      "AoLP time:  0.04097628593444824 s\n"
     ]
    },
    {
     "name": "stderr",
     "output_type": "stream",
     "text": [
      "\n",
      " 59%|██████████████████████████████████████████████▉                                 | 132/225 [49:13<34:15, 22.10s/it]"
     ]
    },
    {
     "name": "stdout",
     "output_type": "stream",
     "text": [
      "Processing data for material : WATER\n",
      "image_data shape is :  (2048, 2448)\n",
      "im90 shape is :  (1024, 1224)\n",
      "Stokes time:  0.022986650466918945 s\n",
      "im_stokes0 shape is :  (1024, 1224)\n",
      "DoLP time:  0.03298139572143555 s\n",
      "im_DOLP shape is :  (1024, 1224)\n",
      "Time for DOLP2Theta conversion is :  22.12034797668457 seconds\n",
      "False\n",
      "AoLP time:  0.05296969413757324 s\n"
     ]
    },
    {
     "name": "stderr",
     "output_type": "stream",
     "text": [
      "\n",
      " 59%|███████████████████████████████████████████████▎                                | 133/225 [49:36<34:11, 22.30s/it]"
     ]
    },
    {
     "name": "stdout",
     "output_type": "stream",
     "text": [
      "Processing data for material : WATER\n",
      "image_data shape is :  (2048, 2448)\n",
      "im90 shape is :  (1024, 1224)\n",
      "Stokes time:  0.024985551834106445 s\n",
      "im_stokes0 shape is :  (1024, 1224)\n",
      "DoLP time:  0.037978410720825195 s\n",
      "im_DOLP shape is :  (1024, 1224)\n",
      "Time for DOLP2Theta conversion is :  22.0174081325531 seconds\n",
      "False\n",
      "AoLP time:  0.0459752082824707 s\n"
     ]
    },
    {
     "name": "stderr",
     "output_type": "stream",
     "text": [
      "\n",
      " 60%|███████████████████████████████████████████████▋                                | 134/225 [49:58<33:59, 22.42s/it]"
     ]
    },
    {
     "name": "stdout",
     "output_type": "stream",
     "text": [
      "Processing data for material : WATER\n",
      "image_data shape is :  (2048, 2448)\n",
      "im90 shape is :  (1024, 1224)\n",
      "Stokes time:  0.027983427047729492 s\n",
      "im_stokes0 shape is :  (1024, 1224)\n",
      "DoLP time:  0.03298139572143555 s\n",
      "im_DOLP shape is :  (1024, 1224)\n",
      "Time for DOLP2Theta conversion is :  21.538699626922607 seconds\n",
      "False\n",
      "AoLP time:  0.03995800018310547 s\n"
     ]
    },
    {
     "name": "stderr",
     "output_type": "stream",
     "text": [
      "\n",
      " 60%|████████████████████████████████████████████████                                | 135/225 [50:21<33:30, 22.34s/it]"
     ]
    },
    {
     "name": "stdout",
     "output_type": "stream",
     "text": [
      "Processing data for material : WATER\n",
      "image_data shape is :  (2048, 2448)\n",
      "im90 shape is :  (1024, 1224)\n",
      "Stokes time:  0.023986339569091797 s\n",
      "im_stokes0 shape is :  (1024, 1224)\n",
      "DoLP time:  0.03697848320007324 s\n",
      "im_DOLP shape is :  (1024, 1224)\n",
      "Time for DOLP2Theta conversion is :  21.471731424331665 seconds\n",
      "False\n",
      "AoLP time:  0.04597926139831543 s\n"
     ]
    },
    {
     "name": "stderr",
     "output_type": "stream",
     "text": [
      "\n",
      " 60%|████████████████████████████████████████████████▎                               | 136/225 [50:43<33:02, 22.27s/it]"
     ]
    },
    {
     "name": "stdout",
     "output_type": "stream",
     "text": [
      "Processing data for material : WATER\n",
      "image_data shape is :  (2048, 2448)\n",
      "im90 shape is :  (1024, 1224)\n",
      "Stokes time:  0.025985002517700195 s\n",
      "im_stokes0 shape is :  (1024, 1224)\n",
      "DoLP time:  0.03498029708862305 s\n",
      "im_DOLP shape is :  (1024, 1224)\n",
      "Time for DOLP2Theta conversion is :  21.448750019073486 seconds\n",
      "False\n",
      "AoLP time:  0.056967735290527344 s\n"
     ]
    },
    {
     "name": "stderr",
     "output_type": "stream",
     "text": [
      "\n",
      " 61%|████████████████████████████████████████████████▋                               | 137/225 [51:05<32:35, 22.22s/it]"
     ]
    },
    {
     "name": "stdout",
     "output_type": "stream",
     "text": [
      "Processing data for material : WATER\n",
      "image_data shape is :  (2048, 2448)\n",
      "im90 shape is :  (1024, 1224)\n",
      "Stokes time:  0.024985551834106445 s\n",
      "im_stokes0 shape is :  (1024, 1224)\n",
      "DoLP time:  0.03198075294494629 s\n",
      "im_DOLP shape is :  (1024, 1224)\n",
      "Time for DOLP2Theta conversion is :  21.474718809127808 seconds\n",
      "False\n",
      "AoLP time:  0.040978431701660156 s\n"
     ]
    },
    {
     "name": "stderr",
     "output_type": "stream",
     "text": [
      "\n",
      " 61%|█████████████████████████████████████████████████                               | 138/225 [51:27<32:09, 22.18s/it]"
     ]
    },
    {
     "name": "stdout",
     "output_type": "stream",
     "text": [
      "Processing data for material : WATER\n",
      "image_data shape is :  (2048, 2448)\n",
      "im90 shape is :  (1024, 1224)\n",
      "Stokes time:  0.024985790252685547 s\n",
      "im_stokes0 shape is :  (1024, 1224)\n",
      "DoLP time:  0.039977312088012695 s\n",
      "im_DOLP shape is :  (1024, 1224)\n",
      "Time for DOLP2Theta conversion is :  21.261839866638184 seconds\n",
      "False\n",
      "AoLP time:  0.03997635841369629 s\n"
     ]
    },
    {
     "name": "stderr",
     "output_type": "stream",
     "text": [
      "\n",
      " 62%|█████████████████████████████████████████████████▍                              | 139/225 [51:49<31:40, 22.10s/it]"
     ]
    },
    {
     "name": "stdout",
     "output_type": "stream",
     "text": [
      "Processing data for material : WATER\n",
      "image_data shape is :  (2048, 2448)\n",
      "im90 shape is :  (1024, 1224)\n",
      "Stokes time:  0.024985551834106445 s\n",
      "im_stokes0 shape is :  (1024, 1224)\n",
      "DoLP time:  0.0319819450378418 s\n",
      "im_DOLP shape is :  (1024, 1224)\n",
      "Time for DOLP2Theta conversion is :  21.540677785873413 seconds\n",
      "False\n",
      "AoLP time:  0.05696725845336914 s\n"
     ]
    },
    {
     "name": "stderr",
     "output_type": "stream",
     "text": [
      "\n",
      " 62%|█████████████████████████████████████████████████▊                              | 140/225 [52:11<31:20, 22.13s/it]"
     ]
    },
    {
     "name": "stdout",
     "output_type": "stream",
     "text": [
      "Processing data for material : WATER\n",
      "image_data shape is :  (2048, 2448)\n",
      "im90 shape is :  (1024, 1224)\n",
      "Stokes time:  0.023985624313354492 s\n",
      "im_stokes0 shape is :  (1024, 1224)\n",
      "DoLP time:  0.030983686447143555 s\n",
      "im_DOLP shape is :  (1024, 1224)\n",
      "Time for DOLP2Theta conversion is :  21.41976547241211 seconds\n",
      "False\n",
      "AoLP time:  0.04197549819946289 s\n"
     ]
    },
    {
     "name": "stderr",
     "output_type": "stream",
     "text": [
      "\n",
      " 63%|██████████████████████████████████████████████████▏                             | 141/225 [52:33<30:57, 22.11s/it]"
     ]
    },
    {
     "name": "stdout",
     "output_type": "stream",
     "text": [
      "Processing data for material : WATER\n",
      "image_data shape is :  (2048, 2448)\n",
      "im90 shape is :  (1024, 1224)\n",
      "Stokes time:  0.024985074996948242 s\n",
      "im_stokes0 shape is :  (1024, 1224)\n",
      "DoLP time:  0.035979509353637695 s\n",
      "im_DOLP shape is :  (1024, 1224)\n",
      "Time for DOLP2Theta conversion is :  21.5366952419281 seconds\n",
      "False\n",
      "AoLP time:  0.039977073669433594 s\n"
     ]
    },
    {
     "name": "stderr",
     "output_type": "stream",
     "text": [
      "\n",
      " 63%|██████████████████████████████████████████████████▍                             | 142/225 [52:55<30:36, 22.12s/it]"
     ]
    },
    {
     "name": "stdout",
     "output_type": "stream",
     "text": [
      "Processing data for material : WATER\n",
      "image_data shape is :  (2048, 2448)\n",
      "im90 shape is :  (1024, 1224)\n",
      "Stokes time:  0.02598404884338379 s\n",
      "im_stokes0 shape is :  (1024, 1224)\n",
      "DoLP time:  0.035979270935058594 s\n",
      "im_DOLP shape is :  (1024, 1224)\n",
      "Time for DOLP2Theta conversion is :  21.699588298797607 seconds\n",
      "False\n",
      "AoLP time:  0.04197549819946289 s\n"
     ]
    },
    {
     "name": "stderr",
     "output_type": "stream",
     "text": [
      "\n",
      " 64%|██████████████████████████████████████████████████▊                             | 143/225 [53:17<30:19, 22.18s/it]"
     ]
    },
    {
     "name": "stdout",
     "output_type": "stream",
     "text": [
      "Processing data for material : WATER\n",
      "image_data shape is :  (2048, 2448)\n",
      "im90 shape is :  (1024, 1224)\n",
      "Stokes time:  0.026984691619873047 s\n",
      "im_stokes0 shape is :  (1024, 1224)\n",
      "DoLP time:  0.035979270935058594 s\n",
      "im_DOLP shape is :  (1024, 1224)\n",
      "Time for DOLP2Theta conversion is :  21.55666995048523 seconds\n",
      "False\n",
      "AoLP time:  0.05097031593322754 s\n"
     ]
    },
    {
     "name": "stderr",
     "output_type": "stream",
     "text": [
      "\n",
      " 64%|███████████████████████████████████████████████████▏                            | 144/225 [53:40<29:57, 22.20s/it]"
     ]
    },
    {
     "name": "stdout",
     "output_type": "stream",
     "text": [
      "Processing data for material : WATER\n",
      "image_data shape is :  (2048, 2448)\n",
      "im90 shape is :  (1024, 1224)\n",
      "Stokes time:  0.024985551834106445 s\n",
      "im_stokes0 shape is :  (1024, 1224)\n",
      "DoLP time:  0.036978960037231445 s\n",
      "im_DOLP shape is :  (1024, 1224)\n",
      "Time for DOLP2Theta conversion is :  21.743564128875732 seconds\n",
      "False\n",
      "AoLP time:  0.04297518730163574 s\n"
     ]
    },
    {
     "name": "stderr",
     "output_type": "stream",
     "text": [
      "\n",
      " 64%|███████████████████████████████████████████████████▌                            | 145/225 [54:02<29:39, 22.24s/it]"
     ]
    },
    {
     "name": "stdout",
     "output_type": "stream",
     "text": [
      "Processing data for material : WATER\n",
      "image_data shape is :  (2048, 2448)\n",
      "im90 shape is :  (1024, 1224)\n",
      "Stokes time:  0.02598404884338379 s\n",
      "im_stokes0 shape is :  (1024, 1224)\n",
      "DoLP time:  0.03797769546508789 s\n",
      "im_DOLP shape is :  (1024, 1224)\n",
      "Time for DOLP2Theta conversion is :  22.021422386169434 seconds\n",
      "False\n",
      "AoLP time:  0.04097700119018555 s\n"
     ]
    },
    {
     "name": "stderr",
     "output_type": "stream",
     "text": [
      "\n",
      " 65%|███████████████████████████████████████████████████▉                            | 146/225 [54:25<29:26, 22.37s/it]"
     ]
    },
    {
     "name": "stdout",
     "output_type": "stream",
     "text": [
      "Processing data for material : WATER\n",
      "image_data shape is :  (2048, 2448)\n",
      "im90 shape is :  (1024, 1224)\n",
      "Stokes time:  0.0259854793548584 s\n",
      "im_stokes0 shape is :  (1024, 1224)\n",
      "DoLP time:  0.036978960037231445 s\n",
      "im_DOLP shape is :  (1024, 1224)\n",
      "Time for DOLP2Theta conversion is :  21.166911602020264 seconds\n",
      "False\n",
      "AoLP time:  0.044974327087402344 s\n"
     ]
    },
    {
     "name": "stderr",
     "output_type": "stream",
     "text": [
      "\n",
      " 65%|████████████████████████████████████████████████████▎                           | 147/225 [54:47<28:51, 22.20s/it]"
     ]
    },
    {
     "name": "stdout",
     "output_type": "stream",
     "text": [
      "Processing data for material : WATER\n",
      "image_data shape is :  (2048, 2448)\n",
      "im90 shape is :  (1024, 1224)\n",
      "Stokes time:  0.02498650550842285 s\n",
      "im_stokes0 shape is :  (1024, 1224)\n",
      "DoLP time:  0.03198099136352539 s\n",
      "im_DOLP shape is :  (1024, 1224)\n",
      "Time for DOLP2Theta conversion is :  21.86149501800537 seconds\n",
      "False\n",
      "AoLP time:  0.03997516632080078 s\n"
     ]
    },
    {
     "name": "stderr",
     "output_type": "stream",
     "text": [
      "\n",
      " 66%|████████████████████████████████████████████████████▌                           | 148/225 [55:09<28:36, 22.29s/it]"
     ]
    },
    {
     "name": "stdout",
     "output_type": "stream",
     "text": [
      "Processing data for material : WATER\n",
      "image_data shape is :  (2048, 2448)\n",
      "im90 shape is :  (1024, 1224)\n",
      "Stokes time:  0.022988080978393555 s\n",
      "im_stokes0 shape is :  (1024, 1224)\n",
      "DoLP time:  0.03398013114929199 s\n",
      "im_DOLP shape is :  (1024, 1224)\n",
      "Time for DOLP2Theta conversion is :  21.738585472106934 seconds\n",
      "False\n",
      "AoLP time:  0.04297351837158203 s\n"
     ]
    },
    {
     "name": "stderr",
     "output_type": "stream",
     "text": [
      "\n",
      " 66%|████████████████████████████████████████████████████▉                           | 149/225 [55:31<28:15, 22.31s/it]"
     ]
    },
    {
     "name": "stdout",
     "output_type": "stream",
     "text": [
      "Processing data for material : WATER\n",
      "image_data shape is :  (2048, 2448)\n",
      "im90 shape is :  (1024, 1224)\n",
      "Stokes time:  0.024985313415527344 s\n",
      "im_stokes0 shape is :  (1024, 1224)\n",
      "DoLP time:  0.030982017517089844 s\n",
      "im_DOLP shape is :  (1024, 1224)\n",
      "Time for DOLP2Theta conversion is :  21.390764236450195 seconds\n",
      "False\n",
      "AoLP time:  0.042973995208740234 s\n"
     ]
    },
    {
     "name": "stderr",
     "output_type": "stream",
     "text": [
      "\n",
      " 67%|█████████████████████████████████████████████████████▎                          | 150/225 [55:53<27:47, 22.23s/it]"
     ]
    },
    {
     "name": "stdout",
     "output_type": "stream",
     "text": [
      "Processing data for material : WATER\n",
      "image_data shape is :  (2048, 2448)\n",
      "im90 shape is :  (1024, 1224)\n",
      "Stokes time:  0.02398538589477539 s\n",
      "im_stokes0 shape is :  (1024, 1224)\n",
      "DoLP time:  0.03497815132141113 s\n",
      "im_DOLP shape is :  (1024, 1224)\n",
      "Time for DOLP2Theta conversion is :  21.28882384300232 seconds\n",
      "False\n",
      "AoLP time:  0.04097700119018555 s\n"
     ]
    },
    {
     "name": "stderr",
     "output_type": "stream",
     "text": [
      "\n",
      " 67%|█████████████████████████████████████████████████████▋                          | 151/225 [56:15<27:18, 22.14s/it]"
     ]
    },
    {
     "name": "stdout",
     "output_type": "stream",
     "text": [
      "Processing data for material : WATER\n",
      "image_data shape is :  (2048, 2448)\n",
      "im90 shape is :  (1024, 1224)\n",
      "Stokes time:  0.026984453201293945 s\n",
      "im_stokes0 shape is :  (1024, 1224)\n",
      "DoLP time:  0.038979530334472656 s\n",
      "im_DOLP shape is :  (1024, 1224)\n",
      "Time for DOLP2Theta conversion is :  21.652613401412964 seconds\n",
      "False\n",
      "AoLP time:  0.043970346450805664 s\n"
     ]
    },
    {
     "name": "stderr",
     "output_type": "stream",
     "text": [
      "\n",
      " 68%|██████████████████████████████████████████████████████                          | 152/225 [56:38<26:59, 22.19s/it]"
     ]
    },
    {
     "name": "stdout",
     "output_type": "stream",
     "text": [
      "Processing data for material : WATER\n",
      "image_data shape is :  (2048, 2448)\n",
      "im90 shape is :  (1024, 1224)\n",
      "Stokes time:  0.0259854793548584 s\n",
      "im_stokes0 shape is :  (1024, 1224)\n",
      "DoLP time:  0.030982017517089844 s\n",
      "im_DOLP shape is :  (1024, 1224)\n",
      "Time for DOLP2Theta conversion is :  21.297837495803833 seconds\n",
      "False\n",
      "AoLP time:  0.04197382926940918 s\n"
     ]
    },
    {
     "name": "stderr",
     "output_type": "stream",
     "text": [
      "\n",
      " 68%|██████████████████████████████████████████████████████▍                         | 153/225 [57:00<26:32, 22.12s/it]"
     ]
    },
    {
     "name": "stdout",
     "output_type": "stream",
     "text": [
      "Processing data for material : WATER\n",
      "image_data shape is :  (2048, 2448)\n",
      "im90 shape is :  (1024, 1224)\n",
      "Stokes time:  0.025984525680541992 s\n",
      "im_stokes0 shape is :  (1024, 1224)\n",
      "DoLP time:  0.03497910499572754 s\n",
      "im_DOLP shape is :  (1024, 1224)\n",
      "Time for DOLP2Theta conversion is :  21.305832386016846 seconds\n",
      "False\n",
      "AoLP time:  0.042973995208740234 s\n"
     ]
    },
    {
     "name": "stderr",
     "output_type": "stream",
     "text": [
      "\n",
      " 68%|██████████████████████████████████████████████████████▊                         | 154/225 [57:22<26:07, 22.07s/it]"
     ]
    },
    {
     "name": "stdout",
     "output_type": "stream",
     "text": [
      "Processing data for material : WATER\n",
      "image_data shape is :  (2048, 2448)\n",
      "im90 shape is :  (1024, 1224)\n",
      "Stokes time:  0.025984764099121094 s\n",
      "im_stokes0 shape is :  (1024, 1224)\n",
      "DoLP time:  0.036978721618652344 s\n",
      "im_DOLP shape is :  (1024, 1224)\n",
      "Time for DOLP2Theta conversion is :  21.287842512130737 seconds\n",
      "False\n",
      "AoLP time:  0.05696749687194824 s\n"
     ]
    },
    {
     "name": "stderr",
     "output_type": "stream",
     "text": [
      "\n",
      " 69%|███████████████████████████████████████████████████████                         | 155/225 [57:44<25:42, 22.03s/it]"
     ]
    },
    {
     "name": "stdout",
     "output_type": "stream",
     "text": [
      "Processing data for material : WATER\n",
      "image_data shape is :  (2048, 2448)\n",
      "im90 shape is :  (1024, 1224)\n",
      "Stokes time:  0.026982784271240234 s\n",
      "im_stokes0 shape is :  (1024, 1224)\n",
      "DoLP time:  0.033980369567871094 s\n",
      "im_DOLP shape is :  (1024, 1224)\n",
      "Time for DOLP2Theta conversion is :  21.327800035476685 seconds\n",
      "False\n",
      "AoLP time:  0.04097723960876465 s\n"
     ]
    },
    {
     "name": "stderr",
     "output_type": "stream",
     "text": [
      "\n",
      " 69%|███████████████████████████████████████████████████████▍                        | 156/225 [58:05<25:18, 22.01s/it]"
     ]
    },
    {
     "name": "stdout",
     "output_type": "stream",
     "text": [
      "Processing data for material : WATER\n",
      "image_data shape is :  (2048, 2448)\n",
      "im90 shape is :  (1024, 1224)\n",
      "Stokes time:  0.027983665466308594 s\n",
      "im_stokes0 shape is :  (1024, 1224)\n",
      "DoLP time:  0.03397989273071289 s\n",
      "im_DOLP shape is :  (1024, 1224)\n",
      "Time for DOLP2Theta conversion is :  21.158896684646606 seconds\n",
      "False\n",
      "AoLP time:  0.04097485542297363 s\n"
     ]
    },
    {
     "name": "stderr",
     "output_type": "stream",
     "text": [
      "\n",
      " 70%|███████████████████████████████████████████████████████▊                        | 157/225 [58:27<24:52, 21.94s/it]"
     ]
    },
    {
     "name": "stdout",
     "output_type": "stream",
     "text": [
      "Processing data for material : WATER\n",
      "image_data shape is :  (2048, 2448)\n",
      "im90 shape is :  (1024, 1224)\n",
      "Stokes time:  0.025983810424804688 s\n",
      "im_stokes0 shape is :  (1024, 1224)\n",
      "DoLP time:  0.04197573661804199 s\n",
      "im_DOLP shape is :  (1024, 1224)\n",
      "Time for DOLP2Theta conversion is :  21.799530267715454 seconds\n",
      "False\n",
      "AoLP time:  0.05097031593322754 s\n"
     ]
    },
    {
     "name": "stderr",
     "output_type": "stream",
     "text": [
      "\n",
      " 70%|████████████████████████████████████████████████████████▏                       | 158/225 [58:50<24:40, 22.10s/it]"
     ]
    },
    {
     "name": "stdout",
     "output_type": "stream",
     "text": [
      "Processing data for material : WATER\n",
      "image_data shape is :  (2048, 2448)\n",
      "im90 shape is :  (1024, 1224)\n",
      "Stokes time:  0.02598404884338379 s\n",
      "im_stokes0 shape is :  (1024, 1224)\n",
      "DoLP time:  0.03397965431213379 s\n",
      "im_DOLP shape is :  (1024, 1224)\n",
      "Time for DOLP2Theta conversion is :  21.32080578804016 seconds\n",
      "False\n",
      "AoLP time:  0.04397416114807129 s\n"
     ]
    },
    {
     "name": "stderr",
     "output_type": "stream",
     "text": [
      "\n",
      " 71%|████████████████████████████████████████████████████████▌                       | 159/225 [59:12<24:15, 22.06s/it]"
     ]
    },
    {
     "name": "stdout",
     "output_type": "stream",
     "text": [
      "Processing data for material : WATER\n",
      "image_data shape is :  (2048, 2448)\n",
      "im90 shape is :  (1024, 1224)\n",
      "Stokes time:  0.025985240936279297 s\n",
      "im_stokes0 shape is :  (1024, 1224)\n",
      "DoLP time:  0.034979820251464844 s\n",
      "im_DOLP shape is :  (1024, 1224)\n",
      "Time for DOLP2Theta conversion is :  21.017977952957153 seconds\n",
      "False\n",
      "AoLP time:  0.041975975036621094 s\n"
     ]
    },
    {
     "name": "stderr",
     "output_type": "stream",
     "text": [
      "\n",
      " 71%|████████████████████████████████████████████████████████▉                       | 160/225 [59:33<23:46, 21.94s/it]"
     ]
    },
    {
     "name": "stdout",
     "output_type": "stream",
     "text": [
      "Processing data for material : WATER\n",
      "image_data shape is :  (2048, 2448)\n",
      "im90 shape is :  (1024, 1224)\n",
      "Stokes time:  0.024985313415527344 s\n",
      "im_stokes0 shape is :  (1024, 1224)\n",
      "DoLP time:  0.03298211097717285 s\n",
      "im_DOLP shape is :  (1024, 1224)\n",
      "Time for DOLP2Theta conversion is :  21.32979917526245 seconds\n",
      "False\n",
      "AoLP time:  0.040976524353027344 s\n"
     ]
    },
    {
     "name": "stderr",
     "output_type": "stream",
     "text": [
      "\n",
      " 72%|█████████████████████████████████████████████████████████▏                      | 161/225 [59:55<23:24, 21.94s/it]"
     ]
    },
    {
     "name": "stdout",
     "output_type": "stream",
     "text": [
      "Processing data for material : WATER\n",
      "image_data shape is :  (2048, 2448)\n",
      "im90 shape is :  (1024, 1224)\n",
      "Stokes time:  0.02398538589477539 s\n",
      "im_stokes0 shape is :  (1024, 1224)\n",
      "DoLP time:  0.03298306465148926 s\n",
      "im_DOLP shape is :  (1024, 1224)\n",
      "Time for DOLP2Theta conversion is :  21.212865591049194 seconds\n",
      "False\n",
      "AoLP time:  0.039977312088012695 s\n"
     ]
    },
    {
     "name": "stderr",
     "output_type": "stream",
     "text": [
      "\n",
      " 72%|████████████████████████████████████████████████████████▏                     | 162/225 [1:00:17<23:00, 21.91s/it]"
     ]
    },
    {
     "name": "stdout",
     "output_type": "stream",
     "text": [
      "Processing data for material : WATER\n",
      "image_data shape is :  (2048, 2448)\n",
      "im90 shape is :  (1024, 1224)\n",
      "Stokes time:  0.0239870548248291 s\n",
      "im_stokes0 shape is :  (1024, 1224)\n",
      "DoLP time:  0.03298044204711914 s\n",
      "im_DOLP shape is :  (1024, 1224)\n",
      "Time for DOLP2Theta conversion is :  21.878504514694214 seconds\n",
      "False\n",
      "AoLP time:  0.04897165298461914 s\n"
     ]
    },
    {
     "name": "stderr",
     "output_type": "stream",
     "text": [
      "\n",
      " 72%|████████████████████████████████████████████████████████▌                     | 163/225 [1:00:40<22:49, 22.09s/it]"
     ]
    },
    {
     "name": "stdout",
     "output_type": "stream",
     "text": [
      "Processing data for material : WATER\n",
      "image_data shape is :  (2048, 2448)\n",
      "im90 shape is :  (1024, 1224)\n",
      "Stokes time:  0.026984214782714844 s\n",
      "im_stokes0 shape is :  (1024, 1224)\n",
      "DoLP time:  0.035979270935058594 s\n",
      "im_DOLP shape is :  (1024, 1224)\n",
      "Time for DOLP2Theta conversion is :  21.637641191482544 seconds\n",
      "False\n",
      "AoLP time:  0.03897738456726074 s\n"
     ]
    },
    {
     "name": "stderr",
     "output_type": "stream",
     "text": [
      "\n",
      " 73%|████████████████████████████████████████████████████████▊                     | 164/225 [1:01:02<22:30, 22.15s/it]"
     ]
    },
    {
     "name": "stdout",
     "output_type": "stream",
     "text": [
      "Processing data for material : WATER\n",
      "image_data shape is :  (2048, 2448)\n",
      "im90 shape is :  (1024, 1224)\n",
      "Stokes time:  0.025985240936279297 s\n",
      "im_stokes0 shape is :  (1024, 1224)\n",
      "DoLP time:  0.03198051452636719 s\n",
      "im_DOLP shape is :  (1024, 1224)\n",
      "Time for DOLP2Theta conversion is :  21.08493947982788 seconds\n",
      "False\n",
      "AoLP time:  0.040976762771606445 s\n"
     ]
    },
    {
     "name": "stderr",
     "output_type": "stream",
     "text": [
      "\n",
      " 73%|█████████████████████████████████████████████████████████▏                    | 165/225 [1:01:24<22:00, 22.01s/it]"
     ]
    },
    {
     "name": "stdout",
     "output_type": "stream",
     "text": [
      "Processing data for material : WATER\n",
      "image_data shape is :  (2048, 2448)\n",
      "im90 shape is :  (1024, 1224)\n",
      "Stokes time:  0.025984764099121094 s\n",
      "im_stokes0 shape is :  (1024, 1224)\n",
      "DoLP time:  0.03697943687438965 s\n",
      "im_DOLP shape is :  (1024, 1224)\n",
      "Time for DOLP2Theta conversion is :  21.19987440109253 seconds\n",
      "False\n",
      "AoLP time:  0.04297518730163574 s\n"
     ]
    },
    {
     "name": "stderr",
     "output_type": "stream",
     "text": [
      "\n",
      " 74%|█████████████████████████████████████████████████████████▌                    | 166/225 [1:01:45<21:35, 21.96s/it]"
     ]
    },
    {
     "name": "stdout",
     "output_type": "stream",
     "text": [
      "Processing data for material : WATER\n",
      "image_data shape is :  (2048, 2448)\n",
      "im90 shape is :  (1024, 1224)\n",
      "Stokes time:  0.023986101150512695 s\n",
      "im_stokes0 shape is :  (1024, 1224)\n",
      "DoLP time:  0.03298139572143555 s\n",
      "im_DOLP shape is :  (1024, 1224)\n",
      "Time for DOLP2Theta conversion is :  21.189897060394287 seconds\n",
      "False\n",
      "AoLP time:  0.03997659683227539 s\n"
     ]
    },
    {
     "name": "stderr",
     "output_type": "stream",
     "text": [
      "\n",
      " 74%|█████████████████████████████████████████████████████████▉                    | 167/225 [1:02:07<21:11, 21.92s/it]"
     ]
    },
    {
     "name": "stdout",
     "output_type": "stream",
     "text": [
      "Processing data for material : WATER\n",
      "image_data shape is :  (2048, 2448)\n",
      "im90 shape is :  (1024, 1224)\n",
      "Stokes time:  0.02498483657836914 s\n",
      "im_stokes0 shape is :  (1024, 1224)\n",
      "DoLP time:  0.033980369567871094 s\n",
      "im_DOLP shape is :  (1024, 1224)\n",
      "Time for DOLP2Theta conversion is :  20.958014011383057 seconds\n",
      "False\n",
      "AoLP time:  0.03997683525085449 s\n"
     ]
    },
    {
     "name": "stderr",
     "output_type": "stream",
     "text": [
      "\n",
      " 75%|██████████████████████████████████████████████████████████▏                   | 168/225 [1:02:29<20:43, 21.82s/it]"
     ]
    },
    {
     "name": "stdout",
     "output_type": "stream",
     "text": [
      "Processing data for material : WATER\n",
      "image_data shape is :  (2048, 2448)\n",
      "im90 shape is :  (1024, 1224)\n",
      "Stokes time:  0.026983976364135742 s\n",
      "im_stokes0 shape is :  (1024, 1224)\n",
      "DoLP time:  0.0339808464050293 s\n",
      "im_DOLP shape is :  (1024, 1224)\n",
      "Time for DOLP2Theta conversion is :  20.90503978729248 seconds\n",
      "False\n",
      "AoLP time:  0.04098010063171387 s\n"
     ]
    },
    {
     "name": "stderr",
     "output_type": "stream",
     "text": [
      "\n",
      " 75%|██████████████████████████████████████████████████████████▌                   | 169/225 [1:02:50<20:17, 21.74s/it]"
     ]
    },
    {
     "name": "stdout",
     "output_type": "stream",
     "text": [
      "Processing data for material : WATER\n",
      "image_data shape is :  (2048, 2448)\n",
      "im90 shape is :  (1024, 1224)\n",
      "Stokes time:  0.024985074996948242 s\n",
      "im_stokes0 shape is :  (1024, 1224)\n",
      "DoLP time:  0.0319821834564209 s\n",
      "im_DOLP shape is :  (1024, 1224)\n",
      "Time for DOLP2Theta conversion is :  21.06996774673462 seconds\n",
      "False\n",
      "AoLP time:  0.03997921943664551 s\n"
     ]
    },
    {
     "name": "stderr",
     "output_type": "stream",
     "text": [
      "\n",
      " 76%|██████████████████████████████████████████████████████████▉                   | 170/225 [1:03:12<19:54, 21.72s/it]"
     ]
    },
    {
     "name": "stdout",
     "output_type": "stream",
     "text": [
      "Processing data for material : WATER\n",
      "image_data shape is :  (2048, 2448)\n",
      "im90 shape is :  (1024, 1224)\n",
      "Stokes time:  0.024985313415527344 s\n",
      "im_stokes0 shape is :  (1024, 1224)\n",
      "DoLP time:  0.03398013114929199 s\n",
      "im_DOLP shape is :  (1024, 1224)\n",
      "Time for DOLP2Theta conversion is :  20.87306046485901 seconds\n",
      "False\n",
      "AoLP time:  0.03797793388366699 s\n"
     ]
    },
    {
     "name": "stderr",
     "output_type": "stream",
     "text": [
      "\n",
      " 76%|███████████████████████████████████████████████████████████▎                  | 171/225 [1:03:34<19:29, 21.65s/it]"
     ]
    },
    {
     "name": "stdout",
     "output_type": "stream",
     "text": [
      "Processing data for material : WATER\n",
      "image_data shape is :  (2048, 2448)\n",
      "im90 shape is :  (1024, 1224)\n",
      "Stokes time:  0.024985074996948242 s\n",
      "im_stokes0 shape is :  (1024, 1224)\n",
      "DoLP time:  0.03298044204711914 s\n",
      "im_DOLP shape is :  (1024, 1224)\n",
      "Time for DOLP2Theta conversion is :  21.08493971824646 seconds\n",
      "False\n",
      "AoLP time:  0.04397392272949219 s\n"
     ]
    },
    {
     "name": "stderr",
     "output_type": "stream",
     "text": [
      "\n",
      " 76%|███████████████████████████████████████████████████████████▋                  | 172/225 [1:03:55<19:08, 21.67s/it]"
     ]
    },
    {
     "name": "stdout",
     "output_type": "stream",
     "text": [
      "Processing data for material : WATER\n",
      "image_data shape is :  (2048, 2448)\n",
      "im90 shape is :  (1024, 1224)\n",
      "Stokes time:  0.0239870548248291 s\n",
      "im_stokes0 shape is :  (1024, 1224)\n",
      "DoLP time:  0.0339808464050293 s\n",
      "im_DOLP shape is :  (1024, 1224)\n",
      "Time for DOLP2Theta conversion is :  20.70215630531311 seconds\n",
      "False\n",
      "AoLP time:  0.03897547721862793 s\n"
     ]
    },
    {
     "name": "stderr",
     "output_type": "stream",
     "text": [
      "\n",
      " 77%|███████████████████████████████████████████████████████████▉                  | 173/225 [1:04:17<18:41, 21.57s/it]"
     ]
    },
    {
     "name": "stdout",
     "output_type": "stream",
     "text": [
      "Processing data for material : WATER\n",
      "image_data shape is :  (2048, 2448)\n",
      "im90 shape is :  (1024, 1224)\n",
      "Stokes time:  0.024985074996948242 s\n",
      "im_stokes0 shape is :  (1024, 1224)\n",
      "DoLP time:  0.03198099136352539 s\n",
      "im_DOLP shape is :  (1024, 1224)\n",
      "Time for DOLP2Theta conversion is :  21.071947813034058 seconds\n",
      "False\n",
      "AoLP time:  0.03997659683227539 s\n"
     ]
    },
    {
     "name": "stderr",
     "output_type": "stream",
     "text": [
      "\n",
      " 77%|████████████████████████████████████████████████████████████▎                 | 174/225 [1:04:38<18:22, 21.61s/it]"
     ]
    },
    {
     "name": "stdout",
     "output_type": "stream",
     "text": [
      "Processing data for material : WATER\n",
      "image_data shape is :  (2048, 2448)\n",
      "im90 shape is :  (1024, 1224)\n",
      "Stokes time:  0.024984359741210938 s\n",
      "im_stokes0 shape is :  (1024, 1224)\n",
      "DoLP time:  0.0339810848236084 s\n",
      "im_DOLP shape is :  (1024, 1224)\n",
      "Time for DOLP2Theta conversion is :  20.816094875335693 seconds\n",
      "False\n",
      "AoLP time:  0.04197382926940918 s\n"
     ]
    },
    {
     "name": "stderr",
     "output_type": "stream",
     "text": [
      "\n",
      " 78%|████████████████████████████████████████████████████████████▋                 | 175/225 [1:05:00<17:58, 21.57s/it]"
     ]
    },
    {
     "name": "stdout",
     "output_type": "stream",
     "text": [
      "Processing data for material : WATER\n",
      "image_data shape is :  (2048, 2448)\n",
      "im90 shape is :  (1024, 1224)\n",
      "Stokes time:  0.0259857177734375 s\n",
      "im_stokes0 shape is :  (1024, 1224)\n",
      "DoLP time:  0.03497910499572754 s\n",
      "im_DOLP shape is :  (1024, 1224)\n",
      "Time for DOLP2Theta conversion is :  21.34880757331848 seconds\n",
      "False\n",
      "AoLP time:  0.04397463798522949 s\n"
     ]
    },
    {
     "name": "stderr",
     "output_type": "stream",
     "text": [
      "\n",
      " 78%|█████████████████████████████████████████████████████████████                 | 176/225 [1:05:22<17:43, 21.69s/it]"
     ]
    },
    {
     "name": "stdout",
     "output_type": "stream",
     "text": [
      "Processing data for material : WATER\n",
      "image_data shape is :  (2048, 2448)\n",
      "im90 shape is :  (1024, 1224)\n",
      "Stokes time:  0.025984525680541992 s\n",
      "im_stokes0 shape is :  (1024, 1224)\n",
      "DoLP time:  0.03597903251647949 s\n",
      "im_DOLP shape is :  (1024, 1224)\n",
      "Time for DOLP2Theta conversion is :  20.690165042877197 seconds\n",
      "False\n",
      "AoLP time:  0.04297471046447754 s\n"
     ]
    },
    {
     "name": "stderr",
     "output_type": "stream",
     "text": [
      "\n",
      " 79%|█████████████████████████████████████████████████████████████▎                | 177/225 [1:05:43<17:16, 21.58s/it]"
     ]
    },
    {
     "name": "stdout",
     "output_type": "stream",
     "text": [
      "Processing data for material : WATER\n",
      "image_data shape is :  (2048, 2448)\n",
      "im90 shape is :  (1024, 1224)\n",
      "Stokes time:  0.02398538589477539 s\n",
      "im_stokes0 shape is :  (1024, 1224)\n",
      "DoLP time:  0.03297996520996094 s\n",
      "im_DOLP shape is :  (1024, 1224)\n",
      "Time for DOLP2Theta conversion is :  21.323804140090942 seconds\n",
      "False\n",
      "AoLP time:  0.040976762771606445 s\n"
     ]
    },
    {
     "name": "stderr",
     "output_type": "stream",
     "text": [
      "\n",
      " 79%|█████████████████████████████████████████████████████████████▋                | 178/225 [1:06:05<16:59, 21.69s/it]"
     ]
    },
    {
     "name": "stdout",
     "output_type": "stream",
     "text": [
      "Processing data for material : WATER\n",
      "image_data shape is :  (2048, 2448)\n",
      "im90 shape is :  (1024, 1224)\n",
      "Stokes time:  0.024985074996948242 s\n",
      "im_stokes0 shape is :  (1024, 1224)\n",
      "DoLP time:  0.03497958183288574 s\n",
      "im_DOLP shape is :  (1024, 1224)\n",
      "Time for DOLP2Theta conversion is :  20.963027954101562 seconds\n",
      "False\n",
      "AoLP time:  0.041976213455200195 s\n"
     ]
    },
    {
     "name": "stderr",
     "output_type": "stream",
     "text": [
      "\n",
      " 80%|██████████████████████████████████████████████████████████████                | 179/225 [1:06:27<16:36, 21.66s/it]"
     ]
    },
    {
     "name": "stdout",
     "output_type": "stream",
     "text": [
      "Processing data for material : WATER\n",
      "image_data shape is :  (2048, 2448)\n",
      "im90 shape is :  (1024, 1224)\n",
      "Stokes time:  0.023988008499145508 s\n",
      "im_stokes0 shape is :  (1024, 1224)\n",
      "DoLP time:  0.034980058670043945 s\n",
      "im_DOLP shape is :  (1024, 1224)\n",
      "Time for DOLP2Theta conversion is :  21.177905321121216 seconds\n",
      "False\n",
      "AoLP time:  0.042975664138793945 s\n"
     ]
    },
    {
     "name": "stderr",
     "output_type": "stream",
     "text": [
      "\n",
      " 80%|██████████████████████████████████████████████████████████████▍               | 180/225 [1:06:48<16:16, 21.71s/it]"
     ]
    },
    {
     "name": "stdout",
     "output_type": "stream",
     "text": [
      "Processing data for material : WATER\n",
      "image_data shape is :  (2048, 2448)\n",
      "im90 shape is :  (1024, 1224)\n",
      "Stokes time:  0.02298760414123535 s\n",
      "im_stokes0 shape is :  (1024, 1224)\n",
      "DoLP time:  0.03498125076293945 s\n",
      "im_DOLP shape is :  (1024, 1224)\n",
      "Time for DOLP2Theta conversion is :  21.046960592269897 seconds\n",
      "False\n",
      "AoLP time:  0.04597353935241699 s\n"
     ]
    },
    {
     "name": "stderr",
     "output_type": "stream",
     "text": [
      "\n",
      " 80%|██████████████████████████████████████████████████████████████▋               | 181/225 [1:07:10<15:55, 21.71s/it]"
     ]
    },
    {
     "name": "stdout",
     "output_type": "stream",
     "text": [
      "Processing data for material : WATER\n",
      "image_data shape is :  (2048, 2448)\n",
      "im90 shape is :  (1024, 1224)\n",
      "Stokes time:  0.026983976364135742 s\n",
      "im_stokes0 shape is :  (1024, 1224)\n",
      "DoLP time:  0.034979820251464844 s\n",
      "im_DOLP shape is :  (1024, 1224)\n",
      "Time for DOLP2Theta conversion is :  21.511710166931152 seconds\n",
      "False\n",
      "AoLP time:  0.03897738456726074 s\n"
     ]
    },
    {
     "name": "stderr",
     "output_type": "stream",
     "text": [
      "\n",
      " 81%|███████████████████████████████████████████████████████████████               | 182/225 [1:07:32<15:39, 21.84s/it]"
     ]
    },
    {
     "name": "stdout",
     "output_type": "stream",
     "text": [
      "Processing data for material : WATER\n",
      "image_data shape is :  (2048, 2448)\n",
      "im90 shape is :  (1024, 1224)\n",
      "Stokes time:  0.02498483657836914 s\n",
      "im_stokes0 shape is :  (1024, 1224)\n",
      "DoLP time:  0.030982494354248047 s\n",
      "im_DOLP shape is :  (1024, 1224)\n",
      "Time for DOLP2Theta conversion is :  21.291821002960205 seconds\n",
      "False\n",
      "AoLP time:  0.04297685623168945 s\n"
     ]
    },
    {
     "name": "stderr",
     "output_type": "stream",
     "text": [
      "\n",
      " 81%|███████████████████████████████████████████████████████████████▍              | 183/225 [1:07:54<15:18, 21.86s/it]"
     ]
    },
    {
     "name": "stdout",
     "output_type": "stream",
     "text": [
      "Processing data for material : WATER\n",
      "image_data shape is :  (2048, 2448)\n",
      "im90 shape is :  (1024, 1224)\n",
      "Stokes time:  0.025983572006225586 s\n",
      "im_stokes0 shape is :  (1024, 1224)\n",
      "DoLP time:  0.03697824478149414 s\n",
      "im_DOLP shape is :  (1024, 1224)\n",
      "Time for DOLP2Theta conversion is :  21.236852407455444 seconds\n",
      "False\n",
      "AoLP time:  0.03997611999511719 s\n"
     ]
    },
    {
     "name": "stderr",
     "output_type": "stream",
     "text": [
      "\n",
      " 82%|███████████████████████████████████████████████████████████████▊              | 184/225 [1:08:16<14:56, 21.86s/it]"
     ]
    },
    {
     "name": "stdout",
     "output_type": "stream",
     "text": [
      "Processing data for material : WATER\n",
      "image_data shape is :  (2048, 2448)\n",
      "im90 shape is :  (1024, 1224)\n",
      "Stokes time:  0.025985240936279297 s\n",
      "im_stokes0 shape is :  (1024, 1224)\n",
      "DoLP time:  0.03098154067993164 s\n",
      "im_DOLP shape is :  (1024, 1224)\n",
      "Time for DOLP2Theta conversion is :  22.116349935531616 seconds\n",
      "False\n",
      "AoLP time:  0.03897714614868164 s\n"
     ]
    },
    {
     "name": "stderr",
     "output_type": "stream",
     "text": [
      "\n",
      " 82%|████████████████████████████████████████████████████████████████▏             | 185/225 [1:08:39<14:44, 22.12s/it]"
     ]
    },
    {
     "name": "stdout",
     "output_type": "stream",
     "text": [
      "Processing data for material : WATER\n",
      "image_data shape is :  (2048, 2448)\n",
      "im90 shape is :  (1024, 1224)\n",
      "Stokes time:  0.023984909057617188 s\n",
      "im_stokes0 shape is :  (1024, 1224)\n",
      "DoLP time:  0.0319821834564209 s\n",
      "im_DOLP shape is :  (1024, 1224)\n",
      "Time for DOLP2Theta conversion is :  20.871081352233887 seconds\n",
      "False\n",
      "AoLP time:  0.040976762771606445 s\n"
     ]
    },
    {
     "name": "stderr",
     "output_type": "stream",
     "text": [
      "\n",
      " 83%|████████████████████████████████████████████████████████████████▍             | 186/225 [1:09:00<14:15, 21.93s/it]"
     ]
    },
    {
     "name": "stdout",
     "output_type": "stream",
     "text": [
      "Processing data for material : WATER\n",
      "image_data shape is :  (2048, 2448)\n",
      "im90 shape is :  (1024, 1224)\n",
      "Stokes time:  0.024985551834106445 s\n",
      "im_stokes0 shape is :  (1024, 1224)\n",
      "DoLP time:  0.03198099136352539 s\n",
      "im_DOLP shape is :  (1024, 1224)\n",
      "Time for DOLP2Theta conversion is :  21.601642847061157 seconds\n",
      "False\n",
      "AoLP time:  0.042974233627319336 s\n"
     ]
    },
    {
     "name": "stderr",
     "output_type": "stream",
     "text": [
      "\n",
      " 83%|████████████████████████████████████████████████████████████████▊             | 187/225 [1:09:23<13:56, 22.02s/it]"
     ]
    },
    {
     "name": "stdout",
     "output_type": "stream",
     "text": [
      "Processing data for material : WATER\n",
      "image_data shape is :  (2048, 2448)\n",
      "im90 shape is :  (1024, 1224)\n",
      "Stokes time:  0.023987293243408203 s\n",
      "im_stokes0 shape is :  (1024, 1224)\n",
      "DoLP time:  0.03498125076293945 s\n",
      "im_DOLP shape is :  (1024, 1224)\n",
      "Time for DOLP2Theta conversion is :  21.28184175491333 seconds\n",
      "False\n",
      "AoLP time:  0.04396939277648926 s\n"
     ]
    },
    {
     "name": "stderr",
     "output_type": "stream",
     "text": [
      "\n",
      " 84%|█████████████████████████████████████████████████████████████████▏            | 188/225 [1:09:44<13:33, 21.99s/it]"
     ]
    },
    {
     "name": "stdout",
     "output_type": "stream",
     "text": [
      "Processing data for material : WATER\n",
      "image_data shape is :  (2048, 2448)\n",
      "im90 shape is :  (1024, 1224)\n",
      "Stokes time:  0.022986412048339844 s\n",
      "im_stokes0 shape is :  (1024, 1224)\n",
      "DoLP time:  0.03497886657714844 s\n",
      "im_DOLP shape is :  (1024, 1224)\n",
      "Time for DOLP2Theta conversion is :  20.74013614654541 seconds\n",
      "False\n",
      "AoLP time:  0.04297614097595215 s\n"
     ]
    },
    {
     "name": "stderr",
     "output_type": "stream",
     "text": [
      "\n",
      " 84%|█████████████████████████████████████████████████████████████████▌            | 189/225 [1:10:06<13:04, 21.80s/it]"
     ]
    },
    {
     "name": "stdout",
     "output_type": "stream",
     "text": [
      "Processing data for material : WATER\n",
      "image_data shape is :  (2048, 2448)\n",
      "im90 shape is :  (1024, 1224)\n",
      "Stokes time:  0.024985313415527344 s\n",
      "im_stokes0 shape is :  (1024, 1224)\n",
      "DoLP time:  0.03198075294494629 s\n",
      "im_DOLP shape is :  (1024, 1224)\n",
      "Time for DOLP2Theta conversion is :  21.290841102600098 seconds\n",
      "False\n",
      "AoLP time:  0.04097604751586914 s\n"
     ]
    },
    {
     "name": "stderr",
     "output_type": "stream",
     "text": [
      "\n",
      " 84%|█████████████████████████████████████████████████████████████████▊            | 190/225 [1:10:28<12:44, 21.84s/it]"
     ]
    },
    {
     "name": "stdout",
     "output_type": "stream",
     "text": [
      "Processing data for material : WATER\n",
      "image_data shape is :  (2048, 2448)\n",
      "im90 shape is :  (1024, 1224)\n",
      "Stokes time:  0.024982929229736328 s\n",
      "im_stokes0 shape is :  (1024, 1224)\n",
      "DoLP time:  0.03298020362854004 s\n",
      "im_DOLP shape is :  (1024, 1224)\n",
      "Time for DOLP2Theta conversion is :  20.810096740722656 seconds\n",
      "False\n",
      "AoLP time:  0.041976213455200195 s\n"
     ]
    },
    {
     "name": "stderr",
     "output_type": "stream",
     "text": [
      "\n",
      " 85%|██████████████████████████████████████████████████████████████████▏           | 191/225 [1:10:49<12:18, 21.73s/it]"
     ]
    },
    {
     "name": "stdout",
     "output_type": "stream",
     "text": [
      "Processing data for material : WATER\n",
      "image_data shape is :  (2048, 2448)\n",
      "im90 shape is :  (1024, 1224)\n",
      "Stokes time:  0.02298569679260254 s\n",
      "im_stokes0 shape is :  (1024, 1224)\n",
      "DoLP time:  0.03597879409790039 s\n",
      "im_DOLP shape is :  (1024, 1224)\n",
      "Time for DOLP2Theta conversion is :  21.017995834350586 seconds\n",
      "False\n",
      "AoLP time:  0.038977861404418945 s\n"
     ]
    },
    {
     "name": "stderr",
     "output_type": "stream",
     "text": [
      "\n",
      " 85%|██████████████████████████████████████████████████████████████████▌           | 192/225 [1:11:11<11:56, 21.70s/it]"
     ]
    },
    {
     "name": "stdout",
     "output_type": "stream",
     "text": [
      "Processing data for material : WATER\n",
      "image_data shape is :  (2048, 2448)\n",
      "im90 shape is :  (1024, 1224)\n",
      "Stokes time:  0.025983810424804688 s\n",
      "im_stokes0 shape is :  (1024, 1224)\n",
      "DoLP time:  0.03697991371154785 s\n",
      "im_DOLP shape is :  (1024, 1224)\n",
      "Time for DOLP2Theta conversion is :  20.98899221420288 seconds\n",
      "False\n",
      "AoLP time:  0.04197072982788086 s\n"
     ]
    },
    {
     "name": "stderr",
     "output_type": "stream",
     "text": [
      "\n",
      " 86%|██████████████████████████████████████████████████████████████████▉           | 193/225 [1:11:32<11:33, 21.68s/it]"
     ]
    },
    {
     "name": "stdout",
     "output_type": "stream",
     "text": [
      "Processing data for material : WATER\n",
      "image_data shape is :  (2048, 2448)\n",
      "im90 shape is :  (1024, 1224)\n",
      "Stokes time:  0.024982929229736328 s\n",
      "im_stokes0 shape is :  (1024, 1224)\n",
      "DoLP time:  0.03298187255859375 s\n",
      "im_DOLP shape is :  (1024, 1224)\n",
      "Time for DOLP2Theta conversion is :  21.468719244003296 seconds\n",
      "False\n",
      "AoLP time:  0.04897165298461914 s\n"
     ]
    },
    {
     "name": "stderr",
     "output_type": "stream",
     "text": [
      "\n",
      " 86%|███████████████████████████████████████████████████████████████████▎          | 194/225 [1:11:55<11:15, 21.80s/it]"
     ]
    },
    {
     "name": "stdout",
     "output_type": "stream",
     "text": [
      "Processing data for material : WATER\n",
      "image_data shape is :  (2048, 2448)\n",
      "im90 shape is :  (1024, 1224)\n",
      "Stokes time:  0.024985551834106445 s\n",
      "im_stokes0 shape is :  (1024, 1224)\n",
      "DoLP time:  0.03298139572143555 s\n",
      "im_DOLP shape is :  (1024, 1224)\n",
      "Time for DOLP2Theta conversion is :  20.859086751937866 seconds\n",
      "False\n",
      "AoLP time:  0.038977622985839844 s\n"
     ]
    },
    {
     "name": "stderr",
     "output_type": "stream",
     "text": [
      "\n",
      " 87%|███████████████████████████████████████████████████████████████████▌          | 195/225 [1:12:16<10:51, 21.71s/it]"
     ]
    },
    {
     "name": "stdout",
     "output_type": "stream",
     "text": [
      "Processing data for material : WATER\n",
      "image_data shape is :  (2048, 2448)\n",
      "im90 shape is :  (1024, 1224)\n",
      "Stokes time:  0.024985551834106445 s\n",
      "im_stokes0 shape is :  (1024, 1224)\n",
      "DoLP time:  0.03298044204711914 s\n",
      "im_DOLP shape is :  (1024, 1224)\n",
      "Time for DOLP2Theta conversion is :  21.652615070343018 seconds\n",
      "False\n",
      "AoLP time:  0.04697299003601074 s\n"
     ]
    },
    {
     "name": "stderr",
     "output_type": "stream",
     "text": [
      "\n",
      " 87%|███████████████████████████████████████████████████████████████████▉          | 196/225 [1:12:38<10:34, 21.88s/it]"
     ]
    },
    {
     "name": "stdout",
     "output_type": "stream",
     "text": [
      "Processing data for material : WATER\n",
      "image_data shape is :  (2048, 2448)\n",
      "im90 shape is :  (1024, 1224)\n",
      "Stokes time:  0.026984691619873047 s\n",
      "im_stokes0 shape is :  (1024, 1224)\n",
      "DoLP time:  0.036978960037231445 s\n",
      "im_DOLP shape is :  (1024, 1224)\n",
      "Time for DOLP2Theta conversion is :  20.984996557235718 seconds\n",
      "False\n",
      "AoLP time:  0.039975643157958984 s\n"
     ]
    },
    {
     "name": "stderr",
     "output_type": "stream",
     "text": [
      "\n",
      " 88%|████████████████████████████████████████████████████████████████████▎         | 197/225 [1:13:00<10:10, 21.79s/it]"
     ]
    },
    {
     "name": "stdout",
     "output_type": "stream",
     "text": [
      "Processing data for material : WATER\n",
      "image_data shape is :  (2048, 2448)\n",
      "im90 shape is :  (1024, 1224)\n",
      "Stokes time:  0.02698493003845215 s\n",
      "im_stokes0 shape is :  (1024, 1224)\n",
      "DoLP time:  0.03697776794433594 s\n",
      "im_DOLP shape is :  (1024, 1224)\n",
      "Time for DOLP2Theta conversion is :  20.970024347305298 seconds\n",
      "False\n",
      "AoLP time:  0.043976783752441406 s\n"
     ]
    },
    {
     "name": "stderr",
     "output_type": "stream",
     "text": [
      "\n",
      " 88%|████████████████████████████████████████████████████████████████████▋         | 198/225 [1:13:22<09:46, 21.74s/it]"
     ]
    },
    {
     "name": "stdout",
     "output_type": "stream",
     "text": [
      "Processing data for material : WATER\n",
      "image_data shape is :  (2048, 2448)\n",
      "im90 shape is :  (1024, 1224)\n",
      "Stokes time:  0.026984691619873047 s\n",
      "im_stokes0 shape is :  (1024, 1224)\n",
      "DoLP time:  0.03098154067993164 s\n",
      "im_DOLP shape is :  (1024, 1224)\n",
      "Time for DOLP2Theta conversion is :  20.836080312728882 seconds\n",
      "False\n",
      "AoLP time:  0.042975664138793945 s\n"
     ]
    },
    {
     "name": "stderr",
     "output_type": "stream",
     "text": [
      "\n",
      " 88%|████████████████████████████████████████████████████████████████████▉         | 199/225 [1:13:43<09:23, 21.66s/it]"
     ]
    },
    {
     "name": "stdout",
     "output_type": "stream",
     "text": [
      "Processing data for material : WATER\n",
      "image_data shape is :  (2048, 2448)\n",
      "im90 shape is :  (1024, 1224)\n",
      "Stokes time:  0.027982711791992188 s\n",
      "im_stokes0 shape is :  (1024, 1224)\n",
      "DoLP time:  0.03897714614868164 s\n",
      "im_DOLP shape is :  (1024, 1224)\n",
      "Time for DOLP2Theta conversion is :  21.12391757965088 seconds\n",
      "False\n",
      "AoLP time:  0.039977073669433594 s\n"
     ]
    },
    {
     "name": "stderr",
     "output_type": "stream",
     "text": [
      "\n",
      " 89%|█████████████████████████████████████████████████████████████████████▎        | 200/225 [1:14:05<09:02, 21.69s/it]"
     ]
    },
    {
     "name": "stdout",
     "output_type": "stream",
     "text": [
      "Processing data for material : WATER\n",
      "image_data shape is :  (2048, 2448)\n",
      "im90 shape is :  (1024, 1224)\n",
      "Stokes time:  0.024985790252685547 s\n",
      "im_stokes0 shape is :  (1024, 1224)\n",
      "DoLP time:  0.034980058670043945 s\n",
      "im_DOLP shape is :  (1024, 1224)\n",
      "Time for DOLP2Theta conversion is :  21.385785341262817 seconds\n",
      "False\n",
      "AoLP time:  0.04097628593444824 s\n"
     ]
    },
    {
     "name": "stderr",
     "output_type": "stream",
     "text": [
      "\n",
      " 89%|█████████████████████████████████████████████████████████████████████▋        | 201/225 [1:14:27<08:42, 21.79s/it]"
     ]
    },
    {
     "name": "stdout",
     "output_type": "stream",
     "text": [
      "Processing data for material : WATER\n",
      "image_data shape is :  (2048, 2448)\n",
      "im90 shape is :  (1024, 1224)\n",
      "Stokes time:  0.024985313415527344 s\n",
      "im_stokes0 shape is :  (1024, 1224)\n",
      "DoLP time:  0.033980607986450195 s\n",
      "im_DOLP shape is :  (1024, 1224)\n",
      "Time for DOLP2Theta conversion is :  20.96802520751953 seconds\n",
      "False\n",
      "AoLP time:  0.04397463798522949 s\n"
     ]
    },
    {
     "name": "stderr",
     "output_type": "stream",
     "text": [
      "\n",
      " 90%|██████████████████████████████████████████████████████████████████████        | 202/225 [1:14:48<08:19, 21.73s/it]"
     ]
    },
    {
     "name": "stdout",
     "output_type": "stream",
     "text": [
      "Processing data for material : WATER\n",
      "image_data shape is :  (2048, 2448)\n",
      "im90 shape is :  (1024, 1224)\n",
      "Stokes time:  0.025983572006225586 s\n",
      "im_stokes0 shape is :  (1024, 1224)\n",
      "DoLP time:  0.03597903251647949 s\n",
      "im_DOLP shape is :  (1024, 1224)\n",
      "Time for DOLP2Theta conversion is :  21.03398823738098 seconds\n",
      "False\n",
      "AoLP time:  0.0399775505065918 s\n"
     ]
    },
    {
     "name": "stderr",
     "output_type": "stream",
     "text": [
      "\n",
      " 90%|██████████████████████████████████████████████████████████████████████▎       | 203/225 [1:15:10<07:57, 21.71s/it]"
     ]
    },
    {
     "name": "stdout",
     "output_type": "stream",
     "text": [
      "Processing data for material : WATER\n",
      "image_data shape is :  (2048, 2448)\n",
      "im90 shape is :  (1024, 1224)\n",
      "Stokes time:  0.02598428726196289 s\n",
      "im_stokes0 shape is :  (1024, 1224)\n",
      "DoLP time:  0.0319821834564209 s\n",
      "im_DOLP shape is :  (1024, 1224)\n",
      "Time for DOLP2Theta conversion is :  21.387786149978638 seconds\n",
      "False\n",
      "AoLP time:  0.043955087661743164 s\n"
     ]
    },
    {
     "name": "stderr",
     "output_type": "stream",
     "text": [
      "\n",
      " 91%|██████████████████████████████████████████████████████████████████████▋       | 204/225 [1:15:32<07:37, 21.79s/it]"
     ]
    },
    {
     "name": "stdout",
     "output_type": "stream",
     "text": [
      "Processing data for material : WATER\n",
      "image_data shape is :  (2048, 2448)\n",
      "im90 shape is :  (1024, 1224)\n",
      "Stokes time:  0.02298736572265625 s\n",
      "im_stokes0 shape is :  (1024, 1224)\n",
      "DoLP time:  0.03697705268859863 s\n",
      "im_DOLP shape is :  (1024, 1224)\n",
      "Time for DOLP2Theta conversion is :  21.915464401245117 seconds\n",
      "False\n",
      "AoLP time:  0.04297471046447754 s\n"
     ]
    },
    {
     "name": "stderr",
     "output_type": "stream",
     "text": [
      "\n",
      " 91%|███████████████████████████████████████████████████████████████████████       | 205/225 [1:15:55<07:20, 22.02s/it]"
     ]
    },
    {
     "name": "stdout",
     "output_type": "stream",
     "text": [
      "Processing data for material : WATER\n",
      "image_data shape is :  (2048, 2448)\n",
      "im90 shape is :  (1024, 1224)\n",
      "Stokes time:  0.02698493003845215 s\n",
      "im_stokes0 shape is :  (1024, 1224)\n",
      "DoLP time:  0.037976741790771484 s\n",
      "im_DOLP shape is :  (1024, 1224)\n",
      "Time for DOLP2Theta conversion is :  21.687596321105957 seconds\n",
      "False\n",
      "AoLP time:  0.038976192474365234 s\n"
     ]
    },
    {
     "name": "stderr",
     "output_type": "stream",
     "text": [
      "\n",
      " 92%|███████████████████████████████████████████████████████████████████████▍      | 206/225 [1:16:17<07:00, 22.11s/it]"
     ]
    },
    {
     "name": "stdout",
     "output_type": "stream",
     "text": [
      "Processing data for material : WATER\n",
      "image_data shape is :  (2048, 2448)\n",
      "im90 shape is :  (1024, 1224)\n",
      "Stokes time:  0.023986101150512695 s\n",
      "im_stokes0 shape is :  (1024, 1224)\n",
      "DoLP time:  0.030981779098510742 s\n",
      "im_DOLP shape is :  (1024, 1224)\n",
      "Time for DOLP2Theta conversion is :  21.20786952972412 seconds\n",
      "False\n",
      "AoLP time:  0.04297327995300293 s\n"
     ]
    },
    {
     "name": "stderr",
     "output_type": "stream",
     "text": [
      "\n",
      " 92%|███████████████████████████████████████████████████████████████████████▊      | 207/225 [1:16:39<06:36, 22.02s/it]"
     ]
    },
    {
     "name": "stdout",
     "output_type": "stream",
     "text": [
      "Processing data for material : WATER\n",
      "image_data shape is :  (2048, 2448)\n",
      "im90 shape is :  (1024, 1224)\n",
      "Stokes time:  0.02498459815979004 s\n",
      "im_stokes0 shape is :  (1024, 1224)\n",
      "DoLP time:  0.03497958183288574 s\n",
      "im_DOLP shape is :  (1024, 1224)\n",
      "Time for DOLP2Theta conversion is :  21.184900522232056 seconds\n",
      "False\n",
      "AoLP time:  0.03997540473937988 s\n"
     ]
    },
    {
     "name": "stderr",
     "output_type": "stream",
     "text": [
      "\n",
      " 92%|████████████████████████████████████████████████████████████████████████      | 208/225 [1:17:01<06:13, 21.97s/it]"
     ]
    },
    {
     "name": "stdout",
     "output_type": "stream",
     "text": [
      "Processing data for material : WATER\n",
      "image_data shape is :  (2048, 2448)\n",
      "im90 shape is :  (1024, 1224)\n",
      "Stokes time:  0.02698373794555664 s\n",
      "im_stokes0 shape is :  (1024, 1224)\n",
      "DoLP time:  0.03597903251647949 s\n",
      "im_DOLP shape is :  (1024, 1224)\n",
      "Time for DOLP2Theta conversion is :  21.298834085464478 seconds\n",
      "False\n",
      "AoLP time:  0.041976213455200195 s\n"
     ]
    },
    {
     "name": "stderr",
     "output_type": "stream",
     "text": [
      "\n",
      " 93%|████████████████████████████████████████████████████████████████████████▍     | 209/225 [1:17:23<05:51, 21.96s/it]"
     ]
    },
    {
     "name": "stdout",
     "output_type": "stream",
     "text": [
      "Processing data for material : WATER\n",
      "image_data shape is :  (2048, 2448)\n",
      "im90 shape is :  (1024, 1224)\n",
      "Stokes time:  0.023986101150512695 s\n",
      "im_stokes0 shape is :  (1024, 1224)\n",
      "DoLP time:  0.034980058670043945 s\n",
      "im_DOLP shape is :  (1024, 1224)\n",
      "Time for DOLP2Theta conversion is :  20.9919912815094 seconds\n",
      "False\n",
      "AoLP time:  0.04097485542297363 s\n"
     ]
    },
    {
     "name": "stderr",
     "output_type": "stream",
     "text": [
      "\n",
      " 93%|████████████████████████████████████████████████████████████████████████▊     | 210/225 [1:17:44<05:27, 21.85s/it]"
     ]
    },
    {
     "name": "stdout",
     "output_type": "stream",
     "text": [
      "Processing data for material : WATER\n",
      "image_data shape is :  (2048, 2448)\n",
      "im90 shape is :  (1024, 1224)\n",
      "Stokes time:  0.026986360549926758 s\n",
      "im_stokes0 shape is :  (1024, 1224)\n",
      "DoLP time:  0.03498125076293945 s\n",
      "im_DOLP shape is :  (1024, 1224)\n",
      "Time for DOLP2Theta conversion is :  21.63564395904541 seconds\n",
      "False\n",
      "AoLP time:  0.04996967315673828 s\n"
     ]
    },
    {
     "name": "stderr",
     "output_type": "stream",
     "text": [
      "\n",
      " 94%|█████████████████████████████████████████████████████████████████████████▏    | 211/225 [1:18:06<05:07, 21.98s/it]"
     ]
    },
    {
     "name": "stdout",
     "output_type": "stream",
     "text": [
      "Processing data for material : WATER\n",
      "image_data shape is :  (2048, 2448)\n",
      "im90 shape is :  (1024, 1224)\n",
      "Stokes time:  0.022986888885498047 s\n",
      "im_stokes0 shape is :  (1024, 1224)\n",
      "DoLP time:  0.03298068046569824 s\n",
      "im_DOLP shape is :  (1024, 1224)\n",
      "Time for DOLP2Theta conversion is :  20.912036657333374 seconds\n",
      "False\n",
      "AoLP time:  0.041975975036621094 s\n"
     ]
    },
    {
     "name": "stderr",
     "output_type": "stream",
     "text": [
      "\n",
      " 94%|█████████████████████████████████████████████████████████████████████████▍    | 212/225 [1:18:28<04:44, 21.85s/it]"
     ]
    },
    {
     "name": "stdout",
     "output_type": "stream",
     "text": [
      "Processing data for material : WATER\n",
      "image_data shape is :  (2048, 2448)\n",
      "im90 shape is :  (1024, 1224)\n",
      "Stokes time:  0.023987293243408203 s\n",
      "im_stokes0 shape is :  (1024, 1224)\n",
      "DoLP time:  0.035979509353637695 s\n",
      "im_DOLP shape is :  (1024, 1224)\n",
      "Time for DOLP2Theta conversion is :  21.48671054840088 seconds\n",
      "False\n",
      "AoLP time:  0.038977861404418945 s\n"
     ]
    },
    {
     "name": "stderr",
     "output_type": "stream",
     "text": [
      "\n",
      " 95%|█████████████████████████████████████████████████████████████████████████▊    | 213/225 [1:18:50<04:23, 21.93s/it]"
     ]
    },
    {
     "name": "stdout",
     "output_type": "stream",
     "text": [
      "Processing data for material : WATER\n",
      "image_data shape is :  (2048, 2448)\n",
      "im90 shape is :  (1024, 1224)\n",
      "Stokes time:  0.023985862731933594 s\n",
      "im_stokes0 shape is :  (1024, 1224)\n",
      "DoLP time:  0.03698110580444336 s\n",
      "im_DOLP shape is :  (1024, 1224)\n",
      "Time for DOLP2Theta conversion is :  20.865065336227417 seconds\n",
      "False\n",
      "AoLP time:  0.037978410720825195 s\n"
     ]
    },
    {
     "name": "stderr",
     "output_type": "stream",
     "text": [
      "\n",
      " 95%|██████████████████████████████████████████████████████████████████████████▏   | 214/225 [1:19:12<03:59, 21.80s/it]"
     ]
    },
    {
     "name": "stdout",
     "output_type": "stream",
     "text": [
      "Processing data for material : WATER\n",
      "image_data shape is :  (2048, 2448)\n",
      "im90 shape is :  (1024, 1224)\n",
      "Stokes time:  0.024985313415527344 s\n",
      "im_stokes0 shape is :  (1024, 1224)\n",
      "DoLP time:  0.03298044204711914 s\n",
      "im_DOLP shape is :  (1024, 1224)\n",
      "Time for DOLP2Theta conversion is :  21.229855060577393 seconds\n",
      "False\n",
      "AoLP time:  0.046973228454589844 s\n"
     ]
    },
    {
     "name": "stderr",
     "output_type": "stream",
     "text": [
      "\n",
      " 96%|██████████████████████████████████████████████████████████████████████████▌   | 215/225 [1:19:33<03:38, 21.82s/it]"
     ]
    },
    {
     "name": "stdout",
     "output_type": "stream",
     "text": [
      "Processing data for material : WATER\n",
      "image_data shape is :  (2048, 2448)\n",
      "im90 shape is :  (1024, 1224)\n",
      "Stokes time:  0.022988319396972656 s\n",
      "im_stokes0 shape is :  (1024, 1224)\n",
      "DoLP time:  0.03198075294494629 s\n",
      "im_DOLP shape is :  (1024, 1224)\n",
      "Time for DOLP2Theta conversion is :  20.93702530860901 seconds\n",
      "False\n",
      "AoLP time:  0.04097461700439453 s\n"
     ]
    },
    {
     "name": "stderr",
     "output_type": "stream",
     "text": [
      "\n",
      " 96%|██████████████████████████████████████████████████████████████████████████▉   | 216/225 [1:19:55<03:15, 21.74s/it]"
     ]
    },
    {
     "name": "stdout",
     "output_type": "stream",
     "text": [
      "Processing data for material : WATER\n",
      "image_data shape is :  (2048, 2448)\n",
      "im90 shape is :  (1024, 1224)\n",
      "Stokes time:  0.025984525680541992 s\n",
      "im_stokes0 shape is :  (1024, 1224)\n",
      "DoLP time:  0.03298139572143555 s\n",
      "im_DOLP shape is :  (1024, 1224)\n",
      "Time for DOLP2Theta conversion is :  20.97002363204956 seconds\n",
      "False\n",
      "AoLP time:  0.039977073669433594 s\n"
     ]
    },
    {
     "name": "stderr",
     "output_type": "stream",
     "text": [
      "\n",
      " 96%|███████████████████████████████████████████████████████████████████████████▏  | 217/225 [1:20:17<02:53, 21.69s/it]"
     ]
    },
    {
     "name": "stdout",
     "output_type": "stream",
     "text": [
      "Processing data for material : WATER\n",
      "image_data shape is :  (2048, 2448)\n",
      "im90 shape is :  (1024, 1224)\n",
      "Stokes time:  0.023985862731933594 s\n",
      "im_stokes0 shape is :  (1024, 1224)\n",
      "DoLP time:  0.0339813232421875 s\n",
      "im_DOLP shape is :  (1024, 1224)\n",
      "Time for DOLP2Theta conversion is :  21.33779525756836 seconds\n",
      "False\n",
      "AoLP time:  0.038973331451416016 s\n"
     ]
    },
    {
     "name": "stderr",
     "output_type": "stream",
     "text": [
      "\n",
      " 97%|███████████████████████████████████████████████████████████████████████████▌  | 218/225 [1:20:39<02:32, 21.77s/it]"
     ]
    },
    {
     "name": "stdout",
     "output_type": "stream",
     "text": [
      "Processing data for material : WATER\n",
      "image_data shape is :  (2048, 2448)\n",
      "im90 shape is :  (1024, 1224)\n",
      "Stokes time:  0.024985313415527344 s\n",
      "im_stokes0 shape is :  (1024, 1224)\n",
      "DoLP time:  0.035978078842163086 s\n",
      "im_DOLP shape is :  (1024, 1224)\n",
      "Time for DOLP2Theta conversion is :  21.07994270324707 seconds\n",
      "False\n",
      "AoLP time:  0.039977312088012695 s\n"
     ]
    },
    {
     "name": "stderr",
     "output_type": "stream",
     "text": [
      "\n",
      " 97%|███████████████████████████████████████████████████████████████████████████▉  | 219/225 [1:21:00<02:10, 21.76s/it]"
     ]
    },
    {
     "name": "stdout",
     "output_type": "stream",
     "text": [
      "Processing data for material : WATER\n",
      "image_data shape is :  (2048, 2448)\n",
      "im90 shape is :  (1024, 1224)\n",
      "Stokes time:  0.025983810424804688 s\n",
      "im_stokes0 shape is :  (1024, 1224)\n",
      "DoLP time:  0.03198051452636719 s\n",
      "im_DOLP shape is :  (1024, 1224)\n",
      "Time for DOLP2Theta conversion is :  21.140925407409668 seconds\n",
      "False\n",
      "AoLP time:  0.046973466873168945 s\n"
     ]
    },
    {
     "name": "stderr",
     "output_type": "stream",
     "text": [
      "\n",
      " 98%|████████████████████████████████████████████████████████████████████████████▎ | 220/225 [1:21:22<01:48, 21.76s/it]"
     ]
    },
    {
     "name": "stdout",
     "output_type": "stream",
     "text": [
      "Processing data for material : WATER\n",
      "image_data shape is :  (2048, 2448)\n",
      "im90 shape is :  (1024, 1224)\n",
      "Stokes time:  0.024985551834106445 s\n",
      "im_stokes0 shape is :  (1024, 1224)\n",
      "DoLP time:  0.035979509353637695 s\n",
      "im_DOLP shape is :  (1024, 1224)\n",
      "Time for DOLP2Theta conversion is :  20.65418529510498 seconds\n",
      "False\n",
      "AoLP time:  0.044974565505981445 s\n"
     ]
    },
    {
     "name": "stderr",
     "output_type": "stream",
     "text": [
      "\n",
      " 98%|████████████████████████████████████████████████████████████████████████████▌ | 221/225 [1:21:43<01:26, 21.63s/it]"
     ]
    },
    {
     "name": "stdout",
     "output_type": "stream",
     "text": [
      "Processing data for material : WATER\n",
      "image_data shape is :  (2048, 2448)\n",
      "im90 shape is :  (1024, 1224)\n",
      "Stokes time:  0.026982784271240234 s\n",
      "im_stokes0 shape is :  (1024, 1224)\n",
      "DoLP time:  0.03098130226135254 s\n",
      "im_DOLP shape is :  (1024, 1224)\n",
      "Time for DOLP2Theta conversion is :  21.08394193649292 seconds\n",
      "False\n",
      "AoLP time:  0.04497361183166504 s\n"
     ]
    },
    {
     "name": "stderr",
     "output_type": "stream",
     "text": [
      "\n",
      " 99%|████████████████████████████████████████████████████████████████████████████▉ | 222/225 [1:22:05<01:04, 21.65s/it]"
     ]
    },
    {
     "name": "stdout",
     "output_type": "stream",
     "text": [
      "Processing data for material : WATER\n",
      "image_data shape is :  (2048, 2448)\n",
      "im90 shape is :  (1024, 1224)\n",
      "Stokes time:  0.025984764099121094 s\n",
      "im_stokes0 shape is :  (1024, 1224)\n",
      "DoLP time:  0.033982276916503906 s\n",
      "im_DOLP shape is :  (1024, 1224)\n",
      "Time for DOLP2Theta conversion is :  21.25786018371582 seconds\n",
      "False\n",
      "AoLP time:  0.038977622985839844 s\n"
     ]
    },
    {
     "name": "stderr",
     "output_type": "stream",
     "text": [
      "\n",
      " 99%|█████████████████████████████████████████████████████████████████████████████▎| 223/225 [1:22:27<00:43, 21.72s/it]"
     ]
    },
    {
     "name": "stdout",
     "output_type": "stream",
     "text": [
      "Processing data for material : WATER\n",
      "image_data shape is :  (2048, 2448)\n",
      "im90 shape is :  (1024, 1224)\n",
      "Stokes time:  0.026982545852661133 s\n",
      "im_stokes0 shape is :  (1024, 1224)\n",
      "DoLP time:  0.03397965431213379 s\n",
      "im_DOLP shape is :  (1024, 1224)\n",
      "Time for DOLP2Theta conversion is :  21.248846292495728 seconds\n",
      "False\n",
      "AoLP time:  0.03897714614868164 s\n"
     ]
    },
    {
     "name": "stderr",
     "output_type": "stream",
     "text": [
      "\n",
      "100%|█████████████████████████████████████████████████████████████████████████████▋| 224/225 [1:22:49<00:21, 21.77s/it]"
     ]
    },
    {
     "name": "stdout",
     "output_type": "stream",
     "text": [
      "Processing data for material : WATER\n",
      "image_data shape is :  (2048, 2448)\n",
      "im90 shape is :  (1024, 1224)\n",
      "Stokes time:  0.028983116149902344 s\n",
      "im_stokes0 shape is :  (1024, 1224)\n",
      "DoLP time:  0.035979509353637695 s\n",
      "im_DOLP shape is :  (1024, 1224)\n",
      "Time for DOLP2Theta conversion is :  21.577677726745605 seconds\n",
      "False\n",
      "AoLP time:  0.039977073669433594 s\n"
     ]
    },
    {
     "name": "stderr",
     "output_type": "stream",
     "text": [
      "\n",
      "100%|██████████████████████████████████████████████████████████████████████████████| 225/225 [1:23:11<00:00, 21.91s/it]"
     ]
    },
    {
     "name": "stdout",
     "output_type": "stream",
     "text": [
      "time taken =  29.094719648361206\n"
     ]
    },
    {
     "name": "stderr",
     "output_type": "stream",
     "text": [
      " 50%|███████████████████████████████████████                                       | 2/4 [2:54:17<2:57:03, 5311.93s/it]\n",
      "  0%|                                                                                          | 0/225 [00:00<?, ?it/s]"
     ]
    },
    {
     "name": "stdout",
     "output_type": "stream",
     "text": [
      "Processing data for material : WATER\n",
      "image_data shape is :  (2048, 2448)\n",
      "im90 shape is :  (1024, 1224)\n",
      "Stokes time:  0.027984142303466797 s\n",
      "im_stokes0 shape is :  (1024, 1224)\n",
      "DoLP time:  0.03897809982299805 s\n",
      "im_DOLP shape is :  (1024, 1224)\n",
      "Time for DOLP2Theta conversion is :  21.69958782196045 seconds\n",
      "False\n",
      "AoLP time:  0.04497218132019043 s\n"
     ]
    },
    {
     "name": "stderr",
     "output_type": "stream",
     "text": [
      "\n",
      "  0%|▎                                                                               | 1/225 [00:24<1:32:40, 24.82s/it]"
     ]
    },
    {
     "name": "stdout",
     "output_type": "stream",
     "text": [
      "Processing data for material : WATER\n",
      "image_data shape is :  (2048, 2448)\n",
      "im90 shape is :  (1024, 1224)\n",
      "Stokes time:  0.024983644485473633 s\n",
      "im_stokes0 shape is :  (1024, 1224)\n",
      "DoLP time:  0.03897857666015625 s\n",
      "im_DOLP shape is :  (1024, 1224)\n",
      "Time for DOLP2Theta conversion is :  21.41075372695923 seconds\n",
      "False\n",
      "AoLP time:  0.04097628593444824 s\n"
     ]
    },
    {
     "name": "stderr",
     "output_type": "stream",
     "text": [
      "\n",
      "  1%|▋                                                                               | 2/225 [00:47<1:29:44, 24.15s/it]"
     ]
    },
    {
     "name": "stdout",
     "output_type": "stream",
     "text": [
      "Processing data for material : WATER\n",
      "image_data shape is :  (2048, 2448)\n",
      "im90 shape is :  (1024, 1224)\n",
      "Stokes time:  0.02398681640625 s\n",
      "im_stokes0 shape is :  (1024, 1224)\n",
      "DoLP time:  0.03697943687438965 s\n",
      "im_DOLP shape is :  (1024, 1224)\n",
      "Time for DOLP2Theta conversion is :  21.38076949119568 seconds\n",
      "False\n",
      "AoLP time:  0.04497218132019043 s\n"
     ]
    },
    {
     "name": "stderr",
     "output_type": "stream",
     "text": [
      "\n",
      "  1%|█                                                                               | 3/225 [01:09<1:26:58, 23.51s/it]"
     ]
    },
    {
     "name": "stdout",
     "output_type": "stream",
     "text": [
      "Processing data for material : WATER\n",
      "image_data shape is :  (2048, 2448)\n",
      "im90 shape is :  (1024, 1224)\n",
      "Stokes time:  0.026983976364135742 s\n",
      "im_stokes0 shape is :  (1024, 1224)\n",
      "DoLP time:  0.0339810848236084 s\n",
      "im_DOLP shape is :  (1024, 1224)\n",
      "Time for DOLP2Theta conversion is :  21.36777973175049 seconds\n",
      "False\n",
      "AoLP time:  0.04097628593444824 s\n"
     ]
    },
    {
     "name": "stderr",
     "output_type": "stream",
     "text": [
      "\n",
      "  2%|█▍                                                                              | 4/225 [01:31<1:24:55, 23.06s/it]"
     ]
    },
    {
     "name": "stdout",
     "output_type": "stream",
     "text": [
      "Processing data for material : WATER\n",
      "image_data shape is :  (2048, 2448)\n",
      "im90 shape is :  (1024, 1224)\n",
      "Stokes time:  0.02498483657836914 s\n",
      "im_stokes0 shape is :  (1024, 1224)\n",
      "DoLP time:  0.0339813232421875 s\n",
      "im_DOLP shape is :  (1024, 1224)\n",
      "Time for DOLP2Theta conversion is :  21.404757499694824 seconds\n",
      "False\n",
      "AoLP time:  0.04097414016723633 s\n"
     ]
    },
    {
     "name": "stderr",
     "output_type": "stream",
     "text": [
      "\n",
      "  2%|█▊                                                                              | 5/225 [01:53<1:23:25, 22.75s/it]"
     ]
    },
    {
     "name": "stdout",
     "output_type": "stream",
     "text": [
      "Processing data for material : WATER\n",
      "image_data shape is :  (2048, 2448)\n",
      "im90 shape is :  (1024, 1224)\n",
      "Stokes time:  0.024986982345581055 s\n",
      "im_stokes0 shape is :  (1024, 1224)\n",
      "DoLP time:  0.0359807014465332 s\n",
      "im_DOLP shape is :  (1024, 1224)\n",
      "Time for DOLP2Theta conversion is :  21.38276958465576 seconds\n",
      "False\n",
      "AoLP time:  0.043975830078125 s\n"
     ]
    },
    {
     "name": "stderr",
     "output_type": "stream",
     "text": [
      "\n",
      "  3%|██▏                                                                             | 6/225 [02:15<1:22:14, 22.53s/it]"
     ]
    },
    {
     "name": "stdout",
     "output_type": "stream",
     "text": [
      "Processing data for material : WATER\n",
      "image_data shape is :  (2048, 2448)\n",
      "im90 shape is :  (1024, 1224)\n",
      "Stokes time:  0.0299837589263916 s\n",
      "im_stokes0 shape is :  (1024, 1224)\n",
      "DoLP time:  0.034980058670043945 s\n",
      "im_DOLP shape is :  (1024, 1224)\n",
      "Time for DOLP2Theta conversion is :  21.330800533294678 seconds\n",
      "False\n",
      "AoLP time:  0.04496598243713379 s\n"
     ]
    },
    {
     "name": "stderr",
     "output_type": "stream",
     "text": [
      "\n",
      "  3%|██▍                                                                             | 7/225 [02:37<1:21:14, 22.36s/it]"
     ]
    },
    {
     "name": "stdout",
     "output_type": "stream",
     "text": [
      "Processing data for material : WATER\n",
      "image_data shape is :  (2048, 2448)\n",
      "im90 shape is :  (1024, 1224)\n",
      "Stokes time:  0.025985240936279297 s\n",
      "im_stokes0 shape is :  (1024, 1224)\n",
      "DoLP time:  0.03298020362854004 s\n",
      "im_DOLP shape is :  (1024, 1224)\n",
      "Time for DOLP2Theta conversion is :  21.383769035339355 seconds\n",
      "False\n",
      "AoLP time:  0.056967973709106445 s\n"
     ]
    },
    {
     "name": "stderr",
     "output_type": "stream",
     "text": [
      "\n",
      "  4%|██▊                                                                             | 8/225 [02:59<1:20:29, 22.26s/it]"
     ]
    },
    {
     "name": "stdout",
     "output_type": "stream",
     "text": [
      "Processing data for material : WATER\n",
      "image_data shape is :  (2048, 2448)\n",
      "im90 shape is :  (1024, 1224)\n",
      "Stokes time:  0.026982545852661133 s\n",
      "im_stokes0 shape is :  (1024, 1224)\n",
      "DoLP time:  0.033980369567871094 s\n",
      "im_DOLP shape is :  (1024, 1224)\n",
      "Time for DOLP2Theta conversion is :  21.348790407180786 seconds\n",
      "False\n",
      "AoLP time:  0.04097723960876465 s\n"
     ]
    },
    {
     "name": "stderr",
     "output_type": "stream",
     "text": [
      "\n",
      "  4%|███▏                                                                            | 9/225 [03:21<1:19:49, 22.17s/it]"
     ]
    },
    {
     "name": "stdout",
     "output_type": "stream",
     "text": [
      "Processing data for material : WATER\n",
      "image_data shape is :  (2048, 2448)\n",
      "im90 shape is :  (1024, 1224)\n",
      "Stokes time:  0.02498483657836914 s\n",
      "im_stokes0 shape is :  (1024, 1224)\n",
      "DoLP time:  0.03497934341430664 s\n",
      "im_DOLP shape is :  (1024, 1224)\n",
      "Time for DOLP2Theta conversion is :  21.514695405960083 seconds\n",
      "False\n",
      "AoLP time:  0.04197406768798828 s\n"
     ]
    },
    {
     "name": "stderr",
     "output_type": "stream",
     "text": [
      "\n",
      "  4%|███▌                                                                           | 10/225 [03:43<1:19:27, 22.17s/it]"
     ]
    },
    {
     "name": "stdout",
     "output_type": "stream",
     "text": [
      "Processing data for material : WATER\n",
      "image_data shape is :  (2048, 2448)\n",
      "im90 shape is :  (1024, 1224)\n",
      "Stokes time:  0.024985313415527344 s\n",
      "im_stokes0 shape is :  (1024, 1224)\n",
      "DoLP time:  0.03497958183288574 s\n",
      "im_DOLP shape is :  (1024, 1224)\n",
      "Time for DOLP2Theta conversion is :  21.23485493659973 seconds\n",
      "False\n",
      "AoLP time:  0.04399251937866211 s\n"
     ]
    },
    {
     "name": "stderr",
     "output_type": "stream",
     "text": [
      "\n",
      "  5%|███▊                                                                           | 11/225 [04:05<1:18:45, 22.08s/it]"
     ]
    },
    {
     "name": "stdout",
     "output_type": "stream",
     "text": [
      "Processing data for material : WATER\n",
      "image_data shape is :  (2048, 2448)\n",
      "im90 shape is :  (1024, 1224)\n",
      "Stokes time:  0.023986101150512695 s\n",
      "im_stokes0 shape is :  (1024, 1224)\n",
      "DoLP time:  0.03397989273071289 s\n",
      "im_DOLP shape is :  (1024, 1224)\n",
      "Time for DOLP2Theta conversion is :  21.58465552330017 seconds\n",
      "False\n",
      "AoLP time:  0.047971487045288086 s\n"
     ]
    },
    {
     "name": "stderr",
     "output_type": "stream",
     "text": [
      "\n",
      "  5%|████▏                                                                          | 12/225 [04:27<1:18:34, 22.14s/it]"
     ]
    },
    {
     "name": "stdout",
     "output_type": "stream",
     "text": [
      "Processing data for material : WATER\n",
      "image_data shape is :  (2048, 2448)\n",
      "im90 shape is :  (1024, 1224)\n",
      "Stokes time:  0.02498483657836914 s\n",
      "im_stokes0 shape is :  (1024, 1224)\n",
      "DoLP time:  0.03697824478149414 s\n",
      "im_DOLP shape is :  (1024, 1224)\n",
      "Time for DOLP2Theta conversion is :  21.494706630706787 seconds\n",
      "False\n",
      "AoLP time:  0.04297375679016113 s\n"
     ]
    },
    {
     "name": "stderr",
     "output_type": "stream",
     "text": [
      "\n",
      "  6%|████▌                                                                          | 13/225 [04:49<1:18:10, 22.13s/it]"
     ]
    },
    {
     "name": "stdout",
     "output_type": "stream",
     "text": [
      "Processing data for material : WATER\n",
      "image_data shape is :  (2048, 2448)\n",
      "im90 shape is :  (1024, 1224)\n",
      "Stokes time:  0.023984432220458984 s\n",
      "im_stokes0 shape is :  (1024, 1224)\n",
      "DoLP time:  0.03497934341430664 s\n",
      "im_DOLP shape is :  (1024, 1224)\n",
      "Time for DOLP2Theta conversion is :  21.21986413002014 seconds\n",
      "False\n",
      "AoLP time:  0.04397439956665039 s\n"
     ]
    },
    {
     "name": "stderr",
     "output_type": "stream",
     "text": [
      "\n",
      "  6%|████▉                                                                          | 14/225 [05:11<1:17:29, 22.04s/it]"
     ]
    },
    {
     "name": "stdout",
     "output_type": "stream",
     "text": [
      "Processing data for material : WATER\n",
      "image_data shape is :  (2048, 2448)\n",
      "im90 shape is :  (1024, 1224)\n",
      "Stokes time:  0.024987220764160156 s\n",
      "im_stokes0 shape is :  (1024, 1224)\n",
      "DoLP time:  0.03797745704650879 s\n",
      "im_DOLP shape is :  (1024, 1224)\n",
      "Time for DOLP2Theta conversion is :  21.448732376098633 seconds\n",
      "False\n",
      "AoLP time:  0.04297327995300293 s\n"
     ]
    },
    {
     "name": "stderr",
     "output_type": "stream",
     "text": [
      "\n",
      "  7%|█████▎                                                                         | 15/225 [05:33<1:17:10, 22.05s/it]"
     ]
    },
    {
     "name": "stdout",
     "output_type": "stream",
     "text": [
      "Processing data for material : WATER\n",
      "image_data shape is :  (2048, 2448)\n",
      "im90 shape is :  (1024, 1224)\n",
      "Stokes time:  0.024984359741210938 s\n",
      "im_stokes0 shape is :  (1024, 1224)\n",
      "DoLP time:  0.034980058670043945 s\n",
      "im_DOLP shape is :  (1024, 1224)\n",
      "Time for DOLP2Theta conversion is :  21.625632286071777 seconds\n",
      "False\n",
      "AoLP time:  0.04497337341308594 s\n"
     ]
    },
    {
     "name": "stderr",
     "output_type": "stream",
     "text": [
      "\n",
      "  7%|█████▌                                                                         | 16/225 [05:55<1:17:00, 22.11s/it]"
     ]
    },
    {
     "name": "stdout",
     "output_type": "stream",
     "text": [
      "Processing data for material : WATER\n",
      "image_data shape is :  (2048, 2448)\n",
      "im90 shape is :  (1024, 1224)\n",
      "Stokes time:  0.02498602867126465 s\n",
      "im_stokes0 shape is :  (1024, 1224)\n",
      "DoLP time:  0.03697824478149414 s\n",
      "im_DOLP shape is :  (1024, 1224)\n",
      "Time for DOLP2Theta conversion is :  20.55324363708496 seconds\n",
      "False\n",
      "AoLP time:  0.04297447204589844 s\n"
     ]
    },
    {
     "name": "stderr",
     "output_type": "stream",
     "text": [
      "\n",
      "  8%|█████▉                                                                         | 17/225 [06:17<1:15:40, 21.83s/it]"
     ]
    },
    {
     "name": "stdout",
     "output_type": "stream",
     "text": [
      "Processing data for material : WATER\n",
      "image_data shape is :  (2048, 2448)\n",
      "im90 shape is :  (1024, 1224)\n",
      "Stokes time:  0.026984214782714844 s\n",
      "im_stokes0 shape is :  (1024, 1224)\n",
      "DoLP time:  0.03897690773010254 s\n",
      "im_DOLP shape is :  (1024, 1224)\n",
      "Time for DOLP2Theta conversion is :  21.578659057617188 seconds\n",
      "False\n",
      "AoLP time:  0.042975664138793945 s\n"
     ]
    },
    {
     "name": "stderr",
     "output_type": "stream",
     "text": [
      "\n",
      "  8%|██████▎                                                                        | 18/225 [06:39<1:15:43, 21.95s/it]"
     ]
    },
    {
     "name": "stdout",
     "output_type": "stream",
     "text": [
      "Processing data for material : WATER\n",
      "image_data shape is :  (2048, 2448)\n",
      "im90 shape is :  (1024, 1224)\n",
      "Stokes time:  0.029982566833496094 s\n",
      "im_stokes0 shape is :  (1024, 1224)\n",
      "DoLP time:  0.04097604751586914 s\n",
      "im_DOLP shape is :  (1024, 1224)\n",
      "Time for DOLP2Theta conversion is :  23.153756380081177 seconds\n",
      "False\n",
      "AoLP time:  0.04397463798522949 s\n"
     ]
    },
    {
     "name": "stderr",
     "output_type": "stream",
     "text": [
      "\n",
      "  8%|██████▋                                                                        | 19/225 [07:03<1:17:19, 22.52s/it]"
     ]
    },
    {
     "name": "stdout",
     "output_type": "stream",
     "text": [
      "Processing data for material : WATER\n",
      "image_data shape is :  (2048, 2448)\n",
      "im90 shape is :  (1024, 1224)\n",
      "Stokes time:  0.025985240936279297 s\n",
      "im_stokes0 shape is :  (1024, 1224)\n",
      "DoLP time:  0.03897690773010254 s\n",
      "im_DOLP shape is :  (1024, 1224)\n",
      "Time for DOLP2Theta conversion is :  23.839364528656006 seconds\n",
      "False\n",
      "AoLP time:  0.06396293640136719 s\n"
     ]
    },
    {
     "name": "stderr",
     "output_type": "stream",
     "text": [
      "\n",
      "  9%|███████                                                                        | 20/225 [07:27<1:19:01, 23.13s/it]"
     ]
    },
    {
     "name": "stdout",
     "output_type": "stream",
     "text": [
      "Processing data for material : WATER\n",
      "image_data shape is :  (2048, 2448)\n",
      "im90 shape is :  (1024, 1224)\n",
      "Stokes time:  0.0239870548248291 s\n",
      "im_stokes0 shape is :  (1024, 1224)\n",
      "DoLP time:  0.03697848320007324 s\n",
      "im_DOLP shape is :  (1024, 1224)\n",
      "Time for DOLP2Theta conversion is :  24.081226587295532 seconds\n",
      "False\n",
      "AoLP time:  0.042975425720214844 s\n"
     ]
    },
    {
     "name": "stderr",
     "output_type": "stream",
     "text": [
      "\n",
      "  9%|███████▎                                                                       | 21/225 [07:52<1:20:18, 23.62s/it]"
     ]
    },
    {
     "name": "stdout",
     "output_type": "stream",
     "text": [
      "Processing data for material : WATER\n",
      "image_data shape is :  (2048, 2448)\n",
      "im90 shape is :  (1024, 1224)\n",
      "Stokes time:  0.03198122978210449 s\n",
      "im_stokes0 shape is :  (1024, 1224)\n",
      "DoLP time:  0.05396914482116699 s\n",
      "im_DOLP shape is :  (1024, 1224)\n",
      "Time for DOLP2Theta conversion is :  22.89891242980957 seconds\n",
      "False\n",
      "AoLP time:  0.04996180534362793 s\n"
     ]
    },
    {
     "name": "stderr",
     "output_type": "stream",
     "text": [
      "\n",
      " 10%|███████▋                                                                       | 22/225 [08:16<1:19:51, 23.60s/it]"
     ]
    },
    {
     "name": "stdout",
     "output_type": "stream",
     "text": [
      "Processing data for material : WATER\n",
      "image_data shape is :  (2048, 2448)\n",
      "im90 shape is :  (1024, 1224)\n",
      "Stokes time:  0.02398681640625 s\n",
      "im_stokes0 shape is :  (1024, 1224)\n",
      "DoLP time:  0.037978172302246094 s\n",
      "im_DOLP shape is :  (1024, 1224)\n",
      "Time for DOLP2Theta conversion is :  22.864923000335693 seconds\n",
      "False\n",
      "AoLP time:  0.04197955131530762 s\n"
     ]
    },
    {
     "name": "stderr",
     "output_type": "stream",
     "text": [
      "\n",
      " 10%|████████                                                                       | 23/225 [08:39<1:19:24, 23.59s/it]"
     ]
    },
    {
     "name": "stdout",
     "output_type": "stream",
     "text": [
      "Processing data for material : WATER\n",
      "image_data shape is :  (2048, 2448)\n",
      "im90 shape is :  (1024, 1224)\n",
      "Stokes time:  0.0259854793548584 s\n",
      "im_stokes0 shape is :  (1024, 1224)\n",
      "DoLP time:  0.038977622985839844 s\n",
      "im_DOLP shape is :  (1024, 1224)\n",
      "Time for DOLP2Theta conversion is :  22.67902898788452 seconds\n",
      "False\n",
      "AoLP time:  0.04397392272949219 s\n"
     ]
    },
    {
     "name": "stderr",
     "output_type": "stream",
     "text": [
      "\n",
      " 11%|████████▍                                                                      | 24/225 [09:03<1:18:47, 23.52s/it]"
     ]
    },
    {
     "name": "stdout",
     "output_type": "stream",
     "text": [
      "Processing data for material : WATER\n",
      "image_data shape is :  (2048, 2448)\n",
      "im90 shape is :  (1024, 1224)\n",
      "Stokes time:  0.027983903884887695 s\n",
      "im_stokes0 shape is :  (1024, 1224)\n",
      "DoLP time:  0.036978960037231445 s\n",
      "im_DOLP shape is :  (1024, 1224)\n",
      "Time for DOLP2Theta conversion is :  22.730998992919922 seconds\n",
      "False\n",
      "AoLP time:  0.04297494888305664 s\n"
     ]
    },
    {
     "name": "stderr",
     "output_type": "stream",
     "text": [
      "\n",
      " 11%|████████▊                                                                      | 25/225 [09:26<1:18:18, 23.49s/it]"
     ]
    },
    {
     "name": "stdout",
     "output_type": "stream",
     "text": [
      "Processing data for material : WATER\n",
      "image_data shape is :  (2048, 2448)\n",
      "im90 shape is :  (1024, 1224)\n",
      "Stokes time:  0.02898406982421875 s\n",
      "im_stokes0 shape is :  (1024, 1224)\n",
      "DoLP time:  0.034979820251464844 s\n",
      "im_DOLP shape is :  (1024, 1224)\n",
      "Time for DOLP2Theta conversion is :  23.038822889328003 seconds\n",
      "False\n",
      "AoLP time:  0.04597616195678711 s\n"
     ]
    },
    {
     "name": "stderr",
     "output_type": "stream",
     "text": [
      "\n",
      " 12%|█████████▏                                                                     | 26/225 [09:50<1:18:09, 23.56s/it]"
     ]
    },
    {
     "name": "stdout",
     "output_type": "stream",
     "text": [
      "Processing data for material : WATER\n",
      "image_data shape is :  (2048, 2448)\n",
      "im90 shape is :  (1024, 1224)\n",
      "Stokes time:  0.0279848575592041 s\n",
      "im_stokes0 shape is :  (1024, 1224)\n",
      "DoLP time:  0.03397989273071289 s\n",
      "im_DOLP shape is :  (1024, 1224)\n",
      "Time for DOLP2Theta conversion is :  22.522117614746094 seconds\n",
      "False\n",
      "AoLP time:  0.04497337341308594 s\n"
     ]
    },
    {
     "name": "stderr",
     "output_type": "stream",
     "text": [
      "\n",
      " 12%|█████████▍                                                                     | 27/225 [10:13<1:17:22, 23.45s/it]"
     ]
    },
    {
     "name": "stdout",
     "output_type": "stream",
     "text": [
      "Processing data for material : WATER\n",
      "image_data shape is :  (2048, 2448)\n",
      "im90 shape is :  (1024, 1224)\n",
      "Stokes time:  0.024985074996948242 s\n",
      "im_stokes0 shape is :  (1024, 1224)\n",
      "DoLP time:  0.03697824478149414 s\n",
      "im_DOLP shape is :  (1024, 1224)\n",
      "Time for DOLP2Theta conversion is :  22.733997106552124 seconds\n",
      "False\n",
      "AoLP time:  0.04597330093383789 s\n"
     ]
    },
    {
     "name": "stderr",
     "output_type": "stream",
     "text": [
      "\n",
      " 12%|█████████▊                                                                     | 28/225 [10:36<1:16:56, 23.43s/it]"
     ]
    },
    {
     "name": "stdout",
     "output_type": "stream",
     "text": [
      "Processing data for material : WATER\n",
      "image_data shape is :  (2048, 2448)\n",
      "im90 shape is :  (1024, 1224)\n",
      "Stokes time:  0.02398681640625 s\n",
      "im_stokes0 shape is :  (1024, 1224)\n",
      "DoLP time:  0.03697848320007324 s\n",
      "im_DOLP shape is :  (1024, 1224)\n",
      "Time for DOLP2Theta conversion is :  22.860925912857056 seconds\n",
      "False\n",
      "AoLP time:  0.04397463798522949 s\n"
     ]
    },
    {
     "name": "stderr",
     "output_type": "stream",
     "text": [
      "\n",
      " 13%|██████████▏                                                                    | 29/225 [11:00<1:16:37, 23.45s/it]"
     ]
    },
    {
     "name": "stdout",
     "output_type": "stream",
     "text": [
      "Processing data for material : WATER\n",
      "image_data shape is :  (2048, 2448)\n",
      "im90 shape is :  (1024, 1224)\n",
      "Stokes time:  0.028983592987060547 s\n",
      "im_stokes0 shape is :  (1024, 1224)\n",
      "DoLP time:  0.0399782657623291 s\n",
      "im_DOLP shape is :  (1024, 1224)\n",
      "Time for DOLP2Theta conversion is :  22.964866876602173 seconds\n",
      "False\n",
      "AoLP time:  0.04297685623168945 s\n"
     ]
    },
    {
     "name": "stderr",
     "output_type": "stream",
     "text": [
      "\n",
      " 13%|██████████▌                                                                    | 30/225 [11:23<1:16:24, 23.51s/it]"
     ]
    },
    {
     "name": "stdout",
     "output_type": "stream",
     "text": [
      "Processing data for material : WATER\n",
      "image_data shape is :  (2048, 2448)\n",
      "im90 shape is :  (1024, 1224)\n",
      "Stokes time:  0.0279843807220459 s\n",
      "im_stokes0 shape is :  (1024, 1224)\n",
      "DoLP time:  0.03697848320007324 s\n",
      "im_DOLP shape is :  (1024, 1224)\n",
      "Time for DOLP2Theta conversion is :  23.440593481063843 seconds\n",
      "False\n",
      "AoLP time:  0.04497408866882324 s\n"
     ]
    },
    {
     "name": "stderr",
     "output_type": "stream",
     "text": [
      "\n",
      " 14%|██████████▉                                                                    | 31/225 [11:48<1:16:35, 23.69s/it]"
     ]
    },
    {
     "name": "stdout",
     "output_type": "stream",
     "text": [
      "Processing data for material : WATER\n",
      "image_data shape is :  (2048, 2448)\n",
      "im90 shape is :  (1024, 1224)\n",
      "Stokes time:  0.024985551834106445 s\n",
      "im_stokes0 shape is :  (1024, 1224)\n",
      "DoLP time:  0.036978721618652344 s\n",
      "im_DOLP shape is :  (1024, 1224)\n",
      "Time for DOLP2Theta conversion is :  22.640051126480103 seconds\n",
      "False\n",
      "AoLP time:  0.040976762771606445 s\n"
     ]
    },
    {
     "name": "stderr",
     "output_type": "stream",
     "text": [
      "\n",
      " 14%|███████████▏                                                                   | 32/225 [12:11<1:15:48, 23.56s/it]"
     ]
    },
    {
     "name": "stdout",
     "output_type": "stream",
     "text": [
      "Processing data for material : WATER\n",
      "image_data shape is :  (2048, 2448)\n",
      "im90 shape is :  (1024, 1224)\n",
      "Stokes time:  0.02798295021057129 s\n",
      "im_stokes0 shape is :  (1024, 1224)\n",
      "DoLP time:  0.0379786491394043 s\n",
      "im_DOLP shape is :  (1024, 1224)\n",
      "Time for DOLP2Theta conversion is :  22.387197017669678 seconds\n",
      "False\n",
      "AoLP time:  0.0419764518737793 s\n"
     ]
    },
    {
     "name": "stderr",
     "output_type": "stream",
     "text": [
      "\n",
      " 15%|███████████▌                                                                   | 33/225 [12:34<1:14:53, 23.40s/it]"
     ]
    },
    {
     "name": "stdout",
     "output_type": "stream",
     "text": [
      "Processing data for material : WATER\n",
      "image_data shape is :  (2048, 2448)\n",
      "im90 shape is :  (1024, 1224)\n",
      "Stokes time:  0.02398538589477539 s\n",
      "im_stokes0 shape is :  (1024, 1224)\n",
      "DoLP time:  0.03298068046569824 s\n",
      "im_DOLP shape is :  (1024, 1224)\n",
      "Time for DOLP2Theta conversion is :  20.92503261566162 seconds\n",
      "False\n",
      "AoLP time:  0.04397463798522949 s\n"
     ]
    },
    {
     "name": "stderr",
     "output_type": "stream",
     "text": [
      "\n",
      " 15%|███████████▉                                                                   | 34/225 [12:55<1:12:46, 22.86s/it]"
     ]
    },
    {
     "name": "stdout",
     "output_type": "stream",
     "text": [
      "Processing data for material : WATER\n",
      "image_data shape is :  (2048, 2448)\n",
      "im90 shape is :  (1024, 1224)\n",
      "Stokes time:  0.02598285675048828 s\n",
      "im_stokes0 shape is :  (1024, 1224)\n",
      "DoLP time:  0.03497910499572754 s\n",
      "im_DOLP shape is :  (1024, 1224)\n",
      "Time for DOLP2Theta conversion is :  20.990994691848755 seconds\n",
      "False\n",
      "AoLP time:  0.04197549819946289 s\n"
     ]
    },
    {
     "name": "stderr",
     "output_type": "stream",
     "text": [
      "\n",
      " 16%|████████████▎                                                                  | 35/225 [13:17<1:11:13, 22.49s/it]"
     ]
    },
    {
     "name": "stdout",
     "output_type": "stream",
     "text": [
      "Processing data for material : WATER\n",
      "image_data shape is :  (2048, 2448)\n",
      "im90 shape is :  (1024, 1224)\n",
      "Stokes time:  0.024985790252685547 s\n",
      "im_stokes0 shape is :  (1024, 1224)\n",
      "DoLP time:  0.03198099136352539 s\n",
      "im_DOLP shape is :  (1024, 1224)\n",
      "Time for DOLP2Theta conversion is :  21.202873706817627 seconds\n",
      "False\n",
      "AoLP time:  0.041975975036621094 s\n"
     ]
    },
    {
     "name": "stderr",
     "output_type": "stream",
     "text": [
      "\n",
      " 16%|████████████▋                                                                  | 36/225 [13:39<1:10:13, 22.29s/it]"
     ]
    },
    {
     "name": "stdout",
     "output_type": "stream",
     "text": [
      "Processing data for material : WATER\n",
      "image_data shape is :  (2048, 2448)\n",
      "im90 shape is :  (1024, 1224)\n",
      "Stokes time:  0.02698230743408203 s\n",
      "im_stokes0 shape is :  (1024, 1224)\n",
      "DoLP time:  0.03397965431213379 s\n",
      "im_DOLP shape is :  (1024, 1224)\n",
      "Time for DOLP2Theta conversion is :  21.21686625480652 seconds\n",
      "False\n",
      "AoLP time:  0.04097580909729004 s\n"
     ]
    },
    {
     "name": "stderr",
     "output_type": "stream",
     "text": [
      "\n",
      " 16%|████████████▉                                                                  | 37/225 [14:01<1:09:25, 22.16s/it]"
     ]
    },
    {
     "name": "stdout",
     "output_type": "stream",
     "text": [
      "Processing data for material : WATER\n",
      "image_data shape is :  (2048, 2448)\n",
      "im90 shape is :  (1024, 1224)\n",
      "Stokes time:  0.022986650466918945 s\n",
      "im_stokes0 shape is :  (1024, 1224)\n",
      "DoLP time:  0.03198051452636719 s\n",
      "im_DOLP shape is :  (1024, 1224)\n",
      "Time for DOLP2Theta conversion is :  21.830515146255493 seconds\n",
      "False\n",
      "AoLP time:  0.039977073669433594 s\n"
     ]
    },
    {
     "name": "stderr",
     "output_type": "stream",
     "text": [
      "\n",
      " 17%|█████████████▎                                                                 | 38/225 [14:23<1:09:20, 22.25s/it]"
     ]
    },
    {
     "name": "stdout",
     "output_type": "stream",
     "text": [
      "Processing data for material : WATER\n",
      "image_data shape is :  (2048, 2448)\n",
      "im90 shape is :  (1024, 1224)\n",
      "Stokes time:  0.026984214782714844 s\n",
      "im_stokes0 shape is :  (1024, 1224)\n",
      "DoLP time:  0.03298139572143555 s\n",
      "im_DOLP shape is :  (1024, 1224)\n",
      "Time for DOLP2Theta conversion is :  21.16189479827881 seconds\n",
      "False\n",
      "AoLP time:  0.046971797943115234 s\n"
     ]
    },
    {
     "name": "stderr",
     "output_type": "stream",
     "text": [
      "\n",
      " 17%|█████████████▋                                                                 | 39/225 [14:45<1:08:32, 22.11s/it]"
     ]
    },
    {
     "name": "stdout",
     "output_type": "stream",
     "text": [
      "Processing data for material : WATER\n",
      "image_data shape is :  (2048, 2448)\n",
      "im90 shape is :  (1024, 1224)\n",
      "Stokes time:  0.025985240936279297 s\n",
      "im_stokes0 shape is :  (1024, 1224)\n",
      "DoLP time:  0.03397989273071289 s\n",
      "im_DOLP shape is :  (1024, 1224)\n",
      "Time for DOLP2Theta conversion is :  21.036968231201172 seconds\n",
      "False\n",
      "AoLP time:  0.0419771671295166 s\n"
     ]
    },
    {
     "name": "stderr",
     "output_type": "stream",
     "text": [
      "\n",
      " 18%|██████████████                                                                 | 40/225 [15:07<1:07:46, 21.98s/it]"
     ]
    },
    {
     "name": "stdout",
     "output_type": "stream",
     "text": [
      "Processing data for material : WATER\n",
      "image_data shape is :  (2048, 2448)\n",
      "im90 shape is :  (1024, 1224)\n",
      "Stokes time:  0.0239870548248291 s\n",
      "im_stokes0 shape is :  (1024, 1224)\n",
      "DoLP time:  0.03297877311706543 s\n",
      "im_DOLP shape is :  (1024, 1224)\n",
      "Time for DOLP2Theta conversion is :  21.05996346473694 seconds\n",
      "False\n",
      "AoLP time:  0.040975093841552734 s\n"
     ]
    },
    {
     "name": "stderr",
     "output_type": "stream",
     "text": [
      "\n",
      " 18%|██████████████▍                                                                | 41/225 [15:28<1:07:08, 21.89s/it]"
     ]
    },
    {
     "name": "stdout",
     "output_type": "stream",
     "text": [
      "Processing data for material : WATER\n",
      "image_data shape is :  (2048, 2448)\n",
      "im90 shape is :  (1024, 1224)\n",
      "Stokes time:  0.023985862731933594 s\n",
      "im_stokes0 shape is :  (1024, 1224)\n",
      "DoLP time:  0.031980037689208984 s\n",
      "im_DOLP shape is :  (1024, 1224)\n",
      "Time for DOLP2Theta conversion is :  21.473719835281372 seconds\n",
      "False\n",
      "AoLP time:  0.0479736328125 s\n"
     ]
    },
    {
     "name": "stderr",
     "output_type": "stream",
     "text": [
      "\n",
      " 19%|██████████████▋                                                                | 42/225 [15:50<1:06:57, 21.96s/it]"
     ]
    },
    {
     "name": "stdout",
     "output_type": "stream",
     "text": [
      "Processing data for material : WATER\n",
      "image_data shape is :  (2048, 2448)\n",
      "im90 shape is :  (1024, 1224)\n",
      "Stokes time:  0.024985074996948242 s\n",
      "im_stokes0 shape is :  (1024, 1224)\n",
      "DoLP time:  0.03198122978210449 s\n",
      "im_DOLP shape is :  (1024, 1224)\n",
      "Time for DOLP2Theta conversion is :  21.282827615737915 seconds\n",
      "False\n",
      "AoLP time:  0.04397320747375488 s\n"
     ]
    },
    {
     "name": "stderr",
     "output_type": "stream",
     "text": [
      "\n",
      " 19%|███████████████                                                                | 43/225 [16:12<1:06:33, 21.94s/it]"
     ]
    },
    {
     "name": "stdout",
     "output_type": "stream",
     "text": [
      "Processing data for material : WATER\n",
      "image_data shape is :  (2048, 2448)\n",
      "im90 shape is :  (1024, 1224)\n",
      "Stokes time:  0.024985551834106445 s\n",
      "im_stokes0 shape is :  (1024, 1224)\n",
      "DoLP time:  0.0379793643951416 s\n",
      "im_DOLP shape is :  (1024, 1224)\n",
      "Time for DOLP2Theta conversion is :  20.98200011253357 seconds\n",
      "False\n",
      "AoLP time:  0.04097628593444824 s\n"
     ]
    },
    {
     "name": "stderr",
     "output_type": "stream",
     "text": [
      "\n",
      " 20%|███████████████▍                                                               | 44/225 [16:34<1:05:53, 21.84s/it]"
     ]
    },
    {
     "name": "stdout",
     "output_type": "stream",
     "text": [
      "Processing data for material : WATER\n",
      "image_data shape is :  (2048, 2448)\n",
      "im90 shape is :  (1024, 1224)\n",
      "Stokes time:  0.025984525680541992 s\n",
      "im_stokes0 shape is :  (1024, 1224)\n",
      "DoLP time:  0.032981157302856445 s\n",
      "im_DOLP shape is :  (1024, 1224)\n",
      "Time for DOLP2Theta conversion is :  21.333797216415405 seconds\n",
      "False\n",
      "AoLP time:  0.046971797943115234 s\n"
     ]
    },
    {
     "name": "stderr",
     "output_type": "stream",
     "text": [
      "\n",
      " 20%|███████████████▊                                                               | 45/225 [16:56<1:05:38, 21.88s/it]"
     ]
    },
    {
     "name": "stdout",
     "output_type": "stream",
     "text": [
      "Processing data for material : WATER\n",
      "image_data shape is :  (2048, 2448)\n",
      "im90 shape is :  (1024, 1224)\n",
      "Stokes time:  0.025983333587646484 s\n",
      "im_stokes0 shape is :  (1024, 1224)\n",
      "DoLP time:  0.031981468200683594 s\n",
      "im_DOLP shape is :  (1024, 1224)\n",
      "Time for DOLP2Theta conversion is :  21.13491129875183 seconds\n",
      "False\n",
      "AoLP time:  0.04197573661804199 s\n"
     ]
    },
    {
     "name": "stderr",
     "output_type": "stream",
     "text": [
      "\n",
      " 20%|████████████████▏                                                              | 46/225 [17:18<1:05:10, 21.84s/it]"
     ]
    },
    {
     "name": "stdout",
     "output_type": "stream",
     "text": [
      "Processing data for material : WATER\n",
      "image_data shape is :  (2048, 2448)\n",
      "im90 shape is :  (1024, 1224)\n",
      "Stokes time:  0.02498626708984375 s\n",
      "im_stokes0 shape is :  (1024, 1224)\n",
      "DoLP time:  0.03397941589355469 s\n",
      "im_DOLP shape is :  (1024, 1224)\n",
      "Time for DOLP2Theta conversion is :  21.013981580734253 seconds\n",
      "False\n",
      "AoLP time:  0.04297375679016113 s\n"
     ]
    },
    {
     "name": "stderr",
     "output_type": "stream",
     "text": [
      "\n",
      " 21%|████████████████▌                                                              | 47/225 [17:39<1:04:38, 21.79s/it]"
     ]
    },
    {
     "name": "stdout",
     "output_type": "stream",
     "text": [
      "Processing data for material : WATER\n",
      "image_data shape is :  (2048, 2448)\n",
      "im90 shape is :  (1024, 1224)\n",
      "Stokes time:  0.0239870548248291 s\n",
      "im_stokes0 shape is :  (1024, 1224)\n",
      "DoLP time:  0.032981157302856445 s\n",
      "im_DOLP shape is :  (1024, 1224)\n",
      "Time for DOLP2Theta conversion is :  20.87606120109558 seconds\n",
      "False\n",
      "AoLP time:  0.04097437858581543 s\n"
     ]
    },
    {
     "name": "stderr",
     "output_type": "stream",
     "text": [
      "\n",
      " 21%|████████████████▊                                                              | 48/225 [18:01<1:04:02, 21.71s/it]"
     ]
    },
    {
     "name": "stdout",
     "output_type": "stream",
     "text": [
      "Processing data for material : WATER\n",
      "image_data shape is :  (2048, 2448)\n",
      "im90 shape is :  (1024, 1224)\n",
      "Stokes time:  0.023986101150512695 s\n",
      "im_stokes0 shape is :  (1024, 1224)\n",
      "DoLP time:  0.035979270935058594 s\n",
      "im_DOLP shape is :  (1024, 1224)\n",
      "Time for DOLP2Theta conversion is :  21.016980171203613 seconds\n",
      "False\n",
      "AoLP time:  0.04697370529174805 s\n"
     ]
    },
    {
     "name": "stderr",
     "output_type": "stream",
     "text": [
      "\n",
      " 22%|█████████████████▏                                                             | 49/225 [18:23<1:03:38, 21.69s/it]"
     ]
    },
    {
     "name": "stdout",
     "output_type": "stream",
     "text": [
      "Processing data for material : WATER\n",
      "image_data shape is :  (2048, 2448)\n",
      "im90 shape is :  (1024, 1224)\n",
      "Stokes time:  0.025985002517700195 s\n",
      "im_stokes0 shape is :  (1024, 1224)\n",
      "DoLP time:  0.032981157302856445 s\n",
      "im_DOLP shape is :  (1024, 1224)\n",
      "Time for DOLP2Theta conversion is :  21.20087194442749 seconds\n",
      "False\n",
      "AoLP time:  0.04097461700439453 s\n"
     ]
    },
    {
     "name": "stderr",
     "output_type": "stream",
     "text": [
      "\n",
      " 22%|█████████████████▌                                                             | 50/225 [18:44<1:03:24, 21.74s/it]"
     ]
    },
    {
     "name": "stdout",
     "output_type": "stream",
     "text": [
      "Processing data for material : WATER\n",
      "image_data shape is :  (2048, 2448)\n",
      "im90 shape is :  (1024, 1224)\n",
      "Stokes time:  0.0259859561920166 s\n",
      "im_stokes0 shape is :  (1024, 1224)\n",
      "DoLP time:  0.031981706619262695 s\n",
      "im_DOLP shape is :  (1024, 1224)\n",
      "Time for DOLP2Theta conversion is :  20.8181095123291 seconds\n",
      "False\n",
      "AoLP time:  0.039975643157958984 s\n"
     ]
    },
    {
     "name": "stderr",
     "output_type": "stream",
     "text": [
      "\n",
      " 23%|█████████████████▉                                                             | 51/225 [19:06<1:02:46, 21.64s/it]"
     ]
    },
    {
     "name": "stdout",
     "output_type": "stream",
     "text": [
      "Processing data for material : WATER\n",
      "image_data shape is :  (2048, 2448)\n",
      "im90 shape is :  (1024, 1224)\n",
      "Stokes time:  0.026984214782714844 s\n",
      "im_stokes0 shape is :  (1024, 1224)\n",
      "DoLP time:  0.03497958183288574 s\n",
      "im_DOLP shape is :  (1024, 1224)\n",
      "Time for DOLP2Theta conversion is :  21.0709490776062 seconds\n",
      "False\n",
      "AoLP time:  0.039977073669433594 s\n"
     ]
    },
    {
     "name": "stderr",
     "output_type": "stream",
     "text": [
      "\n",
      " 23%|██████████████████▎                                                            | 52/225 [19:28<1:02:28, 21.66s/it]"
     ]
    },
    {
     "name": "stdout",
     "output_type": "stream",
     "text": [
      "Processing data for material : WATER\n",
      "image_data shape is :  (2048, 2448)\n",
      "im90 shape is :  (1024, 1224)\n",
      "Stokes time:  0.023985624313354492 s\n",
      "im_stokes0 shape is :  (1024, 1224)\n",
      "DoLP time:  0.03098320960998535 s\n",
      "im_DOLP shape is :  (1024, 1224)\n",
      "Time for DOLP2Theta conversion is :  21.0299711227417 seconds\n",
      "False\n",
      "AoLP time:  0.04597210884094238 s\n"
     ]
    },
    {
     "name": "stderr",
     "output_type": "stream",
     "text": [
      "\n",
      " 24%|██████████████████▌                                                            | 53/225 [19:49<1:02:04, 21.65s/it]"
     ]
    },
    {
     "name": "stdout",
     "output_type": "stream",
     "text": [
      "Processing data for material : WATER\n",
      "image_data shape is :  (2048, 2448)\n",
      "im90 shape is :  (1024, 1224)\n",
      "Stokes time:  0.025985002517700195 s\n",
      "im_stokes0 shape is :  (1024, 1224)\n",
      "DoLP time:  0.03398013114929199 s\n",
      "im_DOLP shape is :  (1024, 1224)\n",
      "Time for DOLP2Theta conversion is :  21.432742595672607 seconds\n",
      "False\n",
      "AoLP time:  0.04097485542297363 s\n"
     ]
    },
    {
     "name": "stderr",
     "output_type": "stream",
     "text": [
      "\n",
      " 24%|██████████████████▉                                                            | 54/225 [20:11<1:02:04, 21.78s/it]"
     ]
    },
    {
     "name": "stdout",
     "output_type": "stream",
     "text": [
      "Processing data for material : WATER\n",
      "image_data shape is :  (2048, 2448)\n",
      "im90 shape is :  (1024, 1224)\n",
      "Stokes time:  0.026984214782714844 s\n",
      "im_stokes0 shape is :  (1024, 1224)\n",
      "DoLP time:  0.03697824478149414 s\n",
      "im_DOLP shape is :  (1024, 1224)\n",
      "Time for DOLP2Theta conversion is :  20.975003480911255 seconds\n",
      "False\n",
      "AoLP time:  0.04297494888305664 s\n"
     ]
    },
    {
     "name": "stderr",
     "output_type": "stream",
     "text": [
      "\n",
      " 24%|███████████████████▎                                                           | 55/225 [20:33<1:01:35, 21.74s/it]"
     ]
    },
    {
     "name": "stdout",
     "output_type": "stream",
     "text": [
      "Processing data for material : WATER\n",
      "image_data shape is :  (2048, 2448)\n",
      "im90 shape is :  (1024, 1224)\n",
      "Stokes time:  0.024983644485473633 s\n",
      "im_stokes0 shape is :  (1024, 1224)\n",
      "DoLP time:  0.03498029708862305 s\n",
      "im_DOLP shape is :  (1024, 1224)\n",
      "Time for DOLP2Theta conversion is :  21.115922689437866 seconds\n",
      "False\n",
      "AoLP time:  0.04197382926940918 s\n"
     ]
    },
    {
     "name": "stderr",
     "output_type": "stream",
     "text": [
      "\n",
      " 25%|███████████████████▋                                                           | 56/225 [20:55<1:01:14, 21.74s/it]"
     ]
    },
    {
     "name": "stdout",
     "output_type": "stream",
     "text": [
      "Processing data for material : WATER\n",
      "image_data shape is :  (2048, 2448)\n",
      "im90 shape is :  (1024, 1224)\n",
      "Stokes time:  0.0259854793548584 s\n",
      "im_stokes0 shape is :  (1024, 1224)\n",
      "DoLP time:  0.03198075294494629 s\n",
      "im_DOLP shape is :  (1024, 1224)\n",
      "Time for DOLP2Theta conversion is :  21.349788665771484 seconds\n",
      "False\n",
      "AoLP time:  0.04397439956665039 s\n"
     ]
    },
    {
     "name": "stderr",
     "output_type": "stream",
     "text": [
      "\n",
      " 25%|████████████████████                                                           | 57/225 [21:17<1:01:04, 21.81s/it]"
     ]
    },
    {
     "name": "stdout",
     "output_type": "stream",
     "text": [
      "Processing data for material : WATER\n",
      "image_data shape is :  (2048, 2448)\n",
      "im90 shape is :  (1024, 1224)\n",
      "Stokes time:  0.025984525680541992 s\n",
      "im_stokes0 shape is :  (1024, 1224)\n",
      "DoLP time:  0.03397941589355469 s\n",
      "im_DOLP shape is :  (1024, 1224)\n",
      "Time for DOLP2Theta conversion is :  21.28482675552368 seconds\n",
      "False\n",
      "AoLP time:  0.04097580909729004 s\n"
     ]
    },
    {
     "name": "stderr",
     "output_type": "stream",
     "text": [
      "\n",
      " 26%|████████████████████▎                                                          | 58/225 [21:38<1:00:47, 21.84s/it]"
     ]
    },
    {
     "name": "stdout",
     "output_type": "stream",
     "text": [
      "Processing data for material : WATER\n",
      "image_data shape is :  (2048, 2448)\n",
      "im90 shape is :  (1024, 1224)\n",
      "Stokes time:  0.02698516845703125 s\n",
      "im_stokes0 shape is :  (1024, 1224)\n",
      "DoLP time:  0.03298187255859375 s\n",
      "im_DOLP shape is :  (1024, 1224)\n",
      "Time for DOLP2Theta conversion is :  21.108927249908447 seconds\n",
      "False\n",
      "AoLP time:  0.04097580909729004 s\n"
     ]
    },
    {
     "name": "stderr",
     "output_type": "stream",
     "text": [
      "\n",
      " 26%|████████████████████▋                                                          | 59/225 [22:00<1:00:19, 21.81s/it]"
     ]
    },
    {
     "name": "stdout",
     "output_type": "stream",
     "text": [
      "Processing data for material : WATER\n",
      "image_data shape is :  (2048, 2448)\n",
      "im90 shape is :  (1024, 1224)\n",
      "Stokes time:  0.024985551834106445 s\n",
      "im_stokes0 shape is :  (1024, 1224)\n",
      "DoLP time:  0.03198099136352539 s\n",
      "im_DOLP shape is :  (1024, 1224)\n",
      "Time for DOLP2Theta conversion is :  21.12291979789734 seconds\n",
      "False\n",
      "AoLP time:  0.042973995208740234 s\n"
     ]
    },
    {
     "name": "stderr",
     "output_type": "stream",
     "text": [
      "\n",
      " 27%|█████████████████████▌                                                           | 60/225 [22:22<59:55, 21.79s/it]"
     ]
    },
    {
     "name": "stdout",
     "output_type": "stream",
     "text": [
      "Processing data for material : WATER\n",
      "image_data shape is :  (2048, 2448)\n",
      "im90 shape is :  (1024, 1224)\n",
      "Stokes time:  0.024985790252685547 s\n",
      "im_stokes0 shape is :  (1024, 1224)\n",
      "DoLP time:  0.03298020362854004 s\n",
      "im_DOLP shape is :  (1024, 1224)\n",
      "Time for DOLP2Theta conversion is :  21.50270175933838 seconds\n",
      "False\n",
      "AoLP time:  0.049970149993896484 s\n"
     ]
    },
    {
     "name": "stderr",
     "output_type": "stream",
     "text": [
      "\n",
      " 27%|█████████████████████▉                                                           | 61/225 [22:44<59:51, 21.90s/it]"
     ]
    },
    {
     "name": "stdout",
     "output_type": "stream",
     "text": [
      "Processing data for material : WATER\n",
      "image_data shape is :  (2048, 2448)\n",
      "im90 shape is :  (1024, 1224)\n",
      "Stokes time:  0.023986101150512695 s\n",
      "im_stokes0 shape is :  (1024, 1224)\n",
      "DoLP time:  0.03198051452636719 s\n",
      "im_DOLP shape is :  (1024, 1224)\n",
      "Time for DOLP2Theta conversion is :  21.017980337142944 seconds\n",
      "False\n",
      "AoLP time:  0.040978193283081055 s\n"
     ]
    },
    {
     "name": "stderr",
     "output_type": "stream",
     "text": [
      "\n",
      " 28%|██████████████████████▎                                                          | 62/225 [23:06<59:16, 21.82s/it]"
     ]
    },
    {
     "name": "stdout",
     "output_type": "stream",
     "text": [
      "Processing data for material : WATER\n",
      "image_data shape is :  (2048, 2448)\n",
      "im90 shape is :  (1024, 1224)\n",
      "Stokes time:  0.02498483657836914 s\n",
      "im_stokes0 shape is :  (1024, 1224)\n",
      "DoLP time:  0.03497910499572754 s\n",
      "im_DOLP shape is :  (1024, 1224)\n",
      "Time for DOLP2Theta conversion is :  24.500985383987427 seconds\n",
      "False\n",
      "AoLP time:  0.05996513366699219 s\n"
     ]
    },
    {
     "name": "stderr",
     "output_type": "stream",
     "text": [
      "\n",
      " 28%|██████████████████████                                                         | 63/225 [23:31<1:01:40, 22.84s/it]"
     ]
    },
    {
     "name": "stdout",
     "output_type": "stream",
     "text": [
      "Processing data for material : WATER\n",
      "image_data shape is :  (2048, 2448)\n",
      "im90 shape is :  (1024, 1224)\n",
      "Stokes time:  0.02498602867126465 s\n",
      "im_stokes0 shape is :  (1024, 1224)\n",
      "DoLP time:  0.03697848320007324 s\n",
      "im_DOLP shape is :  (1024, 1224)\n",
      "Time for DOLP2Theta conversion is :  23.51754879951477 seconds\n",
      "False\n",
      "AoLP time:  0.03897595405578613 s\n"
     ]
    },
    {
     "name": "stderr",
     "output_type": "stream",
     "text": [
      "\n",
      " 28%|██████████████████████▍                                                        | 64/225 [23:55<1:02:21, 23.24s/it]"
     ]
    },
    {
     "name": "stdout",
     "output_type": "stream",
     "text": [
      "Processing data for material : WATER\n",
      "image_data shape is :  (2048, 2448)\n",
      "im90 shape is :  (1024, 1224)\n",
      "Stokes time:  0.023983478546142578 s\n",
      "im_stokes0 shape is :  (1024, 1224)\n",
      "DoLP time:  0.031981468200683594 s\n",
      "im_DOLP shape is :  (1024, 1224)\n",
      "Time for DOLP2Theta conversion is :  21.684598445892334 seconds\n",
      "False\n",
      "AoLP time:  0.05396914482116699 s\n"
     ]
    },
    {
     "name": "stderr",
     "output_type": "stream",
     "text": [
      "\n",
      " 29%|██████████████████████▊                                                        | 65/225 [24:17<1:01:15, 22.97s/it]"
     ]
    },
    {
     "name": "stdout",
     "output_type": "stream",
     "text": [
      "Processing data for material : WATER\n",
      "image_data shape is :  (2048, 2448)\n",
      "im90 shape is :  (1024, 1224)\n",
      "Stokes time:  0.023984670639038086 s\n",
      "im_stokes0 shape is :  (1024, 1224)\n",
      "DoLP time:  0.03697776794433594 s\n",
      "im_DOLP shape is :  (1024, 1224)\n",
      "Time for DOLP2Theta conversion is :  21.173890113830566 seconds\n",
      "False\n",
      "AoLP time:  0.04697227478027344 s\n"
     ]
    },
    {
     "name": "stderr",
     "output_type": "stream",
     "text": [
      "\n",
      " 29%|███████████████████████▊                                                         | 66/225 [24:39<59:57, 22.62s/it]"
     ]
    },
    {
     "name": "stdout",
     "output_type": "stream",
     "text": [
      "Processing data for material : WATER\n",
      "image_data shape is :  (2048, 2448)\n",
      "im90 shape is :  (1024, 1224)\n",
      "Stokes time:  0.026983976364135742 s\n",
      "im_stokes0 shape is :  (1024, 1224)\n",
      "DoLP time:  0.03697776794433594 s\n",
      "im_DOLP shape is :  (1024, 1224)\n",
      "Time for DOLP2Theta conversion is :  21.128915309906006 seconds\n",
      "False\n",
      "AoLP time:  0.04097485542297363 s\n"
     ]
    },
    {
     "name": "stderr",
     "output_type": "stream",
     "text": [
      "\n",
      " 30%|████████████████████████                                                         | 67/225 [25:01<58:53, 22.36s/it]"
     ]
    },
    {
     "name": "stdout",
     "output_type": "stream",
     "text": [
      "Processing data for material : WATER\n",
      "image_data shape is :  (2048, 2448)\n",
      "im90 shape is :  (1024, 1224)\n",
      "Stokes time:  0.025985002517700195 s\n",
      "im_stokes0 shape is :  (1024, 1224)\n",
      "DoLP time:  0.032980918884277344 s\n",
      "im_DOLP shape is :  (1024, 1224)\n",
      "Time for DOLP2Theta conversion is :  20.848076581954956 seconds\n",
      "False\n",
      "AoLP time:  0.041974544525146484 s\n"
     ]
    },
    {
     "name": "stderr",
     "output_type": "stream",
     "text": [
      "\n",
      " 30%|████████████████████████▍                                                        | 68/225 [25:23<57:50, 22.10s/it]"
     ]
    },
    {
     "name": "stdout",
     "output_type": "stream",
     "text": [
      "Processing data for material : WATER\n",
      "image_data shape is :  (2048, 2448)\n",
      "im90 shape is :  (1024, 1224)\n",
      "Stokes time:  0.022986650466918945 s\n",
      "im_stokes0 shape is :  (1024, 1224)\n",
      "DoLP time:  0.034978628158569336 s\n",
      "im_DOLP shape is :  (1024, 1224)\n",
      "Time for DOLP2Theta conversion is :  21.02097749710083 seconds\n",
      "False\n",
      "AoLP time:  0.04297494888305664 s\n"
     ]
    },
    {
     "name": "stderr",
     "output_type": "stream",
     "text": [
      "\n",
      " 31%|████████████████████████▊                                                        | 69/225 [25:44<57:06, 21.97s/it]"
     ]
    },
    {
     "name": "stdout",
     "output_type": "stream",
     "text": [
      "Processing data for material : WATER\n",
      "image_data shape is :  (2048, 2448)\n",
      "im90 shape is :  (1024, 1224)\n",
      "Stokes time:  0.02698516845703125 s\n",
      "im_stokes0 shape is :  (1024, 1224)\n",
      "DoLP time:  0.03797793388366699 s\n",
      "im_DOLP shape is :  (1024, 1224)\n",
      "Time for DOLP2Theta conversion is :  21.194878101348877 seconds\n",
      "False\n",
      "AoLP time:  0.048970699310302734 s\n"
     ]
    },
    {
     "name": "stderr",
     "output_type": "stream",
     "text": [
      "\n",
      " 31%|█████████████████████████▏                                                       | 70/225 [26:06<56:39, 21.93s/it]"
     ]
    },
    {
     "name": "stdout",
     "output_type": "stream",
     "text": [
      "Processing data for material : WATER\n",
      "image_data shape is :  (2048, 2448)\n",
      "im90 shape is :  (1024, 1224)\n",
      "Stokes time:  0.025984525680541992 s\n",
      "im_stokes0 shape is :  (1024, 1224)\n",
      "DoLP time:  0.03197979927062988 s\n",
      "im_DOLP shape is :  (1024, 1224)\n",
      "Time for DOLP2Theta conversion is :  20.962008714675903 seconds\n",
      "False\n",
      "AoLP time:  0.040976524353027344 s\n"
     ]
    },
    {
     "name": "stderr",
     "output_type": "stream",
     "text": [
      "\n",
      " 32%|█████████████████████████▌                                                       | 71/225 [26:28<56:01, 21.83s/it]"
     ]
    },
    {
     "name": "stdout",
     "output_type": "stream",
     "text": [
      "Processing data for material : WATER\n",
      "image_data shape is :  (2048, 2448)\n",
      "im90 shape is :  (1024, 1224)\n",
      "Stokes time:  0.02698373794555664 s\n",
      "im_stokes0 shape is :  (1024, 1224)\n",
      "DoLP time:  0.033980369567871094 s\n",
      "im_DOLP shape is :  (1024, 1224)\n",
      "Time for DOLP2Theta conversion is :  21.0909366607666 seconds\n",
      "False\n",
      "AoLP time:  0.04097580909729004 s\n"
     ]
    },
    {
     "name": "stderr",
     "output_type": "stream",
     "text": [
      "\n",
      " 32%|█████████████████████████▉                                                       | 72/225 [26:49<55:35, 21.80s/it]"
     ]
    },
    {
     "name": "stdout",
     "output_type": "stream",
     "text": [
      "Processing data for material : WATER\n",
      "image_data shape is :  (2048, 2448)\n",
      "im90 shape is :  (1024, 1224)\n",
      "Stokes time:  0.023987531661987305 s\n",
      "im_stokes0 shape is :  (1024, 1224)\n",
      "DoLP time:  0.03498053550720215 s\n",
      "im_DOLP shape is :  (1024, 1224)\n",
      "Time for DOLP2Theta conversion is :  20.92403221130371 seconds\n",
      "False\n",
      "AoLP time:  0.048972129821777344 s\n"
     ]
    },
    {
     "name": "stderr",
     "output_type": "stream",
     "text": [
      "\n",
      " 32%|██████████████████████████▎                                                      | 73/225 [27:11<55:02, 21.73s/it]"
     ]
    },
    {
     "name": "stdout",
     "output_type": "stream",
     "text": [
      "Processing data for material : WATER\n",
      "image_data shape is :  (2048, 2448)\n",
      "im90 shape is :  (1024, 1224)\n",
      "Stokes time:  0.024985551834106445 s\n",
      "im_stokes0 shape is :  (1024, 1224)\n",
      "DoLP time:  0.03198099136352539 s\n",
      "im_DOLP shape is :  (1024, 1224)\n",
      "Time for DOLP2Theta conversion is :  21.330799102783203 seconds\n",
      "False\n",
      "AoLP time:  0.040976762771606445 s\n"
     ]
    },
    {
     "name": "stderr",
     "output_type": "stream",
     "text": [
      "\n",
      " 33%|██████████████████████████▋                                                      | 74/225 [27:33<54:52, 21.80s/it]"
     ]
    },
    {
     "name": "stdout",
     "output_type": "stream",
     "text": [
      "Processing data for material : WATER\n",
      "image_data shape is :  (2048, 2448)\n",
      "im90 shape is :  (1024, 1224)\n",
      "Stokes time:  0.024985313415527344 s\n",
      "im_stokes0 shape is :  (1024, 1224)\n",
      "DoLP time:  0.03298139572143555 s\n",
      "im_DOLP shape is :  (1024, 1224)\n",
      "Time for DOLP2Theta conversion is :  20.834083795547485 seconds\n",
      "False\n",
      "AoLP time:  0.04097700119018555 s\n"
     ]
    },
    {
     "name": "stderr",
     "output_type": "stream",
     "text": [
      "\n",
      " 33%|███████████████████████████                                                      | 75/225 [27:54<54:15, 21.70s/it]"
     ]
    },
    {
     "name": "stdout",
     "output_type": "stream",
     "text": [
      "Processing data for material : WATER\n",
      "image_data shape is :  (2048, 2448)\n",
      "im90 shape is :  (1024, 1224)\n",
      "Stokes time:  0.022986412048339844 s\n",
      "im_stokes0 shape is :  (1024, 1224)\n",
      "DoLP time:  0.03697919845581055 s\n",
      "im_DOLP shape is :  (1024, 1224)\n",
      "Time for DOLP2Theta conversion is :  20.64419412612915 seconds\n",
      "False\n",
      "AoLP time:  0.04297518730163574 s\n"
     ]
    },
    {
     "name": "stderr",
     "output_type": "stream",
     "text": [
      "\n",
      " 34%|███████████████████████████▎                                                     | 76/225 [28:16<53:33, 21.57s/it]"
     ]
    },
    {
     "name": "stdout",
     "output_type": "stream",
     "text": [
      "Processing data for material : WATER\n",
      "image_data shape is :  (2048, 2448)\n",
      "im90 shape is :  (1024, 1224)\n",
      "Stokes time:  0.02698516845703125 s\n",
      "im_stokes0 shape is :  (1024, 1224)\n",
      "DoLP time:  0.03098320960998535 s\n",
      "im_DOLP shape is :  (1024, 1224)\n",
      "Time for DOLP2Theta conversion is :  20.912038326263428 seconds\n",
      "False\n",
      "AoLP time:  0.039977073669433594 s\n"
     ]
    },
    {
     "name": "stderr",
     "output_type": "stream",
     "text": [
      "\n",
      " 34%|███████████████████████████▋                                                     | 77/225 [28:37<53:11, 21.56s/it]"
     ]
    },
    {
     "name": "stdout",
     "output_type": "stream",
     "text": [
      "Processing data for material : WATER\n",
      "image_data shape is :  (2048, 2448)\n",
      "im90 shape is :  (1024, 1224)\n",
      "Stokes time:  0.024988651275634766 s\n",
      "im_stokes0 shape is :  (1024, 1224)\n",
      "DoLP time:  0.036978960037231445 s\n",
      "im_DOLP shape is :  (1024, 1224)\n",
      "Time for DOLP2Theta conversion is :  21.064952611923218 seconds\n",
      "False\n",
      "AoLP time:  0.04697155952453613 s\n"
     ]
    },
    {
     "name": "stderr",
     "output_type": "stream",
     "text": [
      "\n",
      " 35%|████████████████████████████                                                     | 78/225 [28:59<52:56, 21.61s/it]"
     ]
    },
    {
     "name": "stdout",
     "output_type": "stream",
     "text": [
      "Processing data for material : WATER\n",
      "image_data shape is :  (2048, 2448)\n",
      "im90 shape is :  (1024, 1224)\n",
      "Stokes time:  0.027985334396362305 s\n",
      "im_stokes0 shape is :  (1024, 1224)\n",
      "DoLP time:  0.03697919845581055 s\n",
      "im_DOLP shape is :  (1024, 1224)\n",
      "Time for DOLP2Theta conversion is :  21.456728219985962 seconds\n",
      "False\n",
      "AoLP time:  0.03898000717163086 s\n"
     ]
    },
    {
     "name": "stderr",
     "output_type": "stream",
     "text": [
      "\n",
      " 35%|████████████████████████████▍                                                    | 79/225 [29:21<52:55, 21.75s/it]"
     ]
    },
    {
     "name": "stdout",
     "output_type": "stream",
     "text": [
      "Processing data for material : WATER\n",
      "image_data shape is :  (2048, 2448)\n",
      "im90 shape is :  (1024, 1224)\n",
      "Stokes time:  0.027983903884887695 s\n",
      "im_stokes0 shape is :  (1024, 1224)\n",
      "DoLP time:  0.03797721862792969 s\n",
      "im_DOLP shape is :  (1024, 1224)\n",
      "Time for DOLP2Theta conversion is :  21.03398299217224 seconds\n",
      "False\n",
      "AoLP time:  0.04297494888305664 s\n"
     ]
    },
    {
     "name": "stderr",
     "output_type": "stream",
     "text": [
      "\n",
      " 36%|████████████████████████████▊                                                    | 80/225 [29:43<52:30, 21.73s/it]"
     ]
    },
    {
     "name": "stdout",
     "output_type": "stream",
     "text": [
      "Processing data for material : WATER\n",
      "image_data shape is :  (2048, 2448)\n",
      "im90 shape is :  (1024, 1224)\n",
      "Stokes time:  0.02498602867126465 s\n",
      "im_stokes0 shape is :  (1024, 1224)\n",
      "DoLP time:  0.03597855567932129 s\n",
      "im_DOLP shape is :  (1024, 1224)\n",
      "Time for DOLP2Theta conversion is :  20.802103281021118 seconds\n",
      "False\n",
      "AoLP time:  0.04797244071960449 s\n"
     ]
    },
    {
     "name": "stderr",
     "output_type": "stream",
     "text": [
      "\n",
      " 36%|█████████████████████████████▏                                                   | 81/225 [30:04<51:56, 21.64s/it]"
     ]
    },
    {
     "name": "stdout",
     "output_type": "stream",
     "text": [
      "Processing data for material : WATER\n",
      "image_data shape is :  (2048, 2448)\n",
      "im90 shape is :  (1024, 1224)\n",
      "Stokes time:  0.025983095169067383 s\n",
      "im_stokes0 shape is :  (1024, 1224)\n",
      "DoLP time:  0.031981706619262695 s\n",
      "im_DOLP shape is :  (1024, 1224)\n",
      "Time for DOLP2Theta conversion is :  21.129914045333862 seconds\n",
      "False\n",
      "AoLP time:  0.04797053337097168 s\n"
     ]
    },
    {
     "name": "stderr",
     "output_type": "stream",
     "text": [
      "\n",
      " 36%|█████████████████████████████▌                                                   | 82/225 [30:26<51:39, 21.68s/it]"
     ]
    },
    {
     "name": "stdout",
     "output_type": "stream",
     "text": [
      "Processing data for material : WATER\n",
      "image_data shape is :  (2048, 2448)\n",
      "im90 shape is :  (1024, 1224)\n",
      "Stokes time:  0.025982379913330078 s\n",
      "im_stokes0 shape is :  (1024, 1224)\n",
      "DoLP time:  0.03198122978210449 s\n",
      "im_DOLP shape is :  (1024, 1224)\n",
      "Time for DOLP2Theta conversion is :  20.97600221633911 seconds\n",
      "False\n",
      "AoLP time:  0.04097700119018555 s\n"
     ]
    },
    {
     "name": "stderr",
     "output_type": "stream",
     "text": [
      "\n",
      " 37%|█████████████████████████████▉                                                   | 83/225 [30:47<51:15, 21.66s/it]"
     ]
    },
    {
     "name": "stdout",
     "output_type": "stream",
     "text": [
      "Processing data for material : WATER\n",
      "image_data shape is :  (2048, 2448)\n",
      "im90 shape is :  (1024, 1224)\n",
      "Stokes time:  0.024985313415527344 s\n",
      "im_stokes0 shape is :  (1024, 1224)\n",
      "DoLP time:  0.03298020362854004 s\n",
      "im_DOLP shape is :  (1024, 1224)\n",
      "Time for DOLP2Theta conversion is :  21.074947357177734 seconds\n",
      "False\n",
      "AoLP time:  0.04097700119018555 s\n"
     ]
    },
    {
     "name": "stderr",
     "output_type": "stream",
     "text": [
      "\n",
      " 37%|██████████████████████████████▏                                                  | 84/225 [31:09<50:55, 21.67s/it]"
     ]
    },
    {
     "name": "stdout",
     "output_type": "stream",
     "text": [
      "Processing data for material : WATER\n",
      "image_data shape is :  (2048, 2448)\n",
      "im90 shape is :  (1024, 1224)\n",
      "Stokes time:  0.02598428726196289 s\n",
      "im_stokes0 shape is :  (1024, 1224)\n",
      "DoLP time:  0.035979270935058594 s\n",
      "im_DOLP shape is :  (1024, 1224)\n",
      "Time for DOLP2Theta conversion is :  21.13791060447693 seconds\n",
      "False\n",
      "AoLP time:  0.052969932556152344 s\n"
     ]
    },
    {
     "name": "stderr",
     "output_type": "stream",
     "text": [
      "\n",
      " 38%|██████████████████████████████▌                                                  | 85/225 [31:31<50:37, 21.70s/it]"
     ]
    },
    {
     "name": "stdout",
     "output_type": "stream",
     "text": [
      "Processing data for material : WATER\n",
      "image_data shape is :  (2048, 2448)\n",
      "im90 shape is :  (1024, 1224)\n",
      "Stokes time:  0.02398681640625 s\n",
      "im_stokes0 shape is :  (1024, 1224)\n",
      "DoLP time:  0.03197979927062988 s\n",
      "im_DOLP shape is :  (1024, 1224)\n",
      "Time for DOLP2Theta conversion is :  21.145905256271362 seconds\n",
      "False\n",
      "AoLP time:  0.04597353935241699 s\n"
     ]
    },
    {
     "name": "stderr",
     "output_type": "stream",
     "text": [
      "\n",
      " 38%|██████████████████████████████▉                                                  | 86/225 [31:53<50:18, 21.72s/it]"
     ]
    },
    {
     "name": "stdout",
     "output_type": "stream",
     "text": [
      "Processing data for material : WATER\n",
      "image_data shape is :  (2048, 2448)\n",
      "im90 shape is :  (1024, 1224)\n",
      "Stokes time:  0.023984670639038086 s\n",
      "im_stokes0 shape is :  (1024, 1224)\n",
      "DoLP time:  0.03398013114929199 s\n",
      "im_DOLP shape is :  (1024, 1224)\n",
      "Time for DOLP2Theta conversion is :  21.022976875305176 seconds\n",
      "False\n",
      "AoLP time:  0.04197430610656738 s\n"
     ]
    },
    {
     "name": "stderr",
     "output_type": "stream",
     "text": [
      "\n",
      " 39%|███████████████████████████████▎                                                 | 87/225 [32:14<49:53, 21.69s/it]"
     ]
    },
    {
     "name": "stdout",
     "output_type": "stream",
     "text": [
      "Processing data for material : WATER\n",
      "image_data shape is :  (2048, 2448)\n",
      "im90 shape is :  (1024, 1224)\n",
      "Stokes time:  0.024987220764160156 s\n",
      "im_stokes0 shape is :  (1024, 1224)\n",
      "DoLP time:  0.03498125076293945 s\n",
      "im_DOLP shape is :  (1024, 1224)\n",
      "Time for DOLP2Theta conversion is :  21.04196572303772 seconds\n",
      "False\n",
      "AoLP time:  0.0439753532409668 s\n"
     ]
    },
    {
     "name": "stderr",
     "output_type": "stream",
     "text": [
      "\n",
      " 39%|███████████████████████████████▋                                                 | 88/225 [32:36<49:31, 21.69s/it]"
     ]
    },
    {
     "name": "stdout",
     "output_type": "stream",
     "text": [
      "Processing data for material : WATER\n",
      "image_data shape is :  (2048, 2448)\n",
      "im90 shape is :  (1024, 1224)\n",
      "Stokes time:  0.0259857177734375 s\n",
      "im_stokes0 shape is :  (1024, 1224)\n",
      "DoLP time:  0.03298020362854004 s\n",
      "im_DOLP shape is :  (1024, 1224)\n",
      "Time for DOLP2Theta conversion is :  20.91204023361206 seconds\n",
      "False\n",
      "AoLP time:  0.040976762771606445 s\n"
     ]
    },
    {
     "name": "stderr",
     "output_type": "stream",
     "text": [
      "\n",
      " 40%|████████████████████████████████                                                 | 89/225 [32:58<49:03, 21.65s/it]"
     ]
    },
    {
     "name": "stdout",
     "output_type": "stream",
     "text": [
      "Processing data for material : WATER\n",
      "image_data shape is :  (2048, 2448)\n",
      "im90 shape is :  (1024, 1224)\n",
      "Stokes time:  0.02398681640625 s\n",
      "im_stokes0 shape is :  (1024, 1224)\n",
      "DoLP time:  0.03397965431213379 s\n",
      "im_DOLP shape is :  (1024, 1224)\n",
      "Time for DOLP2Theta conversion is :  21.110926151275635 seconds\n",
      "False\n",
      "AoLP time:  0.040975093841552734 s\n"
     ]
    },
    {
     "name": "stderr",
     "output_type": "stream",
     "text": [
      "\n",
      " 40%|████████████████████████████████▍                                                | 90/225 [33:19<48:45, 21.67s/it]"
     ]
    },
    {
     "name": "stdout",
     "output_type": "stream",
     "text": [
      "Processing data for material : WATER\n",
      "image_data shape is :  (2048, 2448)\n",
      "im90 shape is :  (1024, 1224)\n",
      "Stokes time:  0.0259859561920166 s\n",
      "im_stokes0 shape is :  (1024, 1224)\n",
      "DoLP time:  0.030981063842773438 s\n",
      "im_DOLP shape is :  (1024, 1224)\n",
      "Time for DOLP2Theta conversion is :  21.041966199874878 seconds\n",
      "False\n",
      "AoLP time:  0.04297804832458496 s\n"
     ]
    },
    {
     "name": "stderr",
     "output_type": "stream",
     "text": [
      "\n",
      " 40%|████████████████████████████████▊                                                | 91/225 [33:41<48:23, 21.67s/it]"
     ]
    },
    {
     "name": "stdout",
     "output_type": "stream",
     "text": [
      "Processing data for material : WATER\n",
      "image_data shape is :  (2048, 2448)\n",
      "im90 shape is :  (1024, 1224)\n",
      "Stokes time:  0.025984764099121094 s\n",
      "im_stokes0 shape is :  (1024, 1224)\n",
      "DoLP time:  0.03497910499572754 s\n",
      "im_DOLP shape is :  (1024, 1224)\n",
      "Time for DOLP2Theta conversion is :  20.87905764579773 seconds\n",
      "False\n",
      "AoLP time:  0.03897809982299805 s\n"
     ]
    },
    {
     "name": "stderr",
     "output_type": "stream",
     "text": [
      "\n",
      " 41%|█████████████████████████████████                                                | 92/225 [34:02<47:55, 21.62s/it]"
     ]
    },
    {
     "name": "stdout",
     "output_type": "stream",
     "text": [
      "Processing data for material : WATER\n",
      "image_data shape is :  (2048, 2448)\n",
      "im90 shape is :  (1024, 1224)\n",
      "Stokes time:  0.023986339569091797 s\n",
      "im_stokes0 shape is :  (1024, 1224)\n",
      "DoLP time:  0.034978389739990234 s\n",
      "im_DOLP shape is :  (1024, 1224)\n",
      "Time for DOLP2Theta conversion is :  20.95301651954651 seconds\n",
      "False\n",
      "AoLP time:  0.04097461700439453 s\n"
     ]
    },
    {
     "name": "stderr",
     "output_type": "stream",
     "text": [
      "\n",
      " 41%|█████████████████████████████████▍                                               | 93/225 [34:24<47:32, 21.61s/it]"
     ]
    },
    {
     "name": "stdout",
     "output_type": "stream",
     "text": [
      "Processing data for material : WATER\n",
      "image_data shape is :  (2048, 2448)\n",
      "im90 shape is :  (1024, 1224)\n",
      "Stokes time:  0.024985790252685547 s\n",
      "im_stokes0 shape is :  (1024, 1224)\n",
      "DoLP time:  0.03498029708862305 s\n",
      "im_DOLP shape is :  (1024, 1224)\n",
      "Time for DOLP2Theta conversion is :  20.985998392105103 seconds\n",
      "False\n",
      "AoLP time:  0.039975643157958984 s\n"
     ]
    },
    {
     "name": "stderr",
     "output_type": "stream",
     "text": [
      "\n",
      " 42%|█████████████████████████████████▊                                               | 94/225 [34:46<47:10, 21.61s/it]"
     ]
    },
    {
     "name": "stdout",
     "output_type": "stream",
     "text": [
      "Processing data for material : WATER\n",
      "image_data shape is :  (2048, 2448)\n",
      "im90 shape is :  (1024, 1224)\n",
      "Stokes time:  0.025985002517700195 s\n",
      "im_stokes0 shape is :  (1024, 1224)\n",
      "DoLP time:  0.038977861404418945 s\n",
      "im_DOLP shape is :  (1024, 1224)\n",
      "Time for DOLP2Theta conversion is :  20.988996028900146 seconds\n",
      "False\n",
      "AoLP time:  0.040976762771606445 s\n"
     ]
    },
    {
     "name": "stderr",
     "output_type": "stream",
     "text": [
      "\n",
      " 42%|██████████████████████████████████▏                                              | 95/225 [35:07<46:49, 21.61s/it]"
     ]
    },
    {
     "name": "stdout",
     "output_type": "stream",
     "text": [
      "Processing data for material : WATER\n",
      "image_data shape is :  (2048, 2448)\n",
      "im90 shape is :  (1024, 1224)\n",
      "Stokes time:  0.026984691619873047 s\n",
      "im_stokes0 shape is :  (1024, 1224)\n",
      "DoLP time:  0.03298068046569824 s\n",
      "im_DOLP shape is :  (1024, 1224)\n",
      "Time for DOLP2Theta conversion is :  21.096932649612427 seconds\n",
      "False\n",
      "AoLP time:  0.04897046089172363 s\n"
     ]
    },
    {
     "name": "stderr",
     "output_type": "stream",
     "text": [
      "\n",
      " 43%|██████████████████████████████████▌                                              | 96/225 [35:29<46:33, 21.65s/it]"
     ]
    },
    {
     "name": "stdout",
     "output_type": "stream",
     "text": [
      "Processing data for material : WATER\n",
      "image_data shape is :  (2048, 2448)\n",
      "im90 shape is :  (1024, 1224)\n",
      "Stokes time:  0.025986909866333008 s\n",
      "im_stokes0 shape is :  (1024, 1224)\n",
      "DoLP time:  0.030982017517089844 s\n",
      "im_DOLP shape is :  (1024, 1224)\n",
      "Time for DOLP2Theta conversion is :  21.1449077129364 seconds\n",
      "False\n",
      "AoLP time:  0.04097461700439453 s\n"
     ]
    },
    {
     "name": "stderr",
     "output_type": "stream",
     "text": [
      "\n",
      " 43%|██████████████████████████████████▉                                              | 97/225 [35:51<46:16, 21.69s/it]"
     ]
    },
    {
     "name": "stdout",
     "output_type": "stream",
     "text": [
      "Processing data for material : WATER\n",
      "image_data shape is :  (2048, 2448)\n",
      "im90 shape is :  (1024, 1224)\n",
      "Stokes time:  0.024982929229736328 s\n",
      "im_stokes0 shape is :  (1024, 1224)\n",
      "DoLP time:  0.03597903251647949 s\n",
      "im_DOLP shape is :  (1024, 1224)\n",
      "Time for DOLP2Theta conversion is :  20.772119760513306 seconds\n",
      "False\n",
      "AoLP time:  0.040976762771606445 s\n"
     ]
    },
    {
     "name": "stderr",
     "output_type": "stream",
     "text": [
      "\n",
      " 44%|███████████████████████████████████▎                                             | 98/225 [36:12<45:42, 21.60s/it]"
     ]
    },
    {
     "name": "stdout",
     "output_type": "stream",
     "text": [
      "Processing data for material : WATER\n",
      "image_data shape is :  (2048, 2448)\n",
      "im90 shape is :  (1024, 1224)\n",
      "Stokes time:  0.024985790252685547 s\n",
      "im_stokes0 shape is :  (1024, 1224)\n",
      "DoLP time:  0.03298163414001465 s\n",
      "im_DOLP shape is :  (1024, 1224)\n",
      "Time for DOLP2Theta conversion is :  21.027973413467407 seconds\n",
      "False\n",
      "AoLP time:  0.04196643829345703 s\n"
     ]
    },
    {
     "name": "stderr",
     "output_type": "stream",
     "text": [
      "\n",
      " 44%|███████████████████████████████████▋                                             | 99/225 [36:34<45:23, 21.61s/it]"
     ]
    },
    {
     "name": "stdout",
     "output_type": "stream",
     "text": [
      "Processing data for material : WATER\n",
      "image_data shape is :  (2048, 2448)\n",
      "im90 shape is :  (1024, 1224)\n",
      "Stokes time:  0.02498626708984375 s\n",
      "im_stokes0 shape is :  (1024, 1224)\n",
      "DoLP time:  0.032980918884277344 s\n",
      "im_DOLP shape is :  (1024, 1224)\n",
      "Time for DOLP2Theta conversion is :  20.8290855884552 seconds\n",
      "False\n",
      "AoLP time:  0.03997659683227539 s\n"
     ]
    },
    {
     "name": "stderr",
     "output_type": "stream",
     "text": [
      "\n",
      " 44%|███████████████████████████████████▌                                            | 100/225 [36:55<44:55, 21.56s/it]"
     ]
    },
    {
     "name": "stdout",
     "output_type": "stream",
     "text": [
      "Processing data for material : WATER\n",
      "image_data shape is :  (2048, 2448)\n",
      "im90 shape is :  (1024, 1224)\n",
      "Stokes time:  0.025984764099121094 s\n",
      "im_stokes0 shape is :  (1024, 1224)\n",
      "DoLP time:  0.033980369567871094 s\n",
      "im_DOLP shape is :  (1024, 1224)\n",
      "Time for DOLP2Theta conversion is :  21.214867115020752 seconds\n",
      "False\n",
      "AoLP time:  0.04697275161743164 s\n"
     ]
    },
    {
     "name": "stderr",
     "output_type": "stream",
     "text": [
      "\n",
      " 45%|███████████████████████████████████▉                                            | 101/225 [37:17<44:45, 21.66s/it]"
     ]
    },
    {
     "name": "stdout",
     "output_type": "stream",
     "text": [
      "Processing data for material : WATER\n",
      "image_data shape is :  (2048, 2448)\n",
      "im90 shape is :  (1024, 1224)\n",
      "Stokes time:  0.02498650550842285 s\n",
      "im_stokes0 shape is :  (1024, 1224)\n",
      "DoLP time:  0.034981489181518555 s\n",
      "im_DOLP shape is :  (1024, 1224)\n",
      "Time for DOLP2Theta conversion is :  21.49170708656311 seconds\n",
      "False\n",
      "AoLP time:  0.040976524353027344 s\n"
     ]
    },
    {
     "name": "stderr",
     "output_type": "stream",
     "text": [
      "\n",
      " 45%|████████████████████████████████████▎                                           | 102/225 [37:39<44:40, 21.79s/it]"
     ]
    },
    {
     "name": "stdout",
     "output_type": "stream",
     "text": [
      "Processing data for material : WATER\n",
      "image_data shape is :  (2048, 2448)\n",
      "im90 shape is :  (1024, 1224)\n",
      "Stokes time:  0.024983644485473633 s\n",
      "im_stokes0 shape is :  (1024, 1224)\n",
      "DoLP time:  0.03497934341430664 s\n",
      "im_DOLP shape is :  (1024, 1224)\n",
      "Time for DOLP2Theta conversion is :  21.464723110198975 seconds\n",
      "False\n",
      "AoLP time:  0.04097795486450195 s\n"
     ]
    },
    {
     "name": "stderr",
     "output_type": "stream",
     "text": [
      "\n",
      " 46%|████████████████████████████████████▌                                           | 103/225 [38:01<44:29, 21.88s/it]"
     ]
    },
    {
     "name": "stdout",
     "output_type": "stream",
     "text": [
      "Processing data for material : WATER\n",
      "image_data shape is :  (2048, 2448)\n",
      "im90 shape is :  (1024, 1224)\n",
      "Stokes time:  0.02498650550842285 s\n",
      "im_stokes0 shape is :  (1024, 1224)\n",
      "DoLP time:  0.032979488372802734 s\n",
      "im_DOLP shape is :  (1024, 1224)\n",
      "Time for DOLP2Theta conversion is :  21.792536973953247 seconds\n",
      "False\n",
      "AoLP time:  0.04497647285461426 s\n"
     ]
    },
    {
     "name": "stderr",
     "output_type": "stream",
     "text": [
      "\n",
      " 46%|████████████████████████████████████▉                                           | 104/225 [38:24<44:27, 22.05s/it]"
     ]
    },
    {
     "name": "stdout",
     "output_type": "stream",
     "text": [
      "Processing data for material : WATER\n",
      "image_data shape is :  (2048, 2448)\n",
      "im90 shape is :  (1024, 1224)\n",
      "Stokes time:  0.025984764099121094 s\n",
      "im_stokes0 shape is :  (1024, 1224)\n",
      "DoLP time:  0.037978172302246094 s\n",
      "im_DOLP shape is :  (1024, 1224)\n",
      "Time for DOLP2Theta conversion is :  21.848504543304443 seconds\n",
      "False\n",
      "AoLP time:  0.058965444564819336 s\n"
     ]
    },
    {
     "name": "stderr",
     "output_type": "stream",
     "text": [
      "\n",
      " 47%|█████████████████████████████████████▎                                          | 105/225 [38:46<44:22, 22.18s/it]"
     ]
    },
    {
     "name": "stdout",
     "output_type": "stream",
     "text": [
      "Processing data for material : WATER\n",
      "image_data shape is :  (2048, 2448)\n",
      "im90 shape is :  (1024, 1224)\n",
      "Stokes time:  0.024985551834106445 s\n",
      "im_stokes0 shape is :  (1024, 1224)\n",
      "DoLP time:  0.03198122978210449 s\n",
      "im_DOLP shape is :  (1024, 1224)\n",
      "Time for DOLP2Theta conversion is :  21.525687217712402 seconds\n",
      "False\n",
      "AoLP time:  0.045972585678100586 s\n"
     ]
    },
    {
     "name": "stderr",
     "output_type": "stream",
     "text": [
      "\n",
      " 47%|█████████████████████████████████████▋                                          | 106/225 [39:08<43:59, 22.18s/it]"
     ]
    },
    {
     "name": "stdout",
     "output_type": "stream",
     "text": [
      "Processing data for material : WATER\n",
      "image_data shape is :  (2048, 2448)\n",
      "im90 shape is :  (1024, 1224)\n",
      "Stokes time:  0.026984453201293945 s\n",
      "im_stokes0 shape is :  (1024, 1224)\n",
      "DoLP time:  0.034980058670043945 s\n",
      "im_DOLP shape is :  (1024, 1224)\n",
      "Time for DOLP2Theta conversion is :  21.812524795532227 seconds\n",
      "False\n",
      "AoLP time:  0.04897189140319824 s\n"
     ]
    },
    {
     "name": "stderr",
     "output_type": "stream",
     "text": [
      "\n",
      " 48%|██████████████████████████████████████                                          | 107/225 [39:31<43:47, 22.27s/it]"
     ]
    },
    {
     "name": "stdout",
     "output_type": "stream",
     "text": [
      "Processing data for material : WATER\n",
      "image_data shape is :  (2048, 2448)\n",
      "im90 shape is :  (1024, 1224)\n",
      "Stokes time:  0.026984691619873047 s\n",
      "im_stokes0 shape is :  (1024, 1224)\n",
      "DoLP time:  0.036978960037231445 s\n",
      "im_DOLP shape is :  (1024, 1224)\n",
      "Time for DOLP2Theta conversion is :  21.91046905517578 seconds\n",
      "False\n",
      "AoLP time:  0.03997635841369629 s\n"
     ]
    },
    {
     "name": "stderr",
     "output_type": "stream",
     "text": [
      "\n",
      " 48%|██████████████████████████████████████▍                                         | 108/225 [39:53<43:35, 22.35s/it]"
     ]
    },
    {
     "name": "stdout",
     "output_type": "stream",
     "text": [
      "Processing data for material : WATER\n",
      "image_data shape is :  (2048, 2448)\n",
      "im90 shape is :  (1024, 1224)\n",
      "Stokes time:  0.024985313415527344 s\n",
      "im_stokes0 shape is :  (1024, 1224)\n",
      "DoLP time:  0.03897714614868164 s\n",
      "im_DOLP shape is :  (1024, 1224)\n",
      "Time for DOLP2Theta conversion is :  21.89447784423828 seconds\n",
      "False\n",
      "AoLP time:  0.050969839096069336 s\n"
     ]
    },
    {
     "name": "stderr",
     "output_type": "stream",
     "text": [
      "\n",
      " 48%|██████████████████████████████████████▊                                         | 109/225 [40:16<43:20, 22.41s/it]"
     ]
    },
    {
     "name": "stdout",
     "output_type": "stream",
     "text": [
      "Processing data for material : WATER\n",
      "image_data shape is :  (2048, 2448)\n",
      "im90 shape is :  (1024, 1224)\n",
      "Stokes time:  0.027984142303466797 s\n",
      "im_stokes0 shape is :  (1024, 1224)\n",
      "DoLP time:  0.03597903251647949 s\n",
      "im_DOLP shape is :  (1024, 1224)\n",
      "Time for DOLP2Theta conversion is :  22.501129627227783 seconds\n",
      "False\n",
      "AoLP time:  0.060964107513427734 s\n"
     ]
    },
    {
     "name": "stderr",
     "output_type": "stream",
     "text": [
      "\n",
      " 49%|███████████████████████████████████████                                         | 110/225 [40:39<43:23, 22.64s/it]"
     ]
    },
    {
     "name": "stdout",
     "output_type": "stream",
     "text": [
      "Processing data for material : WATER\n",
      "image_data shape is :  (2048, 2448)\n",
      "im90 shape is :  (1024, 1224)\n",
      "Stokes time:  0.025985240936279297 s\n",
      "im_stokes0 shape is :  (1024, 1224)\n",
      "DoLP time:  0.0339808464050293 s\n",
      "im_DOLP shape is :  (1024, 1224)\n",
      "Time for DOLP2Theta conversion is :  22.679029941558838 seconds\n",
      "False\n",
      "AoLP time:  0.04197525978088379 s\n"
     ]
    },
    {
     "name": "stderr",
     "output_type": "stream",
     "text": [
      "\n",
      " 49%|███████████████████████████████████████▍                                        | 111/225 [41:03<43:25, 22.85s/it]"
     ]
    },
    {
     "name": "stdout",
     "output_type": "stream",
     "text": [
      "Processing data for material : WATER\n",
      "image_data shape is :  (2048, 2448)\n",
      "im90 shape is :  (1024, 1224)\n",
      "Stokes time:  0.025984764099121094 s\n",
      "im_stokes0 shape is :  (1024, 1224)\n",
      "DoLP time:  0.03597903251647949 s\n",
      "im_DOLP shape is :  (1024, 1224)\n",
      "Time for DOLP2Theta conversion is :  23.670461416244507 seconds\n",
      "False\n",
      "AoLP time:  0.040975093841552734 s\n"
     ]
    },
    {
     "name": "stderr",
     "output_type": "stream",
     "text": [
      "\n",
      " 50%|███████████████████████████████████████▊                                        | 112/225 [41:27<43:53, 23.30s/it]"
     ]
    },
    {
     "name": "stdout",
     "output_type": "stream",
     "text": [
      "Processing data for material : WATER\n",
      "image_data shape is :  (2048, 2448)\n",
      "im90 shape is :  (1024, 1224)\n",
      "Stokes time:  0.023984909057617188 s\n",
      "im_stokes0 shape is :  (1024, 1224)\n",
      "DoLP time:  0.03298187255859375 s\n",
      "im_DOLP shape is :  (1024, 1224)\n",
      "Time for DOLP2Theta conversion is :  24.958725929260254 seconds\n",
      "False\n",
      "AoLP time:  0.039978742599487305 s\n"
     ]
    },
    {
     "name": "stderr",
     "output_type": "stream",
     "text": [
      "\n",
      " 50%|████████████████████████████████████████▏                                       | 113/225 [41:52<44:46, 23.99s/it]"
     ]
    },
    {
     "name": "stdout",
     "output_type": "stream",
     "text": [
      "Processing data for material : WATER\n",
      "image_data shape is :  (2048, 2448)\n",
      "im90 shape is :  (1024, 1224)\n",
      "Stokes time:  0.027981996536254883 s\n",
      "im_stokes0 shape is :  (1024, 1224)\n",
      "DoLP time:  0.03297996520996094 s\n",
      "im_DOLP shape is :  (1024, 1224)\n",
      "Time for DOLP2Theta conversion is :  23.703461170196533 seconds\n",
      "False\n",
      "AoLP time:  0.05596804618835449 s\n"
     ]
    },
    {
     "name": "stderr",
     "output_type": "stream",
     "text": [
      "\n",
      " 51%|████████████████████████████████████████▌                                       | 114/225 [42:17<44:37, 24.12s/it]"
     ]
    },
    {
     "name": "stdout",
     "output_type": "stream",
     "text": [
      "Processing data for material : WATER\n",
      "image_data shape is :  (2048, 2448)\n",
      "im90 shape is :  (1024, 1224)\n",
      "Stokes time:  0.024986982345581055 s\n",
      "im_stokes0 shape is :  (1024, 1224)\n",
      "DoLP time:  0.03198051452636719 s\n",
      "im_DOLP shape is :  (1024, 1224)\n",
      "Time for DOLP2Theta conversion is :  23.259697198867798 seconds\n",
      "False\n",
      "AoLP time:  0.03997683525085449 s\n"
     ]
    },
    {
     "name": "stderr",
     "output_type": "stream",
     "text": [
      "\n",
      " 51%|████████████████████████████████████████▉                                       | 115/225 [42:41<44:06, 24.06s/it]"
     ]
    },
    {
     "name": "stdout",
     "output_type": "stream",
     "text": [
      "Processing data for material : WATER\n",
      "image_data shape is :  (2048, 2448)\n",
      "im90 shape is :  (1024, 1224)\n",
      "Stokes time:  0.025985002517700195 s\n",
      "im_stokes0 shape is :  (1024, 1224)\n",
      "DoLP time:  0.03497934341430664 s\n",
      "im_DOLP shape is :  (1024, 1224)\n",
      "Time for DOLP2Theta conversion is :  22.91889262199402 seconds\n",
      "False\n",
      "AoLP time:  0.04197430610656738 s\n"
     ]
    },
    {
     "name": "stderr",
     "output_type": "stream",
     "text": [
      "\n",
      " 52%|█████████████████████████████████████████▏                                      | 116/225 [43:04<43:26, 23.91s/it]"
     ]
    },
    {
     "name": "stdout",
     "output_type": "stream",
     "text": [
      "Processing data for material : WATER\n",
      "image_data shape is :  (2048, 2448)\n",
      "im90 shape is :  (1024, 1224)\n",
      "Stokes time:  0.02398681640625 s\n",
      "im_stokes0 shape is :  (1024, 1224)\n",
      "DoLP time:  0.03497958183288574 s\n",
      "im_DOLP shape is :  (1024, 1224)\n",
      "Time for DOLP2Theta conversion is :  22.858925104141235 seconds\n",
      "False\n",
      "AoLP time:  0.04197525978088379 s\n"
     ]
    },
    {
     "name": "stderr",
     "output_type": "stream",
     "text": [
      "\n",
      " 52%|█████████████████████████████████████████▌                                      | 117/225 [43:28<42:49, 23.79s/it]"
     ]
    },
    {
     "name": "stdout",
     "output_type": "stream",
     "text": [
      "Processing data for material : WATER\n",
      "image_data shape is :  (2048, 2448)\n",
      "im90 shape is :  (1024, 1224)\n",
      "Stokes time:  0.023985862731933594 s\n",
      "im_stokes0 shape is :  (1024, 1224)\n",
      "DoLP time:  0.03198099136352539 s\n",
      "im_DOLP shape is :  (1024, 1224)\n",
      "Time for DOLP2Theta conversion is :  21.880487203598022 seconds\n",
      "False\n",
      "AoLP time:  0.04297494888305664 s\n"
     ]
    },
    {
     "name": "stderr",
     "output_type": "stream",
     "text": [
      "\n",
      " 52%|█████████████████████████████████████████▉                                      | 118/225 [43:50<41:45, 23.42s/it]"
     ]
    },
    {
     "name": "stdout",
     "output_type": "stream",
     "text": [
      "Processing data for material : WATER\n",
      "image_data shape is :  (2048, 2448)\n",
      "im90 shape is :  (1024, 1224)\n",
      "Stokes time:  0.024984359741210938 s\n",
      "im_stokes0 shape is :  (1024, 1224)\n",
      "DoLP time:  0.038976430892944336 s\n",
      "im_DOLP shape is :  (1024, 1224)\n",
      "Time for DOLP2Theta conversion is :  21.186882734298706 seconds\n",
      "False\n",
      "AoLP time:  0.040976524353027344 s\n"
     ]
    },
    {
     "name": "stderr",
     "output_type": "stream",
     "text": [
      "\n",
      " 53%|██████████████████████████████████████████▎                                     | 119/225 [44:12<40:31, 22.94s/it]"
     ]
    },
    {
     "name": "stdout",
     "output_type": "stream",
     "text": [
      "Processing data for material : WATER\n",
      "image_data shape is :  (2048, 2448)\n",
      "im90 shape is :  (1024, 1224)\n",
      "Stokes time:  0.025985002517700195 s\n",
      "im_stokes0 shape is :  (1024, 1224)\n",
      "DoLP time:  0.03198122978210449 s\n",
      "im_DOLP shape is :  (1024, 1224)\n",
      "Time for DOLP2Theta conversion is :  21.491708993911743 seconds\n",
      "False\n",
      "AoLP time:  0.0499730110168457 s\n"
     ]
    },
    {
     "name": "stderr",
     "output_type": "stream",
     "text": [
      "\n",
      " 53%|██████████████████████████████████████████▋                                     | 120/225 [44:34<39:43, 22.70s/it]"
     ]
    },
    {
     "name": "stdout",
     "output_type": "stream",
     "text": [
      "Processing data for material : WATER\n",
      "image_data shape is :  (2048, 2448)\n",
      "im90 shape is :  (1024, 1224)\n",
      "Stokes time:  0.02498602867126465 s\n",
      "im_stokes0 shape is :  (1024, 1224)\n",
      "DoLP time:  0.034980058670043945 s\n",
      "im_DOLP shape is :  (1024, 1224)\n",
      "Time for DOLP2Theta conversion is :  20.894049644470215 seconds\n",
      "False\n",
      "AoLP time:  0.04097580909729004 s\n"
     ]
    },
    {
     "name": "stderr",
     "output_type": "stream",
     "text": [
      "\n",
      " 54%|███████████████████████████████████████████                                     | 121/225 [44:56<38:44, 22.35s/it]"
     ]
    },
    {
     "name": "stdout",
     "output_type": "stream",
     "text": [
      "Processing data for material : WATER\n",
      "image_data shape is :  (2048, 2448)\n",
      "im90 shape is :  (1024, 1224)\n",
      "Stokes time:  0.024985790252685547 s\n",
      "im_stokes0 shape is :  (1024, 1224)\n",
      "DoLP time:  0.033980607986450195 s\n",
      "im_DOLP shape is :  (1024, 1224)\n",
      "Time for DOLP2Theta conversion is :  21.10492968559265 seconds\n",
      "False\n",
      "AoLP time:  0.04397296905517578 s\n"
     ]
    },
    {
     "name": "stderr",
     "output_type": "stream",
     "text": [
      "\n",
      " 54%|███████████████████████████████████████████▍                                    | 122/225 [45:18<38:02, 22.16s/it]"
     ]
    },
    {
     "name": "stdout",
     "output_type": "stream",
     "text": [
      "Processing data for material : WATER\n",
      "image_data shape is :  (2048, 2448)\n",
      "im90 shape is :  (1024, 1224)\n",
      "Stokes time:  0.0259857177734375 s\n",
      "im_stokes0 shape is :  (1024, 1224)\n",
      "DoLP time:  0.03797745704650879 s\n",
      "im_DOLP shape is :  (1024, 1224)\n",
      "Time for DOLP2Theta conversion is :  21.62063503265381 seconds\n",
      "False\n",
      "AoLP time:  0.04097485542297363 s\n"
     ]
    },
    {
     "name": "stderr",
     "output_type": "stream",
     "text": [
      "\n",
      " 55%|███████████████████████████████████████████▋                                    | 123/225 [45:40<37:43, 22.19s/it]"
     ]
    },
    {
     "name": "stdout",
     "output_type": "stream",
     "text": [
      "Processing data for material : WATER\n",
      "image_data shape is :  (2048, 2448)\n",
      "im90 shape is :  (1024, 1224)\n",
      "Stokes time:  0.025986433029174805 s\n",
      "im_stokes0 shape is :  (1024, 1224)\n",
      "DoLP time:  0.0359797477722168 s\n",
      "im_DOLP shape is :  (1024, 1224)\n",
      "Time for DOLP2Theta conversion is :  20.842079639434814 seconds\n",
      "False\n",
      "AoLP time:  0.03997635841369629 s\n"
     ]
    },
    {
     "name": "stderr",
     "output_type": "stream",
     "text": [
      "\n",
      " 55%|████████████████████████████████████████████                                    | 124/225 [46:01<36:59, 21.98s/it]"
     ]
    },
    {
     "name": "stdout",
     "output_type": "stream",
     "text": [
      "Processing data for material : WATER\n",
      "image_data shape is :  (2048, 2448)\n",
      "im90 shape is :  (1024, 1224)\n",
      "Stokes time:  0.026983261108398438 s\n",
      "im_stokes0 shape is :  (1024, 1224)\n",
      "DoLP time:  0.039977073669433594 s\n",
      "im_DOLP shape is :  (1024, 1224)\n",
      "Time for DOLP2Theta conversion is :  20.940023183822632 seconds\n",
      "False\n",
      "AoLP time:  0.043975114822387695 s\n"
     ]
    },
    {
     "name": "stderr",
     "output_type": "stream",
     "text": [
      "\n",
      " 56%|████████████████████████████████████████████▍                                   | 125/225 [46:23<36:26, 21.86s/it]"
     ]
    },
    {
     "name": "stdout",
     "output_type": "stream",
     "text": [
      "Processing data for material : WATER\n",
      "image_data shape is :  (2048, 2448)\n",
      "im90 shape is :  (1024, 1224)\n",
      "Stokes time:  0.024985074996948242 s\n",
      "im_stokes0 shape is :  (1024, 1224)\n",
      "DoLP time:  0.03198075294494629 s\n",
      "im_DOLP shape is :  (1024, 1224)\n",
      "Time for DOLP2Theta conversion is :  21.0689480304718 seconds\n",
      "False\n",
      "AoLP time:  0.044973134994506836 s\n"
     ]
    },
    {
     "name": "stderr",
     "output_type": "stream",
     "text": [
      "\n",
      " 56%|████████████████████████████████████████████▊                                   | 126/225 [46:45<35:59, 21.81s/it]"
     ]
    },
    {
     "name": "stdout",
     "output_type": "stream",
     "text": [
      "Processing data for material : WATER\n",
      "image_data shape is :  (2048, 2448)\n",
      "im90 shape is :  (1024, 1224)\n",
      "Stokes time:  0.023985624313354492 s\n",
      "im_stokes0 shape is :  (1024, 1224)\n",
      "DoLP time:  0.030981063842773438 s\n",
      "im_DOLP shape is :  (1024, 1224)\n",
      "Time for DOLP2Theta conversion is :  21.0869402885437 seconds\n",
      "False\n",
      "AoLP time:  0.039975881576538086 s\n"
     ]
    },
    {
     "name": "stderr",
     "output_type": "stream",
     "text": [
      "\n",
      " 56%|█████████████████████████████████████████████▏                                  | 127/225 [47:06<35:34, 21.79s/it]"
     ]
    },
    {
     "name": "stdout",
     "output_type": "stream",
     "text": [
      "Processing data for material : WATER\n",
      "image_data shape is :  (2048, 2448)\n",
      "im90 shape is :  (1024, 1224)\n",
      "Stokes time:  0.02498769760131836 s\n",
      "im_stokes0 shape is :  (1024, 1224)\n",
      "DoLP time:  0.034980058670043945 s\n",
      "im_DOLP shape is :  (1024, 1224)\n",
      "Time for DOLP2Theta conversion is :  21.07194709777832 seconds\n",
      "False\n",
      "AoLP time:  0.039977073669433594 s\n"
     ]
    },
    {
     "name": "stderr",
     "output_type": "stream",
     "text": [
      "\n",
      " 57%|█████████████████████████████████████████████▌                                  | 128/225 [47:28<35:10, 21.76s/it]"
     ]
    },
    {
     "name": "stdout",
     "output_type": "stream",
     "text": [
      "Processing data for material : WATER\n",
      "image_data shape is :  (2048, 2448)\n",
      "im90 shape is :  (1024, 1224)\n",
      "Stokes time:  0.023986339569091797 s\n",
      "im_stokes0 shape is :  (1024, 1224)\n",
      "DoLP time:  0.03198122978210449 s\n",
      "im_DOLP shape is :  (1024, 1224)\n",
      "Time for DOLP2Theta conversion is :  21.073947429656982 seconds\n",
      "False\n",
      "AoLP time:  0.040978431701660156 s\n"
     ]
    },
    {
     "name": "stderr",
     "output_type": "stream",
     "text": [
      "\n",
      " 57%|█████████████████████████████████████████████▊                                  | 129/225 [47:50<34:47, 21.74s/it]"
     ]
    },
    {
     "name": "stdout",
     "output_type": "stream",
     "text": [
      "Processing data for material : WATER\n",
      "image_data shape is :  (2048, 2448)\n",
      "im90 shape is :  (1024, 1224)\n",
      "Stokes time:  0.0259857177734375 s\n",
      "im_stokes0 shape is :  (1024, 1224)\n",
      "DoLP time:  0.035977840423583984 s\n",
      "im_DOLP shape is :  (1024, 1224)\n",
      "Time for DOLP2Theta conversion is :  20.913038969039917 seconds\n",
      "False\n",
      "AoLP time:  0.03997611999511719 s\n"
     ]
    },
    {
     "name": "stderr",
     "output_type": "stream",
     "text": [
      "\n",
      " 58%|██████████████████████████████████████████████▏                                 | 130/225 [48:11<34:19, 21.68s/it]"
     ]
    },
    {
     "name": "stdout",
     "output_type": "stream",
     "text": [
      "Processing data for material : WATER\n",
      "image_data shape is :  (2048, 2448)\n",
      "im90 shape is :  (1024, 1224)\n",
      "Stokes time:  0.02398681640625 s\n",
      "im_stokes0 shape is :  (1024, 1224)\n",
      "DoLP time:  0.03497910499572754 s\n",
      "im_DOLP shape is :  (1024, 1224)\n",
      "Time for DOLP2Theta conversion is :  21.136911869049072 seconds\n",
      "False\n",
      "AoLP time:  0.04497170448303223 s\n"
     ]
    },
    {
     "name": "stderr",
     "output_type": "stream",
     "text": [
      "\n",
      " 58%|██████████████████████████████████████████████▌                                 | 131/225 [48:33<34:00, 21.70s/it]"
     ]
    },
    {
     "name": "stdout",
     "output_type": "stream",
     "text": [
      "Processing data for material : WATER\n",
      "image_data shape is :  (2048, 2448)\n",
      "im90 shape is :  (1024, 1224)\n",
      "Stokes time:  0.02498626708984375 s\n",
      "im_stokes0 shape is :  (1024, 1224)\n",
      "DoLP time:  0.034980058670043945 s\n",
      "im_DOLP shape is :  (1024, 1224)\n",
      "Time for DOLP2Theta conversion is :  21.17189121246338 seconds\n",
      "False\n",
      "AoLP time:  0.05097055435180664 s\n"
     ]
    },
    {
     "name": "stderr",
     "output_type": "stream",
     "text": [
      "\n",
      " 59%|██████████████████████████████████████████████▉                                 | 132/225 [48:55<33:42, 21.74s/it]"
     ]
    },
    {
     "name": "stdout",
     "output_type": "stream",
     "text": [
      "Processing data for material : WATER\n",
      "image_data shape is :  (2048, 2448)\n",
      "im90 shape is :  (1024, 1224)\n",
      "Stokes time:  0.024985551834106445 s\n",
      "im_stokes0 shape is :  (1024, 1224)\n",
      "DoLP time:  0.03298139572143555 s\n",
      "im_DOLP shape is :  (1024, 1224)\n",
      "Time for DOLP2Theta conversion is :  21.042963981628418 seconds\n",
      "False\n",
      "AoLP time:  0.04397463798522949 s\n"
     ]
    },
    {
     "name": "stderr",
     "output_type": "stream",
     "text": [
      "\n",
      " 59%|███████████████████████████████████████████████▎                                | 133/225 [49:17<33:18, 21.72s/it]"
     ]
    },
    {
     "name": "stdout",
     "output_type": "stream",
     "text": [
      "Processing data for material : WATER\n",
      "image_data shape is :  (2048, 2448)\n",
      "im90 shape is :  (1024, 1224)\n",
      "Stokes time:  0.022986888885498047 s\n",
      "im_stokes0 shape is :  (1024, 1224)\n",
      "DoLP time:  0.03697800636291504 s\n",
      "im_DOLP shape is :  (1024, 1224)\n",
      "Time for DOLP2Theta conversion is :  21.053958415985107 seconds\n",
      "False\n",
      "AoLP time:  0.040976762771606445 s\n"
     ]
    },
    {
     "name": "stderr",
     "output_type": "stream",
     "text": [
      "\n",
      " 60%|███████████████████████████████████████████████▋                                | 134/225 [49:38<32:55, 21.71s/it]"
     ]
    },
    {
     "name": "stdout",
     "output_type": "stream",
     "text": [
      "Processing data for material : WATER\n",
      "image_data shape is :  (2048, 2448)\n",
      "im90 shape is :  (1024, 1224)\n",
      "Stokes time:  0.02598404884338379 s\n",
      "im_stokes0 shape is :  (1024, 1224)\n",
      "DoLP time:  0.03397965431213379 s\n",
      "im_DOLP shape is :  (1024, 1224)\n",
      "Time for DOLP2Theta conversion is :  20.945021152496338 seconds\n",
      "False\n",
      "AoLP time:  0.04197549819946289 s\n"
     ]
    },
    {
     "name": "stderr",
     "output_type": "stream",
     "text": [
      "\n",
      " 60%|████████████████████████████████████████████████                                | 135/225 [50:00<32:30, 21.67s/it]"
     ]
    },
    {
     "name": "stdout",
     "output_type": "stream",
     "text": [
      "Processing data for material : WATER\n",
      "image_data shape is :  (2048, 2448)\n",
      "im90 shape is :  (1024, 1224)\n",
      "Stokes time:  0.026985645294189453 s\n",
      "im_stokes0 shape is :  (1024, 1224)\n",
      "DoLP time:  0.03198099136352539 s\n",
      "im_DOLP shape is :  (1024, 1224)\n",
      "Time for DOLP2Theta conversion is :  20.995990753173828 seconds\n",
      "False\n",
      "AoLP time:  0.043974876403808594 s\n"
     ]
    },
    {
     "name": "stderr",
     "output_type": "stream",
     "text": [
      "\n",
      " 60%|████████████████████████████████████████████████▎                               | 136/225 [50:22<32:08, 21.66s/it]"
     ]
    },
    {
     "name": "stdout",
     "output_type": "stream",
     "text": [
      "Processing data for material : WATER\n",
      "image_data shape is :  (2048, 2448)\n",
      "im90 shape is :  (1024, 1224)\n",
      "Stokes time:  0.025985240936279297 s\n",
      "im_stokes0 shape is :  (1024, 1224)\n",
      "DoLP time:  0.03298234939575195 s\n",
      "im_DOLP shape is :  (1024, 1224)\n",
      "Time for DOLP2Theta conversion is :  21.294820547103882 seconds\n",
      "False\n",
      "AoLP time:  0.040975093841552734 s\n"
     ]
    },
    {
     "name": "stderr",
     "output_type": "stream",
     "text": [
      "\n",
      " 61%|████████████████████████████████████████████████▋                               | 137/225 [50:43<31:52, 21.74s/it]"
     ]
    },
    {
     "name": "stdout",
     "output_type": "stream",
     "text": [
      "Processing data for material : WATER\n",
      "image_data shape is :  (2048, 2448)\n",
      "im90 shape is :  (1024, 1224)\n",
      "Stokes time:  0.025985002517700195 s\n",
      "im_stokes0 shape is :  (1024, 1224)\n",
      "DoLP time:  0.035981178283691406 s\n",
      "im_DOLP shape is :  (1024, 1224)\n",
      "Time for DOLP2Theta conversion is :  20.78612470626831 seconds\n",
      "False\n",
      "AoLP time:  0.039977073669433594 s\n"
     ]
    },
    {
     "name": "stderr",
     "output_type": "stream",
     "text": [
      "\n",
      " 61%|█████████████████████████████████████████████████                               | 138/225 [51:05<31:23, 21.64s/it]"
     ]
    },
    {
     "name": "stdout",
     "output_type": "stream",
     "text": [
      "Processing data for material : WATER\n",
      "image_data shape is :  (2048, 2448)\n",
      "im90 shape is :  (1024, 1224)\n",
      "Stokes time:  0.026984214782714844 s\n",
      "im_stokes0 shape is :  (1024, 1224)\n",
      "DoLP time:  0.03697919845581055 s\n",
      "im_DOLP shape is :  (1024, 1224)\n",
      "Time for DOLP2Theta conversion is :  20.97700572013855 seconds\n",
      "False\n",
      "AoLP time:  0.040975093841552734 s\n"
     ]
    },
    {
     "name": "stderr",
     "output_type": "stream",
     "text": [
      "\n",
      " 62%|█████████████████████████████████████████████████▍                              | 139/225 [51:26<31:00, 21.63s/it]"
     ]
    },
    {
     "name": "stdout",
     "output_type": "stream",
     "text": [
      "Processing data for material : WATER\n",
      "image_data shape is :  (2048, 2448)\n",
      "im90 shape is :  (1024, 1224)\n",
      "Stokes time:  0.02598428726196289 s\n",
      "im_stokes0 shape is :  (1024, 1224)\n",
      "DoLP time:  0.034981489181518555 s\n",
      "im_DOLP shape is :  (1024, 1224)\n",
      "Time for DOLP2Theta conversion is :  21.092937231063843 seconds\n",
      "False\n",
      "AoLP time:  0.04797172546386719 s\n"
     ]
    },
    {
     "name": "stderr",
     "output_type": "stream",
     "text": [
      "\n",
      " 62%|█████████████████████████████████████████████████▊                              | 140/225 [51:48<30:41, 21.66s/it]"
     ]
    },
    {
     "name": "stdout",
     "output_type": "stream",
     "text": [
      "Processing data for material : WATER\n",
      "image_data shape is :  (2048, 2448)\n",
      "im90 shape is :  (1024, 1224)\n",
      "Stokes time:  0.0259857177734375 s\n",
      "im_stokes0 shape is :  (1024, 1224)\n",
      "DoLP time:  0.0339813232421875 s\n",
      "im_DOLP shape is :  (1024, 1224)\n",
      "Time for DOLP2Theta conversion is :  21.170889854431152 seconds\n",
      "False\n",
      "AoLP time:  0.04197549819946289 s\n"
     ]
    },
    {
     "name": "stderr",
     "output_type": "stream",
     "text": [
      "\n",
      " 63%|██████████████████████████████████████████████████▏                             | 141/225 [52:10<30:22, 21.70s/it]"
     ]
    },
    {
     "name": "stdout",
     "output_type": "stream",
     "text": [
      "Processing data for material : WATER\n",
      "image_data shape is :  (2048, 2448)\n",
      "im90 shape is :  (1024, 1224)\n",
      "Stokes time:  0.025985002517700195 s\n",
      "im_stokes0 shape is :  (1024, 1224)\n",
      "DoLP time:  0.03298139572143555 s\n",
      "im_DOLP shape is :  (1024, 1224)\n",
      "Time for DOLP2Theta conversion is :  20.656189680099487 seconds\n",
      "False\n",
      "AoLP time:  0.04097437858581543 s\n"
     ]
    },
    {
     "name": "stderr",
     "output_type": "stream",
     "text": [
      "\n",
      " 63%|██████████████████████████████████████████████████▍                             | 142/225 [52:31<29:50, 21.58s/it]"
     ]
    },
    {
     "name": "stdout",
     "output_type": "stream",
     "text": [
      "Processing data for material : WATER\n",
      "image_data shape is :  (2048, 2448)\n",
      "im90 shape is :  (1024, 1224)\n",
      "Stokes time:  0.02798318862915039 s\n",
      "im_stokes0 shape is :  (1024, 1224)\n",
      "DoLP time:  0.03298068046569824 s\n",
      "im_DOLP shape is :  (1024, 1224)\n",
      "Time for DOLP2Theta conversion is :  21.1618971824646 seconds\n",
      "False\n",
      "AoLP time:  0.04197525978088379 s\n"
     ]
    },
    {
     "name": "stderr",
     "output_type": "stream",
     "text": [
      "\n",
      " 64%|██████████████████████████████████████████████████▊                             | 143/225 [52:53<29:34, 21.64s/it]"
     ]
    },
    {
     "name": "stdout",
     "output_type": "stream",
     "text": [
      "Processing data for material : WATER\n",
      "image_data shape is :  (2048, 2448)\n",
      "im90 shape is :  (1024, 1224)\n",
      "Stokes time:  0.02498650550842285 s\n",
      "im_stokes0 shape is :  (1024, 1224)\n",
      "DoLP time:  0.03497958183288574 s\n",
      "im_DOLP shape is :  (1024, 1224)\n",
      "Time for DOLP2Theta conversion is :  20.973005056381226 seconds\n",
      "False\n",
      "AoLP time:  0.041974544525146484 s\n"
     ]
    },
    {
     "name": "stderr",
     "output_type": "stream",
     "text": [
      "\n",
      " 64%|███████████████████████████████████████████████████▏                            | 144/225 [53:15<29:12, 21.63s/it]"
     ]
    },
    {
     "name": "stdout",
     "output_type": "stream",
     "text": [
      "Processing data for material : WATER\n",
      "image_data shape is :  (2048, 2448)\n",
      "im90 shape is :  (1024, 1224)\n",
      "Stokes time:  0.025985240936279297 s\n",
      "im_stokes0 shape is :  (1024, 1224)\n",
      "DoLP time:  0.03397989273071289 s\n",
      "im_DOLP shape is :  (1024, 1224)\n",
      "Time for DOLP2Theta conversion is :  21.378772735595703 seconds\n",
      "False\n",
      "AoLP time:  0.0479733943939209 s\n"
     ]
    },
    {
     "name": "stderr",
     "output_type": "stream",
     "text": [
      "\n",
      " 64%|███████████████████████████████████████████████████▌                            | 145/225 [53:37<28:59, 21.75s/it]"
     ]
    },
    {
     "name": "stdout",
     "output_type": "stream",
     "text": [
      "Processing data for material : WATER\n",
      "image_data shape is :  (2048, 2448)\n",
      "im90 shape is :  (1024, 1224)\n",
      "Stokes time:  0.027983665466308594 s\n",
      "im_stokes0 shape is :  (1024, 1224)\n",
      "DoLP time:  0.04097557067871094 s\n",
      "im_DOLP shape is :  (1024, 1224)\n",
      "Time for DOLP2Theta conversion is :  21.14690613746643 seconds\n",
      "False\n",
      "AoLP time:  0.0539700984954834 s\n"
     ]
    },
    {
     "name": "stderr",
     "output_type": "stream",
     "text": [
      "\n",
      " 65%|███████████████████████████████████████████████████▉                            | 146/225 [53:58<28:39, 21.76s/it]"
     ]
    },
    {
     "name": "stdout",
     "output_type": "stream",
     "text": [
      "Processing data for material : WATER\n",
      "image_data shape is :  (2048, 2448)\n",
      "im90 shape is :  (1024, 1224)\n",
      "Stokes time:  0.024985313415527344 s\n",
      "im_stokes0 shape is :  (1024, 1224)\n",
      "DoLP time:  0.0319821834564209 s\n",
      "im_DOLP shape is :  (1024, 1224)\n",
      "Time for DOLP2Theta conversion is :  20.838082551956177 seconds\n",
      "False\n",
      "AoLP time:  0.040976524353027344 s\n"
     ]
    },
    {
     "name": "stderr",
     "output_type": "stream",
     "text": [
      "\n",
      " 65%|████████████████████████████████████████████████████▎                           | 147/225 [54:20<28:09, 21.67s/it]"
     ]
    },
    {
     "name": "stdout",
     "output_type": "stream",
     "text": [
      "Processing data for material : WATER\n",
      "image_data shape is :  (2048, 2448)\n",
      "im90 shape is :  (1024, 1224)\n",
      "Stokes time:  0.024985551834106445 s\n",
      "im_stokes0 shape is :  (1024, 1224)\n",
      "DoLP time:  0.03697919845581055 s\n",
      "im_DOLP shape is :  (1024, 1224)\n",
      "Time for DOLP2Theta conversion is :  21.011983394622803 seconds\n",
      "False\n",
      "AoLP time:  0.040975332260131836 s\n"
     ]
    },
    {
     "name": "stderr",
     "output_type": "stream",
     "text": [
      "\n",
      " 66%|████████████████████████████████████████████████████▌                           | 148/225 [54:42<27:47, 21.66s/it]"
     ]
    },
    {
     "name": "stdout",
     "output_type": "stream",
     "text": [
      "Processing data for material : WATER\n",
      "image_data shape is :  (2048, 2448)\n",
      "im90 shape is :  (1024, 1224)\n",
      "Stokes time:  0.024982690811157227 s\n",
      "im_stokes0 shape is :  (1024, 1224)\n",
      "DoLP time:  0.03297996520996094 s\n",
      "im_DOLP shape is :  (1024, 1224)\n",
      "Time for DOLP2Theta conversion is :  21.04696273803711 seconds\n",
      "False\n",
      "AoLP time:  0.040975093841552734 s\n"
     ]
    },
    {
     "name": "stderr",
     "output_type": "stream",
     "text": [
      "\n",
      " 66%|████████████████████████████████████████████████████▉                           | 149/225 [55:03<27:26, 21.66s/it]"
     ]
    },
    {
     "name": "stdout",
     "output_type": "stream",
     "text": [
      "Processing data for material : WATER\n",
      "image_data shape is :  (2048, 2448)\n",
      "im90 shape is :  (1024, 1224)\n",
      "Stokes time:  0.026984691619873047 s\n",
      "im_stokes0 shape is :  (1024, 1224)\n",
      "DoLP time:  0.03797793388366699 s\n",
      "im_DOLP shape is :  (1024, 1224)\n",
      "Time for DOLP2Theta conversion is :  21.12092137336731 seconds\n",
      "False\n",
      "AoLP time:  0.04097890853881836 s\n"
     ]
    },
    {
     "name": "stderr",
     "output_type": "stream",
     "text": [
      "\n",
      " 67%|█████████████████████████████████████████████████████▎                          | 150/225 [55:25<27:06, 21.68s/it]"
     ]
    },
    {
     "name": "stdout",
     "output_type": "stream",
     "text": [
      "Processing data for material : WATER\n",
      "image_data shape is :  (2048, 2448)\n",
      "im90 shape is :  (1024, 1224)\n",
      "Stokes time:  0.0259854793548584 s\n",
      "im_stokes0 shape is :  (1024, 1224)\n",
      "DoLP time:  0.038977622985839844 s\n",
      "im_DOLP shape is :  (1024, 1224)\n",
      "Time for DOLP2Theta conversion is :  21.366780757904053 seconds\n",
      "False\n",
      "AoLP time:  0.05296778678894043 s\n"
     ]
    },
    {
     "name": "stderr",
     "output_type": "stream",
     "text": [
      "\n",
      " 67%|█████████████████████████████████████████████████████▋                          | 151/225 [55:47<26:51, 21.78s/it]"
     ]
    },
    {
     "name": "stdout",
     "output_type": "stream",
     "text": [
      "Processing data for material : WATER\n",
      "image_data shape is :  (2048, 2448)\n",
      "im90 shape is :  (1024, 1224)\n",
      "Stokes time:  0.025986194610595703 s\n",
      "im_stokes0 shape is :  (1024, 1224)\n",
      "DoLP time:  0.03597879409790039 s\n",
      "im_DOLP shape is :  (1024, 1224)\n",
      "Time for DOLP2Theta conversion is :  21.260840892791748 seconds\n",
      "False\n",
      "AoLP time:  0.045972585678100586 s\n"
     ]
    },
    {
     "name": "stderr",
     "output_type": "stream",
     "text": [
      "\n",
      " 68%|██████████████████████████████████████████████████████                          | 152/225 [56:09<26:32, 21.82s/it]"
     ]
    },
    {
     "name": "stdout",
     "output_type": "stream",
     "text": [
      "Processing data for material : WATER\n",
      "image_data shape is :  (2048, 2448)\n",
      "im90 shape is :  (1024, 1224)\n",
      "Stokes time:  0.02498602867126465 s\n",
      "im_stokes0 shape is :  (1024, 1224)\n",
      "DoLP time:  0.03298068046569824 s\n",
      "im_DOLP shape is :  (1024, 1224)\n",
      "Time for DOLP2Theta conversion is :  21.023975372314453 seconds\n",
      "False\n",
      "AoLP time:  0.04097867012023926 s\n"
     ]
    },
    {
     "name": "stderr",
     "output_type": "stream",
     "text": [
      "\n",
      " 68%|██████████████████████████████████████████████████████▍                         | 153/225 [56:31<26:07, 21.77s/it]"
     ]
    },
    {
     "name": "stdout",
     "output_type": "stream",
     "text": [
      "Processing data for material : WATER\n",
      "image_data shape is :  (2048, 2448)\n",
      "im90 shape is :  (1024, 1224)\n",
      "Stokes time:  0.023988962173461914 s\n",
      "im_stokes0 shape is :  (1024, 1224)\n",
      "DoLP time:  0.03498053550720215 s\n",
      "im_DOLP shape is :  (1024, 1224)\n",
      "Time for DOLP2Theta conversion is :  20.842078924179077 seconds\n",
      "False\n",
      "AoLP time:  0.05396747589111328 s\n"
     ]
    },
    {
     "name": "stderr",
     "output_type": "stream",
     "text": [
      "\n",
      " 68%|██████████████████████████████████████████████████████▊                         | 154/225 [56:52<25:40, 21.69s/it]"
     ]
    },
    {
     "name": "stdout",
     "output_type": "stream",
     "text": [
      "Processing data for material : WATER\n",
      "image_data shape is :  (2048, 2448)\n",
      "im90 shape is :  (1024, 1224)\n",
      "Stokes time:  0.023987531661987305 s\n",
      "im_stokes0 shape is :  (1024, 1224)\n",
      "DoLP time:  0.03497958183288574 s\n",
      "im_DOLP shape is :  (1024, 1224)\n",
      "Time for DOLP2Theta conversion is :  20.97100567817688 seconds\n",
      "False\n",
      "AoLP time:  0.04697299003601074 s\n"
     ]
    },
    {
     "name": "stderr",
     "output_type": "stream",
     "text": [
      "\n",
      " 69%|███████████████████████████████████████████████████████                         | 155/225 [57:14<25:16, 21.67s/it]"
     ]
    },
    {
     "name": "stdout",
     "output_type": "stream",
     "text": [
      "Processing data for material : WATER\n",
      "image_data shape is :  (2048, 2448)\n",
      "im90 shape is :  (1024, 1224)\n",
      "Stokes time:  0.02698493003845215 s\n",
      "im_stokes0 shape is :  (1024, 1224)\n",
      "DoLP time:  0.03897881507873535 s\n",
      "im_DOLP shape is :  (1024, 1224)\n",
      "Time for DOLP2Theta conversion is :  21.214867115020752 seconds\n",
      "False\n",
      "AoLP time:  0.04397463798522949 s\n"
     ]
    },
    {
     "name": "stderr",
     "output_type": "stream",
     "text": [
      "\n",
      " 69%|███████████████████████████████████████████████████████▍                        | 156/225 [57:36<24:59, 21.73s/it]"
     ]
    },
    {
     "name": "stdout",
     "output_type": "stream",
     "text": [
      "Processing data for material : WATER\n",
      "image_data shape is :  (2048, 2448)\n",
      "im90 shape is :  (1024, 1224)\n",
      "Stokes time:  0.024985313415527344 s\n",
      "im_stokes0 shape is :  (1024, 1224)\n",
      "DoLP time:  0.03497934341430664 s\n",
      "im_DOLP shape is :  (1024, 1224)\n",
      "Time for DOLP2Theta conversion is :  21.508697986602783 seconds\n",
      "False\n",
      "AoLP time:  0.04197430610656738 s\n"
     ]
    },
    {
     "name": "stderr",
     "output_type": "stream",
     "text": [
      "\n",
      " 70%|███████████████████████████████████████████████████████▊                        | 157/225 [57:58<24:46, 21.86s/it]"
     ]
    },
    {
     "name": "stdout",
     "output_type": "stream",
     "text": [
      "Processing data for material : WATER\n",
      "image_data shape is :  (2048, 2448)\n",
      "im90 shape is :  (1024, 1224)\n",
      "Stokes time:  0.02398538589477539 s\n",
      "im_stokes0 shape is :  (1024, 1224)\n",
      "DoLP time:  0.03497958183288574 s\n",
      "im_DOLP shape is :  (1024, 1224)\n",
      "Time for DOLP2Theta conversion is :  21.25684118270874 seconds\n",
      "False\n",
      "AoLP time:  0.040976762771606445 s\n"
     ]
    },
    {
     "name": "stderr",
     "output_type": "stream",
     "text": [
      "\n",
      " 70%|████████████████████████████████████████████████████████▏                       | 158/225 [58:20<24:24, 21.86s/it]"
     ]
    },
    {
     "name": "stdout",
     "output_type": "stream",
     "text": [
      "Processing data for material : WATER\n",
      "image_data shape is :  (2048, 2448)\n",
      "im90 shape is :  (1024, 1224)\n",
      "Stokes time:  0.0239865779876709 s\n",
      "im_stokes0 shape is :  (1024, 1224)\n",
      "DoLP time:  0.03497934341430664 s\n",
      "im_DOLP shape is :  (1024, 1224)\n",
      "Time for DOLP2Theta conversion is :  21.005986213684082 seconds\n",
      "False\n",
      "AoLP time:  0.05096912384033203 s\n"
     ]
    },
    {
     "name": "stderr",
     "output_type": "stream",
     "text": [
      "\n",
      " 71%|████████████████████████████████████████████████████████▌                       | 159/225 [58:41<23:58, 21.79s/it]"
     ]
    },
    {
     "name": "stdout",
     "output_type": "stream",
     "text": [
      "Processing data for material : WATER\n",
      "image_data shape is :  (2048, 2448)\n",
      "im90 shape is :  (1024, 1224)\n",
      "Stokes time:  0.025983810424804688 s\n",
      "im_stokes0 shape is :  (1024, 1224)\n",
      "DoLP time:  0.03498029708862305 s\n",
      "im_DOLP shape is :  (1024, 1224)\n",
      "Time for DOLP2Theta conversion is :  21.100932359695435 seconds\n",
      "False\n",
      "AoLP time:  0.0419774055480957 s\n"
     ]
    },
    {
     "name": "stderr",
     "output_type": "stream",
     "text": [
      "\n",
      " 71%|████████████████████████████████████████████████████████▉                       | 160/225 [59:03<23:35, 21.77s/it]"
     ]
    },
    {
     "name": "stdout",
     "output_type": "stream",
     "text": [
      "Processing data for material : WATER\n",
      "image_data shape is :  (2048, 2448)\n",
      "im90 shape is :  (1024, 1224)\n",
      "Stokes time:  0.0259859561920166 s\n",
      "im_stokes0 shape is :  (1024, 1224)\n",
      "DoLP time:  0.0339808464050293 s\n",
      "im_DOLP shape is :  (1024, 1224)\n",
      "Time for DOLP2Theta conversion is :  21.619635581970215 seconds\n",
      "False\n",
      "AoLP time:  0.04397439956665039 s\n"
     ]
    },
    {
     "name": "stderr",
     "output_type": "stream",
     "text": [
      "\n",
      " 72%|█████████████████████████████████████████████████████████▏                      | 161/225 [59:25<23:23, 21.93s/it]"
     ]
    },
    {
     "name": "stdout",
     "output_type": "stream",
     "text": [
      "Processing data for material : WATER\n",
      "image_data shape is :  (2048, 2448)\n",
      "im90 shape is :  (1024, 1224)\n",
      "Stokes time:  0.024985313415527344 s\n",
      "im_stokes0 shape is :  (1024, 1224)\n",
      "DoLP time:  0.03697848320007324 s\n",
      "im_DOLP shape is :  (1024, 1224)\n",
      "Time for DOLP2Theta conversion is :  22.06137990951538 seconds\n",
      "False\n",
      "AoLP time:  0.04697227478027344 s\n"
     ]
    },
    {
     "name": "stderr",
     "output_type": "stream",
     "text": [
      "\n",
      " 72%|█████████████████████████████████████████████████████████▌                      | 162/225 [59:48<23:16, 22.17s/it]"
     ]
    },
    {
     "name": "stdout",
     "output_type": "stream",
     "text": [
      "Processing data for material : WATER\n",
      "image_data shape is :  (2048, 2448)\n",
      "im90 shape is :  (1024, 1224)\n",
      "Stokes time:  0.025984764099121094 s\n",
      "im_stokes0 shape is :  (1024, 1224)\n",
      "DoLP time:  0.03697800636291504 s\n",
      "im_DOLP shape is :  (1024, 1224)\n",
      "Time for DOLP2Theta conversion is :  21.237853527069092 seconds\n",
      "False\n",
      "AoLP time:  0.04497337341308594 s\n"
     ]
    },
    {
     "name": "stderr",
     "output_type": "stream",
     "text": [
      "\n",
      " 72%|████████████████████████████████████████████████████████▌                     | 163/225 [1:00:10<22:49, 22.08s/it]"
     ]
    },
    {
     "name": "stdout",
     "output_type": "stream",
     "text": [
      "Processing data for material : WATER\n",
      "image_data shape is :  (2048, 2448)\n",
      "im90 shape is :  (1024, 1224)\n",
      "Stokes time:  0.024985790252685547 s\n",
      "im_stokes0 shape is :  (1024, 1224)\n",
      "DoLP time:  0.03298020362854004 s\n",
      "im_DOLP shape is :  (1024, 1224)\n",
      "Time for DOLP2Theta conversion is :  20.830087661743164 seconds\n",
      "False\n",
      "AoLP time:  0.038977622985839844 s\n"
     ]
    },
    {
     "name": "stderr",
     "output_type": "stream",
     "text": [
      "\n",
      " 73%|████████████████████████████████████████████████████████▊                     | 164/225 [1:00:31<22:15, 21.89s/it]"
     ]
    },
    {
     "name": "stdout",
     "output_type": "stream",
     "text": [
      "Processing data for material : WATER\n",
      "image_data shape is :  (2048, 2448)\n",
      "im90 shape is :  (1024, 1224)\n",
      "Stokes time:  0.025983333587646484 s\n",
      "im_stokes0 shape is :  (1024, 1224)\n",
      "DoLP time:  0.031981706619262695 s\n",
      "im_DOLP shape is :  (1024, 1224)\n",
      "Time for DOLP2Theta conversion is :  20.738139629364014 seconds\n",
      "False\n",
      "AoLP time:  0.04197382926940918 s\n"
     ]
    },
    {
     "name": "stderr",
     "output_type": "stream",
     "text": [
      "\n",
      " 73%|█████████████████████████████████████████████████████████▏                    | 165/225 [1:00:53<21:44, 21.74s/it]"
     ]
    },
    {
     "name": "stdout",
     "output_type": "stream",
     "text": [
      "Processing data for material : WATER\n",
      "image_data shape is :  (2048, 2448)\n",
      "im90 shape is :  (1024, 1224)\n",
      "Stokes time:  0.022992610931396484 s\n",
      "im_stokes0 shape is :  (1024, 1224)\n",
      "DoLP time:  0.03597879409790039 s\n",
      "im_DOLP shape is :  (1024, 1224)\n",
      "Time for DOLP2Theta conversion is :  20.64519238471985 seconds\n",
      "False\n",
      "AoLP time:  0.04497241973876953 s\n"
     ]
    },
    {
     "name": "stderr",
     "output_type": "stream",
     "text": [
      "\n",
      " 74%|█████████████████████████████████████████████████████████▌                    | 166/225 [1:01:14<21:14, 21.60s/it]"
     ]
    },
    {
     "name": "stdout",
     "output_type": "stream",
     "text": [
      "Processing data for material : WATER\n",
      "image_data shape is :  (2048, 2448)\n",
      "im90 shape is :  (1024, 1224)\n",
      "Stokes time:  0.02798295021057129 s\n",
      "im_stokes0 shape is :  (1024, 1224)\n",
      "DoLP time:  0.03597879409790039 s\n",
      "im_DOLP shape is :  (1024, 1224)\n",
      "Time for DOLP2Theta conversion is :  20.894047737121582 seconds\n",
      "False\n",
      "AoLP time:  0.042973995208740234 s\n"
     ]
    },
    {
     "name": "stderr",
     "output_type": "stream",
     "text": [
      "\n",
      " 74%|█████████████████████████████████████████████████████████▉                    | 167/225 [1:01:35<20:51, 21.58s/it]"
     ]
    },
    {
     "name": "stdout",
     "output_type": "stream",
     "text": [
      "Processing data for material : WATER\n",
      "image_data shape is :  (2048, 2448)\n",
      "im90 shape is :  (1024, 1224)\n",
      "Stokes time:  0.024984121322631836 s\n",
      "im_stokes0 shape is :  (1024, 1224)\n",
      "DoLP time:  0.03597760200500488 s\n",
      "im_DOLP shape is :  (1024, 1224)\n",
      "Time for DOLP2Theta conversion is :  20.718151092529297 seconds\n",
      "False\n",
      "AoLP time:  0.04397463798522949 s\n"
     ]
    },
    {
     "name": "stderr",
     "output_type": "stream",
     "text": [
      "\n",
      " 75%|██████████████████████████████████████████████████████████▏                   | 168/225 [1:01:57<20:26, 21.51s/it]"
     ]
    },
    {
     "name": "stdout",
     "output_type": "stream",
     "text": [
      "Processing data for material : WATER\n",
      "image_data shape is :  (2048, 2448)\n",
      "im90 shape is :  (1024, 1224)\n",
      "Stokes time:  0.024986982345581055 s\n",
      "im_stokes0 shape is :  (1024, 1224)\n",
      "DoLP time:  0.037978172302246094 s\n",
      "im_DOLP shape is :  (1024, 1224)\n",
      "Time for DOLP2Theta conversion is :  20.655187368392944 seconds\n",
      "False\n",
      "AoLP time:  0.04497170448303223 s\n"
     ]
    },
    {
     "name": "stderr",
     "output_type": "stream",
     "text": [
      "\n",
      " 75%|██████████████████████████████████████████████████████████▌                   | 169/225 [1:02:18<20:00, 21.44s/it]"
     ]
    },
    {
     "name": "stdout",
     "output_type": "stream",
     "text": [
      "Processing data for material : WATER\n",
      "image_data shape is :  (2048, 2448)\n",
      "im90 shape is :  (1024, 1224)\n",
      "Stokes time:  0.024985313415527344 s\n",
      "im_stokes0 shape is :  (1024, 1224)\n",
      "DoLP time:  0.03198099136352539 s\n",
      "im_DOLP shape is :  (1024, 1224)\n",
      "Time for DOLP2Theta conversion is :  20.837082862854004 seconds\n",
      "False\n",
      "AoLP time:  0.03997683525085449 s\n"
     ]
    },
    {
     "name": "stderr",
     "output_type": "stream",
     "text": [
      "\n",
      " 76%|██████████████████████████████████████████████████████████▉                   | 170/225 [1:02:40<19:39, 21.45s/it]"
     ]
    },
    {
     "name": "stdout",
     "output_type": "stream",
     "text": [
      "Processing data for material : WATER\n",
      "image_data shape is :  (2048, 2448)\n",
      "im90 shape is :  (1024, 1224)\n",
      "Stokes time:  0.024985790252685547 s\n",
      "im_stokes0 shape is :  (1024, 1224)\n",
      "DoLP time:  0.03298044204711914 s\n",
      "im_DOLP shape is :  (1024, 1224)\n",
      "Time for DOLP2Theta conversion is :  20.663180351257324 seconds\n",
      "False\n",
      "AoLP time:  0.042975664138793945 s\n"
     ]
    },
    {
     "name": "stderr",
     "output_type": "stream",
     "text": [
      "\n",
      " 76%|███████████████████████████████████████████████████████████▎                  | 171/225 [1:03:01<19:15, 21.41s/it]"
     ]
    },
    {
     "name": "stdout",
     "output_type": "stream",
     "text": [
      "Processing data for material : WATER\n",
      "image_data shape is :  (2048, 2448)\n",
      "im90 shape is :  (1024, 1224)\n",
      "Stokes time:  0.025985002517700195 s\n",
      "im_stokes0 shape is :  (1024, 1224)\n",
      "DoLP time:  0.035980224609375 s\n",
      "im_DOLP shape is :  (1024, 1224)\n",
      "Time for DOLP2Theta conversion is :  20.885056257247925 seconds\n",
      "False\n",
      "AoLP time:  0.04097604751586914 s\n"
     ]
    },
    {
     "name": "stderr",
     "output_type": "stream",
     "text": [
      "\n",
      " 76%|███████████████████████████████████████████████████████████▋                  | 172/225 [1:03:22<18:56, 21.44s/it]"
     ]
    },
    {
     "name": "stdout",
     "output_type": "stream",
     "text": [
      "Processing data for material : WATER\n",
      "image_data shape is :  (2048, 2448)\n",
      "im90 shape is :  (1024, 1224)\n",
      "Stokes time:  0.023986101150512695 s\n",
      "im_stokes0 shape is :  (1024, 1224)\n",
      "DoLP time:  0.031982421875 s\n",
      "im_DOLP shape is :  (1024, 1224)\n",
      "Time for DOLP2Theta conversion is :  20.701201677322388 seconds\n",
      "False\n",
      "AoLP time:  0.038977622985839844 s\n"
     ]
    },
    {
     "name": "stderr",
     "output_type": "stream",
     "text": [
      "\n",
      " 77%|███████████████████████████████████████████████████████████▉                  | 173/225 [1:03:44<18:33, 21.41s/it]"
     ]
    },
    {
     "name": "stdout",
     "output_type": "stream",
     "text": [
      "Processing data for material : WATER\n",
      "image_data shape is :  (2048, 2448)\n",
      "im90 shape is :  (1024, 1224)\n",
      "Stokes time:  0.025985240936279297 s\n",
      "im_stokes0 shape is :  (1024, 1224)\n",
      "DoLP time:  0.0319828987121582 s\n",
      "im_DOLP shape is :  (1024, 1224)\n",
      "Time for DOLP2Theta conversion is :  20.686169862747192 seconds\n",
      "False\n",
      "AoLP time:  0.042974233627319336 s\n"
     ]
    },
    {
     "name": "stderr",
     "output_type": "stream",
     "text": [
      "\n",
      " 77%|████████████████████████████████████████████████████████████▎                 | 174/225 [1:04:05<18:10, 21.39s/it]"
     ]
    },
    {
     "name": "stdout",
     "output_type": "stream",
     "text": [
      "Processing data for material : WATER\n",
      "image_data shape is :  (2048, 2448)\n",
      "im90 shape is :  (1024, 1224)\n",
      "Stokes time:  0.02298712730407715 s\n",
      "im_stokes0 shape is :  (1024, 1224)\n",
      "DoLP time:  0.03198099136352539 s\n",
      "im_DOLP shape is :  (1024, 1224)\n",
      "Time for DOLP2Theta conversion is :  20.70915460586548 seconds\n",
      "False\n",
      "AoLP time:  0.0439753532409668 s\n"
     ]
    },
    {
     "name": "stderr",
     "output_type": "stream",
     "text": [
      "\n",
      " 78%|████████████████████████████████████████████████████████████▋                 | 175/225 [1:04:26<17:48, 21.37s/it]"
     ]
    },
    {
     "name": "stdout",
     "output_type": "stream",
     "text": [
      "Processing data for material : WATER\n",
      "image_data shape is :  (2048, 2448)\n",
      "im90 shape is :  (1024, 1224)\n",
      "Stokes time:  0.026983261108398438 s\n",
      "im_stokes0 shape is :  (1024, 1224)\n",
      "DoLP time:  0.03397989273071289 s\n",
      "im_DOLP shape is :  (1024, 1224)\n",
      "Time for DOLP2Theta conversion is :  20.957030296325684 seconds\n",
      "False\n",
      "AoLP time:  0.0379786491394043 s\n"
     ]
    },
    {
     "name": "stderr",
     "output_type": "stream",
     "text": [
      "\n",
      " 78%|█████████████████████████████████████████████████████████████                 | 176/225 [1:04:48<17:30, 21.43s/it]"
     ]
    },
    {
     "name": "stdout",
     "output_type": "stream",
     "text": [
      "Processing data for material : WATER\n",
      "image_data shape is :  (2048, 2448)\n",
      "im90 shape is :  (1024, 1224)\n",
      "Stokes time:  0.023986339569091797 s\n",
      "im_stokes0 shape is :  (1024, 1224)\n",
      "DoLP time:  0.033980607986450195 s\n",
      "im_DOLP shape is :  (1024, 1224)\n",
      "Time for DOLP2Theta conversion is :  21.506698608398438 seconds\n",
      "False\n",
      "AoLP time:  0.03997516632080078 s\n"
     ]
    },
    {
     "name": "stderr",
     "output_type": "stream",
     "text": [
      "\n",
      " 79%|█████████████████████████████████████████████████████████████▎                | 177/225 [1:05:10<17:19, 21.65s/it]"
     ]
    },
    {
     "name": "stdout",
     "output_type": "stream",
     "text": [
      "Processing data for material : WATER\n",
      "image_data shape is :  (2048, 2448)\n",
      "im90 shape is :  (1024, 1224)\n",
      "Stokes time:  0.023986101150512695 s\n",
      "im_stokes0 shape is :  (1024, 1224)\n",
      "DoLP time:  0.03198099136352539 s\n",
      "im_DOLP shape is :  (1024, 1224)\n",
      "Time for DOLP2Theta conversion is :  21.51969075202942 seconds\n",
      "False\n",
      "AoLP time:  0.03897690773010254 s\n"
     ]
    },
    {
     "name": "stderr",
     "output_type": "stream",
     "text": [
      "\n",
      " 79%|█████████████████████████████████████████████████████████████▋                | 178/225 [1:05:32<17:04, 21.80s/it]"
     ]
    },
    {
     "name": "stdout",
     "output_type": "stream",
     "text": [
      "Processing data for material : WATER\n",
      "image_data shape is :  (2048, 2448)\n",
      "im90 shape is :  (1024, 1224)\n",
      "Stokes time:  0.025984764099121094 s\n",
      "im_stokes0 shape is :  (1024, 1224)\n",
      "DoLP time:  0.032980918884277344 s\n",
      "im_DOLP shape is :  (1024, 1224)\n",
      "Time for DOLP2Theta conversion is :  20.975002765655518 seconds\n",
      "False\n",
      "AoLP time:  0.040975332260131836 s\n"
     ]
    },
    {
     "name": "stderr",
     "output_type": "stream",
     "text": [
      "\n",
      " 80%|██████████████████████████████████████████████████████████████                | 179/225 [1:05:54<16:40, 21.74s/it]"
     ]
    },
    {
     "name": "stdout",
     "output_type": "stream",
     "text": [
      "Processing data for material : WATER\n",
      "image_data shape is :  (2048, 2448)\n",
      "im90 shape is :  (1024, 1224)\n",
      "Stokes time:  0.02698349952697754 s\n",
      "im_stokes0 shape is :  (1024, 1224)\n",
      "DoLP time:  0.034979820251464844 s\n",
      "im_DOLP shape is :  (1024, 1224)\n",
      "Time for DOLP2Theta conversion is :  21.291820764541626 seconds\n",
      "False\n",
      "AoLP time:  0.048972368240356445 s\n"
     ]
    },
    {
     "name": "stderr",
     "output_type": "stream",
     "text": [
      "\n",
      " 80%|██████████████████████████████████████████████████████████████▍               | 180/225 [1:06:16<16:21, 21.80s/it]"
     ]
    },
    {
     "name": "stdout",
     "output_type": "stream",
     "text": [
      "Processing data for material : WATER\n",
      "image_data shape is :  (2048, 2448)\n",
      "im90 shape is :  (1024, 1224)\n",
      "Stokes time:  0.024985313415527344 s\n",
      "im_stokes0 shape is :  (1024, 1224)\n",
      "DoLP time:  0.0359797477722168 s\n",
      "im_DOLP shape is :  (1024, 1224)\n",
      "Time for DOLP2Theta conversion is :  20.992992877960205 seconds\n",
      "False\n",
      "AoLP time:  0.04797029495239258 s\n"
     ]
    },
    {
     "name": "stderr",
     "output_type": "stream",
     "text": [
      "\n",
      " 80%|██████████████████████████████████████████████████████████████▋               | 181/225 [1:06:37<15:57, 21.76s/it]"
     ]
    },
    {
     "name": "stdout",
     "output_type": "stream",
     "text": [
      "Processing data for material : WATER\n",
      "image_data shape is :  (2048, 2448)\n",
      "im90 shape is :  (1024, 1224)\n",
      "Stokes time:  0.02498483657836914 s\n",
      "im_stokes0 shape is :  (1024, 1224)\n",
      "DoLP time:  0.03298068046569824 s\n",
      "im_DOLP shape is :  (1024, 1224)\n",
      "Time for DOLP2Theta conversion is :  21.298818826675415 seconds\n",
      "False\n",
      "AoLP time:  0.04297494888305664 s\n"
     ]
    },
    {
     "name": "stderr",
     "output_type": "stream",
     "text": [
      "\n",
      " 81%|███████████████████████████████████████████████████████████████               | 182/225 [1:06:59<15:37, 21.81s/it]"
     ]
    },
    {
     "name": "stdout",
     "output_type": "stream",
     "text": [
      "Processing data for material : WATER\n",
      "image_data shape is :  (2048, 2448)\n",
      "im90 shape is :  (1024, 1224)\n",
      "Stokes time:  0.023986339569091797 s\n",
      "im_stokes0 shape is :  (1024, 1224)\n",
      "DoLP time:  0.036978721618652344 s\n",
      "im_DOLP shape is :  (1024, 1224)\n",
      "Time for DOLP2Theta conversion is :  21.01498007774353 seconds\n",
      "False\n",
      "AoLP time:  0.0419774055480957 s\n"
     ]
    },
    {
     "name": "stderr",
     "output_type": "stream",
     "text": [
      "\n",
      " 81%|███████████████████████████████████████████████████████████████▍              | 183/225 [1:07:21<15:13, 21.76s/it]"
     ]
    },
    {
     "name": "stdout",
     "output_type": "stream",
     "text": [
      "Processing data for material : WATER\n",
      "image_data shape is :  (2048, 2448)\n",
      "im90 shape is :  (1024, 1224)\n",
      "Stokes time:  0.022986888885498047 s\n",
      "im_stokes0 shape is :  (1024, 1224)\n",
      "DoLP time:  0.03497934341430664 s\n",
      "im_DOLP shape is :  (1024, 1224)\n",
      "Time for DOLP2Theta conversion is :  21.83450984954834 seconds\n",
      "False\n",
      "AoLP time:  0.0399785041809082 s\n"
     ]
    },
    {
     "name": "stderr",
     "output_type": "stream",
     "text": [
      "\n",
      " 82%|███████████████████████████████████████████████████████████████▊              | 184/225 [1:07:43<15:00, 21.96s/it]"
     ]
    },
    {
     "name": "stdout",
     "output_type": "stream",
     "text": [
      "Processing data for material : WATER\n",
      "image_data shape is :  (2048, 2448)\n",
      "im90 shape is :  (1024, 1224)\n",
      "Stokes time:  0.025985002517700195 s\n",
      "im_stokes0 shape is :  (1024, 1224)\n",
      "DoLP time:  0.03997683525085449 s\n",
      "im_DOLP shape is :  (1024, 1224)\n",
      "Time for DOLP2Theta conversion is :  20.791107177734375 seconds\n",
      "False\n",
      "AoLP time:  0.0399775505065918 s\n"
     ]
    },
    {
     "name": "stderr",
     "output_type": "stream",
     "text": [
      "\n",
      " 82%|████████████████████████████████████████████████████████████████▏             | 185/225 [1:08:05<14:31, 21.80s/it]"
     ]
    },
    {
     "name": "stdout",
     "output_type": "stream",
     "text": [
      "Processing data for material : WATER\n",
      "image_data shape is :  (2048, 2448)\n",
      "im90 shape is :  (1024, 1224)\n",
      "Stokes time:  0.023986101150512695 s\n",
      "im_stokes0 shape is :  (1024, 1224)\n",
      "DoLP time:  0.033980607986450195 s\n",
      "im_DOLP shape is :  (1024, 1224)\n",
      "Time for DOLP2Theta conversion is :  21.06595206260681 seconds\n",
      "False\n",
      "AoLP time:  0.04197573661804199 s\n"
     ]
    },
    {
     "name": "stderr",
     "output_type": "stream",
     "text": [
      "\n",
      " 83%|████████████████████████████████████████████████████████████████▍             | 186/225 [1:08:27<14:08, 21.76s/it]"
     ]
    },
    {
     "name": "stdout",
     "output_type": "stream",
     "text": [
      "Processing data for material : WATER\n",
      "image_data shape is :  (2048, 2448)\n",
      "im90 shape is :  (1024, 1224)\n",
      "Stokes time:  0.025985002517700195 s\n",
      "im_stokes0 shape is :  (1024, 1224)\n",
      "DoLP time:  0.0339813232421875 s\n",
      "im_DOLP shape is :  (1024, 1224)\n",
      "Time for DOLP2Theta conversion is :  20.872080326080322 seconds\n",
      "False\n",
      "AoLP time:  0.04297375679016113 s\n"
     ]
    },
    {
     "name": "stderr",
     "output_type": "stream",
     "text": [
      "\n",
      " 83%|████████████████████████████████████████████████████████████████▊             | 187/225 [1:08:48<13:44, 21.69s/it]"
     ]
    },
    {
     "name": "stdout",
     "output_type": "stream",
     "text": [
      "Processing data for material : WATER\n",
      "image_data shape is :  (2048, 2448)\n",
      "im90 shape is :  (1024, 1224)\n",
      "Stokes time:  0.024985790252685547 s\n",
      "im_stokes0 shape is :  (1024, 1224)\n",
      "DoLP time:  0.031981706619262695 s\n",
      "im_DOLP shape is :  (1024, 1224)\n",
      "Time for DOLP2Theta conversion is :  21.79053544998169 seconds\n",
      "False\n",
      "AoLP time:  0.03997635841369629 s\n"
     ]
    },
    {
     "name": "stderr",
     "output_type": "stream",
     "text": [
      "\n",
      " 84%|█████████████████████████████████████████████████████████████████▏            | 188/225 [1:09:11<13:30, 21.91s/it]"
     ]
    },
    {
     "name": "stdout",
     "output_type": "stream",
     "text": [
      "Processing data for material : WATER\n",
      "image_data shape is :  (2048, 2448)\n",
      "im90 shape is :  (1024, 1224)\n",
      "Stokes time:  0.023985862731933594 s\n",
      "im_stokes0 shape is :  (1024, 1224)\n",
      "DoLP time:  0.033980607986450195 s\n",
      "im_DOLP shape is :  (1024, 1224)\n",
      "Time for DOLP2Theta conversion is :  21.144906044006348 seconds\n",
      "False\n",
      "AoLP time:  0.04097700119018555 s\n"
     ]
    },
    {
     "name": "stderr",
     "output_type": "stream",
     "text": [
      "\n",
      " 84%|█████████████████████████████████████████████████████████████████▌            | 189/225 [1:09:32<13:07, 21.87s/it]"
     ]
    },
    {
     "name": "stdout",
     "output_type": "stream",
     "text": [
      "Processing data for material : WATER\n",
      "image_data shape is :  (2048, 2448)\n",
      "im90 shape is :  (1024, 1224)\n",
      "Stokes time:  0.024985313415527344 s\n",
      "im_stokes0 shape is :  (1024, 1224)\n",
      "DoLP time:  0.03398013114929199 s\n",
      "im_DOLP shape is :  (1024, 1224)\n",
      "Time for DOLP2Theta conversion is :  22.107354402542114 seconds\n",
      "False\n",
      "AoLP time:  0.040976762771606445 s\n"
     ]
    },
    {
     "name": "stderr",
     "output_type": "stream",
     "text": [
      "\n",
      " 84%|█████████████████████████████████████████████████████████████████▊            | 190/225 [1:09:55<12:54, 22.13s/it]"
     ]
    },
    {
     "name": "stdout",
     "output_type": "stream",
     "text": [
      "Processing data for material : WATER\n",
      "image_data shape is :  (2048, 2448)\n",
      "im90 shape is :  (1024, 1224)\n",
      "Stokes time:  0.02498483657836914 s\n",
      "im_stokes0 shape is :  (1024, 1224)\n",
      "DoLP time:  0.032980918884277344 s\n",
      "im_DOLP shape is :  (1024, 1224)\n",
      "Time for DOLP2Theta conversion is :  21.234854221343994 seconds\n",
      "False\n",
      "AoLP time:  0.03997683525085449 s\n"
     ]
    },
    {
     "name": "stderr",
     "output_type": "stream",
     "text": [
      "\n",
      " 85%|██████████████████████████████████████████████████████████████████▏           | 191/225 [1:10:17<12:29, 22.05s/it]"
     ]
    },
    {
     "name": "stdout",
     "output_type": "stream",
     "text": [
      "Processing data for material : WATER\n",
      "image_data shape is :  (2048, 2448)\n",
      "im90 shape is :  (1024, 1224)\n",
      "Stokes time:  0.0259854793548584 s\n",
      "im_stokes0 shape is :  (1024, 1224)\n",
      "DoLP time:  0.032980918884277344 s\n",
      "im_DOLP shape is :  (1024, 1224)\n",
      "Time for DOLP2Theta conversion is :  21.493706226348877 seconds\n",
      "False\n",
      "AoLP time:  0.03997659683227539 s\n"
     ]
    },
    {
     "name": "stderr",
     "output_type": "stream",
     "text": [
      "\n",
      " 85%|██████████████████████████████████████████████████████████████████▌           | 192/225 [1:10:39<12:08, 22.07s/it]"
     ]
    },
    {
     "name": "stdout",
     "output_type": "stream",
     "text": [
      "Processing data for material : WATER\n",
      "image_data shape is :  (2048, 2448)\n",
      "im90 shape is :  (1024, 1224)\n",
      "Stokes time:  0.025985240936279297 s\n",
      "im_stokes0 shape is :  (1024, 1224)\n",
      "DoLP time:  0.03797769546508789 s\n",
      "im_DOLP shape is :  (1024, 1224)\n",
      "Time for DOLP2Theta conversion is :  21.168891668319702 seconds\n",
      "False\n",
      "AoLP time:  0.04197502136230469 s\n"
     ]
    },
    {
     "name": "stderr",
     "output_type": "stream",
     "text": [
      "\n",
      " 86%|██████████████████████████████████████████████████████████████████▉           | 193/225 [1:11:01<11:43, 21.99s/it]"
     ]
    },
    {
     "name": "stdout",
     "output_type": "stream",
     "text": [
      "Processing data for material : WATER\n",
      "image_data shape is :  (2048, 2448)\n",
      "im90 shape is :  (1024, 1224)\n",
      "Stokes time:  0.026984453201293945 s\n",
      "im_stokes0 shape is :  (1024, 1224)\n",
      "DoLP time:  0.03298139572143555 s\n",
      "im_DOLP shape is :  (1024, 1224)\n",
      "Time for DOLP2Theta conversion is :  21.55267333984375 seconds\n",
      "False\n",
      "AoLP time:  0.04297351837158203 s\n"
     ]
    },
    {
     "name": "stderr",
     "output_type": "stream",
     "text": [
      "\n",
      " 86%|███████████████████████████████████████████████████████████████████▎          | 194/225 [1:11:23<11:23, 22.04s/it]"
     ]
    },
    {
     "name": "stdout",
     "output_type": "stream",
     "text": [
      "Processing data for material : WATER\n",
      "image_data shape is :  (2048, 2448)\n",
      "im90 shape is :  (1024, 1224)\n",
      "Stokes time:  0.024985551834106445 s\n",
      "im_stokes0 shape is :  (1024, 1224)\n",
      "DoLP time:  0.03298234939575195 s\n",
      "im_DOLP shape is :  (1024, 1224)\n",
      "Time for DOLP2Theta conversion is :  21.498703718185425 seconds\n",
      "False\n",
      "AoLP time:  0.042975425720214844 s\n"
     ]
    },
    {
     "name": "stderr",
     "output_type": "stream",
     "text": [
      "\n",
      " 87%|███████████████████████████████████████████████████████████████████▌          | 195/225 [1:11:45<11:01, 22.06s/it]"
     ]
    },
    {
     "name": "stdout",
     "output_type": "stream",
     "text": [
      "Processing data for material : WATER\n",
      "image_data shape is :  (2048, 2448)\n",
      "im90 shape is :  (1024, 1224)\n",
      "Stokes time:  0.024985074996948242 s\n",
      "im_stokes0 shape is :  (1024, 1224)\n",
      "DoLP time:  0.03498077392578125 s\n",
      "im_DOLP shape is :  (1024, 1224)\n",
      "Time for DOLP2Theta conversion is :  22.010409593582153 seconds\n",
      "False\n",
      "AoLP time:  0.04497098922729492 s\n"
     ]
    },
    {
     "name": "stderr",
     "output_type": "stream",
     "text": [
      "\n",
      " 87%|███████████████████████████████████████████████████████████████████▉          | 196/225 [1:12:08<10:44, 22.23s/it]"
     ]
    },
    {
     "name": "stdout",
     "output_type": "stream",
     "text": [
      "Processing data for material : WATER\n",
      "image_data shape is :  (2048, 2448)\n",
      "im90 shape is :  (1024, 1224)\n",
      "Stokes time:  0.023985862731933594 s\n",
      "im_stokes0 shape is :  (1024, 1224)\n",
      "DoLP time:  0.034980058670043945 s\n",
      "im_DOLP shape is :  (1024, 1224)\n",
      "Time for DOLP2Theta conversion is :  21.37377429008484 seconds\n",
      "False\n",
      "AoLP time:  0.04497361183166504 s\n"
     ]
    },
    {
     "name": "stderr",
     "output_type": "stream",
     "text": [
      "\n",
      " 88%|████████████████████████████████████████████████████████████████████▎         | 197/225 [1:12:30<10:20, 22.16s/it]"
     ]
    },
    {
     "name": "stdout",
     "output_type": "stream",
     "text": [
      "Processing data for material : WATER\n",
      "image_data shape is :  (2048, 2448)\n",
      "im90 shape is :  (1024, 1224)\n",
      "Stokes time:  0.02498793601989746 s\n",
      "im_stokes0 shape is :  (1024, 1224)\n",
      "DoLP time:  0.031981468200683594 s\n",
      "im_DOLP shape is :  (1024, 1224)\n",
      "Time for DOLP2Theta conversion is :  21.289823293685913 seconds\n",
      "False\n",
      "AoLP time:  0.040976762771606445 s\n"
     ]
    },
    {
     "name": "stderr",
     "output_type": "stream",
     "text": [
      "\n",
      " 88%|████████████████████████████████████████████████████████████████████▋         | 198/225 [1:12:52<09:56, 22.08s/it]"
     ]
    },
    {
     "name": "stdout",
     "output_type": "stream",
     "text": [
      "Processing data for material : WATER\n",
      "image_data shape is :  (2048, 2448)\n",
      "im90 shape is :  (1024, 1224)\n",
      "Stokes time:  0.024985790252685547 s\n",
      "im_stokes0 shape is :  (1024, 1224)\n",
      "DoLP time:  0.031983137130737305 s\n",
      "im_DOLP shape is :  (1024, 1224)\n",
      "Time for DOLP2Theta conversion is :  20.62622094154358 seconds\n",
      "False\n",
      "AoLP time:  0.04097628593444824 s\n"
     ]
    },
    {
     "name": "stderr",
     "output_type": "stream",
     "text": [
      "\n",
      " 88%|████████████████████████████████████████████████████████████████████▉         | 199/225 [1:13:13<09:27, 21.83s/it]"
     ]
    },
    {
     "name": "stdout",
     "output_type": "stream",
     "text": [
      "Processing data for material : WATER\n",
      "image_data shape is :  (2048, 2448)\n",
      "im90 shape is :  (1024, 1224)\n",
      "Stokes time:  0.023982524871826172 s\n",
      "im_stokes0 shape is :  (1024, 1224)\n",
      "DoLP time:  0.0339810848236084 s\n",
      "im_DOLP shape is :  (1024, 1224)\n",
      "Time for DOLP2Theta conversion is :  20.966007709503174 seconds\n",
      "False\n",
      "AoLP time:  0.04397439956665039 s\n"
     ]
    },
    {
     "name": "stderr",
     "output_type": "stream",
     "text": [
      "\n",
      " 89%|█████████████████████████████████████████████████████████████████████▎        | 200/225 [1:13:34<09:03, 21.76s/it]"
     ]
    },
    {
     "name": "stdout",
     "output_type": "stream",
     "text": [
      "Processing data for material : WATER\n",
      "image_data shape is :  (2048, 2448)\n",
      "im90 shape is :  (1024, 1224)\n",
      "Stokes time:  0.025985002517700195 s\n",
      "im_stokes0 shape is :  (1024, 1224)\n",
      "DoLP time:  0.03697824478149414 s\n",
      "im_DOLP shape is :  (1024, 1224)\n",
      "Time for DOLP2Theta conversion is :  21.19687581062317 seconds\n",
      "False\n",
      "AoLP time:  0.04297471046447754 s\n"
     ]
    },
    {
     "name": "stderr",
     "output_type": "stream",
     "text": [
      "\n",
      " 89%|█████████████████████████████████████████████████████████████████████▋        | 201/225 [1:13:56<08:42, 21.78s/it]"
     ]
    },
    {
     "name": "stdout",
     "output_type": "stream",
     "text": [
      "Processing data for material : WATER\n",
      "image_data shape is :  (2048, 2448)\n",
      "im90 shape is :  (1024, 1224)\n",
      "Stokes time:  0.02698516845703125 s\n",
      "im_stokes0 shape is :  (1024, 1224)\n",
      "DoLP time:  0.032980918884277344 s\n",
      "im_DOLP shape is :  (1024, 1224)\n",
      "Time for DOLP2Theta conversion is :  21.474717378616333 seconds\n",
      "False\n",
      "AoLP time:  0.039977073669433594 s\n"
     ]
    },
    {
     "name": "stderr",
     "output_type": "stream",
     "text": [
      "\n",
      " 90%|██████████████████████████████████████████████████████████████████████        | 202/225 [1:14:18<08:23, 21.88s/it]"
     ]
    },
    {
     "name": "stdout",
     "output_type": "stream",
     "text": [
      "Processing data for material : WATER\n",
      "image_data shape is :  (2048, 2448)\n",
      "im90 shape is :  (1024, 1224)\n",
      "Stokes time:  0.0259859561920166 s\n",
      "im_stokes0 shape is :  (1024, 1224)\n",
      "DoLP time:  0.030982255935668945 s\n",
      "im_DOLP shape is :  (1024, 1224)\n",
      "Time for DOLP2Theta conversion is :  21.573660612106323 seconds\n",
      "False\n",
      "AoLP time:  0.04297471046447754 s\n"
     ]
    },
    {
     "name": "stderr",
     "output_type": "stream",
     "text": [
      "\n",
      " 90%|██████████████████████████████████████████████████████████████████████▎       | 203/225 [1:14:41<08:03, 21.98s/it]"
     ]
    },
    {
     "name": "stdout",
     "output_type": "stream",
     "text": [
      "Processing data for material : WATER\n",
      "image_data shape is :  (2048, 2448)\n",
      "im90 shape is :  (1024, 1224)\n",
      "Stokes time:  0.025984525680541992 s\n",
      "im_stokes0 shape is :  (1024, 1224)\n",
      "DoLP time:  0.03298068046569824 s\n",
      "im_DOLP shape is :  (1024, 1224)\n",
      "Time for DOLP2Theta conversion is :  23.126771450042725 seconds\n",
      "False\n",
      "AoLP time:  0.04297590255737305 s\n"
     ]
    },
    {
     "name": "stderr",
     "output_type": "stream",
     "text": [
      "\n",
      " 91%|██████████████████████████████████████████████████████████████████████▋       | 204/225 [1:15:04<07:52, 22.52s/it]"
     ]
    },
    {
     "name": "stdout",
     "output_type": "stream",
     "text": [
      "Processing data for material : WATER\n",
      "image_data shape is :  (2048, 2448)\n",
      "im90 shape is :  (1024, 1224)\n",
      "Stokes time:  0.025989294052124023 s\n",
      "im_stokes0 shape is :  (1024, 1224)\n",
      "DoLP time:  0.0339813232421875 s\n",
      "im_DOLP shape is :  (1024, 1224)\n",
      "Time for DOLP2Theta conversion is :  21.698588371276855 seconds\n",
      "False\n",
      "AoLP time:  0.04097628593444824 s\n"
     ]
    },
    {
     "name": "stderr",
     "output_type": "stream",
     "text": [
      "\n",
      " 91%|███████████████████████████████████████████████████████████████████████       | 205/225 [1:15:27<07:29, 22.47s/it]"
     ]
    },
    {
     "name": "stdout",
     "output_type": "stream",
     "text": [
      "Processing data for material : WATER\n",
      "image_data shape is :  (2048, 2448)\n",
      "im90 shape is :  (1024, 1224)\n",
      "Stokes time:  0.0239865779876709 s\n",
      "im_stokes0 shape is :  (1024, 1224)\n",
      "DoLP time:  0.03498029708862305 s\n",
      "im_DOLP shape is :  (1024, 1224)\n",
      "Time for DOLP2Theta conversion is :  21.527687072753906 seconds\n",
      "False\n",
      "AoLP time:  0.04297494888305664 s\n"
     ]
    },
    {
     "name": "stderr",
     "output_type": "stream",
     "text": [
      "\n",
      " 92%|███████████████████████████████████████████████████████████████████████▍      | 206/225 [1:15:49<07:05, 22.38s/it]"
     ]
    },
    {
     "name": "stdout",
     "output_type": "stream",
     "text": [
      "Processing data for material : WATER\n",
      "image_data shape is :  (2048, 2448)\n",
      "im90 shape is :  (1024, 1224)\n",
      "Stokes time:  0.025984764099121094 s\n",
      "im_stokes0 shape is :  (1024, 1224)\n",
      "DoLP time:  0.03597855567932129 s\n",
      "im_DOLP shape is :  (1024, 1224)\n",
      "Time for DOLP2Theta conversion is :  20.987995147705078 seconds\n",
      "False\n",
      "AoLP time:  0.04097700119018555 s\n"
     ]
    },
    {
     "name": "stderr",
     "output_type": "stream",
     "text": [
      "\n",
      " 92%|███████████████████████████████████████████████████████████████████████▊      | 207/225 [1:16:11<06:38, 22.16s/it]"
     ]
    },
    {
     "name": "stdout",
     "output_type": "stream",
     "text": [
      "Processing data for material : WATER\n",
      "image_data shape is :  (2048, 2448)\n",
      "im90 shape is :  (1024, 1224)\n",
      "Stokes time:  0.027983665466308594 s\n",
      "im_stokes0 shape is :  (1024, 1224)\n",
      "DoLP time:  0.031982421875 s\n",
      "im_DOLP shape is :  (1024, 1224)\n",
      "Time for DOLP2Theta conversion is :  21.328799962997437 seconds\n",
      "False\n",
      "AoLP time:  0.03997635841369629 s\n"
     ]
    },
    {
     "name": "stderr",
     "output_type": "stream",
     "text": [
      "\n",
      " 92%|████████████████████████████████████████████████████████████████████████      | 208/225 [1:16:32<06:15, 22.10s/it]"
     ]
    },
    {
     "name": "stdout",
     "output_type": "stream",
     "text": [
      "Processing data for material : WATER\n",
      "image_data shape is :  (2048, 2448)\n",
      "im90 shape is :  (1024, 1224)\n",
      "Stokes time:  0.027983903884887695 s\n",
      "im_stokes0 shape is :  (1024, 1224)\n",
      "DoLP time:  0.03198122978210449 s\n",
      "im_DOLP shape is :  (1024, 1224)\n",
      "Time for DOLP2Theta conversion is :  21.567663192749023 seconds\n",
      "False\n",
      "AoLP time:  0.04797220230102539 s\n"
     ]
    },
    {
     "name": "stderr",
     "output_type": "stream",
     "text": [
      "\n",
      " 93%|████████████████████████████████████████████████████████████████████████▍     | 209/225 [1:16:55<05:54, 22.13s/it]"
     ]
    },
    {
     "name": "stdout",
     "output_type": "stream",
     "text": [
      "Processing data for material : WATER\n",
      "image_data shape is :  (2048, 2448)\n",
      "im90 shape is :  (1024, 1224)\n",
      "Stokes time:  0.025984525680541992 s\n",
      "im_stokes0 shape is :  (1024, 1224)\n",
      "DoLP time:  0.03497934341430664 s\n",
      "im_DOLP shape is :  (1024, 1224)\n",
      "Time for DOLP2Theta conversion is :  21.16289448738098 seconds\n",
      "False\n",
      "AoLP time:  0.03997635841369629 s\n"
     ]
    },
    {
     "name": "stderr",
     "output_type": "stream",
     "text": [
      "\n",
      " 93%|████████████████████████████████████████████████████████████████████████▊     | 210/225 [1:17:16<05:30, 22.02s/it]"
     ]
    },
    {
     "name": "stdout",
     "output_type": "stream",
     "text": [
      "Processing data for material : WATER\n",
      "image_data shape is :  (2048, 2448)\n",
      "im90 shape is :  (1024, 1224)\n",
      "Stokes time:  0.02398681640625 s\n",
      "im_stokes0 shape is :  (1024, 1224)\n",
      "DoLP time:  0.031981706619262695 s\n",
      "im_DOLP shape is :  (1024, 1224)\n",
      "Time for DOLP2Theta conversion is :  21.274832010269165 seconds\n",
      "False\n",
      "AoLP time:  0.04197525978088379 s\n"
     ]
    },
    {
     "name": "stderr",
     "output_type": "stream",
     "text": [
      "\n",
      " 94%|█████████████████████████████████████████████████████████████████████████▏    | 211/225 [1:17:38<05:07, 21.98s/it]"
     ]
    },
    {
     "name": "stdout",
     "output_type": "stream",
     "text": [
      "Processing data for material : WATER\n",
      "image_data shape is :  (2048, 2448)\n",
      "im90 shape is :  (1024, 1224)\n",
      "Stokes time:  0.0239870548248291 s\n",
      "im_stokes0 shape is :  (1024, 1224)\n",
      "DoLP time:  0.03298139572143555 s\n",
      "im_DOLP shape is :  (1024, 1224)\n",
      "Time for DOLP2Theta conversion is :  21.302814722061157 seconds\n",
      "False\n",
      "AoLP time:  0.03996634483337402 s\n"
     ]
    },
    {
     "name": "stderr",
     "output_type": "stream",
     "text": [
      "\n",
      " 94%|█████████████████████████████████████████████████████████████████████████▍    | 212/225 [1:18:00<04:45, 21.97s/it]"
     ]
    },
    {
     "name": "stdout",
     "output_type": "stream",
     "text": [
      "Processing data for material : WATER\n",
      "image_data shape is :  (2048, 2448)\n",
      "im90 shape is :  (1024, 1224)\n",
      "Stokes time:  0.02398514747619629 s\n",
      "im_stokes0 shape is :  (1024, 1224)\n",
      "DoLP time:  0.03697824478149414 s\n",
      "im_DOLP shape is :  (1024, 1224)\n",
      "Time for DOLP2Theta conversion is :  21.361781358718872 seconds\n",
      "False\n",
      "AoLP time:  0.044974327087402344 s\n"
     ]
    },
    {
     "name": "stderr",
     "output_type": "stream",
     "text": [
      "\n",
      " 95%|█████████████████████████████████████████████████████████████████████████▊    | 213/225 [1:18:22<04:23, 21.98s/it]"
     ]
    },
    {
     "name": "stdout",
     "output_type": "stream",
     "text": [
      "Processing data for material : WATER\n",
      "image_data shape is :  (2048, 2448)\n",
      "im90 shape is :  (1024, 1224)\n",
      "Stokes time:  0.024985313415527344 s\n",
      "im_stokes0 shape is :  (1024, 1224)\n",
      "DoLP time:  0.035979509353637695 s\n",
      "im_DOLP shape is :  (1024, 1224)\n",
      "Time for DOLP2Theta conversion is :  20.863065242767334 seconds\n",
      "False\n",
      "AoLP time:  0.03997659683227539 s\n"
     ]
    },
    {
     "name": "stderr",
     "output_type": "stream",
     "text": [
      "\n",
      " 95%|██████████████████████████████████████████████████████████████████████████▏   | 214/225 [1:18:44<04:00, 21.83s/it]"
     ]
    },
    {
     "name": "stdout",
     "output_type": "stream",
     "text": [
      "Processing data for material : WATER\n",
      "image_data shape is :  (2048, 2448)\n",
      "im90 shape is :  (1024, 1224)\n",
      "Stokes time:  0.024985313415527344 s\n",
      "im_stokes0 shape is :  (1024, 1224)\n",
      "DoLP time:  0.03697776794433594 s\n",
      "im_DOLP shape is :  (1024, 1224)\n",
      "Time for DOLP2Theta conversion is :  21.492705821990967 seconds\n",
      "False\n",
      "AoLP time:  0.04097628593444824 s\n"
     ]
    },
    {
     "name": "stderr",
     "output_type": "stream",
     "text": [
      "\n",
      " 96%|██████████████████████████████████████████████████████████████████████████▌   | 215/225 [1:19:06<03:39, 21.92s/it]"
     ]
    },
    {
     "name": "stdout",
     "output_type": "stream",
     "text": [
      "Processing data for material : WATER\n",
      "image_data shape is :  (2048, 2448)\n",
      "im90 shape is :  (1024, 1224)\n",
      "Stokes time:  0.0259857177734375 s\n",
      "im_stokes0 shape is :  (1024, 1224)\n",
      "DoLP time:  0.0339810848236084 s\n",
      "im_DOLP shape is :  (1024, 1224)\n",
      "Time for DOLP2Theta conversion is :  21.170889854431152 seconds\n",
      "False\n",
      "AoLP time:  0.040976762771606445 s\n"
     ]
    },
    {
     "name": "stderr",
     "output_type": "stream",
     "text": [
      "\n",
      " 96%|██████████████████████████████████████████████████████████████████████████▉   | 216/225 [1:19:28<03:16, 21.88s/it]"
     ]
    },
    {
     "name": "stdout",
     "output_type": "stream",
     "text": [
      "Processing data for material : WATER\n",
      "image_data shape is :  (2048, 2448)\n",
      "im90 shape is :  (1024, 1224)\n",
      "Stokes time:  0.025984525680541992 s\n",
      "im_stokes0 shape is :  (1024, 1224)\n",
      "DoLP time:  0.03497934341430664 s\n",
      "im_DOLP shape is :  (1024, 1224)\n",
      "Time for DOLP2Theta conversion is :  21.997418642044067 seconds\n",
      "False\n",
      "AoLP time:  0.03997492790222168 s\n"
     ]
    },
    {
     "name": "stderr",
     "output_type": "stream",
     "text": [
      "\n",
      " 96%|███████████████████████████████████████████████████████████████████████████▏  | 217/225 [1:19:50<02:56, 22.10s/it]"
     ]
    },
    {
     "name": "stdout",
     "output_type": "stream",
     "text": [
      "Processing data for material : WATER\n",
      "image_data shape is :  (2048, 2448)\n",
      "im90 shape is :  (1024, 1224)\n",
      "Stokes time:  0.02798318862915039 s\n",
      "im_stokes0 shape is :  (1024, 1224)\n",
      "DoLP time:  0.035980224609375 s\n",
      "im_DOLP shape is :  (1024, 1224)\n",
      "Time for DOLP2Theta conversion is :  21.679601192474365 seconds\n",
      "False\n",
      "AoLP time:  0.039977073669433594 s\n"
     ]
    },
    {
     "name": "stderr",
     "output_type": "stream",
     "text": [
      "\n",
      " 97%|███████████████████████████████████████████████████████████████████████████▌  | 218/225 [1:20:13<02:35, 22.17s/it]"
     ]
    },
    {
     "name": "stdout",
     "output_type": "stream",
     "text": [
      "Processing data for material : WATER\n",
      "image_data shape is :  (2048, 2448)\n",
      "im90 shape is :  (1024, 1224)\n",
      "Stokes time:  0.024983644485473633 s\n",
      "im_stokes0 shape is :  (1024, 1224)\n",
      "DoLP time:  0.033980607986450195 s\n",
      "im_DOLP shape is :  (1024, 1224)\n",
      "Time for DOLP2Theta conversion is :  21.262839555740356 seconds\n",
      "False\n",
      "AoLP time:  0.04197549819946289 s\n"
     ]
    },
    {
     "name": "stderr",
     "output_type": "stream",
     "text": [
      "\n",
      " 97%|███████████████████████████████████████████████████████████████████████████▉  | 219/225 [1:20:35<02:12, 22.09s/it]"
     ]
    },
    {
     "name": "stdout",
     "output_type": "stream",
     "text": [
      "Processing data for material : WATER\n",
      "image_data shape is :  (2048, 2448)\n",
      "im90 shape is :  (1024, 1224)\n",
      "Stokes time:  0.025985002517700195 s\n",
      "im_stokes0 shape is :  (1024, 1224)\n",
      "DoLP time:  0.034980058670043945 s\n",
      "im_DOLP shape is :  (1024, 1224)\n",
      "Time for DOLP2Theta conversion is :  21.335795879364014 seconds\n",
      "False\n",
      "AoLP time:  0.038977861404418945 s\n"
     ]
    },
    {
     "name": "stderr",
     "output_type": "stream",
     "text": [
      "\n",
      " 98%|████████████████████████████████████████████████████████████████████████████▎ | 220/225 [1:20:56<01:50, 22.05s/it]"
     ]
    },
    {
     "name": "stdout",
     "output_type": "stream",
     "text": [
      "Processing data for material : WATER\n",
      "image_data shape is :  (2048, 2448)\n",
      "im90 shape is :  (1024, 1224)\n",
      "Stokes time:  0.025985002517700195 s\n",
      "im_stokes0 shape is :  (1024, 1224)\n",
      "DoLP time:  0.031981468200683594 s\n",
      "im_DOLP shape is :  (1024, 1224)\n",
      "Time for DOLP2Theta conversion is :  20.888052463531494 seconds\n",
      "False\n",
      "AoLP time:  0.04097604751586914 s\n"
     ]
    },
    {
     "name": "stderr",
     "output_type": "stream",
     "text": [
      "\n",
      " 98%|████████████████████████████████████████████████████████████████████████████▌ | 221/225 [1:21:18<01:27, 21.89s/it]"
     ]
    },
    {
     "name": "stdout",
     "output_type": "stream",
     "text": [
      "Processing data for material : WATER\n",
      "image_data shape is :  (2048, 2448)\n",
      "im90 shape is :  (1024, 1224)\n",
      "Stokes time:  0.024985313415527344 s\n",
      "im_stokes0 shape is :  (1024, 1224)\n",
      "DoLP time:  0.0339808464050293 s\n",
      "im_DOLP shape is :  (1024, 1224)\n",
      "Time for DOLP2Theta conversion is :  21.60264229774475 seconds\n",
      "False\n",
      "AoLP time:  0.039977312088012695 s\n"
     ]
    },
    {
     "name": "stderr",
     "output_type": "stream",
     "text": [
      "\n",
      " 99%|████████████████████████████████████████████████████████████████████████████▉ | 222/225 [1:21:40<01:05, 21.99s/it]"
     ]
    },
    {
     "name": "stdout",
     "output_type": "stream",
     "text": [
      "Processing data for material : WATER\n",
      "image_data shape is :  (2048, 2448)\n",
      "im90 shape is :  (1024, 1224)\n",
      "Stokes time:  0.024985551834106445 s\n",
      "im_stokes0 shape is :  (1024, 1224)\n",
      "DoLP time:  0.0319819450378418 s\n",
      "im_DOLP shape is :  (1024, 1224)\n",
      "Time for DOLP2Theta conversion is :  21.19987392425537 seconds\n",
      "False\n",
      "AoLP time:  0.03997683525085449 s\n"
     ]
    },
    {
     "name": "stderr",
     "output_type": "stream",
     "text": [
      "\n",
      " 99%|█████████████████████████████████████████████████████████████████████████████▎| 223/225 [1:22:02<00:43, 21.95s/it]"
     ]
    },
    {
     "name": "stdout",
     "output_type": "stream",
     "text": [
      "Processing data for material : WATER\n",
      "image_data shape is :  (2048, 2448)\n",
      "im90 shape is :  (1024, 1224)\n",
      "Stokes time:  0.023985862731933594 s\n",
      "im_stokes0 shape is :  (1024, 1224)\n",
      "DoLP time:  0.03697800636291504 s\n",
      "im_DOLP shape is :  (1024, 1224)\n",
      "Time for DOLP2Theta conversion is :  21.401757955551147 seconds\n",
      "False\n",
      "AoLP time:  0.03997635841369629 s\n"
     ]
    },
    {
     "name": "stderr",
     "output_type": "stream",
     "text": [
      "\n",
      "100%|█████████████████████████████████████████████████████████████████████████████▋| 224/225 [1:22:24<00:21, 21.97s/it]"
     ]
    },
    {
     "name": "stdout",
     "output_type": "stream",
     "text": [
      "Processing data for material : WATER\n",
      "image_data shape is :  (2048, 2448)\n",
      "im90 shape is :  (1024, 1224)\n",
      "Stokes time:  0.02398538589477539 s\n",
      "im_stokes0 shape is :  (1024, 1224)\n",
      "DoLP time:  0.03397846221923828 s\n",
      "im_DOLP shape is :  (1024, 1224)\n",
      "Time for DOLP2Theta conversion is :  21.42574429512024 seconds\n",
      "False\n",
      "AoLP time:  0.04797220230102539 s\n"
     ]
    },
    {
     "name": "stderr",
     "output_type": "stream",
     "text": [
      "\n",
      "100%|██████████████████████████████████████████████████████████████████████████████| 225/225 [1:22:46<00:00, 21.99s/it]"
     ]
    },
    {
     "name": "stdout",
     "output_type": "stream",
     "text": [
      "time taken =  29.962188720703125\n"
     ]
    },
    {
     "name": "stderr",
     "output_type": "stream",
     "text": [
      " 75%|██████████████████████████████████████████████████████████▌                   | 3/4 [4:17:35<1:26:57, 5217.60s/it]\n",
      "  0%|                                                                                          | 0/225 [00:00<?, ?it/s]"
     ]
    },
    {
     "name": "stdout",
     "output_type": "stream",
     "text": [
      "Processing data for material : WATER\n",
      "image_data shape is :  (2048, 2448)\n",
      "im90 shape is :  (1024, 1224)\n",
      "Stokes time:  0.034980058670043945 s\n",
      "im_stokes0 shape is :  (1024, 1224)\n",
      "DoLP time:  0.04297590255737305 s\n",
      "im_DOLP shape is :  (1024, 1224)\n",
      "Time for DOLP2Theta conversion is :  21.559670209884644 seconds\n",
      "False\n",
      "AoLP time:  0.040976762771606445 s\n"
     ]
    },
    {
     "name": "stderr",
     "output_type": "stream",
     "text": [
      "\n",
      "  0%|▎                                                                               | 1/225 [00:25<1:33:40, 25.09s/it]"
     ]
    },
    {
     "name": "stdout",
     "output_type": "stream",
     "text": [
      "Processing data for material : WATER\n",
      "image_data shape is :  (2048, 2448)\n",
      "im90 shape is :  (1024, 1224)\n",
      "Stokes time:  0.026982784271240234 s\n",
      "im_stokes0 shape is :  (1024, 1224)\n",
      "DoLP time:  0.03498053550720215 s\n",
      "im_DOLP shape is :  (1024, 1224)\n",
      "Time for DOLP2Theta conversion is :  21.39176368713379 seconds\n",
      "False\n",
      "AoLP time:  0.03997516632080078 s\n"
     ]
    },
    {
     "name": "stderr",
     "output_type": "stream",
     "text": [
      "\n",
      "  1%|▋                                                                               | 2/225 [00:47<1:29:52, 24.18s/it]"
     ]
    },
    {
     "name": "stdout",
     "output_type": "stream",
     "text": [
      "Processing data for material : WATER\n",
      "image_data shape is :  (2048, 2448)\n",
      "im90 shape is :  (1024, 1224)\n",
      "Stokes time:  0.025985002517700195 s\n",
      "im_stokes0 shape is :  (1024, 1224)\n",
      "DoLP time:  0.03997993469238281 s\n",
      "im_DOLP shape is :  (1024, 1224)\n",
      "Time for DOLP2Theta conversion is :  21.428744077682495 seconds\n",
      "False\n",
      "AoLP time:  0.047972679138183594 s\n"
     ]
    },
    {
     "name": "stderr",
     "output_type": "stream",
     "text": [
      "\n",
      "  1%|█                                                                               | 3/225 [01:09<1:27:10, 23.56s/it]"
     ]
    },
    {
     "name": "stdout",
     "output_type": "stream",
     "text": [
      "Processing data for material : WATER\n",
      "image_data shape is :  (2048, 2448)\n",
      "im90 shape is :  (1024, 1224)\n",
      "Stokes time:  0.024985074996948242 s\n",
      "im_stokes0 shape is :  (1024, 1224)\n",
      "DoLP time:  0.03298068046569824 s\n",
      "im_DOLP shape is :  (1024, 1224)\n",
      "Time for DOLP2Theta conversion is :  21.371777772903442 seconds\n",
      "False\n",
      "AoLP time:  0.043974876403808594 s\n"
     ]
    },
    {
     "name": "stderr",
     "output_type": "stream",
     "text": [
      "\n",
      "  2%|█▍                                                                              | 4/225 [01:31<1:25:04, 23.10s/it]"
     ]
    },
    {
     "name": "stdout",
     "output_type": "stream",
     "text": [
      "Processing data for material : WATER\n",
      "image_data shape is :  (2048, 2448)\n",
      "im90 shape is :  (1024, 1224)\n",
      "Stokes time:  0.02698493003845215 s\n",
      "im_stokes0 shape is :  (1024, 1224)\n",
      "DoLP time:  0.03397989273071289 s\n",
      "im_DOLP shape is :  (1024, 1224)\n",
      "Time for DOLP2Theta conversion is :  22.050389289855957 seconds\n",
      "False\n",
      "AoLP time:  0.040975093841552734 s\n"
     ]
    },
    {
     "name": "stderr",
     "output_type": "stream",
     "text": [
      "\n",
      "  2%|█▊                                                                              | 5/225 [01:53<1:24:14, 22.97s/it]"
     ]
    },
    {
     "name": "stdout",
     "output_type": "stream",
     "text": [
      "Processing data for material : WATER\n",
      "image_data shape is :  (2048, 2448)\n",
      "im90 shape is :  (1024, 1224)\n",
      "Stokes time:  0.02398681640625 s\n",
      "im_stokes0 shape is :  (1024, 1224)\n",
      "DoLP time:  0.035979509353637695 s\n",
      "im_DOLP shape is :  (1024, 1224)\n",
      "Time for DOLP2Theta conversion is :  21.510697841644287 seconds\n",
      "False\n",
      "AoLP time:  0.039975643157958984 s\n"
     ]
    },
    {
     "name": "stderr",
     "output_type": "stream",
     "text": [
      "\n",
      "  3%|██▏                                                                             | 6/225 [02:16<1:22:57, 22.73s/it]"
     ]
    },
    {
     "name": "stdout",
     "output_type": "stream",
     "text": [
      "Processing data for material : WATER\n",
      "image_data shape is :  (2048, 2448)\n",
      "im90 shape is :  (1024, 1224)\n",
      "Stokes time:  0.023984670639038086 s\n",
      "im_stokes0 shape is :  (1024, 1224)\n",
      "DoLP time:  0.0379786491394043 s\n",
      "im_DOLP shape is :  (1024, 1224)\n",
      "Time for DOLP2Theta conversion is :  21.429744243621826 seconds\n",
      "False\n",
      "AoLP time:  0.0439753532409668 s\n"
     ]
    },
    {
     "name": "stderr",
     "output_type": "stream",
     "text": [
      "\n",
      "  3%|██▍                                                                             | 7/225 [02:38<1:21:52, 22.53s/it]"
     ]
    },
    {
     "name": "stdout",
     "output_type": "stream",
     "text": [
      "Processing data for material : WATER\n",
      "image_data shape is :  (2048, 2448)\n",
      "im90 shape is :  (1024, 1224)\n",
      "Stokes time:  0.02498626708984375 s\n",
      "im_stokes0 shape is :  (1024, 1224)\n",
      "DoLP time:  0.036978721618652344 s\n",
      "im_DOLP shape is :  (1024, 1224)\n",
      "Time for DOLP2Theta conversion is :  21.513694047927856 seconds\n",
      "False\n",
      "AoLP time:  0.0399775505065918 s\n"
     ]
    },
    {
     "name": "stderr",
     "output_type": "stream",
     "text": [
      "\n",
      "  4%|██▊                                                                             | 8/225 [03:00<1:21:06, 22.43s/it]"
     ]
    },
    {
     "name": "stdout",
     "output_type": "stream",
     "text": [
      "Processing data for material : WATER\n",
      "image_data shape is :  (2048, 2448)\n",
      "im90 shape is :  (1024, 1224)\n",
      "Stokes time:  0.025986194610595703 s\n",
      "im_stokes0 shape is :  (1024, 1224)\n",
      "DoLP time:  0.0319821834564209 s\n",
      "im_DOLP shape is :  (1024, 1224)\n",
      "Time for DOLP2Theta conversion is :  21.420749187469482 seconds\n",
      "False\n",
      "AoLP time:  0.043973445892333984 s\n"
     ]
    },
    {
     "name": "stderr",
     "output_type": "stream",
     "text": [
      "\n",
      "  4%|███▏                                                                            | 9/225 [03:22<1:20:21, 22.32s/it]"
     ]
    },
    {
     "name": "stdout",
     "output_type": "stream",
     "text": [
      "Processing data for material : WATER\n",
      "image_data shape is :  (2048, 2448)\n",
      "im90 shape is :  (1024, 1224)\n",
      "Stokes time:  0.02498650550842285 s\n",
      "im_stokes0 shape is :  (1024, 1224)\n",
      "DoLP time:  0.03397989273071289 s\n",
      "im_DOLP shape is :  (1024, 1224)\n",
      "Time for DOLP2Theta conversion is :  21.16989254951477 seconds\n",
      "False\n",
      "AoLP time:  0.03897833824157715 s\n"
     ]
    },
    {
     "name": "stderr",
     "output_type": "stream",
     "text": [
      "\n",
      "  4%|███▌                                                                           | 10/225 [03:44<1:19:27, 22.17s/it]"
     ]
    },
    {
     "name": "stdout",
     "output_type": "stream",
     "text": [
      "Processing data for material : WATER\n",
      "image_data shape is :  (2048, 2448)\n",
      "im90 shape is :  (1024, 1224)\n",
      "Stokes time:  0.026984214782714844 s\n",
      "im_stokes0 shape is :  (1024, 1224)\n",
      "DoLP time:  0.04197525978088379 s\n",
      "im_DOLP shape is :  (1024, 1224)\n",
      "Time for DOLP2Theta conversion is :  21.590651988983154 seconds\n",
      "False\n",
      "AoLP time:  0.039978981018066406 s\n"
     ]
    },
    {
     "name": "stderr",
     "output_type": "stream",
     "text": [
      "\n",
      "  5%|███▊                                                                           | 11/225 [04:06<1:19:07, 22.18s/it]"
     ]
    },
    {
     "name": "stdout",
     "output_type": "stream",
     "text": [
      "Processing data for material : WATER\n",
      "image_data shape is :  (2048, 2448)\n",
      "im90 shape is :  (1024, 1224)\n",
      "Stokes time:  0.02498650550842285 s\n",
      "im_stokes0 shape is :  (1024, 1224)\n",
      "DoLP time:  0.034979820251464844 s\n",
      "im_DOLP shape is :  (1024, 1224)\n",
      "Time for DOLP2Theta conversion is :  21.685597896575928 seconds\n",
      "False\n",
      "AoLP time:  0.04197549819946289 s\n"
     ]
    },
    {
     "name": "stderr",
     "output_type": "stream",
     "text": [
      "\n",
      "  5%|████▏                                                                          | 12/225 [04:28<1:18:54, 22.23s/it]"
     ]
    },
    {
     "name": "stdout",
     "output_type": "stream",
     "text": [
      "Processing data for material : WATER\n",
      "image_data shape is :  (2048, 2448)\n",
      "im90 shape is :  (1024, 1224)\n",
      "Stokes time:  0.02498626708984375 s\n",
      "im_stokes0 shape is :  (1024, 1224)\n",
      "DoLP time:  0.034980058670043945 s\n",
      "im_DOLP shape is :  (1024, 1224)\n",
      "Time for DOLP2Theta conversion is :  21.61963391304016 seconds\n",
      "False\n",
      "AoLP time:  0.04297661781311035 s\n"
     ]
    },
    {
     "name": "stderr",
     "output_type": "stream",
     "text": [
      "\n",
      "  6%|████▌                                                                          | 13/225 [04:51<1:18:34, 22.24s/it]"
     ]
    },
    {
     "name": "stdout",
     "output_type": "stream",
     "text": [
      "Processing data for material : WATER\n",
      "image_data shape is :  (2048, 2448)\n",
      "im90 shape is :  (1024, 1224)\n",
      "Stokes time:  0.027983903884887695 s\n",
      "im_stokes0 shape is :  (1024, 1224)\n",
      "DoLP time:  0.03697919845581055 s\n",
      "im_DOLP shape is :  (1024, 1224)\n",
      "Time for DOLP2Theta conversion is :  21.46872043609619 seconds\n",
      "False\n",
      "AoLP time:  0.045974016189575195 s\n"
     ]
    },
    {
     "name": "stderr",
     "output_type": "stream",
     "text": [
      "\n",
      "  6%|████▉                                                                          | 14/225 [05:13<1:18:06, 22.21s/it]"
     ]
    },
    {
     "name": "stdout",
     "output_type": "stream",
     "text": [
      "Processing data for material : WATER\n",
      "image_data shape is :  (2048, 2448)\n",
      "im90 shape is :  (1024, 1224)\n",
      "Stokes time:  0.025985240936279297 s\n",
      "im_stokes0 shape is :  (1024, 1224)\n",
      "DoLP time:  0.03897809982299805 s\n",
      "im_DOLP shape is :  (1024, 1224)\n",
      "Time for DOLP2Theta conversion is :  21.275832176208496 seconds\n",
      "False\n",
      "AoLP time:  0.044976234436035156 s\n"
     ]
    },
    {
     "name": "stderr",
     "output_type": "stream",
     "text": [
      "\n",
      "  7%|█████▎                                                                         | 15/225 [05:35<1:17:25, 22.12s/it]"
     ]
    },
    {
     "name": "stdout",
     "output_type": "stream",
     "text": [
      "Processing data for material : WATER\n",
      "image_data shape is :  (2048, 2448)\n",
      "im90 shape is :  (1024, 1224)\n",
      "Stokes time:  0.02698540687561035 s\n",
      "im_stokes0 shape is :  (1024, 1224)\n",
      "DoLP time:  0.03797769546508789 s\n",
      "im_DOLP shape is :  (1024, 1224)\n",
      "Time for DOLP2Theta conversion is :  22.647056341171265 seconds\n",
      "False\n",
      "AoLP time:  0.045975446701049805 s\n"
     ]
    },
    {
     "name": "stderr",
     "output_type": "stream",
     "text": [
      "\n",
      "  7%|█████▌                                                                         | 16/225 [05:58<1:18:16, 22.47s/it]"
     ]
    },
    {
     "name": "stdout",
     "output_type": "stream",
     "text": [
      "Processing data for material : WATER\n",
      "image_data shape is :  (2048, 2448)\n",
      "im90 shape is :  (1024, 1224)\n",
      "Stokes time:  0.02898263931274414 s\n",
      "im_stokes0 shape is :  (1024, 1224)\n",
      "DoLP time:  0.0419766902923584 s\n",
      "im_DOLP shape is :  (1024, 1224)\n",
      "Time for DOLP2Theta conversion is :  22.616065502166748 seconds\n",
      "False\n",
      "AoLP time:  0.040975093841552734 s\n"
     ]
    },
    {
     "name": "stderr",
     "output_type": "stream",
     "text": [
      "\n",
      "  8%|█████▉                                                                         | 17/225 [06:21<1:18:44, 22.71s/it]"
     ]
    },
    {
     "name": "stdout",
     "output_type": "stream",
     "text": [
      "Processing data for material : WATER\n",
      "image_data shape is :  (2048, 2448)\n",
      "im90 shape is :  (1024, 1224)\n",
      "Stokes time:  0.02498602867126465 s\n",
      "im_stokes0 shape is :  (1024, 1224)\n",
      "DoLP time:  0.036978960037231445 s\n",
      "im_DOLP shape is :  (1024, 1224)\n",
      "Time for DOLP2Theta conversion is :  22.847932815551758 seconds\n",
      "False\n",
      "AoLP time:  0.05097055435180664 s\n"
     ]
    },
    {
     "name": "stderr",
     "output_type": "stream",
     "text": [
      "\n",
      "  8%|██████▎                                                                        | 18/225 [06:45<1:19:17, 22.98s/it]"
     ]
    },
    {
     "name": "stdout",
     "output_type": "stream",
     "text": [
      "Processing data for material : WATER\n",
      "image_data shape is :  (2048, 2448)\n",
      "im90 shape is :  (1024, 1224)\n",
      "Stokes time:  0.027983427047729492 s\n",
      "im_stokes0 shape is :  (1024, 1224)\n",
      "DoLP time:  0.03797793388366699 s\n",
      "im_DOLP shape is :  (1024, 1224)\n",
      "Time for DOLP2Theta conversion is :  23.819376707077026 seconds\n",
      "False\n",
      "AoLP time:  0.046973466873168945 s\n"
     ]
    },
    {
     "name": "stderr",
     "output_type": "stream",
     "text": [
      "\n",
      "  8%|██████▋                                                                        | 19/225 [07:09<1:20:29, 23.44s/it]"
     ]
    },
    {
     "name": "stdout",
     "output_type": "stream",
     "text": [
      "Processing data for material : WATER\n",
      "image_data shape is :  (2048, 2448)\n",
      "im90 shape is :  (1024, 1224)\n",
      "Stokes time:  0.0279848575592041 s\n",
      "im_stokes0 shape is :  (1024, 1224)\n",
      "DoLP time:  0.035979509353637695 s\n",
      "im_DOLP shape is :  (1024, 1224)\n",
      "Time for DOLP2Theta conversion is :  22.42617440223694 seconds\n",
      "False\n",
      "AoLP time:  0.04497647285461426 s\n"
     ]
    },
    {
     "name": "stderr",
     "output_type": "stream",
     "text": [
      "\n",
      "  9%|███████                                                                        | 20/225 [07:32<1:19:45, 23.34s/it]"
     ]
    },
    {
     "name": "stdout",
     "output_type": "stream",
     "text": [
      "Processing data for material : WATER\n",
      "image_data shape is :  (2048, 2448)\n",
      "im90 shape is :  (1024, 1224)\n",
      "Stokes time:  0.026984214782714844 s\n",
      "im_stokes0 shape is :  (1024, 1224)\n",
      "DoLP time:  0.03897881507873535 s\n",
      "im_DOLP shape is :  (1024, 1224)\n",
      "Time for DOLP2Theta conversion is :  22.753985166549683 seconds\n",
      "False\n",
      "AoLP time:  0.04297351837158203 s\n"
     ]
    },
    {
     "name": "stderr",
     "output_type": "stream",
     "text": [
      "\n",
      "  9%|███████▎                                                                       | 21/225 [07:56<1:19:27, 23.37s/it]"
     ]
    },
    {
     "name": "stdout",
     "output_type": "stream",
     "text": [
      "Processing data for material : WATER\n",
      "image_data shape is :  (2048, 2448)\n",
      "im90 shape is :  (1024, 1224)\n",
      "Stokes time:  0.02498459815979004 s\n",
      "im_stokes0 shape is :  (1024, 1224)\n",
      "DoLP time:  0.03797769546508789 s\n",
      "im_DOLP shape is :  (1024, 1224)\n",
      "Time for DOLP2Theta conversion is :  22.867922067642212 seconds\n",
      "False\n",
      "AoLP time:  0.05696582794189453 s\n"
     ]
    },
    {
     "name": "stderr",
     "output_type": "stream",
     "text": [
      "\n",
      " 10%|███████▋                                                                       | 22/225 [08:19<1:19:17, 23.44s/it]"
     ]
    },
    {
     "name": "stdout",
     "output_type": "stream",
     "text": [
      "Processing data for material : WATER\n",
      "image_data shape is :  (2048, 2448)\n",
      "im90 shape is :  (1024, 1224)\n",
      "Stokes time:  0.024985790252685547 s\n",
      "im_stokes0 shape is :  (1024, 1224)\n",
      "DoLP time:  0.04097747802734375 s\n",
      "im_DOLP shape is :  (1024, 1224)\n",
      "Time for DOLP2Theta conversion is :  22.552101612091064 seconds\n",
      "False\n",
      "AoLP time:  0.04297351837158203 s\n"
     ]
    },
    {
     "name": "stderr",
     "output_type": "stream",
     "text": [
      "\n",
      " 10%|████████                                                                       | 23/225 [08:43<1:18:39, 23.36s/it]"
     ]
    },
    {
     "name": "stdout",
     "output_type": "stream",
     "text": [
      "Processing data for material : WATER\n",
      "image_data shape is :  (2048, 2448)\n",
      "im90 shape is :  (1024, 1224)\n",
      "Stokes time:  0.024985551834106445 s\n",
      "im_stokes0 shape is :  (1024, 1224)\n",
      "DoLP time:  0.03497910499572754 s\n",
      "im_DOLP shape is :  (1024, 1224)\n",
      "Time for DOLP2Theta conversion is :  22.74699115753174 seconds\n",
      "False\n",
      "AoLP time:  0.0459742546081543 s\n"
     ]
    },
    {
     "name": "stderr",
     "output_type": "stream",
     "text": [
      "\n",
      " 11%|████████▍                                                                      | 24/225 [09:06<1:18:17, 23.37s/it]"
     ]
    },
    {
     "name": "stdout",
     "output_type": "stream",
     "text": [
      "Processing data for material : WATER\n",
      "image_data shape is :  (2048, 2448)\n",
      "im90 shape is :  (1024, 1224)\n",
      "Stokes time:  0.023986339569091797 s\n",
      "im_stokes0 shape is :  (1024, 1224)\n",
      "DoLP time:  0.035979509353637695 s\n",
      "im_DOLP shape is :  (1024, 1224)\n",
      "Time for DOLP2Theta conversion is :  22.495134830474854 seconds\n",
      "False\n",
      "AoLP time:  0.044974565505981445 s\n"
     ]
    },
    {
     "name": "stderr",
     "output_type": "stream",
     "text": [
      "\n",
      " 11%|████████▊                                                                      | 25/225 [09:29<1:17:41, 23.31s/it]"
     ]
    },
    {
     "name": "stdout",
     "output_type": "stream",
     "text": [
      "Processing data for material : WATER\n",
      "image_data shape is :  (2048, 2448)\n",
      "im90 shape is :  (1024, 1224)\n",
      "Stokes time:  0.0259859561920166 s\n",
      "im_stokes0 shape is :  (1024, 1224)\n",
      "DoLP time:  0.034979820251464844 s\n",
      "im_DOLP shape is :  (1024, 1224)\n",
      "Time for DOLP2Theta conversion is :  22.304260969161987 seconds\n",
      "False\n",
      "AoLP time:  0.0439763069152832 s\n"
     ]
    },
    {
     "name": "stderr",
     "output_type": "stream",
     "text": [
      "\n",
      " 12%|█████████▏                                                                     | 26/225 [09:52<1:16:58, 23.21s/it]"
     ]
    },
    {
     "name": "stdout",
     "output_type": "stream",
     "text": [
      "Processing data for material : WATER\n",
      "image_data shape is :  (2048, 2448)\n",
      "im90 shape is :  (1024, 1224)\n",
      "Stokes time:  0.026984214782714844 s\n",
      "im_stokes0 shape is :  (1024, 1224)\n",
      "DoLP time:  0.04097580909729004 s\n",
      "im_DOLP shape is :  (1024, 1224)\n",
      "Time for DOLP2Theta conversion is :  22.70201539993286 seconds\n",
      "False\n",
      "AoLP time:  0.04197525978088379 s\n"
     ]
    },
    {
     "name": "stderr",
     "output_type": "stream",
     "text": [
      "\n",
      " 12%|█████████▍                                                                     | 27/225 [10:16<1:16:43, 23.25s/it]"
     ]
    },
    {
     "name": "stdout",
     "output_type": "stream",
     "text": [
      "Processing data for material : WATER\n",
      "image_data shape is :  (2048, 2448)\n",
      "im90 shape is :  (1024, 1224)\n",
      "Stokes time:  0.025985002517700195 s\n",
      "im_stokes0 shape is :  (1024, 1224)\n",
      "DoLP time:  0.0339815616607666 s\n",
      "im_DOLP shape is :  (1024, 1224)\n",
      "Time for DOLP2Theta conversion is :  22.632056713104248 seconds\n",
      "False\n",
      "AoLP time:  0.044973134994506836 s\n"
     ]
    },
    {
     "name": "stderr",
     "output_type": "stream",
     "text": [
      "\n",
      " 12%|█████████▊                                                                     | 28/225 [10:39<1:16:22, 23.26s/it]"
     ]
    },
    {
     "name": "stdout",
     "output_type": "stream",
     "text": [
      "Processing data for material : WATER\n",
      "image_data shape is :  (2048, 2448)\n",
      "im90 shape is :  (1024, 1224)\n",
      "Stokes time:  0.02898430824279785 s\n",
      "im_stokes0 shape is :  (1024, 1224)\n",
      "DoLP time:  0.03797745704650879 s\n",
      "im_DOLP shape is :  (1024, 1224)\n",
      "Time for DOLP2Theta conversion is :  22.428179502487183 seconds\n",
      "False\n",
      "AoLP time:  0.052969932556152344 s\n"
     ]
    },
    {
     "name": "stderr",
     "output_type": "stream",
     "text": [
      "\n",
      " 13%|██████████▏                                                                    | 29/225 [11:02<1:15:52, 23.23s/it]"
     ]
    },
    {
     "name": "stdout",
     "output_type": "stream",
     "text": [
      "Processing data for material : WATER\n",
      "image_data shape is :  (2048, 2448)\n",
      "im90 shape is :  (1024, 1224)\n",
      "Stokes time:  0.028983592987060547 s\n",
      "im_stokes0 shape is :  (1024, 1224)\n",
      "DoLP time:  0.03697919845581055 s\n",
      "im_DOLP shape is :  (1024, 1224)\n",
      "Time for DOLP2Theta conversion is :  22.80695652961731 seconds\n",
      "False\n",
      "AoLP time:  0.04897189140319824 s\n"
     ]
    },
    {
     "name": "stderr",
     "output_type": "stream",
     "text": [
      "\n",
      " 13%|██████████▌                                                                    | 30/225 [11:25<1:15:44, 23.30s/it]"
     ]
    },
    {
     "name": "stdout",
     "output_type": "stream",
     "text": [
      "Processing data for material : WATER\n",
      "image_data shape is :  (2048, 2448)\n",
      "im90 shape is :  (1024, 1224)\n",
      "Stokes time:  0.02798318862915039 s\n",
      "im_stokes0 shape is :  (1024, 1224)\n",
      "DoLP time:  0.036978721618652344 s\n",
      "im_DOLP shape is :  (1024, 1224)\n",
      "Time for DOLP2Theta conversion is :  21.283828258514404 seconds\n",
      "False\n",
      "AoLP time:  0.0459747314453125 s\n"
     ]
    },
    {
     "name": "stderr",
     "output_type": "stream",
     "text": [
      "\n",
      " 14%|██████████▉                                                                    | 31/225 [11:47<1:14:02, 22.90s/it]"
     ]
    },
    {
     "name": "stdout",
     "output_type": "stream",
     "text": [
      "Processing data for material : WATER\n",
      "image_data shape is :  (2048, 2448)\n",
      "im90 shape is :  (1024, 1224)\n",
      "Stokes time:  0.024985551834106445 s\n",
      "im_stokes0 shape is :  (1024, 1224)\n",
      "DoLP time:  0.03497958183288574 s\n",
      "im_DOLP shape is :  (1024, 1224)\n",
      "Time for DOLP2Theta conversion is :  21.020976066589355 seconds\n",
      "False\n",
      "AoLP time:  0.04297661781311035 s\n"
     ]
    },
    {
     "name": "stderr",
     "output_type": "stream",
     "text": [
      "\n",
      " 14%|███████████▏                                                                   | 32/225 [12:09<1:12:27, 22.53s/it]"
     ]
    },
    {
     "name": "stdout",
     "output_type": "stream",
     "text": [
      "Processing data for material : WATER\n",
      "image_data shape is :  (2048, 2448)\n",
      "im90 shape is :  (1024, 1224)\n",
      "Stokes time:  0.02698516845703125 s\n",
      "im_stokes0 shape is :  (1024, 1224)\n",
      "DoLP time:  0.0319819450378418 s\n",
      "im_DOLP shape is :  (1024, 1224)\n",
      "Time for DOLP2Theta conversion is :  20.984997510910034 seconds\n",
      "False\n",
      "AoLP time:  0.04096651077270508 s\n"
     ]
    },
    {
     "name": "stderr",
     "output_type": "stream",
     "text": [
      "\n",
      " 15%|███████████▌                                                                   | 33/225 [12:31<1:11:14, 22.26s/it]"
     ]
    },
    {
     "name": "stdout",
     "output_type": "stream",
     "text": [
      "Processing data for material : WATER\n",
      "image_data shape is :  (2048, 2448)\n",
      "im90 shape is :  (1024, 1224)\n",
      "Stokes time:  0.025984525680541992 s\n",
      "im_stokes0 shape is :  (1024, 1224)\n",
      "DoLP time:  0.032981157302856445 s\n",
      "im_DOLP shape is :  (1024, 1224)\n",
      "Time for DOLP2Theta conversion is :  20.725147247314453 seconds\n",
      "False\n",
      "AoLP time:  0.04697108268737793 s\n"
     ]
    },
    {
     "name": "stderr",
     "output_type": "stream",
     "text": [
      "\n",
      " 15%|███████████▉                                                                   | 34/225 [12:52<1:10:03, 22.01s/it]"
     ]
    },
    {
     "name": "stdout",
     "output_type": "stream",
     "text": [
      "Processing data for material : WATER\n",
      "image_data shape is :  (2048, 2448)\n",
      "im90 shape is :  (1024, 1224)\n",
      "Stokes time:  0.0239865779876709 s\n",
      "im_stokes0 shape is :  (1024, 1224)\n",
      "DoLP time:  0.03397989273071289 s\n",
      "im_DOLP shape is :  (1024, 1224)\n",
      "Time for DOLP2Theta conversion is :  20.918036937713623 seconds\n",
      "False\n",
      "AoLP time:  0.03997540473937988 s\n"
     ]
    },
    {
     "name": "stderr",
     "output_type": "stream",
     "text": [
      "\n",
      " 16%|████████████▎                                                                  | 35/225 [13:14<1:09:14, 21.86s/it]"
     ]
    },
    {
     "name": "stdout",
     "output_type": "stream",
     "text": [
      "Processing data for material : WATER\n",
      "image_data shape is :  (2048, 2448)\n",
      "im90 shape is :  (1024, 1224)\n",
      "Stokes time:  0.023985624313354492 s\n",
      "im_stokes0 shape is :  (1024, 1224)\n",
      "DoLP time:  0.0319819450378418 s\n",
      "im_DOLP shape is :  (1024, 1224)\n",
      "Time for DOLP2Theta conversion is :  21.021977424621582 seconds\n",
      "False\n",
      "AoLP time:  0.04097461700439453 s\n"
     ]
    },
    {
     "name": "stderr",
     "output_type": "stream",
     "text": [
      "\n",
      " 16%|████████████▋                                                                  | 36/225 [13:35<1:08:41, 21.80s/it]"
     ]
    },
    {
     "name": "stdout",
     "output_type": "stream",
     "text": [
      "Processing data for material : WATER\n",
      "image_data shape is :  (2048, 2448)\n",
      "im90 shape is :  (1024, 1224)\n",
      "Stokes time:  0.02498626708984375 s\n",
      "im_stokes0 shape is :  (1024, 1224)\n",
      "DoLP time:  0.032980918884277344 s\n",
      "im_DOLP shape is :  (1024, 1224)\n",
      "Time for DOLP2Theta conversion is :  21.00598692893982 seconds\n",
      "False\n",
      "AoLP time:  0.04996895790100098 s\n"
     ]
    },
    {
     "name": "stderr",
     "output_type": "stream",
     "text": [
      "\n",
      " 16%|████████████▉                                                                  | 37/225 [13:57<1:08:11, 21.76s/it]"
     ]
    },
    {
     "name": "stdout",
     "output_type": "stream",
     "text": [
      "Processing data for material : WATER\n",
      "image_data shape is :  (2048, 2448)\n",
      "im90 shape is :  (1024, 1224)\n",
      "Stokes time:  0.02498602867126465 s\n",
      "im_stokes0 shape is :  (1024, 1224)\n",
      "DoLP time:  0.036977291107177734 s\n",
      "im_DOLP shape is :  (1024, 1224)\n",
      "Time for DOLP2Theta conversion is :  20.844078540802002 seconds\n",
      "False\n",
      "AoLP time:  0.04097437858581543 s\n"
     ]
    },
    {
     "name": "stderr",
     "output_type": "stream",
     "text": [
      "\n",
      " 17%|█████████████▎                                                                 | 38/225 [14:18<1:07:35, 21.69s/it]"
     ]
    },
    {
     "name": "stdout",
     "output_type": "stream",
     "text": [
      "Processing data for material : WATER\n",
      "image_data shape is :  (2048, 2448)\n",
      "im90 shape is :  (1024, 1224)\n",
      "Stokes time:  0.026984214782714844 s\n",
      "im_stokes0 shape is :  (1024, 1224)\n",
      "DoLP time:  0.037978172302246094 s\n",
      "im_DOLP shape is :  (1024, 1224)\n",
      "Time for DOLP2Theta conversion is :  21.01797890663147 seconds\n",
      "False\n",
      "AoLP time:  0.039975643157958984 s\n"
     ]
    },
    {
     "name": "stderr",
     "output_type": "stream",
     "text": [
      "\n",
      " 17%|█████████████▋                                                                 | 39/225 [14:40<1:07:12, 21.68s/it]"
     ]
    },
    {
     "name": "stdout",
     "output_type": "stream",
     "text": [
      "Processing data for material : WATER\n",
      "image_data shape is :  (2048, 2448)\n",
      "im90 shape is :  (1024, 1224)\n",
      "Stokes time:  0.0239865779876709 s\n",
      "im_stokes0 shape is :  (1024, 1224)\n",
      "DoLP time:  0.032981157302856445 s\n",
      "im_DOLP shape is :  (1024, 1224)\n",
      "Time for DOLP2Theta conversion is :  21.006986141204834 seconds\n",
      "False\n",
      "AoLP time:  0.040975332260131836 s\n"
     ]
    },
    {
     "name": "stderr",
     "output_type": "stream",
     "text": [
      "\n",
      " 18%|██████████████                                                                 | 40/225 [15:02<1:06:50, 21.68s/it]"
     ]
    },
    {
     "name": "stdout",
     "output_type": "stream",
     "text": [
      "Processing data for material : WATER\n",
      "image_data shape is :  (2048, 2448)\n",
      "im90 shape is :  (1024, 1224)\n",
      "Stokes time:  0.025986194610595703 s\n",
      "im_stokes0 shape is :  (1024, 1224)\n",
      "DoLP time:  0.03497958183288574 s\n",
      "im_DOLP shape is :  (1024, 1224)\n",
      "Time for DOLP2Theta conversion is :  20.983999013900757 seconds\n",
      "False\n",
      "AoLP time:  0.038979530334472656 s\n"
     ]
    },
    {
     "name": "stderr",
     "output_type": "stream",
     "text": [
      "\n",
      " 18%|██████████████▍                                                                | 41/225 [15:23<1:06:27, 21.67s/it]"
     ]
    },
    {
     "name": "stdout",
     "output_type": "stream",
     "text": [
      "Processing data for material : WATER\n",
      "image_data shape is :  (2048, 2448)\n",
      "im90 shape is :  (1024, 1224)\n",
      "Stokes time:  0.024985790252685547 s\n",
      "im_stokes0 shape is :  (1024, 1224)\n",
      "DoLP time:  0.03198051452636719 s\n",
      "im_DOLP shape is :  (1024, 1224)\n",
      "Time for DOLP2Theta conversion is :  20.539252758026123 seconds\n",
      "False\n",
      "AoLP time:  0.04097628593444824 s\n"
     ]
    },
    {
     "name": "stderr",
     "output_type": "stream",
     "text": [
      "\n",
      " 19%|██████████████▋                                                                | 42/225 [15:45<1:05:39, 21.53s/it]"
     ]
    },
    {
     "name": "stdout",
     "output_type": "stream",
     "text": [
      "Processing data for material : WATER\n",
      "image_data shape is :  (2048, 2448)\n",
      "im90 shape is :  (1024, 1224)\n",
      "Stokes time:  0.026984691619873047 s\n",
      "im_stokes0 shape is :  (1024, 1224)\n",
      "DoLP time:  0.034979820251464844 s\n",
      "im_DOLP shape is :  (1024, 1224)\n",
      "Time for DOLP2Theta conversion is :  20.615208625793457 seconds\n",
      "False\n",
      "AoLP time:  0.04397392272949219 s\n"
     ]
    },
    {
     "name": "stderr",
     "output_type": "stream",
     "text": [
      "\n",
      " 19%|███████████████                                                                | 43/225 [16:06<1:05:02, 21.44s/it]"
     ]
    },
    {
     "name": "stdout",
     "output_type": "stream",
     "text": [
      "Processing data for material : WATER\n",
      "image_data shape is :  (2048, 2448)\n",
      "im90 shape is :  (1024, 1224)\n",
      "Stokes time:  0.025984525680541992 s\n",
      "im_stokes0 shape is :  (1024, 1224)\n",
      "DoLP time:  0.034982919692993164 s\n",
      "im_DOLP shape is :  (1024, 1224)\n",
      "Time for DOLP2Theta conversion is :  20.961012840270996 seconds\n",
      "False\n",
      "AoLP time:  0.04797244071960449 s\n"
     ]
    },
    {
     "name": "stderr",
     "output_type": "stream",
     "text": [
      "\n",
      " 20%|███████████████▍                                                               | 44/225 [16:28<1:04:51, 21.50s/it]"
     ]
    },
    {
     "name": "stdout",
     "output_type": "stream",
     "text": [
      "Processing data for material : WATER\n",
      "image_data shape is :  (2048, 2448)\n",
      "im90 shape is :  (1024, 1224)\n",
      "Stokes time:  0.026984214782714844 s\n",
      "im_stokes0 shape is :  (1024, 1224)\n",
      "DoLP time:  0.032980918884277344 s\n",
      "im_DOLP shape is :  (1024, 1224)\n",
      "Time for DOLP2Theta conversion is :  20.963008403778076 seconds\n",
      "False\n",
      "AoLP time:  0.03997683525085449 s\n"
     ]
    },
    {
     "name": "stderr",
     "output_type": "stream",
     "text": [
      "\n",
      " 20%|███████████████▊                                                               | 45/225 [16:49<1:04:34, 21.52s/it]"
     ]
    },
    {
     "name": "stdout",
     "output_type": "stream",
     "text": [
      "Processing data for material : WATER\n",
      "image_data shape is :  (2048, 2448)\n",
      "im90 shape is :  (1024, 1224)\n",
      "Stokes time:  0.02698493003845215 s\n",
      "im_stokes0 shape is :  (1024, 1224)\n",
      "DoLP time:  0.03298044204711914 s\n",
      "im_DOLP shape is :  (1024, 1224)\n",
      "Time for DOLP2Theta conversion is :  21.023975372314453 seconds\n",
      "False\n",
      "AoLP time:  0.0499725341796875 s\n"
     ]
    },
    {
     "name": "stderr",
     "output_type": "stream",
     "text": [
      "\n",
      " 20%|████████████████▏                                                              | 46/225 [17:11<1:04:22, 21.58s/it]"
     ]
    },
    {
     "name": "stdout",
     "output_type": "stream",
     "text": [
      "Processing data for material : WATER\n",
      "image_data shape is :  (2048, 2448)\n",
      "im90 shape is :  (1024, 1224)\n",
      "Stokes time:  0.02498483657836914 s\n",
      "im_stokes0 shape is :  (1024, 1224)\n",
      "DoLP time:  0.036977529525756836 s\n",
      "im_DOLP shape is :  (1024, 1224)\n",
      "Time for DOLP2Theta conversion is :  20.757129192352295 seconds\n",
      "False\n",
      "AoLP time:  0.03896164894104004 s\n"
     ]
    },
    {
     "name": "stderr",
     "output_type": "stream",
     "text": [
      "\n",
      " 21%|████████████████▌                                                              | 47/225 [17:32<1:03:55, 21.55s/it]"
     ]
    },
    {
     "name": "stdout",
     "output_type": "stream",
     "text": [
      "Processing data for material : WATER\n",
      "image_data shape is :  (2048, 2448)\n",
      "im90 shape is :  (1024, 1224)\n",
      "Stokes time:  0.026985645294189453 s\n",
      "im_stokes0 shape is :  (1024, 1224)\n",
      "DoLP time:  0.031981706619262695 s\n",
      "im_DOLP shape is :  (1024, 1224)\n",
      "Time for DOLP2Theta conversion is :  20.774118661880493 seconds\n",
      "False\n",
      "AoLP time:  0.041974782943725586 s\n"
     ]
    },
    {
     "name": "stderr",
     "output_type": "stream",
     "text": [
      "\n",
      " 21%|████████████████▊                                                              | 48/225 [17:54<1:03:28, 21.51s/it]"
     ]
    },
    {
     "name": "stdout",
     "output_type": "stream",
     "text": [
      "Processing data for material : WATER\n",
      "image_data shape is :  (2048, 2448)\n",
      "im90 shape is :  (1024, 1224)\n",
      "Stokes time:  0.024984121322631836 s\n",
      "im_stokes0 shape is :  (1024, 1224)\n",
      "DoLP time:  0.036980628967285156 s\n",
      "im_DOLP shape is :  (1024, 1224)\n",
      "Time for DOLP2Theta conversion is :  20.980998516082764 seconds\n",
      "False\n",
      "AoLP time:  0.04297518730163574 s\n"
     ]
    },
    {
     "name": "stderr",
     "output_type": "stream",
     "text": [
      "\n",
      " 22%|█████████████████▏                                                             | 49/225 [18:15<1:03:12, 21.55s/it]"
     ]
    },
    {
     "name": "stdout",
     "output_type": "stream",
     "text": [
      "Processing data for material : WATER\n",
      "image_data shape is :  (2048, 2448)\n",
      "im90 shape is :  (1024, 1224)\n",
      "Stokes time:  0.025984525680541992 s\n",
      "im_stokes0 shape is :  (1024, 1224)\n",
      "DoLP time:  0.03697848320007324 s\n",
      "im_DOLP shape is :  (1024, 1224)\n",
      "Time for DOLP2Theta conversion is :  20.89604949951172 seconds\n",
      "False\n",
      "AoLP time:  0.04497408866882324 s\n"
     ]
    },
    {
     "name": "stderr",
     "output_type": "stream",
     "text": [
      "\n",
      " 22%|█████████████████▌                                                             | 50/225 [18:37<1:02:50, 21.54s/it]"
     ]
    },
    {
     "name": "stdout",
     "output_type": "stream",
     "text": [
      "Processing data for material : WATER\n",
      "image_data shape is :  (2048, 2448)\n",
      "im90 shape is :  (1024, 1224)\n",
      "Stokes time:  0.026984214782714844 s\n",
      "im_stokes0 shape is :  (1024, 1224)\n",
      "DoLP time:  0.035979270935058594 s\n",
      "im_DOLP shape is :  (1024, 1224)\n",
      "Time for DOLP2Theta conversion is :  21.733570337295532 seconds\n",
      "False\n",
      "AoLP time:  0.04297375679016113 s\n"
     ]
    },
    {
     "name": "stderr",
     "output_type": "stream",
     "text": [
      "\n",
      " 23%|█████████████████▉                                                             | 51/225 [18:59<1:03:14, 21.81s/it]"
     ]
    },
    {
     "name": "stdout",
     "output_type": "stream",
     "text": [
      "Processing data for material : WATER\n",
      "image_data shape is :  (2048, 2448)\n",
      "im90 shape is :  (1024, 1224)\n",
      "Stokes time:  0.02298736572265625 s\n",
      "im_stokes0 shape is :  (1024, 1224)\n",
      "DoLP time:  0.033980369567871094 s\n",
      "im_DOLP shape is :  (1024, 1224)\n",
      "Time for DOLP2Theta conversion is :  21.187880992889404 seconds\n",
      "False\n",
      "AoLP time:  0.040976762771606445 s\n"
     ]
    },
    {
     "name": "stderr",
     "output_type": "stream",
     "text": [
      "\n",
      " 23%|██████████████████▎                                                            | 52/225 [19:21<1:02:53, 21.81s/it]"
     ]
    },
    {
     "name": "stdout",
     "output_type": "stream",
     "text": [
      "Processing data for material : WATER\n",
      "image_data shape is :  (2048, 2448)\n",
      "im90 shape is :  (1024, 1224)\n",
      "Stokes time:  0.024985313415527344 s\n",
      "im_stokes0 shape is :  (1024, 1224)\n",
      "DoLP time:  0.03498101234436035 s\n",
      "im_DOLP shape is :  (1024, 1224)\n",
      "Time for DOLP2Theta conversion is :  20.93602681159973 seconds\n",
      "False\n",
      "AoLP time:  0.04397392272949219 s\n"
     ]
    },
    {
     "name": "stderr",
     "output_type": "stream",
     "text": [
      "\n",
      " 24%|██████████████████▌                                                            | 53/225 [19:43<1:02:20, 21.75s/it]"
     ]
    },
    {
     "name": "stdout",
     "output_type": "stream",
     "text": [
      "Processing data for material : WATER\n",
      "image_data shape is :  (2048, 2448)\n",
      "im90 shape is :  (1024, 1224)\n",
      "Stokes time:  0.02498483657836914 s\n",
      "im_stokes0 shape is :  (1024, 1224)\n",
      "DoLP time:  0.035977840423583984 s\n",
      "im_DOLP shape is :  (1024, 1224)\n",
      "Time for DOLP2Theta conversion is :  21.02697443962097 seconds\n",
      "False\n",
      "AoLP time:  0.04197502136230469 s\n"
     ]
    },
    {
     "name": "stderr",
     "output_type": "stream",
     "text": [
      "\n",
      " 24%|██████████████████▉                                                            | 54/225 [20:04<1:01:55, 21.73s/it]"
     ]
    },
    {
     "name": "stdout",
     "output_type": "stream",
     "text": [
      "Processing data for material : WATER\n",
      "image_data shape is :  (2048, 2448)\n",
      "im90 shape is :  (1024, 1224)\n",
      "Stokes time:  0.024985551834106445 s\n",
      "im_stokes0 shape is :  (1024, 1224)\n",
      "DoLP time:  0.033982038497924805 s\n",
      "im_DOLP shape is :  (1024, 1224)\n",
      "Time for DOLP2Theta conversion is :  21.138908863067627 seconds\n",
      "False\n",
      "AoLP time:  0.03997611999511719 s\n"
     ]
    },
    {
     "name": "stderr",
     "output_type": "stream",
     "text": [
      "\n",
      " 24%|███████████████████▎                                                           | 55/225 [20:26<1:01:35, 21.74s/it]"
     ]
    },
    {
     "name": "stdout",
     "output_type": "stream",
     "text": [
      "Processing data for material : WATER\n",
      "image_data shape is :  (2048, 2448)\n",
      "im90 shape is :  (1024, 1224)\n",
      "Stokes time:  0.024985313415527344 s\n",
      "im_stokes0 shape is :  (1024, 1224)\n",
      "DoLP time:  0.032981157302856445 s\n",
      "im_DOLP shape is :  (1024, 1224)\n",
      "Time for DOLP2Theta conversion is :  20.974005222320557 seconds\n",
      "False\n",
      "AoLP time:  0.04397392272949219 s\n"
     ]
    },
    {
     "name": "stderr",
     "output_type": "stream",
     "text": [
      "\n",
      " 25%|███████████████████▋                                                           | 56/225 [20:48<1:01:09, 21.72s/it]"
     ]
    },
    {
     "name": "stdout",
     "output_type": "stream",
     "text": [
      "Processing data for material : WATER\n",
      "image_data shape is :  (2048, 2448)\n",
      "im90 shape is :  (1024, 1224)\n",
      "Stokes time:  0.02698493003845215 s\n",
      "im_stokes0 shape is :  (1024, 1224)\n",
      "DoLP time:  0.0339808464050293 s\n",
      "im_DOLP shape is :  (1024, 1224)\n",
      "Time for DOLP2Theta conversion is :  21.356825590133667 seconds\n",
      "False\n",
      "AoLP time:  0.04697251319885254 s\n"
     ]
    },
    {
     "name": "stderr",
     "output_type": "stream",
     "text": [
      "\n",
      " 25%|████████████████████                                                           | 57/225 [21:10<1:01:05, 21.82s/it]"
     ]
    },
    {
     "name": "stdout",
     "output_type": "stream",
     "text": [
      "Processing data for material : WATER\n",
      "image_data shape is :  (2048, 2448)\n",
      "im90 shape is :  (1024, 1224)\n",
      "Stokes time:  0.025985240936279297 s\n",
      "im_stokes0 shape is :  (1024, 1224)\n",
      "DoLP time:  0.03498101234436035 s\n",
      "im_DOLP shape is :  (1024, 1224)\n",
      "Time for DOLP2Theta conversion is :  20.953016757965088 seconds\n",
      "False\n",
      "AoLP time:  0.04297661781311035 s\n"
     ]
    },
    {
     "name": "stderr",
     "output_type": "stream",
     "text": [
      "\n",
      " 26%|████████████████████▎                                                          | 58/225 [21:32<1:00:35, 21.77s/it]"
     ]
    },
    {
     "name": "stdout",
     "output_type": "stream",
     "text": [
      "Processing data for material : WATER\n",
      "image_data shape is :  (2048, 2448)\n",
      "im90 shape is :  (1024, 1224)\n",
      "Stokes time:  0.02498650550842285 s\n",
      "im_stokes0 shape is :  (1024, 1224)\n",
      "DoLP time:  0.0359797477722168 s\n",
      "im_DOLP shape is :  (1024, 1224)\n",
      "Time for DOLP2Theta conversion is :  20.952016830444336 seconds\n",
      "False\n",
      "AoLP time:  0.043974876403808594 s\n"
     ]
    },
    {
     "name": "stderr",
     "output_type": "stream",
     "text": [
      "\n",
      " 26%|████████████████████▋                                                          | 59/225 [21:53<1:00:05, 21.72s/it]"
     ]
    },
    {
     "name": "stdout",
     "output_type": "stream",
     "text": [
      "Processing data for material : WATER\n",
      "image_data shape is :  (2048, 2448)\n",
      "im90 shape is :  (1024, 1224)\n",
      "Stokes time:  0.0299832820892334 s\n",
      "im_stokes0 shape is :  (1024, 1224)\n",
      "DoLP time:  0.03697919845581055 s\n",
      "im_DOLP shape is :  (1024, 1224)\n",
      "Time for DOLP2Theta conversion is :  22.278257608413696 seconds\n",
      "False\n",
      "AoLP time:  0.0479738712310791 s\n"
     ]
    },
    {
     "name": "stderr",
     "output_type": "stream",
     "text": [
      "\n",
      " 27%|█████████████████████                                                          | 60/225 [22:17<1:01:04, 22.21s/it]"
     ]
    },
    {
     "name": "stdout",
     "output_type": "stream",
     "text": [
      "Processing data for material : WATER\n",
      "image_data shape is :  (2048, 2448)\n",
      "im90 shape is :  (1024, 1224)\n",
      "Stokes time:  0.02898097038269043 s\n",
      "im_stokes0 shape is :  (1024, 1224)\n",
      "DoLP time:  0.03697919845581055 s\n",
      "im_DOLP shape is :  (1024, 1224)\n",
      "Time for DOLP2Theta conversion is :  22.12334680557251 seconds\n",
      "False\n",
      "AoLP time:  0.04097723960876465 s\n"
     ]
    },
    {
     "name": "stderr",
     "output_type": "stream",
     "text": [
      "\n",
      " 27%|█████████████████████▍                                                         | 61/225 [22:39<1:01:10, 22.38s/it]"
     ]
    },
    {
     "name": "stdout",
     "output_type": "stream",
     "text": [
      "Processing data for material : WATER\n",
      "image_data shape is :  (2048, 2448)\n",
      "im90 shape is :  (1024, 1224)\n",
      "Stokes time:  0.036978721618652344 s\n",
      "im_stokes0 shape is :  (1024, 1224)\n",
      "DoLP time:  0.03797793388366699 s\n",
      "im_DOLP shape is :  (1024, 1224)\n",
      "Time for DOLP2Theta conversion is :  21.426746129989624 seconds\n",
      "False\n",
      "AoLP time:  0.03897738456726074 s\n"
     ]
    },
    {
     "name": "stderr",
     "output_type": "stream",
     "text": [
      "\n",
      " 28%|█████████████████████▊                                                         | 62/225 [23:01<1:00:33, 22.29s/it]"
     ]
    },
    {
     "name": "stdout",
     "output_type": "stream",
     "text": [
      "Processing data for material : WATER\n",
      "image_data shape is :  (2048, 2448)\n",
      "im90 shape is :  (1024, 1224)\n",
      "Stokes time:  0.02498650550842285 s\n",
      "im_stokes0 shape is :  (1024, 1224)\n",
      "DoLP time:  0.03497934341430664 s\n",
      "im_DOLP shape is :  (1024, 1224)\n",
      "Time for DOLP2Theta conversion is :  21.282828330993652 seconds\n",
      "False\n",
      "AoLP time:  0.04897189140319824 s\n"
     ]
    },
    {
     "name": "stderr",
     "output_type": "stream",
     "text": [
      "\n",
      " 28%|██████████████████████▋                                                          | 63/225 [23:23<59:54, 22.19s/it]"
     ]
    },
    {
     "name": "stdout",
     "output_type": "stream",
     "text": [
      "Processing data for material : WATER\n",
      "image_data shape is :  (2048, 2448)\n",
      "im90 shape is :  (1024, 1224)\n",
      "Stokes time:  0.024987220764160156 s\n",
      "im_stokes0 shape is :  (1024, 1224)\n",
      "DoLP time:  0.03498125076293945 s\n",
      "im_DOLP shape is :  (1024, 1224)\n",
      "Time for DOLP2Theta conversion is :  21.32480263710022 seconds\n",
      "False\n",
      "AoLP time:  0.04497504234313965 s\n"
     ]
    },
    {
     "name": "stderr",
     "output_type": "stream",
     "text": [
      "\n",
      " 28%|███████████████████████                                                          | 64/225 [23:45<59:22, 22.13s/it]"
     ]
    },
    {
     "name": "stdout",
     "output_type": "stream",
     "text": [
      "Processing data for material : WATER\n",
      "image_data shape is :  (2048, 2448)\n",
      "im90 shape is :  (1024, 1224)\n",
      "Stokes time:  0.02398395538330078 s\n",
      "im_stokes0 shape is :  (1024, 1224)\n",
      "DoLP time:  0.031983137130737305 s\n",
      "im_DOLP shape is :  (1024, 1224)\n",
      "Time for DOLP2Theta conversion is :  21.52069091796875 seconds\n",
      "False\n",
      "AoLP time:  0.0399775505065918 s\n"
     ]
    },
    {
     "name": "stderr",
     "output_type": "stream",
     "text": [
      "\n",
      " 29%|███████████████████████▍                                                         | 65/225 [24:07<59:01, 22.13s/it]"
     ]
    },
    {
     "name": "stdout",
     "output_type": "stream",
     "text": [
      "Processing data for material : WATER\n",
      "image_data shape is :  (2048, 2448)\n",
      "im90 shape is :  (1024, 1224)\n",
      "Stokes time:  0.02498650550842285 s\n",
      "im_stokes0 shape is :  (1024, 1224)\n",
      "DoLP time:  0.03597879409790039 s\n",
      "im_DOLP shape is :  (1024, 1224)\n",
      "Time for DOLP2Theta conversion is :  21.366780042648315 seconds\n",
      "False\n",
      "AoLP time:  0.039977312088012695 s\n"
     ]
    },
    {
     "name": "stderr",
     "output_type": "stream",
     "text": [
      "\n",
      " 29%|███████████████████████▊                                                         | 66/225 [24:29<58:33, 22.10s/it]"
     ]
    },
    {
     "name": "stdout",
     "output_type": "stream",
     "text": [
      "Processing data for material : WATER\n",
      "image_data shape is :  (2048, 2448)\n",
      "im90 shape is :  (1024, 1224)\n",
      "Stokes time:  0.026984214782714844 s\n",
      "im_stokes0 shape is :  (1024, 1224)\n",
      "DoLP time:  0.03497910499572754 s\n",
      "im_DOLP shape is :  (1024, 1224)\n",
      "Time for DOLP2Theta conversion is :  21.124918222427368 seconds\n",
      "False\n",
      "AoLP time:  0.042975425720214844 s\n"
     ]
    },
    {
     "name": "stderr",
     "output_type": "stream",
     "text": [
      "\n",
      " 30%|████████████████████████                                                         | 67/225 [24:51<57:55, 22.00s/it]"
     ]
    },
    {
     "name": "stdout",
     "output_type": "stream",
     "text": [
      "Processing data for material : WATER\n",
      "image_data shape is :  (2048, 2448)\n",
      "im90 shape is :  (1024, 1224)\n",
      "Stokes time:  0.02698349952697754 s\n",
      "im_stokes0 shape is :  (1024, 1224)\n",
      "DoLP time:  0.03397989273071289 s\n",
      "im_DOLP shape is :  (1024, 1224)\n",
      "Time for DOLP2Theta conversion is :  21.32680058479309 seconds\n",
      "False\n",
      "AoLP time:  0.04196929931640625 s\n"
     ]
    },
    {
     "name": "stderr",
     "output_type": "stream",
     "text": [
      "\n",
      " 30%|████████████████████████▍                                                        | 68/225 [25:13<57:34, 22.00s/it]"
     ]
    },
    {
     "name": "stdout",
     "output_type": "stream",
     "text": [
      "Processing data for material : WATER\n",
      "image_data shape is :  (2048, 2448)\n",
      "im90 shape is :  (1024, 1224)\n",
      "Stokes time:  0.0239865779876709 s\n",
      "im_stokes0 shape is :  (1024, 1224)\n",
      "DoLP time:  0.03498077392578125 s\n",
      "im_DOLP shape is :  (1024, 1224)\n",
      "Time for DOLP2Theta conversion is :  21.25884175300598 seconds\n",
      "False\n",
      "AoLP time:  0.04896998405456543 s\n"
     ]
    },
    {
     "name": "stderr",
     "output_type": "stream",
     "text": [
      "\n",
      " 31%|████████████████████████▊                                                        | 69/225 [25:35<57:09, 21.99s/it]"
     ]
    },
    {
     "name": "stdout",
     "output_type": "stream",
     "text": [
      "Processing data for material : WATER\n",
      "image_data shape is :  (2048, 2448)\n",
      "im90 shape is :  (1024, 1224)\n",
      "Stokes time:  0.023985862731933594 s\n",
      "im_stokes0 shape is :  (1024, 1224)\n",
      "DoLP time:  0.03597855567932129 s\n",
      "im_DOLP shape is :  (1024, 1224)\n",
      "Time for DOLP2Theta conversion is :  20.863068342208862 seconds\n",
      "False\n",
      "AoLP time:  0.042974233627319336 s\n"
     ]
    },
    {
     "name": "stderr",
     "output_type": "stream",
     "text": [
      "\n",
      " 31%|█████████████████████████▏                                                       | 70/225 [25:57<56:27, 21.86s/it]"
     ]
    },
    {
     "name": "stdout",
     "output_type": "stream",
     "text": [
      "Processing data for material : WATER\n",
      "image_data shape is :  (2048, 2448)\n",
      "im90 shape is :  (1024, 1224)\n",
      "Stokes time:  0.0259854793548584 s\n",
      "im_stokes0 shape is :  (1024, 1224)\n",
      "DoLP time:  0.032980918884277344 s\n",
      "im_DOLP shape is :  (1024, 1224)\n",
      "Time for DOLP2Theta conversion is :  21.546677350997925 seconds\n",
      "False\n",
      "AoLP time:  0.04297447204589844 s\n"
     ]
    },
    {
     "name": "stderr",
     "output_type": "stream",
     "text": [
      "\n",
      " 32%|█████████████████████████▌                                                       | 71/225 [26:19<56:22, 21.97s/it]"
     ]
    },
    {
     "name": "stdout",
     "output_type": "stream",
     "text": [
      "Processing data for material : WATER\n",
      "image_data shape is :  (2048, 2448)\n",
      "im90 shape is :  (1024, 1224)\n",
      "Stokes time:  0.02698373794555664 s\n",
      "im_stokes0 shape is :  (1024, 1224)\n",
      "DoLP time:  0.03398013114929199 s\n",
      "im_DOLP shape is :  (1024, 1224)\n",
      "Time for DOLP2Theta conversion is :  21.481714248657227 seconds\n",
      "False\n",
      "AoLP time:  0.04397439956665039 s\n"
     ]
    },
    {
     "name": "stderr",
     "output_type": "stream",
     "text": [
      "\n",
      " 32%|█████████████████████████▉                                                       | 72/225 [26:41<56:09, 22.02s/it]"
     ]
    },
    {
     "name": "stdout",
     "output_type": "stream",
     "text": [
      "Processing data for material : WATER\n",
      "image_data shape is :  (2048, 2448)\n",
      "im90 shape is :  (1024, 1224)\n",
      "Stokes time:  0.024985313415527344 s\n",
      "im_stokes0 shape is :  (1024, 1224)\n",
      "DoLP time:  0.0339808464050293 s\n",
      "im_DOLP shape is :  (1024, 1224)\n",
      "Time for DOLP2Theta conversion is :  21.01398015022278 seconds\n",
      "False\n",
      "AoLP time:  0.04297351837158203 s\n"
     ]
    },
    {
     "name": "stderr",
     "output_type": "stream",
     "text": [
      "\n",
      " 32%|██████████████████████████▎                                                      | 73/225 [27:03<55:30, 21.91s/it]"
     ]
    },
    {
     "name": "stdout",
     "output_type": "stream",
     "text": [
      "Processing data for material : WATER\n",
      "image_data shape is :  (2048, 2448)\n",
      "im90 shape is :  (1024, 1224)\n",
      "Stokes time:  0.023987531661987305 s\n",
      "im_stokes0 shape is :  (1024, 1224)\n",
      "DoLP time:  0.03397989273071289 s\n",
      "im_DOLP shape is :  (1024, 1224)\n",
      "Time for DOLP2Theta conversion is :  21.535682439804077 seconds\n",
      "False\n",
      "AoLP time:  0.042975664138793945 s\n"
     ]
    },
    {
     "name": "stderr",
     "output_type": "stream",
     "text": [
      "\n",
      " 33%|██████████████████████████▋                                                      | 74/225 [27:25<55:24, 22.02s/it]"
     ]
    },
    {
     "name": "stdout",
     "output_type": "stream",
     "text": [
      "Processing data for material : WATER\n",
      "image_data shape is :  (2048, 2448)\n",
      "im90 shape is :  (1024, 1224)\n",
      "Stokes time:  0.024982929229736328 s\n",
      "im_stokes0 shape is :  (1024, 1224)\n",
      "DoLP time:  0.032980918884277344 s\n",
      "im_DOLP shape is :  (1024, 1224)\n",
      "Time for DOLP2Theta conversion is :  21.34279203414917 seconds\n",
      "False\n",
      "AoLP time:  0.042972564697265625 s\n"
     ]
    },
    {
     "name": "stderr",
     "output_type": "stream",
     "text": [
      "\n",
      " 33%|███████████████████████████                                                      | 75/225 [27:47<55:02, 22.02s/it]"
     ]
    },
    {
     "name": "stdout",
     "output_type": "stream",
     "text": [
      "Processing data for material : WATER\n",
      "image_data shape is :  (2048, 2448)\n",
      "im90 shape is :  (1024, 1224)\n",
      "Stokes time:  0.025985002517700195 s\n",
      "im_stokes0 shape is :  (1024, 1224)\n",
      "DoLP time:  0.0379796028137207 s\n",
      "im_DOLP shape is :  (1024, 1224)\n",
      "Time for DOLP2Theta conversion is :  21.279829502105713 seconds\n",
      "False\n",
      "AoLP time:  0.04697132110595703 s\n"
     ]
    },
    {
     "name": "stderr",
     "output_type": "stream",
     "text": [
      "\n",
      " 34%|███████████████████████████▎                                                     | 76/225 [28:09<54:36, 21.99s/it]"
     ]
    },
    {
     "name": "stdout",
     "output_type": "stream",
     "text": [
      "Processing data for material : WATER\n",
      "image_data shape is :  (2048, 2448)\n",
      "im90 shape is :  (1024, 1224)\n",
      "Stokes time:  0.0239865779876709 s\n",
      "im_stokes0 shape is :  (1024, 1224)\n",
      "DoLP time:  0.0359807014465332 s\n",
      "im_DOLP shape is :  (1024, 1224)\n",
      "Time for DOLP2Theta conversion is :  21.36278200149536 seconds\n",
      "False\n",
      "AoLP time:  0.04897189140319824 s\n"
     ]
    },
    {
     "name": "stderr",
     "output_type": "stream",
     "text": [
      "\n",
      " 34%|███████████████████████████▋                                                     | 77/225 [28:31<54:17, 22.01s/it]"
     ]
    },
    {
     "name": "stdout",
     "output_type": "stream",
     "text": [
      "Processing data for material : WATER\n",
      "image_data shape is :  (2048, 2448)\n",
      "im90 shape is :  (1024, 1224)\n",
      "Stokes time:  0.025986433029174805 s\n",
      "im_stokes0 shape is :  (1024, 1224)\n",
      "DoLP time:  0.03797793388366699 s\n",
      "im_DOLP shape is :  (1024, 1224)\n",
      "Time for DOLP2Theta conversion is :  21.139910459518433 seconds\n",
      "False\n",
      "AoLP time:  0.03997611999511719 s\n"
     ]
    },
    {
     "name": "stderr",
     "output_type": "stream",
     "text": [
      "\n",
      " 35%|████████████████████████████                                                     | 78/225 [28:53<53:47, 21.96s/it]"
     ]
    },
    {
     "name": "stdout",
     "output_type": "stream",
     "text": [
      "Processing data for material : WATER\n",
      "image_data shape is :  (2048, 2448)\n",
      "im90 shape is :  (1024, 1224)\n",
      "Stokes time:  0.023984909057617188 s\n",
      "im_stokes0 shape is :  (1024, 1224)\n",
      "DoLP time:  0.0339818000793457 s\n",
      "im_DOLP shape is :  (1024, 1224)\n",
      "Time for DOLP2Theta conversion is :  21.21986413002014 seconds\n",
      "False\n",
      "AoLP time:  0.040978193283081055 s\n"
     ]
    },
    {
     "name": "stderr",
     "output_type": "stream",
     "text": [
      "\n",
      " 35%|████████████████████████████▍                                                    | 79/225 [29:15<53:23, 21.94s/it]"
     ]
    },
    {
     "name": "stdout",
     "output_type": "stream",
     "text": [
      "Processing data for material : WATER\n",
      "image_data shape is :  (2048, 2448)\n",
      "im90 shape is :  (1024, 1224)\n",
      "Stokes time:  0.024984359741210938 s\n",
      "im_stokes0 shape is :  (1024, 1224)\n",
      "DoLP time:  0.035979509353637695 s\n",
      "im_DOLP shape is :  (1024, 1224)\n",
      "Time for DOLP2Theta conversion is :  21.304815769195557 seconds\n",
      "False\n",
      "AoLP time:  0.04197335243225098 s\n"
     ]
    },
    {
     "name": "stderr",
     "output_type": "stream",
     "text": [
      "\n",
      " 36%|████████████████████████████▊                                                    | 80/225 [29:37<53:03, 21.96s/it]"
     ]
    },
    {
     "name": "stdout",
     "output_type": "stream",
     "text": [
      "Processing data for material : WATER\n",
      "image_data shape is :  (2048, 2448)\n",
      "im90 shape is :  (1024, 1224)\n",
      "Stokes time:  0.024986743927001953 s\n",
      "im_stokes0 shape is :  (1024, 1224)\n",
      "DoLP time:  0.0339818000793457 s\n",
      "im_DOLP shape is :  (1024, 1224)\n",
      "Time for DOLP2Theta conversion is :  21.134912252426147 seconds\n",
      "False\n",
      "AoLP time:  0.04397463798522949 s\n"
     ]
    },
    {
     "name": "stderr",
     "output_type": "stream",
     "text": [
      "\n",
      " 36%|█████████████████████████████▏                                                   | 81/225 [29:59<52:34, 21.90s/it]"
     ]
    },
    {
     "name": "stdout",
     "output_type": "stream",
     "text": [
      "Processing data for material : WATER\n",
      "image_data shape is :  (2048, 2448)\n",
      "im90 shape is :  (1024, 1224)\n",
      "Stokes time:  0.023985862731933594 s\n",
      "im_stokes0 shape is :  (1024, 1224)\n",
      "DoLP time:  0.0379793643951416 s\n",
      "im_DOLP shape is :  (1024, 1224)\n",
      "Time for DOLP2Theta conversion is :  21.501702070236206 seconds\n",
      "False\n",
      "AoLP time:  0.0589604377746582 s\n"
     ]
    },
    {
     "name": "stderr",
     "output_type": "stream",
     "text": [
      "\n",
      " 36%|█████████████████████████████▌                                                   | 82/225 [30:21<52:23, 21.98s/it]"
     ]
    },
    {
     "name": "stdout",
     "output_type": "stream",
     "text": [
      "Processing data for material : WATER\n",
      "image_data shape is :  (2048, 2448)\n",
      "im90 shape is :  (1024, 1224)\n",
      "Stokes time:  0.026983976364135742 s\n",
      "im_stokes0 shape is :  (1024, 1224)\n",
      "DoLP time:  0.03498125076293945 s\n",
      "im_DOLP shape is :  (1024, 1224)\n",
      "Time for DOLP2Theta conversion is :  21.219863653182983 seconds\n",
      "False\n",
      "AoLP time:  0.04197430610656738 s\n"
     ]
    },
    {
     "name": "stderr",
     "output_type": "stream",
     "text": [
      "\n",
      " 37%|█████████████████████████████▉                                                   | 83/225 [30:43<51:55, 21.94s/it]"
     ]
    },
    {
     "name": "stdout",
     "output_type": "stream",
     "text": [
      "Processing data for material : WATER\n",
      "image_data shape is :  (2048, 2448)\n",
      "im90 shape is :  (1024, 1224)\n",
      "Stokes time:  0.0239865779876709 s\n",
      "im_stokes0 shape is :  (1024, 1224)\n",
      "DoLP time:  0.03697848320007324 s\n",
      "im_DOLP shape is :  (1024, 1224)\n",
      "Time for DOLP2Theta conversion is :  21.19587731361389 seconds\n",
      "False\n",
      "AoLP time:  0.046973228454589844 s\n"
     ]
    },
    {
     "name": "stderr",
     "output_type": "stream",
     "text": [
      "\n",
      " 37%|██████████████████████████████▏                                                  | 84/225 [31:04<51:29, 21.91s/it]"
     ]
    },
    {
     "name": "stdout",
     "output_type": "stream",
     "text": [
      "Processing data for material : WATER\n",
      "image_data shape is :  (2048, 2448)\n",
      "im90 shape is :  (1024, 1224)\n",
      "Stokes time:  0.024987220764160156 s\n",
      "im_stokes0 shape is :  (1024, 1224)\n",
      "DoLP time:  0.035979509353637695 s\n",
      "im_DOLP shape is :  (1024, 1224)\n",
      "Time for DOLP2Theta conversion is :  21.0809428691864 seconds\n",
      "False\n",
      "AoLP time:  0.0459749698638916 s\n"
     ]
    },
    {
     "name": "stderr",
     "output_type": "stream",
     "text": [
      "\n",
      " 38%|██████████████████████████████▌                                                  | 85/225 [31:26<50:59, 21.85s/it]"
     ]
    },
    {
     "name": "stdout",
     "output_type": "stream",
     "text": [
      "Processing data for material : WATER\n",
      "image_data shape is :  (2048, 2448)\n",
      "im90 shape is :  (1024, 1224)\n",
      "Stokes time:  0.027984142303466797 s\n",
      "im_stokes0 shape is :  (1024, 1224)\n",
      "DoLP time:  0.03498053550720215 s\n",
      "im_DOLP shape is :  (1024, 1224)\n",
      "Time for DOLP2Theta conversion is :  21.252843856811523 seconds\n",
      "False\n",
      "AoLP time:  0.03897690773010254 s\n"
     ]
    },
    {
     "name": "stderr",
     "output_type": "stream",
     "text": [
      "\n",
      " 38%|██████████████████████████████▉                                                  | 86/225 [31:48<50:41, 21.88s/it]"
     ]
    },
    {
     "name": "stdout",
     "output_type": "stream",
     "text": [
      "Processing data for material : WATER\n",
      "image_data shape is :  (2048, 2448)\n",
      "im90 shape is :  (1024, 1224)\n",
      "Stokes time:  0.026985645294189453 s\n",
      "im_stokes0 shape is :  (1024, 1224)\n",
      "DoLP time:  0.03497958183288574 s\n",
      "im_DOLP shape is :  (1024, 1224)\n",
      "Time for DOLP2Theta conversion is :  21.228859186172485 seconds\n",
      "False\n",
      "AoLP time:  0.04097628593444824 s\n"
     ]
    },
    {
     "name": "stderr",
     "output_type": "stream",
     "text": [
      "\n",
      " 39%|███████████████████████████████▎                                                 | 87/225 [32:10<50:20, 21.89s/it]"
     ]
    },
    {
     "name": "stdout",
     "output_type": "stream",
     "text": [
      "Processing data for material : WATER\n",
      "image_data shape is :  (2048, 2448)\n",
      "im90 shape is :  (1024, 1224)\n",
      "Stokes time:  0.02498459815979004 s\n",
      "im_stokes0 shape is :  (1024, 1224)\n",
      "DoLP time:  0.034979820251464844 s\n",
      "im_DOLP shape is :  (1024, 1224)\n",
      "Time for DOLP2Theta conversion is :  21.220862865447998 seconds\n",
      "False\n",
      "AoLP time:  0.048974037170410156 s\n"
     ]
    },
    {
     "name": "stderr",
     "output_type": "stream",
     "text": [
      "\n",
      " 39%|███████████████████████████████▋                                                 | 88/225 [32:32<49:58, 21.89s/it]"
     ]
    },
    {
     "name": "stdout",
     "output_type": "stream",
     "text": [
      "Processing data for material : WATER\n",
      "image_data shape is :  (2048, 2448)\n",
      "im90 shape is :  (1024, 1224)\n",
      "Stokes time:  0.02598404884338379 s\n",
      "im_stokes0 shape is :  (1024, 1224)\n",
      "DoLP time:  0.03298044204711914 s\n",
      "im_DOLP shape is :  (1024, 1224)\n",
      "Time for DOLP2Theta conversion is :  21.161895036697388 seconds\n",
      "False\n",
      "AoLP time:  0.04497480392456055 s\n"
     ]
    },
    {
     "name": "stderr",
     "output_type": "stream",
     "text": [
      "\n",
      " 40%|████████████████████████████████                                                 | 89/225 [32:54<49:35, 21.88s/it]"
     ]
    },
    {
     "name": "stdout",
     "output_type": "stream",
     "text": [
      "Processing data for material : WATER\n",
      "image_data shape is :  (2048, 2448)\n",
      "im90 shape is :  (1024, 1224)\n",
      "Stokes time:  0.023985862731933594 s\n",
      "im_stokes0 shape is :  (1024, 1224)\n",
      "DoLP time:  0.03198051452636719 s\n",
      "im_DOLP shape is :  (1024, 1224)\n",
      "Time for DOLP2Theta conversion is :  21.33579683303833 seconds\n",
      "False\n",
      "AoLP time:  0.048974037170410156 s\n"
     ]
    },
    {
     "name": "stderr",
     "output_type": "stream",
     "text": [
      "\n",
      " 40%|████████████████████████████████▍                                                | 90/225 [33:16<49:19, 21.92s/it]"
     ]
    },
    {
     "name": "stdout",
     "output_type": "stream",
     "text": [
      "Processing data for material : WATER\n",
      "image_data shape is :  (2048, 2448)\n",
      "im90 shape is :  (1024, 1224)\n",
      "Stokes time:  0.02398538589477539 s\n",
      "im_stokes0 shape is :  (1024, 1224)\n",
      "DoLP time:  0.035979509353637695 s\n",
      "im_DOLP shape is :  (1024, 1224)\n",
      "Time for DOLP2Theta conversion is :  21.28282594680786 seconds\n",
      "False\n",
      "AoLP time:  0.0419771671295166 s\n"
     ]
    },
    {
     "name": "stderr",
     "output_type": "stream",
     "text": [
      "\n",
      " 40%|████████████████████████████████▊                                                | 91/225 [33:38<48:57, 21.92s/it]"
     ]
    },
    {
     "name": "stdout",
     "output_type": "stream",
     "text": [
      "Processing data for material : WATER\n",
      "image_data shape is :  (2048, 2448)\n",
      "im90 shape is :  (1024, 1224)\n",
      "Stokes time:  0.025985240936279297 s\n",
      "im_stokes0 shape is :  (1024, 1224)\n",
      "DoLP time:  0.03997659683227539 s\n",
      "im_DOLP shape is :  (1024, 1224)\n",
      "Time for DOLP2Theta conversion is :  21.258842706680298 seconds\n",
      "False\n",
      "AoLP time:  0.048970937728881836 s\n"
     ]
    },
    {
     "name": "stderr",
     "output_type": "stream",
     "text": [
      "\n",
      " 41%|█████████████████████████████████                                                | 92/225 [34:00<48:35, 21.92s/it]"
     ]
    },
    {
     "name": "stdout",
     "output_type": "stream",
     "text": [
      "Processing data for material : WATER\n",
      "image_data shape is :  (2048, 2448)\n",
      "im90 shape is :  (1024, 1224)\n",
      "Stokes time:  0.024985790252685547 s\n",
      "im_stokes0 shape is :  (1024, 1224)\n",
      "DoLP time:  0.033980369567871094 s\n",
      "im_DOLP shape is :  (1024, 1224)\n",
      "Time for DOLP2Theta conversion is :  21.170891523361206 seconds\n",
      "False\n",
      "AoLP time:  0.04097771644592285 s\n"
     ]
    },
    {
     "name": "stderr",
     "output_type": "stream",
     "text": [
      "\n",
      " 41%|█████████████████████████████████▍                                               | 93/225 [34:21<48:10, 21.89s/it]"
     ]
    },
    {
     "name": "stdout",
     "output_type": "stream",
     "text": [
      "Processing data for material : WATER\n",
      "image_data shape is :  (2048, 2448)\n",
      "im90 shape is :  (1024, 1224)\n",
      "Stokes time:  0.0259854793548584 s\n",
      "im_stokes0 shape is :  (1024, 1224)\n",
      "DoLP time:  0.035979270935058594 s\n",
      "im_DOLP shape is :  (1024, 1224)\n",
      "Time for DOLP2Theta conversion is :  21.178887605667114 seconds\n",
      "False\n",
      "AoLP time:  0.04197430610656738 s\n"
     ]
    },
    {
     "name": "stderr",
     "output_type": "stream",
     "text": [
      "\n",
      " 42%|█████████████████████████████████▊                                               | 94/225 [34:43<47:45, 21.87s/it]"
     ]
    },
    {
     "name": "stdout",
     "output_type": "stream",
     "text": [
      "Processing data for material : WATER\n",
      "image_data shape is :  (2048, 2448)\n",
      "im90 shape is :  (1024, 1224)\n",
      "Stokes time:  0.028984546661376953 s\n",
      "im_stokes0 shape is :  (1024, 1224)\n",
      "DoLP time:  0.03298163414001465 s\n",
      "im_DOLP shape is :  (1024, 1224)\n",
      "Time for DOLP2Theta conversion is :  21.214866876602173 seconds\n",
      "False\n",
      "AoLP time:  0.043974876403808594 s\n"
     ]
    },
    {
     "name": "stderr",
     "output_type": "stream",
     "text": [
      "\n",
      " 42%|██████████████████████████████████▏                                              | 95/225 [35:05<47:23, 21.87s/it]"
     ]
    },
    {
     "name": "stdout",
     "output_type": "stream",
     "text": [
      "Processing data for material : WATER\n",
      "image_data shape is :  (2048, 2448)\n",
      "im90 shape is :  (1024, 1224)\n",
      "Stokes time:  0.024983644485473633 s\n",
      "im_stokes0 shape is :  (1024, 1224)\n",
      "DoLP time:  0.031981468200683594 s\n",
      "im_DOLP shape is :  (1024, 1224)\n",
      "Time for DOLP2Theta conversion is :  21.23485565185547 seconds\n",
      "False\n",
      "AoLP time:  0.04797053337097168 s\n"
     ]
    },
    {
     "name": "stderr",
     "output_type": "stream",
     "text": [
      "\n",
      " 43%|██████████████████████████████████▌                                              | 96/225 [35:27<47:01, 21.87s/it]"
     ]
    },
    {
     "name": "stdout",
     "output_type": "stream",
     "text": [
      "Processing data for material : WATER\n",
      "image_data shape is :  (2048, 2448)\n",
      "im90 shape is :  (1024, 1224)\n",
      "Stokes time:  0.02598428726196289 s\n",
      "im_stokes0 shape is :  (1024, 1224)\n",
      "DoLP time:  0.03497958183288574 s\n",
      "im_DOLP shape is :  (1024, 1224)\n",
      "Time for DOLP2Theta conversion is :  21.181886672973633 seconds\n",
      "False\n",
      "AoLP time:  0.05496692657470703 s\n"
     ]
    },
    {
     "name": "stderr",
     "output_type": "stream",
     "text": [
      "\n",
      " 43%|██████████████████████████████████▉                                              | 97/225 [35:49<46:38, 21.86s/it]"
     ]
    },
    {
     "name": "stdout",
     "output_type": "stream",
     "text": [
      "Processing data for material : WATER\n",
      "image_data shape is :  (2048, 2448)\n",
      "im90 shape is :  (1024, 1224)\n",
      "Stokes time:  0.02698540687561035 s\n",
      "im_stokes0 shape is :  (1024, 1224)\n",
      "DoLP time:  0.03298044204711914 s\n",
      "im_DOLP shape is :  (1024, 1224)\n",
      "Time for DOLP2Theta conversion is :  21.354787349700928 seconds\n",
      "False\n",
      "AoLP time:  0.040976524353027344 s\n"
     ]
    },
    {
     "name": "stderr",
     "output_type": "stream",
     "text": [
      "\n",
      " 44%|███████████████████████████████████▎                                             | 98/225 [36:11<46:22, 21.91s/it]"
     ]
    },
    {
     "name": "stdout",
     "output_type": "stream",
     "text": [
      "Processing data for material : WATER\n",
      "image_data shape is :  (2048, 2448)\n",
      "im90 shape is :  (1024, 1224)\n",
      "Stokes time:  0.024985790252685547 s\n",
      "im_stokes0 shape is :  (1024, 1224)\n",
      "DoLP time:  0.033980607986450195 s\n",
      "im_DOLP shape is :  (1024, 1224)\n",
      "Time for DOLP2Theta conversion is :  21.64961886405945 seconds\n",
      "False\n",
      "AoLP time:  0.04297447204589844 s\n"
     ]
    },
    {
     "name": "stderr",
     "output_type": "stream",
     "text": [
      "\n",
      " 44%|███████████████████████████████████▋                                             | 99/225 [36:33<46:17, 22.05s/it]"
     ]
    },
    {
     "name": "stdout",
     "output_type": "stream",
     "text": [
      "Processing data for material : WATER\n",
      "image_data shape is :  (2048, 2448)\n",
      "im90 shape is :  (1024, 1224)\n",
      "Stokes time:  0.026983261108398438 s\n",
      "im_stokes0 shape is :  (1024, 1224)\n",
      "DoLP time:  0.03597903251647949 s\n",
      "im_DOLP shape is :  (1024, 1224)\n",
      "Time for DOLP2Theta conversion is :  21.21186876296997 seconds\n",
      "False\n",
      "AoLP time:  0.04897356033325195 s\n"
     ]
    },
    {
     "name": "stderr",
     "output_type": "stream",
     "text": [
      "\n",
      " 44%|███████████████████████████████████▌                                            | 100/225 [36:55<45:52, 22.02s/it]"
     ]
    },
    {
     "name": "stdout",
     "output_type": "stream",
     "text": [
      "Processing data for material : WATER\n",
      "image_data shape is :  (2048, 2448)\n",
      "im90 shape is :  (1024, 1224)\n",
      "Stokes time:  0.025984764099121094 s\n",
      "im_stokes0 shape is :  (1024, 1224)\n",
      "DoLP time:  0.03797745704650879 s\n",
      "im_DOLP shape is :  (1024, 1224)\n",
      "Time for DOLP2Theta conversion is :  21.227858543395996 seconds\n",
      "False\n",
      "AoLP time:  0.040976762771606445 s\n"
     ]
    },
    {
     "name": "stderr",
     "output_type": "stream",
     "text": [
      "\n",
      " 45%|███████████████████████████████████▉                                            | 101/225 [37:17<45:24, 21.97s/it]"
     ]
    },
    {
     "name": "stdout",
     "output_type": "stream",
     "text": [
      "Processing data for material : WATER\n",
      "image_data shape is :  (2048, 2448)\n",
      "im90 shape is :  (1024, 1224)\n",
      "Stokes time:  0.025985002517700195 s\n",
      "im_stokes0 shape is :  (1024, 1224)\n",
      "DoLP time:  0.033980607986450195 s\n",
      "im_DOLP shape is :  (1024, 1224)\n",
      "Time for DOLP2Theta conversion is :  21.177886724472046 seconds\n",
      "False\n",
      "AoLP time:  0.04197525978088379 s\n"
     ]
    },
    {
     "name": "stderr",
     "output_type": "stream",
     "text": [
      "\n",
      " 45%|████████████████████████████████████▎                                           | 102/225 [37:39<44:58, 21.94s/it]"
     ]
    },
    {
     "name": "stdout",
     "output_type": "stream",
     "text": [
      "Processing data for material : WATER\n",
      "image_data shape is :  (2048, 2448)\n",
      "im90 shape is :  (1024, 1224)\n",
      "Stokes time:  0.023986339569091797 s\n",
      "im_stokes0 shape is :  (1024, 1224)\n",
      "DoLP time:  0.034980058670043945 s\n",
      "im_DOLP shape is :  (1024, 1224)\n",
      "Time for DOLP2Theta conversion is :  21.123918056488037 seconds\n",
      "False\n",
      "AoLP time:  0.04897141456604004 s\n"
     ]
    },
    {
     "name": "stderr",
     "output_type": "stream",
     "text": [
      "\n",
      " 46%|████████████████████████████████████▌                                           | 103/225 [38:01<44:32, 21.91s/it]"
     ]
    },
    {
     "name": "stdout",
     "output_type": "stream",
     "text": [
      "Processing data for material : WATER\n",
      "image_data shape is :  (2048, 2448)\n",
      "im90 shape is :  (1024, 1224)\n",
      "Stokes time:  0.025983095169067383 s\n",
      "im_stokes0 shape is :  (1024, 1224)\n",
      "DoLP time:  0.03797769546508789 s\n",
      "im_DOLP shape is :  (1024, 1224)\n",
      "Time for DOLP2Theta conversion is :  21.54667830467224 seconds\n",
      "False\n",
      "AoLP time:  0.04297375679016113 s\n"
     ]
    },
    {
     "name": "stderr",
     "output_type": "stream",
     "text": [
      "\n",
      " 46%|████████████████████████████████████▉                                           | 104/225 [38:23<44:20, 21.99s/it]"
     ]
    },
    {
     "name": "stdout",
     "output_type": "stream",
     "text": [
      "Processing data for material : WATER\n",
      "image_data shape is :  (2048, 2448)\n",
      "im90 shape is :  (1024, 1224)\n",
      "Stokes time:  0.025984764099121094 s\n",
      "im_stokes0 shape is :  (1024, 1224)\n",
      "DoLP time:  0.03797721862792969 s\n",
      "im_DOLP shape is :  (1024, 1224)\n",
      "Time for DOLP2Theta conversion is :  21.505700826644897 seconds\n",
      "False\n",
      "AoLP time:  0.04297327995300293 s\n"
     ]
    },
    {
     "name": "stderr",
     "output_type": "stream",
     "text": [
      "\n",
      " 47%|█████████████████████████████████████▎                                          | 105/225 [38:45<44:06, 22.05s/it]"
     ]
    },
    {
     "name": "stdout",
     "output_type": "stream",
     "text": [
      "Processing data for material : WATER\n",
      "image_data shape is :  (2048, 2448)\n",
      "im90 shape is :  (1024, 1224)\n",
      "Stokes time:  0.02698516845703125 s\n",
      "im_stokes0 shape is :  (1024, 1224)\n",
      "DoLP time:  0.035979270935058594 s\n",
      "im_DOLP shape is :  (1024, 1224)\n",
      "Time for DOLP2Theta conversion is :  21.222861528396606 seconds\n",
      "False\n",
      "AoLP time:  0.042973995208740234 s\n"
     ]
    },
    {
     "name": "stderr",
     "output_type": "stream",
     "text": [
      "\n",
      " 47%|█████████████████████████████████████▋                                          | 106/225 [39:07<43:37, 21.99s/it]"
     ]
    },
    {
     "name": "stdout",
     "output_type": "stream",
     "text": [
      "Processing data for material : WATER\n",
      "image_data shape is :  (2048, 2448)\n",
      "im90 shape is :  (1024, 1224)\n",
      "Stokes time:  0.026984214782714844 s\n",
      "im_stokes0 shape is :  (1024, 1224)\n",
      "DoLP time:  0.033980607986450195 s\n",
      "im_DOLP shape is :  (1024, 1224)\n",
      "Time for DOLP2Theta conversion is :  21.298815965652466 seconds\n",
      "False\n",
      "AoLP time:  0.04097604751586914 s\n"
     ]
    },
    {
     "name": "stderr",
     "output_type": "stream",
     "text": [
      "\n",
      " 48%|██████████████████████████████████████                                          | 107/225 [39:29<43:14, 21.99s/it]"
     ]
    },
    {
     "name": "stdout",
     "output_type": "stream",
     "text": [
      "Processing data for material : WATER\n",
      "image_data shape is :  (2048, 2448)\n",
      "im90 shape is :  (1024, 1224)\n",
      "Stokes time:  0.028985261917114258 s\n",
      "im_stokes0 shape is :  (1024, 1224)\n",
      "DoLP time:  0.032980918884277344 s\n",
      "im_DOLP shape is :  (1024, 1224)\n",
      "Time for DOLP2Theta conversion is :  21.12091851234436 seconds\n",
      "False\n",
      "AoLP time:  0.0419764518737793 s\n"
     ]
    },
    {
     "name": "stderr",
     "output_type": "stream",
     "text": [
      "\n",
      " 48%|██████████████████████████████████████▍                                         | 108/225 [39:51<42:46, 21.94s/it]"
     ]
    },
    {
     "name": "stdout",
     "output_type": "stream",
     "text": [
      "Processing data for material : WATER\n",
      "image_data shape is :  (2048, 2448)\n",
      "im90 shape is :  (1024, 1224)\n",
      "Stokes time:  0.023986101150512695 s\n",
      "im_stokes0 shape is :  (1024, 1224)\n",
      "DoLP time:  0.035979509353637695 s\n",
      "im_DOLP shape is :  (1024, 1224)\n",
      "Time for DOLP2Theta conversion is :  21.51669454574585 seconds\n",
      "False\n",
      "AoLP time:  0.039978981018066406 s\n"
     ]
    },
    {
     "name": "stderr",
     "output_type": "stream",
     "text": [
      "\n",
      " 48%|██████████████████████████████████████▊                                         | 109/225 [40:13<42:34, 22.02s/it]"
     ]
    },
    {
     "name": "stdout",
     "output_type": "stream",
     "text": [
      "Processing data for material : WATER\n",
      "image_data shape is :  (2048, 2448)\n",
      "im90 shape is :  (1024, 1224)\n",
      "Stokes time:  0.027983665466308594 s\n",
      "im_stokes0 shape is :  (1024, 1224)\n",
      "DoLP time:  0.032980918884277344 s\n",
      "im_DOLP shape is :  (1024, 1224)\n",
      "Time for DOLP2Theta conversion is :  21.41974925994873 seconds\n",
      "False\n",
      "AoLP time:  0.04097628593444824 s\n"
     ]
    },
    {
     "name": "stderr",
     "output_type": "stream",
     "text": [
      "\n",
      " 49%|███████████████████████████████████████                                         | 110/225 [40:35<42:15, 22.05s/it]"
     ]
    },
    {
     "name": "stdout",
     "output_type": "stream",
     "text": [
      "Processing data for material : WATER\n",
      "image_data shape is :  (2048, 2448)\n",
      "im90 shape is :  (1024, 1224)\n",
      "Stokes time:  0.027984142303466797 s\n",
      "im_stokes0 shape is :  (1024, 1224)\n",
      "DoLP time:  0.03397989273071289 s\n",
      "im_DOLP shape is :  (1024, 1224)\n",
      "Time for DOLP2Theta conversion is :  21.286824941635132 seconds\n",
      "False\n",
      "AoLP time:  0.04297685623168945 s\n"
     ]
    },
    {
     "name": "stderr",
     "output_type": "stream",
     "text": [
      "\n",
      " 49%|███████████████████████████████████████▍                                        | 111/225 [40:57<41:48, 22.01s/it]"
     ]
    },
    {
     "name": "stdout",
     "output_type": "stream",
     "text": [
      "Processing data for material : WATER\n",
      "image_data shape is :  (2048, 2448)\n",
      "im90 shape is :  (1024, 1224)\n",
      "Stokes time:  0.0259857177734375 s\n",
      "im_stokes0 shape is :  (1024, 1224)\n",
      "DoLP time:  0.031981706619262695 s\n",
      "im_DOLP shape is :  (1024, 1224)\n",
      "Time for DOLP2Theta conversion is :  21.5296847820282 seconds\n",
      "False\n",
      "AoLP time:  0.04296302795410156 s\n"
     ]
    },
    {
     "name": "stderr",
     "output_type": "stream",
     "text": [
      "\n",
      " 50%|███████████████████████████████████████▊                                        | 112/225 [41:19<41:32, 22.06s/it]"
     ]
    },
    {
     "name": "stdout",
     "output_type": "stream",
     "text": [
      "Processing data for material : WATER\n",
      "image_data shape is :  (2048, 2448)\n",
      "im90 shape is :  (1024, 1224)\n",
      "Stokes time:  0.024985551834106445 s\n",
      "im_stokes0 shape is :  (1024, 1224)\n",
      "DoLP time:  0.035977840423583984 s\n",
      "im_DOLP shape is :  (1024, 1224)\n",
      "Time for DOLP2Theta conversion is :  21.348790884017944 seconds\n",
      "False\n",
      "AoLP time:  0.039975881576538086 s\n"
     ]
    },
    {
     "name": "stderr",
     "output_type": "stream",
     "text": [
      "\n",
      " 50%|████████████████████████████████████████▏                                       | 113/225 [41:41<41:09, 22.05s/it]"
     ]
    },
    {
     "name": "stdout",
     "output_type": "stream",
     "text": [
      "Processing data for material : WATER\n",
      "image_data shape is :  (2048, 2448)\n",
      "im90 shape is :  (1024, 1224)\n",
      "Stokes time:  0.02498650550842285 s\n",
      "im_stokes0 shape is :  (1024, 1224)\n",
      "DoLP time:  0.03398013114929199 s\n",
      "im_DOLP shape is :  (1024, 1224)\n",
      "Time for DOLP2Theta conversion is :  21.165894508361816 seconds\n",
      "False\n",
      "AoLP time:  0.04797172546386719 s\n"
     ]
    },
    {
     "name": "stderr",
     "output_type": "stream",
     "text": [
      "\n",
      " 51%|████████████████████████████████████████▌                                       | 114/225 [42:03<40:40, 21.99s/it]"
     ]
    },
    {
     "name": "stdout",
     "output_type": "stream",
     "text": [
      "Processing data for material : WATER\n",
      "image_data shape is :  (2048, 2448)\n",
      "im90 shape is :  (1024, 1224)\n",
      "Stokes time:  0.026984691619873047 s\n",
      "im_stokes0 shape is :  (1024, 1224)\n",
      "DoLP time:  0.03697919845581055 s\n",
      "im_DOLP shape is :  (1024, 1224)\n",
      "Time for DOLP2Theta conversion is :  21.35478687286377 seconds\n",
      "False\n",
      "AoLP time:  0.047972679138183594 s\n"
     ]
    },
    {
     "name": "stderr",
     "output_type": "stream",
     "text": [
      "\n",
      " 51%|████████████████████████████████████████▉                                       | 115/225 [42:25<40:20, 22.01s/it]"
     ]
    },
    {
     "name": "stdout",
     "output_type": "stream",
     "text": [
      "Processing data for material : WATER\n",
      "image_data shape is :  (2048, 2448)\n",
      "im90 shape is :  (1024, 1224)\n",
      "Stokes time:  0.02798318862915039 s\n",
      "im_stokes0 shape is :  (1024, 1224)\n",
      "DoLP time:  0.03797769546508789 s\n",
      "im_DOLP shape is :  (1024, 1224)\n",
      "Time for DOLP2Theta conversion is :  21.175888776779175 seconds\n",
      "False\n",
      "AoLP time:  0.04797029495239258 s\n"
     ]
    },
    {
     "name": "stderr",
     "output_type": "stream",
     "text": [
      "\n",
      " 52%|█████████████████████████████████████████▏                                      | 116/225 [42:47<39:53, 21.96s/it]"
     ]
    },
    {
     "name": "stdout",
     "output_type": "stream",
     "text": [
      "Processing data for material : WATER\n",
      "image_data shape is :  (2048, 2448)\n",
      "im90 shape is :  (1024, 1224)\n",
      "Stokes time:  0.025984764099121094 s\n",
      "im_stokes0 shape is :  (1024, 1224)\n",
      "DoLP time:  0.0319828987121582 s\n",
      "im_DOLP shape is :  (1024, 1224)\n",
      "Time for DOLP2Theta conversion is :  21.58965253829956 seconds\n",
      "False\n",
      "AoLP time:  0.04097628593444824 s\n"
     ]
    },
    {
     "name": "stderr",
     "output_type": "stream",
     "text": [
      "\n",
      " 52%|█████████████████████████████████████████▌                                      | 117/225 [43:09<39:41, 22.05s/it]"
     ]
    },
    {
     "name": "stdout",
     "output_type": "stream",
     "text": [
      "Processing data for material : WATER\n",
      "image_data shape is :  (2048, 2448)\n",
      "im90 shape is :  (1024, 1224)\n",
      "Stokes time:  0.025984764099121094 s\n",
      "im_stokes0 shape is :  (1024, 1224)\n",
      "DoLP time:  0.03697800636291504 s\n",
      "im_DOLP shape is :  (1024, 1224)\n",
      "Time for DOLP2Theta conversion is :  21.43273949623108 seconds\n",
      "False\n",
      "AoLP time:  0.042975425720214844 s\n"
     ]
    },
    {
     "name": "stderr",
     "output_type": "stream",
     "text": [
      "\n",
      " 52%|█████████████████████████████████████████▉                                      | 118/225 [43:31<39:22, 22.08s/it]"
     ]
    },
    {
     "name": "stdout",
     "output_type": "stream",
     "text": [
      "Processing data for material : WATER\n",
      "image_data shape is :  (2048, 2448)\n",
      "im90 shape is :  (1024, 1224)\n",
      "Stokes time:  0.02498626708984375 s\n",
      "im_stokes0 shape is :  (1024, 1224)\n",
      "DoLP time:  0.03497958183288574 s\n",
      "im_DOLP shape is :  (1024, 1224)\n",
      "Time for DOLP2Theta conversion is :  21.650617122650146 seconds\n",
      "False\n",
      "AoLP time:  0.04197406768798828 s\n"
     ]
    },
    {
     "name": "stderr",
     "output_type": "stream",
     "text": [
      "\n",
      " 53%|██████████████████████████████████████████▎                                     | 119/225 [43:54<39:07, 22.14s/it]"
     ]
    },
    {
     "name": "stdout",
     "output_type": "stream",
     "text": [
      "Processing data for material : WATER\n",
      "image_data shape is :  (2048, 2448)\n",
      "im90 shape is :  (1024, 1224)\n",
      "Stokes time:  0.02298879623413086 s\n",
      "im_stokes0 shape is :  (1024, 1224)\n",
      "DoLP time:  0.03498125076293945 s\n",
      "im_DOLP shape is :  (1024, 1224)\n",
      "Time for DOLP2Theta conversion is :  21.647619247436523 seconds\n",
      "False\n",
      "AoLP time:  0.04697537422180176 s\n"
     ]
    },
    {
     "name": "stderr",
     "output_type": "stream",
     "text": [
      "\n",
      " 53%|██████████████████████████████████████████▋                                     | 120/225 [44:16<38:50, 22.20s/it]"
     ]
    },
    {
     "name": "stdout",
     "output_type": "stream",
     "text": [
      "Processing data for material : WATER\n",
      "image_data shape is :  (2048, 2448)\n",
      "im90 shape is :  (1024, 1224)\n",
      "Stokes time:  0.02498650550842285 s\n",
      "im_stokes0 shape is :  (1024, 1224)\n",
      "DoLP time:  0.03597760200500488 s\n",
      "im_DOLP shape is :  (1024, 1224)\n",
      "Time for DOLP2Theta conversion is :  21.588651657104492 seconds\n",
      "False\n",
      "AoLP time:  0.04697442054748535 s\n"
     ]
    },
    {
     "name": "stderr",
     "output_type": "stream",
     "text": [
      "\n",
      " 54%|███████████████████████████████████████████                                     | 121/225 [44:38<38:30, 22.21s/it]"
     ]
    },
    {
     "name": "stdout",
     "output_type": "stream",
     "text": [
      "Processing data for material : WATER\n",
      "image_data shape is :  (2048, 2448)\n",
      "im90 shape is :  (1024, 1224)\n",
      "Stokes time:  0.023985624313354492 s\n",
      "im_stokes0 shape is :  (1024, 1224)\n",
      "DoLP time:  0.03298044204711914 s\n",
      "im_DOLP shape is :  (1024, 1224)\n",
      "Time for DOLP2Theta conversion is :  21.638623237609863 seconds\n",
      "False\n",
      "AoLP time:  0.04196739196777344 s\n"
     ]
    },
    {
     "name": "stderr",
     "output_type": "stream",
     "text": [
      "\n",
      " 54%|███████████████████████████████████████████▍                                    | 122/225 [45:01<38:11, 22.25s/it]"
     ]
    },
    {
     "name": "stdout",
     "output_type": "stream",
     "text": [
      "Processing data for material : WATER\n",
      "image_data shape is :  (2048, 2448)\n",
      "im90 shape is :  (1024, 1224)\n",
      "Stokes time:  0.0279848575592041 s\n",
      "im_stokes0 shape is :  (1024, 1224)\n",
      "DoLP time:  0.03597903251647949 s\n",
      "im_DOLP shape is :  (1024, 1224)\n",
      "Time for DOLP2Theta conversion is :  21.28482723236084 seconds\n",
      "False\n",
      "AoLP time:  0.04996943473815918 s\n"
     ]
    },
    {
     "name": "stderr",
     "output_type": "stream",
     "text": [
      "\n",
      " 55%|███████████████████████████████████████████▋                                    | 123/225 [45:23<37:39, 22.16s/it]"
     ]
    },
    {
     "name": "stdout",
     "output_type": "stream",
     "text": [
      "Processing data for material : WATER\n",
      "image_data shape is :  (2048, 2448)\n",
      "im90 shape is :  (1024, 1224)\n",
      "Stokes time:  0.02398681640625 s\n",
      "im_stokes0 shape is :  (1024, 1224)\n",
      "DoLP time:  0.03597879409790039 s\n",
      "im_DOLP shape is :  (1024, 1224)\n",
      "Time for DOLP2Theta conversion is :  20.9839985370636 seconds\n",
      "False\n",
      "AoLP time:  0.04197502136230469 s\n"
     ]
    },
    {
     "name": "stderr",
     "output_type": "stream",
     "text": [
      "\n",
      " 55%|████████████████████████████████████████████                                    | 124/225 [45:44<37:00, 21.99s/it]"
     ]
    },
    {
     "name": "stdout",
     "output_type": "stream",
     "text": [
      "Processing data for material : WATER\n",
      "image_data shape is :  (2048, 2448)\n",
      "im90 shape is :  (1024, 1224)\n",
      "Stokes time:  0.025985002517700195 s\n",
      "im_stokes0 shape is :  (1024, 1224)\n",
      "DoLP time:  0.030981779098510742 s\n",
      "im_DOLP shape is :  (1024, 1224)\n",
      "Time for DOLP2Theta conversion is :  21.318806409835815 seconds\n",
      "False\n",
      "AoLP time:  0.04297518730163574 s\n"
     ]
    },
    {
     "name": "stderr",
     "output_type": "stream",
     "text": [
      "\n",
      " 56%|████████████████████████████████████████████▍                                   | 125/225 [46:06<36:38, 21.98s/it]"
     ]
    },
    {
     "name": "stdout",
     "output_type": "stream",
     "text": [
      "Processing data for material : WATER\n",
      "image_data shape is :  (2048, 2448)\n",
      "im90 shape is :  (1024, 1224)\n",
      "Stokes time:  0.02398824691772461 s\n",
      "im_stokes0 shape is :  (1024, 1224)\n",
      "DoLP time:  0.03298139572143555 s\n",
      "im_DOLP shape is :  (1024, 1224)\n",
      "Time for DOLP2Theta conversion is :  21.181885242462158 seconds\n",
      "False\n",
      "AoLP time:  0.04197502136230469 s\n"
     ]
    },
    {
     "name": "stderr",
     "output_type": "stream",
     "text": [
      "\n",
      " 56%|████████████████████████████████████████████▊                                   | 126/225 [46:28<36:13, 21.95s/it]"
     ]
    },
    {
     "name": "stdout",
     "output_type": "stream",
     "text": [
      "Processing data for material : WATER\n",
      "image_data shape is :  (2048, 2448)\n",
      "im90 shape is :  (1024, 1224)\n",
      "Stokes time:  0.02798151969909668 s\n",
      "im_stokes0 shape is :  (1024, 1224)\n",
      "DoLP time:  0.03398013114929199 s\n",
      "im_DOLP shape is :  (1024, 1224)\n",
      "Time for DOLP2Theta conversion is :  21.35678458213806 seconds\n",
      "False\n",
      "AoLP time:  0.04497098922729492 s\n"
     ]
    },
    {
     "name": "stderr",
     "output_type": "stream",
     "text": [
      "\n",
      " 56%|█████████████████████████████████████████████▏                                  | 127/225 [46:50<35:54, 21.98s/it]"
     ]
    },
    {
     "name": "stdout",
     "output_type": "stream",
     "text": [
      "Processing data for material : WATER\n",
      "image_data shape is :  (2048, 2448)\n",
      "im90 shape is :  (1024, 1224)\n",
      "Stokes time:  0.025986194610595703 s\n",
      "im_stokes0 shape is :  (1024, 1224)\n",
      "DoLP time:  0.03897738456726074 s\n",
      "im_DOLP shape is :  (1024, 1224)\n",
      "Time for DOLP2Theta conversion is :  21.300817728042603 seconds\n",
      "False\n",
      "AoLP time:  0.04597353935241699 s\n"
     ]
    },
    {
     "name": "stderr",
     "output_type": "stream",
     "text": [
      "\n",
      " 57%|█████████████████████████████████████████████▌                                  | 128/225 [47:12<35:32, 21.99s/it]"
     ]
    },
    {
     "name": "stdout",
     "output_type": "stream",
     "text": [
      "Processing data for material : WATER\n",
      "image_data shape is :  (2048, 2448)\n",
      "im90 shape is :  (1024, 1224)\n",
      "Stokes time:  0.025983095169067383 s\n",
      "im_stokes0 shape is :  (1024, 1224)\n",
      "DoLP time:  0.0319821834564209 s\n",
      "im_DOLP shape is :  (1024, 1224)\n",
      "Time for DOLP2Theta conversion is :  21.543678283691406 seconds\n",
      "False\n",
      "AoLP time:  0.048970937728881836 s\n"
     ]
    },
    {
     "name": "stderr",
     "output_type": "stream",
     "text": [
      "\n",
      " 57%|█████████████████████████████████████████████▊                                  | 129/225 [47:34<35:16, 22.05s/it]"
     ]
    },
    {
     "name": "stdout",
     "output_type": "stream",
     "text": [
      "Processing data for material : WATER\n",
      "image_data shape is :  (2048, 2448)\n",
      "im90 shape is :  (1024, 1224)\n",
      "Stokes time:  0.025983572006225586 s\n",
      "im_stokes0 shape is :  (1024, 1224)\n",
      "DoLP time:  0.03897738456726074 s\n",
      "im_DOLP shape is :  (1024, 1224)\n",
      "Time for DOLP2Theta conversion is :  21.54068112373352 seconds\n",
      "False\n",
      "AoLP time:  0.040978193283081055 s\n"
     ]
    },
    {
     "name": "stderr",
     "output_type": "stream",
     "text": [
      "\n",
      " 58%|██████████████████████████████████████████████▏                                 | 130/225 [47:56<35:00, 22.11s/it]"
     ]
    },
    {
     "name": "stdout",
     "output_type": "stream",
     "text": [
      "Processing data for material : WATER\n",
      "image_data shape is :  (2048, 2448)\n",
      "im90 shape is :  (1024, 1224)\n",
      "Stokes time:  0.02498602867126465 s\n",
      "im_stokes0 shape is :  (1024, 1224)\n",
      "DoLP time:  0.0359797477722168 s\n",
      "im_DOLP shape is :  (1024, 1224)\n",
      "Time for DOLP2Theta conversion is :  21.578657150268555 seconds\n",
      "False\n",
      "AoLP time:  0.040976762771606445 s\n"
     ]
    },
    {
     "name": "stderr",
     "output_type": "stream",
     "text": [
      "\n",
      " 58%|██████████████████████████████████████████████▌                                 | 131/225 [48:19<34:41, 22.14s/it]"
     ]
    },
    {
     "name": "stdout",
     "output_type": "stream",
     "text": [
      "Processing data for material : WATER\n",
      "image_data shape is :  (2048, 2448)\n",
      "im90 shape is :  (1024, 1224)\n",
      "Stokes time:  0.02598428726196289 s\n",
      "im_stokes0 shape is :  (1024, 1224)\n",
      "DoLP time:  0.038977861404418945 s\n",
      "im_DOLP shape is :  (1024, 1224)\n",
      "Time for DOLP2Theta conversion is :  21.315808534622192 seconds\n",
      "False\n",
      "AoLP time:  0.04297327995300293 s\n"
     ]
    },
    {
     "name": "stderr",
     "output_type": "stream",
     "text": [
      "\n",
      " 59%|██████████████████████████████████████████████▉                                 | 132/225 [48:41<34:13, 22.08s/it]"
     ]
    },
    {
     "name": "stdout",
     "output_type": "stream",
     "text": [
      "Processing data for material : WATER\n",
      "image_data shape is :  (2048, 2448)\n",
      "im90 shape is :  (1024, 1224)\n",
      "Stokes time:  0.023986101150512695 s\n",
      "im_stokes0 shape is :  (1024, 1224)\n",
      "DoLP time:  0.034979820251464844 s\n",
      "im_DOLP shape is :  (1024, 1224)\n",
      "Time for DOLP2Theta conversion is :  21.95244550704956 seconds\n",
      "False\n",
      "AoLP time:  0.039975643157958984 s\n"
     ]
    },
    {
     "name": "stderr",
     "output_type": "stream",
     "text": [
      "\n",
      " 59%|███████████████████████████████████████████████▎                                | 133/225 [49:03<34:05, 22.24s/it]"
     ]
    },
    {
     "name": "stdout",
     "output_type": "stream",
     "text": [
      "Processing data for material : WATER\n",
      "image_data shape is :  (2048, 2448)\n",
      "im90 shape is :  (1024, 1224)\n",
      "Stokes time:  0.028983354568481445 s\n",
      "im_stokes0 shape is :  (1024, 1224)\n",
      "DoLP time:  0.0359807014465332 s\n",
      "im_DOLP shape is :  (1024, 1224)\n",
      "Time for DOLP2Theta conversion is :  21.297819137573242 seconds\n",
      "False\n",
      "AoLP time:  0.04697275161743164 s\n"
     ]
    },
    {
     "name": "stderr",
     "output_type": "stream",
     "text": [
      "\n",
      " 60%|███████████████████████████████████████████████▋                                | 134/225 [49:25<33:37, 22.17s/it]"
     ]
    },
    {
     "name": "stdout",
     "output_type": "stream",
     "text": [
      "Processing data for material : WATER\n",
      "image_data shape is :  (2048, 2448)\n",
      "im90 shape is :  (1024, 1224)\n",
      "Stokes time:  0.02598428726196289 s\n",
      "im_stokes0 shape is :  (1024, 1224)\n",
      "DoLP time:  0.03897738456726074 s\n",
      "im_DOLP shape is :  (1024, 1224)\n",
      "Time for DOLP2Theta conversion is :  21.40975570678711 seconds\n",
      "False\n",
      "AoLP time:  0.042975425720214844 s\n"
     ]
    },
    {
     "name": "stderr",
     "output_type": "stream",
     "text": [
      "\n",
      " 60%|████████████████████████████████████████████████                                | 135/225 [49:47<33:13, 22.15s/it]"
     ]
    },
    {
     "name": "stdout",
     "output_type": "stream",
     "text": [
      "Processing data for material : WATER\n",
      "image_data shape is :  (2048, 2448)\n",
      "im90 shape is :  (1024, 1224)\n",
      "Stokes time:  0.025984525680541992 s\n",
      "im_stokes0 shape is :  (1024, 1224)\n",
      "DoLP time:  0.03398013114929199 s\n",
      "im_DOLP shape is :  (1024, 1224)\n",
      "Time for DOLP2Theta conversion is :  21.586652755737305 seconds\n",
      "False\n",
      "AoLP time:  0.04597282409667969 s\n"
     ]
    },
    {
     "name": "stderr",
     "output_type": "stream",
     "text": [
      "\n",
      " 60%|████████████████████████████████████████████████▎                               | 136/225 [50:10<32:53, 22.18s/it]"
     ]
    },
    {
     "name": "stdout",
     "output_type": "stream",
     "text": [
      "Processing data for material : WATER\n",
      "image_data shape is :  (2048, 2448)\n",
      "im90 shape is :  (1024, 1224)\n",
      "Stokes time:  0.02598404884338379 s\n",
      "im_stokes0 shape is :  (1024, 1224)\n",
      "DoLP time:  0.034979820251464844 s\n",
      "im_DOLP shape is :  (1024, 1224)\n",
      "Time for DOLP2Theta conversion is :  21.406755685806274 seconds\n",
      "False\n",
      "AoLP time:  0.04297327995300293 s\n"
     ]
    },
    {
     "name": "stderr",
     "output_type": "stream",
     "text": [
      "\n",
      " 61%|████████████████████████████████████████████████▋                               | 137/225 [50:32<32:28, 22.14s/it]"
     ]
    },
    {
     "name": "stdout",
     "output_type": "stream",
     "text": [
      "Processing data for material : WATER\n",
      "image_data shape is :  (2048, 2448)\n",
      "im90 shape is :  (1024, 1224)\n",
      "Stokes time:  0.02498483657836914 s\n",
      "im_stokes0 shape is :  (1024, 1224)\n",
      "DoLP time:  0.03497910499572754 s\n",
      "im_DOLP shape is :  (1024, 1224)\n",
      "Time for DOLP2Theta conversion is :  21.283825397491455 seconds\n",
      "False\n",
      "AoLP time:  0.058966636657714844 s\n"
     ]
    },
    {
     "name": "stderr",
     "output_type": "stream",
     "text": [
      "\n",
      " 61%|█████████████████████████████████████████████████                               | 138/225 [50:54<32:01, 22.09s/it]"
     ]
    },
    {
     "name": "stdout",
     "output_type": "stream",
     "text": [
      "Processing data for material : WATER\n",
      "image_data shape is :  (2048, 2448)\n",
      "im90 shape is :  (1024, 1224)\n",
      "Stokes time:  0.026984214782714844 s\n",
      "im_stokes0 shape is :  (1024, 1224)\n",
      "DoLP time:  0.042975664138793945 s\n",
      "im_DOLP shape is :  (1024, 1224)\n",
      "Time for DOLP2Theta conversion is :  21.56266760826111 seconds\n",
      "False\n",
      "AoLP time:  0.04097461700439453 s\n"
     ]
    },
    {
     "name": "stderr",
     "output_type": "stream",
     "text": [
      "\n",
      " 62%|█████████████████████████████████████████████████▍                              | 139/225 [51:16<31:42, 22.13s/it]"
     ]
    },
    {
     "name": "stdout",
     "output_type": "stream",
     "text": [
      "Processing data for material : WATER\n",
      "image_data shape is :  (2048, 2448)\n",
      "im90 shape is :  (1024, 1224)\n",
      "Stokes time:  0.0279848575592041 s\n",
      "im_stokes0 shape is :  (1024, 1224)\n",
      "DoLP time:  0.03497958183288574 s\n",
      "im_DOLP shape is :  (1024, 1224)\n",
      "Time for DOLP2Theta conversion is :  21.407755851745605 seconds\n",
      "False\n",
      "AoLP time:  0.040978193283081055 s\n"
     ]
    },
    {
     "name": "stderr",
     "output_type": "stream",
     "text": [
      "\n",
      " 62%|█████████████████████████████████████████████████▊                              | 140/225 [51:38<31:20, 22.12s/it]"
     ]
    },
    {
     "name": "stdout",
     "output_type": "stream",
     "text": [
      "Processing data for material : WATER\n",
      "image_data shape is :  (2048, 2448)\n",
      "im90 shape is :  (1024, 1224)\n",
      "Stokes time:  0.02498626708984375 s\n",
      "im_stokes0 shape is :  (1024, 1224)\n",
      "DoLP time:  0.03298020362854004 s\n",
      "im_DOLP shape is :  (1024, 1224)\n",
      "Time for DOLP2Theta conversion is :  20.88605570793152 seconds\n",
      "False\n",
      "AoLP time:  0.039977073669433594 s\n"
     ]
    },
    {
     "name": "stderr",
     "output_type": "stream",
     "text": [
      "\n",
      " 63%|██████████████████████████████████████████████████▏                             | 141/225 [51:59<30:44, 21.95s/it]"
     ]
    },
    {
     "name": "stdout",
     "output_type": "stream",
     "text": [
      "Processing data for material : WATER\n",
      "image_data shape is :  (2048, 2448)\n",
      "im90 shape is :  (1024, 1224)\n",
      "Stokes time:  0.026984453201293945 s\n",
      "im_stokes0 shape is :  (1024, 1224)\n",
      "DoLP time:  0.03298163414001465 s\n",
      "im_DOLP shape is :  (1024, 1224)\n",
      "Time for DOLP2Theta conversion is :  23.029828310012817 seconds\n",
      "False\n",
      "AoLP time:  0.04597282409667969 s\n"
     ]
    },
    {
     "name": "stderr",
     "output_type": "stream",
     "text": [
      "\n",
      " 63%|██████████████████████████████████████████████████▍                             | 142/225 [52:23<31:05, 22.48s/it]"
     ]
    },
    {
     "name": "stdout",
     "output_type": "stream",
     "text": [
      "Processing data for material : WATER\n",
      "image_data shape is :  (2048, 2448)\n",
      "im90 shape is :  (1024, 1224)\n",
      "Stokes time:  0.02698493003845215 s\n",
      "im_stokes0 shape is :  (1024, 1224)\n",
      "DoLP time:  0.0339815616607666 s\n",
      "im_DOLP shape is :  (1024, 1224)\n",
      "Time for DOLP2Theta conversion is :  22.86492371559143 seconds\n",
      "False\n",
      "AoLP time:  0.04097795486450195 s\n"
     ]
    },
    {
     "name": "stderr",
     "output_type": "stream",
     "text": [
      "\n",
      " 64%|██████████████████████████████████████████████████▊                             | 143/225 [52:47<31:09, 22.79s/it]"
     ]
    },
    {
     "name": "stdout",
     "output_type": "stream",
     "text": [
      "Processing data for material : WATER\n",
      "image_data shape is :  (2048, 2448)\n",
      "im90 shape is :  (1024, 1224)\n",
      "Stokes time:  0.026985883712768555 s\n",
      "im_stokes0 shape is :  (1024, 1224)\n",
      "DoLP time:  0.03497910499572754 s\n",
      "im_DOLP shape is :  (1024, 1224)\n",
      "Time for DOLP2Theta conversion is :  22.851930856704712 seconds\n",
      "False\n",
      "AoLP time:  0.04297375679016113 s\n"
     ]
    },
    {
     "name": "stderr",
     "output_type": "stream",
     "text": [
      "\n",
      " 64%|███████████████████████████████████████████████████▏                            | 144/225 [53:10<31:04, 23.02s/it]"
     ]
    },
    {
     "name": "stdout",
     "output_type": "stream",
     "text": [
      "Processing data for material : WATER\n",
      "image_data shape is :  (2048, 2448)\n",
      "im90 shape is :  (1024, 1224)\n",
      "Stokes time:  0.02498483657836914 s\n",
      "im_stokes0 shape is :  (1024, 1224)\n",
      "DoLP time:  0.03397965431213379 s\n",
      "im_DOLP shape is :  (1024, 1224)\n",
      "Time for DOLP2Theta conversion is :  23.428601026535034 seconds\n",
      "False\n",
      "AoLP time:  0.04497385025024414 s\n"
     ]
    },
    {
     "name": "stderr",
     "output_type": "stream",
     "text": [
      "\n",
      " 64%|███████████████████████████████████████████████████▌                            | 145/225 [53:34<31:08, 23.36s/it]"
     ]
    },
    {
     "name": "stdout",
     "output_type": "stream",
     "text": [
      "Processing data for material : WATER\n",
      "image_data shape is :  (2048, 2448)\n",
      "im90 shape is :  (1024, 1224)\n",
      "Stokes time:  0.02798295021057129 s\n",
      "im_stokes0 shape is :  (1024, 1224)\n",
      "DoLP time:  0.03198099136352539 s\n",
      "im_DOLP shape is :  (1024, 1224)\n",
      "Time for DOLP2Theta conversion is :  22.67203187942505 seconds\n",
      "False\n",
      "AoLP time:  0.04897022247314453 s\n"
     ]
    },
    {
     "name": "stderr",
     "output_type": "stream",
     "text": [
      "\n",
      " 65%|███████████████████████████████████████████████████▉                            | 146/225 [53:58<30:45, 23.36s/it]"
     ]
    },
    {
     "name": "stdout",
     "output_type": "stream",
     "text": [
      "Processing data for material : WATER\n",
      "image_data shape is :  (2048, 2448)\n",
      "im90 shape is :  (1024, 1224)\n",
      "Stokes time:  0.030981779098510742 s\n",
      "im_stokes0 shape is :  (1024, 1224)\n",
      "DoLP time:  0.04697299003601074 s\n",
      "im_DOLP shape is :  (1024, 1224)\n",
      "Time for DOLP2Theta conversion is :  22.917892456054688 seconds\n",
      "False\n",
      "AoLP time:  0.03997659683227539 s\n"
     ]
    },
    {
     "name": "stderr",
     "output_type": "stream",
     "text": [
      "\n",
      " 65%|████████████████████████████████████████████████████▎                           | 147/225 [54:21<30:27, 23.43s/it]"
     ]
    },
    {
     "name": "stdout",
     "output_type": "stream",
     "text": [
      "Processing data for material : WATER\n",
      "image_data shape is :  (2048, 2448)\n",
      "im90 shape is :  (1024, 1224)\n",
      "Stokes time:  0.024984121322631836 s\n",
      "im_stokes0 shape is :  (1024, 1224)\n",
      "DoLP time:  0.03497934341430664 s\n",
      "im_DOLP shape is :  (1024, 1224)\n",
      "Time for DOLP2Theta conversion is :  22.234283208847046 seconds\n",
      "False\n",
      "AoLP time:  0.04097485542297363 s\n"
     ]
    },
    {
     "name": "stderr",
     "output_type": "stream",
     "text": [
      "\n",
      " 66%|████████████████████████████████████████████████████▌                           | 148/225 [54:44<29:50, 23.26s/it]"
     ]
    },
    {
     "name": "stdout",
     "output_type": "stream",
     "text": [
      "Processing data for material : WATER\n",
      "image_data shape is :  (2048, 2448)\n",
      "im90 shape is :  (1024, 1224)\n",
      "Stokes time:  0.024985551834106445 s\n",
      "im_stokes0 shape is :  (1024, 1224)\n",
      "DoLP time:  0.032981157302856445 s\n",
      "im_DOLP shape is :  (1024, 1224)\n",
      "Time for DOLP2Theta conversion is :  21.5846529006958 seconds\n",
      "False\n",
      "AoLP time:  0.04497337341308594 s\n"
     ]
    },
    {
     "name": "stderr",
     "output_type": "stream",
     "text": [
      "\n",
      " 66%|████████████████████████████████████████████████████▉                           | 149/225 [55:06<29:05, 22.97s/it]"
     ]
    },
    {
     "name": "stdout",
     "output_type": "stream",
     "text": [
      "Processing data for material : WATER\n",
      "image_data shape is :  (2048, 2448)\n",
      "im90 shape is :  (1024, 1224)\n",
      "Stokes time:  0.027984142303466797 s\n",
      "im_stokes0 shape is :  (1024, 1224)\n",
      "DoLP time:  0.039977312088012695 s\n",
      "im_DOLP shape is :  (1024, 1224)\n",
      "Time for DOLP2Theta conversion is :  21.22186255455017 seconds\n",
      "False\n",
      "AoLP time:  0.039977312088012695 s\n"
     ]
    },
    {
     "name": "stderr",
     "output_type": "stream",
     "text": [
      "\n",
      " 67%|█████████████████████████████████████████████████████▎                          | 150/225 [55:28<28:17, 22.63s/it]"
     ]
    },
    {
     "name": "stdout",
     "output_type": "stream",
     "text": [
      "Processing data for material : WATER\n",
      "image_data shape is :  (2048, 2448)\n",
      "im90 shape is :  (1024, 1224)\n",
      "Stokes time:  0.025983333587646484 s\n",
      "im_stokes0 shape is :  (1024, 1224)\n",
      "DoLP time:  0.036978960037231445 s\n",
      "im_DOLP shape is :  (1024, 1224)\n",
      "Time for DOLP2Theta conversion is :  20.998990774154663 seconds\n",
      "False\n",
      "AoLP time:  0.039975643157958984 s\n"
     ]
    },
    {
     "name": "stderr",
     "output_type": "stream",
     "text": [
      "\n",
      " 67%|█████████████████████████████████████████████████████▋                          | 151/225 [55:50<27:32, 22.33s/it]"
     ]
    },
    {
     "name": "stdout",
     "output_type": "stream",
     "text": [
      "Processing data for material : WATER\n",
      "image_data shape is :  (2048, 2448)\n",
      "im90 shape is :  (1024, 1224)\n",
      "Stokes time:  0.02698493003845215 s\n",
      "im_stokes0 shape is :  (1024, 1224)\n",
      "DoLP time:  0.0399775505065918 s\n",
      "im_DOLP shape is :  (1024, 1224)\n",
      "Time for DOLP2Theta conversion is :  21.08094334602356 seconds\n",
      "False\n",
      "AoLP time:  0.04197406768798828 s\n"
     ]
    },
    {
     "name": "stderr",
     "output_type": "stream",
     "text": [
      "\n",
      " 68%|██████████████████████████████████████████████████████                          | 152/225 [56:12<26:58, 22.17s/it]"
     ]
    },
    {
     "name": "stdout",
     "output_type": "stream",
     "text": [
      "Processing data for material : WATER\n",
      "image_data shape is :  (2048, 2448)\n",
      "im90 shape is :  (1024, 1224)\n",
      "Stokes time:  0.026983261108398438 s\n",
      "im_stokes0 shape is :  (1024, 1224)\n",
      "DoLP time:  0.03397965431213379 s\n",
      "im_DOLP shape is :  (1024, 1224)\n",
      "Time for DOLP2Theta conversion is :  21.49070930480957 seconds\n",
      "False\n",
      "AoLP time:  0.04397296905517578 s\n"
     ]
    },
    {
     "name": "stderr",
     "output_type": "stream",
     "text": [
      "\n",
      " 68%|██████████████████████████████████████████████████████▍                         | 153/225 [56:34<26:35, 22.16s/it]"
     ]
    },
    {
     "name": "stdout",
     "output_type": "stream",
     "text": [
      "Processing data for material : WATER\n",
      "image_data shape is :  (2048, 2448)\n",
      "im90 shape is :  (1024, 1224)\n",
      "Stokes time:  0.025985002517700195 s\n",
      "im_stokes0 shape is :  (1024, 1224)\n",
      "DoLP time:  0.030981779098510742 s\n",
      "im_DOLP shape is :  (1024, 1224)\n",
      "Time for DOLP2Theta conversion is :  21.377774000167847 seconds\n",
      "False\n",
      "AoLP time:  0.041974782943725586 s\n"
     ]
    },
    {
     "name": "stderr",
     "output_type": "stream",
     "text": [
      "\n",
      " 68%|██████████████████████████████████████████████████████▊                         | 154/225 [56:56<26:11, 22.14s/it]"
     ]
    },
    {
     "name": "stdout",
     "output_type": "stream",
     "text": [
      "Processing data for material : WATER\n",
      "image_data shape is :  (2048, 2448)\n",
      "im90 shape is :  (1024, 1224)\n",
      "Stokes time:  0.026982784271240234 s\n",
      "im_stokes0 shape is :  (1024, 1224)\n",
      "DoLP time:  0.03697919845581055 s\n",
      "im_DOLP shape is :  (1024, 1224)\n",
      "Time for DOLP2Theta conversion is :  21.178886651992798 seconds\n",
      "False\n",
      "AoLP time:  0.039977073669433594 s\n"
     ]
    },
    {
     "name": "stderr",
     "output_type": "stream",
     "text": [
      "\n",
      " 69%|███████████████████████████████████████████████████████                         | 155/225 [57:18<25:43, 22.05s/it]"
     ]
    },
    {
     "name": "stdout",
     "output_type": "stream",
     "text": [
      "Processing data for material : WATER\n",
      "image_data shape is :  (2048, 2448)\n",
      "im90 shape is :  (1024, 1224)\n",
      "Stokes time:  0.025984764099121094 s\n",
      "im_stokes0 shape is :  (1024, 1224)\n",
      "DoLP time:  0.03398013114929199 s\n",
      "im_DOLP shape is :  (1024, 1224)\n",
      "Time for DOLP2Theta conversion is :  21.294819355010986 seconds\n",
      "False\n",
      "AoLP time:  0.04197573661804199 s\n"
     ]
    },
    {
     "name": "stderr",
     "output_type": "stream",
     "text": [
      "\n",
      " 69%|███████████████████████████████████████████████████████▍                        | 156/225 [57:40<25:20, 22.03s/it]"
     ]
    },
    {
     "name": "stdout",
     "output_type": "stream",
     "text": [
      "Processing data for material : WATER\n",
      "image_data shape is :  (2048, 2448)\n",
      "im90 shape is :  (1024, 1224)\n",
      "Stokes time:  0.024985074996948242 s\n",
      "im_stokes0 shape is :  (1024, 1224)\n",
      "DoLP time:  0.03497958183288574 s\n",
      "im_DOLP shape is :  (1024, 1224)\n",
      "Time for DOLP2Theta conversion is :  21.439738273620605 seconds\n",
      "False\n",
      "AoLP time:  0.04197382926940918 s\n"
     ]
    },
    {
     "name": "stderr",
     "output_type": "stream",
     "text": [
      "\n",
      " 70%|███████████████████████████████████████████████████████▊                        | 157/225 [58:02<24:59, 22.05s/it]"
     ]
    },
    {
     "name": "stdout",
     "output_type": "stream",
     "text": [
      "Processing data for material : WATER\n",
      "image_data shape is :  (2048, 2448)\n",
      "im90 shape is :  (1024, 1224)\n",
      "Stokes time:  0.024986743927001953 s\n",
      "im_stokes0 shape is :  (1024, 1224)\n",
      "DoLP time:  0.032980918884277344 s\n",
      "im_DOLP shape is :  (1024, 1224)\n",
      "Time for DOLP2Theta conversion is :  21.409756183624268 seconds\n",
      "False\n",
      "AoLP time:  0.04697442054748535 s\n"
     ]
    },
    {
     "name": "stderr",
     "output_type": "stream",
     "text": [
      "\n",
      " 70%|████████████████████████████████████████████████████████▏                       | 158/225 [58:24<24:39, 22.08s/it]"
     ]
    },
    {
     "name": "stdout",
     "output_type": "stream",
     "text": [
      "Processing data for material : WATER\n",
      "image_data shape is :  (2048, 2448)\n",
      "im90 shape is :  (1024, 1224)\n",
      "Stokes time:  0.02698349952697754 s\n",
      "im_stokes0 shape is :  (1024, 1224)\n",
      "DoLP time:  0.034980058670043945 s\n",
      "im_DOLP shape is :  (1024, 1224)\n",
      "Time for DOLP2Theta conversion is :  21.051960229873657 seconds\n",
      "False\n",
      "AoLP time:  0.043975114822387695 s\n"
     ]
    },
    {
     "name": "stderr",
     "output_type": "stream",
     "text": [
      "\n",
      " 71%|████████████████████████████████████████████████████████▌                       | 159/225 [58:46<24:09, 21.97s/it]"
     ]
    },
    {
     "name": "stdout",
     "output_type": "stream",
     "text": [
      "Processing data for material : WATER\n",
      "image_data shape is :  (2048, 2448)\n",
      "im90 shape is :  (1024, 1224)\n",
      "Stokes time:  0.026982784271240234 s\n",
      "im_stokes0 shape is :  (1024, 1224)\n",
      "DoLP time:  0.04097580909729004 s\n",
      "im_DOLP shape is :  (1024, 1224)\n",
      "Time for DOLP2Theta conversion is :  21.03097128868103 seconds\n",
      "False\n",
      "AoLP time:  0.04297494888305664 s\n"
     ]
    },
    {
     "name": "stderr",
     "output_type": "stream",
     "text": [
      "\n",
      " 71%|████████████████████████████████████████████████████████▉                       | 160/225 [59:07<23:42, 21.88s/it]"
     ]
    },
    {
     "name": "stdout",
     "output_type": "stream",
     "text": [
      "Processing data for material : WATER\n",
      "image_data shape is :  (2048, 2448)\n",
      "im90 shape is :  (1024, 1224)\n",
      "Stokes time:  0.024984121322631836 s\n",
      "im_stokes0 shape is :  (1024, 1224)\n",
      "DoLP time:  0.03797769546508789 s\n",
      "im_DOLP shape is :  (1024, 1224)\n",
      "Time for DOLP2Theta conversion is :  21.372776985168457 seconds\n",
      "False\n",
      "AoLP time:  0.04197549819946289 s\n"
     ]
    },
    {
     "name": "stderr",
     "output_type": "stream",
     "text": [
      "\n",
      " 72%|█████████████████████████████████████████████████████████▏                      | 161/225 [59:29<23:23, 21.92s/it]"
     ]
    },
    {
     "name": "stdout",
     "output_type": "stream",
     "text": [
      "Processing data for material : WATER\n",
      "image_data shape is :  (2048, 2448)\n",
      "im90 shape is :  (1024, 1224)\n",
      "Stokes time:  0.024984121322631836 s\n",
      "im_stokes0 shape is :  (1024, 1224)\n",
      "DoLP time:  0.033978939056396484 s\n",
      "im_DOLP shape is :  (1024, 1224)\n",
      "Time for DOLP2Theta conversion is :  21.13091468811035 seconds\n",
      "False\n",
      "AoLP time:  0.04097437858581543 s\n"
     ]
    },
    {
     "name": "stderr",
     "output_type": "stream",
     "text": [
      "\n",
      " 72%|█████████████████████████████████████████████████████████▌                      | 162/225 [59:51<22:58, 21.88s/it]"
     ]
    },
    {
     "name": "stdout",
     "output_type": "stream",
     "text": [
      "Processing data for material : WATER\n",
      "image_data shape is :  (2048, 2448)\n",
      "im90 shape is :  (1024, 1224)\n",
      "Stokes time:  0.02598428726196289 s\n",
      "im_stokes0 shape is :  (1024, 1224)\n",
      "DoLP time:  0.03797745704650879 s\n",
      "im_DOLP shape is :  (1024, 1224)\n",
      "Time for DOLP2Theta conversion is :  21.160898208618164 seconds\n",
      "False\n",
      "AoLP time:  0.04297304153442383 s\n"
     ]
    },
    {
     "name": "stderr",
     "output_type": "stream",
     "text": [
      "\n",
      " 72%|████████████████████████████████████████████████████████▌                     | 163/225 [1:00:13<22:35, 21.87s/it]"
     ]
    },
    {
     "name": "stdout",
     "output_type": "stream",
     "text": [
      "Processing data for material : WATER\n",
      "image_data shape is :  (2048, 2448)\n",
      "im90 shape is :  (1024, 1224)\n",
      "Stokes time:  0.02498650550842285 s\n",
      "im_stokes0 shape is :  (1024, 1224)\n",
      "DoLP time:  0.034979820251464844 s\n",
      "im_DOLP shape is :  (1024, 1224)\n",
      "Time for DOLP2Theta conversion is :  21.48571228981018 seconds\n",
      "False\n",
      "AoLP time:  0.05196857452392578 s\n"
     ]
    },
    {
     "name": "stderr",
     "output_type": "stream",
     "text": [
      "\n",
      " 73%|████████████████████████████████████████████████████████▊                     | 164/225 [1:00:35<22:19, 21.96s/it]"
     ]
    },
    {
     "name": "stdout",
     "output_type": "stream",
     "text": [
      "Processing data for material : WATER\n",
      "image_data shape is :  (2048, 2448)\n",
      "im90 shape is :  (1024, 1224)\n",
      "Stokes time:  0.026984691619873047 s\n",
      "im_stokes0 shape is :  (1024, 1224)\n",
      "DoLP time:  0.03298187255859375 s\n",
      "im_DOLP shape is :  (1024, 1224)\n",
      "Time for DOLP2Theta conversion is :  21.092936992645264 seconds\n",
      "False\n",
      "AoLP time:  0.041975975036621094 s\n"
     ]
    },
    {
     "name": "stderr",
     "output_type": "stream",
     "text": [
      "\n",
      " 73%|█████████████████████████████████████████████████████████▏                    | 165/225 [1:00:57<21:54, 21.91s/it]"
     ]
    },
    {
     "name": "stdout",
     "output_type": "stream",
     "text": [
      "Processing data for material : WATER\n",
      "image_data shape is :  (2048, 2448)\n",
      "im90 shape is :  (1024, 1224)\n",
      "Stokes time:  0.023985862731933594 s\n",
      "im_stokes0 shape is :  (1024, 1224)\n",
      "DoLP time:  0.0339810848236084 s\n",
      "im_DOLP shape is :  (1024, 1224)\n",
      "Time for DOLP2Theta conversion is :  21.156898975372314 seconds\n",
      "False\n",
      "AoLP time:  0.04397225379943848 s\n"
     ]
    },
    {
     "name": "stderr",
     "output_type": "stream",
     "text": [
      "\n",
      " 74%|█████████████████████████████████████████████████████████▌                    | 166/225 [1:01:19<21:31, 21.89s/it]"
     ]
    },
    {
     "name": "stdout",
     "output_type": "stream",
     "text": [
      "Processing data for material : WATER\n",
      "image_data shape is :  (2048, 2448)\n",
      "im90 shape is :  (1024, 1224)\n",
      "Stokes time:  0.024985313415527344 s\n",
      "im_stokes0 shape is :  (1024, 1224)\n",
      "DoLP time:  0.0359797477722168 s\n",
      "im_DOLP shape is :  (1024, 1224)\n",
      "Time for DOLP2Theta conversion is :  21.17588996887207 seconds\n",
      "False\n",
      "AoLP time:  0.046973466873168945 s\n"
     ]
    },
    {
     "name": "stderr",
     "output_type": "stream",
     "text": [
      "\n",
      " 74%|█████████████████████████████████████████████████████████▉                    | 167/225 [1:01:41<21:09, 21.88s/it]"
     ]
    },
    {
     "name": "stdout",
     "output_type": "stream",
     "text": [
      "Processing data for material : WATER\n",
      "image_data shape is :  (2048, 2448)\n",
      "im90 shape is :  (1024, 1224)\n",
      "Stokes time:  0.026984453201293945 s\n",
      "im_stokes0 shape is :  (1024, 1224)\n",
      "DoLP time:  0.03498077392578125 s\n",
      "im_DOLP shape is :  (1024, 1224)\n",
      "Time for DOLP2Theta conversion is :  21.038966178894043 seconds\n",
      "False\n",
      "AoLP time:  0.0479736328125 s\n"
     ]
    },
    {
     "name": "stderr",
     "output_type": "stream",
     "text": [
      "\n",
      " 75%|██████████████████████████████████████████████████████████▏                   | 168/225 [1:02:02<20:43, 21.82s/it]"
     ]
    },
    {
     "name": "stdout",
     "output_type": "stream",
     "text": [
      "Processing data for material : WATER\n",
      "image_data shape is :  (2048, 2448)\n",
      "im90 shape is :  (1024, 1224)\n",
      "Stokes time:  0.024983644485473633 s\n",
      "im_stokes0 shape is :  (1024, 1224)\n",
      "DoLP time:  0.035978078842163086 s\n",
      "im_DOLP shape is :  (1024, 1224)\n",
      "Time for DOLP2Theta conversion is :  21.56966280937195 seconds\n",
      "False\n",
      "AoLP time:  0.04997134208679199 s\n"
     ]
    },
    {
     "name": "stderr",
     "output_type": "stream",
     "text": [
      "\n",
      " 75%|██████████████████████████████████████████████████████████▌                   | 169/225 [1:02:25<20:29, 21.95s/it]"
     ]
    },
    {
     "name": "stdout",
     "output_type": "stream",
     "text": [
      "Processing data for material : WATER\n",
      "image_data shape is :  (2048, 2448)\n",
      "im90 shape is :  (1024, 1224)\n",
      "Stokes time:  0.026986122131347656 s\n",
      "im_stokes0 shape is :  (1024, 1224)\n",
      "DoLP time:  0.030982017517089844 s\n",
      "im_DOLP shape is :  (1024, 1224)\n",
      "Time for DOLP2Theta conversion is :  21.34179377555847 seconds\n",
      "False\n",
      "AoLP time:  0.04397416114807129 s\n"
     ]
    },
    {
     "name": "stderr",
     "output_type": "stream",
     "text": [
      "\n",
      " 76%|██████████████████████████████████████████████████████████▉                   | 170/225 [1:02:47<20:07, 21.95s/it]"
     ]
    },
    {
     "name": "stdout",
     "output_type": "stream",
     "text": [
      "Processing data for material : WATER\n",
      "image_data shape is :  (2048, 2448)\n",
      "im90 shape is :  (1024, 1224)\n",
      "Stokes time:  0.023986101150512695 s\n",
      "im_stokes0 shape is :  (1024, 1224)\n",
      "DoLP time:  0.03597855567932129 s\n",
      "im_DOLP shape is :  (1024, 1224)\n",
      "Time for DOLP2Theta conversion is :  21.089937925338745 seconds\n",
      "False\n",
      "AoLP time:  0.045973777770996094 s\n"
     ]
    },
    {
     "name": "stderr",
     "output_type": "stream",
     "text": [
      "\n",
      " 76%|███████████████████████████████████████████████████████████▎                  | 171/225 [1:03:08<19:42, 21.89s/it]"
     ]
    },
    {
     "name": "stdout",
     "output_type": "stream",
     "text": [
      "Processing data for material : WATER\n",
      "image_data shape is :  (2048, 2448)\n",
      "im90 shape is :  (1024, 1224)\n",
      "Stokes time:  0.022986412048339844 s\n",
      "im_stokes0 shape is :  (1024, 1224)\n",
      "DoLP time:  0.03398013114929199 s\n",
      "im_DOLP shape is :  (1024, 1224)\n",
      "Time for DOLP2Theta conversion is :  21.08394145965576 seconds\n",
      "False\n",
      "AoLP time:  0.04497218132019043 s\n"
     ]
    },
    {
     "name": "stderr",
     "output_type": "stream",
     "text": [
      "\n",
      " 76%|███████████████████████████████████████████████████████████▋                  | 172/225 [1:03:30<19:17, 21.84s/it]"
     ]
    },
    {
     "name": "stdout",
     "output_type": "stream",
     "text": [
      "Processing data for material : WATER\n",
      "image_data shape is :  (2048, 2448)\n",
      "im90 shape is :  (1024, 1224)\n",
      "Stokes time:  0.026984214782714844 s\n",
      "im_stokes0 shape is :  (1024, 1224)\n",
      "DoLP time:  0.0379786491394043 s\n",
      "im_DOLP shape is :  (1024, 1224)\n",
      "Time for DOLP2Theta conversion is :  21.357783794403076 seconds\n",
      "False\n",
      "AoLP time:  0.04497337341308594 s\n"
     ]
    },
    {
     "name": "stderr",
     "output_type": "stream",
     "text": [
      "\n",
      " 77%|███████████████████████████████████████████████████████████▉                  | 173/225 [1:03:52<18:58, 21.89s/it]"
     ]
    },
    {
     "name": "stdout",
     "output_type": "stream",
     "text": [
      "Processing data for material : WATER\n",
      "image_data shape is :  (2048, 2448)\n",
      "im90 shape is :  (1024, 1224)\n",
      "Stokes time:  0.0239865779876709 s\n",
      "im_stokes0 shape is :  (1024, 1224)\n",
      "DoLP time:  0.03398013114929199 s\n",
      "im_DOLP shape is :  (1024, 1224)\n",
      "Time for DOLP2Theta conversion is :  21.342793941497803 seconds\n",
      "False\n",
      "AoLP time:  0.045973777770996094 s\n"
     ]
    },
    {
     "name": "stderr",
     "output_type": "stream",
     "text": [
      "\n",
      " 77%|████████████████████████████████████████████████████████████▎                 | 174/225 [1:04:14<18:37, 21.92s/it]"
     ]
    },
    {
     "name": "stdout",
     "output_type": "stream",
     "text": [
      "Processing data for material : WATER\n",
      "image_data shape is :  (2048, 2448)\n",
      "im90 shape is :  (1024, 1224)\n",
      "Stokes time:  0.026984453201293945 s\n",
      "im_stokes0 shape is :  (1024, 1224)\n",
      "DoLP time:  0.03397941589355469 s\n",
      "im_DOLP shape is :  (1024, 1224)\n",
      "Time for DOLP2Theta conversion is :  21.37577486038208 seconds\n",
      "False\n",
      "AoLP time:  0.04697299003601074 s\n"
     ]
    },
    {
     "name": "stderr",
     "output_type": "stream",
     "text": [
      "\n",
      " 78%|████████████████████████████████████████████████████████████▋                 | 175/225 [1:04:36<18:17, 21.95s/it]"
     ]
    },
    {
     "name": "stdout",
     "output_type": "stream",
     "text": [
      "Processing data for material : WATER\n",
      "image_data shape is :  (2048, 2448)\n",
      "im90 shape is :  (1024, 1224)\n",
      "Stokes time:  0.02298712730407715 s\n",
      "im_stokes0 shape is :  (1024, 1224)\n",
      "DoLP time:  0.034980058670043945 s\n",
      "im_DOLP shape is :  (1024, 1224)\n",
      "Time for DOLP2Theta conversion is :  21.338796377182007 seconds\n",
      "False\n",
      "AoLP time:  0.0439763069152832 s\n"
     ]
    },
    {
     "name": "stderr",
     "output_type": "stream",
     "text": [
      "\n",
      " 78%|█████████████████████████████████████████████████████████████                 | 176/225 [1:04:58<17:55, 21.95s/it]"
     ]
    },
    {
     "name": "stdout",
     "output_type": "stream",
     "text": [
      "Processing data for material : WATER\n",
      "image_data shape is :  (2048, 2448)\n",
      "im90 shape is :  (1024, 1224)\n",
      "Stokes time:  0.025983333587646484 s\n",
      "im_stokes0 shape is :  (1024, 1224)\n",
      "DoLP time:  0.03198075294494629 s\n",
      "im_DOLP shape is :  (1024, 1224)\n",
      "Time for DOLP2Theta conversion is :  21.089937925338745 seconds\n",
      "False\n",
      "AoLP time:  0.04097628593444824 s\n"
     ]
    },
    {
     "name": "stderr",
     "output_type": "stream",
     "text": [
      "\n",
      " 79%|█████████████████████████████████████████████████████████████▎                | 177/225 [1:05:20<17:30, 21.89s/it]"
     ]
    },
    {
     "name": "stdout",
     "output_type": "stream",
     "text": [
      "Processing data for material : WATER\n",
      "image_data shape is :  (2048, 2448)\n",
      "im90 shape is :  (1024, 1224)\n",
      "Stokes time:  0.025985002517700195 s\n",
      "im_stokes0 shape is :  (1024, 1224)\n",
      "DoLP time:  0.03498220443725586 s\n",
      "im_DOLP shape is :  (1024, 1224)\n",
      "Time for DOLP2Theta conversion is :  21.343793630599976 seconds\n",
      "False\n",
      "AoLP time:  0.041977643966674805 s\n"
     ]
    },
    {
     "name": "stderr",
     "output_type": "stream",
     "text": [
      "\n",
      " 79%|█████████████████████████████████████████████████████████████▋                | 178/225 [1:05:42<17:10, 21.94s/it]"
     ]
    },
    {
     "name": "stdout",
     "output_type": "stream",
     "text": [
      "Processing data for material : WATER\n",
      "image_data shape is :  (2048, 2448)\n",
      "im90 shape is :  (1024, 1224)\n",
      "Stokes time:  0.02498650550842285 s\n",
      "im_stokes0 shape is :  (1024, 1224)\n",
      "DoLP time:  0.03298068046569824 s\n",
      "im_DOLP shape is :  (1024, 1224)\n",
      "Time for DOLP2Theta conversion is :  21.298818826675415 seconds\n",
      "False\n",
      "AoLP time:  0.04197430610656738 s\n"
     ]
    },
    {
     "name": "stderr",
     "output_type": "stream",
     "text": [
      "\n",
      " 80%|██████████████████████████████████████████████████████████████                | 179/225 [1:06:04<16:49, 21.95s/it]"
     ]
    },
    {
     "name": "stdout",
     "output_type": "stream",
     "text": [
      "Processing data for material : WATER\n",
      "image_data shape is :  (2048, 2448)\n",
      "im90 shape is :  (1024, 1224)\n",
      "Stokes time:  0.02698349952697754 s\n",
      "im_stokes0 shape is :  (1024, 1224)\n",
      "DoLP time:  0.03297996520996094 s\n",
      "im_DOLP shape is :  (1024, 1224)\n",
      "Time for DOLP2Theta conversion is :  21.548675298690796 seconds\n",
      "False\n",
      "AoLP time:  0.04397439956665039 s\n"
     ]
    },
    {
     "name": "stderr",
     "output_type": "stream",
     "text": [
      "\n",
      " 80%|██████████████████████████████████████████████████████████████▍               | 180/225 [1:06:26<16:32, 22.05s/it]"
     ]
    },
    {
     "name": "stdout",
     "output_type": "stream",
     "text": [
      "Processing data for material : WATER\n",
      "image_data shape is :  (2048, 2448)\n",
      "im90 shape is :  (1024, 1224)\n",
      "Stokes time:  0.026984453201293945 s\n",
      "im_stokes0 shape is :  (1024, 1224)\n",
      "DoLP time:  0.03298044204711914 s\n",
      "im_DOLP shape is :  (1024, 1224)\n",
      "Time for DOLP2Theta conversion is :  21.654615879058838 seconds\n",
      "False\n",
      "AoLP time:  0.03997635841369629 s\n"
     ]
    },
    {
     "name": "stderr",
     "output_type": "stream",
     "text": [
      "\n",
      " 80%|██████████████████████████████████████████████████████████████▋               | 181/225 [1:06:48<16:13, 22.13s/it]"
     ]
    },
    {
     "name": "stdout",
     "output_type": "stream",
     "text": [
      "Processing data for material : WATER\n",
      "image_data shape is :  (2048, 2448)\n",
      "im90 shape is :  (1024, 1224)\n",
      "Stokes time:  0.025985240936279297 s\n",
      "im_stokes0 shape is :  (1024, 1224)\n",
      "DoLP time:  0.035978078842163086 s\n",
      "im_DOLP shape is :  (1024, 1224)\n",
      "Time for DOLP2Theta conversion is :  20.998989582061768 seconds\n",
      "False\n",
      "AoLP time:  0.04397463798522949 s\n"
     ]
    },
    {
     "name": "stderr",
     "output_type": "stream",
     "text": [
      "\n",
      " 81%|███████████████████████████████████████████████████████████████               | 182/225 [1:07:10<15:45, 21.99s/it]"
     ]
    },
    {
     "name": "stdout",
     "output_type": "stream",
     "text": [
      "Processing data for material : WATER\n",
      "image_data shape is :  (2048, 2448)\n",
      "im90 shape is :  (1024, 1224)\n",
      "Stokes time:  0.026984214782714844 s\n",
      "im_stokes0 shape is :  (1024, 1224)\n",
      "DoLP time:  0.03198122978210449 s\n",
      "im_DOLP shape is :  (1024, 1224)\n",
      "Time for DOLP2Theta conversion is :  21.166893243789673 seconds\n",
      "False\n",
      "AoLP time:  0.04697370529174805 s\n"
     ]
    },
    {
     "name": "stderr",
     "output_type": "stream",
     "text": [
      "\n",
      " 81%|███████████████████████████████████████████████████████████████▍              | 183/225 [1:07:32<15:21, 21.94s/it]"
     ]
    },
    {
     "name": "stdout",
     "output_type": "stream",
     "text": [
      "Processing data for material : WATER\n",
      "image_data shape is :  (2048, 2448)\n",
      "im90 shape is :  (1024, 1224)\n",
      "Stokes time:  0.025984764099121094 s\n",
      "im_stokes0 shape is :  (1024, 1224)\n",
      "DoLP time:  0.03897881507873535 s\n",
      "im_DOLP shape is :  (1024, 1224)\n",
      "Time for DOLP2Theta conversion is :  20.963009357452393 seconds\n",
      "False\n",
      "AoLP time:  0.047974348068237305 s\n"
     ]
    },
    {
     "name": "stderr",
     "output_type": "stream",
     "text": [
      "\n",
      " 82%|███████████████████████████████████████████████████████████████▊              | 184/225 [1:07:54<14:56, 21.86s/it]"
     ]
    },
    {
     "name": "stdout",
     "output_type": "stream",
     "text": [
      "Processing data for material : WATER\n",
      "image_data shape is :  (2048, 2448)\n",
      "im90 shape is :  (1024, 1224)\n",
      "Stokes time:  0.023985862731933594 s\n",
      "im_stokes0 shape is :  (1024, 1224)\n",
      "DoLP time:  0.032981157302856445 s\n",
      "im_DOLP shape is :  (1024, 1224)\n",
      "Time for DOLP2Theta conversion is :  21.337796926498413 seconds\n",
      "False\n",
      "AoLP time:  0.0499730110168457 s\n"
     ]
    },
    {
     "name": "stderr",
     "output_type": "stream",
     "text": [
      "\n",
      " 82%|████████████████████████████████████████████████████████████████▏             | 185/225 [1:08:16<14:35, 21.89s/it]"
     ]
    },
    {
     "name": "stdout",
     "output_type": "stream",
     "text": [
      "Processing data for material : WATER\n",
      "image_data shape is :  (2048, 2448)\n",
      "im90 shape is :  (1024, 1224)\n",
      "Stokes time:  0.026984453201293945 s\n",
      "im_stokes0 shape is :  (1024, 1224)\n",
      "DoLP time:  0.038977861404418945 s\n",
      "im_DOLP shape is :  (1024, 1224)\n",
      "Time for DOLP2Theta conversion is :  21.324803113937378 seconds\n",
      "False\n",
      "AoLP time:  0.040975332260131836 s\n"
     ]
    },
    {
     "name": "stderr",
     "output_type": "stream",
     "text": [
      "\n",
      " 83%|████████████████████████████████████████████████████████████████▍             | 186/225 [1:08:38<14:14, 21.92s/it]"
     ]
    },
    {
     "name": "stdout",
     "output_type": "stream",
     "text": [
      "Processing data for material : WATER\n",
      "image_data shape is :  (2048, 2448)\n",
      "im90 shape is :  (1024, 1224)\n",
      "Stokes time:  0.026983261108398438 s\n",
      "im_stokes0 shape is :  (1024, 1224)\n",
      "DoLP time:  0.03498029708862305 s\n",
      "im_DOLP shape is :  (1024, 1224)\n",
      "Time for DOLP2Theta conversion is :  21.13791036605835 seconds\n",
      "False\n",
      "AoLP time:  0.04097461700439453 s\n"
     ]
    },
    {
     "name": "stderr",
     "output_type": "stream",
     "text": [
      "\n",
      " 83%|████████████████████████████████████████████████████████████████▊             | 187/225 [1:08:59<13:51, 21.87s/it]"
     ]
    },
    {
     "name": "stdout",
     "output_type": "stream",
     "text": [
      "Processing data for material : WATER\n",
      "image_data shape is :  (2048, 2448)\n",
      "im90 shape is :  (1024, 1224)\n",
      "Stokes time:  0.025983095169067383 s\n",
      "im_stokes0 shape is :  (1024, 1224)\n",
      "DoLP time:  0.03397989273071289 s\n",
      "im_DOLP shape is :  (1024, 1224)\n",
      "Time for DOLP2Theta conversion is :  21.1519033908844 seconds\n",
      "False\n",
      "AoLP time:  0.04597330093383789 s\n"
     ]
    },
    {
     "name": "stderr",
     "output_type": "stream",
     "text": [
      "\n",
      " 84%|█████████████████████████████████████████████████████████████████▏            | 188/225 [1:09:21<13:28, 21.85s/it]"
     ]
    },
    {
     "name": "stdout",
     "output_type": "stream",
     "text": [
      "Processing data for material : WATER\n",
      "image_data shape is :  (2048, 2448)\n",
      "im90 shape is :  (1024, 1224)\n",
      "Stokes time:  0.023986101150512695 s\n",
      "im_stokes0 shape is :  (1024, 1224)\n",
      "DoLP time:  0.03198122978210449 s\n",
      "im_DOLP shape is :  (1024, 1224)\n",
      "Time for DOLP2Theta conversion is :  21.10392928123474 seconds\n",
      "False\n",
      "AoLP time:  0.04397773742675781 s\n"
     ]
    },
    {
     "name": "stderr",
     "output_type": "stream",
     "text": [
      "\n",
      " 84%|█████████████████████████████████████████████████████████████████▌            | 189/225 [1:09:43<13:05, 21.82s/it]"
     ]
    },
    {
     "name": "stdout",
     "output_type": "stream",
     "text": [
      "Processing data for material : WATER\n",
      "image_data shape is :  (2048, 2448)\n",
      "im90 shape is :  (1024, 1224)\n",
      "Stokes time:  0.0239865779876709 s\n",
      "im_stokes0 shape is :  (1024, 1224)\n",
      "DoLP time:  0.03897738456726074 s\n",
      "im_DOLP shape is :  (1024, 1224)\n",
      "Time for DOLP2Theta conversion is :  21.029972076416016 seconds\n",
      "False\n",
      "AoLP time:  0.04197573661804199 s\n"
     ]
    },
    {
     "name": "stderr",
     "output_type": "stream",
     "text": [
      "\n",
      " 84%|█████████████████████████████████████████████████████████████████▊            | 190/225 [1:10:05<12:42, 21.79s/it]"
     ]
    },
    {
     "name": "stdout",
     "output_type": "stream",
     "text": [
      "Processing data for material : WATER\n",
      "image_data shape is :  (2048, 2448)\n",
      "im90 shape is :  (1024, 1224)\n",
      "Stokes time:  0.026983022689819336 s\n",
      "im_stokes0 shape is :  (1024, 1224)\n",
      "DoLP time:  0.03697943687438965 s\n",
      "im_DOLP shape is :  (1024, 1224)\n",
      "Time for DOLP2Theta conversion is :  21.954444408416748 seconds\n",
      "False\n",
      "AoLP time:  0.04197382926940918 s\n"
     ]
    },
    {
     "name": "stderr",
     "output_type": "stream",
     "text": [
      "\n",
      " 85%|██████████████████████████████████████████████████████████████████▏           | 191/225 [1:10:27<12:30, 22.08s/it]"
     ]
    },
    {
     "name": "stdout",
     "output_type": "stream",
     "text": [
      "Processing data for material : WATER\n",
      "image_data shape is :  (2048, 2448)\n",
      "im90 shape is :  (1024, 1224)\n",
      "Stokes time:  0.028983354568481445 s\n",
      "im_stokes0 shape is :  (1024, 1224)\n",
      "DoLP time:  0.038977622985839844 s\n",
      "im_DOLP shape is :  (1024, 1224)\n",
      "Time for DOLP2Theta conversion is :  21.536681413650513 seconds\n",
      "False\n",
      "AoLP time:  0.04697299003601074 s\n"
     ]
    },
    {
     "name": "stderr",
     "output_type": "stream",
     "text": [
      "\n",
      " 85%|██████████████████████████████████████████████████████████████████▌           | 192/225 [1:10:50<12:12, 22.19s/it]"
     ]
    },
    {
     "name": "stdout",
     "output_type": "stream",
     "text": [
      "Processing data for material : WATER\n",
      "image_data shape is :  (2048, 2448)\n",
      "im90 shape is :  (1024, 1224)\n",
      "Stokes time:  0.025985002517700195 s\n",
      "im_stokes0 shape is :  (1024, 1224)\n",
      "DoLP time:  0.03797745704650879 s\n",
      "im_DOLP shape is :  (1024, 1224)\n",
      "Time for DOLP2Theta conversion is :  21.985426664352417 seconds\n",
      "False\n",
      "AoLP time:  0.03997492790222168 s\n"
     ]
    },
    {
     "name": "stderr",
     "output_type": "stream",
     "text": [
      "\n",
      " 86%|██████████████████████████████████████████████████████████████████▉           | 193/225 [1:11:13<11:56, 22.40s/it]"
     ]
    },
    {
     "name": "stdout",
     "output_type": "stream",
     "text": [
      "Processing data for material : WATER\n",
      "image_data shape is :  (2048, 2448)\n",
      "im90 shape is :  (1024, 1224)\n",
      "Stokes time:  0.0279843807220459 s\n",
      "im_stokes0 shape is :  (1024, 1224)\n",
      "DoLP time:  0.036978960037231445 s\n",
      "im_DOLP shape is :  (1024, 1224)\n",
      "Time for DOLP2Theta conversion is :  21.593650341033936 seconds\n",
      "False\n",
      "AoLP time:  0.0479736328125 s\n"
     ]
    },
    {
     "name": "stderr",
     "output_type": "stream",
     "text": [
      "\n",
      " 86%|███████████████████████████████████████████████████████████████████▎          | 194/225 [1:11:35<11:33, 22.39s/it]"
     ]
    },
    {
     "name": "stdout",
     "output_type": "stream",
     "text": [
      "Processing data for material : WATER\n",
      "image_data shape is :  (2048, 2448)\n",
      "im90 shape is :  (1024, 1224)\n",
      "Stokes time:  0.0239865779876709 s\n",
      "im_stokes0 shape is :  (1024, 1224)\n",
      "DoLP time:  0.0319828987121582 s\n",
      "im_DOLP shape is :  (1024, 1224)\n",
      "Time for DOLP2Theta conversion is :  20.792108297348022 seconds\n",
      "False\n",
      "AoLP time:  0.03997683525085449 s\n"
     ]
    },
    {
     "name": "stderr",
     "output_type": "stream",
     "text": [
      "\n",
      " 87%|███████████████████████████████████████████████████████████████████▌          | 195/225 [1:11:56<11:03, 22.11s/it]"
     ]
    },
    {
     "name": "stdout",
     "output_type": "stream",
     "text": [
      "Processing data for material : WATER\n",
      "image_data shape is :  (2048, 2448)\n",
      "im90 shape is :  (1024, 1224)\n",
      "Stokes time:  0.023986339569091797 s\n",
      "im_stokes0 shape is :  (1024, 1224)\n",
      "DoLP time:  0.03198122978210449 s\n",
      "im_DOLP shape is :  (1024, 1224)\n",
      "Time for DOLP2Theta conversion is :  20.839080333709717 seconds\n",
      "False\n",
      "AoLP time:  0.047972917556762695 s\n"
     ]
    },
    {
     "name": "stderr",
     "output_type": "stream",
     "text": [
      "\n",
      " 87%|███████████████████████████████████████████████████████████████████▉          | 196/225 [1:12:18<10:35, 21.92s/it]"
     ]
    },
    {
     "name": "stdout",
     "output_type": "stream",
     "text": [
      "Processing data for material : WATER\n",
      "image_data shape is :  (2048, 2448)\n",
      "im90 shape is :  (1024, 1224)\n",
      "Stokes time:  0.024985551834106445 s\n",
      "im_stokes0 shape is :  (1024, 1224)\n",
      "DoLP time:  0.030982255935668945 s\n",
      "im_DOLP shape is :  (1024, 1224)\n",
      "Time for DOLP2Theta conversion is :  20.694162845611572 seconds\n",
      "False\n",
      "AoLP time:  0.044974327087402344 s\n"
     ]
    },
    {
     "name": "stderr",
     "output_type": "stream",
     "text": [
      "\n",
      " 88%|████████████████████████████████████████████████████████████████████▎         | 197/225 [1:12:39<10:09, 21.75s/it]"
     ]
    },
    {
     "name": "stdout",
     "output_type": "stream",
     "text": [
      "Processing data for material : WATER\n",
      "image_data shape is :  (2048, 2448)\n",
      "im90 shape is :  (1024, 1224)\n",
      "Stokes time:  0.023986101150512695 s\n",
      "im_stokes0 shape is :  (1024, 1224)\n",
      "DoLP time:  0.0339813232421875 s\n",
      "im_DOLP shape is :  (1024, 1224)\n",
      "Time for DOLP2Theta conversion is :  20.979999780654907 seconds\n",
      "False\n",
      "AoLP time:  0.04297614097595215 s\n"
     ]
    },
    {
     "name": "stderr",
     "output_type": "stream",
     "text": [
      "\n",
      " 88%|████████████████████████████████████████████████████████████████████▋         | 198/225 [1:13:01<09:46, 21.72s/it]"
     ]
    },
    {
     "name": "stdout",
     "output_type": "stream",
     "text": [
      "Processing data for material : WATER\n",
      "image_data shape is :  (2048, 2448)\n",
      "im90 shape is :  (1024, 1224)\n",
      "Stokes time:  0.024986982345581055 s\n",
      "im_stokes0 shape is :  (1024, 1224)\n",
      "DoLP time:  0.030982255935668945 s\n",
      "im_DOLP shape is :  (1024, 1224)\n",
      "Time for DOLP2Theta conversion is :  20.966009616851807 seconds\n",
      "False\n",
      "AoLP time:  0.03997635841369629 s\n"
     ]
    },
    {
     "name": "stderr",
     "output_type": "stream",
     "text": [
      "\n",
      " 88%|████████████████████████████████████████████████████████████████████▉         | 199/225 [1:13:23<09:23, 21.69s/it]"
     ]
    },
    {
     "name": "stdout",
     "output_type": "stream",
     "text": [
      "Processing data for material : WATER\n",
      "image_data shape is :  (2048, 2448)\n",
      "im90 shape is :  (1024, 1224)\n",
      "Stokes time:  0.0259859561920166 s\n",
      "im_stokes0 shape is :  (1024, 1224)\n",
      "DoLP time:  0.032979726791381836 s\n",
      "im_DOLP shape is :  (1024, 1224)\n",
      "Time for DOLP2Theta conversion is :  20.78211498260498 seconds\n",
      "False\n",
      "AoLP time:  0.04097580909729004 s\n"
     ]
    },
    {
     "name": "stderr",
     "output_type": "stream",
     "text": [
      "\n",
      " 89%|█████████████████████████████████████████████████████████████████████▎        | 200/225 [1:13:44<09:00, 21.61s/it]"
     ]
    },
    {
     "name": "stdout",
     "output_type": "stream",
     "text": [
      "Processing data for material : WATER\n",
      "image_data shape is :  (2048, 2448)\n",
      "im90 shape is :  (1024, 1224)\n",
      "Stokes time:  0.027983427047729492 s\n",
      "im_stokes0 shape is :  (1024, 1224)\n",
      "DoLP time:  0.03497910499572754 s\n",
      "im_DOLP shape is :  (1024, 1224)\n",
      "Time for DOLP2Theta conversion is :  21.123919248580933 seconds\n",
      "False\n",
      "AoLP time:  0.0399785041809082 s\n"
     ]
    },
    {
     "name": "stderr",
     "output_type": "stream",
     "text": [
      "\n",
      " 89%|█████████████████████████████████████████████████████████████████████▋        | 201/225 [1:14:06<08:39, 21.66s/it]"
     ]
    },
    {
     "name": "stdout",
     "output_type": "stream",
     "text": [
      "Processing data for material : WATER\n",
      "image_data shape is :  (2048, 2448)\n",
      "im90 shape is :  (1024, 1224)\n",
      "Stokes time:  0.024985313415527344 s\n",
      "im_stokes0 shape is :  (1024, 1224)\n",
      "DoLP time:  0.03198122978210449 s\n",
      "im_DOLP shape is :  (1024, 1224)\n",
      "Time for DOLP2Theta conversion is :  21.149903059005737 seconds\n",
      "False\n",
      "AoLP time:  0.04597210884094238 s\n"
     ]
    },
    {
     "name": "stderr",
     "output_type": "stream",
     "text": [
      "\n",
      " 90%|██████████████████████████████████████████████████████████████████████        | 202/225 [1:14:28<08:19, 21.72s/it]"
     ]
    },
    {
     "name": "stdout",
     "output_type": "stream",
     "text": [
      "Processing data for material : WATER\n",
      "image_data shape is :  (2048, 2448)\n",
      "im90 shape is :  (1024, 1224)\n",
      "Stokes time:  0.024985074996948242 s\n",
      "im_stokes0 shape is :  (1024, 1224)\n",
      "DoLP time:  0.031981706619262695 s\n",
      "im_DOLP shape is :  (1024, 1224)\n",
      "Time for DOLP2Theta conversion is :  20.811097621917725 seconds\n",
      "False\n",
      "AoLP time:  0.039975881576538086 s\n"
     ]
    },
    {
     "name": "stderr",
     "output_type": "stream",
     "text": [
      "\n",
      " 90%|██████████████████████████████████████████████████████████████████████▎       | 203/225 [1:14:49<07:55, 21.63s/it]"
     ]
    },
    {
     "name": "stdout",
     "output_type": "stream",
     "text": [
      "Processing data for material : WATER\n",
      "image_data shape is :  (2048, 2448)\n",
      "im90 shape is :  (1024, 1224)\n",
      "Stokes time:  0.026984453201293945 s\n",
      "im_stokes0 shape is :  (1024, 1224)\n",
      "DoLP time:  0.033982276916503906 s\n",
      "im_DOLP shape is :  (1024, 1224)\n",
      "Time for DOLP2Theta conversion is :  21.017979860305786 seconds\n",
      "False\n",
      "AoLP time:  0.04596424102783203 s\n"
     ]
    },
    {
     "name": "stderr",
     "output_type": "stream",
     "text": [
      "\n",
      " 91%|██████████████████████████████████████████████████████████████████████▋       | 204/225 [1:15:11<07:34, 21.65s/it]"
     ]
    },
    {
     "name": "stdout",
     "output_type": "stream",
     "text": [
      "Processing data for material : WATER\n",
      "image_data shape is :  (2048, 2448)\n",
      "im90 shape is :  (1024, 1224)\n",
      "Stokes time:  0.02498459815979004 s\n",
      "im_stokes0 shape is :  (1024, 1224)\n",
      "DoLP time:  0.032980918884277344 s\n",
      "im_DOLP shape is :  (1024, 1224)\n",
      "Time for DOLP2Theta conversion is :  20.891051054000854 seconds\n",
      "False\n",
      "AoLP time:  0.0429692268371582 s\n"
     ]
    },
    {
     "name": "stderr",
     "output_type": "stream",
     "text": [
      "\n",
      " 91%|███████████████████████████████████████████████████████████████████████       | 205/225 [1:15:32<07:12, 21.62s/it]"
     ]
    },
    {
     "name": "stdout",
     "output_type": "stream",
     "text": [
      "Processing data for material : WATER\n",
      "image_data shape is :  (2048, 2448)\n",
      "im90 shape is :  (1024, 1224)\n",
      "Stokes time:  0.025985002517700195 s\n",
      "im_stokes0 shape is :  (1024, 1224)\n",
      "DoLP time:  0.033980369567871094 s\n",
      "im_DOLP shape is :  (1024, 1224)\n",
      "Time for DOLP2Theta conversion is :  20.760127305984497 seconds\n",
      "False\n",
      "AoLP time:  0.04397320747375488 s\n"
     ]
    },
    {
     "name": "stderr",
     "output_type": "stream",
     "text": [
      "\n",
      " 92%|███████████████████████████████████████████████████████████████████████▍      | 206/225 [1:15:54<06:49, 21.56s/it]"
     ]
    },
    {
     "name": "stdout",
     "output_type": "stream",
     "text": [
      "Processing data for material : WATER\n",
      "image_data shape is :  (2048, 2448)\n",
      "im90 shape is :  (1024, 1224)\n",
      "Stokes time:  0.024983882904052734 s\n",
      "im_stokes0 shape is :  (1024, 1224)\n",
      "DoLP time:  0.03298139572143555 s\n",
      "im_DOLP shape is :  (1024, 1224)\n",
      "Time for DOLP2Theta conversion is :  21.262839555740356 seconds\n",
      "False\n",
      "AoLP time:  0.03897690773010254 s\n"
     ]
    },
    {
     "name": "stderr",
     "output_type": "stream",
     "text": [
      "\n",
      " 92%|███████████████████████████████████████████████████████████████████████▊      | 207/225 [1:16:16<06:29, 21.66s/it]"
     ]
    },
    {
     "name": "stdout",
     "output_type": "stream",
     "text": [
      "Processing data for material : WATER\n",
      "image_data shape is :  (2048, 2448)\n",
      "im90 shape is :  (1024, 1224)\n",
      "Stokes time:  0.024986743927001953 s\n",
      "im_stokes0 shape is :  (1024, 1224)\n",
      "DoLP time:  0.03198122978210449 s\n",
      "im_DOLP shape is :  (1024, 1224)\n",
      "Time for DOLP2Theta conversion is :  21.0839421749115 seconds\n",
      "False\n",
      "AoLP time:  0.03997540473937988 s\n"
     ]
    },
    {
     "name": "stderr",
     "output_type": "stream",
     "text": [
      "\n",
      " 92%|████████████████████████████████████████████████████████████████████████      | 208/225 [1:16:37<06:08, 21.68s/it]"
     ]
    },
    {
     "name": "stdout",
     "output_type": "stream",
     "text": [
      "Processing data for material : WATER\n",
      "image_data shape is :  (2048, 2448)\n",
      "im90 shape is :  (1024, 1224)\n",
      "Stokes time:  0.02598285675048828 s\n",
      "im_stokes0 shape is :  (1024, 1224)\n",
      "DoLP time:  0.0359797477722168 s\n",
      "im_DOLP shape is :  (1024, 1224)\n",
      "Time for DOLP2Theta conversion is :  20.898047924041748 seconds\n",
      "False\n",
      "AoLP time:  0.03897666931152344 s\n"
     ]
    },
    {
     "name": "stderr",
     "output_type": "stream",
     "text": [
      "\n",
      " 93%|████████████████████████████████████████████████████████████████████████▍     | 209/225 [1:16:59<05:45, 21.62s/it]"
     ]
    },
    {
     "name": "stdout",
     "output_type": "stream",
     "text": [
      "Processing data for material : WATER\n",
      "image_data shape is :  (2048, 2448)\n",
      "im90 shape is :  (1024, 1224)\n",
      "Stokes time:  0.025985240936279297 s\n",
      "im_stokes0 shape is :  (1024, 1224)\n",
      "DoLP time:  0.031981706619262695 s\n",
      "im_DOLP shape is :  (1024, 1224)\n",
      "Time for DOLP2Theta conversion is :  20.855072736740112 seconds\n",
      "False\n",
      "AoLP time:  0.0419764518737793 s\n"
     ]
    },
    {
     "name": "stderr",
     "output_type": "stream",
     "text": [
      "\n",
      " 93%|████████████████████████████████████████████████████████████████████████▊     | 210/225 [1:17:20<05:24, 21.62s/it]"
     ]
    },
    {
     "name": "stdout",
     "output_type": "stream",
     "text": [
      "Processing data for material : WATER\n",
      "image_data shape is :  (2048, 2448)\n",
      "im90 shape is :  (1024, 1224)\n",
      "Stokes time:  0.0259859561920166 s\n",
      "im_stokes0 shape is :  (1024, 1224)\n",
      "DoLP time:  0.03797745704650879 s\n",
      "im_DOLP shape is :  (1024, 1224)\n",
      "Time for DOLP2Theta conversion is :  20.81109619140625 seconds\n",
      "False\n",
      "AoLP time:  0.0379796028137207 s\n"
     ]
    },
    {
     "name": "stderr",
     "output_type": "stream",
     "text": [
      "\n",
      " 94%|█████████████████████████████████████████████████████████████████████████▏    | 211/225 [1:17:42<05:01, 21.56s/it]"
     ]
    },
    {
     "name": "stdout",
     "output_type": "stream",
     "text": [
      "Processing data for material : WATER\n",
      "image_data shape is :  (2048, 2448)\n",
      "im90 shape is :  (1024, 1224)\n",
      "Stokes time:  0.025985240936279297 s\n",
      "im_stokes0 shape is :  (1024, 1224)\n",
      "DoLP time:  0.032981157302856445 s\n",
      "im_DOLP shape is :  (1024, 1224)\n",
      "Time for DOLP2Theta conversion is :  21.231857538223267 seconds\n",
      "False\n",
      "AoLP time:  0.04497480392456055 s\n"
     ]
    },
    {
     "name": "stderr",
     "output_type": "stream",
     "text": [
      "\n",
      " 94%|█████████████████████████████████████████████████████████████████████████▍    | 212/225 [1:18:04<04:41, 21.68s/it]"
     ]
    },
    {
     "name": "stdout",
     "output_type": "stream",
     "text": [
      "Processing data for material : WATER\n",
      "image_data shape is :  (2048, 2448)\n",
      "im90 shape is :  (1024, 1224)\n",
      "Stokes time:  0.02398538589477539 s\n",
      "im_stokes0 shape is :  (1024, 1224)\n",
      "DoLP time:  0.03398013114929199 s\n",
      "im_DOLP shape is :  (1024, 1224)\n",
      "Time for DOLP2Theta conversion is :  20.99499225616455 seconds\n",
      "False\n",
      "AoLP time:  0.04097437858581543 s\n"
     ]
    },
    {
     "name": "stderr",
     "output_type": "stream",
     "text": [
      "\n",
      " 95%|█████████████████████████████████████████████████████████████████████████▊    | 213/225 [1:18:26<04:20, 21.68s/it]"
     ]
    },
    {
     "name": "stdout",
     "output_type": "stream",
     "text": [
      "Processing data for material : WATER\n",
      "image_data shape is :  (2048, 2448)\n",
      "im90 shape is :  (1024, 1224)\n",
      "Stokes time:  0.02498483657836914 s\n",
      "im_stokes0 shape is :  (1024, 1224)\n",
      "DoLP time:  0.032979726791381836 s\n",
      "im_DOLP shape is :  (1024, 1224)\n",
      "Time for DOLP2Theta conversion is :  20.75113081932068 seconds\n",
      "False\n",
      "AoLP time:  0.0399785041809082 s\n"
     ]
    },
    {
     "name": "stderr",
     "output_type": "stream",
     "text": [
      "\n",
      " 95%|██████████████████████████████████████████████████████████████████████████▏   | 214/225 [1:18:47<03:57, 21.58s/it]"
     ]
    },
    {
     "name": "stdout",
     "output_type": "stream",
     "text": [
      "Processing data for material : WATER\n",
      "image_data shape is :  (2048, 2448)\n",
      "im90 shape is :  (1024, 1224)\n",
      "Stokes time:  0.025984764099121094 s\n",
      "im_stokes0 shape is :  (1024, 1224)\n",
      "DoLP time:  0.0339813232421875 s\n",
      "im_DOLP shape is :  (1024, 1224)\n",
      "Time for DOLP2Theta conversion is :  21.247865200042725 seconds\n",
      "False\n",
      "AoLP time:  0.04397463798522949 s\n"
     ]
    },
    {
     "name": "stderr",
     "output_type": "stream",
     "text": [
      "\n",
      " 96%|██████████████████████████████████████████████████████████████████████████▌   | 215/225 [1:19:09<03:36, 21.69s/it]"
     ]
    },
    {
     "name": "stdout",
     "output_type": "stream",
     "text": [
      "Processing data for material : WATER\n",
      "image_data shape is :  (2048, 2448)\n",
      "im90 shape is :  (1024, 1224)\n",
      "Stokes time:  0.024985074996948242 s\n",
      "im_stokes0 shape is :  (1024, 1224)\n",
      "DoLP time:  0.03497910499572754 s\n",
      "im_DOLP shape is :  (1024, 1224)\n",
      "Time for DOLP2Theta conversion is :  20.91403865814209 seconds\n",
      "False\n",
      "AoLP time:  0.043974876403808594 s\n"
     ]
    },
    {
     "name": "stderr",
     "output_type": "stream",
     "text": [
      "\n",
      " 96%|██████████████████████████████████████████████████████████████████████████▉   | 216/225 [1:19:30<03:14, 21.66s/it]"
     ]
    },
    {
     "name": "stdout",
     "output_type": "stream",
     "text": [
      "Processing data for material : WATER\n",
      "image_data shape is :  (2048, 2448)\n",
      "im90 shape is :  (1024, 1224)\n",
      "Stokes time:  0.0259859561920166 s\n",
      "im_stokes0 shape is :  (1024, 1224)\n",
      "DoLP time:  0.03298044204711914 s\n",
      "im_DOLP shape is :  (1024, 1224)\n",
      "Time for DOLP2Theta conversion is :  20.80710005760193 seconds\n",
      "False\n",
      "AoLP time:  0.03898000717163086 s\n"
     ]
    },
    {
     "name": "stderr",
     "output_type": "stream",
     "text": [
      "\n",
      " 96%|███████████████████████████████████████████████████████████████████████████▏  | 217/225 [1:19:52<02:52, 21.59s/it]"
     ]
    },
    {
     "name": "stdout",
     "output_type": "stream",
     "text": [
      "Processing data for material : WATER\n",
      "image_data shape is :  (2048, 2448)\n",
      "im90 shape is :  (1024, 1224)\n",
      "Stokes time:  0.0259859561920166 s\n",
      "im_stokes0 shape is :  (1024, 1224)\n",
      "DoLP time:  0.031980276107788086 s\n",
      "im_DOLP shape is :  (1024, 1224)\n",
      "Time for DOLP2Theta conversion is :  20.875061750411987 seconds\n",
      "False\n",
      "AoLP time:  0.03997659683227539 s\n"
     ]
    },
    {
     "name": "stderr",
     "output_type": "stream",
     "text": [
      "\n",
      " 97%|███████████████████████████████████████████████████████████████████████████▌  | 218/225 [1:20:13<02:31, 21.58s/it]"
     ]
    },
    {
     "name": "stdout",
     "output_type": "stream",
     "text": [
      "Processing data for material : WATER\n",
      "image_data shape is :  (2048, 2448)\n",
      "im90 shape is :  (1024, 1224)\n",
      "Stokes time:  0.027983903884887695 s\n",
      "im_stokes0 shape is :  (1024, 1224)\n",
      "DoLP time:  0.03198075294494629 s\n",
      "im_DOLP shape is :  (1024, 1224)\n",
      "Time for DOLP2Theta conversion is :  21.009982109069824 seconds\n",
      "False\n",
      "AoLP time:  0.03897714614868164 s\n"
     ]
    },
    {
     "name": "stderr",
     "output_type": "stream",
     "text": [
      "\n",
      " 97%|███████████████████████████████████████████████████████████████████████████▉  | 219/225 [1:20:35<02:09, 21.59s/it]"
     ]
    },
    {
     "name": "stdout",
     "output_type": "stream",
     "text": [
      "Processing data for material : WATER\n",
      "image_data shape is :  (2048, 2448)\n",
      "im90 shape is :  (1024, 1224)\n",
      "Stokes time:  0.023986101150512695 s\n",
      "im_stokes0 shape is :  (1024, 1224)\n",
      "DoLP time:  0.03198099136352539 s\n",
      "im_DOLP shape is :  (1024, 1224)\n",
      "Time for DOLP2Theta conversion is :  21.074946641921997 seconds\n",
      "False\n",
      "AoLP time:  0.0399775505065918 s\n"
     ]
    },
    {
     "name": "stderr",
     "output_type": "stream",
     "text": [
      "\n",
      " 98%|████████████████████████████████████████████████████████████████████████████▎ | 220/225 [1:20:57<01:48, 21.64s/it]"
     ]
    },
    {
     "name": "stdout",
     "output_type": "stream",
     "text": [
      "Processing data for material : WATER\n",
      "image_data shape is :  (2048, 2448)\n",
      "im90 shape is :  (1024, 1224)\n",
      "Stokes time:  0.025985002517700195 s\n",
      "im_stokes0 shape is :  (1024, 1224)\n",
      "DoLP time:  0.03697848320007324 s\n",
      "im_DOLP shape is :  (1024, 1224)\n",
      "Time for DOLP2Theta conversion is :  21.255856037139893 seconds\n",
      "False\n",
      "AoLP time:  0.0439760684967041 s\n"
     ]
    },
    {
     "name": "stderr",
     "output_type": "stream",
     "text": [
      "\n",
      " 98%|████████████████████████████████████████████████████████████████████████████▌ | 221/225 [1:21:19<01:26, 21.73s/it]"
     ]
    },
    {
     "name": "stdout",
     "output_type": "stream",
     "text": [
      "Processing data for material : WATER\n",
      "image_data shape is :  (2048, 2448)\n",
      "im90 shape is :  (1024, 1224)\n",
      "Stokes time:  0.02398514747619629 s\n",
      "im_stokes0 shape is :  (1024, 1224)\n",
      "DoLP time:  0.03297996520996094 s\n",
      "im_DOLP shape is :  (1024, 1224)\n",
      "Time for DOLP2Theta conversion is :  21.19287919998169 seconds\n",
      "False\n",
      "AoLP time:  0.04097747802734375 s\n"
     ]
    },
    {
     "name": "stderr",
     "output_type": "stream",
     "text": [
      "\n",
      " 99%|████████████████████████████████████████████████████████████████████████████▉ | 222/225 [1:21:41<01:05, 21.77s/it]"
     ]
    },
    {
     "name": "stdout",
     "output_type": "stream",
     "text": [
      "Processing data for material : WATER\n",
      "image_data shape is :  (2048, 2448)\n",
      "im90 shape is :  (1024, 1224)\n",
      "Stokes time:  0.023986339569091797 s\n",
      "im_stokes0 shape is :  (1024, 1224)\n",
      "DoLP time:  0.035978078842163086 s\n",
      "im_DOLP shape is :  (1024, 1224)\n",
      "Time for DOLP2Theta conversion is :  21.08694076538086 seconds\n",
      "False\n",
      "AoLP time:  0.04996037483215332 s\n"
     ]
    },
    {
     "name": "stderr",
     "output_type": "stream",
     "text": [
      "\n",
      " 99%|█████████████████████████████████████████████████████████████████████████████▎| 223/225 [1:22:02<00:43, 21.76s/it]"
     ]
    },
    {
     "name": "stdout",
     "output_type": "stream",
     "text": [
      "Processing data for material : WATER\n",
      "image_data shape is :  (2048, 2448)\n",
      "im90 shape is :  (1024, 1224)\n",
      "Stokes time:  0.024985551834106445 s\n",
      "im_stokes0 shape is :  (1024, 1224)\n",
      "DoLP time:  0.033980369567871094 s\n",
      "im_DOLP shape is :  (1024, 1224)\n",
      "Time for DOLP2Theta conversion is :  21.15190052986145 seconds\n",
      "False\n",
      "AoLP time:  0.04097700119018555 s\n"
     ]
    },
    {
     "name": "stderr",
     "output_type": "stream",
     "text": [
      "\n",
      "100%|█████████████████████████████████████████████████████████████████████████████▋| 224/225 [1:22:24<00:21, 21.77s/it]"
     ]
    },
    {
     "name": "stdout",
     "output_type": "stream",
     "text": [
      "Processing data for material : WATER\n",
      "image_data shape is :  (2048, 2448)\n",
      "im90 shape is :  (1024, 1224)\n",
      "Stokes time:  0.024985551834106445 s\n",
      "im_stokes0 shape is :  (1024, 1224)\n",
      "DoLP time:  0.03497934341430664 s\n",
      "im_DOLP shape is :  (1024, 1224)\n",
      "Time for DOLP2Theta conversion is :  21.13691210746765 seconds\n",
      "False\n",
      "AoLP time:  0.0399777889251709 s\n"
     ]
    },
    {
     "name": "stderr",
     "output_type": "stream",
     "text": [
      "\n",
      "100%|██████████████████████████████████████████████████████████████████████████████| 225/225 [1:22:46<00:00, 21.77s/it]"
     ]
    },
    {
     "name": "stdout",
     "output_type": "stream",
     "text": [
      "time taken =  30.74544095993042\n"
     ]
    },
    {
     "name": "stderr",
     "output_type": "stream",
     "text": [
      "100%|████████████████████████████████████████████████████████████████████████████████| 4/4 [5:40:53<00:00, 5151.73s/it]\n"
     ]
    }
   ],
   "source": [
    "for k in tqdm(range(4)):\n",
    "    # set the frames to be processed and save locations\n",
    "    SUBFOLDER = k+1\n",
    "    data_foldername = \"{}_{}Flow_{}H_test{}_subFolder{}\".format(BEDFORM, FLOW_SPEED, SUBMERGENCE, TEST, SUBFOLDER)\n",
    "    files = filenames[k*NUM_FRAMES//4: (k+1)*NUM_FRAMES//4]\n",
    "\n",
    "    all_height_maps = np.zeros((im_theta1.shape[0],im_theta1.shape[1],len(files)))\n",
    "    all_sx_maps = np.zeros((im_theta1.shape[0],im_theta1.shape[1],len(files)))\n",
    "    all_sy_maps = np.zeros((im_theta1.shape[0],im_theta1.shape[1],len(files)))\n",
    "    all_raw_frames_0filter = np.zeros((im_theta1.shape[0],im_theta1.shape[1],len(files)))\n",
    "\n",
    "    i=-1\n",
    "    for filename2 in tqdm(files): #\n",
    "        i+=1\n",
    "        im_theta2, im_phi2 = theta_phi(filename2, file_location,\n",
    "                                   material = 'water',\n",
    "                                   flat_field_correct = 1,\n",
    "                                   gaussian_smoothing_sigma = 0,\n",
    "                                   num_images= NUM_IMAGES, correction_angle=0,\n",
    "                                   flat_field_correction_params = flat_field_correction_params)\n",
    "\n",
    "        raw_img2 = cv2.imread(os.path.join(file_location, filename2))\n",
    "\n",
    "        # get slopes and height maps\n",
    "        s_x = np.tan(np.radians((im_theta2 - im_theta1)))\n",
    "        s_y = np.tan(np.radians((im_phi2 - im_phi1)))\n",
    "        s_hat_x, s_hat_y = slopeFieldFFT(s_x, s_y, suppress_fig = 1)\n",
    "        height_map = slope2height(s_hat_x, s_hat_y)\n",
    "        all_height_maps[:,:,i] = height_map\n",
    "        all_sx_maps[:,:,i] = s_x\n",
    "        all_sy_maps[:,:,i] = s_y\n",
    "        all_raw_frames_0filter[:,:,i] = raw_img2[::2,::2,0]\n",
    "\n",
    "    del im_theta2, s_x, s_y, s_hat_x, s_hat_y, height_map, raw_img2, im_phi2\n",
    "    \n",
    "    # Collate the data into a dict\n",
    "    all_data_dict = {'all_height_maps': all_height_maps, 'all_sx_maps': all_sx_maps, \\\n",
    "                     'all_sy_maps':all_sy_maps, 'all_raw_frames_0filter':all_raw_frames_0filter}\n",
    "\n",
    "    # Save using Klepto -- not pickle : directly to disk -- not memory intensive\n",
    "    tic = time.time()\n",
    "    demo = dir_archive(os.path.join(save_location, klepto_saved_data_origin, data_foldername), {}, \\\n",
    "                       serialized=True, cached=False)\n",
    "    demo['all_height_maps'] = all_height_maps\n",
    "    demo['all_sx_maps'] = all_sx_maps\n",
    "    demo['all_sy_maps'] = all_sy_maps\n",
    "    demo['all_raw_frames_0filter'] = all_raw_frames_0filter\n",
    "    toc = time.time()\n",
    "    print('time taken = ', toc - tic)\n",
    "    demo.dump()\n",
    "    \n",
    "    # Empty some space\n",
    "    del all_data_dict, all_height_maps, all_sx_maps, all_sy_maps, all_raw_frames_0filter, files, demo"
   ]
  },
  {
   "cell_type": "code",
   "execution_count": null,
   "metadata": {},
   "outputs": [],
   "source": []
  }
 ],
 "metadata": {
  "kernelspec": {
   "display_name": "Python 3",
   "language": "python",
   "name": "python3"
  },
  "language_info": {
   "codemirror_mode": {
    "name": "ipython",
    "version": 3
   },
   "file_extension": ".py",
   "mimetype": "text/x-python",
   "name": "python",
   "nbconvert_exporter": "python",
   "pygments_lexer": "ipython3",
   "version": "3.7.3"
  }
 },
 "nbformat": 4,
 "nbformat_minor": 2
}
