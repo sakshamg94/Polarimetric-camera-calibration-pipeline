{
 "cells": [
  {
   "cell_type": "code",
   "execution_count": 1,
   "metadata": {},
   "outputs": [],
   "source": [
    "import numpy as np\n",
    "from mpl_toolkits.axes_grid1 import make_axes_locatable\n",
    "from tqdm import tqdm\n",
    "from mpl_toolkits import mplot3d\n",
    "import time\n",
    "from klepto.archives import dir_archive"
   ]
  },
  {
   "cell_type": "code",
   "execution_count": 2,
   "metadata": {},
   "outputs": [],
   "source": [
    "from rawFLIR_polarization_data_extraction import *\n",
    "from slope2height import *"
   ]
  },
  {
   "cell_type": "code",
   "execution_count": 3,
   "metadata": {},
   "outputs": [
    {
     "name": "stdout",
     "output_type": "stream",
     "text": [
      "../FLIR_Camera/canopy_slowFlow_IntermedH_test2_centeredCam_flume_LookAngle_35Deg\n"
     ]
    }
   ],
   "source": [
    "NUM_IMAGES=1\n",
    "BEDFORMS = ['corals', 'canopy', 'rocks', 'dunes']\n",
    "flow_speeds = ['fast', 'med', 'slow']\n",
    "submergences = ['Deep', 'Intermed', 'Shallow']\n",
    "\n",
    "# choose the data\n",
    "bed_idx = 1\n",
    "flow_idx = 2\n",
    "submergence_idx = 1 # change this\n",
    "TEST = 2\n",
    "\n",
    "# SET the data variables\n",
    "FLOW_SPEED = flow_speeds[flow_idx]\n",
    "SUBMERGENCE = submergences[submergence_idx]\n",
    "BEDFORM = BEDFORMS[bed_idx]\n",
    "\n",
    "# source data folders\n",
    "file_location = \"../FLIR_Camera/{}_{}Flow_{}H_test{}_centeredCam_flume_LookAngle_35Deg\".format(BEDFORM, FLOW_SPEED, SUBMERGENCE, TEST)\n",
    "ref_image_name = 'reference.tiff'\n",
    "save_location =  \"../TOSHIBA_Drive/saksham_polar_cam_FLIR\"\n",
    "dark_files_location = \"../FLIR_Camera/dark_imgs\"\n",
    "flat_files_location = \"../FLIR_Camera/flat_imgs\"\n",
    "klepto_saved_data_origin = 'klepto_bulk_data_saves' \n",
    "print(file_location)"
   ]
  },
  {
   "cell_type": "code",
   "execution_count": 4,
   "metadata": {},
   "outputs": [],
   "source": [
    "flat_field_correction_params = flat_field_params(dark_files_location, flat_files_location)"
   ]
  },
  {
   "cell_type": "code",
   "execution_count": 5,
   "metadata": {},
   "outputs": [
    {
     "name": "stdout",
     "output_type": "stream",
     "text": [
      "Processing data for material : WATER\n",
      "image_data shape is :  (2048, 2448)\n",
      "im90 shape is :  (1024, 1224)\n",
      "Stokes time:  0.03298163414001465 s\n",
      "im_stokes0 shape is :  (1024, 1224)\n",
      "DoLP time:  0.045135498046875 s\n",
      "im_DOLP shape is :  (1024, 1224)\n"
     ]
    },
    {
     "name": "stderr",
     "output_type": "stream",
     "text": [
      "C:\\Users\\tracy\\Downloads\\saksham_polarimetric_cam\\scripts\\rawFLIR_polarization_data_extraction.py:225: RuntimeWarning: invalid value encountered in true_divide\n",
      "  alpha = 0.5*(np.tan(thI-thT)/np.tan(thI+thT))**2\n",
      "C:\\Users\\tracy\\Downloads\\saksham_polarimetric_cam\\scripts\\rawFLIR_polarization_data_extraction.py:226: RuntimeWarning: invalid value encountered in true_divide\n",
      "  eta = 0.5*(np.sin(thI-thT)/np.sin(thI+thT))**2\n",
      "C:\\ProgramData\\Anaconda3\\lib\\site-packages\\scipy\\interpolate\\interpolate.py:689: RuntimeWarning: invalid value encountered in greater\n",
      "  above_bounds = x_new > self.x[-1]\n"
     ]
    },
    {
     "name": "stdout",
     "output_type": "stream",
     "text": [
      "Time for DOLP2Theta conversion is :  23.89870858192444 seconds\n",
      "False\n",
      "AoLP time:  0.04197502136230469 s\n"
     ]
    }
   ],
   "source": [
    "im_theta1, im_phi1 = theta_phi(ref_image_name, file_location,\n",
    "                               material = 'water',\n",
    "                               flat_field_correct = 1,\n",
    "                               gaussian_smoothing_sigma = 0,\n",
    "                               num_images= NUM_IMAGES, correction_angle=0,\n",
    "                               flat_field_correction_params = flat_field_correction_params)"
   ]
  },
  {
   "cell_type": "markdown",
   "metadata": {},
   "source": [
    "# SAVE the height, slope, raw data maps"
   ]
  },
  {
   "cell_type": "code",
   "execution_count": 6,
   "metadata": {},
   "outputs": [
    {
     "name": "stdout",
     "output_type": "stream",
     "text": [
      "900\n"
     ]
    }
   ],
   "source": [
    "filenames = os.listdir(file_location)\n",
    "filenames.remove(ref_image_name) \n",
    "NUM_FRAMES = len(filenames)\n",
    "print(NUM_FRAMES)"
   ]
  },
  {
   "cell_type": "code",
   "execution_count": 7,
   "metadata": {},
   "outputs": [
    {
     "name": "stderr",
     "output_type": "stream",
     "text": [
      "  0%|                                                                                            | 0/4 [00:00<?, ?it/s]\n",
      "  0%|                                                                                          | 0/225 [00:00<?, ?it/s]"
     ]
    },
    {
     "name": "stdout",
     "output_type": "stream",
     "text": [
      "Processing data for material : WATER\n",
      "image_data shape is :  (2048, 2448)\n",
      "im90 shape is :  (1024, 1224)\n",
      "Stokes time:  0.03198122978210449 s\n",
      "im_stokes0 shape is :  (1024, 1224)\n",
      "DoLP time:  0.03797745704650879 s\n",
      "im_DOLP shape is :  (1024, 1224)\n",
      "Time for DOLP2Theta conversion is :  25.428372859954834 seconds\n",
      "False\n",
      "AoLP time:  0.042977094650268555 s\n"
     ]
    },
    {
     "name": "stderr",
     "output_type": "stream",
     "text": [
      "C:\\ProgramData\\Anaconda3\\lib\\site-packages\\ipykernel_launcher.py:29: ComplexWarning: Casting complex values to real discards the imaginary part\n",
      "\n",
      "  0%|▎                                                                               | 1/225 [00:29<1:48:52, 29.16s/it]"
     ]
    },
    {
     "name": "stdout",
     "output_type": "stream",
     "text": [
      "Processing data for material : WATER\n",
      "image_data shape is :  (2048, 2448)\n",
      "im90 shape is :  (1024, 1224)\n",
      "Stokes time:  0.02498626708984375 s\n",
      "im_stokes0 shape is :  (1024, 1224)\n",
      "DoLP time:  0.03497910499572754 s\n",
      "im_DOLP shape is :  (1024, 1224)\n",
      "Time for DOLP2Theta conversion is :  22.434067010879517 seconds\n",
      "False\n",
      "AoLP time:  0.04295635223388672 s\n"
     ]
    },
    {
     "name": "stderr",
     "output_type": "stream",
     "text": [
      "\n",
      "  1%|▋                                                                               | 2/225 [00:52<1:41:37, 27.34s/it]"
     ]
    },
    {
     "name": "stdout",
     "output_type": "stream",
     "text": [
      "Processing data for material : WATER\n",
      "image_data shape is :  (2048, 2448)\n",
      "im90 shape is :  (1024, 1224)\n",
      "Stokes time:  0.02698516845703125 s\n",
      "im_stokes0 shape is :  (1024, 1224)\n",
      "DoLP time:  0.03298139572143555 s\n",
      "im_DOLP shape is :  (1024, 1224)\n",
      "Time for DOLP2Theta conversion is :  21.226780652999878 seconds\n",
      "False\n",
      "AoLP time:  0.040976524353027344 s\n"
     ]
    },
    {
     "name": "stderr",
     "output_type": "stream",
     "text": [
      "\n",
      "  1%|█                                                                               | 3/225 [01:14<1:35:07, 25.71s/it]"
     ]
    },
    {
     "name": "stdout",
     "output_type": "stream",
     "text": [
      "Processing data for material : WATER\n",
      "image_data shape is :  (2048, 2448)\n",
      "im90 shape is :  (1024, 1224)\n",
      "Stokes time:  0.02498650550842285 s\n",
      "im_stokes0 shape is :  (1024, 1224)\n",
      "DoLP time:  0.030980825424194336 s\n",
      "im_DOLP shape is :  (1024, 1224)\n",
      "Time for DOLP2Theta conversion is :  22.13524842262268 seconds\n",
      "False\n",
      "AoLP time:  0.04297590255737305 s\n"
     ]
    },
    {
     "name": "stderr",
     "output_type": "stream",
     "text": [
      "\n",
      "  2%|█▍                                                                              | 4/225 [01:36<1:31:30, 24.84s/it]"
     ]
    },
    {
     "name": "stdout",
     "output_type": "stream",
     "text": [
      "Processing data for material : WATER\n",
      "image_data shape is :  (2048, 2448)\n",
      "im90 shape is :  (1024, 1224)\n",
      "Stokes time:  0.025984764099121094 s\n",
      "im_stokes0 shape is :  (1024, 1224)\n",
      "DoLP time:  0.03199028968811035 s\n",
      "im_DOLP shape is :  (1024, 1224)\n",
      "Time for DOLP2Theta conversion is :  23.01973056793213 seconds\n",
      "False\n",
      "AoLP time:  0.045972585678100586 s\n"
     ]
    },
    {
     "name": "stderr",
     "output_type": "stream",
     "text": [
      "\n",
      "  2%|█▊                                                                              | 5/225 [02:00<1:29:53, 24.51s/it]"
     ]
    },
    {
     "name": "stdout",
     "output_type": "stream",
     "text": [
      "Processing data for material : WATER\n",
      "image_data shape is :  (2048, 2448)\n",
      "im90 shape is :  (1024, 1224)\n",
      "Stokes time:  0.025985002517700195 s\n",
      "im_stokes0 shape is :  (1024, 1224)\n",
      "DoLP time:  0.03797745704650879 s\n",
      "im_DOLP shape is :  (1024, 1224)\n",
      "Time for DOLP2Theta conversion is :  24.717751502990723 seconds\n",
      "False\n",
      "AoLP time:  0.04797196388244629 s\n"
     ]
    },
    {
     "name": "stderr",
     "output_type": "stream",
     "text": [
      "\n",
      "  3%|██▏                                                                             | 6/225 [02:26<1:30:29, 24.79s/it]"
     ]
    },
    {
     "name": "stdout",
     "output_type": "stream",
     "text": [
      "Processing data for material : WATER\n",
      "image_data shape is :  (2048, 2448)\n",
      "im90 shape is :  (1024, 1224)\n",
      "Stokes time:  0.026984214782714844 s\n",
      "im_stokes0 shape is :  (1024, 1224)\n",
      "DoLP time:  0.036978721618652344 s\n",
      "im_DOLP shape is :  (1024, 1224)\n",
      "Time for DOLP2Theta conversion is :  24.52286434173584 seconds\n",
      "False\n",
      "AoLP time:  0.04497361183166504 s\n"
     ]
    },
    {
     "name": "stderr",
     "output_type": "stream",
     "text": [
      "\n",
      "  3%|██▍                                                                             | 7/225 [02:51<1:30:34, 24.93s/it]"
     ]
    },
    {
     "name": "stdout",
     "output_type": "stream",
     "text": [
      "Processing data for material : WATER\n",
      "image_data shape is :  (2048, 2448)\n",
      "im90 shape is :  (1024, 1224)\n",
      "Stokes time:  0.025985240936279297 s\n",
      "im_stokes0 shape is :  (1024, 1224)\n",
      "DoLP time:  0.035979509353637695 s\n",
      "im_DOLP shape is :  (1024, 1224)\n",
      "Time for DOLP2Theta conversion is :  25.483309745788574 seconds\n",
      "False\n",
      "AoLP time:  0.04197359085083008 s\n"
     ]
    },
    {
     "name": "stderr",
     "output_type": "stream",
     "text": [
      "\n",
      "  4%|██▊                                                                             | 8/225 [03:17<1:31:31, 25.31s/it]"
     ]
    },
    {
     "name": "stdout",
     "output_type": "stream",
     "text": [
      "Processing data for material : WATER\n",
      "image_data shape is :  (2048, 2448)\n",
      "im90 shape is :  (1024, 1224)\n",
      "Stokes time:  0.02698493003845215 s\n",
      "im_stokes0 shape is :  (1024, 1224)\n",
      "DoLP time:  0.03897714614868164 s\n",
      "im_DOLP shape is :  (1024, 1224)\n",
      "Time for DOLP2Theta conversion is :  24.83368444442749 seconds\n",
      "False\n",
      "AoLP time:  0.04297518730163574 s\n"
     ]
    },
    {
     "name": "stderr",
     "output_type": "stream",
     "text": [
      "\n",
      "  4%|███▏                                                                            | 9/225 [03:43<1:31:21, 25.38s/it]"
     ]
    },
    {
     "name": "stdout",
     "output_type": "stream",
     "text": [
      "Processing data for material : WATER\n",
      "image_data shape is :  (2048, 2448)\n",
      "im90 shape is :  (1024, 1224)\n",
      "Stokes time:  0.024985551834106445 s\n",
      "im_stokes0 shape is :  (1024, 1224)\n",
      "DoLP time:  0.032980918884277344 s\n",
      "im_DOLP shape is :  (1024, 1224)\n",
      "Time for DOLP2Theta conversion is :  21.71348285675049 seconds\n",
      "False\n",
      "AoLP time:  0.040975332260131836 s\n"
     ]
    },
    {
     "name": "stderr",
     "output_type": "stream",
     "text": [
      "\n",
      "  4%|███▌                                                                           | 10/225 [04:05<1:27:44, 24.49s/it]"
     ]
    },
    {
     "name": "stdout",
     "output_type": "stream",
     "text": [
      "Processing data for material : WATER\n",
      "image_data shape is :  (2048, 2448)\n",
      "im90 shape is :  (1024, 1224)\n",
      "Stokes time:  0.02398538589477539 s\n",
      "im_stokes0 shape is :  (1024, 1224)\n",
      "DoLP time:  0.03198122978210449 s\n",
      "im_DOLP shape is :  (1024, 1224)\n",
      "Time for DOLP2Theta conversion is :  21.614540338516235 seconds\n",
      "False\n",
      "AoLP time:  0.04297447204589844 s\n"
     ]
    },
    {
     "name": "stderr",
     "output_type": "stream",
     "text": [
      "\n",
      "  5%|███▊                                                                           | 11/225 [04:27<1:24:58, 23.83s/it]"
     ]
    },
    {
     "name": "stdout",
     "output_type": "stream",
     "text": [
      "Processing data for material : WATER\n",
      "image_data shape is :  (2048, 2448)\n",
      "im90 shape is :  (1024, 1224)\n",
      "Stokes time:  0.024985551834106445 s\n",
      "im_stokes0 shape is :  (1024, 1224)\n",
      "DoLP time:  0.03198122978210449 s\n",
      "im_DOLP shape is :  (1024, 1224)\n",
      "Time for DOLP2Theta conversion is :  22.246177434921265 seconds\n",
      "False\n",
      "AoLP time:  0.04297304153442383 s\n"
     ]
    },
    {
     "name": "stderr",
     "output_type": "stream",
     "text": [
      "\n",
      "  5%|████▏                                                                          | 12/225 [04:50<1:23:39, 23.56s/it]"
     ]
    },
    {
     "name": "stdout",
     "output_type": "stream",
     "text": [
      "Processing data for material : WATER\n",
      "image_data shape is :  (2048, 2448)\n",
      "im90 shape is :  (1024, 1224)\n",
      "Stokes time:  0.02498602867126465 s\n",
      "im_stokes0 shape is :  (1024, 1224)\n",
      "DoLP time:  0.037978172302246094 s\n",
      "im_DOLP shape is :  (1024, 1224)\n",
      "Time for DOLP2Theta conversion is :  23.91421413421631 seconds\n",
      "False\n",
      "AoLP time:  0.04797220230102539 s\n"
     ]
    },
    {
     "name": "stderr",
     "output_type": "stream",
     "text": [
      "\n",
      "  6%|████▌                                                                          | 13/225 [05:15<1:24:23, 23.88s/it]"
     ]
    },
    {
     "name": "stdout",
     "output_type": "stream",
     "text": [
      "Processing data for material : WATER\n",
      "image_data shape is :  (2048, 2448)\n",
      "im90 shape is :  (1024, 1224)\n",
      "Stokes time:  0.025984764099121094 s\n",
      "im_stokes0 shape is :  (1024, 1224)\n",
      "DoLP time:  0.03797769546508789 s\n",
      "im_DOLP shape is :  (1024, 1224)\n",
      "Time for DOLP2Theta conversion is :  25.030571937561035 seconds\n",
      "False\n",
      "AoLP time:  0.046973228454589844 s\n"
     ]
    },
    {
     "name": "stderr",
     "output_type": "stream",
     "text": [
      "\n",
      "  6%|████▉                                                                          | 14/225 [05:41<1:25:57, 24.44s/it]"
     ]
    },
    {
     "name": "stdout",
     "output_type": "stream",
     "text": [
      "Processing data for material : WATER\n",
      "image_data shape is :  (2048, 2448)\n",
      "im90 shape is :  (1024, 1224)\n",
      "Stokes time:  0.0259857177734375 s\n",
      "im_stokes0 shape is :  (1024, 1224)\n",
      "DoLP time:  0.03797745704650879 s\n",
      "im_DOLP shape is :  (1024, 1224)\n",
      "Time for DOLP2Theta conversion is :  23.48945951461792 seconds\n",
      "False\n",
      "AoLP time:  0.043975830078125 s\n"
     ]
    },
    {
     "name": "stderr",
     "output_type": "stream",
     "text": [
      "\n",
      "  7%|█████▎                                                                         | 15/225 [06:05<1:25:18, 24.37s/it]"
     ]
    },
    {
     "name": "stdout",
     "output_type": "stream",
     "text": [
      "Processing data for material : WATER\n",
      "image_data shape is :  (2048, 2448)\n",
      "im90 shape is :  (1024, 1224)\n",
      "Stokes time:  0.0259854793548584 s\n",
      "im_stokes0 shape is :  (1024, 1224)\n",
      "DoLP time:  0.03697848320007324 s\n",
      "im_DOLP shape is :  (1024, 1224)\n",
      "Time for DOLP2Theta conversion is :  23.840256690979004 seconds\n",
      "False\n",
      "AoLP time:  0.0439753532409668 s\n"
     ]
    },
    {
     "name": "stderr",
     "output_type": "stream",
     "text": [
      "\n",
      "  7%|█████▌                                                                         | 16/225 [06:29<1:25:04, 24.42s/it]"
     ]
    },
    {
     "name": "stdout",
     "output_type": "stream",
     "text": [
      "Processing data for material : WATER\n",
      "image_data shape is :  (2048, 2448)\n",
      "im90 shape is :  (1024, 1224)\n",
      "Stokes time:  0.024986743927001953 s\n",
      "im_stokes0 shape is :  (1024, 1224)\n",
      "DoLP time:  0.03697943687438965 s\n",
      "im_DOLP shape is :  (1024, 1224)\n",
      "Time for DOLP2Theta conversion is :  22.672930479049683 seconds\n",
      "False\n",
      "AoLP time:  0.040975332260131836 s\n"
     ]
    },
    {
     "name": "stderr",
     "output_type": "stream",
     "text": [
      "\n",
      "  8%|█████▉                                                                         | 17/225 [06:53<1:23:34, 24.11s/it]"
     ]
    },
    {
     "name": "stdout",
     "output_type": "stream",
     "text": [
      "Processing data for material : WATER\n",
      "image_data shape is :  (2048, 2448)\n",
      "im90 shape is :  (1024, 1224)\n",
      "Stokes time:  0.025985240936279297 s\n",
      "im_stokes0 shape is :  (1024, 1224)\n",
      "DoLP time:  0.03697657585144043 s\n",
      "im_DOLP shape is :  (1024, 1224)\n",
      "Time for DOLP2Theta conversion is :  21.48961091041565 seconds\n",
      "False\n",
      "AoLP time:  0.04597282409667969 s\n"
     ]
    },
    {
     "name": "stderr",
     "output_type": "stream",
     "text": [
      "\n",
      "  8%|██████▎                                                                        | 18/225 [07:15<1:21:12, 23.54s/it]"
     ]
    },
    {
     "name": "stdout",
     "output_type": "stream",
     "text": [
      "Processing data for material : WATER\n",
      "image_data shape is :  (2048, 2448)\n",
      "im90 shape is :  (1024, 1224)\n",
      "Stokes time:  0.024985074996948242 s\n",
      "im_stokes0 shape is :  (1024, 1224)\n",
      "DoLP time:  0.030982017517089844 s\n",
      "im_DOLP shape is :  (1024, 1224)\n",
      "Time for DOLP2Theta conversion is :  21.790437936782837 seconds\n",
      "False\n",
      "AoLP time:  0.04197502136230469 s\n"
     ]
    },
    {
     "name": "stderr",
     "output_type": "stream",
     "text": [
      "\n",
      "  8%|██████▋                                                                        | 19/225 [07:37<1:19:41, 23.21s/it]"
     ]
    },
    {
     "name": "stdout",
     "output_type": "stream",
     "text": [
      "Processing data for material : WATER\n",
      "image_data shape is :  (2048, 2448)\n",
      "im90 shape is :  (1024, 1224)\n",
      "Stokes time:  0.02398681640625 s\n",
      "im_stokes0 shape is :  (1024, 1224)\n",
      "DoLP time:  0.032980918884277344 s\n",
      "im_DOLP shape is :  (1024, 1224)\n",
      "Time for DOLP2Theta conversion is :  23.680349111557007 seconds\n",
      "False\n",
      "AoLP time:  0.04597282409667969 s\n"
     ]
    },
    {
     "name": "stderr",
     "output_type": "stream",
     "text": [
      "\n",
      "  9%|███████                                                                        | 20/225 [08:02<1:20:30, 23.56s/it]"
     ]
    },
    {
     "name": "stdout",
     "output_type": "stream",
     "text": [
      "Processing data for material : WATER\n",
      "image_data shape is :  (2048, 2448)\n",
      "im90 shape is :  (1024, 1224)\n",
      "Stokes time:  0.02698493003845215 s\n",
      "im_stokes0 shape is :  (1024, 1224)\n",
      "DoLP time:  0.03897690773010254 s\n",
      "im_DOLP shape is :  (1024, 1224)\n",
      "Time for DOLP2Theta conversion is :  23.67635178565979 seconds\n",
      "False\n",
      "AoLP time:  0.052968502044677734 s\n"
     ]
    },
    {
     "name": "stderr",
     "output_type": "stream",
     "text": [
      "\n",
      "  9%|███████▎                                                                       | 21/225 [08:26<1:20:55, 23.80s/it]"
     ]
    },
    {
     "name": "stdout",
     "output_type": "stream",
     "text": [
      "Processing data for material : WATER\n",
      "image_data shape is :  (2048, 2448)\n",
      "im90 shape is :  (1024, 1224)\n",
      "Stokes time:  0.028982877731323242 s\n",
      "im_stokes0 shape is :  (1024, 1224)\n",
      "DoLP time:  0.040976762771606445 s\n",
      "im_DOLP shape is :  (1024, 1224)\n",
      "Time for DOLP2Theta conversion is :  23.946195602416992 seconds\n",
      "False\n",
      "AoLP time:  0.042975664138793945 s\n"
     ]
    },
    {
     "name": "stderr",
     "output_type": "stream",
     "text": [
      "\n",
      " 10%|███████▋                                                                       | 22/225 [08:51<1:21:22, 24.05s/it]"
     ]
    },
    {
     "name": "stdout",
     "output_type": "stream",
     "text": [
      "Processing data for material : WATER\n",
      "image_data shape is :  (2048, 2448)\n",
      "im90 shape is :  (1024, 1224)\n",
      "Stokes time:  0.025985002517700195 s\n",
      "im_stokes0 shape is :  (1024, 1224)\n",
      "DoLP time:  0.03797769546508789 s\n",
      "im_DOLP shape is :  (1024, 1224)\n",
      "Time for DOLP2Theta conversion is :  23.800280809402466 seconds\n",
      "False\n",
      "AoLP time:  0.05496811866760254 s\n"
     ]
    },
    {
     "name": "stderr",
     "output_type": "stream",
     "text": [
      "\n",
      " 10%|████████                                                                       | 23/225 [09:15<1:21:25, 24.19s/it]"
     ]
    },
    {
     "name": "stdout",
     "output_type": "stream",
     "text": [
      "Processing data for material : WATER\n",
      "image_data shape is :  (2048, 2448)\n",
      "im90 shape is :  (1024, 1224)\n",
      "Stokes time:  0.026984453201293945 s\n",
      "im_stokes0 shape is :  (1024, 1224)\n",
      "DoLP time:  0.039977073669433594 s\n",
      "im_DOLP shape is :  (1024, 1224)\n",
      "Time for DOLP2Theta conversion is :  23.851250648498535 seconds\n",
      "False\n",
      "AoLP time:  0.04597282409667969 s\n"
     ]
    },
    {
     "name": "stderr",
     "output_type": "stream",
     "text": [
      "\n",
      " 11%|████████▍                                                                      | 24/225 [09:40<1:21:23, 24.30s/it]"
     ]
    },
    {
     "name": "stdout",
     "output_type": "stream",
     "text": [
      "Processing data for material : WATER\n",
      "image_data shape is :  (2048, 2448)\n",
      "im90 shape is :  (1024, 1224)\n",
      "Stokes time:  0.026983976364135742 s\n",
      "im_stokes0 shape is :  (1024, 1224)\n",
      "DoLP time:  0.03497934341430664 s\n",
      "im_DOLP shape is :  (1024, 1224)\n",
      "Time for DOLP2Theta conversion is :  21.73846960067749 seconds\n",
      "False\n",
      "AoLP time:  0.04597282409667969 s\n"
     ]
    },
    {
     "name": "stderr",
     "output_type": "stream",
     "text": [
      "\n",
      " 11%|████████▊                                                                      | 25/225 [10:02<1:19:05, 23.73s/it]"
     ]
    },
    {
     "name": "stdout",
     "output_type": "stream",
     "text": [
      "Processing data for material : WATER\n",
      "image_data shape is :  (2048, 2448)\n",
      "im90 shape is :  (1024, 1224)\n",
      "Stokes time:  0.025985240936279297 s\n",
      "im_stokes0 shape is :  (1024, 1224)\n",
      "DoLP time:  0.03397989273071289 s\n",
      "im_DOLP shape is :  (1024, 1224)\n",
      "Time for DOLP2Theta conversion is :  22.004318237304688 seconds\n",
      "False\n",
      "AoLP time:  0.04697418212890625 s\n"
     ]
    },
    {
     "name": "stderr",
     "output_type": "stream",
     "text": [
      "\n",
      " 12%|█████████▏                                                                     | 26/225 [10:25<1:17:36, 23.40s/it]"
     ]
    },
    {
     "name": "stdout",
     "output_type": "stream",
     "text": [
      "Processing data for material : WATER\n",
      "image_data shape is :  (2048, 2448)\n",
      "im90 shape is :  (1024, 1224)\n",
      "Stokes time:  0.024985074996948242 s\n",
      "im_stokes0 shape is :  (1024, 1224)\n",
      "DoLP time:  0.032980918884277344 s\n",
      "im_DOLP shape is :  (1024, 1224)\n",
      "Time for DOLP2Theta conversion is :  22.283155918121338 seconds\n",
      "False\n",
      "AoLP time:  0.044973134994506836 s\n"
     ]
    },
    {
     "name": "stderr",
     "output_type": "stream",
     "text": [
      "\n",
      " 12%|█████████▍                                                                     | 27/225 [10:48<1:16:45, 23.26s/it]"
     ]
    },
    {
     "name": "stdout",
     "output_type": "stream",
     "text": [
      "Processing data for material : WATER\n",
      "image_data shape is :  (2048, 2448)\n",
      "im90 shape is :  (1024, 1224)\n",
      "Stokes time:  0.02598404884338379 s\n",
      "im_stokes0 shape is :  (1024, 1224)\n",
      "DoLP time:  0.0379786491394043 s\n",
      "im_DOLP shape is :  (1024, 1224)\n",
      "Time for DOLP2Theta conversion is :  23.66835594177246 seconds\n",
      "False\n",
      "AoLP time:  0.04897117614746094 s\n"
     ]
    },
    {
     "name": "stderr",
     "output_type": "stream",
     "text": [
      "\n",
      " 12%|█████████▊                                                                     | 28/225 [11:12<1:17:26, 23.59s/it]"
     ]
    },
    {
     "name": "stdout",
     "output_type": "stream",
     "text": [
      "Processing data for material : WATER\n",
      "image_data shape is :  (2048, 2448)\n",
      "im90 shape is :  (1024, 1224)\n",
      "Stokes time:  0.026984453201293945 s\n",
      "im_stokes0 shape is :  (1024, 1224)\n",
      "DoLP time:  0.03497910499572754 s\n",
      "im_DOLP shape is :  (1024, 1224)\n",
      "Time for DOLP2Theta conversion is :  23.84825348854065 seconds\n",
      "False\n",
      "AoLP time:  0.04597282409667969 s\n"
     ]
    },
    {
     "name": "stderr",
     "output_type": "stream",
     "text": [
      "\n",
      " 13%|██████████▏                                                                    | 29/225 [11:37<1:17:58, 23.87s/it]"
     ]
    },
    {
     "name": "stdout",
     "output_type": "stream",
     "text": [
      "Processing data for material : WATER\n",
      "image_data shape is :  (2048, 2448)\n",
      "im90 shape is :  (1024, 1224)\n",
      "Stokes time:  0.027983665466308594 s\n",
      "im_stokes0 shape is :  (1024, 1224)\n",
      "DoLP time:  0.03797793388366699 s\n",
      "im_DOLP shape is :  (1024, 1224)\n",
      "Time for DOLP2Theta conversion is :  23.922209978103638 seconds\n",
      "False\n",
      "AoLP time:  0.047972917556762695 s\n"
     ]
    },
    {
     "name": "stderr",
     "output_type": "stream",
     "text": [
      "\n",
      " 13%|██████████▌                                                                    | 30/225 [12:01<1:18:17, 24.09s/it]"
     ]
    },
    {
     "name": "stdout",
     "output_type": "stream",
     "text": [
      "Processing data for material : WATER\n",
      "image_data shape is :  (2048, 2448)\n",
      "im90 shape is :  (1024, 1224)\n",
      "Stokes time:  0.027983427047729492 s\n",
      "im_stokes0 shape is :  (1024, 1224)\n",
      "DoLP time:  0.032982826232910156 s\n",
      "im_DOLP shape is :  (1024, 1224)\n",
      "Time for DOLP2Theta conversion is :  23.932204723358154 seconds\n",
      "False\n",
      "AoLP time:  0.04397439956665039 s\n"
     ]
    },
    {
     "name": "stderr",
     "output_type": "stream",
     "text": [
      "\n",
      " 14%|██████████▉                                                                    | 31/225 [12:26<1:18:25, 24.25s/it]"
     ]
    },
    {
     "name": "stdout",
     "output_type": "stream",
     "text": [
      "Processing data for material : WATER\n",
      "image_data shape is :  (2048, 2448)\n",
      "im90 shape is :  (1024, 1224)\n",
      "Stokes time:  0.02898383140563965 s\n",
      "im_stokes0 shape is :  (1024, 1224)\n",
      "DoLP time:  0.03697943687438965 s\n",
      "im_DOLP shape is :  (1024, 1224)\n",
      "Time for DOLP2Theta conversion is :  23.381521224975586 seconds\n",
      "False\n",
      "AoLP time:  0.04197573661804199 s\n"
     ]
    },
    {
     "name": "stderr",
     "output_type": "stream",
     "text": [
      "\n",
      " 14%|███████████▏                                                                   | 32/225 [12:50<1:17:48, 24.19s/it]"
     ]
    },
    {
     "name": "stdout",
     "output_type": "stream",
     "text": [
      "Processing data for material : WATER\n",
      "image_data shape is :  (2048, 2448)\n",
      "im90 shape is :  (1024, 1224)\n",
      "Stokes time:  0.024985790252685547 s\n",
      "im_stokes0 shape is :  (1024, 1224)\n",
      "DoLP time:  0.0339808464050293 s\n",
      "im_DOLP shape is :  (1024, 1224)\n",
      "Time for DOLP2Theta conversion is :  21.707486391067505 seconds\n",
      "False\n",
      "AoLP time:  0.04597210884094238 s\n"
     ]
    },
    {
     "name": "stderr",
     "output_type": "stream",
     "text": [
      "\n",
      " 15%|███████████▌                                                                   | 33/225 [13:12<1:15:38, 23.64s/it]"
     ]
    },
    {
     "name": "stdout",
     "output_type": "stream",
     "text": [
      "Processing data for material : WATER\n",
      "image_data shape is :  (2048, 2448)\n",
      "im90 shape is :  (1024, 1224)\n",
      "Stokes time:  0.026984453201293945 s\n",
      "im_stokes0 shape is :  (1024, 1224)\n",
      "DoLP time:  0.03697848320007324 s\n",
      "im_DOLP shape is :  (1024, 1224)\n",
      "Time for DOLP2Theta conversion is :  21.803430795669556 seconds\n",
      "False\n",
      "AoLP time:  0.05097055435180664 s\n"
     ]
    },
    {
     "name": "stderr",
     "output_type": "stream",
     "text": [
      "\n",
      " 15%|███████████▉                                                                   | 34/225 [13:35<1:14:06, 23.28s/it]"
     ]
    },
    {
     "name": "stdout",
     "output_type": "stream",
     "text": [
      "Processing data for material : WATER\n",
      "image_data shape is :  (2048, 2448)\n",
      "im90 shape is :  (1024, 1224)\n",
      "Stokes time:  0.024985551834106445 s\n",
      "im_stokes0 shape is :  (1024, 1224)\n",
      "DoLP time:  0.03497910499572754 s\n",
      "im_DOLP shape is :  (1024, 1224)\n",
      "Time for DOLP2Theta conversion is :  23.519441843032837 seconds\n",
      "False\n",
      "AoLP time:  0.04597282409667969 s\n"
     ]
    },
    {
     "name": "stderr",
     "output_type": "stream",
     "text": [
      "\n",
      " 16%|████████████▎                                                                  | 35/225 [13:59<1:14:34, 23.55s/it]"
     ]
    },
    {
     "name": "stdout",
     "output_type": "stream",
     "text": [
      "Processing data for material : WATER\n",
      "image_data shape is :  (2048, 2448)\n",
      "im90 shape is :  (1024, 1224)\n",
      "Stokes time:  0.027983427047729492 s\n",
      "im_stokes0 shape is :  (1024, 1224)\n",
      "DoLP time:  0.036977291107177734 s\n",
      "im_DOLP shape is :  (1024, 1224)\n",
      "Time for DOLP2Theta conversion is :  23.66535711288452 seconds\n",
      "False\n",
      "AoLP time:  0.04897141456604004 s\n"
     ]
    },
    {
     "name": "stderr",
     "output_type": "stream",
     "text": [
      "\n",
      " 16%|████████████▋                                                                  | 36/225 [14:23<1:14:55, 23.79s/it]"
     ]
    },
    {
     "name": "stdout",
     "output_type": "stream",
     "text": [
      "Processing data for material : WATER\n",
      "image_data shape is :  (2048, 2448)\n",
      "im90 shape is :  (1024, 1224)\n",
      "Stokes time:  0.027984142303466797 s\n",
      "im_stokes0 shape is :  (1024, 1224)\n",
      "DoLP time:  0.035979270935058594 s\n",
      "im_DOLP shape is :  (1024, 1224)\n",
      "Time for DOLP2Theta conversion is :  23.952192306518555 seconds\n",
      "False\n",
      "AoLP time:  0.04697299003601074 s\n"
     ]
    },
    {
     "name": "stderr",
     "output_type": "stream",
     "text": [
      "\n",
      " 16%|████████████▉                                                                  | 37/225 [14:48<1:15:20, 24.05s/it]"
     ]
    },
    {
     "name": "stdout",
     "output_type": "stream",
     "text": [
      "Processing data for material : WATER\n",
      "image_data shape is :  (2048, 2448)\n",
      "im90 shape is :  (1024, 1224)\n",
      "Stokes time:  0.025983810424804688 s\n",
      "im_stokes0 shape is :  (1024, 1224)\n",
      "DoLP time:  0.035979270935058594 s\n",
      "im_DOLP shape is :  (1024, 1224)\n",
      "Time for DOLP2Theta conversion is :  24.2830011844635 seconds\n",
      "False\n",
      "AoLP time:  0.04497361183166504 s\n"
     ]
    },
    {
     "name": "stderr",
     "output_type": "stream",
     "text": [
      "\n",
      " 17%|█████████████▎                                                                 | 38/225 [15:13<1:15:48, 24.32s/it]"
     ]
    },
    {
     "name": "stdout",
     "output_type": "stream",
     "text": [
      "Processing data for material : WATER\n",
      "image_data shape is :  (2048, 2448)\n",
      "im90 shape is :  (1024, 1224)\n",
      "Stokes time:  0.025984525680541992 s\n",
      "im_stokes0 shape is :  (1024, 1224)\n",
      "DoLP time:  0.036978960037231445 s\n",
      "im_DOLP shape is :  (1024, 1224)\n",
      "Time for DOLP2Theta conversion is :  23.88723063468933 seconds\n",
      "False\n",
      "AoLP time:  0.045973777770996094 s\n"
     ]
    },
    {
     "name": "stderr",
     "output_type": "stream",
     "text": [
      "\n",
      " 17%|█████████████▋                                                                 | 39/225 [15:37<1:15:36, 24.39s/it]"
     ]
    },
    {
     "name": "stdout",
     "output_type": "stream",
     "text": [
      "Processing data for material : WATER\n",
      "image_data shape is :  (2048, 2448)\n",
      "im90 shape is :  (1024, 1224)\n",
      "Stokes time:  0.02698493003845215 s\n",
      "im_stokes0 shape is :  (1024, 1224)\n",
      "DoLP time:  0.03797745704650879 s\n",
      "im_DOLP shape is :  (1024, 1224)\n",
      "Time for DOLP2Theta conversion is :  21.85340404510498 seconds\n",
      "False\n",
      "AoLP time:  0.04697251319885254 s\n"
     ]
    },
    {
     "name": "stderr",
     "output_type": "stream",
     "text": [
      "\n",
      " 18%|██████████████                                                                 | 40/225 [16:00<1:13:25, 23.82s/it]"
     ]
    },
    {
     "name": "stdout",
     "output_type": "stream",
     "text": [
      "Processing data for material : WATER\n",
      "image_data shape is :  (2048, 2448)\n",
      "im90 shape is :  (1024, 1224)\n",
      "Stokes time:  0.025984525680541992 s\n",
      "im_stokes0 shape is :  (1024, 1224)\n",
      "DoLP time:  0.035979509353637695 s\n",
      "im_DOLP shape is :  (1024, 1224)\n",
      "Time for DOLP2Theta conversion is :  21.644529342651367 seconds\n",
      "False\n",
      "AoLP time:  0.04197549819946289 s\n"
     ]
    },
    {
     "name": "stderr",
     "output_type": "stream",
     "text": [
      "\n",
      " 18%|██████████████▍                                                                | 41/225 [16:22<1:11:38, 23.36s/it]"
     ]
    },
    {
     "name": "stdout",
     "output_type": "stream",
     "text": [
      "Processing data for material : WATER\n",
      "image_data shape is :  (2048, 2448)\n",
      "im90 shape is :  (1024, 1224)\n",
      "Stokes time:  0.02698349952697754 s\n",
      "im_stokes0 shape is :  (1024, 1224)\n",
      "DoLP time:  0.0319821834564209 s\n",
      "im_DOLP shape is :  (1024, 1224)\n",
      "Time for DOLP2Theta conversion is :  22.247175931930542 seconds\n",
      "False\n",
      "AoLP time:  0.04697227478027344 s\n"
     ]
    },
    {
     "name": "stderr",
     "output_type": "stream",
     "text": [
      "\n",
      " 19%|██████████████▋                                                                | 42/225 [16:45<1:10:49, 23.22s/it]"
     ]
    },
    {
     "name": "stdout",
     "output_type": "stream",
     "text": [
      "Processing data for material : WATER\n",
      "image_data shape is :  (2048, 2448)\n",
      "im90 shape is :  (1024, 1224)\n",
      "Stokes time:  0.02698349952697754 s\n",
      "im_stokes0 shape is :  (1024, 1224)\n",
      "DoLP time:  0.03797769546508789 s\n",
      "im_DOLP shape is :  (1024, 1224)\n",
      "Time for DOLP2Theta conversion is :  24.49288034439087 seconds\n",
      "False\n",
      "AoLP time:  0.044974327087402344 s\n"
     ]
    },
    {
     "name": "stderr",
     "output_type": "stream",
     "text": [
      "\n",
      " 19%|███████████████                                                                | 43/225 [17:10<1:12:12, 23.80s/it]"
     ]
    },
    {
     "name": "stdout",
     "output_type": "stream",
     "text": [
      "Processing data for material : WATER\n",
      "image_data shape is :  (2048, 2448)\n",
      "im90 shape is :  (1024, 1224)\n",
      "Stokes time:  0.026984453201293945 s\n",
      "im_stokes0 shape is :  (1024, 1224)\n",
      "DoLP time:  0.03597831726074219 s\n",
      "im_DOLP shape is :  (1024, 1224)\n",
      "Time for DOLP2Theta conversion is :  24.170066833496094 seconds\n",
      "False\n",
      "AoLP time:  0.04397392272949219 s\n"
     ]
    },
    {
     "name": "stderr",
     "output_type": "stream",
     "text": [
      "\n",
      " 20%|███████████████▍                                                               | 44/225 [17:35<1:12:44, 24.11s/it]"
     ]
    },
    {
     "name": "stdout",
     "output_type": "stream",
     "text": [
      "Processing data for material : WATER\n",
      "image_data shape is :  (2048, 2448)\n",
      "im90 shape is :  (1024, 1224)\n",
      "Stokes time:  0.025985002517700195 s\n",
      "im_stokes0 shape is :  (1024, 1224)\n",
      "DoLP time:  0.03997635841369629 s\n",
      "im_DOLP shape is :  (1024, 1224)\n",
      "Time for DOLP2Theta conversion is :  24.144081115722656 seconds\n",
      "False\n",
      "AoLP time:  0.04997110366821289 s\n"
     ]
    },
    {
     "name": "stderr",
     "output_type": "stream",
     "text": [
      "\n",
      " 20%|███████████████▊                                                               | 45/225 [18:00<1:12:58, 24.33s/it]"
     ]
    },
    {
     "name": "stdout",
     "output_type": "stream",
     "text": [
      "Processing data for material : WATER\n",
      "image_data shape is :  (2048, 2448)\n",
      "im90 shape is :  (1024, 1224)\n",
      "Stokes time:  0.02898406982421875 s\n",
      "im_stokes0 shape is :  (1024, 1224)\n",
      "DoLP time:  0.03597855567932129 s\n",
      "im_DOLP shape is :  (1024, 1224)\n",
      "Time for DOLP2Theta conversion is :  23.735318422317505 seconds\n",
      "False\n",
      "AoLP time:  0.04397392272949219 s\n"
     ]
    },
    {
     "name": "stderr",
     "output_type": "stream",
     "text": [
      "\n",
      " 20%|████████████████▏                                                              | 46/225 [18:24<1:12:39, 24.35s/it]"
     ]
    },
    {
     "name": "stdout",
     "output_type": "stream",
     "text": [
      "Processing data for material : WATER\n",
      "image_data shape is :  (2048, 2448)\n",
      "im90 shape is :  (1024, 1224)\n",
      "Stokes time:  0.024986743927001953 s\n",
      "im_stokes0 shape is :  (1024, 1224)\n",
      "DoLP time:  0.03997635841369629 s\n",
      "im_DOLP shape is :  (1024, 1224)\n",
      "Time for DOLP2Theta conversion is :  23.319557666778564 seconds\n",
      "False\n",
      "AoLP time:  0.04697084426879883 s\n"
     ]
    },
    {
     "name": "stderr",
     "output_type": "stream",
     "text": [
      "\n",
      " 21%|████████████████▌                                                              | 47/225 [18:48<1:11:54, 24.24s/it]"
     ]
    },
    {
     "name": "stdout",
     "output_type": "stream",
     "text": [
      "Processing data for material : WATER\n",
      "image_data shape is :  (2048, 2448)\n",
      "im90 shape is :  (1024, 1224)\n",
      "Stokes time:  0.02598404884338379 s\n",
      "im_stokes0 shape is :  (1024, 1224)\n",
      "DoLP time:  0.03497934341430664 s\n",
      "im_DOLP shape is :  (1024, 1224)\n",
      "Time for DOLP2Theta conversion is :  22.249183654785156 seconds\n",
      "False\n",
      "AoLP time:  0.04597115516662598 s\n"
     ]
    },
    {
     "name": "stderr",
     "output_type": "stream",
     "text": [
      "\n",
      " 21%|████████████████▊                                                              | 48/225 [19:11<1:10:18, 23.83s/it]"
     ]
    },
    {
     "name": "stdout",
     "output_type": "stream",
     "text": [
      "Processing data for material : WATER\n",
      "image_data shape is :  (2048, 2448)\n",
      "im90 shape is :  (1024, 1224)\n",
      "Stokes time:  0.024985074996948242 s\n",
      "im_stokes0 shape is :  (1024, 1224)\n",
      "DoLP time:  0.03697776794433594 s\n",
      "im_DOLP shape is :  (1024, 1224)\n",
      "Time for DOLP2Theta conversion is :  21.990324020385742 seconds\n",
      "False\n",
      "AoLP time:  0.05196952819824219 s\n"
     ]
    },
    {
     "name": "stderr",
     "output_type": "stream",
     "text": [
      "\n",
      " 22%|█████████████████▏                                                             | 49/225 [19:34<1:08:52, 23.48s/it]"
     ]
    },
    {
     "name": "stdout",
     "output_type": "stream",
     "text": [
      "Processing data for material : WATER\n",
      "image_data shape is :  (2048, 2448)\n",
      "im90 shape is :  (1024, 1224)\n",
      "Stokes time:  0.026983261108398438 s\n",
      "im_stokes0 shape is :  (1024, 1224)\n",
      "DoLP time:  0.03497958183288574 s\n",
      "im_DOLP shape is :  (1024, 1224)\n",
      "Time for DOLP2Theta conversion is :  23.29257297515869 seconds\n",
      "False\n",
      "AoLP time:  0.042975425720214844 s\n"
     ]
    },
    {
     "name": "stderr",
     "output_type": "stream",
     "text": [
      "\n",
      " 22%|█████████████████▌                                                             | 50/225 [19:58<1:08:53, 23.62s/it]"
     ]
    },
    {
     "name": "stdout",
     "output_type": "stream",
     "text": [
      "Processing data for material : WATER\n",
      "image_data shape is :  (2048, 2448)\n",
      "im90 shape is :  (1024, 1224)\n",
      "Stokes time:  0.027982711791992188 s\n",
      "im_stokes0 shape is :  (1024, 1224)\n",
      "DoLP time:  0.035979509353637695 s\n",
      "im_DOLP shape is :  (1024, 1224)\n",
      "Time for DOLP2Theta conversion is :  23.755305767059326 seconds\n",
      "False\n",
      "AoLP time:  0.05496835708618164 s\n"
     ]
    },
    {
     "name": "stderr",
     "output_type": "stream",
     "text": [
      "\n",
      " 23%|█████████████████▉                                                             | 51/225 [20:22<1:09:13, 23.87s/it]"
     ]
    },
    {
     "name": "stdout",
     "output_type": "stream",
     "text": [
      "Processing data for material : WATER\n",
      "image_data shape is :  (2048, 2448)\n",
      "im90 shape is :  (1024, 1224)\n",
      "Stokes time:  0.02698493003845215 s\n",
      "im_stokes0 shape is :  (1024, 1224)\n",
      "DoLP time:  0.03597879409790039 s\n",
      "im_DOLP shape is :  (1024, 1224)\n",
      "Time for DOLP2Theta conversion is :  24.657785654067993 seconds\n",
      "False\n",
      "AoLP time:  0.043974876403808594 s\n"
     ]
    },
    {
     "name": "stderr",
     "output_type": "stream",
     "text": [
      "\n",
      " 23%|██████████████████▎                                                            | 52/225 [20:48<1:10:04, 24.30s/it]"
     ]
    },
    {
     "name": "stdout",
     "output_type": "stream",
     "text": [
      "Processing data for material : WATER\n",
      "image_data shape is :  (2048, 2448)\n",
      "im90 shape is :  (1024, 1224)\n",
      "Stokes time:  0.026982545852661133 s\n",
      "im_stokes0 shape is :  (1024, 1224)\n",
      "DoLP time:  0.03697824478149414 s\n",
      "im_DOLP shape is :  (1024, 1224)\n",
      "Time for DOLP2Theta conversion is :  23.68034839630127 seconds\n",
      "False\n",
      "AoLP time:  0.04597330093383789 s\n"
     ]
    },
    {
     "name": "stderr",
     "output_type": "stream",
     "text": [
      "\n",
      " 24%|██████████████████▌                                                            | 53/225 [21:12<1:09:41, 24.31s/it]"
     ]
    },
    {
     "name": "stdout",
     "output_type": "stream",
     "text": [
      "Processing data for material : WATER\n",
      "image_data shape is :  (2048, 2448)\n",
      "im90 shape is :  (1024, 1224)\n",
      "Stokes time:  0.025985240936279297 s\n",
      "im_stokes0 shape is :  (1024, 1224)\n",
      "DoLP time:  0.035979270935058594 s\n",
      "im_DOLP shape is :  (1024, 1224)\n",
      "Time for DOLP2Theta conversion is :  24.44990611076355 seconds\n",
      "False\n",
      "AoLP time:  0.044974565505981445 s\n"
     ]
    },
    {
     "name": "stderr",
     "output_type": "stream",
     "text": [
      "\n",
      " 24%|██████████████████▉                                                            | 54/225 [21:37<1:09:58, 24.55s/it]"
     ]
    },
    {
     "name": "stdout",
     "output_type": "stream",
     "text": [
      "Processing data for material : WATER\n",
      "image_data shape is :  (2048, 2448)\n",
      "im90 shape is :  (1024, 1224)\n",
      "Stokes time:  0.025985240936279297 s\n",
      "im_stokes0 shape is :  (1024, 1224)\n",
      "DoLP time:  0.03697800636291504 s\n",
      "im_DOLP shape is :  (1024, 1224)\n",
      "Time for DOLP2Theta conversion is :  21.702488660812378 seconds\n",
      "False\n",
      "AoLP time:  0.04297447204589844 s\n"
     ]
    },
    {
     "name": "stderr",
     "output_type": "stream",
     "text": [
      "\n",
      " 24%|███████████████████▎                                                           | 55/225 [21:59<1:07:42, 23.90s/it]"
     ]
    },
    {
     "name": "stdout",
     "output_type": "stream",
     "text": [
      "Processing data for material : WATER\n",
      "image_data shape is :  (2048, 2448)\n",
      "im90 shape is :  (1024, 1224)\n",
      "Stokes time:  0.02698373794555664 s\n",
      "im_stokes0 shape is :  (1024, 1224)\n",
      "DoLP time:  0.03397989273071289 s\n",
      "im_DOLP shape is :  (1024, 1224)\n",
      "Time for DOLP2Theta conversion is :  21.775447368621826 seconds\n",
      "False\n",
      "AoLP time:  0.04497170448303223 s\n"
     ]
    },
    {
     "name": "stderr",
     "output_type": "stream",
     "text": [
      "\n",
      " 25%|███████████████████▋                                                           | 56/225 [22:22<1:06:04, 23.46s/it]"
     ]
    },
    {
     "name": "stdout",
     "output_type": "stream",
     "text": [
      "Processing data for material : WATER\n",
      "image_data shape is :  (2048, 2448)\n",
      "im90 shape is :  (1024, 1224)\n",
      "Stokes time:  0.025984764099121094 s\n",
      "im_stokes0 shape is :  (1024, 1224)\n",
      "DoLP time:  0.03298139572143555 s\n",
      "im_DOLP shape is :  (1024, 1224)\n",
      "Time for DOLP2Theta conversion is :  22.441062688827515 seconds\n",
      "False\n",
      "AoLP time:  0.04597282409667969 s\n"
     ]
    },
    {
     "name": "stderr",
     "output_type": "stream",
     "text": [
      "\n",
      " 25%|████████████████████                                                           | 57/225 [22:45<1:05:23, 23.35s/it]"
     ]
    },
    {
     "name": "stdout",
     "output_type": "stream",
     "text": [
      "Processing data for material : WATER\n",
      "image_data shape is :  (2048, 2448)\n",
      "im90 shape is :  (1024, 1224)\n",
      "Stokes time:  0.02498483657836914 s\n",
      "im_stokes0 shape is :  (1024, 1224)\n",
      "DoLP time:  0.03697848320007324 s\n",
      "im_DOLP shape is :  (1024, 1224)\n",
      "Time for DOLP2Theta conversion is :  25.181483268737793 seconds\n",
      "False\n",
      "AoLP time:  0.0419771671295166 s\n"
     ]
    },
    {
     "name": "stderr",
     "output_type": "stream",
     "text": [
      "\n",
      " 26%|████████████████████▎                                                          | 58/225 [23:11<1:07:04, 24.10s/it]"
     ]
    },
    {
     "name": "stdout",
     "output_type": "stream",
     "text": [
      "Processing data for material : WATER\n",
      "image_data shape is :  (2048, 2448)\n",
      "im90 shape is :  (1024, 1224)\n",
      "Stokes time:  0.026983976364135742 s\n",
      "im_stokes0 shape is :  (1024, 1224)\n",
      "DoLP time:  0.036978721618652344 s\n",
      "im_DOLP shape is :  (1024, 1224)\n",
      "Time for DOLP2Theta conversion is :  24.077120304107666 seconds\n",
      "False\n",
      "AoLP time:  0.04996943473815918 s\n"
     ]
    },
    {
     "name": "stderr",
     "output_type": "stream",
     "text": [
      "\n",
      " 26%|████████████████████▋                                                          | 59/225 [23:36<1:07:14, 24.31s/it]"
     ]
    },
    {
     "name": "stdout",
     "output_type": "stream",
     "text": [
      "Processing data for material : WATER\n",
      "image_data shape is :  (2048, 2448)\n",
      "im90 shape is :  (1024, 1224)\n",
      "Stokes time:  0.026984453201293945 s\n",
      "im_stokes0 shape is :  (1024, 1224)\n",
      "DoLP time:  0.03497934341430664 s\n",
      "im_DOLP shape is :  (1024, 1224)\n",
      "Time for DOLP2Theta conversion is :  23.826265573501587 seconds\n",
      "False\n",
      "AoLP time:  0.04697251319885254 s\n"
     ]
    },
    {
     "name": "stderr",
     "output_type": "stream",
     "text": [
      "\n",
      " 27%|█████████████████████                                                          | 60/225 [24:00<1:07:00, 24.37s/it]"
     ]
    },
    {
     "name": "stdout",
     "output_type": "stream",
     "text": [
      "Processing data for material : WATER\n",
      "image_data shape is :  (2048, 2448)\n",
      "im90 shape is :  (1024, 1224)\n",
      "Stokes time:  0.02598428726196289 s\n",
      "im_stokes0 shape is :  (1024, 1224)\n",
      "DoLP time:  0.034979820251464844 s\n",
      "im_DOLP shape is :  (1024, 1224)\n",
      "Time for DOLP2Theta conversion is :  23.677350997924805 seconds\n",
      "False\n",
      "AoLP time:  0.044972896575927734 s\n"
     ]
    },
    {
     "name": "stderr",
     "output_type": "stream",
     "text": [
      "\n",
      " 27%|█████████████████████▍                                                         | 61/225 [24:24<1:06:35, 24.36s/it]"
     ]
    },
    {
     "name": "stdout",
     "output_type": "stream",
     "text": [
      "Processing data for material : WATER\n",
      "image_data shape is :  (2048, 2448)\n",
      "im90 shape is :  (1024, 1224)\n",
      "Stokes time:  0.02498602867126465 s\n",
      "im_stokes0 shape is :  (1024, 1224)\n",
      "DoLP time:  0.036978721618652344 s\n",
      "im_DOLP shape is :  (1024, 1224)\n",
      "Time for DOLP2Theta conversion is :  22.789881706237793 seconds\n",
      "False\n",
      "AoLP time:  0.04797220230102539 s\n"
     ]
    },
    {
     "name": "stderr",
     "output_type": "stream",
     "text": [
      "\n",
      " 28%|█████████████████████▊                                                         | 62/225 [24:48<1:05:26, 24.09s/it]"
     ]
    },
    {
     "name": "stdout",
     "output_type": "stream",
     "text": [
      "Processing data for material : WATER\n",
      "image_data shape is :  (2048, 2448)\n",
      "im90 shape is :  (1024, 1224)\n",
      "Stokes time:  0.024981975555419922 s\n",
      "im_stokes0 shape is :  (1024, 1224)\n",
      "DoLP time:  0.03497958183288574 s\n",
      "im_DOLP shape is :  (1024, 1224)\n",
      "Time for DOLP2Theta conversion is :  22.322131872177124 seconds\n",
      "False\n",
      "AoLP time:  0.03997802734375 s\n"
     ]
    },
    {
     "name": "stderr",
     "output_type": "stream",
     "text": [
      "\n",
      " 28%|██████████████████████                                                         | 63/225 [25:11<1:04:07, 23.75s/it]"
     ]
    },
    {
     "name": "stdout",
     "output_type": "stream",
     "text": [
      "Processing data for material : WATER\n",
      "image_data shape is :  (2048, 2448)\n",
      "im90 shape is :  (1024, 1224)\n",
      "Stokes time:  0.025984764099121094 s\n",
      "im_stokes0 shape is :  (1024, 1224)\n",
      "DoLP time:  0.03298068046569824 s\n",
      "im_DOLP shape is :  (1024, 1224)\n",
      "Time for DOLP2Theta conversion is :  21.917364835739136 seconds\n",
      "False\n",
      "AoLP time:  0.058965444564819336 s\n"
     ]
    },
    {
     "name": "stderr",
     "output_type": "stream",
     "text": [
      "\n",
      " 28%|██████████████████████▍                                                        | 64/225 [25:33<1:02:48, 23.41s/it]"
     ]
    },
    {
     "name": "stdout",
     "output_type": "stream",
     "text": [
      "Processing data for material : WATER\n",
      "image_data shape is :  (2048, 2448)\n",
      "im90 shape is :  (1024, 1224)\n",
      "Stokes time:  0.02498340606689453 s\n",
      "im_stokes0 shape is :  (1024, 1224)\n",
      "DoLP time:  0.03498029708862305 s\n",
      "im_DOLP shape is :  (1024, 1224)\n",
      "Time for DOLP2Theta conversion is :  28.462669610977173 seconds\n",
      "False\n",
      "AoLP time:  0.04597330093383789 s\n"
     ]
    },
    {
     "name": "stderr",
     "output_type": "stream",
     "text": [
      "\n",
      " 29%|██████████████████████▊                                                        | 65/225 [26:03<1:06:59, 25.12s/it]"
     ]
    },
    {
     "name": "stdout",
     "output_type": "stream",
     "text": [
      "Processing data for material : WATER\n",
      "image_data shape is :  (2048, 2448)\n",
      "im90 shape is :  (1024, 1224)\n",
      "Stokes time:  0.024985074996948242 s\n",
      "im_stokes0 shape is :  (1024, 1224)\n",
      "DoLP time:  0.03597903251647949 s\n",
      "im_DOLP shape is :  (1024, 1224)\n",
      "Time for DOLP2Theta conversion is :  23.261590003967285 seconds\n",
      "False\n",
      "AoLP time:  0.05196809768676758 s\n"
     ]
    },
    {
     "name": "stderr",
     "output_type": "stream",
     "text": [
      "\n",
      " 29%|███████████████████████▏                                                       | 66/225 [26:27<1:05:38, 24.77s/it]"
     ]
    },
    {
     "name": "stdout",
     "output_type": "stream",
     "text": [
      "Processing data for material : WATER\n",
      "image_data shape is :  (2048, 2448)\n",
      "im90 shape is :  (1024, 1224)\n",
      "Stokes time:  0.025985240936279297 s\n",
      "im_stokes0 shape is :  (1024, 1224)\n",
      "DoLP time:  0.036978960037231445 s\n",
      "im_DOLP shape is :  (1024, 1224)\n",
      "Time for DOLP2Theta conversion is :  23.273585081100464 seconds\n",
      "False\n",
      "AoLP time:  0.038976430892944336 s\n"
     ]
    },
    {
     "name": "stderr",
     "output_type": "stream",
     "text": [
      "\n",
      " 30%|███████████████████████▌                                                       | 67/225 [26:50<1:04:33, 24.52s/it]"
     ]
    },
    {
     "name": "stdout",
     "output_type": "stream",
     "text": [
      "Processing data for material : WATER\n",
      "image_data shape is :  (2048, 2448)\n",
      "im90 shape is :  (1024, 1224)\n",
      "Stokes time:  0.025984525680541992 s\n",
      "im_stokes0 shape is :  (1024, 1224)\n",
      "DoLP time:  0.039980173110961914 s\n",
      "im_DOLP shape is :  (1024, 1224)\n",
      "Time for DOLP2Theta conversion is :  23.204623699188232 seconds\n",
      "False\n",
      "AoLP time:  0.051969289779663086 s\n"
     ]
    },
    {
     "name": "stderr",
     "output_type": "stream",
     "text": [
      "\n",
      " 30%|███████████████████████▉                                                       | 68/225 [27:14<1:03:37, 24.32s/it]"
     ]
    },
    {
     "name": "stdout",
     "output_type": "stream",
     "text": [
      "Processing data for material : WATER\n",
      "image_data shape is :  (2048, 2448)\n",
      "im90 shape is :  (1024, 1224)\n",
      "Stokes time:  0.025985002517700195 s\n",
      "im_stokes0 shape is :  (1024, 1224)\n",
      "DoLP time:  0.033980607986450195 s\n",
      "im_DOLP shape is :  (1024, 1224)\n",
      "Time for DOLP2Theta conversion is :  23.601393461227417 seconds\n",
      "False\n",
      "AoLP time:  0.05097055435180664 s\n"
     ]
    },
    {
     "name": "stderr",
     "output_type": "stream",
     "text": [
      "\n",
      " 31%|████████████████████████▏                                                      | 69/225 [27:39<1:03:12, 24.31s/it]"
     ]
    },
    {
     "name": "stdout",
     "output_type": "stream",
     "text": [
      "Processing data for material : WATER\n",
      "image_data shape is :  (2048, 2448)\n",
      "im90 shape is :  (1024, 1224)\n",
      "Stokes time:  0.023987770080566406 s\n",
      "im_stokes0 shape is :  (1024, 1224)\n",
      "DoLP time:  0.030982255935668945 s\n",
      "im_DOLP shape is :  (1024, 1224)\n",
      "Time for DOLP2Theta conversion is :  21.049864292144775 seconds\n",
      "False\n",
      "AoLP time:  0.03897690773010254 s\n"
     ]
    },
    {
     "name": "stderr",
     "output_type": "stream",
     "text": [
      "\n",
      " 31%|████████████████████████▌                                                      | 70/225 [28:00<1:00:47, 23.53s/it]"
     ]
    },
    {
     "name": "stdout",
     "output_type": "stream",
     "text": [
      "Processing data for material : WATER\n",
      "image_data shape is :  (2048, 2448)\n",
      "im90 shape is :  (1024, 1224)\n",
      "Stokes time:  0.024985313415527344 s\n",
      "im_stokes0 shape is :  (1024, 1224)\n",
      "DoLP time:  0.03298044204711914 s\n",
      "im_DOLP shape is :  (1024, 1224)\n",
      "Time for DOLP2Theta conversion is :  21.027897119522095 seconds\n",
      "False\n",
      "AoLP time:  0.038976430892944336 s\n"
     ]
    },
    {
     "name": "stderr",
     "output_type": "stream",
     "text": [
      "\n",
      " 32%|█████████████████████████▌                                                       | 71/225 [28:22<58:58, 22.98s/it]"
     ]
    },
    {
     "name": "stdout",
     "output_type": "stream",
     "text": [
      "Processing data for material : WATER\n",
      "image_data shape is :  (2048, 2448)\n",
      "im90 shape is :  (1024, 1224)\n",
      "Stokes time:  0.026983976364135742 s\n",
      "im_stokes0 shape is :  (1024, 1224)\n",
      "DoLP time:  0.03298044204711914 s\n",
      "im_DOLP shape is :  (1024, 1224)\n",
      "Time for DOLP2Theta conversion is :  21.821420192718506 seconds\n",
      "False\n",
      "AoLP time:  0.05596780776977539 s\n"
     ]
    },
    {
     "name": "stderr",
     "output_type": "stream",
     "text": [
      "\n",
      " 32%|█████████████████████████▉                                                       | 72/225 [28:45<58:15, 22.85s/it]"
     ]
    },
    {
     "name": "stdout",
     "output_type": "stream",
     "text": [
      "Processing data for material : WATER\n",
      "image_data shape is :  (2048, 2448)\n",
      "im90 shape is :  (1024, 1224)\n",
      "Stokes time:  0.025985002517700195 s\n",
      "im_stokes0 shape is :  (1024, 1224)\n",
      "DoLP time:  0.03497791290283203 s\n",
      "im_DOLP shape is :  (1024, 1224)\n",
      "Time for DOLP2Theta conversion is :  22.604968309402466 seconds\n",
      "False\n",
      "AoLP time:  0.04297494888305664 s\n"
     ]
    },
    {
     "name": "stderr",
     "output_type": "stream",
     "text": [
      "\n",
      " 32%|██████████████████████████▎                                                      | 73/225 [29:08<58:13, 22.98s/it]"
     ]
    },
    {
     "name": "stdout",
     "output_type": "stream",
     "text": [
      "Processing data for material : WATER\n",
      "image_data shape is :  (2048, 2448)\n",
      "im90 shape is :  (1024, 1224)\n",
      "Stokes time:  0.02498626708984375 s\n",
      "im_stokes0 shape is :  (1024, 1224)\n",
      "DoLP time:  0.0359797477722168 s\n",
      "im_DOLP shape is :  (1024, 1224)\n",
      "Time for DOLP2Theta conversion is :  23.348540544509888 seconds\n",
      "False\n",
      "AoLP time:  0.041976213455200195 s\n"
     ]
    },
    {
     "name": "stderr",
     "output_type": "stream",
     "text": [
      "\n",
      " 33%|██████████████████████████▋                                                      | 74/225 [29:32<58:38, 23.30s/it]"
     ]
    },
    {
     "name": "stdout",
     "output_type": "stream",
     "text": [
      "Processing data for material : WATER\n",
      "image_data shape is :  (2048, 2448)\n",
      "im90 shape is :  (1024, 1224)\n",
      "Stokes time:  0.026984691619873047 s\n",
      "im_stokes0 shape is :  (1024, 1224)\n",
      "DoLP time:  0.03997635841369629 s\n",
      "im_DOLP shape is :  (1024, 1224)\n",
      "Time for DOLP2Theta conversion is :  23.152653455734253 seconds\n",
      "False\n",
      "AoLP time:  0.044973134994506836 s\n"
     ]
    },
    {
     "name": "stderr",
     "output_type": "stream",
     "text": [
      "\n",
      " 33%|███████████████████████████                                                      | 75/225 [29:56<58:41, 23.48s/it]"
     ]
    },
    {
     "name": "stdout",
     "output_type": "stream",
     "text": [
      "Processing data for material : WATER\n",
      "image_data shape is :  (2048, 2448)\n",
      "im90 shape is :  (1024, 1224)\n",
      "Stokes time:  0.023986101150512695 s\n",
      "im_stokes0 shape is :  (1024, 1224)\n",
      "DoLP time:  0.036978721618652344 s\n",
      "im_DOLP shape is :  (1024, 1224)\n",
      "Time for DOLP2Theta conversion is :  23.336549043655396 seconds\n",
      "False\n",
      "AoLP time:  0.042975425720214844 s\n"
     ]
    },
    {
     "name": "stderr",
     "output_type": "stream",
     "text": [
      "\n",
      " 34%|███████████████████████████▎                                                     | 76/225 [30:20<58:43, 23.65s/it]"
     ]
    },
    {
     "name": "stdout",
     "output_type": "stream",
     "text": [
      "Processing data for material : WATER\n",
      "image_data shape is :  (2048, 2448)\n",
      "im90 shape is :  (1024, 1224)\n",
      "Stokes time:  0.02498650550842285 s\n",
      "im_stokes0 shape is :  (1024, 1224)\n",
      "DoLP time:  0.0359799861907959 s\n",
      "im_DOLP shape is :  (1024, 1224)\n",
      "Time for DOLP2Theta conversion is :  21.67652130126953 seconds\n",
      "False\n",
      "AoLP time:  0.03997683525085449 s\n"
     ]
    },
    {
     "name": "stderr",
     "output_type": "stream",
     "text": [
      "\n",
      " 34%|███████████████████████████▋                                                     | 77/225 [30:42<57:21, 23.25s/it]"
     ]
    },
    {
     "name": "stdout",
     "output_type": "stream",
     "text": [
      "Processing data for material : WATER\n",
      "image_data shape is :  (2048, 2448)\n",
      "im90 shape is :  (1024, 1224)\n",
      "Stokes time:  0.025983572006225586 s\n",
      "im_stokes0 shape is :  (1024, 1224)\n",
      "DoLP time:  0.03497958183288574 s\n",
      "im_DOLP shape is :  (1024, 1224)\n",
      "Time for DOLP2Theta conversion is :  21.817420959472656 seconds\n",
      "False\n",
      "AoLP time:  0.053967952728271484 s\n"
     ]
    },
    {
     "name": "stderr",
     "output_type": "stream",
     "text": [
      "\n",
      " 35%|████████████████████████████                                                     | 78/225 [31:05<56:25, 23.03s/it]"
     ]
    },
    {
     "name": "stdout",
     "output_type": "stream",
     "text": [
      "Processing data for material : WATER\n",
      "image_data shape is :  (2048, 2448)\n",
      "im90 shape is :  (1024, 1224)\n",
      "Stokes time:  0.02698373794555664 s\n",
      "im_stokes0 shape is :  (1024, 1224)\n",
      "DoLP time:  0.03497958183288574 s\n",
      "im_DOLP shape is :  (1024, 1224)\n",
      "Time for DOLP2Theta conversion is :  21.853402137756348 seconds\n",
      "False\n",
      "AoLP time:  0.04497408866882324 s\n"
     ]
    },
    {
     "name": "stderr",
     "output_type": "stream",
     "text": [
      "\n",
      " 35%|████████████████████████████▍                                                    | 79/225 [31:27<55:41, 22.89s/it]"
     ]
    },
    {
     "name": "stdout",
     "output_type": "stream",
     "text": [
      "Processing data for material : WATER\n",
      "image_data shape is :  (2048, 2448)\n",
      "im90 shape is :  (1024, 1224)\n",
      "Stokes time:  0.026984214782714844 s\n",
      "im_stokes0 shape is :  (1024, 1224)\n",
      "DoLP time:  0.03597903251647949 s\n",
      "im_DOLP shape is :  (1024, 1224)\n",
      "Time for DOLP2Theta conversion is :  24.37195062637329 seconds\n",
      "False\n",
      "AoLP time:  0.04897022247314453 s\n"
     ]
    },
    {
     "name": "stderr",
     "output_type": "stream",
     "text": [
      "\n",
      " 36%|████████████████████████████▊                                                    | 80/225 [31:52<56:55, 23.56s/it]"
     ]
    },
    {
     "name": "stdout",
     "output_type": "stream",
     "text": [
      "Processing data for material : WATER\n",
      "image_data shape is :  (2048, 2448)\n",
      "im90 shape is :  (1024, 1224)\n",
      "Stokes time:  0.026984691619873047 s\n",
      "im_stokes0 shape is :  (1024, 1224)\n",
      "DoLP time:  0.03597855567932129 s\n",
      "im_DOLP shape is :  (1024, 1224)\n",
      "Time for DOLP2Theta conversion is :  24.374948024749756 seconds\n",
      "False\n",
      "AoLP time:  0.050971031188964844 s\n"
     ]
    },
    {
     "name": "stderr",
     "output_type": "stream",
     "text": [
      "\n",
      " 36%|█████████████████████████████▏                                                   | 81/225 [32:17<57:38, 24.02s/it]"
     ]
    },
    {
     "name": "stdout",
     "output_type": "stream",
     "text": [
      "Processing data for material : WATER\n",
      "image_data shape is :  (2048, 2448)\n",
      "im90 shape is :  (1024, 1224)\n",
      "Stokes time:  0.02698230743408203 s\n",
      "im_stokes0 shape is :  (1024, 1224)\n",
      "DoLP time:  0.035979270935058594 s\n",
      "im_DOLP shape is :  (1024, 1224)\n",
      "Time for DOLP2Theta conversion is :  24.828686952590942 seconds\n",
      "False\n",
      "AoLP time:  0.04597306251525879 s\n"
     ]
    },
    {
     "name": "stderr",
     "output_type": "stream",
     "text": [
      "\n",
      " 36%|█████████████████████████████▌                                                   | 82/225 [32:43<58:17, 24.46s/it]"
     ]
    },
    {
     "name": "stdout",
     "output_type": "stream",
     "text": [
      "Processing data for material : WATER\n",
      "image_data shape is :  (2048, 2448)\n",
      "im90 shape is :  (1024, 1224)\n",
      "Stokes time:  0.025985002517700195 s\n",
      "im_stokes0 shape is :  (1024, 1224)\n",
      "DoLP time:  0.03697919845581055 s\n",
      "im_DOLP shape is :  (1024, 1224)\n",
      "Time for DOLP2Theta conversion is :  24.663782596588135 seconds\n",
      "False\n",
      "AoLP time:  0.053968191146850586 s\n"
     ]
    },
    {
     "name": "stderr",
     "output_type": "stream",
     "text": [
      "\n",
      " 37%|█████████████████████████████▉                                                   | 83/225 [33:08<58:30, 24.72s/it]"
     ]
    },
    {
     "name": "stdout",
     "output_type": "stream",
     "text": [
      "Processing data for material : WATER\n",
      "image_data shape is :  (2048, 2448)\n",
      "im90 shape is :  (1024, 1224)\n",
      "Stokes time:  0.025985002517700195 s\n",
      "im_stokes0 shape is :  (1024, 1224)\n",
      "DoLP time:  0.03997635841369629 s\n",
      "im_DOLP shape is :  (1024, 1224)\n",
      "Time for DOLP2Theta conversion is :  23.502450466156006 seconds\n",
      "False\n",
      "AoLP time:  0.04397392272949219 s\n"
     ]
    },
    {
     "name": "stderr",
     "output_type": "stream",
     "text": [
      "\n",
      " 37%|██████████████████████████████▏                                                  | 84/225 [33:32<57:42, 24.56s/it]"
     ]
    },
    {
     "name": "stdout",
     "output_type": "stream",
     "text": [
      "Processing data for material : WATER\n",
      "image_data shape is :  (2048, 2448)\n",
      "im90 shape is :  (1024, 1224)\n",
      "Stokes time:  0.024984359741210938 s\n",
      "im_stokes0 shape is :  (1024, 1224)\n",
      "DoLP time:  0.035979270935058594 s\n",
      "im_DOLP shape is :  (1024, 1224)\n",
      "Time for DOLP2Theta conversion is :  21.83941078186035 seconds\n",
      "False\n",
      "AoLP time:  0.043975114822387695 s\n"
     ]
    },
    {
     "name": "stderr",
     "output_type": "stream",
     "text": [
      "\n",
      " 38%|██████████████████████████████▌                                                  | 85/225 [33:55<55:50, 23.93s/it]"
     ]
    },
    {
     "name": "stdout",
     "output_type": "stream",
     "text": [
      "Processing data for material : WATER\n",
      "image_data shape is :  (2048, 2448)\n",
      "im90 shape is :  (1024, 1224)\n",
      "Stokes time:  0.024985551834106445 s\n",
      "im_stokes0 shape is :  (1024, 1224)\n",
      "DoLP time:  0.03398013114929199 s\n",
      "im_DOLP shape is :  (1024, 1224)\n",
      "Time for DOLP2Theta conversion is :  21.900376081466675 seconds\n",
      "False\n",
      "AoLP time:  0.04996895790100098 s\n"
     ]
    },
    {
     "name": "stderr",
     "output_type": "stream",
     "text": [
      "\n",
      " 38%|██████████████████████████████▉                                                  | 86/225 [34:17<54:29, 23.52s/it]"
     ]
    },
    {
     "name": "stdout",
     "output_type": "stream",
     "text": [
      "Processing data for material : WATER\n",
      "image_data shape is :  (2048, 2448)\n",
      "im90 shape is :  (1024, 1224)\n",
      "Stokes time:  0.026984214782714844 s\n",
      "im_stokes0 shape is :  (1024, 1224)\n",
      "DoLP time:  0.03397965431213379 s\n",
      "im_DOLP shape is :  (1024, 1224)\n",
      "Time for DOLP2Theta conversion is :  24.412925958633423 seconds\n",
      "False\n",
      "AoLP time:  0.05396747589111328 s\n"
     ]
    },
    {
     "name": "stderr",
     "output_type": "stream",
     "text": [
      "\n",
      " 39%|███████████████████████████████▎                                                 | 87/225 [34:43<55:11, 24.00s/it]"
     ]
    },
    {
     "name": "stdout",
     "output_type": "stream",
     "text": [
      "Processing data for material : WATER\n",
      "image_data shape is :  (2048, 2448)\n",
      "im90 shape is :  (1024, 1224)\n",
      "Stokes time:  0.028983116149902344 s\n",
      "im_stokes0 shape is :  (1024, 1224)\n",
      "DoLP time:  0.03697800636291504 s\n",
      "im_DOLP shape is :  (1024, 1224)\n",
      "Time for DOLP2Theta conversion is :  25.23345375061035 seconds\n",
      "False\n",
      "AoLP time:  0.04097414016723633 s\n"
     ]
    },
    {
     "name": "stderr",
     "output_type": "stream",
     "text": [
      "\n",
      " 39%|███████████████████████████████▋                                                 | 88/225 [35:08<56:05, 24.57s/it]"
     ]
    },
    {
     "name": "stdout",
     "output_type": "stream",
     "text": [
      "Processing data for material : WATER\n",
      "image_data shape is :  (2048, 2448)\n",
      "im90 shape is :  (1024, 1224)\n",
      "Stokes time:  0.027983427047729492 s\n",
      "im_stokes0 shape is :  (1024, 1224)\n",
      "DoLP time:  0.03797769546508789 s\n",
      "im_DOLP shape is :  (1024, 1224)\n",
      "Time for DOLP2Theta conversion is :  25.40435552597046 seconds\n",
      "False\n",
      "AoLP time:  0.051969289779663086 s\n"
     ]
    },
    {
     "name": "stderr",
     "output_type": "stream",
     "text": [
      "\n",
      " 40%|████████████████████████████████                                                 | 89/225 [35:35<56:42, 25.02s/it]"
     ]
    },
    {
     "name": "stdout",
     "output_type": "stream",
     "text": [
      "Processing data for material : WATER\n",
      "image_data shape is :  (2048, 2448)\n",
      "im90 shape is :  (1024, 1224)\n",
      "Stokes time:  0.02498650550842285 s\n",
      "im_stokes0 shape is :  (1024, 1224)\n",
      "DoLP time:  0.037976980209350586 s\n",
      "im_DOLP shape is :  (1024, 1224)\n",
      "Time for DOLP2Theta conversion is :  25.11552119255066 seconds\n",
      "False\n",
      "AoLP time:  0.04297447204589844 s\n"
     ]
    },
    {
     "name": "stderr",
     "output_type": "stream",
     "text": [
      "\n",
      " 40%|████████████████████████████████▍                                                | 90/225 [36:00<56:47, 25.24s/it]"
     ]
    },
    {
     "name": "stdout",
     "output_type": "stream",
     "text": [
      "Processing data for material : WATER\n",
      "image_data shape is :  (2048, 2448)\n",
      "im90 shape is :  (1024, 1224)\n",
      "Stokes time:  0.025985002517700195 s\n",
      "im_stokes0 shape is :  (1024, 1224)\n",
      "DoLP time:  0.03597903251647949 s\n",
      "im_DOLP shape is :  (1024, 1224)\n",
      "Time for DOLP2Theta conversion is :  23.960188150405884 seconds\n",
      "False\n",
      "AoLP time:  0.041974782943725586 s\n"
     ]
    },
    {
     "name": "stderr",
     "output_type": "stream",
     "text": [
      "\n",
      " 40%|████████████████████████████████▊                                                | 91/225 [36:25<55:57, 25.06s/it]"
     ]
    },
    {
     "name": "stdout",
     "output_type": "stream",
     "text": [
      "Processing data for material : WATER\n",
      "image_data shape is :  (2048, 2448)\n",
      "im90 shape is :  (1024, 1224)\n",
      "Stokes time:  0.024984121322631836 s\n",
      "im_stokes0 shape is :  (1024, 1224)\n",
      "DoLP time:  0.035979509353637695 s\n",
      "im_DOLP shape is :  (1024, 1224)\n",
      "Time for DOLP2Theta conversion is :  21.52159333229065 seconds\n",
      "False\n",
      "AoLP time:  0.04197525978088379 s\n"
     ]
    },
    {
     "name": "stderr",
     "output_type": "stream",
     "text": [
      "\n",
      " 41%|█████████████████████████████████                                                | 92/225 [36:47<53:37, 24.19s/it]"
     ]
    },
    {
     "name": "stdout",
     "output_type": "stream",
     "text": [
      "Processing data for material : WATER\n",
      "image_data shape is :  (2048, 2448)\n",
      "im90 shape is :  (1024, 1224)\n",
      "Stokes time:  0.027983903884887695 s\n",
      "im_stokes0 shape is :  (1024, 1224)\n",
      "DoLP time:  0.030982017517089844 s\n",
      "im_DOLP shape is :  (1024, 1224)\n",
      "Time for DOLP2Theta conversion is :  21.738468170166016 seconds\n",
      "False\n",
      "AoLP time:  0.04097557067871094 s\n"
     ]
    },
    {
     "name": "stderr",
     "output_type": "stream",
     "text": [
      "\n",
      " 41%|█████████████████████████████████▍                                               | 93/225 [37:09<52:00, 23.64s/it]"
     ]
    },
    {
     "name": "stdout",
     "output_type": "stream",
     "text": [
      "Processing data for material : WATER\n",
      "image_data shape is :  (2048, 2448)\n",
      "im90 shape is :  (1024, 1224)\n",
      "Stokes time:  0.023985624313354492 s\n",
      "im_stokes0 shape is :  (1024, 1224)\n",
      "DoLP time:  0.03597879409790039 s\n",
      "im_DOLP shape is :  (1024, 1224)\n",
      "Time for DOLP2Theta conversion is :  24.418923377990723 seconds\n",
      "False\n",
      "AoLP time:  0.04697251319885254 s\n"
     ]
    },
    {
     "name": "stderr",
     "output_type": "stream",
     "text": [
      "\n",
      " 42%|█████████████████████████████████▊                                               | 94/225 [37:35<52:32, 24.07s/it]"
     ]
    },
    {
     "name": "stdout",
     "output_type": "stream",
     "text": [
      "Processing data for material : WATER\n",
      "image_data shape is :  (2048, 2448)\n",
      "im90 shape is :  (1024, 1224)\n",
      "Stokes time:  0.026984453201293945 s\n",
      "im_stokes0 shape is :  (1024, 1224)\n",
      "DoLP time:  0.03897714614868164 s\n",
      "im_DOLP shape is :  (1024, 1224)\n",
      "Time for DOLP2Theta conversion is :  31.301955938339233 seconds\n",
      "False\n",
      "AoLP time:  0.05896568298339844 s\n"
     ]
    },
    {
     "name": "stderr",
     "output_type": "stream",
     "text": [
      "\n",
      " 42%|██████████████████████████████████▏                                              | 95/225 [38:07<57:19, 26.46s/it]"
     ]
    },
    {
     "name": "stdout",
     "output_type": "stream",
     "text": [
      "Processing data for material : WATER\n",
      "image_data shape is :  (2048, 2448)\n",
      "im90 shape is :  (1024, 1224)\n",
      "Stokes time:  0.03198122978210449 s\n",
      "im_stokes0 shape is :  (1024, 1224)\n",
      "DoLP time:  0.05196952819824219 s\n",
      "im_DOLP shape is :  (1024, 1224)\n",
      "Time for DOLP2Theta conversion is :  35.63845610618591 seconds\n",
      "False\n",
      "AoLP time:  0.055967092514038086 s\n"
     ]
    },
    {
     "name": "stderr",
     "output_type": "stream",
     "text": [
      "\n",
      " 43%|█████████████████████████████████▋                                             | 96/225 [38:43<1:03:18, 29.44s/it]"
     ]
    },
    {
     "name": "stdout",
     "output_type": "stream",
     "text": [
      "Processing data for material : WATER\n",
      "image_data shape is :  (2048, 2448)\n",
      "im90 shape is :  (1024, 1224)\n",
      "Stokes time:  0.03697824478149414 s\n",
      "im_stokes0 shape is :  (1024, 1224)\n",
      "DoLP time:  0.039977073669433594 s\n",
      "im_DOLP shape is :  (1024, 1224)\n",
      "Time for DOLP2Theta conversion is :  35.034804344177246 seconds\n",
      "False\n",
      "AoLP time:  0.05396914482116699 s\n"
     ]
    },
    {
     "name": "stderr",
     "output_type": "stream",
     "text": [
      "\n",
      " 43%|██████████████████████████████████                                             | 97/225 [39:19<1:06:52, 31.34s/it]"
     ]
    },
    {
     "name": "stdout",
     "output_type": "stream",
     "text": [
      "Processing data for material : WATER\n",
      "image_data shape is :  (2048, 2448)\n",
      "im90 shape is :  (1024, 1224)\n",
      "Stokes time:  0.033980607986450195 s\n",
      "im_stokes0 shape is :  (1024, 1224)\n",
      "DoLP time:  0.05896568298339844 s\n",
      "im_DOLP shape is :  (1024, 1224)\n",
      "Time for DOLP2Theta conversion is :  30.374510049819946 seconds\n",
      "False\n",
      "AoLP time:  0.0419766902923584 s\n"
     ]
    },
    {
     "name": "stderr",
     "output_type": "stream",
     "text": [
      "\n",
      " 44%|██████████████████████████████████▍                                            | 98/225 [39:50<1:06:13, 31.28s/it]"
     ]
    },
    {
     "name": "stdout",
     "output_type": "stream",
     "text": [
      "Processing data for material : WATER\n",
      "image_data shape is :  (2048, 2448)\n",
      "im90 shape is :  (1024, 1224)\n",
      "Stokes time:  0.030982017517089844 s\n",
      "im_stokes0 shape is :  (1024, 1224)\n",
      "DoLP time:  0.049970388412475586 s\n",
      "im_DOLP shape is :  (1024, 1224)\n",
      "Time for DOLP2Theta conversion is :  28.714449167251587 seconds\n",
      "False\n",
      "AoLP time:  0.06496262550354004 s\n"
     ]
    },
    {
     "name": "stderr",
     "output_type": "stream",
     "text": [
      "\n",
      " 44%|██████████████████████████████████▊                                            | 99/225 [40:19<1:04:33, 30.74s/it]"
     ]
    },
    {
     "name": "stdout",
     "output_type": "stream",
     "text": [
      "Processing data for material : WATER\n",
      "image_data shape is :  (2048, 2448)\n",
      "im90 shape is :  (1024, 1224)\n",
      "Stokes time:  0.04097628593444824 s\n",
      "im_stokes0 shape is :  (1024, 1224)\n",
      "DoLP time:  0.04897284507751465 s\n",
      "im_DOLP shape is :  (1024, 1224)\n",
      "Time for DOLP2Theta conversion is :  30.720290899276733 seconds\n",
      "False\n",
      "AoLP time:  0.0459742546081543 s\n"
     ]
    },
    {
     "name": "stderr",
     "output_type": "stream",
     "text": [
      "\n",
      " 44%|██████████████████████████████████▋                                           | 100/225 [40:51<1:04:30, 30.96s/it]"
     ]
    },
    {
     "name": "stdout",
     "output_type": "stream",
     "text": [
      "Processing data for material : WATER\n",
      "image_data shape is :  (2048, 2448)\n",
      "im90 shape is :  (1024, 1224)\n",
      "Stokes time:  0.039977073669433594 s\n",
      "im_stokes0 shape is :  (1024, 1224)\n",
      "DoLP time:  0.039977073669433594 s\n",
      "im_DOLP shape is :  (1024, 1224)\n",
      "Time for DOLP2Theta conversion is :  34.45713663101196 seconds\n",
      "False\n",
      "AoLP time:  0.06596159934997559 s\n"
     ]
    },
    {
     "name": "stderr",
     "output_type": "stream",
     "text": [
      "\n",
      " 45%|███████████████████████████████████                                           | 101/225 [41:26<1:06:38, 32.25s/it]"
     ]
    },
    {
     "name": "stdout",
     "output_type": "stream",
     "text": [
      "Processing data for material : WATER\n",
      "image_data shape is :  (2048, 2448)\n",
      "im90 shape is :  (1024, 1224)\n",
      "Stokes time:  0.0319819450378418 s\n",
      "im_stokes0 shape is :  (1024, 1224)\n",
      "DoLP time:  0.04897284507751465 s\n",
      "im_DOLP shape is :  (1024, 1224)\n",
      "Time for DOLP2Theta conversion is :  34.785948038101196 seconds\n",
      "False\n",
      "AoLP time:  0.05796647071838379 s\n"
     ]
    },
    {
     "name": "stderr",
     "output_type": "stream",
     "text": [
      "\n",
      " 45%|███████████████████████████████████▎                                          | 102/225 [42:02<1:08:07, 33.23s/it]"
     ]
    },
    {
     "name": "stdout",
     "output_type": "stream",
     "text": [
      "Processing data for material : WATER\n",
      "image_data shape is :  (2048, 2448)\n",
      "im90 shape is :  (1024, 1224)\n",
      "Stokes time:  0.031981468200683594 s\n",
      "im_stokes0 shape is :  (1024, 1224)\n",
      "DoLP time:  0.04197525978088379 s\n",
      "im_DOLP shape is :  (1024, 1224)\n",
      "Time for DOLP2Theta conversion is :  35.30564832687378 seconds\n",
      "False\n",
      "AoLP time:  0.060964107513427734 s\n"
     ]
    },
    {
     "name": "stderr",
     "output_type": "stream",
     "text": [
      "\n",
      " 46%|███████████████████████████████████▋                                          | 103/225 [42:38<1:09:17, 34.08s/it]"
     ]
    },
    {
     "name": "stdout",
     "output_type": "stream",
     "text": [
      "Processing data for material : WATER\n",
      "image_data shape is :  (2048, 2448)\n",
      "im90 shape is :  (1024, 1224)\n",
      "Stokes time:  0.037978410720825195 s\n",
      "im_stokes0 shape is :  (1024, 1224)\n",
      "DoLP time:  0.04497408866882324 s\n",
      "im_DOLP shape is :  (1024, 1224)\n",
      "Time for DOLP2Theta conversion is :  35.234689235687256 seconds\n",
      "False\n",
      "AoLP time:  0.05396890640258789 s\n"
     ]
    },
    {
     "name": "stderr",
     "output_type": "stream",
     "text": [
      "\n",
      " 46%|████████████████████████████████████                                          | 104/225 [43:14<1:09:53, 34.66s/it]"
     ]
    },
    {
     "name": "stdout",
     "output_type": "stream",
     "text": [
      "Processing data for material : WATER\n",
      "image_data shape is :  (2048, 2448)\n",
      "im90 shape is :  (1024, 1224)\n",
      "Stokes time:  0.037978172302246094 s\n",
      "im_stokes0 shape is :  (1024, 1224)\n",
      "DoLP time:  0.04997086524963379 s\n",
      "im_DOLP shape is :  (1024, 1224)\n",
      "Time for DOLP2Theta conversion is :  30.197592735290527 seconds\n",
      "False\n",
      "AoLP time:  0.05896615982055664 s\n"
     ]
    },
    {
     "name": "stderr",
     "output_type": "stream",
     "text": [
      "\n",
      " 47%|████████████████████████████████████▍                                         | 105/225 [43:45<1:07:05, 33.55s/it]"
     ]
    },
    {
     "name": "stdout",
     "output_type": "stream",
     "text": [
      "Processing data for material : WATER\n",
      "image_data shape is :  (2048, 2448)\n",
      "im90 shape is :  (1024, 1224)\n",
      "Stokes time:  0.03797793388366699 s\n",
      "im_stokes0 shape is :  (1024, 1224)\n",
      "DoLP time:  0.04497337341308594 s\n",
      "im_DOLP shape is :  (1024, 1224)\n",
      "Time for DOLP2Theta conversion is :  29.49099898338318 seconds\n",
      "False\n",
      "AoLP time:  0.0419766902923584 s\n"
     ]
    },
    {
     "name": "stderr",
     "output_type": "stream",
     "text": [
      "\n",
      " 47%|████████████████████████████████████▋                                         | 106/225 [44:15<1:04:33, 32.55s/it]"
     ]
    },
    {
     "name": "stdout",
     "output_type": "stream",
     "text": [
      "Processing data for material : WATER\n",
      "image_data shape is :  (2048, 2448)\n",
      "im90 shape is :  (1024, 1224)\n",
      "Stokes time:  0.03797793388366699 s\n",
      "im_stokes0 shape is :  (1024, 1224)\n",
      "DoLP time:  0.05296802520751953 s\n",
      "im_DOLP shape is :  (1024, 1224)\n",
      "Time for DOLP2Theta conversion is :  33.33078598976135 seconds\n",
      "False\n",
      "AoLP time:  0.04697394371032715 s\n"
     ]
    },
    {
     "name": "stderr",
     "output_type": "stream",
     "text": [
      "\n",
      " 48%|█████████████████████████████████████                                         | 107/225 [44:49<1:04:56, 33.02s/it]"
     ]
    },
    {
     "name": "stdout",
     "output_type": "stream",
     "text": [
      "Processing data for material : WATER\n",
      "image_data shape is :  (2048, 2448)\n",
      "im90 shape is :  (1024, 1224)\n",
      "Stokes time:  0.03298139572143555 s\n",
      "im_stokes0 shape is :  (1024, 1224)\n",
      "DoLP time:  0.04297304153442383 s\n",
      "im_DOLP shape is :  (1024, 1224)\n",
      "Time for DOLP2Theta conversion is :  29.385060787200928 seconds\n",
      "False\n",
      "AoLP time:  0.04497337341308594 s\n"
     ]
    },
    {
     "name": "stderr",
     "output_type": "stream",
     "text": [
      "\n",
      " 48%|█████████████████████████████████████▍                                        | 108/225 [45:19<1:02:41, 32.15s/it]"
     ]
    },
    {
     "name": "stdout",
     "output_type": "stream",
     "text": [
      "Processing data for material : WATER\n",
      "image_data shape is :  (2048, 2448)\n",
      "im90 shape is :  (1024, 1224)\n",
      "Stokes time:  0.029982566833496094 s\n",
      "im_stokes0 shape is :  (1024, 1224)\n",
      "DoLP time:  0.03997659683227539 s\n",
      "im_DOLP shape is :  (1024, 1224)\n",
      "Time for DOLP2Theta conversion is :  27.736010551452637 seconds\n",
      "False\n",
      "AoLP time:  0.05396866798400879 s\n"
     ]
    },
    {
     "name": "stderr",
     "output_type": "stream",
     "text": [
      "\n",
      " 48%|█████████████████████████████████████▊                                        | 109/225 [45:48<1:00:01, 31.05s/it]"
     ]
    },
    {
     "name": "stdout",
     "output_type": "stream",
     "text": [
      "Processing data for material : WATER\n",
      "image_data shape is :  (2048, 2448)\n",
      "im90 shape is :  (1024, 1224)\n",
      "Stokes time:  0.027983427047729492 s\n",
      "im_stokes0 shape is :  (1024, 1224)\n",
      "DoLP time:  0.04097604751586914 s\n",
      "im_DOLP shape is :  (1024, 1224)\n",
      "Time for DOLP2Theta conversion is :  32.53124737739563 seconds\n",
      "False\n",
      "AoLP time:  0.060964345932006836 s\n"
     ]
    },
    {
     "name": "stderr",
     "output_type": "stream",
     "text": [
      "\n",
      " 49%|██████████████████████████████████████▏                                       | 110/225 [46:21<1:00:47, 31.72s/it]"
     ]
    },
    {
     "name": "stdout",
     "output_type": "stream",
     "text": [
      "Processing data for material : WATER\n",
      "image_data shape is :  (2048, 2448)\n",
      "im90 shape is :  (1024, 1224)\n",
      "Stokes time:  0.032980918884277344 s\n",
      "im_stokes0 shape is :  (1024, 1224)\n",
      "DoLP time:  0.04697275161743164 s\n",
      "im_DOLP shape is :  (1024, 1224)\n",
      "Time for DOLP2Theta conversion is :  32.784101247787476 seconds\n",
      "False\n",
      "AoLP time:  0.054967403411865234 s\n"
     ]
    },
    {
     "name": "stderr",
     "output_type": "stream",
     "text": [
      "\n",
      " 49%|██████████████████████████████████████▍                                       | 111/225 [46:54<1:01:18, 32.27s/it]"
     ]
    },
    {
     "name": "stdout",
     "output_type": "stream",
     "text": [
      "Processing data for material : WATER\n",
      "image_data shape is :  (2048, 2448)\n",
      "im90 shape is :  (1024, 1224)\n",
      "Stokes time:  0.03498053550720215 s\n",
      "im_stokes0 shape is :  (1024, 1224)\n",
      "DoLP time:  0.051969051361083984 s\n",
      "im_DOLP shape is :  (1024, 1224)\n",
      "Time for DOLP2Theta conversion is :  30.03268790245056 seconds\n",
      "False\n",
      "AoLP time:  0.05396866798400879 s\n"
     ]
    },
    {
     "name": "stderr",
     "output_type": "stream",
     "text": [
      "\n",
      " 50%|███████████████████████████████████████▊                                        | 112/225 [47:25<59:55, 31.82s/it]"
     ]
    },
    {
     "name": "stdout",
     "output_type": "stream",
     "text": [
      "Processing data for material : WATER\n",
      "image_data shape is :  (2048, 2448)\n",
      "im90 shape is :  (1024, 1224)\n",
      "Stokes time:  0.033980369567871094 s\n",
      "im_stokes0 shape is :  (1024, 1224)\n",
      "DoLP time:  0.05796647071838379 s\n",
      "im_DOLP shape is :  (1024, 1224)\n",
      "Time for DOLP2Theta conversion is :  31.384908199310303 seconds\n",
      "False\n",
      "AoLP time:  0.0419764518737793 s\n"
     ]
    },
    {
     "name": "stderr",
     "output_type": "stream",
     "text": [
      "\n",
      " 50%|████████████████████████████████████████▏                                       | 113/225 [47:57<59:34, 31.91s/it]"
     ]
    },
    {
     "name": "stdout",
     "output_type": "stream",
     "text": [
      "Processing data for material : WATER\n",
      "image_data shape is :  (2048, 2448)\n",
      "im90 shape is :  (1024, 1224)\n",
      "Stokes time:  0.028983116149902344 s\n",
      "im_stokes0 shape is :  (1024, 1224)\n",
      "DoLP time:  0.044972896575927734 s\n",
      "im_DOLP shape is :  (1024, 1224)\n",
      "Time for DOLP2Theta conversion is :  28.412622451782227 seconds\n",
      "False\n",
      "AoLP time:  0.04897165298461914 s\n"
     ]
    },
    {
     "name": "stderr",
     "output_type": "stream",
     "text": [
      "\n",
      " 51%|████████████████████████████████████████▌                                       | 114/225 [48:27<57:31, 31.10s/it]"
     ]
    },
    {
     "name": "stdout",
     "output_type": "stream",
     "text": [
      "Processing data for material : WATER\n",
      "image_data shape is :  (2048, 2448)\n",
      "im90 shape is :  (1024, 1224)\n",
      "Stokes time:  0.030982494354248047 s\n",
      "im_stokes0 shape is :  (1024, 1224)\n",
      "DoLP time:  0.03697848320007324 s\n",
      "im_DOLP shape is :  (1024, 1224)\n",
      "Time for DOLP2Theta conversion is :  27.933897256851196 seconds\n",
      "False\n",
      "AoLP time:  0.05696725845336914 s\n"
     ]
    },
    {
     "name": "stderr",
     "output_type": "stream",
     "text": [
      "\n",
      " 51%|████████████████████████████████████████▉                                       | 115/225 [48:55<55:40, 30.37s/it]"
     ]
    },
    {
     "name": "stdout",
     "output_type": "stream",
     "text": [
      "Processing data for material : WATER\n",
      "image_data shape is :  (2048, 2448)\n",
      "im90 shape is :  (1024, 1224)\n",
      "Stokes time:  0.029982328414916992 s\n",
      "im_stokes0 shape is :  (1024, 1224)\n",
      "DoLP time:  0.04197573661804199 s\n",
      "im_DOLP shape is :  (1024, 1224)\n",
      "Time for DOLP2Theta conversion is :  35.122753620147705 seconds\n",
      "False\n",
      "AoLP time:  0.058965206146240234 s\n"
     ]
    },
    {
     "name": "stderr",
     "output_type": "stream",
     "text": [
      "\n",
      " 52%|█████████████████████████████████████████▏                                      | 116/225 [49:31<58:09, 32.02s/it]"
     ]
    },
    {
     "name": "stdout",
     "output_type": "stream",
     "text": [
      "Processing data for material : WATER\n",
      "image_data shape is :  (2048, 2448)\n",
      "im90 shape is :  (1024, 1224)\n",
      "Stokes time:  0.037978172302246094 s\n",
      "im_stokes0 shape is :  (1024, 1224)\n",
      "DoLP time:  0.05796623229980469 s\n",
      "im_DOLP shape is :  (1024, 1224)\n",
      "Time for DOLP2Theta conversion is :  33.70656871795654 seconds\n",
      "False\n",
      "AoLP time:  0.05197000503540039 s\n"
     ]
    },
    {
     "name": "stderr",
     "output_type": "stream",
     "text": [
      "\n",
      " 52%|█████████████████████████████████████████▌                                      | 117/225 [50:06<58:56, 32.75s/it]"
     ]
    },
    {
     "name": "stdout",
     "output_type": "stream",
     "text": [
      "Processing data for material : WATER\n",
      "image_data shape is :  (2048, 2448)\n",
      "im90 shape is :  (1024, 1224)\n",
      "Stokes time:  0.025984525680541992 s\n",
      "im_stokes0 shape is :  (1024, 1224)\n",
      "DoLP time:  0.03298187255859375 s\n",
      "im_DOLP shape is :  (1024, 1224)\n",
      "Time for DOLP2Theta conversion is :  31.542818069458008 seconds\n",
      "False\n",
      "AoLP time:  0.05197024345397949 s\n"
     ]
    },
    {
     "name": "stderr",
     "output_type": "stream",
     "text": [
      "\n",
      " 52%|█████████████████████████████████████████▉                                      | 118/225 [50:38<58:08, 32.60s/it]"
     ]
    },
    {
     "name": "stdout",
     "output_type": "stream",
     "text": [
      "Processing data for material : WATER\n",
      "image_data shape is :  (2048, 2448)\n",
      "im90 shape is :  (1024, 1224)\n",
      "Stokes time:  0.031981706619262695 s\n",
      "im_stokes0 shape is :  (1024, 1224)\n",
      "DoLP time:  0.05196952819824219 s\n",
      "im_DOLP shape is :  (1024, 1224)\n",
      "Time for DOLP2Theta conversion is :  29.996708869934082 seconds\n",
      "False\n",
      "AoLP time:  0.05196952819824219 s\n"
     ]
    },
    {
     "name": "stderr",
     "output_type": "stream",
     "text": [
      "\n",
      " 53%|██████████████████████████████████████████▎                                     | 119/225 [51:09<56:36, 32.04s/it]"
     ]
    },
    {
     "name": "stdout",
     "output_type": "stream",
     "text": [
      "Processing data for material : WATER\n",
      "image_data shape is :  (2048, 2448)\n",
      "im90 shape is :  (1024, 1224)\n",
      "Stokes time:  0.035978078842163086 s\n",
      "im_stokes0 shape is :  (1024, 1224)\n",
      "DoLP time:  0.042973995208740234 s\n",
      "im_DOLP shape is :  (1024, 1224)\n",
      "Time for DOLP2Theta conversion is :  34.202284812927246 seconds\n",
      "False\n",
      "AoLP time:  0.05996537208557129 s\n"
     ]
    },
    {
     "name": "stderr",
     "output_type": "stream",
     "text": [
      "\n",
      " 53%|██████████████████████████████████████████▋                                     | 120/225 [51:43<57:36, 32.92s/it]"
     ]
    },
    {
     "name": "stdout",
     "output_type": "stream",
     "text": [
      "Processing data for material : WATER\n",
      "image_data shape is :  (2048, 2448)\n",
      "im90 shape is :  (1024, 1224)\n",
      "Stokes time:  0.03397989273071289 s\n",
      "im_stokes0 shape is :  (1024, 1224)\n",
      "DoLP time:  0.05097389221191406 s\n",
      "im_DOLP shape is :  (1024, 1224)\n",
      "Time for DOLP2Theta conversion is :  34.35919380187988 seconds\n",
      "False\n",
      "AoLP time:  0.05796647071838379 s\n"
     ]
    },
    {
     "name": "stderr",
     "output_type": "stream",
     "text": [
      "\n",
      " 54%|███████████████████████████████████████████                                     | 121/225 [52:19<58:12, 33.58s/it]"
     ]
    },
    {
     "name": "stdout",
     "output_type": "stream",
     "text": [
      "Processing data for material : WATER\n",
      "image_data shape is :  (2048, 2448)\n",
      "im90 shape is :  (1024, 1224)\n",
      "Stokes time:  0.03298187255859375 s\n",
      "im_stokes0 shape is :  (1024, 1224)\n",
      "DoLP time:  0.04297614097595215 s\n",
      "im_DOLP shape is :  (1024, 1224)\n",
      "Time for DOLP2Theta conversion is :  33.875473499298096 seconds\n",
      "False\n",
      "AoLP time:  0.06396293640136719 s\n"
     ]
    },
    {
     "name": "stderr",
     "output_type": "stream",
     "text": [
      "\n",
      " 54%|███████████████████████████████████████████▍                                    | 122/225 [52:53<58:11, 33.90s/it]"
     ]
    },
    {
     "name": "stdout",
     "output_type": "stream",
     "text": [
      "Processing data for material : WATER\n",
      "image_data shape is :  (2048, 2448)\n",
      "im90 shape is :  (1024, 1224)\n",
      "Stokes time:  0.0319819450378418 s\n",
      "im_stokes0 shape is :  (1024, 1224)\n",
      "DoLP time:  0.05596804618835449 s\n",
      "im_DOLP shape is :  (1024, 1224)\n",
      "Time for DOLP2Theta conversion is :  35.26866912841797 seconds\n",
      "False\n",
      "AoLP time:  0.05996561050415039 s\n"
     ]
    },
    {
     "name": "stderr",
     "output_type": "stream",
     "text": [
      "\n",
      " 55%|███████████████████████████████████████████▋                                    | 123/225 [53:29<58:43, 34.54s/it]"
     ]
    },
    {
     "name": "stdout",
     "output_type": "stream",
     "text": [
      "Processing data for material : WATER\n",
      "image_data shape is :  (2048, 2448)\n",
      "im90 shape is :  (1024, 1224)\n",
      "Stokes time:  0.03597903251647949 s\n",
      "im_stokes0 shape is :  (1024, 1224)\n",
      "DoLP time:  0.058965444564819336 s\n",
      "im_DOLP shape is :  (1024, 1224)\n",
      "Time for DOLP2Theta conversion is :  32.60920190811157 seconds\n",
      "False\n",
      "AoLP time:  0.05296921730041504 s\n"
     ]
    },
    {
     "name": "stderr",
     "output_type": "stream",
     "text": [
      "\n",
      " 55%|████████████████████████████████████████████                                    | 124/225 [54:03<57:32, 34.18s/it]"
     ]
    },
    {
     "name": "stdout",
     "output_type": "stream",
     "text": [
      "Processing data for material : WATER\n",
      "image_data shape is :  (2048, 2448)\n",
      "im90 shape is :  (1024, 1224)\n",
      "Stokes time:  0.03298044204711914 s\n",
      "im_stokes0 shape is :  (1024, 1224)\n",
      "DoLP time:  0.03897809982299805 s\n",
      "im_DOLP shape is :  (1024, 1224)\n",
      "Time for DOLP2Theta conversion is :  28.180755138397217 seconds\n",
      "False\n",
      "AoLP time:  0.047972679138183594 s\n"
     ]
    },
    {
     "name": "stderr",
     "output_type": "stream",
     "text": [
      "\n",
      " 56%|████████████████████████████████████████████▍                                   | 125/225 [54:32<54:19, 32.59s/it]"
     ]
    },
    {
     "name": "stdout",
     "output_type": "stream",
     "text": [
      "Processing data for material : WATER\n",
      "image_data shape is :  (2048, 2448)\n",
      "im90 shape is :  (1024, 1224)\n",
      "Stokes time:  0.02698373794555664 s\n",
      "im_stokes0 shape is :  (1024, 1224)\n",
      "DoLP time:  0.032981157302856445 s\n",
      "im_DOLP shape is :  (1024, 1224)\n",
      "Time for DOLP2Theta conversion is :  22.538007974624634 seconds\n",
      "False\n",
      "AoLP time:  0.04497385025024414 s\n"
     ]
    },
    {
     "name": "stderr",
     "output_type": "stream",
     "text": [
      "\n",
      " 56%|████████████████████████████████████████████▊                                   | 126/225 [54:55<49:07, 29.77s/it]"
     ]
    },
    {
     "name": "stdout",
     "output_type": "stream",
     "text": [
      "Processing data for material : WATER\n",
      "image_data shape is :  (2048, 2448)\n",
      "im90 shape is :  (1024, 1224)\n",
      "Stokes time:  0.02598428726196289 s\n",
      "im_stokes0 shape is :  (1024, 1224)\n",
      "DoLP time:  0.03597903251647949 s\n",
      "im_DOLP shape is :  (1024, 1224)\n",
      "Time for DOLP2Theta conversion is :  27.12236475944519 seconds\n",
      "False\n",
      "AoLP time:  0.05396890640258789 s\n"
     ]
    },
    {
     "name": "stderr",
     "output_type": "stream",
     "text": [
      "\n",
      " 56%|█████████████████████████████████████████████▏                                  | 127/225 [55:23<47:39, 29.18s/it]"
     ]
    },
    {
     "name": "stdout",
     "output_type": "stream",
     "text": [
      "Processing data for material : WATER\n",
      "image_data shape is :  (2048, 2448)\n",
      "im90 shape is :  (1024, 1224)\n",
      "Stokes time:  0.02598428726196289 s\n",
      "im_stokes0 shape is :  (1024, 1224)\n",
      "DoLP time:  0.035979509353637695 s\n",
      "im_DOLP shape is :  (1024, 1224)\n",
      "Time for DOLP2Theta conversion is :  24.77871584892273 seconds\n",
      "False\n",
      "AoLP time:  0.04797220230102539 s\n"
     ]
    },
    {
     "name": "stderr",
     "output_type": "stream",
     "text": [
      "\n",
      " 57%|█████████████████████████████████████████████▌                                  | 128/225 [55:48<45:22, 28.07s/it]"
     ]
    },
    {
     "name": "stdout",
     "output_type": "stream",
     "text": [
      "Processing data for material : WATER\n",
      "image_data shape is :  (2048, 2448)\n",
      "im90 shape is :  (1024, 1224)\n",
      "Stokes time:  0.028983116149902344 s\n",
      "im_stokes0 shape is :  (1024, 1224)\n",
      "DoLP time:  0.042973995208740234 s\n",
      "im_DOLP shape is :  (1024, 1224)\n",
      "Time for DOLP2Theta conversion is :  24.249022006988525 seconds\n",
      "False\n",
      "AoLP time:  0.05796623229980469 s\n"
     ]
    },
    {
     "name": "stderr",
     "output_type": "stream",
     "text": [
      "\n",
      " 57%|█████████████████████████████████████████████▊                                  | 129/225 [56:13<43:24, 27.13s/it]"
     ]
    },
    {
     "name": "stdout",
     "output_type": "stream",
     "text": [
      "Processing data for material : WATER\n",
      "image_data shape is :  (2048, 2448)\n",
      "im90 shape is :  (1024, 1224)\n",
      "Stokes time:  0.0259857177734375 s\n",
      "im_stokes0 shape is :  (1024, 1224)\n",
      "DoLP time:  0.034979820251464844 s\n",
      "im_DOLP shape is :  (1024, 1224)\n",
      "Time for DOLP2Theta conversion is :  24.978601932525635 seconds\n",
      "False\n",
      "AoLP time:  0.05696749687194824 s\n"
     ]
    },
    {
     "name": "stderr",
     "output_type": "stream",
     "text": [
      "\n",
      " 58%|██████████████████████████████████████████████▏                                 | 130/225 [56:39<42:15, 26.69s/it]"
     ]
    },
    {
     "name": "stdout",
     "output_type": "stream",
     "text": [
      "Processing data for material : WATER\n",
      "image_data shape is :  (2048, 2448)\n",
      "im90 shape is :  (1024, 1224)\n",
      "Stokes time:  0.0259857177734375 s\n",
      "im_stokes0 shape is :  (1024, 1224)\n",
      "DoLP time:  0.036978721618652344 s\n",
      "im_DOLP shape is :  (1024, 1224)\n",
      "Time for DOLP2Theta conversion is :  23.792285203933716 seconds\n",
      "False\n",
      "AoLP time:  0.04197573661804199 s\n"
     ]
    },
    {
     "name": "stderr",
     "output_type": "stream",
     "text": [
      "\n",
      " 58%|██████████████████████████████████████████████▌                                 | 131/225 [57:03<40:44, 26.01s/it]"
     ]
    },
    {
     "name": "stdout",
     "output_type": "stream",
     "text": [
      "Processing data for material : WATER\n",
      "image_data shape is :  (2048, 2448)\n",
      "im90 shape is :  (1024, 1224)\n",
      "Stokes time:  0.024985551834106445 s\n",
      "im_stokes0 shape is :  (1024, 1224)\n",
      "DoLP time:  0.033980369567871094 s\n",
      "im_DOLP shape is :  (1024, 1224)\n",
      "Time for DOLP2Theta conversion is :  21.915367364883423 seconds\n",
      "False\n",
      "AoLP time:  0.041975975036621094 s\n"
     ]
    },
    {
     "name": "stderr",
     "output_type": "stream",
     "text": [
      "\n",
      " 59%|██████████████████████████████████████████████▉                                 | 132/225 [57:26<38:41, 24.96s/it]"
     ]
    },
    {
     "name": "stdout",
     "output_type": "stream",
     "text": [
      "Processing data for material : WATER\n",
      "image_data shape is :  (2048, 2448)\n",
      "im90 shape is :  (1024, 1224)\n",
      "Stokes time:  0.03298068046569824 s\n",
      "im_stokes0 shape is :  (1024, 1224)\n",
      "DoLP time:  0.034980058670043945 s\n",
      "im_DOLP shape is :  (1024, 1224)\n",
      "Time for DOLP2Theta conversion is :  22.322134017944336 seconds\n",
      "False\n",
      "AoLP time:  0.04397702217102051 s\n"
     ]
    },
    {
     "name": "stderr",
     "output_type": "stream",
     "text": [
      "\n",
      " 59%|███████████████████████████████████████████████▎                                | 133/225 [57:49<37:22, 24.38s/it]"
     ]
    },
    {
     "name": "stdout",
     "output_type": "stream",
     "text": [
      "Processing data for material : WATER\n",
      "image_data shape is :  (2048, 2448)\n",
      "im90 shape is :  (1024, 1224)\n",
      "Stokes time:  0.0259857177734375 s\n",
      "im_stokes0 shape is :  (1024, 1224)\n",
      "DoLP time:  0.03397989273071289 s\n",
      "im_DOLP shape is :  (1024, 1224)\n",
      "Time for DOLP2Theta conversion is :  23.90422034263611 seconds\n",
      "False\n",
      "AoLP time:  0.04397463798522949 s\n"
     ]
    },
    {
     "name": "stderr",
     "output_type": "stream",
     "text": [
      "\n",
      " 60%|███████████████████████████████████████████████▋                                | 134/225 [58:13<37:03, 24.43s/it]"
     ]
    },
    {
     "name": "stdout",
     "output_type": "stream",
     "text": [
      "Processing data for material : WATER\n",
      "image_data shape is :  (2048, 2448)\n",
      "im90 shape is :  (1024, 1224)\n",
      "Stokes time:  0.02698373794555664 s\n",
      "im_stokes0 shape is :  (1024, 1224)\n",
      "DoLP time:  0.04097628593444824 s\n",
      "im_DOLP shape is :  (1024, 1224)\n",
      "Time for DOLP2Theta conversion is :  24.09910821914673 seconds\n",
      "False\n",
      "AoLP time:  0.04497361183166504 s\n"
     ]
    },
    {
     "name": "stderr",
     "output_type": "stream",
     "text": [
      "\n",
      " 60%|████████████████████████████████████████████████                                | 135/225 [58:38<36:49, 24.54s/it]"
     ]
    },
    {
     "name": "stdout",
     "output_type": "stream",
     "text": [
      "Processing data for material : WATER\n",
      "image_data shape is :  (2048, 2448)\n",
      "im90 shape is :  (1024, 1224)\n",
      "Stokes time:  0.02498483657836914 s\n",
      "im_stokes0 shape is :  (1024, 1224)\n",
      "DoLP time:  0.03697848320007324 s\n",
      "im_DOLP shape is :  (1024, 1224)\n",
      "Time for DOLP2Theta conversion is :  24.2020480632782 seconds\n",
      "False\n",
      "AoLP time:  0.04397463798522949 s\n"
     ]
    },
    {
     "name": "stderr",
     "output_type": "stream",
     "text": [
      "\n",
      " 60%|████████████████████████████████████████████████▎                               | 136/225 [59:03<36:33, 24.65s/it]"
     ]
    },
    {
     "name": "stdout",
     "output_type": "stream",
     "text": [
      "Processing data for material : WATER\n",
      "image_data shape is :  (2048, 2448)\n",
      "im90 shape is :  (1024, 1224)\n",
      "Stokes time:  0.026984691619873047 s\n",
      "im_stokes0 shape is :  (1024, 1224)\n",
      "DoLP time:  0.03697776794433594 s\n",
      "im_DOLP shape is :  (1024, 1224)\n",
      "Time for DOLP2Theta conversion is :  24.106103897094727 seconds\n",
      "False\n",
      "AoLP time:  0.045972347259521484 s\n"
     ]
    },
    {
     "name": "stderr",
     "output_type": "stream",
     "text": [
      "\n",
      " 61%|████████████████████████████████████████████████▋                               | 137/225 [59:28<36:12, 24.69s/it]"
     ]
    },
    {
     "name": "stdout",
     "output_type": "stream",
     "text": [
      "Processing data for material : WATER\n",
      "image_data shape is :  (2048, 2448)\n",
      "im90 shape is :  (1024, 1224)\n",
      "Stokes time:  0.02698373794555664 s\n",
      "im_stokes0 shape is :  (1024, 1224)\n",
      "DoLP time:  0.03597879409790039 s\n",
      "im_DOLP shape is :  (1024, 1224)\n",
      "Time for DOLP2Theta conversion is :  24.533856868743896 seconds\n",
      "False\n",
      "AoLP time:  0.048972129821777344 s\n"
     ]
    },
    {
     "name": "stderr",
     "output_type": "stream",
     "text": [
      "\n",
      " 61%|█████████████████████████████████████████████████                               | 138/225 [59:53<36:01, 24.85s/it]"
     ]
    },
    {
     "name": "stdout",
     "output_type": "stream",
     "text": [
      "Processing data for material : WATER\n",
      "image_data shape is :  (2048, 2448)\n",
      "im90 shape is :  (1024, 1224)\n",
      "Stokes time:  0.028983592987060547 s\n",
      "im_stokes0 shape is :  (1024, 1224)\n",
      "DoLP time:  0.038977861404418945 s\n",
      "im_DOLP shape is :  (1024, 1224)\n",
      "Time for DOLP2Theta conversion is :  21.825437784194946 seconds\n",
      "False\n",
      "AoLP time:  0.05296730995178223 s\n"
     ]
    },
    {
     "name": "stderr",
     "output_type": "stream",
     "text": [
      "\n",
      " 62%|████████████████████████████████████████████████▏                             | 139/225 [1:00:15<34:36, 24.14s/it]"
     ]
    },
    {
     "name": "stdout",
     "output_type": "stream",
     "text": [
      "Processing data for material : WATER\n",
      "image_data shape is :  (2048, 2448)\n",
      "im90 shape is :  (1024, 1224)\n",
      "Stokes time:  0.027983427047729492 s\n",
      "im_stokes0 shape is :  (1024, 1224)\n",
      "DoLP time:  0.03298139572143555 s\n",
      "im_DOLP shape is :  (1024, 1224)\n",
      "Time for DOLP2Theta conversion is :  21.70648717880249 seconds\n",
      "False\n",
      "AoLP time:  0.04897189140319824 s\n"
     ]
    },
    {
     "name": "stderr",
     "output_type": "stream",
     "text": [
      "\n",
      " 62%|████████████████████████████████████████████████▌                             | 140/225 [1:00:38<33:26, 23.61s/it]"
     ]
    },
    {
     "name": "stdout",
     "output_type": "stream",
     "text": [
      "Processing data for material : WATER\n",
      "image_data shape is :  (2048, 2448)\n",
      "im90 shape is :  (1024, 1224)\n",
      "Stokes time:  0.023984909057617188 s\n",
      "im_stokes0 shape is :  (1024, 1224)\n",
      "DoLP time:  0.03498029708862305 s\n",
      "im_DOLP shape is :  (1024, 1224)\n",
      "Time for DOLP2Theta conversion is :  22.409082889556885 seconds\n",
      "False\n",
      "AoLP time:  0.05097174644470215 s\n"
     ]
    },
    {
     "name": "stderr",
     "output_type": "stream",
     "text": [
      "\n",
      " 63%|████████████████████████████████████████████████▉                             | 141/225 [1:01:01<32:50, 23.45s/it]"
     ]
    },
    {
     "name": "stdout",
     "output_type": "stream",
     "text": [
      "Processing data for material : WATER\n",
      "image_data shape is :  (2048, 2448)\n",
      "im90 shape is :  (1024, 1224)\n",
      "Stokes time:  0.025984525680541992 s\n",
      "im_stokes0 shape is :  (1024, 1224)\n",
      "DoLP time:  0.03697776794433594 s\n",
      "im_DOLP shape is :  (1024, 1224)\n",
      "Time for DOLP2Theta conversion is :  23.98217487335205 seconds\n",
      "False\n",
      "AoLP time:  0.0459742546081543 s\n"
     ]
    },
    {
     "name": "stderr",
     "output_type": "stream",
     "text": [
      "\n",
      " 63%|█████████████████████████████████████████████████▏                            | 142/225 [1:01:25<32:56, 23.81s/it]"
     ]
    },
    {
     "name": "stdout",
     "output_type": "stream",
     "text": [
      "Processing data for material : WATER\n",
      "image_data shape is :  (2048, 2448)\n",
      "im90 shape is :  (1024, 1224)\n",
      "Stokes time:  0.028981685638427734 s\n",
      "im_stokes0 shape is :  (1024, 1224)\n",
      "DoLP time:  0.03797793388366699 s\n",
      "im_DOLP shape is :  (1024, 1224)\n",
      "Time for DOLP2Theta conversion is :  24.127092361450195 seconds\n",
      "False\n",
      "AoLP time:  0.05197024345397949 s\n"
     ]
    },
    {
     "name": "stderr",
     "output_type": "stream",
     "text": [
      "\n",
      " 64%|█████████████████████████████████████████████████▌                            | 143/225 [1:01:50<32:57, 24.11s/it]"
     ]
    },
    {
     "name": "stdout",
     "output_type": "stream",
     "text": [
      "Processing data for material : WATER\n",
      "image_data shape is :  (2048, 2448)\n",
      "im90 shape is :  (1024, 1224)\n",
      "Stokes time:  0.026984453201293945 s\n",
      "im_stokes0 shape is :  (1024, 1224)\n",
      "DoLP time:  0.03797793388366699 s\n",
      "im_DOLP shape is :  (1024, 1224)\n",
      "Time for DOLP2Theta conversion is :  23.98717212677002 seconds\n",
      "False\n",
      "AoLP time:  0.04897141456604004 s\n"
     ]
    },
    {
     "name": "stderr",
     "output_type": "stream",
     "text": [
      "\n",
      " 64%|█████████████████████████████████████████████████▉                            | 144/225 [1:02:15<32:47, 24.29s/it]"
     ]
    },
    {
     "name": "stdout",
     "output_type": "stream",
     "text": [
      "Processing data for material : WATER\n",
      "image_data shape is :  (2048, 2448)\n",
      "im90 shape is :  (1024, 1224)\n",
      "Stokes time:  0.02598404884338379 s\n",
      "im_stokes0 shape is :  (1024, 1224)\n",
      "DoLP time:  0.036978721618652344 s\n",
      "im_DOLP shape is :  (1024, 1224)\n",
      "Time for DOLP2Theta conversion is :  23.912216186523438 seconds\n",
      "False\n",
      "AoLP time:  0.04397463798522949 s\n"
     ]
    },
    {
     "name": "stderr",
     "output_type": "stream",
     "text": [
      "\n",
      " 64%|██████████████████████████████████████████████████▎                           | 145/225 [1:02:40<32:30, 24.38s/it]"
     ]
    },
    {
     "name": "stdout",
     "output_type": "stream",
     "text": [
      "Processing data for material : WATER\n",
      "image_data shape is :  (2048, 2448)\n",
      "im90 shape is :  (1024, 1224)\n",
      "Stokes time:  0.027985095977783203 s\n",
      "im_stokes0 shape is :  (1024, 1224)\n",
      "DoLP time:  0.03897666931152344 s\n",
      "im_DOLP shape is :  (1024, 1224)\n",
      "Time for DOLP2Theta conversion is :  23.537431001663208 seconds\n",
      "False\n",
      "AoLP time:  0.04097580909729004 s\n"
     ]
    },
    {
     "name": "stderr",
     "output_type": "stream",
     "text": [
      "\n",
      " 65%|██████████████████████████████████████████████████▌                           | 146/225 [1:03:04<32:02, 24.33s/it]"
     ]
    },
    {
     "name": "stdout",
     "output_type": "stream",
     "text": [
      "Processing data for material : WATER\n",
      "image_data shape is :  (2048, 2448)\n",
      "im90 shape is :  (1024, 1224)\n",
      "Stokes time:  0.02598404884338379 s\n",
      "im_stokes0 shape is :  (1024, 1224)\n",
      "DoLP time:  0.03797769546508789 s\n",
      "im_DOLP shape is :  (1024, 1224)\n",
      "Time for DOLP2Theta conversion is :  21.961340188980103 seconds\n",
      "False\n",
      "AoLP time:  0.042975664138793945 s\n"
     ]
    },
    {
     "name": "stderr",
     "output_type": "stream",
     "text": [
      "\n",
      " 65%|██████████████████████████████████████████████████▉                           | 147/225 [1:03:26<30:57, 23.81s/it]"
     ]
    },
    {
     "name": "stdout",
     "output_type": "stream",
     "text": [
      "Processing data for material : WATER\n",
      "image_data shape is :  (2048, 2448)\n",
      "im90 shape is :  (1024, 1224)\n",
      "Stokes time:  0.02498483657836914 s\n",
      "im_stokes0 shape is :  (1024, 1224)\n",
      "DoLP time:  0.03497958183288574 s\n",
      "im_DOLP shape is :  (1024, 1224)\n",
      "Time for DOLP2Theta conversion is :  21.83341383934021 seconds\n",
      "False\n",
      "AoLP time:  0.04597353935241699 s\n"
     ]
    },
    {
     "name": "stderr",
     "output_type": "stream",
     "text": [
      "\n",
      " 66%|███████████████████████████████████████████████████▎                          | 148/225 [1:03:49<30:02, 23.41s/it]"
     ]
    },
    {
     "name": "stdout",
     "output_type": "stream",
     "text": [
      "Processing data for material : WATER\n",
      "image_data shape is :  (2048, 2448)\n",
      "im90 shape is :  (1024, 1224)\n",
      "Stokes time:  0.025985240936279297 s\n",
      "im_stokes0 shape is :  (1024, 1224)\n",
      "DoLP time:  0.03298068046569824 s\n",
      "im_DOLP shape is :  (1024, 1224)\n",
      "Time for DOLP2Theta conversion is :  23.424497604370117 seconds\n",
      "False\n",
      "AoLP time:  0.046972036361694336 s\n"
     ]
    },
    {
     "name": "stderr",
     "output_type": "stream",
     "text": [
      "\n",
      " 66%|███████████████████████████████████████████████████▋                          | 149/225 [1:04:13<29:54, 23.61s/it]"
     ]
    },
    {
     "name": "stdout",
     "output_type": "stream",
     "text": [
      "Processing data for material : WATER\n",
      "image_data shape is :  (2048, 2448)\n",
      "im90 shape is :  (1024, 1224)\n",
      "Stokes time:  0.0259857177734375 s\n",
      "im_stokes0 shape is :  (1024, 1224)\n",
      "DoLP time:  0.03697919845581055 s\n",
      "im_DOLP shape is :  (1024, 1224)\n",
      "Time for DOLP2Theta conversion is :  23.908218145370483 seconds\n",
      "False\n",
      "AoLP time:  0.047971487045288086 s\n"
     ]
    },
    {
     "name": "stderr",
     "output_type": "stream",
     "text": [
      "\n",
      " 67%|████████████████████████████████████████████████████                          | 150/225 [1:04:37<29:52, 23.91s/it]"
     ]
    },
    {
     "name": "stdout",
     "output_type": "stream",
     "text": [
      "Processing data for material : WATER\n",
      "image_data shape is :  (2048, 2448)\n",
      "im90 shape is :  (1024, 1224)\n",
      "Stokes time:  0.02698349952697754 s\n",
      "im_stokes0 shape is :  (1024, 1224)\n",
      "DoLP time:  0.03797721862792969 s\n",
      "im_DOLP shape is :  (1024, 1224)\n",
      "Time for DOLP2Theta conversion is :  24.241026401519775 seconds\n",
      "False\n",
      "AoLP time:  0.04797101020812988 s\n"
     ]
    },
    {
     "name": "stderr",
     "output_type": "stream",
     "text": [
      "\n",
      " 67%|████████████████████████████████████████████████████▎                         | 151/225 [1:05:02<29:51, 24.21s/it]"
     ]
    },
    {
     "name": "stdout",
     "output_type": "stream",
     "text": [
      "Processing data for material : WATER\n",
      "image_data shape is :  (2048, 2448)\n",
      "im90 shape is :  (1024, 1224)\n",
      "Stokes time:  0.02898383140563965 s\n",
      "im_stokes0 shape is :  (1024, 1224)\n",
      "DoLP time:  0.03797793388366699 s\n",
      "im_DOLP shape is :  (1024, 1224)\n",
      "Time for DOLP2Theta conversion is :  24.36695384979248 seconds\n",
      "False\n",
      "AoLP time:  0.04797196388244629 s\n"
     ]
    },
    {
     "name": "stderr",
     "output_type": "stream",
     "text": [
      "\n",
      " 68%|████████████████████████████████████████████████████▋                         | 152/225 [1:05:27<29:46, 24.47s/it]"
     ]
    },
    {
     "name": "stdout",
     "output_type": "stream",
     "text": [
      "Processing data for material : WATER\n",
      "image_data shape is :  (2048, 2448)\n",
      "im90 shape is :  (1024, 1224)\n",
      "Stokes time:  0.026984214782714844 s\n",
      "im_stokes0 shape is :  (1024, 1224)\n",
      "DoLP time:  0.037978410720825195 s\n",
      "im_DOLP shape is :  (1024, 1224)\n",
      "Time for DOLP2Theta conversion is :  24.992592573165894 seconds\n",
      "False\n",
      "AoLP time:  0.04597353935241699 s\n"
     ]
    },
    {
     "name": "stderr",
     "output_type": "stream",
     "text": [
      "\n",
      " 68%|█████████████████████████████████████████████████████                         | 153/225 [1:05:53<29:48, 24.84s/it]"
     ]
    },
    {
     "name": "stdout",
     "output_type": "stream",
     "text": [
      "Processing data for material : WATER\n",
      "image_data shape is :  (2048, 2448)\n",
      "im90 shape is :  (1024, 1224)\n",
      "Stokes time:  0.027982473373413086 s\n",
      "im_stokes0 shape is :  (1024, 1224)\n",
      "DoLP time:  0.033980369567871094 s\n",
      "im_DOLP shape is :  (1024, 1224)\n",
      "Time for DOLP2Theta conversion is :  21.850411415100098 seconds\n",
      "False\n",
      "AoLP time:  0.0419774055480957 s\n"
     ]
    },
    {
     "name": "stderr",
     "output_type": "stream",
     "text": [
      "\n",
      " 68%|█████████████████████████████████████████████████████▍                        | 154/225 [1:06:16<28:33, 24.13s/it]"
     ]
    },
    {
     "name": "stdout",
     "output_type": "stream",
     "text": [
      "Processing data for material : WATER\n",
      "image_data shape is :  (2048, 2448)\n",
      "im90 shape is :  (1024, 1224)\n",
      "Stokes time:  0.02598404884338379 s\n",
      "im_stokes0 shape is :  (1024, 1224)\n",
      "DoLP time:  0.035979270935058594 s\n",
      "im_DOLP shape is :  (1024, 1224)\n",
      "Time for DOLP2Theta conversion is :  21.715501070022583 seconds\n",
      "False\n",
      "AoLP time:  0.04497337341308594 s\n"
     ]
    },
    {
     "name": "stderr",
     "output_type": "stream",
     "text": [
      "\n",
      " 69%|█████████████████████████████████████████████████████▋                        | 155/225 [1:06:38<27:31, 23.59s/it]"
     ]
    },
    {
     "name": "stdout",
     "output_type": "stream",
     "text": [
      "Processing data for material : WATER\n",
      "image_data shape is :  (2048, 2448)\n",
      "im90 shape is :  (1024, 1224)\n",
      "Stokes time:  0.02798318862915039 s\n",
      "im_stokes0 shape is :  (1024, 1224)\n",
      "DoLP time:  0.03897738456726074 s\n",
      "im_DOLP shape is :  (1024, 1224)\n",
      "Time for DOLP2Theta conversion is :  22.235182523727417 seconds\n",
      "False\n",
      "AoLP time:  0.048972129821777344 s\n"
     ]
    },
    {
     "name": "stderr",
     "output_type": "stream",
     "text": [
      "\n",
      " 69%|██████████████████████████████████████████████████████                        | 156/225 [1:07:01<26:54, 23.39s/it]"
     ]
    },
    {
     "name": "stdout",
     "output_type": "stream",
     "text": [
      "Processing data for material : WATER\n",
      "image_data shape is :  (2048, 2448)\n",
      "im90 shape is :  (1024, 1224)\n",
      "Stokes time:  0.025984525680541992 s\n",
      "im_stokes0 shape is :  (1024, 1224)\n",
      "DoLP time:  0.037978172302246094 s\n",
      "im_DOLP shape is :  (1024, 1224)\n",
      "Time for DOLP2Theta conversion is :  24.212043523788452 seconds\n",
      "False\n",
      "AoLP time:  0.046973466873168945 s\n"
     ]
    },
    {
     "name": "stderr",
     "output_type": "stream",
     "text": [
      "\n",
      " 70%|██████████████████████████████████████████████████████▍                       | 157/225 [1:07:26<27:02, 23.86s/it]"
     ]
    },
    {
     "name": "stdout",
     "output_type": "stream",
     "text": [
      "Processing data for material : WATER\n",
      "image_data shape is :  (2048, 2448)\n",
      "im90 shape is :  (1024, 1224)\n",
      "Stokes time:  0.026983261108398438 s\n",
      "im_stokes0 shape is :  (1024, 1224)\n",
      "DoLP time:  0.036978960037231445 s\n",
      "im_DOLP shape is :  (1024, 1224)\n",
      "Time for DOLP2Theta conversion is :  24.188056468963623 seconds\n",
      "False\n",
      "AoLP time:  0.047971487045288086 s\n"
     ]
    },
    {
     "name": "stderr",
     "output_type": "stream",
     "text": [
      "\n",
      " 70%|██████████████████████████████████████████████████████▊                       | 158/225 [1:07:51<26:58, 24.16s/it]"
     ]
    },
    {
     "name": "stdout",
     "output_type": "stream",
     "text": [
      "Processing data for material : WATER\n",
      "image_data shape is :  (2048, 2448)\n",
      "im90 shape is :  (1024, 1224)\n",
      "Stokes time:  0.026984453201293945 s\n",
      "im_stokes0 shape is :  (1024, 1224)\n",
      "DoLP time:  0.03597903251647949 s\n",
      "im_DOLP shape is :  (1024, 1224)\n",
      "Time for DOLP2Theta conversion is :  24.63279938697815 seconds\n",
      "False\n",
      "AoLP time:  0.04697155952453613 s\n"
     ]
    },
    {
     "name": "stderr",
     "output_type": "stream",
     "text": [
      "\n",
      " 71%|███████████████████████████████████████████████████████                       | 159/225 [1:08:16<26:57, 24.51s/it]"
     ]
    },
    {
     "name": "stdout",
     "output_type": "stream",
     "text": [
      "Processing data for material : WATER\n",
      "image_data shape is :  (2048, 2448)\n",
      "im90 shape is :  (1024, 1224)\n",
      "Stokes time:  0.025985002517700195 s\n",
      "im_stokes0 shape is :  (1024, 1224)\n",
      "DoLP time:  0.03497934341430664 s\n",
      "im_DOLP shape is :  (1024, 1224)\n",
      "Time for DOLP2Theta conversion is :  24.292995929718018 seconds\n",
      "False\n",
      "AoLP time:  0.0479731559753418 s\n"
     ]
    },
    {
     "name": "stderr",
     "output_type": "stream",
     "text": [
      "\n",
      " 71%|███████████████████████████████████████████████████████▍                      | 160/225 [1:08:41<26:42, 24.65s/it]"
     ]
    },
    {
     "name": "stdout",
     "output_type": "stream",
     "text": [
      "Processing data for material : WATER\n",
      "image_data shape is :  (2048, 2448)\n",
      "im90 shape is :  (1024, 1224)\n",
      "Stokes time:  0.027983427047729492 s\n",
      "im_stokes0 shape is :  (1024, 1224)\n",
      "DoLP time:  0.03797769546508789 s\n",
      "im_DOLP shape is :  (1024, 1224)\n",
      "Time for DOLP2Theta conversion is :  23.23460626602173 seconds\n",
      "False\n",
      "AoLP time:  0.04497385025024414 s\n"
     ]
    },
    {
     "name": "stderr",
     "output_type": "stream",
     "text": [
      "\n",
      " 72%|███████████████████████████████████████████████████████▊                      | 161/225 [1:09:05<26:03, 24.42s/it]"
     ]
    },
    {
     "name": "stdout",
     "output_type": "stream",
     "text": [
      "Processing data for material : WATER\n",
      "image_data shape is :  (2048, 2448)\n",
      "im90 shape is :  (1024, 1224)\n",
      "Stokes time:  0.025984525680541992 s\n",
      "im_stokes0 shape is :  (1024, 1224)\n",
      "DoLP time:  0.03397965431213379 s\n",
      "im_DOLP shape is :  (1024, 1224)\n",
      "Time for DOLP2Theta conversion is :  21.644524335861206 seconds\n",
      "False\n",
      "AoLP time:  0.04297518730163574 s\n"
     ]
    },
    {
     "name": "stderr",
     "output_type": "stream",
     "text": [
      "\n",
      " 72%|████████████████████████████████████████████████████████▏                     | 162/225 [1:09:27<24:58, 23.79s/it]"
     ]
    },
    {
     "name": "stdout",
     "output_type": "stream",
     "text": [
      "Processing data for material : WATER\n",
      "image_data shape is :  (2048, 2448)\n",
      "im90 shape is :  (1024, 1224)\n",
      "Stokes time:  0.025985240936279297 s\n",
      "im_stokes0 shape is :  (1024, 1224)\n",
      "DoLP time:  0.03497910499572754 s\n",
      "im_DOLP shape is :  (1024, 1224)\n",
      "Time for DOLP2Theta conversion is :  21.709485054016113 seconds\n",
      "False\n",
      "AoLP time:  0.04197525978088379 s\n"
     ]
    },
    {
     "name": "stderr",
     "output_type": "stream",
     "text": [
      "\n",
      " 72%|████████████████████████████████████████████████████████▌                     | 163/225 [1:09:50<24:08, 23.37s/it]"
     ]
    },
    {
     "name": "stdout",
     "output_type": "stream",
     "text": [
      "Processing data for material : WATER\n",
      "image_data shape is :  (2048, 2448)\n",
      "im90 shape is :  (1024, 1224)\n",
      "Stokes time:  0.026984453201293945 s\n",
      "im_stokes0 shape is :  (1024, 1224)\n",
      "DoLP time:  0.034979820251464844 s\n",
      "im_DOLP shape is :  (1024, 1224)\n",
      "Time for DOLP2Theta conversion is :  23.520442485809326 seconds\n",
      "False\n",
      "AoLP time:  0.04597306251525879 s\n"
     ]
    },
    {
     "name": "stderr",
     "output_type": "stream",
     "text": [
      "\n",
      " 73%|████████████████████████████████████████████████████████▊                     | 164/225 [1:10:14<24:00, 23.61s/it]"
     ]
    },
    {
     "name": "stdout",
     "output_type": "stream",
     "text": [
      "Processing data for material : WATER\n",
      "image_data shape is :  (2048, 2448)\n",
      "im90 shape is :  (1024, 1224)\n",
      "Stokes time:  0.027984619140625 s\n",
      "im_stokes0 shape is :  (1024, 1224)\n",
      "DoLP time:  0.03697824478149414 s\n",
      "im_DOLP shape is :  (1024, 1224)\n",
      "Time for DOLP2Theta conversion is :  24.581829071044922 seconds\n",
      "False\n",
      "AoLP time:  0.04297494888305664 s\n"
     ]
    },
    {
     "name": "stderr",
     "output_type": "stream",
     "text": [
      "\n",
      " 73%|█████████████████████████████████████████████████████████▏                    | 165/225 [1:10:39<24:06, 24.11s/it]"
     ]
    },
    {
     "name": "stdout",
     "output_type": "stream",
     "text": [
      "Processing data for material : WATER\n",
      "image_data shape is :  (2048, 2448)\n",
      "im90 shape is :  (1024, 1224)\n",
      "Stokes time:  0.026984214782714844 s\n",
      "im_stokes0 shape is :  (1024, 1224)\n",
      "DoLP time:  0.03497958183288574 s\n",
      "im_DOLP shape is :  (1024, 1224)\n",
      "Time for DOLP2Theta conversion is :  24.121095418930054 seconds\n",
      "False\n",
      "AoLP time:  0.04297471046447754 s\n"
     ]
    },
    {
     "name": "stderr",
     "output_type": "stream",
     "text": [
      "\n",
      " 74%|█████████████████████████████████████████████████████████▌                    | 166/225 [1:11:04<23:54, 24.31s/it]"
     ]
    },
    {
     "name": "stdout",
     "output_type": "stream",
     "text": [
      "Processing data for material : WATER\n",
      "image_data shape is :  (2048, 2448)\n",
      "im90 shape is :  (1024, 1224)\n",
      "Stokes time:  0.027983427047729492 s\n",
      "im_stokes0 shape is :  (1024, 1224)\n",
      "DoLP time:  0.038977861404418945 s\n",
      "im_DOLP shape is :  (1024, 1224)\n",
      "Time for DOLP2Theta conversion is :  23.9711811542511 seconds\n",
      "False\n",
      "AoLP time:  0.04797196388244629 s\n"
     ]
    },
    {
     "name": "stderr",
     "output_type": "stream",
     "text": [
      "\n",
      " 74%|█████████████████████████████████████████████████████████▉                    | 167/225 [1:11:29<23:36, 24.42s/it]"
     ]
    },
    {
     "name": "stdout",
     "output_type": "stream",
     "text": [
      "Processing data for material : WATER\n",
      "image_data shape is :  (2048, 2448)\n",
      "im90 shape is :  (1024, 1224)\n",
      "Stokes time:  0.026984214782714844 s\n",
      "im_stokes0 shape is :  (1024, 1224)\n",
      "DoLP time:  0.038977622985839844 s\n",
      "im_DOLP shape is :  (1024, 1224)\n",
      "Time for DOLP2Theta conversion is :  24.160072565078735 seconds\n",
      "False\n",
      "AoLP time:  0.044974327087402344 s\n"
     ]
    },
    {
     "name": "stderr",
     "output_type": "stream",
     "text": [
      "\n",
      " 75%|██████████████████████████████████████████████████████████▏                   | 168/225 [1:11:53<23:19, 24.55s/it]"
     ]
    },
    {
     "name": "stdout",
     "output_type": "stream",
     "text": [
      "Processing data for material : WATER\n",
      "image_data shape is :  (2048, 2448)\n",
      "im90 shape is :  (1024, 1224)\n",
      "Stokes time:  0.026985645294189453 s\n",
      "im_stokes0 shape is :  (1024, 1224)\n",
      "DoLP time:  0.03797650337219238 s\n",
      "im_DOLP shape is :  (1024, 1224)\n",
      "Time for DOLP2Theta conversion is :  21.97933006286621 seconds\n",
      "False\n",
      "AoLP time:  0.04797244071960449 s\n"
     ]
    },
    {
     "name": "stderr",
     "output_type": "stream",
     "text": [
      "\n",
      " 75%|██████████████████████████████████████████████████████████▌                   | 169/225 [1:12:16<22:22, 23.98s/it]"
     ]
    },
    {
     "name": "stdout",
     "output_type": "stream",
     "text": [
      "Processing data for material : WATER\n",
      "image_data shape is :  (2048, 2448)\n",
      "im90 shape is :  (1024, 1224)\n",
      "Stokes time:  0.024985074996948242 s\n",
      "im_stokes0 shape is :  (1024, 1224)\n",
      "DoLP time:  0.03397989273071289 s\n",
      "im_DOLP shape is :  (1024, 1224)\n",
      "Time for DOLP2Theta conversion is :  21.70948553085327 seconds\n",
      "False\n",
      "AoLP time:  0.04297614097595215 s\n"
     ]
    },
    {
     "name": "stderr",
     "output_type": "stream",
     "text": [
      "\n",
      " 76%|██████████████████████████████████████████████████████████▉                   | 170/225 [1:12:38<21:31, 23.49s/it]"
     ]
    },
    {
     "name": "stdout",
     "output_type": "stream",
     "text": [
      "Processing data for material : WATER\n",
      "image_data shape is :  (2048, 2448)\n",
      "im90 shape is :  (1024, 1224)\n",
      "Stokes time:  0.024985074996948242 s\n",
      "im_stokes0 shape is :  (1024, 1224)\n",
      "DoLP time:  0.0339808464050293 s\n",
      "im_DOLP shape is :  (1024, 1224)\n",
      "Time for DOLP2Theta conversion is :  22.22318959236145 seconds\n",
      "False\n",
      "AoLP time:  0.03797793388366699 s\n"
     ]
    },
    {
     "name": "stderr",
     "output_type": "stream",
     "text": [
      "\n",
      " 76%|███████████████████████████████████████████████████████████▎                  | 171/225 [1:13:01<20:58, 23.30s/it]"
     ]
    },
    {
     "name": "stdout",
     "output_type": "stream",
     "text": [
      "Processing data for material : WATER\n",
      "image_data shape is :  (2048, 2448)\n",
      "im90 shape is :  (1024, 1224)\n",
      "Stokes time:  0.027983665466308594 s\n",
      "im_stokes0 shape is :  (1024, 1224)\n",
      "DoLP time:  0.03697800636291504 s\n",
      "im_DOLP shape is :  (1024, 1224)\n",
      "Time for DOLP2Theta conversion is :  24.106103897094727 seconds\n",
      "False\n",
      "AoLP time:  0.04097700119018555 s\n"
     ]
    },
    {
     "name": "stderr",
     "output_type": "stream",
     "text": [
      "\n",
      " 76%|███████████████████████████████████████████████████████████▋                  | 172/225 [1:13:26<20:58, 23.75s/it]"
     ]
    },
    {
     "name": "stdout",
     "output_type": "stream",
     "text": [
      "Processing data for material : WATER\n",
      "image_data shape is :  (2048, 2448)\n",
      "im90 shape is :  (1024, 1224)\n",
      "Stokes time:  0.026984453201293945 s\n",
      "im_stokes0 shape is :  (1024, 1224)\n",
      "DoLP time:  0.037978410720825195 s\n",
      "im_DOLP shape is :  (1024, 1224)\n",
      "Time for DOLP2Theta conversion is :  24.27400803565979 seconds\n",
      "False\n",
      "AoLP time:  0.047971248626708984 s\n"
     ]
    },
    {
     "name": "stderr",
     "output_type": "stream",
     "text": [
      "\n",
      " 77%|███████████████████████████████████████████████████████████▉                  | 173/225 [1:13:51<20:53, 24.11s/it]"
     ]
    },
    {
     "name": "stdout",
     "output_type": "stream",
     "text": [
      "Processing data for material : WATER\n",
      "image_data shape is :  (2048, 2448)\n",
      "im90 shape is :  (1024, 1224)\n",
      "Stokes time:  0.0279843807220459 s\n",
      "im_stokes0 shape is :  (1024, 1224)\n",
      "DoLP time:  0.035979270935058594 s\n",
      "im_DOLP shape is :  (1024, 1224)\n",
      "Time for DOLP2Theta conversion is :  24.02115225791931 seconds\n",
      "False\n",
      "AoLP time:  0.04597187042236328 s\n"
     ]
    },
    {
     "name": "stderr",
     "output_type": "stream",
     "text": [
      "\n",
      " 77%|████████████████████████████████████████████████████████████▎                 | 174/225 [1:14:16<20:39, 24.29s/it]"
     ]
    },
    {
     "name": "stdout",
     "output_type": "stream",
     "text": [
      "Processing data for material : WATER\n",
      "image_data shape is :  (2048, 2448)\n",
      "im90 shape is :  (1024, 1224)\n",
      "Stokes time:  0.027983665466308594 s\n",
      "im_stokes0 shape is :  (1024, 1224)\n",
      "DoLP time:  0.03697848320007324 s\n",
      "im_DOLP shape is :  (1024, 1224)\n",
      "Time for DOLP2Theta conversion is :  23.98517346382141 seconds\n",
      "False\n",
      "AoLP time:  0.044973134994506836 s\n"
     ]
    },
    {
     "name": "stderr",
     "output_type": "stream",
     "text": [
      "\n",
      " 78%|████████████████████████████████████████████████████████████▋                 | 175/225 [1:14:40<20:20, 24.41s/it]"
     ]
    },
    {
     "name": "stdout",
     "output_type": "stream",
     "text": [
      "Processing data for material : WATER\n",
      "image_data shape is :  (2048, 2448)\n",
      "im90 shape is :  (1024, 1224)\n",
      "Stokes time:  0.025983810424804688 s\n",
      "im_stokes0 shape is :  (1024, 1224)\n",
      "DoLP time:  0.038977861404418945 s\n",
      "im_DOLP shape is :  (1024, 1224)\n",
      "Time for DOLP2Theta conversion is :  22.944772958755493 seconds\n",
      "False\n",
      "AoLP time:  0.0459742546081543 s\n"
     ]
    },
    {
     "name": "stderr",
     "output_type": "stream",
     "text": [
      "\n",
      " 78%|█████████████████████████████████████████████████████████████                 | 176/225 [1:15:04<19:44, 24.17s/it]"
     ]
    },
    {
     "name": "stdout",
     "output_type": "stream",
     "text": [
      "Processing data for material : WATER\n",
      "image_data shape is :  (2048, 2448)\n",
      "im90 shape is :  (1024, 1224)\n",
      "Stokes time:  0.025985002517700195 s\n",
      "im_stokes0 shape is :  (1024, 1224)\n",
      "DoLP time:  0.03597879409790039 s\n",
      "im_DOLP shape is :  (1024, 1224)\n",
      "Time for DOLP2Theta conversion is :  21.877407550811768 seconds\n",
      "False\n",
      "AoLP time:  0.03997659683227539 s\n"
     ]
    },
    {
     "name": "stderr",
     "output_type": "stream",
     "text": [
      "\n",
      " 79%|█████████████████████████████████████████████████████████████▎                | 177/225 [1:15:27<18:56, 23.67s/it]"
     ]
    },
    {
     "name": "stdout",
     "output_type": "stream",
     "text": [
      "Processing data for material : WATER\n",
      "image_data shape is :  (2048, 2448)\n",
      "im90 shape is :  (1024, 1224)\n",
      "Stokes time:  0.025985002517700195 s\n",
      "im_stokes0 shape is :  (1024, 1224)\n",
      "DoLP time:  0.03497934341430664 s\n",
      "im_DOLP shape is :  (1024, 1224)\n",
      "Time for DOLP2Theta conversion is :  21.80742907524109 seconds\n",
      "False\n",
      "AoLP time:  0.04297637939453125 s\n"
     ]
    },
    {
     "name": "stderr",
     "output_type": "stream",
     "text": [
      "\n",
      " 79%|█████████████████████████████████████████████████████████████▋                | 178/225 [1:15:49<18:16, 23.32s/it]"
     ]
    },
    {
     "name": "stdout",
     "output_type": "stream",
     "text": [
      "Processing data for material : WATER\n",
      "image_data shape is :  (2048, 2448)\n",
      "im90 shape is :  (1024, 1224)\n",
      "Stokes time:  0.02698349952697754 s\n",
      "im_stokes0 shape is :  (1024, 1224)\n",
      "DoLP time:  0.0379786491394043 s\n",
      "im_DOLP shape is :  (1024, 1224)\n",
      "Time for DOLP2Theta conversion is :  23.04771399497986 seconds\n",
      "False\n",
      "AoLP time:  0.04697227478027344 s\n"
     ]
    },
    {
     "name": "stderr",
     "output_type": "stream",
     "text": [
      "\n",
      " 80%|██████████████████████████████████████████████████████████████                | 179/225 [1:16:13<17:58, 23.44s/it]"
     ]
    },
    {
     "name": "stdout",
     "output_type": "stream",
     "text": [
      "Processing data for material : WATER\n",
      "image_data shape is :  (2048, 2448)\n",
      "im90 shape is :  (1024, 1224)\n",
      "Stokes time:  0.0259859561920166 s\n",
      "im_stokes0 shape is :  (1024, 1224)\n",
      "DoLP time:  0.03797769546508789 s\n",
      "im_DOLP shape is :  (1024, 1224)\n",
      "Time for DOLP2Theta conversion is :  23.885244846343994 seconds\n",
      "False\n",
      "AoLP time:  0.04497361183166504 s\n"
     ]
    },
    {
     "name": "stderr",
     "output_type": "stream",
     "text": [
      "\n",
      " 80%|██████████████████████████████████████████████████████████████▍               | 180/225 [1:16:37<17:50, 23.78s/it]"
     ]
    },
    {
     "name": "stdout",
     "output_type": "stream",
     "text": [
      "Processing data for material : WATER\n",
      "image_data shape is :  (2048, 2448)\n",
      "im90 shape is :  (1024, 1224)\n",
      "Stokes time:  0.025983095169067383 s\n",
      "im_stokes0 shape is :  (1024, 1224)\n",
      "DoLP time:  0.03697919845581055 s\n",
      "im_DOLP shape is :  (1024, 1224)\n",
      "Time for DOLP2Theta conversion is :  23.76530146598816 seconds\n",
      "False\n",
      "AoLP time:  0.04497361183166504 s\n"
     ]
    },
    {
     "name": "stderr",
     "output_type": "stream",
     "text": [
      "\n",
      " 80%|██████████████████████████████████████████████████████████████▋               | 181/225 [1:17:02<17:35, 23.98s/it]"
     ]
    },
    {
     "name": "stdout",
     "output_type": "stream",
     "text": [
      "Processing data for material : WATER\n",
      "image_data shape is :  (2048, 2448)\n",
      "im90 shape is :  (1024, 1224)\n",
      "Stokes time:  0.028983116149902344 s\n",
      "im_stokes0 shape is :  (1024, 1224)\n",
      "DoLP time:  0.036977291107177734 s\n",
      "im_DOLP shape is :  (1024, 1224)\n",
      "Time for DOLP2Theta conversion is :  24.311984300613403 seconds\n",
      "False\n",
      "AoLP time:  0.048970937728881836 s\n"
     ]
    },
    {
     "name": "stderr",
     "output_type": "stream",
     "text": [
      "\n",
      " 81%|███████████████████████████████████████████████████████████████               | 182/225 [1:17:27<17:24, 24.29s/it]"
     ]
    },
    {
     "name": "stdout",
     "output_type": "stream",
     "text": [
      "Processing data for material : WATER\n",
      "image_data shape is :  (2048, 2448)\n",
      "im90 shape is :  (1024, 1224)\n",
      "Stokes time:  0.025985002517700195 s\n",
      "im_stokes0 shape is :  (1024, 1224)\n",
      "DoLP time:  0.03797769546508789 s\n",
      "im_DOLP shape is :  (1024, 1224)\n",
      "Time for DOLP2Theta conversion is :  24.52486276626587 seconds\n",
      "False\n",
      "AoLP time:  0.041974544525146484 s\n"
     ]
    },
    {
     "name": "stderr",
     "output_type": "stream",
     "text": [
      "\n",
      " 81%|███████████████████████████████████████████████████████████████▍              | 183/225 [1:17:52<17:11, 24.56s/it]"
     ]
    },
    {
     "name": "stdout",
     "output_type": "stream",
     "text": [
      "Processing data for material : WATER\n",
      "image_data shape is :  (2048, 2448)\n",
      "im90 shape is :  (1024, 1224)\n",
      "Stokes time:  0.02798318862915039 s\n",
      "im_stokes0 shape is :  (1024, 1224)\n",
      "DoLP time:  0.03497934341430664 s\n",
      "im_DOLP shape is :  (1024, 1224)\n",
      "Time for DOLP2Theta conversion is :  21.897376537322998 seconds\n",
      "False\n",
      "AoLP time:  0.04097557067871094 s\n"
     ]
    },
    {
     "name": "stderr",
     "output_type": "stream",
     "text": [
      "\n",
      " 82%|███████████████████████████████████████████████████████████████▊              | 184/225 [1:18:15<16:22, 23.96s/it]"
     ]
    },
    {
     "name": "stdout",
     "output_type": "stream",
     "text": [
      "Processing data for material : WATER\n",
      "image_data shape is :  (2048, 2448)\n",
      "im90 shape is :  (1024, 1224)\n",
      "Stokes time:  0.024985790252685547 s\n",
      "im_stokes0 shape is :  (1024, 1224)\n",
      "DoLP time:  0.035979270935058594 s\n",
      "im_DOLP shape is :  (1024, 1224)\n",
      "Time for DOLP2Theta conversion is :  21.66353130340576 seconds\n",
      "False\n",
      "AoLP time:  0.04097628593444824 s\n"
     ]
    },
    {
     "name": "stderr",
     "output_type": "stream",
     "text": [
      "\n",
      " 82%|████████████████████████████████████████████████████████████████▏             | 185/225 [1:18:37<15:38, 23.47s/it]"
     ]
    },
    {
     "name": "stdout",
     "output_type": "stream",
     "text": [
      "Processing data for material : WATER\n",
      "image_data shape is :  (2048, 2448)\n",
      "im90 shape is :  (1024, 1224)\n",
      "Stokes time:  0.02598404884338379 s\n",
      "im_stokes0 shape is :  (1024, 1224)\n",
      "DoLP time:  0.031981468200683594 s\n",
      "im_DOLP shape is :  (1024, 1224)\n",
      "Time for DOLP2Theta conversion is :  21.827415943145752 seconds\n",
      "False\n",
      "AoLP time:  0.04297304153442383 s\n"
     ]
    },
    {
     "name": "stderr",
     "output_type": "stream",
     "text": [
      "\n",
      " 83%|████████████████████████████████████████████████████████████████▍             | 186/225 [1:18:59<15:03, 23.16s/it]"
     ]
    },
    {
     "name": "stdout",
     "output_type": "stream",
     "text": [
      "Processing data for material : WATER\n",
      "image_data shape is :  (2048, 2448)\n",
      "im90 shape is :  (1024, 1224)\n",
      "Stokes time:  0.024985074996948242 s\n",
      "im_stokes0 shape is :  (1024, 1224)\n",
      "DoLP time:  0.03497958183288574 s\n",
      "im_DOLP shape is :  (1024, 1224)\n",
      "Time for DOLP2Theta conversion is :  21.982327222824097 seconds\n",
      "False\n",
      "AoLP time:  0.044972896575927734 s\n"
     ]
    },
    {
     "name": "stderr",
     "output_type": "stream",
     "text": [
      "\n",
      " 83%|████████████████████████████████████████████████████████████████▊             | 187/225 [1:19:22<14:34, 23.01s/it]"
     ]
    },
    {
     "name": "stdout",
     "output_type": "stream",
     "text": [
      "Processing data for material : WATER\n",
      "image_data shape is :  (2048, 2448)\n",
      "im90 shape is :  (1024, 1224)\n",
      "Stokes time:  0.02498459815979004 s\n",
      "im_stokes0 shape is :  (1024, 1224)\n",
      "DoLP time:  0.033978939056396484 s\n",
      "im_DOLP shape is :  (1024, 1224)\n",
      "Time for DOLP2Theta conversion is :  22.653939962387085 seconds\n",
      "False\n",
      "AoLP time:  0.045972347259521484 s\n"
     ]
    },
    {
     "name": "stderr",
     "output_type": "stream",
     "text": [
      "\n",
      " 84%|█████████████████████████████████████████████████████████████████▏            | 188/225 [1:19:45<14:14, 23.10s/it]"
     ]
    },
    {
     "name": "stdout",
     "output_type": "stream",
     "text": [
      "Processing data for material : WATER\n",
      "image_data shape is :  (2048, 2448)\n",
      "im90 shape is :  (1024, 1224)\n",
      "Stokes time:  0.0239865779876709 s\n",
      "im_stokes0 shape is :  (1024, 1224)\n",
      "DoLP time:  0.03597903251647949 s\n",
      "im_DOLP shape is :  (1024, 1224)\n",
      "Time for DOLP2Theta conversion is :  22.47604489326477 seconds\n",
      "False\n",
      "AoLP time:  0.04297375679016113 s\n"
     ]
    },
    {
     "name": "stderr",
     "output_type": "stream",
     "text": [
      "\n",
      " 84%|█████████████████████████████████████████████████████████████████▌            | 189/225 [1:20:08<13:52, 23.12s/it]"
     ]
    },
    {
     "name": "stdout",
     "output_type": "stream",
     "text": [
      "Processing data for material : WATER\n",
      "image_data shape is :  (2048, 2448)\n",
      "im90 shape is :  (1024, 1224)\n",
      "Stokes time:  0.023985862731933594 s\n",
      "im_stokes0 shape is :  (1024, 1224)\n",
      "DoLP time:  0.03697848320007324 s\n",
      "im_DOLP shape is :  (1024, 1224)\n",
      "Time for DOLP2Theta conversion is :  22.10325813293457 seconds\n",
      "False\n",
      "AoLP time:  0.04297518730163574 s\n"
     ]
    },
    {
     "name": "stderr",
     "output_type": "stream",
     "text": [
      "\n",
      " 84%|█████████████████████████████████████████████████████████████████▊            | 190/225 [1:20:31<13:25, 23.02s/it]"
     ]
    },
    {
     "name": "stdout",
     "output_type": "stream",
     "text": [
      "Processing data for material : WATER\n",
      "image_data shape is :  (2048, 2448)\n",
      "im90 shape is :  (1024, 1224)\n",
      "Stokes time:  0.02698516845703125 s\n",
      "im_stokes0 shape is :  (1024, 1224)\n",
      "DoLP time:  0.037982940673828125 s\n",
      "im_DOLP shape is :  (1024, 1224)\n",
      "Time for DOLP2Theta conversion is :  21.94235134124756 seconds\n",
      "False\n",
      "AoLP time:  0.03997635841369629 s\n"
     ]
    },
    {
     "name": "stderr",
     "output_type": "stream",
     "text": [
      "\n",
      " 85%|██████████████████████████████████████████████████████████████████▏           | 191/225 [1:20:54<12:57, 22.88s/it]"
     ]
    },
    {
     "name": "stdout",
     "output_type": "stream",
     "text": [
      "Processing data for material : WATER\n",
      "image_data shape is :  (2048, 2448)\n",
      "im90 shape is :  (1024, 1224)\n",
      "Stokes time:  0.023986101150512695 s\n",
      "im_stokes0 shape is :  (1024, 1224)\n",
      "DoLP time:  0.03298187255859375 s\n",
      "im_DOLP shape is :  (1024, 1224)\n",
      "Time for DOLP2Theta conversion is :  21.039888381958008 seconds\n",
      "False\n",
      "AoLP time:  0.038977861404418945 s\n"
     ]
    },
    {
     "name": "stderr",
     "output_type": "stream",
     "text": [
      "\n",
      " 85%|██████████████████████████████████████████████████████████████████▌           | 192/225 [1:21:15<12:22, 22.51s/it]"
     ]
    },
    {
     "name": "stdout",
     "output_type": "stream",
     "text": [
      "Processing data for material : WATER\n",
      "image_data shape is :  (2048, 2448)\n",
      "im90 shape is :  (1024, 1224)\n",
      "Stokes time:  0.024985790252685547 s\n",
      "im_stokes0 shape is :  (1024, 1224)\n",
      "DoLP time:  0.030982017517089844 s\n",
      "im_DOLP shape is :  (1024, 1224)\n",
      "Time for DOLP2Theta conversion is :  21.200777769088745 seconds\n",
      "False\n",
      "AoLP time:  0.04097557067871094 s\n"
     ]
    },
    {
     "name": "stderr",
     "output_type": "stream",
     "text": [
      "\n",
      " 86%|██████████████████████████████████████████████████████████████████▉           | 193/225 [1:21:37<11:53, 22.29s/it]"
     ]
    },
    {
     "name": "stdout",
     "output_type": "stream",
     "text": [
      "Processing data for material : WATER\n",
      "image_data shape is :  (2048, 2448)\n",
      "im90 shape is :  (1024, 1224)\n",
      "Stokes time:  0.02498602867126465 s\n",
      "im_stokes0 shape is :  (1024, 1224)\n",
      "DoLP time:  0.036978721618652344 s\n",
      "im_DOLP shape is :  (1024, 1224)\n",
      "Time for DOLP2Theta conversion is :  22.00931215286255 seconds\n",
      "False\n",
      "AoLP time:  0.05097055435180664 s\n"
     ]
    },
    {
     "name": "stderr",
     "output_type": "stream",
     "text": [
      "\n",
      " 86%|███████████████████████████████████████████████████████████████████▎          | 194/225 [1:22:00<11:34, 22.41s/it]"
     ]
    },
    {
     "name": "stdout",
     "output_type": "stream",
     "text": [
      "Processing data for material : WATER\n",
      "image_data shape is :  (2048, 2448)\n",
      "im90 shape is :  (1024, 1224)\n",
      "Stokes time:  0.026984214782714844 s\n",
      "im_stokes0 shape is :  (1024, 1224)\n",
      "DoLP time:  0.03497934341430664 s\n",
      "im_DOLP shape is :  (1024, 1224)\n",
      "Time for DOLP2Theta conversion is :  22.43506646156311 seconds\n",
      "False\n",
      "AoLP time:  0.047971248626708984 s\n"
     ]
    },
    {
     "name": "stderr",
     "output_type": "stream",
     "text": [
      "\n",
      " 87%|███████████████████████████████████████████████████████████████████▌          | 195/225 [1:22:23<11:18, 22.62s/it]"
     ]
    },
    {
     "name": "stdout",
     "output_type": "stream",
     "text": [
      "Processing data for material : WATER\n",
      "image_data shape is :  (2048, 2448)\n",
      "im90 shape is :  (1024, 1224)\n",
      "Stokes time:  0.024985551834106445 s\n",
      "im_stokes0 shape is :  (1024, 1224)\n",
      "DoLP time:  0.034979820251464844 s\n",
      "im_DOLP shape is :  (1024, 1224)\n",
      "Time for DOLP2Theta conversion is :  22.172220706939697 seconds\n",
      "False\n",
      "AoLP time:  0.045972585678100586 s\n"
     ]
    },
    {
     "name": "stderr",
     "output_type": "stream",
     "text": [
      "\n",
      " 87%|███████████████████████████████████████████████████████████████████▉          | 196/225 [1:22:46<10:58, 22.69s/it]"
     ]
    },
    {
     "name": "stdout",
     "output_type": "stream",
     "text": [
      "Processing data for material : WATER\n",
      "image_data shape is :  (2048, 2448)\n",
      "im90 shape is :  (1024, 1224)\n",
      "Stokes time:  0.026984453201293945 s\n",
      "im_stokes0 shape is :  (1024, 1224)\n",
      "DoLP time:  0.03298044204711914 s\n",
      "im_DOLP shape is :  (1024, 1224)\n",
      "Time for DOLP2Theta conversion is :  22.67093014717102 seconds\n",
      "False\n",
      "AoLP time:  0.052968740463256836 s\n"
     ]
    },
    {
     "name": "stderr",
     "output_type": "stream",
     "text": [
      "\n",
      " 88%|████████████████████████████████████████████████████████████████████▎         | 197/225 [1:23:09<10:40, 22.89s/it]"
     ]
    },
    {
     "name": "stdout",
     "output_type": "stream",
     "text": [
      "Processing data for material : WATER\n",
      "image_data shape is :  (2048, 2448)\n",
      "im90 shape is :  (1024, 1224)\n",
      "Stokes time:  0.025985002517700195 s\n",
      "im_stokes0 shape is :  (1024, 1224)\n",
      "DoLP time:  0.03797793388366699 s\n",
      "im_DOLP shape is :  (1024, 1224)\n",
      "Time for DOLP2Theta conversion is :  22.918787717819214 seconds\n",
      "False\n",
      "AoLP time:  0.04597139358520508 s\n"
     ]
    },
    {
     "name": "stderr",
     "output_type": "stream",
     "text": [
      "\n",
      " 88%|████████████████████████████████████████████████████████████████████▋         | 198/225 [1:23:33<10:23, 23.10s/it]"
     ]
    },
    {
     "name": "stdout",
     "output_type": "stream",
     "text": [
      "Processing data for material : WATER\n",
      "image_data shape is :  (2048, 2448)\n",
      "im90 shape is :  (1024, 1224)\n",
      "Stokes time:  0.02498650550842285 s\n",
      "im_stokes0 shape is :  (1024, 1224)\n",
      "DoLP time:  0.037978172302246094 s\n",
      "im_DOLP shape is :  (1024, 1224)\n",
      "Time for DOLP2Theta conversion is :  21.683501720428467 seconds\n",
      "False\n",
      "AoLP time:  0.04497408866882324 s\n"
     ]
    },
    {
     "name": "stderr",
     "output_type": "stream",
     "text": [
      "\n",
      " 88%|████████████████████████████████████████████████████████████████████▉         | 199/225 [1:23:55<09:54, 22.87s/it]"
     ]
    },
    {
     "name": "stdout",
     "output_type": "stream",
     "text": [
      "Processing data for material : WATER\n",
      "image_data shape is :  (2048, 2448)\n",
      "im90 shape is :  (1024, 1224)\n",
      "Stokes time:  0.023985862731933594 s\n",
      "im_stokes0 shape is :  (1024, 1224)\n",
      "DoLP time:  0.03397965431213379 s\n",
      "im_DOLP shape is :  (1024, 1224)\n",
      "Time for DOLP2Theta conversion is :  20.897953510284424 seconds\n",
      "False\n",
      "AoLP time:  0.04097557067871094 s\n"
     ]
    },
    {
     "name": "stderr",
     "output_type": "stream",
     "text": [
      "\n",
      " 89%|█████████████████████████████████████████████████████████████████████▎        | 200/225 [1:24:17<09:21, 22.46s/it]"
     ]
    },
    {
     "name": "stdout",
     "output_type": "stream",
     "text": [
      "Processing data for material : WATER\n",
      "image_data shape is :  (2048, 2448)\n",
      "im90 shape is :  (1024, 1224)\n",
      "Stokes time:  0.023985624313354492 s\n",
      "im_stokes0 shape is :  (1024, 1224)\n",
      "DoLP time:  0.029983043670654297 s\n",
      "im_DOLP shape is :  (1024, 1224)\n",
      "Time for DOLP2Theta conversion is :  21.42966079711914 seconds\n",
      "False\n",
      "AoLP time:  0.040976524353027344 s\n"
     ]
    },
    {
     "name": "stderr",
     "output_type": "stream",
     "text": [
      "\n",
      " 89%|█████████████████████████████████████████████████████████████████████▋        | 201/225 [1:24:39<08:56, 22.35s/it]"
     ]
    },
    {
     "name": "stdout",
     "output_type": "stream",
     "text": [
      "Processing data for material : WATER\n",
      "image_data shape is :  (2048, 2448)\n",
      "im90 shape is :  (1024, 1224)\n",
      "Stokes time:  0.02998208999633789 s\n",
      "im_stokes0 shape is :  (1024, 1224)\n",
      "DoLP time:  0.039977073669433594 s\n",
      "im_DOLP shape is :  (1024, 1224)\n",
      "Time for DOLP2Theta conversion is :  28.826382637023926 seconds\n",
      "False\n",
      "AoLP time:  0.04297447204589844 s\n"
     ]
    },
    {
     "name": "stderr",
     "output_type": "stream",
     "text": [
      "\n",
      " 90%|██████████████████████████████████████████████████████████████████████        | 202/225 [1:25:08<09:23, 24.50s/it]"
     ]
    },
    {
     "name": "stdout",
     "output_type": "stream",
     "text": [
      "Processing data for material : WATER\n",
      "image_data shape is :  (2048, 2448)\n",
      "im90 shape is :  (1024, 1224)\n",
      "Stokes time:  0.025985240936279297 s\n",
      "im_stokes0 shape is :  (1024, 1224)\n",
      "DoLP time:  0.03298020362854004 s\n",
      "im_DOLP shape is :  (1024, 1224)\n",
      "Time for DOLP2Theta conversion is :  23.945196866989136 seconds\n",
      "False\n",
      "AoLP time:  0.04597282409667969 s\n"
     ]
    },
    {
     "name": "stderr",
     "output_type": "stream",
     "text": [
      "\n",
      " 90%|██████████████████████████████████████████████████████████████████████▎       | 203/225 [1:25:33<08:59, 24.53s/it]"
     ]
    },
    {
     "name": "stdout",
     "output_type": "stream",
     "text": [
      "Processing data for material : WATER\n",
      "image_data shape is :  (2048, 2448)\n",
      "im90 shape is :  (1024, 1224)\n",
      "Stokes time:  0.026983976364135742 s\n",
      "im_stokes0 shape is :  (1024, 1224)\n",
      "DoLP time:  0.036978721618652344 s\n",
      "im_DOLP shape is :  (1024, 1224)\n",
      "Time for DOLP2Theta conversion is :  22.50702428817749 seconds\n",
      "False\n",
      "AoLP time:  0.04197549819946289 s\n"
     ]
    },
    {
     "name": "stderr",
     "output_type": "stream",
     "text": [
      "\n",
      " 91%|██████████████████████████████████████████████████████████████████████▋       | 204/225 [1:25:56<08:26, 24.13s/it]"
     ]
    },
    {
     "name": "stdout",
     "output_type": "stream",
     "text": [
      "Processing data for material : WATER\n",
      "image_data shape is :  (2048, 2448)\n",
      "im90 shape is :  (1024, 1224)\n",
      "Stokes time:  0.026984453201293945 s\n",
      "im_stokes0 shape is :  (1024, 1224)\n",
      "DoLP time:  0.03797793388366699 s\n",
      "im_DOLP shape is :  (1024, 1224)\n",
      "Time for DOLP2Theta conversion is :  22.30014419555664 seconds\n",
      "False\n",
      "AoLP time:  0.04897141456604004 s\n"
     ]
    },
    {
     "name": "stderr",
     "output_type": "stream",
     "text": [
      "\n",
      " 91%|███████████████████████████████████████████████████████████████████████       | 205/225 [1:26:19<07:55, 23.78s/it]"
     ]
    },
    {
     "name": "stdout",
     "output_type": "stream",
     "text": [
      "Processing data for material : WATER\n",
      "image_data shape is :  (2048, 2448)\n",
      "im90 shape is :  (1024, 1224)\n",
      "Stokes time:  0.024985313415527344 s\n",
      "im_stokes0 shape is :  (1024, 1224)\n",
      "DoLP time:  0.037976741790771484 s\n",
      "im_DOLP shape is :  (1024, 1224)\n",
      "Time for DOLP2Theta conversion is :  22.217193126678467 seconds\n",
      "False\n",
      "AoLP time:  0.04097390174865723 s\n"
     ]
    },
    {
     "name": "stderr",
     "output_type": "stream",
     "text": [
      "\n",
      " 92%|███████████████████████████████████████████████████████████████████████▍      | 206/225 [1:26:42<07:26, 23.51s/it]"
     ]
    },
    {
     "name": "stdout",
     "output_type": "stream",
     "text": [
      "Processing data for material : WATER\n",
      "image_data shape is :  (2048, 2448)\n",
      "im90 shape is :  (1024, 1224)\n",
      "Stokes time:  0.024982690811157227 s\n",
      "im_stokes0 shape is :  (1024, 1224)\n",
      "DoLP time:  0.030982017517089844 s\n",
      "im_DOLP shape is :  (1024, 1224)\n",
      "Time for DOLP2Theta conversion is :  21.358686923980713 seconds\n",
      "False\n",
      "AoLP time:  0.04097485542297363 s\n"
     ]
    },
    {
     "name": "stderr",
     "output_type": "stream",
     "text": [
      "\n",
      " 92%|███████████████████████████████████████████████████████████████████████▊      | 207/225 [1:27:04<06:55, 23.06s/it]"
     ]
    },
    {
     "name": "stdout",
     "output_type": "stream",
     "text": [
      "Processing data for material : WATER\n",
      "image_data shape is :  (2048, 2448)\n",
      "im90 shape is :  (1024, 1224)\n",
      "Stokes time:  0.027983903884887695 s\n",
      "im_stokes0 shape is :  (1024, 1224)\n",
      "DoLP time:  0.035978078842163086 s\n",
      "im_DOLP shape is :  (1024, 1224)\n",
      "Time for DOLP2Theta conversion is :  21.530587911605835 seconds\n",
      "False\n",
      "AoLP time:  0.04197573661804199 s\n"
     ]
    },
    {
     "name": "stderr",
     "output_type": "stream",
     "text": [
      "\n",
      " 92%|████████████████████████████████████████████████████████████████████████      | 208/225 [1:27:26<06:27, 22.78s/it]"
     ]
    },
    {
     "name": "stdout",
     "output_type": "stream",
     "text": [
      "Processing data for material : WATER\n",
      "image_data shape is :  (2048, 2448)\n",
      "im90 shape is :  (1024, 1224)\n",
      "Stokes time:  0.02798318862915039 s\n",
      "im_stokes0 shape is :  (1024, 1224)\n",
      "DoLP time:  0.03397941589355469 s\n",
      "im_DOLP shape is :  (1024, 1224)\n",
      "Time for DOLP2Theta conversion is :  21.49560832977295 seconds\n",
      "False\n",
      "AoLP time:  0.04297471046447754 s\n"
     ]
    },
    {
     "name": "stderr",
     "output_type": "stream",
     "text": [
      "\n",
      " 93%|████████████████████████████████████████████████████████████████████████▍     | 209/225 [1:27:48<06:01, 22.60s/it]"
     ]
    },
    {
     "name": "stdout",
     "output_type": "stream",
     "text": [
      "Processing data for material : WATER\n",
      "image_data shape is :  (2048, 2448)\n",
      "im90 shape is :  (1024, 1224)\n",
      "Stokes time:  0.025985240936279297 s\n",
      "im_stokes0 shape is :  (1024, 1224)\n",
      "DoLP time:  0.037978410720825195 s\n",
      "im_DOLP shape is :  (1024, 1224)\n",
      "Time for DOLP2Theta conversion is :  23.08369255065918 seconds\n",
      "False\n",
      "AoLP time:  0.05696558952331543 s\n"
     ]
    },
    {
     "name": "stderr",
     "output_type": "stream",
     "text": [
      "\n",
      " 93%|████████████████████████████████████████████████████████████████████████▊     | 210/225 [1:28:12<05:44, 22.95s/it]"
     ]
    },
    {
     "name": "stdout",
     "output_type": "stream",
     "text": [
      "Processing data for material : WATER\n",
      "image_data shape is :  (2048, 2448)\n",
      "im90 shape is :  (1024, 1224)\n",
      "Stokes time:  0.02498626708984375 s\n",
      "im_stokes0 shape is :  (1024, 1224)\n",
      "DoLP time:  0.0359799861907959 s\n",
      "im_DOLP shape is :  (1024, 1224)\n",
      "Time for DOLP2Theta conversion is :  22.28415536880493 seconds\n",
      "False\n",
      "AoLP time:  0.0439755916595459 s\n"
     ]
    },
    {
     "name": "stderr",
     "output_type": "stream",
     "text": [
      "\n",
      " 94%|█████████████████████████████████████████████████████████████████████████▏    | 211/225 [1:28:35<05:21, 22.95s/it]"
     ]
    },
    {
     "name": "stdout",
     "output_type": "stream",
     "text": [
      "Processing data for material : WATER\n",
      "image_data shape is :  (2048, 2448)\n",
      "im90 shape is :  (1024, 1224)\n",
      "Stokes time:  0.025984764099121094 s\n",
      "im_stokes0 shape is :  (1024, 1224)\n",
      "DoLP time:  0.03897714614868164 s\n",
      "im_DOLP shape is :  (1024, 1224)\n",
      "Time for DOLP2Theta conversion is :  22.560994148254395 seconds\n",
      "False\n",
      "AoLP time:  0.04497408866882324 s\n"
     ]
    },
    {
     "name": "stderr",
     "output_type": "stream",
     "text": [
      "\n",
      " 94%|█████████████████████████████████████████████████████████████████████████▍    | 212/225 [1:28:58<04:59, 23.03s/it]"
     ]
    },
    {
     "name": "stdout",
     "output_type": "stream",
     "text": [
      "Processing data for material : WATER\n",
      "image_data shape is :  (2048, 2448)\n",
      "im90 shape is :  (1024, 1224)\n",
      "Stokes time:  0.028983116149902344 s\n",
      "im_stokes0 shape is :  (1024, 1224)\n",
      "DoLP time:  0.034979820251464844 s\n",
      "im_DOLP shape is :  (1024, 1224)\n",
      "Time for DOLP2Theta conversion is :  22.14623260498047 seconds\n",
      "False\n",
      "AoLP time:  0.04497361183166504 s\n"
     ]
    },
    {
     "name": "stderr",
     "output_type": "stream",
     "text": [
      "\n",
      " 95%|█████████████████████████████████████████████████████████████████████████▊    | 213/225 [1:29:21<04:35, 22.96s/it]"
     ]
    },
    {
     "name": "stdout",
     "output_type": "stream",
     "text": [
      "Processing data for material : WATER\n",
      "image_data shape is :  (2048, 2448)\n",
      "im90 shape is :  (1024, 1224)\n",
      "Stokes time:  0.02698516845703125 s\n",
      "im_stokes0 shape is :  (1024, 1224)\n",
      "DoLP time:  0.03597903251647949 s\n",
      "im_DOLP shape is :  (1024, 1224)\n",
      "Time for DOLP2Theta conversion is :  21.70348858833313 seconds\n",
      "False\n",
      "AoLP time:  0.04397416114807129 s\n"
     ]
    },
    {
     "name": "stderr",
     "output_type": "stream",
     "text": [
      "\n",
      " 95%|██████████████████████████████████████████████████████████████████████████▏   | 214/225 [1:29:43<04:10, 22.78s/it]"
     ]
    },
    {
     "name": "stdout",
     "output_type": "stream",
     "text": [
      "Processing data for material : WATER\n",
      "image_data shape is :  (2048, 2448)\n",
      "im90 shape is :  (1024, 1224)\n",
      "Stokes time:  0.02398514747619629 s\n",
      "im_stokes0 shape is :  (1024, 1224)\n",
      "DoLP time:  0.03797769546508789 s\n",
      "im_DOLP shape is :  (1024, 1224)\n",
      "Time for DOLP2Theta conversion is :  21.247769117355347 seconds\n",
      "False\n",
      "AoLP time:  0.04097628593444824 s\n"
     ]
    },
    {
     "name": "stderr",
     "output_type": "stream",
     "text": [
      "\n",
      " 96%|██████████████████████████████████████████████████████████████████████████▌   | 215/225 [1:30:05<03:45, 22.50s/it]"
     ]
    },
    {
     "name": "stdout",
     "output_type": "stream",
     "text": [
      "Processing data for material : WATER\n",
      "image_data shape is :  (2048, 2448)\n",
      "im90 shape is :  (1024, 1224)\n",
      "Stokes time:  0.024984121322631836 s\n",
      "im_stokes0 shape is :  (1024, 1224)\n",
      "DoLP time:  0.0359799861907959 s\n",
      "im_DOLP shape is :  (1024, 1224)\n",
      "Time for DOLP2Theta conversion is :  21.344714164733887 seconds\n",
      "False\n",
      "AoLP time:  0.04297327995300293 s\n"
     ]
    },
    {
     "name": "stderr",
     "output_type": "stream",
     "text": [
      "\n",
      " 96%|██████████████████████████████████████████████████████████████████████████▉   | 216/225 [1:30:27<03:21, 22.35s/it]"
     ]
    },
    {
     "name": "stdout",
     "output_type": "stream",
     "text": [
      "Processing data for material : WATER\n",
      "image_data shape is :  (2048, 2448)\n",
      "im90 shape is :  (1024, 1224)\n",
      "Stokes time:  0.026984691619873047 s\n",
      "im_stokes0 shape is :  (1024, 1224)\n",
      "DoLP time:  0.0319819450378418 s\n",
      "im_DOLP shape is :  (1024, 1224)\n",
      "Time for DOLP2Theta conversion is :  22.35211443901062 seconds\n",
      "False\n",
      "AoLP time:  0.04297494888305664 s\n"
     ]
    },
    {
     "name": "stderr",
     "output_type": "stream",
     "text": [
      "\n",
      " 96%|███████████████████████████████████████████████████████████████████████████▏  | 217/225 [1:30:50<03:00, 22.55s/it]"
     ]
    },
    {
     "name": "stdout",
     "output_type": "stream",
     "text": [
      "Processing data for material : WATER\n",
      "image_data shape is :  (2048, 2448)\n",
      "im90 shape is :  (1024, 1224)\n",
      "Stokes time:  0.027984142303466797 s\n",
      "im_stokes0 shape is :  (1024, 1224)\n",
      "DoLP time:  0.03597855567932129 s\n",
      "im_DOLP shape is :  (1024, 1224)\n",
      "Time for DOLP2Theta conversion is :  22.985750198364258 seconds\n",
      "False\n",
      "AoLP time:  0.04197359085083008 s\n"
     ]
    },
    {
     "name": "stderr",
     "output_type": "stream",
     "text": [
      "\n",
      " 97%|███████████████████████████████████████████████████████████████████████████▌  | 218/225 [1:31:14<02:40, 22.88s/it]"
     ]
    },
    {
     "name": "stdout",
     "output_type": "stream",
     "text": [
      "Processing data for material : WATER\n",
      "image_data shape is :  (2048, 2448)\n",
      "im90 shape is :  (1024, 1224)\n",
      "Stokes time:  0.02498626708984375 s\n",
      "im_stokes0 shape is :  (1024, 1224)\n",
      "DoLP time:  0.03797793388366699 s\n",
      "im_DOLP shape is :  (1024, 1224)\n",
      "Time for DOLP2Theta conversion is :  22.552998542785645 seconds\n",
      "False\n",
      "AoLP time:  0.04297494888305664 s\n"
     ]
    },
    {
     "name": "stderr",
     "output_type": "stream",
     "text": [
      "\n",
      " 97%|███████████████████████████████████████████████████████████████████████████▉  | 219/225 [1:31:37<02:17, 22.99s/it]"
     ]
    },
    {
     "name": "stdout",
     "output_type": "stream",
     "text": [
      "Processing data for material : WATER\n",
      "image_data shape is :  (2048, 2448)\n",
      "im90 shape is :  (1024, 1224)\n",
      "Stokes time:  0.024985551834106445 s\n",
      "im_stokes0 shape is :  (1024, 1224)\n",
      "DoLP time:  0.03697681427001953 s\n",
      "im_DOLP shape is :  (1024, 1224)\n",
      "Time for DOLP2Theta conversion is :  21.88938069343567 seconds\n",
      "False\n",
      "AoLP time:  0.04197573661804199 s\n"
     ]
    },
    {
     "name": "stderr",
     "output_type": "stream",
     "text": [
      "\n",
      " 98%|████████████████████████████████████████████████████████████████████████████▎ | 220/225 [1:32:00<01:54, 22.86s/it]"
     ]
    },
    {
     "name": "stdout",
     "output_type": "stream",
     "text": [
      "Processing data for material : WATER\n",
      "image_data shape is :  (2048, 2448)\n",
      "im90 shape is :  (1024, 1224)\n",
      "Stokes time:  0.025985002517700195 s\n",
      "im_stokes0 shape is :  (1024, 1224)\n",
      "DoLP time:  0.034979820251464844 s\n",
      "im_DOLP shape is :  (1024, 1224)\n",
      "Time for DOLP2Theta conversion is :  22.29514789581299 seconds\n",
      "False\n",
      "AoLP time:  0.04697060585021973 s\n"
     ]
    },
    {
     "name": "stderr",
     "output_type": "stream",
     "text": [
      "\n",
      " 98%|████████████████████████████████████████████████████████████████████████████▌ | 221/225 [1:32:23<01:31, 22.88s/it]"
     ]
    },
    {
     "name": "stdout",
     "output_type": "stream",
     "text": [
      "Processing data for material : WATER\n",
      "image_data shape is :  (2048, 2448)\n",
      "im90 shape is :  (1024, 1224)\n",
      "Stokes time:  0.026984214782714844 s\n",
      "im_stokes0 shape is :  (1024, 1224)\n",
      "DoLP time:  0.029982328414916992 s\n",
      "im_DOLP shape is :  (1024, 1224)\n",
      "Time for DOLP2Theta conversion is :  21.49462389945984 seconds\n",
      "False\n",
      "AoLP time:  0.039977312088012695 s\n"
     ]
    },
    {
     "name": "stderr",
     "output_type": "stream",
     "text": [
      "\n",
      " 99%|████████████████████████████████████████████████████████████████████████████▉ | 222/225 [1:32:45<01:07, 22.65s/it]"
     ]
    },
    {
     "name": "stdout",
     "output_type": "stream",
     "text": [
      "Processing data for material : WATER\n",
      "image_data shape is :  (2048, 2448)\n",
      "im90 shape is :  (1024, 1224)\n",
      "Stokes time:  0.024983882904052734 s\n",
      "im_stokes0 shape is :  (1024, 1224)\n",
      "DoLP time:  0.030982255935668945 s\n",
      "im_DOLP shape is :  (1024, 1224)\n",
      "Time for DOLP2Theta conversion is :  21.413674116134644 seconds\n",
      "False\n",
      "AoLP time:  0.0419774055480957 s\n"
     ]
    },
    {
     "name": "stderr",
     "output_type": "stream",
     "text": [
      "\n",
      " 99%|█████████████████████████████████████████████████████████████████████████████▎| 223/225 [1:33:07<00:44, 22.46s/it]"
     ]
    },
    {
     "name": "stdout",
     "output_type": "stream",
     "text": [
      "Processing data for material : WATER\n",
      "image_data shape is :  (2048, 2448)\n",
      "im90 shape is :  (1024, 1224)\n",
      "Stokes time:  0.024985790252685547 s\n",
      "im_stokes0 shape is :  (1024, 1224)\n",
      "DoLP time:  0.03797769546508789 s\n",
      "im_DOLP shape is :  (1024, 1224)\n",
      "Time for DOLP2Theta conversion is :  21.970334768295288 seconds\n",
      "False\n",
      "AoLP time:  0.04297518730163574 s\n"
     ]
    },
    {
     "name": "stderr",
     "output_type": "stream",
     "text": [
      "\n",
      "100%|█████████████████████████████████████████████████████████████████████████████▋| 224/225 [1:33:29<00:22, 22.51s/it]"
     ]
    },
    {
     "name": "stdout",
     "output_type": "stream",
     "text": [
      "Processing data for material : WATER\n",
      "image_data shape is :  (2048, 2448)\n",
      "im90 shape is :  (1024, 1224)\n",
      "Stokes time:  0.02498602867126465 s\n",
      "im_stokes0 shape is :  (1024, 1224)\n",
      "DoLP time:  0.0379786491394043 s\n",
      "im_DOLP shape is :  (1024, 1224)\n",
      "Time for DOLP2Theta conversion is :  22.70790934562683 seconds\n",
      "False\n",
      "AoLP time:  0.042974233627319336 s\n"
     ]
    },
    {
     "name": "stderr",
     "output_type": "stream",
     "text": [
      "\n",
      "100%|██████████████████████████████████████████████████████████████████████████████| 225/225 [1:33:53<00:00, 22.76s/it]"
     ]
    },
    {
     "name": "stdout",
     "output_type": "stream",
     "text": [
      "time taken =  87.50903248786926\n"
     ]
    },
    {
     "name": "stderr",
     "output_type": "stream",
     "text": [
      " 25%|███████████████████▌                                                          | 1/4 [1:35:21<4:46:04, 5721.47s/it]\n",
      "  0%|                                                                                          | 0/225 [00:00<?, ?it/s]"
     ]
    },
    {
     "name": "stdout",
     "output_type": "stream",
     "text": [
      "Processing data for material : WATER\n",
      "image_data shape is :  (2048, 2448)\n",
      "im90 shape is :  (1024, 1224)\n",
      "Stokes time:  0.031981468200683594 s\n",
      "im_stokes0 shape is :  (1024, 1224)\n",
      "DoLP time:  0.039975643157958984 s\n",
      "im_DOLP shape is :  (1024, 1224)\n",
      "Time for DOLP2Theta conversion is :  22.595974445343018 seconds\n",
      "False\n",
      "AoLP time:  0.04797220230102539 s\n"
     ]
    },
    {
     "name": "stderr",
     "output_type": "stream",
     "text": [
      "\n",
      "  0%|▎                                                                               | 1/225 [00:25<1:37:02, 25.99s/it]"
     ]
    },
    {
     "name": "stdout",
     "output_type": "stream",
     "text": [
      "Processing data for material : WATER\n",
      "image_data shape is :  (2048, 2448)\n",
      "im90 shape is :  (1024, 1224)\n",
      "Stokes time:  0.02498602867126465 s\n",
      "im_stokes0 shape is :  (1024, 1224)\n",
      "DoLP time:  0.03298163414001465 s\n",
      "im_DOLP shape is :  (1024, 1224)\n",
      "Time for DOLP2Theta conversion is :  21.839425086975098 seconds\n",
      "False\n",
      "AoLP time:  0.0439753532409668 s\n"
     ]
    },
    {
     "name": "stderr",
     "output_type": "stream",
     "text": [
      "\n",
      "  1%|▋                                                                               | 2/225 [00:48<1:32:43, 24.95s/it]"
     ]
    },
    {
     "name": "stdout",
     "output_type": "stream",
     "text": [
      "Processing data for material : WATER\n",
      "image_data shape is :  (2048, 2448)\n",
      "im90 shape is :  (1024, 1224)\n",
      "Stokes time:  0.02498602867126465 s\n",
      "im_stokes0 shape is :  (1024, 1224)\n",
      "DoLP time:  0.03697800636291504 s\n",
      "im_DOLP shape is :  (1024, 1224)\n",
      "Time for DOLP2Theta conversion is :  21.6405246257782 seconds\n",
      "False\n",
      "AoLP time:  0.03997659683227539 s\n"
     ]
    },
    {
     "name": "stderr",
     "output_type": "stream",
     "text": [
      "\n",
      "  1%|█                                                                               | 3/225 [01:10<1:29:23, 24.16s/it]"
     ]
    },
    {
     "name": "stdout",
     "output_type": "stream",
     "text": [
      "Processing data for material : WATER\n",
      "image_data shape is :  (2048, 2448)\n",
      "im90 shape is :  (1024, 1224)\n",
      "Stokes time:  0.024985790252685547 s\n",
      "im_stokes0 shape is :  (1024, 1224)\n",
      "DoLP time:  0.03697848320007324 s\n",
      "im_DOLP shape is :  (1024, 1224)\n",
      "Time for DOLP2Theta conversion is :  21.292743921279907 seconds\n",
      "False\n",
      "AoLP time:  0.04897189140319824 s\n"
     ]
    },
    {
     "name": "stderr",
     "output_type": "stream",
     "text": [
      "\n",
      "  2%|█▍                                                                              | 4/225 [01:32<1:26:31, 23.49s/it]"
     ]
    },
    {
     "name": "stdout",
     "output_type": "stream",
     "text": [
      "Processing data for material : WATER\n",
      "image_data shape is :  (2048, 2448)\n",
      "im90 shape is :  (1024, 1224)\n",
      "Stokes time:  0.025984764099121094 s\n",
      "im_stokes0 shape is :  (1024, 1224)\n",
      "DoLP time:  0.03098273277282715 s\n",
      "im_DOLP shape is :  (1024, 1224)\n",
      "Time for DOLP2Theta conversion is :  21.449653387069702 seconds\n",
      "False\n",
      "AoLP time:  0.039977312088012695 s\n"
     ]
    },
    {
     "name": "stderr",
     "output_type": "stream",
     "text": [
      "\n",
      "  2%|█▊                                                                              | 5/225 [01:54<1:24:33, 23.06s/it]"
     ]
    },
    {
     "name": "stdout",
     "output_type": "stream",
     "text": [
      "Processing data for material : WATER\n",
      "image_data shape is :  (2048, 2448)\n",
      "im90 shape is :  (1024, 1224)\n",
      "Stokes time:  0.025984525680541992 s\n",
      "im_stokes0 shape is :  (1024, 1224)\n",
      "DoLP time:  0.03597903251647949 s\n",
      "im_DOLP shape is :  (1024, 1224)\n",
      "Time for DOLP2Theta conversion is :  21.08686375617981 seconds\n",
      "False\n",
      "AoLP time:  0.03897714614868164 s\n"
     ]
    },
    {
     "name": "stderr",
     "output_type": "stream",
     "text": [
      "\n",
      "  3%|██▏                                                                             | 6/225 [02:16<1:22:43, 22.66s/it]"
     ]
    },
    {
     "name": "stdout",
     "output_type": "stream",
     "text": [
      "Processing data for material : WATER\n",
      "image_data shape is :  (2048, 2448)\n",
      "im90 shape is :  (1024, 1224)\n",
      "Stokes time:  0.02598404884338379 s\n",
      "im_stokes0 shape is :  (1024, 1224)\n",
      "DoLP time:  0.03697657585144043 s\n",
      "im_DOLP shape is :  (1024, 1224)\n",
      "Time for DOLP2Theta conversion is :  21.49260973930359 seconds\n",
      "False\n",
      "AoLP time:  0.041976213455200195 s\n"
     ]
    },
    {
     "name": "stderr",
     "output_type": "stream",
     "text": [
      "\n",
      "  3%|██▍                                                                             | 7/225 [02:38<1:21:46, 22.51s/it]"
     ]
    },
    {
     "name": "stdout",
     "output_type": "stream",
     "text": [
      "Processing data for material : WATER\n",
      "image_data shape is :  (2048, 2448)\n",
      "im90 shape is :  (1024, 1224)\n",
      "Stokes time:  0.027983427047729492 s\n",
      "im_stokes0 shape is :  (1024, 1224)\n",
      "DoLP time:  0.037976741790771484 s\n",
      "im_DOLP shape is :  (1024, 1224)\n",
      "Time for DOLP2Theta conversion is :  22.260167360305786 seconds\n",
      "False\n",
      "AoLP time:  0.04097700119018555 s\n"
     ]
    },
    {
     "name": "stderr",
     "output_type": "stream",
     "text": [
      "\n",
      "  4%|██▊                                                                             | 8/225 [03:01<1:21:52, 22.64s/it]"
     ]
    },
    {
     "name": "stdout",
     "output_type": "stream",
     "text": [
      "Processing data for material : WATER\n",
      "image_data shape is :  (2048, 2448)\n",
      "im90 shape is :  (1024, 1224)\n",
      "Stokes time:  0.026984453201293945 s\n",
      "im_stokes0 shape is :  (1024, 1224)\n",
      "DoLP time:  0.034979820251464844 s\n",
      "im_DOLP shape is :  (1024, 1224)\n",
      "Time for DOLP2Theta conversion is :  21.864397764205933 seconds\n",
      "False\n",
      "AoLP time:  0.044972896575927734 s\n"
     ]
    },
    {
     "name": "stderr",
     "output_type": "stream",
     "text": [
      "\n",
      "  4%|███▏                                                                            | 9/225 [03:24<1:21:22, 22.60s/it]"
     ]
    },
    {
     "name": "stdout",
     "output_type": "stream",
     "text": [
      "Processing data for material : WATER\n",
      "image_data shape is :  (2048, 2448)\n",
      "im90 shape is :  (1024, 1224)\n",
      "Stokes time:  0.025986433029174805 s\n",
      "im_stokes0 shape is :  (1024, 1224)\n",
      "DoLP time:  0.03597903251647949 s\n",
      "im_DOLP shape is :  (1024, 1224)\n",
      "Time for DOLP2Theta conversion is :  21.98632526397705 seconds\n",
      "False\n",
      "AoLP time:  0.05196952819824219 s\n"
     ]
    },
    {
     "name": "stderr",
     "output_type": "stream",
     "text": [
      "\n",
      "  4%|███▌                                                                           | 10/225 [03:46<1:21:03, 22.62s/it]"
     ]
    },
    {
     "name": "stdout",
     "output_type": "stream",
     "text": [
      "Processing data for material : WATER\n",
      "image_data shape is :  (2048, 2448)\n",
      "im90 shape is :  (1024, 1224)\n",
      "Stokes time:  0.02498602867126465 s\n",
      "im_stokes0 shape is :  (1024, 1224)\n",
      "DoLP time:  0.037976741790771484 s\n",
      "im_DOLP shape is :  (1024, 1224)\n",
      "Time for DOLP2Theta conversion is :  22.346118211746216 seconds\n",
      "False\n",
      "AoLP time:  0.04597306251525879 s\n"
     ]
    },
    {
     "name": "stderr",
     "output_type": "stream",
     "text": [
      "\n",
      "  5%|███▊                                                                           | 11/225 [04:09<1:21:08, 22.75s/it]"
     ]
    },
    {
     "name": "stdout",
     "output_type": "stream",
     "text": [
      "Processing data for material : WATER\n",
      "image_data shape is :  (2048, 2448)\n",
      "im90 shape is :  (1024, 1224)\n",
      "Stokes time:  0.024985074996948242 s\n",
      "im_stokes0 shape is :  (1024, 1224)\n",
      "DoLP time:  0.035979270935058594 s\n",
      "im_DOLP shape is :  (1024, 1224)\n",
      "Time for DOLP2Theta conversion is :  21.480616092681885 seconds\n",
      "False\n",
      "AoLP time:  0.039977073669433594 s\n"
     ]
    },
    {
     "name": "stderr",
     "output_type": "stream",
     "text": [
      "\n",
      "  5%|████▏                                                                          | 12/225 [04:31<1:20:03, 22.55s/it]"
     ]
    },
    {
     "name": "stdout",
     "output_type": "stream",
     "text": [
      "Processing data for material : WATER\n",
      "image_data shape is :  (2048, 2448)\n",
      "im90 shape is :  (1024, 1224)\n",
      "Stokes time:  0.024985313415527344 s\n",
      "im_stokes0 shape is :  (1024, 1224)\n",
      "DoLP time:  0.034980058670043945 s\n",
      "im_DOLP shape is :  (1024, 1224)\n",
      "Time for DOLP2Theta conversion is :  20.899950742721558 seconds\n",
      "False\n",
      "AoLP time:  0.03997540473937988 s\n"
     ]
    },
    {
     "name": "stderr",
     "output_type": "stream",
     "text": [
      "\n",
      "  6%|████▌                                                                          | 13/225 [04:53<1:18:33, 22.24s/it]"
     ]
    },
    {
     "name": "stdout",
     "output_type": "stream",
     "text": [
      "Processing data for material : WATER\n",
      "image_data shape is :  (2048, 2448)\n",
      "im90 shape is :  (1024, 1224)\n",
      "Stokes time:  0.026984214782714844 s\n",
      "im_stokes0 shape is :  (1024, 1224)\n",
      "DoLP time:  0.03497934341430664 s\n",
      "im_DOLP shape is :  (1024, 1224)\n",
      "Time for DOLP2Theta conversion is :  20.919959545135498 seconds\n",
      "False\n",
      "AoLP time:  0.039975643157958984 s\n"
     ]
    },
    {
     "name": "stderr",
     "output_type": "stream",
     "text": [
      "\n",
      "  6%|████▉                                                                          | 14/225 [05:15<1:17:28, 22.03s/it]"
     ]
    },
    {
     "name": "stdout",
     "output_type": "stream",
     "text": [
      "Processing data for material : WATER\n",
      "image_data shape is :  (2048, 2448)\n",
      "im90 shape is :  (1024, 1224)\n",
      "Stokes time:  0.023988008499145508 s\n",
      "im_stokes0 shape is :  (1024, 1224)\n",
      "DoLP time:  0.03098154067993164 s\n",
      "im_DOLP shape is :  (1024, 1224)\n",
      "Time for DOLP2Theta conversion is :  21.617539405822754 seconds\n",
      "False\n",
      "AoLP time:  0.04197430610656738 s\n"
     ]
    },
    {
     "name": "stderr",
     "output_type": "stream",
     "text": [
      "\n",
      "  7%|█████▎                                                                         | 15/225 [05:37<1:17:21, 22.10s/it]"
     ]
    },
    {
     "name": "stdout",
     "output_type": "stream",
     "text": [
      "Processing data for material : WATER\n",
      "image_data shape is :  (2048, 2448)\n",
      "im90 shape is :  (1024, 1224)\n",
      "Stokes time:  0.0259854793548584 s\n",
      "im_stokes0 shape is :  (1024, 1224)\n",
      "DoLP time:  0.03697776794433594 s\n",
      "im_DOLP shape is :  (1024, 1224)\n",
      "Time for DOLP2Theta conversion is :  22.083268642425537 seconds\n",
      "False\n",
      "AoLP time:  0.051969051361083984 s\n"
     ]
    },
    {
     "name": "stderr",
     "output_type": "stream",
     "text": [
      "\n",
      "  7%|█████▌                                                                         | 16/225 [06:00<1:17:41, 22.30s/it]"
     ]
    },
    {
     "name": "stdout",
     "output_type": "stream",
     "text": [
      "Processing data for material : WATER\n",
      "image_data shape is :  (2048, 2448)\n",
      "im90 shape is :  (1024, 1224)\n",
      "Stokes time:  0.027983903884887695 s\n",
      "im_stokes0 shape is :  (1024, 1224)\n",
      "DoLP time:  0.03697776794433594 s\n",
      "im_DOLP shape is :  (1024, 1224)\n",
      "Time for DOLP2Theta conversion is :  22.305141925811768 seconds\n",
      "False\n",
      "AoLP time:  0.04097557067871094 s\n"
     ]
    },
    {
     "name": "stderr",
     "output_type": "stream",
     "text": [
      "\n",
      "  8%|█████▉                                                                         | 17/225 [06:23<1:18:01, 22.51s/it]"
     ]
    },
    {
     "name": "stdout",
     "output_type": "stream",
     "text": [
      "Processing data for material : WATER\n",
      "image_data shape is :  (2048, 2448)\n",
      "im90 shape is :  (1024, 1224)\n",
      "Stokes time:  0.024986982345581055 s\n",
      "im_stokes0 shape is :  (1024, 1224)\n",
      "DoLP time:  0.03797721862792969 s\n",
      "im_DOLP shape is :  (1024, 1224)\n",
      "Time for DOLP2Theta conversion is :  22.319133758544922 seconds\n",
      "False\n",
      "AoLP time:  0.04297590255737305 s\n"
     ]
    },
    {
     "name": "stderr",
     "output_type": "stream",
     "text": [
      "\n",
      "  8%|██████▎                                                                        | 18/225 [06:46<1:18:09, 22.65s/it]"
     ]
    },
    {
     "name": "stdout",
     "output_type": "stream",
     "text": [
      "Processing data for material : WATER\n",
      "image_data shape is :  (2048, 2448)\n",
      "im90 shape is :  (1024, 1224)\n",
      "Stokes time:  0.026983261108398438 s\n",
      "im_stokes0 shape is :  (1024, 1224)\n",
      "DoLP time:  0.03597855567932129 s\n",
      "im_DOLP shape is :  (1024, 1224)\n",
      "Time for DOLP2Theta conversion is :  22.37510108947754 seconds\n",
      "False\n",
      "AoLP time:  0.044973134994506836 s\n"
     ]
    },
    {
     "name": "stderr",
     "output_type": "stream",
     "text": [
      "\n",
      "  8%|██████▋                                                                        | 19/225 [07:09<1:18:13, 22.78s/it]"
     ]
    },
    {
     "name": "stdout",
     "output_type": "stream",
     "text": [
      "Processing data for material : WATER\n",
      "image_data shape is :  (2048, 2448)\n",
      "im90 shape is :  (1024, 1224)\n",
      "Stokes time:  0.024985074996948242 s\n",
      "im_stokes0 shape is :  (1024, 1224)\n",
      "DoLP time:  0.03797793388366699 s\n",
      "im_DOLP shape is :  (1024, 1224)\n",
      "Time for DOLP2Theta conversion is :  21.298720359802246 seconds\n",
      "False\n",
      "AoLP time:  0.04097628593444824 s\n"
     ]
    },
    {
     "name": "stderr",
     "output_type": "stream",
     "text": [
      "\n",
      "  9%|███████                                                                        | 20/225 [07:31<1:17:00, 22.54s/it]"
     ]
    },
    {
     "name": "stdout",
     "output_type": "stream",
     "text": [
      "Processing data for material : WATER\n",
      "image_data shape is :  (2048, 2448)\n",
      "im90 shape is :  (1024, 1224)\n",
      "Stokes time:  0.024985790252685547 s\n",
      "im_stokes0 shape is :  (1024, 1224)\n",
      "DoLP time:  0.03697609901428223 s\n",
      "im_DOLP shape is :  (1024, 1224)\n",
      "Time for DOLP2Theta conversion is :  20.76403021812439 seconds\n",
      "False\n",
      "AoLP time:  0.0399777889251709 s\n"
     ]
    },
    {
     "name": "stderr",
     "output_type": "stream",
     "text": [
      "\n",
      "  9%|███████▎                                                                       | 21/225 [07:52<1:15:26, 22.19s/it]"
     ]
    },
    {
     "name": "stdout",
     "output_type": "stream",
     "text": [
      "Processing data for material : WATER\n",
      "image_data shape is :  (2048, 2448)\n",
      "im90 shape is :  (1024, 1224)\n",
      "Stokes time:  0.023985862731933594 s\n",
      "im_stokes0 shape is :  (1024, 1224)\n",
      "DoLP time:  0.03397989273071289 s\n",
      "im_DOLP shape is :  (1024, 1224)\n",
      "Time for DOLP2Theta conversion is :  21.282731533050537 seconds\n",
      "False\n",
      "AoLP time:  0.0419764518737793 s\n"
     ]
    },
    {
     "name": "stderr",
     "output_type": "stream",
     "text": [
      "\n",
      " 10%|███████▋                                                                       | 22/225 [08:14<1:14:47, 22.10s/it]"
     ]
    },
    {
     "name": "stdout",
     "output_type": "stream",
     "text": [
      "Processing data for material : WATER\n",
      "image_data shape is :  (2048, 2448)\n",
      "im90 shape is :  (1024, 1224)\n",
      "Stokes time:  0.02698516845703125 s\n",
      "im_stokes0 shape is :  (1024, 1224)\n",
      "DoLP time:  0.03597879409790039 s\n",
      "im_DOLP shape is :  (1024, 1224)\n",
      "Time for DOLP2Theta conversion is :  21.68949604034424 seconds\n",
      "False\n",
      "AoLP time:  0.04197525978088379 s\n"
     ]
    },
    {
     "name": "stderr",
     "output_type": "stream",
     "text": [
      "\n",
      " 10%|████████                                                                       | 23/225 [08:36<1:14:39, 22.18s/it]"
     ]
    },
    {
     "name": "stdout",
     "output_type": "stream",
     "text": [
      "Processing data for material : WATER\n",
      "image_data shape is :  (2048, 2448)\n",
      "im90 shape is :  (1024, 1224)\n",
      "Stokes time:  0.02898263931274414 s\n",
      "im_stokes0 shape is :  (1024, 1224)\n",
      "DoLP time:  0.03797793388366699 s\n",
      "im_DOLP shape is :  (1024, 1224)\n",
      "Time for DOLP2Theta conversion is :  22.184211254119873 seconds\n",
      "False\n",
      "AoLP time:  0.040976524353027344 s\n"
     ]
    },
    {
     "name": "stderr",
     "output_type": "stream",
     "text": [
      "\n",
      " 11%|████████▍                                                                      | 24/225 [08:59<1:14:59, 22.39s/it]"
     ]
    },
    {
     "name": "stdout",
     "output_type": "stream",
     "text": [
      "Processing data for material : WATER\n",
      "image_data shape is :  (2048, 2448)\n",
      "im90 shape is :  (1024, 1224)\n",
      "Stokes time:  0.026984453201293945 s\n",
      "im_stokes0 shape is :  (1024, 1224)\n",
      "DoLP time:  0.03897738456726074 s\n",
      "im_DOLP shape is :  (1024, 1224)\n",
      "Time for DOLP2Theta conversion is :  21.948346853256226 seconds\n",
      "False\n",
      "AoLP time:  0.040976762771606445 s\n"
     ]
    },
    {
     "name": "stderr",
     "output_type": "stream",
     "text": [
      "\n",
      " 11%|████████▊                                                                      | 25/225 [09:22<1:14:49, 22.45s/it]"
     ]
    },
    {
     "name": "stdout",
     "output_type": "stream",
     "text": [
      "Processing data for material : WATER\n",
      "image_data shape is :  (2048, 2448)\n",
      "im90 shape is :  (1024, 1224)\n",
      "Stokes time:  0.026984691619873047 s\n",
      "im_stokes0 shape is :  (1024, 1224)\n",
      "DoLP time:  0.03997683525085449 s\n",
      "im_DOLP shape is :  (1024, 1224)\n",
      "Time for DOLP2Theta conversion is :  21.88438367843628 seconds\n",
      "False\n",
      "AoLP time:  0.051971435546875 s\n"
     ]
    },
    {
     "name": "stderr",
     "output_type": "stream",
     "text": [
      "\n",
      " 12%|█████████▏                                                                     | 26/225 [09:44<1:14:36, 22.49s/it]"
     ]
    },
    {
     "name": "stdout",
     "output_type": "stream",
     "text": [
      "Processing data for material : WATER\n",
      "image_data shape is :  (2048, 2448)\n",
      "im90 shape is :  (1024, 1224)\n",
      "Stokes time:  0.026984691619873047 s\n",
      "im_stokes0 shape is :  (1024, 1224)\n",
      "DoLP time:  0.03598141670227051 s\n",
      "im_DOLP shape is :  (1024, 1224)\n",
      "Time for DOLP2Theta conversion is :  22.601970434188843 seconds\n",
      "False\n",
      "AoLP time:  0.040975093841552734 s\n"
     ]
    },
    {
     "name": "stderr",
     "output_type": "stream",
     "text": [
      "\n",
      " 12%|█████████▍                                                                     | 27/225 [10:08<1:14:59, 22.73s/it]"
     ]
    },
    {
     "name": "stdout",
     "output_type": "stream",
     "text": [
      "Processing data for material : WATER\n",
      "image_data shape is :  (2048, 2448)\n",
      "im90 shape is :  (1024, 1224)\n",
      "Stokes time:  0.02398538589477539 s\n",
      "im_stokes0 shape is :  (1024, 1224)\n",
      "DoLP time:  0.03598141670227051 s\n",
      "im_DOLP shape is :  (1024, 1224)\n",
      "Time for DOLP2Theta conversion is :  21.095856428146362 seconds\n",
      "False\n",
      "AoLP time:  0.03897714614868164 s\n"
     ]
    },
    {
     "name": "stderr",
     "output_type": "stream",
     "text": [
      "\n",
      " 12%|█████████▊                                                                     | 28/225 [10:29<1:13:36, 22.42s/it]"
     ]
    },
    {
     "name": "stdout",
     "output_type": "stream",
     "text": [
      "Processing data for material : WATER\n",
      "image_data shape is :  (2048, 2448)\n",
      "im90 shape is :  (1024, 1224)\n",
      "Stokes time:  0.02498483657836914 s\n",
      "im_stokes0 shape is :  (1024, 1224)\n",
      "DoLP time:  0.0319826602935791 s\n",
      "im_DOLP shape is :  (1024, 1224)\n",
      "Time for DOLP2Theta conversion is :  21.024879932403564 seconds\n",
      "False\n",
      "AoLP time:  0.041974782943725586 s\n"
     ]
    },
    {
     "name": "stderr",
     "output_type": "stream",
     "text": [
      "\n",
      " 13%|██████████▏                                                                    | 29/225 [10:51<1:12:28, 22.19s/it]"
     ]
    },
    {
     "name": "stdout",
     "output_type": "stream",
     "text": [
      "Processing data for material : WATER\n",
      "image_data shape is :  (2048, 2448)\n",
      "im90 shape is :  (1024, 1224)\n",
      "Stokes time:  0.02298593521118164 s\n",
      "im_stokes0 shape is :  (1024, 1224)\n",
      "DoLP time:  0.029981136322021484 s\n",
      "im_DOLP shape is :  (1024, 1224)\n",
      "Time for DOLP2Theta conversion is :  21.11482810974121 seconds\n",
      "False\n",
      "AoLP time:  0.04297447204589844 s\n"
     ]
    },
    {
     "name": "stderr",
     "output_type": "stream",
     "text": [
      "\n",
      " 13%|██████████▌                                                                    | 30/225 [11:13<1:11:41, 22.06s/it]"
     ]
    },
    {
     "name": "stdout",
     "output_type": "stream",
     "text": [
      "Processing data for material : WATER\n",
      "image_data shape is :  (2048, 2448)\n",
      "im90 shape is :  (1024, 1224)\n",
      "Stokes time:  0.02598428726196289 s\n",
      "im_stokes0 shape is :  (1024, 1224)\n",
      "DoLP time:  0.03897571563720703 s\n",
      "im_DOLP shape is :  (1024, 1224)\n",
      "Time for DOLP2Theta conversion is :  22.0652813911438 seconds\n",
      "False\n",
      "AoLP time:  0.042975664138793945 s\n"
     ]
    },
    {
     "name": "stderr",
     "output_type": "stream",
     "text": [
      "\n",
      " 14%|██████████▉                                                                    | 31/225 [11:35<1:11:59, 22.27s/it]"
     ]
    },
    {
     "name": "stdout",
     "output_type": "stream",
     "text": [
      "Processing data for material : WATER\n",
      "image_data shape is :  (2048, 2448)\n",
      "im90 shape is :  (1024, 1224)\n",
      "Stokes time:  0.024985551834106445 s\n",
      "im_stokes0 shape is :  (1024, 1224)\n",
      "DoLP time:  0.036978721618652344 s\n",
      "im_DOLP shape is :  (1024, 1224)\n",
      "Time for DOLP2Theta conversion is :  22.822843074798584 seconds\n",
      "False\n",
      "AoLP time:  0.04497337341308594 s\n"
     ]
    },
    {
     "name": "stderr",
     "output_type": "stream",
     "text": [
      "\n",
      " 14%|███████████▏                                                                   | 32/225 [11:59<1:12:46, 22.63s/it]"
     ]
    },
    {
     "name": "stdout",
     "output_type": "stream",
     "text": [
      "Processing data for material : WATER\n",
      "image_data shape is :  (2048, 2448)\n",
      "im90 shape is :  (1024, 1224)\n",
      "Stokes time:  0.025985002517700195 s\n",
      "im_stokes0 shape is :  (1024, 1224)\n",
      "DoLP time:  0.03597879409790039 s\n",
      "im_DOLP shape is :  (1024, 1224)\n",
      "Time for DOLP2Theta conversion is :  22.233182430267334 seconds\n",
      "False\n",
      "AoLP time:  0.044973134994506836 s\n"
     ]
    },
    {
     "name": "stderr",
     "output_type": "stream",
     "text": [
      "\n",
      " 15%|███████████▌                                                                   | 33/225 [12:22<1:12:40, 22.71s/it]"
     ]
    },
    {
     "name": "stdout",
     "output_type": "stream",
     "text": [
      "Processing data for material : WATER\n",
      "image_data shape is :  (2048, 2448)\n",
      "im90 shape is :  (1024, 1224)\n",
      "Stokes time:  0.026984453201293945 s\n",
      "im_stokes0 shape is :  (1024, 1224)\n",
      "DoLP time:  0.035980224609375 s\n",
      "im_DOLP shape is :  (1024, 1224)\n",
      "Time for DOLP2Theta conversion is :  21.984326362609863 seconds\n",
      "False\n",
      "AoLP time:  0.04397463798522949 s\n"
     ]
    },
    {
     "name": "stderr",
     "output_type": "stream",
     "text": [
      "\n",
      " 15%|███████████▉                                                                   | 34/225 [12:44<1:12:14, 22.69s/it]"
     ]
    },
    {
     "name": "stdout",
     "output_type": "stream",
     "text": [
      "Processing data for material : WATER\n",
      "image_data shape is :  (2048, 2448)\n",
      "im90 shape is :  (1024, 1224)\n",
      "Stokes time:  0.025985240936279297 s\n",
      "im_stokes0 shape is :  (1024, 1224)\n",
      "DoLP time:  0.03497958183288574 s\n",
      "im_DOLP shape is :  (1024, 1224)\n",
      "Time for DOLP2Theta conversion is :  21.641523838043213 seconds\n",
      "False\n",
      "AoLP time:  0.04197382926940918 s\n"
     ]
    },
    {
     "name": "stderr",
     "output_type": "stream",
     "text": [
      "\n",
      " 16%|████████████▎                                                                  | 35/225 [13:07<1:11:30, 22.58s/it]"
     ]
    },
    {
     "name": "stdout",
     "output_type": "stream",
     "text": [
      "Processing data for material : WATER\n",
      "image_data shape is :  (2048, 2448)\n",
      "im90 shape is :  (1024, 1224)\n",
      "Stokes time:  0.024985313415527344 s\n",
      "im_stokes0 shape is :  (1024, 1224)\n",
      "DoLP time:  0.03397965431213379 s\n",
      "im_DOLP shape is :  (1024, 1224)\n",
      "Time for DOLP2Theta conversion is :  21.235776901245117 seconds\n",
      "False\n",
      "AoLP time:  0.039977312088012695 s\n"
     ]
    },
    {
     "name": "stderr",
     "output_type": "stream",
     "text": [
      "\n",
      " 16%|████████████▋                                                                  | 36/225 [13:29<1:10:27, 22.37s/it]"
     ]
    },
    {
     "name": "stdout",
     "output_type": "stream",
     "text": [
      "Processing data for material : WATER\n",
      "image_data shape is :  (2048, 2448)\n",
      "im90 shape is :  (1024, 1224)\n",
      "Stokes time:  0.026983261108398438 s\n",
      "im_stokes0 shape is :  (1024, 1224)\n",
      "DoLP time:  0.030982017517089844 s\n",
      "im_DOLP shape is :  (1024, 1224)\n",
      "Time for DOLP2Theta conversion is :  21.30673599243164 seconds\n",
      "False\n",
      "AoLP time:  0.04297280311584473 s\n"
     ]
    },
    {
     "name": "stderr",
     "output_type": "stream",
     "text": [
      "\n",
      " 16%|████████████▉                                                                  | 37/225 [13:51<1:09:40, 22.23s/it]"
     ]
    },
    {
     "name": "stdout",
     "output_type": "stream",
     "text": [
      "Processing data for material : WATER\n",
      "image_data shape is :  (2048, 2448)\n",
      "im90 shape is :  (1024, 1224)\n",
      "Stokes time:  0.026983022689819336 s\n",
      "im_stokes0 shape is :  (1024, 1224)\n",
      "DoLP time:  0.0319826602935791 s\n",
      "im_DOLP shape is :  (1024, 1224)\n",
      "Time for DOLP2Theta conversion is :  22.46305227279663 seconds\n",
      "False\n",
      "AoLP time:  0.04397392272949219 s\n"
     ]
    },
    {
     "name": "stderr",
     "output_type": "stream",
     "text": [
      "\n",
      " 17%|█████████████▎                                                                 | 38/225 [14:14<1:10:07, 22.50s/it]"
     ]
    },
    {
     "name": "stdout",
     "output_type": "stream",
     "text": [
      "Processing data for material : WATER\n",
      "image_data shape is :  (2048, 2448)\n",
      "im90 shape is :  (1024, 1224)\n",
      "Stokes time:  0.025985002517700195 s\n",
      "im_stokes0 shape is :  (1024, 1224)\n",
      "DoLP time:  0.03897905349731445 s\n",
      "im_DOLP shape is :  (1024, 1224)\n",
      "Time for DOLP2Theta conversion is :  21.948346614837646 seconds\n",
      "False\n",
      "AoLP time:  0.043973445892333984 s\n"
     ]
    },
    {
     "name": "stderr",
     "output_type": "stream",
     "text": [
      "\n",
      " 17%|█████████████▋                                                                 | 39/225 [14:36<1:09:52, 22.54s/it]"
     ]
    },
    {
     "name": "stdout",
     "output_type": "stream",
     "text": [
      "Processing data for material : WATER\n",
      "image_data shape is :  (2048, 2448)\n",
      "im90 shape is :  (1024, 1224)\n",
      "Stokes time:  0.024985313415527344 s\n",
      "im_stokes0 shape is :  (1024, 1224)\n",
      "DoLP time:  0.03797793388366699 s\n",
      "im_DOLP shape is :  (1024, 1224)\n",
      "Time for DOLP2Theta conversion is :  22.523035287857056 seconds\n",
      "False\n",
      "AoLP time:  0.04497385025024414 s\n"
     ]
    },
    {
     "name": "stderr",
     "output_type": "stream",
     "text": [
      "\n",
      " 18%|██████████████                                                                 | 40/225 [14:59<1:10:05, 22.73s/it]"
     ]
    },
    {
     "name": "stdout",
     "output_type": "stream",
     "text": [
      "Processing data for material : WATER\n",
      "image_data shape is :  (2048, 2448)\n",
      "im90 shape is :  (1024, 1224)\n",
      "Stokes time:  0.025985002517700195 s\n",
      "im_stokes0 shape is :  (1024, 1224)\n",
      "DoLP time:  0.03797745704650879 s\n",
      "im_DOLP shape is :  (1024, 1224)\n",
      "Time for DOLP2Theta conversion is :  21.88238549232483 seconds\n",
      "False\n",
      "AoLP time:  0.05796670913696289 s\n"
     ]
    },
    {
     "name": "stderr",
     "output_type": "stream",
     "text": [
      "\n",
      " 18%|██████████████▍                                                                | 41/225 [15:22<1:09:34, 22.69s/it]"
     ]
    },
    {
     "name": "stdout",
     "output_type": "stream",
     "text": [
      "Processing data for material : WATER\n",
      "image_data shape is :  (2048, 2448)\n",
      "im90 shape is :  (1024, 1224)\n",
      "Stokes time:  0.027985095977783203 s\n",
      "im_stokes0 shape is :  (1024, 1224)\n",
      "DoLP time:  0.036977291107177734 s\n",
      "im_DOLP shape is :  (1024, 1224)\n",
      "Time for DOLP2Theta conversion is :  22.140236854553223 seconds\n",
      "False\n",
      "AoLP time:  0.04697227478027344 s\n"
     ]
    },
    {
     "name": "stderr",
     "output_type": "stream",
     "text": [
      "\n",
      " 19%|██████████████▋                                                                | 42/225 [15:45<1:09:18, 22.72s/it]"
     ]
    },
    {
     "name": "stdout",
     "output_type": "stream",
     "text": [
      "Processing data for material : WATER\n",
      "image_data shape is :  (2048, 2448)\n",
      "im90 shape is :  (1024, 1224)\n",
      "Stokes time:  0.03697848320007324 s\n",
      "im_stokes0 shape is :  (1024, 1224)\n",
      "DoLP time:  0.04097580909729004 s\n",
      "im_DOLP shape is :  (1024, 1224)\n",
      "Time for DOLP2Theta conversion is :  22.24317741394043 seconds\n",
      "False\n",
      "AoLP time:  0.04197502136230469 s\n"
     ]
    },
    {
     "name": "stderr",
     "output_type": "stream",
     "text": [
      "\n",
      " 19%|███████████████                                                                | 43/225 [16:08<1:09:06, 22.78s/it]"
     ]
    },
    {
     "name": "stdout",
     "output_type": "stream",
     "text": [
      "Processing data for material : WATER\n",
      "image_data shape is :  (2048, 2448)\n",
      "im90 shape is :  (1024, 1224)\n",
      "Stokes time:  0.026983976364135742 s\n",
      "im_stokes0 shape is :  (1024, 1224)\n",
      "DoLP time:  0.043974876403808594 s\n",
      "im_DOLP shape is :  (1024, 1224)\n",
      "Time for DOLP2Theta conversion is :  22.54801607131958 seconds\n",
      "False\n",
      "AoLP time:  0.04997110366821289 s\n"
     ]
    },
    {
     "name": "stderr",
     "output_type": "stream",
     "text": [
      "\n",
      " 20%|███████████████▍                                                               | 44/225 [16:31<1:09:08, 22.92s/it]"
     ]
    },
    {
     "name": "stdout",
     "output_type": "stream",
     "text": [
      "Processing data for material : WATER\n",
      "image_data shape is :  (2048, 2448)\n",
      "im90 shape is :  (1024, 1224)\n",
      "Stokes time:  0.02298593521118164 s\n",
      "im_stokes0 shape is :  (1024, 1224)\n",
      "DoLP time:  0.031981468200683594 s\n",
      "im_DOLP shape is :  (1024, 1224)\n",
      "Time for DOLP2Theta conversion is :  21.55859088897705 seconds\n",
      "False\n",
      "AoLP time:  0.04297375679016113 s\n"
     ]
    },
    {
     "name": "stderr",
     "output_type": "stream",
     "text": [
      "\n",
      " 20%|███████████████▊                                                               | 45/225 [16:53<1:08:06, 22.70s/it]"
     ]
    },
    {
     "name": "stdout",
     "output_type": "stream",
     "text": [
      "Processing data for material : WATER\n",
      "image_data shape is :  (2048, 2448)\n",
      "im90 shape is :  (1024, 1224)\n",
      "Stokes time:  0.027985572814941406 s\n",
      "im_stokes0 shape is :  (1024, 1224)\n",
      "DoLP time:  0.031981706619262695 s\n",
      "im_DOLP shape is :  (1024, 1224)\n",
      "Time for DOLP2Theta conversion is :  21.45163369178772 seconds\n",
      "False\n",
      "AoLP time:  0.058965444564819336 s\n"
     ]
    },
    {
     "name": "stderr",
     "output_type": "stream",
     "text": [
      "\n",
      " 20%|████████████████▏                                                              | 46/225 [17:15<1:07:13, 22.53s/it]"
     ]
    },
    {
     "name": "stdout",
     "output_type": "stream",
     "text": [
      "Processing data for material : WATER\n",
      "image_data shape is :  (2048, 2448)\n",
      "im90 shape is :  (1024, 1224)\n",
      "Stokes time:  0.023986101150512695 s\n",
      "im_stokes0 shape is :  (1024, 1224)\n",
      "DoLP time:  0.034979820251464844 s\n",
      "im_DOLP shape is :  (1024, 1224)\n",
      "Time for DOLP2Theta conversion is :  22.99774146080017 seconds\n",
      "False\n",
      "AoLP time:  0.05097055435180664 s\n"
     ]
    },
    {
     "name": "stderr",
     "output_type": "stream",
     "text": [
      "\n",
      " 21%|████████████████▌                                                              | 47/225 [17:39<1:07:53, 22.89s/it]"
     ]
    },
    {
     "name": "stdout",
     "output_type": "stream",
     "text": [
      "Processing data for material : WATER\n",
      "image_data shape is :  (2048, 2448)\n",
      "im90 shape is :  (1024, 1224)\n",
      "Stokes time:  0.028982877731323242 s\n",
      "im_stokes0 shape is :  (1024, 1224)\n",
      "DoLP time:  0.03997611999511719 s\n",
      "im_DOLP shape is :  (1024, 1224)\n",
      "Time for DOLP2Theta conversion is :  22.646944761276245 seconds\n",
      "False\n",
      "AoLP time:  0.05097079277038574 s\n"
     ]
    },
    {
     "name": "stderr",
     "output_type": "stream",
     "text": [
      "\n",
      " 21%|████████████████▊                                                              | 48/225 [18:02<1:07:55, 23.02s/it]"
     ]
    },
    {
     "name": "stdout",
     "output_type": "stream",
     "text": [
      "Processing data for material : WATER\n",
      "image_data shape is :  (2048, 2448)\n",
      "im90 shape is :  (1024, 1224)\n",
      "Stokes time:  0.026984453201293945 s\n",
      "im_stokes0 shape is :  (1024, 1224)\n",
      "DoLP time:  0.03397989273071289 s\n",
      "im_DOLP shape is :  (1024, 1224)\n",
      "Time for DOLP2Theta conversion is :  22.614981651306152 seconds\n",
      "False\n",
      "AoLP time:  0.04597306251525879 s\n"
     ]
    },
    {
     "name": "stderr",
     "output_type": "stream",
     "text": [
      "\n",
      " 22%|█████████████████▏                                                             | 49/225 [18:26<1:07:46, 23.10s/it]"
     ]
    },
    {
     "name": "stdout",
     "output_type": "stream",
     "text": [
      "Processing data for material : WATER\n",
      "image_data shape is :  (2048, 2448)\n",
      "im90 shape is :  (1024, 1224)\n",
      "Stokes time:  0.025985002517700195 s\n",
      "im_stokes0 shape is :  (1024, 1224)\n",
      "DoLP time:  0.038977861404418945 s\n",
      "im_DOLP shape is :  (1024, 1224)\n",
      "Time for DOLP2Theta conversion is :  22.055304288864136 seconds\n",
      "False\n",
      "AoLP time:  0.04197430610656738 s\n"
     ]
    },
    {
     "name": "stderr",
     "output_type": "stream",
     "text": [
      "\n",
      " 22%|█████████████████▌                                                             | 50/225 [18:48<1:07:01, 22.98s/it]"
     ]
    },
    {
     "name": "stdout",
     "output_type": "stream",
     "text": [
      "Processing data for material : WATER\n",
      "image_data shape is :  (2048, 2448)\n",
      "im90 shape is :  (1024, 1224)\n",
      "Stokes time:  0.027983903884887695 s\n",
      "im_stokes0 shape is :  (1024, 1224)\n",
      "DoLP time:  0.03897690773010254 s\n",
      "im_DOLP shape is :  (1024, 1224)\n",
      "Time for DOLP2Theta conversion is :  21.86939311027527 seconds\n",
      "False\n",
      "AoLP time:  0.04797172546386719 s\n"
     ]
    },
    {
     "name": "stderr",
     "output_type": "stream",
     "text": [
      "\n",
      " 23%|█████████████████▉                                                             | 51/225 [19:11<1:06:17, 22.86s/it]"
     ]
    },
    {
     "name": "stdout",
     "output_type": "stream",
     "text": [
      "Processing data for material : WATER\n",
      "image_data shape is :  (2048, 2448)\n",
      "im90 shape is :  (1024, 1224)\n",
      "Stokes time:  0.027983903884887695 s\n",
      "im_stokes0 shape is :  (1024, 1224)\n",
      "DoLP time:  0.03697824478149414 s\n",
      "im_DOLP shape is :  (1024, 1224)\n",
      "Time for DOLP2Theta conversion is :  22.213193893432617 seconds\n",
      "False\n",
      "AoLP time:  0.04297471046447754 s\n"
     ]
    },
    {
     "name": "stderr",
     "output_type": "stream",
     "text": [
      "\n",
      " 23%|██████████████████▎                                                            | 52/225 [19:34<1:05:55, 22.86s/it]"
     ]
    },
    {
     "name": "stdout",
     "output_type": "stream",
     "text": [
      "Processing data for material : WATER\n",
      "image_data shape is :  (2048, 2448)\n",
      "im90 shape is :  (1024, 1224)\n",
      "Stokes time:  0.026983261108398438 s\n",
      "im_stokes0 shape is :  (1024, 1224)\n",
      "DoLP time:  0.037976980209350586 s\n",
      "im_DOLP shape is :  (1024, 1224)\n",
      "Time for DOLP2Theta conversion is :  20.834991216659546 seconds\n",
      "False\n",
      "AoLP time:  0.04097795486450195 s\n"
     ]
    },
    {
     "name": "stderr",
     "output_type": "stream",
     "text": [
      "\n",
      " 24%|██████████████████▌                                                            | 53/225 [19:55<1:04:21, 22.45s/it]"
     ]
    },
    {
     "name": "stdout",
     "output_type": "stream",
     "text": [
      "Processing data for material : WATER\n",
      "image_data shape is :  (2048, 2448)\n",
      "im90 shape is :  (1024, 1224)\n",
      "Stokes time:  0.0259859561920166 s\n",
      "im_stokes0 shape is :  (1024, 1224)\n",
      "DoLP time:  0.03298044204711914 s\n",
      "im_DOLP shape is :  (1024, 1224)\n",
      "Time for DOLP2Theta conversion is :  21.863398790359497 seconds\n",
      "False\n",
      "AoLP time:  0.051969051361083984 s\n"
     ]
    },
    {
     "name": "stderr",
     "output_type": "stream",
     "text": [
      "\n",
      " 24%|██████████████████▉                                                            | 54/225 [20:18<1:04:03, 22.48s/it]"
     ]
    },
    {
     "name": "stdout",
     "output_type": "stream",
     "text": [
      "Processing data for material : WATER\n",
      "image_data shape is :  (2048, 2448)\n",
      "im90 shape is :  (1024, 1224)\n",
      "Stokes time:  0.02898383140563965 s\n",
      "im_stokes0 shape is :  (1024, 1224)\n",
      "DoLP time:  0.0399777889251709 s\n",
      "im_DOLP shape is :  (1024, 1224)\n",
      "Time for DOLP2Theta conversion is :  21.78344464302063 seconds\n",
      "False\n",
      "AoLP time:  0.04597330093383789 s\n"
     ]
    },
    {
     "name": "stderr",
     "output_type": "stream",
     "text": [
      "\n",
      " 24%|███████████████████▎                                                           | 55/225 [20:40<1:03:40, 22.47s/it]"
     ]
    },
    {
     "name": "stdout",
     "output_type": "stream",
     "text": [
      "Processing data for material : WATER\n",
      "image_data shape is :  (2048, 2448)\n",
      "im90 shape is :  (1024, 1224)\n",
      "Stokes time:  0.024985551834106445 s\n",
      "im_stokes0 shape is :  (1024, 1224)\n",
      "DoLP time:  0.03897738456726074 s\n",
      "im_DOLP shape is :  (1024, 1224)\n",
      "Time for DOLP2Theta conversion is :  22.245176792144775 seconds\n",
      "False\n",
      "AoLP time:  0.04397416114807129 s\n"
     ]
    },
    {
     "name": "stderr",
     "output_type": "stream",
     "text": [
      "\n",
      " 25%|███████████████████▋                                                           | 56/225 [21:03<1:03:40, 22.60s/it]"
     ]
    },
    {
     "name": "stdout",
     "output_type": "stream",
     "text": [
      "Processing data for material : WATER\n",
      "image_data shape is :  (2048, 2448)\n",
      "im90 shape is :  (1024, 1224)\n",
      "Stokes time:  0.025984764099121094 s\n",
      "im_stokes0 shape is :  (1024, 1224)\n",
      "DoLP time:  0.03697824478149414 s\n",
      "im_DOLP shape is :  (1024, 1224)\n",
      "Time for DOLP2Theta conversion is :  22.455054759979248 seconds\n",
      "False\n",
      "AoLP time:  0.04297471046447754 s\n"
     ]
    },
    {
     "name": "stderr",
     "output_type": "stream",
     "text": [
      "\n",
      " 25%|████████████████████                                                           | 57/225 [21:26<1:03:43, 22.76s/it]"
     ]
    },
    {
     "name": "stdout",
     "output_type": "stream",
     "text": [
      "Processing data for material : WATER\n",
      "image_data shape is :  (2048, 2448)\n",
      "im90 shape is :  (1024, 1224)\n",
      "Stokes time:  0.026984453201293945 s\n",
      "im_stokes0 shape is :  (1024, 1224)\n",
      "DoLP time:  0.03897738456726074 s\n",
      "im_DOLP shape is :  (1024, 1224)\n",
      "Time for DOLP2Theta conversion is :  22.113252878189087 seconds\n",
      "False\n",
      "AoLP time:  0.04197573661804199 s\n"
     ]
    },
    {
     "name": "stderr",
     "output_type": "stream",
     "text": [
      "\n",
      " 26%|████████████████████▎                                                          | 58/225 [21:49<1:03:23, 22.77s/it]"
     ]
    },
    {
     "name": "stdout",
     "output_type": "stream",
     "text": [
      "Processing data for material : WATER\n",
      "image_data shape is :  (2048, 2448)\n",
      "im90 shape is :  (1024, 1224)\n",
      "Stokes time:  0.026983976364135742 s\n",
      "im_stokes0 shape is :  (1024, 1224)\n",
      "DoLP time:  0.03797793388366699 s\n",
      "im_DOLP shape is :  (1024, 1224)\n",
      "Time for DOLP2Theta conversion is :  22.234182596206665 seconds\n",
      "False\n",
      "AoLP time:  0.046973228454589844 s\n"
     ]
    },
    {
     "name": "stderr",
     "output_type": "stream",
     "text": [
      "\n",
      " 26%|████████████████████▋                                                          | 59/225 [22:12<1:03:08, 22.82s/it]"
     ]
    },
    {
     "name": "stdout",
     "output_type": "stream",
     "text": [
      "Processing data for material : WATER\n",
      "image_data shape is :  (2048, 2448)\n",
      "im90 shape is :  (1024, 1224)\n",
      "Stokes time:  0.032981157302856445 s\n",
      "im_stokes0 shape is :  (1024, 1224)\n",
      "DoLP time:  0.03497910499572754 s\n",
      "im_DOLP shape is :  (1024, 1224)\n",
      "Time for DOLP2Theta conversion is :  22.07727289199829 seconds\n",
      "False\n",
      "AoLP time:  0.04397416114807129 s\n"
     ]
    },
    {
     "name": "stderr",
     "output_type": "stream",
     "text": [
      "\n",
      " 27%|█████████████████████                                                          | 60/225 [22:35<1:02:41, 22.80s/it]"
     ]
    },
    {
     "name": "stdout",
     "output_type": "stream",
     "text": [
      "Processing data for material : WATER\n",
      "image_data shape is :  (2048, 2448)\n",
      "im90 shape is :  (1024, 1224)\n",
      "Stokes time:  0.026984453201293945 s\n",
      "im_stokes0 shape is :  (1024, 1224)\n",
      "DoLP time:  0.036978960037231445 s\n",
      "im_DOLP shape is :  (1024, 1224)\n",
      "Time for DOLP2Theta conversion is :  21.192801475524902 seconds\n",
      "False\n",
      "AoLP time:  0.04297447204589844 s\n"
     ]
    },
    {
     "name": "stderr",
     "output_type": "stream",
     "text": [
      "\n",
      " 27%|█████████████████████▍                                                         | 61/225 [22:57<1:01:31, 22.51s/it]"
     ]
    },
    {
     "name": "stdout",
     "output_type": "stream",
     "text": [
      "Processing data for material : WATER\n",
      "image_data shape is :  (2048, 2448)\n",
      "im90 shape is :  (1024, 1224)\n",
      "Stokes time:  0.02498483657836914 s\n",
      "im_stokes0 shape is :  (1024, 1224)\n",
      "DoLP time:  0.031982421875 s\n",
      "im_DOLP shape is :  (1024, 1224)\n",
      "Time for DOLP2Theta conversion is :  21.25374698638916 seconds\n",
      "False\n",
      "AoLP time:  0.04097294807434082 s\n"
     ]
    },
    {
     "name": "stderr",
     "output_type": "stream",
     "text": [
      "\n",
      " 28%|█████████████████████▊                                                         | 62/225 [23:19<1:00:39, 22.33s/it]"
     ]
    },
    {
     "name": "stdout",
     "output_type": "stream",
     "text": [
      "Processing data for material : WATER\n",
      "image_data shape is :  (2048, 2448)\n",
      "im90 shape is :  (1024, 1224)\n",
      "Stokes time:  0.02698540687561035 s\n",
      "im_stokes0 shape is :  (1024, 1224)\n",
      "DoLP time:  0.036977291107177734 s\n",
      "im_DOLP shape is :  (1024, 1224)\n",
      "Time for DOLP2Theta conversion is :  22.217211723327637 seconds\n",
      "False\n",
      "AoLP time:  0.04197382926940918 s\n"
     ]
    },
    {
     "name": "stderr",
     "output_type": "stream",
     "text": [
      "\n",
      " 28%|██████████████████████                                                         | 63/225 [23:41<1:00:42, 22.48s/it]"
     ]
    },
    {
     "name": "stdout",
     "output_type": "stream",
     "text": [
      "Processing data for material : WATER\n",
      "image_data shape is :  (2048, 2448)\n",
      "im90 shape is :  (1024, 1224)\n",
      "Stokes time:  0.026984453201293945 s\n",
      "im_stokes0 shape is :  (1024, 1224)\n",
      "DoLP time:  0.031981468200683594 s\n",
      "im_DOLP shape is :  (1024, 1224)\n",
      "Time for DOLP2Theta conversion is :  21.559571743011475 seconds\n",
      "False\n",
      "AoLP time:  0.042967796325683594 s\n"
     ]
    },
    {
     "name": "stderr",
     "output_type": "stream",
     "text": [
      "\n",
      " 28%|██████████████████████▍                                                        | 64/225 [24:04<1:00:08, 22.41s/it]"
     ]
    },
    {
     "name": "stdout",
     "output_type": "stream",
     "text": [
      "Processing data for material : WATER\n",
      "image_data shape is :  (2048, 2448)\n",
      "im90 shape is :  (1024, 1224)\n",
      "Stokes time:  0.024985074996948242 s\n",
      "im_stokes0 shape is :  (1024, 1224)\n",
      "DoLP time:  0.03898048400878906 s\n",
      "im_DOLP shape is :  (1024, 1224)\n",
      "Time for DOLP2Theta conversion is :  22.15222954750061 seconds\n",
      "False\n",
      "AoLP time:  0.04597115516662598 s\n"
     ]
    },
    {
     "name": "stderr",
     "output_type": "stream",
     "text": [
      "\n",
      " 29%|██████████████████████▊                                                        | 65/225 [24:27<1:00:06, 22.54s/it]"
     ]
    },
    {
     "name": "stdout",
     "output_type": "stream",
     "text": [
      "Processing data for material : WATER\n",
      "image_data shape is :  (2048, 2448)\n",
      "im90 shape is :  (1024, 1224)\n",
      "Stokes time:  0.028983354568481445 s\n",
      "im_stokes0 shape is :  (1024, 1224)\n",
      "DoLP time:  0.036978721618652344 s\n",
      "im_DOLP shape is :  (1024, 1224)\n",
      "Time for DOLP2Theta conversion is :  22.19320559501648 seconds\n",
      "False\n",
      "AoLP time:  0.04697251319885254 s\n"
     ]
    },
    {
     "name": "stderr",
     "output_type": "stream",
     "text": [
      "\n",
      " 29%|███████████████████████▊                                                         | 66/225 [24:49<59:58, 22.64s/it]"
     ]
    },
    {
     "name": "stdout",
     "output_type": "stream",
     "text": [
      "Processing data for material : WATER\n",
      "image_data shape is :  (2048, 2448)\n",
      "im90 shape is :  (1024, 1224)\n",
      "Stokes time:  0.023986339569091797 s\n",
      "im_stokes0 shape is :  (1024, 1224)\n",
      "DoLP time:  0.03697800636291504 s\n",
      "im_DOLP shape is :  (1024, 1224)\n",
      "Time for DOLP2Theta conversion is :  22.0143084526062 seconds\n",
      "False\n",
      "AoLP time:  0.04897022247314453 s\n"
     ]
    },
    {
     "name": "stderr",
     "output_type": "stream",
     "text": [
      "\n",
      " 30%|████████████████████████                                                         | 67/225 [25:12<59:39, 22.65s/it]"
     ]
    },
    {
     "name": "stdout",
     "output_type": "stream",
     "text": [
      "Processing data for material : WATER\n",
      "image_data shape is :  (2048, 2448)\n",
      "im90 shape is :  (1024, 1224)\n",
      "Stokes time:  0.024985551834106445 s\n",
      "im_stokes0 shape is :  (1024, 1224)\n",
      "DoLP time:  0.03697848320007324 s\n",
      "im_DOLP shape is :  (1024, 1224)\n",
      "Time for DOLP2Theta conversion is :  22.435067653656006 seconds\n",
      "False\n",
      "AoLP time:  0.04897141456604004 s\n"
     ]
    },
    {
     "name": "stderr",
     "output_type": "stream",
     "text": [
      "\n",
      " 30%|████████████████████████▍                                                        | 68/225 [25:35<59:38, 22.79s/it]"
     ]
    },
    {
     "name": "stdout",
     "output_type": "stream",
     "text": [
      "Processing data for material : WATER\n",
      "image_data shape is :  (2048, 2448)\n",
      "im90 shape is :  (1024, 1224)\n",
      "Stokes time:  0.02798295021057129 s\n",
      "im_stokes0 shape is :  (1024, 1224)\n",
      "DoLP time:  0.036978721618652344 s\n",
      "im_DOLP shape is :  (1024, 1224)\n",
      "Time for DOLP2Theta conversion is :  21.491610527038574 seconds\n",
      "False\n",
      "AoLP time:  0.041976213455200195 s\n"
     ]
    },
    {
     "name": "stderr",
     "output_type": "stream",
     "text": [
      "\n",
      " 31%|████████████████████████▊                                                        | 69/225 [25:57<58:46, 22.60s/it]"
     ]
    },
    {
     "name": "stdout",
     "output_type": "stream",
     "text": [
      "Processing data for material : WATER\n",
      "image_data shape is :  (2048, 2448)\n",
      "im90 shape is :  (1024, 1224)\n",
      "Stokes time:  0.026982784271240234 s\n",
      "im_stokes0 shape is :  (1024, 1224)\n",
      "DoLP time:  0.035979270935058594 s\n",
      "im_DOLP shape is :  (1024, 1224)\n",
      "Time for DOLP2Theta conversion is :  21.144829034805298 seconds\n",
      "False\n",
      "AoLP time:  0.04097580909729004 s\n"
     ]
    },
    {
     "name": "stderr",
     "output_type": "stream",
     "text": [
      "\n",
      " 31%|█████████████████████████▏                                                       | 70/225 [26:19<57:46, 22.37s/it]"
     ]
    },
    {
     "name": "stdout",
     "output_type": "stream",
     "text": [
      "Processing data for material : WATER\n",
      "image_data shape is :  (2048, 2448)\n",
      "im90 shape is :  (1024, 1224)\n",
      "Stokes time:  0.025985002517700195 s\n",
      "im_stokes0 shape is :  (1024, 1224)\n",
      "DoLP time:  0.03298187255859375 s\n",
      "im_DOLP shape is :  (1024, 1224)\n",
      "Time for DOLP2Theta conversion is :  20.968911170959473 seconds\n",
      "False\n",
      "AoLP time:  0.039975643157958984 s\n"
     ]
    },
    {
     "name": "stderr",
     "output_type": "stream",
     "text": [
      "\n",
      " 32%|█████████████████████████▌                                                       | 71/225 [26:41<56:49, 22.14s/it]"
     ]
    },
    {
     "name": "stdout",
     "output_type": "stream",
     "text": [
      "Processing data for material : WATER\n",
      "image_data shape is :  (2048, 2448)\n",
      "im90 shape is :  (1024, 1224)\n",
      "Stokes time:  0.02498483657836914 s\n",
      "im_stokes0 shape is :  (1024, 1224)\n",
      "DoLP time:  0.033980369567871094 s\n",
      "im_DOLP shape is :  (1024, 1224)\n",
      "Time for DOLP2Theta conversion is :  21.182788848876953 seconds\n",
      "False\n",
      "AoLP time:  0.04497361183166504 s\n"
     ]
    },
    {
     "name": "stderr",
     "output_type": "stream",
     "text": [
      "\n",
      " 32%|█████████████████████████▉                                                       | 72/225 [27:03<56:14, 22.05s/it]"
     ]
    },
    {
     "name": "stdout",
     "output_type": "stream",
     "text": [
      "Processing data for material : WATER\n",
      "image_data shape is :  (2048, 2448)\n",
      "im90 shape is :  (1024, 1224)\n",
      "Stokes time:  0.02698373794555664 s\n",
      "im_stokes0 shape is :  (1024, 1224)\n",
      "DoLP time:  0.036978721618652344 s\n",
      "im_DOLP shape is :  (1024, 1224)\n",
      "Time for DOLP2Theta conversion is :  22.205199241638184 seconds\n",
      "False\n",
      "AoLP time:  0.04897117614746094 s\n"
     ]
    },
    {
     "name": "stderr",
     "output_type": "stream",
     "text": [
      "\n",
      " 32%|██████████████████████████▎                                                      | 73/225 [27:26<56:30, 22.31s/it]"
     ]
    },
    {
     "name": "stdout",
     "output_type": "stream",
     "text": [
      "Processing data for material : WATER\n",
      "image_data shape is :  (2048, 2448)\n",
      "im90 shape is :  (1024, 1224)\n",
      "Stokes time:  0.0279843807220459 s\n",
      "im_stokes0 shape is :  (1024, 1224)\n",
      "DoLP time:  0.036978960037231445 s\n",
      "im_DOLP shape is :  (1024, 1224)\n",
      "Time for DOLP2Theta conversion is :  21.84340763092041 seconds\n",
      "False\n",
      "AoLP time:  0.04797172546386719 s\n"
     ]
    },
    {
     "name": "stderr",
     "output_type": "stream",
     "text": [
      "\n",
      " 33%|██████████████████████████▋                                                      | 74/225 [27:48<56:18, 22.38s/it]"
     ]
    },
    {
     "name": "stdout",
     "output_type": "stream",
     "text": [
      "Processing data for material : WATER\n",
      "image_data shape is :  (2048, 2448)\n",
      "im90 shape is :  (1024, 1224)\n",
      "Stokes time:  0.024985551834106445 s\n",
      "im_stokes0 shape is :  (1024, 1224)\n",
      "DoLP time:  0.03697824478149414 s\n",
      "im_DOLP shape is :  (1024, 1224)\n",
      "Time for DOLP2Theta conversion is :  22.160226345062256 seconds\n",
      "False\n",
      "AoLP time:  0.051969051361083984 s\n"
     ]
    },
    {
     "name": "stderr",
     "output_type": "stream",
     "text": [
      "\n",
      " 33%|███████████████████████████                                                      | 75/225 [28:11<56:16, 22.51s/it]"
     ]
    },
    {
     "name": "stdout",
     "output_type": "stream",
     "text": [
      "Processing data for material : WATER\n",
      "image_data shape is :  (2048, 2448)\n",
      "im90 shape is :  (1024, 1224)\n",
      "Stokes time:  0.027983427047729492 s\n",
      "im_stokes0 shape is :  (1024, 1224)\n",
      "DoLP time:  0.03497934341430664 s\n",
      "im_DOLP shape is :  (1024, 1224)\n",
      "Time for DOLP2Theta conversion is :  21.95734167098999 seconds\n",
      "False\n",
      "AoLP time:  0.0419771671295166 s\n"
     ]
    },
    {
     "name": "stderr",
     "output_type": "stream",
     "text": [
      "\n",
      " 34%|███████████████████████████▎                                                     | 76/225 [28:34<55:58, 22.54s/it]"
     ]
    },
    {
     "name": "stdout",
     "output_type": "stream",
     "text": [
      "Processing data for material : WATER\n",
      "image_data shape is :  (2048, 2448)\n",
      "im90 shape is :  (1024, 1224)\n",
      "Stokes time:  0.026984214782714844 s\n",
      "im_stokes0 shape is :  (1024, 1224)\n",
      "DoLP time:  0.03697991371154785 s\n",
      "im_DOLP shape is :  (1024, 1224)\n",
      "Time for DOLP2Theta conversion is :  21.91036891937256 seconds\n",
      "False\n",
      "AoLP time:  0.044972896575927734 s\n"
     ]
    },
    {
     "name": "stderr",
     "output_type": "stream",
     "text": [
      "\n",
      " 34%|███████████████████████████▋                                                     | 77/225 [28:56<55:36, 22.55s/it]"
     ]
    },
    {
     "name": "stdout",
     "output_type": "stream",
     "text": [
      "Processing data for material : WATER\n",
      "image_data shape is :  (2048, 2448)\n",
      "im90 shape is :  (1024, 1224)\n",
      "Stokes time:  0.02698540687561035 s\n",
      "im_stokes0 shape is :  (1024, 1224)\n",
      "DoLP time:  0.034980058670043945 s\n",
      "im_DOLP shape is :  (1024, 1224)\n",
      "Time for DOLP2Theta conversion is :  21.56358242034912 seconds\n",
      "False\n",
      "AoLP time:  0.04197549819946289 s\n"
     ]
    },
    {
     "name": "stderr",
     "output_type": "stream",
     "text": [
      "\n",
      " 35%|████████████████████████████                                                     | 78/225 [29:18<54:58, 22.44s/it]"
     ]
    },
    {
     "name": "stdout",
     "output_type": "stream",
     "text": [
      "Processing data for material : WATER\n",
      "image_data shape is :  (2048, 2448)\n",
      "im90 shape is :  (1024, 1224)\n",
      "Stokes time:  0.025985002517700195 s\n",
      "im_stokes0 shape is :  (1024, 1224)\n",
      "DoLP time:  0.03397965431213379 s\n",
      "im_DOLP shape is :  (1024, 1224)\n",
      "Time for DOLP2Theta conversion is :  20.714077711105347 seconds\n",
      "False\n",
      "AoLP time:  0.0399782657623291 s\n"
     ]
    },
    {
     "name": "stderr",
     "output_type": "stream",
     "text": [
      "\n",
      " 35%|████████████████████████████▍                                                    | 79/225 [29:40<53:47, 22.11s/it]"
     ]
    },
    {
     "name": "stdout",
     "output_type": "stream",
     "text": [
      "Processing data for material : WATER\n",
      "image_data shape is :  (2048, 2448)\n",
      "im90 shape is :  (1024, 1224)\n",
      "Stokes time:  0.023985862731933594 s\n",
      "im_stokes0 shape is :  (1024, 1224)\n",
      "DoLP time:  0.034978628158569336 s\n",
      "im_DOLP shape is :  (1024, 1224)\n",
      "Time for DOLP2Theta conversion is :  20.855977058410645 seconds\n",
      "False\n",
      "AoLP time:  0.04297447204589844 s\n"
     ]
    },
    {
     "name": "stderr",
     "output_type": "stream",
     "text": [
      "\n",
      " 36%|████████████████████████████▊                                                    | 80/225 [30:01<52:59, 21.93s/it]"
     ]
    },
    {
     "name": "stdout",
     "output_type": "stream",
     "text": [
      "Processing data for material : WATER\n",
      "image_data shape is :  (2048, 2448)\n",
      "im90 shape is :  (1024, 1224)\n",
      "Stokes time:  0.025985002517700195 s\n",
      "im_stokes0 shape is :  (1024, 1224)\n",
      "DoLP time:  0.03098154067993164 s\n",
      "im_DOLP shape is :  (1024, 1224)\n",
      "Time for DOLP2Theta conversion is :  22.06328296661377 seconds\n",
      "False\n",
      "AoLP time:  0.04297518730163574 s\n"
     ]
    },
    {
     "name": "stderr",
     "output_type": "stream",
     "text": [
      "\n",
      " 36%|█████████████████████████████▏                                                   | 81/225 [30:24<53:11, 22.16s/it]"
     ]
    },
    {
     "name": "stdout",
     "output_type": "stream",
     "text": [
      "Processing data for material : WATER\n",
      "image_data shape is :  (2048, 2448)\n",
      "im90 shape is :  (1024, 1224)\n",
      "Stokes time:  0.025985240936279297 s\n",
      "im_stokes0 shape is :  (1024, 1224)\n",
      "DoLP time:  0.03897738456726074 s\n",
      "im_DOLP shape is :  (1024, 1224)\n",
      "Time for DOLP2Theta conversion is :  21.986324548721313 seconds\n",
      "False\n",
      "AoLP time:  0.04097580909729004 s\n"
     ]
    },
    {
     "name": "stderr",
     "output_type": "stream",
     "text": [
      "\n",
      " 36%|█████████████████████████████▌                                                   | 82/225 [30:46<53:10, 22.31s/it]"
     ]
    },
    {
     "name": "stdout",
     "output_type": "stream",
     "text": [
      "Processing data for material : WATER\n",
      "image_data shape is :  (2048, 2448)\n",
      "im90 shape is :  (1024, 1224)\n",
      "Stokes time:  0.02498626708984375 s\n",
      "im_stokes0 shape is :  (1024, 1224)\n",
      "DoLP time:  0.03298068046569824 s\n",
      "im_DOLP shape is :  (1024, 1224)\n",
      "Time for DOLP2Theta conversion is :  22.264185905456543 seconds\n",
      "False\n",
      "AoLP time:  0.040975332260131836 s\n"
     ]
    },
    {
     "name": "stderr",
     "output_type": "stream",
     "text": [
      "\n",
      " 37%|█████████████████████████████▉                                                   | 83/225 [31:09<53:13, 22.49s/it]"
     ]
    },
    {
     "name": "stdout",
     "output_type": "stream",
     "text": [
      "Processing data for material : WATER\n",
      "image_data shape is :  (2048, 2448)\n",
      "im90 shape is :  (1024, 1224)\n",
      "Stokes time:  0.027984142303466797 s\n",
      "im_stokes0 shape is :  (1024, 1224)\n",
      "DoLP time:  0.038977861404418945 s\n",
      "im_DOLP shape is :  (1024, 1224)\n",
      "Time for DOLP2Theta conversion is :  22.301142930984497 seconds\n",
      "False\n",
      "AoLP time:  0.04197549819946289 s\n"
     ]
    },
    {
     "name": "stderr",
     "output_type": "stream",
     "text": [
      "\n",
      " 37%|██████████████████████████████▏                                                  | 84/225 [31:32<53:11, 22.64s/it]"
     ]
    },
    {
     "name": "stdout",
     "output_type": "stream",
     "text": [
      "Processing data for material : WATER\n",
      "image_data shape is :  (2048, 2448)\n",
      "im90 shape is :  (1024, 1224)\n",
      "Stokes time:  0.025985002517700195 s\n",
      "im_stokes0 shape is :  (1024, 1224)\n",
      "DoLP time:  0.03497886657714844 s\n",
      "im_DOLP shape is :  (1024, 1224)\n",
      "Time for DOLP2Theta conversion is :  22.052287340164185 seconds\n",
      "False\n",
      "AoLP time:  0.041974782943725586 s\n"
     ]
    },
    {
     "name": "stderr",
     "output_type": "stream",
     "text": [
      "\n",
      " 38%|██████████████████████████████▌                                                  | 85/225 [31:55<52:51, 22.65s/it]"
     ]
    },
    {
     "name": "stdout",
     "output_type": "stream",
     "text": [
      "Processing data for material : WATER\n",
      "image_data shape is :  (2048, 2448)\n",
      "im90 shape is :  (1024, 1224)\n",
      "Stokes time:  0.023986101150512695 s\n",
      "im_stokes0 shape is :  (1024, 1224)\n",
      "DoLP time:  0.03198122978210449 s\n",
      "im_DOLP shape is :  (1024, 1224)\n",
      "Time for DOLP2Theta conversion is :  21.74046778678894 seconds\n",
      "False\n",
      "AoLP time:  0.04097461700439453 s\n"
     ]
    },
    {
     "name": "stderr",
     "output_type": "stream",
     "text": [
      "\n",
      " 38%|██████████████████████████████▉                                                  | 86/225 [32:17<52:17, 22.57s/it]"
     ]
    },
    {
     "name": "stdout",
     "output_type": "stream",
     "text": [
      "Processing data for material : WATER\n",
      "image_data shape is :  (2048, 2448)\n",
      "im90 shape is :  (1024, 1224)\n",
      "Stokes time:  0.024985551834106445 s\n",
      "im_stokes0 shape is :  (1024, 1224)\n",
      "DoLP time:  0.032980918884277344 s\n",
      "im_DOLP shape is :  (1024, 1224)\n",
      "Time for DOLP2Theta conversion is :  21.997318983078003 seconds\n",
      "False\n",
      "AoLP time:  0.04397845268249512 s\n"
     ]
    },
    {
     "name": "stderr",
     "output_type": "stream",
     "text": [
      "\n",
      " 39%|███████████████████████████████▎                                                 | 87/225 [32:40<51:58, 22.60s/it]"
     ]
    },
    {
     "name": "stdout",
     "output_type": "stream",
     "text": [
      "Processing data for material : WATER\n",
      "image_data shape is :  (2048, 2448)\n",
      "im90 shape is :  (1024, 1224)\n",
      "Stokes time:  0.024985074996948242 s\n",
      "im_stokes0 shape is :  (1024, 1224)\n",
      "DoLP time:  0.03398013114929199 s\n",
      "im_DOLP shape is :  (1024, 1224)\n",
      "Time for DOLP2Theta conversion is :  22.17821455001831 seconds\n",
      "False\n",
      "AoLP time:  0.04497098922729492 s\n"
     ]
    },
    {
     "name": "stderr",
     "output_type": "stream",
     "text": [
      "\n",
      " 39%|███████████████████████████████▋                                                 | 88/225 [33:03<51:46, 22.67s/it]"
     ]
    },
    {
     "name": "stdout",
     "output_type": "stream",
     "text": [
      "Processing data for material : WATER\n",
      "image_data shape is :  (2048, 2448)\n",
      "im90 shape is :  (1024, 1224)\n",
      "Stokes time:  0.02798295021057129 s\n",
      "im_stokes0 shape is :  (1024, 1224)\n",
      "DoLP time:  0.03397989273071289 s\n",
      "im_DOLP shape is :  (1024, 1224)\n",
      "Time for DOLP2Theta conversion is :  21.69549322128296 seconds\n",
      "False\n",
      "AoLP time:  0.04397439956665039 s\n"
     ]
    },
    {
     "name": "stderr",
     "output_type": "stream",
     "text": [
      "\n",
      " 40%|████████████████████████████████                                                 | 89/225 [33:25<51:11, 22.58s/it]"
     ]
    },
    {
     "name": "stdout",
     "output_type": "stream",
     "text": [
      "Processing data for material : WATER\n",
      "image_data shape is :  (2048, 2448)\n",
      "im90 shape is :  (1024, 1224)\n",
      "Stokes time:  0.025984764099121094 s\n",
      "im_stokes0 shape is :  (1024, 1224)\n",
      "DoLP time:  0.03897738456726074 s\n",
      "im_DOLP shape is :  (1024, 1224)\n",
      "Time for DOLP2Theta conversion is :  23.361533403396606 seconds\n",
      "False\n",
      "AoLP time:  0.04797220230102539 s\n"
     ]
    },
    {
     "name": "stderr",
     "output_type": "stream",
     "text": [
      "\n",
      " 40%|████████████████████████████████▍                                                | 90/225 [33:49<51:47, 23.02s/it]"
     ]
    },
    {
     "name": "stdout",
     "output_type": "stream",
     "text": [
      "Processing data for material : WATER\n",
      "image_data shape is :  (2048, 2448)\n",
      "im90 shape is :  (1024, 1224)\n",
      "Stokes time:  0.026984453201293945 s\n",
      "im_stokes0 shape is :  (1024, 1224)\n",
      "DoLP time:  0.04097628593444824 s\n",
      "im_DOLP shape is :  (1024, 1224)\n",
      "Time for DOLP2Theta conversion is :  25.02357506752014 seconds\n",
      "False\n",
      "AoLP time:  0.049971818923950195 s\n"
     ]
    },
    {
     "name": "stderr",
     "output_type": "stream",
     "text": [
      "\n",
      " 40%|████████████████████████████████▊                                                | 91/225 [34:15<53:12, 23.83s/it]"
     ]
    },
    {
     "name": "stdout",
     "output_type": "stream",
     "text": [
      "Processing data for material : WATER\n",
      "image_data shape is :  (2048, 2448)\n",
      "im90 shape is :  (1024, 1224)\n",
      "Stokes time:  0.027984619140625 s\n",
      "im_stokes0 shape is :  (1024, 1224)\n",
      "DoLP time:  0.03897905349731445 s\n",
      "im_DOLP shape is :  (1024, 1224)\n",
      "Time for DOLP2Theta conversion is :  24.444908618927002 seconds\n",
      "False\n",
      "AoLP time:  0.05596661567687988 s\n"
     ]
    },
    {
     "name": "stderr",
     "output_type": "stream",
     "text": [
      "\n",
      " 41%|█████████████████████████████████                                                | 92/225 [34:40<53:40, 24.22s/it]"
     ]
    },
    {
     "name": "stdout",
     "output_type": "stream",
     "text": [
      "Processing data for material : WATER\n",
      "image_data shape is :  (2048, 2448)\n",
      "im90 shape is :  (1024, 1224)\n",
      "Stokes time:  0.027982473373413086 s\n",
      "im_stokes0 shape is :  (1024, 1224)\n",
      "DoLP time:  0.03797745704650879 s\n",
      "im_DOLP shape is :  (1024, 1224)\n",
      "Time for DOLP2Theta conversion is :  24.597819805145264 seconds\n",
      "False\n",
      "AoLP time:  0.04597306251525879 s\n"
     ]
    },
    {
     "name": "stderr",
     "output_type": "stream",
     "text": [
      "\n",
      " 41%|█████████████████████████████████▍                                               | 93/225 [35:06<54:01, 24.55s/it]"
     ]
    },
    {
     "name": "stdout",
     "output_type": "stream",
     "text": [
      "Processing data for material : WATER\n",
      "image_data shape is :  (2048, 2448)\n",
      "im90 shape is :  (1024, 1224)\n",
      "Stokes time:  0.030982255935668945 s\n",
      "im_stokes0 shape is :  (1024, 1224)\n",
      "DoLP time:  0.040976524353027344 s\n",
      "im_DOLP shape is :  (1024, 1224)\n",
      "Time for DOLP2Theta conversion is :  23.501471281051636 seconds\n",
      "False\n",
      "AoLP time:  0.041973114013671875 s\n"
     ]
    },
    {
     "name": "stderr",
     "output_type": "stream",
     "text": [
      "\n",
      " 42%|█████████████████████████████████▊                                               | 94/225 [35:30<53:21, 24.44s/it]"
     ]
    },
    {
     "name": "stdout",
     "output_type": "stream",
     "text": [
      "Processing data for material : WATER\n",
      "image_data shape is :  (2048, 2448)\n",
      "im90 shape is :  (1024, 1224)\n",
      "Stokes time:  0.02398538589477539 s\n",
      "im_stokes0 shape is :  (1024, 1224)\n",
      "DoLP time:  0.031982421875 s\n",
      "im_DOLP shape is :  (1024, 1224)\n",
      "Time for DOLP2Theta conversion is :  21.74748134613037 seconds\n",
      "False\n",
      "AoLP time:  0.042975425720214844 s\n"
     ]
    },
    {
     "name": "stderr",
     "output_type": "stream",
     "text": [
      "\n",
      " 42%|██████████████████████████████████▏                                              | 95/225 [35:52<51:36, 23.82s/it]"
     ]
    },
    {
     "name": "stdout",
     "output_type": "stream",
     "text": [
      "Processing data for material : WATER\n",
      "image_data shape is :  (2048, 2448)\n",
      "im90 shape is :  (1024, 1224)\n",
      "Stokes time:  0.023985862731933594 s\n",
      "im_stokes0 shape is :  (1024, 1224)\n",
      "DoLP time:  0.031981468200683594 s\n",
      "im_DOLP shape is :  (1024, 1224)\n",
      "Time for DOLP2Theta conversion is :  21.828428745269775 seconds\n",
      "False\n",
      "AoLP time:  0.04497361183166504 s\n"
     ]
    },
    {
     "name": "stderr",
     "output_type": "stream",
     "text": [
      "\n",
      " 43%|██████████████████████████████████▌                                              | 96/225 [36:15<50:19, 23.41s/it]"
     ]
    },
    {
     "name": "stdout",
     "output_type": "stream",
     "text": [
      "Processing data for material : WATER\n",
      "image_data shape is :  (2048, 2448)\n",
      "im90 shape is :  (1024, 1224)\n",
      "Stokes time:  0.0239865779876709 s\n",
      "im_stokes0 shape is :  (1024, 1224)\n",
      "DoLP time:  0.03198075294494629 s\n",
      "im_DOLP shape is :  (1024, 1224)\n",
      "Time for DOLP2Theta conversion is :  21.07884979248047 seconds\n",
      "False\n",
      "AoLP time:  0.03897833824157715 s\n"
     ]
    },
    {
     "name": "stderr",
     "output_type": "stream",
     "text": [
      "\n",
      " 43%|██████████████████████████████████▉                                              | 97/225 [36:36<48:52, 22.91s/it]"
     ]
    },
    {
     "name": "stdout",
     "output_type": "stream",
     "text": [
      "Processing data for material : WATER\n",
      "image_data shape is :  (2048, 2448)\n",
      "im90 shape is :  (1024, 1224)\n",
      "Stokes time:  0.026983976364135742 s\n",
      "im_stokes0 shape is :  (1024, 1224)\n",
      "DoLP time:  0.03098154067993164 s\n",
      "im_DOLP shape is :  (1024, 1224)\n",
      "Time for DOLP2Theta conversion is :  21.37167978286743 seconds\n",
      "False\n",
      "AoLP time:  0.04097628593444824 s\n"
     ]
    },
    {
     "name": "stderr",
     "output_type": "stream",
     "text": [
      "\n",
      " 44%|███████████████████████████████████▎                                             | 98/225 [36:58<47:55, 22.64s/it]"
     ]
    },
    {
     "name": "stdout",
     "output_type": "stream",
     "text": [
      "Processing data for material : WATER\n",
      "image_data shape is :  (2048, 2448)\n",
      "im90 shape is :  (1024, 1224)\n",
      "Stokes time:  0.02798295021057129 s\n",
      "im_stokes0 shape is :  (1024, 1224)\n",
      "DoLP time:  0.03197979927062988 s\n",
      "im_DOLP shape is :  (1024, 1224)\n",
      "Time for DOLP2Theta conversion is :  22.490034341812134 seconds\n",
      "False\n",
      "AoLP time:  0.041974544525146484 s\n"
     ]
    },
    {
     "name": "stderr",
     "output_type": "stream",
     "text": [
      "\n",
      " 44%|███████████████████████████████████▋                                             | 99/225 [37:21<47:52, 22.79s/it]"
     ]
    },
    {
     "name": "stdout",
     "output_type": "stream",
     "text": [
      "Processing data for material : WATER\n",
      "image_data shape is :  (2048, 2448)\n",
      "im90 shape is :  (1024, 1224)\n",
      "Stokes time:  0.026984453201293945 s\n",
      "im_stokes0 shape is :  (1024, 1224)\n",
      "DoLP time:  0.03797745704650879 s\n",
      "im_DOLP shape is :  (1024, 1224)\n",
      "Time for DOLP2Theta conversion is :  21.844407558441162 seconds\n",
      "False\n",
      "AoLP time:  0.041974782943725586 s\n"
     ]
    },
    {
     "name": "stderr",
     "output_type": "stream",
     "text": [
      "\n",
      " 44%|███████████████████████████████████▌                                            | 100/225 [37:44<47:18, 22.71s/it]"
     ]
    },
    {
     "name": "stdout",
     "output_type": "stream",
     "text": [
      "Processing data for material : WATER\n",
      "image_data shape is :  (2048, 2448)\n",
      "im90 shape is :  (1024, 1224)\n",
      "Stokes time:  0.02698373794555664 s\n",
      "im_stokes0 shape is :  (1024, 1224)\n",
      "DoLP time:  0.03597879409790039 s\n",
      "im_DOLP shape is :  (1024, 1224)\n",
      "Time for DOLP2Theta conversion is :  22.19920301437378 seconds\n",
      "False\n",
      "AoLP time:  0.04297327995300293 s\n"
     ]
    },
    {
     "name": "stderr",
     "output_type": "stream",
     "text": [
      "\n",
      " 45%|███████████████████████████████████▉                                            | 101/225 [38:07<47:02, 22.76s/it]"
     ]
    },
    {
     "name": "stdout",
     "output_type": "stream",
     "text": [
      "Processing data for material : WATER\n",
      "image_data shape is :  (2048, 2448)\n",
      "im90 shape is :  (1024, 1224)\n",
      "Stokes time:  0.026984691619873047 s\n",
      "im_stokes0 shape is :  (1024, 1224)\n",
      "DoLP time:  0.03697800636291504 s\n",
      "im_DOLP shape is :  (1024, 1224)\n",
      "Time for DOLP2Theta conversion is :  22.19120693206787 seconds\n",
      "False\n",
      "AoLP time:  0.05396890640258789 s\n"
     ]
    },
    {
     "name": "stderr",
     "output_type": "stream",
     "text": [
      "\n",
      " 45%|████████████████████████████████████▎                                           | 102/225 [38:30<46:44, 22.80s/it]"
     ]
    },
    {
     "name": "stdout",
     "output_type": "stream",
     "text": [
      "Processing data for material : WATER\n",
      "image_data shape is :  (2048, 2448)\n",
      "im90 shape is :  (1024, 1224)\n",
      "Stokes time:  0.025985002517700195 s\n",
      "im_stokes0 shape is :  (1024, 1224)\n",
      "DoLP time:  0.0379786491394043 s\n",
      "im_DOLP shape is :  (1024, 1224)\n",
      "Time for DOLP2Theta conversion is :  21.790438890457153 seconds\n",
      "False\n",
      "AoLP time:  0.04097604751586914 s\n"
     ]
    },
    {
     "name": "stderr",
     "output_type": "stream",
     "text": [
      "\n",
      " 46%|████████████████████████████████████▌                                           | 103/225 [38:52<46:08, 22.69s/it]"
     ]
    },
    {
     "name": "stdout",
     "output_type": "stream",
     "text": [
      "Processing data for material : WATER\n",
      "image_data shape is :  (2048, 2448)\n",
      "im90 shape is :  (1024, 1224)\n",
      "Stokes time:  0.02698516845703125 s\n",
      "im_stokes0 shape is :  (1024, 1224)\n",
      "DoLP time:  0.03297924995422363 s\n",
      "im_DOLP shape is :  (1024, 1224)\n",
      "Time for DOLP2Theta conversion is :  21.467623949050903 seconds\n",
      "False\n",
      "AoLP time:  0.043973684310913086 s\n"
     ]
    },
    {
     "name": "stderr",
     "output_type": "stream",
     "text": [
      "\n",
      " 46%|████████████████████████████████████▉                                           | 104/225 [39:14<45:23, 22.51s/it]"
     ]
    },
    {
     "name": "stdout",
     "output_type": "stream",
     "text": [
      "Processing data for material : WATER\n",
      "image_data shape is :  (2048, 2448)\n",
      "im90 shape is :  (1024, 1224)\n",
      "Stokes time:  0.026984453201293945 s\n",
      "im_stokes0 shape is :  (1024, 1224)\n",
      "DoLP time:  0.03397965431213379 s\n",
      "im_DOLP shape is :  (1024, 1224)\n",
      "Time for DOLP2Theta conversion is :  21.88140559196472 seconds\n",
      "False\n",
      "AoLP time:  0.041974782943725586 s\n"
     ]
    },
    {
     "name": "stderr",
     "output_type": "stream",
     "text": [
      "\n",
      " 47%|█████████████████████████████████████▎                                          | 105/225 [39:37<45:01, 22.51s/it]"
     ]
    },
    {
     "name": "stdout",
     "output_type": "stream",
     "text": [
      "Processing data for material : WATER\n",
      "image_data shape is :  (2048, 2448)\n",
      "im90 shape is :  (1024, 1224)\n",
      "Stokes time:  0.023985624313354492 s\n",
      "im_stokes0 shape is :  (1024, 1224)\n",
      "DoLP time:  0.033978939056396484 s\n",
      "im_DOLP shape is :  (1024, 1224)\n",
      "Time for DOLP2Theta conversion is :  20.95092272758484 seconds\n",
      "False\n",
      "AoLP time:  0.039975643157958984 s\n"
     ]
    },
    {
     "name": "stderr",
     "output_type": "stream",
     "text": [
      "\n",
      " 47%|█████████████████████████████████████▋                                          | 106/225 [39:58<44:05, 22.23s/it]"
     ]
    },
    {
     "name": "stdout",
     "output_type": "stream",
     "text": [
      "Processing data for material : WATER\n",
      "image_data shape is :  (2048, 2448)\n",
      "im90 shape is :  (1024, 1224)\n",
      "Stokes time:  0.022988080978393555 s\n",
      "im_stokes0 shape is :  (1024, 1224)\n",
      "DoLP time:  0.030982017517089844 s\n",
      "im_DOLP shape is :  (1024, 1224)\n",
      "Time for DOLP2Theta conversion is :  21.14780902862549 seconds\n",
      "False\n",
      "AoLP time:  0.04097580909729004 s\n"
     ]
    },
    {
     "name": "stderr",
     "output_type": "stream",
     "text": [
      "\n",
      " 48%|██████████████████████████████████████                                          | 107/225 [40:20<43:27, 22.09s/it]"
     ]
    },
    {
     "name": "stdout",
     "output_type": "stream",
     "text": [
      "Processing data for material : WATER\n",
      "image_data shape is :  (2048, 2448)\n",
      "im90 shape is :  (1024, 1224)\n",
      "Stokes time:  0.02598404884338379 s\n",
      "im_stokes0 shape is :  (1024, 1224)\n",
      "DoLP time:  0.033979177474975586 s\n",
      "im_DOLP shape is :  (1024, 1224)\n",
      "Time for DOLP2Theta conversion is :  21.764452934265137 seconds\n",
      "False\n",
      "AoLP time:  0.044973134994506836 s\n"
     ]
    },
    {
     "name": "stderr",
     "output_type": "stream",
     "text": [
      "\n",
      " 48%|██████████████████████████████████████▍                                         | 108/225 [40:42<43:15, 22.19s/it]"
     ]
    },
    {
     "name": "stdout",
     "output_type": "stream",
     "text": [
      "Processing data for material : WATER\n",
      "image_data shape is :  (2048, 2448)\n",
      "im90 shape is :  (1024, 1224)\n",
      "Stokes time:  0.02698373794555664 s\n",
      "im_stokes0 shape is :  (1024, 1224)\n",
      "DoLP time:  0.03497910499572754 s\n",
      "im_DOLP shape is :  (1024, 1224)\n",
      "Time for DOLP2Theta conversion is :  21.868393182754517 seconds\n",
      "False\n",
      "AoLP time:  0.04697251319885254 s\n"
     ]
    },
    {
     "name": "stderr",
     "output_type": "stream",
     "text": [
      "\n",
      " 48%|██████████████████████████████████████▊                                         | 109/225 [41:05<43:04, 22.28s/it]"
     ]
    },
    {
     "name": "stdout",
     "output_type": "stream",
     "text": [
      "Processing data for material : WATER\n",
      "image_data shape is :  (2048, 2448)\n",
      "im90 shape is :  (1024, 1224)\n",
      "Stokes time:  0.027983903884887695 s\n",
      "im_stokes0 shape is :  (1024, 1224)\n",
      "DoLP time:  0.03797745704650879 s\n",
      "im_DOLP shape is :  (1024, 1224)\n",
      "Time for DOLP2Theta conversion is :  22.003315448760986 seconds\n",
      "False\n",
      "AoLP time:  0.042973995208740234 s\n"
     ]
    },
    {
     "name": "stderr",
     "output_type": "stream",
     "text": [
      "\n",
      " 49%|███████████████████████████████████████                                         | 110/225 [41:28<42:55, 22.40s/it]"
     ]
    },
    {
     "name": "stdout",
     "output_type": "stream",
     "text": [
      "Processing data for material : WATER\n",
      "image_data shape is :  (2048, 2448)\n",
      "im90 shape is :  (1024, 1224)\n",
      "Stokes time:  0.0279843807220459 s\n",
      "im_stokes0 shape is :  (1024, 1224)\n",
      "DoLP time:  0.038977622985839844 s\n",
      "im_DOLP shape is :  (1024, 1224)\n",
      "Time for DOLP2Theta conversion is :  21.896377325057983 seconds\n",
      "False\n",
      "AoLP time:  0.04497265815734863 s\n"
     ]
    },
    {
     "name": "stderr",
     "output_type": "stream",
     "text": [
      "\n",
      " 49%|███████████████████████████████████████▍                                        | 111/225 [41:50<42:39, 22.46s/it]"
     ]
    },
    {
     "name": "stdout",
     "output_type": "stream",
     "text": [
      "Processing data for material : WATER\n",
      "image_data shape is :  (2048, 2448)\n",
      "im90 shape is :  (1024, 1224)\n",
      "Stokes time:  0.027983427047729492 s\n",
      "im_stokes0 shape is :  (1024, 1224)\n",
      "DoLP time:  0.03597903251647949 s\n",
      "im_DOLP shape is :  (1024, 1224)\n",
      "Time for DOLP2Theta conversion is :  22.014309644699097 seconds\n",
      "False\n",
      "AoLP time:  0.04097604751586914 s\n"
     ]
    },
    {
     "name": "stderr",
     "output_type": "stream",
     "text": [
      "\n",
      " 50%|███████████████████████████████████████▊                                        | 112/225 [42:13<42:25, 22.53s/it]"
     ]
    },
    {
     "name": "stdout",
     "output_type": "stream",
     "text": [
      "Processing data for material : WATER\n",
      "image_data shape is :  (2048, 2448)\n",
      "im90 shape is :  (1024, 1224)\n",
      "Stokes time:  0.02398514747619629 s\n",
      "im_stokes0 shape is :  (1024, 1224)\n",
      "DoLP time:  0.037976980209350586 s\n",
      "im_DOLP shape is :  (1024, 1224)\n",
      "Time for DOLP2Theta conversion is :  21.67750358581543 seconds\n",
      "False\n",
      "AoLP time:  0.05296826362609863 s\n"
     ]
    },
    {
     "name": "stderr",
     "output_type": "stream",
     "text": [
      "\n",
      " 50%|████████████████████████████████████████▏                                       | 113/225 [42:35<41:56, 22.47s/it]"
     ]
    },
    {
     "name": "stdout",
     "output_type": "stream",
     "text": [
      "Processing data for material : WATER\n",
      "image_data shape is :  (2048, 2448)\n",
      "im90 shape is :  (1024, 1224)\n",
      "Stokes time:  0.023984670639038086 s\n",
      "im_stokes0 shape is :  (1024, 1224)\n",
      "DoLP time:  0.03198122978210449 s\n",
      "im_DOLP shape is :  (1024, 1224)\n",
      "Time for DOLP2Theta conversion is :  21.52561092376709 seconds\n",
      "False\n",
      "AoLP time:  0.04797244071960449 s\n"
     ]
    },
    {
     "name": "stderr",
     "output_type": "stream",
     "text": [
      "\n",
      " 51%|████████████████████████████████████████▌                                       | 114/225 [42:57<41:24, 22.38s/it]"
     ]
    },
    {
     "name": "stdout",
     "output_type": "stream",
     "text": [
      "Processing data for material : WATER\n",
      "image_data shape is :  (2048, 2448)\n",
      "im90 shape is :  (1024, 1224)\n",
      "Stokes time:  0.026986122131347656 s\n",
      "im_stokes0 shape is :  (1024, 1224)\n",
      "DoLP time:  0.03497886657714844 s\n",
      "im_DOLP shape is :  (1024, 1224)\n",
      "Time for DOLP2Theta conversion is :  21.12382459640503 seconds\n",
      "False\n",
      "AoLP time:  0.04297494888305664 s\n"
     ]
    },
    {
     "name": "stderr",
     "output_type": "stream",
     "text": [
      "\n",
      " 51%|████████████████████████████████████████▉                                       | 115/225 [43:19<40:41, 22.20s/it]"
     ]
    },
    {
     "name": "stdout",
     "output_type": "stream",
     "text": [
      "Processing data for material : WATER\n",
      "image_data shape is :  (2048, 2448)\n",
      "im90 shape is :  (1024, 1224)\n",
      "Stokes time:  0.025983810424804688 s\n",
      "im_stokes0 shape is :  (1024, 1224)\n",
      "DoLP time:  0.03497910499572754 s\n",
      "im_DOLP shape is :  (1024, 1224)\n",
      "Time for DOLP2Theta conversion is :  20.970929384231567 seconds\n",
      "False\n",
      "AoLP time:  0.04097557067871094 s\n"
     ]
    },
    {
     "name": "stderr",
     "output_type": "stream",
     "text": [
      "\n",
      " 52%|█████████████████████████████████████████▏                                      | 116/225 [43:41<39:59, 22.02s/it]"
     ]
    },
    {
     "name": "stdout",
     "output_type": "stream",
     "text": [
      "Processing data for material : WATER\n",
      "image_data shape is :  (2048, 2448)\n",
      "im90 shape is :  (1024, 1224)\n",
      "Stokes time:  0.026984214782714844 s\n",
      "im_stokes0 shape is :  (1024, 1224)\n",
      "DoLP time:  0.03597879409790039 s\n",
      "im_DOLP shape is :  (1024, 1224)\n",
      "Time for DOLP2Theta conversion is :  20.937929153442383 seconds\n",
      "False\n",
      "AoLP time:  0.05496716499328613 s\n"
     ]
    },
    {
     "name": "stderr",
     "output_type": "stream",
     "text": [
      "\n",
      " 52%|█████████████████████████████████████████▌                                      | 117/225 [44:02<39:23, 21.89s/it]"
     ]
    },
    {
     "name": "stdout",
     "output_type": "stream",
     "text": [
      "Processing data for material : WATER\n",
      "image_data shape is :  (2048, 2448)\n",
      "im90 shape is :  (1024, 1224)\n",
      "Stokes time:  0.027970552444458008 s\n",
      "im_stokes0 shape is :  (1024, 1224)\n",
      "DoLP time:  0.03797769546508789 s\n",
      "im_DOLP shape is :  (1024, 1224)\n",
      "Time for DOLP2Theta conversion is :  22.28215503692627 seconds\n",
      "False\n",
      "AoLP time:  0.042974233627319336 s\n"
     ]
    },
    {
     "name": "stderr",
     "output_type": "stream",
     "text": [
      "\n",
      " 52%|█████████████████████████████████████████▉                                      | 118/225 [44:25<39:36, 22.21s/it]"
     ]
    },
    {
     "name": "stdout",
     "output_type": "stream",
     "text": [
      "Processing data for material : WATER\n",
      "image_data shape is :  (2048, 2448)\n",
      "im90 shape is :  (1024, 1224)\n",
      "Stokes time:  0.024985790252685547 s\n",
      "im_stokes0 shape is :  (1024, 1224)\n",
      "DoLP time:  0.03697824478149414 s\n",
      "im_DOLP shape is :  (1024, 1224)\n",
      "Time for DOLP2Theta conversion is :  22.286152839660645 seconds\n",
      "False\n",
      "AoLP time:  0.045974016189575195 s\n"
     ]
    },
    {
     "name": "stderr",
     "output_type": "stream",
     "text": [
      "\n",
      " 53%|██████████████████████████████████████████▎                                     | 119/225 [44:48<39:37, 22.43s/it]"
     ]
    },
    {
     "name": "stdout",
     "output_type": "stream",
     "text": [
      "Processing data for material : WATER\n",
      "image_data shape is :  (2048, 2448)\n",
      "im90 shape is :  (1024, 1224)\n",
      "Stokes time:  0.02598428726196289 s\n",
      "im_stokes0 shape is :  (1024, 1224)\n",
      "DoLP time:  0.0379786491394043 s\n",
      "im_DOLP shape is :  (1024, 1224)\n",
      "Time for DOLP2Theta conversion is :  22.327144384384155 seconds\n",
      "False\n",
      "AoLP time:  0.04397225379943848 s\n"
     ]
    },
    {
     "name": "stderr",
     "output_type": "stream",
     "text": [
      "\n",
      " 53%|██████████████████████████████████████████▋                                     | 120/225 [45:11<39:33, 22.61s/it]"
     ]
    },
    {
     "name": "stdout",
     "output_type": "stream",
     "text": [
      "Processing data for material : WATER\n",
      "image_data shape is :  (2048, 2448)\n",
      "im90 shape is :  (1024, 1224)\n",
      "Stokes time:  0.026984453201293945 s\n",
      "im_stokes0 shape is :  (1024, 1224)\n",
      "DoLP time:  0.03597855567932129 s\n",
      "im_DOLP shape is :  (1024, 1224)\n",
      "Time for DOLP2Theta conversion is :  21.822418928146362 seconds\n",
      "False\n",
      "AoLP time:  0.04697251319885254 s\n"
     ]
    },
    {
     "name": "stderr",
     "output_type": "stream",
     "text": [
      "\n",
      " 54%|███████████████████████████████████████████                                     | 121/225 [45:34<39:08, 22.58s/it]"
     ]
    },
    {
     "name": "stdout",
     "output_type": "stream",
     "text": [
      "Processing data for material : WATER\n",
      "image_data shape is :  (2048, 2448)\n",
      "im90 shape is :  (1024, 1224)\n",
      "Stokes time:  0.03098130226135254 s\n",
      "im_stokes0 shape is :  (1024, 1224)\n",
      "DoLP time:  0.03797769546508789 s\n",
      "im_DOLP shape is :  (1024, 1224)\n",
      "Time for DOLP2Theta conversion is :  21.921363353729248 seconds\n",
      "False\n",
      "AoLP time:  0.0419774055480957 s\n"
     ]
    },
    {
     "name": "stderr",
     "output_type": "stream",
     "text": [
      "\n",
      " 54%|███████████████████████████████████████████▍                                    | 122/225 [45:56<38:46, 22.58s/it]"
     ]
    },
    {
     "name": "stdout",
     "output_type": "stream",
     "text": [
      "Processing data for material : WATER\n",
      "image_data shape is :  (2048, 2448)\n",
      "im90 shape is :  (1024, 1224)\n",
      "Stokes time:  0.02698493003845215 s\n",
      "im_stokes0 shape is :  (1024, 1224)\n",
      "DoLP time:  0.03297996520996094 s\n",
      "im_DOLP shape is :  (1024, 1224)\n",
      "Time for DOLP2Theta conversion is :  22.195205450057983 seconds\n",
      "False\n",
      "AoLP time:  0.04497337341308594 s\n"
     ]
    },
    {
     "name": "stderr",
     "output_type": "stream",
     "text": [
      "\n",
      " 55%|███████████████████████████████████████████▋                                    | 123/225 [46:19<38:31, 22.67s/it]"
     ]
    },
    {
     "name": "stdout",
     "output_type": "stream",
     "text": [
      "Processing data for material : WATER\n",
      "image_data shape is :  (2048, 2448)\n",
      "im90 shape is :  (1024, 1224)\n",
      "Stokes time:  0.026982784271240234 s\n",
      "im_stokes0 shape is :  (1024, 1224)\n",
      "DoLP time:  0.03497934341430664 s\n",
      "im_DOLP shape is :  (1024, 1224)\n",
      "Time for DOLP2Theta conversion is :  21.891380786895752 seconds\n",
      "False\n",
      "AoLP time:  0.042975664138793945 s\n"
     ]
    },
    {
     "name": "stderr",
     "output_type": "stream",
     "text": [
      "\n",
      " 55%|████████████████████████████████████████████                                    | 124/225 [46:42<38:06, 22.63s/it]"
     ]
    },
    {
     "name": "stdout",
     "output_type": "stream",
     "text": [
      "Processing data for material : WATER\n",
      "image_data shape is :  (2048, 2448)\n",
      "im90 shape is :  (1024, 1224)\n",
      "Stokes time:  0.026983976364135742 s\n",
      "im_stokes0 shape is :  (1024, 1224)\n",
      "DoLP time:  0.03697848320007324 s\n",
      "im_DOLP shape is :  (1024, 1224)\n",
      "Time for DOLP2Theta conversion is :  21.327728271484375 seconds\n",
      "False\n",
      "AoLP time:  0.04097723960876465 s\n"
     ]
    },
    {
     "name": "stderr",
     "output_type": "stream",
     "text": [
      "\n",
      " 56%|████████████████████████████████████████████▍                                   | 125/225 [47:04<37:23, 22.43s/it]"
     ]
    },
    {
     "name": "stdout",
     "output_type": "stream",
     "text": [
      "Processing data for material : WATER\n",
      "image_data shape is :  (2048, 2448)\n",
      "im90 shape is :  (1024, 1224)\n",
      "Stokes time:  0.02598404884338379 s\n",
      "im_stokes0 shape is :  (1024, 1224)\n",
      "DoLP time:  0.03298068046569824 s\n",
      "im_DOLP shape is :  (1024, 1224)\n",
      "Time for DOLP2Theta conversion is :  20.794012308120728 seconds\n",
      "False\n",
      "AoLP time:  0.04097485542297363 s\n"
     ]
    },
    {
     "name": "stderr",
     "output_type": "stream",
     "text": [
      "\n",
      " 56%|████████████████████████████████████████████▊                                   | 126/225 [47:25<36:31, 22.13s/it]"
     ]
    },
    {
     "name": "stdout",
     "output_type": "stream",
     "text": [
      "Processing data for material : WATER\n",
      "image_data shape is :  (2048, 2448)\n",
      "im90 shape is :  (1024, 1224)\n",
      "Stokes time:  0.02498483657836914 s\n",
      "im_stokes0 shape is :  (1024, 1224)\n",
      "DoLP time:  0.034978628158569336 s\n",
      "im_DOLP shape is :  (1024, 1224)\n",
      "Time for DOLP2Theta conversion is :  22.503026962280273 seconds\n",
      "False\n",
      "AoLP time:  0.04397439956665039 s\n"
     ]
    },
    {
     "name": "stderr",
     "output_type": "stream",
     "text": [
      "\n",
      " 56%|█████████████████████████████████████████████▏                                  | 127/225 [47:48<36:39, 22.44s/it]"
     ]
    },
    {
     "name": "stdout",
     "output_type": "stream",
     "text": [
      "Processing data for material : WATER\n",
      "image_data shape is :  (2048, 2448)\n",
      "im90 shape is :  (1024, 1224)\n",
      "Stokes time:  0.025985002517700195 s\n",
      "im_stokes0 shape is :  (1024, 1224)\n",
      "DoLP time:  0.03298020362854004 s\n",
      "im_DOLP shape is :  (1024, 1224)\n",
      "Time for DOLP2Theta conversion is :  21.923361778259277 seconds\n",
      "False\n",
      "AoLP time:  0.04097604751586914 s\n"
     ]
    },
    {
     "name": "stderr",
     "output_type": "stream",
     "text": [
      "\n",
      " 57%|█████████████████████████████████████████████▌                                  | 128/225 [48:11<36:20, 22.48s/it]"
     ]
    },
    {
     "name": "stdout",
     "output_type": "stream",
     "text": [
      "Processing data for material : WATER\n",
      "image_data shape is :  (2048, 2448)\n",
      "im90 shape is :  (1024, 1224)\n",
      "Stokes time:  0.025983810424804688 s\n",
      "im_stokes0 shape is :  (1024, 1224)\n",
      "DoLP time:  0.036977529525756836 s\n",
      "im_DOLP shape is :  (1024, 1224)\n",
      "Time for DOLP2Theta conversion is :  22.43506622314453 seconds\n",
      "False\n",
      "AoLP time:  0.0539698600769043 s\n"
     ]
    },
    {
     "name": "stderr",
     "output_type": "stream",
     "text": [
      "\n",
      " 57%|█████████████████████████████████████████████▊                                  | 129/225 [48:34<36:15, 22.67s/it]"
     ]
    },
    {
     "name": "stdout",
     "output_type": "stream",
     "text": [
      "Processing data for material : WATER\n",
      "image_data shape is :  (2048, 2448)\n",
      "im90 shape is :  (1024, 1224)\n",
      "Stokes time:  0.024985313415527344 s\n",
      "im_stokes0 shape is :  (1024, 1224)\n",
      "DoLP time:  0.03298068046569824 s\n",
      "im_DOLP shape is :  (1024, 1224)\n",
      "Time for DOLP2Theta conversion is :  22.568989515304565 seconds\n",
      "False\n",
      "AoLP time:  0.04197549819946289 s\n"
     ]
    },
    {
     "name": "stderr",
     "output_type": "stream",
     "text": [
      "\n",
      " 58%|██████████████████████████████████████████████▏                                 | 130/225 [48:57<36:09, 22.84s/it]"
     ]
    },
    {
     "name": "stdout",
     "output_type": "stream",
     "text": [
      "Processing data for material : WATER\n",
      "image_data shape is :  (2048, 2448)\n",
      "im90 shape is :  (1024, 1224)\n",
      "Stokes time:  0.02598428726196289 s\n",
      "im_stokes0 shape is :  (1024, 1224)\n",
      "DoLP time:  0.033980369567871094 s\n",
      "im_DOLP shape is :  (1024, 1224)\n",
      "Time for DOLP2Theta conversion is :  22.67193031311035 seconds\n",
      "False\n",
      "AoLP time:  0.039977073669433594 s\n"
     ]
    },
    {
     "name": "stderr",
     "output_type": "stream",
     "text": [
      "\n",
      " 58%|██████████████████████████████████████████████▌                                 | 131/225 [49:21<36:00, 22.98s/it]"
     ]
    },
    {
     "name": "stdout",
     "output_type": "stream",
     "text": [
      "Processing data for material : WATER\n",
      "image_data shape is :  (2048, 2448)\n",
      "im90 shape is :  (1024, 1224)\n",
      "Stokes time:  0.025984764099121094 s\n",
      "im_stokes0 shape is :  (1024, 1224)\n",
      "DoLP time:  0.03397965431213379 s\n",
      "im_DOLP shape is :  (1024, 1224)\n",
      "Time for DOLP2Theta conversion is :  21.52460026741028 seconds\n",
      "False\n",
      "AoLP time:  0.048970937728881836 s\n"
     ]
    },
    {
     "name": "stderr",
     "output_type": "stream",
     "text": [
      "\n",
      " 59%|██████████████████████████████████████████████▉                                 | 132/225 [49:43<35:15, 22.75s/it]"
     ]
    },
    {
     "name": "stdout",
     "output_type": "stream",
     "text": [
      "Processing data for material : WATER\n",
      "image_data shape is :  (2048, 2448)\n",
      "im90 shape is :  (1024, 1224)\n",
      "Stokes time:  0.02698373794555664 s\n",
      "im_stokes0 shape is :  (1024, 1224)\n",
      "DoLP time:  0.035978078842163086 s\n",
      "im_DOLP shape is :  (1024, 1224)\n",
      "Time for DOLP2Theta conversion is :  22.087285041809082 seconds\n",
      "False\n",
      "AoLP time:  0.042975425720214844 s\n"
     ]
    },
    {
     "name": "stderr",
     "output_type": "stream",
     "text": [
      "\n",
      " 59%|███████████████████████████████████████████████▎                                | 133/225 [50:06<34:55, 22.78s/it]"
     ]
    },
    {
     "name": "stdout",
     "output_type": "stream",
     "text": [
      "Processing data for material : WATER\n",
      "image_data shape is :  (2048, 2448)\n",
      "im90 shape is :  (1024, 1224)\n",
      "Stokes time:  0.02698349952697754 s\n",
      "im_stokes0 shape is :  (1024, 1224)\n",
      "DoLP time:  0.03497886657714844 s\n",
      "im_DOLP shape is :  (1024, 1224)\n",
      "Time for DOLP2Theta conversion is :  21.59455108642578 seconds\n",
      "False\n",
      "AoLP time:  0.04097580909729004 s\n"
     ]
    },
    {
     "name": "stderr",
     "output_type": "stream",
     "text": [
      "\n",
      " 60%|███████████████████████████████████████████████▋                                | 134/225 [50:28<34:18, 22.62s/it]"
     ]
    },
    {
     "name": "stdout",
     "output_type": "stream",
     "text": [
      "Processing data for material : WATER\n",
      "image_data shape is :  (2048, 2448)\n",
      "im90 shape is :  (1024, 1224)\n",
      "Stokes time:  0.025985240936279297 s\n",
      "im_stokes0 shape is :  (1024, 1224)\n",
      "DoLP time:  0.03997635841369629 s\n",
      "im_DOLP shape is :  (1024, 1224)\n",
      "Time for DOLP2Theta conversion is :  20.86097288131714 seconds\n",
      "False\n",
      "AoLP time:  0.03997659683227539 s\n"
     ]
    },
    {
     "name": "stderr",
     "output_type": "stream",
     "text": [
      "\n",
      " 60%|████████████████████████████████████████████████                                | 135/225 [50:49<33:25, 22.28s/it]"
     ]
    },
    {
     "name": "stdout",
     "output_type": "stream",
     "text": [
      "Processing data for material : WATER\n",
      "image_data shape is :  (2048, 2448)\n",
      "im90 shape is :  (1024, 1224)\n",
      "Stokes time:  0.026983976364135742 s\n",
      "im_stokes0 shape is :  (1024, 1224)\n",
      "DoLP time:  0.03397965431213379 s\n",
      "im_DOLP shape is :  (1024, 1224)\n",
      "Time for DOLP2Theta conversion is :  22.247175216674805 seconds\n",
      "False\n",
      "AoLP time:  0.041975975036621094 s\n"
     ]
    },
    {
     "name": "stderr",
     "output_type": "stream",
     "text": [
      "\n",
      " 60%|████████████████████████████████████████████████▎                               | 136/225 [51:12<33:19, 22.47s/it]"
     ]
    },
    {
     "name": "stdout",
     "output_type": "stream",
     "text": [
      "Processing data for material : WATER\n",
      "image_data shape is :  (2048, 2448)\n",
      "im90 shape is :  (1024, 1224)\n",
      "Stokes time:  0.02398538589477539 s\n",
      "im_stokes0 shape is :  (1024, 1224)\n",
      "DoLP time:  0.03098297119140625 s\n",
      "im_DOLP shape is :  (1024, 1224)\n",
      "Time for DOLP2Theta conversion is :  22.70191216468811 seconds\n",
      "False\n",
      "AoLP time:  0.044974327087402344 s\n"
     ]
    },
    {
     "name": "stderr",
     "output_type": "stream",
     "text": [
      "\n",
      " 61%|████████████████████████████████████████████████▋                               | 137/225 [51:36<33:20, 22.73s/it]"
     ]
    },
    {
     "name": "stdout",
     "output_type": "stream",
     "text": [
      "Processing data for material : WATER\n",
      "image_data shape is :  (2048, 2448)\n",
      "im90 shape is :  (1024, 1224)\n",
      "Stokes time:  0.025984525680541992 s\n",
      "im_stokes0 shape is :  (1024, 1224)\n",
      "DoLP time:  0.03597855567932129 s\n",
      "im_DOLP shape is :  (1024, 1224)\n",
      "Time for DOLP2Theta conversion is :  22.08826994895935 seconds\n",
      "False\n",
      "AoLP time:  0.04097628593444824 s\n"
     ]
    },
    {
     "name": "stderr",
     "output_type": "stream",
     "text": [
      "\n",
      " 61%|█████████████████████████████████████████████████                               | 138/225 [51:58<32:58, 22.74s/it]"
     ]
    },
    {
     "name": "stdout",
     "output_type": "stream",
     "text": [
      "Processing data for material : WATER\n",
      "image_data shape is :  (2048, 2448)\n",
      "im90 shape is :  (1024, 1224)\n",
      "Stokes time:  0.026984453201293945 s\n",
      "im_stokes0 shape is :  (1024, 1224)\n",
      "DoLP time:  0.032980918884277344 s\n",
      "im_DOLP shape is :  (1024, 1224)\n",
      "Time for DOLP2Theta conversion is :  22.36310863494873 seconds\n",
      "False\n",
      "AoLP time:  0.04997062683105469 s\n"
     ]
    },
    {
     "name": "stderr",
     "output_type": "stream",
     "text": [
      "\n",
      " 62%|█████████████████████████████████████████████████▍                              | 139/225 [52:22<32:43, 22.83s/it]"
     ]
    },
    {
     "name": "stdout",
     "output_type": "stream",
     "text": [
      "Processing data for material : WATER\n",
      "image_data shape is :  (2048, 2448)\n",
      "im90 shape is :  (1024, 1224)\n",
      "Stokes time:  0.024985313415527344 s\n",
      "im_stokes0 shape is :  (1024, 1224)\n",
      "DoLP time:  0.03398013114929199 s\n",
      "im_DOLP shape is :  (1024, 1224)\n",
      "Time for DOLP2Theta conversion is :  23.367530584335327 seconds\n",
      "False\n",
      "AoLP time:  0.04497361183166504 s\n"
     ]
    },
    {
     "name": "stderr",
     "output_type": "stream",
     "text": [
      "\n",
      " 62%|█████████████████████████████████████████████████▊                              | 140/225 [52:46<32:51, 23.19s/it]"
     ]
    },
    {
     "name": "stdout",
     "output_type": "stream",
     "text": [
      "Processing data for material : WATER\n",
      "image_data shape is :  (2048, 2448)\n",
      "im90 shape is :  (1024, 1224)\n",
      "Stokes time:  0.024985551834106445 s\n",
      "im_stokes0 shape is :  (1024, 1224)\n",
      "DoLP time:  0.03597831726074219 s\n",
      "im_DOLP shape is :  (1024, 1224)\n",
      "Time for DOLP2Theta conversion is :  22.39508867263794 seconds\n",
      "False\n",
      "AoLP time:  0.042973995208740234 s\n"
     ]
    },
    {
     "name": "stderr",
     "output_type": "stream",
     "text": [
      "\n",
      " 63%|██████████████████████████████████████████████████▏                             | 141/225 [53:09<32:24, 23.15s/it]"
     ]
    },
    {
     "name": "stdout",
     "output_type": "stream",
     "text": [
      "Processing data for material : WATER\n",
      "image_data shape is :  (2048, 2448)\n",
      "im90 shape is :  (1024, 1224)\n",
      "Stokes time:  0.024985313415527344 s\n",
      "im_stokes0 shape is :  (1024, 1224)\n",
      "DoLP time:  0.03497958183288574 s\n",
      "im_DOLP shape is :  (1024, 1224)\n",
      "Time for DOLP2Theta conversion is :  21.638525247573853 seconds\n",
      "False\n",
      "AoLP time:  0.04097485542297363 s\n"
     ]
    },
    {
     "name": "stderr",
     "output_type": "stream",
     "text": [
      "\n",
      " 63%|██████████████████████████████████████████████████▍                             | 142/225 [53:31<31:39, 22.89s/it]"
     ]
    },
    {
     "name": "stdout",
     "output_type": "stream",
     "text": [
      "Processing data for material : WATER\n",
      "image_data shape is :  (2048, 2448)\n",
      "im90 shape is :  (1024, 1224)\n",
      "Stokes time:  0.025983572006225586 s\n",
      "im_stokes0 shape is :  (1024, 1224)\n",
      "DoLP time:  0.034978628158569336 s\n",
      "im_DOLP shape is :  (1024, 1224)\n",
      "Time for DOLP2Theta conversion is :  21.024880170822144 seconds\n",
      "False\n",
      "AoLP time:  0.03898048400878906 s\n"
     ]
    },
    {
     "name": "stderr",
     "output_type": "stream",
     "text": [
      "\n",
      " 64%|██████████████████████████████████████████████████▊                             | 143/225 [53:53<30:46, 22.52s/it]"
     ]
    },
    {
     "name": "stdout",
     "output_type": "stream",
     "text": [
      "Processing data for material : WATER\n",
      "image_data shape is :  (2048, 2448)\n",
      "im90 shape is :  (1024, 1224)\n",
      "Stokes time:  0.023986101150512695 s\n",
      "im_stokes0 shape is :  (1024, 1224)\n",
      "DoLP time:  0.03198099136352539 s\n",
      "im_DOLP shape is :  (1024, 1224)\n",
      "Time for DOLP2Theta conversion is :  22.511022567749023 seconds\n",
      "False\n",
      "AoLP time:  0.04097628593444824 s\n"
     ]
    },
    {
     "name": "stderr",
     "output_type": "stream",
     "text": [
      "\n",
      " 64%|███████████████████████████████████████████████████▏                            | 144/225 [54:16<30:39, 22.71s/it]"
     ]
    },
    {
     "name": "stdout",
     "output_type": "stream",
     "text": [
      "Processing data for material : WATER\n",
      "image_data shape is :  (2048, 2448)\n",
      "im90 shape is :  (1024, 1224)\n",
      "Stokes time:  0.025985002517700195 s\n",
      "im_stokes0 shape is :  (1024, 1224)\n",
      "DoLP time:  0.03697824478149414 s\n",
      "im_DOLP shape is :  (1024, 1224)\n",
      "Time for DOLP2Theta conversion is :  22.34112310409546 seconds\n",
      "False\n",
      "AoLP time:  0.04197573661804199 s\n"
     ]
    },
    {
     "name": "stderr",
     "output_type": "stream",
     "text": [
      "\n",
      " 64%|███████████████████████████████████████████████████▌                            | 145/225 [54:39<30:23, 22.80s/it]"
     ]
    },
    {
     "name": "stdout",
     "output_type": "stream",
     "text": [
      "Processing data for material : WATER\n",
      "image_data shape is :  (2048, 2448)\n",
      "im90 shape is :  (1024, 1224)\n",
      "Stokes time:  0.02598428726196289 s\n",
      "im_stokes0 shape is :  (1024, 1224)\n",
      "DoLP time:  0.03997659683227539 s\n",
      "im_DOLP shape is :  (1024, 1224)\n",
      "Time for DOLP2Theta conversion is :  22.62495493888855 seconds\n",
      "False\n",
      "AoLP time:  0.04297518730163574 s\n"
     ]
    },
    {
     "name": "stderr",
     "output_type": "stream",
     "text": [
      "\n",
      " 65%|███████████████████████████████████████████████████▉                            | 146/225 [55:02<30:12, 22.95s/it]"
     ]
    },
    {
     "name": "stdout",
     "output_type": "stream",
     "text": [
      "Processing data for material : WATER\n",
      "image_data shape is :  (2048, 2448)\n",
      "im90 shape is :  (1024, 1224)\n",
      "Stokes time:  0.026983976364135742 s\n",
      "im_stokes0 shape is :  (1024, 1224)\n",
      "DoLP time:  0.03298044204711914 s\n",
      "im_DOLP shape is :  (1024, 1224)\n",
      "Time for DOLP2Theta conversion is :  22.102259159088135 seconds\n",
      "False\n",
      "AoLP time:  0.04897046089172363 s\n"
     ]
    },
    {
     "name": "stderr",
     "output_type": "stream",
     "text": [
      "\n",
      " 65%|████████████████████████████████████████████████████▎                           | 147/225 [55:25<29:46, 22.90s/it]"
     ]
    },
    {
     "name": "stdout",
     "output_type": "stream",
     "text": [
      "Processing data for material : WATER\n",
      "image_data shape is :  (2048, 2448)\n",
      "im90 shape is :  (1024, 1224)\n",
      "Stokes time:  0.02598428726196289 s\n",
      "im_stokes0 shape is :  (1024, 1224)\n",
      "DoLP time:  0.03497910499572754 s\n",
      "im_DOLP shape is :  (1024, 1224)\n",
      "Time for DOLP2Theta conversion is :  23.24859929084778 seconds\n",
      "False\n",
      "AoLP time:  0.04097485542297363 s\n"
     ]
    },
    {
     "name": "stderr",
     "output_type": "stream",
     "text": [
      "\n",
      " 66%|████████████████████████████████████████████████████▌                           | 148/225 [55:49<29:46, 23.20s/it]"
     ]
    },
    {
     "name": "stdout",
     "output_type": "stream",
     "text": [
      "Processing data for material : WATER\n",
      "image_data shape is :  (2048, 2448)\n",
      "im90 shape is :  (1024, 1224)\n",
      "Stokes time:  0.026984453201293945 s\n",
      "im_stokes0 shape is :  (1024, 1224)\n",
      "DoLP time:  0.034978628158569336 s\n",
      "im_DOLP shape is :  (1024, 1224)\n",
      "Time for DOLP2Theta conversion is :  22.556998252868652 seconds\n",
      "False\n",
      "AoLP time:  0.04497241973876953 s\n"
     ]
    },
    {
     "name": "stderr",
     "output_type": "stream",
     "text": [
      "\n",
      " 66%|████████████████████████████████████████████████████▉                           | 149/225 [56:12<29:24, 23.22s/it]"
     ]
    },
    {
     "name": "stdout",
     "output_type": "stream",
     "text": [
      "Processing data for material : WATER\n",
      "image_data shape is :  (2048, 2448)\n",
      "im90 shape is :  (1024, 1224)\n",
      "Stokes time:  0.025983810424804688 s\n",
      "im_stokes0 shape is :  (1024, 1224)\n",
      "DoLP time:  0.038977861404418945 s\n",
      "im_DOLP shape is :  (1024, 1224)\n",
      "Time for DOLP2Theta conversion is :  22.216192960739136 seconds\n",
      "False\n",
      "AoLP time:  0.04597282409667969 s\n"
     ]
    },
    {
     "name": "stderr",
     "output_type": "stream",
     "text": [
      "\n",
      " 67%|█████████████████████████████████████████████████████▎                          | 150/225 [56:35<28:53, 23.12s/it]"
     ]
    },
    {
     "name": "stdout",
     "output_type": "stream",
     "text": [
      "Processing data for material : WATER\n",
      "image_data shape is :  (2048, 2448)\n",
      "im90 shape is :  (1024, 1224)\n",
      "Stokes time:  0.024984121322631836 s\n",
      "im_stokes0 shape is :  (1024, 1224)\n",
      "DoLP time:  0.03697848320007324 s\n",
      "im_DOLP shape is :  (1024, 1224)\n",
      "Time for DOLP2Theta conversion is :  22.505027294158936 seconds\n",
      "False\n",
      "AoLP time:  0.042972564697265625 s\n"
     ]
    },
    {
     "name": "stderr",
     "output_type": "stream",
     "text": [
      "\n",
      " 67%|█████████████████████████████████████████████████████▋                          | 151/225 [56:58<28:31, 23.13s/it]"
     ]
    },
    {
     "name": "stdout",
     "output_type": "stream",
     "text": [
      "Processing data for material : WATER\n",
      "image_data shape is :  (2048, 2448)\n",
      "im90 shape is :  (1024, 1224)\n",
      "Stokes time:  0.023985862731933594 s\n",
      "im_stokes0 shape is :  (1024, 1224)\n",
      "DoLP time:  0.03198075294494629 s\n",
      "im_DOLP shape is :  (1024, 1224)\n",
      "Time for DOLP2Theta conversion is :  21.081852674484253 seconds\n",
      "False\n",
      "AoLP time:  0.04597282409667969 s\n"
     ]
    },
    {
     "name": "stderr",
     "output_type": "stream",
     "text": [
      "\n",
      " 68%|██████████████████████████████████████████████████████                          | 152/225 [57:20<27:37, 22.71s/it]"
     ]
    },
    {
     "name": "stdout",
     "output_type": "stream",
     "text": [
      "Processing data for material : WATER\n",
      "image_data shape is :  (2048, 2448)\n",
      "im90 shape is :  (1024, 1224)\n",
      "Stokes time:  0.02698373794555664 s\n",
      "im_stokes0 shape is :  (1024, 1224)\n",
      "DoLP time:  0.035978078842163086 s\n",
      "im_DOLP shape is :  (1024, 1224)\n",
      "Time for DOLP2Theta conversion is :  22.19520616531372 seconds\n",
      "False\n",
      "AoLP time:  0.04697275161743164 s\n"
     ]
    },
    {
     "name": "stderr",
     "output_type": "stream",
     "text": [
      "\n",
      " 68%|██████████████████████████████████████████████████████▍                         | 153/225 [57:43<27:18, 22.76s/it]"
     ]
    },
    {
     "name": "stdout",
     "output_type": "stream",
     "text": [
      "Processing data for material : WATER\n",
      "image_data shape is :  (2048, 2448)\n",
      "im90 shape is :  (1024, 1224)\n",
      "Stokes time:  0.026984214782714844 s\n",
      "im_stokes0 shape is :  (1024, 1224)\n",
      "DoLP time:  0.036978960037231445 s\n",
      "im_DOLP shape is :  (1024, 1224)\n",
      "Time for DOLP2Theta conversion is :  22.47004795074463 seconds\n",
      "False\n",
      "AoLP time:  0.04097604751586914 s\n"
     ]
    },
    {
     "name": "stderr",
     "output_type": "stream",
     "text": [
      "\n",
      " 68%|██████████████████████████████████████████████████████▊                         | 154/225 [58:06<27:04, 22.88s/it]"
     ]
    },
    {
     "name": "stdout",
     "output_type": "stream",
     "text": [
      "Processing data for material : WATER\n",
      "image_data shape is :  (2048, 2448)\n",
      "im90 shape is :  (1024, 1224)\n",
      "Stokes time:  0.026984214782714844 s\n",
      "im_stokes0 shape is :  (1024, 1224)\n",
      "DoLP time:  0.03298068046569824 s\n",
      "im_DOLP shape is :  (1024, 1224)\n",
      "Time for DOLP2Theta conversion is :  22.279158115386963 seconds\n",
      "False\n",
      "AoLP time:  0.04197549819946289 s\n"
     ]
    },
    {
     "name": "stderr",
     "output_type": "stream",
     "text": [
      "\n",
      " 69%|███████████████████████████████████████████████████████                         | 155/225 [58:29<26:42, 22.90s/it]"
     ]
    },
    {
     "name": "stdout",
     "output_type": "stream",
     "text": [
      "Processing data for material : WATER\n",
      "image_data shape is :  (2048, 2448)\n",
      "im90 shape is :  (1024, 1224)\n",
      "Stokes time:  0.024985074996948242 s\n",
      "im_stokes0 shape is :  (1024, 1224)\n",
      "DoLP time:  0.03497886657714844 s\n",
      "im_DOLP shape is :  (1024, 1224)\n",
      "Time for DOLP2Theta conversion is :  21.696492433547974 seconds\n",
      "False\n",
      "AoLP time:  0.04297471046447754 s\n"
     ]
    },
    {
     "name": "stderr",
     "output_type": "stream",
     "text": [
      "\n",
      " 69%|███████████████████████████████████████████████████████▍                        | 156/225 [58:51<26:08, 22.73s/it]"
     ]
    },
    {
     "name": "stdout",
     "output_type": "stream",
     "text": [
      "Processing data for material : WATER\n",
      "image_data shape is :  (2048, 2448)\n",
      "im90 shape is :  (1024, 1224)\n",
      "Stokes time:  0.024984121322631836 s\n",
      "im_stokes0 shape is :  (1024, 1224)\n",
      "DoLP time:  0.03497910499572754 s\n",
      "im_DOLP shape is :  (1024, 1224)\n",
      "Time for DOLP2Theta conversion is :  22.066279649734497 seconds\n",
      "False\n",
      "AoLP time:  0.046972036361694336 s\n"
     ]
    },
    {
     "name": "stderr",
     "output_type": "stream",
     "text": [
      "\n",
      " 70%|███████████████████████████████████████████████████████▊                        | 157/225 [59:14<25:46, 22.74s/it]"
     ]
    },
    {
     "name": "stdout",
     "output_type": "stream",
     "text": [
      "Processing data for material : WATER\n",
      "image_data shape is :  (2048, 2448)\n",
      "im90 shape is :  (1024, 1224)\n",
      "Stokes time:  0.023986101150512695 s\n",
      "im_stokes0 shape is :  (1024, 1224)\n",
      "DoLP time:  0.03697848320007324 s\n",
      "im_DOLP shape is :  (1024, 1224)\n",
      "Time for DOLP2Theta conversion is :  22.213196992874146 seconds\n",
      "False\n",
      "AoLP time:  0.048970937728881836 s\n"
     ]
    },
    {
     "name": "stderr",
     "output_type": "stream",
     "text": [
      "\n",
      " 70%|████████████████████████████████████████████████████████▏                       | 158/225 [59:37<25:25, 22.77s/it]"
     ]
    },
    {
     "name": "stdout",
     "output_type": "stream",
     "text": [
      "Processing data for material : WATER\n",
      "image_data shape is :  (2048, 2448)\n",
      "im90 shape is :  (1024, 1224)\n",
      "Stokes time:  0.027984142303466797 s\n",
      "im_stokes0 shape is :  (1024, 1224)\n",
      "DoLP time:  0.03198075294494629 s\n",
      "im_DOLP shape is :  (1024, 1224)\n",
      "Time for DOLP2Theta conversion is :  21.853420734405518 seconds\n",
      "False\n",
      "AoLP time:  0.04097700119018555 s\n"
     ]
    },
    {
     "name": "stderr",
     "output_type": "stream",
     "text": [
      "\n",
      " 71%|████████████████████████████████████████████████████████▌                       | 159/225 [59:59<24:57, 22.69s/it]"
     ]
    },
    {
     "name": "stdout",
     "output_type": "stream",
     "text": [
      "Processing data for material : WATER\n",
      "image_data shape is :  (2048, 2448)\n",
      "im90 shape is :  (1024, 1224)\n",
      "Stokes time:  0.02598428726196289 s\n",
      "im_stokes0 shape is :  (1024, 1224)\n",
      "DoLP time:  0.03298187255859375 s\n",
      "im_DOLP shape is :  (1024, 1224)\n",
      "Time for DOLP2Theta conversion is :  21.461631059646606 seconds\n",
      "False\n",
      "AoLP time:  0.051969289779663086 s\n"
     ]
    },
    {
     "name": "stderr",
     "output_type": "stream",
     "text": [
      "\n",
      " 71%|███████████████████████████████████████████████████████▍                      | 160/225 [1:00:21<24:23, 22.52s/it]"
     ]
    },
    {
     "name": "stdout",
     "output_type": "stream",
     "text": [
      "Processing data for material : WATER\n",
      "image_data shape is :  (2048, 2448)\n",
      "im90 shape is :  (1024, 1224)\n",
      "Stokes time:  0.023986101150512695 s\n",
      "im_stokes0 shape is :  (1024, 1224)\n",
      "DoLP time:  0.03497958183288574 s\n",
      "im_DOLP shape is :  (1024, 1224)\n",
      "Time for DOLP2Theta conversion is :  21.47761821746826 seconds\n",
      "False\n",
      "AoLP time:  0.03897738456726074 s\n"
     ]
    },
    {
     "name": "stderr",
     "output_type": "stream",
     "text": [
      "\n",
      " 72%|███████████████████████████████████████████████████████▊                      | 161/225 [1:00:43<23:53, 22.40s/it]"
     ]
    },
    {
     "name": "stdout",
     "output_type": "stream",
     "text": [
      "Processing data for material : WATER\n",
      "image_data shape is :  (2048, 2448)\n",
      "im90 shape is :  (1024, 1224)\n",
      "Stokes time:  0.024985790252685547 s\n",
      "im_stokes0 shape is :  (1024, 1224)\n",
      "DoLP time:  0.034979820251464844 s\n",
      "im_DOLP shape is :  (1024, 1224)\n",
      "Time for DOLP2Theta conversion is :  21.875388622283936 seconds\n",
      "False\n",
      "AoLP time:  0.047971487045288086 s\n"
     ]
    },
    {
     "name": "stderr",
     "output_type": "stream",
     "text": [
      "\n",
      " 72%|████████████████████████████████████████████████████████▏                     | 162/225 [1:01:06<23:34, 22.45s/it]"
     ]
    },
    {
     "name": "stdout",
     "output_type": "stream",
     "text": [
      "Processing data for material : WATER\n",
      "image_data shape is :  (2048, 2448)\n",
      "im90 shape is :  (1024, 1224)\n",
      "Stokes time:  0.024985313415527344 s\n",
      "im_stokes0 shape is :  (1024, 1224)\n",
      "DoLP time:  0.03497958183288574 s\n",
      "im_DOLP shape is :  (1024, 1224)\n",
      "Time for DOLP2Theta conversion is :  22.747886657714844 seconds\n",
      "False\n",
      "AoLP time:  0.05496573448181152 s\n"
     ]
    },
    {
     "name": "stderr",
     "output_type": "stream",
     "text": [
      "\n",
      " 72%|████████████████████████████████████████████████████████▌                     | 163/225 [1:01:29<23:29, 22.74s/it]"
     ]
    },
    {
     "name": "stdout",
     "output_type": "stream",
     "text": [
      "Processing data for material : WATER\n",
      "image_data shape is :  (2048, 2448)\n",
      "im90 shape is :  (1024, 1224)\n",
      "Stokes time:  0.02698349952697754 s\n",
      "im_stokes0 shape is :  (1024, 1224)\n",
      "DoLP time:  0.03797769546508789 s\n",
      "im_DOLP shape is :  (1024, 1224)\n",
      "Time for DOLP2Theta conversion is :  22.47905945777893 seconds\n",
      "False\n",
      "AoLP time:  0.039977312088012695 s\n"
     ]
    },
    {
     "name": "stderr",
     "output_type": "stream",
     "text": [
      "\n",
      " 73%|████████████████████████████████████████████████████████▊                     | 164/225 [1:01:52<23:14, 22.86s/it]"
     ]
    },
    {
     "name": "stdout",
     "output_type": "stream",
     "text": [
      "Processing data for material : WATER\n",
      "image_data shape is :  (2048, 2448)\n",
      "im90 shape is :  (1024, 1224)\n",
      "Stokes time:  0.02698373794555664 s\n",
      "im_stokes0 shape is :  (1024, 1224)\n",
      "DoLP time:  0.037978172302246094 s\n",
      "im_DOLP shape is :  (1024, 1224)\n",
      "Time for DOLP2Theta conversion is :  22.12924313545227 seconds\n",
      "False\n",
      "AoLP time:  0.04197525978088379 s\n"
     ]
    },
    {
     "name": "stderr",
     "output_type": "stream",
     "text": [
      "\n",
      " 73%|█████████████████████████████████████████████████████████▏                    | 165/225 [1:02:15<22:50, 22.85s/it]"
     ]
    },
    {
     "name": "stdout",
     "output_type": "stream",
     "text": [
      "Processing data for material : WATER\n",
      "image_data shape is :  (2048, 2448)\n",
      "im90 shape is :  (1024, 1224)\n",
      "Stokes time:  0.026984214782714844 s\n",
      "im_stokes0 shape is :  (1024, 1224)\n",
      "DoLP time:  0.036978960037231445 s\n",
      "im_DOLP shape is :  (1024, 1224)\n",
      "Time for DOLP2Theta conversion is :  22.291148900985718 seconds\n",
      "False\n",
      "AoLP time:  0.047971487045288086 s\n"
     ]
    },
    {
     "name": "stderr",
     "output_type": "stream",
     "text": [
      "\n",
      " 74%|█████████████████████████████████████████████████████████▌                    | 166/225 [1:02:38<22:30, 22.89s/it]"
     ]
    },
    {
     "name": "stdout",
     "output_type": "stream",
     "text": [
      "Processing data for material : WATER\n",
      "image_data shape is :  (2048, 2448)\n",
      "im90 shape is :  (1024, 1224)\n",
      "Stokes time:  0.02898263931274414 s\n",
      "im_stokes0 shape is :  (1024, 1224)\n",
      "DoLP time:  0.039977312088012695 s\n",
      "im_DOLP shape is :  (1024, 1224)\n",
      "Time for DOLP2Theta conversion is :  23.52345848083496 seconds\n",
      "False\n",
      "AoLP time:  0.041976213455200195 s\n"
     ]
    },
    {
     "name": "stderr",
     "output_type": "stream",
     "text": [
      "\n",
      " 74%|█████████████████████████████████████████████████████████▉                    | 167/225 [1:03:03<22:31, 23.29s/it]"
     ]
    },
    {
     "name": "stdout",
     "output_type": "stream",
     "text": [
      "Processing data for material : WATER\n",
      "image_data shape is :  (2048, 2448)\n",
      "im90 shape is :  (1024, 1224)\n",
      "Stokes time:  0.025984525680541992 s\n",
      "im_stokes0 shape is :  (1024, 1224)\n",
      "DoLP time:  0.037976980209350586 s\n",
      "im_DOLP shape is :  (1024, 1224)\n",
      "Time for DOLP2Theta conversion is :  22.42007565498352 seconds\n",
      "False\n",
      "AoLP time:  0.040975093841552734 s\n"
     ]
    },
    {
     "name": "stderr",
     "output_type": "stream",
     "text": [
      "\n",
      " 75%|██████████████████████████████████████████████████████████▏                   | 168/225 [1:03:26<22:04, 23.23s/it]"
     ]
    },
    {
     "name": "stdout",
     "output_type": "stream",
     "text": [
      "Processing data for material : WATER\n",
      "image_data shape is :  (2048, 2448)\n",
      "im90 shape is :  (1024, 1224)\n",
      "Stokes time:  0.027982711791992188 s\n",
      "im_stokes0 shape is :  (1024, 1224)\n",
      "DoLP time:  0.034979820251464844 s\n",
      "im_DOLP shape is :  (1024, 1224)\n",
      "Time for DOLP2Theta conversion is :  21.79743456840515 seconds\n",
      "False\n",
      "AoLP time:  0.04397416114807129 s\n"
     ]
    },
    {
     "name": "stderr",
     "output_type": "stream",
     "text": [
      "\n",
      " 75%|██████████████████████████████████████████████████████████▌                   | 169/225 [1:03:48<21:27, 23.00s/it]"
     ]
    },
    {
     "name": "stdout",
     "output_type": "stream",
     "text": [
      "Processing data for material : WATER\n",
      "image_data shape is :  (2048, 2448)\n",
      "im90 shape is :  (1024, 1224)\n",
      "Stokes time:  0.024985551834106445 s\n",
      "im_stokes0 shape is :  (1024, 1224)\n",
      "DoLP time:  0.03198122978210449 s\n",
      "im_DOLP shape is :  (1024, 1224)\n",
      "Time for DOLP2Theta conversion is :  21.054861307144165 seconds\n",
      "False\n",
      "AoLP time:  0.039977073669433594 s\n"
     ]
    },
    {
     "name": "stderr",
     "output_type": "stream",
     "text": [
      "\n",
      " 76%|██████████████████████████████████████████████████████████▉                   | 170/225 [1:04:10<20:42, 22.60s/it]"
     ]
    },
    {
     "name": "stdout",
     "output_type": "stream",
     "text": [
      "Processing data for material : WATER\n",
      "image_data shape is :  (2048, 2448)\n",
      "im90 shape is :  (1024, 1224)\n",
      "Stokes time:  0.024985313415527344 s\n",
      "im_stokes0 shape is :  (1024, 1224)\n",
      "DoLP time:  0.03497886657714844 s\n",
      "im_DOLP shape is :  (1024, 1224)\n",
      "Time for DOLP2Theta conversion is :  21.67250633239746 seconds\n",
      "False\n",
      "AoLP time:  0.05496358871459961 s\n"
     ]
    },
    {
     "name": "stderr",
     "output_type": "stream",
     "text": [
      "\n",
      " 76%|███████████████████████████████████████████████████████████▎                  | 171/225 [1:04:32<20:15, 22.52s/it]"
     ]
    },
    {
     "name": "stdout",
     "output_type": "stream",
     "text": [
      "Processing data for material : WATER\n",
      "image_data shape is :  (2048, 2448)\n",
      "im90 shape is :  (1024, 1224)\n",
      "Stokes time:  0.025984525680541992 s\n",
      "im_stokes0 shape is :  (1024, 1224)\n",
      "DoLP time:  0.03497958183288574 s\n",
      "im_DOLP shape is :  (1024, 1224)\n",
      "Time for DOLP2Theta conversion is :  22.447059392929077 seconds\n",
      "False\n",
      "AoLP time:  0.04697227478027344 s\n"
     ]
    },
    {
     "name": "stderr",
     "output_type": "stream",
     "text": [
      "\n",
      " 76%|███████████████████████████████████████████████████████████▋                  | 172/225 [1:04:55<20:02, 22.69s/it]"
     ]
    },
    {
     "name": "stdout",
     "output_type": "stream",
     "text": [
      "Processing data for material : WATER\n",
      "image_data shape is :  (2048, 2448)\n",
      "im90 shape is :  (1024, 1224)\n",
      "Stokes time:  0.02598428726196289 s\n",
      "im_stokes0 shape is :  (1024, 1224)\n",
      "DoLP time:  0.03597879409790039 s\n",
      "im_DOLP shape is :  (1024, 1224)\n",
      "Time for DOLP2Theta conversion is :  22.538007736206055 seconds\n",
      "False\n",
      "AoLP time:  0.04697227478027344 s\n"
     ]
    },
    {
     "name": "stderr",
     "output_type": "stream",
     "text": [
      "\n",
      " 77%|███████████████████████████████████████████████████████████▉                  | 173/225 [1:05:18<19:48, 22.86s/it]"
     ]
    },
    {
     "name": "stdout",
     "output_type": "stream",
     "text": [
      "Processing data for material : WATER\n",
      "image_data shape is :  (2048, 2448)\n",
      "im90 shape is :  (1024, 1224)\n",
      "Stokes time:  0.025984764099121094 s\n",
      "im_stokes0 shape is :  (1024, 1224)\n",
      "DoLP time:  0.03497958183288574 s\n",
      "im_DOLP shape is :  (1024, 1224)\n",
      "Time for DOLP2Theta conversion is :  21.929357767105103 seconds\n",
      "False\n",
      "AoLP time:  0.04497480392456055 s\n"
     ]
    },
    {
     "name": "stderr",
     "output_type": "stream",
     "text": [
      "\n",
      " 77%|████████████████████████████████████████████████████████████▎                 | 174/225 [1:05:41<19:21, 22.77s/it]"
     ]
    },
    {
     "name": "stdout",
     "output_type": "stream",
     "text": [
      "Processing data for material : WATER\n",
      "image_data shape is :  (2048, 2448)\n",
      "im90 shape is :  (1024, 1224)\n",
      "Stokes time:  0.02698349952697754 s\n",
      "im_stokes0 shape is :  (1024, 1224)\n",
      "DoLP time:  0.03098130226135254 s\n",
      "im_DOLP shape is :  (1024, 1224)\n",
      "Time for DOLP2Theta conversion is :  21.92436122894287 seconds\n",
      "False\n",
      "AoLP time:  0.047971487045288086 s\n"
     ]
    },
    {
     "name": "stderr",
     "output_type": "stream",
     "text": [
      "\n",
      " 78%|████████████████████████████████████████████████████████████▋                 | 175/225 [1:06:04<18:56, 22.72s/it]"
     ]
    },
    {
     "name": "stdout",
     "output_type": "stream",
     "text": [
      "Processing data for material : WATER\n",
      "image_data shape is :  (2048, 2448)\n",
      "im90 shape is :  (1024, 1224)\n",
      "Stokes time:  0.025985002517700195 s\n",
      "im_stokes0 shape is :  (1024, 1224)\n",
      "DoLP time:  0.03697919845581055 s\n",
      "im_DOLP shape is :  (1024, 1224)\n",
      "Time for DOLP2Theta conversion is :  22.88680624961853 seconds\n",
      "False\n",
      "AoLP time:  0.04097485542297363 s\n"
     ]
    },
    {
     "name": "stderr",
     "output_type": "stream",
     "text": [
      "\n",
      " 78%|█████████████████████████████████████████████████████████████                 | 176/225 [1:06:27<18:45, 22.97s/it]"
     ]
    },
    {
     "name": "stdout",
     "output_type": "stream",
     "text": [
      "Processing data for material : WATER\n",
      "image_data shape is :  (2048, 2448)\n",
      "im90 shape is :  (1024, 1224)\n",
      "Stokes time:  0.024985790252685547 s\n",
      "im_stokes0 shape is :  (1024, 1224)\n",
      "DoLP time:  0.03497910499572754 s\n",
      "im_DOLP shape is :  (1024, 1224)\n",
      "Time for DOLP2Theta conversion is :  22.528013467788696 seconds\n",
      "False\n",
      "AoLP time:  0.04197549819946289 s\n"
     ]
    },
    {
     "name": "stderr",
     "output_type": "stream",
     "text": [
      "\n",
      " 79%|█████████████████████████████████████████████████████████████▎                | 177/225 [1:06:50<18:24, 23.02s/it]"
     ]
    },
    {
     "name": "stdout",
     "output_type": "stream",
     "text": [
      "Processing data for material : WATER\n",
      "image_data shape is :  (2048, 2448)\n",
      "im90 shape is :  (1024, 1224)\n",
      "Stokes time:  0.024985790252685547 s\n",
      "im_stokes0 shape is :  (1024, 1224)\n",
      "DoLP time:  0.03198122978210449 s\n",
      "im_DOLP shape is :  (1024, 1224)\n",
      "Time for DOLP2Theta conversion is :  21.588574171066284 seconds\n",
      "False\n",
      "AoLP time:  0.03997635841369629 s\n"
     ]
    },
    {
     "name": "stderr",
     "output_type": "stream",
     "text": [
      "\n",
      " 79%|█████████████████████████████████████████████████████████████▋                | 178/225 [1:07:12<17:50, 22.78s/it]"
     ]
    },
    {
     "name": "stdout",
     "output_type": "stream",
     "text": [
      "Processing data for material : WATER\n",
      "image_data shape is :  (2048, 2448)\n",
      "im90 shape is :  (1024, 1224)\n",
      "Stokes time:  0.023986339569091797 s\n",
      "im_stokes0 shape is :  (1024, 1224)\n",
      "DoLP time:  0.03398013114929199 s\n",
      "im_DOLP shape is :  (1024, 1224)\n",
      "Time for DOLP2Theta conversion is :  21.00788927078247 seconds\n",
      "False\n",
      "AoLP time:  0.040976762771606445 s\n"
     ]
    },
    {
     "name": "stderr",
     "output_type": "stream",
     "text": [
      "\n",
      " 80%|██████████████████████████████████████████████████████████████                | 179/225 [1:07:34<17:12, 22.44s/it]"
     ]
    },
    {
     "name": "stdout",
     "output_type": "stream",
     "text": [
      "Processing data for material : WATER\n",
      "image_data shape is :  (2048, 2448)\n",
      "im90 shape is :  (1024, 1224)\n",
      "Stokes time:  0.02498483657836914 s\n",
      "im_stokes0 shape is :  (1024, 1224)\n",
      "DoLP time:  0.03198099136352539 s\n",
      "im_DOLP shape is :  (1024, 1224)\n",
      "Time for DOLP2Theta conversion is :  21.082844972610474 seconds\n",
      "False\n",
      "AoLP time:  0.04597330093383789 s\n"
     ]
    },
    {
     "name": "stderr",
     "output_type": "stream",
     "text": [
      "\n",
      " 80%|██████████████████████████████████████████████████████████████▍               | 180/225 [1:07:56<16:40, 22.23s/it]"
     ]
    },
    {
     "name": "stdout",
     "output_type": "stream",
     "text": [
      "Processing data for material : WATER\n",
      "image_data shape is :  (2048, 2448)\n",
      "im90 shape is :  (1024, 1224)\n",
      "Stokes time:  0.025985002517700195 s\n",
      "im_stokes0 shape is :  (1024, 1224)\n",
      "DoLP time:  0.03897738456726074 s\n",
      "im_DOLP shape is :  (1024, 1224)\n",
      "Time for DOLP2Theta conversion is :  22.403087615966797 seconds\n",
      "False\n",
      "AoLP time:  0.043973445892333984 s\n"
     ]
    },
    {
     "name": "stderr",
     "output_type": "stream",
     "text": [
      "\n",
      " 80%|██████████████████████████████████████████████████████████████▋               | 181/225 [1:08:19<16:29, 22.48s/it]"
     ]
    },
    {
     "name": "stdout",
     "output_type": "stream",
     "text": [
      "Processing data for material : WATER\n",
      "image_data shape is :  (2048, 2448)\n",
      "im90 shape is :  (1024, 1224)\n",
      "Stokes time:  0.026984453201293945 s\n",
      "im_stokes0 shape is :  (1024, 1224)\n",
      "DoLP time:  0.03797745704650879 s\n",
      "im_DOLP shape is :  (1024, 1224)\n",
      "Time for DOLP2Theta conversion is :  22.21519374847412 seconds\n",
      "False\n",
      "AoLP time:  0.05296897888183594 s\n"
     ]
    },
    {
     "name": "stderr",
     "output_type": "stream",
     "text": [
      "\n",
      " 81%|███████████████████████████████████████████████████████████████               | 182/225 [1:08:42<16:12, 22.61s/it]"
     ]
    },
    {
     "name": "stdout",
     "output_type": "stream",
     "text": [
      "Processing data for material : WATER\n",
      "image_data shape is :  (2048, 2448)\n",
      "im90 shape is :  (1024, 1224)\n",
      "Stokes time:  0.02798295021057129 s\n",
      "im_stokes0 shape is :  (1024, 1224)\n",
      "DoLP time:  0.04097604751586914 s\n",
      "im_DOLP shape is :  (1024, 1224)\n",
      "Time for DOLP2Theta conversion is :  21.87639045715332 seconds\n",
      "False\n",
      "AoLP time:  0.04297471046447754 s\n"
     ]
    },
    {
     "name": "stderr",
     "output_type": "stream",
     "text": [
      "\n",
      " 81%|███████████████████████████████████████████████████████████████▍              | 183/225 [1:09:04<15:49, 22.60s/it]"
     ]
    },
    {
     "name": "stdout",
     "output_type": "stream",
     "text": [
      "Processing data for material : WATER\n",
      "image_data shape is :  (2048, 2448)\n",
      "im90 shape is :  (1024, 1224)\n",
      "Stokes time:  0.02698349952697754 s\n",
      "im_stokes0 shape is :  (1024, 1224)\n",
      "DoLP time:  0.03797769546508789 s\n",
      "im_DOLP shape is :  (1024, 1224)\n",
      "Time for DOLP2Theta conversion is :  23.01073455810547 seconds\n",
      "False\n",
      "AoLP time:  0.04597282409667969 s\n"
     ]
    },
    {
     "name": "stderr",
     "output_type": "stream",
     "text": [
      "\n",
      " 82%|███████████████████████████████████████████████████████████████▊              | 184/225 [1:09:28<15:40, 22.93s/it]"
     ]
    },
    {
     "name": "stdout",
     "output_type": "stream",
     "text": [
      "Processing data for material : WATER\n",
      "image_data shape is :  (2048, 2448)\n",
      "im90 shape is :  (1024, 1224)\n",
      "Stokes time:  0.024985551834106445 s\n",
      "im_stokes0 shape is :  (1024, 1224)\n",
      "DoLP time:  0.03697776794433594 s\n",
      "im_DOLP shape is :  (1024, 1224)\n",
      "Time for DOLP2Theta conversion is :  22.064279794692993 seconds\n",
      "False\n",
      "AoLP time:  0.045972585678100586 s\n"
     ]
    },
    {
     "name": "stderr",
     "output_type": "stream",
     "text": [
      "\n",
      " 82%|████████████████████████████████████████████████████████████████▏             | 185/225 [1:09:51<15:14, 22.85s/it]"
     ]
    },
    {
     "name": "stdout",
     "output_type": "stream",
     "text": [
      "Processing data for material : WATER\n",
      "image_data shape is :  (2048, 2448)\n",
      "im90 shape is :  (1024, 1224)\n",
      "Stokes time:  0.025985002517700195 s\n",
      "im_stokes0 shape is :  (1024, 1224)\n",
      "DoLP time:  0.0319819450378418 s\n",
      "im_DOLP shape is :  (1024, 1224)\n",
      "Time for DOLP2Theta conversion is :  21.940351724624634 seconds\n",
      "False\n",
      "AoLP time:  0.04197525978088379 s\n"
     ]
    },
    {
     "name": "stderr",
     "output_type": "stream",
     "text": [
      "\n",
      " 83%|████████████████████████████████████████████████████████████████▍             | 186/225 [1:10:13<14:48, 22.79s/it]"
     ]
    },
    {
     "name": "stdout",
     "output_type": "stream",
     "text": [
      "Processing data for material : WATER\n",
      "image_data shape is :  (2048, 2448)\n",
      "im90 shape is :  (1024, 1224)\n",
      "Stokes time:  0.027982473373413086 s\n",
      "im_stokes0 shape is :  (1024, 1224)\n",
      "DoLP time:  0.03597879409790039 s\n",
      "im_DOLP shape is :  (1024, 1224)\n",
      "Time for DOLP2Theta conversion is :  22.021304607391357 seconds\n",
      "False\n",
      "AoLP time:  0.04197525978088379 s\n"
     ]
    },
    {
     "name": "stderr",
     "output_type": "stream",
     "text": [
      "\n",
      " 83%|████████████████████████████████████████████████████████████████▊             | 187/225 [1:10:36<14:24, 22.76s/it]"
     ]
    },
    {
     "name": "stdout",
     "output_type": "stream",
     "text": [
      "Processing data for material : WATER\n",
      "image_data shape is :  (2048, 2448)\n",
      "im90 shape is :  (1024, 1224)\n",
      "Stokes time:  0.02698493003845215 s\n",
      "im_stokes0 shape is :  (1024, 1224)\n",
      "DoLP time:  0.031982421875 s\n",
      "im_DOLP shape is :  (1024, 1224)\n",
      "Time for DOLP2Theta conversion is :  20.98989963531494 seconds\n",
      "False\n",
      "AoLP time:  0.039975643157958984 s\n"
     ]
    },
    {
     "name": "stderr",
     "output_type": "stream",
     "text": [
      "\n",
      " 84%|█████████████████████████████████████████████████████████████████▏            | 188/225 [1:10:58<13:49, 22.43s/it]"
     ]
    },
    {
     "name": "stdout",
     "output_type": "stream",
     "text": [
      "Processing data for material : WATER\n",
      "image_data shape is :  (2048, 2448)\n",
      "im90 shape is :  (1024, 1224)\n",
      "Stokes time:  0.023985624313354492 s\n",
      "im_stokes0 shape is :  (1024, 1224)\n",
      "DoLP time:  0.03397965431213379 s\n",
      "im_DOLP shape is :  (1024, 1224)\n",
      "Time for DOLP2Theta conversion is :  21.393667697906494 seconds\n",
      "False\n",
      "AoLP time:  0.04897189140319824 s\n"
     ]
    },
    {
     "name": "stderr",
     "output_type": "stream",
     "text": [
      "\n",
      " 84%|█████████████████████████████████████████████████████████████████▌            | 189/225 [1:11:20<13:23, 22.31s/it]"
     ]
    },
    {
     "name": "stdout",
     "output_type": "stream",
     "text": [
      "Processing data for material : WATER\n",
      "image_data shape is :  (2048, 2448)\n",
      "im90 shape is :  (1024, 1224)\n",
      "Stokes time:  0.026983976364135742 s\n",
      "im_stokes0 shape is :  (1024, 1224)\n",
      "DoLP time:  0.03697919845581055 s\n",
      "im_DOLP shape is :  (1024, 1224)\n",
      "Time for DOLP2Theta conversion is :  21.748462677001953 seconds\n",
      "False\n",
      "AoLP time:  0.045973777770996094 s\n"
     ]
    },
    {
     "name": "stderr",
     "output_type": "stream",
     "text": [
      "\n",
      " 84%|█████████████████████████████████████████████████████████████████▊            | 190/225 [1:11:42<13:02, 22.35s/it]"
     ]
    },
    {
     "name": "stdout",
     "output_type": "stream",
     "text": [
      "Processing data for material : WATER\n",
      "image_data shape is :  (2048, 2448)\n",
      "im90 shape is :  (1024, 1224)\n",
      "Stokes time:  0.02698373794555664 s\n",
      "im_stokes0 shape is :  (1024, 1224)\n",
      "DoLP time:  0.035979509353637695 s\n",
      "im_DOLP shape is :  (1024, 1224)\n",
      "Time for DOLP2Theta conversion is :  22.29714584350586 seconds\n",
      "False\n",
      "AoLP time:  0.046971797943115234 s\n"
     ]
    },
    {
     "name": "stderr",
     "output_type": "stream",
     "text": [
      "\n",
      " 85%|██████████████████████████████████████████████████████████████████▏           | 191/225 [1:12:05<12:46, 22.54s/it]"
     ]
    },
    {
     "name": "stdout",
     "output_type": "stream",
     "text": [
      "Processing data for material : WATER\n",
      "image_data shape is :  (2048, 2448)\n",
      "im90 shape is :  (1024, 1224)\n",
      "Stokes time:  0.025985002517700195 s\n",
      "im_stokes0 shape is :  (1024, 1224)\n",
      "DoLP time:  0.03497958183288574 s\n",
      "im_DOLP shape is :  (1024, 1224)\n",
      "Time for DOLP2Theta conversion is :  22.794858932495117 seconds\n",
      "False\n",
      "AoLP time:  0.04297471046447754 s\n"
     ]
    },
    {
     "name": "stderr",
     "output_type": "stream",
     "text": [
      "\n",
      " 85%|██████████████████████████████████████████████████████████████████▌           | 192/225 [1:12:29<12:32, 22.81s/it]"
     ]
    },
    {
     "name": "stdout",
     "output_type": "stream",
     "text": [
      "Processing data for material : WATER\n",
      "image_data shape is :  (2048, 2448)\n",
      "im90 shape is :  (1024, 1224)\n",
      "Stokes time:  0.027983903884887695 s\n",
      "im_stokes0 shape is :  (1024, 1224)\n",
      "DoLP time:  0.03597879409790039 s\n",
      "im_DOLP shape is :  (1024, 1224)\n",
      "Time for DOLP2Theta conversion is :  22.210196256637573 seconds\n",
      "False\n",
      "AoLP time:  0.04397296905517578 s\n"
     ]
    },
    {
     "name": "stderr",
     "output_type": "stream",
     "text": [
      "\n",
      " 86%|██████████████████████████████████████████████████████████████████▉           | 193/225 [1:12:52<12:10, 22.83s/it]"
     ]
    },
    {
     "name": "stdout",
     "output_type": "stream",
     "text": [
      "Processing data for material : WATER\n",
      "image_data shape is :  (2048, 2448)\n",
      "im90 shape is :  (1024, 1224)\n",
      "Stokes time:  0.02598428726196289 s\n",
      "im_stokes0 shape is :  (1024, 1224)\n",
      "DoLP time:  0.03797721862792969 s\n",
      "im_DOLP shape is :  (1024, 1224)\n",
      "Time for DOLP2Theta conversion is :  22.459055185317993 seconds\n",
      "False\n",
      "AoLP time:  0.043973684310913086 s\n"
     ]
    },
    {
     "name": "stderr",
     "output_type": "stream",
     "text": [
      "\n",
      " 86%|███████████████████████████████████████████████████████████████████▎          | 194/225 [1:13:15<11:50, 22.92s/it]"
     ]
    },
    {
     "name": "stdout",
     "output_type": "stream",
     "text": [
      "Processing data for material : WATER\n",
      "image_data shape is :  (2048, 2448)\n",
      "im90 shape is :  (1024, 1224)\n",
      "Stokes time:  0.02598428726196289 s\n",
      "im_stokes0 shape is :  (1024, 1224)\n",
      "DoLP time:  0.03597879409790039 s\n",
      "im_DOLP shape is :  (1024, 1224)\n",
      "Time for DOLP2Theta conversion is :  22.73089575767517 seconds\n",
      "False\n",
      "AoLP time:  0.04297614097595215 s\n"
     ]
    },
    {
     "name": "stderr",
     "output_type": "stream",
     "text": [
      "\n",
      " 87%|███████████████████████████████████████████████████████████████████▌          | 195/225 [1:13:38<11:31, 23.07s/it]"
     ]
    },
    {
     "name": "stdout",
     "output_type": "stream",
     "text": [
      "Processing data for material : WATER\n",
      "image_data shape is :  (2048, 2448)\n",
      "im90 shape is :  (1024, 1224)\n",
      "Stokes time:  0.024985074996948242 s\n",
      "im_stokes0 shape is :  (1024, 1224)\n",
      "DoLP time:  0.039975881576538086 s\n",
      "im_DOLP shape is :  (1024, 1224)\n",
      "Time for DOLP2Theta conversion is :  21.380674362182617 seconds\n",
      "False\n",
      "AoLP time:  0.03997611999511719 s\n"
     ]
    },
    {
     "name": "stderr",
     "output_type": "stream",
     "text": [
      "\n",
      " 87%|███████████████████████████████████████████████████████████████████▉          | 196/225 [1:14:00<10:59, 22.75s/it]"
     ]
    },
    {
     "name": "stdout",
     "output_type": "stream",
     "text": [
      "Processing data for material : WATER\n",
      "image_data shape is :  (2048, 2448)\n",
      "im90 shape is :  (1024, 1224)\n",
      "Stokes time:  0.024985790252685547 s\n",
      "im_stokes0 shape is :  (1024, 1224)\n",
      "DoLP time:  0.03897714614868164 s\n",
      "im_DOLP shape is :  (1024, 1224)\n",
      "Time for DOLP2Theta conversion is :  21.182788372039795 seconds\n",
      "False\n",
      "AoLP time:  0.04197573661804199 s\n"
     ]
    },
    {
     "name": "stderr",
     "output_type": "stream",
     "text": [
      "\n",
      " 88%|████████████████████████████████████████████████████████████████████▎         | 197/225 [1:14:22<10:29, 22.48s/it]"
     ]
    },
    {
     "name": "stdout",
     "output_type": "stream",
     "text": [
      "Processing data for material : WATER\n",
      "image_data shape is :  (2048, 2448)\n",
      "im90 shape is :  (1024, 1224)\n",
      "Stokes time:  0.027982711791992188 s\n",
      "im_stokes0 shape is :  (1024, 1224)\n",
      "DoLP time:  0.03397965431213379 s\n",
      "im_DOLP shape is :  (1024, 1224)\n",
      "Time for DOLP2Theta conversion is :  21.058859825134277 seconds\n",
      "False\n",
      "AoLP time:  0.03897404670715332 s\n"
     ]
    },
    {
     "name": "stderr",
     "output_type": "stream",
     "text": [
      "\n",
      " 88%|████████████████████████████████████████████████████████████████████▋         | 198/225 [1:14:44<10:01, 22.26s/it]"
     ]
    },
    {
     "name": "stdout",
     "output_type": "stream",
     "text": [
      "Processing data for material : WATER\n",
      "image_data shape is :  (2048, 2448)\n",
      "im90 shape is :  (1024, 1224)\n",
      "Stokes time:  0.02498602867126465 s\n",
      "im_stokes0 shape is :  (1024, 1224)\n",
      "DoLP time:  0.03997683525085449 s\n",
      "im_DOLP shape is :  (1024, 1224)\n",
      "Time for DOLP2Theta conversion is :  22.495033025741577 seconds\n",
      "False\n",
      "AoLP time:  0.05396890640258789 s\n"
     ]
    },
    {
     "name": "stderr",
     "output_type": "stream",
     "text": [
      "\n",
      " 88%|████████████████████████████████████████████████████████████████████▉         | 199/225 [1:15:07<09:45, 22.53s/it]"
     ]
    },
    {
     "name": "stdout",
     "output_type": "stream",
     "text": [
      "Processing data for material : WATER\n",
      "image_data shape is :  (2048, 2448)\n",
      "im90 shape is :  (1024, 1224)\n",
      "Stokes time:  0.026983976364135742 s\n",
      "im_stokes0 shape is :  (1024, 1224)\n",
      "DoLP time:  0.036977529525756836 s\n",
      "im_DOLP shape is :  (1024, 1224)\n",
      "Time for DOLP2Theta conversion is :  21.996322631835938 seconds\n",
      "False\n",
      "AoLP time:  0.04297494888305664 s\n"
     ]
    },
    {
     "name": "stderr",
     "output_type": "stream",
     "text": [
      "\n",
      " 89%|█████████████████████████████████████████████████████████████████████▎        | 200/225 [1:15:30<09:24, 22.57s/it]"
     ]
    },
    {
     "name": "stdout",
     "output_type": "stream",
     "text": [
      "Processing data for material : WATER\n",
      "image_data shape is :  (2048, 2448)\n",
      "im90 shape is :  (1024, 1224)\n",
      "Stokes time:  0.0259854793548584 s\n",
      "im_stokes0 shape is :  (1024, 1224)\n",
      "DoLP time:  0.03497886657714844 s\n",
      "im_DOLP shape is :  (1024, 1224)\n",
      "Time for DOLP2Theta conversion is :  22.41307783126831 seconds\n",
      "False\n",
      "AoLP time:  0.04297518730163574 s\n"
     ]
    },
    {
     "name": "stderr",
     "output_type": "stream",
     "text": [
      "\n",
      " 89%|█████████████████████████████████████████████████████████████████████▋        | 201/225 [1:15:53<09:05, 22.72s/it]"
     ]
    },
    {
     "name": "stdout",
     "output_type": "stream",
     "text": [
      "Processing data for material : WATER\n",
      "image_data shape is :  (2048, 2448)\n",
      "im90 shape is :  (1024, 1224)\n",
      "Stokes time:  0.025984764099121094 s\n",
      "im_stokes0 shape is :  (1024, 1224)\n",
      "DoLP time:  0.034980058670043945 s\n",
      "im_DOLP shape is :  (1024, 1224)\n",
      "Time for DOLP2Theta conversion is :  22.624958515167236 seconds\n",
      "False\n",
      "AoLP time:  0.04797172546386719 s\n"
     ]
    },
    {
     "name": "stderr",
     "output_type": "stream",
     "text": [
      "\n",
      " 90%|██████████████████████████████████████████████████████████████████████        | 202/225 [1:16:16<08:46, 22.90s/it]"
     ]
    },
    {
     "name": "stdout",
     "output_type": "stream",
     "text": [
      "Processing data for material : WATER\n",
      "image_data shape is :  (2048, 2448)\n",
      "im90 shape is :  (1024, 1224)\n",
      "Stokes time:  0.025984525680541992 s\n",
      "im_stokes0 shape is :  (1024, 1224)\n",
      "DoLP time:  0.03897714614868164 s\n",
      "im_DOLP shape is :  (1024, 1224)\n",
      "Time for DOLP2Theta conversion is :  21.946348428726196 seconds\n",
      "False\n",
      "AoLP time:  0.046973228454589844 s\n"
     ]
    },
    {
     "name": "stderr",
     "output_type": "stream",
     "text": [
      "\n",
      " 90%|██████████████████████████████████████████████████████████████████████▎       | 203/225 [1:16:39<08:22, 22.82s/it]"
     ]
    },
    {
     "name": "stdout",
     "output_type": "stream",
     "text": [
      "Processing data for material : WATER\n",
      "image_data shape is :  (2048, 2448)\n",
      "im90 shape is :  (1024, 1224)\n",
      "Stokes time:  0.02598404884338379 s\n",
      "im_stokes0 shape is :  (1024, 1224)\n",
      "DoLP time:  0.03697800636291504 s\n",
      "im_DOLP shape is :  (1024, 1224)\n",
      "Time for DOLP2Theta conversion is :  22.39808964729309 seconds\n",
      "False\n",
      "AoLP time:  0.041974782943725586 s\n"
     ]
    },
    {
     "name": "stderr",
     "output_type": "stream",
     "text": [
      "\n",
      " 91%|██████████████████████████████████████████████████████████████████████▋       | 204/225 [1:17:02<08:00, 22.90s/it]"
     ]
    },
    {
     "name": "stdout",
     "output_type": "stream",
     "text": [
      "Processing data for material : WATER\n",
      "image_data shape is :  (2048, 2448)\n",
      "im90 shape is :  (1024, 1224)\n",
      "Stokes time:  0.026983976364135742 s\n",
      "im_stokes0 shape is :  (1024, 1224)\n",
      "DoLP time:  0.033980369567871094 s\n",
      "im_DOLP shape is :  (1024, 1224)\n",
      "Time for DOLP2Theta conversion is :  22.435067892074585 seconds\n",
      "False\n",
      "AoLP time:  0.03997683525085449 s\n"
     ]
    },
    {
     "name": "stderr",
     "output_type": "stream",
     "text": [
      "\n",
      " 91%|███████████████████████████████████████████████████████████████████████       | 205/225 [1:17:25<07:38, 22.95s/it]"
     ]
    },
    {
     "name": "stdout",
     "output_type": "stream",
     "text": [
      "Processing data for material : WATER\n",
      "image_data shape is :  (2048, 2448)\n",
      "im90 shape is :  (1024, 1224)\n",
      "Stokes time:  0.027984142303466797 s\n",
      "im_stokes0 shape is :  (1024, 1224)\n",
      "DoLP time:  0.0339808464050293 s\n",
      "im_DOLP shape is :  (1024, 1224)\n",
      "Time for DOLP2Theta conversion is :  21.17681074142456 seconds\n",
      "False\n",
      "AoLP time:  0.042974233627319336 s\n"
     ]
    },
    {
     "name": "stderr",
     "output_type": "stream",
     "text": [
      "\n",
      " 92%|███████████████████████████████████████████████████████████████████████▍      | 206/225 [1:17:47<07:09, 22.61s/it]"
     ]
    },
    {
     "name": "stdout",
     "output_type": "stream",
     "text": [
      "Processing data for material : WATER\n",
      "image_data shape is :  (2048, 2448)\n",
      "im90 shape is :  (1024, 1224)\n",
      "Stokes time:  0.026983976364135742 s\n",
      "im_stokes0 shape is :  (1024, 1224)\n",
      "DoLP time:  0.03298163414001465 s\n",
      "im_DOLP shape is :  (1024, 1224)\n",
      "Time for DOLP2Theta conversion is :  22.448060750961304 seconds\n",
      "False\n",
      "AoLP time:  0.042973995208740234 s\n"
     ]
    },
    {
     "name": "stderr",
     "output_type": "stream",
     "text": [
      "\n",
      " 92%|███████████████████████████████████████████████████████████████████████▊      | 207/225 [1:18:10<06:49, 22.75s/it]"
     ]
    },
    {
     "name": "stdout",
     "output_type": "stream",
     "text": [
      "Processing data for material : WATER\n",
      "image_data shape is :  (2048, 2448)\n",
      "im90 shape is :  (1024, 1224)\n",
      "Stokes time:  0.02498602867126465 s\n",
      "im_stokes0 shape is :  (1024, 1224)\n",
      "DoLP time:  0.035979509353637695 s\n",
      "im_DOLP shape is :  (1024, 1224)\n",
      "Time for DOLP2Theta conversion is :  22.332127332687378 seconds\n",
      "False\n",
      "AoLP time:  0.04397392272949219 s\n"
     ]
    },
    {
     "name": "stderr",
     "output_type": "stream",
     "text": [
      "\n",
      " 92%|████████████████████████████████████████████████████████████████████████      | 208/225 [1:18:33<06:28, 22.83s/it]"
     ]
    },
    {
     "name": "stdout",
     "output_type": "stream",
     "text": [
      "Processing data for material : WATER\n",
      "image_data shape is :  (2048, 2448)\n",
      "im90 shape is :  (1024, 1224)\n",
      "Stokes time:  0.025985240936279297 s\n",
      "im_stokes0 shape is :  (1024, 1224)\n",
      "DoLP time:  0.037976980209350586 s\n",
      "im_DOLP shape is :  (1024, 1224)\n",
      "Time for DOLP2Theta conversion is :  22.554997444152832 seconds\n",
      "False\n",
      "AoLP time:  0.04397416114807129 s\n"
     ]
    },
    {
     "name": "stderr",
     "output_type": "stream",
     "text": [
      "\n",
      " 93%|████████████████████████████████████████████████████████████████████████▍     | 209/225 [1:18:56<06:07, 22.95s/it]"
     ]
    },
    {
     "name": "stdout",
     "output_type": "stream",
     "text": [
      "Processing data for material : WATER\n",
      "image_data shape is :  (2048, 2448)\n",
      "im90 shape is :  (1024, 1224)\n",
      "Stokes time:  0.02498459815979004 s\n",
      "im_stokes0 shape is :  (1024, 1224)\n",
      "DoLP time:  0.03397989273071289 s\n",
      "im_DOLP shape is :  (1024, 1224)\n",
      "Time for DOLP2Theta conversion is :  22.168219804763794 seconds\n",
      "False\n",
      "AoLP time:  0.04497241973876953 s\n"
     ]
    },
    {
     "name": "stderr",
     "output_type": "stream",
     "text": [
      "\n",
      " 93%|████████████████████████████████████████████████████████████████████████▊     | 210/225 [1:19:19<05:43, 22.91s/it]"
     ]
    },
    {
     "name": "stdout",
     "output_type": "stream",
     "text": [
      "Processing data for material : WATER\n",
      "image_data shape is :  (2048, 2448)\n",
      "im90 shape is :  (1024, 1224)\n",
      "Stokes time:  0.024986743927001953 s\n",
      "im_stokes0 shape is :  (1024, 1224)\n",
      "DoLP time:  0.03797650337219238 s\n",
      "im_DOLP shape is :  (1024, 1224)\n",
      "Time for DOLP2Theta conversion is :  21.89437699317932 seconds\n",
      "False\n",
      "AoLP time:  0.040976762771606445 s\n"
     ]
    },
    {
     "name": "stderr",
     "output_type": "stream",
     "text": [
      "\n",
      " 94%|█████████████████████████████████████████████████████████████████████████▏    | 211/225 [1:19:41<05:19, 22.81s/it]"
     ]
    },
    {
     "name": "stdout",
     "output_type": "stream",
     "text": [
      "Processing data for material : WATER\n",
      "image_data shape is :  (2048, 2448)\n",
      "im90 shape is :  (1024, 1224)\n",
      "Stokes time:  0.02798295021057129 s\n",
      "im_stokes0 shape is :  (1024, 1224)\n",
      "DoLP time:  0.03198075294494629 s\n",
      "im_DOLP shape is :  (1024, 1224)\n",
      "Time for DOLP2Theta conversion is :  22.526013612747192 seconds\n",
      "False\n",
      "AoLP time:  0.039966583251953125 s\n"
     ]
    },
    {
     "name": "stderr",
     "output_type": "stream",
     "text": [
      "\n",
      " 94%|█████████████████████████████████████████████████████████████████████████▍    | 212/225 [1:20:04<04:57, 22.92s/it]"
     ]
    },
    {
     "name": "stdout",
     "output_type": "stream",
     "text": [
      "Processing data for material : WATER\n",
      "image_data shape is :  (2048, 2448)\n",
      "im90 shape is :  (1024, 1224)\n",
      "Stokes time:  0.026983976364135742 s\n",
      "im_stokes0 shape is :  (1024, 1224)\n",
      "DoLP time:  0.03597903251647949 s\n",
      "im_DOLP shape is :  (1024, 1224)\n",
      "Time for DOLP2Theta conversion is :  21.997319221496582 seconds\n",
      "False\n",
      "AoLP time:  0.04597115516662598 s\n"
     ]
    },
    {
     "name": "stderr",
     "output_type": "stream",
     "text": [
      "\n",
      " 95%|█████████████████████████████████████████████████████████████████████████▊    | 213/225 [1:20:27<04:34, 22.85s/it]"
     ]
    },
    {
     "name": "stdout",
     "output_type": "stream",
     "text": [
      "Processing data for material : WATER\n",
      "image_data shape is :  (2048, 2448)\n",
      "im90 shape is :  (1024, 1224)\n",
      "Stokes time:  0.025985002517700195 s\n",
      "im_stokes0 shape is :  (1024, 1224)\n",
      "DoLP time:  0.034980058670043945 s\n",
      "im_DOLP shape is :  (1024, 1224)\n",
      "Time for DOLP2Theta conversion is :  23.196629762649536 seconds\n",
      "False\n",
      "AoLP time:  0.03997683525085449 s\n"
     ]
    },
    {
     "name": "stderr",
     "output_type": "stream",
     "text": [
      "\n",
      " 95%|██████████████████████████████████████████████████████████████████████████▏   | 214/225 [1:20:51<04:14, 23.14s/it]"
     ]
    },
    {
     "name": "stdout",
     "output_type": "stream",
     "text": [
      "Processing data for material : WATER\n",
      "image_data shape is :  (2048, 2448)\n",
      "im90 shape is :  (1024, 1224)\n",
      "Stokes time:  0.026984214782714844 s\n",
      "im_stokes0 shape is :  (1024, 1224)\n",
      "DoLP time:  0.03497958183288574 s\n",
      "im_DOLP shape is :  (1024, 1224)\n",
      "Time for DOLP2Theta conversion is :  21.693493843078613 seconds\n",
      "False\n",
      "AoLP time:  0.039975881576538086 s\n"
     ]
    },
    {
     "name": "stderr",
     "output_type": "stream",
     "text": [
      "\n",
      " 96%|██████████████████████████████████████████████████████████████████████████▌   | 215/225 [1:21:13<03:48, 22.89s/it]"
     ]
    },
    {
     "name": "stdout",
     "output_type": "stream",
     "text": [
      "Processing data for material : WATER\n",
      "image_data shape is :  (2048, 2448)\n",
      "im90 shape is :  (1024, 1224)\n",
      "Stokes time:  0.02598428726196289 s\n",
      "im_stokes0 shape is :  (1024, 1224)\n",
      "DoLP time:  0.0339810848236084 s\n",
      "im_DOLP shape is :  (1024, 1224)\n",
      "Time for DOLP2Theta conversion is :  21.777445077896118 seconds\n",
      "False\n",
      "AoLP time:  0.03997516632080078 s\n"
     ]
    },
    {
     "name": "stderr",
     "output_type": "stream",
     "text": [
      "\n",
      " 96%|██████████████████████████████████████████████████████████████████████████▉   | 216/225 [1:21:36<03:24, 22.74s/it]"
     ]
    },
    {
     "name": "stdout",
     "output_type": "stream",
     "text": [
      "Processing data for material : WATER\n",
      "image_data shape is :  (2048, 2448)\n",
      "im90 shape is :  (1024, 1224)\n",
      "Stokes time:  0.024985313415527344 s\n",
      "im_stokes0 shape is :  (1024, 1224)\n",
      "DoLP time:  0.03198051452636719 s\n",
      "im_DOLP shape is :  (1024, 1224)\n",
      "Time for DOLP2Theta conversion is :  21.91336703300476 seconds\n",
      "False\n",
      "AoLP time:  0.04297471046447754 s\n"
     ]
    },
    {
     "name": "stderr",
     "output_type": "stream",
     "text": [
      "\n",
      " 96%|███████████████████████████████████████████████████████████████████████████▏  | 217/225 [1:21:58<03:01, 22.69s/it]"
     ]
    },
    {
     "name": "stdout",
     "output_type": "stream",
     "text": [
      "Processing data for material : WATER\n",
      "image_data shape is :  (2048, 2448)\n",
      "im90 shape is :  (1024, 1224)\n",
      "Stokes time:  0.026984691619873047 s\n",
      "im_stokes0 shape is :  (1024, 1224)\n",
      "DoLP time:  0.037978172302246094 s\n",
      "im_DOLP shape is :  (1024, 1224)\n",
      "Time for DOLP2Theta conversion is :  22.92878270149231 seconds\n",
      "False\n",
      "AoLP time:  0.04797196388244629 s\n"
     ]
    },
    {
     "name": "stderr",
     "output_type": "stream",
     "text": [
      "\n",
      " 97%|███████████████████████████████████████████████████████████████████████████▌  | 218/225 [1:22:22<02:40, 22.98s/it]"
     ]
    },
    {
     "name": "stdout",
     "output_type": "stream",
     "text": [
      "Processing data for material : WATER\n",
      "image_data shape is :  (2048, 2448)\n",
      "im90 shape is :  (1024, 1224)\n",
      "Stokes time:  0.02598428726196289 s\n",
      "im_stokes0 shape is :  (1024, 1224)\n",
      "DoLP time:  0.035977840423583984 s\n",
      "im_DOLP shape is :  (1024, 1224)\n",
      "Time for DOLP2Theta conversion is :  22.443061590194702 seconds\n",
      "False\n",
      "AoLP time:  0.04797220230102539 s\n"
     ]
    },
    {
     "name": "stderr",
     "output_type": "stream",
     "text": [
      "\n",
      " 97%|███████████████████████████████████████████████████████████████████████████▉  | 219/225 [1:22:45<02:18, 23.02s/it]"
     ]
    },
    {
     "name": "stdout",
     "output_type": "stream",
     "text": [
      "Processing data for material : WATER\n",
      "image_data shape is :  (2048, 2448)\n",
      "im90 shape is :  (1024, 1224)\n",
      "Stokes time:  0.02698540687561035 s\n",
      "im_stokes0 shape is :  (1024, 1224)\n",
      "DoLP time:  0.03597903251647949 s\n",
      "im_DOLP shape is :  (1024, 1224)\n",
      "Time for DOLP2Theta conversion is :  21.800432205200195 seconds\n",
      "False\n",
      "AoLP time:  0.04097747802734375 s\n"
     ]
    },
    {
     "name": "stderr",
     "output_type": "stream",
     "text": [
      "\n",
      " 98%|████████████████████████████████████████████████████████████████████████████▎ | 220/225 [1:23:07<01:54, 22.86s/it]"
     ]
    },
    {
     "name": "stdout",
     "output_type": "stream",
     "text": [
      "Processing data for material : WATER\n",
      "image_data shape is :  (2048, 2448)\n",
      "im90 shape is :  (1024, 1224)\n",
      "Stokes time:  0.024985074996948242 s\n",
      "im_stokes0 shape is :  (1024, 1224)\n",
      "DoLP time:  0.03397965431213379 s\n",
      "im_DOLP shape is :  (1024, 1224)\n",
      "Time for DOLP2Theta conversion is :  22.294147491455078 seconds\n",
      "False\n",
      "AoLP time:  0.03997611999511719 s\n"
     ]
    },
    {
     "name": "stderr",
     "output_type": "stream",
     "text": [
      "\n",
      " 98%|████████████████████████████████████████████████████████████████████████████▌ | 221/225 [1:23:30<01:31, 22.88s/it]"
     ]
    },
    {
     "name": "stdout",
     "output_type": "stream",
     "text": [
      "Processing data for material : WATER\n",
      "image_data shape is :  (2048, 2448)\n",
      "im90 shape is :  (1024, 1224)\n",
      "Stokes time:  0.02598857879638672 s\n",
      "im_stokes0 shape is :  (1024, 1224)\n",
      "DoLP time:  0.0339810848236084 s\n",
      "im_DOLP shape is :  (1024, 1224)\n",
      "Time for DOLP2Theta conversion is :  21.977330923080444 seconds\n",
      "False\n",
      "AoLP time:  0.039975643157958984 s\n"
     ]
    },
    {
     "name": "stderr",
     "output_type": "stream",
     "text": [
      "\n",
      " 99%|████████████████████████████████████████████████████████████████████████████▉ | 222/225 [1:23:53<01:08, 22.80s/it]"
     ]
    },
    {
     "name": "stdout",
     "output_type": "stream",
     "text": [
      "Processing data for material : WATER\n",
      "image_data shape is :  (2048, 2448)\n",
      "im90 shape is :  (1024, 1224)\n",
      "Stokes time:  0.02698493003845215 s\n",
      "im_stokes0 shape is :  (1024, 1224)\n",
      "DoLP time:  0.03697776794433594 s\n",
      "im_DOLP shape is :  (1024, 1224)\n",
      "Time for DOLP2Theta conversion is :  22.150230884552002 seconds\n",
      "False\n",
      "AoLP time:  0.0399777889251709 s\n"
     ]
    },
    {
     "name": "stderr",
     "output_type": "stream",
     "text": [
      "\n",
      " 99%|█████████████████████████████████████████████████████████████████████████████▎| 223/225 [1:24:16<00:45, 22.81s/it]"
     ]
    },
    {
     "name": "stdout",
     "output_type": "stream",
     "text": [
      "Processing data for material : WATER\n",
      "image_data shape is :  (2048, 2448)\n",
      "im90 shape is :  (1024, 1224)\n",
      "Stokes time:  0.025986433029174805 s\n",
      "im_stokes0 shape is :  (1024, 1224)\n",
      "DoLP time:  0.03198099136352539 s\n",
      "im_DOLP shape is :  (1024, 1224)\n",
      "Time for DOLP2Theta conversion is :  21.2047758102417 seconds\n",
      "False\n",
      "AoLP time:  0.04297447204589844 s\n"
     ]
    },
    {
     "name": "stderr",
     "output_type": "stream",
     "text": [
      "\n",
      "100%|█████████████████████████████████████████████████████████████████████████████▋| 224/225 [1:24:38<00:22, 22.51s/it]"
     ]
    },
    {
     "name": "stdout",
     "output_type": "stream",
     "text": [
      "Processing data for material : WATER\n",
      "image_data shape is :  (2048, 2448)\n",
      "im90 shape is :  (1024, 1224)\n",
      "Stokes time:  0.026984453201293945 s\n",
      "im_stokes0 shape is :  (1024, 1224)\n",
      "DoLP time:  0.03298068046569824 s\n",
      "im_DOLP shape is :  (1024, 1224)\n",
      "Time for DOLP2Theta conversion is :  21.013884782791138 seconds\n",
      "False\n",
      "AoLP time:  0.044974565505981445 s\n"
     ]
    },
    {
     "name": "stderr",
     "output_type": "stream",
     "text": [
      "\n",
      "100%|██████████████████████████████████████████████████████████████████████████████| 225/225 [1:24:59<00:00, 22.26s/it]"
     ]
    },
    {
     "name": "stdout",
     "output_type": "stream",
     "text": [
      "time taken =  83.32533526420593\n"
     ]
    },
    {
     "name": "stderr",
     "output_type": "stream",
     "text": [
      " 50%|███████████████████████████████████████                                       | 2/4 [3:01:45<3:05:20, 5560.22s/it]\n",
      "  0%|                                                                                          | 0/225 [00:00<?, ?it/s]"
     ]
    },
    {
     "name": "stdout",
     "output_type": "stream",
     "text": [
      "Processing data for material : WATER\n",
      "image_data shape is :  (2048, 2448)\n",
      "im90 shape is :  (1024, 1224)\n",
      "Stokes time:  0.0299832820892334 s\n",
      "im_stokes0 shape is :  (1024, 1224)\n",
      "DoLP time:  0.040975093841552734 s\n",
      "im_DOLP shape is :  (1024, 1224)\n",
      "Time for DOLP2Theta conversion is :  21.954345703125 seconds\n",
      "False\n",
      "AoLP time:  0.038974761962890625 s\n"
     ]
    },
    {
     "name": "stderr",
     "output_type": "stream",
     "text": [
      "\n",
      "  0%|▎                                                                               | 1/225 [00:25<1:34:18, 25.26s/it]"
     ]
    },
    {
     "name": "stdout",
     "output_type": "stream",
     "text": [
      "Processing data for material : WATER\n",
      "image_data shape is :  (2048, 2448)\n",
      "im90 shape is :  (1024, 1224)\n",
      "Stokes time:  0.025985002517700195 s\n",
      "im_stokes0 shape is :  (1024, 1224)\n",
      "DoLP time:  0.036977529525756836 s\n",
      "im_DOLP shape is :  (1024, 1224)\n",
      "Time for DOLP2Theta conversion is :  22.212196350097656 seconds\n",
      "False\n",
      "AoLP time:  0.041974782943725586 s\n"
     ]
    },
    {
     "name": "stderr",
     "output_type": "stream",
     "text": [
      "\n",
      "  1%|▋                                                                               | 2/225 [00:48<1:31:12, 24.54s/it]"
     ]
    },
    {
     "name": "stdout",
     "output_type": "stream",
     "text": [
      "Processing data for material : WATER\n",
      "image_data shape is :  (2048, 2448)\n",
      "im90 shape is :  (1024, 1224)\n",
      "Stokes time:  0.02698493003845215 s\n",
      "im_stokes0 shape is :  (1024, 1224)\n",
      "DoLP time:  0.03597903251647949 s\n",
      "im_DOLP shape is :  (1024, 1224)\n",
      "Time for DOLP2Theta conversion is :  22.131242990493774 seconds\n",
      "False\n",
      "AoLP time:  0.04297494888305664 s\n"
     ]
    },
    {
     "name": "stderr",
     "output_type": "stream",
     "text": [
      "\n",
      "  1%|█                                                                               | 3/225 [01:10<1:28:51, 24.02s/it]"
     ]
    },
    {
     "name": "stdout",
     "output_type": "stream",
     "text": [
      "Processing data for material : WATER\n",
      "image_data shape is :  (2048, 2448)\n",
      "im90 shape is :  (1024, 1224)\n",
      "Stokes time:  0.026983976364135742 s\n",
      "im_stokes0 shape is :  (1024, 1224)\n",
      "DoLP time:  0.033980369567871094 s\n",
      "im_DOLP shape is :  (1024, 1224)\n",
      "Time for DOLP2Theta conversion is :  21.962358474731445 seconds\n",
      "False\n",
      "AoLP time:  0.04097628593444824 s\n"
     ]
    },
    {
     "name": "stderr",
     "output_type": "stream",
     "text": [
      "\n",
      "  2%|█▍                                                                              | 4/225 [01:33<1:26:53, 23.59s/it]"
     ]
    },
    {
     "name": "stdout",
     "output_type": "stream",
     "text": [
      "Processing data for material : WATER\n",
      "image_data shape is :  (2048, 2448)\n",
      "im90 shape is :  (1024, 1224)\n",
      "Stokes time:  0.02698493003845215 s\n",
      "im_stokes0 shape is :  (1024, 1224)\n",
      "DoLP time:  0.03298044204711914 s\n",
      "im_DOLP shape is :  (1024, 1224)\n",
      "Time for DOLP2Theta conversion is :  21.894379377365112 seconds\n",
      "False\n",
      "AoLP time:  0.039977073669433594 s\n"
     ]
    },
    {
     "name": "stderr",
     "output_type": "stream",
     "text": [
      "\n",
      "  2%|█▊                                                                              | 5/225 [01:56<1:25:19, 23.27s/it]"
     ]
    },
    {
     "name": "stdout",
     "output_type": "stream",
     "text": [
      "Processing data for material : WATER\n",
      "image_data shape is :  (2048, 2448)\n",
      "im90 shape is :  (1024, 1224)\n",
      "Stokes time:  0.024985551834106445 s\n",
      "im_stokes0 shape is :  (1024, 1224)\n",
      "DoLP time:  0.03298068046569824 s\n",
      "im_DOLP shape is :  (1024, 1224)\n",
      "Time for DOLP2Theta conversion is :  22.40010666847229 seconds\n",
      "False\n",
      "AoLP time:  0.04097461700439453 s\n"
     ]
    },
    {
     "name": "stderr",
     "output_type": "stream",
     "text": [
      "\n",
      "  3%|██▏                                                                             | 6/225 [02:19<1:24:38, 23.19s/it]"
     ]
    },
    {
     "name": "stdout",
     "output_type": "stream",
     "text": [
      "Processing data for material : WATER\n",
      "image_data shape is :  (2048, 2448)\n",
      "im90 shape is :  (1024, 1224)\n",
      "Stokes time:  0.026984691619873047 s\n",
      "im_stokes0 shape is :  (1024, 1224)\n",
      "DoLP time:  0.032980918884277344 s\n",
      "im_DOLP shape is :  (1024, 1224)\n",
      "Time for DOLP2Theta conversion is :  21.57156491279602 seconds\n",
      "False\n",
      "AoLP time:  0.04097580909729004 s\n"
     ]
    },
    {
     "name": "stderr",
     "output_type": "stream",
     "text": [
      "\n",
      "  3%|██▍                                                                             | 7/225 [02:41<1:23:12, 22.90s/it]"
     ]
    },
    {
     "name": "stdout",
     "output_type": "stream",
     "text": [
      "Processing data for material : WATER\n",
      "image_data shape is :  (2048, 2448)\n",
      "im90 shape is :  (1024, 1224)\n",
      "Stokes time:  0.026983976364135742 s\n",
      "im_stokes0 shape is :  (1024, 1224)\n",
      "DoLP time:  0.03398013114929199 s\n",
      "im_DOLP shape is :  (1024, 1224)\n",
      "Time for DOLP2Theta conversion is :  22.51002550125122 seconds\n",
      "False\n",
      "AoLP time:  0.04597282409667969 s\n"
     ]
    },
    {
     "name": "stderr",
     "output_type": "stream",
     "text": [
      "\n",
      "  4%|██▊                                                                             | 8/225 [03:04<1:23:06, 22.98s/it]"
     ]
    },
    {
     "name": "stdout",
     "output_type": "stream",
     "text": [
      "Processing data for material : WATER\n",
      "image_data shape is :  (2048, 2448)\n",
      "im90 shape is :  (1024, 1224)\n",
      "Stokes time:  0.026984691619873047 s\n",
      "im_stokes0 shape is :  (1024, 1224)\n",
      "DoLP time:  0.035979509353637695 s\n",
      "im_DOLP shape is :  (1024, 1224)\n",
      "Time for DOLP2Theta conversion is :  22.40108847618103 seconds\n",
      "False\n",
      "AoLP time:  0.045973777770996094 s\n"
     ]
    },
    {
     "name": "stderr",
     "output_type": "stream",
     "text": [
      "\n",
      "  4%|███▏                                                                            | 9/225 [03:27<1:22:49, 23.01s/it]"
     ]
    },
    {
     "name": "stdout",
     "output_type": "stream",
     "text": [
      "Processing data for material : WATER\n",
      "image_data shape is :  (2048, 2448)\n",
      "im90 shape is :  (1024, 1224)\n",
      "Stokes time:  0.027983427047729492 s\n",
      "im_stokes0 shape is :  (1024, 1224)\n",
      "DoLP time:  0.03697848320007324 s\n",
      "im_DOLP shape is :  (1024, 1224)\n",
      "Time for DOLP2Theta conversion is :  22.583982467651367 seconds\n",
      "False\n",
      "AoLP time:  0.04297471046447754 s\n"
     ]
    },
    {
     "name": "stderr",
     "output_type": "stream",
     "text": [
      "\n",
      "  4%|███▌                                                                           | 10/225 [03:50<1:22:42, 23.08s/it]"
     ]
    },
    {
     "name": "stdout",
     "output_type": "stream",
     "text": [
      "Processing data for material : WATER\n",
      "image_data shape is :  (2048, 2448)\n",
      "im90 shape is :  (1024, 1224)\n",
      "Stokes time:  0.026984214782714844 s\n",
      "im_stokes0 shape is :  (1024, 1224)\n",
      "DoLP time:  0.037978172302246094 s\n",
      "im_DOLP shape is :  (1024, 1224)\n",
      "Time for DOLP2Theta conversion is :  22.488036394119263 seconds\n",
      "False\n",
      "AoLP time:  0.06496238708496094 s\n"
     ]
    },
    {
     "name": "stderr",
     "output_type": "stream",
     "text": [
      "\n",
      "  5%|███▊                                                                           | 11/225 [04:13<1:22:26, 23.11s/it]"
     ]
    },
    {
     "name": "stdout",
     "output_type": "stream",
     "text": [
      "Processing data for material : WATER\n",
      "image_data shape is :  (2048, 2448)\n",
      "im90 shape is :  (1024, 1224)\n",
      "Stokes time:  0.0359797477722168 s\n",
      "im_stokes0 shape is :  (1024, 1224)\n",
      "DoLP time:  0.036977529525756836 s\n",
      "im_DOLP shape is :  (1024, 1224)\n",
      "Time for DOLP2Theta conversion is :  27.16434121131897 seconds\n",
      "False\n",
      "AoLP time:  0.05696702003479004 s\n"
     ]
    },
    {
     "name": "stderr",
     "output_type": "stream",
     "text": [
      "\n",
      "  5%|████▏                                                                          | 12/225 [04:41<1:27:08, 24.55s/it]"
     ]
    },
    {
     "name": "stdout",
     "output_type": "stream",
     "text": [
      "Processing data for material : WATER\n",
      "image_data shape is :  (2048, 2448)\n",
      "im90 shape is :  (1024, 1224)\n",
      "Stokes time:  0.036978721618652344 s\n",
      "im_stokes0 shape is :  (1024, 1224)\n",
      "DoLP time:  0.046972036361694336 s\n",
      "im_DOLP shape is :  (1024, 1224)\n",
      "Time for DOLP2Theta conversion is :  26.919482707977295 seconds\n",
      "False\n",
      "AoLP time:  0.051970481872558594 s\n"
     ]
    },
    {
     "name": "stderr",
     "output_type": "stream",
     "text": [
      "\n",
      "  6%|████▌                                                                          | 13/225 [05:09<1:30:03, 25.49s/it]"
     ]
    },
    {
     "name": "stdout",
     "output_type": "stream",
     "text": [
      "Processing data for material : WATER\n",
      "image_data shape is :  (2048, 2448)\n",
      "im90 shape is :  (1024, 1224)\n",
      "Stokes time:  0.031981706619262695 s\n",
      "im_stokes0 shape is :  (1024, 1224)\n",
      "DoLP time:  0.052968502044677734 s\n",
      "im_DOLP shape is :  (1024, 1224)\n",
      "Time for DOLP2Theta conversion is :  26.62765097618103 seconds\n",
      "False\n",
      "AoLP time:  0.05496811866760254 s\n"
     ]
    },
    {
     "name": "stderr",
     "output_type": "stream",
     "text": [
      "\n",
      "  6%|████▉                                                                          | 14/225 [05:36<1:31:37, 26.06s/it]"
     ]
    },
    {
     "name": "stdout",
     "output_type": "stream",
     "text": [
      "Processing data for material : WATER\n",
      "image_data shape is :  (2048, 2448)\n",
      "im90 shape is :  (1024, 1224)\n",
      "Stokes time:  0.0319819450378418 s\n",
      "im_stokes0 shape is :  (1024, 1224)\n",
      "DoLP time:  0.05696725845336914 s\n",
      "im_DOLP shape is :  (1024, 1224)\n",
      "Time for DOLP2Theta conversion is :  32.30138087272644 seconds\n",
      "False\n",
      "AoLP time:  0.06396245956420898 s\n"
     ]
    },
    {
     "name": "stderr",
     "output_type": "stream",
     "text": [
      "\n",
      "  7%|█████▎                                                                         | 15/225 [06:09<1:38:34, 28.16s/it]"
     ]
    },
    {
     "name": "stdout",
     "output_type": "stream",
     "text": [
      "Processing data for material : WATER\n",
      "image_data shape is :  (2048, 2448)\n",
      "im90 shape is :  (1024, 1224)\n",
      "Stokes time:  0.030982017517089844 s\n",
      "im_stokes0 shape is :  (1024, 1224)\n",
      "DoLP time:  0.05396842956542969 s\n",
      "im_DOLP shape is :  (1024, 1224)\n",
      "Time for DOLP2Theta conversion is :  29.87977647781372 seconds\n",
      "False\n",
      "AoLP time:  0.05496811866760254 s\n"
     ]
    },
    {
     "name": "stderr",
     "output_type": "stream",
     "text": [
      "\n",
      "  7%|█████▌                                                                         | 16/225 [06:40<1:40:42, 28.91s/it]"
     ]
    },
    {
     "name": "stdout",
     "output_type": "stream",
     "text": [
      "Processing data for material : WATER\n",
      "image_data shape is :  (2048, 2448)\n",
      "im90 shape is :  (1024, 1224)\n",
      "Stokes time:  0.03098297119140625 s\n",
      "im_stokes0 shape is :  (1024, 1224)\n",
      "DoLP time:  0.04597282409667969 s\n",
      "im_DOLP shape is :  (1024, 1224)\n",
      "Time for DOLP2Theta conversion is :  29.547967195510864 seconds\n",
      "False\n",
      "AoLP time:  0.05396890640258789 s\n"
     ]
    },
    {
     "name": "stderr",
     "output_type": "stream",
     "text": [
      "\n",
      "  8%|█████▉                                                                         | 17/225 [07:10<1:41:41, 29.34s/it]"
     ]
    },
    {
     "name": "stdout",
     "output_type": "stream",
     "text": [
      "Processing data for material : WATER\n",
      "image_data shape is :  (2048, 2448)\n",
      "im90 shape is :  (1024, 1224)\n",
      "Stokes time:  0.025985240936279297 s\n",
      "im_stokes0 shape is :  (1024, 1224)\n",
      "DoLP time:  0.03597831726074219 s\n",
      "im_DOLP shape is :  (1024, 1224)\n",
      "Time for DOLP2Theta conversion is :  29.91875386238098 seconds\n",
      "False\n",
      "AoLP time:  0.042973995208740234 s\n"
     ]
    },
    {
     "name": "stderr",
     "output_type": "stream",
     "text": [
      "\n",
      "  8%|██████▎                                                                        | 18/225 [07:41<1:42:33, 29.73s/it]"
     ]
    },
    {
     "name": "stdout",
     "output_type": "stream",
     "text": [
      "Processing data for material : WATER\n",
      "image_data shape is :  (2048, 2448)\n",
      "im90 shape is :  (1024, 1224)\n",
      "Stokes time:  0.03298044204711914 s\n",
      "im_stokes0 shape is :  (1024, 1224)\n",
      "DoLP time:  0.05197000503540039 s\n",
      "im_DOLP shape is :  (1024, 1224)\n",
      "Time for DOLP2Theta conversion is :  28.350656986236572 seconds\n",
      "False\n",
      "AoLP time:  0.04197263717651367 s\n"
     ]
    },
    {
     "name": "stderr",
     "output_type": "stream",
     "text": [
      "\n",
      "  8%|██████▋                                                                        | 19/225 [08:10<1:41:21, 29.52s/it]"
     ]
    },
    {
     "name": "stdout",
     "output_type": "stream",
     "text": [
      "Processing data for material : WATER\n",
      "image_data shape is :  (2048, 2448)\n",
      "im90 shape is :  (1024, 1224)\n",
      "Stokes time:  0.029982805252075195 s\n",
      "im_stokes0 shape is :  (1024, 1224)\n",
      "DoLP time:  0.03997683525085449 s\n",
      "im_DOLP shape is :  (1024, 1224)\n",
      "Time for DOLP2Theta conversion is :  25.63522219657898 seconds\n",
      "False\n",
      "AoLP time:  0.05896615982055664 s\n"
     ]
    },
    {
     "name": "stderr",
     "output_type": "stream",
     "text": [
      "\n",
      "  9%|███████                                                                        | 20/225 [08:36<1:37:36, 28.57s/it]"
     ]
    },
    {
     "name": "stdout",
     "output_type": "stream",
     "text": [
      "Processing data for material : WATER\n",
      "image_data shape is :  (2048, 2448)\n",
      "im90 shape is :  (1024, 1224)\n",
      "Stokes time:  0.029983043670654297 s\n",
      "im_stokes0 shape is :  (1024, 1224)\n",
      "DoLP time:  0.03697919845581055 s\n",
      "im_DOLP shape is :  (1024, 1224)\n",
      "Time for DOLP2Theta conversion is :  27.049407243728638 seconds\n",
      "False\n",
      "AoLP time:  0.04197549819946289 s\n"
     ]
    },
    {
     "name": "stderr",
     "output_type": "stream",
     "text": [
      "\n",
      "  9%|███████▎                                                                       | 21/225 [09:04<1:36:20, 28.33s/it]"
     ]
    },
    {
     "name": "stdout",
     "output_type": "stream",
     "text": [
      "Processing data for material : WATER\n",
      "image_data shape is :  (2048, 2448)\n",
      "im90 shape is :  (1024, 1224)\n",
      "Stokes time:  0.0319821834564209 s\n",
      "im_stokes0 shape is :  (1024, 1224)\n",
      "DoLP time:  0.05596780776977539 s\n",
      "im_DOLP shape is :  (1024, 1224)\n",
      "Time for DOLP2Theta conversion is :  25.40435552597046 seconds\n",
      "False\n",
      "AoLP time:  0.041976213455200195 s\n"
     ]
    },
    {
     "name": "stderr",
     "output_type": "stream",
     "text": [
      "\n",
      " 10%|███████▋                                                                       | 22/225 [09:30<1:33:36, 27.67s/it]"
     ]
    },
    {
     "name": "stdout",
     "output_type": "stream",
     "text": [
      "Processing data for material : WATER\n",
      "image_data shape is :  (2048, 2448)\n",
      "im90 shape is :  (1024, 1224)\n",
      "Stokes time:  0.026984691619873047 s\n",
      "im_stokes0 shape is :  (1024, 1224)\n",
      "DoLP time:  0.040975332260131836 s\n",
      "im_DOLP shape is :  (1024, 1224)\n",
      "Time for DOLP2Theta conversion is :  27.852943658828735 seconds\n",
      "False\n",
      "AoLP time:  0.05696702003479004 s\n"
     ]
    },
    {
     "name": "stderr",
     "output_type": "stream",
     "text": [
      "\n",
      " 10%|████████                                                                       | 23/225 [09:59<1:34:03, 27.94s/it]"
     ]
    },
    {
     "name": "stdout",
     "output_type": "stream",
     "text": [
      "Processing data for material : WATER\n",
      "image_data shape is :  (2048, 2448)\n",
      "im90 shape is :  (1024, 1224)\n",
      "Stokes time:  0.028983592987060547 s\n",
      "im_stokes0 shape is :  (1024, 1224)\n",
      "DoLP time:  0.05896592140197754 s\n",
      "im_DOLP shape is :  (1024, 1224)\n",
      "Time for DOLP2Theta conversion is :  26.378794193267822 seconds\n",
      "False\n",
      "AoLP time:  0.051970720291137695 s\n"
     ]
    },
    {
     "name": "stderr",
     "output_type": "stream",
     "text": [
      "\n",
      " 11%|████████▍                                                                      | 24/225 [10:26<1:32:47, 27.70s/it]"
     ]
    },
    {
     "name": "stdout",
     "output_type": "stream",
     "text": [
      "Processing data for material : WATER\n",
      "image_data shape is :  (2048, 2448)\n",
      "im90 shape is :  (1024, 1224)\n",
      "Stokes time:  0.041975975036621094 s\n",
      "im_stokes0 shape is :  (1024, 1224)\n",
      "DoLP time:  0.06396222114562988 s\n",
      "im_DOLP shape is :  (1024, 1224)\n",
      "Time for DOLP2Theta conversion is :  25.98901891708374 seconds\n",
      "False\n",
      "AoLP time:  0.05296921730041504 s\n"
     ]
    },
    {
     "name": "stderr",
     "output_type": "stream",
     "text": [
      "\n",
      " 11%|████████▊                                                                      | 25/225 [10:53<1:31:24, 27.42s/it]"
     ]
    },
    {
     "name": "stdout",
     "output_type": "stream",
     "text": [
      "Processing data for material : WATER\n",
      "image_data shape is :  (2048, 2448)\n",
      "im90 shape is :  (1024, 1224)\n",
      "Stokes time:  0.02598428726196289 s\n",
      "im_stokes0 shape is :  (1024, 1224)\n",
      "DoLP time:  0.03697919845581055 s\n",
      "im_DOLP shape is :  (1024, 1224)\n",
      "Time for DOLP2Theta conversion is :  26.520714044570923 seconds\n",
      "False\n",
      "AoLP time:  0.04497337341308594 s\n"
     ]
    },
    {
     "name": "stderr",
     "output_type": "stream",
     "text": [
      "\n",
      " 12%|█████████▏                                                                     | 26/225 [11:20<1:30:44, 27.36s/it]"
     ]
    },
    {
     "name": "stdout",
     "output_type": "stream",
     "text": [
      "Processing data for material : WATER\n",
      "image_data shape is :  (2048, 2448)\n",
      "im90 shape is :  (1024, 1224)\n",
      "Stokes time:  0.029982328414916992 s\n",
      "im_stokes0 shape is :  (1024, 1224)\n",
      "DoLP time:  0.04097580909729004 s\n",
      "im_DOLP shape is :  (1024, 1224)\n",
      "Time for DOLP2Theta conversion is :  26.529707431793213 seconds\n",
      "False\n",
      "AoLP time:  0.05396842956542969 s\n"
     ]
    },
    {
     "name": "stderr",
     "output_type": "stream",
     "text": [
      "\n",
      " 12%|█████████▍                                                                     | 27/225 [11:47<1:30:07, 27.31s/it]"
     ]
    },
    {
     "name": "stdout",
     "output_type": "stream",
     "text": [
      "Processing data for material : WATER\n",
      "image_data shape is :  (2048, 2448)\n",
      "im90 shape is :  (1024, 1224)\n",
      "Stokes time:  0.026984453201293945 s\n",
      "im_stokes0 shape is :  (1024, 1224)\n",
      "DoLP time:  0.03697800636291504 s\n",
      "im_DOLP shape is :  (1024, 1224)\n",
      "Time for DOLP2Theta conversion is :  29.43103528022766 seconds\n",
      "False\n",
      "AoLP time:  0.057965993881225586 s\n"
     ]
    },
    {
     "name": "stderr",
     "output_type": "stream",
     "text": [
      "\n",
      " 12%|█████████▊                                                                     | 28/225 [12:17<1:32:26, 28.16s/it]"
     ]
    },
    {
     "name": "stdout",
     "output_type": "stream",
     "text": [
      "Processing data for material : WATER\n",
      "image_data shape is :  (2048, 2448)\n",
      "im90 shape is :  (1024, 1224)\n",
      "Stokes time:  0.035979509353637695 s\n",
      "im_stokes0 shape is :  (1024, 1224)\n",
      "DoLP time:  0.043973684310913086 s\n",
      "im_DOLP shape is :  (1024, 1224)\n",
      "Time for DOLP2Theta conversion is :  29.478007555007935 seconds\n",
      "False\n",
      "AoLP time:  0.03997683525085449 s\n"
     ]
    },
    {
     "name": "stderr",
     "output_type": "stream",
     "text": [
      "\n",
      " 13%|██████████▏                                                                    | 29/225 [12:48<1:33:57, 28.76s/it]"
     ]
    },
    {
     "name": "stdout",
     "output_type": "stream",
     "text": [
      "Processing data for material : WATER\n",
      "image_data shape is :  (2048, 2448)\n",
      "im90 shape is :  (1024, 1224)\n",
      "Stokes time:  0.03298068046569824 s\n",
      "im_stokes0 shape is :  (1024, 1224)\n",
      "DoLP time:  0.04597353935241699 s\n",
      "im_DOLP shape is :  (1024, 1224)\n",
      "Time for DOLP2Theta conversion is :  29.66090178489685 seconds\n",
      "False\n",
      "AoLP time:  0.044974565505981445 s\n"
     ]
    },
    {
     "name": "stderr",
     "output_type": "stream",
     "text": [
      "\n",
      " 13%|██████████▌                                                                    | 30/225 [13:18<1:35:04, 29.25s/it]"
     ]
    },
    {
     "name": "stdout",
     "output_type": "stream",
     "text": [
      "Processing data for material : WATER\n",
      "image_data shape is :  (2048, 2448)\n",
      "im90 shape is :  (1024, 1224)\n",
      "Stokes time:  0.025985002517700195 s\n",
      "im_stokes0 shape is :  (1024, 1224)\n",
      "DoLP time:  0.03397965431213379 s\n",
      "im_DOLP shape is :  (1024, 1224)\n",
      "Time for DOLP2Theta conversion is :  28.70645260810852 seconds\n",
      "False\n",
      "AoLP time:  0.04996967315673828 s\n"
     ]
    },
    {
     "name": "stderr",
     "output_type": "stream",
     "text": [
      "\n",
      " 14%|██████████▉                                                                    | 31/225 [13:47<1:34:42, 29.29s/it]"
     ]
    },
    {
     "name": "stdout",
     "output_type": "stream",
     "text": [
      "Processing data for material : WATER\n",
      "image_data shape is :  (2048, 2448)\n",
      "im90 shape is :  (1024, 1224)\n",
      "Stokes time:  0.032980918884277344 s\n",
      "im_stokes0 shape is :  (1024, 1224)\n",
      "DoLP time:  0.05296945571899414 s\n",
      "im_DOLP shape is :  (1024, 1224)\n",
      "Time for DOLP2Theta conversion is :  27.533128023147583 seconds\n",
      "False\n",
      "AoLP time:  0.05696702003479004 s\n"
     ]
    },
    {
     "name": "stderr",
     "output_type": "stream",
     "text": [
      "\n",
      " 14%|███████████▏                                                                   | 32/225 [14:16<1:33:14, 28.99s/it]"
     ]
    },
    {
     "name": "stdout",
     "output_type": "stream",
     "text": [
      "Processing data for material : WATER\n",
      "image_data shape is :  (2048, 2448)\n",
      "im90 shape is :  (1024, 1224)\n",
      "Stokes time:  0.03298068046569824 s\n",
      "im_stokes0 shape is :  (1024, 1224)\n",
      "DoLP time:  0.039977073669433594 s\n",
      "im_DOLP shape is :  (1024, 1224)\n",
      "Time for DOLP2Theta conversion is :  27.30326223373413 seconds\n",
      "False\n",
      "AoLP time:  0.05396890640258789 s\n"
     ]
    },
    {
     "name": "stderr",
     "output_type": "stream",
     "text": [
      "\n",
      " 15%|███████████▌                                                                   | 33/225 [14:44<1:31:51, 28.71s/it]"
     ]
    },
    {
     "name": "stdout",
     "output_type": "stream",
     "text": [
      "Processing data for material : WATER\n",
      "image_data shape is :  (2048, 2448)\n",
      "im90 shape is :  (1024, 1224)\n",
      "Stokes time:  0.03198122978210449 s\n",
      "im_stokes0 shape is :  (1024, 1224)\n",
      "DoLP time:  0.038976430892944336 s\n",
      "im_DOLP shape is :  (1024, 1224)\n",
      "Time for DOLP2Theta conversion is :  27.945891618728638 seconds\n",
      "False\n",
      "AoLP time:  0.059966087341308594 s\n"
     ]
    },
    {
     "name": "stderr",
     "output_type": "stream",
     "text": [
      "\n",
      " 15%|███████████▉                                                                   | 34/225 [15:12<1:31:22, 28.70s/it]"
     ]
    },
    {
     "name": "stdout",
     "output_type": "stream",
     "text": [
      "Processing data for material : WATER\n",
      "image_data shape is :  (2048, 2448)\n",
      "im90 shape is :  (1024, 1224)\n",
      "Stokes time:  0.03098154067993164 s\n",
      "im_stokes0 shape is :  (1024, 1224)\n",
      "DoLP time:  0.04797244071960449 s\n",
      "im_DOLP shape is :  (1024, 1224)\n",
      "Time for DOLP2Theta conversion is :  27.04341173171997 seconds\n",
      "False\n",
      "AoLP time:  0.05296826362609863 s\n"
     ]
    },
    {
     "name": "stderr",
     "output_type": "stream",
     "text": [
      "\n",
      " 16%|████████████▎                                                                  | 35/225 [15:40<1:30:02, 28.43s/it]"
     ]
    },
    {
     "name": "stdout",
     "output_type": "stream",
     "text": [
      "Processing data for material : WATER\n",
      "image_data shape is :  (2048, 2448)\n",
      "im90 shape is :  (1024, 1224)\n",
      "Stokes time:  0.04097580909729004 s\n",
      "im_stokes0 shape is :  (1024, 1224)\n",
      "DoLP time:  0.04297471046447754 s\n",
      "im_DOLP shape is :  (1024, 1224)\n",
      "Time for DOLP2Theta conversion is :  25.94804310798645 seconds\n",
      "False\n",
      "AoLP time:  0.051969289779663086 s\n"
     ]
    },
    {
     "name": "stderr",
     "output_type": "stream",
     "text": [
      "\n",
      " 16%|████████████▋                                                                  | 36/225 [16:07<1:27:55, 27.91s/it]"
     ]
    },
    {
     "name": "stdout",
     "output_type": "stream",
     "text": [
      "Processing data for material : WATER\n",
      "image_data shape is :  (2048, 2448)\n",
      "im90 shape is :  (1024, 1224)\n",
      "Stokes time:  0.02698540687561035 s\n",
      "im_stokes0 shape is :  (1024, 1224)\n",
      "DoLP time:  0.038976430892944336 s\n",
      "im_DOLP shape is :  (1024, 1224)\n",
      "Time for DOLP2Theta conversion is :  29.353078603744507 seconds\n",
      "False\n",
      "AoLP time:  0.055967092514038086 s\n"
     ]
    },
    {
     "name": "stderr",
     "output_type": "stream",
     "text": [
      "\n",
      " 16%|████████████▉                                                                  | 37/225 [16:37<1:29:30, 28.57s/it]"
     ]
    },
    {
     "name": "stdout",
     "output_type": "stream",
     "text": [
      "Processing data for material : WATER\n",
      "image_data shape is :  (2048, 2448)\n",
      "im90 shape is :  (1024, 1224)\n",
      "Stokes time:  0.03198099136352539 s\n",
      "im_stokes0 shape is :  (1024, 1224)\n",
      "DoLP time:  0.052968740463256836 s\n",
      "im_DOLP shape is :  (1024, 1224)\n",
      "Time for DOLP2Theta conversion is :  31.277969360351562 seconds\n",
      "False\n",
      "AoLP time:  0.053967952728271484 s\n"
     ]
    },
    {
     "name": "stderr",
     "output_type": "stream",
     "text": [
      "\n",
      " 17%|█████████████▎                                                                 | 38/225 [17:09<1:32:15, 29.60s/it]"
     ]
    },
    {
     "name": "stdout",
     "output_type": "stream",
     "text": [
      "Processing data for material : WATER\n",
      "image_data shape is :  (2048, 2448)\n",
      "im90 shape is :  (1024, 1224)\n",
      "Stokes time:  0.02898240089416504 s\n",
      "im_stokes0 shape is :  (1024, 1224)\n",
      "DoLP time:  0.04297447204589844 s\n",
      "im_DOLP shape is :  (1024, 1224)\n",
      "Time for DOLP2Theta conversion is :  29.33808946609497 seconds\n",
      "False\n",
      "AoLP time:  0.05696678161621094 s\n"
     ]
    },
    {
     "name": "stderr",
     "output_type": "stream",
     "text": [
      "\n",
      " 17%|█████████████▋                                                                 | 39/225 [17:39<1:32:11, 29.74s/it]"
     ]
    },
    {
     "name": "stdout",
     "output_type": "stream",
     "text": [
      "Processing data for material : WATER\n",
      "image_data shape is :  (2048, 2448)\n",
      "im90 shape is :  (1024, 1224)\n",
      "Stokes time:  0.03597903251647949 s\n",
      "im_stokes0 shape is :  (1024, 1224)\n",
      "DoLP time:  0.047972679138183594 s\n",
      "im_DOLP shape is :  (1024, 1224)\n",
      "Time for DOLP2Theta conversion is :  29.885772943496704 seconds\n",
      "False\n",
      "AoLP time:  0.05097079277038574 s\n"
     ]
    },
    {
     "name": "stderr",
     "output_type": "stream",
     "text": [
      "\n",
      " 18%|██████████████                                                                 | 40/225 [18:10<1:32:31, 30.01s/it]"
     ]
    },
    {
     "name": "stdout",
     "output_type": "stream",
     "text": [
      "Processing data for material : WATER\n",
      "image_data shape is :  (2048, 2448)\n",
      "im90 shape is :  (1024, 1224)\n",
      "Stokes time:  0.03198122978210449 s\n",
      "im_stokes0 shape is :  (1024, 1224)\n",
      "DoLP time:  0.04497408866882324 s\n",
      "im_DOLP shape is :  (1024, 1224)\n",
      "Time for DOLP2Theta conversion is :  28.464593172073364 seconds\n",
      "False\n",
      "AoLP time:  0.05296945571899414 s\n"
     ]
    },
    {
     "name": "stderr",
     "output_type": "stream",
     "text": [
      "\n",
      " 18%|██████████████▍                                                                | 41/225 [18:39<1:31:17, 29.77s/it]"
     ]
    },
    {
     "name": "stdout",
     "output_type": "stream",
     "text": [
      "Processing data for material : WATER\n",
      "image_data shape is :  (2048, 2448)\n",
      "im90 shape is :  (1024, 1224)\n",
      "Stokes time:  0.02898240089416504 s\n",
      "im_stokes0 shape is :  (1024, 1224)\n",
      "DoLP time:  0.04297447204589844 s\n",
      "im_DOLP shape is :  (1024, 1224)\n",
      "Time for DOLP2Theta conversion is :  29.21815800666809 seconds\n",
      "False\n",
      "AoLP time:  0.04497170448303223 s\n"
     ]
    },
    {
     "name": "stderr",
     "output_type": "stream",
     "text": [
      "\n",
      " 19%|██████████████▋                                                                | 42/225 [19:09<1:30:57, 29.82s/it]"
     ]
    },
    {
     "name": "stdout",
     "output_type": "stream",
     "text": [
      "Processing data for material : WATER\n",
      "image_data shape is :  (2048, 2448)\n",
      "im90 shape is :  (1024, 1224)\n",
      "Stokes time:  0.023986339569091797 s\n",
      "im_stokes0 shape is :  (1024, 1224)\n",
      "DoLP time:  0.03997683525085449 s\n",
      "im_DOLP shape is :  (1024, 1224)\n",
      "Time for DOLP2Theta conversion is :  26.388787746429443 seconds\n",
      "False\n",
      "AoLP time:  0.044971466064453125 s\n"
     ]
    },
    {
     "name": "stderr",
     "output_type": "stream",
     "text": [
      "\n",
      " 19%|███████████████                                                                | 43/225 [19:36<1:27:58, 29.00s/it]"
     ]
    },
    {
     "name": "stdout",
     "output_type": "stream",
     "text": [
      "Processing data for material : WATER\n",
      "image_data shape is :  (2048, 2448)\n",
      "im90 shape is :  (1024, 1224)\n",
      "Stokes time:  0.0379786491394043 s\n",
      "im_stokes0 shape is :  (1024, 1224)\n",
      "DoLP time:  0.04497361183166504 s\n",
      "im_DOLP shape is :  (1024, 1224)\n",
      "Time for DOLP2Theta conversion is :  27.455172777175903 seconds\n",
      "False\n",
      "AoLP time:  0.05296945571899414 s\n"
     ]
    },
    {
     "name": "stderr",
     "output_type": "stream",
     "text": [
      "\n",
      " 20%|███████████████▍                                                               | 44/225 [20:04<1:26:45, 28.76s/it]"
     ]
    },
    {
     "name": "stdout",
     "output_type": "stream",
     "text": [
      "Processing data for material : WATER\n",
      "image_data shape is :  (2048, 2448)\n",
      "im90 shape is :  (1024, 1224)\n",
      "Stokes time:  0.03098154067993164 s\n",
      "im_stokes0 shape is :  (1024, 1224)\n",
      "DoLP time:  0.05296945571899414 s\n",
      "im_DOLP shape is :  (1024, 1224)\n",
      "Time for DOLP2Theta conversion is :  27.719019174575806 seconds\n",
      "False\n",
      "AoLP time:  0.05197000503540039 s\n"
     ]
    },
    {
     "name": "stderr",
     "output_type": "stream",
     "text": [
      "\n",
      " 20%|███████████████▊                                                               | 45/225 [20:33<1:26:01, 28.67s/it]"
     ]
    },
    {
     "name": "stdout",
     "output_type": "stream",
     "text": [
      "Processing data for material : WATER\n",
      "image_data shape is :  (2048, 2448)\n",
      "im90 shape is :  (1024, 1224)\n",
      "Stokes time:  0.03198099136352539 s\n",
      "im_stokes0 shape is :  (1024, 1224)\n",
      "DoLP time:  0.04597282409667969 s\n",
      "im_DOLP shape is :  (1024, 1224)\n",
      "Time for DOLP2Theta conversion is :  26.797552347183228 seconds\n",
      "False\n",
      "AoLP time:  0.04097437858581543 s\n"
     ]
    },
    {
     "name": "stderr",
     "output_type": "stream",
     "text": [
      "\n",
      " 20%|████████████████▏                                                              | 46/225 [21:00<1:24:29, 28.32s/it]"
     ]
    },
    {
     "name": "stdout",
     "output_type": "stream",
     "text": [
      "Processing data for material : WATER\n",
      "image_data shape is :  (2048, 2448)\n",
      "im90 shape is :  (1024, 1224)\n",
      "Stokes time:  0.0319819450378418 s\n",
      "im_stokes0 shape is :  (1024, 1224)\n",
      "DoLP time:  0.04597210884094238 s\n",
      "im_DOLP shape is :  (1024, 1224)\n",
      "Time for DOLP2Theta conversion is :  27.615081071853638 seconds\n",
      "False\n",
      "AoLP time:  0.05197000503540039 s\n"
     ]
    },
    {
     "name": "stderr",
     "output_type": "stream",
     "text": [
      "\n",
      " 21%|████████████████▌                                                              | 47/225 [21:29<1:24:04, 28.34s/it]"
     ]
    },
    {
     "name": "stdout",
     "output_type": "stream",
     "text": [
      "Processing data for material : WATER\n",
      "image_data shape is :  (2048, 2448)\n",
      "im90 shape is :  (1024, 1224)\n",
      "Stokes time:  0.028982877731323242 s\n",
      "im_stokes0 shape is :  (1024, 1224)\n",
      "DoLP time:  0.0419766902923584 s\n",
      "im_DOLP shape is :  (1024, 1224)\n",
      "Time for DOLP2Theta conversion is :  30.37748885154724 seconds\n",
      "False\n",
      "AoLP time:  0.060964107513427734 s\n"
     ]
    },
    {
     "name": "stderr",
     "output_type": "stream",
     "text": [
      "\n",
      " 21%|████████████████▊                                                              | 48/225 [22:00<1:26:05, 29.18s/it]"
     ]
    },
    {
     "name": "stdout",
     "output_type": "stream",
     "text": [
      "Processing data for material : WATER\n",
      "image_data shape is :  (2048, 2448)\n",
      "im90 shape is :  (1024, 1224)\n",
      "Stokes time:  0.027984142303466797 s\n",
      "im_stokes0 shape is :  (1024, 1224)\n",
      "DoLP time:  0.03797769546508789 s\n",
      "im_DOLP shape is :  (1024, 1224)\n",
      "Time for DOLP2Theta conversion is :  31.398900032043457 seconds\n",
      "False\n",
      "AoLP time:  0.05896496772766113 s\n"
     ]
    },
    {
     "name": "stderr",
     "output_type": "stream",
     "text": [
      "\n",
      " 22%|█████████████████▏                                                             | 49/225 [22:32<1:28:12, 30.07s/it]"
     ]
    },
    {
     "name": "stdout",
     "output_type": "stream",
     "text": [
      "Processing data for material : WATER\n",
      "image_data shape is :  (2048, 2448)\n",
      "im90 shape is :  (1024, 1224)\n",
      "Stokes time:  0.027983665466308594 s\n",
      "im_stokes0 shape is :  (1024, 1224)\n",
      "DoLP time:  0.040975332260131836 s\n",
      "im_DOLP shape is :  (1024, 1224)\n",
      "Time for DOLP2Theta conversion is :  27.63309097290039 seconds\n",
      "False\n",
      "AoLP time:  0.041974544525146484 s\n"
     ]
    },
    {
     "name": "stderr",
     "output_type": "stream",
     "text": [
      "\n",
      " 22%|█████████████████▌                                                             | 50/225 [23:00<1:26:08, 29.53s/it]"
     ]
    },
    {
     "name": "stdout",
     "output_type": "stream",
     "text": [
      "Processing data for material : WATER\n",
      "image_data shape is :  (2048, 2448)\n",
      "im90 shape is :  (1024, 1224)\n",
      "Stokes time:  0.032980918884277344 s\n",
      "im_stokes0 shape is :  (1024, 1224)\n",
      "DoLP time:  0.04497361183166504 s\n",
      "im_DOLP shape is :  (1024, 1224)\n",
      "Time for DOLP2Theta conversion is :  24.27600622177124 seconds\n",
      "False\n",
      "AoLP time:  0.04997110366821289 s\n"
     ]
    },
    {
     "name": "stderr",
     "output_type": "stream",
     "text": [
      "\n",
      " 23%|█████████████████▉                                                             | 51/225 [23:25<1:21:42, 28.18s/it]"
     ]
    },
    {
     "name": "stdout",
     "output_type": "stream",
     "text": [
      "Processing data for material : WATER\n",
      "image_data shape is :  (2048, 2448)\n",
      "im90 shape is :  (1024, 1224)\n",
      "Stokes time:  0.026984214782714844 s\n",
      "im_stokes0 shape is :  (1024, 1224)\n",
      "DoLP time:  0.03398013114929199 s\n",
      "im_DOLP shape is :  (1024, 1224)\n",
      "Time for DOLP2Theta conversion is :  23.737331867218018 seconds\n",
      "False\n",
      "AoLP time:  0.04397439956665039 s\n"
     ]
    },
    {
     "name": "stderr",
     "output_type": "stream",
     "text": [
      "\n",
      " 23%|██████████████████▎                                                            | 52/225 [23:50<1:18:00, 27.06s/it]"
     ]
    },
    {
     "name": "stdout",
     "output_type": "stream",
     "text": [
      "Processing data for material : WATER\n",
      "image_data shape is :  (2048, 2448)\n",
      "im90 shape is :  (1024, 1224)\n",
      "Stokes time:  0.02998185157775879 s\n",
      "im_stokes0 shape is :  (1024, 1224)\n",
      "DoLP time:  0.04197525978088379 s\n",
      "im_DOLP shape is :  (1024, 1224)\n",
      "Time for DOLP2Theta conversion is :  27.728016138076782 seconds\n",
      "False\n",
      "AoLP time:  0.055966854095458984 s\n"
     ]
    },
    {
     "name": "stderr",
     "output_type": "stream",
     "text": [
      "\n",
      " 24%|██████████████████▌                                                            | 53/225 [24:18<1:18:46, 27.48s/it]"
     ]
    },
    {
     "name": "stdout",
     "output_type": "stream",
     "text": [
      "Processing data for material : WATER\n",
      "image_data shape is :  (2048, 2448)\n",
      "im90 shape is :  (1024, 1224)\n",
      "Stokes time:  0.030982017517089844 s\n",
      "im_stokes0 shape is :  (1024, 1224)\n",
      "DoLP time:  0.05296897888183594 s\n",
      "im_DOLP shape is :  (1024, 1224)\n",
      "Time for DOLP2Theta conversion is :  26.167933225631714 seconds\n",
      "False\n",
      "AoLP time:  0.04297447204589844 s\n"
     ]
    },
    {
     "name": "stderr",
     "output_type": "stream",
     "text": [
      "\n",
      " 24%|██████████████████▉                                                            | 54/225 [24:45<1:17:46, 27.29s/it]"
     ]
    },
    {
     "name": "stdout",
     "output_type": "stream",
     "text": [
      "Processing data for material : WATER\n",
      "image_data shape is :  (2048, 2448)\n",
      "im90 shape is :  (1024, 1224)\n",
      "Stokes time:  0.025984525680541992 s\n",
      "im_stokes0 shape is :  (1024, 1224)\n",
      "DoLP time:  0.03797769546508789 s\n",
      "im_DOLP shape is :  (1024, 1224)\n",
      "Time for DOLP2Theta conversion is :  27.982869625091553 seconds\n",
      "False\n",
      "AoLP time:  0.05296897888183594 s\n"
     ]
    },
    {
     "name": "stderr",
     "output_type": "stream",
     "text": [
      "\n",
      " 24%|███████████████████▎                                                           | 55/225 [25:14<1:18:30, 27.71s/it]"
     ]
    },
    {
     "name": "stdout",
     "output_type": "stream",
     "text": [
      "Processing data for material : WATER\n",
      "image_data shape is :  (2048, 2448)\n",
      "im90 shape is :  (1024, 1224)\n",
      "Stokes time:  0.030982017517089844 s\n",
      "im_stokes0 shape is :  (1024, 1224)\n",
      "DoLP time:  0.04997110366821289 s\n",
      "im_DOLP shape is :  (1024, 1224)\n",
      "Time for DOLP2Theta conversion is :  26.08098268508911 seconds\n",
      "False\n",
      "AoLP time:  0.05196976661682129 s\n"
     ]
    },
    {
     "name": "stderr",
     "output_type": "stream",
     "text": [
      "\n",
      " 25%|███████████████████▋                                                           | 56/225 [25:40<1:17:17, 27.44s/it]"
     ]
    },
    {
     "name": "stdout",
     "output_type": "stream",
     "text": [
      "Processing data for material : WATER\n",
      "image_data shape is :  (2048, 2448)\n",
      "im90 shape is :  (1024, 1224)\n",
      "Stokes time:  0.03098130226135254 s\n",
      "im_stokes0 shape is :  (1024, 1224)\n",
      "DoLP time:  0.03997659683227539 s\n",
      "im_DOLP shape is :  (1024, 1224)\n",
      "Time for DOLP2Theta conversion is :  26.81554341316223 seconds\n",
      "False\n",
      "AoLP time:  0.05396890640258789 s\n"
     ]
    },
    {
     "name": "stderr",
     "output_type": "stream",
     "text": [
      "\n",
      " 25%|████████████████████                                                           | 57/225 [26:08<1:16:54, 27.47s/it]"
     ]
    },
    {
     "name": "stdout",
     "output_type": "stream",
     "text": [
      "Processing data for material : WATER\n",
      "image_data shape is :  (2048, 2448)\n",
      "im90 shape is :  (1024, 1224)\n",
      "Stokes time:  0.035979509353637695 s\n",
      "im_stokes0 shape is :  (1024, 1224)\n",
      "DoLP time:  0.05296921730041504 s\n",
      "im_DOLP shape is :  (1024, 1224)\n",
      "Time for DOLP2Theta conversion is :  26.353830099105835 seconds\n",
      "False\n",
      "AoLP time:  0.05396842956542969 s\n"
     ]
    },
    {
     "name": "stderr",
     "output_type": "stream",
     "text": [
      "\n",
      " 26%|████████████████████▎                                                          | 58/225 [26:35<1:16:07, 27.35s/it]"
     ]
    },
    {
     "name": "stdout",
     "output_type": "stream",
     "text": [
      "Processing data for material : WATER\n",
      "image_data shape is :  (2048, 2448)\n",
      "im90 shape is :  (1024, 1224)\n",
      "Stokes time:  0.034979820251464844 s\n",
      "im_stokes0 shape is :  (1024, 1224)\n",
      "DoLP time:  0.04397463798522949 s\n",
      "im_DOLP shape is :  (1024, 1224)\n",
      "Time for DOLP2Theta conversion is :  26.670625686645508 seconds\n",
      "False\n",
      "AoLP time:  0.05996584892272949 s\n"
     ]
    },
    {
     "name": "stderr",
     "output_type": "stream",
     "text": [
      "\n",
      " 26%|████████████████████▋                                                          | 59/225 [27:02<1:15:41, 27.36s/it]"
     ]
    },
    {
     "name": "stdout",
     "output_type": "stream",
     "text": [
      "Processing data for material : WATER\n",
      "image_data shape is :  (2048, 2448)\n",
      "im90 shape is :  (1024, 1224)\n",
      "Stokes time:  0.03597879409790039 s\n",
      "im_stokes0 shape is :  (1024, 1224)\n",
      "DoLP time:  0.04397463798522949 s\n",
      "im_DOLP shape is :  (1024, 1224)\n",
      "Time for DOLP2Theta conversion is :  26.92348051071167 seconds\n",
      "False\n",
      "AoLP time:  0.05196976661682129 s\n"
     ]
    },
    {
     "name": "stderr",
     "output_type": "stream",
     "text": [
      "\n",
      " 27%|█████████████████████                                                          | 60/225 [27:30<1:15:28, 27.45s/it]"
     ]
    },
    {
     "name": "stdout",
     "output_type": "stream",
     "text": [
      "Processing data for material : WATER\n",
      "image_data shape is :  (2048, 2448)\n",
      "im90 shape is :  (1024, 1224)\n",
      "Stokes time:  0.03198122978210449 s\n",
      "im_stokes0 shape is :  (1024, 1224)\n",
      "DoLP time:  0.04297494888305664 s\n",
      "im_DOLP shape is :  (1024, 1224)\n",
      "Time for DOLP2Theta conversion is :  29.132206916809082 seconds\n",
      "False\n",
      "AoLP time:  0.05796623229980469 s\n"
     ]
    },
    {
     "name": "stderr",
     "output_type": "stream",
     "text": [
      "\n",
      " 27%|█████████████████████▍                                                         | 61/225 [28:00<1:17:01, 28.18s/it]"
     ]
    },
    {
     "name": "stdout",
     "output_type": "stream",
     "text": [
      "Processing data for material : WATER\n",
      "image_data shape is :  (2048, 2448)\n",
      "im90 shape is :  (1024, 1224)\n",
      "Stokes time:  0.03797769546508789 s\n",
      "im_stokes0 shape is :  (1024, 1224)\n",
      "DoLP time:  0.04297280311584473 s\n",
      "im_DOLP shape is :  (1024, 1224)\n",
      "Time for DOLP2Theta conversion is :  28.300687551498413 seconds\n",
      "False\n",
      "AoLP time:  0.04997086524963379 s\n"
     ]
    },
    {
     "name": "stderr",
     "output_type": "stream",
     "text": [
      "\n",
      " 28%|█████████████████████▊                                                         | 62/225 [28:29<1:17:15, 28.44s/it]"
     ]
    },
    {
     "name": "stdout",
     "output_type": "stream",
     "text": [
      "Processing data for material : WATER\n",
      "image_data shape is :  (2048, 2448)\n",
      "im90 shape is :  (1024, 1224)\n",
      "Stokes time:  0.029981613159179688 s\n",
      "im_stokes0 shape is :  (1024, 1224)\n",
      "DoLP time:  0.04097604751586914 s\n",
      "im_DOLP shape is :  (1024, 1224)\n",
      "Time for DOLP2Theta conversion is :  27.64406442642212 seconds\n",
      "False\n",
      "AoLP time:  0.059966325759887695 s\n"
     ]
    },
    {
     "name": "stderr",
     "output_type": "stream",
     "text": [
      "\n",
      " 28%|██████████████████████                                                         | 63/225 [28:57<1:16:45, 28.43s/it]"
     ]
    },
    {
     "name": "stdout",
     "output_type": "stream",
     "text": [
      "Processing data for material : WATER\n",
      "image_data shape is :  (2048, 2448)\n",
      "im90 shape is :  (1024, 1224)\n",
      "Stokes time:  0.03398013114929199 s\n",
      "im_stokes0 shape is :  (1024, 1224)\n",
      "DoLP time:  0.049970149993896484 s\n",
      "im_DOLP shape is :  (1024, 1224)\n",
      "Time for DOLP2Theta conversion is :  28.606509923934937 seconds\n",
      "False\n",
      "AoLP time:  0.05296778678894043 s\n"
     ]
    },
    {
     "name": "stderr",
     "output_type": "stream",
     "text": [
      "\n",
      " 28%|██████████████████████▍                                                        | 64/225 [29:27<1:16:59, 28.69s/it]"
     ]
    },
    {
     "name": "stdout",
     "output_type": "stream",
     "text": [
      "Processing data for material : WATER\n",
      "image_data shape is :  (2048, 2448)\n",
      "im90 shape is :  (1024, 1224)\n",
      "Stokes time:  0.03397989273071289 s\n",
      "im_stokes0 shape is :  (1024, 1224)\n",
      "DoLP time:  0.042974233627319336 s\n",
      "im_DOLP shape is :  (1024, 1224)\n",
      "Time for DOLP2Theta conversion is :  30.773261547088623 seconds\n",
      "False\n",
      "AoLP time:  0.052969932556152344 s\n"
     ]
    },
    {
     "name": "stderr",
     "output_type": "stream",
     "text": [
      "\n",
      " 29%|██████████████████████▊                                                        | 65/225 [29:58<1:18:49, 29.56s/it]"
     ]
    },
    {
     "name": "stdout",
     "output_type": "stream",
     "text": [
      "Processing data for material : WATER\n",
      "image_data shape is :  (2048, 2448)\n",
      "im90 shape is :  (1024, 1224)\n",
      "Stokes time:  0.027982473373413086 s\n",
      "im_stokes0 shape is :  (1024, 1224)\n",
      "DoLP time:  0.03597879409790039 s\n",
      "im_DOLP shape is :  (1024, 1224)\n",
      "Time for DOLP2Theta conversion is :  31.197017908096313 seconds\n",
      "False\n",
      "AoLP time:  0.05396842956542969 s\n"
     ]
    },
    {
     "name": "stderr",
     "output_type": "stream",
     "text": [
      "\n",
      " 29%|███████████████████████▏                                                       | 66/225 [30:30<1:20:12, 30.27s/it]"
     ]
    },
    {
     "name": "stdout",
     "output_type": "stream",
     "text": [
      "Processing data for material : WATER\n",
      "image_data shape is :  (2048, 2448)\n",
      "im90 shape is :  (1024, 1224)\n",
      "Stokes time:  0.03498029708862305 s\n",
      "im_stokes0 shape is :  (1024, 1224)\n",
      "DoLP time:  0.04297518730163574 s\n",
      "im_DOLP shape is :  (1024, 1224)\n",
      "Time for DOLP2Theta conversion is :  27.995861530303955 seconds\n",
      "False\n",
      "AoLP time:  0.06096482276916504 s\n"
     ]
    },
    {
     "name": "stderr",
     "output_type": "stream",
     "text": [
      "\n",
      " 30%|███████████████████████▌                                                       | 67/225 [30:59<1:18:28, 29.80s/it]"
     ]
    },
    {
     "name": "stdout",
     "output_type": "stream",
     "text": [
      "Processing data for material : WATER\n",
      "image_data shape is :  (2048, 2448)\n",
      "im90 shape is :  (1024, 1224)\n",
      "Stokes time:  0.04597353935241699 s\n",
      "im_stokes0 shape is :  (1024, 1224)\n",
      "DoLP time:  0.04197573661804199 s\n",
      "im_DOLP shape is :  (1024, 1224)\n",
      "Time for DOLP2Theta conversion is :  27.708027362823486 seconds\n",
      "False\n",
      "AoLP time:  0.05996561050415039 s\n"
     ]
    },
    {
     "name": "stderr",
     "output_type": "stream",
     "text": [
      "\n",
      " 30%|███████████████████████▉                                                       | 68/225 [31:27<1:16:57, 29.41s/it]"
     ]
    },
    {
     "name": "stdout",
     "output_type": "stream",
     "text": [
      "Processing data for material : WATER\n",
      "image_data shape is :  (2048, 2448)\n",
      "im90 shape is :  (1024, 1224)\n",
      "Stokes time:  0.03597903251647949 s\n",
      "im_stokes0 shape is :  (1024, 1224)\n",
      "DoLP time:  0.04697275161743164 s\n",
      "im_DOLP shape is :  (1024, 1224)\n",
      "Time for DOLP2Theta conversion is :  28.553540468215942 seconds\n",
      "False\n",
      "AoLP time:  0.05196857452392578 s\n"
     ]
    },
    {
     "name": "stderr",
     "output_type": "stream",
     "text": [
      "\n",
      " 31%|████████████████████████▏                                                      | 69/225 [31:57<1:16:25, 29.39s/it]"
     ]
    },
    {
     "name": "stdout",
     "output_type": "stream",
     "text": [
      "Processing data for material : WATER\n",
      "image_data shape is :  (2048, 2448)\n",
      "im90 shape is :  (1024, 1224)\n",
      "Stokes time:  0.027984142303466797 s\n",
      "im_stokes0 shape is :  (1024, 1224)\n",
      "DoLP time:  0.03697776794433594 s\n",
      "im_DOLP shape is :  (1024, 1224)\n",
      "Time for DOLP2Theta conversion is :  28.604510068893433 seconds\n",
      "False\n",
      "AoLP time:  0.05097031593322754 s\n"
     ]
    },
    {
     "name": "stderr",
     "output_type": "stream",
     "text": [
      "\n",
      " 31%|████████████████████████▌                                                      | 70/225 [32:26<1:15:50, 29.36s/it]"
     ]
    },
    {
     "name": "stdout",
     "output_type": "stream",
     "text": [
      "Processing data for material : WATER\n",
      "image_data shape is :  (2048, 2448)\n",
      "im90 shape is :  (1024, 1224)\n",
      "Stokes time:  0.03398013114929199 s\n",
      "im_stokes0 shape is :  (1024, 1224)\n",
      "DoLP time:  0.050969839096069336 s\n",
      "im_DOLP shape is :  (1024, 1224)\n",
      "Time for DOLP2Theta conversion is :  29.851792573928833 seconds\n",
      "False\n",
      "AoLP time:  0.054968833923339844 s\n"
     ]
    },
    {
     "name": "stderr",
     "output_type": "stream",
     "text": [
      "\n",
      " 32%|████████████████████████▉                                                      | 71/225 [32:57<1:16:19, 29.74s/it]"
     ]
    },
    {
     "name": "stdout",
     "output_type": "stream",
     "text": [
      "Processing data for material : WATER\n",
      "image_data shape is :  (2048, 2448)\n",
      "im90 shape is :  (1024, 1224)\n",
      "Stokes time:  0.031981706619262695 s\n",
      "im_stokes0 shape is :  (1024, 1224)\n",
      "DoLP time:  0.05496835708618164 s\n",
      "im_DOLP shape is :  (1024, 1224)\n",
      "Time for DOLP2Theta conversion is :  28.996285676956177 seconds\n",
      "False\n",
      "AoLP time:  0.051969289779663086 s\n"
     ]
    },
    {
     "name": "stderr",
     "output_type": "stream",
     "text": [
      "\n",
      " 32%|█████████████████████████▎                                                     | 72/225 [33:26<1:15:49, 29.74s/it]"
     ]
    },
    {
     "name": "stdout",
     "output_type": "stream",
     "text": [
      "Processing data for material : WATER\n",
      "image_data shape is :  (2048, 2448)\n",
      "im90 shape is :  (1024, 1224)\n",
      "Stokes time:  0.03397941589355469 s\n",
      "im_stokes0 shape is :  (1024, 1224)\n",
      "DoLP time:  0.040975093841552734 s\n",
      "im_DOLP shape is :  (1024, 1224)\n",
      "Time for DOLP2Theta conversion is :  29.49499797821045 seconds\n",
      "False\n",
      "AoLP time:  0.04697060585021973 s\n"
     ]
    },
    {
     "name": "stderr",
     "output_type": "stream",
     "text": [
      "\n",
      " 32%|█████████████████████████▋                                                     | 73/225 [33:57<1:15:43, 29.89s/it]"
     ]
    },
    {
     "name": "stdout",
     "output_type": "stream",
     "text": [
      "Processing data for material : WATER\n",
      "image_data shape is :  (2048, 2448)\n",
      "im90 shape is :  (1024, 1224)\n",
      "Stokes time:  0.030982017517089844 s\n",
      "im_stokes0 shape is :  (1024, 1224)\n",
      "DoLP time:  0.060964345932006836 s\n",
      "im_DOLP shape is :  (1024, 1224)\n",
      "Time for DOLP2Theta conversion is :  32.30537819862366 seconds\n",
      "False\n",
      "AoLP time:  0.06196308135986328 s\n"
     ]
    },
    {
     "name": "stderr",
     "output_type": "stream",
     "text": [
      "\n",
      " 33%|█████████████████████████▉                                                     | 74/225 [34:30<1:17:41, 30.87s/it]"
     ]
    },
    {
     "name": "stdout",
     "output_type": "stream",
     "text": [
      "Processing data for material : WATER\n",
      "image_data shape is :  (2048, 2448)\n",
      "im90 shape is :  (1024, 1224)\n",
      "Stokes time:  0.043975114822387695 s\n",
      "im_stokes0 shape is :  (1024, 1224)\n",
      "DoLP time:  0.04297327995300293 s\n",
      "im_DOLP shape is :  (1024, 1224)\n",
      "Time for DOLP2Theta conversion is :  33.40974140167236 seconds\n",
      "False\n",
      "AoLP time:  0.06196403503417969 s\n"
     ]
    },
    {
     "name": "stderr",
     "output_type": "stream",
     "text": [
      "\n",
      " 33%|██████████████████████████▎                                                    | 75/225 [35:04<1:19:42, 31.89s/it]"
     ]
    },
    {
     "name": "stdout",
     "output_type": "stream",
     "text": [
      "Processing data for material : WATER\n",
      "image_data shape is :  (2048, 2448)\n",
      "im90 shape is :  (1024, 1224)\n",
      "Stokes time:  0.027983665466308594 s\n",
      "im_stokes0 shape is :  (1024, 1224)\n",
      "DoLP time:  0.03997611999511719 s\n",
      "im_DOLP shape is :  (1024, 1224)\n",
      "Time for DOLP2Theta conversion is :  31.756694316864014 seconds\n",
      "False\n",
      "AoLP time:  0.059964656829833984 s\n"
     ]
    },
    {
     "name": "stderr",
     "output_type": "stream",
     "text": [
      "\n",
      " 34%|██████████████████████████▋                                                    | 76/225 [35:36<1:19:37, 32.06s/it]"
     ]
    },
    {
     "name": "stdout",
     "output_type": "stream",
     "text": [
      "Processing data for material : WATER\n",
      "image_data shape is :  (2048, 2448)\n",
      "im90 shape is :  (1024, 1224)\n",
      "Stokes time:  0.0419769287109375 s\n",
      "im_stokes0 shape is :  (1024, 1224)\n",
      "DoLP time:  0.04297351837158203 s\n",
      "im_DOLP shape is :  (1024, 1224)\n",
      "Time for DOLP2Theta conversion is :  30.17960286140442 seconds\n",
      "False\n",
      "AoLP time:  0.05196976661682129 s\n"
     ]
    },
    {
     "name": "stderr",
     "output_type": "stream",
     "text": [
      "\n",
      " 34%|███████████████████████████                                                    | 77/225 [36:07<1:18:15, 31.73s/it]"
     ]
    },
    {
     "name": "stdout",
     "output_type": "stream",
     "text": [
      "Processing data for material : WATER\n",
      "image_data shape is :  (2048, 2448)\n",
      "im90 shape is :  (1024, 1224)\n",
      "Stokes time:  0.033980369567871094 s\n",
      "im_stokes0 shape is :  (1024, 1224)\n",
      "DoLP time:  0.03997635841369629 s\n",
      "im_DOLP shape is :  (1024, 1224)\n",
      "Time for DOLP2Theta conversion is :  30.075663089752197 seconds\n",
      "False\n",
      "AoLP time:  0.05097031593322754 s\n"
     ]
    },
    {
     "name": "stderr",
     "output_type": "stream",
     "text": [
      "\n",
      " 35%|███████████████████████████▍                                                   | 78/225 [36:38<1:17:03, 31.46s/it]"
     ]
    },
    {
     "name": "stdout",
     "output_type": "stream",
     "text": [
      "Processing data for material : WATER\n",
      "image_data shape is :  (2048, 2448)\n",
      "im90 shape is :  (1024, 1224)\n",
      "Stokes time:  0.025984764099121094 s\n",
      "im_stokes0 shape is :  (1024, 1224)\n",
      "DoLP time:  0.03497934341430664 s\n",
      "im_DOLP shape is :  (1024, 1224)\n",
      "Time for DOLP2Theta conversion is :  28.916332483291626 seconds\n",
      "False\n",
      "AoLP time:  0.03997468948364258 s\n"
     ]
    },
    {
     "name": "stderr",
     "output_type": "stream",
     "text": [
      "\n",
      " 35%|███████████████████████████▋                                                   | 79/225 [37:08<1:15:10, 30.89s/it]"
     ]
    },
    {
     "name": "stdout",
     "output_type": "stream",
     "text": [
      "Processing data for material : WATER\n",
      "image_data shape is :  (2048, 2448)\n",
      "im90 shape is :  (1024, 1224)\n",
      "Stokes time:  0.03298044204711914 s\n",
      "im_stokes0 shape is :  (1024, 1224)\n",
      "DoLP time:  0.03997659683227539 s\n",
      "im_DOLP shape is :  (1024, 1224)\n",
      "Time for DOLP2Theta conversion is :  25.596243858337402 seconds\n",
      "False\n",
      "AoLP time:  0.050971269607543945 s\n"
     ]
    },
    {
     "name": "stderr",
     "output_type": "stream",
     "text": [
      "\n",
      " 36%|████████████████████████████                                                   | 80/225 [37:34<1:11:20, 29.52s/it]"
     ]
    },
    {
     "name": "stdout",
     "output_type": "stream",
     "text": [
      "Processing data for material : WATER\n",
      "image_data shape is :  (2048, 2448)\n",
      "im90 shape is :  (1024, 1224)\n",
      "Stokes time:  0.03298020362854004 s\n",
      "im_stokes0 shape is :  (1024, 1224)\n",
      "DoLP time:  0.042975425720214844 s\n",
      "im_DOLP shape is :  (1024, 1224)\n",
      "Time for DOLP2Theta conversion is :  27.27727723121643 seconds\n",
      "False\n",
      "AoLP time:  0.057965755462646484 s\n"
     ]
    },
    {
     "name": "stderr",
     "output_type": "stream",
     "text": [
      "\n",
      " 36%|████████████████████████████▍                                                  | 81/225 [38:02<1:09:48, 29.08s/it]"
     ]
    },
    {
     "name": "stdout",
     "output_type": "stream",
     "text": [
      "Processing data for material : WATER\n",
      "image_data shape is :  (2048, 2448)\n",
      "im90 shape is :  (1024, 1224)\n",
      "Stokes time:  0.03498077392578125 s\n",
      "im_stokes0 shape is :  (1024, 1224)\n",
      "DoLP time:  0.0619657039642334 s\n",
      "im_DOLP shape is :  (1024, 1224)\n",
      "Time for DOLP2Theta conversion is :  26.28584885597229 seconds\n",
      "False\n",
      "AoLP time:  0.04297351837158203 s\n"
     ]
    },
    {
     "name": "stderr",
     "output_type": "stream",
     "text": [
      "\n",
      " 36%|████████████████████████████▊                                                  | 82/225 [38:29<1:07:51, 28.47s/it]"
     ]
    },
    {
     "name": "stdout",
     "output_type": "stream",
     "text": [
      "Processing data for material : WATER\n",
      "image_data shape is :  (2048, 2448)\n",
      "im90 shape is :  (1024, 1224)\n",
      "Stokes time:  0.031982421875 s\n",
      "im_stokes0 shape is :  (1024, 1224)\n",
      "DoLP time:  0.041976213455200195 s\n",
      "im_DOLP shape is :  (1024, 1224)\n",
      "Time for DOLP2Theta conversion is :  26.492730140686035 seconds\n",
      "False\n",
      "AoLP time:  0.051970720291137695 s\n"
     ]
    },
    {
     "name": "stderr",
     "output_type": "stream",
     "text": [
      "\n",
      " 37%|█████████████████████████████▏                                                 | 83/225 [38:56<1:06:29, 28.10s/it]"
     ]
    },
    {
     "name": "stdout",
     "output_type": "stream",
     "text": [
      "Processing data for material : WATER\n",
      "image_data shape is :  (2048, 2448)\n",
      "im90 shape is :  (1024, 1224)\n",
      "Stokes time:  0.03098273277282715 s\n",
      "im_stokes0 shape is :  (1024, 1224)\n",
      "DoLP time:  0.045973777770996094 s\n",
      "im_DOLP shape is :  (1024, 1224)\n",
      "Time for DOLP2Theta conversion is :  26.913484811782837 seconds\n",
      "False\n",
      "AoLP time:  0.04897165298461914 s\n"
     ]
    },
    {
     "name": "stderr",
     "output_type": "stream",
     "text": [
      "\n",
      " 37%|█████████████████████████████▍                                                 | 84/225 [39:24<1:05:41, 27.95s/it]"
     ]
    },
    {
     "name": "stdout",
     "output_type": "stream",
     "text": [
      "Processing data for material : WATER\n",
      "image_data shape is :  (2048, 2448)\n",
      "im90 shape is :  (1024, 1224)\n",
      "Stokes time:  0.030982017517089844 s\n",
      "im_stokes0 shape is :  (1024, 1224)\n",
      "DoLP time:  0.057965993881225586 s\n",
      "im_DOLP shape is :  (1024, 1224)\n",
      "Time for DOLP2Theta conversion is :  27.098379135131836 seconds\n",
      "False\n",
      "AoLP time:  0.05096936225891113 s\n"
     ]
    },
    {
     "name": "stderr",
     "output_type": "stream",
     "text": [
      "\n",
      " 38%|█████████████████████████████▊                                                 | 85/225 [39:52<1:05:08, 27.92s/it]"
     ]
    },
    {
     "name": "stdout",
     "output_type": "stream",
     "text": [
      "Processing data for material : WATER\n",
      "image_data shape is :  (2048, 2448)\n",
      "im90 shape is :  (1024, 1224)\n",
      "Stokes time:  0.033980369567871094 s\n",
      "im_stokes0 shape is :  (1024, 1224)\n",
      "DoLP time:  0.04097628593444824 s\n",
      "im_DOLP shape is :  (1024, 1224)\n",
      "Time for DOLP2Theta conversion is :  26.304836750030518 seconds\n",
      "False\n",
      "AoLP time:  0.05496716499328613 s\n"
     ]
    },
    {
     "name": "stderr",
     "output_type": "stream",
     "text": [
      "\n",
      " 38%|██████████████████████████████▏                                                | 86/225 [40:19<1:04:03, 27.65s/it]"
     ]
    },
    {
     "name": "stdout",
     "output_type": "stream",
     "text": [
      "Processing data for material : WATER\n",
      "image_data shape is :  (2048, 2448)\n",
      "im90 shape is :  (1024, 1224)\n",
      "Stokes time:  0.03198099136352539 s\n",
      "im_stokes0 shape is :  (1024, 1224)\n",
      "DoLP time:  0.04097628593444824 s\n",
      "im_DOLP shape is :  (1024, 1224)\n",
      "Time for DOLP2Theta conversion is :  25.669204711914062 seconds\n",
      "False\n",
      "AoLP time:  0.04197549819946289 s\n"
     ]
    },
    {
     "name": "stderr",
     "output_type": "stream",
     "text": [
      "\n",
      " 39%|██████████████████████████████▌                                                | 87/225 [40:45<1:02:43, 27.27s/it]"
     ]
    },
    {
     "name": "stdout",
     "output_type": "stream",
     "text": [
      "Processing data for material : WATER\n",
      "image_data shape is :  (2048, 2448)\n",
      "im90 shape is :  (1024, 1224)\n",
      "Stokes time:  0.0359797477722168 s\n",
      "im_stokes0 shape is :  (1024, 1224)\n",
      "DoLP time:  0.04997086524963379 s\n",
      "im_DOLP shape is :  (1024, 1224)\n",
      "Time for DOLP2Theta conversion is :  30.571378469467163 seconds\n",
      "False\n",
      "AoLP time:  0.05596733093261719 s\n"
     ]
    },
    {
     "name": "stderr",
     "output_type": "stream",
     "text": [
      "\n",
      " 39%|██████████████████████████████▉                                                | 88/225 [41:17<1:05:01, 28.48s/it]"
     ]
    },
    {
     "name": "stdout",
     "output_type": "stream",
     "text": [
      "Processing data for material : WATER\n",
      "image_data shape is :  (2048, 2448)\n",
      "im90 shape is :  (1024, 1224)\n",
      "Stokes time:  0.03697848320007324 s\n",
      "im_stokes0 shape is :  (1024, 1224)\n",
      "DoLP time:  0.0439755916595459 s\n",
      "im_DOLP shape is :  (1024, 1224)\n",
      "Time for DOLP2Theta conversion is :  28.364649295806885 seconds\n",
      "False\n",
      "AoLP time:  0.04597210884094238 s\n"
     ]
    },
    {
     "name": "stderr",
     "output_type": "stream",
     "text": [
      "\n",
      " 40%|███████████████████████████████▏                                               | 89/225 [41:46<1:04:59, 28.68s/it]"
     ]
    },
    {
     "name": "stdout",
     "output_type": "stream",
     "text": [
      "Processing data for material : WATER\n",
      "image_data shape is :  (2048, 2448)\n",
      "im90 shape is :  (1024, 1224)\n",
      "Stokes time:  0.0279843807220459 s\n",
      "im_stokes0 shape is :  (1024, 1224)\n",
      "DoLP time:  0.03497958183288574 s\n",
      "im_DOLP shape is :  (1024, 1224)\n",
      "Time for DOLP2Theta conversion is :  28.766418933868408 seconds\n",
      "False\n",
      "AoLP time:  0.041974782943725586 s\n"
     ]
    },
    {
     "name": "stderr",
     "output_type": "stream",
     "text": [
      "\n",
      " 40%|███████████████████████████████▌                                               | 90/225 [42:15<1:05:02, 28.91s/it]"
     ]
    },
    {
     "name": "stdout",
     "output_type": "stream",
     "text": [
      "Processing data for material : WATER\n",
      "image_data shape is :  (2048, 2448)\n",
      "im90 shape is :  (1024, 1224)\n",
      "Stokes time:  0.03298139572143555 s\n",
      "im_stokes0 shape is :  (1024, 1224)\n",
      "DoLP time:  0.0459744930267334 s\n",
      "im_DOLP shape is :  (1024, 1224)\n",
      "Time for DOLP2Theta conversion is :  29.15719246864319 seconds\n",
      "False\n",
      "AoLP time:  0.050971031188964844 s\n"
     ]
    },
    {
     "name": "stderr",
     "output_type": "stream",
     "text": [
      "\n",
      " 40%|███████████████████████████████▉                                               | 91/225 [42:45<1:05:13, 29.20s/it]"
     ]
    },
    {
     "name": "stdout",
     "output_type": "stream",
     "text": [
      "Processing data for material : WATER\n",
      "image_data shape is :  (2048, 2448)\n",
      "im90 shape is :  (1024, 1224)\n",
      "Stokes time:  0.027983665466308594 s\n",
      "im_stokes0 shape is :  (1024, 1224)\n",
      "DoLP time:  0.05197000503540039 s\n",
      "im_DOLP shape is :  (1024, 1224)\n",
      "Time for DOLP2Theta conversion is :  27.884926795959473 seconds\n",
      "False\n",
      "AoLP time:  0.043974876403808594 s\n"
     ]
    },
    {
     "name": "stderr",
     "output_type": "stream",
     "text": [
      "\n",
      " 41%|████████████████████████████████▎                                              | 92/225 [43:14<1:04:20, 29.03s/it]"
     ]
    },
    {
     "name": "stdout",
     "output_type": "stream",
     "text": [
      "Processing data for material : WATER\n",
      "image_data shape is :  (2048, 2448)\n",
      "im90 shape is :  (1024, 1224)\n",
      "Stokes time:  0.03398013114929199 s\n",
      "im_stokes0 shape is :  (1024, 1224)\n",
      "DoLP time:  0.044974327087402344 s\n",
      "im_DOLP shape is :  (1024, 1224)\n",
      "Time for DOLP2Theta conversion is :  26.352811098098755 seconds\n",
      "False\n",
      "AoLP time:  0.04797244071960449 s\n"
     ]
    },
    {
     "name": "stderr",
     "output_type": "stream",
     "text": [
      "\n",
      " 41%|████████████████████████████████▋                                              | 93/225 [43:41<1:02:35, 28.45s/it]"
     ]
    },
    {
     "name": "stdout",
     "output_type": "stream",
     "text": [
      "Processing data for material : WATER\n",
      "image_data shape is :  (2048, 2448)\n",
      "im90 shape is :  (1024, 1224)\n",
      "Stokes time:  0.02998042106628418 s\n",
      "im_stokes0 shape is :  (1024, 1224)\n",
      "DoLP time:  0.05596733093261719 s\n",
      "im_DOLP shape is :  (1024, 1224)\n",
      "Time for DOLP2Theta conversion is :  27.13335871696472 seconds\n",
      "False\n",
      "AoLP time:  0.041975975036621094 s\n"
     ]
    },
    {
     "name": "stderr",
     "output_type": "stream",
     "text": [
      "\n",
      " 42%|█████████████████████████████████                                              | 94/225 [44:09<1:01:43, 28.27s/it]"
     ]
    },
    {
     "name": "stdout",
     "output_type": "stream",
     "text": [
      "Processing data for material : WATER\n",
      "image_data shape is :  (2048, 2448)\n",
      "im90 shape is :  (1024, 1224)\n",
      "Stokes time:  0.03397965431213379 s\n",
      "im_stokes0 shape is :  (1024, 1224)\n",
      "DoLP time:  0.041974782943725586 s\n",
      "im_DOLP shape is :  (1024, 1224)\n",
      "Time for DOLP2Theta conversion is :  26.30183982849121 seconds\n",
      "False\n",
      "AoLP time:  0.050971031188964844 s\n"
     ]
    },
    {
     "name": "stderr",
     "output_type": "stream",
     "text": [
      "\n",
      " 42%|█████████████████████████████████▎                                             | 95/225 [44:36<1:00:26, 27.89s/it]"
     ]
    },
    {
     "name": "stdout",
     "output_type": "stream",
     "text": [
      "Processing data for material : WATER\n",
      "image_data shape is :  (2048, 2448)\n",
      "im90 shape is :  (1024, 1224)\n",
      "Stokes time:  0.03497910499572754 s\n",
      "im_stokes0 shape is :  (1024, 1224)\n",
      "DoLP time:  0.04197525978088379 s\n",
      "im_DOLP shape is :  (1024, 1224)\n",
      "Time for DOLP2Theta conversion is :  25.010583639144897 seconds\n",
      "False\n",
      "AoLP time:  0.055968284606933594 s\n"
     ]
    },
    {
     "name": "stderr",
     "output_type": "stream",
     "text": [
      "\n",
      " 43%|██████████████████████████████████▌                                              | 96/225 [45:01<58:35, 27.25s/it]"
     ]
    },
    {
     "name": "stdout",
     "output_type": "stream",
     "text": [
      "Processing data for material : WATER\n",
      "image_data shape is :  (2048, 2448)\n",
      "im90 shape is :  (1024, 1224)\n",
      "Stokes time:  0.026984453201293945 s\n",
      "im_stokes0 shape is :  (1024, 1224)\n",
      "DoLP time:  0.04697370529174805 s\n",
      "im_DOLP shape is :  (1024, 1224)\n",
      "Time for DOLP2Theta conversion is :  26.881505966186523 seconds\n",
      "False\n",
      "AoLP time:  0.05796647071838379 s\n"
     ]
    },
    {
     "name": "stderr",
     "output_type": "stream",
     "text": [
      "\n",
      " 43%|██████████████████████████████████▉                                              | 97/225 [45:29<58:22, 27.36s/it]"
     ]
    },
    {
     "name": "stdout",
     "output_type": "stream",
     "text": [
      "Processing data for material : WATER\n",
      "image_data shape is :  (2048, 2448)\n",
      "im90 shape is :  (1024, 1224)\n",
      "Stokes time:  0.026984691619873047 s\n",
      "im_stokes0 shape is :  (1024, 1224)\n",
      "DoLP time:  0.04197406768798828 s\n",
      "im_DOLP shape is :  (1024, 1224)\n",
      "Time for DOLP2Theta conversion is :  27.718021392822266 seconds\n",
      "False\n",
      "AoLP time:  0.06096291542053223 s\n"
     ]
    },
    {
     "name": "stderr",
     "output_type": "stream",
     "text": [
      "\n",
      " 44%|███████████████████████████████████▎                                             | 98/225 [45:57<58:35, 27.68s/it]"
     ]
    },
    {
     "name": "stdout",
     "output_type": "stream",
     "text": [
      "Processing data for material : WATER\n",
      "image_data shape is :  (2048, 2448)\n",
      "im90 shape is :  (1024, 1224)\n",
      "Stokes time:  0.029982805252075195 s\n",
      "im_stokes0 shape is :  (1024, 1224)\n",
      "DoLP time:  0.04896998405456543 s\n",
      "im_DOLP shape is :  (1024, 1224)\n",
      "Time for DOLP2Theta conversion is :  26.490729808807373 seconds\n",
      "False\n",
      "AoLP time:  0.039977073669433594 s\n"
     ]
    },
    {
     "name": "stderr",
     "output_type": "stream",
     "text": [
      "\n",
      " 44%|███████████████████████████████████▋                                             | 99/225 [46:25<57:48, 27.53s/it]"
     ]
    },
    {
     "name": "stdout",
     "output_type": "stream",
     "text": [
      "Processing data for material : WATER\n",
      "image_data shape is :  (2048, 2448)\n",
      "im90 shape is :  (1024, 1224)\n",
      "Stokes time:  0.03498077392578125 s\n",
      "im_stokes0 shape is :  (1024, 1224)\n",
      "DoLP time:  0.050969839096069336 s\n",
      "im_DOLP shape is :  (1024, 1224)\n",
      "Time for DOLP2Theta conversion is :  26.301838159561157 seconds\n",
      "False\n",
      "AoLP time:  0.03897690773010254 s\n"
     ]
    },
    {
     "name": "stderr",
     "output_type": "stream",
     "text": [
      "\n",
      " 44%|███████████████████████████████████▌                                            | 100/225 [46:52<57:02, 27.38s/it]"
     ]
    },
    {
     "name": "stdout",
     "output_type": "stream",
     "text": [
      "Processing data for material : WATER\n",
      "image_data shape is :  (2048, 2448)\n",
      "im90 shape is :  (1024, 1224)\n",
      "Stokes time:  0.031981468200683594 s\n",
      "im_stokes0 shape is :  (1024, 1224)\n",
      "DoLP time:  0.06995964050292969 s\n",
      "im_DOLP shape is :  (1024, 1224)\n",
      "Time for DOLP2Theta conversion is :  31.395901918411255 seconds\n",
      "False\n",
      "AoLP time:  0.05296778678894043 s\n"
     ]
    },
    {
     "name": "stderr",
     "output_type": "stream",
     "text": [
      "\n",
      " 45%|███████████████████████████████████▉                                            | 101/225 [47:24<59:34, 28.82s/it]"
     ]
    },
    {
     "name": "stdout",
     "output_type": "stream",
     "text": [
      "Processing data for material : WATER\n",
      "image_data shape is :  (2048, 2448)\n",
      "im90 shape is :  (1024, 1224)\n",
      "Stokes time:  0.039977073669433594 s\n",
      "im_stokes0 shape is :  (1024, 1224)\n",
      "DoLP time:  0.05296921730041504 s\n",
      "im_DOLP shape is :  (1024, 1224)\n",
      "Time for DOLP2Theta conversion is :  29.722866773605347 seconds\n",
      "False\n",
      "AoLP time:  0.061963796615600586 s\n"
     ]
    },
    {
     "name": "stderr",
     "output_type": "stream",
     "text": [
      "\n",
      " 45%|███████████████████████████████████▎                                          | 102/225 [47:54<1:00:07, 29.33s/it]"
     ]
    },
    {
     "name": "stdout",
     "output_type": "stream",
     "text": [
      "Processing data for material : WATER\n",
      "image_data shape is :  (2048, 2448)\n",
      "im90 shape is :  (1024, 1224)\n",
      "Stokes time:  0.03298068046569824 s\n",
      "im_stokes0 shape is :  (1024, 1224)\n",
      "DoLP time:  0.05496716499328613 s\n",
      "im_DOLP shape is :  (1024, 1224)\n",
      "Time for DOLP2Theta conversion is :  29.578949213027954 seconds\n",
      "False\n",
      "AoLP time:  0.0479733943939209 s\n"
     ]
    },
    {
     "name": "stderr",
     "output_type": "stream",
     "text": [
      "\n",
      " 46%|███████████████████████████████████▋                                          | 103/225 [48:25<1:00:13, 29.62s/it]"
     ]
    },
    {
     "name": "stdout",
     "output_type": "stream",
     "text": [
      "Processing data for material : WATER\n",
      "image_data shape is :  (2048, 2448)\n",
      "im90 shape is :  (1024, 1224)\n",
      "Stokes time:  0.03398013114929199 s\n",
      "im_stokes0 shape is :  (1024, 1224)\n",
      "DoLP time:  0.052968502044677734 s\n",
      "im_DOLP shape is :  (1024, 1224)\n",
      "Time for DOLP2Theta conversion is :  28.761420726776123 seconds\n",
      "False\n",
      "AoLP time:  0.04897117614746094 s\n"
     ]
    },
    {
     "name": "stderr",
     "output_type": "stream",
     "text": [
      "\n",
      " 46%|████████████████████████████████████▉                                           | 104/225 [48:54<59:40, 29.59s/it]"
     ]
    },
    {
     "name": "stdout",
     "output_type": "stream",
     "text": [
      "Processing data for material : WATER\n",
      "image_data shape is :  (2048, 2448)\n",
      "im90 shape is :  (1024, 1224)\n",
      "Stokes time:  0.032981157302856445 s\n",
      "im_stokes0 shape is :  (1024, 1224)\n",
      "DoLP time:  0.038977622985839844 s\n",
      "im_DOLP shape is :  (1024, 1224)\n",
      "Time for DOLP2Theta conversion is :  28.000860452651978 seconds\n",
      "False\n",
      "AoLP time:  0.04097628593444824 s\n"
     ]
    },
    {
     "name": "stderr",
     "output_type": "stream",
     "text": [
      "\n",
      " 47%|█████████████████████████████████████▎                                          | 105/225 [49:23<58:37, 29.32s/it]"
     ]
    },
    {
     "name": "stdout",
     "output_type": "stream",
     "text": [
      "Processing data for material : WATER\n",
      "image_data shape is :  (2048, 2448)\n",
      "im90 shape is :  (1024, 1224)\n",
      "Stokes time:  0.031982421875 s\n",
      "im_stokes0 shape is :  (1024, 1224)\n",
      "DoLP time:  0.04297494888305664 s\n",
      "im_DOLP shape is :  (1024, 1224)\n",
      "Time for DOLP2Theta conversion is :  28.74443006515503 seconds\n",
      "False\n",
      "AoLP time:  0.06196475028991699 s\n"
     ]
    },
    {
     "name": "stderr",
     "output_type": "stream",
     "text": [
      "\n",
      " 47%|█████████████████████████████████████▋                                          | 106/225 [49:52<58:14, 29.36s/it]"
     ]
    },
    {
     "name": "stdout",
     "output_type": "stream",
     "text": [
      "Processing data for material : WATER\n",
      "image_data shape is :  (2048, 2448)\n",
      "im90 shape is :  (1024, 1224)\n",
      "Stokes time:  0.02898406982421875 s\n",
      "im_stokes0 shape is :  (1024, 1224)\n",
      "DoLP time:  0.03597855567932129 s\n",
      "im_DOLP shape is :  (1024, 1224)\n",
      "Time for DOLP2Theta conversion is :  25.83810567855835 seconds\n",
      "False\n",
      "AoLP time:  0.057967424392700195 s\n"
     ]
    },
    {
     "name": "stderr",
     "output_type": "stream",
     "text": [
      "\n",
      " 48%|██████████████████████████████████████                                          | 107/225 [50:19<56:04, 28.51s/it]"
     ]
    },
    {
     "name": "stdout",
     "output_type": "stream",
     "text": [
      "Processing data for material : WATER\n",
      "image_data shape is :  (2048, 2448)\n",
      "im90 shape is :  (1024, 1224)\n",
      "Stokes time:  0.034979820251464844 s\n",
      "im_stokes0 shape is :  (1024, 1224)\n",
      "DoLP time:  0.04597330093383789 s\n",
      "im_DOLP shape is :  (1024, 1224)\n",
      "Time for DOLP2Theta conversion is :  27.090383291244507 seconds\n",
      "False\n",
      "AoLP time:  0.057965755462646484 s\n"
     ]
    },
    {
     "name": "stderr",
     "output_type": "stream",
     "text": [
      "\n",
      " 48%|██████████████████████████████████████▍                                         | 108/225 [50:47<55:12, 28.31s/it]"
     ]
    },
    {
     "name": "stdout",
     "output_type": "stream",
     "text": [
      "Processing data for material : WATER\n",
      "image_data shape is :  (2048, 2448)\n",
      "im90 shape is :  (1024, 1224)\n",
      "Stokes time:  0.0259857177734375 s\n",
      "im_stokes0 shape is :  (1024, 1224)\n",
      "DoLP time:  0.04097580909729004 s\n",
      "im_DOLP shape is :  (1024, 1224)\n",
      "Time for DOLP2Theta conversion is :  26.000012159347534 seconds\n",
      "False\n",
      "AoLP time:  0.04597306251525879 s\n"
     ]
    },
    {
     "name": "stderr",
     "output_type": "stream",
     "text": [
      "\n",
      " 48%|██████████████████████████████████████▊                                         | 109/225 [51:13<53:49, 27.84s/it]"
     ]
    },
    {
     "name": "stdout",
     "output_type": "stream",
     "text": [
      "Processing data for material : WATER\n",
      "image_data shape is :  (2048, 2448)\n",
      "im90 shape is :  (1024, 1224)\n",
      "Stokes time:  0.03098154067993164 s\n",
      "im_stokes0 shape is :  (1024, 1224)\n",
      "DoLP time:  0.04997062683105469 s\n",
      "im_DOLP shape is :  (1024, 1224)\n",
      "Time for DOLP2Theta conversion is :  26.771567583084106 seconds\n",
      "False\n",
      "AoLP time:  0.046973466873168945 s\n"
     ]
    },
    {
     "name": "stderr",
     "output_type": "stream",
     "text": [
      "\n",
      " 49%|███████████████████████████████████████                                         | 110/225 [51:41<53:09, 27.74s/it]"
     ]
    },
    {
     "name": "stdout",
     "output_type": "stream",
     "text": [
      "Processing data for material : WATER\n",
      "image_data shape is :  (2048, 2448)\n",
      "im90 shape is :  (1024, 1224)\n",
      "Stokes time:  0.025985002517700195 s\n",
      "im_stokes0 shape is :  (1024, 1224)\n",
      "DoLP time:  0.04397439956665039 s\n",
      "im_DOLP shape is :  (1024, 1224)\n",
      "Time for DOLP2Theta conversion is :  27.23130226135254 seconds\n",
      "False\n",
      "AoLP time:  0.03897666931152344 s\n"
     ]
    },
    {
     "name": "stderr",
     "output_type": "stream",
     "text": [
      "\n",
      " 49%|███████████████████████████████████████▍                                        | 111/225 [52:09<52:47, 27.79s/it]"
     ]
    },
    {
     "name": "stdout",
     "output_type": "stream",
     "text": [
      "Processing data for material : WATER\n",
      "image_data shape is :  (2048, 2448)\n",
      "im90 shape is :  (1024, 1224)\n",
      "Stokes time:  0.033979177474975586 s\n",
      "im_stokes0 shape is :  (1024, 1224)\n",
      "DoLP time:  0.043974876403808594 s\n",
      "im_DOLP shape is :  (1024, 1224)\n",
      "Time for DOLP2Theta conversion is :  26.984445333480835 seconds\n",
      "False\n",
      "AoLP time:  0.05196881294250488 s\n"
     ]
    },
    {
     "name": "stderr",
     "output_type": "stream",
     "text": [
      "\n",
      " 50%|███████████████████████████████████████▊                                        | 112/225 [52:37<52:17, 27.77s/it]"
     ]
    },
    {
     "name": "stdout",
     "output_type": "stream",
     "text": [
      "Processing data for material : WATER\n",
      "image_data shape is :  (2048, 2448)\n",
      "im90 shape is :  (1024, 1224)\n",
      "Stokes time:  0.031981706619262695 s\n",
      "im_stokes0 shape is :  (1024, 1224)\n",
      "DoLP time:  0.04597353935241699 s\n",
      "im_DOLP shape is :  (1024, 1224)\n",
      "Time for DOLP2Theta conversion is :  26.27385449409485 seconds\n",
      "False\n",
      "AoLP time:  0.05296897888183594 s\n"
     ]
    },
    {
     "name": "stderr",
     "output_type": "stream",
     "text": [
      "\n",
      " 50%|████████████████████████████████████████▏                                       | 113/225 [53:04<51:24, 27.54s/it]"
     ]
    },
    {
     "name": "stdout",
     "output_type": "stream",
     "text": [
      "Processing data for material : WATER\n",
      "image_data shape is :  (2048, 2448)\n",
      "im90 shape is :  (1024, 1224)\n",
      "Stokes time:  0.030981779098510742 s\n",
      "im_stokes0 shape is :  (1024, 1224)\n",
      "DoLP time:  0.054967641830444336 s\n",
      "im_DOLP shape is :  (1024, 1224)\n",
      "Time for DOLP2Theta conversion is :  29.624924659729004 seconds\n",
      "False\n",
      "AoLP time:  0.04297471046447754 s\n"
     ]
    },
    {
     "name": "stderr",
     "output_type": "stream",
     "text": [
      "\n",
      " 51%|████████████████████████████████████████▌                                       | 114/225 [53:34<52:31, 28.39s/it]"
     ]
    },
    {
     "name": "stdout",
     "output_type": "stream",
     "text": [
      "Processing data for material : WATER\n",
      "image_data shape is :  (2048, 2448)\n",
      "im90 shape is :  (1024, 1224)\n",
      "Stokes time:  0.03298163414001465 s\n",
      "im_stokes0 shape is :  (1024, 1224)\n",
      "DoLP time:  0.047971248626708984 s\n",
      "im_DOLP shape is :  (1024, 1224)\n",
      "Time for DOLP2Theta conversion is :  31.331940412521362 seconds\n",
      "False\n",
      "AoLP time:  0.047971248626708984 s\n"
     ]
    },
    {
     "name": "stderr",
     "output_type": "stream",
     "text": [
      "\n",
      " 51%|████████████████████████████████████████▉                                       | 115/225 [54:06<54:06, 29.51s/it]"
     ]
    },
    {
     "name": "stdout",
     "output_type": "stream",
     "text": [
      "Processing data for material : WATER\n",
      "image_data shape is :  (2048, 2448)\n",
      "im90 shape is :  (1024, 1224)\n",
      "Stokes time:  0.032981157302856445 s\n",
      "im_stokes0 shape is :  (1024, 1224)\n",
      "DoLP time:  0.047971487045288086 s\n",
      "im_DOLP shape is :  (1024, 1224)\n",
      "Time for DOLP2Theta conversion is :  29.720866918563843 seconds\n",
      "False\n",
      "AoLP time:  0.06096506118774414 s\n"
     ]
    },
    {
     "name": "stderr",
     "output_type": "stream",
     "text": [
      "\n",
      " 52%|█████████████████████████████████████████▏                                      | 116/225 [54:37<54:08, 29.80s/it]"
     ]
    },
    {
     "name": "stdout",
     "output_type": "stream",
     "text": [
      "Processing data for material : WATER\n",
      "image_data shape is :  (2048, 2448)\n",
      "im90 shape is :  (1024, 1224)\n",
      "Stokes time:  0.04197502136230469 s\n",
      "im_stokes0 shape is :  (1024, 1224)\n",
      "DoLP time:  0.04497361183166504 s\n",
      "im_DOLP shape is :  (1024, 1224)\n",
      "Time for DOLP2Theta conversion is :  29.98871374130249 seconds\n",
      "False\n",
      "AoLP time:  0.061964988708496094 s\n"
     ]
    },
    {
     "name": "stderr",
     "output_type": "stream",
     "text": [
      "\n",
      " 52%|█████████████████████████████████████████▌                                      | 117/225 [55:07<54:10, 30.09s/it]"
     ]
    },
    {
     "name": "stdout",
     "output_type": "stream",
     "text": [
      "Processing data for material : WATER\n",
      "image_data shape is :  (2048, 2448)\n",
      "im90 shape is :  (1024, 1224)\n",
      "Stokes time:  0.029982805252075195 s\n",
      "im_stokes0 shape is :  (1024, 1224)\n",
      "DoLP time:  0.04297351837158203 s\n",
      "im_DOLP shape is :  (1024, 1224)\n",
      "Time for DOLP2Theta conversion is :  28.332666873931885 seconds\n",
      "False\n",
      "AoLP time:  0.05996537208557129 s\n"
     ]
    },
    {
     "name": "stderr",
     "output_type": "stream",
     "text": [
      "\n",
      " 52%|█████████████████████████████████████████▉                                      | 118/225 [55:36<53:07, 29.79s/it]"
     ]
    },
    {
     "name": "stdout",
     "output_type": "stream",
     "text": [
      "Processing data for material : WATER\n",
      "image_data shape is :  (2048, 2448)\n",
      "im90 shape is :  (1024, 1224)\n",
      "Stokes time:  0.03597903251647949 s\n",
      "im_stokes0 shape is :  (1024, 1224)\n",
      "DoLP time:  0.040975332260131836 s\n",
      "im_DOLP shape is :  (1024, 1224)\n",
      "Time for DOLP2Theta conversion is :  29.287118673324585 seconds\n",
      "False\n",
      "AoLP time:  0.04197406768798828 s\n"
     ]
    },
    {
     "name": "stderr",
     "output_type": "stream",
     "text": [
      "\n",
      " 53%|██████████████████████████████████████████▎                                     | 119/225 [56:06<52:44, 29.85s/it]"
     ]
    },
    {
     "name": "stdout",
     "output_type": "stream",
     "text": [
      "Processing data for material : WATER\n",
      "image_data shape is :  (2048, 2448)\n",
      "im90 shape is :  (1024, 1224)\n",
      "Stokes time:  0.026984453201293945 s\n",
      "im_stokes0 shape is :  (1024, 1224)\n",
      "DoLP time:  0.05097150802612305 s\n",
      "im_DOLP shape is :  (1024, 1224)\n",
      "Time for DOLP2Theta conversion is :  25.448330879211426 seconds\n",
      "False\n",
      "AoLP time:  0.05197000503540039 s\n"
     ]
    },
    {
     "name": "stderr",
     "output_type": "stream",
     "text": [
      "\n",
      " 53%|██████████████████████████████████████████▋                                     | 120/225 [56:33<50:18, 28.74s/it]"
     ]
    },
    {
     "name": "stdout",
     "output_type": "stream",
     "text": [
      "Processing data for material : WATER\n",
      "image_data shape is :  (2048, 2448)\n",
      "im90 shape is :  (1024, 1224)\n",
      "Stokes time:  0.02898263931274414 s\n",
      "im_stokes0 shape is :  (1024, 1224)\n",
      "DoLP time:  0.03997659683227539 s\n",
      "im_DOLP shape is :  (1024, 1224)\n",
      "Time for DOLP2Theta conversion is :  26.33681893348694 seconds\n",
      "False\n",
      "AoLP time:  0.05096912384033203 s\n"
     ]
    },
    {
     "name": "stderr",
     "output_type": "stream",
     "text": [
      "\n",
      " 54%|███████████████████████████████████████████                                     | 121/225 [57:00<48:56, 28.23s/it]"
     ]
    },
    {
     "name": "stdout",
     "output_type": "stream",
     "text": [
      "Processing data for material : WATER\n",
      "image_data shape is :  (2048, 2448)\n",
      "im90 shape is :  (1024, 1224)\n",
      "Stokes time:  0.028983354568481445 s\n",
      "im_stokes0 shape is :  (1024, 1224)\n",
      "DoLP time:  0.03997635841369629 s\n",
      "im_DOLP shape is :  (1024, 1224)\n",
      "Time for DOLP2Theta conversion is :  25.72417187690735 seconds\n",
      "False\n",
      "AoLP time:  0.04397416114807129 s\n"
     ]
    },
    {
     "name": "stderr",
     "output_type": "stream",
     "text": [
      "\n",
      " 54%|███████████████████████████████████████████▍                                    | 122/225 [57:26<47:32, 27.69s/it]"
     ]
    },
    {
     "name": "stdout",
     "output_type": "stream",
     "text": [
      "Processing data for material : WATER\n",
      "image_data shape is :  (2048, 2448)\n",
      "im90 shape is :  (1024, 1224)\n",
      "Stokes time:  0.026984214782714844 s\n",
      "im_stokes0 shape is :  (1024, 1224)\n",
      "DoLP time:  0.04597282409667969 s\n",
      "im_DOLP shape is :  (1024, 1224)\n",
      "Time for DOLP2Theta conversion is :  26.69361400604248 seconds\n",
      "False\n",
      "AoLP time:  0.04997110366821289 s\n"
     ]
    },
    {
     "name": "stderr",
     "output_type": "stream",
     "text": [
      "\n",
      " 55%|███████████████████████████████████████████▋                                    | 123/225 [57:54<46:56, 27.62s/it]"
     ]
    },
    {
     "name": "stdout",
     "output_type": "stream",
     "text": [
      "Processing data for material : WATER\n",
      "image_data shape is :  (2048, 2448)\n",
      "im90 shape is :  (1024, 1224)\n",
      "Stokes time:  0.029982805252075195 s\n",
      "im_stokes0 shape is :  (1024, 1224)\n",
      "DoLP time:  0.04297351837158203 s\n",
      "im_DOLP shape is :  (1024, 1224)\n",
      "Time for DOLP2Theta conversion is :  26.720598459243774 seconds\n",
      "False\n",
      "AoLP time:  0.044974565505981445 s\n"
     ]
    },
    {
     "name": "stderr",
     "output_type": "stream",
     "text": [
      "\n",
      " 55%|████████████████████████████████████████████                                    | 124/225 [58:21<46:23, 27.56s/it]"
     ]
    },
    {
     "name": "stdout",
     "output_type": "stream",
     "text": [
      "Processing data for material : WATER\n",
      "image_data shape is :  (2048, 2448)\n",
      "im90 shape is :  (1024, 1224)\n",
      "Stokes time:  0.030981779098510742 s\n",
      "im_stokes0 shape is :  (1024, 1224)\n",
      "DoLP time:  0.04397439956665039 s\n",
      "im_DOLP shape is :  (1024, 1224)\n",
      "Time for DOLP2Theta conversion is :  27.28926944732666 seconds\n",
      "False\n",
      "AoLP time:  0.05396890640258789 s\n"
     ]
    },
    {
     "name": "stderr",
     "output_type": "stream",
     "text": [
      "\n",
      " 56%|████████████████████████████████████████████▍                                   | 125/225 [58:49<46:09, 27.70s/it]"
     ]
    },
    {
     "name": "stdout",
     "output_type": "stream",
     "text": [
      "Processing data for material : WATER\n",
      "image_data shape is :  (2048, 2448)\n",
      "im90 shape is :  (1024, 1224)\n",
      "Stokes time:  0.03198099136352539 s\n",
      "im_stokes0 shape is :  (1024, 1224)\n",
      "DoLP time:  0.05596756935119629 s\n",
      "im_DOLP shape is :  (1024, 1224)\n",
      "Time for DOLP2Theta conversion is :  26.258862495422363 seconds\n",
      "False\n",
      "AoLP time:  0.05296897888183594 s\n"
     ]
    },
    {
     "name": "stderr",
     "output_type": "stream",
     "text": [
      "\n",
      " 56%|████████████████████████████████████████████▊                                   | 126/225 [59:16<45:20, 27.48s/it]"
     ]
    },
    {
     "name": "stdout",
     "output_type": "stream",
     "text": [
      "Processing data for material : WATER\n",
      "image_data shape is :  (2048, 2448)\n",
      "im90 shape is :  (1024, 1224)\n",
      "Stokes time:  0.03597855567932129 s\n",
      "im_stokes0 shape is :  (1024, 1224)\n",
      "DoLP time:  0.04097580909729004 s\n",
      "im_DOLP shape is :  (1024, 1224)\n",
      "Time for DOLP2Theta conversion is :  27.215312004089355 seconds\n",
      "False\n",
      "AoLP time:  0.06196451187133789 s\n"
     ]
    },
    {
     "name": "stderr",
     "output_type": "stream",
     "text": [
      "\n",
      " 56%|█████████████████████████████████████████████▏                                  | 127/225 [59:44<45:07, 27.63s/it]"
     ]
    },
    {
     "name": "stdout",
     "output_type": "stream",
     "text": [
      "Processing data for material : WATER\n",
      "image_data shape is :  (2048, 2448)\n",
      "im90 shape is :  (1024, 1224)\n",
      "Stokes time:  0.035979509353637695 s\n",
      "im_stokes0 shape is :  (1024, 1224)\n",
      "DoLP time:  0.04697251319885254 s\n",
      "im_DOLP shape is :  (1024, 1224)\n",
      "Time for DOLP2Theta conversion is :  31.544817447662354 seconds\n",
      "False\n",
      "AoLP time:  0.04797220230102539 s\n"
     ]
    },
    {
     "name": "stderr",
     "output_type": "stream",
     "text": [
      "\n",
      " 57%|████████████████████████████████████████████▎                                 | 128/225 [1:00:16<46:56, 29.04s/it]"
     ]
    },
    {
     "name": "stdout",
     "output_type": "stream",
     "text": [
      "Processing data for material : WATER\n",
      "image_data shape is :  (2048, 2448)\n",
      "im90 shape is :  (1024, 1224)\n",
      "Stokes time:  0.032980918884277344 s\n",
      "im_stokes0 shape is :  (1024, 1224)\n",
      "DoLP time:  0.057965993881225586 s\n",
      "im_DOLP shape is :  (1024, 1224)\n",
      "Time for DOLP2Theta conversion is :  29.98571467399597 seconds\n",
      "False\n",
      "AoLP time:  0.05996513366699219 s\n"
     ]
    },
    {
     "name": "stderr",
     "output_type": "stream",
     "text": [
      "\n",
      " 57%|████████████████████████████████████████████▋                                 | 129/225 [1:00:47<47:16, 29.55s/it]"
     ]
    },
    {
     "name": "stdout",
     "output_type": "stream",
     "text": [
      "Processing data for material : WATER\n",
      "image_data shape is :  (2048, 2448)\n",
      "im90 shape is :  (1024, 1224)\n",
      "Stokes time:  0.032980918884277344 s\n",
      "im_stokes0 shape is :  (1024, 1224)\n",
      "DoLP time:  0.04997086524963379 s\n",
      "im_DOLP shape is :  (1024, 1224)\n",
      "Time for DOLP2Theta conversion is :  29.252137422561646 seconds\n",
      "False\n",
      "AoLP time:  0.06296348571777344 s\n"
     ]
    },
    {
     "name": "stderr",
     "output_type": "stream",
     "text": [
      "\n",
      " 58%|█████████████████████████████████████████████                                 | 130/225 [1:01:17<46:59, 29.68s/it]"
     ]
    },
    {
     "name": "stdout",
     "output_type": "stream",
     "text": [
      "Processing data for material : WATER\n",
      "image_data shape is :  (2048, 2448)\n",
      "im90 shape is :  (1024, 1224)\n",
      "Stokes time:  0.026984453201293945 s\n",
      "im_stokes0 shape is :  (1024, 1224)\n",
      "DoLP time:  0.03997611999511719 s\n",
      "im_DOLP shape is :  (1024, 1224)\n",
      "Time for DOLP2Theta conversion is :  28.096803665161133 seconds\n",
      "False\n",
      "AoLP time:  0.057965755462646484 s\n"
     ]
    },
    {
     "name": "stderr",
     "output_type": "stream",
     "text": [
      "\n",
      " 58%|█████████████████████████████████████████████▍                                | 131/225 [1:01:46<46:06, 29.43s/it]"
     ]
    },
    {
     "name": "stdout",
     "output_type": "stream",
     "text": [
      "Processing data for material : WATER\n",
      "image_data shape is :  (2048, 2448)\n",
      "im90 shape is :  (1024, 1224)\n",
      "Stokes time:  0.029982805252075195 s\n",
      "im_stokes0 shape is :  (1024, 1224)\n",
      "DoLP time:  0.05296969413757324 s\n",
      "im_DOLP shape is :  (1024, 1224)\n",
      "Time for DOLP2Theta conversion is :  28.600512981414795 seconds\n",
      "False\n",
      "AoLP time:  0.05496954917907715 s\n"
     ]
    },
    {
     "name": "stderr",
     "output_type": "stream",
     "text": [
      "\n",
      " 59%|█████████████████████████████████████████████▊                                | 132/225 [1:02:15<45:34, 29.40s/it]"
     ]
    },
    {
     "name": "stdout",
     "output_type": "stream",
     "text": [
      "Processing data for material : WATER\n",
      "image_data shape is :  (2048, 2448)\n",
      "im90 shape is :  (1024, 1224)\n",
      "Stokes time:  0.030981779098510742 s\n",
      "im_stokes0 shape is :  (1024, 1224)\n",
      "DoLP time:  0.04797196388244629 s\n",
      "im_DOLP shape is :  (1024, 1224)\n",
      "Time for DOLP2Theta conversion is :  27.807968854904175 seconds\n",
      "False\n",
      "AoLP time:  0.051969289779663086 s\n"
     ]
    },
    {
     "name": "stderr",
     "output_type": "stream",
     "text": [
      "\n",
      " 59%|██████████████████████████████████████████████                                | 133/225 [1:02:44<44:41, 29.14s/it]"
     ]
    },
    {
     "name": "stdout",
     "output_type": "stream",
     "text": [
      "Processing data for material : WATER\n",
      "image_data shape is :  (2048, 2448)\n",
      "im90 shape is :  (1024, 1224)\n",
      "Stokes time:  0.029982566833496094 s\n",
      "im_stokes0 shape is :  (1024, 1224)\n",
      "DoLP time:  0.03897738456726074 s\n",
      "im_DOLP shape is :  (1024, 1224)\n",
      "Time for DOLP2Theta conversion is :  25.847100734710693 seconds\n",
      "False\n",
      "AoLP time:  0.049970149993896484 s\n"
     ]
    },
    {
     "name": "stderr",
     "output_type": "stream",
     "text": [
      "\n",
      " 60%|██████████████████████████████████████████████▍                               | 134/225 [1:03:10<43:01, 28.37s/it]"
     ]
    },
    {
     "name": "stdout",
     "output_type": "stream",
     "text": [
      "Processing data for material : WATER\n",
      "image_data shape is :  (2048, 2448)\n",
      "im90 shape is :  (1024, 1224)\n",
      "Stokes time:  0.03997683525085449 s\n",
      "im_stokes0 shape is :  (1024, 1224)\n",
      "DoLP time:  0.03997635841369629 s\n",
      "im_DOLP shape is :  (1024, 1224)\n",
      "Time for DOLP2Theta conversion is :  27.50514531135559 seconds\n",
      "False\n",
      "AoLP time:  0.05496859550476074 s\n"
     ]
    },
    {
     "name": "stderr",
     "output_type": "stream",
     "text": [
      "\n",
      " 60%|██████████████████████████████████████████████▊                               | 135/225 [1:03:38<42:30, 28.33s/it]"
     ]
    },
    {
     "name": "stdout",
     "output_type": "stream",
     "text": [
      "Processing data for material : WATER\n",
      "image_data shape is :  (2048, 2448)\n",
      "im90 shape is :  (1024, 1224)\n",
      "Stokes time:  0.027983427047729492 s\n",
      "im_stokes0 shape is :  (1024, 1224)\n",
      "DoLP time:  0.05896592140197754 s\n",
      "im_DOLP shape is :  (1024, 1224)\n",
      "Time for DOLP2Theta conversion is :  26.071973085403442 seconds\n",
      "False\n",
      "AoLP time:  0.044974565505981445 s\n"
     ]
    },
    {
     "name": "stderr",
     "output_type": "stream",
     "text": [
      "\n",
      " 60%|███████████████████████████████████████████████▏                              | 136/225 [1:04:05<41:20, 27.87s/it]"
     ]
    },
    {
     "name": "stdout",
     "output_type": "stream",
     "text": [
      "Processing data for material : WATER\n",
      "image_data shape is :  (2048, 2448)\n",
      "im90 shape is :  (1024, 1224)\n",
      "Stokes time:  0.03697919845581055 s\n",
      "im_stokes0 shape is :  (1024, 1224)\n",
      "DoLP time:  0.04297494888305664 s\n",
      "im_DOLP shape is :  (1024, 1224)\n",
      "Time for DOLP2Theta conversion is :  26.388789176940918 seconds\n",
      "False\n",
      "AoLP time:  0.055966854095458984 s\n"
     ]
    },
    {
     "name": "stderr",
     "output_type": "stream",
     "text": [
      "\n",
      " 61%|███████████████████████████████████████████████▍                              | 137/225 [1:04:32<40:33, 27.66s/it]"
     ]
    },
    {
     "name": "stdout",
     "output_type": "stream",
     "text": [
      "Processing data for material : WATER\n",
      "image_data shape is :  (2048, 2448)\n",
      "im90 shape is :  (1024, 1224)\n",
      "Stokes time:  0.029983043670654297 s\n",
      "im_stokes0 shape is :  (1024, 1224)\n",
      "DoLP time:  0.0379788875579834 s\n",
      "im_DOLP shape is :  (1024, 1224)\n",
      "Time for DOLP2Theta conversion is :  27.0913827419281 seconds\n",
      "False\n",
      "AoLP time:  0.04497361183166504 s\n"
     ]
    },
    {
     "name": "stderr",
     "output_type": "stream",
     "text": [
      "\n",
      " 61%|███████████████████████████████████████████████▊                              | 138/225 [1:05:00<40:10, 27.70s/it]"
     ]
    },
    {
     "name": "stdout",
     "output_type": "stream",
     "text": [
      "Processing data for material : WATER\n",
      "image_data shape is :  (2048, 2448)\n",
      "im90 shape is :  (1024, 1224)\n",
      "Stokes time:  0.028983116149902344 s\n",
      "im_stokes0 shape is :  (1024, 1224)\n",
      "DoLP time:  0.03797769546508789 s\n",
      "im_DOLP shape is :  (1024, 1224)\n",
      "Time for DOLP2Theta conversion is :  27.253331184387207 seconds\n",
      "False\n",
      "AoLP time:  0.05796504020690918 s\n"
     ]
    },
    {
     "name": "stderr",
     "output_type": "stream",
     "text": [
      "\n",
      " 62%|████████████████████████████████████████████████▏                             | 139/225 [1:05:28<39:49, 27.79s/it]"
     ]
    },
    {
     "name": "stdout",
     "output_type": "stream",
     "text": [
      "Processing data for material : WATER\n",
      "image_data shape is :  (2048, 2448)\n",
      "im90 shape is :  (1024, 1224)\n",
      "Stokes time:  0.02698373794555664 s\n",
      "im_stokes0 shape is :  (1024, 1224)\n",
      "DoLP time:  0.039977073669433594 s\n",
      "im_DOLP shape is :  (1024, 1224)\n",
      "Time for DOLP2Theta conversion is :  28.753424644470215 seconds\n",
      "False\n",
      "AoLP time:  0.04397439956665039 s\n"
     ]
    },
    {
     "name": "stderr",
     "output_type": "stream",
     "text": [
      "\n",
      " 62%|████████████████████████████████████████████████▌                             | 140/225 [1:05:58<40:04, 28.28s/it]"
     ]
    },
    {
     "name": "stdout",
     "output_type": "stream",
     "text": [
      "Processing data for material : WATER\n",
      "image_data shape is :  (2048, 2448)\n",
      "im90 shape is :  (1024, 1224)\n",
      "Stokes time:  0.03397989273071289 s\n",
      "im_stokes0 shape is :  (1024, 1224)\n",
      "DoLP time:  0.05196976661682129 s\n",
      "im_DOLP shape is :  (1024, 1224)\n",
      "Time for DOLP2Theta conversion is :  30.292537927627563 seconds\n",
      "False\n",
      "AoLP time:  0.04597163200378418 s\n"
     ]
    },
    {
     "name": "stderr",
     "output_type": "stream",
     "text": [
      "\n",
      " 63%|████████████████████████████████████████████████▉                             | 141/225 [1:06:29<40:44, 29.10s/it]"
     ]
    },
    {
     "name": "stdout",
     "output_type": "stream",
     "text": [
      "Processing data for material : WATER\n",
      "image_data shape is :  (2048, 2448)\n",
      "im90 shape is :  (1024, 1224)\n",
      "Stokes time:  0.04197549819946289 s\n",
      "im_stokes0 shape is :  (1024, 1224)\n",
      "DoLP time:  0.044973134994506836 s\n",
      "im_DOLP shape is :  (1024, 1224)\n",
      "Time for DOLP2Theta conversion is :  32.45629024505615 seconds\n",
      "False\n",
      "AoLP time:  0.060962677001953125 s\n"
     ]
    },
    {
     "name": "stderr",
     "output_type": "stream",
     "text": [
      "\n",
      " 63%|█████████████████████████████████████████████████▏                            | 142/225 [1:07:02<41:59, 30.35s/it]"
     ]
    },
    {
     "name": "stdout",
     "output_type": "stream",
     "text": [
      "Processing data for material : WATER\n",
      "image_data shape is :  (2048, 2448)\n",
      "im90 shape is :  (1024, 1224)\n",
      "Stokes time:  0.03298139572143555 s\n",
      "im_stokes0 shape is :  (1024, 1224)\n",
      "DoLP time:  0.047971248626708984 s\n",
      "im_DOLP shape is :  (1024, 1224)\n",
      "Time for DOLP2Theta conversion is :  30.861209630966187 seconds\n",
      "False\n",
      "AoLP time:  0.05296897888183594 s\n"
     ]
    },
    {
     "name": "stderr",
     "output_type": "stream",
     "text": [
      "\n",
      " 64%|█████████████████████████████████████████████████▌                            | 143/225 [1:07:34<42:00, 30.74s/it]"
     ]
    },
    {
     "name": "stdout",
     "output_type": "stream",
     "text": [
      "Processing data for material : WATER\n",
      "image_data shape is :  (2048, 2448)\n",
      "im90 shape is :  (1024, 1224)\n",
      "Stokes time:  0.032980918884277344 s\n",
      "im_stokes0 shape is :  (1024, 1224)\n",
      "DoLP time:  0.05396866798400879 s\n",
      "im_DOLP shape is :  (1024, 1224)\n",
      "Time for DOLP2Theta conversion is :  30.568378448486328 seconds\n",
      "False\n",
      "AoLP time:  0.03997468948364258 s\n"
     ]
    },
    {
     "name": "stderr",
     "output_type": "stream",
     "text": [
      "\n",
      " 64%|█████████████████████████████████████████████████▉                            | 144/225 [1:08:05<41:43, 30.90s/it]"
     ]
    },
    {
     "name": "stdout",
     "output_type": "stream",
     "text": [
      "Processing data for material : WATER\n",
      "image_data shape is :  (2048, 2448)\n",
      "im90 shape is :  (1024, 1224)\n",
      "Stokes time:  0.027984619140625 s\n",
      "im_stokes0 shape is :  (1024, 1224)\n",
      "DoLP time:  0.049970149993896484 s\n",
      "im_DOLP shape is :  (1024, 1224)\n",
      "Time for DOLP2Theta conversion is :  30.61535406112671 seconds\n",
      "False\n",
      "AoLP time:  0.05496692657470703 s\n"
     ]
    },
    {
     "name": "stderr",
     "output_type": "stream",
     "text": [
      "\n",
      " 64%|██████████████████████████████████████████████████▎                           | 145/225 [1:08:36<41:22, 31.04s/it]"
     ]
    },
    {
     "name": "stdout",
     "output_type": "stream",
     "text": [
      "Processing data for material : WATER\n",
      "image_data shape is :  (2048, 2448)\n",
      "im90 shape is :  (1024, 1224)\n",
      "Stokes time:  0.024986743927001953 s\n",
      "im_stokes0 shape is :  (1024, 1224)\n",
      "DoLP time:  0.03897666931152344 s\n",
      "im_DOLP shape is :  (1024, 1224)\n",
      "Time for DOLP2Theta conversion is :  30.510411739349365 seconds\n",
      "False\n",
      "AoLP time:  0.06096506118774414 s\n"
     ]
    },
    {
     "name": "stderr",
     "output_type": "stream",
     "text": [
      "\n",
      " 65%|██████████████████████████████████████████████████▌                           | 146/225 [1:09:07<40:56, 31.09s/it]"
     ]
    },
    {
     "name": "stdout",
     "output_type": "stream",
     "text": [
      "Processing data for material : WATER\n",
      "image_data shape is :  (2048, 2448)\n",
      "im90 shape is :  (1024, 1224)\n",
      "Stokes time:  0.02498602867126465 s\n",
      "im_stokes0 shape is :  (1024, 1224)\n",
      "DoLP time:  0.04197525978088379 s\n",
      "im_DOLP shape is :  (1024, 1224)\n",
      "Time for DOLP2Theta conversion is :  27.36622405052185 seconds\n",
      "False\n",
      "AoLP time:  0.049970149993896484 s\n"
     ]
    },
    {
     "name": "stderr",
     "output_type": "stream",
     "text": [
      "\n",
      " 65%|██████████████████████████████████████████████████▉                           | 147/225 [1:09:36<39:14, 30.18s/it]"
     ]
    },
    {
     "name": "stdout",
     "output_type": "stream",
     "text": [
      "Processing data for material : WATER\n",
      "image_data shape is :  (2048, 2448)\n",
      "im90 shape is :  (1024, 1224)\n",
      "Stokes time:  0.023986339569091797 s\n",
      "im_stokes0 shape is :  (1024, 1224)\n",
      "DoLP time:  0.03597855567932129 s\n",
      "im_DOLP shape is :  (1024, 1224)\n",
      "Time for DOLP2Theta conversion is :  28.960306406021118 seconds\n",
      "False\n",
      "AoLP time:  0.051969051361083984 s\n"
     ]
    },
    {
     "name": "stderr",
     "output_type": "stream",
     "text": [
      "\n",
      " 66%|███████████████████████████████████████████████████▎                          | 148/225 [1:10:05<38:32, 30.03s/it]"
     ]
    },
    {
     "name": "stdout",
     "output_type": "stream",
     "text": [
      "Processing data for material : WATER\n",
      "image_data shape is :  (2048, 2448)\n",
      "im90 shape is :  (1024, 1224)\n",
      "Stokes time:  0.039977073669433594 s\n",
      "im_stokes0 shape is :  (1024, 1224)\n",
      "DoLP time:  0.04997062683105469 s\n",
      "im_DOLP shape is :  (1024, 1224)\n",
      "Time for DOLP2Theta conversion is :  27.35323166847229 seconds\n",
      "False\n",
      "AoLP time:  0.04996991157531738 s\n"
     ]
    },
    {
     "name": "stderr",
     "output_type": "stream",
     "text": [
      "\n",
      " 66%|███████████████████████████████████████████████████▋                          | 149/225 [1:10:33<37:17, 29.45s/it]"
     ]
    },
    {
     "name": "stdout",
     "output_type": "stream",
     "text": [
      "Processing data for material : WATER\n",
      "image_data shape is :  (2048, 2448)\n",
      "im90 shape is :  (1024, 1224)\n",
      "Stokes time:  0.03198099136352539 s\n",
      "im_stokes0 shape is :  (1024, 1224)\n",
      "DoLP time:  0.046971797943115234 s\n",
      "im_DOLP shape is :  (1024, 1224)\n",
      "Time for DOLP2Theta conversion is :  28.419618606567383 seconds\n",
      "False\n",
      "AoLP time:  0.049971818923950195 s\n"
     ]
    },
    {
     "name": "stderr",
     "output_type": "stream",
     "text": [
      "\n",
      " 67%|████████████████████████████████████████████████████                          | 150/225 [1:11:02<36:41, 29.36s/it]"
     ]
    },
    {
     "name": "stdout",
     "output_type": "stream",
     "text": [
      "Processing data for material : WATER\n",
      "image_data shape is :  (2048, 2448)\n",
      "im90 shape is :  (1024, 1224)\n",
      "Stokes time:  0.027983427047729492 s\n",
      "im_stokes0 shape is :  (1024, 1224)\n",
      "DoLP time:  0.04097580909729004 s\n",
      "im_DOLP shape is :  (1024, 1224)\n",
      "Time for DOLP2Theta conversion is :  28.326672554016113 seconds\n",
      "False\n",
      "AoLP time:  0.056966304779052734 s\n"
     ]
    },
    {
     "name": "stderr",
     "output_type": "stream",
     "text": [
      "\n",
      " 67%|████████████████████████████████████████████████████▎                         | 151/225 [1:11:31<36:05, 29.26s/it]"
     ]
    },
    {
     "name": "stdout",
     "output_type": "stream",
     "text": [
      "Processing data for material : WATER\n",
      "image_data shape is :  (2048, 2448)\n",
      "im90 shape is :  (1024, 1224)\n",
      "Stokes time:  0.023985862731933594 s\n",
      "im_stokes0 shape is :  (1024, 1224)\n",
      "DoLP time:  0.032980918884277344 s\n",
      "im_DOLP shape is :  (1024, 1224)\n",
      "Time for DOLP2Theta conversion is :  28.787404775619507 seconds\n",
      "False\n",
      "AoLP time:  0.04097461700439453 s\n"
     ]
    },
    {
     "name": "stderr",
     "output_type": "stream",
     "text": [
      "\n",
      " 68%|████████████████████████████████████████████████████▋                         | 152/225 [1:12:01<35:41, 29.33s/it]"
     ]
    },
    {
     "name": "stdout",
     "output_type": "stream",
     "text": [
      "Processing data for material : WATER\n",
      "image_data shape is :  (2048, 2448)\n",
      "im90 shape is :  (1024, 1224)\n",
      "Stokes time:  0.03797793388366699 s\n",
      "im_stokes0 shape is :  (1024, 1224)\n",
      "DoLP time:  0.04797172546386719 s\n",
      "im_DOLP shape is :  (1024, 1224)\n",
      "Time for DOLP2Theta conversion is :  28.148775577545166 seconds\n",
      "False\n",
      "AoLP time:  0.055967092514038086 s\n"
     ]
    },
    {
     "name": "stderr",
     "output_type": "stream",
     "text": [
      "\n",
      " 68%|█████████████████████████████████████████████████████                         | 153/225 [1:12:30<35:01, 29.19s/it]"
     ]
    },
    {
     "name": "stdout",
     "output_type": "stream",
     "text": [
      "Processing data for material : WATER\n",
      "image_data shape is :  (2048, 2448)\n",
      "im90 shape is :  (1024, 1224)\n",
      "Stokes time:  0.029982566833496094 s\n",
      "im_stokes0 shape is :  (1024, 1224)\n",
      "DoLP time:  0.04697418212890625 s\n",
      "im_DOLP shape is :  (1024, 1224)\n",
      "Time for DOLP2Theta conversion is :  29.2361478805542 seconds\n",
      "False\n",
      "AoLP time:  0.057965755462646484 s\n"
     ]
    },
    {
     "name": "stderr",
     "output_type": "stream",
     "text": [
      "\n",
      " 68%|█████████████████████████████████████████████████████▍                        | 154/225 [1:13:00<34:49, 29.43s/it]"
     ]
    },
    {
     "name": "stdout",
     "output_type": "stream",
     "text": [
      "Processing data for material : WATER\n",
      "image_data shape is :  (2048, 2448)\n",
      "im90 shape is :  (1024, 1224)\n",
      "Stokes time:  0.03298044204711914 s\n",
      "im_stokes0 shape is :  (1024, 1224)\n",
      "DoLP time:  0.05496716499328613 s\n",
      "im_DOLP shape is :  (1024, 1224)\n",
      "Time for DOLP2Theta conversion is :  32.52225422859192 seconds\n",
      "False\n",
      "AoLP time:  0.04997062683105469 s\n"
     ]
    },
    {
     "name": "stderr",
     "output_type": "stream",
     "text": [
      "\n",
      " 69%|█████████████████████████████████████████████████████▋                        | 155/225 [1:13:33<35:40, 30.58s/it]"
     ]
    },
    {
     "name": "stdout",
     "output_type": "stream",
     "text": [
      "Processing data for material : WATER\n",
      "image_data shape is :  (2048, 2448)\n",
      "im90 shape is :  (1024, 1224)\n",
      "Stokes time:  0.02798295021057129 s\n",
      "im_stokes0 shape is :  (1024, 1224)\n",
      "DoLP time:  0.04397463798522949 s\n",
      "im_DOLP shape is :  (1024, 1224)\n",
      "Time for DOLP2Theta conversion is :  31.472858667373657 seconds\n",
      "False\n",
      "AoLP time:  0.055967092514038086 s\n"
     ]
    },
    {
     "name": "stderr",
     "output_type": "stream",
     "text": [
      "\n",
      " 69%|██████████████████████████████████████████████████████                        | 156/225 [1:14:05<35:44, 31.08s/it]"
     ]
    },
    {
     "name": "stdout",
     "output_type": "stream",
     "text": [
      "Processing data for material : WATER\n",
      "image_data shape is :  (2048, 2448)\n",
      "im90 shape is :  (1024, 1224)\n",
      "Stokes time:  0.03098273277282715 s\n",
      "im_stokes0 shape is :  (1024, 1224)\n",
      "DoLP time:  0.043973684310913086 s\n",
      "im_DOLP shape is :  (1024, 1224)\n",
      "Time for DOLP2Theta conversion is :  30.121636867523193 seconds\n",
      "False\n",
      "AoLP time:  0.04097628593444824 s\n"
     ]
    },
    {
     "name": "stderr",
     "output_type": "stream",
     "text": [
      "\n",
      " 70%|██████████████████████████████████████████████████████▍                       | 157/225 [1:14:36<35:08, 31.01s/it]"
     ]
    },
    {
     "name": "stdout",
     "output_type": "stream",
     "text": [
      "Processing data for material : WATER\n",
      "image_data shape is :  (2048, 2448)\n",
      "im90 shape is :  (1024, 1224)\n",
      "Stokes time:  0.029982566833496094 s\n",
      "im_stokes0 shape is :  (1024, 1224)\n",
      "DoLP time:  0.040976524353027344 s\n",
      "im_DOLP shape is :  (1024, 1224)\n",
      "Time for DOLP2Theta conversion is :  30.28754734992981 seconds\n",
      "False\n",
      "AoLP time:  0.04297518730163574 s\n"
     ]
    },
    {
     "name": "stderr",
     "output_type": "stream",
     "text": [
      "\n",
      " 70%|██████████████████████████████████████████████████████▊                       | 158/225 [1:15:07<34:37, 31.01s/it]"
     ]
    },
    {
     "name": "stdout",
     "output_type": "stream",
     "text": [
      "Processing data for material : WATER\n",
      "image_data shape is :  (2048, 2448)\n",
      "im90 shape is :  (1024, 1224)\n",
      "Stokes time:  0.03198099136352539 s\n",
      "im_stokes0 shape is :  (1024, 1224)\n",
      "DoLP time:  0.044973134994506836 s\n",
      "im_DOLP shape is :  (1024, 1224)\n",
      "Time for DOLP2Theta conversion is :  30.250563383102417 seconds\n",
      "False\n",
      "AoLP time:  0.05496835708618164 s\n"
     ]
    },
    {
     "name": "stderr",
     "output_type": "stream",
     "text": [
      "\n",
      " 71%|███████████████████████████████████████████████████████                       | 159/225 [1:15:38<34:05, 31.00s/it]"
     ]
    },
    {
     "name": "stdout",
     "output_type": "stream",
     "text": [
      "Processing data for material : WATER\n",
      "image_data shape is :  (2048, 2448)\n",
      "im90 shape is :  (1024, 1224)\n",
      "Stokes time:  0.02798318862915039 s\n",
      "im_stokes0 shape is :  (1024, 1224)\n",
      "DoLP time:  0.044973134994506836 s\n",
      "im_DOLP shape is :  (1024, 1224)\n",
      "Time for DOLP2Theta conversion is :  28.97529888153076 seconds\n",
      "False\n",
      "AoLP time:  0.04497194290161133 s\n"
     ]
    },
    {
     "name": "stderr",
     "output_type": "stream",
     "text": [
      "\n",
      " 71%|███████████████████████████████████████████████████████▍                      | 160/225 [1:16:08<33:09, 30.60s/it]"
     ]
    },
    {
     "name": "stdout",
     "output_type": "stream",
     "text": [
      "Processing data for material : WATER\n",
      "image_data shape is :  (2048, 2448)\n",
      "im90 shape is :  (1024, 1224)\n",
      "Stokes time:  0.025985240936279297 s\n",
      "im_stokes0 shape is :  (1024, 1224)\n",
      "DoLP time:  0.03497910499572754 s\n",
      "im_DOLP shape is :  (1024, 1224)\n",
      "Time for DOLP2Theta conversion is :  28.43061113357544 seconds\n",
      "False\n",
      "AoLP time:  0.049970388412475586 s\n"
     ]
    },
    {
     "name": "stderr",
     "output_type": "stream",
     "text": [
      "\n",
      " 72%|███████████████████████████████████████████████████████▊                      | 161/225 [1:16:37<32:10, 30.17s/it]"
     ]
    },
    {
     "name": "stdout",
     "output_type": "stream",
     "text": [
      "Processing data for material : WATER\n",
      "image_data shape is :  (2048, 2448)\n",
      "im90 shape is :  (1024, 1224)\n",
      "Stokes time:  0.026982784271240234 s\n",
      "im_stokes0 shape is :  (1024, 1224)\n",
      "DoLP time:  0.03797745704650879 s\n",
      "im_DOLP shape is :  (1024, 1224)\n",
      "Time for DOLP2Theta conversion is :  28.633493185043335 seconds\n",
      "False\n",
      "AoLP time:  0.047972917556762695 s\n"
     ]
    },
    {
     "name": "stderr",
     "output_type": "stream",
     "text": [
      "\n",
      " 72%|████████████████████████████████████████████████████████▏                     | 162/225 [1:17:06<31:25, 29.93s/it]"
     ]
    },
    {
     "name": "stdout",
     "output_type": "stream",
     "text": [
      "Processing data for material : WATER\n",
      "image_data shape is :  (2048, 2448)\n",
      "im90 shape is :  (1024, 1224)\n",
      "Stokes time:  0.027984142303466797 s\n",
      "im_stokes0 shape is :  (1024, 1224)\n",
      "DoLP time:  0.04397392272949219 s\n",
      "im_DOLP shape is :  (1024, 1224)\n",
      "Time for DOLP2Theta conversion is :  27.380216121673584 seconds\n",
      "False\n",
      "AoLP time:  0.04897117614746094 s\n"
     ]
    },
    {
     "name": "stderr",
     "output_type": "stream",
     "text": [
      "\n",
      " 72%|████████████████████████████████████████████████████████▌                     | 163/225 [1:17:34<30:21, 29.38s/it]"
     ]
    },
    {
     "name": "stdout",
     "output_type": "stream",
     "text": [
      "Processing data for material : WATER\n",
      "image_data shape is :  (2048, 2448)\n",
      "im90 shape is :  (1024, 1224)\n",
      "Stokes time:  0.037978410720825195 s\n",
      "im_stokes0 shape is :  (1024, 1224)\n",
      "DoLP time:  0.05796647071838379 s\n",
      "im_DOLP shape is :  (1024, 1224)\n",
      "Time for DOLP2Theta conversion is :  29.258134603500366 seconds\n",
      "False\n",
      "AoLP time:  0.054967641830444336 s\n"
     ]
    },
    {
     "name": "stderr",
     "output_type": "stream",
     "text": [
      "\n",
      " 73%|████████████████████████████████████████████████████████▊                     | 164/225 [1:18:04<30:04, 29.58s/it]"
     ]
    },
    {
     "name": "stdout",
     "output_type": "stream",
     "text": [
      "Processing data for material : WATER\n",
      "image_data shape is :  (2048, 2448)\n",
      "im90 shape is :  (1024, 1224)\n",
      "Stokes time:  0.029982805252075195 s\n",
      "im_stokes0 shape is :  (1024, 1224)\n",
      "DoLP time:  0.05196881294250488 s\n",
      "im_DOLP shape is :  (1024, 1224)\n",
      "Time for DOLP2Theta conversion is :  28.477585554122925 seconds\n",
      "False\n",
      "AoLP time:  0.059966325759887695 s\n"
     ]
    },
    {
     "name": "stderr",
     "output_type": "stream",
     "text": [
      "\n",
      " 73%|█████████████████████████████████████████████████████████▏                    | 165/225 [1:18:34<29:28, 29.47s/it]"
     ]
    },
    {
     "name": "stdout",
     "output_type": "stream",
     "text": [
      "Processing data for material : WATER\n",
      "image_data shape is :  (2048, 2448)\n",
      "im90 shape is :  (1024, 1224)\n",
      "Stokes time:  0.034980058670043945 s\n",
      "im_stokes0 shape is :  (1024, 1224)\n",
      "DoLP time:  0.044972896575927734 s\n",
      "im_DOLP shape is :  (1024, 1224)\n",
      "Time for DOLP2Theta conversion is :  28.0918071269989 seconds\n",
      "False\n",
      "AoLP time:  0.05296897888183594 s\n"
     ]
    },
    {
     "name": "stderr",
     "output_type": "stream",
     "text": [
      "\n",
      " 74%|█████████████████████████████████████████████████████████▌                    | 166/225 [1:19:03<28:47, 29.28s/it]"
     ]
    },
    {
     "name": "stdout",
     "output_type": "stream",
     "text": [
      "Processing data for material : WATER\n",
      "image_data shape is :  (2048, 2448)\n",
      "im90 shape is :  (1024, 1224)\n",
      "Stokes time:  0.031982421875 s\n",
      "im_stokes0 shape is :  (1024, 1224)\n",
      "DoLP time:  0.06796002388000488 s\n",
      "im_DOLP shape is :  (1024, 1224)\n",
      "Time for DOLP2Theta conversion is :  30.126633644104004 seconds\n",
      "False\n",
      "AoLP time:  0.05696725845336914 s\n"
     ]
    },
    {
     "name": "stderr",
     "output_type": "stream",
     "text": [
      "\n",
      " 74%|█████████████████████████████████████████████████████████▉                    | 167/225 [1:19:33<28:46, 29.77s/it]"
     ]
    },
    {
     "name": "stdout",
     "output_type": "stream",
     "text": [
      "Processing data for material : WATER\n",
      "image_data shape is :  (2048, 2448)\n",
      "im90 shape is :  (1024, 1224)\n",
      "Stokes time:  0.028983592987060547 s\n",
      "im_stokes0 shape is :  (1024, 1224)\n",
      "DoLP time:  0.03997635841369629 s\n",
      "im_DOLP shape is :  (1024, 1224)\n",
      "Time for DOLP2Theta conversion is :  33.06793761253357 seconds\n",
      "False\n",
      "AoLP time:  0.060964345932006836 s\n"
     ]
    },
    {
     "name": "stderr",
     "output_type": "stream",
     "text": [
      "\n",
      " 75%|██████████████████████████████████████████████████████████▏                   | 168/225 [1:20:07<29:26, 30.99s/it]"
     ]
    },
    {
     "name": "stdout",
     "output_type": "stream",
     "text": [
      "Processing data for material : WATER\n",
      "image_data shape is :  (2048, 2448)\n",
      "im90 shape is :  (1024, 1224)\n",
      "Stokes time:  0.029982566833496094 s\n",
      "im_stokes0 shape is :  (1024, 1224)\n",
      "DoLP time:  0.038976430892944336 s\n",
      "im_DOLP shape is :  (1024, 1224)\n",
      "Time for DOLP2Theta conversion is :  30.199593544006348 seconds\n",
      "False\n",
      "AoLP time:  0.05296921730041504 s\n"
     ]
    },
    {
     "name": "stderr",
     "output_type": "stream",
     "text": [
      "\n",
      " 75%|██████████████████████████████████████████████████████████▌                   | 169/225 [1:20:38<28:54, 30.97s/it]"
     ]
    },
    {
     "name": "stdout",
     "output_type": "stream",
     "text": [
      "Processing data for material : WATER\n",
      "image_data shape is :  (2048, 2448)\n",
      "im90 shape is :  (1024, 1224)\n",
      "Stokes time:  0.029983043670654297 s\n",
      "im_stokes0 shape is :  (1024, 1224)\n",
      "DoLP time:  0.038977622985839844 s\n",
      "im_DOLP shape is :  (1024, 1224)\n",
      "Time for DOLP2Theta conversion is :  28.97629714012146 seconds\n",
      "False\n",
      "AoLP time:  0.043973445892333984 s\n"
     ]
    },
    {
     "name": "stderr",
     "output_type": "stream",
     "text": [
      "\n",
      " 76%|██████████████████████████████████████████████████████████▉                   | 170/225 [1:21:08<28:02, 30.59s/it]"
     ]
    },
    {
     "name": "stdout",
     "output_type": "stream",
     "text": [
      "Processing data for material : WATER\n",
      "image_data shape is :  (2048, 2448)\n",
      "im90 shape is :  (1024, 1224)\n",
      "Stokes time:  0.029982328414916992 s\n",
      "im_stokes0 shape is :  (1024, 1224)\n",
      "DoLP time:  0.039975881576538086 s\n",
      "im_DOLP shape is :  (1024, 1224)\n",
      "Time for DOLP2Theta conversion is :  25.754153728485107 seconds\n",
      "False\n",
      "AoLP time:  0.044973134994506836 s\n"
     ]
    },
    {
     "name": "stderr",
     "output_type": "stream",
     "text": [
      "\n",
      " 76%|███████████████████████████████████████████████████████████▎                  | 171/225 [1:21:34<26:25, 29.35s/it]"
     ]
    },
    {
     "name": "stdout",
     "output_type": "stream",
     "text": [
      "Processing data for material : WATER\n",
      "image_data shape is :  (2048, 2448)\n",
      "im90 shape is :  (1024, 1224)\n",
      "Stokes time:  0.023986339569091797 s\n",
      "im_stokes0 shape is :  (1024, 1224)\n",
      "DoLP time:  0.03697824478149414 s\n",
      "im_DOLP shape is :  (1024, 1224)\n",
      "Time for DOLP2Theta conversion is :  23.65836262702942 seconds\n",
      "False\n",
      "AoLP time:  0.03997492790222168 s\n"
     ]
    },
    {
     "name": "stderr",
     "output_type": "stream",
     "text": [
      "\n",
      " 76%|███████████████████████████████████████████████████████████▋                  | 172/225 [1:21:59<24:35, 27.84s/it]"
     ]
    },
    {
     "name": "stdout",
     "output_type": "stream",
     "text": [
      "Processing data for material : WATER\n",
      "image_data shape is :  (2048, 2448)\n",
      "im90 shape is :  (1024, 1224)\n",
      "Stokes time:  0.02798318862915039 s\n",
      "im_stokes0 shape is :  (1024, 1224)\n",
      "DoLP time:  0.03497815132141113 s\n",
      "im_DOLP shape is :  (1024, 1224)\n",
      "Time for DOLP2Theta conversion is :  24.18206000328064 seconds\n",
      "False\n",
      "AoLP time:  0.04197335243225098 s\n"
     ]
    },
    {
     "name": "stderr",
     "output_type": "stream",
     "text": [
      "\n",
      " 77%|███████████████████████████████████████████████████████████▉                  | 173/225 [1:22:24<23:20, 26.94s/it]"
     ]
    },
    {
     "name": "stdout",
     "output_type": "stream",
     "text": [
      "Processing data for material : WATER\n",
      "image_data shape is :  (2048, 2448)\n",
      "im90 shape is :  (1024, 1224)\n",
      "Stokes time:  0.025986433029174805 s\n",
      "im_stokes0 shape is :  (1024, 1224)\n",
      "DoLP time:  0.036978721618652344 s\n",
      "im_DOLP shape is :  (1024, 1224)\n",
      "Time for DOLP2Theta conversion is :  24.00416374206543 seconds\n",
      "False\n",
      "AoLP time:  0.04197406768798828 s\n"
     ]
    },
    {
     "name": "stderr",
     "output_type": "stream",
     "text": [
      "\n",
      " 77%|████████████████████████████████████████████████████████████▎                 | 174/225 [1:22:48<22:19, 26.26s/it]"
     ]
    },
    {
     "name": "stdout",
     "output_type": "stream",
     "text": [
      "Processing data for material : WATER\n",
      "image_data shape is :  (2048, 2448)\n",
      "im90 shape is :  (1024, 1224)\n",
      "Stokes time:  0.026984691619873047 s\n",
      "im_stokes0 shape is :  (1024, 1224)\n",
      "DoLP time:  0.03198099136352539 s\n",
      "im_DOLP shape is :  (1024, 1224)\n",
      "Time for DOLP2Theta conversion is :  24.332974195480347 seconds\n",
      "False\n",
      "AoLP time:  0.04097628593444824 s\n"
     ]
    },
    {
     "name": "stderr",
     "output_type": "stream",
     "text": [
      "\n",
      " 78%|████████████████████████████████████████████████████████████▋                 | 175/225 [1:23:13<21:33, 25.87s/it]"
     ]
    },
    {
     "name": "stdout",
     "output_type": "stream",
     "text": [
      "Processing data for material : WATER\n",
      "image_data shape is :  (2048, 2448)\n",
      "im90 shape is :  (1024, 1224)\n",
      "Stokes time:  0.024983644485473633 s\n",
      "im_stokes0 shape is :  (1024, 1224)\n",
      "DoLP time:  0.033980369567871094 s\n",
      "im_DOLP shape is :  (1024, 1224)\n",
      "Time for DOLP2Theta conversion is :  23.503450870513916 seconds\n",
      "False\n",
      "AoLP time:  0.04097580909729004 s\n"
     ]
    },
    {
     "name": "stderr",
     "output_type": "stream",
     "text": [
      "\n",
      " 78%|█████████████████████████████████████████████████████████████                 | 176/225 [1:23:37<20:42, 25.35s/it]"
     ]
    },
    {
     "name": "stdout",
     "output_type": "stream",
     "text": [
      "Processing data for material : WATER\n",
      "image_data shape is :  (2048, 2448)\n",
      "im90 shape is :  (1024, 1224)\n",
      "Stokes time:  0.025985002517700195 s\n",
      "im_stokes0 shape is :  (1024, 1224)\n",
      "DoLP time:  0.03897738456726074 s\n",
      "im_DOLP shape is :  (1024, 1224)\n",
      "Time for DOLP2Theta conversion is :  23.75031065940857 seconds\n",
      "False\n",
      "AoLP time:  0.04896903038024902 s\n"
     ]
    },
    {
     "name": "stderr",
     "output_type": "stream",
     "text": [
      "\n",
      " 79%|█████████████████████████████████████████████████████████████▎                | 177/225 [1:24:02<20:03, 25.07s/it]"
     ]
    },
    {
     "name": "stdout",
     "output_type": "stream",
     "text": [
      "Processing data for material : WATER\n",
      "image_data shape is :  (2048, 2448)\n",
      "im90 shape is :  (1024, 1224)\n",
      "Stokes time:  0.024986982345581055 s\n",
      "im_stokes0 shape is :  (1024, 1224)\n",
      "DoLP time:  0.038976430892944336 s\n",
      "im_DOLP shape is :  (1024, 1224)\n",
      "Time for DOLP2Theta conversion is :  23.648367881774902 seconds\n",
      "False\n",
      "AoLP time:  0.03997611999511719 s\n"
     ]
    },
    {
     "name": "stderr",
     "output_type": "stream",
     "text": [
      "\n",
      " 79%|█████████████████████████████████████████████████████████████▋                | 178/225 [1:24:26<19:27, 24.84s/it]"
     ]
    },
    {
     "name": "stdout",
     "output_type": "stream",
     "text": [
      "Processing data for material : WATER\n",
      "image_data shape is :  (2048, 2448)\n",
      "im90 shape is :  (1024, 1224)\n",
      "Stokes time:  0.027983903884887695 s\n",
      "im_stokes0 shape is :  (1024, 1224)\n",
      "DoLP time:  0.038976192474365234 s\n",
      "im_DOLP shape is :  (1024, 1224)\n",
      "Time for DOLP2Theta conversion is :  24.22803282737732 seconds\n",
      "False\n",
      "AoLP time:  0.0419766902923584 s\n"
     ]
    },
    {
     "name": "stderr",
     "output_type": "stream",
     "text": [
      "\n",
      " 80%|██████████████████████████████████████████████████████████████                | 179/225 [1:24:51<19:03, 24.85s/it]"
     ]
    },
    {
     "name": "stdout",
     "output_type": "stream",
     "text": [
      "Processing data for material : WATER\n",
      "image_data shape is :  (2048, 2448)\n",
      "im90 shape is :  (1024, 1224)\n",
      "Stokes time:  0.02898097038269043 s\n",
      "im_stokes0 shape is :  (1024, 1224)\n",
      "DoLP time:  0.03697943687438965 s\n",
      "im_DOLP shape is :  (1024, 1224)\n",
      "Time for DOLP2Theta conversion is :  25.36238121986389 seconds\n",
      "False\n",
      "AoLP time:  0.03997683525085449 s\n"
     ]
    },
    {
     "name": "stderr",
     "output_type": "stream",
     "text": [
      "\n",
      " 80%|██████████████████████████████████████████████████████████████▍               | 180/225 [1:25:17<18:54, 25.21s/it]"
     ]
    },
    {
     "name": "stdout",
     "output_type": "stream",
     "text": [
      "Processing data for material : WATER\n",
      "image_data shape is :  (2048, 2448)\n",
      "im90 shape is :  (1024, 1224)\n",
      "Stokes time:  0.025984764099121094 s\n",
      "im_stokes0 shape is :  (1024, 1224)\n",
      "DoLP time:  0.038976192474365234 s\n",
      "im_DOLP shape is :  (1024, 1224)\n",
      "Time for DOLP2Theta conversion is :  24.483888387680054 seconds\n",
      "False\n",
      "AoLP time:  0.04797196388244629 s\n"
     ]
    },
    {
     "name": "stderr",
     "output_type": "stream",
     "text": [
      "\n",
      " 80%|██████████████████████████████████████████████████████████████▋               | 181/225 [1:25:42<18:28, 25.19s/it]"
     ]
    },
    {
     "name": "stdout",
     "output_type": "stream",
     "text": [
      "Processing data for material : WATER\n",
      "image_data shape is :  (2048, 2448)\n",
      "im90 shape is :  (1024, 1224)\n",
      "Stokes time:  0.02698373794555664 s\n",
      "im_stokes0 shape is :  (1024, 1224)\n",
      "DoLP time:  0.031981468200683594 s\n",
      "im_DOLP shape is :  (1024, 1224)\n",
      "Time for DOLP2Theta conversion is :  23.079709768295288 seconds\n",
      "False\n",
      "AoLP time:  0.03997635841369629 s\n"
     ]
    },
    {
     "name": "stderr",
     "output_type": "stream",
     "text": [
      "\n",
      " 81%|███████████████████████████████████████████████████████████████               | 182/225 [1:26:06<17:43, 24.74s/it]"
     ]
    },
    {
     "name": "stdout",
     "output_type": "stream",
     "text": [
      "Processing data for material : WATER\n",
      "image_data shape is :  (2048, 2448)\n",
      "im90 shape is :  (1024, 1224)\n",
      "Stokes time:  0.024986743927001953 s\n",
      "im_stokes0 shape is :  (1024, 1224)\n",
      "DoLP time:  0.03597903251647949 s\n",
      "im_DOLP shape is :  (1024, 1224)\n",
      "Time for DOLP2Theta conversion is :  22.889804124832153 seconds\n",
      "False\n",
      "AoLP time:  0.041974544525146484 s\n"
     ]
    },
    {
     "name": "stderr",
     "output_type": "stream",
     "text": [
      "\n",
      " 81%|███████████████████████████████████████████████████████████████▍              | 183/225 [1:26:29<17:03, 24.38s/it]"
     ]
    },
    {
     "name": "stdout",
     "output_type": "stream",
     "text": [
      "Processing data for material : WATER\n",
      "image_data shape is :  (2048, 2448)\n",
      "im90 shape is :  (1024, 1224)\n",
      "Stokes time:  0.025985240936279297 s\n",
      "im_stokes0 shape is :  (1024, 1224)\n",
      "DoLP time:  0.037976980209350586 s\n",
      "im_DOLP shape is :  (1024, 1224)\n",
      "Time for DOLP2Theta conversion is :  24.233030080795288 seconds\n",
      "False\n",
      "AoLP time:  0.04697251319885254 s\n"
     ]
    },
    {
     "name": "stderr",
     "output_type": "stream",
     "text": [
      "\n",
      " 82%|███████████████████████████████████████████████████████████████▊              | 184/225 [1:26:54<16:46, 24.54s/it]"
     ]
    },
    {
     "name": "stdout",
     "output_type": "stream",
     "text": [
      "Processing data for material : WATER\n",
      "image_data shape is :  (2048, 2448)\n",
      "im90 shape is :  (1024, 1224)\n",
      "Stokes time:  0.02498602867126465 s\n",
      "im_stokes0 shape is :  (1024, 1224)\n",
      "DoLP time:  0.038976430892944336 s\n",
      "im_DOLP shape is :  (1024, 1224)\n",
      "Time for DOLP2Theta conversion is :  24.09511137008667 seconds\n",
      "False\n",
      "AoLP time:  0.04097390174865723 s\n"
     ]
    },
    {
     "name": "stderr",
     "output_type": "stream",
     "text": [
      "\n",
      " 82%|████████████████████████████████████████████████████████████████▏             | 185/225 [1:27:19<16:24, 24.60s/it]"
     ]
    },
    {
     "name": "stdout",
     "output_type": "stream",
     "text": [
      "Processing data for material : WATER\n",
      "image_data shape is :  (2048, 2448)\n",
      "im90 shape is :  (1024, 1224)\n",
      "Stokes time:  0.026984453201293945 s\n",
      "im_stokes0 shape is :  (1024, 1224)\n",
      "DoLP time:  0.03697776794433594 s\n",
      "im_DOLP shape is :  (1024, 1224)\n",
      "Time for DOLP2Theta conversion is :  25.34339213371277 seconds\n",
      "False\n",
      "AoLP time:  0.044972896575927734 s\n"
     ]
    },
    {
     "name": "stderr",
     "output_type": "stream",
     "text": [
      "\n",
      " 83%|████████████████████████████████████████████████████████████████▍             | 186/225 [1:27:45<16:16, 25.03s/it]"
     ]
    },
    {
     "name": "stdout",
     "output_type": "stream",
     "text": [
      "Processing data for material : WATER\n",
      "image_data shape is :  (2048, 2448)\n",
      "im90 shape is :  (1024, 1224)\n",
      "Stokes time:  0.02698373794555664 s\n",
      "im_stokes0 shape is :  (1024, 1224)\n",
      "DoLP time:  0.03397941589355469 s\n",
      "im_DOLP shape is :  (1024, 1224)\n",
      "Time for DOLP2Theta conversion is :  23.775294303894043 seconds\n",
      "False\n",
      "AoLP time:  0.04197525978088379 s\n"
     ]
    },
    {
     "name": "stderr",
     "output_type": "stream",
     "text": [
      "\n",
      " 83%|████████████████████████████████████████████████████████████████▊             | 187/225 [1:28:09<15:44, 24.85s/it]"
     ]
    },
    {
     "name": "stdout",
     "output_type": "stream",
     "text": [
      "Processing data for material : WATER\n",
      "image_data shape is :  (2048, 2448)\n",
      "im90 shape is :  (1024, 1224)\n",
      "Stokes time:  0.026984214782714844 s\n",
      "im_stokes0 shape is :  (1024, 1224)\n",
      "DoLP time:  0.035978078842163086 s\n",
      "im_DOLP shape is :  (1024, 1224)\n",
      "Time for DOLP2Theta conversion is :  23.952192068099976 seconds\n",
      "False\n",
      "AoLP time:  0.04097461700439453 s\n"
     ]
    },
    {
     "name": "stderr",
     "output_type": "stream",
     "text": [
      "\n",
      " 84%|█████████████████████████████████████████████████████████████████▏            | 188/225 [1:28:34<15:16, 24.77s/it]"
     ]
    },
    {
     "name": "stdout",
     "output_type": "stream",
     "text": [
      "Processing data for material : WATER\n",
      "image_data shape is :  (2048, 2448)\n",
      "im90 shape is :  (1024, 1224)\n",
      "Stokes time:  0.024985551834106445 s\n",
      "im_stokes0 shape is :  (1024, 1224)\n",
      "DoLP time:  0.03298044204711914 s\n",
      "im_DOLP shape is :  (1024, 1224)\n",
      "Time for DOLP2Theta conversion is :  23.96718168258667 seconds\n",
      "False\n",
      "AoLP time:  0.04097604751586914 s\n"
     ]
    },
    {
     "name": "stderr",
     "output_type": "stream",
     "text": [
      "\n",
      " 84%|█████████████████████████████████████████████████████████████████▌            | 189/225 [1:28:59<14:49, 24.71s/it]"
     ]
    },
    {
     "name": "stdout",
     "output_type": "stream",
     "text": [
      "Processing data for material : WATER\n",
      "image_data shape is :  (2048, 2448)\n",
      "im90 shape is :  (1024, 1224)\n",
      "Stokes time:  0.024985551834106445 s\n",
      "im_stokes0 shape is :  (1024, 1224)\n",
      "DoLP time:  0.03397989273071289 s\n",
      "im_DOLP shape is :  (1024, 1224)\n",
      "Time for DOLP2Theta conversion is :  23.32255530357361 seconds\n",
      "False\n",
      "AoLP time:  0.04297327995300293 s\n"
     ]
    },
    {
     "name": "stderr",
     "output_type": "stream",
     "text": [
      "\n",
      " 84%|█████████████████████████████████████████████████████████████████▊            | 190/225 [1:29:23<14:17, 24.49s/it]"
     ]
    },
    {
     "name": "stdout",
     "output_type": "stream",
     "text": [
      "Processing data for material : WATER\n",
      "image_data shape is :  (2048, 2448)\n",
      "im90 shape is :  (1024, 1224)\n",
      "Stokes time:  0.0279843807220459 s\n",
      "im_stokes0 shape is :  (1024, 1224)\n",
      "DoLP time:  0.034978628158569336 s\n",
      "im_DOLP shape is :  (1024, 1224)\n",
      "Time for DOLP2Theta conversion is :  24.06512761116028 seconds\n",
      "False\n",
      "AoLP time:  0.04197525978088379 s\n"
     ]
    },
    {
     "name": "stderr",
     "output_type": "stream",
     "text": [
      "\n",
      " 85%|██████████████████████████████████████████████████████████████████▏           | 191/225 [1:29:47<13:54, 24.56s/it]"
     ]
    },
    {
     "name": "stdout",
     "output_type": "stream",
     "text": [
      "Processing data for material : WATER\n",
      "image_data shape is :  (2048, 2448)\n",
      "im90 shape is :  (1024, 1224)\n",
      "Stokes time:  0.026983261108398438 s\n",
      "im_stokes0 shape is :  (1024, 1224)\n",
      "DoLP time:  0.033980369567871094 s\n",
      "im_DOLP shape is :  (1024, 1224)\n",
      "Time for DOLP2Theta conversion is :  24.12009572982788 seconds\n",
      "False\n",
      "AoLP time:  0.04097485542297363 s\n"
     ]
    },
    {
     "name": "stderr",
     "output_type": "stream",
     "text": [
      "\n",
      " 85%|██████████████████████████████████████████████████████████████████▌           | 192/225 [1:30:12<13:32, 24.63s/it]"
     ]
    },
    {
     "name": "stdout",
     "output_type": "stream",
     "text": [
      "Processing data for material : WATER\n",
      "image_data shape is :  (2048, 2448)\n",
      "im90 shape is :  (1024, 1224)\n",
      "Stokes time:  0.026983976364135742 s\n",
      "im_stokes0 shape is :  (1024, 1224)\n",
      "DoLP time:  0.033980369567871094 s\n",
      "im_DOLP shape is :  (1024, 1224)\n",
      "Time for DOLP2Theta conversion is :  24.633800506591797 seconds\n",
      "False\n",
      "AoLP time:  0.0419764518737793 s\n"
     ]
    },
    {
     "name": "stderr",
     "output_type": "stream",
     "text": [
      "\n",
      " 86%|██████████████████████████████████████████████████████████████████▉           | 193/225 [1:30:37<13:14, 24.82s/it]"
     ]
    },
    {
     "name": "stdout",
     "output_type": "stream",
     "text": [
      "Processing data for material : WATER\n",
      "image_data shape is :  (2048, 2448)\n",
      "im90 shape is :  (1024, 1224)\n",
      "Stokes time:  0.025985240936279297 s\n",
      "im_stokes0 shape is :  (1024, 1224)\n",
      "DoLP time:  0.03497934341430664 s\n",
      "im_DOLP shape is :  (1024, 1224)\n",
      "Time for DOLP2Theta conversion is :  24.492883443832397 seconds\n",
      "False\n",
      "AoLP time:  0.0459742546081543 s\n"
     ]
    },
    {
     "name": "stderr",
     "output_type": "stream",
     "text": [
      "\n",
      " 86%|███████████████████████████████████████████████████████████████████▎          | 194/225 [1:31:03<12:52, 24.93s/it]"
     ]
    },
    {
     "name": "stdout",
     "output_type": "stream",
     "text": [
      "Processing data for material : WATER\n",
      "image_data shape is :  (2048, 2448)\n",
      "im90 shape is :  (1024, 1224)\n",
      "Stokes time:  0.026984691619873047 s\n",
      "im_stokes0 shape is :  (1024, 1224)\n",
      "DoLP time:  0.03497910499572754 s\n",
      "im_DOLP shape is :  (1024, 1224)\n",
      "Time for DOLP2Theta conversion is :  24.141084909439087 seconds\n",
      "False\n",
      "AoLP time:  0.03997659683227539 s\n"
     ]
    },
    {
     "name": "stderr",
     "output_type": "stream",
     "text": [
      "\n",
      " 87%|███████████████████████████████████████████████████████████████████▌          | 195/225 [1:31:27<12:26, 24.89s/it]"
     ]
    },
    {
     "name": "stdout",
     "output_type": "stream",
     "text": [
      "Processing data for material : WATER\n",
      "image_data shape is :  (2048, 2448)\n",
      "im90 shape is :  (1024, 1224)\n",
      "Stokes time:  0.0259859561920166 s\n",
      "im_stokes0 shape is :  (1024, 1224)\n",
      "DoLP time:  0.032982587814331055 s\n",
      "im_DOLP shape is :  (1024, 1224)\n",
      "Time for DOLP2Theta conversion is :  24.046139240264893 seconds\n",
      "False\n",
      "AoLP time:  0.04197573661804199 s\n"
     ]
    },
    {
     "name": "stderr",
     "output_type": "stream",
     "text": [
      "\n",
      " 87%|███████████████████████████████████████████████████████████████████▉          | 196/225 [1:31:52<12:00, 24.84s/it]"
     ]
    },
    {
     "name": "stdout",
     "output_type": "stream",
     "text": [
      "Processing data for material : WATER\n",
      "image_data shape is :  (2048, 2448)\n",
      "im90 shape is :  (1024, 1224)\n",
      "Stokes time:  0.024985313415527344 s\n",
      "im_stokes0 shape is :  (1024, 1224)\n",
      "DoLP time:  0.03697705268859863 s\n",
      "im_DOLP shape is :  (1024, 1224)\n",
      "Time for DOLP2Theta conversion is :  24.531858921051025 seconds\n",
      "False\n",
      "AoLP time:  0.043974876403808594 s\n"
     ]
    },
    {
     "name": "stderr",
     "output_type": "stream",
     "text": [
      "\n",
      " 88%|████████████████████████████████████████████████████████████████████▎         | 197/225 [1:32:17<11:38, 24.95s/it]"
     ]
    },
    {
     "name": "stdout",
     "output_type": "stream",
     "text": [
      "Processing data for material : WATER\n",
      "image_data shape is :  (2048, 2448)\n",
      "im90 shape is :  (1024, 1224)\n",
      "Stokes time:  0.024985790252685547 s\n",
      "im_stokes0 shape is :  (1024, 1224)\n",
      "DoLP time:  0.034978389739990234 s\n",
      "im_DOLP shape is :  (1024, 1224)\n",
      "Time for DOLP2Theta conversion is :  23.80027985572815 seconds\n",
      "False\n",
      "AoLP time:  0.04297304153442383 s\n"
     ]
    },
    {
     "name": "stderr",
     "output_type": "stream",
     "text": [
      "\n",
      " 88%|████████████████████████████████████████████████████████████████████▋         | 198/225 [1:32:42<11:09, 24.80s/it]"
     ]
    },
    {
     "name": "stdout",
     "output_type": "stream",
     "text": [
      "Processing data for material : WATER\n",
      "image_data shape is :  (2048, 2448)\n",
      "im90 shape is :  (1024, 1224)\n",
      "Stokes time:  0.025985002517700195 s\n",
      "im_stokes0 shape is :  (1024, 1224)\n",
      "DoLP time:  0.03697824478149414 s\n",
      "im_DOLP shape is :  (1024, 1224)\n",
      "Time for DOLP2Theta conversion is :  24.72174835205078 seconds\n",
      "False\n",
      "AoLP time:  0.04497408866882324 s\n"
     ]
    },
    {
     "name": "stderr",
     "output_type": "stream",
     "text": [
      "\n",
      " 88%|████████████████████████████████████████████████████████████████████▉         | 199/225 [1:33:07<10:49, 24.98s/it]"
     ]
    },
    {
     "name": "stdout",
     "output_type": "stream",
     "text": [
      "Processing data for material : WATER\n",
      "image_data shape is :  (2048, 2448)\n",
      "im90 shape is :  (1024, 1224)\n",
      "Stokes time:  0.025985002517700195 s\n",
      "im_stokes0 shape is :  (1024, 1224)\n",
      "DoLP time:  0.03697800636291504 s\n",
      "im_DOLP shape is :  (1024, 1224)\n",
      "Time for DOLP2Theta conversion is :  23.817270278930664 seconds\n",
      "False\n",
      "AoLP time:  0.04897141456604004 s\n"
     ]
    },
    {
     "name": "stderr",
     "output_type": "stream",
     "text": [
      "\n",
      " 89%|█████████████████████████████████████████████████████████████████████▎        | 200/225 [1:33:32<10:20, 24.83s/it]"
     ]
    },
    {
     "name": "stdout",
     "output_type": "stream",
     "text": [
      "Processing data for material : WATER\n",
      "image_data shape is :  (2048, 2448)\n",
      "im90 shape is :  (1024, 1224)\n",
      "Stokes time:  0.027984619140625 s\n",
      "im_stokes0 shape is :  (1024, 1224)\n",
      "DoLP time:  0.036977529525756836 s\n",
      "im_DOLP shape is :  (1024, 1224)\n",
      "Time for DOLP2Theta conversion is :  24.211043119430542 seconds\n",
      "False\n",
      "AoLP time:  0.04097747802734375 s\n"
     ]
    },
    {
     "name": "stderr",
     "output_type": "stream",
     "text": [
      "\n",
      " 89%|█████████████████████████████████████████████████████████████████████▋        | 201/225 [1:33:56<09:56, 24.84s/it]"
     ]
    },
    {
     "name": "stdout",
     "output_type": "stream",
     "text": [
      "Processing data for material : WATER\n",
      "image_data shape is :  (2048, 2448)\n",
      "im90 shape is :  (1024, 1224)\n",
      "Stokes time:  0.02398514747619629 s\n",
      "im_stokes0 shape is :  (1024, 1224)\n",
      "DoLP time:  0.036978960037231445 s\n",
      "im_DOLP shape is :  (1024, 1224)\n",
      "Time for DOLP2Theta conversion is :  24.03214716911316 seconds\n",
      "False\n",
      "AoLP time:  0.043972015380859375 s\n"
     ]
    },
    {
     "name": "stderr",
     "output_type": "stream",
     "text": [
      "\n",
      " 90%|██████████████████████████████████████████████████████████████████████        | 202/225 [1:34:21<09:30, 24.79s/it]"
     ]
    },
    {
     "name": "stdout",
     "output_type": "stream",
     "text": [
      "Processing data for material : WATER\n",
      "image_data shape is :  (2048, 2448)\n",
      "im90 shape is :  (1024, 1224)\n",
      "Stokes time:  0.025984764099121094 s\n",
      "im_stokes0 shape is :  (1024, 1224)\n",
      "DoLP time:  0.03298068046569824 s\n",
      "im_DOLP shape is :  (1024, 1224)\n",
      "Time for DOLP2Theta conversion is :  22.87881350517273 seconds\n",
      "False\n",
      "AoLP time:  0.04597282409667969 s\n"
     ]
    },
    {
     "name": "stderr",
     "output_type": "stream",
     "text": [
      "\n",
      " 90%|██████████████████████████████████████████████████████████████████████▎       | 203/225 [1:34:45<08:57, 24.41s/it]"
     ]
    },
    {
     "name": "stdout",
     "output_type": "stream",
     "text": [
      "Processing data for material : WATER\n",
      "image_data shape is :  (2048, 2448)\n",
      "im90 shape is :  (1024, 1224)\n",
      "Stokes time:  0.027984142303466797 s\n",
      "im_stokes0 shape is :  (1024, 1224)\n",
      "DoLP time:  0.037976741790771484 s\n",
      "im_DOLP shape is :  (1024, 1224)\n",
      "Time for DOLP2Theta conversion is :  23.988173246383667 seconds\n",
      "False\n",
      "AoLP time:  0.04097414016723633 s\n"
     ]
    },
    {
     "name": "stderr",
     "output_type": "stream",
     "text": [
      "\n",
      " 91%|██████████████████████████████████████████████████████████████████████▋       | 204/225 [1:35:09<08:34, 24.48s/it]"
     ]
    },
    {
     "name": "stdout",
     "output_type": "stream",
     "text": [
      "Processing data for material : WATER\n",
      "image_data shape is :  (2048, 2448)\n",
      "im90 shape is :  (1024, 1224)\n",
      "Stokes time:  0.025983810424804688 s\n",
      "im_stokes0 shape is :  (1024, 1224)\n",
      "DoLP time:  0.03597831726074219 s\n",
      "im_DOLP shape is :  (1024, 1224)\n",
      "Time for DOLP2Theta conversion is :  23.896225214004517 seconds\n",
      "False\n",
      "AoLP time:  0.040975332260131836 s\n"
     ]
    },
    {
     "name": "stderr",
     "output_type": "stream",
     "text": [
      "\n",
      " 91%|███████████████████████████████████████████████████████████████████████       | 205/225 [1:35:34<08:10, 24.50s/it]"
     ]
    },
    {
     "name": "stdout",
     "output_type": "stream",
     "text": [
      "Processing data for material : WATER\n",
      "image_data shape is :  (2048, 2448)\n",
      "im90 shape is :  (1024, 1224)\n",
      "Stokes time:  0.025985002517700195 s\n",
      "im_stokes0 shape is :  (1024, 1224)\n",
      "DoLP time:  0.037976741790771484 s\n",
      "im_DOLP shape is :  (1024, 1224)\n",
      "Time for DOLP2Theta conversion is :  23.871239185333252 seconds\n",
      "False\n",
      "AoLP time:  0.04397463798522949 s\n"
     ]
    },
    {
     "name": "stderr",
     "output_type": "stream",
     "text": [
      "\n",
      " 92%|███████████████████████████████████████████████████████████████████████▍      | 206/225 [1:35:58<07:45, 24.52s/it]"
     ]
    },
    {
     "name": "stdout",
     "output_type": "stream",
     "text": [
      "Processing data for material : WATER\n",
      "image_data shape is :  (2048, 2448)\n",
      "im90 shape is :  (1024, 1224)\n",
      "Stokes time:  0.025984764099121094 s\n",
      "im_stokes0 shape is :  (1024, 1224)\n",
      "DoLP time:  0.03497934341430664 s\n",
      "im_DOLP shape is :  (1024, 1224)\n",
      "Time for DOLP2Theta conversion is :  24.765724420547485 seconds\n",
      "False\n",
      "AoLP time:  0.05796647071838379 s\n"
     ]
    },
    {
     "name": "stderr",
     "output_type": "stream",
     "text": [
      "\n",
      " 92%|███████████████████████████████████████████████████████████████████████▊      | 207/225 [1:36:24<07:26, 24.81s/it]"
     ]
    },
    {
     "name": "stdout",
     "output_type": "stream",
     "text": [
      "Processing data for material : WATER\n",
      "image_data shape is :  (2048, 2448)\n",
      "im90 shape is :  (1024, 1224)\n",
      "Stokes time:  0.0299832820892334 s\n",
      "im_stokes0 shape is :  (1024, 1224)\n",
      "DoLP time:  0.03997611999511719 s\n",
      "im_DOLP shape is :  (1024, 1224)\n",
      "Time for DOLP2Theta conversion is :  24.405932188034058 seconds\n",
      "False\n",
      "AoLP time:  0.050969600677490234 s\n"
     ]
    },
    {
     "name": "stderr",
     "output_type": "stream",
     "text": [
      "\n",
      " 92%|████████████████████████████████████████████████████████████████████████      | 208/225 [1:36:49<07:03, 24.90s/it]"
     ]
    },
    {
     "name": "stdout",
     "output_type": "stream",
     "text": [
      "Processing data for material : WATER\n",
      "image_data shape is :  (2048, 2448)\n",
      "im90 shape is :  (1024, 1224)\n",
      "Stokes time:  0.025985240936279297 s\n",
      "im_stokes0 shape is :  (1024, 1224)\n",
      "DoLP time:  0.04097485542297363 s\n",
      "im_DOLP shape is :  (1024, 1224)\n",
      "Time for DOLP2Theta conversion is :  24.126091241836548 seconds\n",
      "False\n",
      "AoLP time:  0.04097628593444824 s\n"
     ]
    },
    {
     "name": "stderr",
     "output_type": "stream",
     "text": [
      "\n",
      " 93%|████████████████████████████████████████████████████████████████████████▍     | 209/225 [1:37:14<06:37, 24.87s/it]"
     ]
    },
    {
     "name": "stdout",
     "output_type": "stream",
     "text": [
      "Processing data for material : WATER\n",
      "image_data shape is :  (2048, 2448)\n",
      "im90 shape is :  (1024, 1224)\n",
      "Stokes time:  0.026984691619873047 s\n",
      "im_stokes0 shape is :  (1024, 1224)\n",
      "DoLP time:  0.036978960037231445 s\n",
      "im_DOLP shape is :  (1024, 1224)\n",
      "Time for DOLP2Theta conversion is :  24.39693522453308 seconds\n",
      "False\n",
      "AoLP time:  0.042973995208740234 s\n"
     ]
    },
    {
     "name": "stderr",
     "output_type": "stream",
     "text": [
      "\n",
      " 93%|████████████████████████████████████████████████████████████████████████▊     | 210/225 [1:37:39<06:13, 24.91s/it]"
     ]
    },
    {
     "name": "stdout",
     "output_type": "stream",
     "text": [
      "Processing data for material : WATER\n",
      "image_data shape is :  (2048, 2448)\n",
      "im90 shape is :  (1024, 1224)\n",
      "Stokes time:  0.023984670639038086 s\n",
      "im_stokes0 shape is :  (1024, 1224)\n",
      "DoLP time:  0.029982566833496094 s\n",
      "im_DOLP shape is :  (1024, 1224)\n",
      "Time for DOLP2Theta conversion is :  23.596397876739502 seconds\n",
      "False\n",
      "AoLP time:  0.0399785041809082 s\n"
     ]
    },
    {
     "name": "stderr",
     "output_type": "stream",
     "text": [
      "\n",
      " 94%|█████████████████████████████████████████████████████████████████████████▏    | 211/225 [1:38:03<05:45, 24.70s/it]"
     ]
    },
    {
     "name": "stdout",
     "output_type": "stream",
     "text": [
      "Processing data for material : WATER\n",
      "image_data shape is :  (2048, 2448)\n",
      "im90 shape is :  (1024, 1224)\n",
      "Stokes time:  0.026984214782714844 s\n",
      "im_stokes0 shape is :  (1024, 1224)\n",
      "DoLP time:  0.03497958183288574 s\n",
      "im_DOLP shape is :  (1024, 1224)\n",
      "Time for DOLP2Theta conversion is :  23.2675883769989 seconds\n",
      "False\n",
      "AoLP time:  0.05296778678894043 s\n"
     ]
    },
    {
     "name": "stderr",
     "output_type": "stream",
     "text": [
      "\n",
      " 94%|█████████████████████████████████████████████████████████████████████████▍    | 212/225 [1:38:27<05:18, 24.47s/it]"
     ]
    },
    {
     "name": "stdout",
     "output_type": "stream",
     "text": [
      "Processing data for material : WATER\n",
      "image_data shape is :  (2048, 2448)\n",
      "im90 shape is :  (1024, 1224)\n",
      "Stokes time:  0.025984764099121094 s\n",
      "im_stokes0 shape is :  (1024, 1224)\n",
      "DoLP time:  0.03697800636291504 s\n",
      "im_DOLP shape is :  (1024, 1224)\n",
      "Time for DOLP2Theta conversion is :  24.659785270690918 seconds\n",
      "False\n",
      "AoLP time:  0.04397320747375488 s\n"
     ]
    },
    {
     "name": "stderr",
     "output_type": "stream",
     "text": [
      "\n",
      " 95%|█████████████████████████████████████████████████████████████████████████▊    | 213/225 [1:38:52<04:56, 24.73s/it]"
     ]
    },
    {
     "name": "stdout",
     "output_type": "stream",
     "text": [
      "Processing data for material : WATER\n",
      "image_data shape is :  (2048, 2448)\n",
      "im90 shape is :  (1024, 1224)\n",
      "Stokes time:  0.02698493003845215 s\n",
      "im_stokes0 shape is :  (1024, 1224)\n",
      "DoLP time:  0.036978960037231445 s\n",
      "im_DOLP shape is :  (1024, 1224)\n",
      "Time for DOLP2Theta conversion is :  24.31698441505432 seconds\n",
      "False\n",
      "AoLP time:  0.04097461700439453 s\n"
     ]
    },
    {
     "name": "stderr",
     "output_type": "stream",
     "text": [
      "\n",
      " 95%|██████████████████████████████████████████████████████████████████████████▏   | 214/225 [1:39:17<04:32, 24.81s/it]"
     ]
    },
    {
     "name": "stdout",
     "output_type": "stream",
     "text": [
      "Processing data for material : WATER\n",
      "image_data shape is :  (2048, 2448)\n",
      "im90 shape is :  (1024, 1224)\n",
      "Stokes time:  0.025984764099121094 s\n",
      "im_stokes0 shape is :  (1024, 1224)\n",
      "DoLP time:  0.03497934341430664 s\n",
      "im_DOLP shape is :  (1024, 1224)\n",
      "Time for DOLP2Theta conversion is :  24.859668493270874 seconds\n",
      "False\n",
      "AoLP time:  0.04097628593444824 s\n"
     ]
    },
    {
     "name": "stderr",
     "output_type": "stream",
     "text": [
      "\n",
      " 96%|██████████████████████████████████████████████████████████████████████████▌   | 215/225 [1:39:43<04:10, 25.03s/it]"
     ]
    },
    {
     "name": "stdout",
     "output_type": "stream",
     "text": [
      "Processing data for material : WATER\n",
      "image_data shape is :  (2048, 2448)\n",
      "im90 shape is :  (1024, 1224)\n",
      "Stokes time:  0.026984214782714844 s\n",
      "im_stokes0 shape is :  (1024, 1224)\n",
      "DoLP time:  0.03397989273071289 s\n",
      "im_DOLP shape is :  (1024, 1224)\n",
      "Time for DOLP2Theta conversion is :  24.72674560546875 seconds\n",
      "False\n",
      "AoLP time:  0.04397416114807129 s\n"
     ]
    },
    {
     "name": "stderr",
     "output_type": "stream",
     "text": [
      "\n",
      " 96%|██████████████████████████████████████████████████████████████████████████▉   | 216/225 [1:40:08<03:46, 25.13s/it]"
     ]
    },
    {
     "name": "stdout",
     "output_type": "stream",
     "text": [
      "Processing data for material : WATER\n",
      "image_data shape is :  (2048, 2448)\n",
      "im90 shape is :  (1024, 1224)\n",
      "Stokes time:  0.02698493003845215 s\n",
      "im_stokes0 shape is :  (1024, 1224)\n",
      "DoLP time:  0.03597855567932129 s\n",
      "im_DOLP shape is :  (1024, 1224)\n",
      "Time for DOLP2Theta conversion is :  23.580407857894897 seconds\n",
      "False\n",
      "AoLP time:  0.038976192474365234 s\n"
     ]
    },
    {
     "name": "stderr",
     "output_type": "stream",
     "text": [
      "\n",
      " 96%|███████████████████████████████████████████████████████████████████████████▏  | 217/225 [1:40:32<03:18, 24.85s/it]"
     ]
    },
    {
     "name": "stdout",
     "output_type": "stream",
     "text": [
      "Processing data for material : WATER\n",
      "image_data shape is :  (2048, 2448)\n",
      "im90 shape is :  (1024, 1224)\n",
      "Stokes time:  0.025984764099121094 s\n",
      "im_stokes0 shape is :  (1024, 1224)\n",
      "DoLP time:  0.035977840423583984 s\n",
      "im_DOLP shape is :  (1024, 1224)\n",
      "Time for DOLP2Theta conversion is :  23.98517370223999 seconds\n",
      "False\n",
      "AoLP time:  0.039977312088012695 s\n"
     ]
    },
    {
     "name": "stderr",
     "output_type": "stream",
     "text": [
      "\n",
      " 97%|███████████████████████████████████████████████████████████████████████████▌  | 218/225 [1:40:57<02:53, 24.79s/it]"
     ]
    },
    {
     "name": "stdout",
     "output_type": "stream",
     "text": [
      "Processing data for material : WATER\n",
      "image_data shape is :  (2048, 2448)\n",
      "im90 shape is :  (1024, 1224)\n",
      "Stokes time:  0.02698349952697754 s\n",
      "im_stokes0 shape is :  (1024, 1224)\n",
      "DoLP time:  0.03497886657714844 s\n",
      "im_DOLP shape is :  (1024, 1224)\n",
      "Time for DOLP2Theta conversion is :  23.559418201446533 seconds\n",
      "False\n",
      "AoLP time:  0.04097580909729004 s\n"
     ]
    },
    {
     "name": "stderr",
     "output_type": "stream",
     "text": [
      "\n",
      " 97%|███████████████████████████████████████████████████████████████████████████▉  | 219/225 [1:41:21<02:27, 24.61s/it]"
     ]
    },
    {
     "name": "stdout",
     "output_type": "stream",
     "text": [
      "Processing data for material : WATER\n",
      "image_data shape is :  (2048, 2448)\n",
      "im90 shape is :  (1024, 1224)\n",
      "Stokes time:  0.0279843807220459 s\n",
      "im_stokes0 shape is :  (1024, 1224)\n",
      "DoLP time:  0.03597831726074219 s\n",
      "im_DOLP shape is :  (1024, 1224)\n",
      "Time for DOLP2Theta conversion is :  24.847676992416382 seconds\n",
      "False\n",
      "AoLP time:  0.05196881294250488 s\n"
     ]
    },
    {
     "name": "stderr",
     "output_type": "stream",
     "text": [
      "\n",
      " 98%|████████████████████████████████████████████████████████████████████████████▎ | 220/225 [1:41:47<02:04, 24.88s/it]"
     ]
    },
    {
     "name": "stdout",
     "output_type": "stream",
     "text": [
      "Processing data for material : WATER\n",
      "image_data shape is :  (2048, 2448)\n",
      "im90 shape is :  (1024, 1224)\n",
      "Stokes time:  0.024985313415527344 s\n",
      "im_stokes0 shape is :  (1024, 1224)\n",
      "DoLP time:  0.03297996520996094 s\n",
      "im_DOLP shape is :  (1024, 1224)\n",
      "Time for DOLP2Theta conversion is :  24.139086484909058 seconds\n",
      "False\n",
      "AoLP time:  0.048969268798828125 s\n"
     ]
    },
    {
     "name": "stderr",
     "output_type": "stream",
     "text": [
      "\n",
      " 98%|████████████████████████████████████████████████████████████████████████████▌ | 221/225 [1:42:12<01:39, 24.85s/it]"
     ]
    },
    {
     "name": "stdout",
     "output_type": "stream",
     "text": [
      "Processing data for material : WATER\n",
      "image_data shape is :  (2048, 2448)\n",
      "im90 shape is :  (1024, 1224)\n",
      "Stokes time:  0.025984764099121094 s\n",
      "im_stokes0 shape is :  (1024, 1224)\n",
      "DoLP time:  0.038976430892944336 s\n",
      "im_DOLP shape is :  (1024, 1224)\n",
      "Time for DOLP2Theta conversion is :  24.28200340270996 seconds\n",
      "False\n",
      "AoLP time:  0.042975425720214844 s\n"
     ]
    },
    {
     "name": "stderr",
     "output_type": "stream",
     "text": [
      "\n",
      " 99%|████████████████████████████████████████████████████████████████████████████▉ | 222/225 [1:42:36<01:14, 24.89s/it]"
     ]
    },
    {
     "name": "stdout",
     "output_type": "stream",
     "text": [
      "Processing data for material : WATER\n",
      "image_data shape is :  (2048, 2448)\n",
      "im90 shape is :  (1024, 1224)\n",
      "Stokes time:  0.027983903884887695 s\n",
      "im_stokes0 shape is :  (1024, 1224)\n",
      "DoLP time:  0.03397989273071289 s\n",
      "im_DOLP shape is :  (1024, 1224)\n",
      "Time for DOLP2Theta conversion is :  25.135512113571167 seconds\n",
      "False\n",
      "AoLP time:  0.04297351837158203 s\n"
     ]
    },
    {
     "name": "stderr",
     "output_type": "stream",
     "text": [
      "\n",
      " 99%|█████████████████████████████████████████████████████████████████████████████▎| 223/225 [1:43:02<00:50, 25.17s/it]"
     ]
    },
    {
     "name": "stdout",
     "output_type": "stream",
     "text": [
      "Processing data for material : WATER\n",
      "image_data shape is :  (2048, 2448)\n",
      "im90 shape is :  (1024, 1224)\n",
      "Stokes time:  0.025984764099121094 s\n",
      "im_stokes0 shape is :  (1024, 1224)\n",
      "DoLP time:  0.03597879409790039 s\n",
      "im_DOLP shape is :  (1024, 1224)\n",
      "Time for DOLP2Theta conversion is :  23.297569513320923 seconds\n",
      "False\n",
      "AoLP time:  0.04797077178955078 s\n"
     ]
    },
    {
     "name": "stderr",
     "output_type": "stream",
     "text": [
      "\n",
      "100%|█████████████████████████████████████████████████████████████████████████████▋| 224/225 [1:43:26<00:24, 24.80s/it]"
     ]
    },
    {
     "name": "stdout",
     "output_type": "stream",
     "text": [
      "Processing data for material : WATER\n",
      "image_data shape is :  (2048, 2448)\n",
      "im90 shape is :  (1024, 1224)\n",
      "Stokes time:  0.023985624313354492 s\n",
      "im_stokes0 shape is :  (1024, 1224)\n",
      "DoLP time:  0.031981468200683594 s\n",
      "im_DOLP shape is :  (1024, 1224)\n",
      "Time for DOLP2Theta conversion is :  24.340970277786255 seconds\n",
      "False\n",
      "AoLP time:  0.03897571563720703 s\n"
     ]
    },
    {
     "name": "stderr",
     "output_type": "stream",
     "text": [
      "\n",
      "100%|██████████████████████████████████████████████████████████████████████████████| 225/225 [1:43:51<00:00, 24.85s/it]"
     ]
    },
    {
     "name": "stdout",
     "output_type": "stream",
     "text": [
      "time taken =  74.0633795261383\n"
     ]
    },
    {
     "name": "stderr",
     "output_type": "stream",
     "text": [
      " 75%|██████████████████████████████████████████████████████████▌                   | 3/4 [4:46:52<1:36:24, 5784.13s/it]\n",
      "  0%|                                                                                          | 0/225 [00:00<?, ?it/s]"
     ]
    },
    {
     "name": "stdout",
     "output_type": "stream",
     "text": [
      "Processing data for material : WATER\n",
      "image_data shape is :  (2048, 2448)\n",
      "im90 shape is :  (1024, 1224)\n",
      "Stokes time:  0.026984453201293945 s\n",
      "im_stokes0 shape is :  (1024, 1224)\n",
      "DoLP time:  0.036978960037231445 s\n",
      "im_DOLP shape is :  (1024, 1224)\n",
      "Time for DOLP2Theta conversion is :  22.076273679733276 seconds\n",
      "False\n",
      "AoLP time:  0.04797244071960449 s\n"
     ]
    },
    {
     "name": "stderr",
     "output_type": "stream",
     "text": [
      "\n",
      "  0%|▎                                                                               | 1/225 [00:25<1:34:42, 25.37s/it]"
     ]
    },
    {
     "name": "stdout",
     "output_type": "stream",
     "text": [
      "Processing data for material : WATER\n",
      "image_data shape is :  (2048, 2448)\n",
      "im90 shape is :  (1024, 1224)\n",
      "Stokes time:  0.026983976364135742 s\n",
      "im_stokes0 shape is :  (1024, 1224)\n",
      "DoLP time:  0.03697848320007324 s\n",
      "im_DOLP shape is :  (1024, 1224)\n",
      "Time for DOLP2Theta conversion is :  22.064296007156372 seconds\n",
      "False\n",
      "AoLP time:  0.044973134994506836 s\n"
     ]
    },
    {
     "name": "stderr",
     "output_type": "stream",
     "text": [
      "\n",
      "  1%|▋                                                                               | 2/225 [00:48<1:31:20, 24.58s/it]"
     ]
    },
    {
     "name": "stdout",
     "output_type": "stream",
     "text": [
      "Processing data for material : WATER\n",
      "image_data shape is :  (2048, 2448)\n",
      "im90 shape is :  (1024, 1224)\n",
      "Stokes time:  0.025983333587646484 s\n",
      "im_stokes0 shape is :  (1024, 1224)\n",
      "DoLP time:  0.035979270935058594 s\n",
      "im_DOLP shape is :  (1024, 1224)\n",
      "Time for DOLP2Theta conversion is :  22.06528091430664 seconds\n",
      "False\n",
      "AoLP time:  0.041974544525146484 s\n"
     ]
    },
    {
     "name": "stderr",
     "output_type": "stream",
     "text": [
      "\n",
      "  1%|█                                                                               | 3/225 [01:10<1:28:52, 24.02s/it]"
     ]
    },
    {
     "name": "stdout",
     "output_type": "stream",
     "text": [
      "Processing data for material : WATER\n",
      "image_data shape is :  (2048, 2448)\n",
      "im90 shape is :  (1024, 1224)\n",
      "Stokes time:  0.027984142303466797 s\n",
      "im_stokes0 shape is :  (1024, 1224)\n",
      "DoLP time:  0.040976762771606445 s\n",
      "im_DOLP shape is :  (1024, 1224)\n",
      "Time for DOLP2Theta conversion is :  22.018306732177734 seconds\n",
      "False\n",
      "AoLP time:  0.03997611999511719 s\n"
     ]
    },
    {
     "name": "stderr",
     "output_type": "stream",
     "text": [
      "\n",
      "  2%|█▍                                                                              | 4/225 [01:33<1:26:59, 23.62s/it]"
     ]
    },
    {
     "name": "stdout",
     "output_type": "stream",
     "text": [
      "Processing data for material : WATER\n",
      "image_data shape is :  (2048, 2448)\n",
      "im90 shape is :  (1024, 1224)\n",
      "Stokes time:  0.023985624313354492 s\n",
      "im_stokes0 shape is :  (1024, 1224)\n",
      "DoLP time:  0.030982017517089844 s\n",
      "im_DOLP shape is :  (1024, 1224)\n",
      "Time for DOLP2Theta conversion is :  20.81901717185974 seconds\n",
      "False\n",
      "AoLP time:  0.03897714614868164 s\n"
     ]
    },
    {
     "name": "stderr",
     "output_type": "stream",
     "text": [
      "\n",
      "  2%|█▊                                                                              | 5/225 [01:54<1:24:13, 22.97s/it]"
     ]
    },
    {
     "name": "stdout",
     "output_type": "stream",
     "text": [
      "Processing data for material : WATER\n",
      "image_data shape is :  (2048, 2448)\n",
      "im90 shape is :  (1024, 1224)\n",
      "Stokes time:  0.02498602867126465 s\n",
      "im_stokes0 shape is :  (1024, 1224)\n",
      "DoLP time:  0.031980276107788086 s\n",
      "im_DOLP shape is :  (1024, 1224)\n",
      "Time for DOLP2Theta conversion is :  20.82599639892578 seconds\n",
      "False\n",
      "AoLP time:  0.03997397422790527 s\n"
     ]
    },
    {
     "name": "stderr",
     "output_type": "stream",
     "text": [
      "\n",
      "  3%|██▏                                                                             | 6/225 [02:16<1:22:10, 22.51s/it]"
     ]
    },
    {
     "name": "stdout",
     "output_type": "stream",
     "text": [
      "Processing data for material : WATER\n",
      "image_data shape is :  (2048, 2448)\n",
      "im90 shape is :  (1024, 1224)\n",
      "Stokes time:  0.02498316764831543 s\n",
      "im_stokes0 shape is :  (1024, 1224)\n",
      "DoLP time:  0.0359804630279541 s\n",
      "im_DOLP shape is :  (1024, 1224)\n",
      "Time for DOLP2Theta conversion is :  21.3127121925354 seconds\n",
      "False\n",
      "AoLP time:  0.041974544525146484 s\n"
     ]
    },
    {
     "name": "stderr",
     "output_type": "stream",
     "text": [
      "\n",
      "  3%|██▍                                                                             | 7/225 [02:38<1:21:09, 22.34s/it]"
     ]
    },
    {
     "name": "stdout",
     "output_type": "stream",
     "text": [
      "Processing data for material : WATER\n",
      "image_data shape is :  (2048, 2448)\n",
      "im90 shape is :  (1024, 1224)\n",
      "Stokes time:  0.025984764099121094 s\n",
      "im_stokes0 shape is :  (1024, 1224)\n",
      "DoLP time:  0.03997635841369629 s\n",
      "im_DOLP shape is :  (1024, 1224)\n",
      "Time for DOLP2Theta conversion is :  22.04129385948181 seconds\n",
      "False\n",
      "AoLP time:  0.047971248626708984 s\n"
     ]
    },
    {
     "name": "stderr",
     "output_type": "stream",
     "text": [
      "\n",
      "  4%|██▊                                                                             | 8/225 [03:01<1:21:11, 22.45s/it]"
     ]
    },
    {
     "name": "stdout",
     "output_type": "stream",
     "text": [
      "Processing data for material : WATER\n",
      "image_data shape is :  (2048, 2448)\n",
      "im90 shape is :  (1024, 1224)\n",
      "Stokes time:  0.027983665466308594 s\n",
      "im_stokes0 shape is :  (1024, 1224)\n",
      "DoLP time:  0.039975643157958984 s\n",
      "im_DOLP shape is :  (1024, 1224)\n",
      "Time for DOLP2Theta conversion is :  21.760456562042236 seconds\n",
      "False\n",
      "AoLP time:  0.041974782943725586 s\n"
     ]
    },
    {
     "name": "stderr",
     "output_type": "stream",
     "text": [
      "\n",
      "  4%|███▏                                                                            | 9/225 [03:23<1:20:50, 22.45s/it]"
     ]
    },
    {
     "name": "stdout",
     "output_type": "stream",
     "text": [
      "Processing data for material : WATER\n",
      "image_data shape is :  (2048, 2448)\n",
      "im90 shape is :  (1024, 1224)\n",
      "Stokes time:  0.026984453201293945 s\n",
      "im_stokes0 shape is :  (1024, 1224)\n",
      "DoLP time:  0.039975881576538086 s\n",
      "im_DOLP shape is :  (1024, 1224)\n",
      "Time for DOLP2Theta conversion is :  21.924362659454346 seconds\n",
      "False\n",
      "AoLP time:  0.040976762771606445 s\n"
     ]
    },
    {
     "name": "stderr",
     "output_type": "stream",
     "text": [
      "\n",
      "  4%|███▌                                                                           | 10/225 [03:46<1:20:36, 22.49s/it]"
     ]
    },
    {
     "name": "stdout",
     "output_type": "stream",
     "text": [
      "Processing data for material : WATER\n",
      "image_data shape is :  (2048, 2448)\n",
      "im90 shape is :  (1024, 1224)\n",
      "Stokes time:  0.026984214782714844 s\n",
      "im_stokes0 shape is :  (1024, 1224)\n",
      "DoLP time:  0.035978078842163086 s\n",
      "im_DOLP shape is :  (1024, 1224)\n",
      "Time for DOLP2Theta conversion is :  21.931358814239502 seconds\n",
      "False\n",
      "AoLP time:  0.04697060585021973 s\n"
     ]
    },
    {
     "name": "stderr",
     "output_type": "stream",
     "text": [
      "\n",
      "  5%|███▊                                                                           | 11/225 [04:08<1:20:20, 22.53s/it]"
     ]
    },
    {
     "name": "stdout",
     "output_type": "stream",
     "text": [
      "Processing data for material : WATER\n",
      "image_data shape is :  (2048, 2448)\n",
      "im90 shape is :  (1024, 1224)\n",
      "Stokes time:  0.026983976364135742 s\n",
      "im_stokes0 shape is :  (1024, 1224)\n",
      "DoLP time:  0.036978721618652344 s\n",
      "im_DOLP shape is :  (1024, 1224)\n",
      "Time for DOLP2Theta conversion is :  21.983345985412598 seconds\n",
      "False\n",
      "AoLP time:  0.037976980209350586 s\n"
     ]
    },
    {
     "name": "stderr",
     "output_type": "stream",
     "text": [
      "\n",
      "  5%|████▏                                                                          | 12/225 [04:31<1:20:02, 22.55s/it]"
     ]
    },
    {
     "name": "stdout",
     "output_type": "stream",
     "text": [
      "Processing data for material : WATER\n",
      "image_data shape is :  (2048, 2448)\n",
      "im90 shape is :  (1024, 1224)\n",
      "Stokes time:  0.027980804443359375 s\n",
      "im_stokes0 shape is :  (1024, 1224)\n",
      "DoLP time:  0.03398013114929199 s\n",
      "im_DOLP shape is :  (1024, 1224)\n",
      "Time for DOLP2Theta conversion is :  21.14780902862549 seconds\n",
      "False\n",
      "AoLP time:  0.03997516632080078 s\n"
     ]
    },
    {
     "name": "stderr",
     "output_type": "stream",
     "text": [
      "\n",
      "  6%|████▌                                                                          | 13/225 [04:53<1:18:49, 22.31s/it]"
     ]
    },
    {
     "name": "stdout",
     "output_type": "stream",
     "text": [
      "Processing data for material : WATER\n",
      "image_data shape is :  (2048, 2448)\n",
      "im90 shape is :  (1024, 1224)\n",
      "Stokes time:  0.027982234954833984 s\n",
      "im_stokes0 shape is :  (1024, 1224)\n",
      "DoLP time:  0.035979509353637695 s\n",
      "im_DOLP shape is :  (1024, 1224)\n",
      "Time for DOLP2Theta conversion is :  20.90095281600952 seconds\n",
      "False\n",
      "AoLP time:  0.039977073669433594 s\n"
     ]
    },
    {
     "name": "stderr",
     "output_type": "stream",
     "text": [
      "\n",
      "  6%|████▉                                                                          | 14/225 [05:14<1:17:39, 22.08s/it]"
     ]
    },
    {
     "name": "stdout",
     "output_type": "stream",
     "text": [
      "Processing data for material : WATER\n",
      "image_data shape is :  (2048, 2448)\n",
      "im90 shape is :  (1024, 1224)\n",
      "Stokes time:  0.02798318862915039 s\n",
      "im_stokes0 shape is :  (1024, 1224)\n",
      "DoLP time:  0.034978628158569336 s\n",
      "im_DOLP shape is :  (1024, 1224)\n",
      "Time for DOLP2Theta conversion is :  21.863396883010864 seconds\n",
      "False\n",
      "AoLP time:  0.04097580909729004 s\n"
     ]
    },
    {
     "name": "stderr",
     "output_type": "stream",
     "text": [
      "\n",
      "  7%|█████▎                                                                         | 15/225 [05:37<1:17:43, 22.21s/it]"
     ]
    },
    {
     "name": "stdout",
     "output_type": "stream",
     "text": [
      "Processing data for material : WATER\n",
      "image_data shape is :  (2048, 2448)\n",
      "im90 shape is :  (1024, 1224)\n",
      "Stokes time:  0.025983572006225586 s\n",
      "im_stokes0 shape is :  (1024, 1224)\n",
      "DoLP time:  0.033980607986450195 s\n",
      "im_DOLP shape is :  (1024, 1224)\n",
      "Time for DOLP2Theta conversion is :  21.775448083877563 seconds\n",
      "False\n",
      "AoLP time:  0.04197525978088379 s\n"
     ]
    },
    {
     "name": "stderr",
     "output_type": "stream",
     "text": [
      "\n",
      "  7%|█████▌                                                                         | 16/225 [05:59<1:17:35, 22.28s/it]"
     ]
    },
    {
     "name": "stdout",
     "output_type": "stream",
     "text": [
      "Processing data for material : WATER\n",
      "image_data shape is :  (2048, 2448)\n",
      "im90 shape is :  (1024, 1224)\n",
      "Stokes time:  0.024985790252685547 s\n",
      "im_stokes0 shape is :  (1024, 1224)\n",
      "DoLP time:  0.034979820251464844 s\n",
      "im_DOLP shape is :  (1024, 1224)\n",
      "Time for DOLP2Theta conversion is :  22.03029990196228 seconds\n",
      "False\n",
      "AoLP time:  0.04997086524963379 s\n"
     ]
    },
    {
     "name": "stderr",
     "output_type": "stream",
     "text": [
      "\n",
      "  8%|█████▉                                                                         | 17/225 [06:22<1:17:39, 22.40s/it]"
     ]
    },
    {
     "name": "stdout",
     "output_type": "stream",
     "text": [
      "Processing data for material : WATER\n",
      "image_data shape is :  (2048, 2448)\n",
      "im90 shape is :  (1024, 1224)\n",
      "Stokes time:  0.025984764099121094 s\n",
      "im_stokes0 shape is :  (1024, 1224)\n",
      "DoLP time:  0.047972917556762695 s\n",
      "im_DOLP shape is :  (1024, 1224)\n",
      "Time for DOLP2Theta conversion is :  24.380945205688477 seconds\n",
      "False\n",
      "AoLP time:  0.04597282409667969 s\n"
     ]
    },
    {
     "name": "stderr",
     "output_type": "stream",
     "text": [
      "\n",
      "  8%|██████▎                                                                        | 18/225 [06:47<1:20:03, 23.21s/it]"
     ]
    },
    {
     "name": "stdout",
     "output_type": "stream",
     "text": [
      "Processing data for material : WATER\n",
      "image_data shape is :  (2048, 2448)\n",
      "im90 shape is :  (1024, 1224)\n",
      "Stokes time:  0.02698373794555664 s\n",
      "im_stokes0 shape is :  (1024, 1224)\n",
      "DoLP time:  0.03997635841369629 s\n",
      "im_DOLP shape is :  (1024, 1224)\n",
      "Time for DOLP2Theta conversion is :  24.9586124420166 seconds\n",
      "False\n",
      "AoLP time:  0.04397392272949219 s\n"
     ]
    },
    {
     "name": "stderr",
     "output_type": "stream",
     "text": [
      "\n",
      "  8%|██████▋                                                                        | 19/225 [07:12<1:22:12, 23.94s/it]"
     ]
    },
    {
     "name": "stdout",
     "output_type": "stream",
     "text": [
      "Processing data for material : WATER\n",
      "image_data shape is :  (2048, 2448)\n",
      "im90 shape is :  (1024, 1224)\n",
      "Stokes time:  0.026983022689819336 s\n",
      "im_stokes0 shape is :  (1024, 1224)\n",
      "DoLP time:  0.034979820251464844 s\n",
      "im_DOLP shape is :  (1024, 1224)\n",
      "Time for DOLP2Theta conversion is :  22.479042291641235 seconds\n",
      "False\n",
      "AoLP time:  0.04397273063659668 s\n"
     ]
    },
    {
     "name": "stderr",
     "output_type": "stream",
     "text": [
      "\n",
      "  9%|███████                                                                        | 20/225 [07:36<1:20:58, 23.70s/it]"
     ]
    },
    {
     "name": "stdout",
     "output_type": "stream",
     "text": [
      "Processing data for material : WATER\n",
      "image_data shape is :  (2048, 2448)\n",
      "im90 shape is :  (1024, 1224)\n",
      "Stokes time:  0.02798175811767578 s\n",
      "im_stokes0 shape is :  (1024, 1224)\n",
      "DoLP time:  0.03697848320007324 s\n",
      "im_DOLP shape is :  (1024, 1224)\n",
      "Time for DOLP2Theta conversion is :  22.342122316360474 seconds\n",
      "False\n",
      "AoLP time:  0.040975332260131836 s\n"
     ]
    },
    {
     "name": "stderr",
     "output_type": "stream",
     "text": [
      "\n",
      "  9%|███████▎                                                                       | 21/225 [07:59<1:19:51, 23.49s/it]"
     ]
    },
    {
     "name": "stdout",
     "output_type": "stream",
     "text": [
      "Processing data for material : WATER\n",
      "image_data shape is :  (2048, 2448)\n",
      "im90 shape is :  (1024, 1224)\n",
      "Stokes time:  0.03098297119140625 s\n",
      "im_stokes0 shape is :  (1024, 1224)\n",
      "DoLP time:  0.047971487045288086 s\n",
      "im_DOLP shape is :  (1024, 1224)\n",
      "Time for DOLP2Theta conversion is :  22.545003414154053 seconds\n",
      "False\n",
      "AoLP time:  0.04997062683105469 s\n"
     ]
    },
    {
     "name": "stderr",
     "output_type": "stream",
     "text": [
      "\n",
      " 10%|███████▋                                                                       | 22/225 [08:22<1:19:12, 23.41s/it]"
     ]
    },
    {
     "name": "stdout",
     "output_type": "stream",
     "text": [
      "Processing data for material : WATER\n",
      "image_data shape is :  (2048, 2448)\n",
      "im90 shape is :  (1024, 1224)\n",
      "Stokes time:  0.026984453201293945 s\n",
      "im_stokes0 shape is :  (1024, 1224)\n",
      "DoLP time:  0.03797721862792969 s\n",
      "im_DOLP shape is :  (1024, 1224)\n",
      "Time for DOLP2Theta conversion is :  24.834683179855347 seconds\n",
      "False\n",
      "AoLP time:  0.04497361183166504 s\n"
     ]
    },
    {
     "name": "stderr",
     "output_type": "stream",
     "text": [
      "\n",
      " 10%|████████                                                                       | 23/225 [08:47<1:20:58, 24.05s/it]"
     ]
    },
    {
     "name": "stdout",
     "output_type": "stream",
     "text": [
      "Processing data for material : WATER\n",
      "image_data shape is :  (2048, 2448)\n",
      "im90 shape is :  (1024, 1224)\n",
      "Stokes time:  0.027983427047729492 s\n",
      "im_stokes0 shape is :  (1024, 1224)\n",
      "DoLP time:  0.0379786491394043 s\n",
      "im_DOLP shape is :  (1024, 1224)\n",
      "Time for DOLP2Theta conversion is :  24.762726068496704 seconds\n",
      "False\n",
      "AoLP time:  0.04797101020812988 s\n"
     ]
    },
    {
     "name": "stderr",
     "output_type": "stream",
     "text": [
      "\n",
      " 11%|████████▍                                                                      | 24/225 [09:13<1:21:58, 24.47s/it]"
     ]
    },
    {
     "name": "stdout",
     "output_type": "stream",
     "text": [
      "Processing data for material : WATER\n",
      "image_data shape is :  (2048, 2448)\n",
      "im90 shape is :  (1024, 1224)\n",
      "Stokes time:  0.028983354568481445 s\n",
      "im_stokes0 shape is :  (1024, 1224)\n",
      "DoLP time:  0.03698015213012695 s\n",
      "im_DOLP shape is :  (1024, 1224)\n",
      "Time for DOLP2Theta conversion is :  24.60581660270691 seconds\n",
      "False\n",
      "AoLP time:  0.042974233627319336 s\n"
     ]
    },
    {
     "name": "stderr",
     "output_type": "stream",
     "text": [
      "\n",
      " 11%|████████▊                                                                      | 25/225 [09:38<1:22:22, 24.71s/it]"
     ]
    },
    {
     "name": "stdout",
     "output_type": "stream",
     "text": [
      "Processing data for material : WATER\n",
      "image_data shape is :  (2048, 2448)\n",
      "im90 shape is :  (1024, 1224)\n",
      "Stokes time:  0.02698373794555664 s\n",
      "im_stokes0 shape is :  (1024, 1224)\n",
      "DoLP time:  0.03997659683227539 s\n",
      "im_DOLP shape is :  (1024, 1224)\n",
      "Time for DOLP2Theta conversion is :  26.246870517730713 seconds\n",
      "False\n",
      "AoLP time:  0.04697227478027344 s\n"
     ]
    },
    {
     "name": "stderr",
     "output_type": "stream",
     "text": [
      "\n",
      " 12%|█████████▏                                                                     | 26/225 [10:05<1:24:07, 25.37s/it]"
     ]
    },
    {
     "name": "stdout",
     "output_type": "stream",
     "text": [
      "Processing data for material : WATER\n",
      "image_data shape is :  (2048, 2448)\n",
      "im90 shape is :  (1024, 1224)\n",
      "Stokes time:  0.024983644485473633 s\n",
      "im_stokes0 shape is :  (1024, 1224)\n",
      "DoLP time:  0.03298044204711914 s\n",
      "im_DOLP shape is :  (1024, 1224)\n",
      "Time for DOLP2Theta conversion is :  22.882808923721313 seconds\n",
      "False\n",
      "AoLP time:  0.04097580909729004 s\n"
     ]
    },
    {
     "name": "stderr",
     "output_type": "stream",
     "text": [
      "\n",
      " 12%|█████████▍                                                                     | 27/225 [10:29<1:21:52, 24.81s/it]"
     ]
    },
    {
     "name": "stdout",
     "output_type": "stream",
     "text": [
      "Processing data for material : WATER\n",
      "image_data shape is :  (2048, 2448)\n",
      "im90 shape is :  (1024, 1224)\n",
      "Stokes time:  0.023987531661987305 s\n",
      "im_stokes0 shape is :  (1024, 1224)\n",
      "DoLP time:  0.03597855567932129 s\n",
      "im_DOLP shape is :  (1024, 1224)\n",
      "Time for DOLP2Theta conversion is :  22.70491313934326 seconds\n",
      "False\n",
      "AoLP time:  0.04197549819946289 s\n"
     ]
    },
    {
     "name": "stderr",
     "output_type": "stream",
     "text": [
      "\n",
      " 12%|█████████▊                                                                     | 28/225 [10:52<1:20:02, 24.38s/it]"
     ]
    },
    {
     "name": "stdout",
     "output_type": "stream",
     "text": [
      "Processing data for material : WATER\n",
      "image_data shape is :  (2048, 2448)\n",
      "im90 shape is :  (1024, 1224)\n",
      "Stokes time:  0.025984525680541992 s\n",
      "im_stokes0 shape is :  (1024, 1224)\n",
      "DoLP time:  0.03797793388366699 s\n",
      "im_DOLP shape is :  (1024, 1224)\n",
      "Time for DOLP2Theta conversion is :  22.350114583969116 seconds\n",
      "False\n",
      "AoLP time:  0.04097604751586914 s\n"
     ]
    },
    {
     "name": "stderr",
     "output_type": "stream",
     "text": [
      "\n",
      " 13%|██████████▏                                                                    | 29/225 [11:15<1:18:17, 23.97s/it]"
     ]
    },
    {
     "name": "stdout",
     "output_type": "stream",
     "text": [
      "Processing data for material : WATER\n",
      "image_data shape is :  (2048, 2448)\n",
      "im90 shape is :  (1024, 1224)\n",
      "Stokes time:  0.02698516845703125 s\n",
      "im_stokes0 shape is :  (1024, 1224)\n",
      "DoLP time:  0.03298068046569824 s\n",
      "im_DOLP shape is :  (1024, 1224)\n",
      "Time for DOLP2Theta conversion is :  24.433915615081787 seconds\n",
      "False\n",
      "AoLP time:  0.04397416114807129 s\n"
     ]
    },
    {
     "name": "stderr",
     "output_type": "stream",
     "text": [
      "\n",
      " 13%|██████████▌                                                                    | 30/225 [11:40<1:19:00, 24.31s/it]"
     ]
    },
    {
     "name": "stdout",
     "output_type": "stream",
     "text": [
      "Processing data for material : WATER\n",
      "image_data shape is :  (2048, 2448)\n",
      "im90 shape is :  (1024, 1224)\n",
      "Stokes time:  0.027982473373413086 s\n",
      "im_stokes0 shape is :  (1024, 1224)\n",
      "DoLP time:  0.03997635841369629 s\n",
      "im_DOLP shape is :  (1024, 1224)\n",
      "Time for DOLP2Theta conversion is :  24.71875286102295 seconds\n",
      "False\n",
      "AoLP time:  0.04797172546386719 s\n"
     ]
    },
    {
     "name": "stderr",
     "output_type": "stream",
     "text": [
      "\n",
      " 14%|██████████▉                                                                    | 31/225 [12:05<1:19:41, 24.65s/it]"
     ]
    },
    {
     "name": "stdout",
     "output_type": "stream",
     "text": [
      "Processing data for material : WATER\n",
      "image_data shape is :  (2048, 2448)\n",
      "im90 shape is :  (1024, 1224)\n",
      "Stokes time:  0.027982711791992188 s\n",
      "im_stokes0 shape is :  (1024, 1224)\n",
      "DoLP time:  0.0339808464050293 s\n",
      "im_DOLP shape is :  (1024, 1224)\n",
      "Time for DOLP2Theta conversion is :  24.66378402709961 seconds\n",
      "False\n",
      "AoLP time:  0.04597210884094238 s\n"
     ]
    },
    {
     "name": "stderr",
     "output_type": "stream",
     "text": [
      "\n",
      " 14%|███████████▏                                                                   | 32/225 [12:31<1:19:58, 24.86s/it]"
     ]
    },
    {
     "name": "stdout",
     "output_type": "stream",
     "text": [
      "Processing data for material : WATER\n",
      "image_data shape is :  (2048, 2448)\n",
      "im90 shape is :  (1024, 1224)\n",
      "Stokes time:  0.028983116149902344 s\n",
      "im_stokes0 shape is :  (1024, 1224)\n",
      "DoLP time:  0.037978172302246094 s\n",
      "im_DOLP shape is :  (1024, 1224)\n",
      "Time for DOLP2Theta conversion is :  25.654211044311523 seconds\n",
      "False\n",
      "AoLP time:  0.04297351837158203 s\n"
     ]
    },
    {
     "name": "stderr",
     "output_type": "stream",
     "text": [
      "\n",
      " 15%|███████████▌                                                                   | 33/225 [12:57<1:20:59, 25.31s/it]"
     ]
    },
    {
     "name": "stdout",
     "output_type": "stream",
     "text": [
      "Processing data for material : WATER\n",
      "image_data shape is :  (2048, 2448)\n",
      "im90 shape is :  (1024, 1224)\n",
      "Stokes time:  0.02898263931274414 s\n",
      "im_stokes0 shape is :  (1024, 1224)\n",
      "DoLP time:  0.03697848320007324 s\n",
      "im_DOLP shape is :  (1024, 1224)\n",
      "Time for DOLP2Theta conversion is :  23.526437520980835 seconds\n",
      "False\n",
      "AoLP time:  0.04997134208679199 s\n"
     ]
    },
    {
     "name": "stderr",
     "output_type": "stream",
     "text": [
      "\n",
      " 15%|███████████▉                                                                   | 34/225 [13:21<1:19:29, 24.97s/it]"
     ]
    },
    {
     "name": "stdout",
     "output_type": "stream",
     "text": [
      "Processing data for material : WATER\n",
      "image_data shape is :  (2048, 2448)\n",
      "im90 shape is :  (1024, 1224)\n",
      "Stokes time:  0.02698349952697754 s\n",
      "im_stokes0 shape is :  (1024, 1224)\n",
      "DoLP time:  0.04097604751586914 s\n",
      "im_DOLP shape is :  (1024, 1224)\n",
      "Time for DOLP2Theta conversion is :  21.947350025177002 seconds\n",
      "False\n",
      "AoLP time:  0.03997659683227539 s\n"
     ]
    },
    {
     "name": "stderr",
     "output_type": "stream",
     "text": [
      "\n",
      " 16%|████████████▎                                                                  | 35/225 [13:44<1:16:50, 24.26s/it]"
     ]
    },
    {
     "name": "stdout",
     "output_type": "stream",
     "text": [
      "Processing data for material : WATER\n",
      "image_data shape is :  (2048, 2448)\n",
      "im90 shape is :  (1024, 1224)\n",
      "Stokes time:  0.02498483657836914 s\n",
      "im_stokes0 shape is :  (1024, 1224)\n",
      "DoLP time:  0.03597879409790039 s\n",
      "im_DOLP shape is :  (1024, 1224)\n",
      "Time for DOLP2Theta conversion is :  22.341142177581787 seconds\n",
      "False\n",
      "AoLP time:  0.05096888542175293 s\n"
     ]
    },
    {
     "name": "stderr",
     "output_type": "stream",
     "text": [
      "\n",
      " 16%|████████████▋                                                                  | 36/225 [14:07<1:15:13, 23.88s/it]"
     ]
    },
    {
     "name": "stdout",
     "output_type": "stream",
     "text": [
      "Processing data for material : WATER\n",
      "image_data shape is :  (2048, 2448)\n",
      "im90 shape is :  (1024, 1224)\n",
      "Stokes time:  0.024985074996948242 s\n",
      "im_stokes0 shape is :  (1024, 1224)\n",
      "DoLP time:  0.03697848320007324 s\n",
      "im_DOLP shape is :  (1024, 1224)\n",
      "Time for DOLP2Theta conversion is :  24.37594771385193 seconds\n",
      "False\n",
      "AoLP time:  0.04797053337097168 s\n"
     ]
    },
    {
     "name": "stderr",
     "output_type": "stream",
     "text": [
      "\n",
      " 16%|████████████▉                                                                  | 37/225 [14:32<1:15:54, 24.23s/it]"
     ]
    },
    {
     "name": "stdout",
     "output_type": "stream",
     "text": [
      "Processing data for material : WATER\n",
      "image_data shape is :  (2048, 2448)\n",
      "im90 shape is :  (1024, 1224)\n",
      "Stokes time:  0.02698493003845215 s\n",
      "im_stokes0 shape is :  (1024, 1224)\n",
      "DoLP time:  0.038977622985839844 s\n",
      "im_DOLP shape is :  (1024, 1224)\n",
      "Time for DOLP2Theta conversion is :  25.08154296875 seconds\n",
      "False\n",
      "AoLP time:  0.04297471046447754 s\n"
     ]
    },
    {
     "name": "stderr",
     "output_type": "stream",
     "text": [
      "\n",
      " 17%|█████████████▎                                                                 | 38/225 [14:58<1:16:57, 24.69s/it]"
     ]
    },
    {
     "name": "stdout",
     "output_type": "stream",
     "text": [
      "Processing data for material : WATER\n",
      "image_data shape is :  (2048, 2448)\n",
      "im90 shape is :  (1024, 1224)\n",
      "Stokes time:  0.026984453201293945 s\n",
      "im_stokes0 shape is :  (1024, 1224)\n",
      "DoLP time:  0.038976430892944336 s\n",
      "im_DOLP shape is :  (1024, 1224)\n",
      "Time for DOLP2Theta conversion is :  24.68976926803589 seconds\n",
      "False\n",
      "AoLP time:  0.04397416114807129 s\n"
     ]
    },
    {
     "name": "stderr",
     "output_type": "stream",
     "text": [
      "\n",
      " 17%|█████████████▋                                                                 | 39/225 [15:23<1:17:11, 24.90s/it]"
     ]
    },
    {
     "name": "stdout",
     "output_type": "stream",
     "text": [
      "Processing data for material : WATER\n",
      "image_data shape is :  (2048, 2448)\n",
      "im90 shape is :  (1024, 1224)\n",
      "Stokes time:  0.028982877731323242 s\n",
      "im_stokes0 shape is :  (1024, 1224)\n",
      "DoLP time:  0.039977312088012695 s\n",
      "im_DOLP shape is :  (1024, 1224)\n",
      "Time for DOLP2Theta conversion is :  24.596821784973145 seconds\n",
      "False\n",
      "AoLP time:  0.05097055435180664 s\n"
     ]
    },
    {
     "name": "stderr",
     "output_type": "stream",
     "text": [
      "\n",
      " 18%|██████████████                                                                 | 40/225 [15:48<1:17:09, 25.03s/it]"
     ]
    },
    {
     "name": "stdout",
     "output_type": "stream",
     "text": [
      "Processing data for material : WATER\n",
      "image_data shape is :  (2048, 2448)\n",
      "im90 shape is :  (1024, 1224)\n",
      "Stokes time:  0.025985002517700195 s\n",
      "im_stokes0 shape is :  (1024, 1224)\n",
      "DoLP time:  0.035979270935058594 s\n",
      "im_DOLP shape is :  (1024, 1224)\n",
      "Time for DOLP2Theta conversion is :  24.066126585006714 seconds\n",
      "False\n",
      "AoLP time:  0.04097580909729004 s\n"
     ]
    },
    {
     "name": "stderr",
     "output_type": "stream",
     "text": [
      "\n",
      " 18%|██████████████▍                                                                | 41/225 [16:13<1:16:27, 24.93s/it]"
     ]
    },
    {
     "name": "stdout",
     "output_type": "stream",
     "text": [
      "Processing data for material : WATER\n",
      "image_data shape is :  (2048, 2448)\n",
      "im90 shape is :  (1024, 1224)\n",
      "Stokes time:  0.025985240936279297 s\n",
      "im_stokes0 shape is :  (1024, 1224)\n",
      "DoLP time:  0.034979820251464844 s\n",
      "im_DOLP shape is :  (1024, 1224)\n",
      "Time for DOLP2Theta conversion is :  22.909793615341187 seconds\n",
      "False\n",
      "AoLP time:  0.04097795486450195 s\n"
     ]
    },
    {
     "name": "stderr",
     "output_type": "stream",
     "text": [
      "\n",
      " 19%|██████████████▋                                                                | 42/225 [16:37<1:14:47, 24.52s/it]"
     ]
    },
    {
     "name": "stdout",
     "output_type": "stream",
     "text": [
      "Processing data for material : WATER\n",
      "image_data shape is :  (2048, 2448)\n",
      "im90 shape is :  (1024, 1224)\n",
      "Stokes time:  0.02598428726196289 s\n",
      "im_stokes0 shape is :  (1024, 1224)\n",
      "DoLP time:  0.03597903251647949 s\n",
      "im_DOLP shape is :  (1024, 1224)\n",
      "Time for DOLP2Theta conversion is :  22.27715754508972 seconds\n",
      "False\n",
      "AoLP time:  0.042973995208740234 s\n"
     ]
    },
    {
     "name": "stderr",
     "output_type": "stream",
     "text": [
      "\n",
      " 19%|███████████████                                                                | 43/225 [17:00<1:12:54, 24.04s/it]"
     ]
    },
    {
     "name": "stdout",
     "output_type": "stream",
     "text": [
      "Processing data for material : WATER\n",
      "image_data shape is :  (2048, 2448)\n",
      "im90 shape is :  (1024, 1224)\n",
      "Stokes time:  0.024984359741210938 s\n",
      "im_stokes0 shape is :  (1024, 1224)\n",
      "DoLP time:  0.030981779098510742 s\n",
      "im_DOLP shape is :  (1024, 1224)\n",
      "Time for DOLP2Theta conversion is :  23.75230383872986 seconds\n",
      "False\n",
      "AoLP time:  0.04597282409667969 s\n"
     ]
    },
    {
     "name": "stderr",
     "output_type": "stream",
     "text": [
      "\n",
      " 20%|███████████████▍                                                               | 44/225 [17:24<1:12:50, 24.14s/it]"
     ]
    },
    {
     "name": "stdout",
     "output_type": "stream",
     "text": [
      "Processing data for material : WATER\n",
      "image_data shape is :  (2048, 2448)\n",
      "im90 shape is :  (1024, 1224)\n",
      "Stokes time:  0.0279843807220459 s\n",
      "im_stokes0 shape is :  (1024, 1224)\n",
      "DoLP time:  0.040976524353027344 s\n",
      "im_DOLP shape is :  (1024, 1224)\n",
      "Time for DOLP2Theta conversion is :  24.354961156845093 seconds\n",
      "False\n",
      "AoLP time:  0.04797077178955078 s\n"
     ]
    },
    {
     "name": "stderr",
     "output_type": "stream",
     "text": [
      "\n",
      " 20%|███████████████▊                                                               | 45/225 [17:49<1:13:15, 24.42s/it]"
     ]
    },
    {
     "name": "stdout",
     "output_type": "stream",
     "text": [
      "Processing data for material : WATER\n",
      "image_data shape is :  (2048, 2448)\n",
      "im90 shape is :  (1024, 1224)\n",
      "Stokes time:  0.02698373794555664 s\n",
      "im_stokes0 shape is :  (1024, 1224)\n",
      "DoLP time:  0.03997659683227539 s\n",
      "im_DOLP shape is :  (1024, 1224)\n",
      "Time for DOLP2Theta conversion is :  24.68976664543152 seconds\n",
      "False\n",
      "AoLP time:  0.047971487045288086 s\n"
     ]
    },
    {
     "name": "stderr",
     "output_type": "stream",
     "text": [
      "\n",
      " 20%|████████████████▏                                                              | 46/225 [18:15<1:13:44, 24.72s/it]"
     ]
    },
    {
     "name": "stdout",
     "output_type": "stream",
     "text": [
      "Processing data for material : WATER\n",
      "image_data shape is :  (2048, 2448)\n",
      "im90 shape is :  (1024, 1224)\n",
      "Stokes time:  0.02698373794555664 s\n",
      "im_stokes0 shape is :  (1024, 1224)\n",
      "DoLP time:  0.03997611999511719 s\n",
      "im_DOLP shape is :  (1024, 1224)\n",
      "Time for DOLP2Theta conversion is :  24.80570101737976 seconds\n",
      "False\n",
      "AoLP time:  0.043973445892333984 s\n"
     ]
    },
    {
     "name": "stderr",
     "output_type": "stream",
     "text": [
      "\n",
      " 21%|████████████████▌                                                              | 47/225 [18:40<1:14:02, 24.96s/it]"
     ]
    },
    {
     "name": "stdout",
     "output_type": "stream",
     "text": [
      "Processing data for material : WATER\n",
      "image_data shape is :  (2048, 2448)\n",
      "im90 shape is :  (1024, 1224)\n",
      "Stokes time:  0.0279843807220459 s\n",
      "im_stokes0 shape is :  (1024, 1224)\n",
      "DoLP time:  0.04197549819946289 s\n",
      "im_DOLP shape is :  (1024, 1224)\n",
      "Time for DOLP2Theta conversion is :  24.542852640151978 seconds\n",
      "False\n",
      "AoLP time:  0.042975425720214844 s\n"
     ]
    },
    {
     "name": "stderr",
     "output_type": "stream",
     "text": [
      "\n",
      " 21%|████████████████▊                                                              | 48/225 [19:05<1:13:53, 25.05s/it]"
     ]
    },
    {
     "name": "stdout",
     "output_type": "stream",
     "text": [
      "Processing data for material : WATER\n",
      "image_data shape is :  (2048, 2448)\n",
      "im90 shape is :  (1024, 1224)\n",
      "Stokes time:  0.025985002517700195 s\n",
      "im_stokes0 shape is :  (1024, 1224)\n",
      "DoLP time:  0.034979820251464844 s\n",
      "im_DOLP shape is :  (1024, 1224)\n",
      "Time for DOLP2Theta conversion is :  22.410083055496216 seconds\n",
      "False\n",
      "AoLP time:  0.039975881576538086 s\n"
     ]
    },
    {
     "name": "stderr",
     "output_type": "stream",
     "text": [
      "\n",
      " 22%|█████████████████▏                                                             | 49/225 [19:28<1:11:45, 24.46s/it]"
     ]
    },
    {
     "name": "stdout",
     "output_type": "stream",
     "text": [
      "Processing data for material : WATER\n",
      "image_data shape is :  (2048, 2448)\n",
      "im90 shape is :  (1024, 1224)\n",
      "Stokes time:  0.024983882904052734 s\n",
      "im_stokes0 shape is :  (1024, 1224)\n",
      "DoLP time:  0.034979820251464844 s\n",
      "im_DOLP shape is :  (1024, 1224)\n",
      "Time for DOLP2Theta conversion is :  22.320135593414307 seconds\n",
      "False\n",
      "AoLP time:  0.051969051361083984 s\n"
     ]
    },
    {
     "name": "stderr",
     "output_type": "stream",
     "text": [
      "\n",
      " 22%|█████████████████▌                                                             | 50/225 [19:51<1:10:05, 24.03s/it]"
     ]
    },
    {
     "name": "stdout",
     "output_type": "stream",
     "text": [
      "Processing data for material : WATER\n",
      "image_data shape is :  (2048, 2448)\n",
      "im90 shape is :  (1024, 1224)\n",
      "Stokes time:  0.027983903884887695 s\n",
      "im_stokes0 shape is :  (1024, 1224)\n",
      "DoLP time:  0.03897666931152344 s\n",
      "im_DOLP shape is :  (1024, 1224)\n",
      "Time for DOLP2Theta conversion is :  23.387518167495728 seconds\n",
      "False\n",
      "AoLP time:  0.05496788024902344 s\n"
     ]
    },
    {
     "name": "stderr",
     "output_type": "stream",
     "text": [
      "\n",
      " 23%|█████████████████▉                                                             | 51/225 [20:16<1:09:44, 24.05s/it]"
     ]
    },
    {
     "name": "stdout",
     "output_type": "stream",
     "text": [
      "Processing data for material : WATER\n",
      "image_data shape is :  (2048, 2448)\n",
      "im90 shape is :  (1024, 1224)\n",
      "Stokes time:  0.025985002517700195 s\n",
      "im_stokes0 shape is :  (1024, 1224)\n",
      "DoLP time:  0.037978410720825195 s\n",
      "im_DOLP shape is :  (1024, 1224)\n",
      "Time for DOLP2Theta conversion is :  25.033570051193237 seconds\n",
      "False\n",
      "AoLP time:  0.0419764518737793 s\n"
     ]
    },
    {
     "name": "stderr",
     "output_type": "stream",
     "text": [
      "\n",
      " 23%|██████████████████▎                                                            | 52/225 [20:41<1:10:48, 24.56s/it]"
     ]
    },
    {
     "name": "stdout",
     "output_type": "stream",
     "text": [
      "Processing data for material : WATER\n",
      "image_data shape is :  (2048, 2448)\n",
      "im90 shape is :  (1024, 1224)\n",
      "Stokes time:  0.02798295021057129 s\n",
      "im_stokes0 shape is :  (1024, 1224)\n",
      "DoLP time:  0.03997683525085449 s\n",
      "im_DOLP shape is :  (1024, 1224)\n",
      "Time for DOLP2Theta conversion is :  24.629802942276 seconds\n",
      "False\n",
      "AoLP time:  0.044973134994506836 s\n"
     ]
    },
    {
     "name": "stderr",
     "output_type": "stream",
     "text": [
      "\n",
      " 24%|██████████████████▌                                                            | 53/225 [21:07<1:11:03, 24.79s/it]"
     ]
    },
    {
     "name": "stdout",
     "output_type": "stream",
     "text": [
      "Processing data for material : WATER\n",
      "image_data shape is :  (2048, 2448)\n",
      "im90 shape is :  (1024, 1224)\n",
      "Stokes time:  0.02898263931274414 s\n",
      "im_stokes0 shape is :  (1024, 1224)\n",
      "DoLP time:  0.038977622985839844 s\n",
      "im_DOLP shape is :  (1024, 1224)\n",
      "Time for DOLP2Theta conversion is :  23.773296356201172 seconds\n",
      "False\n",
      "AoLP time:  0.04297375679016113 s\n"
     ]
    },
    {
     "name": "stderr",
     "output_type": "stream",
     "text": [
      "\n",
      " 24%|██████████████████▉                                                            | 54/225 [21:31<1:10:21, 24.69s/it]"
     ]
    },
    {
     "name": "stdout",
     "output_type": "stream",
     "text": [
      "Processing data for material : WATER\n",
      "image_data shape is :  (2048, 2448)\n",
      "im90 shape is :  (1024, 1224)\n",
      "Stokes time:  0.025985002517700195 s\n",
      "im_stokes0 shape is :  (1024, 1224)\n",
      "DoLP time:  0.03797769546508789 s\n",
      "im_DOLP shape is :  (1024, 1224)\n",
      "Time for DOLP2Theta conversion is :  22.319134950637817 seconds\n",
      "False\n",
      "AoLP time:  0.04197502136230469 s\n"
     ]
    },
    {
     "name": "stderr",
     "output_type": "stream",
     "text": [
      "\n",
      " 24%|███████████████████▎                                                           | 55/225 [21:54<1:08:29, 24.17s/it]"
     ]
    },
    {
     "name": "stdout",
     "output_type": "stream",
     "text": [
      "Processing data for material : WATER\n",
      "image_data shape is :  (2048, 2448)\n",
      "im90 shape is :  (1024, 1224)\n",
      "Stokes time:  0.028982877731323242 s\n",
      "im_stokes0 shape is :  (1024, 1224)\n",
      "DoLP time:  0.03697848320007324 s\n",
      "im_DOLP shape is :  (1024, 1224)\n",
      "Time for DOLP2Theta conversion is :  21.599567890167236 seconds\n",
      "False\n",
      "AoLP time:  0.04497337341308594 s\n"
     ]
    },
    {
     "name": "stderr",
     "output_type": "stream",
     "text": [
      "\n",
      " 25%|███████████████████▋                                                           | 56/225 [22:16<1:06:26, 23.59s/it]"
     ]
    },
    {
     "name": "stdout",
     "output_type": "stream",
     "text": [
      "Processing data for material : WATER\n",
      "image_data shape is :  (2048, 2448)\n",
      "im90 shape is :  (1024, 1224)\n",
      "Stokes time:  0.026983261108398438 s\n",
      "im_stokes0 shape is :  (1024, 1224)\n",
      "DoLP time:  0.03697848320007324 s\n",
      "im_DOLP shape is :  (1024, 1224)\n",
      "Time for DOLP2Theta conversion is :  21.35868787765503 seconds\n",
      "False\n",
      "AoLP time:  0.03997659683227539 s\n"
     ]
    },
    {
     "name": "stderr",
     "output_type": "stream",
     "text": [
      "\n",
      " 25%|████████████████████                                                           | 57/225 [22:38<1:04:42, 23.11s/it]"
     ]
    },
    {
     "name": "stdout",
     "output_type": "stream",
     "text": [
      "Processing data for material : WATER\n",
      "image_data shape is :  (2048, 2448)\n",
      "im90 shape is :  (1024, 1224)\n",
      "Stokes time:  0.026983261108398438 s\n",
      "im_stokes0 shape is :  (1024, 1224)\n",
      "DoLP time:  0.031981706619262695 s\n",
      "im_DOLP shape is :  (1024, 1224)\n",
      "Time for DOLP2Theta conversion is :  21.379677295684814 seconds\n",
      "False\n",
      "AoLP time:  0.04597330093383789 s\n"
     ]
    },
    {
     "name": "stderr",
     "output_type": "stream",
     "text": [
      "\n",
      " 26%|████████████████████▎                                                          | 58/225 [23:00<1:03:23, 22.77s/it]"
     ]
    },
    {
     "name": "stdout",
     "output_type": "stream",
     "text": [
      "Processing data for material : WATER\n",
      "image_data shape is :  (2048, 2448)\n",
      "im90 shape is :  (1024, 1224)\n",
      "Stokes time:  0.02398538589477539 s\n",
      "im_stokes0 shape is :  (1024, 1224)\n",
      "DoLP time:  0.03597831726074219 s\n",
      "im_DOLP shape is :  (1024, 1224)\n",
      "Time for DOLP2Theta conversion is :  21.548579692840576 seconds\n",
      "False\n",
      "AoLP time:  0.04097461700439453 s\n"
     ]
    },
    {
     "name": "stderr",
     "output_type": "stream",
     "text": [
      "\n",
      " 26%|████████████████████▋                                                          | 59/225 [23:22<1:02:30, 22.59s/it]"
     ]
    },
    {
     "name": "stdout",
     "output_type": "stream",
     "text": [
      "Processing data for material : WATER\n",
      "image_data shape is :  (2048, 2448)\n",
      "im90 shape is :  (1024, 1224)\n",
      "Stokes time:  0.0259854793548584 s\n",
      "im_stokes0 shape is :  (1024, 1224)\n",
      "DoLP time:  0.03597855567932129 s\n",
      "im_DOLP shape is :  (1024, 1224)\n",
      "Time for DOLP2Theta conversion is :  21.94834589958191 seconds\n",
      "False\n",
      "AoLP time:  0.04397392272949219 s\n"
     ]
    },
    {
     "name": "stderr",
     "output_type": "stream",
     "text": [
      "\n",
      " 27%|█████████████████████                                                          | 60/225 [23:45<1:02:07, 22.59s/it]"
     ]
    },
    {
     "name": "stdout",
     "output_type": "stream",
     "text": [
      "Processing data for material : WATER\n",
      "image_data shape is :  (2048, 2448)\n",
      "im90 shape is :  (1024, 1224)\n",
      "Stokes time:  0.025983810424804688 s\n",
      "im_stokes0 shape is :  (1024, 1224)\n",
      "DoLP time:  0.033980369567871094 s\n",
      "im_DOLP shape is :  (1024, 1224)\n",
      "Time for DOLP2Theta conversion is :  22.21119475364685 seconds\n",
      "False\n",
      "AoLP time:  0.044972896575927734 s\n"
     ]
    },
    {
     "name": "stderr",
     "output_type": "stream",
     "text": [
      "\n",
      " 27%|█████████████████████▍                                                         | 61/225 [24:08<1:02:00, 22.68s/it]"
     ]
    },
    {
     "name": "stdout",
     "output_type": "stream",
     "text": [
      "Processing data for material : WATER\n",
      "image_data shape is :  (2048, 2448)\n",
      "im90 shape is :  (1024, 1224)\n",
      "Stokes time:  0.026984214782714844 s\n",
      "im_stokes0 shape is :  (1024, 1224)\n",
      "DoLP time:  0.03897690773010254 s\n",
      "im_DOLP shape is :  (1024, 1224)\n",
      "Time for DOLP2Theta conversion is :  21.74146795272827 seconds\n",
      "False\n",
      "AoLP time:  0.041975975036621094 s\n"
     ]
    },
    {
     "name": "stderr",
     "output_type": "stream",
     "text": [
      "\n",
      " 28%|█████████████████████▊                                                         | 62/225 [24:30<1:01:23, 22.60s/it]"
     ]
    },
    {
     "name": "stdout",
     "output_type": "stream",
     "text": [
      "Processing data for material : WATER\n",
      "image_data shape is :  (2048, 2448)\n",
      "im90 shape is :  (1024, 1224)\n",
      "Stokes time:  0.026983261108398438 s\n",
      "im_stokes0 shape is :  (1024, 1224)\n",
      "DoLP time:  0.04097604751586914 s\n",
      "im_DOLP shape is :  (1024, 1224)\n",
      "Time for DOLP2Theta conversion is :  22.29614782333374 seconds\n",
      "False\n",
      "AoLP time:  0.04497361183166504 s\n"
     ]
    },
    {
     "name": "stderr",
     "output_type": "stream",
     "text": [
      "\n",
      " 28%|██████████████████████                                                         | 63/225 [24:53<1:01:19, 22.71s/it]"
     ]
    },
    {
     "name": "stdout",
     "output_type": "stream",
     "text": [
      "Processing data for material : WATER\n",
      "image_data shape is :  (2048, 2448)\n",
      "im90 shape is :  (1024, 1224)\n",
      "Stokes time:  0.02698373794555664 s\n",
      "im_stokes0 shape is :  (1024, 1224)\n",
      "DoLP time:  0.037978410720825195 s\n",
      "im_DOLP shape is :  (1024, 1224)\n",
      "Time for DOLP2Theta conversion is :  21.65351891517639 seconds\n",
      "False\n",
      "AoLP time:  0.0599668025970459 s\n"
     ]
    },
    {
     "name": "stderr",
     "output_type": "stream",
     "text": [
      "\n",
      " 28%|██████████████████████▍                                                        | 64/225 [25:16<1:00:37, 22.59s/it]"
     ]
    },
    {
     "name": "stdout",
     "output_type": "stream",
     "text": [
      "Processing data for material : WATER\n",
      "image_data shape is :  (2048, 2448)\n",
      "im90 shape is :  (1024, 1224)\n",
      "Stokes time:  0.026983976364135742 s\n",
      "im_stokes0 shape is :  (1024, 1224)\n",
      "DoLP time:  0.035979270935058594 s\n",
      "im_DOLP shape is :  (1024, 1224)\n",
      "Time for DOLP2Theta conversion is :  21.17079472541809 seconds\n",
      "False\n",
      "AoLP time:  0.03897738456726074 s\n"
     ]
    },
    {
     "name": "stderr",
     "output_type": "stream",
     "text": [
      "\n",
      " 29%|███████████████████████▍                                                         | 65/225 [25:37<59:38, 22.37s/it]"
     ]
    },
    {
     "name": "stdout",
     "output_type": "stream",
     "text": [
      "Processing data for material : WATER\n",
      "image_data shape is :  (2048, 2448)\n",
      "im90 shape is :  (1024, 1224)\n",
      "Stokes time:  0.023986339569091797 s\n",
      "im_stokes0 shape is :  (1024, 1224)\n",
      "DoLP time:  0.033980607986450195 s\n",
      "im_DOLP shape is :  (1024, 1224)\n",
      "Time for DOLP2Theta conversion is :  20.96292996406555 seconds\n",
      "False\n",
      "AoLP time:  0.039977312088012695 s\n"
     ]
    },
    {
     "name": "stderr",
     "output_type": "stream",
     "text": [
      "\n",
      " 29%|███████████████████████▊                                                         | 66/225 [25:59<58:40, 22.14s/it]"
     ]
    },
    {
     "name": "stdout",
     "output_type": "stream",
     "text": [
      "Processing data for material : WATER\n",
      "image_data shape is :  (2048, 2448)\n",
      "im90 shape is :  (1024, 1224)\n",
      "Stokes time:  0.026983976364135742 s\n",
      "im_stokes0 shape is :  (1024, 1224)\n",
      "DoLP time:  0.03298068046569824 s\n",
      "im_DOLP shape is :  (1024, 1224)\n",
      "Time for DOLP2Theta conversion is :  21.9683358669281 seconds\n",
      "False\n",
      "AoLP time:  0.0459747314453125 s\n"
     ]
    },
    {
     "name": "stderr",
     "output_type": "stream",
     "text": [
      "\n",
      " 30%|████████████████████████                                                         | 67/225 [26:22<58:41, 22.29s/it]"
     ]
    },
    {
     "name": "stdout",
     "output_type": "stream",
     "text": [
      "Processing data for material : WATER\n",
      "image_data shape is :  (2048, 2448)\n",
      "im90 shape is :  (1024, 1224)\n",
      "Stokes time:  0.0279843807220459 s\n",
      "im_stokes0 shape is :  (1024, 1224)\n",
      "DoLP time:  0.0399775505065918 s\n",
      "im_DOLP shape is :  (1024, 1224)\n",
      "Time for DOLP2Theta conversion is :  22.01930570602417 seconds\n",
      "False\n",
      "AoLP time:  0.0399777889251709 s\n"
     ]
    },
    {
     "name": "stderr",
     "output_type": "stream",
     "text": [
      "\n",
      " 30%|████████████████████████▍                                                        | 68/225 [26:44<58:38, 22.41s/it]"
     ]
    },
    {
     "name": "stdout",
     "output_type": "stream",
     "text": [
      "Processing data for material : WATER\n",
      "image_data shape is :  (2048, 2448)\n",
      "im90 shape is :  (1024, 1224)\n",
      "Stokes time:  0.024985313415527344 s\n",
      "im_stokes0 shape is :  (1024, 1224)\n",
      "DoLP time:  0.03597879409790039 s\n",
      "im_DOLP shape is :  (1024, 1224)\n",
      "Time for DOLP2Theta conversion is :  21.783443927764893 seconds\n",
      "False\n",
      "AoLP time:  0.040975093841552734 s\n"
     ]
    },
    {
     "name": "stderr",
     "output_type": "stream",
     "text": [
      "\n",
      " 31%|████████████████████████▊                                                        | 69/225 [27:07<58:18, 22.42s/it]"
     ]
    },
    {
     "name": "stdout",
     "output_type": "stream",
     "text": [
      "Processing data for material : WATER\n",
      "image_data shape is :  (2048, 2448)\n",
      "im90 shape is :  (1024, 1224)\n",
      "Stokes time:  0.025985002517700195 s\n",
      "im_stokes0 shape is :  (1024, 1224)\n",
      "DoLP time:  0.03797793388366699 s\n",
      "im_DOLP shape is :  (1024, 1224)\n",
      "Time for DOLP2Theta conversion is :  22.100260257720947 seconds\n",
      "False\n",
      "AoLP time:  0.04297614097595215 s\n"
     ]
    },
    {
     "name": "stderr",
     "output_type": "stream",
     "text": [
      "\n",
      " 31%|█████████████████████████▏                                                       | 70/225 [27:30<58:12, 22.53s/it]"
     ]
    },
    {
     "name": "stdout",
     "output_type": "stream",
     "text": [
      "Processing data for material : WATER\n",
      "image_data shape is :  (2048, 2448)\n",
      "im90 shape is :  (1024, 1224)\n",
      "Stokes time:  0.0259854793548584 s\n",
      "im_stokes0 shape is :  (1024, 1224)\n",
      "DoLP time:  0.03697800636291504 s\n",
      "im_DOLP shape is :  (1024, 1224)\n",
      "Time for DOLP2Theta conversion is :  21.87838912010193 seconds\n",
      "False\n",
      "AoLP time:  0.040975093841552734 s\n"
     ]
    },
    {
     "name": "stderr",
     "output_type": "stream",
     "text": [
      "\n",
      " 32%|█████████████████████████▌                                                       | 71/225 [27:52<57:49, 22.53s/it]"
     ]
    },
    {
     "name": "stdout",
     "output_type": "stream",
     "text": [
      "Processing data for material : WATER\n",
      "image_data shape is :  (2048, 2448)\n",
      "im90 shape is :  (1024, 1224)\n",
      "Stokes time:  0.027982234954833984 s\n",
      "im_stokes0 shape is :  (1024, 1224)\n",
      "DoLP time:  0.03797793388366699 s\n",
      "im_DOLP shape is :  (1024, 1224)\n",
      "Time for DOLP2Theta conversion is :  21.15880274772644 seconds\n",
      "False\n",
      "AoLP time:  0.04097580909729004 s\n"
     ]
    },
    {
     "name": "stderr",
     "output_type": "stream",
     "text": [
      "\n",
      " 32%|█████████████████████████▉                                                       | 72/225 [28:14<56:55, 22.32s/it]"
     ]
    },
    {
     "name": "stdout",
     "output_type": "stream",
     "text": [
      "Processing data for material : WATER\n",
      "image_data shape is :  (2048, 2448)\n",
      "im90 shape is :  (1024, 1224)\n",
      "Stokes time:  0.02698493003845215 s\n",
      "im_stokes0 shape is :  (1024, 1224)\n",
      "DoLP time:  0.03498077392578125 s\n",
      "im_DOLP shape is :  (1024, 1224)\n",
      "Time for DOLP2Theta conversion is :  21.261743783950806 seconds\n",
      "False\n",
      "AoLP time:  0.03997516632080078 s\n"
     ]
    },
    {
     "name": "stderr",
     "output_type": "stream",
     "text": [
      "\n",
      " 32%|██████████████████████████▎                                                      | 73/225 [28:36<56:12, 22.19s/it]"
     ]
    },
    {
     "name": "stdout",
     "output_type": "stream",
     "text": [
      "Processing data for material : WATER\n",
      "image_data shape is :  (2048, 2448)\n",
      "im90 shape is :  (1024, 1224)\n",
      "Stokes time:  0.023986101150512695 s\n",
      "im_stokes0 shape is :  (1024, 1224)\n",
      "DoLP time:  0.031981468200683594 s\n",
      "im_DOLP shape is :  (1024, 1224)\n",
      "Time for DOLP2Theta conversion is :  20.968913555145264 seconds\n",
      "False\n",
      "AoLP time:  0.03995823860168457 s\n"
     ]
    },
    {
     "name": "stderr",
     "output_type": "stream",
     "text": [
      "\n",
      " 33%|██████████████████████████▋                                                      | 74/225 [28:57<55:23, 22.01s/it]"
     ]
    },
    {
     "name": "stdout",
     "output_type": "stream",
     "text": [
      "Processing data for material : WATER\n",
      "image_data shape is :  (2048, 2448)\n",
      "im90 shape is :  (1024, 1224)\n",
      "Stokes time:  0.024985551834106445 s\n",
      "im_stokes0 shape is :  (1024, 1224)\n",
      "DoLP time:  0.03498029708862305 s\n",
      "im_DOLP shape is :  (1024, 1224)\n",
      "Time for DOLP2Theta conversion is :  21.886382818222046 seconds\n",
      "False\n",
      "AoLP time:  0.05296921730041504 s\n"
     ]
    },
    {
     "name": "stderr",
     "output_type": "stream",
     "text": [
      "\n",
      " 33%|███████████████████████████                                                      | 75/225 [29:20<55:27, 22.18s/it]"
     ]
    },
    {
     "name": "stdout",
     "output_type": "stream",
     "text": [
      "Processing data for material : WATER\n",
      "image_data shape is :  (2048, 2448)\n",
      "im90 shape is :  (1024, 1224)\n",
      "Stokes time:  0.02698373794555664 s\n",
      "im_stokes0 shape is :  (1024, 1224)\n",
      "DoLP time:  0.035979270935058594 s\n",
      "im_DOLP shape is :  (1024, 1224)\n",
      "Time for DOLP2Theta conversion is :  22.072276830673218 seconds\n",
      "False\n",
      "AoLP time:  0.040975093841552734 s\n"
     ]
    },
    {
     "name": "stderr",
     "output_type": "stream",
     "text": [
      "\n",
      " 34%|███████████████████████████▎                                                     | 76/225 [29:43<55:30, 22.35s/it]"
     ]
    },
    {
     "name": "stdout",
     "output_type": "stream",
     "text": [
      "Processing data for material : WATER\n",
      "image_data shape is :  (2048, 2448)\n",
      "im90 shape is :  (1024, 1224)\n",
      "Stokes time:  0.023986339569091797 s\n",
      "im_stokes0 shape is :  (1024, 1224)\n",
      "DoLP time:  0.0339810848236084 s\n",
      "im_DOLP shape is :  (1024, 1224)\n",
      "Time for DOLP2Theta conversion is :  22.1402370929718 seconds\n",
      "False\n",
      "AoLP time:  0.04297494888305664 s\n"
     ]
    },
    {
     "name": "stderr",
     "output_type": "stream",
     "text": [
      "\n",
      " 34%|███████████████████████████▋                                                     | 77/225 [30:06<55:28, 22.49s/it]"
     ]
    },
    {
     "name": "stdout",
     "output_type": "stream",
     "text": [
      "Processing data for material : WATER\n",
      "image_data shape is :  (2048, 2448)\n",
      "im90 shape is :  (1024, 1224)\n",
      "Stokes time:  0.02698349952697754 s\n",
      "im_stokes0 shape is :  (1024, 1224)\n",
      "DoLP time:  0.03697919845581055 s\n",
      "im_DOLP shape is :  (1024, 1224)\n",
      "Time for DOLP2Theta conversion is :  21.950344562530518 seconds\n",
      "False\n",
      "AoLP time:  0.0439763069152832 s\n"
     ]
    },
    {
     "name": "stderr",
     "output_type": "stream",
     "text": [
      "\n",
      " 35%|████████████████████████████                                                     | 78/225 [30:28<55:11, 22.53s/it]"
     ]
    },
    {
     "name": "stdout",
     "output_type": "stream",
     "text": [
      "Processing data for material : WATER\n",
      "image_data shape is :  (2048, 2448)\n",
      "im90 shape is :  (1024, 1224)\n",
      "Stokes time:  0.02798318862915039 s\n",
      "im_stokes0 shape is :  (1024, 1224)\n",
      "DoLP time:  0.038977861404418945 s\n",
      "im_DOLP shape is :  (1024, 1224)\n",
      "Time for DOLP2Theta conversion is :  22.62395977973938 seconds\n",
      "False\n",
      "AoLP time:  0.047969818115234375 s\n"
     ]
    },
    {
     "name": "stderr",
     "output_type": "stream",
     "text": [
      "\n",
      " 35%|████████████████████████████▍                                                    | 79/225 [30:51<55:23, 22.76s/it]"
     ]
    },
    {
     "name": "stdout",
     "output_type": "stream",
     "text": [
      "Processing data for material : WATER\n",
      "image_data shape is :  (2048, 2448)\n",
      "im90 shape is :  (1024, 1224)\n",
      "Stokes time:  0.02698349952697754 s\n",
      "im_stokes0 shape is :  (1024, 1224)\n",
      "DoLP time:  0.03597855567932129 s\n",
      "im_DOLP shape is :  (1024, 1224)\n",
      "Time for DOLP2Theta conversion is :  21.33572030067444 seconds\n",
      "False\n",
      "AoLP time:  0.04097604751586914 s\n"
     ]
    },
    {
     "name": "stderr",
     "output_type": "stream",
     "text": [
      "\n",
      " 36%|████████████████████████████▊                                                    | 80/225 [31:13<54:26, 22.52s/it]"
     ]
    },
    {
     "name": "stdout",
     "output_type": "stream",
     "text": [
      "Processing data for material : WATER\n",
      "image_data shape is :  (2048, 2448)\n",
      "im90 shape is :  (1024, 1224)\n",
      "Stokes time:  0.023985862731933594 s\n",
      "im_stokes0 shape is :  (1024, 1224)\n",
      "DoLP time:  0.0339808464050293 s\n",
      "im_DOLP shape is :  (1024, 1224)\n",
      "Time for DOLP2Theta conversion is :  20.75203800201416 seconds\n",
      "False\n",
      "AoLP time:  0.038977861404418945 s\n"
     ]
    },
    {
     "name": "stderr",
     "output_type": "stream",
     "text": [
      "\n",
      " 36%|█████████████████████████████▏                                                   | 81/225 [31:35<53:14, 22.18s/it]"
     ]
    },
    {
     "name": "stdout",
     "output_type": "stream",
     "text": [
      "Processing data for material : WATER\n",
      "image_data shape is :  (2048, 2448)\n",
      "im90 shape is :  (1024, 1224)\n",
      "Stokes time:  0.025986194610595703 s\n",
      "im_stokes0 shape is :  (1024, 1224)\n",
      "DoLP time:  0.0359797477722168 s\n",
      "im_DOLP shape is :  (1024, 1224)\n",
      "Time for DOLP2Theta conversion is :  20.872967958450317 seconds\n",
      "False\n",
      "AoLP time:  0.042973995208740234 s\n"
     ]
    },
    {
     "name": "stderr",
     "output_type": "stream",
     "text": [
      "\n",
      " 36%|█████████████████████████████▌                                                   | 82/225 [31:56<52:23, 21.98s/it]"
     ]
    },
    {
     "name": "stdout",
     "output_type": "stream",
     "text": [
      "Processing data for material : WATER\n",
      "image_data shape is :  (2048, 2448)\n",
      "im90 shape is :  (1024, 1224)\n",
      "Stokes time:  0.02498650550842285 s\n",
      "im_stokes0 shape is :  (1024, 1224)\n",
      "DoLP time:  0.03697919845581055 s\n",
      "im_DOLP shape is :  (1024, 1224)\n",
      "Time for DOLP2Theta conversion is :  21.781444311141968 seconds\n",
      "False\n",
      "AoLP time:  0.046970367431640625 s\n"
     ]
    },
    {
     "name": "stderr",
     "output_type": "stream",
     "text": [
      "\n",
      " 37%|█████████████████████████████▉                                                   | 83/225 [32:19<52:20, 22.12s/it]"
     ]
    },
    {
     "name": "stdout",
     "output_type": "stream",
     "text": [
      "Processing data for material : WATER\n",
      "image_data shape is :  (2048, 2448)\n",
      "im90 shape is :  (1024, 1224)\n",
      "Stokes time:  0.024985313415527344 s\n",
      "im_stokes0 shape is :  (1024, 1224)\n",
      "DoLP time:  0.03597879409790039 s\n",
      "im_DOLP shape is :  (1024, 1224)\n",
      "Time for DOLP2Theta conversion is :  22.165220975875854 seconds\n",
      "False\n",
      "AoLP time:  0.04197573661804199 s\n"
     ]
    },
    {
     "name": "stderr",
     "output_type": "stream",
     "text": [
      "\n",
      " 37%|██████████████████████████████▏                                                  | 84/225 [32:42<52:29, 22.33s/it]"
     ]
    },
    {
     "name": "stdout",
     "output_type": "stream",
     "text": [
      "Processing data for material : WATER\n",
      "image_data shape is :  (2048, 2448)\n",
      "im90 shape is :  (1024, 1224)\n",
      "Stokes time:  0.02598404884338379 s\n",
      "im_stokes0 shape is :  (1024, 1224)\n",
      "DoLP time:  0.039977073669433594 s\n",
      "im_DOLP shape is :  (1024, 1224)\n",
      "Time for DOLP2Theta conversion is :  21.921361923217773 seconds\n",
      "False\n",
      "AoLP time:  0.04597353935241699 s\n"
     ]
    },
    {
     "name": "stderr",
     "output_type": "stream",
     "text": [
      "\n",
      " 38%|██████████████████████████████▌                                                  | 85/225 [33:04<52:18, 22.42s/it]"
     ]
    },
    {
     "name": "stdout",
     "output_type": "stream",
     "text": [
      "Processing data for material : WATER\n",
      "image_data shape is :  (2048, 2448)\n",
      "im90 shape is :  (1024, 1224)\n",
      "Stokes time:  0.026983976364135742 s\n",
      "im_stokes0 shape is :  (1024, 1224)\n",
      "DoLP time:  0.036978721618652344 s\n",
      "im_DOLP shape is :  (1024, 1224)\n",
      "Time for DOLP2Theta conversion is :  22.558997869491577 seconds\n",
      "False\n",
      "AoLP time:  0.04597139358520508 s\n"
     ]
    },
    {
     "name": "stderr",
     "output_type": "stream",
     "text": [
      "\n",
      " 38%|██████████████████████████████▉                                                  | 86/225 [33:27<52:30, 22.67s/it]"
     ]
    },
    {
     "name": "stdout",
     "output_type": "stream",
     "text": [
      "Processing data for material : WATER\n",
      "image_data shape is :  (2048, 2448)\n",
      "im90 shape is :  (1024, 1224)\n",
      "Stokes time:  0.024985551834106445 s\n",
      "im_stokes0 shape is :  (1024, 1224)\n",
      "DoLP time:  0.03498029708862305 s\n",
      "im_DOLP shape is :  (1024, 1224)\n",
      "Time for DOLP2Theta conversion is :  22.359129667282104 seconds\n",
      "False\n",
      "AoLP time:  0.042973995208740234 s\n"
     ]
    },
    {
     "name": "stderr",
     "output_type": "stream",
     "text": [
      "\n",
      " 39%|███████████████████████████████▎                                                 | 87/225 [33:50<52:22, 22.77s/it]"
     ]
    },
    {
     "name": "stdout",
     "output_type": "stream",
     "text": [
      "Processing data for material : WATER\n",
      "image_data shape is :  (2048, 2448)\n",
      "im90 shape is :  (1024, 1224)\n",
      "Stokes time:  0.024985313415527344 s\n",
      "im_stokes0 shape is :  (1024, 1224)\n",
      "DoLP time:  0.030982017517089844 s\n",
      "im_DOLP shape is :  (1024, 1224)\n",
      "Time for DOLP2Theta conversion is :  21.0258948802948 seconds\n",
      "False\n",
      "AoLP time:  0.03997659683227539 s\n"
     ]
    },
    {
     "name": "stderr",
     "output_type": "stream",
     "text": [
      "\n",
      " 39%|███████████████████████████████▋                                                 | 88/225 [34:12<51:13, 22.43s/it]"
     ]
    },
    {
     "name": "stdout",
     "output_type": "stream",
     "text": [
      "Processing data for material : WATER\n",
      "image_data shape is :  (2048, 2448)\n",
      "im90 shape is :  (1024, 1224)\n",
      "Stokes time:  0.023985624313354492 s\n",
      "im_stokes0 shape is :  (1024, 1224)\n",
      "DoLP time:  0.0319821834564209 s\n",
      "im_DOLP shape is :  (1024, 1224)\n",
      "Time for DOLP2Theta conversion is :  20.984922409057617 seconds\n",
      "False\n",
      "AoLP time:  0.04597163200378418 s\n"
     ]
    },
    {
     "name": "stderr",
     "output_type": "stream",
     "text": [
      "\n",
      " 40%|████████████████████████████████                                                 | 89/225 [34:34<50:17, 22.19s/it]"
     ]
    },
    {
     "name": "stdout",
     "output_type": "stream",
     "text": [
      "Processing data for material : WATER\n",
      "image_data shape is :  (2048, 2448)\n",
      "im90 shape is :  (1024, 1224)\n",
      "Stokes time:  0.025984764099121094 s\n",
      "im_stokes0 shape is :  (1024, 1224)\n",
      "DoLP time:  0.036978960037231445 s\n",
      "im_DOLP shape is :  (1024, 1224)\n",
      "Time for DOLP2Theta conversion is :  21.913367748260498 seconds\n",
      "False\n",
      "AoLP time:  0.04697155952453613 s\n"
     ]
    },
    {
     "name": "stderr",
     "output_type": "stream",
     "text": [
      "\n",
      " 40%|████████████████████████████████▍                                                | 90/225 [34:56<50:11, 22.31s/it]"
     ]
    },
    {
     "name": "stdout",
     "output_type": "stream",
     "text": [
      "Processing data for material : WATER\n",
      "image_data shape is :  (2048, 2448)\n",
      "im90 shape is :  (1024, 1224)\n",
      "Stokes time:  0.030981779098510742 s\n",
      "im_stokes0 shape is :  (1024, 1224)\n",
      "DoLP time:  0.03697919845581055 s\n",
      "im_DOLP shape is :  (1024, 1224)\n",
      "Time for DOLP2Theta conversion is :  22.44706130027771 seconds\n",
      "False\n",
      "AoLP time:  0.04097580909729004 s\n"
     ]
    },
    {
     "name": "stderr",
     "output_type": "stream",
     "text": [
      "\n",
      " 40%|████████████████████████████████▊                                                | 91/225 [35:19<50:21, 22.55s/it]"
     ]
    },
    {
     "name": "stdout",
     "output_type": "stream",
     "text": [
      "Processing data for material : WATER\n",
      "image_data shape is :  (2048, 2448)\n",
      "im90 shape is :  (1024, 1224)\n",
      "Stokes time:  0.025985002517700195 s\n",
      "im_stokes0 shape is :  (1024, 1224)\n",
      "DoLP time:  0.03897714614868164 s\n",
      "im_DOLP shape is :  (1024, 1224)\n",
      "Time for DOLP2Theta conversion is :  21.95434594154358 seconds\n",
      "False\n",
      "AoLP time:  0.040975093841552734 s\n"
     ]
    },
    {
     "name": "stderr",
     "output_type": "stream",
     "text": [
      "\n",
      " 41%|█████████████████████████████████                                                | 92/225 [35:42<50:01, 22.57s/it]"
     ]
    },
    {
     "name": "stdout",
     "output_type": "stream",
     "text": [
      "Processing data for material : WATER\n",
      "image_data shape is :  (2048, 2448)\n",
      "im90 shape is :  (1024, 1224)\n",
      "Stokes time:  0.026986122131347656 s\n",
      "im_stokes0 shape is :  (1024, 1224)\n",
      "DoLP time:  0.036978721618652344 s\n",
      "im_DOLP shape is :  (1024, 1224)\n",
      "Time for DOLP2Theta conversion is :  22.063281297683716 seconds\n",
      "False\n",
      "AoLP time:  0.0459744930267334 s\n"
     ]
    },
    {
     "name": "stderr",
     "output_type": "stream",
     "text": [
      "\n",
      " 41%|█████████████████████████████████▍                                               | 93/225 [36:05<49:46, 22.63s/it]"
     ]
    },
    {
     "name": "stdout",
     "output_type": "stream",
     "text": [
      "Processing data for material : WATER\n",
      "image_data shape is :  (2048, 2448)\n",
      "im90 shape is :  (1024, 1224)\n",
      "Stokes time:  0.026984453201293945 s\n",
      "im_stokes0 shape is :  (1024, 1224)\n",
      "DoLP time:  0.03597903251647949 s\n",
      "im_DOLP shape is :  (1024, 1224)\n",
      "Time for DOLP2Theta conversion is :  21.847404718399048 seconds\n",
      "False\n",
      "AoLP time:  0.039977312088012695 s\n"
     ]
    },
    {
     "name": "stderr",
     "output_type": "stream",
     "text": [
      "\n",
      " 42%|█████████████████████████████████▊                                               | 94/225 [36:27<49:19, 22.59s/it]"
     ]
    },
    {
     "name": "stdout",
     "output_type": "stream",
     "text": [
      "Processing data for material : WATER\n",
      "image_data shape is :  (2048, 2448)\n",
      "im90 shape is :  (1024, 1224)\n",
      "Stokes time:  0.02698349952697754 s\n",
      "im_stokes0 shape is :  (1024, 1224)\n",
      "DoLP time:  0.03997659683227539 s\n",
      "im_DOLP shape is :  (1024, 1224)\n",
      "Time for DOLP2Theta conversion is :  22.188210487365723 seconds\n",
      "False\n",
      "AoLP time:  0.040978193283081055 s\n"
     ]
    },
    {
     "name": "stderr",
     "output_type": "stream",
     "text": [
      "\n",
      " 42%|██████████████████████████████████▏                                              | 95/225 [36:50<49:05, 22.66s/it]"
     ]
    },
    {
     "name": "stdout",
     "output_type": "stream",
     "text": [
      "Processing data for material : WATER\n",
      "image_data shape is :  (2048, 2448)\n",
      "im90 shape is :  (1024, 1224)\n",
      "Stokes time:  0.024982452392578125 s\n",
      "im_stokes0 shape is :  (1024, 1224)\n",
      "DoLP time:  0.032979726791381836 s\n",
      "im_DOLP shape is :  (1024, 1224)\n",
      "Time for DOLP2Theta conversion is :  20.73606300354004 seconds\n",
      "False\n",
      "AoLP time:  0.0379786491394043 s\n"
     ]
    },
    {
     "name": "stderr",
     "output_type": "stream",
     "text": [
      "\n",
      " 43%|██████████████████████████████████▌                                              | 96/225 [37:12<47:52, 22.27s/it]"
     ]
    },
    {
     "name": "stdout",
     "output_type": "stream",
     "text": [
      "Processing data for material : WATER\n",
      "image_data shape is :  (2048, 2448)\n",
      "im90 shape is :  (1024, 1224)\n",
      "Stokes time:  0.024985551834106445 s\n",
      "im_stokes0 shape is :  (1024, 1224)\n",
      "DoLP time:  0.03298020362854004 s\n",
      "im_DOLP shape is :  (1024, 1224)\n",
      "Time for DOLP2Theta conversion is :  20.747042179107666 seconds\n",
      "False\n",
      "AoLP time:  0.03797626495361328 s\n"
     ]
    },
    {
     "name": "stderr",
     "output_type": "stream",
     "text": [
      "\n",
      " 43%|██████████████████████████████████▉                                              | 97/225 [37:33<46:56, 22.00s/it]"
     ]
    },
    {
     "name": "stdout",
     "output_type": "stream",
     "text": [
      "Processing data for material : WATER\n",
      "image_data shape is :  (2048, 2448)\n",
      "im90 shape is :  (1024, 1224)\n",
      "Stokes time:  0.0259859561920166 s\n",
      "im_stokes0 shape is :  (1024, 1224)\n",
      "DoLP time:  0.03298044204711914 s\n",
      "im_DOLP shape is :  (1024, 1224)\n",
      "Time for DOLP2Theta conversion is :  21.66951012611389 seconds\n",
      "False\n",
      "AoLP time:  0.04497265815734863 s\n"
     ]
    },
    {
     "name": "stderr",
     "output_type": "stream",
     "text": [
      "\n",
      " 44%|███████████████████████████████████▎                                             | 98/225 [37:55<46:46, 22.10s/it]"
     ]
    },
    {
     "name": "stdout",
     "output_type": "stream",
     "text": [
      "Processing data for material : WATER\n",
      "image_data shape is :  (2048, 2448)\n",
      "im90 shape is :  (1024, 1224)\n",
      "Stokes time:  0.025984525680541992 s\n",
      "im_stokes0 shape is :  (1024, 1224)\n",
      "DoLP time:  0.03797793388366699 s\n",
      "im_DOLP shape is :  (1024, 1224)\n",
      "Time for DOLP2Theta conversion is :  21.80243158340454 seconds\n",
      "False\n",
      "AoLP time:  0.04097628593444824 s\n"
     ]
    },
    {
     "name": "stderr",
     "output_type": "stream",
     "text": [
      "\n",
      " 44%|███████████████████████████████████▋                                             | 99/225 [38:18<46:38, 22.21s/it]"
     ]
    },
    {
     "name": "stdout",
     "output_type": "stream",
     "text": [
      "Processing data for material : WATER\n",
      "image_data shape is :  (2048, 2448)\n",
      "im90 shape is :  (1024, 1224)\n",
      "Stokes time:  0.026983976364135742 s\n",
      "im_stokes0 shape is :  (1024, 1224)\n",
      "DoLP time:  0.038976430892944336 s\n",
      "im_DOLP shape is :  (1024, 1224)\n",
      "Time for DOLP2Theta conversion is :  22.230186462402344 seconds\n",
      "False\n",
      "AoLP time:  0.04297447204589844 s\n"
     ]
    },
    {
     "name": "stderr",
     "output_type": "stream",
     "text": [
      "\n",
      " 44%|███████████████████████████████████▌                                            | 100/225 [38:41<46:42, 22.42s/it]"
     ]
    },
    {
     "name": "stdout",
     "output_type": "stream",
     "text": [
      "Processing data for material : WATER\n",
      "image_data shape is :  (2048, 2448)\n",
      "im90 shape is :  (1024, 1224)\n",
      "Stokes time:  0.027983903884887695 s\n",
      "im_stokes0 shape is :  (1024, 1224)\n",
      "DoLP time:  0.033980369567871094 s\n",
      "im_DOLP shape is :  (1024, 1224)\n",
      "Time for DOLP2Theta conversion is :  21.9493465423584 seconds\n",
      "False\n",
      "AoLP time:  0.04497528076171875 s\n"
     ]
    },
    {
     "name": "stderr",
     "output_type": "stream",
     "text": [
      "\n",
      " 45%|███████████████████████████████████▉                                            | 101/225 [39:03<46:27, 22.48s/it]"
     ]
    },
    {
     "name": "stdout",
     "output_type": "stream",
     "text": [
      "Processing data for material : WATER\n",
      "image_data shape is :  (2048, 2448)\n",
      "im90 shape is :  (1024, 1224)\n",
      "Stokes time:  0.027982473373413086 s\n",
      "im_stokes0 shape is :  (1024, 1224)\n",
      "DoLP time:  0.036978721618652344 s\n",
      "im_DOLP shape is :  (1024, 1224)\n",
      "Time for DOLP2Theta conversion is :  22.003315448760986 seconds\n",
      "False\n",
      "AoLP time:  0.040976524353027344 s\n"
     ]
    },
    {
     "name": "stderr",
     "output_type": "stream",
     "text": [
      "\n",
      " 45%|████████████████████████████████████▎                                           | 102/225 [39:26<46:13, 22.55s/it]"
     ]
    },
    {
     "name": "stdout",
     "output_type": "stream",
     "text": [
      "Processing data for material : WATER\n",
      "image_data shape is :  (2048, 2448)\n",
      "im90 shape is :  (1024, 1224)\n",
      "Stokes time:  0.02598428726196289 s\n",
      "im_stokes0 shape is :  (1024, 1224)\n",
      "DoLP time:  0.034979820251464844 s\n",
      "im_DOLP shape is :  (1024, 1224)\n",
      "Time for DOLP2Theta conversion is :  21.791439294815063 seconds\n",
      "False\n",
      "AoLP time:  0.042975664138793945 s\n"
     ]
    },
    {
     "name": "stderr",
     "output_type": "stream",
     "text": [
      "\n",
      " 46%|████████████████████████████████████▌                                           | 103/225 [39:48<45:46, 22.51s/it]"
     ]
    },
    {
     "name": "stdout",
     "output_type": "stream",
     "text": [
      "Processing data for material : WATER\n",
      "image_data shape is :  (2048, 2448)\n",
      "im90 shape is :  (1024, 1224)\n",
      "Stokes time:  0.02398538589477539 s\n",
      "im_stokes0 shape is :  (1024, 1224)\n",
      "DoLP time:  0.03598165512084961 s\n",
      "im_DOLP shape is :  (1024, 1224)\n",
      "Time for DOLP2Theta conversion is :  21.304718017578125 seconds\n",
      "False\n",
      "AoLP time:  0.04896235466003418 s\n"
     ]
    },
    {
     "name": "stderr",
     "output_type": "stream",
     "text": [
      "\n",
      " 46%|████████████████████████████████████▉                                           | 104/225 [40:10<45:03, 22.34s/it]"
     ]
    },
    {
     "name": "stdout",
     "output_type": "stream",
     "text": [
      "Processing data for material : WATER\n",
      "image_data shape is :  (2048, 2448)\n",
      "im90 shape is :  (1024, 1224)\n",
      "Stokes time:  0.026984691619873047 s\n",
      "im_stokes0 shape is :  (1024, 1224)\n",
      "DoLP time:  0.03597855567932129 s\n",
      "im_DOLP shape is :  (1024, 1224)\n",
      "Time for DOLP2Theta conversion is :  21.184805631637573 seconds\n",
      "False\n",
      "AoLP time:  0.03997445106506348 s\n"
     ]
    },
    {
     "name": "stderr",
     "output_type": "stream",
     "text": [
      "\n",
      " 47%|█████████████████████████████████████▎                                          | 105/225 [40:32<44:22, 22.19s/it]"
     ]
    },
    {
     "name": "stdout",
     "output_type": "stream",
     "text": [
      "Processing data for material : WATER\n",
      "image_data shape is :  (2048, 2448)\n",
      "im90 shape is :  (1024, 1224)\n",
      "Stokes time:  0.02698349952697754 s\n",
      "im_stokes0 shape is :  (1024, 1224)\n",
      "DoLP time:  0.031981706619262695 s\n",
      "im_DOLP shape is :  (1024, 1224)\n",
      "Time for DOLP2Theta conversion is :  22.11725091934204 seconds\n",
      "False\n",
      "AoLP time:  0.04097485542297363 s\n"
     ]
    },
    {
     "name": "stderr",
     "output_type": "stream",
     "text": [
      "\n",
      " 47%|█████████████████████████████████████▋                                          | 106/225 [40:55<44:20, 22.36s/it]"
     ]
    },
    {
     "name": "stdout",
     "output_type": "stream",
     "text": [
      "Processing data for material : WATER\n",
      "image_data shape is :  (2048, 2448)\n",
      "im90 shape is :  (1024, 1224)\n",
      "Stokes time:  0.02698373794555664 s\n",
      "im_stokes0 shape is :  (1024, 1224)\n",
      "DoLP time:  0.03897833824157715 s\n",
      "im_DOLP shape is :  (1024, 1224)\n",
      "Time for DOLP2Theta conversion is :  21.662513971328735 seconds\n",
      "False\n",
      "AoLP time:  0.04597330093383789 s\n"
     ]
    },
    {
     "name": "stderr",
     "output_type": "stream",
     "text": [
      "\n",
      " 48%|██████████████████████████████████████                                          | 107/225 [41:17<43:57, 22.35s/it]"
     ]
    },
    {
     "name": "stdout",
     "output_type": "stream",
     "text": [
      "Processing data for material : WATER\n",
      "image_data shape is :  (2048, 2448)\n",
      "im90 shape is :  (1024, 1224)\n",
      "Stokes time:  0.028983592987060547 s\n",
      "im_stokes0 shape is :  (1024, 1224)\n",
      "DoLP time:  0.03797769546508789 s\n",
      "im_DOLP shape is :  (1024, 1224)\n",
      "Time for DOLP2Theta conversion is :  22.227187395095825 seconds\n",
      "False\n",
      "AoLP time:  0.04297494888305664 s\n"
     ]
    },
    {
     "name": "stderr",
     "output_type": "stream",
     "text": [
      "\n",
      " 48%|██████████████████████████████████████▍                                         | 108/225 [41:40<43:54, 22.52s/it]"
     ]
    },
    {
     "name": "stdout",
     "output_type": "stream",
     "text": [
      "Processing data for material : WATER\n",
      "image_data shape is :  (2048, 2448)\n",
      "im90 shape is :  (1024, 1224)\n",
      "Stokes time:  0.026984453201293945 s\n",
      "im_stokes0 shape is :  (1024, 1224)\n",
      "DoLP time:  0.035978078842163086 s\n",
      "im_DOLP shape is :  (1024, 1224)\n",
      "Time for DOLP2Theta conversion is :  22.099276065826416 seconds\n",
      "False\n",
      "AoLP time:  0.04497575759887695 s\n"
     ]
    },
    {
     "name": "stderr",
     "output_type": "stream",
     "text": [
      "\n",
      " 48%|██████████████████████████████████████▊                                         | 109/225 [42:03<43:40, 22.59s/it]"
     ]
    },
    {
     "name": "stdout",
     "output_type": "stream",
     "text": [
      "Processing data for material : WATER\n",
      "image_data shape is :  (2048, 2448)\n",
      "im90 shape is :  (1024, 1224)\n",
      "Stokes time:  0.025983810424804688 s\n",
      "im_stokes0 shape is :  (1024, 1224)\n",
      "DoLP time:  0.03498053550720215 s\n",
      "im_DOLP shape is :  (1024, 1224)\n",
      "Time for DOLP2Theta conversion is :  21.955344200134277 seconds\n",
      "False\n",
      "AoLP time:  0.042975664138793945 s\n"
     ]
    },
    {
     "name": "stderr",
     "output_type": "stream",
     "text": [
      "\n",
      " 49%|███████████████████████████████████████                                         | 110/225 [42:25<43:18, 22.60s/it]"
     ]
    },
    {
     "name": "stdout",
     "output_type": "stream",
     "text": [
      "Processing data for material : WATER\n",
      "image_data shape is :  (2048, 2448)\n",
      "im90 shape is :  (1024, 1224)\n",
      "Stokes time:  0.026984453201293945 s\n",
      "im_stokes0 shape is :  (1024, 1224)\n",
      "DoLP time:  0.03897666931152344 s\n",
      "im_DOLP shape is :  (1024, 1224)\n",
      "Time for DOLP2Theta conversion is :  21.32071089744568 seconds\n",
      "False\n",
      "AoLP time:  0.03997683525085449 s\n"
     ]
    },
    {
     "name": "stderr",
     "output_type": "stream",
     "text": [
      "\n",
      " 49%|███████████████████████████████████████▍                                        | 111/225 [42:47<42:35, 22.42s/it]"
     ]
    },
    {
     "name": "stdout",
     "output_type": "stream",
     "text": [
      "Processing data for material : WATER\n",
      "image_data shape is :  (2048, 2448)\n",
      "im90 shape is :  (1024, 1224)\n",
      "Stokes time:  0.02698493003845215 s\n",
      "im_stokes0 shape is :  (1024, 1224)\n",
      "DoLP time:  0.03198051452636719 s\n",
      "im_DOLP shape is :  (1024, 1224)\n",
      "Time for DOLP2Theta conversion is :  21.73049283027649 seconds\n",
      "False\n",
      "AoLP time:  0.03897809982299805 s\n"
     ]
    },
    {
     "name": "stderr",
     "output_type": "stream",
     "text": [
      "\n",
      " 50%|███████████████████████████████████████▊                                        | 112/225 [43:10<42:11, 22.40s/it]"
     ]
    },
    {
     "name": "stdout",
     "output_type": "stream",
     "text": [
      "Processing data for material : WATER\n",
      "image_data shape is :  (2048, 2448)\n",
      "im90 shape is :  (1024, 1224)\n",
      "Stokes time:  0.025983572006225586 s\n",
      "im_stokes0 shape is :  (1024, 1224)\n",
      "DoLP time:  0.03398013114929199 s\n",
      "im_DOLP shape is :  (1024, 1224)\n",
      "Time for DOLP2Theta conversion is :  20.64211940765381 seconds\n",
      "False\n",
      "AoLP time:  0.04397702217102051 s\n"
     ]
    },
    {
     "name": "stderr",
     "output_type": "stream",
     "text": [
      "\n",
      " 50%|████████████████████████████████████████▏                                       | 113/225 [43:31<41:10, 22.06s/it]"
     ]
    },
    {
     "name": "stdout",
     "output_type": "stream",
     "text": [
      "Processing data for material : WATER\n",
      "image_data shape is :  (2048, 2448)\n",
      "im90 shape is :  (1024, 1224)\n",
      "Stokes time:  0.024985313415527344 s\n",
      "im_stokes0 shape is :  (1024, 1224)\n",
      "DoLP time:  0.0399775505065918 s\n",
      "im_DOLP shape is :  (1024, 1224)\n",
      "Time for DOLP2Theta conversion is :  21.711482763290405 seconds\n",
      "False\n",
      "AoLP time:  0.04397320747375488 s\n"
     ]
    },
    {
     "name": "stderr",
     "output_type": "stream",
     "text": [
      "\n",
      " 51%|████████████████████████████████████████▌                                       | 114/225 [43:53<40:59, 22.15s/it]"
     ]
    },
    {
     "name": "stdout",
     "output_type": "stream",
     "text": [
      "Processing data for material : WATER\n",
      "image_data shape is :  (2048, 2448)\n",
      "im90 shape is :  (1024, 1224)\n",
      "Stokes time:  0.02498602867126465 s\n",
      "im_stokes0 shape is :  (1024, 1224)\n",
      "DoLP time:  0.035978078842163086 s\n",
      "im_DOLP shape is :  (1024, 1224)\n",
      "Time for DOLP2Theta conversion is :  21.779446125030518 seconds\n",
      "False\n",
      "AoLP time:  0.04097795486450195 s\n"
     ]
    },
    {
     "name": "stderr",
     "output_type": "stream",
     "text": [
      "\n",
      " 51%|████████████████████████████████████████▉                                       | 115/225 [44:16<40:46, 22.24s/it]"
     ]
    },
    {
     "name": "stdout",
     "output_type": "stream",
     "text": [
      "Processing data for material : WATER\n",
      "image_data shape is :  (2048, 2448)\n",
      "im90 shape is :  (1024, 1224)\n",
      "Stokes time:  0.027984142303466797 s\n",
      "im_stokes0 shape is :  (1024, 1224)\n",
      "DoLP time:  0.03797769546508789 s\n",
      "im_DOLP shape is :  (1024, 1224)\n",
      "Time for DOLP2Theta conversion is :  22.160226821899414 seconds\n",
      "False\n",
      "AoLP time:  0.04897141456604004 s\n"
     ]
    },
    {
     "name": "stderr",
     "output_type": "stream",
     "text": [
      "\n",
      " 52%|█████████████████████████████████████████▏                                      | 116/225 [44:39<40:43, 22.42s/it]"
     ]
    },
    {
     "name": "stdout",
     "output_type": "stream",
     "text": [
      "Processing data for material : WATER\n",
      "image_data shape is :  (2048, 2448)\n",
      "im90 shape is :  (1024, 1224)\n",
      "Stokes time:  0.025985002517700195 s\n",
      "im_stokes0 shape is :  (1024, 1224)\n",
      "DoLP time:  0.035979270935058594 s\n",
      "im_DOLP shape is :  (1024, 1224)\n",
      "Time for DOLP2Theta conversion is :  21.651519775390625 seconds\n",
      "False\n",
      "AoLP time:  0.03997516632080078 s\n"
     ]
    },
    {
     "name": "stderr",
     "output_type": "stream",
     "text": [
      "\n",
      " 52%|█████████████████████████████████████████▌                                      | 117/225 [45:01<40:16, 22.38s/it]"
     ]
    },
    {
     "name": "stdout",
     "output_type": "stream",
     "text": [
      "Processing data for material : WATER\n",
      "image_data shape is :  (2048, 2448)\n",
      "im90 shape is :  (1024, 1224)\n",
      "Stokes time:  0.025984525680541992 s\n",
      "im_stokes0 shape is :  (1024, 1224)\n",
      "DoLP time:  0.03797745704650879 s\n",
      "im_DOLP shape is :  (1024, 1224)\n",
      "Time for DOLP2Theta conversion is :  21.807430744171143 seconds\n",
      "False\n",
      "AoLP time:  0.048972129821777344 s\n"
     ]
    },
    {
     "name": "stderr",
     "output_type": "stream",
     "text": [
      "\n",
      " 52%|█████████████████████████████████████████▉                                      | 118/225 [45:24<39:58, 22.41s/it]"
     ]
    },
    {
     "name": "stdout",
     "output_type": "stream",
     "text": [
      "Processing data for material : WATER\n",
      "image_data shape is :  (2048, 2448)\n",
      "im90 shape is :  (1024, 1224)\n",
      "Stokes time:  0.02698230743408203 s\n",
      "im_stokes0 shape is :  (1024, 1224)\n",
      "DoLP time:  0.03897833824157715 s\n",
      "im_DOLP shape is :  (1024, 1224)\n",
      "Time for DOLP2Theta conversion is :  21.47064185142517 seconds\n",
      "False\n",
      "AoLP time:  0.03997492790222168 s\n"
     ]
    },
    {
     "name": "stderr",
     "output_type": "stream",
     "text": [
      "\n",
      " 53%|██████████████████████████████████████████▎                                     | 119/225 [45:46<39:25, 22.32s/it]"
     ]
    },
    {
     "name": "stdout",
     "output_type": "stream",
     "text": [
      "Processing data for material : WATER\n",
      "image_data shape is :  (2048, 2448)\n",
      "im90 shape is :  (1024, 1224)\n",
      "Stokes time:  0.023985624313354492 s\n",
      "im_stokes0 shape is :  (1024, 1224)\n",
      "DoLP time:  0.0319819450378418 s\n",
      "im_DOLP shape is :  (1024, 1224)\n",
      "Time for DOLP2Theta conversion is :  21.062878370285034 seconds\n",
      "False\n",
      "AoLP time:  0.0459744930267334 s\n"
     ]
    },
    {
     "name": "stderr",
     "output_type": "stream",
     "text": [
      "\n",
      " 53%|██████████████████████████████████████████▋                                     | 120/225 [46:07<38:42, 22.12s/it]"
     ]
    },
    {
     "name": "stdout",
     "output_type": "stream",
     "text": [
      "Processing data for material : WATER\n",
      "image_data shape is :  (2048, 2448)\n",
      "im90 shape is :  (1024, 1224)\n",
      "Stokes time:  0.024985313415527344 s\n",
      "im_stokes0 shape is :  (1024, 1224)\n",
      "DoLP time:  0.03697824478149414 s\n",
      "im_DOLP shape is :  (1024, 1224)\n",
      "Time for DOLP2Theta conversion is :  21.06685733795166 seconds\n",
      "False\n",
      "AoLP time:  0.04697108268737793 s\n"
     ]
    },
    {
     "name": "stderr",
     "output_type": "stream",
     "text": [
      "\n",
      " 54%|███████████████████████████████████████████                                     | 121/225 [46:29<38:07, 22.00s/it]"
     ]
    },
    {
     "name": "stdout",
     "output_type": "stream",
     "text": [
      "Processing data for material : WATER\n",
      "image_data shape is :  (2048, 2448)\n",
      "im90 shape is :  (1024, 1224)\n",
      "Stokes time:  0.024985313415527344 s\n",
      "im_stokes0 shape is :  (1024, 1224)\n",
      "DoLP time:  0.03897738456726074 s\n",
      "im_DOLP shape is :  (1024, 1224)\n",
      "Time for DOLP2Theta conversion is :  22.025304317474365 seconds\n",
      "False\n",
      "AoLP time:  0.055966854095458984 s\n"
     ]
    },
    {
     "name": "stderr",
     "output_type": "stream",
     "text": [
      "\n",
      " 54%|███████████████████████████████████████████▍                                    | 122/225 [46:52<38:07, 22.21s/it]"
     ]
    },
    {
     "name": "stdout",
     "output_type": "stream",
     "text": [
      "Processing data for material : WATER\n",
      "image_data shape is :  (2048, 2448)\n",
      "im90 shape is :  (1024, 1224)\n",
      "Stokes time:  0.02698373794555664 s\n",
      "im_stokes0 shape is :  (1024, 1224)\n",
      "DoLP time:  0.03997635841369629 s\n",
      "im_DOLP shape is :  (1024, 1224)\n",
      "Time for DOLP2Theta conversion is :  21.809428453445435 seconds\n",
      "False\n",
      "AoLP time:  0.04097342491149902 s\n"
     ]
    },
    {
     "name": "stderr",
     "output_type": "stream",
     "text": [
      "\n",
      " 55%|███████████████████████████████████████████▋                                    | 123/225 [47:14<37:53, 22.29s/it]"
     ]
    },
    {
     "name": "stdout",
     "output_type": "stream",
     "text": [
      "Processing data for material : WATER\n",
      "image_data shape is :  (2048, 2448)\n",
      "im90 shape is :  (1024, 1224)\n",
      "Stokes time:  0.024985790252685547 s\n",
      "im_stokes0 shape is :  (1024, 1224)\n",
      "DoLP time:  0.034979820251464844 s\n",
      "im_DOLP shape is :  (1024, 1224)\n",
      "Time for DOLP2Theta conversion is :  22.194207429885864 seconds\n",
      "False\n",
      "AoLP time:  0.04896998405456543 s\n"
     ]
    },
    {
     "name": "stderr",
     "output_type": "stream",
     "text": [
      "\n",
      " 55%|████████████████████████████████████████████                                    | 124/225 [47:37<37:48, 22.46s/it]"
     ]
    },
    {
     "name": "stdout",
     "output_type": "stream",
     "text": [
      "Processing data for material : WATER\n",
      "image_data shape is :  (2048, 2448)\n",
      "im90 shape is :  (1024, 1224)\n",
      "Stokes time:  0.02598428726196289 s\n",
      "im_stokes0 shape is :  (1024, 1224)\n",
      "DoLP time:  0.037978410720825195 s\n",
      "im_DOLP shape is :  (1024, 1224)\n",
      "Time for DOLP2Theta conversion is :  21.88438582420349 seconds\n",
      "False\n",
      "AoLP time:  0.038970947265625 s\n"
     ]
    },
    {
     "name": "stderr",
     "output_type": "stream",
     "text": [
      "\n",
      " 56%|████████████████████████████████████████████▍                                   | 125/225 [48:00<37:28, 22.48s/it]"
     ]
    },
    {
     "name": "stdout",
     "output_type": "stream",
     "text": [
      "Processing data for material : WATER\n",
      "image_data shape is :  (2048, 2448)\n",
      "im90 shape is :  (1024, 1224)\n",
      "Stokes time:  0.02498602867126465 s\n",
      "im_stokes0 shape is :  (1024, 1224)\n",
      "DoLP time:  0.03498053550720215 s\n",
      "im_DOLP shape is :  (1024, 1224)\n",
      "Time for DOLP2Theta conversion is :  21.930360078811646 seconds\n",
      "False\n",
      "AoLP time:  0.05296659469604492 s\n"
     ]
    },
    {
     "name": "stderr",
     "output_type": "stream",
     "text": [
      "\n",
      " 56%|████████████████████████████████████████████▊                                   | 126/225 [48:22<37:09, 22.52s/it]"
     ]
    },
    {
     "name": "stdout",
     "output_type": "stream",
     "text": [
      "Processing data for material : WATER\n",
      "image_data shape is :  (2048, 2448)\n",
      "im90 shape is :  (1024, 1224)\n",
      "Stokes time:  0.025985002517700195 s\n",
      "im_stokes0 shape is :  (1024, 1224)\n",
      "DoLP time:  0.03498101234436035 s\n",
      "im_DOLP shape is :  (1024, 1224)\n",
      "Time for DOLP2Theta conversion is :  21.270756244659424 seconds\n",
      "False\n",
      "AoLP time:  0.04197549819946289 s\n"
     ]
    },
    {
     "name": "stderr",
     "output_type": "stream",
     "text": [
      "\n",
      " 56%|█████████████████████████████████████████████▏                                  | 127/225 [48:44<36:28, 22.33s/it]"
     ]
    },
    {
     "name": "stdout",
     "output_type": "stream",
     "text": [
      "Processing data for material : WATER\n",
      "image_data shape is :  (2048, 2448)\n",
      "im90 shape is :  (1024, 1224)\n",
      "Stokes time:  0.02698516845703125 s\n",
      "im_stokes0 shape is :  (1024, 1224)\n",
      "DoLP time:  0.03397965431213379 s\n",
      "im_DOLP shape is :  (1024, 1224)\n",
      "Time for DOLP2Theta conversion is :  21.38467264175415 seconds\n",
      "False\n",
      "AoLP time:  0.04297661781311035 s\n"
     ]
    },
    {
     "name": "stderr",
     "output_type": "stream",
     "text": [
      "\n",
      " 57%|█████████████████████████████████████████████▌                                  | 128/225 [49:06<35:56, 22.23s/it]"
     ]
    },
    {
     "name": "stdout",
     "output_type": "stream",
     "text": [
      "Processing data for material : WATER\n",
      "image_data shape is :  (2048, 2448)\n",
      "im90 shape is :  (1024, 1224)\n",
      "Stokes time:  0.027983427047729492 s\n",
      "im_stokes0 shape is :  (1024, 1224)\n",
      "DoLP time:  0.03298163414001465 s\n",
      "im_DOLP shape is :  (1024, 1224)\n",
      "Time for DOLP2Theta conversion is :  21.03887176513672 seconds\n",
      "False\n",
      "AoLP time:  0.0439753532409668 s\n"
     ]
    },
    {
     "name": "stderr",
     "output_type": "stream",
     "text": [
      "\n",
      " 57%|█████████████████████████████████████████████▊                                  | 129/225 [49:28<35:17, 22.06s/it]"
     ]
    },
    {
     "name": "stdout",
     "output_type": "stream",
     "text": [
      "Processing data for material : WATER\n",
      "image_data shape is :  (2048, 2448)\n",
      "im90 shape is :  (1024, 1224)\n",
      "Stokes time:  0.027983665466308594 s\n",
      "im_stokes0 shape is :  (1024, 1224)\n",
      "DoLP time:  0.03498053550720215 s\n",
      "im_DOLP shape is :  (1024, 1224)\n",
      "Time for DOLP2Theta conversion is :  21.909371376037598 seconds\n",
      "False\n",
      "AoLP time:  0.047972679138183594 s\n"
     ]
    },
    {
     "name": "stderr",
     "output_type": "stream",
     "text": [
      "\n",
      " 58%|██████████████████████████████████████████████▏                                 | 130/225 [49:50<35:10, 22.22s/it]"
     ]
    },
    {
     "name": "stdout",
     "output_type": "stream",
     "text": [
      "Processing data for material : WATER\n",
      "image_data shape is :  (2048, 2448)\n",
      "im90 shape is :  (1024, 1224)\n",
      "Stokes time:  0.025985002517700195 s\n",
      "im_stokes0 shape is :  (1024, 1224)\n",
      "DoLP time:  0.0359799861907959 s\n",
      "im_DOLP shape is :  (1024, 1224)\n",
      "Time for DOLP2Theta conversion is :  22.18821120262146 seconds\n",
      "False\n",
      "AoLP time:  0.04097580909729004 s\n"
     ]
    },
    {
     "name": "stderr",
     "output_type": "stream",
     "text": [
      "\n",
      " 58%|██████████████████████████████████████████████▌                                 | 131/225 [50:13<35:06, 22.41s/it]"
     ]
    },
    {
     "name": "stdout",
     "output_type": "stream",
     "text": [
      "Processing data for material : WATER\n",
      "image_data shape is :  (2048, 2448)\n",
      "im90 shape is :  (1024, 1224)\n",
      "Stokes time:  0.02698373794555664 s\n",
      "im_stokes0 shape is :  (1024, 1224)\n",
      "DoLP time:  0.034979820251464844 s\n",
      "im_DOLP shape is :  (1024, 1224)\n",
      "Time for DOLP2Theta conversion is :  22.076273441314697 seconds\n",
      "False\n",
      "AoLP time:  0.04497265815734863 s\n"
     ]
    },
    {
     "name": "stderr",
     "output_type": "stream",
     "text": [
      "\n",
      " 59%|██████████████████████████████████████████████▉                                 | 132/225 [50:36<34:53, 22.51s/it]"
     ]
    },
    {
     "name": "stdout",
     "output_type": "stream",
     "text": [
      "Processing data for material : WATER\n",
      "image_data shape is :  (2048, 2448)\n",
      "im90 shape is :  (1024, 1224)\n",
      "Stokes time:  0.02498483657836914 s\n",
      "im_stokes0 shape is :  (1024, 1224)\n",
      "DoLP time:  0.03797745704650879 s\n",
      "im_DOLP shape is :  (1024, 1224)\n",
      "Time for DOLP2Theta conversion is :  22.48603916168213 seconds\n",
      "False\n",
      "AoLP time:  0.04397392272949219 s\n"
     ]
    },
    {
     "name": "stderr",
     "output_type": "stream",
     "text": [
      "\n",
      " 59%|███████████████████████████████████████████████▎                                | 133/225 [50:59<34:48, 22.70s/it]"
     ]
    },
    {
     "name": "stdout",
     "output_type": "stream",
     "text": [
      "Processing data for material : WATER\n",
      "image_data shape is :  (2048, 2448)\n",
      "im90 shape is :  (1024, 1224)\n",
      "Stokes time:  0.025985240936279297 s\n",
      "im_stokes0 shape is :  (1024, 1224)\n",
      "DoLP time:  0.03697919845581055 s\n",
      "im_DOLP shape is :  (1024, 1224)\n",
      "Time for DOLP2Theta conversion is :  22.808852434158325 seconds\n",
      "False\n",
      "AoLP time:  0.046972036361694336 s\n"
     ]
    },
    {
     "name": "stderr",
     "output_type": "stream",
     "text": [
      "\n",
      " 60%|███████████████████████████████████████████████▋                                | 134/225 [51:23<34:47, 22.94s/it]"
     ]
    },
    {
     "name": "stdout",
     "output_type": "stream",
     "text": [
      "Processing data for material : WATER\n",
      "image_data shape is :  (2048, 2448)\n",
      "im90 shape is :  (1024, 1224)\n",
      "Stokes time:  0.026984214782714844 s\n",
      "im_stokes0 shape is :  (1024, 1224)\n",
      "DoLP time:  0.03897690773010254 s\n",
      "im_DOLP shape is :  (1024, 1224)\n",
      "Time for DOLP2Theta conversion is :  21.283731698989868 seconds\n",
      "False\n",
      "AoLP time:  0.03997468948364258 s\n"
     ]
    },
    {
     "name": "stderr",
     "output_type": "stream",
     "text": [
      "\n",
      " 60%|████████████████████████████████████████████████                                | 135/225 [51:44<33:56, 22.62s/it]"
     ]
    },
    {
     "name": "stdout",
     "output_type": "stream",
     "text": [
      "Processing data for material : WATER\n",
      "image_data shape is :  (2048, 2448)\n",
      "im90 shape is :  (1024, 1224)\n",
      "Stokes time:  0.02398824691772461 s\n",
      "im_stokes0 shape is :  (1024, 1224)\n",
      "DoLP time:  0.034980058670043945 s\n",
      "im_DOLP shape is :  (1024, 1224)\n",
      "Time for DOLP2Theta conversion is :  21.291727542877197 seconds\n",
      "False\n",
      "AoLP time:  0.0399777889251709 s\n"
     ]
    },
    {
     "name": "stderr",
     "output_type": "stream",
     "text": [
      "\n",
      " 60%|████████████████████████████████████████████████▎                               | 136/225 [52:06<33:13, 22.40s/it]"
     ]
    },
    {
     "name": "stdout",
     "output_type": "stream",
     "text": [
      "Processing data for material : WATER\n",
      "image_data shape is :  (2048, 2448)\n",
      "im90 shape is :  (1024, 1224)\n",
      "Stokes time:  0.023987293243408203 s\n",
      "im_stokes0 shape is :  (1024, 1224)\n",
      "DoLP time:  0.03597855567932129 s\n",
      "im_DOLP shape is :  (1024, 1224)\n",
      "Time for DOLP2Theta conversion is :  20.742056846618652 seconds\n",
      "False\n",
      "AoLP time:  0.03997516632080078 s\n"
     ]
    },
    {
     "name": "stderr",
     "output_type": "stream",
     "text": [
      "\n",
      " 61%|████████████████████████████████████████████████▋                               | 137/225 [52:28<32:23, 22.09s/it]"
     ]
    },
    {
     "name": "stdout",
     "output_type": "stream",
     "text": [
      "Processing data for material : WATER\n",
      "image_data shape is :  (2048, 2448)\n",
      "im90 shape is :  (1024, 1224)\n",
      "Stokes time:  0.02498483657836914 s\n",
      "im_stokes0 shape is :  (1024, 1224)\n",
      "DoLP time:  0.032981157302856445 s\n",
      "im_DOLP shape is :  (1024, 1224)\n",
      "Time for DOLP2Theta conversion is :  22.176217079162598 seconds\n",
      "False\n",
      "AoLP time:  0.04397439956665039 s\n"
     ]
    },
    {
     "name": "stderr",
     "output_type": "stream",
     "text": [
      "\n",
      " 61%|█████████████████████████████████████████████████                               | 138/225 [52:50<32:20, 22.30s/it]"
     ]
    },
    {
     "name": "stdout",
     "output_type": "stream",
     "text": [
      "Processing data for material : WATER\n",
      "image_data shape is :  (2048, 2448)\n",
      "im90 shape is :  (1024, 1224)\n",
      "Stokes time:  0.027982473373413086 s\n",
      "im_stokes0 shape is :  (1024, 1224)\n",
      "DoLP time:  0.03697848320007324 s\n",
      "im_DOLP shape is :  (1024, 1224)\n",
      "Time for DOLP2Theta conversion is :  21.98832392692566 seconds\n",
      "False\n",
      "AoLP time:  0.0499725341796875 s\n"
     ]
    },
    {
     "name": "stderr",
     "output_type": "stream",
     "text": [
      "\n",
      " 62%|█████████████████████████████████████████████████▍                              | 139/225 [53:13<32:08, 22.42s/it]"
     ]
    },
    {
     "name": "stdout",
     "output_type": "stream",
     "text": [
      "Processing data for material : WATER\n",
      "image_data shape is :  (2048, 2448)\n",
      "im90 shape is :  (1024, 1224)\n",
      "Stokes time:  0.02598404884338379 s\n",
      "im_stokes0 shape is :  (1024, 1224)\n",
      "DoLP time:  0.034980058670043945 s\n",
      "im_DOLP shape is :  (1024, 1224)\n",
      "Time for DOLP2Theta conversion is :  21.808429956436157 seconds\n",
      "False\n",
      "AoLP time:  0.04597115516662598 s\n"
     ]
    },
    {
     "name": "stderr",
     "output_type": "stream",
     "text": [
      "\n",
      " 62%|█████████████████████████████████████████████████▊                              | 140/225 [53:36<31:47, 22.44s/it]"
     ]
    },
    {
     "name": "stdout",
     "output_type": "stream",
     "text": [
      "Processing data for material : WATER\n",
      "image_data shape is :  (2048, 2448)\n",
      "im90 shape is :  (1024, 1224)\n",
      "Stokes time:  0.026984453201293945 s\n",
      "im_stokes0 shape is :  (1024, 1224)\n",
      "DoLP time:  0.037978172302246094 s\n",
      "im_DOLP shape is :  (1024, 1224)\n",
      "Time for DOLP2Theta conversion is :  22.13224220275879 seconds\n",
      "False\n",
      "AoLP time:  0.04996800422668457 s\n"
     ]
    },
    {
     "name": "stderr",
     "output_type": "stream",
     "text": [
      "\n",
      " 63%|██████████████████████████████████████████████████▏                             | 141/225 [53:58<31:34, 22.55s/it]"
     ]
    },
    {
     "name": "stdout",
     "output_type": "stream",
     "text": [
      "Processing data for material : WATER\n",
      "image_data shape is :  (2048, 2448)\n",
      "im90 shape is :  (1024, 1224)\n",
      "Stokes time:  0.02498483657836914 s\n",
      "im_stokes0 shape is :  (1024, 1224)\n",
      "DoLP time:  0.03397965431213379 s\n",
      "im_DOLP shape is :  (1024, 1224)\n",
      "Time for DOLP2Theta conversion is :  22.09326434135437 seconds\n",
      "False\n",
      "AoLP time:  0.04097700119018555 s\n"
     ]
    },
    {
     "name": "stderr",
     "output_type": "stream",
     "text": [
      "\n",
      " 63%|██████████████████████████████████████████████████▍                             | 142/225 [54:21<31:16, 22.61s/it]"
     ]
    },
    {
     "name": "stdout",
     "output_type": "stream",
     "text": [
      "Processing data for material : WATER\n",
      "image_data shape is :  (2048, 2448)\n",
      "im90 shape is :  (1024, 1224)\n",
      "Stokes time:  0.026984691619873047 s\n",
      "im_stokes0 shape is :  (1024, 1224)\n",
      "DoLP time:  0.038977861404418945 s\n",
      "im_DOLP shape is :  (1024, 1224)\n",
      "Time for DOLP2Theta conversion is :  21.606544017791748 seconds\n",
      "False\n",
      "AoLP time:  0.0419766902923584 s\n"
     ]
    },
    {
     "name": "stderr",
     "output_type": "stream",
     "text": [
      "\n",
      " 64%|██████████████████████████████████████████████████▊                             | 143/225 [54:43<30:45, 22.50s/it]"
     ]
    },
    {
     "name": "stdout",
     "output_type": "stream",
     "text": [
      "Processing data for material : WATER\n",
      "image_data shape is :  (2048, 2448)\n",
      "im90 shape is :  (1024, 1224)\n",
      "Stokes time:  0.024985313415527344 s\n",
      "im_stokes0 shape is :  (1024, 1224)\n",
      "DoLP time:  0.032980918884277344 s\n",
      "im_DOLP shape is :  (1024, 1224)\n",
      "Time for DOLP2Theta conversion is :  21.144829034805298 seconds\n",
      "False\n",
      "AoLP time:  0.04097485542297363 s\n"
     ]
    },
    {
     "name": "stderr",
     "output_type": "stream",
     "text": [
      "\n",
      " 64%|███████████████████████████████████████████████████▏                            | 144/225 [55:05<30:04, 22.28s/it]"
     ]
    },
    {
     "name": "stdout",
     "output_type": "stream",
     "text": [
      "Processing data for material : WATER\n",
      "image_data shape is :  (2048, 2448)\n",
      "im90 shape is :  (1024, 1224)\n",
      "Stokes time:  0.023986101150512695 s\n",
      "im_stokes0 shape is :  (1024, 1224)\n",
      "DoLP time:  0.029981613159179688 s\n",
      "im_DOLP shape is :  (1024, 1224)\n",
      "Time for DOLP2Theta conversion is :  20.701067209243774 seconds\n",
      "False\n",
      "AoLP time:  0.03997468948364258 s\n"
     ]
    },
    {
     "name": "stderr",
     "output_type": "stream",
     "text": [
      "\n",
      " 64%|███████████████████████████████████████████████████▌                            | 145/225 [55:27<29:19, 21.99s/it]"
     ]
    },
    {
     "name": "stdout",
     "output_type": "stream",
     "text": [
      "Processing data for material : WATER\n",
      "image_data shape is :  (2048, 2448)\n",
      "im90 shape is :  (1024, 1224)\n",
      "Stokes time:  0.026984453201293945 s\n",
      "im_stokes0 shape is :  (1024, 1224)\n",
      "DoLP time:  0.038977861404418945 s\n",
      "im_DOLP shape is :  (1024, 1224)\n",
      "Time for DOLP2Theta conversion is :  21.711485147476196 seconds\n",
      "False\n",
      "AoLP time:  0.04896378517150879 s\n"
     ]
    },
    {
     "name": "stderr",
     "output_type": "stream",
     "text": [
      "\n",
      " 65%|███████████████████████████████████████████████████▉                            | 146/225 [55:49<29:05, 22.10s/it]"
     ]
    },
    {
     "name": "stdout",
     "output_type": "stream",
     "text": [
      "Processing data for material : WATER\n",
      "image_data shape is :  (2048, 2448)\n",
      "im90 shape is :  (1024, 1224)\n",
      "Stokes time:  0.02498483657836914 s\n",
      "im_stokes0 shape is :  (1024, 1224)\n",
      "DoLP time:  0.03797769546508789 s\n",
      "im_DOLP shape is :  (1024, 1224)\n",
      "Time for DOLP2Theta conversion is :  22.58498239517212 seconds\n",
      "False\n",
      "AoLP time:  0.05096912384033203 s\n"
     ]
    },
    {
     "name": "stderr",
     "output_type": "stream",
     "text": [
      "\n",
      " 65%|████████████████████████████████████████████████████▎                           | 147/225 [56:12<29:11, 22.45s/it]"
     ]
    },
    {
     "name": "stdout",
     "output_type": "stream",
     "text": [
      "Processing data for material : WATER\n",
      "image_data shape is :  (2048, 2448)\n",
      "im90 shape is :  (1024, 1224)\n",
      "Stokes time:  0.027983903884887695 s\n",
      "im_stokes0 shape is :  (1024, 1224)\n",
      "DoLP time:  0.040976524353027344 s\n",
      "im_DOLP shape is :  (1024, 1224)\n",
      "Time for DOLP2Theta conversion is :  22.71390676498413 seconds\n",
      "False\n",
      "AoLP time:  0.04497337341308594 s\n"
     ]
    },
    {
     "name": "stderr",
     "output_type": "stream",
     "text": [
      "\n",
      " 66%|████████████████████████████████████████████████████▌                           | 148/225 [56:36<29:10, 22.74s/it]"
     ]
    },
    {
     "name": "stdout",
     "output_type": "stream",
     "text": [
      "Processing data for material : WATER\n",
      "image_data shape is :  (2048, 2448)\n",
      "im90 shape is :  (1024, 1224)\n",
      "Stokes time:  0.025985002517700195 s\n",
      "im_stokes0 shape is :  (1024, 1224)\n",
      "DoLP time:  0.03597831726074219 s\n",
      "im_DOLP shape is :  (1024, 1224)\n",
      "Time for DOLP2Theta conversion is :  22.240180730819702 seconds\n",
      "False\n",
      "AoLP time:  0.044974565505981445 s\n"
     ]
    },
    {
     "name": "stderr",
     "output_type": "stream",
     "text": [
      "\n",
      " 66%|████████████████████████████████████████████████████▉                           | 149/225 [56:59<28:52, 22.79s/it]"
     ]
    },
    {
     "name": "stdout",
     "output_type": "stream",
     "text": [
      "Processing data for material : WATER\n",
      "image_data shape is :  (2048, 2448)\n",
      "im90 shape is :  (1024, 1224)\n",
      "Stokes time:  0.026984214782714844 s\n",
      "im_stokes0 shape is :  (1024, 1224)\n",
      "DoLP time:  0.038976430892944336 s\n",
      "im_DOLP shape is :  (1024, 1224)\n",
      "Time for DOLP2Theta conversion is :  22.242178916931152 seconds\n",
      "False\n",
      "AoLP time:  0.04097557067871094 s\n"
     ]
    },
    {
     "name": "stderr",
     "output_type": "stream",
     "text": [
      "\n",
      " 67%|█████████████████████████████████████████████████████▎                          | 150/225 [57:21<28:32, 22.83s/it]"
     ]
    },
    {
     "name": "stdout",
     "output_type": "stream",
     "text": [
      "Processing data for material : WATER\n",
      "image_data shape is :  (2048, 2448)\n",
      "im90 shape is :  (1024, 1224)\n",
      "Stokes time:  0.02498483657836914 s\n",
      "im_stokes0 shape is :  (1024, 1224)\n",
      "DoLP time:  0.03497958183288574 s\n",
      "im_DOLP shape is :  (1024, 1224)\n",
      "Time for DOLP2Theta conversion is :  21.847408056259155 seconds\n",
      "False\n",
      "AoLP time:  0.046971797943115234 s\n"
     ]
    },
    {
     "name": "stderr",
     "output_type": "stream",
     "text": [
      "\n",
      " 67%|█████████████████████████████████████████████████████▋                          | 151/225 [57:44<28:02, 22.74s/it]"
     ]
    },
    {
     "name": "stdout",
     "output_type": "stream",
     "text": [
      "Processing data for material : WATER\n",
      "image_data shape is :  (2048, 2448)\n",
      "im90 shape is :  (1024, 1224)\n",
      "Stokes time:  0.02598404884338379 s\n",
      "im_stokes0 shape is :  (1024, 1224)\n",
      "DoLP time:  0.0359797477722168 s\n",
      "im_DOLP shape is :  (1024, 1224)\n",
      "Time for DOLP2Theta conversion is :  21.124820947647095 seconds\n",
      "False\n",
      "AoLP time:  0.039975881576538086 s\n"
     ]
    },
    {
     "name": "stderr",
     "output_type": "stream",
     "text": [
      "\n",
      " 68%|██████████████████████████████████████████████████████                          | 152/225 [58:06<27:18, 22.45s/it]"
     ]
    },
    {
     "name": "stdout",
     "output_type": "stream",
     "text": [
      "Processing data for material : WATER\n",
      "image_data shape is :  (2048, 2448)\n",
      "im90 shape is :  (1024, 1224)\n",
      "Stokes time:  0.024985313415527344 s\n",
      "im_stokes0 shape is :  (1024, 1224)\n",
      "DoLP time:  0.03497910499572754 s\n",
      "im_DOLP shape is :  (1024, 1224)\n",
      "Time for DOLP2Theta conversion is :  20.676080226898193 seconds\n",
      "False\n",
      "AoLP time:  0.03997635841369629 s\n"
     ]
    },
    {
     "name": "stderr",
     "output_type": "stream",
     "text": [
      "\n",
      " 68%|██████████████████████████████████████████████████████▍                         | 153/225 [58:27<26:31, 22.10s/it]"
     ]
    },
    {
     "name": "stdout",
     "output_type": "stream",
     "text": [
      "Processing data for material : WATER\n",
      "image_data shape is :  (2048, 2448)\n",
      "im90 shape is :  (1024, 1224)\n",
      "Stokes time:  0.025983333587646484 s\n",
      "im_stokes0 shape is :  (1024, 1224)\n",
      "DoLP time:  0.03497934341430664 s\n",
      "im_DOLP shape is :  (1024, 1224)\n",
      "Time for DOLP2Theta conversion is :  21.15380334854126 seconds\n",
      "False\n",
      "AoLP time:  0.042975425720214844 s\n"
     ]
    },
    {
     "name": "stderr",
     "output_type": "stream",
     "text": [
      "\n",
      " 68%|██████████████████████████████████████████████████████▊                         | 154/225 [58:49<26:02, 22.01s/it]"
     ]
    },
    {
     "name": "stdout",
     "output_type": "stream",
     "text": [
      "Processing data for material : WATER\n",
      "image_data shape is :  (2048, 2448)\n",
      "im90 shape is :  (1024, 1224)\n",
      "Stokes time:  0.024985313415527344 s\n",
      "im_stokes0 shape is :  (1024, 1224)\n",
      "DoLP time:  0.03997683525085449 s\n",
      "im_DOLP shape is :  (1024, 1224)\n",
      "Time for DOLP2Theta conversion is :  22.09126591682434 seconds\n",
      "False\n",
      "AoLP time:  0.04097318649291992 s\n"
     ]
    },
    {
     "name": "stderr",
     "output_type": "stream",
     "text": [
      "\n",
      " 69%|███████████████████████████████████████████████████████                         | 155/225 [59:12<25:56, 22.23s/it]"
     ]
    },
    {
     "name": "stdout",
     "output_type": "stream",
     "text": [
      "Processing data for material : WATER\n",
      "image_data shape is :  (2048, 2448)\n",
      "im90 shape is :  (1024, 1224)\n",
      "Stokes time:  0.027982473373413086 s\n",
      "im_stokes0 shape is :  (1024, 1224)\n",
      "DoLP time:  0.03797626495361328 s\n",
      "im_DOLP shape is :  (1024, 1224)\n",
      "Time for DOLP2Theta conversion is :  22.029300689697266 seconds\n",
      "False\n",
      "AoLP time:  0.04297471046447754 s\n"
     ]
    },
    {
     "name": "stderr",
     "output_type": "stream",
     "text": [
      "\n",
      " 69%|███████████████████████████████████████████████████████▍                        | 156/225 [59:34<25:43, 22.38s/it]"
     ]
    },
    {
     "name": "stdout",
     "output_type": "stream",
     "text": [
      "Processing data for material : WATER\n",
      "image_data shape is :  (2048, 2448)\n",
      "im90 shape is :  (1024, 1224)\n",
      "Stokes time:  0.026984453201293945 s\n",
      "im_stokes0 shape is :  (1024, 1224)\n",
      "DoLP time:  0.034979820251464844 s\n",
      "im_DOLP shape is :  (1024, 1224)\n",
      "Time for DOLP2Theta conversion is :  21.77844476699829 seconds\n",
      "False\n",
      "AoLP time:  0.04097604751586914 s\n"
     ]
    },
    {
     "name": "stderr",
     "output_type": "stream",
     "text": [
      "\n",
      " 70%|███████████████████████████████████████████████████████▊                        | 157/225 [59:57<25:22, 22.39s/it]"
     ]
    },
    {
     "name": "stdout",
     "output_type": "stream",
     "text": [
      "Processing data for material : WATER\n",
      "image_data shape is :  (2048, 2448)\n",
      "im90 shape is :  (1024, 1224)\n",
      "Stokes time:  0.02698493003845215 s\n",
      "im_stokes0 shape is :  (1024, 1224)\n",
      "DoLP time:  0.03897714614868164 s\n",
      "im_DOLP shape is :  (1024, 1224)\n",
      "Time for DOLP2Theta conversion is :  22.509023427963257 seconds\n",
      "False\n",
      "AoLP time:  0.040976524353027344 s\n"
     ]
    },
    {
     "name": "stderr",
     "output_type": "stream",
     "text": [
      "\n",
      " 70%|██████████████████████████████████████████████████████▊                       | 158/225 [1:00:20<25:15, 22.63s/it]"
     ]
    },
    {
     "name": "stdout",
     "output_type": "stream",
     "text": [
      "Processing data for material : WATER\n",
      "image_data shape is :  (2048, 2448)\n",
      "im90 shape is :  (1024, 1224)\n",
      "Stokes time:  0.025983810424804688 s\n",
      "im_stokes0 shape is :  (1024, 1224)\n",
      "DoLP time:  0.035979509353637695 s\n",
      "im_DOLP shape is :  (1024, 1224)\n",
      "Time for DOLP2Theta conversion is :  22.098279237747192 seconds\n",
      "False\n",
      "AoLP time:  0.04097294807434082 s\n"
     ]
    },
    {
     "name": "stderr",
     "output_type": "stream",
     "text": [
      "\n",
      " 71%|███████████████████████████████████████████████████████                       | 159/225 [1:00:43<24:55, 22.65s/it]"
     ]
    },
    {
     "name": "stdout",
     "output_type": "stream",
     "text": [
      "Processing data for material : WATER\n",
      "image_data shape is :  (2048, 2448)\n",
      "im90 shape is :  (1024, 1224)\n",
      "Stokes time:  0.027984142303466797 s\n",
      "im_stokes0 shape is :  (1024, 1224)\n",
      "DoLP time:  0.031981706619262695 s\n",
      "im_DOLP shape is :  (1024, 1224)\n",
      "Time for DOLP2Theta conversion is :  21.89639639854431 seconds\n",
      "False\n",
      "AoLP time:  0.04497265815734863 s\n"
     ]
    },
    {
     "name": "stderr",
     "output_type": "stream",
     "text": [
      "\n",
      " 71%|███████████████████████████████████████████████████████▍                      | 160/225 [1:01:05<24:30, 22.62s/it]"
     ]
    },
    {
     "name": "stdout",
     "output_type": "stream",
     "text": [
      "Processing data for material : WATER\n",
      "image_data shape is :  (2048, 2448)\n",
      "im90 shape is :  (1024, 1224)\n",
      "Stokes time:  0.026983261108398438 s\n",
      "im_stokes0 shape is :  (1024, 1224)\n",
      "DoLP time:  0.0319826602935791 s\n",
      "im_DOLP shape is :  (1024, 1224)\n",
      "Time for DOLP2Theta conversion is :  21.011887788772583 seconds\n",
      "False\n",
      "AoLP time:  0.04997086524963379 s\n"
     ]
    },
    {
     "name": "stderr",
     "output_type": "stream",
     "text": [
      "\n",
      " 72%|███████████████████████████████████████████████████████▊                      | 161/225 [1:01:27<23:49, 22.33s/it]"
     ]
    },
    {
     "name": "stdout",
     "output_type": "stream",
     "text": [
      "Processing data for material : WATER\n",
      "image_data shape is :  (2048, 2448)\n",
      "im90 shape is :  (1024, 1224)\n",
      "Stokes time:  0.025985240936279297 s\n",
      "im_stokes0 shape is :  (1024, 1224)\n",
      "DoLP time:  0.0319828987121582 s\n",
      "im_DOLP shape is :  (1024, 1224)\n",
      "Time for DOLP2Theta conversion is :  20.634105920791626 seconds\n",
      "False\n",
      "AoLP time:  0.040976762771606445 s\n"
     ]
    },
    {
     "name": "stderr",
     "output_type": "stream",
     "text": [
      "\n",
      " 72%|████████████████████████████████████████████████████████▏                     | 162/225 [1:01:48<23:06, 22.01s/it]"
     ]
    },
    {
     "name": "stdout",
     "output_type": "stream",
     "text": [
      "Processing data for material : WATER\n",
      "image_data shape is :  (2048, 2448)\n",
      "im90 shape is :  (1024, 1224)\n",
      "Stokes time:  0.024985313415527344 s\n",
      "im_stokes0 shape is :  (1024, 1224)\n",
      "DoLP time:  0.03398013114929199 s\n",
      "im_DOLP shape is :  (1024, 1224)\n",
      "Time for DOLP2Theta conversion is :  21.283731937408447 seconds\n",
      "False\n",
      "AoLP time:  0.04397416114807129 s\n"
     ]
    },
    {
     "name": "stderr",
     "output_type": "stream",
     "text": [
      "\n",
      " 72%|████████████████████████████████████████████████████████▌                     | 163/225 [1:02:10<22:43, 21.99s/it]"
     ]
    },
    {
     "name": "stdout",
     "output_type": "stream",
     "text": [
      "Processing data for material : WATER\n",
      "image_data shape is :  (2048, 2448)\n",
      "im90 shape is :  (1024, 1224)\n",
      "Stokes time:  0.023985862731933594 s\n",
      "im_stokes0 shape is :  (1024, 1224)\n",
      "DoLP time:  0.03397989273071289 s\n",
      "im_DOLP shape is :  (1024, 1224)\n",
      "Time for DOLP2Theta conversion is :  21.72847604751587 seconds\n",
      "False\n",
      "AoLP time:  0.04297232627868652 s\n"
     ]
    },
    {
     "name": "stderr",
     "output_type": "stream",
     "text": [
      "\n",
      " 73%|████████████████████████████████████████████████████████▊                     | 164/225 [1:02:32<22:28, 22.10s/it]"
     ]
    },
    {
     "name": "stdout",
     "output_type": "stream",
     "text": [
      "Processing data for material : WATER\n",
      "image_data shape is :  (2048, 2448)\n",
      "im90 shape is :  (1024, 1224)\n",
      "Stokes time:  0.025985002517700195 s\n",
      "im_stokes0 shape is :  (1024, 1224)\n",
      "DoLP time:  0.036977529525756836 s\n",
      "im_DOLP shape is :  (1024, 1224)\n",
      "Time for DOLP2Theta conversion is :  21.881386756896973 seconds\n",
      "False\n",
      "AoLP time:  0.04597353935241699 s\n"
     ]
    },
    {
     "name": "stderr",
     "output_type": "stream",
     "text": [
      "\n",
      " 73%|█████████████████████████████████████████████████████████▏                    | 165/225 [1:02:55<22:14, 22.23s/it]"
     ]
    },
    {
     "name": "stdout",
     "output_type": "stream",
     "text": [
      "Processing data for material : WATER\n",
      "image_data shape is :  (2048, 2448)\n",
      "im90 shape is :  (1024, 1224)\n",
      "Stokes time:  0.026984214782714844 s\n",
      "im_stokes0 shape is :  (1024, 1224)\n",
      "DoLP time:  0.03498029708862305 s\n",
      "im_DOLP shape is :  (1024, 1224)\n",
      "Time for DOLP2Theta conversion is :  21.762455701828003 seconds\n",
      "False\n",
      "AoLP time:  0.04297280311584473 s\n"
     ]
    },
    {
     "name": "stderr",
     "output_type": "stream",
     "text": [
      "\n",
      " 74%|█████████████████████████████████████████████████████████▌                    | 166/225 [1:03:17<21:55, 22.29s/it]"
     ]
    },
    {
     "name": "stdout",
     "output_type": "stream",
     "text": [
      "Processing data for material : WATER\n",
      "image_data shape is :  (2048, 2448)\n",
      "im90 shape is :  (1024, 1224)\n",
      "Stokes time:  0.02498483657836914 s\n",
      "im_stokes0 shape is :  (1024, 1224)\n",
      "DoLP time:  0.03797793388366699 s\n",
      "im_DOLP shape is :  (1024, 1224)\n",
      "Time for DOLP2Theta conversion is :  21.788439750671387 seconds\n",
      "False\n",
      "AoLP time:  0.04996919631958008 s\n"
     ]
    },
    {
     "name": "stderr",
     "output_type": "stream",
     "text": [
      "\n",
      " 74%|█████████████████████████████████████████████████████████▉                    | 167/225 [1:03:40<21:36, 22.35s/it]"
     ]
    },
    {
     "name": "stdout",
     "output_type": "stream",
     "text": [
      "Processing data for material : WATER\n",
      "image_data shape is :  (2048, 2448)\n",
      "im90 shape is :  (1024, 1224)\n",
      "Stokes time:  0.026984453201293945 s\n",
      "im_stokes0 shape is :  (1024, 1224)\n",
      "DoLP time:  0.03997635841369629 s\n",
      "im_DOLP shape is :  (1024, 1224)\n",
      "Time for DOLP2Theta conversion is :  21.770460605621338 seconds\n",
      "False\n",
      "AoLP time:  0.04097485542297363 s\n"
     ]
    },
    {
     "name": "stderr",
     "output_type": "stream",
     "text": [
      "\n",
      " 75%|██████████████████████████████████████████████████████████▏                   | 168/225 [1:04:02<21:15, 22.38s/it]"
     ]
    },
    {
     "name": "stdout",
     "output_type": "stream",
     "text": [
      "Processing data for material : WATER\n",
      "image_data shape is :  (2048, 2448)\n",
      "im90 shape is :  (1024, 1224)\n",
      "Stokes time:  0.0279843807220459 s\n",
      "im_stokes0 shape is :  (1024, 1224)\n",
      "DoLP time:  0.034979820251464844 s\n",
      "im_DOLP shape is :  (1024, 1224)\n",
      "Time for DOLP2Theta conversion is :  21.491610050201416 seconds\n",
      "False\n",
      "AoLP time:  0.04297375679016113 s\n"
     ]
    },
    {
     "name": "stderr",
     "output_type": "stream",
     "text": [
      "\n",
      " 75%|██████████████████████████████████████████████████████████▌                   | 169/225 [1:04:24<20:49, 22.31s/it]"
     ]
    },
    {
     "name": "stdout",
     "output_type": "stream",
     "text": [
      "Processing data for material : WATER\n",
      "image_data shape is :  (2048, 2448)\n",
      "im90 shape is :  (1024, 1224)\n",
      "Stokes time:  0.02498650550842285 s\n",
      "im_stokes0 shape is :  (1024, 1224)\n",
      "DoLP time:  0.03797745704650879 s\n",
      "im_DOLP shape is :  (1024, 1224)\n",
      "Time for DOLP2Theta conversion is :  21.062859058380127 seconds\n",
      "False\n",
      "AoLP time:  0.043973445892333984 s\n"
     ]
    },
    {
     "name": "stderr",
     "output_type": "stream",
     "text": [
      "\n",
      " 76%|██████████████████████████████████████████████████████████▉                   | 170/225 [1:04:46<20:16, 22.12s/it]"
     ]
    },
    {
     "name": "stdout",
     "output_type": "stream",
     "text": [
      "Processing data for material : WATER\n",
      "image_data shape is :  (2048, 2448)\n",
      "im90 shape is :  (1024, 1224)\n",
      "Stokes time:  0.02498602867126465 s\n",
      "im_stokes0 shape is :  (1024, 1224)\n",
      "DoLP time:  0.03397965431213379 s\n",
      "im_DOLP shape is :  (1024, 1224)\n",
      "Time for DOLP2Theta conversion is :  21.196780920028687 seconds\n",
      "False\n",
      "AoLP time:  0.04697275161743164 s\n"
     ]
    },
    {
     "name": "stderr",
     "output_type": "stream",
     "text": [
      "\n",
      " 76%|███████████████████████████████████████████████████████████▎                  | 171/225 [1:05:08<19:49, 22.03s/it]"
     ]
    },
    {
     "name": "stdout",
     "output_type": "stream",
     "text": [
      "Processing data for material : WATER\n",
      "image_data shape is :  (2048, 2448)\n",
      "im90 shape is :  (1024, 1224)\n",
      "Stokes time:  0.025984764099121094 s\n",
      "im_stokes0 shape is :  (1024, 1224)\n",
      "DoLP time:  0.032980918884277344 s\n",
      "im_DOLP shape is :  (1024, 1224)\n",
      "Time for DOLP2Theta conversion is :  21.08584451675415 seconds\n",
      "False\n",
      "AoLP time:  0.039977312088012695 s\n"
     ]
    },
    {
     "name": "stderr",
     "output_type": "stream",
     "text": [
      "\n",
      " 76%|███████████████████████████████████████████████████████████▋                  | 172/225 [1:05:30<19:23, 21.95s/it]"
     ]
    },
    {
     "name": "stdout",
     "output_type": "stream",
     "text": [
      "Processing data for material : WATER\n",
      "image_data shape is :  (2048, 2448)\n",
      "im90 shape is :  (1024, 1224)\n",
      "Stokes time:  0.026984214782714844 s\n",
      "im_stokes0 shape is :  (1024, 1224)\n",
      "DoLP time:  0.032981157302856445 s\n",
      "im_DOLP shape is :  (1024, 1224)\n",
      "Time for DOLP2Theta conversion is :  21.800434827804565 seconds\n",
      "False\n",
      "AoLP time:  0.045973777770996094 s\n"
     ]
    },
    {
     "name": "stderr",
     "output_type": "stream",
     "text": [
      "\n",
      " 77%|███████████████████████████████████████████████████████████▉                  | 173/225 [1:05:52<19:09, 22.10s/it]"
     ]
    },
    {
     "name": "stdout",
     "output_type": "stream",
     "text": [
      "Processing data for material : WATER\n",
      "image_data shape is :  (2048, 2448)\n",
      "im90 shape is :  (1024, 1224)\n",
      "Stokes time:  0.027984142303466797 s\n",
      "im_stokes0 shape is :  (1024, 1224)\n",
      "DoLP time:  0.0379786491394043 s\n",
      "im_DOLP shape is :  (1024, 1224)\n",
      "Time for DOLP2Theta conversion is :  22.25017499923706 seconds\n",
      "False\n",
      "AoLP time:  0.04997062683105469 s\n"
     ]
    },
    {
     "name": "stderr",
     "output_type": "stream",
     "text": [
      "\n",
      " 77%|████████████████████████████████████████████████████████████▎                 | 174/225 [1:06:15<18:59, 22.34s/it]"
     ]
    },
    {
     "name": "stdout",
     "output_type": "stream",
     "text": [
      "Processing data for material : WATER\n",
      "image_data shape is :  (2048, 2448)\n",
      "im90 shape is :  (1024, 1224)\n",
      "Stokes time:  0.02498602867126465 s\n",
      "im_stokes0 shape is :  (1024, 1224)\n",
      "DoLP time:  0.035979509353637695 s\n",
      "im_DOLP shape is :  (1024, 1224)\n",
      "Time for DOLP2Theta conversion is :  22.150246143341064 seconds\n",
      "False\n",
      "AoLP time:  0.04797005653381348 s\n"
     ]
    },
    {
     "name": "stderr",
     "output_type": "stream",
     "text": [
      "\n",
      " 78%|████████████████████████████████████████████████████████████▋                 | 175/225 [1:06:38<18:44, 22.48s/it]"
     ]
    },
    {
     "name": "stdout",
     "output_type": "stream",
     "text": [
      "Processing data for material : WATER\n",
      "image_data shape is :  (2048, 2448)\n",
      "im90 shape is :  (1024, 1224)\n",
      "Stokes time:  0.027983903884887695 s\n",
      "im_stokes0 shape is :  (1024, 1224)\n",
      "DoLP time:  0.03497886657714844 s\n",
      "im_DOLP shape is :  (1024, 1224)\n",
      "Time for DOLP2Theta conversion is :  21.687497854232788 seconds\n",
      "False\n",
      "AoLP time:  0.0459752082824707 s\n"
     ]
    },
    {
     "name": "stderr",
     "output_type": "stream",
     "text": [
      "\n",
      " 78%|█████████████████████████████████████████████████████████████                 | 176/225 [1:07:00<18:19, 22.45s/it]"
     ]
    },
    {
     "name": "stdout",
     "output_type": "stream",
     "text": [
      "Processing data for material : WATER\n",
      "image_data shape is :  (2048, 2448)\n",
      "im90 shape is :  (1024, 1224)\n",
      "Stokes time:  0.025985002517700195 s\n",
      "im_stokes0 shape is :  (1024, 1224)\n",
      "DoLP time:  0.03497958183288574 s\n",
      "im_DOLP shape is :  (1024, 1224)\n",
      "Time for DOLP2Theta conversion is :  21.654518365859985 seconds\n",
      "False\n",
      "AoLP time:  0.041974544525146484 s\n"
     ]
    },
    {
     "name": "stderr",
     "output_type": "stream",
     "text": [
      "\n",
      " 79%|█████████████████████████████████████████████████████████████▎                | 177/225 [1:07:23<17:55, 22.41s/it]"
     ]
    },
    {
     "name": "stdout",
     "output_type": "stream",
     "text": [
      "Processing data for material : WATER\n",
      "image_data shape is :  (2048, 2448)\n",
      "im90 shape is :  (1024, 1224)\n",
      "Stokes time:  0.0279843807220459 s\n",
      "im_stokes0 shape is :  (1024, 1224)\n",
      "DoLP time:  0.03497958183288574 s\n",
      "im_DOLP shape is :  (1024, 1224)\n",
      "Time for DOLP2Theta conversion is :  21.82242178916931 seconds\n",
      "False\n",
      "AoLP time:  0.04197502136230469 s\n"
     ]
    },
    {
     "name": "stderr",
     "output_type": "stream",
     "text": [
      "\n",
      " 79%|█████████████████████████████████████████████████████████████▋                | 178/225 [1:07:45<17:34, 22.43s/it]"
     ]
    },
    {
     "name": "stdout",
     "output_type": "stream",
     "text": [
      "Processing data for material : WATER\n",
      "image_data shape is :  (2048, 2448)\n",
      "im90 shape is :  (1024, 1224)\n",
      "Stokes time:  0.024985074996948242 s\n",
      "im_stokes0 shape is :  (1024, 1224)\n",
      "DoLP time:  0.03697919845581055 s\n",
      "im_DOLP shape is :  (1024, 1224)\n",
      "Time for DOLP2Theta conversion is :  21.38968777656555 seconds\n",
      "False\n",
      "AoLP time:  0.04097628593444824 s\n"
     ]
    },
    {
     "name": "stderr",
     "output_type": "stream",
     "text": [
      "\n",
      " 80%|██████████████████████████████████████████████████████████████                | 179/225 [1:08:07<17:06, 22.31s/it]"
     ]
    },
    {
     "name": "stdout",
     "output_type": "stream",
     "text": [
      "Processing data for material : WATER\n",
      "image_data shape is :  (2048, 2448)\n",
      "im90 shape is :  (1024, 1224)\n",
      "Stokes time:  0.026984214782714844 s\n",
      "im_stokes0 shape is :  (1024, 1224)\n",
      "DoLP time:  0.03298211097717285 s\n",
      "im_DOLP shape is :  (1024, 1224)\n",
      "Time for DOLP2Theta conversion is :  21.052862882614136 seconds\n",
      "False\n",
      "AoLP time:  0.04297494888305664 s\n"
     ]
    },
    {
     "name": "stderr",
     "output_type": "stream",
     "text": [
      "\n",
      " 80%|██████████████████████████████████████████████████████████████▍               | 180/225 [1:08:29<16:35, 22.12s/it]"
     ]
    },
    {
     "name": "stdout",
     "output_type": "stream",
     "text": [
      "Processing data for material : WATER\n",
      "image_data shape is :  (2048, 2448)\n",
      "im90 shape is :  (1024, 1224)\n",
      "Stokes time:  0.02498602867126465 s\n",
      "im_stokes0 shape is :  (1024, 1224)\n",
      "DoLP time:  0.030982017517089844 s\n",
      "im_DOLP shape is :  (1024, 1224)\n",
      "Time for DOLP2Theta conversion is :  21.615540742874146 seconds\n",
      "False\n",
      "AoLP time:  0.04897117614746094 s\n"
     ]
    },
    {
     "name": "stderr",
     "output_type": "stream",
     "text": [
      "\n",
      " 80%|██████████████████████████████████████████████████████████████▋               | 181/225 [1:08:51<16:15, 22.17s/it]"
     ]
    },
    {
     "name": "stdout",
     "output_type": "stream",
     "text": [
      "Processing data for material : WATER\n",
      "image_data shape is :  (2048, 2448)\n",
      "im90 shape is :  (1024, 1224)\n",
      "Stokes time:  0.027983903884887695 s\n",
      "im_stokes0 shape is :  (1024, 1224)\n",
      "DoLP time:  0.03897666931152344 s\n",
      "im_DOLP shape is :  (1024, 1224)\n",
      "Time for DOLP2Theta conversion is :  21.845407962799072 seconds\n",
      "False\n",
      "AoLP time:  0.04597282409667969 s\n"
     ]
    },
    {
     "name": "stderr",
     "output_type": "stream",
     "text": [
      "\n",
      " 81%|███████████████████████████████████████████████████████████████               | 182/225 [1:09:13<15:57, 22.27s/it]"
     ]
    },
    {
     "name": "stdout",
     "output_type": "stream",
     "text": [
      "Processing data for material : WATER\n",
      "image_data shape is :  (2048, 2448)\n",
      "im90 shape is :  (1024, 1224)\n",
      "Stokes time:  0.026984214782714844 s\n",
      "im_stokes0 shape is :  (1024, 1224)\n",
      "DoLP time:  0.0339818000793457 s\n",
      "im_DOLP shape is :  (1024, 1224)\n",
      "Time for DOLP2Theta conversion is :  21.68450117111206 seconds\n",
      "False\n",
      "AoLP time:  0.04597210884094238 s\n"
     ]
    },
    {
     "name": "stderr",
     "output_type": "stream",
     "text": [
      "\n",
      " 81%|███████████████████████████████████████████████████████████████▍              | 183/225 [1:09:36<15:36, 22.29s/it]"
     ]
    },
    {
     "name": "stdout",
     "output_type": "stream",
     "text": [
      "Processing data for material : WATER\n",
      "image_data shape is :  (2048, 2448)\n",
      "im90 shape is :  (1024, 1224)\n",
      "Stokes time:  0.026983261108398438 s\n",
      "im_stokes0 shape is :  (1024, 1224)\n",
      "DoLP time:  0.03198122978210449 s\n",
      "im_DOLP shape is :  (1024, 1224)\n",
      "Time for DOLP2Theta conversion is :  21.60354709625244 seconds\n",
      "False\n",
      "AoLP time:  0.04297518730163574 s\n"
     ]
    },
    {
     "name": "stderr",
     "output_type": "stream",
     "text": [
      "\n",
      " 82%|███████████████████████████████████████████████████████████████▊              | 184/225 [1:09:58<15:13, 22.28s/it]"
     ]
    },
    {
     "name": "stdout",
     "output_type": "stream",
     "text": [
      "Processing data for material : WATER\n",
      "image_data shape is :  (2048, 2448)\n",
      "im90 shape is :  (1024, 1224)\n",
      "Stokes time:  0.027985572814941406 s\n",
      "im_stokes0 shape is :  (1024, 1224)\n",
      "DoLP time:  0.03298068046569824 s\n",
      "im_DOLP shape is :  (1024, 1224)\n",
      "Time for DOLP2Theta conversion is :  22.35711121559143 seconds\n",
      "False\n",
      "AoLP time:  0.04597353935241699 s\n"
     ]
    },
    {
     "name": "stderr",
     "output_type": "stream",
     "text": [
      "\n",
      " 82%|████████████████████████████████████████████████████████████████▏             | 185/225 [1:10:21<15:00, 22.51s/it]"
     ]
    },
    {
     "name": "stdout",
     "output_type": "stream",
     "text": [
      "Processing data for material : WATER\n",
      "image_data shape is :  (2048, 2448)\n",
      "im90 shape is :  (1024, 1224)\n",
      "Stokes time:  0.026984453201293945 s\n",
      "im_stokes0 shape is :  (1024, 1224)\n",
      "DoLP time:  0.034981489181518555 s\n",
      "im_DOLP shape is :  (1024, 1224)\n",
      "Time for DOLP2Theta conversion is :  22.476042985916138 seconds\n",
      "False\n",
      "AoLP time:  0.039977312088012695 s\n"
     ]
    },
    {
     "name": "stderr",
     "output_type": "stream",
     "text": [
      "\n",
      " 83%|████████████████████████████████████████████████████████████████▍             | 186/225 [1:10:44<14:45, 22.70s/it]"
     ]
    },
    {
     "name": "stdout",
     "output_type": "stream",
     "text": [
      "Processing data for material : WATER\n",
      "image_data shape is :  (2048, 2448)\n",
      "im90 shape is :  (1024, 1224)\n",
      "Stokes time:  0.027982711791992188 s\n",
      "im_stokes0 shape is :  (1024, 1224)\n",
      "DoLP time:  0.036977529525756836 s\n",
      "im_DOLP shape is :  (1024, 1224)\n",
      "Time for DOLP2Theta conversion is :  21.89937686920166 seconds\n",
      "False\n",
      "AoLP time:  0.042974233627319336 s\n"
     ]
    },
    {
     "name": "stderr",
     "output_type": "stream",
     "text": [
      "\n",
      " 83%|████████████████████████████████████████████████████████████████▊             | 187/225 [1:11:07<14:20, 22.65s/it]"
     ]
    },
    {
     "name": "stdout",
     "output_type": "stream",
     "text": [
      "Processing data for material : WATER\n",
      "image_data shape is :  (2048, 2448)\n",
      "im90 shape is :  (1024, 1224)\n",
      "Stokes time:  0.025984764099121094 s\n",
      "im_stokes0 shape is :  (1024, 1224)\n",
      "DoLP time:  0.03697681427001953 s\n",
      "im_DOLP shape is :  (1024, 1224)\n",
      "Time for DOLP2Theta conversion is :  21.237759351730347 seconds\n",
      "False\n",
      "AoLP time:  0.039975643157958984 s\n"
     ]
    },
    {
     "name": "stderr",
     "output_type": "stream",
     "text": [
      "\n",
      " 84%|█████████████████████████████████████████████████████████████████▏            | 188/225 [1:11:29<13:48, 22.40s/it]"
     ]
    },
    {
     "name": "stdout",
     "output_type": "stream",
     "text": [
      "Processing data for material : WATER\n",
      "image_data shape is :  (2048, 2448)\n",
      "im90 shape is :  (1024, 1224)\n",
      "Stokes time:  0.026983261108398438 s\n",
      "im_stokes0 shape is :  (1024, 1224)\n",
      "DoLP time:  0.031981468200683594 s\n",
      "im_DOLP shape is :  (1024, 1224)\n",
      "Time for DOLP2Theta conversion is :  21.088861227035522 seconds\n",
      "False\n",
      "AoLP time:  0.042973995208740234 s\n"
     ]
    },
    {
     "name": "stderr",
     "output_type": "stream",
     "text": [
      "\n",
      " 84%|█████████████████████████████████████████████████████████████████▌            | 189/225 [1:11:50<13:19, 22.20s/it]"
     ]
    },
    {
     "name": "stdout",
     "output_type": "stream",
     "text": [
      "Processing data for material : WATER\n",
      "image_data shape is :  (2048, 2448)\n",
      "im90 shape is :  (1024, 1224)\n",
      "Stokes time:  0.02698516845703125 s\n",
      "im_stokes0 shape is :  (1024, 1224)\n",
      "DoLP time:  0.036978960037231445 s\n",
      "im_DOLP shape is :  (1024, 1224)\n",
      "Time for DOLP2Theta conversion is :  21.414656400680542 seconds\n",
      "False\n",
      "AoLP time:  0.045974016189575195 s\n"
     ]
    },
    {
     "name": "stderr",
     "output_type": "stream",
     "text": [
      "\n",
      " 84%|█████████████████████████████████████████████████████████████████▊            | 190/225 [1:12:12<12:55, 22.16s/it]"
     ]
    },
    {
     "name": "stdout",
     "output_type": "stream",
     "text": [
      "Processing data for material : WATER\n",
      "image_data shape is :  (2048, 2448)\n",
      "im90 shape is :  (1024, 1224)\n",
      "Stokes time:  0.023986339569091797 s\n",
      "im_stokes0 shape is :  (1024, 1224)\n",
      "DoLP time:  0.03997635841369629 s\n",
      "im_DOLP shape is :  (1024, 1224)\n",
      "Time for DOLP2Theta conversion is :  21.63552713394165 seconds\n",
      "False\n",
      "AoLP time:  0.04197525978088379 s\n"
     ]
    },
    {
     "name": "stderr",
     "output_type": "stream",
     "text": [
      "\n",
      " 85%|██████████████████████████████████████████████████████████████████▏           | 191/225 [1:12:35<12:35, 22.21s/it]"
     ]
    },
    {
     "name": "stdout",
     "output_type": "stream",
     "text": [
      "Processing data for material : WATER\n",
      "image_data shape is :  (2048, 2448)\n",
      "im90 shape is :  (1024, 1224)\n",
      "Stokes time:  0.02598404884338379 s\n",
      "im_stokes0 shape is :  (1024, 1224)\n",
      "DoLP time:  0.03597855567932129 s\n",
      "im_DOLP shape is :  (1024, 1224)\n",
      "Time for DOLP2Theta conversion is :  21.985327005386353 seconds\n",
      "False\n",
      "AoLP time:  0.04397249221801758 s\n"
     ]
    },
    {
     "name": "stderr",
     "output_type": "stream",
     "text": [
      "\n",
      " 85%|██████████████████████████████████████████████████████████████████▌           | 192/225 [1:12:57<12:17, 22.34s/it]"
     ]
    },
    {
     "name": "stdout",
     "output_type": "stream",
     "text": [
      "Processing data for material : WATER\n",
      "image_data shape is :  (2048, 2448)\n",
      "im90 shape is :  (1024, 1224)\n",
      "Stokes time:  0.024984121322631836 s\n",
      "im_stokes0 shape is :  (1024, 1224)\n",
      "DoLP time:  0.03797769546508789 s\n",
      "im_DOLP shape is :  (1024, 1224)\n",
      "Time for DOLP2Theta conversion is :  21.895396947860718 seconds\n",
      "False\n",
      "AoLP time:  0.04097557067871094 s\n"
     ]
    },
    {
     "name": "stderr",
     "output_type": "stream",
     "text": [
      "\n",
      " 86%|██████████████████████████████████████████████████████████████████▉           | 193/225 [1:13:20<11:57, 22.41s/it]"
     ]
    },
    {
     "name": "stdout",
     "output_type": "stream",
     "text": [
      "Processing data for material : WATER\n",
      "image_data shape is :  (2048, 2448)\n",
      "im90 shape is :  (1024, 1224)\n",
      "Stokes time:  0.026984453201293945 s\n",
      "im_stokes0 shape is :  (1024, 1224)\n",
      "DoLP time:  0.03797793388366699 s\n",
      "im_DOLP shape is :  (1024, 1224)\n",
      "Time for DOLP2Theta conversion is :  21.750462770462036 seconds\n",
      "False\n",
      "AoLP time:  0.053968191146850586 s\n"
     ]
    },
    {
     "name": "stderr",
     "output_type": "stream",
     "text": [
      "\n",
      " 86%|███████████████████████████████████████████████████████████████████▎          | 194/225 [1:13:42<11:34, 22.42s/it]"
     ]
    },
    {
     "name": "stdout",
     "output_type": "stream",
     "text": [
      "Processing data for material : WATER\n",
      "image_data shape is :  (2048, 2448)\n",
      "im90 shape is :  (1024, 1224)\n",
      "Stokes time:  0.02698540687561035 s\n",
      "im_stokes0 shape is :  (1024, 1224)\n",
      "DoLP time:  0.03697776794433594 s\n",
      "im_DOLP shape is :  (1024, 1224)\n",
      "Time for DOLP2Theta conversion is :  22.375102281570435 seconds\n",
      "False\n",
      "AoLP time:  0.041974544525146484 s\n"
     ]
    },
    {
     "name": "stderr",
     "output_type": "stream",
     "text": [
      "\n",
      " 87%|███████████████████████████████████████████████████████████████████▌          | 195/225 [1:14:05<11:17, 22.60s/it]"
     ]
    },
    {
     "name": "stdout",
     "output_type": "stream",
     "text": [
      "Processing data for material : WATER\n",
      "image_data shape is :  (2048, 2448)\n",
      "im90 shape is :  (1024, 1224)\n",
      "Stokes time:  0.024985790252685547 s\n",
      "im_stokes0 shape is :  (1024, 1224)\n",
      "DoLP time:  0.03897666931152344 s\n",
      "im_DOLP shape is :  (1024, 1224)\n",
      "Time for DOLP2Theta conversion is :  21.764469146728516 seconds\n",
      "False\n",
      "AoLP time:  0.042973995208740234 s\n"
     ]
    },
    {
     "name": "stderr",
     "output_type": "stream",
     "text": [
      "\n",
      " 87%|███████████████████████████████████████████████████████████████████▉          | 196/225 [1:14:28<10:53, 22.54s/it]"
     ]
    },
    {
     "name": "stdout",
     "output_type": "stream",
     "text": [
      "Processing data for material : WATER\n",
      "image_data shape is :  (2048, 2448)\n",
      "im90 shape is :  (1024, 1224)\n",
      "Stokes time:  0.026983976364135742 s\n",
      "im_stokes0 shape is :  (1024, 1224)\n",
      "DoLP time:  0.0379786491394043 s\n",
      "im_DOLP shape is :  (1024, 1224)\n",
      "Time for DOLP2Theta conversion is :  21.21377205848694 seconds\n",
      "False\n",
      "AoLP time:  0.04297375679016113 s\n"
     ]
    },
    {
     "name": "stderr",
     "output_type": "stream",
     "text": [
      "\n",
      " 88%|████████████████████████████████████████████████████████████████████▎         | 197/225 [1:14:50<10:25, 22.33s/it]"
     ]
    },
    {
     "name": "stdout",
     "output_type": "stream",
     "text": [
      "Processing data for material : WATER\n",
      "image_data shape is :  (2048, 2448)\n",
      "im90 shape is :  (1024, 1224)\n",
      "Stokes time:  0.025985002517700195 s\n",
      "im_stokes0 shape is :  (1024, 1224)\n",
      "DoLP time:  0.030982017517089844 s\n",
      "im_DOLP shape is :  (1024, 1224)\n",
      "Time for DOLP2Theta conversion is :  20.66110849380493 seconds\n",
      "False\n",
      "AoLP time:  0.03897380828857422 s\n"
     ]
    },
    {
     "name": "stderr",
     "output_type": "stream",
     "text": [
      "\n",
      " 88%|████████████████████████████████████████████████████████████████████▋         | 198/225 [1:15:11<09:54, 22.02s/it]"
     ]
    },
    {
     "name": "stdout",
     "output_type": "stream",
     "text": [
      "Processing data for material : WATER\n",
      "image_data shape is :  (2048, 2448)\n",
      "im90 shape is :  (1024, 1224)\n",
      "Stokes time:  0.023987293243408203 s\n",
      "im_stokes0 shape is :  (1024, 1224)\n",
      "DoLP time:  0.03497958183288574 s\n",
      "im_DOLP shape is :  (1024, 1224)\n",
      "Time for DOLP2Theta conversion is :  20.82599687576294 seconds\n",
      "False\n",
      "AoLP time:  0.04397416114807129 s\n"
     ]
    },
    {
     "name": "stderr",
     "output_type": "stream",
     "text": [
      "\n",
      " 88%|████████████████████████████████████████████████████████████████████▉         | 199/225 [1:15:32<09:28, 21.86s/it]"
     ]
    },
    {
     "name": "stdout",
     "output_type": "stream",
     "text": [
      "Processing data for material : WATER\n",
      "image_data shape is :  (2048, 2448)\n",
      "im90 shape is :  (1024, 1224)\n",
      "Stokes time:  0.025985002517700195 s\n",
      "im_stokes0 shape is :  (1024, 1224)\n",
      "DoLP time:  0.03697848320007324 s\n",
      "im_DOLP shape is :  (1024, 1224)\n",
      "Time for DOLP2Theta conversion is :  21.862396240234375 seconds\n",
      "False\n",
      "AoLP time:  0.050969839096069336 s\n"
     ]
    },
    {
     "name": "stderr",
     "output_type": "stream",
     "text": [
      "\n",
      " 89%|█████████████████████████████████████████████████████████████████████▎        | 200/225 [1:15:55<09:11, 22.07s/it]"
     ]
    },
    {
     "name": "stdout",
     "output_type": "stream",
     "text": [
      "Processing data for material : WATER\n",
      "image_data shape is :  (2048, 2448)\n",
      "im90 shape is :  (1024, 1224)\n",
      "Stokes time:  0.02698373794555664 s\n",
      "im_stokes0 shape is :  (1024, 1224)\n",
      "DoLP time:  0.03497910499572754 s\n",
      "im_DOLP shape is :  (1024, 1224)\n",
      "Time for DOLP2Theta conversion is :  21.85140299797058 seconds\n",
      "False\n",
      "AoLP time:  0.04097461700439453 s\n"
     ]
    },
    {
     "name": "stderr",
     "output_type": "stream",
     "text": [
      "\n",
      " 89%|█████████████████████████████████████████████████████████████████████▋        | 201/225 [1:16:18<08:52, 22.20s/it]"
     ]
    },
    {
     "name": "stdout",
     "output_type": "stream",
     "text": [
      "Processing data for material : WATER\n",
      "image_data shape is :  (2048, 2448)\n",
      "im90 shape is :  (1024, 1224)\n",
      "Stokes time:  0.026984691619873047 s\n",
      "im_stokes0 shape is :  (1024, 1224)\n",
      "DoLP time:  0.03997659683227539 s\n",
      "im_DOLP shape is :  (1024, 1224)\n",
      "Time for DOLP2Theta conversion is :  21.86539626121521 seconds\n",
      "False\n",
      "AoLP time:  0.048967599868774414 s\n"
     ]
    },
    {
     "name": "stderr",
     "output_type": "stream",
     "text": [
      "\n",
      " 90%|██████████████████████████████████████████████████████████████████████        | 202/225 [1:16:40<08:33, 22.31s/it]"
     ]
    },
    {
     "name": "stdout",
     "output_type": "stream",
     "text": [
      "Processing data for material : WATER\n",
      "image_data shape is :  (2048, 2448)\n",
      "im90 shape is :  (1024, 1224)\n",
      "Stokes time:  0.026983976364135742 s\n",
      "im_stokes0 shape is :  (1024, 1224)\n",
      "DoLP time:  0.03697848320007324 s\n",
      "im_DOLP shape is :  (1024, 1224)\n",
      "Time for DOLP2Theta conversion is :  22.177224159240723 seconds\n",
      "False\n",
      "AoLP time:  0.04897117614746094 s\n"
     ]
    },
    {
     "name": "stderr",
     "output_type": "stream",
     "text": [
      "\n",
      " 90%|██████████████████████████████████████████████████████████████████████▎       | 203/225 [1:17:03<08:14, 22.48s/it]"
     ]
    },
    {
     "name": "stdout",
     "output_type": "stream",
     "text": [
      "Processing data for material : WATER\n",
      "image_data shape is :  (2048, 2448)\n",
      "im90 shape is :  (1024, 1224)\n",
      "Stokes time:  0.02698373794555664 s\n",
      "im_stokes0 shape is :  (1024, 1224)\n",
      "DoLP time:  0.03697824478149414 s\n",
      "im_DOLP shape is :  (1024, 1224)\n",
      "Time for DOLP2Theta conversion is :  21.342702388763428 seconds\n",
      "False\n",
      "AoLP time:  0.038977622985839844 s\n"
     ]
    },
    {
     "name": "stderr",
     "output_type": "stream",
     "text": [
      "\n",
      " 91%|██████████████████████████████████████████████████████████████████████▋       | 204/225 [1:17:25<07:49, 22.33s/it]"
     ]
    },
    {
     "name": "stdout",
     "output_type": "stream",
     "text": [
      "Processing data for material : WATER\n",
      "image_data shape is :  (2048, 2448)\n",
      "im90 shape is :  (1024, 1224)\n",
      "Stokes time:  0.02598404884338379 s\n",
      "im_stokes0 shape is :  (1024, 1224)\n",
      "DoLP time:  0.03897881507873535 s\n",
      "im_DOLP shape is :  (1024, 1224)\n",
      "Time for DOLP2Theta conversion is :  21.813425302505493 seconds\n",
      "False\n",
      "AoLP time:  0.04397249221801758 s\n"
     ]
    },
    {
     "name": "stderr",
     "output_type": "stream",
     "text": [
      "\n",
      " 91%|███████████████████████████████████████████████████████████████████████       | 205/225 [1:17:47<07:27, 22.38s/it]"
     ]
    },
    {
     "name": "stdout",
     "output_type": "stream",
     "text": [
      "Processing data for material : WATER\n",
      "image_data shape is :  (2048, 2448)\n",
      "im90 shape is :  (1024, 1224)\n",
      "Stokes time:  0.026983976364135742 s\n",
      "im_stokes0 shape is :  (1024, 1224)\n",
      "DoLP time:  0.037976980209350586 s\n",
      "im_DOLP shape is :  (1024, 1224)\n",
      "Time for DOLP2Theta conversion is :  21.491612672805786 seconds\n",
      "False\n",
      "AoLP time:  0.04597163200378418 s\n"
     ]
    },
    {
     "name": "stderr",
     "output_type": "stream",
     "text": [
      "\n",
      " 92%|███████████████████████████████████████████████████████████████████████▍      | 206/225 [1:18:10<07:03, 22.31s/it]"
     ]
    },
    {
     "name": "stdout",
     "output_type": "stream",
     "text": [
      "Processing data for material : WATER\n",
      "image_data shape is :  (2048, 2448)\n",
      "im90 shape is :  (1024, 1224)\n",
      "Stokes time:  0.02698516845703125 s\n",
      "im_stokes0 shape is :  (1024, 1224)\n",
      "DoLP time:  0.03497958183288574 s\n",
      "im_DOLP shape is :  (1024, 1224)\n",
      "Time for DOLP2Theta conversion is :  20.747060537338257 seconds\n",
      "False\n",
      "AoLP time:  0.03997659683227539 s\n"
     ]
    },
    {
     "name": "stderr",
     "output_type": "stream",
     "text": [
      "\n",
      " 92%|███████████████████████████████████████████████████████████████████████▊      | 207/225 [1:18:31<06:36, 22.02s/it]"
     ]
    },
    {
     "name": "stdout",
     "output_type": "stream",
     "text": [
      "Processing data for material : WATER\n",
      "image_data shape is :  (2048, 2448)\n",
      "im90 shape is :  (1024, 1224)\n",
      "Stokes time:  0.02598404884338379 s\n",
      "im_stokes0 shape is :  (1024, 1224)\n",
      "DoLP time:  0.03797745704650879 s\n",
      "im_DOLP shape is :  (1024, 1224)\n",
      "Time for DOLP2Theta conversion is :  21.230780601501465 seconds\n",
      "False\n",
      "AoLP time:  0.04297637939453125 s\n"
     ]
    },
    {
     "name": "stderr",
     "output_type": "stream",
     "text": [
      "\n",
      " 92%|████████████████████████████████████████████████████████████████████████      | 208/225 [1:18:53<06:13, 21.97s/it]"
     ]
    },
    {
     "name": "stdout",
     "output_type": "stream",
     "text": [
      "Processing data for material : WATER\n",
      "image_data shape is :  (2048, 2448)\n",
      "im90 shape is :  (1024, 1224)\n",
      "Stokes time:  0.026984453201293945 s\n",
      "im_stokes0 shape is :  (1024, 1224)\n",
      "DoLP time:  0.03397989273071289 s\n",
      "im_DOLP shape is :  (1024, 1224)\n",
      "Time for DOLP2Theta conversion is :  21.94036102294922 seconds\n",
      "False\n",
      "AoLP time:  0.04897117614746094 s\n"
     ]
    },
    {
     "name": "stderr",
     "output_type": "stream",
     "text": [
      "\n",
      " 93%|████████████████████████████████████████████████████████████████████████▍     | 209/225 [1:19:15<05:54, 22.16s/it]"
     ]
    },
    {
     "name": "stdout",
     "output_type": "stream",
     "text": [
      "Processing data for material : WATER\n",
      "image_data shape is :  (2048, 2448)\n",
      "im90 shape is :  (1024, 1224)\n",
      "Stokes time:  0.027982473373413086 s\n",
      "im_stokes0 shape is :  (1024, 1224)\n",
      "DoLP time:  0.035979509353637695 s\n",
      "im_DOLP shape is :  (1024, 1224)\n",
      "Time for DOLP2Theta conversion is :  21.78844141960144 seconds\n",
      "False\n",
      "AoLP time:  0.04397439956665039 s\n"
     ]
    },
    {
     "name": "stderr",
     "output_type": "stream",
     "text": [
      "\n",
      " 93%|████████████████████████████████████████████████████████████████████████▊     | 210/225 [1:19:38<05:33, 22.25s/it]"
     ]
    },
    {
     "name": "stdout",
     "output_type": "stream",
     "text": [
      "Processing data for material : WATER\n",
      "image_data shape is :  (2048, 2448)\n",
      "im90 shape is :  (1024, 1224)\n",
      "Stokes time:  0.025989770889282227 s\n",
      "im_stokes0 shape is :  (1024, 1224)\n",
      "DoLP time:  0.03597855567932129 s\n",
      "im_DOLP shape is :  (1024, 1224)\n",
      "Time for DOLP2Theta conversion is :  21.85540246963501 seconds\n",
      "False\n",
      "AoLP time:  0.05196833610534668 s\n"
     ]
    },
    {
     "name": "stderr",
     "output_type": "stream",
     "text": [
      "\n",
      " 94%|█████████████████████████████████████████████████████████████████████████▏    | 211/225 [1:20:00<05:12, 22.34s/it]"
     ]
    },
    {
     "name": "stdout",
     "output_type": "stream",
     "text": [
      "Processing data for material : WATER\n",
      "image_data shape is :  (2048, 2448)\n",
      "im90 shape is :  (1024, 1224)\n",
      "Stokes time:  0.024986743927001953 s\n",
      "im_stokes0 shape is :  (1024, 1224)\n",
      "DoLP time:  0.0379786491394043 s\n",
      "im_DOLP shape is :  (1024, 1224)\n",
      "Time for DOLP2Theta conversion is :  22.008326768875122 seconds\n",
      "False\n",
      "AoLP time:  0.049951791763305664 s\n"
     ]
    },
    {
     "name": "stderr",
     "output_type": "stream",
     "text": [
      "\n",
      " 94%|█████████████████████████████████████████████████████████████████████████▍    | 212/225 [1:20:23<04:51, 22.45s/it]"
     ]
    },
    {
     "name": "stdout",
     "output_type": "stream",
     "text": [
      "Processing data for material : WATER\n",
      "image_data shape is :  (2048, 2448)\n",
      "im90 shape is :  (1024, 1224)\n",
      "Stokes time:  0.026983976364135742 s\n",
      "im_stokes0 shape is :  (1024, 1224)\n",
      "DoLP time:  0.03697943687438965 s\n",
      "im_DOLP shape is :  (1024, 1224)\n",
      "Time for DOLP2Theta conversion is :  21.973334550857544 seconds\n",
      "False\n",
      "AoLP time:  0.04597306251525879 s\n"
     ]
    },
    {
     "name": "stderr",
     "output_type": "stream",
     "text": [
      "\n",
      " 95%|█████████████████████████████████████████████████████████████████████████▊    | 213/225 [1:20:46<04:30, 22.51s/it]"
     ]
    },
    {
     "name": "stdout",
     "output_type": "stream",
     "text": [
      "Processing data for material : WATER\n",
      "image_data shape is :  (2048, 2448)\n",
      "im90 shape is :  (1024, 1224)\n",
      "Stokes time:  0.02698540687561035 s\n",
      "im_stokes0 shape is :  (1024, 1224)\n",
      "DoLP time:  0.04097628593444824 s\n",
      "im_DOLP shape is :  (1024, 1224)\n",
      "Time for DOLP2Theta conversion is :  21.870392084121704 seconds\n",
      "False\n",
      "AoLP time:  0.05296945571899414 s\n"
     ]
    },
    {
     "name": "stderr",
     "output_type": "stream",
     "text": [
      "\n",
      " 95%|██████████████████████████████████████████████████████████████████████████▏   | 214/225 [1:21:08<04:07, 22.53s/it]"
     ]
    },
    {
     "name": "stdout",
     "output_type": "stream",
     "text": [
      "Processing data for material : WATER\n",
      "image_data shape is :  (2048, 2448)\n",
      "im90 shape is :  (1024, 1224)\n",
      "Stokes time:  0.02698373794555664 s\n",
      "im_stokes0 shape is :  (1024, 1224)\n",
      "DoLP time:  0.038977861404418945 s\n",
      "im_DOLP shape is :  (1024, 1224)\n",
      "Time for DOLP2Theta conversion is :  21.313714742660522 seconds\n",
      "False\n",
      "AoLP time:  0.04197335243225098 s\n"
     ]
    },
    {
     "name": "stderr",
     "output_type": "stream",
     "text": [
      "\n",
      " 96%|██████████████████████████████████████████████████████████████████████████▌   | 215/225 [1:21:30<03:43, 22.36s/it]"
     ]
    },
    {
     "name": "stdout",
     "output_type": "stream",
     "text": [
      "Processing data for material : WATER\n",
      "image_data shape is :  (2048, 2448)\n",
      "im90 shape is :  (1024, 1224)\n",
      "Stokes time:  0.026984214782714844 s\n",
      "im_stokes0 shape is :  (1024, 1224)\n",
      "DoLP time:  0.034980058670043945 s\n",
      "im_DOLP shape is :  (1024, 1224)\n",
      "Time for DOLP2Theta conversion is :  21.04686713218689 seconds\n",
      "False\n",
      "AoLP time:  0.03997611999511719 s\n"
     ]
    },
    {
     "name": "stderr",
     "output_type": "stream",
     "text": [
      "\n",
      " 96%|██████████████████████████████████████████████████████████████████████████▉   | 216/225 [1:21:52<03:19, 22.15s/it]"
     ]
    },
    {
     "name": "stdout",
     "output_type": "stream",
     "text": [
      "Processing data for material : WATER\n",
      "image_data shape is :  (2048, 2448)\n",
      "im90 shape is :  (1024, 1224)\n",
      "Stokes time:  0.026983976364135742 s\n",
      "im_stokes0 shape is :  (1024, 1224)\n",
      "DoLP time:  0.0359797477722168 s\n",
      "im_DOLP shape is :  (1024, 1224)\n",
      "Time for DOLP2Theta conversion is :  21.301722288131714 seconds\n",
      "False\n",
      "AoLP time:  0.04197359085083008 s\n"
     ]
    },
    {
     "name": "stderr",
     "output_type": "stream",
     "text": [
      "\n",
      " 96%|███████████████████████████████████████████████████████████████████████████▏  | 217/225 [1:22:14<02:56, 22.09s/it]"
     ]
    },
    {
     "name": "stdout",
     "output_type": "stream",
     "text": [
      "Processing data for material : WATER\n",
      "image_data shape is :  (2048, 2448)\n",
      "im90 shape is :  (1024, 1224)\n",
      "Stokes time:  0.02498483657836914 s\n",
      "im_stokes0 shape is :  (1024, 1224)\n",
      "DoLP time:  0.03697800636291504 s\n",
      "im_DOLP shape is :  (1024, 1224)\n",
      "Time for DOLP2Theta conversion is :  22.14023780822754 seconds\n",
      "False\n",
      "AoLP time:  0.04197525978088379 s\n"
     ]
    },
    {
     "name": "stderr",
     "output_type": "stream",
     "text": [
      "\n",
      " 97%|███████████████████████████████████████████████████████████████████████████▌  | 218/225 [1:22:37<02:36, 22.30s/it]"
     ]
    },
    {
     "name": "stdout",
     "output_type": "stream",
     "text": [
      "Processing data for material : WATER\n",
      "image_data shape is :  (2048, 2448)\n",
      "im90 shape is :  (1024, 1224)\n",
      "Stokes time:  0.026984691619873047 s\n",
      "im_stokes0 shape is :  (1024, 1224)\n",
      "DoLP time:  0.035979509353637695 s\n",
      "im_DOLP shape is :  (1024, 1224)\n",
      "Time for DOLP2Theta conversion is :  22.004316568374634 seconds\n",
      "False\n",
      "AoLP time:  0.04397416114807129 s\n"
     ]
    },
    {
     "name": "stderr",
     "output_type": "stream",
     "text": [
      "\n",
      " 97%|███████████████████████████████████████████████████████████████████████████▉  | 219/225 [1:22:59<02:14, 22.42s/it]"
     ]
    },
    {
     "name": "stdout",
     "output_type": "stream",
     "text": [
      "Processing data for material : WATER\n",
      "image_data shape is :  (2048, 2448)\n",
      "im90 shape is :  (1024, 1224)\n",
      "Stokes time:  0.02698373794555664 s\n",
      "im_stokes0 shape is :  (1024, 1224)\n",
      "DoLP time:  0.03497886657714844 s\n",
      "im_DOLP shape is :  (1024, 1224)\n",
      "Time for DOLP2Theta conversion is :  21.986328601837158 seconds\n",
      "False\n",
      "AoLP time:  0.046971797943115234 s\n"
     ]
    },
    {
     "name": "stderr",
     "output_type": "stream",
     "text": [
      "\n",
      " 98%|████████████████████████████████████████████████████████████████████████████▎ | 220/225 [1:23:22<01:52, 22.49s/it]"
     ]
    },
    {
     "name": "stdout",
     "output_type": "stream",
     "text": [
      "Processing data for material : WATER\n",
      "image_data shape is :  (2048, 2448)\n",
      "im90 shape is :  (1024, 1224)\n",
      "Stokes time:  0.027983665466308594 s\n",
      "im_stokes0 shape is :  (1024, 1224)\n",
      "DoLP time:  0.03697848320007324 s\n",
      "im_DOLP shape is :  (1024, 1224)\n",
      "Time for DOLP2Theta conversion is :  21.91536784172058 seconds\n",
      "False\n",
      "AoLP time:  0.04297471046447754 s\n"
     ]
    },
    {
     "name": "stderr",
     "output_type": "stream",
     "text": [
      "\n",
      " 98%|████████████████████████████████████████████████████████████████████████████▌ | 221/225 [1:23:45<01:30, 22.51s/it]"
     ]
    },
    {
     "name": "stdout",
     "output_type": "stream",
     "text": [
      "Processing data for material : WATER\n",
      "image_data shape is :  (2048, 2448)\n",
      "im90 shape is :  (1024, 1224)\n",
      "Stokes time:  0.026983976364135742 s\n",
      "im_stokes0 shape is :  (1024, 1224)\n",
      "DoLP time:  0.03697848320007324 s\n",
      "im_DOLP shape is :  (1024, 1224)\n",
      "Time for DOLP2Theta conversion is :  21.61056137084961 seconds\n",
      "False\n",
      "AoLP time:  0.04797196388244629 s\n"
     ]
    },
    {
     "name": "stderr",
     "output_type": "stream",
     "text": [
      "\n",
      " 99%|████████████████████████████████████████████████████████████████████████████▉ | 222/225 [1:24:07<01:07, 22.44s/it]"
     ]
    },
    {
     "name": "stdout",
     "output_type": "stream",
     "text": [
      "Processing data for material : WATER\n",
      "image_data shape is :  (2048, 2448)\n",
      "im90 shape is :  (1024, 1224)\n",
      "Stokes time:  0.025985002517700195 s\n",
      "im_stokes0 shape is :  (1024, 1224)\n",
      "DoLP time:  0.03797745704650879 s\n",
      "im_DOLP shape is :  (1024, 1224)\n",
      "Time for DOLP2Theta conversion is :  22.112252235412598 seconds\n",
      "False\n",
      "AoLP time:  0.04996943473815918 s\n"
     ]
    },
    {
     "name": "stderr",
     "output_type": "stream",
     "text": [
      "\n",
      " 99%|█████████████████████████████████████████████████████████████████████████████▎| 223/225 [1:24:30<00:45, 22.54s/it]"
     ]
    },
    {
     "name": "stdout",
     "output_type": "stream",
     "text": [
      "Processing data for material : WATER\n",
      "image_data shape is :  (2048, 2448)\n",
      "im90 shape is :  (1024, 1224)\n",
      "Stokes time:  0.023986101150512695 s\n",
      "im_stokes0 shape is :  (1024, 1224)\n",
      "DoLP time:  0.03597760200500488 s\n",
      "im_DOLP shape is :  (1024, 1224)\n",
      "Time for DOLP2Theta conversion is :  21.257746696472168 seconds\n",
      "False\n",
      "AoLP time:  0.0399775505065918 s\n"
     ]
    },
    {
     "name": "stderr",
     "output_type": "stream",
     "text": [
      "\n",
      "100%|█████████████████████████████████████████████████████████████████████████████▋| 224/225 [1:24:51<00:22, 22.33s/it]"
     ]
    },
    {
     "name": "stdout",
     "output_type": "stream",
     "text": [
      "Processing data for material : WATER\n",
      "image_data shape is :  (2048, 2448)\n",
      "im90 shape is :  (1024, 1224)\n",
      "Stokes time:  0.02398681640625 s\n",
      "im_stokes0 shape is :  (1024, 1224)\n",
      "DoLP time:  0.033979177474975586 s\n",
      "im_DOLP shape is :  (1024, 1224)\n",
      "Time for DOLP2Theta conversion is :  20.791014671325684 seconds\n",
      "False\n",
      "AoLP time:  0.039977073669433594 s\n"
     ]
    },
    {
     "name": "stderr",
     "output_type": "stream",
     "text": [
      "\n",
      "100%|██████████████████████████████████████████████████████████████████████████████| 225/225 [1:25:13<00:00, 22.06s/it]"
     ]
    },
    {
     "name": "stdout",
     "output_type": "stream",
     "text": [
      "time taken =  74.08507370948792\n"
     ]
    },
    {
     "name": "stderr",
     "output_type": "stream",
     "text": [
      "100%|████████████████████████████████████████████████████████████████████████████████| 4/4 [6:13:20<00:00, 5605.39s/it]\n"
     ]
    }
   ],
   "source": [
    "for k in tqdm(range(4)):\n",
    "    # set the frames to be processed and save locations\n",
    "    SUBFOLDER = k+1\n",
    "    data_foldername = \"{}_{}Flow_{}H_test{}_subFolder{}\".format(BEDFORM, FLOW_SPEED, SUBMERGENCE, TEST, SUBFOLDER)\n",
    "    files = filenames[k*NUM_FRAMES//4: (k+1)*NUM_FRAMES//4]\n",
    "\n",
    "    all_height_maps = np.zeros((im_theta1.shape[0],im_theta1.shape[1],len(files)))\n",
    "    all_sx_maps = np.zeros((im_theta1.shape[0],im_theta1.shape[1],len(files)))\n",
    "    all_sy_maps = np.zeros((im_theta1.shape[0],im_theta1.shape[1],len(files)))\n",
    "    all_raw_frames_0filter = np.zeros((im_theta1.shape[0],im_theta1.shape[1],len(files)))\n",
    "\n",
    "    i=-1\n",
    "    for filename2 in tqdm(files): #\n",
    "        i+=1\n",
    "        im_theta2, im_phi2 = theta_phi(filename2, file_location,\n",
    "                                   material = 'water',\n",
    "                                   flat_field_correct = 1,\n",
    "                                   gaussian_smoothing_sigma = 0,\n",
    "                                   num_images= NUM_IMAGES, correction_angle=0,\n",
    "                                   flat_field_correction_params = flat_field_correction_params)\n",
    "\n",
    "        raw_img2 = cv2.imread(os.path.join(file_location, filename2))\n",
    "\n",
    "        # get slopes and height maps\n",
    "        s_x = np.tan(np.radians((im_theta2 - im_theta1)))\n",
    "        s_y = np.tan(np.radians((im_phi2 - im_phi1)))\n",
    "        s_hat_x, s_hat_y = slopeFieldFFT(s_x, s_y, suppress_fig = 1)\n",
    "        height_map = slope2height(s_hat_x, s_hat_y)\n",
    "        all_height_maps[:,:,i] = height_map\n",
    "        all_sx_maps[:,:,i] = s_x\n",
    "        all_sy_maps[:,:,i] = s_y\n",
    "        all_raw_frames_0filter[:,:,i] = raw_img2[::2,::2,0]\n",
    "\n",
    "    del im_theta2, s_x, s_y, s_hat_x, s_hat_y, height_map, raw_img2, im_phi2\n",
    "    \n",
    "    # Collate the data into a dict\n",
    "    all_data_dict = {'all_height_maps': all_height_maps, 'all_sx_maps': all_sx_maps, \\\n",
    "                     'all_sy_maps':all_sy_maps, 'all_raw_frames_0filter':all_raw_frames_0filter}\n",
    "\n",
    "    # Save using Klepto -- not pickle : directly to disk -- not memory intensive\n",
    "    tic = time.time()\n",
    "    demo = dir_archive(os.path.join(save_location, klepto_saved_data_origin, data_foldername), {}, \\\n",
    "                       serialized=True, cached=False)\n",
    "    demo['all_height_maps'] = all_height_maps\n",
    "    demo['all_sx_maps'] = all_sx_maps\n",
    "    demo['all_sy_maps'] = all_sy_maps\n",
    "    demo['all_raw_frames_0filter'] = all_raw_frames_0filter\n",
    "    toc = time.time()\n",
    "    print('time taken = ', toc - tic)\n",
    "    demo.dump()\n",
    "    \n",
    "    # Empty some space\n",
    "    del all_data_dict, all_height_maps, all_sx_maps, all_sy_maps, all_raw_frames_0filter, files, demo"
   ]
  },
  {
   "cell_type": "code",
   "execution_count": null,
   "metadata": {},
   "outputs": [],
   "source": []
  }
 ],
 "metadata": {
  "kernelspec": {
   "display_name": "Python 3",
   "language": "python",
   "name": "python3"
  },
  "language_info": {
   "codemirror_mode": {
    "name": "ipython",
    "version": 3
   },
   "file_extension": ".py",
   "mimetype": "text/x-python",
   "name": "python",
   "nbconvert_exporter": "python",
   "pygments_lexer": "ipython3",
   "version": "3.7.3"
  }
 },
 "nbformat": 4,
 "nbformat_minor": 2
}
