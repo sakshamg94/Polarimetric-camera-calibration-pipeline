{
 "cells": [
  {
   "cell_type": "code",
   "execution_count": 2,
   "metadata": {},
   "outputs": [],
   "source": [
    "import seaborn as sns\n",
    "import pandas as pd\n",
    "import pickle\n",
    "import numpy as np\n",
    "import os\n",
    "import matplotlib.pyplot as plt\n",
    "from mpl_toolkits.axes_grid1 import make_axes_locatable\n",
    "from tqdm import tqdm\n",
    "from mpl_toolkits import mplot3d\n",
    "import cv2\n",
    "import time"
   ]
  },
  {
   "cell_type": "markdown",
   "metadata": {},
   "source": [
    "histograms in seaborn here: https://www.machinelearningplus.com/plots/matplotlib-histogram-python-examples/"
   ]
  },
  {
   "cell_type": "code",
   "execution_count": 2,
   "metadata": {},
   "outputs": [],
   "source": [
    "save_location =  \"../FLIR_Camera\"\n",
    "pdfCombined_figs_location  = \"../FLIR_Camera/fastFlow_ShallowH_test1_centeredCame_flume_LookAngle_35Deg_PDFCOMBINED_FIGURES\""
   ]
  },
  {
   "cell_type": "code",
   "execution_count": 3,
   "metadata": {},
   "outputs": [],
   "source": [
    "BEDFORMS = ['corals', 'canopy', 'rocks', 'dunes']\n",
    "colors = {'corals':'dodgerblue','canopy':'green', 'rocks':'orange', 'dunes':'brown'}\n",
    "bed_data = {}\n",
    "for BEDFORM in BEDFORMS:\n",
    "    data_filename = BEDFORM + \"_fastFlow_ShallowH_test1.pickle\"\n",
    "    with open(os.path.join(save_location,data_filename), 'rb') as handle:\n",
    "        all_data_dict_loaded = pickle.load(handle)\n",
    "    bed_data[BEDFORM] = all_data_dict_loaded"
   ]
  },
  {
   "cell_type": "code",
   "execution_count": 4,
   "metadata": {},
   "outputs": [],
   "source": [
    "NUM_FRAMES = min([bed_data[BEDFORM]['all_height_maps'].shape[2] for BEDFORM in BEDFORMS])\n",
    "H_MIN = 0.7*min([np.min(bed_data[BEDFORM]['all_height_maps']) for BEDFORM in BEDFORMS])\n",
    "H_MAX = 0.7*max([np.max(bed_data[BEDFORM]['all_height_maps']) for BEDFORM in BEDFORMS])\n",
    "SX_MIN = -1#min([np.min(bed_data[BEDFORM]['all_sx_maps']) for BEDFORM in beds])\n",
    "SX_MAX = 1#max([np.max(bed_data[BEDFORM]['all_sx_maps']) for BEDFORM in beds])\n",
    "SY_MIN = -1#min([np.min(bed_data[BEDFORM]['all_sy_maps']) for BEDFORM in beds])\n",
    "SY_MAX = 1#max([np.max(bed_data[BEDFORM]['all_sy_maps']) for BEDFORM in beds])"
   ]
  },
  {
   "cell_type": "markdown",
   "metadata": {},
   "source": [
    "## Plot pdf of the height field and slopes"
   ]
  },
  {
   "cell_type": "code",
   "execution_count": 5,
   "metadata": {},
   "outputs": [
    {
     "name": "stderr",
     "output_type": "stream",
     "text": [
      "100%|██████████████████████████████████████████████████████████████████████████████████| 69/69 [09:01<00:00,  7.80s/it]\n"
     ]
    }
   ],
   "source": [
    "sns.set_style(\"white\")\n",
    "kwargs = dict(hist_kws={'alpha':.5}, kde_kws={'linewidth':2})\n",
    "height_df = {}\n",
    "sx_df = {}\n",
    "sy_df = {}\n",
    "for i in tqdm(range(NUM_FRAMES)):#NUM_FRAMES\n",
    "    \n",
    "    fig = plt.figure(figsize =(30, 12))\n",
    "    \n",
    "    for BEDFORM in BEDFORMS:\n",
    "        height_map = bed_data[BEDFORM]['all_height_maps'][:,:,i]\n",
    "        height_df[BEDFORM] = pd.DataFrame(np.real(height_map).ravel())\n",
    "        \n",
    "        sx_map = bed_data[BEDFORM]['all_sx_maps'][:,:,i]\n",
    "        sx_df[BEDFORM] = pd.DataFrame(sx_map.ravel())\n",
    "        \n",
    "        sy_map = bed_data[BEDFORM]['all_sy_maps'][:,:,i]\n",
    "        sy_df[BEDFORM] = pd.DataFrame(sy_map.ravel())\n",
    "    \n",
    "\n",
    "    ax0 = fig.add_subplot(1, 3, 1)\n",
    "    ax0.set_title('Normalized histogram + KDF ($\\eta$)', fontsize = 34)\n",
    "    for BEDFORM in BEDFORMS:\n",
    "        sns.distplot(height_df[BEDFORM], ax=ax0, color=colors[BEDFORM], label = BEDFORM, **kwargs)\n",
    "    ax0.set_xlabel(\"$\\eta(x,y)$\", fontsize = 24)\n",
    "    ax0.legend(fontsize = 24)\n",
    "    ax0.set_xlim([H_MIN, H_MAX])\n",
    "    \n",
    "    ax1 = fig.add_subplot(1, 3, 2)\n",
    "    ax1.set_title('Normalized histogram + KDF ($s_x$)', fontsize = 34)\n",
    "    for BEDFORM in BEDFORMS:\n",
    "        sns.distplot(sx_df[BEDFORM], ax=ax1, color=colors[BEDFORM], label = BEDFORM, **kwargs)\n",
    "    ax1.set_xlabel(\"$s_x(x,y)$\", fontsize = 24)\n",
    "    ax1.legend(fontsize = 24)\n",
    "    ax1.set_xlim([SX_MIN, SX_MAX])\n",
    "    \n",
    "    ax2 = fig.add_subplot(1, 3, 3)\n",
    "    ax2.set_title('Normalized histogram + KDF ($s_y$)', fontsize = 34)\n",
    "    for BEDFORM in BEDFORMS:\n",
    "        sns.distplot(sy_df[BEDFORM], ax=ax2, color=colors[BEDFORM], label = BEDFORM, **kwargs)\n",
    "    ax2.set_xlabel(\"$s_y(x,y)$\", fontsize = 24)\n",
    "    ax2.legend(fontsize = 24)\n",
    "    ax2.set_xlim([SY_MIN, SY_MAX])\n",
    "    \n",
    "    plt.savefig(os.path.join(pdfCombined_figs_location, 'fig_' + str(i).zfill(6) + '.png'), dpi = 80)\n",
    "    plt.close()"
   ]
  },
  {
   "cell_type": "code",
   "execution_count": 6,
   "metadata": {},
   "outputs": [
    {
     "data": {
      "text/plain": [
       "True"
      ]
     },
     "execution_count": 6,
     "metadata": {},
     "output_type": "execute_result"
    }
   ],
   "source": [
    "os.path.exists(pdfCombined_figs_location)"
   ]
  },
  {
   "cell_type": "code",
   "execution_count": null,
   "metadata": {},
   "outputs": [],
   "source": []
  }
 ],
 "metadata": {
  "kernelspec": {
   "display_name": "Python 3",
   "language": "python",
   "name": "python3"
  },
  "language_info": {
   "codemirror_mode": {
    "name": "ipython",
    "version": 3
   },
   "file_extension": ".py",
   "mimetype": "text/x-python",
   "name": "python",
   "nbconvert_exporter": "python",
   "pygments_lexer": "ipython3",
   "version": "3.7.3"
  }
 },
 "nbformat": 4,
 "nbformat_minor": 2
}
