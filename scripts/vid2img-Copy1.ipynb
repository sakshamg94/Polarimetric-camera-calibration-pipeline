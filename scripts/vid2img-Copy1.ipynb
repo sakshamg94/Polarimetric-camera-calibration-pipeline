{
 "cells": [
  {
   "cell_type": "code",
   "execution_count": 4,
   "metadata": {},
   "outputs": [
    {
     "name": "stdout",
     "output_type": "stream",
     "text": [
      "testing_cam_sync_June1120\\test_2\n",
      "testing_cam_sync_June1120\\test_2\\C2 (21496071)_20200611_131815851.avi ,\n",
      "True\n"
     ]
    }
   ],
   "source": [
    "import os\n",
    "import cv2\n",
    "from pathlib import Path\n",
    "\n",
    "def FrameCapture(path, dest, count):\n",
    "    vidObj = cv2.VideoCapture(path) \n",
    "    success = 1\n",
    "  \n",
    "    while success: \n",
    "        success, image = vidObj.read() \n",
    "        if success==1:\n",
    "            str1 = 'image' + \".\" + str(count).zfill(8) + \".jpg\"\n",
    "            destination = dest + str1\n",
    "            #print(destination)\n",
    "            status = cv2.imwrite(destination, image) \n",
    "            #print(status)\n",
    "            count += 1\n",
    "            #if count% 5 == 0:\n",
    "            #    print(count)\n",
    "            #    return count\n",
    "    return count\n",
    "\n",
    "for (dirname, dirs, files) in os.walk('testing_cam_sync_June1120\\\\test_2'):\n",
    "    print(dirname)\n",
    "    curr_direct = str(dirname)\n",
    "    #print('this is the curr directory: ',curr_direct)\n",
    "    #print(\"directories inside are: \",*dirs,sep=\" , \")\n",
    "    #print(\"files are:\", *files, sep=\" , \")\n",
    "    count = 0\n",
    "    for filename in files:\n",
    "        if filename.endswith('.avi'):\n",
    "            pathtovid = os.path.join(dirname,filename) \n",
    "            print(pathtovid, ',')\n",
    "            ext1 = 'testing_cam_sync_June1120' + '\\\\'\n",
    "            ext2 = curr_direct.split(\"\\\\\")[1] +  \"\\\\\"\n",
    "            ext3 = ext1 + ext2\n",
    "#             print(ext3)\n",
    "            #print(ext3) \n",
    "            destination_exists = os.path.isdir(ext3)\n",
    "            print(destination_exists)\n",
    "            if destination_exists is False:\n",
    "                os.makedirs(ext3,exist_ok=True)\n",
    "            count = FrameCapture(pathtovid, ext3, count)\n",
    "            \n",
    "    #print('end of currrent loop \\n')"
   ]
  },
  {
   "cell_type": "code",
   "execution_count": null,
   "metadata": {},
   "outputs": [],
   "source": []
  },
  {
   "cell_type": "code",
   "execution_count": null,
   "metadata": {},
   "outputs": [],
   "source": []
  }
 ],
 "metadata": {
  "kernelspec": {
   "display_name": "Python 3",
   "language": "python",
   "name": "python3"
  },
  "language_info": {
   "codemirror_mode": {
    "name": "ipython",
    "version": 3
   },
   "file_extension": ".py",
   "mimetype": "text/x-python",
   "name": "python",
   "nbconvert_exporter": "python",
   "pygments_lexer": "ipython3",
   "version": "3.7.3"
  }
 },
 "nbformat": 4,
 "nbformat_minor": 4
}
